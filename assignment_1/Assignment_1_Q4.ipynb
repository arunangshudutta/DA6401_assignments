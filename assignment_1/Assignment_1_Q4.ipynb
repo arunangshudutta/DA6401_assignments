{
  "nbformat": 4,
  "nbformat_minor": 0,
  "metadata": {
    "colab": {
      "provenance": [],
      "authorship_tag": "ABX9TyOtOHWR1KC308673j+Nthc/",
      "include_colab_link": true
    },
    "kernelspec": {
      "name": "python3",
      "display_name": "Python 3"
    },
    "language_info": {
      "name": "python"
    }
  },
  "cells": [
    {
      "cell_type": "markdown",
      "metadata": {
        "id": "view-in-github",
        "colab_type": "text"
      },
      "source": [
        "<a href=\"https://colab.research.google.com/github/arunangshudutta/DA6401_assignments/blob/main/assignment_1/Assignment_1_Q4.ipynb\" target=\"_parent\"><img src=\"https://colab.research.google.com/assets/colab-badge.svg\" alt=\"Open In Colab\"/></a>"
      ]
    },
    {
      "cell_type": "code",
      "execution_count": 1,
      "metadata": {
        "id": "TfGFpLJ6UEeA"
      },
      "outputs": [],
      "source": [
        "import matplotlib.pyplot as plt\n",
        "import numpy as np\n",
        "from tqdm import tqdm\n",
        "import warnings\n",
        "warnings.filterwarnings('ignore', category=RuntimeWarning)\n",
        "\n",
        "from keras.datasets import fashion_mnist\n",
        "from sklearn.model_selection import train_test_split\n",
        "\n",
        "import wandb"
      ]
    },
    {
      "cell_type": "markdown",
      "source": [
        "# Functions"
      ],
      "metadata": {
        "id": "5bWE4Lo5UdXa"
      }
    },
    {
      "cell_type": "code",
      "source": [
        "def weights_initialization(num_neurons, initializer):\n",
        "  \"\"\"\n",
        "  num_neurons = list of number of neurons at each layer starting from the input layer and ending at output layer\n",
        "  initializer = 'random' or 'xavier'\n",
        "\n",
        "  Returns: initialized weight matrices and bias vectors\n",
        "  \"\"\"\n",
        "  mean=0\n",
        "  std_dev=1\n",
        "\n",
        "  W_matrices = []\n",
        "  b_vectors = []\n",
        "\n",
        "  for i in range(len(num_neurons)-1):\n",
        "    rows = num_neurons[i+1]\n",
        "    cols = num_neurons[i]\n",
        "\n",
        "    if initializer == 'random':\n",
        "\n",
        "      weight_matrix = np.random.normal(mean, std_dev, size=(rows, cols))\n",
        "\n",
        "    elif initializer == 'Xavier':\n",
        "\n",
        "      upper_bound = np.sqrt(6.0/(rows + cols))\n",
        "      lower_bound = -1*upper_bound\n",
        "      weight_matrix = np.random.uniform(low = lower_bound, high = upper_bound, size = (rows, cols))\n",
        "\n",
        "    else:\n",
        "      print('initializer invalid')\n",
        "\n",
        "\n",
        "    bias_vector = np.zeros((rows,1))\n",
        "\n",
        "    W_matrices.append(weight_matrix)\n",
        "    b_vectors.append(bias_vector)\n",
        "\n",
        "\n",
        "  return W_matrices, b_vectors\n",
        "\n",
        "########################################## ACTIVATION FUNCTIONS\n",
        "def relu(x):\n",
        "  \"\"\"\n",
        "  Rectified Linear Unit (ReLU) activation function\n",
        "  \"\"\"\n",
        "  return np.maximum(0, x)\n",
        "\n",
        "def sigmoid(x):\n",
        "  \"\"\"\n",
        "  Sigmoid activation function\n",
        "  \"\"\"\n",
        "  # x = np.float128(x)\n",
        "  return 1 / (1 + np.exp(-x))\n",
        "\n",
        "def tanh(x):\n",
        "  \"\"\"\n",
        "  Hyperbolic tangent (tanh) activation function\n",
        "  \"\"\"\n",
        "  # x = np.float128(x)\n",
        "  return np.tanh(x)\n",
        "def softmax(x):\n",
        "\n",
        "  \"\"\"\n",
        "  Softmax function for output layer\n",
        "  \"\"\"\n",
        "  # x = np.float128(x)\n",
        "  return np.exp(x) / np.sum(np.exp(x), axis=0)\n",
        "\n",
        "def activation_output(x, activation_function):\n",
        "  \"\"\"\n",
        "  activation_function = 'ReLU', 'sigmoid', 'tanh'\n",
        "  \"\"\"\n",
        "  if activation_function == 'ReLU':\n",
        "    return relu(x)\n",
        "  elif activation_function == 'sigmoid':\n",
        "    return sigmoid(x)\n",
        "  elif activation_function == 'tanh':\n",
        "    return tanh(x)\n",
        "  elif activation_function == 'softmax':\n",
        "    return softmax(x)\n",
        "  else:\n",
        "    print('activation function invalid')\n",
        "\n",
        "######################################### DERIVATIVE OF ACTIVATION FUNCTION\n",
        "def sigmoid_derivative(x):\n",
        "  s = sigmoid(x)\n",
        "  return s * (1 - s)\n",
        "\n",
        "def tanh_derivative(x):\n",
        "  t = tanh(x)\n",
        "  return 1 - t**2\n",
        "\n",
        "def relu_derivative(x):\n",
        "  return 1*(x>0)\n",
        "\n",
        "def activation_derivative(x, activation_function):\n",
        "  \"\"\"\n",
        "  activation_function = 'ReLU', 'sigmoid', 'tanh'\n",
        "  \"\"\"\n",
        "  if activation_function == 'ReLU':\n",
        "    return relu_derivative(x)\n",
        "  elif activation_function == 'sigmoid':\n",
        "    return sigmoid_derivative(x)\n",
        "  elif activation_function == 'tanh':\n",
        "    return tanh_derivative(x)\n",
        "  else:\n",
        "    print('activation function invalid')\n",
        "\n",
        "####################################### Forward Propagation\n",
        "\n",
        "def layer_output_FP(x, weight_matrix, bias_vector, activation_function):\n",
        "  pre_activation = np.add(np.matmul(weight_matrix, x), bias_vector)\n",
        "  post_activation = activation_output(pre_activation, activation_function)\n",
        "  return pre_activation, post_activation\n",
        "\n",
        "def forward_propagation(ip_data, W_matrices, b_vectors, activation_functions):\n",
        "  \"\"\"\n",
        "  forward propagation\n",
        "  \"\"\"\n",
        "\n",
        "  layer_op = []\n",
        "  layer_op.append(ip_data)\n",
        "\n",
        "  layer_ip = []\n",
        "\n",
        "  for i in range(len(W_matrices)):\n",
        "\n",
        "    weight_matrix = W_matrices[i]\n",
        "    bias_vector = b_vectors[i]\n",
        "\n",
        "    activation_function = activation_functions[i]\n",
        "\n",
        "    pre_activation, post_activation = layer_output_FP(layer_op[i], weight_matrix, bias_vector, activation_function)\n",
        "\n",
        "    layer_op.append(post_activation)\n",
        "    layer_ip.append(pre_activation)\n",
        "\n",
        "  return layer_ip, layer_op\n",
        "\n",
        "####################################### Back Propagation\n",
        "\n",
        "def back_propagation(W_matrices, b_vectors, y_true, layer_ip, layer_op, activation_functions, batch_size, w_d):\n",
        "\n",
        "  DWs = []\n",
        "  Dbs = []\n",
        "  for i in range(len(W_matrices)):\n",
        "    k = len(W_matrices) - i\n",
        "\n",
        "\n",
        "    if k == len(W_matrices):\n",
        "      Da = -np.add(y_true, -layer_op[k])\n",
        "      Dw = (np.matmul(Da, layer_op[k-1].T) + w_d*W_matrices[k-1])/batch_size\n",
        "    else:\n",
        "\n",
        "      Dh = np.matmul(W_matrices[k].T, Da)\n",
        "      Dg = activation_derivative(layer_ip[k-1], activation_functions[k-1])\n",
        "      Da = np.multiply(Dh, Dg)\n",
        "      Dw = (np.matmul(Da, layer_op[k-1].T) + w_d*W_matrices[k-1])/batch_size\n",
        "    Db = np.sum(Da, axis=1, keepdims=True)/batch_size\n",
        "\n",
        "    DWs.append(Dw)\n",
        "    Dbs.append(Db)\n",
        "\n",
        "  return DWs, Dbs\n",
        "\n",
        "\n",
        "################################## optimization functions\n",
        "\n",
        "def update_weights_gd(W_matrices, b_vectors, DWs, Dbs, learning_rate = 0.1):\n",
        "  DWs.reverse()\n",
        "  Dbs.reverse()\n",
        "\n",
        "  for i in range(len(DWs)):\n",
        "\n",
        "    W_matrices[i] = W_matrices[i] - learning_rate*DWs[i]\n",
        "    b_vectors[i] = b_vectors[i] - learning_rate*Dbs[i]\n",
        "  return W_matrices, b_vectors\n",
        "\n",
        "def update_weights_momentum(W_matrices, b_vectors, DWs, Dbs, u_past_w, u_past_b, learning_rate = 0.1, beta = 0.5):\n",
        "  DWs.reverse()\n",
        "  Dbs.reverse()\n",
        "  u_w = u_past_w\n",
        "  u_b = u_past_b\n",
        "  for i in range(len(DWs)):\n",
        "\n",
        "    u_w[i] = beta*u_past_w[i] + DWs[i]\n",
        "    u_b[i] = beta*u_past_b[i] + Dbs[i]\n",
        "\n",
        "    W_matrices[i] = W_matrices[i] - learning_rate*u_w[i]\n",
        "    b_vectors[i] = b_vectors[i] - learning_rate*u_b[i]\n",
        "\n",
        "  return W_matrices, b_vectors, u_w, u_b\n",
        "\n",
        "def update_weights_adagrad(W_matrices, b_vectors, DWs, Dbs, u_past_w, u_past_b, learning_rate = 0.1):\n",
        "  DWs.reverse()\n",
        "  Dbs.reverse()\n",
        "\n",
        "  u_w = u_past_w\n",
        "  u_b = u_past_b\n",
        "  eps = 1e-8\n",
        "  for i in range(len(DWs)):\n",
        "    u_w[i] = u_past_w[i] + DWs[i]**2\n",
        "    u_b[i] = u_past_b[i] + Dbs[i]**2\n",
        "\n",
        "    W_matrices[i] = W_matrices[i] - learning_rate*DWs[i]/(np.sqrt(u_w[i]) + eps)\n",
        "    b_vectors[i] = b_vectors[i] - learning_rate*Dbs[i]/(np.sqrt(u_b[i]) + eps)\n",
        "\n",
        "  return W_matrices, b_vectors, u_w, u_b\n",
        "\n",
        "def update_weights_rmsprop(W_matrices, b_vectors, DWs, Dbs, u_past_w, u_past_b, learning_rate = 0.1, beta = 0.5):\n",
        "  DWs.reverse()\n",
        "  Dbs.reverse()\n",
        "\n",
        "  u_w = u_past_w\n",
        "  u_b = u_past_b\n",
        "  eps = 1e-8\n",
        "  for i in range(len(DWs)):\n",
        "    u_w[i] = beta*u_past_w[i] + (1-beta)*DWs[i]**2\n",
        "    u_b[i] = beta*u_past_b[i] + (1-beta)*Dbs[i]**2\n",
        "\n",
        "    W_matrices[i] = W_matrices[i] - learning_rate*DWs[i]/(np.sqrt(u_w[i]) + eps)\n",
        "    b_vectors[i] = b_vectors[i] - learning_rate*Dbs[i]/(np.sqrt(u_b[i]) + eps)\n",
        "\n",
        "  return W_matrices, b_vectors, u_w, u_b\n",
        "\n",
        "def update_weights_adam(W_matrices, b_vectors, DWs, Dbs, mw_past, mb_past, vw_past, vb_past, t, learning_rate = 0.1, beta1 = 0.5, beta2 =0.5):\n",
        "  DWs.reverse()\n",
        "  Dbs.reverse()\n",
        "  mw = mw_past\n",
        "  mb = mb_past\n",
        "  vw = vw_past\n",
        "  vb = vb_past\n",
        "  eps = 1e-8\n",
        "\n",
        "  for i in range(len(DWs)):\n",
        "    mw[i] = beta1*mw_past[i] + (1-beta1)*DWs[i]\n",
        "    mb[i] = beta1*mb_past[i] + (1-beta1)*Dbs[i]\n",
        "\n",
        "    mw_cap = mw[i]/(1 - beta1**t)\n",
        "    mb_cap = mb[i]/(1 - beta1**t)\n",
        "\n",
        "    vw[i] = beta2*vw_past[i] + (1-beta2)*DWs[i]**2\n",
        "    vb[i] = beta2*vb_past[i] + (1-beta2)*Dbs[i]**2\n",
        "    vw_cap = vw[i]/(1 - beta2**t)\n",
        "    vb_cap = vb[i]/(1 - beta2**t)\n",
        "\n",
        "    W_matrices[i] = W_matrices[i] - learning_rate*mw_cap/(np.sqrt(vw_cap) + eps)\n",
        "    b_vectors[i] = b_vectors[i] - learning_rate*mb_cap/(np.sqrt(vb_cap) + eps)\n",
        "\n",
        "  return W_matrices, b_vectors, mw, mb, vw, vb\n",
        "\n",
        "def update_weights_nadam(W_matrices, b_vectors, DWs, Dbs, mw_past, mb_past, vw_past, vb_past,t,  learning_rate = 0.1, beta1 = 0.5, beta2 =0.5):\n",
        "  DWs.reverse()\n",
        "  Dbs.reverse()\n",
        "  mw = mw_past\n",
        "  mb = mb_past\n",
        "  vw = vw_past\n",
        "  vb = vb_past\n",
        "  eps = 1e-8\n",
        "\n",
        "  for i in range(len(DWs)):\n",
        "    mw[i] = beta1*mw_past[i] + (1-beta1)*DWs[i]\n",
        "    mb[i] = beta1*mb_past[i] + (1-beta1)*Dbs[i]\n",
        "\n",
        "    mw_cap = mw[i]/(1 - beta1**(t+1))\n",
        "    mb_cap = mb[i]/(1 - beta1**(t+1))\n",
        "\n",
        "    vw[i] = beta2*vw_past[i] + (1-beta2)*DWs[i]**2\n",
        "    vb[i] = beta2*vb_past[i] + (1-beta2)*Dbs[i]**2\n",
        "    vw_cap = vw[i]/(1 - beta2**(t+1))\n",
        "    vb_cap = vb[i]/(1 - beta2**(t+1))\n",
        "\n",
        "    W_matrices[i] = W_matrices[i] - learning_rate*(beta1*mw_cap + ((1-beta1)/(1 - beta1**(t+1)))*DWs[i])/(np.sqrt(vw_cap) + eps)\n",
        "    b_vectors[i] = b_vectors[i] - learning_rate*(beta1*mb_cap + ((1-beta1)/(1 - beta1**(t+1)))*Dbs[i])/(np.sqrt(vb_cap) + eps)\n",
        "\n",
        "  return W_matrices, b_vectors, mw, mb, vw, vb\n",
        "\n",
        "def look_ahead_nag(W_s, b_s, u_past_w, u_past_b, beta = 0.5):\n",
        "  for i in range(len(W_s)):\n",
        "    W_s[i] = W_s[i] - beta*u_past_w[i]\n",
        "    b_s[i] = b_s[i] - beta*u_past_b[i]\n",
        "  return W_s, b_s\n",
        "\n",
        "############################# Loss and accuracy\n",
        "\n",
        "def one_hot_encode(integers, num_classes=None):\n",
        "  if num_classes is None:\n",
        "      num_classes = np.max(integers) + 1\n",
        "  return np.eye(num_classes)[integers]\n",
        "\n",
        "def cross_entropy_loss(y_true, y_pred, batch_size):\n",
        "  # Clip the predicted probabilities to avoid numerical instability\n",
        "  y_pred = np.clip(y_pred, 1e-15, 1 - 1e-15)\n",
        "  loss_value = np.sum(np.sum(y_true*np.log(y_pred), axis=0))/batch_size\n",
        "  return loss_value*(-1)\n",
        "\n",
        "\n",
        "\n",
        "def accuracy(y_true, y_pred, batch_size):\n",
        "  n_correct = 0\n",
        "  for i in range(0, batch_size, 1) :\n",
        "    if y_true[:,i].argmax() == y_pred[:,i].argmax() :\n",
        "      n_correct += 1\n",
        "  return 100 * n_correct / batch_size\n",
        "\n",
        "###################################### dataset\n",
        "\n",
        "def load_split_dataset():\n",
        "  # Load Fashion MNIST dataset\n",
        "  (train_images, train_labels), (test_images, test_labels) = fashion_mnist.load_data()\n",
        "\n",
        "  # Split the training set into training and validation sets\n",
        "  X_train, X_val, Y_train, Y_val = train_test_split(train_images, train_labels, test_size=0.3, random_state=42)\n",
        "\n",
        "  data_size = X_train.shape[0]\n",
        "  X_train = (X_train.reshape(data_size, -1).T)/255\n",
        "  Y_train = one_hot_encode(Y_train, 10).T\n",
        "\n",
        "  data_size = X_val.shape[0]\n",
        "  X_val = (X_val.reshape(data_size, -1).T)/255\n",
        "  Y_val = one_hot_encode(Y_val, 10).T\n",
        "\n",
        "  data_size = test_images.shape[0]\n",
        "  X_test = (test_images.reshape(data_size, -1).T)/255\n",
        "  Y_test = one_hot_encode(test_labels, 10).T\n",
        "\n",
        "  return X_train, Y_train, X_val, Y_val, X_test, Y_test"
      ],
      "metadata": {
        "id": "XJRTozVrUctM"
      },
      "execution_count": 2,
      "outputs": []
    },
    {
      "cell_type": "markdown",
      "source": [
        "# Train function"
      ],
      "metadata": {
        "id": "brPqhUqSVp7u"
      }
    },
    {
      "cell_type": "code",
      "source": [
        "def train_model_q4(X_train,Y_train, X_test, Y_test, epoch=1,batch_size=25, num_neurons_hidden = [10], activation_functions = ['sigmoid'],\n",
        "                weights_init_type='random', optimizer = 'sgd', learning_rate = 0.1, opti_beta = [0.5, 0.5], w_d = 0):\n",
        "\n",
        "  \"\"\"\n",
        "  X has shape (number of features, number of samples in train data set)\n",
        "  Y has shape (number of classes, number of samples in train data set)\n",
        "\n",
        "  num_neurons_hidden = list of number of neurons at each hidden layer\n",
        "\n",
        "  \"\"\"\n",
        "  num_ip_neurons = X_train.shape[0]\n",
        "  num_op_neurons = Y_train.shape[0]\n",
        "  num_neurons = [num_ip_neurons] + num_neurons_hidden + [num_op_neurons]\n",
        "  activation_functions = activation_functions + ['softmax']\n",
        "\n",
        "  W_s, b_s = weights_initialization(num_neurons, weights_init_type)\n",
        "\n",
        "\n",
        "  num_batches = np.floor(X_train.shape[1]/batch_size)\n",
        "  print(num_batches)\n",
        "\n",
        "  if optimizer == 'momentum':\n",
        "    u_past_w = [x * 0 for x in W_s]\n",
        "    u_past_b = [x * 0 for x in b_s]\n",
        "\n",
        "  elif optimizer == 'nag':\n",
        "    u_past_w = [x * 0 for x in W_s]\n",
        "    u_past_b = [x * 0 for x in b_s]\n",
        "\n",
        "  elif optimizer == 'rmsprop':\n",
        "    u_past_w = [x * 0 for x in W_s]\n",
        "    u_past_b = [x * 0 for x in b_s]\n",
        "\n",
        "  elif optimizer == 'adagrad':\n",
        "    u_past_w = [x * 0 for x in W_s]\n",
        "    u_past_b = [x * 0 for x in b_s]\n",
        "\n",
        "  elif optimizer == 'adam':\n",
        "    mw_past = [x * 0 for x in W_s]\n",
        "    mb_past = [x * 0 for x in b_s]\n",
        "    vw_past = [x * 0 for x in W_s]\n",
        "    vb_past = [x * 0 for x in b_s]\n",
        "    t = 1\n",
        "\n",
        "  elif optimizer == 'nadam':\n",
        "    mw_past = [x * 0 for x in W_s]\n",
        "    mb_past = [x * 0 for x in b_s]\n",
        "    vw_past = [x * 0 for x in W_s]\n",
        "    vb_past = [x * 0 for x in b_s]\n",
        "    t = 1\n",
        "\n",
        "  for i in range(epoch):\n",
        "\n",
        "\n",
        "\n",
        "    for j in tqdm(range(int(num_batches))):\n",
        "      batch_X = X_train[:,j*batch_size:(j+1)*batch_size]\n",
        "      batch_Y = Y_train[:,j*batch_size:(j+1)*batch_size]\n",
        "\n",
        "\n",
        "      if optimizer == 'sgd':\n",
        "        ip, op = forward_propagation(batch_X, W_s, b_s, activation_functions)\n",
        "        DWs, Dbs = back_propagation(W_s, b_s, batch_Y, ip, op, activation_functions, batch_size, w_d)\n",
        "        W_s, b_s = update_weights_gd(W_s, b_s, DWs, Dbs, learning_rate)\n",
        "\n",
        "      elif optimizer == 'momentum':\n",
        "        ip, op = forward_propagation(batch_X, W_s, b_s, activation_functions)\n",
        "        DWs, Dbs = back_propagation(W_s, b_s, batch_Y, ip, op, activation_functions, batch_size, w_d)\n",
        "        W_s, b_s, u_past_w, u_past_b  = update_weights_momentum(W_s, b_s, DWs, Dbs, u_past_w, u_past_b, learning_rate, opti_beta[0])\n",
        "\n",
        "      elif optimizer == 'adagrad':\n",
        "        ip, op = forward_propagation(batch_X, W_s, b_s, activation_functions)\n",
        "        DWs, Dbs = back_propagation(W_s, b_s, batch_Y, ip, op, activation_functions, batch_size, w_d)\n",
        "        W_s, b_s, u_past_w, u_past_b  = update_weights_adagrad(W_s, b_s, DWs, Dbs, u_past_w, u_past_b, learning_rate)\n",
        "\n",
        "      elif optimizer == 'rmsprop':\n",
        "        ip, op = forward_propagation(batch_X, W_s, b_s, activation_functions)\n",
        "        DWs, Dbs = back_propagation(W_s, b_s, batch_Y, ip, op, activation_functions, batch_size, w_d)\n",
        "        W_s, b_s, u_past_w, u_past_b  = update_weights_rmsprop(W_s, b_s, DWs, Dbs, u_past_w, u_past_b, learning_rate, opti_beta[0])\n",
        "\n",
        "      elif optimizer == 'adam':\n",
        "        ip, op = forward_propagation(batch_X, W_s, b_s, activation_functions)\n",
        "        DWs, Dbs = back_propagation(W_s, b_s, batch_Y, ip, op, activation_functions, batch_size, w_d)\n",
        "        W_s, b_s, mw_past, mb_past, vw_past, vb_past = update_weights_adam(W_s, b_s, DWs, Dbs, mw_past, mb_past, vw_past, vb_past, t, learning_rate, opti_beta[0], opti_beta[1])\n",
        "        t =t +1\n",
        "\n",
        "      elif optimizer == 'nadam':\n",
        "        ip, op = forward_propagation(batch_X, W_s, b_s, activation_functions)\n",
        "        DWs, Dbs = back_propagation(W_s, b_s, batch_Y, ip, op, activation_functions, batch_size, w_d)\n",
        "        W_s, b_s, mw_past, mb_past, vw_past, vb_past = update_weights_nadam(W_s, b_s, DWs, Dbs, mw_past, mb_past, vw_past, vb_past, t, learning_rate, opti_beta[0], opti_beta[1])\n",
        "        t =t +1\n",
        "      elif optimizer == 'nag':\n",
        "        PWs, Pbs = look_ahead_nag(W_s, b_s, u_past_w, u_past_b, opti_beta[0])\n",
        "        ip, op = forward_propagation(batch_X, PWs, Pbs, activation_functions)\n",
        "        DWs, Dbs = back_propagation(PWs, Pbs, batch_Y, ip, op, activation_functions, batch_size, w_d)\n",
        "        W_s, b_s, u_past_w, u_past_b  = update_weights_momentum(W_s, b_s, DWs, Dbs, u_past_w, u_past_b, learning_rate, opti_beta[0])\n",
        "\n",
        "    ip_all, op_all = forward_propagation(X_train, W_s, b_s, activation_functions)\n",
        "    loss_tr = cross_entropy_loss(Y_train, op_all[-1], X_train.shape[1])\n",
        "    acc_tr = accuracy(Y_train, op_all[-1], batch_size)\n",
        "\n",
        "\n",
        "    ip_all, op_all = forward_propagation(X_test, W_s, b_s, activation_functions)\n",
        "    loss_val = cross_entropy_loss(Y_test, op_all[-1], X_test.shape[1])\n",
        "    acc_val = accuracy(Y_test, op_all[-1], batch_size)\n",
        "\n",
        "    wandb.log({'tr_loss' : loss_tr, 'tr_accuracy' : acc_tr, 'val_loss' : loss_val, 'val_accuracy' : acc_val})\n",
        "\n",
        ""
      ],
      "metadata": {
        "id": "dn2_ya12VvBY"
      },
      "execution_count": 3,
      "outputs": []
    },
    {
      "cell_type": "code",
      "source": [
        "sweep_config = {\n",
        "    'method': 'bayes',\n",
        "    'name' : 'Bayesian_sweep_cross_entropy',\n",
        "    'metric': {\n",
        "      'name': 'valid accuracy',\n",
        "      'goal': 'maximize'\n",
        "    },\n",
        "    'parameters': {\n",
        "        'epochs': {\n",
        "            'values': [5, 10]\n",
        "        },\n",
        "        'num_layers': {\n",
        "            'values': [3, 4, 5]\n",
        "        },\n",
        "         'hidden_size': {\n",
        "            'values': [32, 64, 128]\n",
        "        },\n",
        "        'weight_decay': {\n",
        "            'values': [0, 0.0005, 0.5]\n",
        "        },\n",
        "         'learning_rate': {\n",
        "            'values': [0.001, 0.0001]\n",
        "        },\n",
        "         'optimizer': {\n",
        "            'values': ['sgd', 'momentum', 'nag', 'rmsprop', 'adam', 'nadam']\n",
        "        },\n",
        "        'batch_size': {\n",
        "            'values': [16, 32, 64]\n",
        "        },\n",
        "         'weight_init': {\n",
        "            'values': ['random', 'Xavier']\n",
        "        },\n",
        "        'activation': {\n",
        "            'values': ['sigmoid', 'tanh', 'ReLU']\n",
        "        },\n",
        "    }\n",
        "}\n",
        "\n",
        "sweep_id = wandb.sweep(sweep = sweep_config, project = 'dl_assgn_1_q_4')"
      ],
      "metadata": {
        "colab": {
          "base_uri": "https://localhost:8080/",
          "height": 208
        },
        "id": "TXA0ThCGVz-n",
        "outputId": "4be0d7ff-e780-42d7-bb97-3b0876c605d5"
      },
      "execution_count": 4,
      "outputs": [
        {
          "output_type": "stream",
          "name": "stderr",
          "text": [
            "\u001b[34m\u001b[1mwandb\u001b[0m: Using wandb-core as the SDK backend.  Please refer to https://wandb.me/wandb-core for more information.\n"
          ]
        },
        {
          "output_type": "display_data",
          "data": {
            "text/plain": [
              "<IPython.core.display.Javascript object>"
            ],
            "application/javascript": [
              "\n",
              "        window._wandbApiKey = new Promise((resolve, reject) => {\n",
              "            function loadScript(url) {\n",
              "            return new Promise(function(resolve, reject) {\n",
              "                let newScript = document.createElement(\"script\");\n",
              "                newScript.onerror = reject;\n",
              "                newScript.onload = resolve;\n",
              "                document.body.appendChild(newScript);\n",
              "                newScript.src = url;\n",
              "            });\n",
              "            }\n",
              "            loadScript(\"https://cdn.jsdelivr.net/npm/postmate/build/postmate.min.js\").then(() => {\n",
              "            const iframe = document.createElement('iframe')\n",
              "            iframe.style.cssText = \"width:0;height:0;border:none\"\n",
              "            document.body.appendChild(iframe)\n",
              "            const handshake = new Postmate({\n",
              "                container: iframe,\n",
              "                url: 'https://wandb.ai/authorize'\n",
              "            });\n",
              "            const timeout = setTimeout(() => reject(\"Couldn't auto authenticate\"), 5000)\n",
              "            handshake.then(function(child) {\n",
              "                child.on('authorize', data => {\n",
              "                    clearTimeout(timeout)\n",
              "                    resolve(data)\n",
              "                });\n",
              "            });\n",
              "            })\n",
              "        });\n",
              "    "
            ]
          },
          "metadata": {}
        },
        {
          "output_type": "stream",
          "name": "stderr",
          "text": [
            "\u001b[34m\u001b[1mwandb\u001b[0m: Logging into wandb.ai. (Learn how to deploy a W&B server locally: https://wandb.me/wandb-server)\n",
            "\u001b[34m\u001b[1mwandb\u001b[0m: You can find your API key in your browser here: https://wandb.ai/authorize\n",
            "wandb: Paste an API key from your profile and hit enter:"
          ]
        },
        {
          "name": "stdout",
          "output_type": "stream",
          "text": [
            " ··········\n"
          ]
        },
        {
          "output_type": "stream",
          "name": "stderr",
          "text": [
            "\u001b[34m\u001b[1mwandb\u001b[0m: \u001b[33mWARNING\u001b[0m If you're specifying your api key in code, ensure this code is not shared publicly.\n",
            "\u001b[34m\u001b[1mwandb\u001b[0m: \u001b[33mWARNING\u001b[0m Consider setting the WANDB_API_KEY environment variable, or running `wandb login` from the command line.\n",
            "\u001b[34m\u001b[1mwandb\u001b[0m: No netrc file found, creating one.\n",
            "\u001b[34m\u001b[1mwandb\u001b[0m: Appending key for api.wandb.ai to your netrc file: /root/.netrc\n"
          ]
        },
        {
          "output_type": "stream",
          "name": "stdout",
          "text": [
            "Create sweep with ID: sdlyh3ti\n",
            "Sweep URL: https://wandb.ai/arunangshudutta218-iitm/dl_assgn_1_q_4/sweeps/sdlyh3ti\n"
          ]
        }
      ]
    },
    {
      "cell_type": "code",
      "source": [
        "def main():\n",
        "  with wandb.init() as run:\n",
        "\n",
        "    epochs = wandb.config.epochs\n",
        "    nhl = wandb.config.num_layers\n",
        "    sz = wandb.config.hidden_size\n",
        "    w_d = wandb.config.weight_decay\n",
        "    lr = wandb.config.learning_rate\n",
        "    optimizer = wandb.config.optimizer\n",
        "    b_sz = wandb.config.batch_size\n",
        "    weight_init = wandb.config.weight_init\n",
        "    act_fun = wandb.config.activation\n",
        "\n",
        "    neuros_num = []\n",
        "    act_func = []\n",
        "    for i in range(nhl):\n",
        "      neuros_num.append(sz)\n",
        "      act_func.append(act_fun)\n",
        "\n",
        "    wandb.run.name = \"e_{}_hl_{}_hs_{}_lr_{}_opt_{}_bs_{}_init_{}_ac_{}_l2_{}\".format(epochs, nhl, sz, lr, optimizer, b_sz, weight_init, act_fun, w_d)\n",
        "\n",
        "    train_model_q4(X_train, Y_train, X_val, Y_val, epoch=epochs, batch_size=b_sz, num_neurons_hidden = neuros_num, activation_functions = act_func,\n",
        "                weights_init_type=weight_init, optimizer = optimizer, learning_rate = lr, opti_beta = [0.5, 0.5], w_d = w_d)\n",
        "\n",
        "\n",
        "X_train, Y_train, X_val, Y_val, X_test, Y_test = load_split_dataset()\n",
        "\n",
        "wandb.agent(sweep_id, function = main, count = 100)\n",
        "wandb.finish()"
      ],
      "metadata": {
        "colab": {
          "base_uri": "https://localhost:8080/",
          "height": 1000
        },
        "id": "19xiSp_-WdHX",
        "outputId": "e650980e-fcf6-4da2-de3d-047366fc1735"
      },
      "execution_count": 5,
      "outputs": [
        {
          "output_type": "stream",
          "name": "stdout",
          "text": [
            "Downloading data from https://storage.googleapis.com/tensorflow/tf-keras-datasets/train-labels-idx1-ubyte.gz\n",
            "\u001b[1m29515/29515\u001b[0m \u001b[32m━━━━━━━━━━━━━━━━━━━━\u001b[0m\u001b[37m\u001b[0m \u001b[1m0s\u001b[0m 0us/step\n",
            "Downloading data from https://storage.googleapis.com/tensorflow/tf-keras-datasets/train-images-idx3-ubyte.gz\n",
            "\u001b[1m26421880/26421880\u001b[0m \u001b[32m━━━━━━━━━━━━━━━━━━━━\u001b[0m\u001b[37m\u001b[0m \u001b[1m0s\u001b[0m 0us/step\n",
            "Downloading data from https://storage.googleapis.com/tensorflow/tf-keras-datasets/t10k-labels-idx1-ubyte.gz\n",
            "\u001b[1m5148/5148\u001b[0m \u001b[32m━━━━━━━━━━━━━━━━━━━━\u001b[0m\u001b[37m\u001b[0m \u001b[1m0s\u001b[0m 1us/step\n",
            "Downloading data from https://storage.googleapis.com/tensorflow/tf-keras-datasets/t10k-images-idx3-ubyte.gz\n",
            "\u001b[1m4422102/4422102\u001b[0m \u001b[32m━━━━━━━━━━━━━━━━━━━━\u001b[0m\u001b[37m\u001b[0m \u001b[1m0s\u001b[0m 0us/step\n"
          ]
        },
        {
          "output_type": "stream",
          "name": "stderr",
          "text": [
            "\u001b[34m\u001b[1mwandb\u001b[0m: Agent Starting Run: 7nslyene with config:\n",
            "\u001b[34m\u001b[1mwandb\u001b[0m: \tactivation: ReLU\n",
            "\u001b[34m\u001b[1mwandb\u001b[0m: \tbatch_size: 32\n",
            "\u001b[34m\u001b[1mwandb\u001b[0m: \tepochs: 5\n",
            "\u001b[34m\u001b[1mwandb\u001b[0m: \thidden_size: 64\n",
            "\u001b[34m\u001b[1mwandb\u001b[0m: \tlearning_rate: 0.0001\n",
            "\u001b[34m\u001b[1mwandb\u001b[0m: \tnum_layers: 3\n",
            "\u001b[34m\u001b[1mwandb\u001b[0m: \toptimizer: sgd\n",
            "\u001b[34m\u001b[1mwandb\u001b[0m: \tweight_decay: 0\n",
            "\u001b[34m\u001b[1mwandb\u001b[0m: \tweight_init: random\n",
            "\u001b[34m\u001b[1mwandb\u001b[0m: Currently logged in as: \u001b[33marunangshudutta218\u001b[0m (\u001b[33marunangshudutta218-iitm\u001b[0m) to \u001b[32mhttps://api.wandb.ai\u001b[0m. Use \u001b[1m`wandb login --relogin`\u001b[0m to force relogin\n"
          ]
        },
        {
          "output_type": "display_data",
          "data": {
            "text/plain": [
              "<IPython.core.display.HTML object>"
            ],
            "text/html": [
              "Tracking run with wandb version 0.19.7"
            ]
          },
          "metadata": {}
        },
        {
          "output_type": "display_data",
          "data": {
            "text/plain": [
              "<IPython.core.display.HTML object>"
            ],
            "text/html": [
              "Run data is saved locally in <code>/content/wandb/run-20250309_192249-7nslyene</code>"
            ]
          },
          "metadata": {}
        },
        {
          "output_type": "display_data",
          "data": {
            "text/plain": [
              "<IPython.core.display.HTML object>"
            ],
            "text/html": [
              "Syncing run <strong><a href='https://wandb.ai/arunangshudutta218-iitm/dl_assgn_1_q_4/runs/7nslyene' target=\"_blank\">treasured-sweep-1</a></strong> to <a href='https://wandb.ai/arunangshudutta218-iitm/dl_assgn_1_q_4' target=\"_blank\">Weights & Biases</a> (<a href='https://wandb.me/developer-guide' target=\"_blank\">docs</a>)<br>Sweep page: <a href='https://wandb.ai/arunangshudutta218-iitm/dl_assgn_1_q_4/sweeps/sdlyh3ti' target=\"_blank\">https://wandb.ai/arunangshudutta218-iitm/dl_assgn_1_q_4/sweeps/sdlyh3ti</a>"
            ]
          },
          "metadata": {}
        },
        {
          "output_type": "display_data",
          "data": {
            "text/plain": [
              "<IPython.core.display.HTML object>"
            ],
            "text/html": [
              " View project at <a href='https://wandb.ai/arunangshudutta218-iitm/dl_assgn_1_q_4' target=\"_blank\">https://wandb.ai/arunangshudutta218-iitm/dl_assgn_1_q_4</a>"
            ]
          },
          "metadata": {}
        },
        {
          "output_type": "display_data",
          "data": {
            "text/plain": [
              "<IPython.core.display.HTML object>"
            ],
            "text/html": [
              " View sweep at <a href='https://wandb.ai/arunangshudutta218-iitm/dl_assgn_1_q_4/sweeps/sdlyh3ti' target=\"_blank\">https://wandb.ai/arunangshudutta218-iitm/dl_assgn_1_q_4/sweeps/sdlyh3ti</a>"
            ]
          },
          "metadata": {}
        },
        {
          "output_type": "display_data",
          "data": {
            "text/plain": [
              "<IPython.core.display.HTML object>"
            ],
            "text/html": [
              " View run at <a href='https://wandb.ai/arunangshudutta218-iitm/dl_assgn_1_q_4/runs/7nslyene' target=\"_blank\">https://wandb.ai/arunangshudutta218-iitm/dl_assgn_1_q_4/runs/7nslyene</a>"
            ]
          },
          "metadata": {}
        },
        {
          "output_type": "stream",
          "name": "stdout",
          "text": [
            "1312.0\n"
          ]
        },
        {
          "output_type": "stream",
          "name": "stderr",
          "text": [
            "100%|██████████| 1312/1312 [00:02<00:00, 562.26it/s]\n",
            "100%|██████████| 1312/1312 [00:03<00:00, 386.31it/s]\n",
            "100%|██████████| 1312/1312 [00:01<00:00, 696.94it/s]\n",
            "100%|██████████| 1312/1312 [00:01<00:00, 725.19it/s]\n",
            "100%|██████████| 1312/1312 [00:01<00:00, 749.42it/s]\n"
          ]
        },
        {
          "output_type": "display_data",
          "data": {
            "text/plain": [
              "<IPython.core.display.HTML object>"
            ],
            "text/html": []
          },
          "metadata": {}
        },
        {
          "output_type": "display_data",
          "data": {
            "text/plain": [
              "<IPython.core.display.HTML object>"
            ],
            "text/html": [
              "<br>    <style><br>        .wandb-row {<br>            display: flex;<br>            flex-direction: row;<br>            flex-wrap: wrap;<br>            justify-content: flex-start;<br>            width: 100%;<br>        }<br>        .wandb-col {<br>            display: flex;<br>            flex-direction: column;<br>            flex-basis: 100%;<br>            flex: 1;<br>            padding: 10px;<br>        }<br>    </style><br><div class=\"wandb-row\"><div class=\"wandb-col\"><h3>Run history:</h3><br/><table class=\"wandb\"><tr><td>tr_accuracy</td><td>▁▁▁▁▁</td></tr><tr><td>val_accuracy</td><td>▁▁▁▁▁</td></tr></table><br/></div><div class=\"wandb-col\"><h3>Run summary:</h3><br/><table class=\"wandb\"><tr><td>tr_accuracy</td><td>15.625</td></tr><tr><td>tr_loss</td><td>nan</td></tr><tr><td>val_accuracy</td><td>6.25</td></tr><tr><td>val_loss</td><td>nan</td></tr></table><br/></div></div>"
            ]
          },
          "metadata": {}
        },
        {
          "output_type": "display_data",
          "data": {
            "text/plain": [
              "<IPython.core.display.HTML object>"
            ],
            "text/html": [
              " View run <strong style=\"color:#cdcd00\">e_5_hl_3_hs_64_lr_0.0001_opt_sgd_bs_32_init_random_ac_ReLU_l2_0</strong> at: <a href='https://wandb.ai/arunangshudutta218-iitm/dl_assgn_1_q_4/runs/7nslyene' target=\"_blank\">https://wandb.ai/arunangshudutta218-iitm/dl_assgn_1_q_4/runs/7nslyene</a><br> View project at: <a href='https://wandb.ai/arunangshudutta218-iitm/dl_assgn_1_q_4' target=\"_blank\">https://wandb.ai/arunangshudutta218-iitm/dl_assgn_1_q_4</a><br>Synced 5 W&B file(s), 0 media file(s), 0 artifact file(s) and 0 other file(s)"
            ]
          },
          "metadata": {}
        },
        {
          "output_type": "display_data",
          "data": {
            "text/plain": [
              "<IPython.core.display.HTML object>"
            ],
            "text/html": [
              "Find logs at: <code>./wandb/run-20250309_192249-7nslyene/logs</code>"
            ]
          },
          "metadata": {}
        },
        {
          "output_type": "stream",
          "name": "stderr",
          "text": [
            "\u001b[34m\u001b[1mwandb\u001b[0m: Agent Starting Run: 3b3h62qy with config:\n",
            "\u001b[34m\u001b[1mwandb\u001b[0m: \tactivation: tanh\n",
            "\u001b[34m\u001b[1mwandb\u001b[0m: \tbatch_size: 16\n",
            "\u001b[34m\u001b[1mwandb\u001b[0m: \tepochs: 5\n",
            "\u001b[34m\u001b[1mwandb\u001b[0m: \thidden_size: 64\n",
            "\u001b[34m\u001b[1mwandb\u001b[0m: \tlearning_rate: 0.001\n",
            "\u001b[34m\u001b[1mwandb\u001b[0m: \tnum_layers: 3\n",
            "\u001b[34m\u001b[1mwandb\u001b[0m: \toptimizer: momentum\n",
            "\u001b[34m\u001b[1mwandb\u001b[0m: \tweight_decay: 0.0005\n",
            "\u001b[34m\u001b[1mwandb\u001b[0m: \tweight_init: Xavier\n"
          ]
        },
        {
          "output_type": "display_data",
          "data": {
            "text/plain": [
              "<IPython.core.display.HTML object>"
            ],
            "text/html": [
              "Tracking run with wandb version 0.19.7"
            ]
          },
          "metadata": {}
        },
        {
          "output_type": "display_data",
          "data": {
            "text/plain": [
              "<IPython.core.display.HTML object>"
            ],
            "text/html": [
              "Run data is saved locally in <code>/content/wandb/run-20250309_192309-3b3h62qy</code>"
            ]
          },
          "metadata": {}
        },
        {
          "output_type": "display_data",
          "data": {
            "text/plain": [
              "<IPython.core.display.HTML object>"
            ],
            "text/html": [
              "Syncing run <strong><a href='https://wandb.ai/arunangshudutta218-iitm/dl_assgn_1_q_4/runs/3b3h62qy' target=\"_blank\">wandering-sweep-2</a></strong> to <a href='https://wandb.ai/arunangshudutta218-iitm/dl_assgn_1_q_4' target=\"_blank\">Weights & Biases</a> (<a href='https://wandb.me/developer-guide' target=\"_blank\">docs</a>)<br>Sweep page: <a href='https://wandb.ai/arunangshudutta218-iitm/dl_assgn_1_q_4/sweeps/sdlyh3ti' target=\"_blank\">https://wandb.ai/arunangshudutta218-iitm/dl_assgn_1_q_4/sweeps/sdlyh3ti</a>"
            ]
          },
          "metadata": {}
        },
        {
          "output_type": "display_data",
          "data": {
            "text/plain": [
              "<IPython.core.display.HTML object>"
            ],
            "text/html": [
              " View project at <a href='https://wandb.ai/arunangshudutta218-iitm/dl_assgn_1_q_4' target=\"_blank\">https://wandb.ai/arunangshudutta218-iitm/dl_assgn_1_q_4</a>"
            ]
          },
          "metadata": {}
        },
        {
          "output_type": "display_data",
          "data": {
            "text/plain": [
              "<IPython.core.display.HTML object>"
            ],
            "text/html": [
              " View sweep at <a href='https://wandb.ai/arunangshudutta218-iitm/dl_assgn_1_q_4/sweeps/sdlyh3ti' target=\"_blank\">https://wandb.ai/arunangshudutta218-iitm/dl_assgn_1_q_4/sweeps/sdlyh3ti</a>"
            ]
          },
          "metadata": {}
        },
        {
          "output_type": "display_data",
          "data": {
            "text/plain": [
              "<IPython.core.display.HTML object>"
            ],
            "text/html": [
              " View run at <a href='https://wandb.ai/arunangshudutta218-iitm/dl_assgn_1_q_4/runs/3b3h62qy' target=\"_blank\">https://wandb.ai/arunangshudutta218-iitm/dl_assgn_1_q_4/runs/3b3h62qy</a>"
            ]
          },
          "metadata": {}
        },
        {
          "output_type": "stream",
          "name": "stdout",
          "text": [
            "2625.0\n"
          ]
        },
        {
          "output_type": "stream",
          "name": "stderr",
          "text": [
            "100%|██████████| 2625/2625 [00:04<00:00, 586.87it/s]\n",
            "100%|██████████| 2625/2625 [00:06<00:00, 377.60it/s]\n",
            "100%|██████████| 2625/2625 [00:04<00:00, 574.51it/s]\n",
            "100%|██████████| 2625/2625 [00:06<00:00, 401.43it/s]\n",
            "100%|██████████| 2625/2625 [00:04<00:00, 575.58it/s]\n"
          ]
        },
        {
          "output_type": "display_data",
          "data": {
            "text/plain": [
              "<IPython.core.display.HTML object>"
            ],
            "text/html": []
          },
          "metadata": {}
        },
        {
          "output_type": "display_data",
          "data": {
            "text/plain": [
              "<IPython.core.display.HTML object>"
            ],
            "text/html": [
              "<br>    <style><br>        .wandb-row {<br>            display: flex;<br>            flex-direction: row;<br>            flex-wrap: wrap;<br>            justify-content: flex-start;<br>            width: 100%;<br>        }<br>        .wandb-col {<br>            display: flex;<br>            flex-direction: column;<br>            flex-basis: 100%;<br>            flex: 1;<br>            padding: 10px;<br>        }<br>    </style><br><div class=\"wandb-row\"><div class=\"wandb-col\"><h3>Run history:</h3><br/><table class=\"wandb\"><tr><td>tr_accuracy</td><td>▁▁███</td></tr><tr><td>tr_loss</td><td>█▄▂▂▁</td></tr><tr><td>val_accuracy</td><td>▁████</td></tr><tr><td>val_loss</td><td>█▄▂▂▁</td></tr></table><br/></div><div class=\"wandb-col\"><h3>Run summary:</h3><br/><table class=\"wandb\"><tr><td>tr_accuracy</td><td>93.75</td></tr><tr><td>tr_loss</td><td>0.45997</td></tr><tr><td>val_accuracy</td><td>93.75</td></tr><tr><td>val_loss</td><td>0.46568</td></tr></table><br/></div></div>"
            ]
          },
          "metadata": {}
        },
        {
          "output_type": "display_data",
          "data": {
            "text/plain": [
              "<IPython.core.display.HTML object>"
            ],
            "text/html": [
              " View run <strong style=\"color:#cdcd00\">e_5_hl_3_hs_64_lr_0.001_opt_momentum_bs_16_init_Xavier_ac_tanh_l2_0.0005</strong> at: <a href='https://wandb.ai/arunangshudutta218-iitm/dl_assgn_1_q_4/runs/3b3h62qy' target=\"_blank\">https://wandb.ai/arunangshudutta218-iitm/dl_assgn_1_q_4/runs/3b3h62qy</a><br> View project at: <a href='https://wandb.ai/arunangshudutta218-iitm/dl_assgn_1_q_4' target=\"_blank\">https://wandb.ai/arunangshudutta218-iitm/dl_assgn_1_q_4</a><br>Synced 5 W&B file(s), 0 media file(s), 0 artifact file(s) and 0 other file(s)"
            ]
          },
          "metadata": {}
        },
        {
          "output_type": "display_data",
          "data": {
            "text/plain": [
              "<IPython.core.display.HTML object>"
            ],
            "text/html": [
              "Find logs at: <code>./wandb/run-20250309_192309-3b3h62qy/logs</code>"
            ]
          },
          "metadata": {}
        },
        {
          "output_type": "stream",
          "name": "stderr",
          "text": [
            "\u001b[34m\u001b[1mwandb\u001b[0m: Agent Starting Run: ayb5ef3b with config:\n",
            "\u001b[34m\u001b[1mwandb\u001b[0m: \tactivation: ReLU\n",
            "\u001b[34m\u001b[1mwandb\u001b[0m: \tbatch_size: 16\n",
            "\u001b[34m\u001b[1mwandb\u001b[0m: \tepochs: 5\n",
            "\u001b[34m\u001b[1mwandb\u001b[0m: \thidden_size: 32\n",
            "\u001b[34m\u001b[1mwandb\u001b[0m: \tlearning_rate: 0.001\n",
            "\u001b[34m\u001b[1mwandb\u001b[0m: \tnum_layers: 4\n",
            "\u001b[34m\u001b[1mwandb\u001b[0m: \toptimizer: adam\n",
            "\u001b[34m\u001b[1mwandb\u001b[0m: \tweight_decay: 0\n",
            "\u001b[34m\u001b[1mwandb\u001b[0m: \tweight_init: random\n"
          ]
        },
        {
          "output_type": "display_data",
          "data": {
            "text/plain": [
              "<IPython.core.display.HTML object>"
            ],
            "text/html": [
              "Tracking run with wandb version 0.19.7"
            ]
          },
          "metadata": {}
        },
        {
          "output_type": "display_data",
          "data": {
            "text/plain": [
              "<IPython.core.display.HTML object>"
            ],
            "text/html": [
              "Run data is saved locally in <code>/content/wandb/run-20250309_192350-ayb5ef3b</code>"
            ]
          },
          "metadata": {}
        },
        {
          "output_type": "display_data",
          "data": {
            "text/plain": [
              "<IPython.core.display.HTML object>"
            ],
            "text/html": [
              "Syncing run <strong><a href='https://wandb.ai/arunangshudutta218-iitm/dl_assgn_1_q_4/runs/ayb5ef3b' target=\"_blank\">warm-sweep-3</a></strong> to <a href='https://wandb.ai/arunangshudutta218-iitm/dl_assgn_1_q_4' target=\"_blank\">Weights & Biases</a> (<a href='https://wandb.me/developer-guide' target=\"_blank\">docs</a>)<br>Sweep page: <a href='https://wandb.ai/arunangshudutta218-iitm/dl_assgn_1_q_4/sweeps/sdlyh3ti' target=\"_blank\">https://wandb.ai/arunangshudutta218-iitm/dl_assgn_1_q_4/sweeps/sdlyh3ti</a>"
            ]
          },
          "metadata": {}
        },
        {
          "output_type": "display_data",
          "data": {
            "text/plain": [
              "<IPython.core.display.HTML object>"
            ],
            "text/html": [
              " View project at <a href='https://wandb.ai/arunangshudutta218-iitm/dl_assgn_1_q_4' target=\"_blank\">https://wandb.ai/arunangshudutta218-iitm/dl_assgn_1_q_4</a>"
            ]
          },
          "metadata": {}
        },
        {
          "output_type": "display_data",
          "data": {
            "text/plain": [
              "<IPython.core.display.HTML object>"
            ],
            "text/html": [
              " View sweep at <a href='https://wandb.ai/arunangshudutta218-iitm/dl_assgn_1_q_4/sweeps/sdlyh3ti' target=\"_blank\">https://wandb.ai/arunangshudutta218-iitm/dl_assgn_1_q_4/sweeps/sdlyh3ti</a>"
            ]
          },
          "metadata": {}
        },
        {
          "output_type": "display_data",
          "data": {
            "text/plain": [
              "<IPython.core.display.HTML object>"
            ],
            "text/html": [
              " View run at <a href='https://wandb.ai/arunangshudutta218-iitm/dl_assgn_1_q_4/runs/ayb5ef3b' target=\"_blank\">https://wandb.ai/arunangshudutta218-iitm/dl_assgn_1_q_4/runs/ayb5ef3b</a>"
            ]
          },
          "metadata": {}
        },
        {
          "output_type": "stream",
          "name": "stdout",
          "text": [
            "2625.0\n"
          ]
        },
        {
          "output_type": "stream",
          "name": "stderr",
          "text": [
            "100%|██████████| 2625/2625 [00:04<00:00, 617.18it/s]\n",
            "100%|██████████| 2625/2625 [00:05<00:00, 517.91it/s]\n",
            "100%|██████████| 2625/2625 [00:05<00:00, 473.11it/s]\n",
            "100%|██████████| 2625/2625 [00:04<00:00, 601.14it/s]\n",
            "100%|██████████| 2625/2625 [00:06<00:00, 402.65it/s]\n"
          ]
        },
        {
          "output_type": "display_data",
          "data": {
            "text/plain": [
              "<IPython.core.display.HTML object>"
            ],
            "text/html": []
          },
          "metadata": {}
        },
        {
          "output_type": "display_data",
          "data": {
            "text/plain": [
              "<IPython.core.display.HTML object>"
            ],
            "text/html": [
              "<br>    <style><br>        .wandb-row {<br>            display: flex;<br>            flex-direction: row;<br>            flex-wrap: wrap;<br>            justify-content: flex-start;<br>            width: 100%;<br>        }<br>        .wandb-col {<br>            display: flex;<br>            flex-direction: column;<br>            flex-basis: 100%;<br>            flex: 1;<br>            padding: 10px;<br>        }<br>    </style><br><div class=\"wandb-row\"><div class=\"wandb-col\"><h3>Run history:</h3><br/><table class=\"wandb\"><tr><td>tr_accuracy</td><td>▁▁▁▁▁</td></tr><tr><td>val_accuracy</td><td>▁▁▁▁▁</td></tr></table><br/></div><div class=\"wandb-col\"><h3>Run summary:</h3><br/><table class=\"wandb\"><tr><td>tr_accuracy</td><td>18.75</td></tr><tr><td>tr_loss</td><td>nan</td></tr><tr><td>val_accuracy</td><td>6.25</td></tr><tr><td>val_loss</td><td>nan</td></tr></table><br/></div></div>"
            ]
          },
          "metadata": {}
        },
        {
          "output_type": "display_data",
          "data": {
            "text/plain": [
              "<IPython.core.display.HTML object>"
            ],
            "text/html": [
              " View run <strong style=\"color:#cdcd00\">e_5_hl_4_hs_32_lr_0.001_opt_adam_bs_16_init_random_ac_ReLU_l2_0</strong> at: <a href='https://wandb.ai/arunangshudutta218-iitm/dl_assgn_1_q_4/runs/ayb5ef3b' target=\"_blank\">https://wandb.ai/arunangshudutta218-iitm/dl_assgn_1_q_4/runs/ayb5ef3b</a><br> View project at: <a href='https://wandb.ai/arunangshudutta218-iitm/dl_assgn_1_q_4' target=\"_blank\">https://wandb.ai/arunangshudutta218-iitm/dl_assgn_1_q_4</a><br>Synced 5 W&B file(s), 0 media file(s), 0 artifact file(s) and 0 other file(s)"
            ]
          },
          "metadata": {}
        },
        {
          "output_type": "display_data",
          "data": {
            "text/plain": [
              "<IPython.core.display.HTML object>"
            ],
            "text/html": [
              "Find logs at: <code>./wandb/run-20250309_192350-ayb5ef3b/logs</code>"
            ]
          },
          "metadata": {}
        },
        {
          "output_type": "stream",
          "name": "stderr",
          "text": [
            "\u001b[34m\u001b[1mwandb\u001b[0m: Sweep Agent: Waiting for job.\n",
            "\u001b[34m\u001b[1mwandb\u001b[0m: Job received.\n",
            "\u001b[34m\u001b[1mwandb\u001b[0m: Agent Starting Run: czi4a04j with config:\n",
            "\u001b[34m\u001b[1mwandb\u001b[0m: \tactivation: tanh\n",
            "\u001b[34m\u001b[1mwandb\u001b[0m: \tbatch_size: 16\n",
            "\u001b[34m\u001b[1mwandb\u001b[0m: \tepochs: 10\n",
            "\u001b[34m\u001b[1mwandb\u001b[0m: \thidden_size: 32\n",
            "\u001b[34m\u001b[1mwandb\u001b[0m: \tlearning_rate: 0.0001\n",
            "\u001b[34m\u001b[1mwandb\u001b[0m: \tnum_layers: 3\n",
            "\u001b[34m\u001b[1mwandb\u001b[0m: \toptimizer: sgd\n",
            "\u001b[34m\u001b[1mwandb\u001b[0m: \tweight_decay: 0\n",
            "\u001b[34m\u001b[1mwandb\u001b[0m: \tweight_init: Xavier\n"
          ]
        },
        {
          "output_type": "display_data",
          "data": {
            "text/plain": [
              "<IPython.core.display.HTML object>"
            ],
            "text/html": [
              "Tracking run with wandb version 0.19.7"
            ]
          },
          "metadata": {}
        },
        {
          "output_type": "display_data",
          "data": {
            "text/plain": [
              "<IPython.core.display.HTML object>"
            ],
            "text/html": [
              "Run data is saved locally in <code>/content/wandb/run-20250309_192431-czi4a04j</code>"
            ]
          },
          "metadata": {}
        },
        {
          "output_type": "display_data",
          "data": {
            "text/plain": [
              "<IPython.core.display.HTML object>"
            ],
            "text/html": [
              "Syncing run <strong><a href='https://wandb.ai/arunangshudutta218-iitm/dl_assgn_1_q_4/runs/czi4a04j' target=\"_blank\">silvery-sweep-4</a></strong> to <a href='https://wandb.ai/arunangshudutta218-iitm/dl_assgn_1_q_4' target=\"_blank\">Weights & Biases</a> (<a href='https://wandb.me/developer-guide' target=\"_blank\">docs</a>)<br>Sweep page: <a href='https://wandb.ai/arunangshudutta218-iitm/dl_assgn_1_q_4/sweeps/sdlyh3ti' target=\"_blank\">https://wandb.ai/arunangshudutta218-iitm/dl_assgn_1_q_4/sweeps/sdlyh3ti</a>"
            ]
          },
          "metadata": {}
        },
        {
          "output_type": "display_data",
          "data": {
            "text/plain": [
              "<IPython.core.display.HTML object>"
            ],
            "text/html": [
              " View project at <a href='https://wandb.ai/arunangshudutta218-iitm/dl_assgn_1_q_4' target=\"_blank\">https://wandb.ai/arunangshudutta218-iitm/dl_assgn_1_q_4</a>"
            ]
          },
          "metadata": {}
        },
        {
          "output_type": "display_data",
          "data": {
            "text/plain": [
              "<IPython.core.display.HTML object>"
            ],
            "text/html": [
              " View sweep at <a href='https://wandb.ai/arunangshudutta218-iitm/dl_assgn_1_q_4/sweeps/sdlyh3ti' target=\"_blank\">https://wandb.ai/arunangshudutta218-iitm/dl_assgn_1_q_4/sweeps/sdlyh3ti</a>"
            ]
          },
          "metadata": {}
        },
        {
          "output_type": "display_data",
          "data": {
            "text/plain": [
              "<IPython.core.display.HTML object>"
            ],
            "text/html": [
              " View run at <a href='https://wandb.ai/arunangshudutta218-iitm/dl_assgn_1_q_4/runs/czi4a04j' target=\"_blank\">https://wandb.ai/arunangshudutta218-iitm/dl_assgn_1_q_4/runs/czi4a04j</a>"
            ]
          },
          "metadata": {}
        },
        {
          "output_type": "stream",
          "name": "stdout",
          "text": [
            "2625.0\n"
          ]
        },
        {
          "output_type": "stream",
          "name": "stderr",
          "text": [
            "100%|██████████| 2625/2625 [00:02<00:00, 1099.00it/s]\n",
            "100%|██████████| 2625/2625 [00:02<00:00, 1041.77it/s]\n",
            "100%|██████████| 2625/2625 [00:02<00:00, 913.08it/s]\n",
            "100%|██████████| 2625/2625 [00:04<00:00, 608.22it/s] \n",
            "100%|██████████| 2625/2625 [00:02<00:00, 1042.87it/s]\n",
            "100%|██████████| 2625/2625 [00:02<00:00, 1072.11it/s]\n",
            "100%|██████████| 2625/2625 [00:02<00:00, 984.84it/s]\n",
            "100%|██████████| 2625/2625 [00:04<00:00, 623.81it/s] \n",
            "100%|██████████| 2625/2625 [00:02<00:00, 1044.04it/s]\n",
            "100%|██████████| 2625/2625 [00:02<00:00, 1057.45it/s]\n"
          ]
        },
        {
          "output_type": "display_data",
          "data": {
            "text/plain": [
              "<IPython.core.display.HTML object>"
            ],
            "text/html": []
          },
          "metadata": {}
        },
        {
          "output_type": "display_data",
          "data": {
            "text/plain": [
              "<IPython.core.display.HTML object>"
            ],
            "text/html": [
              "<br>    <style><br>        .wandb-row {<br>            display: flex;<br>            flex-direction: row;<br>            flex-wrap: wrap;<br>            justify-content: flex-start;<br>            width: 100%;<br>        }<br>        .wandb-col {<br>            display: flex;<br>            flex-direction: column;<br>            flex-basis: 100%;<br>            flex: 1;<br>            padding: 10px;<br>        }<br>    </style><br><div class=\"wandb-row\"><div class=\"wandb-col\"><h3>Run history:</h3><br/><table class=\"wandb\"><tr><td>tr_accuracy</td><td>▁▄▄▄▄▇█▇▇▇</td></tr><tr><td>tr_loss</td><td>█▇▅▄▄▃▂▂▁▁</td></tr><tr><td>val_accuracy</td><td>▁▂▃▅▆▆▇▇██</td></tr><tr><td>val_loss</td><td>█▇▅▄▄▃▂▂▁▁</td></tr></table><br/></div><div class=\"wandb-col\"><h3>Run summary:</h3><br/><table class=\"wandb\"><tr><td>tr_accuracy</td><td>62.5</td></tr><tr><td>tr_loss</td><td>1.21375</td></tr><tr><td>val_accuracy</td><td>68.75</td></tr><tr><td>val_loss</td><td>1.22209</td></tr></table><br/></div></div>"
            ]
          },
          "metadata": {}
        },
        {
          "output_type": "display_data",
          "data": {
            "text/plain": [
              "<IPython.core.display.HTML object>"
            ],
            "text/html": [
              " View run <strong style=\"color:#cdcd00\">e_10_hl_3_hs_32_lr_0.0001_opt_sgd_bs_16_init_Xavier_ac_tanh_l2_0</strong> at: <a href='https://wandb.ai/arunangshudutta218-iitm/dl_assgn_1_q_4/runs/czi4a04j' target=\"_blank\">https://wandb.ai/arunangshudutta218-iitm/dl_assgn_1_q_4/runs/czi4a04j</a><br> View project at: <a href='https://wandb.ai/arunangshudutta218-iitm/dl_assgn_1_q_4' target=\"_blank\">https://wandb.ai/arunangshudutta218-iitm/dl_assgn_1_q_4</a><br>Synced 5 W&B file(s), 0 media file(s), 0 artifact file(s) and 0 other file(s)"
            ]
          },
          "metadata": {}
        },
        {
          "output_type": "display_data",
          "data": {
            "text/plain": [
              "<IPython.core.display.HTML object>"
            ],
            "text/html": [
              "Find logs at: <code>./wandb/run-20250309_192431-czi4a04j/logs</code>"
            ]
          },
          "metadata": {}
        },
        {
          "output_type": "stream",
          "name": "stderr",
          "text": [
            "\u001b[34m\u001b[1mwandb\u001b[0m: Agent Starting Run: cmh5h7f8 with config:\n",
            "\u001b[34m\u001b[1mwandb\u001b[0m: \tactivation: sigmoid\n",
            "\u001b[34m\u001b[1mwandb\u001b[0m: \tbatch_size: 32\n",
            "\u001b[34m\u001b[1mwandb\u001b[0m: \tepochs: 10\n",
            "\u001b[34m\u001b[1mwandb\u001b[0m: \thidden_size: 128\n",
            "\u001b[34m\u001b[1mwandb\u001b[0m: \tlearning_rate: 0.001\n",
            "\u001b[34m\u001b[1mwandb\u001b[0m: \tnum_layers: 5\n",
            "\u001b[34m\u001b[1mwandb\u001b[0m: \toptimizer: momentum\n",
            "\u001b[34m\u001b[1mwandb\u001b[0m: \tweight_decay: 0.0005\n",
            "\u001b[34m\u001b[1mwandb\u001b[0m: \tweight_init: Xavier\n"
          ]
        },
        {
          "output_type": "display_data",
          "data": {
            "text/plain": [
              "<IPython.core.display.HTML object>"
            ],
            "text/html": [
              "Tracking run with wandb version 0.19.7"
            ]
          },
          "metadata": {}
        },
        {
          "output_type": "display_data",
          "data": {
            "text/plain": [
              "<IPython.core.display.HTML object>"
            ],
            "text/html": [
              "Run data is saved locally in <code>/content/wandb/run-20250309_192512-cmh5h7f8</code>"
            ]
          },
          "metadata": {}
        },
        {
          "output_type": "display_data",
          "data": {
            "text/plain": [
              "<IPython.core.display.HTML object>"
            ],
            "text/html": [
              "Syncing run <strong><a href='https://wandb.ai/arunangshudutta218-iitm/dl_assgn_1_q_4/runs/cmh5h7f8' target=\"_blank\">cerulean-sweep-5</a></strong> to <a href='https://wandb.ai/arunangshudutta218-iitm/dl_assgn_1_q_4' target=\"_blank\">Weights & Biases</a> (<a href='https://wandb.me/developer-guide' target=\"_blank\">docs</a>)<br>Sweep page: <a href='https://wandb.ai/arunangshudutta218-iitm/dl_assgn_1_q_4/sweeps/sdlyh3ti' target=\"_blank\">https://wandb.ai/arunangshudutta218-iitm/dl_assgn_1_q_4/sweeps/sdlyh3ti</a>"
            ]
          },
          "metadata": {}
        },
        {
          "output_type": "display_data",
          "data": {
            "text/plain": [
              "<IPython.core.display.HTML object>"
            ],
            "text/html": [
              " View project at <a href='https://wandb.ai/arunangshudutta218-iitm/dl_assgn_1_q_4' target=\"_blank\">https://wandb.ai/arunangshudutta218-iitm/dl_assgn_1_q_4</a>"
            ]
          },
          "metadata": {}
        },
        {
          "output_type": "display_data",
          "data": {
            "text/plain": [
              "<IPython.core.display.HTML object>"
            ],
            "text/html": [
              " View sweep at <a href='https://wandb.ai/arunangshudutta218-iitm/dl_assgn_1_q_4/sweeps/sdlyh3ti' target=\"_blank\">https://wandb.ai/arunangshudutta218-iitm/dl_assgn_1_q_4/sweeps/sdlyh3ti</a>"
            ]
          },
          "metadata": {}
        },
        {
          "output_type": "display_data",
          "data": {
            "text/plain": [
              "<IPython.core.display.HTML object>"
            ],
            "text/html": [
              " View run at <a href='https://wandb.ai/arunangshudutta218-iitm/dl_assgn_1_q_4/runs/cmh5h7f8' target=\"_blank\">https://wandb.ai/arunangshudutta218-iitm/dl_assgn_1_q_4/runs/cmh5h7f8</a>"
            ]
          },
          "metadata": {}
        },
        {
          "output_type": "stream",
          "name": "stdout",
          "text": [
            "1312.0\n"
          ]
        },
        {
          "output_type": "stream",
          "name": "stderr",
          "text": [
            "100%|██████████| 1312/1312 [00:07<00:00, 184.34it/s]\n",
            "100%|██████████| 1312/1312 [00:08<00:00, 147.13it/s]\n",
            "100%|██████████| 1312/1312 [00:09<00:00, 136.96it/s]\n",
            "100%|██████████| 1312/1312 [00:07<00:00, 181.64it/s]\n",
            "100%|██████████| 1312/1312 [00:06<00:00, 201.02it/s]\n",
            "100%|██████████| 1312/1312 [00:09<00:00, 144.16it/s]\n",
            "100%|██████████| 1312/1312 [00:08<00:00, 154.55it/s]\n",
            "100%|██████████| 1312/1312 [00:06<00:00, 194.86it/s]\n",
            "100%|██████████| 1312/1312 [00:09<00:00, 145.59it/s]\n",
            "100%|██████████| 1312/1312 [00:08<00:00, 147.23it/s]\n"
          ]
        },
        {
          "output_type": "display_data",
          "data": {
            "text/plain": [
              "<IPython.core.display.HTML object>"
            ],
            "text/html": []
          },
          "metadata": {}
        },
        {
          "output_type": "display_data",
          "data": {
            "text/plain": [
              "<IPython.core.display.HTML object>"
            ],
            "text/html": [
              "<br>    <style><br>        .wandb-row {<br>            display: flex;<br>            flex-direction: row;<br>            flex-wrap: wrap;<br>            justify-content: flex-start;<br>            width: 100%;<br>        }<br>        .wandb-col {<br>            display: flex;<br>            flex-direction: column;<br>            flex-basis: 100%;<br>            flex: 1;<br>            padding: 10px;<br>        }<br>    </style><br><div class=\"wandb-row\"><div class=\"wandb-col\"><h3>Run history:</h3><br/><table class=\"wandb\"><tr><td>tr_accuracy</td><td>▁▁▁▁▁▁▁▁▁▁</td></tr><tr><td>tr_loss</td><td>█▇▆▆▅▄▃▃▂▁</td></tr><tr><td>val_accuracy</td><td>▁▁▁▁▁▁▁▁▁▁</td></tr><tr><td>val_loss</td><td>█▇▆▆▅▄▃▃▂▁</td></tr></table><br/></div><div class=\"wandb-col\"><h3>Run summary:</h3><br/><table class=\"wandb\"><tr><td>tr_accuracy</td><td>15.625</td></tr><tr><td>tr_loss</td><td>2.3026</td></tr><tr><td>val_accuracy</td><td>3.125</td></tr><tr><td>val_loss</td><td>2.30252</td></tr></table><br/></div></div>"
            ]
          },
          "metadata": {}
        },
        {
          "output_type": "display_data",
          "data": {
            "text/plain": [
              "<IPython.core.display.HTML object>"
            ],
            "text/html": [
              " View run <strong style=\"color:#cdcd00\">e_10_hl_5_hs_128_lr_0.001_opt_momentum_bs_32_init_Xavier_ac_sigmoid_l2_0.0005</strong> at: <a href='https://wandb.ai/arunangshudutta218-iitm/dl_assgn_1_q_4/runs/cmh5h7f8' target=\"_blank\">https://wandb.ai/arunangshudutta218-iitm/dl_assgn_1_q_4/runs/cmh5h7f8</a><br> View project at: <a href='https://wandb.ai/arunangshudutta218-iitm/dl_assgn_1_q_4' target=\"_blank\">https://wandb.ai/arunangshudutta218-iitm/dl_assgn_1_q_4</a><br>Synced 5 W&B file(s), 0 media file(s), 0 artifact file(s) and 0 other file(s)"
            ]
          },
          "metadata": {}
        },
        {
          "output_type": "display_data",
          "data": {
            "text/plain": [
              "<IPython.core.display.HTML object>"
            ],
            "text/html": [
              "Find logs at: <code>./wandb/run-20250309_192512-cmh5h7f8/logs</code>"
            ]
          },
          "metadata": {}
        },
        {
          "output_type": "stream",
          "name": "stderr",
          "text": [
            "\u001b[34m\u001b[1mwandb\u001b[0m: Agent Starting Run: 5ugoi2k1 with config:\n",
            "\u001b[34m\u001b[1mwandb\u001b[0m: \tactivation: tanh\n",
            "\u001b[34m\u001b[1mwandb\u001b[0m: \tbatch_size: 32\n",
            "\u001b[34m\u001b[1mwandb\u001b[0m: \tepochs: 10\n",
            "\u001b[34m\u001b[1mwandb\u001b[0m: \thidden_size: 32\n",
            "\u001b[34m\u001b[1mwandb\u001b[0m: \tlearning_rate: 0.001\n",
            "\u001b[34m\u001b[1mwandb\u001b[0m: \tnum_layers: 4\n",
            "\u001b[34m\u001b[1mwandb\u001b[0m: \toptimizer: nadam\n",
            "\u001b[34m\u001b[1mwandb\u001b[0m: \tweight_decay: 0.5\n",
            "\u001b[34m\u001b[1mwandb\u001b[0m: \tweight_init: Xavier\n"
          ]
        },
        {
          "output_type": "display_data",
          "data": {
            "text/plain": [
              "<IPython.core.display.HTML object>"
            ],
            "text/html": [
              "Tracking run with wandb version 0.19.7"
            ]
          },
          "metadata": {}
        },
        {
          "output_type": "display_data",
          "data": {
            "text/plain": [
              "<IPython.core.display.HTML object>"
            ],
            "text/html": [
              "Run data is saved locally in <code>/content/wandb/run-20250309_192659-5ugoi2k1</code>"
            ]
          },
          "metadata": {}
        },
        {
          "output_type": "display_data",
          "data": {
            "text/plain": [
              "<IPython.core.display.HTML object>"
            ],
            "text/html": [
              "Syncing run <strong><a href='https://wandb.ai/arunangshudutta218-iitm/dl_assgn_1_q_4/runs/5ugoi2k1' target=\"_blank\">happy-sweep-6</a></strong> to <a href='https://wandb.ai/arunangshudutta218-iitm/dl_assgn_1_q_4' target=\"_blank\">Weights & Biases</a> (<a href='https://wandb.me/developer-guide' target=\"_blank\">docs</a>)<br>Sweep page: <a href='https://wandb.ai/arunangshudutta218-iitm/dl_assgn_1_q_4/sweeps/sdlyh3ti' target=\"_blank\">https://wandb.ai/arunangshudutta218-iitm/dl_assgn_1_q_4/sweeps/sdlyh3ti</a>"
            ]
          },
          "metadata": {}
        },
        {
          "output_type": "display_data",
          "data": {
            "text/plain": [
              "<IPython.core.display.HTML object>"
            ],
            "text/html": [
              " View project at <a href='https://wandb.ai/arunangshudutta218-iitm/dl_assgn_1_q_4' target=\"_blank\">https://wandb.ai/arunangshudutta218-iitm/dl_assgn_1_q_4</a>"
            ]
          },
          "metadata": {}
        },
        {
          "output_type": "display_data",
          "data": {
            "text/plain": [
              "<IPython.core.display.HTML object>"
            ],
            "text/html": [
              " View sweep at <a href='https://wandb.ai/arunangshudutta218-iitm/dl_assgn_1_q_4/sweeps/sdlyh3ti' target=\"_blank\">https://wandb.ai/arunangshudutta218-iitm/dl_assgn_1_q_4/sweeps/sdlyh3ti</a>"
            ]
          },
          "metadata": {}
        },
        {
          "output_type": "display_data",
          "data": {
            "text/plain": [
              "<IPython.core.display.HTML object>"
            ],
            "text/html": [
              " View run at <a href='https://wandb.ai/arunangshudutta218-iitm/dl_assgn_1_q_4/runs/5ugoi2k1' target=\"_blank\">https://wandb.ai/arunangshudutta218-iitm/dl_assgn_1_q_4/runs/5ugoi2k1</a>"
            ]
          },
          "metadata": {}
        },
        {
          "output_type": "stream",
          "name": "stdout",
          "text": [
            "1312.0\n"
          ]
        },
        {
          "output_type": "stream",
          "name": "stderr",
          "text": [
            "100%|██████████| 1312/1312 [00:04<00:00, 317.45it/s]\n",
            "100%|██████████| 1312/1312 [00:04<00:00, 300.33it/s]\n",
            "100%|██████████| 1312/1312 [00:03<00:00, 355.67it/s]\n",
            "100%|██████████| 1312/1312 [00:04<00:00, 279.02it/s]\n",
            "100%|██████████| 1312/1312 [00:03<00:00, 359.13it/s]\n",
            "100%|██████████| 1312/1312 [00:03<00:00, 391.36it/s]\n",
            "100%|██████████| 1312/1312 [00:05<00:00, 245.84it/s]\n",
            "100%|██████████| 1312/1312 [00:05<00:00, 224.84it/s]\n",
            "100%|██████████| 1312/1312 [00:04<00:00, 299.57it/s]\n",
            "100%|██████████| 1312/1312 [00:04<00:00, 309.44it/s]\n"
          ]
        },
        {
          "output_type": "display_data",
          "data": {
            "text/plain": [
              "<IPython.core.display.HTML object>"
            ],
            "text/html": []
          },
          "metadata": {}
        },
        {
          "output_type": "display_data",
          "data": {
            "text/plain": [
              "<IPython.core.display.HTML object>"
            ],
            "text/html": [
              "<br>    <style><br>        .wandb-row {<br>            display: flex;<br>            flex-direction: row;<br>            flex-wrap: wrap;<br>            justify-content: flex-start;<br>            width: 100%;<br>        }<br>        .wandb-col {<br>            display: flex;<br>            flex-direction: column;<br>            flex-basis: 100%;<br>            flex: 1;<br>            padding: 10px;<br>        }<br>    </style><br><div class=\"wandb-row\"><div class=\"wandb-col\"><h3>Run history:</h3><br/><table class=\"wandb\"><tr><td>tr_accuracy</td><td>█▁▁▁▁▁▁▁▁▁</td></tr><tr><td>tr_loss</td><td>█▆▅▄▃▂▂▂▁▁</td></tr><tr><td>val_accuracy</td><td>▁▁▁▁▁▁▁▁▁▁</td></tr><tr><td>val_loss</td><td>█▆▅▄▃▂▂▂▁▁</td></tr></table><br/></div><div class=\"wandb-col\"><h3>Run summary:</h3><br/><table class=\"wandb\"><tr><td>tr_accuracy</td><td>78.125</td></tr><tr><td>tr_loss</td><td>0.54632</td></tr><tr><td>val_accuracy</td><td>87.5</td></tr><tr><td>val_loss</td><td>0.55066</td></tr></table><br/></div></div>"
            ]
          },
          "metadata": {}
        },
        {
          "output_type": "display_data",
          "data": {
            "text/plain": [
              "<IPython.core.display.HTML object>"
            ],
            "text/html": [
              " View run <strong style=\"color:#cdcd00\">e_10_hl_4_hs_32_lr_0.001_opt_nadam_bs_32_init_Xavier_ac_tanh_l2_0.5</strong> at: <a href='https://wandb.ai/arunangshudutta218-iitm/dl_assgn_1_q_4/runs/5ugoi2k1' target=\"_blank\">https://wandb.ai/arunangshudutta218-iitm/dl_assgn_1_q_4/runs/5ugoi2k1</a><br> View project at: <a href='https://wandb.ai/arunangshudutta218-iitm/dl_assgn_1_q_4' target=\"_blank\">https://wandb.ai/arunangshudutta218-iitm/dl_assgn_1_q_4</a><br>Synced 5 W&B file(s), 0 media file(s), 0 artifact file(s) and 0 other file(s)"
            ]
          },
          "metadata": {}
        },
        {
          "output_type": "display_data",
          "data": {
            "text/plain": [
              "<IPython.core.display.HTML object>"
            ],
            "text/html": [
              "Find logs at: <code>./wandb/run-20250309_192659-5ugoi2k1/logs</code>"
            ]
          },
          "metadata": {}
        },
        {
          "output_type": "stream",
          "name": "stderr",
          "text": [
            "\u001b[34m\u001b[1mwandb\u001b[0m: Agent Starting Run: e5chhmww with config:\n",
            "\u001b[34m\u001b[1mwandb\u001b[0m: \tactivation: tanh\n",
            "\u001b[34m\u001b[1mwandb\u001b[0m: \tbatch_size: 16\n",
            "\u001b[34m\u001b[1mwandb\u001b[0m: \tepochs: 10\n",
            "\u001b[34m\u001b[1mwandb\u001b[0m: \thidden_size: 64\n",
            "\u001b[34m\u001b[1mwandb\u001b[0m: \tlearning_rate: 0.0001\n",
            "\u001b[34m\u001b[1mwandb\u001b[0m: \tnum_layers: 5\n",
            "\u001b[34m\u001b[1mwandb\u001b[0m: \toptimizer: adam\n",
            "\u001b[34m\u001b[1mwandb\u001b[0m: \tweight_decay: 0\n",
            "\u001b[34m\u001b[1mwandb\u001b[0m: \tweight_init: Xavier\n"
          ]
        },
        {
          "output_type": "display_data",
          "data": {
            "text/plain": [
              "<IPython.core.display.HTML object>"
            ],
            "text/html": [
              "Tracking run with wandb version 0.19.7"
            ]
          },
          "metadata": {}
        },
        {
          "output_type": "display_data",
          "data": {
            "text/plain": [
              "<IPython.core.display.HTML object>"
            ],
            "text/html": [
              "Run data is saved locally in <code>/content/wandb/run-20250309_192800-e5chhmww</code>"
            ]
          },
          "metadata": {}
        },
        {
          "output_type": "display_data",
          "data": {
            "text/plain": [
              "<IPython.core.display.HTML object>"
            ],
            "text/html": [
              "Syncing run <strong><a href='https://wandb.ai/arunangshudutta218-iitm/dl_assgn_1_q_4/runs/e5chhmww' target=\"_blank\">chocolate-sweep-7</a></strong> to <a href='https://wandb.ai/arunangshudutta218-iitm/dl_assgn_1_q_4' target=\"_blank\">Weights & Biases</a> (<a href='https://wandb.me/developer-guide' target=\"_blank\">docs</a>)<br>Sweep page: <a href='https://wandb.ai/arunangshudutta218-iitm/dl_assgn_1_q_4/sweeps/sdlyh3ti' target=\"_blank\">https://wandb.ai/arunangshudutta218-iitm/dl_assgn_1_q_4/sweeps/sdlyh3ti</a>"
            ]
          },
          "metadata": {}
        },
        {
          "output_type": "display_data",
          "data": {
            "text/plain": [
              "<IPython.core.display.HTML object>"
            ],
            "text/html": [
              " View project at <a href='https://wandb.ai/arunangshudutta218-iitm/dl_assgn_1_q_4' target=\"_blank\">https://wandb.ai/arunangshudutta218-iitm/dl_assgn_1_q_4</a>"
            ]
          },
          "metadata": {}
        },
        {
          "output_type": "display_data",
          "data": {
            "text/plain": [
              "<IPython.core.display.HTML object>"
            ],
            "text/html": [
              " View sweep at <a href='https://wandb.ai/arunangshudutta218-iitm/dl_assgn_1_q_4/sweeps/sdlyh3ti' target=\"_blank\">https://wandb.ai/arunangshudutta218-iitm/dl_assgn_1_q_4/sweeps/sdlyh3ti</a>"
            ]
          },
          "metadata": {}
        },
        {
          "output_type": "display_data",
          "data": {
            "text/plain": [
              "<IPython.core.display.HTML object>"
            ],
            "text/html": [
              " View run at <a href='https://wandb.ai/arunangshudutta218-iitm/dl_assgn_1_q_4/runs/e5chhmww' target=\"_blank\">https://wandb.ai/arunangshudutta218-iitm/dl_assgn_1_q_4/runs/e5chhmww</a>"
            ]
          },
          "metadata": {}
        },
        {
          "output_type": "stream",
          "name": "stdout",
          "text": [
            "2625.0\n"
          ]
        },
        {
          "output_type": "stream",
          "name": "stderr",
          "text": [
            "100%|██████████| 2625/2625 [00:10<00:00, 239.15it/s]\n",
            "100%|██████████| 2625/2625 [00:12<00:00, 214.25it/s]\n",
            "100%|██████████| 2625/2625 [00:11<00:00, 226.73it/s]\n",
            "100%|██████████| 2625/2625 [00:11<00:00, 227.90it/s]\n",
            "100%|██████████| 2625/2625 [00:11<00:00, 223.00it/s]\n",
            "100%|██████████| 2625/2625 [00:11<00:00, 219.20it/s]\n",
            "100%|██████████| 2625/2625 [00:11<00:00, 219.67it/s]\n",
            "100%|██████████| 2625/2625 [00:11<00:00, 222.06it/s]\n",
            "100%|██████████| 2625/2625 [00:10<00:00, 253.67it/s]\n",
            "100%|██████████| 2625/2625 [00:09<00:00, 279.68it/s]\n"
          ]
        },
        {
          "output_type": "display_data",
          "data": {
            "text/plain": [
              "<IPython.core.display.HTML object>"
            ],
            "text/html": []
          },
          "metadata": {}
        },
        {
          "output_type": "display_data",
          "data": {
            "text/plain": [
              "<IPython.core.display.HTML object>"
            ],
            "text/html": [
              "<br>    <style><br>        .wandb-row {<br>            display: flex;<br>            flex-direction: row;<br>            flex-wrap: wrap;<br>            justify-content: flex-start;<br>            width: 100%;<br>        }<br>        .wandb-col {<br>            display: flex;<br>            flex-direction: column;<br>            flex-basis: 100%;<br>            flex: 1;<br>            padding: 10px;<br>        }<br>    </style><br><div class=\"wandb-row\"><div class=\"wandb-col\"><h3>Run history:</h3><br/><table class=\"wandb\"><tr><td>tr_accuracy</td><td>▁█████████</td></tr><tr><td>tr_loss</td><td>█▆▄▃▃▂▂▁▁▁</td></tr><tr><td>val_accuracy</td><td>▁▅▅▅▅▅█▅▅▅</td></tr><tr><td>val_loss</td><td>█▅▄▃▂▂▁▁▁▁</td></tr></table><br/></div><div class=\"wandb-col\"><h3>Run summary:</h3><br/><table class=\"wandb\"><tr><td>tr_accuracy</td><td>93.75</td></tr><tr><td>tr_loss</td><td>0.34221</td></tr><tr><td>val_accuracy</td><td>93.75</td></tr><tr><td>val_loss</td><td>0.38023</td></tr></table><br/></div></div>"
            ]
          },
          "metadata": {}
        },
        {
          "output_type": "display_data",
          "data": {
            "text/plain": [
              "<IPython.core.display.HTML object>"
            ],
            "text/html": [
              " View run <strong style=\"color:#cdcd00\">e_10_hl_5_hs_64_lr_0.0001_opt_adam_bs_16_init_Xavier_ac_tanh_l2_0</strong> at: <a href='https://wandb.ai/arunangshudutta218-iitm/dl_assgn_1_q_4/runs/e5chhmww' target=\"_blank\">https://wandb.ai/arunangshudutta218-iitm/dl_assgn_1_q_4/runs/e5chhmww</a><br> View project at: <a href='https://wandb.ai/arunangshudutta218-iitm/dl_assgn_1_q_4' target=\"_blank\">https://wandb.ai/arunangshudutta218-iitm/dl_assgn_1_q_4</a><br>Synced 5 W&B file(s), 0 media file(s), 0 artifact file(s) and 0 other file(s)"
            ]
          },
          "metadata": {}
        },
        {
          "output_type": "display_data",
          "data": {
            "text/plain": [
              "<IPython.core.display.HTML object>"
            ],
            "text/html": [
              "Find logs at: <code>./wandb/run-20250309_192800-e5chhmww/logs</code>"
            ]
          },
          "metadata": {}
        },
        {
          "output_type": "stream",
          "name": "stderr",
          "text": [
            "\u001b[34m\u001b[1mwandb\u001b[0m: Agent Starting Run: 1h7wlxrd with config:\n",
            "\u001b[34m\u001b[1mwandb\u001b[0m: \tactivation: tanh\n",
            "\u001b[34m\u001b[1mwandb\u001b[0m: \tbatch_size: 64\n",
            "\u001b[34m\u001b[1mwandb\u001b[0m: \tepochs: 5\n",
            "\u001b[34m\u001b[1mwandb\u001b[0m: \thidden_size: 64\n",
            "\u001b[34m\u001b[1mwandb\u001b[0m: \tlearning_rate: 0.001\n",
            "\u001b[34m\u001b[1mwandb\u001b[0m: \tnum_layers: 4\n",
            "\u001b[34m\u001b[1mwandb\u001b[0m: \toptimizer: nadam\n",
            "\u001b[34m\u001b[1mwandb\u001b[0m: \tweight_decay: 0\n",
            "\u001b[34m\u001b[1mwandb\u001b[0m: \tweight_init: random\n"
          ]
        },
        {
          "output_type": "display_data",
          "data": {
            "text/plain": [
              "<IPython.core.display.HTML object>"
            ],
            "text/html": [
              "Tracking run with wandb version 0.19.7"
            ]
          },
          "metadata": {}
        },
        {
          "output_type": "display_data",
          "data": {
            "text/plain": [
              "<IPython.core.display.HTML object>"
            ],
            "text/html": [
              "Run data is saved locally in <code>/content/wandb/run-20250309_193017-1h7wlxrd</code>"
            ]
          },
          "metadata": {}
        },
        {
          "output_type": "display_data",
          "data": {
            "text/plain": [
              "<IPython.core.display.HTML object>"
            ],
            "text/html": [
              "Syncing run <strong><a href='https://wandb.ai/arunangshudutta218-iitm/dl_assgn_1_q_4/runs/1h7wlxrd' target=\"_blank\">polar-sweep-8</a></strong> to <a href='https://wandb.ai/arunangshudutta218-iitm/dl_assgn_1_q_4' target=\"_blank\">Weights & Biases</a> (<a href='https://wandb.me/developer-guide' target=\"_blank\">docs</a>)<br>Sweep page: <a href='https://wandb.ai/arunangshudutta218-iitm/dl_assgn_1_q_4/sweeps/sdlyh3ti' target=\"_blank\">https://wandb.ai/arunangshudutta218-iitm/dl_assgn_1_q_4/sweeps/sdlyh3ti</a>"
            ]
          },
          "metadata": {}
        },
        {
          "output_type": "display_data",
          "data": {
            "text/plain": [
              "<IPython.core.display.HTML object>"
            ],
            "text/html": [
              " View project at <a href='https://wandb.ai/arunangshudutta218-iitm/dl_assgn_1_q_4' target=\"_blank\">https://wandb.ai/arunangshudutta218-iitm/dl_assgn_1_q_4</a>"
            ]
          },
          "metadata": {}
        },
        {
          "output_type": "display_data",
          "data": {
            "text/plain": [
              "<IPython.core.display.HTML object>"
            ],
            "text/html": [
              " View sweep at <a href='https://wandb.ai/arunangshudutta218-iitm/dl_assgn_1_q_4/sweeps/sdlyh3ti' target=\"_blank\">https://wandb.ai/arunangshudutta218-iitm/dl_assgn_1_q_4/sweeps/sdlyh3ti</a>"
            ]
          },
          "metadata": {}
        },
        {
          "output_type": "display_data",
          "data": {
            "text/plain": [
              "<IPython.core.display.HTML object>"
            ],
            "text/html": [
              " View run at <a href='https://wandb.ai/arunangshudutta218-iitm/dl_assgn_1_q_4/runs/1h7wlxrd' target=\"_blank\">https://wandb.ai/arunangshudutta218-iitm/dl_assgn_1_q_4/runs/1h7wlxrd</a>"
            ]
          },
          "metadata": {}
        },
        {
          "output_type": "stream",
          "name": "stdout",
          "text": [
            "656.0\n"
          ]
        },
        {
          "output_type": "stream",
          "name": "stderr",
          "text": [
            "100%|██████████| 656/656 [00:04<00:00, 151.52it/s]\n",
            "100%|██████████| 656/656 [00:06<00:00, 100.03it/s]\n",
            "100%|██████████| 656/656 [00:04<00:00, 155.99it/s]\n",
            "100%|██████████| 656/656 [00:06<00:00, 99.32it/s] \n",
            "100%|██████████| 656/656 [00:04<00:00, 158.74it/s]\n"
          ]
        },
        {
          "output_type": "display_data",
          "data": {
            "text/plain": [
              "<IPython.core.display.HTML object>"
            ],
            "text/html": []
          },
          "metadata": {}
        },
        {
          "output_type": "display_data",
          "data": {
            "text/plain": [
              "<IPython.core.display.HTML object>"
            ],
            "text/html": [
              "<br>    <style><br>        .wandb-row {<br>            display: flex;<br>            flex-direction: row;<br>            flex-wrap: wrap;<br>            justify-content: flex-start;<br>            width: 100%;<br>        }<br>        .wandb-col {<br>            display: flex;<br>            flex-direction: column;<br>            flex-basis: 100%;<br>            flex: 1;<br>            padding: 10px;<br>        }<br>    </style><br><div class=\"wandb-row\"><div class=\"wandb-col\"><h3>Run history:</h3><br/><table class=\"wandb\"><tr><td>tr_accuracy</td><td>▁▁▆▇█</td></tr><tr><td>tr_loss</td><td>█▃▂▁▁</td></tr><tr><td>val_accuracy</td><td>▁██▆▇</td></tr><tr><td>val_loss</td><td>█▃▂▁▁</td></tr></table><br/></div><div class=\"wandb-col\"><h3>Run summary:</h3><br/><table class=\"wandb\"><tr><td>tr_accuracy</td><td>75</td></tr><tr><td>tr_loss</td><td>0.84945</td></tr><tr><td>val_accuracy</td><td>67.1875</td></tr><tr><td>val_loss</td><td>0.88163</td></tr></table><br/></div></div>"
            ]
          },
          "metadata": {}
        },
        {
          "output_type": "display_data",
          "data": {
            "text/plain": [
              "<IPython.core.display.HTML object>"
            ],
            "text/html": [
              " View run <strong style=\"color:#cdcd00\">e_5_hl_4_hs_64_lr_0.001_opt_nadam_bs_64_init_random_ac_tanh_l2_0</strong> at: <a href='https://wandb.ai/arunangshudutta218-iitm/dl_assgn_1_q_4/runs/1h7wlxrd' target=\"_blank\">https://wandb.ai/arunangshudutta218-iitm/dl_assgn_1_q_4/runs/1h7wlxrd</a><br> View project at: <a href='https://wandb.ai/arunangshudutta218-iitm/dl_assgn_1_q_4' target=\"_blank\">https://wandb.ai/arunangshudutta218-iitm/dl_assgn_1_q_4</a><br>Synced 5 W&B file(s), 0 media file(s), 0 artifact file(s) and 0 other file(s)"
            ]
          },
          "metadata": {}
        },
        {
          "output_type": "display_data",
          "data": {
            "text/plain": [
              "<IPython.core.display.HTML object>"
            ],
            "text/html": [
              "Find logs at: <code>./wandb/run-20250309_193017-1h7wlxrd/logs</code>"
            ]
          },
          "metadata": {}
        },
        {
          "output_type": "stream",
          "name": "stderr",
          "text": [
            "\u001b[34m\u001b[1mwandb\u001b[0m: Agent Starting Run: j7ryc44h with config:\n",
            "\u001b[34m\u001b[1mwandb\u001b[0m: \tactivation: ReLU\n",
            "\u001b[34m\u001b[1mwandb\u001b[0m: \tbatch_size: 64\n",
            "\u001b[34m\u001b[1mwandb\u001b[0m: \tepochs: 5\n",
            "\u001b[34m\u001b[1mwandb\u001b[0m: \thidden_size: 32\n",
            "\u001b[34m\u001b[1mwandb\u001b[0m: \tlearning_rate: 0.0001\n",
            "\u001b[34m\u001b[1mwandb\u001b[0m: \tnum_layers: 4\n",
            "\u001b[34m\u001b[1mwandb\u001b[0m: \toptimizer: sgd\n",
            "\u001b[34m\u001b[1mwandb\u001b[0m: \tweight_decay: 0.5\n",
            "\u001b[34m\u001b[1mwandb\u001b[0m: \tweight_init: random\n"
          ]
        },
        {
          "output_type": "display_data",
          "data": {
            "text/plain": [
              "<IPython.core.display.HTML object>"
            ],
            "text/html": [
              "Tracking run with wandb version 0.19.7"
            ]
          },
          "metadata": {}
        },
        {
          "output_type": "display_data",
          "data": {
            "text/plain": [
              "<IPython.core.display.HTML object>"
            ],
            "text/html": [
              "Run data is saved locally in <code>/content/wandb/run-20250309_193058-j7ryc44h</code>"
            ]
          },
          "metadata": {}
        },
        {
          "output_type": "display_data",
          "data": {
            "text/plain": [
              "<IPython.core.display.HTML object>"
            ],
            "text/html": [
              "Syncing run <strong><a href='https://wandb.ai/arunangshudutta218-iitm/dl_assgn_1_q_4/runs/j7ryc44h' target=\"_blank\">divine-sweep-9</a></strong> to <a href='https://wandb.ai/arunangshudutta218-iitm/dl_assgn_1_q_4' target=\"_blank\">Weights & Biases</a> (<a href='https://wandb.me/developer-guide' target=\"_blank\">docs</a>)<br>Sweep page: <a href='https://wandb.ai/arunangshudutta218-iitm/dl_assgn_1_q_4/sweeps/sdlyh3ti' target=\"_blank\">https://wandb.ai/arunangshudutta218-iitm/dl_assgn_1_q_4/sweeps/sdlyh3ti</a>"
            ]
          },
          "metadata": {}
        },
        {
          "output_type": "display_data",
          "data": {
            "text/plain": [
              "<IPython.core.display.HTML object>"
            ],
            "text/html": [
              " View project at <a href='https://wandb.ai/arunangshudutta218-iitm/dl_assgn_1_q_4' target=\"_blank\">https://wandb.ai/arunangshudutta218-iitm/dl_assgn_1_q_4</a>"
            ]
          },
          "metadata": {}
        },
        {
          "output_type": "display_data",
          "data": {
            "text/plain": [
              "<IPython.core.display.HTML object>"
            ],
            "text/html": [
              " View sweep at <a href='https://wandb.ai/arunangshudutta218-iitm/dl_assgn_1_q_4/sweeps/sdlyh3ti' target=\"_blank\">https://wandb.ai/arunangshudutta218-iitm/dl_assgn_1_q_4/sweeps/sdlyh3ti</a>"
            ]
          },
          "metadata": {}
        },
        {
          "output_type": "display_data",
          "data": {
            "text/plain": [
              "<IPython.core.display.HTML object>"
            ],
            "text/html": [
              " View run at <a href='https://wandb.ai/arunangshudutta218-iitm/dl_assgn_1_q_4/runs/j7ryc44h' target=\"_blank\">https://wandb.ai/arunangshudutta218-iitm/dl_assgn_1_q_4/runs/j7ryc44h</a>"
            ]
          },
          "metadata": {}
        },
        {
          "output_type": "stream",
          "name": "stdout",
          "text": [
            "656.0\n"
          ]
        },
        {
          "output_type": "stream",
          "name": "stderr",
          "text": [
            "100%|██████████| 656/656 [00:01<00:00, 647.08it/s]\n",
            "100%|██████████| 656/656 [00:00<00:00, 678.36it/s]\n",
            "100%|██████████| 656/656 [00:00<00:00, 667.05it/s]\n",
            "100%|██████████| 656/656 [00:00<00:00, 728.09it/s]\n",
            "100%|██████████| 656/656 [00:00<00:00, 682.82it/s]\n"
          ]
        },
        {
          "output_type": "display_data",
          "data": {
            "text/plain": [
              "<IPython.core.display.HTML object>"
            ],
            "text/html": []
          },
          "metadata": {}
        },
        {
          "output_type": "display_data",
          "data": {
            "text/plain": [
              "<IPython.core.display.HTML object>"
            ],
            "text/html": [
              "<br>    <style><br>        .wandb-row {<br>            display: flex;<br>            flex-direction: row;<br>            flex-wrap: wrap;<br>            justify-content: flex-start;<br>            width: 100%;<br>        }<br>        .wandb-col {<br>            display: flex;<br>            flex-direction: column;<br>            flex-basis: 100%;<br>            flex: 1;<br>            padding: 10px;<br>        }<br>    </style><br><div class=\"wandb-row\"><div class=\"wandb-col\"><h3>Run history:</h3><br/><table class=\"wandb\"><tr><td>tr_accuracy</td><td>▁▁▁▁▁</td></tr><tr><td>val_accuracy</td><td>▁▁▁▁▁</td></tr></table><br/></div><div class=\"wandb-col\"><h3>Run summary:</h3><br/><table class=\"wandb\"><tr><td>tr_accuracy</td><td>12.5</td></tr><tr><td>tr_loss</td><td>nan</td></tr><tr><td>val_accuracy</td><td>6.25</td></tr><tr><td>val_loss</td><td>nan</td></tr></table><br/></div></div>"
            ]
          },
          "metadata": {}
        },
        {
          "output_type": "display_data",
          "data": {
            "text/plain": [
              "<IPython.core.display.HTML object>"
            ],
            "text/html": [
              " View run <strong style=\"color:#cdcd00\">e_5_hl_4_hs_32_lr_0.0001_opt_sgd_bs_64_init_random_ac_ReLU_l2_0.5</strong> at: <a href='https://wandb.ai/arunangshudutta218-iitm/dl_assgn_1_q_4/runs/j7ryc44h' target=\"_blank\">https://wandb.ai/arunangshudutta218-iitm/dl_assgn_1_q_4/runs/j7ryc44h</a><br> View project at: <a href='https://wandb.ai/arunangshudutta218-iitm/dl_assgn_1_q_4' target=\"_blank\">https://wandb.ai/arunangshudutta218-iitm/dl_assgn_1_q_4</a><br>Synced 5 W&B file(s), 0 media file(s), 0 artifact file(s) and 0 other file(s)"
            ]
          },
          "metadata": {}
        },
        {
          "output_type": "display_data",
          "data": {
            "text/plain": [
              "<IPython.core.display.HTML object>"
            ],
            "text/html": [
              "Find logs at: <code>./wandb/run-20250309_193058-j7ryc44h/logs</code>"
            ]
          },
          "metadata": {}
        },
        {
          "output_type": "stream",
          "name": "stderr",
          "text": [
            "\u001b[34m\u001b[1mwandb\u001b[0m: Agent Starting Run: q3st6jn5 with config:\n",
            "\u001b[34m\u001b[1mwandb\u001b[0m: \tactivation: tanh\n",
            "\u001b[34m\u001b[1mwandb\u001b[0m: \tbatch_size: 32\n",
            "\u001b[34m\u001b[1mwandb\u001b[0m: \tepochs: 5\n",
            "\u001b[34m\u001b[1mwandb\u001b[0m: \thidden_size: 128\n",
            "\u001b[34m\u001b[1mwandb\u001b[0m: \tlearning_rate: 0.001\n",
            "\u001b[34m\u001b[1mwandb\u001b[0m: \tnum_layers: 3\n",
            "\u001b[34m\u001b[1mwandb\u001b[0m: \toptimizer: nadam\n",
            "\u001b[34m\u001b[1mwandb\u001b[0m: \tweight_decay: 0.5\n",
            "\u001b[34m\u001b[1mwandb\u001b[0m: \tweight_init: Xavier\n"
          ]
        },
        {
          "output_type": "display_data",
          "data": {
            "text/plain": [
              "<IPython.core.display.HTML object>"
            ],
            "text/html": [
              "Tracking run with wandb version 0.19.7"
            ]
          },
          "metadata": {}
        },
        {
          "output_type": "display_data",
          "data": {
            "text/plain": [
              "<IPython.core.display.HTML object>"
            ],
            "text/html": [
              "Run data is saved locally in <code>/content/wandb/run-20250309_193108-q3st6jn5</code>"
            ]
          },
          "metadata": {}
        },
        {
          "output_type": "display_data",
          "data": {
            "text/plain": [
              "<IPython.core.display.HTML object>"
            ],
            "text/html": [
              "Syncing run <strong><a href='https://wandb.ai/arunangshudutta218-iitm/dl_assgn_1_q_4/runs/q3st6jn5' target=\"_blank\">celestial-sweep-10</a></strong> to <a href='https://wandb.ai/arunangshudutta218-iitm/dl_assgn_1_q_4' target=\"_blank\">Weights & Biases</a> (<a href='https://wandb.me/developer-guide' target=\"_blank\">docs</a>)<br>Sweep page: <a href='https://wandb.ai/arunangshudutta218-iitm/dl_assgn_1_q_4/sweeps/sdlyh3ti' target=\"_blank\">https://wandb.ai/arunangshudutta218-iitm/dl_assgn_1_q_4/sweeps/sdlyh3ti</a>"
            ]
          },
          "metadata": {}
        },
        {
          "output_type": "display_data",
          "data": {
            "text/plain": [
              "<IPython.core.display.HTML object>"
            ],
            "text/html": [
              " View project at <a href='https://wandb.ai/arunangshudutta218-iitm/dl_assgn_1_q_4' target=\"_blank\">https://wandb.ai/arunangshudutta218-iitm/dl_assgn_1_q_4</a>"
            ]
          },
          "metadata": {}
        },
        {
          "output_type": "display_data",
          "data": {
            "text/plain": [
              "<IPython.core.display.HTML object>"
            ],
            "text/html": [
              " View sweep at <a href='https://wandb.ai/arunangshudutta218-iitm/dl_assgn_1_q_4/sweeps/sdlyh3ti' target=\"_blank\">https://wandb.ai/arunangshudutta218-iitm/dl_assgn_1_q_4/sweeps/sdlyh3ti</a>"
            ]
          },
          "metadata": {}
        },
        {
          "output_type": "display_data",
          "data": {
            "text/plain": [
              "<IPython.core.display.HTML object>"
            ],
            "text/html": [
              " View run at <a href='https://wandb.ai/arunangshudutta218-iitm/dl_assgn_1_q_4/runs/q3st6jn5' target=\"_blank\">https://wandb.ai/arunangshudutta218-iitm/dl_assgn_1_q_4/runs/q3st6jn5</a>"
            ]
          },
          "metadata": {}
        },
        {
          "output_type": "stream",
          "name": "stdout",
          "text": [
            "1312.0\n"
          ]
        },
        {
          "output_type": "stream",
          "name": "stderr",
          "text": [
            "100%|██████████| 1312/1312 [00:12<00:00, 101.33it/s]\n",
            "100%|██████████| 1312/1312 [00:12<00:00, 107.76it/s]\n",
            "100%|██████████| 1312/1312 [00:12<00:00, 109.20it/s]\n",
            "100%|██████████| 1312/1312 [00:12<00:00, 105.25it/s]\n",
            "100%|██████████| 1312/1312 [00:12<00:00, 108.75it/s]\n"
          ]
        },
        {
          "output_type": "display_data",
          "data": {
            "text/plain": [
              "<IPython.core.display.HTML object>"
            ],
            "text/html": []
          },
          "metadata": {}
        },
        {
          "output_type": "display_data",
          "data": {
            "text/plain": [
              "<IPython.core.display.HTML object>"
            ],
            "text/html": [
              "<br>    <style><br>        .wandb-row {<br>            display: flex;<br>            flex-direction: row;<br>            flex-wrap: wrap;<br>            justify-content: flex-start;<br>            width: 100%;<br>        }<br>        .wandb-col {<br>            display: flex;<br>            flex-direction: column;<br>            flex-basis: 100%;<br>            flex: 1;<br>            padding: 10px;<br>        }<br>    </style><br><div class=\"wandb-row\"><div class=\"wandb-col\"><h3>Run history:</h3><br/><table class=\"wandb\"><tr><td>tr_accuracy</td><td>█▁███</td></tr><tr><td>tr_loss</td><td>█▅▂▂▁</td></tr><tr><td>val_accuracy</td><td>▁▁▁▁▁</td></tr><tr><td>val_loss</td><td>█▅▂▂▁</td></tr></table><br/></div><div class=\"wandb-col\"><h3>Run summary:</h3><br/><table class=\"wandb\"><tr><td>tr_accuracy</td><td>75</td></tr><tr><td>tr_loss</td><td>0.56684</td></tr><tr><td>val_accuracy</td><td>84.375</td></tr><tr><td>val_loss</td><td>0.5695</td></tr></table><br/></div></div>"
            ]
          },
          "metadata": {}
        },
        {
          "output_type": "display_data",
          "data": {
            "text/plain": [
              "<IPython.core.display.HTML object>"
            ],
            "text/html": [
              " View run <strong style=\"color:#cdcd00\">e_5_hl_3_hs_128_lr_0.001_opt_nadam_bs_32_init_Xavier_ac_tanh_l2_0.5</strong> at: <a href='https://wandb.ai/arunangshudutta218-iitm/dl_assgn_1_q_4/runs/q3st6jn5' target=\"_blank\">https://wandb.ai/arunangshudutta218-iitm/dl_assgn_1_q_4/runs/q3st6jn5</a><br> View project at: <a href='https://wandb.ai/arunangshudutta218-iitm/dl_assgn_1_q_4' target=\"_blank\">https://wandb.ai/arunangshudutta218-iitm/dl_assgn_1_q_4</a><br>Synced 5 W&B file(s), 0 media file(s), 0 artifact file(s) and 0 other file(s)"
            ]
          },
          "metadata": {}
        },
        {
          "output_type": "display_data",
          "data": {
            "text/plain": [
              "<IPython.core.display.HTML object>"
            ],
            "text/html": [
              "Find logs at: <code>./wandb/run-20250309_193108-q3st6jn5/logs</code>"
            ]
          },
          "metadata": {}
        },
        {
          "output_type": "stream",
          "name": "stderr",
          "text": [
            "\u001b[34m\u001b[1mwandb\u001b[0m: Sweep Agent: Waiting for job.\n",
            "\u001b[34m\u001b[1mwandb\u001b[0m: Job received.\n",
            "\u001b[34m\u001b[1mwandb\u001b[0m: Agent Starting Run: batvg02p with config:\n",
            "\u001b[34m\u001b[1mwandb\u001b[0m: \tactivation: ReLU\n",
            "\u001b[34m\u001b[1mwandb\u001b[0m: \tbatch_size: 32\n",
            "\u001b[34m\u001b[1mwandb\u001b[0m: \tepochs: 5\n",
            "\u001b[34m\u001b[1mwandb\u001b[0m: \thidden_size: 32\n",
            "\u001b[34m\u001b[1mwandb\u001b[0m: \tlearning_rate: 0.0001\n",
            "\u001b[34m\u001b[1mwandb\u001b[0m: \tnum_layers: 5\n",
            "\u001b[34m\u001b[1mwandb\u001b[0m: \toptimizer: nadam\n",
            "\u001b[34m\u001b[1mwandb\u001b[0m: \tweight_decay: 0\n",
            "\u001b[34m\u001b[1mwandb\u001b[0m: \tweight_init: random\n"
          ]
        },
        {
          "output_type": "display_data",
          "data": {
            "text/plain": [
              "<IPython.core.display.HTML object>"
            ],
            "text/html": [
              "Tracking run with wandb version 0.19.7"
            ]
          },
          "metadata": {}
        },
        {
          "output_type": "display_data",
          "data": {
            "text/plain": [
              "<IPython.core.display.HTML object>"
            ],
            "text/html": [
              "Run data is saved locally in <code>/content/wandb/run-20250309_193234-batvg02p</code>"
            ]
          },
          "metadata": {}
        },
        {
          "output_type": "display_data",
          "data": {
            "text/plain": [
              "<IPython.core.display.HTML object>"
            ],
            "text/html": [
              "Syncing run <strong><a href='https://wandb.ai/arunangshudutta218-iitm/dl_assgn_1_q_4/runs/batvg02p' target=\"_blank\">misty-sweep-11</a></strong> to <a href='https://wandb.ai/arunangshudutta218-iitm/dl_assgn_1_q_4' target=\"_blank\">Weights & Biases</a> (<a href='https://wandb.me/developer-guide' target=\"_blank\">docs</a>)<br>Sweep page: <a href='https://wandb.ai/arunangshudutta218-iitm/dl_assgn_1_q_4/sweeps/sdlyh3ti' target=\"_blank\">https://wandb.ai/arunangshudutta218-iitm/dl_assgn_1_q_4/sweeps/sdlyh3ti</a>"
            ]
          },
          "metadata": {}
        },
        {
          "output_type": "display_data",
          "data": {
            "text/plain": [
              "<IPython.core.display.HTML object>"
            ],
            "text/html": [
              " View project at <a href='https://wandb.ai/arunangshudutta218-iitm/dl_assgn_1_q_4' target=\"_blank\">https://wandb.ai/arunangshudutta218-iitm/dl_assgn_1_q_4</a>"
            ]
          },
          "metadata": {}
        },
        {
          "output_type": "display_data",
          "data": {
            "text/plain": [
              "<IPython.core.display.HTML object>"
            ],
            "text/html": [
              " View sweep at <a href='https://wandb.ai/arunangshudutta218-iitm/dl_assgn_1_q_4/sweeps/sdlyh3ti' target=\"_blank\">https://wandb.ai/arunangshudutta218-iitm/dl_assgn_1_q_4/sweeps/sdlyh3ti</a>"
            ]
          },
          "metadata": {}
        },
        {
          "output_type": "display_data",
          "data": {
            "text/plain": [
              "<IPython.core.display.HTML object>"
            ],
            "text/html": [
              " View run at <a href='https://wandb.ai/arunangshudutta218-iitm/dl_assgn_1_q_4/runs/batvg02p' target=\"_blank\">https://wandb.ai/arunangshudutta218-iitm/dl_assgn_1_q_4/runs/batvg02p</a>"
            ]
          },
          "metadata": {}
        },
        {
          "output_type": "stream",
          "name": "stdout",
          "text": [
            "1312.0\n"
          ]
        },
        {
          "output_type": "stream",
          "name": "stderr",
          "text": [
            "100%|██████████| 1312/1312 [00:02<00:00, 450.71it/s]\n",
            "100%|██████████| 1312/1312 [00:02<00:00, 473.52it/s]\n",
            "100%|██████████| 1312/1312 [00:05<00:00, 223.37it/s]\n",
            "100%|██████████| 1312/1312 [00:02<00:00, 452.37it/s]\n",
            "100%|██████████| 1312/1312 [00:02<00:00, 450.77it/s]\n"
          ]
        },
        {
          "output_type": "display_data",
          "data": {
            "text/plain": [
              "<IPython.core.display.HTML object>"
            ],
            "text/html": []
          },
          "metadata": {}
        },
        {
          "output_type": "display_data",
          "data": {
            "text/plain": [
              "<IPython.core.display.HTML object>"
            ],
            "text/html": [
              "<br>    <style><br>        .wandb-row {<br>            display: flex;<br>            flex-direction: row;<br>            flex-wrap: wrap;<br>            justify-content: flex-start;<br>            width: 100%;<br>        }<br>        .wandb-col {<br>            display: flex;<br>            flex-direction: column;<br>            flex-basis: 100%;<br>            flex: 1;<br>            padding: 10px;<br>        }<br>    </style><br><div class=\"wandb-row\"><div class=\"wandb-col\"><h3>Run history:</h3><br/><table class=\"wandb\"><tr><td>tr_accuracy</td><td>▁▁▁▁▁</td></tr><tr><td>val_accuracy</td><td>▁▁▁▁▁</td></tr></table><br/></div><div class=\"wandb-col\"><h3>Run summary:</h3><br/><table class=\"wandb\"><tr><td>tr_accuracy</td><td>15.625</td></tr><tr><td>tr_loss</td><td>nan</td></tr><tr><td>val_accuracy</td><td>6.25</td></tr><tr><td>val_loss</td><td>nan</td></tr></table><br/></div></div>"
            ]
          },
          "metadata": {}
        },
        {
          "output_type": "display_data",
          "data": {
            "text/plain": [
              "<IPython.core.display.HTML object>"
            ],
            "text/html": [
              " View run <strong style=\"color:#cdcd00\">e_5_hl_5_hs_32_lr_0.0001_opt_nadam_bs_32_init_random_ac_ReLU_l2_0</strong> at: <a href='https://wandb.ai/arunangshudutta218-iitm/dl_assgn_1_q_4/runs/batvg02p' target=\"_blank\">https://wandb.ai/arunangshudutta218-iitm/dl_assgn_1_q_4/runs/batvg02p</a><br> View project at: <a href='https://wandb.ai/arunangshudutta218-iitm/dl_assgn_1_q_4' target=\"_blank\">https://wandb.ai/arunangshudutta218-iitm/dl_assgn_1_q_4</a><br>Synced 5 W&B file(s), 0 media file(s), 0 artifact file(s) and 0 other file(s)"
            ]
          },
          "metadata": {}
        },
        {
          "output_type": "display_data",
          "data": {
            "text/plain": [
              "<IPython.core.display.HTML object>"
            ],
            "text/html": [
              "Find logs at: <code>./wandb/run-20250309_193234-batvg02p/logs</code>"
            ]
          },
          "metadata": {}
        },
        {
          "output_type": "stream",
          "name": "stderr",
          "text": [
            "\u001b[34m\u001b[1mwandb\u001b[0m: Agent Starting Run: rrcl1p3r with config:\n",
            "\u001b[34m\u001b[1mwandb\u001b[0m: \tactivation: sigmoid\n",
            "\u001b[34m\u001b[1mwandb\u001b[0m: \tbatch_size: 32\n",
            "\u001b[34m\u001b[1mwandb\u001b[0m: \tepochs: 10\n",
            "\u001b[34m\u001b[1mwandb\u001b[0m: \thidden_size: 32\n",
            "\u001b[34m\u001b[1mwandb\u001b[0m: \tlearning_rate: 0.0001\n",
            "\u001b[34m\u001b[1mwandb\u001b[0m: \tnum_layers: 5\n",
            "\u001b[34m\u001b[1mwandb\u001b[0m: \toptimizer: nag\n",
            "\u001b[34m\u001b[1mwandb\u001b[0m: \tweight_decay: 0\n",
            "\u001b[34m\u001b[1mwandb\u001b[0m: \tweight_init: random\n"
          ]
        },
        {
          "output_type": "display_data",
          "data": {
            "text/plain": [
              "<IPython.core.display.HTML object>"
            ],
            "text/html": [
              "Tracking run with wandb version 0.19.7"
            ]
          },
          "metadata": {}
        },
        {
          "output_type": "display_data",
          "data": {
            "text/plain": [
              "<IPython.core.display.HTML object>"
            ],
            "text/html": [
              "Run data is saved locally in <code>/content/wandb/run-20250309_193300-rrcl1p3r</code>"
            ]
          },
          "metadata": {}
        },
        {
          "output_type": "display_data",
          "data": {
            "text/plain": [
              "<IPython.core.display.HTML object>"
            ],
            "text/html": [
              "Syncing run <strong><a href='https://wandb.ai/arunangshudutta218-iitm/dl_assgn_1_q_4/runs/rrcl1p3r' target=\"_blank\">confused-sweep-12</a></strong> to <a href='https://wandb.ai/arunangshudutta218-iitm/dl_assgn_1_q_4' target=\"_blank\">Weights & Biases</a> (<a href='https://wandb.me/developer-guide' target=\"_blank\">docs</a>)<br>Sweep page: <a href='https://wandb.ai/arunangshudutta218-iitm/dl_assgn_1_q_4/sweeps/sdlyh3ti' target=\"_blank\">https://wandb.ai/arunangshudutta218-iitm/dl_assgn_1_q_4/sweeps/sdlyh3ti</a>"
            ]
          },
          "metadata": {}
        },
        {
          "output_type": "display_data",
          "data": {
            "text/plain": [
              "<IPython.core.display.HTML object>"
            ],
            "text/html": [
              " View project at <a href='https://wandb.ai/arunangshudutta218-iitm/dl_assgn_1_q_4' target=\"_blank\">https://wandb.ai/arunangshudutta218-iitm/dl_assgn_1_q_4</a>"
            ]
          },
          "metadata": {}
        },
        {
          "output_type": "display_data",
          "data": {
            "text/plain": [
              "<IPython.core.display.HTML object>"
            ],
            "text/html": [
              " View sweep at <a href='https://wandb.ai/arunangshudutta218-iitm/dl_assgn_1_q_4/sweeps/sdlyh3ti' target=\"_blank\">https://wandb.ai/arunangshudutta218-iitm/dl_assgn_1_q_4/sweeps/sdlyh3ti</a>"
            ]
          },
          "metadata": {}
        },
        {
          "output_type": "display_data",
          "data": {
            "text/plain": [
              "<IPython.core.display.HTML object>"
            ],
            "text/html": [
              " View run at <a href='https://wandb.ai/arunangshudutta218-iitm/dl_assgn_1_q_4/runs/rrcl1p3r' target=\"_blank\">https://wandb.ai/arunangshudutta218-iitm/dl_assgn_1_q_4/runs/rrcl1p3r</a>"
            ]
          },
          "metadata": {}
        },
        {
          "output_type": "stream",
          "name": "stdout",
          "text": [
            "1312.0\n"
          ]
        },
        {
          "output_type": "stream",
          "name": "stderr",
          "text": [
            "100%|██████████| 1312/1312 [00:02<00:00, 573.52it/s]\n",
            "100%|██████████| 1312/1312 [00:02<00:00, 570.80it/s]\n",
            "100%|██████████| 1312/1312 [00:02<00:00, 508.35it/s]\n",
            "100%|██████████| 1312/1312 [00:04<00:00, 306.43it/s]\n",
            "100%|██████████| 1312/1312 [00:02<00:00, 534.67it/s]\n",
            "100%|██████████| 1312/1312 [00:02<00:00, 586.64it/s]\n",
            "100%|██████████| 1312/1312 [00:02<00:00, 600.58it/s]\n",
            "100%|██████████| 1312/1312 [00:04<00:00, 302.74it/s]\n",
            "100%|██████████| 1312/1312 [00:02<00:00, 584.06it/s]\n",
            "100%|██████████| 1312/1312 [00:02<00:00, 581.18it/s]\n"
          ]
        },
        {
          "output_type": "display_data",
          "data": {
            "text/plain": [
              "<IPython.core.display.HTML object>"
            ],
            "text/html": []
          },
          "metadata": {}
        },
        {
          "output_type": "display_data",
          "data": {
            "text/plain": [
              "<IPython.core.display.HTML object>"
            ],
            "text/html": [
              "<br>    <style><br>        .wandb-row {<br>            display: flex;<br>            flex-direction: row;<br>            flex-wrap: wrap;<br>            justify-content: flex-start;<br>            width: 100%;<br>        }<br>        .wandb-col {<br>            display: flex;<br>            flex-direction: column;<br>            flex-basis: 100%;<br>            flex: 1;<br>            padding: 10px;<br>        }<br>    </style><br><div class=\"wandb-row\"><div class=\"wandb-col\"><h3>Run history:</h3><br/><table class=\"wandb\"><tr><td>tr_accuracy</td><td>▁▆▁▃█▃█▆██</td></tr><tr><td>tr_loss</td><td>█▆▄▄▃▂▂▁▁▁</td></tr><tr><td>val_accuracy</td><td>▁▄▄▇▇▇▇███</td></tr><tr><td>val_loss</td><td>█▅▄▃▂▂▂▁▁▁</td></tr></table><br/></div><div class=\"wandb-col\"><h3>Run summary:</h3><br/><table class=\"wandb\"><tr><td>tr_accuracy</td><td>87.5</td></tr><tr><td>tr_loss</td><td>0.3921</td></tr><tr><td>val_accuracy</td><td>93.75</td></tr><tr><td>val_loss</td><td>0.45307</td></tr></table><br/></div></div>"
            ]
          },
          "metadata": {}
        },
        {
          "output_type": "display_data",
          "data": {
            "text/plain": [
              "<IPython.core.display.HTML object>"
            ],
            "text/html": [
              " View run <strong style=\"color:#cdcd00\">e_10_hl_5_hs_32_lr_0.0001_opt_nag_bs_32_init_random_ac_sigmoid_l2_0</strong> at: <a href='https://wandb.ai/arunangshudutta218-iitm/dl_assgn_1_q_4/runs/rrcl1p3r' target=\"_blank\">https://wandb.ai/arunangshudutta218-iitm/dl_assgn_1_q_4/runs/rrcl1p3r</a><br> View project at: <a href='https://wandb.ai/arunangshudutta218-iitm/dl_assgn_1_q_4' target=\"_blank\">https://wandb.ai/arunangshudutta218-iitm/dl_assgn_1_q_4</a><br>Synced 5 W&B file(s), 0 media file(s), 0 artifact file(s) and 0 other file(s)"
            ]
          },
          "metadata": {}
        },
        {
          "output_type": "display_data",
          "data": {
            "text/plain": [
              "<IPython.core.display.HTML object>"
            ],
            "text/html": [
              "Find logs at: <code>./wandb/run-20250309_193300-rrcl1p3r/logs</code>"
            ]
          },
          "metadata": {}
        },
        {
          "output_type": "stream",
          "name": "stderr",
          "text": [
            "\u001b[34m\u001b[1mwandb\u001b[0m: Sweep Agent: Waiting for job.\n",
            "\u001b[34m\u001b[1mwandb\u001b[0m: Job received.\n",
            "\u001b[34m\u001b[1mwandb\u001b[0m: Agent Starting Run: smiwto81 with config:\n",
            "\u001b[34m\u001b[1mwandb\u001b[0m: \tactivation: sigmoid\n",
            "\u001b[34m\u001b[1mwandb\u001b[0m: \tbatch_size: 16\n",
            "\u001b[34m\u001b[1mwandb\u001b[0m: \tepochs: 10\n",
            "\u001b[34m\u001b[1mwandb\u001b[0m: \thidden_size: 128\n",
            "\u001b[34m\u001b[1mwandb\u001b[0m: \tlearning_rate: 0.0001\n",
            "\u001b[34m\u001b[1mwandb\u001b[0m: \tnum_layers: 3\n",
            "\u001b[34m\u001b[1mwandb\u001b[0m: \toptimizer: nadam\n",
            "\u001b[34m\u001b[1mwandb\u001b[0m: \tweight_decay: 0.5\n",
            "\u001b[34m\u001b[1mwandb\u001b[0m: \tweight_init: random\n"
          ]
        },
        {
          "output_type": "display_data",
          "data": {
            "text/plain": [
              "<IPython.core.display.HTML object>"
            ],
            "text/html": [
              "Tracking run with wandb version 0.19.7"
            ]
          },
          "metadata": {}
        },
        {
          "output_type": "display_data",
          "data": {
            "text/plain": [
              "<IPython.core.display.HTML object>"
            ],
            "text/html": [
              "Run data is saved locally in <code>/content/wandb/run-20250309_193346-smiwto81</code>"
            ]
          },
          "metadata": {}
        },
        {
          "output_type": "display_data",
          "data": {
            "text/plain": [
              "<IPython.core.display.HTML object>"
            ],
            "text/html": [
              "Syncing run <strong><a href='https://wandb.ai/arunangshudutta218-iitm/dl_assgn_1_q_4/runs/smiwto81' target=\"_blank\">jolly-sweep-13</a></strong> to <a href='https://wandb.ai/arunangshudutta218-iitm/dl_assgn_1_q_4' target=\"_blank\">Weights & Biases</a> (<a href='https://wandb.me/developer-guide' target=\"_blank\">docs</a>)<br>Sweep page: <a href='https://wandb.ai/arunangshudutta218-iitm/dl_assgn_1_q_4/sweeps/sdlyh3ti' target=\"_blank\">https://wandb.ai/arunangshudutta218-iitm/dl_assgn_1_q_4/sweeps/sdlyh3ti</a>"
            ]
          },
          "metadata": {}
        },
        {
          "output_type": "display_data",
          "data": {
            "text/plain": [
              "<IPython.core.display.HTML object>"
            ],
            "text/html": [
              " View project at <a href='https://wandb.ai/arunangshudutta218-iitm/dl_assgn_1_q_4' target=\"_blank\">https://wandb.ai/arunangshudutta218-iitm/dl_assgn_1_q_4</a>"
            ]
          },
          "metadata": {}
        },
        {
          "output_type": "display_data",
          "data": {
            "text/plain": [
              "<IPython.core.display.HTML object>"
            ],
            "text/html": [
              " View sweep at <a href='https://wandb.ai/arunangshudutta218-iitm/dl_assgn_1_q_4/sweeps/sdlyh3ti' target=\"_blank\">https://wandb.ai/arunangshudutta218-iitm/dl_assgn_1_q_4/sweeps/sdlyh3ti</a>"
            ]
          },
          "metadata": {}
        },
        {
          "output_type": "display_data",
          "data": {
            "text/plain": [
              "<IPython.core.display.HTML object>"
            ],
            "text/html": [
              " View run at <a href='https://wandb.ai/arunangshudutta218-iitm/dl_assgn_1_q_4/runs/smiwto81' target=\"_blank\">https://wandb.ai/arunangshudutta218-iitm/dl_assgn_1_q_4/runs/smiwto81</a>"
            ]
          },
          "metadata": {}
        },
        {
          "output_type": "stream",
          "name": "stdout",
          "text": [
            "2625.0\n"
          ]
        },
        {
          "output_type": "stream",
          "name": "stderr",
          "text": [
            "100%|██████████| 2625/2625 [00:16<00:00, 161.40it/s]\n",
            "100%|██████████| 2625/2625 [00:16<00:00, 155.86it/s]\n",
            "100%|██████████| 2625/2625 [00:16<00:00, 160.60it/s]\n",
            "100%|██████████| 2625/2625 [00:15<00:00, 170.75it/s]\n",
            "100%|██████████| 2625/2625 [00:15<00:00, 166.80it/s]\n",
            "100%|██████████| 2625/2625 [00:16<00:00, 161.61it/s]\n",
            "100%|██████████| 2625/2625 [00:20<00:00, 126.16it/s]\n",
            "100%|██████████| 2625/2625 [00:15<00:00, 166.08it/s]\n",
            "100%|██████████| 2625/2625 [00:15<00:00, 168.76it/s]\n",
            "100%|██████████| 2625/2625 [00:15<00:00, 167.34it/s]\n"
          ]
        },
        {
          "output_type": "display_data",
          "data": {
            "text/plain": [
              "<IPython.core.display.HTML object>"
            ],
            "text/html": []
          },
          "metadata": {}
        },
        {
          "output_type": "display_data",
          "data": {
            "text/plain": [
              "<IPython.core.display.HTML object>"
            ],
            "text/html": [
              "<br>    <style><br>        .wandb-row {<br>            display: flex;<br>            flex-direction: row;<br>            flex-wrap: wrap;<br>            justify-content: flex-start;<br>            width: 100%;<br>        }<br>        .wandb-col {<br>            display: flex;<br>            flex-direction: column;<br>            flex-basis: 100%;<br>            flex: 1;<br>            padding: 10px;<br>        }<br>    </style><br><div class=\"wandb-row\"><div class=\"wandb-col\"><h3>Run history:</h3><br/><table class=\"wandb\"><tr><td>tr_accuracy</td><td>█▇███▇▆▆▃▁</td></tr><tr><td>tr_loss</td><td>▆▃▁▁▁▂▄▅▇█</td></tr><tr><td>val_accuracy</td><td>▁▆▃▆████▆▃</td></tr><tr><td>val_loss</td><td>▆▃▁▁▁▂▄▅▇█</td></tr></table><br/></div><div class=\"wandb-col\"><h3>Run summary:</h3><br/><table class=\"wandb\"><tr><td>tr_accuracy</td><td>25</td></tr><tr><td>tr_loss</td><td>1.59597</td></tr><tr><td>val_accuracy</td><td>68.75</td></tr><tr><td>val_loss</td><td>1.59681</td></tr></table><br/></div></div>"
            ]
          },
          "metadata": {}
        },
        {
          "output_type": "display_data",
          "data": {
            "text/plain": [
              "<IPython.core.display.HTML object>"
            ],
            "text/html": [
              " View run <strong style=\"color:#cdcd00\">e_10_hl_3_hs_128_lr_0.0001_opt_nadam_bs_16_init_random_ac_sigmoid_l2_0.5</strong> at: <a href='https://wandb.ai/arunangshudutta218-iitm/dl_assgn_1_q_4/runs/smiwto81' target=\"_blank\">https://wandb.ai/arunangshudutta218-iitm/dl_assgn_1_q_4/runs/smiwto81</a><br> View project at: <a href='https://wandb.ai/arunangshudutta218-iitm/dl_assgn_1_q_4' target=\"_blank\">https://wandb.ai/arunangshudutta218-iitm/dl_assgn_1_q_4</a><br>Synced 5 W&B file(s), 0 media file(s), 0 artifact file(s) and 0 other file(s)"
            ]
          },
          "metadata": {}
        },
        {
          "output_type": "display_data",
          "data": {
            "text/plain": [
              "<IPython.core.display.HTML object>"
            ],
            "text/html": [
              "Find logs at: <code>./wandb/run-20250309_193346-smiwto81/logs</code>"
            ]
          },
          "metadata": {}
        },
        {
          "output_type": "stream",
          "name": "stderr",
          "text": [
            "\u001b[34m\u001b[1mwandb\u001b[0m: Agent Starting Run: s4tpli4b with config:\n",
            "\u001b[34m\u001b[1mwandb\u001b[0m: \tactivation: sigmoid\n",
            "\u001b[34m\u001b[1mwandb\u001b[0m: \tbatch_size: 64\n",
            "\u001b[34m\u001b[1mwandb\u001b[0m: \tepochs: 5\n",
            "\u001b[34m\u001b[1mwandb\u001b[0m: \thidden_size: 128\n",
            "\u001b[34m\u001b[1mwandb\u001b[0m: \tlearning_rate: 0.001\n",
            "\u001b[34m\u001b[1mwandb\u001b[0m: \tnum_layers: 4\n",
            "\u001b[34m\u001b[1mwandb\u001b[0m: \toptimizer: sgd\n",
            "\u001b[34m\u001b[1mwandb\u001b[0m: \tweight_decay: 0\n",
            "\u001b[34m\u001b[1mwandb\u001b[0m: \tweight_init: random\n"
          ]
        },
        {
          "output_type": "display_data",
          "data": {
            "text/plain": [
              "<IPython.core.display.HTML object>"
            ],
            "text/html": [
              "Tracking run with wandb version 0.19.7"
            ]
          },
          "metadata": {}
        },
        {
          "output_type": "display_data",
          "data": {
            "text/plain": [
              "<IPython.core.display.HTML object>"
            ],
            "text/html": [
              "Run data is saved locally in <code>/content/wandb/run-20250309_193649-s4tpli4b</code>"
            ]
          },
          "metadata": {}
        },
        {
          "output_type": "display_data",
          "data": {
            "text/plain": [
              "<IPython.core.display.HTML object>"
            ],
            "text/html": [
              "Syncing run <strong><a href='https://wandb.ai/arunangshudutta218-iitm/dl_assgn_1_q_4/runs/s4tpli4b' target=\"_blank\">polar-sweep-14</a></strong> to <a href='https://wandb.ai/arunangshudutta218-iitm/dl_assgn_1_q_4' target=\"_blank\">Weights & Biases</a> (<a href='https://wandb.me/developer-guide' target=\"_blank\">docs</a>)<br>Sweep page: <a href='https://wandb.ai/arunangshudutta218-iitm/dl_assgn_1_q_4/sweeps/sdlyh3ti' target=\"_blank\">https://wandb.ai/arunangshudutta218-iitm/dl_assgn_1_q_4/sweeps/sdlyh3ti</a>"
            ]
          },
          "metadata": {}
        },
        {
          "output_type": "display_data",
          "data": {
            "text/plain": [
              "<IPython.core.display.HTML object>"
            ],
            "text/html": [
              " View project at <a href='https://wandb.ai/arunangshudutta218-iitm/dl_assgn_1_q_4' target=\"_blank\">https://wandb.ai/arunangshudutta218-iitm/dl_assgn_1_q_4</a>"
            ]
          },
          "metadata": {}
        },
        {
          "output_type": "display_data",
          "data": {
            "text/plain": [
              "<IPython.core.display.HTML object>"
            ],
            "text/html": [
              " View sweep at <a href='https://wandb.ai/arunangshudutta218-iitm/dl_assgn_1_q_4/sweeps/sdlyh3ti' target=\"_blank\">https://wandb.ai/arunangshudutta218-iitm/dl_assgn_1_q_4/sweeps/sdlyh3ti</a>"
            ]
          },
          "metadata": {}
        },
        {
          "output_type": "display_data",
          "data": {
            "text/plain": [
              "<IPython.core.display.HTML object>"
            ],
            "text/html": [
              " View run at <a href='https://wandb.ai/arunangshudutta218-iitm/dl_assgn_1_q_4/runs/s4tpli4b' target=\"_blank\">https://wandb.ai/arunangshudutta218-iitm/dl_assgn_1_q_4/runs/s4tpli4b</a>"
            ]
          },
          "metadata": {}
        },
        {
          "output_type": "stream",
          "name": "stdout",
          "text": [
            "656.0\n"
          ]
        },
        {
          "output_type": "stream",
          "name": "stderr",
          "text": [
            "100%|██████████| 656/656 [00:03<00:00, 169.03it/s]\n",
            "100%|██████████| 656/656 [00:05<00:00, 114.41it/s]\n",
            "100%|██████████| 656/656 [00:03<00:00, 170.66it/s]\n",
            "100%|██████████| 656/656 [00:03<00:00, 165.90it/s]\n",
            "100%|██████████| 656/656 [00:05<00:00, 130.85it/s]\n"
          ]
        },
        {
          "output_type": "display_data",
          "data": {
            "text/plain": [
              "<IPython.core.display.HTML object>"
            ],
            "text/html": []
          },
          "metadata": {}
        },
        {
          "output_type": "display_data",
          "data": {
            "text/plain": [
              "<IPython.core.display.HTML object>"
            ],
            "text/html": [
              "<br>    <style><br>        .wandb-row {<br>            display: flex;<br>            flex-direction: row;<br>            flex-wrap: wrap;<br>            justify-content: flex-start;<br>            width: 100%;<br>        }<br>        .wandb-col {<br>            display: flex;<br>            flex-direction: column;<br>            flex-basis: 100%;<br>            flex: 1;<br>            padding: 10px;<br>        }<br>    </style><br><div class=\"wandb-row\"><div class=\"wandb-col\"><h3>Run history:</h3><br/><table class=\"wandb\"><tr><td>tr_accuracy</td><td>▁▂▅▆█</td></tr><tr><td>tr_loss</td><td>█▅▃▂▁</td></tr><tr><td>val_accuracy</td><td>▁▄▆▇█</td></tr><tr><td>val_loss</td><td>█▅▃▂▁</td></tr></table><br/></div><div class=\"wandb-col\"><h3>Run summary:</h3><br/><table class=\"wandb\"><tr><td>tr_accuracy</td><td>45.3125</td></tr><tr><td>tr_loss</td><td>1.76176</td></tr><tr><td>val_accuracy</td><td>42.1875</td></tr><tr><td>val_loss</td><td>1.77075</td></tr></table><br/></div></div>"
            ]
          },
          "metadata": {}
        },
        {
          "output_type": "display_data",
          "data": {
            "text/plain": [
              "<IPython.core.display.HTML object>"
            ],
            "text/html": [
              " View run <strong style=\"color:#cdcd00\">e_5_hl_4_hs_128_lr_0.001_opt_sgd_bs_64_init_random_ac_sigmoid_l2_0</strong> at: <a href='https://wandb.ai/arunangshudutta218-iitm/dl_assgn_1_q_4/runs/s4tpli4b' target=\"_blank\">https://wandb.ai/arunangshudutta218-iitm/dl_assgn_1_q_4/runs/s4tpli4b</a><br> View project at: <a href='https://wandb.ai/arunangshudutta218-iitm/dl_assgn_1_q_4' target=\"_blank\">https://wandb.ai/arunangshudutta218-iitm/dl_assgn_1_q_4</a><br>Synced 5 W&B file(s), 0 media file(s), 0 artifact file(s) and 0 other file(s)"
            ]
          },
          "metadata": {}
        },
        {
          "output_type": "display_data",
          "data": {
            "text/plain": [
              "<IPython.core.display.HTML object>"
            ],
            "text/html": [
              "Find logs at: <code>./wandb/run-20250309_193649-s4tpli4b/logs</code>"
            ]
          },
          "metadata": {}
        },
        {
          "output_type": "stream",
          "name": "stderr",
          "text": [
            "\u001b[34m\u001b[1mwandb\u001b[0m: Agent Starting Run: g72fdiwb with config:\n",
            "\u001b[34m\u001b[1mwandb\u001b[0m: \tactivation: sigmoid\n",
            "\u001b[34m\u001b[1mwandb\u001b[0m: \tbatch_size: 64\n",
            "\u001b[34m\u001b[1mwandb\u001b[0m: \tepochs: 5\n",
            "\u001b[34m\u001b[1mwandb\u001b[0m: \thidden_size: 32\n",
            "\u001b[34m\u001b[1mwandb\u001b[0m: \tlearning_rate: 0.0001\n",
            "\u001b[34m\u001b[1mwandb\u001b[0m: \tnum_layers: 4\n",
            "\u001b[34m\u001b[1mwandb\u001b[0m: \toptimizer: adam\n",
            "\u001b[34m\u001b[1mwandb\u001b[0m: \tweight_decay: 0.5\n",
            "\u001b[34m\u001b[1mwandb\u001b[0m: \tweight_init: random\n"
          ]
        },
        {
          "output_type": "display_data",
          "data": {
            "text/plain": [
              "<IPython.core.display.HTML object>"
            ],
            "text/html": [
              "Tracking run with wandb version 0.19.7"
            ]
          },
          "metadata": {}
        },
        {
          "output_type": "display_data",
          "data": {
            "text/plain": [
              "<IPython.core.display.HTML object>"
            ],
            "text/html": [
              "Run data is saved locally in <code>/content/wandb/run-20250309_193725-g72fdiwb</code>"
            ]
          },
          "metadata": {}
        },
        {
          "output_type": "display_data",
          "data": {
            "text/plain": [
              "<IPython.core.display.HTML object>"
            ],
            "text/html": [
              "Syncing run <strong><a href='https://wandb.ai/arunangshudutta218-iitm/dl_assgn_1_q_4/runs/g72fdiwb' target=\"_blank\">radiant-sweep-15</a></strong> to <a href='https://wandb.ai/arunangshudutta218-iitm/dl_assgn_1_q_4' target=\"_blank\">Weights & Biases</a> (<a href='https://wandb.me/developer-guide' target=\"_blank\">docs</a>)<br>Sweep page: <a href='https://wandb.ai/arunangshudutta218-iitm/dl_assgn_1_q_4/sweeps/sdlyh3ti' target=\"_blank\">https://wandb.ai/arunangshudutta218-iitm/dl_assgn_1_q_4/sweeps/sdlyh3ti</a>"
            ]
          },
          "metadata": {}
        },
        {
          "output_type": "display_data",
          "data": {
            "text/plain": [
              "<IPython.core.display.HTML object>"
            ],
            "text/html": [
              " View project at <a href='https://wandb.ai/arunangshudutta218-iitm/dl_assgn_1_q_4' target=\"_blank\">https://wandb.ai/arunangshudutta218-iitm/dl_assgn_1_q_4</a>"
            ]
          },
          "metadata": {}
        },
        {
          "output_type": "display_data",
          "data": {
            "text/plain": [
              "<IPython.core.display.HTML object>"
            ],
            "text/html": [
              " View sweep at <a href='https://wandb.ai/arunangshudutta218-iitm/dl_assgn_1_q_4/sweeps/sdlyh3ti' target=\"_blank\">https://wandb.ai/arunangshudutta218-iitm/dl_assgn_1_q_4/sweeps/sdlyh3ti</a>"
            ]
          },
          "metadata": {}
        },
        {
          "output_type": "display_data",
          "data": {
            "text/plain": [
              "<IPython.core.display.HTML object>"
            ],
            "text/html": [
              " View run at <a href='https://wandb.ai/arunangshudutta218-iitm/dl_assgn_1_q_4/runs/g72fdiwb' target=\"_blank\">https://wandb.ai/arunangshudutta218-iitm/dl_assgn_1_q_4/runs/g72fdiwb</a>"
            ]
          },
          "metadata": {}
        },
        {
          "output_type": "stream",
          "name": "stdout",
          "text": [
            "656.0\n"
          ]
        },
        {
          "output_type": "stream",
          "name": "stderr",
          "text": [
            "100%|██████████| 656/656 [00:02<00:00, 257.87it/s]\n",
            "100%|██████████| 656/656 [00:02<00:00, 223.37it/s]\n",
            "100%|██████████| 656/656 [00:01<00:00, 378.29it/s]\n",
            "100%|██████████| 656/656 [00:01<00:00, 404.26it/s]\n",
            "100%|██████████| 656/656 [00:01<00:00, 392.28it/s]\n"
          ]
        },
        {
          "output_type": "display_data",
          "data": {
            "text/plain": [
              "<IPython.core.display.HTML object>"
            ],
            "text/html": []
          },
          "metadata": {}
        },
        {
          "output_type": "display_data",
          "data": {
            "text/plain": [
              "<IPython.core.display.HTML object>"
            ],
            "text/html": [
              "<br>    <style><br>        .wandb-row {<br>            display: flex;<br>            flex-direction: row;<br>            flex-wrap: wrap;<br>            justify-content: flex-start;<br>            width: 100%;<br>        }<br>        .wandb-col {<br>            display: flex;<br>            flex-direction: column;<br>            flex-basis: 100%;<br>            flex: 1;<br>            padding: 10px;<br>        }<br>    </style><br><div class=\"wandb-row\"><div class=\"wandb-col\"><h3>Run history:</h3><br/><table class=\"wandb\"><tr><td>tr_accuracy</td><td>▁▃▆▇█</td></tr><tr><td>tr_loss</td><td>█▃▂▁▁</td></tr><tr><td>val_accuracy</td><td>▂▁▅▆█</td></tr><tr><td>val_loss</td><td>█▃▂▁▁</td></tr></table><br/></div><div class=\"wandb-col\"><h3>Run summary:</h3><br/><table class=\"wandb\"><tr><td>tr_accuracy</td><td>54.6875</td></tr><tr><td>tr_loss</td><td>1.55893</td></tr><tr><td>val_accuracy</td><td>53.125</td></tr><tr><td>val_loss</td><td>1.56058</td></tr></table><br/></div></div>"
            ]
          },
          "metadata": {}
        },
        {
          "output_type": "display_data",
          "data": {
            "text/plain": [
              "<IPython.core.display.HTML object>"
            ],
            "text/html": [
              " View run <strong style=\"color:#cdcd00\">e_5_hl_4_hs_32_lr_0.0001_opt_adam_bs_64_init_random_ac_sigmoid_l2_0.5</strong> at: <a href='https://wandb.ai/arunangshudutta218-iitm/dl_assgn_1_q_4/runs/g72fdiwb' target=\"_blank\">https://wandb.ai/arunangshudutta218-iitm/dl_assgn_1_q_4/runs/g72fdiwb</a><br> View project at: <a href='https://wandb.ai/arunangshudutta218-iitm/dl_assgn_1_q_4' target=\"_blank\">https://wandb.ai/arunangshudutta218-iitm/dl_assgn_1_q_4</a><br>Synced 5 W&B file(s), 0 media file(s), 0 artifact file(s) and 0 other file(s)"
            ]
          },
          "metadata": {}
        },
        {
          "output_type": "display_data",
          "data": {
            "text/plain": [
              "<IPython.core.display.HTML object>"
            ],
            "text/html": [
              "Find logs at: <code>./wandb/run-20250309_193725-g72fdiwb/logs</code>"
            ]
          },
          "metadata": {}
        },
        {
          "output_type": "stream",
          "name": "stderr",
          "text": [
            "\u001b[34m\u001b[1mwandb\u001b[0m: Agent Starting Run: s1kpg52b with config:\n",
            "\u001b[34m\u001b[1mwandb\u001b[0m: \tactivation: sigmoid\n",
            "\u001b[34m\u001b[1mwandb\u001b[0m: \tbatch_size: 32\n",
            "\u001b[34m\u001b[1mwandb\u001b[0m: \tepochs: 10\n",
            "\u001b[34m\u001b[1mwandb\u001b[0m: \thidden_size: 64\n",
            "\u001b[34m\u001b[1mwandb\u001b[0m: \tlearning_rate: 0.0001\n",
            "\u001b[34m\u001b[1mwandb\u001b[0m: \tnum_layers: 4\n",
            "\u001b[34m\u001b[1mwandb\u001b[0m: \toptimizer: nadam\n",
            "\u001b[34m\u001b[1mwandb\u001b[0m: \tweight_decay: 0\n",
            "\u001b[34m\u001b[1mwandb\u001b[0m: \tweight_init: Xavier\n"
          ]
        },
        {
          "output_type": "display_data",
          "data": {
            "text/plain": [
              "<IPython.core.display.HTML object>"
            ],
            "text/html": [
              "Tracking run with wandb version 0.19.7"
            ]
          },
          "metadata": {}
        },
        {
          "output_type": "display_data",
          "data": {
            "text/plain": [
              "<IPython.core.display.HTML object>"
            ],
            "text/html": [
              "Run data is saved locally in <code>/content/wandb/run-20250309_193745-s1kpg52b</code>"
            ]
          },
          "metadata": {}
        },
        {
          "output_type": "display_data",
          "data": {
            "text/plain": [
              "<IPython.core.display.HTML object>"
            ],
            "text/html": [
              "Syncing run <strong><a href='https://wandb.ai/arunangshudutta218-iitm/dl_assgn_1_q_4/runs/s1kpg52b' target=\"_blank\">vivid-sweep-16</a></strong> to <a href='https://wandb.ai/arunangshudutta218-iitm/dl_assgn_1_q_4' target=\"_blank\">Weights & Biases</a> (<a href='https://wandb.me/developer-guide' target=\"_blank\">docs</a>)<br>Sweep page: <a href='https://wandb.ai/arunangshudutta218-iitm/dl_assgn_1_q_4/sweeps/sdlyh3ti' target=\"_blank\">https://wandb.ai/arunangshudutta218-iitm/dl_assgn_1_q_4/sweeps/sdlyh3ti</a>"
            ]
          },
          "metadata": {}
        },
        {
          "output_type": "display_data",
          "data": {
            "text/plain": [
              "<IPython.core.display.HTML object>"
            ],
            "text/html": [
              " View project at <a href='https://wandb.ai/arunangshudutta218-iitm/dl_assgn_1_q_4' target=\"_blank\">https://wandb.ai/arunangshudutta218-iitm/dl_assgn_1_q_4</a>"
            ]
          },
          "metadata": {}
        },
        {
          "output_type": "display_data",
          "data": {
            "text/plain": [
              "<IPython.core.display.HTML object>"
            ],
            "text/html": [
              " View sweep at <a href='https://wandb.ai/arunangshudutta218-iitm/dl_assgn_1_q_4/sweeps/sdlyh3ti' target=\"_blank\">https://wandb.ai/arunangshudutta218-iitm/dl_assgn_1_q_4/sweeps/sdlyh3ti</a>"
            ]
          },
          "metadata": {}
        },
        {
          "output_type": "display_data",
          "data": {
            "text/plain": [
              "<IPython.core.display.HTML object>"
            ],
            "text/html": [
              " View run at <a href='https://wandb.ai/arunangshudutta218-iitm/dl_assgn_1_q_4/runs/s1kpg52b' target=\"_blank\">https://wandb.ai/arunangshudutta218-iitm/dl_assgn_1_q_4/runs/s1kpg52b</a>"
            ]
          },
          "metadata": {}
        },
        {
          "output_type": "stream",
          "name": "stdout",
          "text": [
            "1312.0\n"
          ]
        },
        {
          "output_type": "stream",
          "name": "stderr",
          "text": [
            "100%|██████████| 1312/1312 [00:04<00:00, 271.46it/s]\n",
            "100%|██████████| 1312/1312 [00:07<00:00, 187.02it/s]\n",
            "100%|██████████| 1312/1312 [00:04<00:00, 285.36it/s]\n",
            "100%|██████████| 1312/1312 [00:06<00:00, 203.56it/s]\n",
            "100%|██████████| 1312/1312 [00:04<00:00, 282.93it/s]\n",
            "100%|██████████| 1312/1312 [00:04<00:00, 284.51it/s]\n",
            "100%|██████████| 1312/1312 [00:06<00:00, 209.05it/s]\n",
            "100%|██████████| 1312/1312 [00:04<00:00, 281.46it/s]\n",
            "100%|██████████| 1312/1312 [00:07<00:00, 185.68it/s]\n",
            "100%|██████████| 1312/1312 [00:04<00:00, 277.73it/s]\n"
          ]
        },
        {
          "output_type": "display_data",
          "data": {
            "text/plain": [
              "<IPython.core.display.HTML object>"
            ],
            "text/html": []
          },
          "metadata": {}
        },
        {
          "output_type": "display_data",
          "data": {
            "text/plain": [
              "<IPython.core.display.HTML object>"
            ],
            "text/html": [
              "<br>    <style><br>        .wandb-row {<br>            display: flex;<br>            flex-direction: row;<br>            flex-wrap: wrap;<br>            justify-content: flex-start;<br>            width: 100%;<br>        }<br>        .wandb-col {<br>            display: flex;<br>            flex-direction: column;<br>            flex-basis: 100%;<br>            flex: 1;<br>            padding: 10px;<br>        }<br>    </style><br><div class=\"wandb-row\"><div class=\"wandb-col\"><h3>Run history:</h3><br/><table class=\"wandb\"><tr><td>tr_accuracy</td><td>▁▄▅▅▇▇▇███</td></tr><tr><td>tr_loss</td><td>█▅▃▂▂▂▁▁▁▁</td></tr><tr><td>val_accuracy</td><td>▁▄▄▆▆▆▇███</td></tr><tr><td>val_loss</td><td>█▅▃▂▂▂▁▁▁▁</td></tr></table><br/></div><div class=\"wandb-col\"><h3>Run summary:</h3><br/><table class=\"wandb\"><tr><td>tr_accuracy</td><td>81.25</td></tr><tr><td>tr_loss</td><td>0.67467</td></tr><tr><td>val_accuracy</td><td>78.125</td></tr><tr><td>val_loss</td><td>0.67925</td></tr></table><br/></div></div>"
            ]
          },
          "metadata": {}
        },
        {
          "output_type": "display_data",
          "data": {
            "text/plain": [
              "<IPython.core.display.HTML object>"
            ],
            "text/html": [
              " View run <strong style=\"color:#cdcd00\">e_10_hl_4_hs_64_lr_0.0001_opt_nadam_bs_32_init_Xavier_ac_sigmoid_l2_0</strong> at: <a href='https://wandb.ai/arunangshudutta218-iitm/dl_assgn_1_q_4/runs/s1kpg52b' target=\"_blank\">https://wandb.ai/arunangshudutta218-iitm/dl_assgn_1_q_4/runs/s1kpg52b</a><br> View project at: <a href='https://wandb.ai/arunangshudutta218-iitm/dl_assgn_1_q_4' target=\"_blank\">https://wandb.ai/arunangshudutta218-iitm/dl_assgn_1_q_4</a><br>Synced 5 W&B file(s), 0 media file(s), 0 artifact file(s) and 0 other file(s)"
            ]
          },
          "metadata": {}
        },
        {
          "output_type": "display_data",
          "data": {
            "text/plain": [
              "<IPython.core.display.HTML object>"
            ],
            "text/html": [
              "Find logs at: <code>./wandb/run-20250309_193745-s1kpg52b/logs</code>"
            ]
          },
          "metadata": {}
        },
        {
          "output_type": "stream",
          "name": "stderr",
          "text": [
            "\u001b[34m\u001b[1mwandb\u001b[0m: Agent Starting Run: mw6l3mzf with config:\n",
            "\u001b[34m\u001b[1mwandb\u001b[0m: \tactivation: ReLU\n",
            "\u001b[34m\u001b[1mwandb\u001b[0m: \tbatch_size: 16\n",
            "\u001b[34m\u001b[1mwandb\u001b[0m: \tepochs: 10\n",
            "\u001b[34m\u001b[1mwandb\u001b[0m: \thidden_size: 64\n",
            "\u001b[34m\u001b[1mwandb\u001b[0m: \tlearning_rate: 0.0001\n",
            "\u001b[34m\u001b[1mwandb\u001b[0m: \tnum_layers: 5\n",
            "\u001b[34m\u001b[1mwandb\u001b[0m: \toptimizer: momentum\n",
            "\u001b[34m\u001b[1mwandb\u001b[0m: \tweight_decay: 0.5\n",
            "\u001b[34m\u001b[1mwandb\u001b[0m: \tweight_init: random\n"
          ]
        },
        {
          "output_type": "display_data",
          "data": {
            "text/plain": [
              "<IPython.core.display.HTML object>"
            ],
            "text/html": [
              "Tracking run with wandb version 0.19.7"
            ]
          },
          "metadata": {}
        },
        {
          "output_type": "display_data",
          "data": {
            "text/plain": [
              "<IPython.core.display.HTML object>"
            ],
            "text/html": [
              "Run data is saved locally in <code>/content/wandb/run-20250309_193857-mw6l3mzf</code>"
            ]
          },
          "metadata": {}
        },
        {
          "output_type": "display_data",
          "data": {
            "text/plain": [
              "<IPython.core.display.HTML object>"
            ],
            "text/html": [
              "Syncing run <strong><a href='https://wandb.ai/arunangshudutta218-iitm/dl_assgn_1_q_4/runs/mw6l3mzf' target=\"_blank\">stellar-sweep-17</a></strong> to <a href='https://wandb.ai/arunangshudutta218-iitm/dl_assgn_1_q_4' target=\"_blank\">Weights & Biases</a> (<a href='https://wandb.me/developer-guide' target=\"_blank\">docs</a>)<br>Sweep page: <a href='https://wandb.ai/arunangshudutta218-iitm/dl_assgn_1_q_4/sweeps/sdlyh3ti' target=\"_blank\">https://wandb.ai/arunangshudutta218-iitm/dl_assgn_1_q_4/sweeps/sdlyh3ti</a>"
            ]
          },
          "metadata": {}
        },
        {
          "output_type": "display_data",
          "data": {
            "text/plain": [
              "<IPython.core.display.HTML object>"
            ],
            "text/html": [
              " View project at <a href='https://wandb.ai/arunangshudutta218-iitm/dl_assgn_1_q_4' target=\"_blank\">https://wandb.ai/arunangshudutta218-iitm/dl_assgn_1_q_4</a>"
            ]
          },
          "metadata": {}
        },
        {
          "output_type": "display_data",
          "data": {
            "text/plain": [
              "<IPython.core.display.HTML object>"
            ],
            "text/html": [
              " View sweep at <a href='https://wandb.ai/arunangshudutta218-iitm/dl_assgn_1_q_4/sweeps/sdlyh3ti' target=\"_blank\">https://wandb.ai/arunangshudutta218-iitm/dl_assgn_1_q_4/sweeps/sdlyh3ti</a>"
            ]
          },
          "metadata": {}
        },
        {
          "output_type": "display_data",
          "data": {
            "text/plain": [
              "<IPython.core.display.HTML object>"
            ],
            "text/html": [
              " View run at <a href='https://wandb.ai/arunangshudutta218-iitm/dl_assgn_1_q_4/runs/mw6l3mzf' target=\"_blank\">https://wandb.ai/arunangshudutta218-iitm/dl_assgn_1_q_4/runs/mw6l3mzf</a>"
            ]
          },
          "metadata": {}
        },
        {
          "output_type": "stream",
          "name": "stdout",
          "text": [
            "2625.0\n"
          ]
        },
        {
          "output_type": "stream",
          "name": "stderr",
          "text": [
            "100%|██████████| 2625/2625 [00:04<00:00, 591.03it/s]\n",
            "100%|██████████| 2625/2625 [00:07<00:00, 357.80it/s]\n",
            "100%|██████████| 2625/2625 [00:04<00:00, 577.70it/s]\n",
            "100%|██████████| 2625/2625 [00:05<00:00, 469.68it/s]\n",
            "100%|██████████| 2625/2625 [00:05<00:00, 456.37it/s]\n",
            "100%|██████████| 2625/2625 [00:04<00:00, 596.41it/s]\n",
            "100%|██████████| 2625/2625 [00:06<00:00, 379.74it/s]\n",
            "100%|██████████| 2625/2625 [00:04<00:00, 583.37it/s]\n",
            "100%|██████████| 2625/2625 [00:05<00:00, 444.98it/s]\n",
            "100%|██████████| 2625/2625 [00:05<00:00, 499.49it/s]\n"
          ]
        },
        {
          "output_type": "display_data",
          "data": {
            "text/plain": [
              "<IPython.core.display.HTML object>"
            ],
            "text/html": []
          },
          "metadata": {}
        },
        {
          "output_type": "display_data",
          "data": {
            "text/plain": [
              "<IPython.core.display.HTML object>"
            ],
            "text/html": [
              "<br>    <style><br>        .wandb-row {<br>            display: flex;<br>            flex-direction: row;<br>            flex-wrap: wrap;<br>            justify-content: flex-start;<br>            width: 100%;<br>        }<br>        .wandb-col {<br>            display: flex;<br>            flex-direction: column;<br>            flex-basis: 100%;<br>            flex: 1;<br>            padding: 10px;<br>        }<br>    </style><br><div class=\"wandb-row\"><div class=\"wandb-col\"><h3>Run history:</h3><br/><table class=\"wandb\"><tr><td>tr_accuracy</td><td>▁▁▁▁▁▁▁▁▁▁</td></tr><tr><td>val_accuracy</td><td>▁▁▁▁▁▁▁▁▁▁</td></tr></table><br/></div><div class=\"wandb-col\"><h3>Run summary:</h3><br/><table class=\"wandb\"><tr><td>tr_accuracy</td><td>18.75</td></tr><tr><td>tr_loss</td><td>nan</td></tr><tr><td>val_accuracy</td><td>6.25</td></tr><tr><td>val_loss</td><td>nan</td></tr></table><br/></div></div>"
            ]
          },
          "metadata": {}
        },
        {
          "output_type": "display_data",
          "data": {
            "text/plain": [
              "<IPython.core.display.HTML object>"
            ],
            "text/html": [
              " View run <strong style=\"color:#cdcd00\">e_10_hl_5_hs_64_lr_0.0001_opt_momentum_bs_16_init_random_ac_ReLU_l2_0.5</strong> at: <a href='https://wandb.ai/arunangshudutta218-iitm/dl_assgn_1_q_4/runs/mw6l3mzf' target=\"_blank\">https://wandb.ai/arunangshudutta218-iitm/dl_assgn_1_q_4/runs/mw6l3mzf</a><br> View project at: <a href='https://wandb.ai/arunangshudutta218-iitm/dl_assgn_1_q_4' target=\"_blank\">https://wandb.ai/arunangshudutta218-iitm/dl_assgn_1_q_4</a><br>Synced 5 W&B file(s), 0 media file(s), 0 artifact file(s) and 0 other file(s)"
            ]
          },
          "metadata": {}
        },
        {
          "output_type": "display_data",
          "data": {
            "text/plain": [
              "<IPython.core.display.HTML object>"
            ],
            "text/html": [
              "Find logs at: <code>./wandb/run-20250309_193857-mw6l3mzf/logs</code>"
            ]
          },
          "metadata": {}
        },
        {
          "output_type": "stream",
          "name": "stderr",
          "text": [
            "\u001b[34m\u001b[1mwandb\u001b[0m: Agent Starting Run: lhcxtn2m with config:\n",
            "\u001b[34m\u001b[1mwandb\u001b[0m: \tactivation: ReLU\n",
            "\u001b[34m\u001b[1mwandb\u001b[0m: \tbatch_size: 16\n",
            "\u001b[34m\u001b[1mwandb\u001b[0m: \tepochs: 5\n",
            "\u001b[34m\u001b[1mwandb\u001b[0m: \thidden_size: 32\n",
            "\u001b[34m\u001b[1mwandb\u001b[0m: \tlearning_rate: 0.0001\n",
            "\u001b[34m\u001b[1mwandb\u001b[0m: \tnum_layers: 5\n",
            "\u001b[34m\u001b[1mwandb\u001b[0m: \toptimizer: rmsprop\n",
            "\u001b[34m\u001b[1mwandb\u001b[0m: \tweight_decay: 0.5\n",
            "\u001b[34m\u001b[1mwandb\u001b[0m: \tweight_init: Xavier\n"
          ]
        },
        {
          "output_type": "display_data",
          "data": {
            "text/plain": [
              "<IPython.core.display.HTML object>"
            ],
            "text/html": [
              "Tracking run with wandb version 0.19.7"
            ]
          },
          "metadata": {}
        },
        {
          "output_type": "display_data",
          "data": {
            "text/plain": [
              "<IPython.core.display.HTML object>"
            ],
            "text/html": [
              "Run data is saved locally in <code>/content/wandb/run-20250309_194003-lhcxtn2m</code>"
            ]
          },
          "metadata": {}
        },
        {
          "output_type": "display_data",
          "data": {
            "text/plain": [
              "<IPython.core.display.HTML object>"
            ],
            "text/html": [
              "Syncing run <strong><a href='https://wandb.ai/arunangshudutta218-iitm/dl_assgn_1_q_4/runs/lhcxtn2m' target=\"_blank\">valiant-sweep-18</a></strong> to <a href='https://wandb.ai/arunangshudutta218-iitm/dl_assgn_1_q_4' target=\"_blank\">Weights & Biases</a> (<a href='https://wandb.me/developer-guide' target=\"_blank\">docs</a>)<br>Sweep page: <a href='https://wandb.ai/arunangshudutta218-iitm/dl_assgn_1_q_4/sweeps/sdlyh3ti' target=\"_blank\">https://wandb.ai/arunangshudutta218-iitm/dl_assgn_1_q_4/sweeps/sdlyh3ti</a>"
            ]
          },
          "metadata": {}
        },
        {
          "output_type": "display_data",
          "data": {
            "text/plain": [
              "<IPython.core.display.HTML object>"
            ],
            "text/html": [
              " View project at <a href='https://wandb.ai/arunangshudutta218-iitm/dl_assgn_1_q_4' target=\"_blank\">https://wandb.ai/arunangshudutta218-iitm/dl_assgn_1_q_4</a>"
            ]
          },
          "metadata": {}
        },
        {
          "output_type": "display_data",
          "data": {
            "text/plain": [
              "<IPython.core.display.HTML object>"
            ],
            "text/html": [
              " View sweep at <a href='https://wandb.ai/arunangshudutta218-iitm/dl_assgn_1_q_4/sweeps/sdlyh3ti' target=\"_blank\">https://wandb.ai/arunangshudutta218-iitm/dl_assgn_1_q_4/sweeps/sdlyh3ti</a>"
            ]
          },
          "metadata": {}
        },
        {
          "output_type": "display_data",
          "data": {
            "text/plain": [
              "<IPython.core.display.HTML object>"
            ],
            "text/html": [
              " View run at <a href='https://wandb.ai/arunangshudutta218-iitm/dl_assgn_1_q_4/runs/lhcxtn2m' target=\"_blank\">https://wandb.ai/arunangshudutta218-iitm/dl_assgn_1_q_4/runs/lhcxtn2m</a>"
            ]
          },
          "metadata": {}
        },
        {
          "output_type": "stream",
          "name": "stdout",
          "text": [
            "2625.0\n"
          ]
        },
        {
          "output_type": "stream",
          "name": "stderr",
          "text": [
            "100%|██████████| 2625/2625 [00:06<00:00, 408.93it/s]\n",
            "100%|██████████| 2625/2625 [00:03<00:00, 703.69it/s]\n",
            "100%|██████████| 2625/2625 [00:04<00:00, 648.48it/s]\n",
            "100%|██████████| 2625/2625 [00:06<00:00, 424.53it/s]\n",
            "100%|██████████| 2625/2625 [00:03<00:00, 714.69it/s]\n"
          ]
        },
        {
          "output_type": "display_data",
          "data": {
            "text/plain": [
              "<IPython.core.display.HTML object>"
            ],
            "text/html": []
          },
          "metadata": {}
        },
        {
          "output_type": "display_data",
          "data": {
            "text/plain": [
              "<IPython.core.display.HTML object>"
            ],
            "text/html": [
              "<br>    <style><br>        .wandb-row {<br>            display: flex;<br>            flex-direction: row;<br>            flex-wrap: wrap;<br>            justify-content: flex-start;<br>            width: 100%;<br>        }<br>        .wandb-col {<br>            display: flex;<br>            flex-direction: column;<br>            flex-basis: 100%;<br>            flex: 1;<br>            padding: 10px;<br>        }<br>    </style><br><div class=\"wandb-row\"><div class=\"wandb-col\"><h3>Run history:</h3><br/><table class=\"wandb\"><tr><td>tr_accuracy</td><td>▁▁▁▁█</td></tr><tr><td>tr_loss</td><td>█▄▂▁▁</td></tr><tr><td>val_accuracy</td><td>▁▁███</td></tr><tr><td>val_loss</td><td>█▄▂▁▁</td></tr></table><br/></div><div class=\"wandb-col\"><h3>Run summary:</h3><br/><table class=\"wandb\"><tr><td>tr_accuracy</td><td>100</td></tr><tr><td>tr_loss</td><td>0.63412</td></tr><tr><td>val_accuracy</td><td>87.5</td></tr><tr><td>val_loss</td><td>0.63809</td></tr></table><br/></div></div>"
            ]
          },
          "metadata": {}
        },
        {
          "output_type": "display_data",
          "data": {
            "text/plain": [
              "<IPython.core.display.HTML object>"
            ],
            "text/html": [
              " View run <strong style=\"color:#cdcd00\">e_5_hl_5_hs_32_lr_0.0001_opt_rmsprop_bs_16_init_Xavier_ac_ReLU_l2_0.5</strong> at: <a href='https://wandb.ai/arunangshudutta218-iitm/dl_assgn_1_q_4/runs/lhcxtn2m' target=\"_blank\">https://wandb.ai/arunangshudutta218-iitm/dl_assgn_1_q_4/runs/lhcxtn2m</a><br> View project at: <a href='https://wandb.ai/arunangshudutta218-iitm/dl_assgn_1_q_4' target=\"_blank\">https://wandb.ai/arunangshudutta218-iitm/dl_assgn_1_q_4</a><br>Synced 5 W&B file(s), 0 media file(s), 0 artifact file(s) and 0 other file(s)"
            ]
          },
          "metadata": {}
        },
        {
          "output_type": "display_data",
          "data": {
            "text/plain": [
              "<IPython.core.display.HTML object>"
            ],
            "text/html": [
              "Find logs at: <code>./wandb/run-20250309_194003-lhcxtn2m/logs</code>"
            ]
          },
          "metadata": {}
        },
        {
          "output_type": "stream",
          "name": "stderr",
          "text": [
            "\u001b[34m\u001b[1mwandb\u001b[0m: Agent Starting Run: i56vr1g4 with config:\n",
            "\u001b[34m\u001b[1mwandb\u001b[0m: \tactivation: ReLU\n",
            "\u001b[34m\u001b[1mwandb\u001b[0m: \tbatch_size: 64\n",
            "\u001b[34m\u001b[1mwandb\u001b[0m: \tepochs: 10\n",
            "\u001b[34m\u001b[1mwandb\u001b[0m: \thidden_size: 32\n",
            "\u001b[34m\u001b[1mwandb\u001b[0m: \tlearning_rate: 0.001\n",
            "\u001b[34m\u001b[1mwandb\u001b[0m: \tnum_layers: 4\n",
            "\u001b[34m\u001b[1mwandb\u001b[0m: \toptimizer: nag\n",
            "\u001b[34m\u001b[1mwandb\u001b[0m: \tweight_decay: 0\n",
            "\u001b[34m\u001b[1mwandb\u001b[0m: \tweight_init: Xavier\n"
          ]
        },
        {
          "output_type": "display_data",
          "data": {
            "text/plain": [
              "<IPython.core.display.HTML object>"
            ],
            "text/html": [
              "Tracking run with wandb version 0.19.7"
            ]
          },
          "metadata": {}
        },
        {
          "output_type": "display_data",
          "data": {
            "text/plain": [
              "<IPython.core.display.HTML object>"
            ],
            "text/html": [
              "Run data is saved locally in <code>/content/wandb/run-20250309_194034-i56vr1g4</code>"
            ]
          },
          "metadata": {}
        },
        {
          "output_type": "display_data",
          "data": {
            "text/plain": [
              "<IPython.core.display.HTML object>"
            ],
            "text/html": [
              "Syncing run <strong><a href='https://wandb.ai/arunangshudutta218-iitm/dl_assgn_1_q_4/runs/i56vr1g4' target=\"_blank\">lilac-sweep-19</a></strong> to <a href='https://wandb.ai/arunangshudutta218-iitm/dl_assgn_1_q_4' target=\"_blank\">Weights & Biases</a> (<a href='https://wandb.me/developer-guide' target=\"_blank\">docs</a>)<br>Sweep page: <a href='https://wandb.ai/arunangshudutta218-iitm/dl_assgn_1_q_4/sweeps/sdlyh3ti' target=\"_blank\">https://wandb.ai/arunangshudutta218-iitm/dl_assgn_1_q_4/sweeps/sdlyh3ti</a>"
            ]
          },
          "metadata": {}
        },
        {
          "output_type": "display_data",
          "data": {
            "text/plain": [
              "<IPython.core.display.HTML object>"
            ],
            "text/html": [
              " View project at <a href='https://wandb.ai/arunangshudutta218-iitm/dl_assgn_1_q_4' target=\"_blank\">https://wandb.ai/arunangshudutta218-iitm/dl_assgn_1_q_4</a>"
            ]
          },
          "metadata": {}
        },
        {
          "output_type": "display_data",
          "data": {
            "text/plain": [
              "<IPython.core.display.HTML object>"
            ],
            "text/html": [
              " View sweep at <a href='https://wandb.ai/arunangshudutta218-iitm/dl_assgn_1_q_4/sweeps/sdlyh3ti' target=\"_blank\">https://wandb.ai/arunangshudutta218-iitm/dl_assgn_1_q_4/sweeps/sdlyh3ti</a>"
            ]
          },
          "metadata": {}
        },
        {
          "output_type": "display_data",
          "data": {
            "text/plain": [
              "<IPython.core.display.HTML object>"
            ],
            "text/html": [
              " View run at <a href='https://wandb.ai/arunangshudutta218-iitm/dl_assgn_1_q_4/runs/i56vr1g4' target=\"_blank\">https://wandb.ai/arunangshudutta218-iitm/dl_assgn_1_q_4/runs/i56vr1g4</a>"
            ]
          },
          "metadata": {}
        },
        {
          "output_type": "stream",
          "name": "stdout",
          "text": [
            "656.0\n"
          ]
        },
        {
          "output_type": "stream",
          "name": "stderr",
          "text": [
            "100%|██████████| 656/656 [00:02<00:00, 314.68it/s]\n",
            "100%|██████████| 656/656 [00:01<00:00, 398.33it/s]\n",
            "100%|██████████| 656/656 [00:01<00:00, 591.36it/s]\n",
            "100%|██████████| 656/656 [00:01<00:00, 644.80it/s]\n",
            "100%|██████████| 656/656 [00:01<00:00, 633.73it/s]\n",
            "100%|██████████| 656/656 [00:01<00:00, 626.35it/s]\n",
            "100%|██████████| 656/656 [00:01<00:00, 637.14it/s]\n",
            "100%|██████████| 656/656 [00:01<00:00, 644.88it/s]\n",
            "100%|██████████| 656/656 [00:01<00:00, 620.95it/s]\n",
            "100%|██████████| 656/656 [00:02<00:00, 263.76it/s]\n"
          ]
        },
        {
          "output_type": "display_data",
          "data": {
            "text/plain": [
              "<IPython.core.display.HTML object>"
            ],
            "text/html": []
          },
          "metadata": {}
        },
        {
          "output_type": "display_data",
          "data": {
            "text/plain": [
              "<IPython.core.display.HTML object>"
            ],
            "text/html": [
              "<br>    <style><br>        .wandb-row {<br>            display: flex;<br>            flex-direction: row;<br>            flex-wrap: wrap;<br>            justify-content: flex-start;<br>            width: 100%;<br>        }<br>        .wandb-col {<br>            display: flex;<br>            flex-direction: column;<br>            flex-basis: 100%;<br>            flex: 1;<br>            padding: 10px;<br>        }<br>    </style><br><div class=\"wandb-row\"><div class=\"wandb-col\"><h3>Run history:</h3><br/><table class=\"wandb\"><tr><td>tr_accuracy</td><td>█▁█▁▁▁▁▁▁▁</td></tr><tr><td>tr_loss</td><td>█▅▅▁▁▁▁▁▁▁</td></tr><tr><td>val_accuracy</td><td>▁█▁███████</td></tr><tr><td>val_loss</td><td>█▅▅▁▁▁▁▁▁▁</td></tr></table><br/></div><div class=\"wandb-col\"><h3>Run summary:</h3><br/><table class=\"wandb\"><tr><td>tr_accuracy</td><td>7.8125</td></tr><tr><td>tr_loss</td><td>2.30495</td></tr><tr><td>val_accuracy</td><td>7.8125</td></tr><tr><td>val_loss</td><td>2.30521</td></tr></table><br/></div></div>"
            ]
          },
          "metadata": {}
        },
        {
          "output_type": "display_data",
          "data": {
            "text/plain": [
              "<IPython.core.display.HTML object>"
            ],
            "text/html": [
              " View run <strong style=\"color:#cdcd00\">e_10_hl_4_hs_32_lr_0.001_opt_nag_bs_64_init_Xavier_ac_ReLU_l2_0</strong> at: <a href='https://wandb.ai/arunangshudutta218-iitm/dl_assgn_1_q_4/runs/i56vr1g4' target=\"_blank\">https://wandb.ai/arunangshudutta218-iitm/dl_assgn_1_q_4/runs/i56vr1g4</a><br> View project at: <a href='https://wandb.ai/arunangshudutta218-iitm/dl_assgn_1_q_4' target=\"_blank\">https://wandb.ai/arunangshudutta218-iitm/dl_assgn_1_q_4</a><br>Synced 5 W&B file(s), 0 media file(s), 0 artifact file(s) and 0 other file(s)"
            ]
          },
          "metadata": {}
        },
        {
          "output_type": "display_data",
          "data": {
            "text/plain": [
              "<IPython.core.display.HTML object>"
            ],
            "text/html": [
              "Find logs at: <code>./wandb/run-20250309_194034-i56vr1g4/logs</code>"
            ]
          },
          "metadata": {}
        },
        {
          "output_type": "stream",
          "name": "stderr",
          "text": [
            "\u001b[34m\u001b[1mwandb\u001b[0m: Sweep Agent: Waiting for job.\n",
            "\u001b[34m\u001b[1mwandb\u001b[0m: Job received.\n",
            "\u001b[34m\u001b[1mwandb\u001b[0m: Agent Starting Run: 3g6lrb7a with config:\n",
            "\u001b[34m\u001b[1mwandb\u001b[0m: \tactivation: ReLU\n",
            "\u001b[34m\u001b[1mwandb\u001b[0m: \tbatch_size: 64\n",
            "\u001b[34m\u001b[1mwandb\u001b[0m: \tepochs: 5\n",
            "\u001b[34m\u001b[1mwandb\u001b[0m: \thidden_size: 64\n",
            "\u001b[34m\u001b[1mwandb\u001b[0m: \tlearning_rate: 0.0001\n",
            "\u001b[34m\u001b[1mwandb\u001b[0m: \tnum_layers: 4\n",
            "\u001b[34m\u001b[1mwandb\u001b[0m: \toptimizer: nag\n",
            "\u001b[34m\u001b[1mwandb\u001b[0m: \tweight_decay: 0.5\n",
            "\u001b[34m\u001b[1mwandb\u001b[0m: \tweight_init: Xavier\n"
          ]
        },
        {
          "output_type": "display_data",
          "data": {
            "text/plain": [
              "<IPython.core.display.HTML object>"
            ],
            "text/html": [
              "Tracking run with wandb version 0.19.7"
            ]
          },
          "metadata": {}
        },
        {
          "output_type": "display_data",
          "data": {
            "text/plain": [
              "<IPython.core.display.HTML object>"
            ],
            "text/html": [
              "Run data is saved locally in <code>/content/wandb/run-20250309_194104-3g6lrb7a</code>"
            ]
          },
          "metadata": {}
        },
        {
          "output_type": "display_data",
          "data": {
            "text/plain": [
              "<IPython.core.display.HTML object>"
            ],
            "text/html": [
              "Syncing run <strong><a href='https://wandb.ai/arunangshudutta218-iitm/dl_assgn_1_q_4/runs/3g6lrb7a' target=\"_blank\">smooth-sweep-20</a></strong> to <a href='https://wandb.ai/arunangshudutta218-iitm/dl_assgn_1_q_4' target=\"_blank\">Weights & Biases</a> (<a href='https://wandb.me/developer-guide' target=\"_blank\">docs</a>)<br>Sweep page: <a href='https://wandb.ai/arunangshudutta218-iitm/dl_assgn_1_q_4/sweeps/sdlyh3ti' target=\"_blank\">https://wandb.ai/arunangshudutta218-iitm/dl_assgn_1_q_4/sweeps/sdlyh3ti</a>"
            ]
          },
          "metadata": {}
        },
        {
          "output_type": "display_data",
          "data": {
            "text/plain": [
              "<IPython.core.display.HTML object>"
            ],
            "text/html": [
              " View project at <a href='https://wandb.ai/arunangshudutta218-iitm/dl_assgn_1_q_4' target=\"_blank\">https://wandb.ai/arunangshudutta218-iitm/dl_assgn_1_q_4</a>"
            ]
          },
          "metadata": {}
        },
        {
          "output_type": "display_data",
          "data": {
            "text/plain": [
              "<IPython.core.display.HTML object>"
            ],
            "text/html": [
              " View sweep at <a href='https://wandb.ai/arunangshudutta218-iitm/dl_assgn_1_q_4/sweeps/sdlyh3ti' target=\"_blank\">https://wandb.ai/arunangshudutta218-iitm/dl_assgn_1_q_4/sweeps/sdlyh3ti</a>"
            ]
          },
          "metadata": {}
        },
        {
          "output_type": "display_data",
          "data": {
            "text/plain": [
              "<IPython.core.display.HTML object>"
            ],
            "text/html": [
              " View run at <a href='https://wandb.ai/arunangshudutta218-iitm/dl_assgn_1_q_4/runs/3g6lrb7a' target=\"_blank\">https://wandb.ai/arunangshudutta218-iitm/dl_assgn_1_q_4/runs/3g6lrb7a</a>"
            ]
          },
          "metadata": {}
        },
        {
          "output_type": "stream",
          "name": "stdout",
          "text": [
            "656.0\n"
          ]
        },
        {
          "output_type": "stream",
          "name": "stderr",
          "text": [
            "100%|██████████| 656/656 [00:01<00:00, 372.81it/s]\n",
            "100%|██████████| 656/656 [00:01<00:00, 379.88it/s]\n",
            "100%|██████████| 656/656 [00:01<00:00, 375.28it/s]\n",
            "100%|██████████| 656/656 [00:01<00:00, 381.64it/s]\n",
            "100%|██████████| 656/656 [00:02<00:00, 222.89it/s]\n"
          ]
        },
        {
          "output_type": "display_data",
          "data": {
            "text/plain": [
              "<IPython.core.display.HTML object>"
            ],
            "text/html": []
          },
          "metadata": {}
        },
        {
          "output_type": "display_data",
          "data": {
            "text/plain": [
              "<IPython.core.display.HTML object>"
            ],
            "text/html": [
              "<br>    <style><br>        .wandb-row {<br>            display: flex;<br>            flex-direction: row;<br>            flex-wrap: wrap;<br>            justify-content: flex-start;<br>            width: 100%;<br>        }<br>        .wandb-col {<br>            display: flex;<br>            flex-direction: column;<br>            flex-basis: 100%;<br>            flex: 1;<br>            padding: 10px;<br>        }<br>    </style><br><div class=\"wandb-row\"><div class=\"wandb-col\"><h3>Run history:</h3><br/><table class=\"wandb\"><tr><td>tr_accuracy</td><td>▁▁▁▁▁</td></tr><tr><td>tr_loss</td><td>▁▁▁▁▁</td></tr><tr><td>val_accuracy</td><td>▁▁▁▁▁</td></tr><tr><td>val_loss</td><td>▁▁▁▁▁</td></tr></table><br/></div><div class=\"wandb-col\"><h3>Run summary:</h3><br/><table class=\"wandb\"><tr><td>tr_accuracy</td><td>7.8125</td></tr><tr><td>tr_loss</td><td>2.30495</td></tr><tr><td>val_accuracy</td><td>7.8125</td></tr><tr><td>val_loss</td><td>2.30521</td></tr></table><br/></div></div>"
            ]
          },
          "metadata": {}
        },
        {
          "output_type": "display_data",
          "data": {
            "text/plain": [
              "<IPython.core.display.HTML object>"
            ],
            "text/html": [
              " View run <strong style=\"color:#cdcd00\">e_5_hl_4_hs_64_lr_0.0001_opt_nag_bs_64_init_Xavier_ac_ReLU_l2_0.5</strong> at: <a href='https://wandb.ai/arunangshudutta218-iitm/dl_assgn_1_q_4/runs/3g6lrb7a' target=\"_blank\">https://wandb.ai/arunangshudutta218-iitm/dl_assgn_1_q_4/runs/3g6lrb7a</a><br> View project at: <a href='https://wandb.ai/arunangshudutta218-iitm/dl_assgn_1_q_4' target=\"_blank\">https://wandb.ai/arunangshudutta218-iitm/dl_assgn_1_q_4</a><br>Synced 5 W&B file(s), 0 media file(s), 0 artifact file(s) and 0 other file(s)"
            ]
          },
          "metadata": {}
        },
        {
          "output_type": "display_data",
          "data": {
            "text/plain": [
              "<IPython.core.display.HTML object>"
            ],
            "text/html": [
              "Find logs at: <code>./wandb/run-20250309_194104-3g6lrb7a/logs</code>"
            ]
          },
          "metadata": {}
        },
        {
          "output_type": "stream",
          "name": "stderr",
          "text": [
            "\u001b[34m\u001b[1mwandb\u001b[0m: Sweep Agent: Waiting for job.\n",
            "\u001b[34m\u001b[1mwandb\u001b[0m: Job received.\n",
            "\u001b[34m\u001b[1mwandb\u001b[0m: Agent Starting Run: hh6lvpaz with config:\n",
            "\u001b[34m\u001b[1mwandb\u001b[0m: \tactivation: ReLU\n",
            "\u001b[34m\u001b[1mwandb\u001b[0m: \tbatch_size: 32\n",
            "\u001b[34m\u001b[1mwandb\u001b[0m: \tepochs: 5\n",
            "\u001b[34m\u001b[1mwandb\u001b[0m: \thidden_size: 32\n",
            "\u001b[34m\u001b[1mwandb\u001b[0m: \tlearning_rate: 0.001\n",
            "\u001b[34m\u001b[1mwandb\u001b[0m: \tnum_layers: 5\n",
            "\u001b[34m\u001b[1mwandb\u001b[0m: \toptimizer: nadam\n",
            "\u001b[34m\u001b[1mwandb\u001b[0m: \tweight_decay: 0\n",
            "\u001b[34m\u001b[1mwandb\u001b[0m: \tweight_init: random\n"
          ]
        },
        {
          "output_type": "display_data",
          "data": {
            "text/plain": [
              "<IPython.core.display.HTML object>"
            ],
            "text/html": [
              "Tracking run with wandb version 0.19.7"
            ]
          },
          "metadata": {}
        },
        {
          "output_type": "display_data",
          "data": {
            "text/plain": [
              "<IPython.core.display.HTML object>"
            ],
            "text/html": [
              "Run data is saved locally in <code>/content/wandb/run-20250309_194130-hh6lvpaz</code>"
            ]
          },
          "metadata": {}
        },
        {
          "output_type": "display_data",
          "data": {
            "text/plain": [
              "<IPython.core.display.HTML object>"
            ],
            "text/html": [
              "Syncing run <strong><a href='https://wandb.ai/arunangshudutta218-iitm/dl_assgn_1_q_4/runs/hh6lvpaz' target=\"_blank\">smooth-sweep-21</a></strong> to <a href='https://wandb.ai/arunangshudutta218-iitm/dl_assgn_1_q_4' target=\"_blank\">Weights & Biases</a> (<a href='https://wandb.me/developer-guide' target=\"_blank\">docs</a>)<br>Sweep page: <a href='https://wandb.ai/arunangshudutta218-iitm/dl_assgn_1_q_4/sweeps/sdlyh3ti' target=\"_blank\">https://wandb.ai/arunangshudutta218-iitm/dl_assgn_1_q_4/sweeps/sdlyh3ti</a>"
            ]
          },
          "metadata": {}
        },
        {
          "output_type": "display_data",
          "data": {
            "text/plain": [
              "<IPython.core.display.HTML object>"
            ],
            "text/html": [
              " View project at <a href='https://wandb.ai/arunangshudutta218-iitm/dl_assgn_1_q_4' target=\"_blank\">https://wandb.ai/arunangshudutta218-iitm/dl_assgn_1_q_4</a>"
            ]
          },
          "metadata": {}
        },
        {
          "output_type": "display_data",
          "data": {
            "text/plain": [
              "<IPython.core.display.HTML object>"
            ],
            "text/html": [
              " View sweep at <a href='https://wandb.ai/arunangshudutta218-iitm/dl_assgn_1_q_4/sweeps/sdlyh3ti' target=\"_blank\">https://wandb.ai/arunangshudutta218-iitm/dl_assgn_1_q_4/sweeps/sdlyh3ti</a>"
            ]
          },
          "metadata": {}
        },
        {
          "output_type": "display_data",
          "data": {
            "text/plain": [
              "<IPython.core.display.HTML object>"
            ],
            "text/html": [
              " View run at <a href='https://wandb.ai/arunangshudutta218-iitm/dl_assgn_1_q_4/runs/hh6lvpaz' target=\"_blank\">https://wandb.ai/arunangshudutta218-iitm/dl_assgn_1_q_4/runs/hh6lvpaz</a>"
            ]
          },
          "metadata": {}
        },
        {
          "output_type": "stream",
          "name": "stdout",
          "text": [
            "1312.0\n"
          ]
        },
        {
          "output_type": "stream",
          "name": "stderr",
          "text": [
            "100%|██████████| 1312/1312 [00:02<00:00, 460.35it/s]\n",
            "100%|██████████| 1312/1312 [00:02<00:00, 444.51it/s]\n",
            "100%|██████████| 1312/1312 [00:03<00:00, 434.33it/s]\n",
            "100%|██████████| 1312/1312 [00:05<00:00, 257.19it/s]\n",
            "100%|██████████| 1312/1312 [00:02<00:00, 458.66it/s]\n"
          ]
        },
        {
          "output_type": "display_data",
          "data": {
            "text/plain": [
              "<IPython.core.display.HTML object>"
            ],
            "text/html": []
          },
          "metadata": {}
        },
        {
          "output_type": "display_data",
          "data": {
            "text/plain": [
              "<IPython.core.display.HTML object>"
            ],
            "text/html": [
              "<br>    <style><br>        .wandb-row {<br>            display: flex;<br>            flex-direction: row;<br>            flex-wrap: wrap;<br>            justify-content: flex-start;<br>            width: 100%;<br>        }<br>        .wandb-col {<br>            display: flex;<br>            flex-direction: column;<br>            flex-basis: 100%;<br>            flex: 1;<br>            padding: 10px;<br>        }<br>    </style><br><div class=\"wandb-row\"><div class=\"wandb-col\"><h3>Run history:</h3><br/><table class=\"wandb\"><tr><td>tr_accuracy</td><td>▁▁▁▁▁</td></tr><tr><td>val_accuracy</td><td>▁▁▁▁▁</td></tr></table><br/></div><div class=\"wandb-col\"><h3>Run summary:</h3><br/><table class=\"wandb\"><tr><td>tr_accuracy</td><td>15.625</td></tr><tr><td>tr_loss</td><td>nan</td></tr><tr><td>val_accuracy</td><td>6.25</td></tr><tr><td>val_loss</td><td>nan</td></tr></table><br/></div></div>"
            ]
          },
          "metadata": {}
        },
        {
          "output_type": "display_data",
          "data": {
            "text/plain": [
              "<IPython.core.display.HTML object>"
            ],
            "text/html": [
              " View run <strong style=\"color:#cdcd00\">e_5_hl_5_hs_32_lr_0.001_opt_nadam_bs_32_init_random_ac_ReLU_l2_0</strong> at: <a href='https://wandb.ai/arunangshudutta218-iitm/dl_assgn_1_q_4/runs/hh6lvpaz' target=\"_blank\">https://wandb.ai/arunangshudutta218-iitm/dl_assgn_1_q_4/runs/hh6lvpaz</a><br> View project at: <a href='https://wandb.ai/arunangshudutta218-iitm/dl_assgn_1_q_4' target=\"_blank\">https://wandb.ai/arunangshudutta218-iitm/dl_assgn_1_q_4</a><br>Synced 5 W&B file(s), 0 media file(s), 0 artifact file(s) and 0 other file(s)"
            ]
          },
          "metadata": {}
        },
        {
          "output_type": "display_data",
          "data": {
            "text/plain": [
              "<IPython.core.display.HTML object>"
            ],
            "text/html": [
              "Find logs at: <code>./wandb/run-20250309_194130-hh6lvpaz/logs</code>"
            ]
          },
          "metadata": {}
        },
        {
          "output_type": "stream",
          "name": "stderr",
          "text": [
            "\u001b[34m\u001b[1mwandb\u001b[0m: Agent Starting Run: 5pjh1i8t with config:\n",
            "\u001b[34m\u001b[1mwandb\u001b[0m: \tactivation: tanh\n",
            "\u001b[34m\u001b[1mwandb\u001b[0m: \tbatch_size: 32\n",
            "\u001b[34m\u001b[1mwandb\u001b[0m: \tepochs: 10\n",
            "\u001b[34m\u001b[1mwandb\u001b[0m: \thidden_size: 128\n",
            "\u001b[34m\u001b[1mwandb\u001b[0m: \tlearning_rate: 0.0001\n",
            "\u001b[34m\u001b[1mwandb\u001b[0m: \tnum_layers: 5\n",
            "\u001b[34m\u001b[1mwandb\u001b[0m: \toptimizer: momentum\n",
            "\u001b[34m\u001b[1mwandb\u001b[0m: \tweight_decay: 0\n",
            "\u001b[34m\u001b[1mwandb\u001b[0m: \tweight_init: random\n"
          ]
        },
        {
          "output_type": "display_data",
          "data": {
            "text/plain": [
              "<IPython.core.display.HTML object>"
            ],
            "text/html": [
              "Tracking run with wandb version 0.19.7"
            ]
          },
          "metadata": {}
        },
        {
          "output_type": "display_data",
          "data": {
            "text/plain": [
              "<IPython.core.display.HTML object>"
            ],
            "text/html": [
              "Run data is saved locally in <code>/content/wandb/run-20250309_194156-5pjh1i8t</code>"
            ]
          },
          "metadata": {}
        },
        {
          "output_type": "display_data",
          "data": {
            "text/plain": [
              "<IPython.core.display.HTML object>"
            ],
            "text/html": [
              "Syncing run <strong><a href='https://wandb.ai/arunangshudutta218-iitm/dl_assgn_1_q_4/runs/5pjh1i8t' target=\"_blank\">earnest-sweep-22</a></strong> to <a href='https://wandb.ai/arunangshudutta218-iitm/dl_assgn_1_q_4' target=\"_blank\">Weights & Biases</a> (<a href='https://wandb.me/developer-guide' target=\"_blank\">docs</a>)<br>Sweep page: <a href='https://wandb.ai/arunangshudutta218-iitm/dl_assgn_1_q_4/sweeps/sdlyh3ti' target=\"_blank\">https://wandb.ai/arunangshudutta218-iitm/dl_assgn_1_q_4/sweeps/sdlyh3ti</a>"
            ]
          },
          "metadata": {}
        },
        {
          "output_type": "display_data",
          "data": {
            "text/plain": [
              "<IPython.core.display.HTML object>"
            ],
            "text/html": [
              " View project at <a href='https://wandb.ai/arunangshudutta218-iitm/dl_assgn_1_q_4' target=\"_blank\">https://wandb.ai/arunangshudutta218-iitm/dl_assgn_1_q_4</a>"
            ]
          },
          "metadata": {}
        },
        {
          "output_type": "display_data",
          "data": {
            "text/plain": [
              "<IPython.core.display.HTML object>"
            ],
            "text/html": [
              " View sweep at <a href='https://wandb.ai/arunangshudutta218-iitm/dl_assgn_1_q_4/sweeps/sdlyh3ti' target=\"_blank\">https://wandb.ai/arunangshudutta218-iitm/dl_assgn_1_q_4/sweeps/sdlyh3ti</a>"
            ]
          },
          "metadata": {}
        },
        {
          "output_type": "display_data",
          "data": {
            "text/plain": [
              "<IPython.core.display.HTML object>"
            ],
            "text/html": [
              " View run at <a href='https://wandb.ai/arunangshudutta218-iitm/dl_assgn_1_q_4/runs/5pjh1i8t' target=\"_blank\">https://wandb.ai/arunangshudutta218-iitm/dl_assgn_1_q_4/runs/5pjh1i8t</a>"
            ]
          },
          "metadata": {}
        },
        {
          "output_type": "stream",
          "name": "stdout",
          "text": [
            "1312.0\n"
          ]
        },
        {
          "output_type": "stream",
          "name": "stderr",
          "text": [
            "100%|██████████| 1312/1312 [00:10<00:00, 128.93it/s]\n",
            "100%|██████████| 1312/1312 [00:10<00:00, 122.15it/s]\n",
            "100%|██████████| 1312/1312 [00:11<00:00, 119.06it/s]\n",
            "100%|██████████| 1312/1312 [00:12<00:00, 102.22it/s]\n",
            "100%|██████████| 1312/1312 [00:12<00:00, 101.75it/s]\n",
            "100%|██████████| 1312/1312 [00:13<00:00, 97.32it/s] \n",
            "100%|██████████| 1312/1312 [00:12<00:00, 103.40it/s]\n",
            "100%|██████████| 1312/1312 [00:12<00:00, 101.36it/s]\n",
            "100%|██████████| 1312/1312 [00:12<00:00, 102.84it/s]\n",
            "100%|██████████| 1312/1312 [00:11<00:00, 113.25it/s]\n"
          ]
        },
        {
          "output_type": "display_data",
          "data": {
            "text/plain": [
              "<IPython.core.display.HTML object>"
            ],
            "text/html": []
          },
          "metadata": {}
        },
        {
          "output_type": "display_data",
          "data": {
            "text/plain": [
              "<IPython.core.display.HTML object>"
            ],
            "text/html": [
              "<br>    <style><br>        .wandb-row {<br>            display: flex;<br>            flex-direction: row;<br>            flex-wrap: wrap;<br>            justify-content: flex-start;<br>            width: 100%;<br>        }<br>        .wandb-col {<br>            display: flex;<br>            flex-direction: column;<br>            flex-basis: 100%;<br>            flex: 1;<br>            padding: 10px;<br>        }<br>    </style><br><div class=\"wandb-row\"><div class=\"wandb-col\"><h3>Run history:</h3><br/><table class=\"wandb\"><tr><td>tr_accuracy</td><td>▁▄▂▄▂▂█▅▇▆</td></tr><tr><td>tr_loss</td><td>█▆▅▄▃▃▂▂▁▁</td></tr><tr><td>val_accuracy</td><td>▂▂▇▂▁▅▇███</td></tr><tr><td>val_loss</td><td>█▆▅▄▃▃▂▂▁▁</td></tr></table><br/></div><div class=\"wandb-col\"><h3>Run summary:</h3><br/><table class=\"wandb\"><tr><td>tr_accuracy</td><td>25</td></tr><tr><td>tr_loss</td><td>7.48744</td></tr><tr><td>val_accuracy</td><td>28.125</td></tr><tr><td>val_loss</td><td>7.582</td></tr></table><br/></div></div>"
            ]
          },
          "metadata": {}
        },
        {
          "output_type": "display_data",
          "data": {
            "text/plain": [
              "<IPython.core.display.HTML object>"
            ],
            "text/html": [
              " View run <strong style=\"color:#cdcd00\">e_10_hl_5_hs_128_lr_0.0001_opt_momentum_bs_32_init_random_ac_tanh_l2_0</strong> at: <a href='https://wandb.ai/arunangshudutta218-iitm/dl_assgn_1_q_4/runs/5pjh1i8t' target=\"_blank\">https://wandb.ai/arunangshudutta218-iitm/dl_assgn_1_q_4/runs/5pjh1i8t</a><br> View project at: <a href='https://wandb.ai/arunangshudutta218-iitm/dl_assgn_1_q_4' target=\"_blank\">https://wandb.ai/arunangshudutta218-iitm/dl_assgn_1_q_4</a><br>Synced 5 W&B file(s), 0 media file(s), 0 artifact file(s) and 0 other file(s)"
            ]
          },
          "metadata": {}
        },
        {
          "output_type": "display_data",
          "data": {
            "text/plain": [
              "<IPython.core.display.HTML object>"
            ],
            "text/html": [
              "Find logs at: <code>./wandb/run-20250309_194156-5pjh1i8t/logs</code>"
            ]
          },
          "metadata": {}
        },
        {
          "output_type": "stream",
          "name": "stderr",
          "text": [
            "\u001b[34m\u001b[1mwandb\u001b[0m: Sweep Agent: Waiting for job.\n",
            "\u001b[34m\u001b[1mwandb\u001b[0m: Job received.\n",
            "\u001b[34m\u001b[1mwandb\u001b[0m: Agent Starting Run: aafbdzs7 with config:\n",
            "\u001b[34m\u001b[1mwandb\u001b[0m: \tactivation: sigmoid\n",
            "\u001b[34m\u001b[1mwandb\u001b[0m: \tbatch_size: 32\n",
            "\u001b[34m\u001b[1mwandb\u001b[0m: \tepochs: 5\n",
            "\u001b[34m\u001b[1mwandb\u001b[0m: \thidden_size: 128\n",
            "\u001b[34m\u001b[1mwandb\u001b[0m: \tlearning_rate: 0.0001\n",
            "\u001b[34m\u001b[1mwandb\u001b[0m: \tnum_layers: 5\n",
            "\u001b[34m\u001b[1mwandb\u001b[0m: \toptimizer: nag\n",
            "\u001b[34m\u001b[1mwandb\u001b[0m: \tweight_decay: 0.0005\n",
            "\u001b[34m\u001b[1mwandb\u001b[0m: \tweight_init: random\n"
          ]
        },
        {
          "output_type": "display_data",
          "data": {
            "text/plain": [
              "<IPython.core.display.HTML object>"
            ],
            "text/html": [
              "Tracking run with wandb version 0.19.7"
            ]
          },
          "metadata": {}
        },
        {
          "output_type": "display_data",
          "data": {
            "text/plain": [
              "<IPython.core.display.HTML object>"
            ],
            "text/html": [
              "Run data is saved locally in <code>/content/wandb/run-20250309_194448-aafbdzs7</code>"
            ]
          },
          "metadata": {}
        },
        {
          "output_type": "display_data",
          "data": {
            "text/plain": [
              "<IPython.core.display.HTML object>"
            ],
            "text/html": [
              "Syncing run <strong><a href='https://wandb.ai/arunangshudutta218-iitm/dl_assgn_1_q_4/runs/aafbdzs7' target=\"_blank\">hearty-sweep-23</a></strong> to <a href='https://wandb.ai/arunangshudutta218-iitm/dl_assgn_1_q_4' target=\"_blank\">Weights & Biases</a> (<a href='https://wandb.me/developer-guide' target=\"_blank\">docs</a>)<br>Sweep page: <a href='https://wandb.ai/arunangshudutta218-iitm/dl_assgn_1_q_4/sweeps/sdlyh3ti' target=\"_blank\">https://wandb.ai/arunangshudutta218-iitm/dl_assgn_1_q_4/sweeps/sdlyh3ti</a>"
            ]
          },
          "metadata": {}
        },
        {
          "output_type": "display_data",
          "data": {
            "text/plain": [
              "<IPython.core.display.HTML object>"
            ],
            "text/html": [
              " View project at <a href='https://wandb.ai/arunangshudutta218-iitm/dl_assgn_1_q_4' target=\"_blank\">https://wandb.ai/arunangshudutta218-iitm/dl_assgn_1_q_4</a>"
            ]
          },
          "metadata": {}
        },
        {
          "output_type": "display_data",
          "data": {
            "text/plain": [
              "<IPython.core.display.HTML object>"
            ],
            "text/html": [
              " View sweep at <a href='https://wandb.ai/arunangshudutta218-iitm/dl_assgn_1_q_4/sweeps/sdlyh3ti' target=\"_blank\">https://wandb.ai/arunangshudutta218-iitm/dl_assgn_1_q_4/sweeps/sdlyh3ti</a>"
            ]
          },
          "metadata": {}
        },
        {
          "output_type": "display_data",
          "data": {
            "text/plain": [
              "<IPython.core.display.HTML object>"
            ],
            "text/html": [
              " View run at <a href='https://wandb.ai/arunangshudutta218-iitm/dl_assgn_1_q_4/runs/aafbdzs7' target=\"_blank\">https://wandb.ai/arunangshudutta218-iitm/dl_assgn_1_q_4/runs/aafbdzs7</a>"
            ]
          },
          "metadata": {}
        },
        {
          "output_type": "stream",
          "name": "stdout",
          "text": [
            "1312.0\n"
          ]
        },
        {
          "output_type": "stream",
          "name": "stderr",
          "text": [
            "100%|██████████| 1312/1312 [00:07<00:00, 173.16it/s]\n",
            "100%|██████████| 1312/1312 [00:09<00:00, 137.35it/s]\n",
            "100%|██████████| 1312/1312 [00:10<00:00, 125.86it/s]\n",
            "100%|██████████| 1312/1312 [00:10<00:00, 125.37it/s]\n",
            "100%|██████████| 1312/1312 [00:07<00:00, 179.65it/s]\n"
          ]
        },
        {
          "output_type": "display_data",
          "data": {
            "text/plain": [
              "<IPython.core.display.HTML object>"
            ],
            "text/html": []
          },
          "metadata": {}
        },
        {
          "output_type": "display_data",
          "data": {
            "text/plain": [
              "<IPython.core.display.HTML object>"
            ],
            "text/html": [
              "<br>    <style><br>        .wandb-row {<br>            display: flex;<br>            flex-direction: row;<br>            flex-wrap: wrap;<br>            justify-content: flex-start;<br>            width: 100%;<br>        }<br>        .wandb-col {<br>            display: flex;<br>            flex-direction: column;<br>            flex-basis: 100%;<br>            flex: 1;<br>            padding: 10px;<br>        }<br>    </style><br><div class=\"wandb-row\"><div class=\"wandb-col\"><h3>Run history:</h3><br/><table class=\"wandb\"><tr><td>tr_accuracy</td><td>▁▁██▇</td></tr><tr><td>tr_loss</td><td>█▆▂▁▁</td></tr><tr><td>val_accuracy</td><td>▁▇▆█▇</td></tr><tr><td>val_loss</td><td>█▆▂▁▁</td></tr></table><br/></div><div class=\"wandb-col\"><h3>Run summary:</h3><br/><table class=\"wandb\"><tr><td>tr_accuracy</td><td>90.625</td></tr><tr><td>tr_loss</td><td>0.51733</td></tr><tr><td>val_accuracy</td><td>84.375</td></tr><tr><td>val_loss</td><td>0.55019</td></tr></table><br/></div></div>"
            ]
          },
          "metadata": {}
        },
        {
          "output_type": "display_data",
          "data": {
            "text/plain": [
              "<IPython.core.display.HTML object>"
            ],
            "text/html": [
              " View run <strong style=\"color:#cdcd00\">e_5_hl_5_hs_128_lr_0.0001_opt_nag_bs_32_init_random_ac_sigmoid_l2_0.0005</strong> at: <a href='https://wandb.ai/arunangshudutta218-iitm/dl_assgn_1_q_4/runs/aafbdzs7' target=\"_blank\">https://wandb.ai/arunangshudutta218-iitm/dl_assgn_1_q_4/runs/aafbdzs7</a><br> View project at: <a href='https://wandb.ai/arunangshudutta218-iitm/dl_assgn_1_q_4' target=\"_blank\">https://wandb.ai/arunangshudutta218-iitm/dl_assgn_1_q_4</a><br>Synced 5 W&B file(s), 0 media file(s), 0 artifact file(s) and 0 other file(s)"
            ]
          },
          "metadata": {}
        },
        {
          "output_type": "display_data",
          "data": {
            "text/plain": [
              "<IPython.core.display.HTML object>"
            ],
            "text/html": [
              "Find logs at: <code>./wandb/run-20250309_194448-aafbdzs7/logs</code>"
            ]
          },
          "metadata": {}
        },
        {
          "output_type": "stream",
          "name": "stderr",
          "text": [
            "\u001b[34m\u001b[1mwandb\u001b[0m: Agent Starting Run: 58q3v7a9 with config:\n",
            "\u001b[34m\u001b[1mwandb\u001b[0m: \tactivation: sigmoid\n",
            "\u001b[34m\u001b[1mwandb\u001b[0m: \tbatch_size: 64\n",
            "\u001b[34m\u001b[1mwandb\u001b[0m: \tepochs: 10\n",
            "\u001b[34m\u001b[1mwandb\u001b[0m: \thidden_size: 64\n",
            "\u001b[34m\u001b[1mwandb\u001b[0m: \tlearning_rate: 0.001\n",
            "\u001b[34m\u001b[1mwandb\u001b[0m: \tnum_layers: 5\n",
            "\u001b[34m\u001b[1mwandb\u001b[0m: \toptimizer: momentum\n",
            "\u001b[34m\u001b[1mwandb\u001b[0m: \tweight_decay: 0.5\n",
            "\u001b[34m\u001b[1mwandb\u001b[0m: \tweight_init: Xavier\n"
          ]
        },
        {
          "output_type": "display_data",
          "data": {
            "text/plain": [
              "<IPython.core.display.HTML object>"
            ],
            "text/html": [
              "Tracking run with wandb version 0.19.7"
            ]
          },
          "metadata": {}
        },
        {
          "output_type": "display_data",
          "data": {
            "text/plain": [
              "<IPython.core.display.HTML object>"
            ],
            "text/html": [
              "Run data is saved locally in <code>/content/wandb/run-20250309_194549-58q3v7a9</code>"
            ]
          },
          "metadata": {}
        },
        {
          "output_type": "display_data",
          "data": {
            "text/plain": [
              "<IPython.core.display.HTML object>"
            ],
            "text/html": [
              "Syncing run <strong><a href='https://wandb.ai/arunangshudutta218-iitm/dl_assgn_1_q_4/runs/58q3v7a9' target=\"_blank\">smart-sweep-24</a></strong> to <a href='https://wandb.ai/arunangshudutta218-iitm/dl_assgn_1_q_4' target=\"_blank\">Weights & Biases</a> (<a href='https://wandb.me/developer-guide' target=\"_blank\">docs</a>)<br>Sweep page: <a href='https://wandb.ai/arunangshudutta218-iitm/dl_assgn_1_q_4/sweeps/sdlyh3ti' target=\"_blank\">https://wandb.ai/arunangshudutta218-iitm/dl_assgn_1_q_4/sweeps/sdlyh3ti</a>"
            ]
          },
          "metadata": {}
        },
        {
          "output_type": "display_data",
          "data": {
            "text/plain": [
              "<IPython.core.display.HTML object>"
            ],
            "text/html": [
              " View project at <a href='https://wandb.ai/arunangshudutta218-iitm/dl_assgn_1_q_4' target=\"_blank\">https://wandb.ai/arunangshudutta218-iitm/dl_assgn_1_q_4</a>"
            ]
          },
          "metadata": {}
        },
        {
          "output_type": "display_data",
          "data": {
            "text/plain": [
              "<IPython.core.display.HTML object>"
            ],
            "text/html": [
              " View sweep at <a href='https://wandb.ai/arunangshudutta218-iitm/dl_assgn_1_q_4/sweeps/sdlyh3ti' target=\"_blank\">https://wandb.ai/arunangshudutta218-iitm/dl_assgn_1_q_4/sweeps/sdlyh3ti</a>"
            ]
          },
          "metadata": {}
        },
        {
          "output_type": "display_data",
          "data": {
            "text/plain": [
              "<IPython.core.display.HTML object>"
            ],
            "text/html": [
              " View run at <a href='https://wandb.ai/arunangshudutta218-iitm/dl_assgn_1_q_4/runs/58q3v7a9' target=\"_blank\">https://wandb.ai/arunangshudutta218-iitm/dl_assgn_1_q_4/runs/58q3v7a9</a>"
            ]
          },
          "metadata": {}
        },
        {
          "output_type": "stream",
          "name": "stdout",
          "text": [
            "656.0\n"
          ]
        },
        {
          "output_type": "stream",
          "name": "stderr",
          "text": [
            "100%|██████████| 656/656 [00:02<00:00, 257.87it/s]\n",
            "100%|██████████| 656/656 [00:02<00:00, 227.74it/s]\n",
            "100%|██████████| 656/656 [00:04<00:00, 158.37it/s]\n",
            "100%|██████████| 656/656 [00:02<00:00, 254.66it/s]\n",
            "100%|██████████| 656/656 [00:02<00:00, 263.22it/s]\n",
            "100%|██████████| 656/656 [00:03<00:00, 182.00it/s]\n",
            "100%|██████████| 656/656 [00:03<00:00, 208.93it/s]\n",
            "100%|██████████| 656/656 [00:02<00:00, 252.30it/s]\n",
            "100%|██████████| 656/656 [00:02<00:00, 262.68it/s]\n",
            "100%|██████████| 656/656 [00:04<00:00, 144.70it/s]\n"
          ]
        },
        {
          "output_type": "display_data",
          "data": {
            "text/plain": [
              "<IPython.core.display.HTML object>"
            ],
            "text/html": []
          },
          "metadata": {}
        },
        {
          "output_type": "display_data",
          "data": {
            "text/plain": [
              "<IPython.core.display.HTML object>"
            ],
            "text/html": [
              "<br>    <style><br>        .wandb-row {<br>            display: flex;<br>            flex-direction: row;<br>            flex-wrap: wrap;<br>            justify-content: flex-start;<br>            width: 100%;<br>        }<br>        .wandb-col {<br>            display: flex;<br>            flex-direction: column;<br>            flex-basis: 100%;<br>            flex: 1;<br>            padding: 10px;<br>        }<br>    </style><br><div class=\"wandb-row\"><div class=\"wandb-col\"><h3>Run history:</h3><br/><table class=\"wandb\"><tr><td>tr_accuracy</td><td>▁█████████</td></tr><tr><td>tr_loss</td><td>█▁▁▁▁▁▁▁▁▁</td></tr><tr><td>val_accuracy</td><td>█▁▁▁▁▁▁▁▁▁</td></tr><tr><td>val_loss</td><td>█▁▁▁▁▁▁▁▁▁</td></tr></table><br/></div><div class=\"wandb-col\"><h3>Run summary:</h3><br/><table class=\"wandb\"><tr><td>tr_accuracy</td><td>10.9375</td></tr><tr><td>tr_loss</td><td>2.30255</td></tr><tr><td>val_accuracy</td><td>9.375</td></tr><tr><td>val_loss</td><td>2.3026</td></tr></table><br/></div></div>"
            ]
          },
          "metadata": {}
        },
        {
          "output_type": "display_data",
          "data": {
            "text/plain": [
              "<IPython.core.display.HTML object>"
            ],
            "text/html": [
              " View run <strong style=\"color:#cdcd00\">e_10_hl_5_hs_64_lr_0.001_opt_momentum_bs_64_init_Xavier_ac_sigmoid_l2_0.5</strong> at: <a href='https://wandb.ai/arunangshudutta218-iitm/dl_assgn_1_q_4/runs/58q3v7a9' target=\"_blank\">https://wandb.ai/arunangshudutta218-iitm/dl_assgn_1_q_4/runs/58q3v7a9</a><br> View project at: <a href='https://wandb.ai/arunangshudutta218-iitm/dl_assgn_1_q_4' target=\"_blank\">https://wandb.ai/arunangshudutta218-iitm/dl_assgn_1_q_4</a><br>Synced 5 W&B file(s), 0 media file(s), 0 artifact file(s) and 0 other file(s)"
            ]
          },
          "metadata": {}
        },
        {
          "output_type": "display_data",
          "data": {
            "text/plain": [
              "<IPython.core.display.HTML object>"
            ],
            "text/html": [
              "Find logs at: <code>./wandb/run-20250309_194549-58q3v7a9/logs</code>"
            ]
          },
          "metadata": {}
        },
        {
          "output_type": "stream",
          "name": "stderr",
          "text": [
            "\u001b[34m\u001b[1mwandb\u001b[0m: Agent Starting Run: u0a62qbt with config:\n",
            "\u001b[34m\u001b[1mwandb\u001b[0m: \tactivation: tanh\n",
            "\u001b[34m\u001b[1mwandb\u001b[0m: \tbatch_size: 32\n",
            "\u001b[34m\u001b[1mwandb\u001b[0m: \tepochs: 10\n",
            "\u001b[34m\u001b[1mwandb\u001b[0m: \thidden_size: 32\n",
            "\u001b[34m\u001b[1mwandb\u001b[0m: \tlearning_rate: 0.001\n",
            "\u001b[34m\u001b[1mwandb\u001b[0m: \tnum_layers: 5\n",
            "\u001b[34m\u001b[1mwandb\u001b[0m: \toptimizer: momentum\n",
            "\u001b[34m\u001b[1mwandb\u001b[0m: \tweight_decay: 0.0005\n",
            "\u001b[34m\u001b[1mwandb\u001b[0m: \tweight_init: Xavier\n"
          ]
        },
        {
          "output_type": "display_data",
          "data": {
            "text/plain": [
              "<IPython.core.display.HTML object>"
            ],
            "text/html": [
              "Tracking run with wandb version 0.19.7"
            ]
          },
          "metadata": {}
        },
        {
          "output_type": "display_data",
          "data": {
            "text/plain": [
              "<IPython.core.display.HTML object>"
            ],
            "text/html": [
              "Run data is saved locally in <code>/content/wandb/run-20250309_194635-u0a62qbt</code>"
            ]
          },
          "metadata": {}
        },
        {
          "output_type": "display_data",
          "data": {
            "text/plain": [
              "<IPython.core.display.HTML object>"
            ],
            "text/html": [
              "Syncing run <strong><a href='https://wandb.ai/arunangshudutta218-iitm/dl_assgn_1_q_4/runs/u0a62qbt' target=\"_blank\">stellar-sweep-25</a></strong> to <a href='https://wandb.ai/arunangshudutta218-iitm/dl_assgn_1_q_4' target=\"_blank\">Weights & Biases</a> (<a href='https://wandb.me/developer-guide' target=\"_blank\">docs</a>)<br>Sweep page: <a href='https://wandb.ai/arunangshudutta218-iitm/dl_assgn_1_q_4/sweeps/sdlyh3ti' target=\"_blank\">https://wandb.ai/arunangshudutta218-iitm/dl_assgn_1_q_4/sweeps/sdlyh3ti</a>"
            ]
          },
          "metadata": {}
        },
        {
          "output_type": "display_data",
          "data": {
            "text/plain": [
              "<IPython.core.display.HTML object>"
            ],
            "text/html": [
              " View project at <a href='https://wandb.ai/arunangshudutta218-iitm/dl_assgn_1_q_4' target=\"_blank\">https://wandb.ai/arunangshudutta218-iitm/dl_assgn_1_q_4</a>"
            ]
          },
          "metadata": {}
        },
        {
          "output_type": "display_data",
          "data": {
            "text/plain": [
              "<IPython.core.display.HTML object>"
            ],
            "text/html": [
              " View sweep at <a href='https://wandb.ai/arunangshudutta218-iitm/dl_assgn_1_q_4/sweeps/sdlyh3ti' target=\"_blank\">https://wandb.ai/arunangshudutta218-iitm/dl_assgn_1_q_4/sweeps/sdlyh3ti</a>"
            ]
          },
          "metadata": {}
        },
        {
          "output_type": "display_data",
          "data": {
            "text/plain": [
              "<IPython.core.display.HTML object>"
            ],
            "text/html": [
              " View run at <a href='https://wandb.ai/arunangshudutta218-iitm/dl_assgn_1_q_4/runs/u0a62qbt' target=\"_blank\">https://wandb.ai/arunangshudutta218-iitm/dl_assgn_1_q_4/runs/u0a62qbt</a>"
            ]
          },
          "metadata": {}
        },
        {
          "output_type": "stream",
          "name": "stdout",
          "text": [
            "1312.0\n"
          ]
        },
        {
          "output_type": "stream",
          "name": "stderr",
          "text": [
            "100%|██████████| 1312/1312 [00:02<00:00, 452.16it/s]\n",
            "100%|██████████| 1312/1312 [00:05<00:00, 258.98it/s]\n",
            "100%|██████████| 1312/1312 [00:02<00:00, 466.42it/s]\n",
            "100%|██████████| 1312/1312 [00:02<00:00, 468.33it/s]\n",
            "100%|██████████| 1312/1312 [00:03<00:00, 374.36it/s]\n",
            "100%|██████████| 1312/1312 [00:04<00:00, 320.22it/s]\n",
            "100%|██████████| 1312/1312 [00:02<00:00, 442.62it/s]\n",
            "100%|██████████| 1312/1312 [00:02<00:00, 470.26it/s]\n",
            "100%|██████████| 1312/1312 [00:05<00:00, 249.39it/s]\n",
            "100%|██████████| 1312/1312 [00:02<00:00, 474.10it/s]\n"
          ]
        },
        {
          "output_type": "display_data",
          "data": {
            "text/plain": [
              "<IPython.core.display.HTML object>"
            ],
            "text/html": []
          },
          "metadata": {}
        },
        {
          "output_type": "display_data",
          "data": {
            "text/plain": [
              "<IPython.core.display.HTML object>"
            ],
            "text/html": [
              "<br>    <style><br>        .wandb-row {<br>            display: flex;<br>            flex-direction: row;<br>            flex-wrap: wrap;<br>            justify-content: flex-start;<br>            width: 100%;<br>        }<br>        .wandb-col {<br>            display: flex;<br>            flex-direction: column;<br>            flex-basis: 100%;<br>            flex: 1;<br>            padding: 10px;<br>        }<br>    </style><br><div class=\"wandb-row\"><div class=\"wandb-col\"><h3>Run history:</h3><br/><table class=\"wandb\"><tr><td>tr_accuracy</td><td>▁▁▃▄▅▅▆▆█▆</td></tr><tr><td>tr_loss</td><td>█▅▃▃▂▂▂▁▁▁</td></tr><tr><td>val_accuracy</td><td>▁▂▄▅▅▅▆▇██</td></tr><tr><td>val_loss</td><td>█▅▃▃▂▂▂▁▁▁</td></tr></table><br/></div><div class=\"wandb-col\"><h3>Run summary:</h3><br/><table class=\"wandb\"><tr><td>tr_accuracy</td><td>84.375</td></tr><tr><td>tr_loss</td><td>0.47662</td></tr><tr><td>val_accuracy</td><td>96.875</td></tr><tr><td>val_loss</td><td>0.48567</td></tr></table><br/></div></div>"
            ]
          },
          "metadata": {}
        },
        {
          "output_type": "display_data",
          "data": {
            "text/plain": [
              "<IPython.core.display.HTML object>"
            ],
            "text/html": [
              " View run <strong style=\"color:#cdcd00\">e_10_hl_5_hs_32_lr_0.001_opt_momentum_bs_32_init_Xavier_ac_tanh_l2_0.0005</strong> at: <a href='https://wandb.ai/arunangshudutta218-iitm/dl_assgn_1_q_4/runs/u0a62qbt' target=\"_blank\">https://wandb.ai/arunangshudutta218-iitm/dl_assgn_1_q_4/runs/u0a62qbt</a><br> View project at: <a href='https://wandb.ai/arunangshudutta218-iitm/dl_assgn_1_q_4' target=\"_blank\">https://wandb.ai/arunangshudutta218-iitm/dl_assgn_1_q_4</a><br>Synced 5 W&B file(s), 0 media file(s), 0 artifact file(s) and 0 other file(s)"
            ]
          },
          "metadata": {}
        },
        {
          "output_type": "display_data",
          "data": {
            "text/plain": [
              "<IPython.core.display.HTML object>"
            ],
            "text/html": [
              "Find logs at: <code>./wandb/run-20250309_194635-u0a62qbt/logs</code>"
            ]
          },
          "metadata": {}
        },
        {
          "output_type": "stream",
          "name": "stderr",
          "text": [
            "\u001b[34m\u001b[1mwandb\u001b[0m: Agent Starting Run: uswp9qbm with config:\n",
            "\u001b[34m\u001b[1mwandb\u001b[0m: \tactivation: tanh\n",
            "\u001b[34m\u001b[1mwandb\u001b[0m: \tbatch_size: 32\n",
            "\u001b[34m\u001b[1mwandb\u001b[0m: \tepochs: 10\n",
            "\u001b[34m\u001b[1mwandb\u001b[0m: \thidden_size: 64\n",
            "\u001b[34m\u001b[1mwandb\u001b[0m: \tlearning_rate: 0.0001\n",
            "\u001b[34m\u001b[1mwandb\u001b[0m: \tnum_layers: 4\n",
            "\u001b[34m\u001b[1mwandb\u001b[0m: \toptimizer: nag\n",
            "\u001b[34m\u001b[1mwandb\u001b[0m: \tweight_decay: 0.0005\n",
            "\u001b[34m\u001b[1mwandb\u001b[0m: \tweight_init: random\n"
          ]
        },
        {
          "output_type": "display_data",
          "data": {
            "text/plain": [
              "<IPython.core.display.HTML object>"
            ],
            "text/html": [
              "Tracking run with wandb version 0.19.7"
            ]
          },
          "metadata": {}
        },
        {
          "output_type": "display_data",
          "data": {
            "text/plain": [
              "<IPython.core.display.HTML object>"
            ],
            "text/html": [
              "Run data is saved locally in <code>/content/wandb/run-20250309_194726-uswp9qbm</code>"
            ]
          },
          "metadata": {}
        },
        {
          "output_type": "display_data",
          "data": {
            "text/plain": [
              "<IPython.core.display.HTML object>"
            ],
            "text/html": [
              "Syncing run <strong><a href='https://wandb.ai/arunangshudutta218-iitm/dl_assgn_1_q_4/runs/uswp9qbm' target=\"_blank\">soft-sweep-26</a></strong> to <a href='https://wandb.ai/arunangshudutta218-iitm/dl_assgn_1_q_4' target=\"_blank\">Weights & Biases</a> (<a href='https://wandb.me/developer-guide' target=\"_blank\">docs</a>)<br>Sweep page: <a href='https://wandb.ai/arunangshudutta218-iitm/dl_assgn_1_q_4/sweeps/sdlyh3ti' target=\"_blank\">https://wandb.ai/arunangshudutta218-iitm/dl_assgn_1_q_4/sweeps/sdlyh3ti</a>"
            ]
          },
          "metadata": {}
        },
        {
          "output_type": "display_data",
          "data": {
            "text/plain": [
              "<IPython.core.display.HTML object>"
            ],
            "text/html": [
              " View project at <a href='https://wandb.ai/arunangshudutta218-iitm/dl_assgn_1_q_4' target=\"_blank\">https://wandb.ai/arunangshudutta218-iitm/dl_assgn_1_q_4</a>"
            ]
          },
          "metadata": {}
        },
        {
          "output_type": "display_data",
          "data": {
            "text/plain": [
              "<IPython.core.display.HTML object>"
            ],
            "text/html": [
              " View sweep at <a href='https://wandb.ai/arunangshudutta218-iitm/dl_assgn_1_q_4/sweeps/sdlyh3ti' target=\"_blank\">https://wandb.ai/arunangshudutta218-iitm/dl_assgn_1_q_4/sweeps/sdlyh3ti</a>"
            ]
          },
          "metadata": {}
        },
        {
          "output_type": "display_data",
          "data": {
            "text/plain": [
              "<IPython.core.display.HTML object>"
            ],
            "text/html": [
              " View run at <a href='https://wandb.ai/arunangshudutta218-iitm/dl_assgn_1_q_4/runs/uswp9qbm' target=\"_blank\">https://wandb.ai/arunangshudutta218-iitm/dl_assgn_1_q_4/runs/uswp9qbm</a>"
            ]
          },
          "metadata": {}
        },
        {
          "output_type": "stream",
          "name": "stdout",
          "text": [
            "1312.0\n"
          ]
        },
        {
          "output_type": "stream",
          "name": "stderr",
          "text": [
            "100%|██████████| 1312/1312 [00:05<00:00, 235.71it/s]\n",
            "100%|██████████| 1312/1312 [00:04<00:00, 298.13it/s]\n",
            "100%|██████████| 1312/1312 [00:06<00:00, 208.07it/s]\n",
            "100%|██████████| 1312/1312 [00:04<00:00, 290.34it/s]\n",
            "100%|██████████| 1312/1312 [00:06<00:00, 193.88it/s]\n",
            "100%|██████████| 1312/1312 [00:04<00:00, 289.57it/s]\n",
            "100%|██████████| 1312/1312 [00:06<00:00, 191.86it/s]\n",
            "100%|██████████| 1312/1312 [00:04<00:00, 283.44it/s]\n",
            "100%|██████████| 1312/1312 [00:07<00:00, 181.16it/s]\n",
            "100%|██████████| 1312/1312 [00:04<00:00, 279.16it/s]\n"
          ]
        },
        {
          "output_type": "display_data",
          "data": {
            "text/plain": [
              "<IPython.core.display.HTML object>"
            ],
            "text/html": []
          },
          "metadata": {}
        },
        {
          "output_type": "display_data",
          "data": {
            "text/plain": [
              "<IPython.core.display.HTML object>"
            ],
            "text/html": [
              "<br>    <style><br>        .wandb-row {<br>            display: flex;<br>            flex-direction: row;<br>            flex-wrap: wrap;<br>            justify-content: flex-start;<br>            width: 100%;<br>        }<br>        .wandb-col {<br>            display: flex;<br>            flex-direction: column;<br>            flex-basis: 100%;<br>            flex: 1;<br>            padding: 10px;<br>        }<br>    </style><br><div class=\"wandb-row\"><div class=\"wandb-col\"><h3>Run history:</h3><br/><table class=\"wandb\"><tr><td>tr_accuracy</td><td>▅▅▃▁█▃▆▃▁▁</td></tr><tr><td>tr_loss</td><td>▆▆▂▄▁▇▆█▇▄</td></tr><tr><td>val_accuracy</td><td>▄▁▄█▁▄▃▃██</td></tr><tr><td>val_loss</td><td>▆▆▂▄▁▇▆█▇▄</td></tr></table><br/></div><div class=\"wandb-col\"><h3>Run summary:</h3><br/><table class=\"wandb\"><tr><td>tr_accuracy</td><td>3.125</td></tr><tr><td>tr_loss</td><td>16.87281</td></tr><tr><td>val_accuracy</td><td>25</td></tr><tr><td>val_loss</td><td>16.74632</td></tr></table><br/></div></div>"
            ]
          },
          "metadata": {}
        },
        {
          "output_type": "display_data",
          "data": {
            "text/plain": [
              "<IPython.core.display.HTML object>"
            ],
            "text/html": [
              " View run <strong style=\"color:#cdcd00\">e_10_hl_4_hs_64_lr_0.0001_opt_nag_bs_32_init_random_ac_tanh_l2_0.0005</strong> at: <a href='https://wandb.ai/arunangshudutta218-iitm/dl_assgn_1_q_4/runs/uswp9qbm' target=\"_blank\">https://wandb.ai/arunangshudutta218-iitm/dl_assgn_1_q_4/runs/uswp9qbm</a><br> View project at: <a href='https://wandb.ai/arunangshudutta218-iitm/dl_assgn_1_q_4' target=\"_blank\">https://wandb.ai/arunangshudutta218-iitm/dl_assgn_1_q_4</a><br>Synced 5 W&B file(s), 0 media file(s), 0 artifact file(s) and 0 other file(s)"
            ]
          },
          "metadata": {}
        },
        {
          "output_type": "display_data",
          "data": {
            "text/plain": [
              "<IPython.core.display.HTML object>"
            ],
            "text/html": [
              "Find logs at: <code>./wandb/run-20250309_194726-uswp9qbm/logs</code>"
            ]
          },
          "metadata": {}
        },
        {
          "output_type": "stream",
          "name": "stderr",
          "text": [
            "\u001b[34m\u001b[1mwandb\u001b[0m: Agent Starting Run: wkvps5ob with config:\n",
            "\u001b[34m\u001b[1mwandb\u001b[0m: \tactivation: ReLU\n",
            "\u001b[34m\u001b[1mwandb\u001b[0m: \tbatch_size: 64\n",
            "\u001b[34m\u001b[1mwandb\u001b[0m: \tepochs: 5\n",
            "\u001b[34m\u001b[1mwandb\u001b[0m: \thidden_size: 32\n",
            "\u001b[34m\u001b[1mwandb\u001b[0m: \tlearning_rate: 0.001\n",
            "\u001b[34m\u001b[1mwandb\u001b[0m: \tnum_layers: 4\n",
            "\u001b[34m\u001b[1mwandb\u001b[0m: \toptimizer: momentum\n",
            "\u001b[34m\u001b[1mwandb\u001b[0m: \tweight_decay: 0.0005\n",
            "\u001b[34m\u001b[1mwandb\u001b[0m: \tweight_init: Xavier\n"
          ]
        },
        {
          "output_type": "display_data",
          "data": {
            "text/plain": [
              "<IPython.core.display.HTML object>"
            ],
            "text/html": [
              "Tracking run with wandb version 0.19.7"
            ]
          },
          "metadata": {}
        },
        {
          "output_type": "display_data",
          "data": {
            "text/plain": [
              "<IPython.core.display.HTML object>"
            ],
            "text/html": [
              "Run data is saved locally in <code>/content/wandb/run-20250309_194843-wkvps5ob</code>"
            ]
          },
          "metadata": {}
        },
        {
          "output_type": "display_data",
          "data": {
            "text/plain": [
              "<IPython.core.display.HTML object>"
            ],
            "text/html": [
              "Syncing run <strong><a href='https://wandb.ai/arunangshudutta218-iitm/dl_assgn_1_q_4/runs/wkvps5ob' target=\"_blank\">fanciful-sweep-27</a></strong> to <a href='https://wandb.ai/arunangshudutta218-iitm/dl_assgn_1_q_4' target=\"_blank\">Weights & Biases</a> (<a href='https://wandb.me/developer-guide' target=\"_blank\">docs</a>)<br>Sweep page: <a href='https://wandb.ai/arunangshudutta218-iitm/dl_assgn_1_q_4/sweeps/sdlyh3ti' target=\"_blank\">https://wandb.ai/arunangshudutta218-iitm/dl_assgn_1_q_4/sweeps/sdlyh3ti</a>"
            ]
          },
          "metadata": {}
        },
        {
          "output_type": "display_data",
          "data": {
            "text/plain": [
              "<IPython.core.display.HTML object>"
            ],
            "text/html": [
              " View project at <a href='https://wandb.ai/arunangshudutta218-iitm/dl_assgn_1_q_4' target=\"_blank\">https://wandb.ai/arunangshudutta218-iitm/dl_assgn_1_q_4</a>"
            ]
          },
          "metadata": {}
        },
        {
          "output_type": "display_data",
          "data": {
            "text/plain": [
              "<IPython.core.display.HTML object>"
            ],
            "text/html": [
              " View sweep at <a href='https://wandb.ai/arunangshudutta218-iitm/dl_assgn_1_q_4/sweeps/sdlyh3ti' target=\"_blank\">https://wandb.ai/arunangshudutta218-iitm/dl_assgn_1_q_4/sweeps/sdlyh3ti</a>"
            ]
          },
          "metadata": {}
        },
        {
          "output_type": "display_data",
          "data": {
            "text/plain": [
              "<IPython.core.display.HTML object>"
            ],
            "text/html": [
              " View run at <a href='https://wandb.ai/arunangshudutta218-iitm/dl_assgn_1_q_4/runs/wkvps5ob' target=\"_blank\">https://wandb.ai/arunangshudutta218-iitm/dl_assgn_1_q_4/runs/wkvps5ob</a>"
            ]
          },
          "metadata": {}
        },
        {
          "output_type": "stream",
          "name": "stdout",
          "text": [
            "656.0\n"
          ]
        },
        {
          "output_type": "stream",
          "name": "stderr",
          "text": [
            "100%|██████████| 656/656 [00:01<00:00, 621.21it/s]\n",
            "100%|██████████| 656/656 [00:01<00:00, 648.65it/s]\n",
            "100%|██████████| 656/656 [00:01<00:00, 634.43it/s]\n",
            "100%|██████████| 656/656 [00:01<00:00, 640.21it/s]\n",
            "100%|██████████| 656/656 [00:00<00:00, 663.23it/s]\n"
          ]
        },
        {
          "output_type": "display_data",
          "data": {
            "text/plain": [
              "<IPython.core.display.HTML object>"
            ],
            "text/html": []
          },
          "metadata": {}
        },
        {
          "output_type": "display_data",
          "data": {
            "text/plain": [
              "<IPython.core.display.HTML object>"
            ],
            "text/html": [
              "<br>    <style><br>        .wandb-row {<br>            display: flex;<br>            flex-direction: row;<br>            flex-wrap: wrap;<br>            justify-content: flex-start;<br>            width: 100%;<br>        }<br>        .wandb-col {<br>            display: flex;<br>            flex-direction: column;<br>            flex-basis: 100%;<br>            flex: 1;<br>            padding: 10px;<br>        }<br>    </style><br><div class=\"wandb-row\"><div class=\"wandb-col\"><h3>Run history:</h3><br/><table class=\"wandb\"><tr><td>tr_accuracy</td><td>▁▆▇██</td></tr><tr><td>tr_loss</td><td>█▄▂▁▁</td></tr><tr><td>val_accuracy</td><td>▁▆███</td></tr><tr><td>val_loss</td><td>█▄▂▁▁</td></tr></table><br/></div><div class=\"wandb-col\"><h3>Run summary:</h3><br/><table class=\"wandb\"><tr><td>tr_accuracy</td><td>76.5625</td></tr><tr><td>tr_loss</td><td>0.75224</td></tr><tr><td>val_accuracy</td><td>75</td></tr><tr><td>val_loss</td><td>0.75673</td></tr></table><br/></div></div>"
            ]
          },
          "metadata": {}
        },
        {
          "output_type": "display_data",
          "data": {
            "text/plain": [
              "<IPython.core.display.HTML object>"
            ],
            "text/html": [
              " View run <strong style=\"color:#cdcd00\">e_5_hl_4_hs_32_lr_0.001_opt_momentum_bs_64_init_Xavier_ac_ReLU_l2_0.0005</strong> at: <a href='https://wandb.ai/arunangshudutta218-iitm/dl_assgn_1_q_4/runs/wkvps5ob' target=\"_blank\">https://wandb.ai/arunangshudutta218-iitm/dl_assgn_1_q_4/runs/wkvps5ob</a><br> View project at: <a href='https://wandb.ai/arunangshudutta218-iitm/dl_assgn_1_q_4' target=\"_blank\">https://wandb.ai/arunangshudutta218-iitm/dl_assgn_1_q_4</a><br>Synced 5 W&B file(s), 0 media file(s), 0 artifact file(s) and 0 other file(s)"
            ]
          },
          "metadata": {}
        },
        {
          "output_type": "display_data",
          "data": {
            "text/plain": [
              "<IPython.core.display.HTML object>"
            ],
            "text/html": [
              "Find logs at: <code>./wandb/run-20250309_194843-wkvps5ob/logs</code>"
            ]
          },
          "metadata": {}
        },
        {
          "output_type": "stream",
          "name": "stderr",
          "text": [
            "\u001b[34m\u001b[1mwandb\u001b[0m: Agent Starting Run: yyv7189j with config:\n",
            "\u001b[34m\u001b[1mwandb\u001b[0m: \tactivation: sigmoid\n",
            "\u001b[34m\u001b[1mwandb\u001b[0m: \tbatch_size: 32\n",
            "\u001b[34m\u001b[1mwandb\u001b[0m: \tepochs: 10\n",
            "\u001b[34m\u001b[1mwandb\u001b[0m: \thidden_size: 128\n",
            "\u001b[34m\u001b[1mwandb\u001b[0m: \tlearning_rate: 0.001\n",
            "\u001b[34m\u001b[1mwandb\u001b[0m: \tnum_layers: 4\n",
            "\u001b[34m\u001b[1mwandb\u001b[0m: \toptimizer: rmsprop\n",
            "\u001b[34m\u001b[1mwandb\u001b[0m: \tweight_decay: 0.5\n",
            "\u001b[34m\u001b[1mwandb\u001b[0m: \tweight_init: random\n"
          ]
        },
        {
          "output_type": "display_data",
          "data": {
            "text/plain": [
              "<IPython.core.display.HTML object>"
            ],
            "text/html": [
              "Tracking run with wandb version 0.19.7"
            ]
          },
          "metadata": {}
        },
        {
          "output_type": "display_data",
          "data": {
            "text/plain": [
              "<IPython.core.display.HTML object>"
            ],
            "text/html": [
              "Run data is saved locally in <code>/content/wandb/run-20250309_194853-yyv7189j</code>"
            ]
          },
          "metadata": {}
        },
        {
          "output_type": "display_data",
          "data": {
            "text/plain": [
              "<IPython.core.display.HTML object>"
            ],
            "text/html": [
              "Syncing run <strong><a href='https://wandb.ai/arunangshudutta218-iitm/dl_assgn_1_q_4/runs/yyv7189j' target=\"_blank\">expert-sweep-28</a></strong> to <a href='https://wandb.ai/arunangshudutta218-iitm/dl_assgn_1_q_4' target=\"_blank\">Weights & Biases</a> (<a href='https://wandb.me/developer-guide' target=\"_blank\">docs</a>)<br>Sweep page: <a href='https://wandb.ai/arunangshudutta218-iitm/dl_assgn_1_q_4/sweeps/sdlyh3ti' target=\"_blank\">https://wandb.ai/arunangshudutta218-iitm/dl_assgn_1_q_4/sweeps/sdlyh3ti</a>"
            ]
          },
          "metadata": {}
        },
        {
          "output_type": "display_data",
          "data": {
            "text/plain": [
              "<IPython.core.display.HTML object>"
            ],
            "text/html": [
              " View project at <a href='https://wandb.ai/arunangshudutta218-iitm/dl_assgn_1_q_4' target=\"_blank\">https://wandb.ai/arunangshudutta218-iitm/dl_assgn_1_q_4</a>"
            ]
          },
          "metadata": {}
        },
        {
          "output_type": "display_data",
          "data": {
            "text/plain": [
              "<IPython.core.display.HTML object>"
            ],
            "text/html": [
              " View sweep at <a href='https://wandb.ai/arunangshudutta218-iitm/dl_assgn_1_q_4/sweeps/sdlyh3ti' target=\"_blank\">https://wandb.ai/arunangshudutta218-iitm/dl_assgn_1_q_4/sweeps/sdlyh3ti</a>"
            ]
          },
          "metadata": {}
        },
        {
          "output_type": "display_data",
          "data": {
            "text/plain": [
              "<IPython.core.display.HTML object>"
            ],
            "text/html": [
              " View run at <a href='https://wandb.ai/arunangshudutta218-iitm/dl_assgn_1_q_4/runs/yyv7189j' target=\"_blank\">https://wandb.ai/arunangshudutta218-iitm/dl_assgn_1_q_4/runs/yyv7189j</a>"
            ]
          },
          "metadata": {}
        },
        {
          "output_type": "stream",
          "name": "stdout",
          "text": [
            "1312.0\n"
          ]
        },
        {
          "output_type": "stream",
          "name": "stderr",
          "text": [
            "100%|██████████| 1312/1312 [00:07<00:00, 167.80it/s]\n",
            "100%|██████████| 1312/1312 [00:09<00:00, 137.89it/s]\n",
            "100%|██████████| 1312/1312 [00:09<00:00, 136.42it/s]\n",
            "100%|██████████| 1312/1312 [00:07<00:00, 184.62it/s]\n",
            "100%|██████████| 1312/1312 [00:08<00:00, 155.81it/s]\n",
            "100%|██████████| 1312/1312 [00:09<00:00, 134.02it/s]\n",
            "100%|██████████| 1312/1312 [00:08<00:00, 147.43it/s]\n",
            "100%|██████████| 1312/1312 [00:07<00:00, 181.71it/s]\n",
            "100%|██████████| 1312/1312 [00:09<00:00, 134.14it/s]\n",
            "100%|██████████| 1312/1312 [00:09<00:00, 132.58it/s]\n"
          ]
        },
        {
          "output_type": "display_data",
          "data": {
            "text/plain": [
              "<IPython.core.display.HTML object>"
            ],
            "text/html": []
          },
          "metadata": {}
        },
        {
          "output_type": "display_data",
          "data": {
            "text/plain": [
              "<IPython.core.display.HTML object>"
            ],
            "text/html": [
              "<br>    <style><br>        .wandb-row {<br>            display: flex;<br>            flex-direction: row;<br>            flex-wrap: wrap;<br>            justify-content: flex-start;<br>            width: 100%;<br>        }<br>        .wandb-col {<br>            display: flex;<br>            flex-direction: column;<br>            flex-basis: 100%;<br>            flex: 1;<br>            padding: 10px;<br>        }<br>    </style><br><div class=\"wandb-row\"><div class=\"wandb-col\"><h3>Run history:</h3><br/><table class=\"wandb\"><tr><td>tr_accuracy</td><td>█▃▃▃▃▂▂▂▂▁</td></tr><tr><td>tr_loss</td><td>▁▇▇███████</td></tr><tr><td>val_accuracy</td><td>▆▃▁▃█████▇</td></tr><tr><td>val_loss</td><td>▁▇▇███████</td></tr></table><br/></div><div class=\"wandb-col\"><h3>Run summary:</h3><br/><table class=\"wandb\"><tr><td>tr_accuracy</td><td>37.5</td></tr><tr><td>tr_loss</td><td>1.37468</td></tr><tr><td>val_accuracy</td><td>62.5</td></tr><tr><td>val_loss</td><td>1.37357</td></tr></table><br/></div></div>"
            ]
          },
          "metadata": {}
        },
        {
          "output_type": "display_data",
          "data": {
            "text/plain": [
              "<IPython.core.display.HTML object>"
            ],
            "text/html": [
              " View run <strong style=\"color:#cdcd00\">e_10_hl_4_hs_128_lr_0.001_opt_rmsprop_bs_32_init_random_ac_sigmoid_l2_0.5</strong> at: <a href='https://wandb.ai/arunangshudutta218-iitm/dl_assgn_1_q_4/runs/yyv7189j' target=\"_blank\">https://wandb.ai/arunangshudutta218-iitm/dl_assgn_1_q_4/runs/yyv7189j</a><br> View project at: <a href='https://wandb.ai/arunangshudutta218-iitm/dl_assgn_1_q_4' target=\"_blank\">https://wandb.ai/arunangshudutta218-iitm/dl_assgn_1_q_4</a><br>Synced 5 W&B file(s), 0 media file(s), 0 artifact file(s) and 0 other file(s)"
            ]
          },
          "metadata": {}
        },
        {
          "output_type": "display_data",
          "data": {
            "text/plain": [
              "<IPython.core.display.HTML object>"
            ],
            "text/html": [
              "Find logs at: <code>./wandb/run-20250309_194853-yyv7189j/logs</code>"
            ]
          },
          "metadata": {}
        },
        {
          "output_type": "stream",
          "name": "stderr",
          "text": [
            "\u001b[34m\u001b[1mwandb\u001b[0m: Agent Starting Run: 1du2gbxv with config:\n",
            "\u001b[34m\u001b[1mwandb\u001b[0m: \tactivation: ReLU\n",
            "\u001b[34m\u001b[1mwandb\u001b[0m: \tbatch_size: 64\n",
            "\u001b[34m\u001b[1mwandb\u001b[0m: \tepochs: 5\n",
            "\u001b[34m\u001b[1mwandb\u001b[0m: \thidden_size: 32\n",
            "\u001b[34m\u001b[1mwandb\u001b[0m: \tlearning_rate: 0.001\n",
            "\u001b[34m\u001b[1mwandb\u001b[0m: \tnum_layers: 3\n",
            "\u001b[34m\u001b[1mwandb\u001b[0m: \toptimizer: nadam\n",
            "\u001b[34m\u001b[1mwandb\u001b[0m: \tweight_decay: 0.5\n",
            "\u001b[34m\u001b[1mwandb\u001b[0m: \tweight_init: random\n"
          ]
        },
        {
          "output_type": "display_data",
          "data": {
            "text/plain": [
              "<IPython.core.display.HTML object>"
            ],
            "text/html": [
              "Tracking run with wandb version 0.19.7"
            ]
          },
          "metadata": {}
        },
        {
          "output_type": "display_data",
          "data": {
            "text/plain": [
              "<IPython.core.display.HTML object>"
            ],
            "text/html": [
              "Run data is saved locally in <code>/content/wandb/run-20250309_195045-1du2gbxv</code>"
            ]
          },
          "metadata": {}
        },
        {
          "output_type": "display_data",
          "data": {
            "text/plain": [
              "<IPython.core.display.HTML object>"
            ],
            "text/html": [
              "Syncing run <strong><a href='https://wandb.ai/arunangshudutta218-iitm/dl_assgn_1_q_4/runs/1du2gbxv' target=\"_blank\">sparkling-sweep-29</a></strong> to <a href='https://wandb.ai/arunangshudutta218-iitm/dl_assgn_1_q_4' target=\"_blank\">Weights & Biases</a> (<a href='https://wandb.me/developer-guide' target=\"_blank\">docs</a>)<br>Sweep page: <a href='https://wandb.ai/arunangshudutta218-iitm/dl_assgn_1_q_4/sweeps/sdlyh3ti' target=\"_blank\">https://wandb.ai/arunangshudutta218-iitm/dl_assgn_1_q_4/sweeps/sdlyh3ti</a>"
            ]
          },
          "metadata": {}
        },
        {
          "output_type": "display_data",
          "data": {
            "text/plain": [
              "<IPython.core.display.HTML object>"
            ],
            "text/html": [
              " View project at <a href='https://wandb.ai/arunangshudutta218-iitm/dl_assgn_1_q_4' target=\"_blank\">https://wandb.ai/arunangshudutta218-iitm/dl_assgn_1_q_4</a>"
            ]
          },
          "metadata": {}
        },
        {
          "output_type": "display_data",
          "data": {
            "text/plain": [
              "<IPython.core.display.HTML object>"
            ],
            "text/html": [
              " View sweep at <a href='https://wandb.ai/arunangshudutta218-iitm/dl_assgn_1_q_4/sweeps/sdlyh3ti' target=\"_blank\">https://wandb.ai/arunangshudutta218-iitm/dl_assgn_1_q_4/sweeps/sdlyh3ti</a>"
            ]
          },
          "metadata": {}
        },
        {
          "output_type": "display_data",
          "data": {
            "text/plain": [
              "<IPython.core.display.HTML object>"
            ],
            "text/html": [
              " View run at <a href='https://wandb.ai/arunangshudutta218-iitm/dl_assgn_1_q_4/runs/1du2gbxv' target=\"_blank\">https://wandb.ai/arunangshudutta218-iitm/dl_assgn_1_q_4/runs/1du2gbxv</a>"
            ]
          },
          "metadata": {}
        },
        {
          "output_type": "stream",
          "name": "stdout",
          "text": [
            "656.0\n"
          ]
        },
        {
          "output_type": "stream",
          "name": "stderr",
          "text": [
            "100%|██████████| 656/656 [00:02<00:00, 313.45it/s]\n",
            "100%|██████████| 656/656 [00:03<00:00, 216.11it/s]\n",
            "100%|██████████| 656/656 [00:01<00:00, 482.93it/s]\n",
            "100%|██████████| 656/656 [00:01<00:00, 474.64it/s]\n",
            "100%|██████████| 656/656 [00:01<00:00, 488.26it/s]\n"
          ]
        },
        {
          "output_type": "display_data",
          "data": {
            "text/plain": [
              "<IPython.core.display.HTML object>"
            ],
            "text/html": []
          },
          "metadata": {}
        },
        {
          "output_type": "display_data",
          "data": {
            "text/plain": [
              "<IPython.core.display.HTML object>"
            ],
            "text/html": [
              "<br>    <style><br>        .wandb-row {<br>            display: flex;<br>            flex-direction: row;<br>            flex-wrap: wrap;<br>            justify-content: flex-start;<br>            width: 100%;<br>        }<br>        .wandb-col {<br>            display: flex;<br>            flex-direction: column;<br>            flex-basis: 100%;<br>            flex: 1;<br>            padding: 10px;<br>        }<br>    </style><br><div class=\"wandb-row\"><div class=\"wandb-col\"><h3>Run history:</h3><br/><table class=\"wandb\"><tr><td>tr_accuracy</td><td>▁▁▁▁▁</td></tr><tr><td>val_accuracy</td><td>▁▁▁▁▁</td></tr></table><br/></div><div class=\"wandb-col\"><h3>Run summary:</h3><br/><table class=\"wandb\"><tr><td>tr_accuracy</td><td>12.5</td></tr><tr><td>tr_loss</td><td>nan</td></tr><tr><td>val_accuracy</td><td>6.25</td></tr><tr><td>val_loss</td><td>nan</td></tr></table><br/></div></div>"
            ]
          },
          "metadata": {}
        },
        {
          "output_type": "display_data",
          "data": {
            "text/plain": [
              "<IPython.core.display.HTML object>"
            ],
            "text/html": [
              " View run <strong style=\"color:#cdcd00\">e_5_hl_3_hs_32_lr_0.001_opt_nadam_bs_64_init_random_ac_ReLU_l2_0.5</strong> at: <a href='https://wandb.ai/arunangshudutta218-iitm/dl_assgn_1_q_4/runs/1du2gbxv' target=\"_blank\">https://wandb.ai/arunangshudutta218-iitm/dl_assgn_1_q_4/runs/1du2gbxv</a><br> View project at: <a href='https://wandb.ai/arunangshudutta218-iitm/dl_assgn_1_q_4' target=\"_blank\">https://wandb.ai/arunangshudutta218-iitm/dl_assgn_1_q_4</a><br>Synced 5 W&B file(s), 0 media file(s), 0 artifact file(s) and 0 other file(s)"
            ]
          },
          "metadata": {}
        },
        {
          "output_type": "display_data",
          "data": {
            "text/plain": [
              "<IPython.core.display.HTML object>"
            ],
            "text/html": [
              "Find logs at: <code>./wandb/run-20250309_195045-1du2gbxv/logs</code>"
            ]
          },
          "metadata": {}
        },
        {
          "output_type": "stream",
          "name": "stderr",
          "text": [
            "\u001b[34m\u001b[1mwandb\u001b[0m: Agent Starting Run: aryevzk5 with config:\n",
            "\u001b[34m\u001b[1mwandb\u001b[0m: \tactivation: ReLU\n",
            "\u001b[34m\u001b[1mwandb\u001b[0m: \tbatch_size: 16\n",
            "\u001b[34m\u001b[1mwandb\u001b[0m: \tepochs: 5\n",
            "\u001b[34m\u001b[1mwandb\u001b[0m: \thidden_size: 64\n",
            "\u001b[34m\u001b[1mwandb\u001b[0m: \tlearning_rate: 0.0001\n",
            "\u001b[34m\u001b[1mwandb\u001b[0m: \tnum_layers: 5\n",
            "\u001b[34m\u001b[1mwandb\u001b[0m: \toptimizer: nadam\n",
            "\u001b[34m\u001b[1mwandb\u001b[0m: \tweight_decay: 0\n",
            "\u001b[34m\u001b[1mwandb\u001b[0m: \tweight_init: random\n"
          ]
        },
        {
          "output_type": "display_data",
          "data": {
            "text/plain": [
              "<IPython.core.display.HTML object>"
            ],
            "text/html": [
              "Tracking run with wandb version 0.19.7"
            ]
          },
          "metadata": {}
        },
        {
          "output_type": "display_data",
          "data": {
            "text/plain": [
              "<IPython.core.display.HTML object>"
            ],
            "text/html": [
              "Run data is saved locally in <code>/content/wandb/run-20250309_195100-aryevzk5</code>"
            ]
          },
          "metadata": {}
        },
        {
          "output_type": "display_data",
          "data": {
            "text/plain": [
              "<IPython.core.display.HTML object>"
            ],
            "text/html": [
              "Syncing run <strong><a href='https://wandb.ai/arunangshudutta218-iitm/dl_assgn_1_q_4/runs/aryevzk5' target=\"_blank\">hearty-sweep-30</a></strong> to <a href='https://wandb.ai/arunangshudutta218-iitm/dl_assgn_1_q_4' target=\"_blank\">Weights & Biases</a> (<a href='https://wandb.me/developer-guide' target=\"_blank\">docs</a>)<br>Sweep page: <a href='https://wandb.ai/arunangshudutta218-iitm/dl_assgn_1_q_4/sweeps/sdlyh3ti' target=\"_blank\">https://wandb.ai/arunangshudutta218-iitm/dl_assgn_1_q_4/sweeps/sdlyh3ti</a>"
            ]
          },
          "metadata": {}
        },
        {
          "output_type": "display_data",
          "data": {
            "text/plain": [
              "<IPython.core.display.HTML object>"
            ],
            "text/html": [
              " View project at <a href='https://wandb.ai/arunangshudutta218-iitm/dl_assgn_1_q_4' target=\"_blank\">https://wandb.ai/arunangshudutta218-iitm/dl_assgn_1_q_4</a>"
            ]
          },
          "metadata": {}
        },
        {
          "output_type": "display_data",
          "data": {
            "text/plain": [
              "<IPython.core.display.HTML object>"
            ],
            "text/html": [
              " View sweep at <a href='https://wandb.ai/arunangshudutta218-iitm/dl_assgn_1_q_4/sweeps/sdlyh3ti' target=\"_blank\">https://wandb.ai/arunangshudutta218-iitm/dl_assgn_1_q_4/sweeps/sdlyh3ti</a>"
            ]
          },
          "metadata": {}
        },
        {
          "output_type": "display_data",
          "data": {
            "text/plain": [
              "<IPython.core.display.HTML object>"
            ],
            "text/html": [
              " View run at <a href='https://wandb.ai/arunangshudutta218-iitm/dl_assgn_1_q_4/runs/aryevzk5' target=\"_blank\">https://wandb.ai/arunangshudutta218-iitm/dl_assgn_1_q_4/runs/aryevzk5</a>"
            ]
          },
          "metadata": {}
        },
        {
          "output_type": "stream",
          "name": "stdout",
          "text": [
            "2625.0\n"
          ]
        },
        {
          "output_type": "stream",
          "name": "stderr",
          "text": [
            "100%|██████████| 2625/2625 [00:11<00:00, 233.88it/s]\n",
            "100%|██████████| 2625/2625 [00:10<00:00, 238.85it/s]\n",
            "100%|██████████| 2625/2625 [00:10<00:00, 247.90it/s]\n",
            "100%|██████████| 2625/2625 [00:08<00:00, 303.48it/s]\n",
            "100%|██████████| 2625/2625 [00:10<00:00, 245.43it/s]\n"
          ]
        },
        {
          "output_type": "display_data",
          "data": {
            "text/plain": [
              "<IPython.core.display.HTML object>"
            ],
            "text/html": []
          },
          "metadata": {}
        },
        {
          "output_type": "display_data",
          "data": {
            "text/plain": [
              "<IPython.core.display.HTML object>"
            ],
            "text/html": [
              "<br>    <style><br>        .wandb-row {<br>            display: flex;<br>            flex-direction: row;<br>            flex-wrap: wrap;<br>            justify-content: flex-start;<br>            width: 100%;<br>        }<br>        .wandb-col {<br>            display: flex;<br>            flex-direction: column;<br>            flex-basis: 100%;<br>            flex: 1;<br>            padding: 10px;<br>        }<br>    </style><br><div class=\"wandb-row\"><div class=\"wandb-col\"><h3>Run history:</h3><br/><table class=\"wandb\"><tr><td>tr_accuracy</td><td>▁▁▁▁▁</td></tr><tr><td>val_accuracy</td><td>▁▁▁▁▁</td></tr></table><br/></div><div class=\"wandb-col\"><h3>Run summary:</h3><br/><table class=\"wandb\"><tr><td>tr_accuracy</td><td>18.75</td></tr><tr><td>tr_loss</td><td>nan</td></tr><tr><td>val_accuracy</td><td>6.25</td></tr><tr><td>val_loss</td><td>nan</td></tr></table><br/></div></div>"
            ]
          },
          "metadata": {}
        },
        {
          "output_type": "display_data",
          "data": {
            "text/plain": [
              "<IPython.core.display.HTML object>"
            ],
            "text/html": [
              " View run <strong style=\"color:#cdcd00\">e_5_hl_5_hs_64_lr_0.0001_opt_nadam_bs_16_init_random_ac_ReLU_l2_0</strong> at: <a href='https://wandb.ai/arunangshudutta218-iitm/dl_assgn_1_q_4/runs/aryevzk5' target=\"_blank\">https://wandb.ai/arunangshudutta218-iitm/dl_assgn_1_q_4/runs/aryevzk5</a><br> View project at: <a href='https://wandb.ai/arunangshudutta218-iitm/dl_assgn_1_q_4' target=\"_blank\">https://wandb.ai/arunangshudutta218-iitm/dl_assgn_1_q_4</a><br>Synced 5 W&B file(s), 0 media file(s), 0 artifact file(s) and 0 other file(s)"
            ]
          },
          "metadata": {}
        },
        {
          "output_type": "display_data",
          "data": {
            "text/plain": [
              "<IPython.core.display.HTML object>"
            ],
            "text/html": [
              "Find logs at: <code>./wandb/run-20250309_195100-aryevzk5/logs</code>"
            ]
          },
          "metadata": {}
        },
        {
          "output_type": "stream",
          "name": "stderr",
          "text": [
            "\u001b[34m\u001b[1mwandb\u001b[0m: Agent Starting Run: lcmokav4 with config:\n",
            "\u001b[34m\u001b[1mwandb\u001b[0m: \tactivation: tanh\n",
            "\u001b[34m\u001b[1mwandb\u001b[0m: \tbatch_size: 16\n",
            "\u001b[34m\u001b[1mwandb\u001b[0m: \tepochs: 5\n",
            "\u001b[34m\u001b[1mwandb\u001b[0m: \thidden_size: 32\n",
            "\u001b[34m\u001b[1mwandb\u001b[0m: \tlearning_rate: 0.001\n",
            "\u001b[34m\u001b[1mwandb\u001b[0m: \tnum_layers: 3\n",
            "\u001b[34m\u001b[1mwandb\u001b[0m: \toptimizer: rmsprop\n",
            "\u001b[34m\u001b[1mwandb\u001b[0m: \tweight_decay: 0\n",
            "\u001b[34m\u001b[1mwandb\u001b[0m: \tweight_init: Xavier\n"
          ]
        },
        {
          "output_type": "display_data",
          "data": {
            "text/plain": [
              "<IPython.core.display.HTML object>"
            ],
            "text/html": [
              "Tracking run with wandb version 0.19.7"
            ]
          },
          "metadata": {}
        },
        {
          "output_type": "display_data",
          "data": {
            "text/plain": [
              "<IPython.core.display.HTML object>"
            ],
            "text/html": [
              "Run data is saved locally in <code>/content/wandb/run-20250309_195202-lcmokav4</code>"
            ]
          },
          "metadata": {}
        },
        {
          "output_type": "display_data",
          "data": {
            "text/plain": [
              "<IPython.core.display.HTML object>"
            ],
            "text/html": [
              "Syncing run <strong><a href='https://wandb.ai/arunangshudutta218-iitm/dl_assgn_1_q_4/runs/lcmokav4' target=\"_blank\">worldly-sweep-31</a></strong> to <a href='https://wandb.ai/arunangshudutta218-iitm/dl_assgn_1_q_4' target=\"_blank\">Weights & Biases</a> (<a href='https://wandb.me/developer-guide' target=\"_blank\">docs</a>)<br>Sweep page: <a href='https://wandb.ai/arunangshudutta218-iitm/dl_assgn_1_q_4/sweeps/sdlyh3ti' target=\"_blank\">https://wandb.ai/arunangshudutta218-iitm/dl_assgn_1_q_4/sweeps/sdlyh3ti</a>"
            ]
          },
          "metadata": {}
        },
        {
          "output_type": "display_data",
          "data": {
            "text/plain": [
              "<IPython.core.display.HTML object>"
            ],
            "text/html": [
              " View project at <a href='https://wandb.ai/arunangshudutta218-iitm/dl_assgn_1_q_4' target=\"_blank\">https://wandb.ai/arunangshudutta218-iitm/dl_assgn_1_q_4</a>"
            ]
          },
          "metadata": {}
        },
        {
          "output_type": "display_data",
          "data": {
            "text/plain": [
              "<IPython.core.display.HTML object>"
            ],
            "text/html": [
              " View sweep at <a href='https://wandb.ai/arunangshudutta218-iitm/dl_assgn_1_q_4/sweeps/sdlyh3ti' target=\"_blank\">https://wandb.ai/arunangshudutta218-iitm/dl_assgn_1_q_4/sweeps/sdlyh3ti</a>"
            ]
          },
          "metadata": {}
        },
        {
          "output_type": "display_data",
          "data": {
            "text/plain": [
              "<IPython.core.display.HTML object>"
            ],
            "text/html": [
              " View run at <a href='https://wandb.ai/arunangshudutta218-iitm/dl_assgn_1_q_4/runs/lcmokav4' target=\"_blank\">https://wandb.ai/arunangshudutta218-iitm/dl_assgn_1_q_4/runs/lcmokav4</a>"
            ]
          },
          "metadata": {}
        },
        {
          "output_type": "stream",
          "name": "stdout",
          "text": [
            "2625.0\n"
          ]
        },
        {
          "output_type": "stream",
          "name": "stderr",
          "text": [
            "100%|██████████| 2625/2625 [00:05<00:00, 505.39it/s]\n",
            "100%|██████████| 2625/2625 [00:03<00:00, 724.90it/s]\n",
            "100%|██████████| 2625/2625 [00:04<00:00, 584.04it/s]\n",
            "100%|██████████| 2625/2625 [00:04<00:00, 549.18it/s]\n",
            "100%|██████████| 2625/2625 [00:03<00:00, 742.44it/s]\n"
          ]
        },
        {
          "output_type": "display_data",
          "data": {
            "text/plain": [
              "<IPython.core.display.HTML object>"
            ],
            "text/html": []
          },
          "metadata": {}
        },
        {
          "output_type": "display_data",
          "data": {
            "text/plain": [
              "<IPython.core.display.HTML object>"
            ],
            "text/html": [
              "<br>    <style><br>        .wandb-row {<br>            display: flex;<br>            flex-direction: row;<br>            flex-wrap: wrap;<br>            justify-content: flex-start;<br>            width: 100%;<br>        }<br>        .wandb-col {<br>            display: flex;<br>            flex-direction: column;<br>            flex-basis: 100%;<br>            flex: 1;<br>            padding: 10px;<br>        }<br>    </style><br><div class=\"wandb-row\"><div class=\"wandb-col\"><h3>Run history:</h3><br/><table class=\"wandb\"><tr><td>tr_accuracy</td><td>▁▁▁▁▁</td></tr><tr><td>tr_loss</td><td>█▄▃▁▁</td></tr><tr><td>val_accuracy</td><td>▁▁███</td></tr><tr><td>val_loss</td><td>█▄▃▁▂</td></tr></table><br/></div><div class=\"wandb-col\"><h3>Run summary:</h3><br/><table class=\"wandb\"><tr><td>tr_accuracy</td><td>93.75</td></tr><tr><td>tr_loss</td><td>0.37481</td></tr><tr><td>val_accuracy</td><td>93.75</td></tr><tr><td>val_loss</td><td>0.4118</td></tr></table><br/></div></div>"
            ]
          },
          "metadata": {}
        },
        {
          "output_type": "display_data",
          "data": {
            "text/plain": [
              "<IPython.core.display.HTML object>"
            ],
            "text/html": [
              " View run <strong style=\"color:#cdcd00\">e_5_hl_3_hs_32_lr_0.001_opt_rmsprop_bs_16_init_Xavier_ac_tanh_l2_0</strong> at: <a href='https://wandb.ai/arunangshudutta218-iitm/dl_assgn_1_q_4/runs/lcmokav4' target=\"_blank\">https://wandb.ai/arunangshudutta218-iitm/dl_assgn_1_q_4/runs/lcmokav4</a><br> View project at: <a href='https://wandb.ai/arunangshudutta218-iitm/dl_assgn_1_q_4' target=\"_blank\">https://wandb.ai/arunangshudutta218-iitm/dl_assgn_1_q_4</a><br>Synced 5 W&B file(s), 0 media file(s), 0 artifact file(s) and 0 other file(s)"
            ]
          },
          "metadata": {}
        },
        {
          "output_type": "display_data",
          "data": {
            "text/plain": [
              "<IPython.core.display.HTML object>"
            ],
            "text/html": [
              "Find logs at: <code>./wandb/run-20250309_195202-lcmokav4/logs</code>"
            ]
          },
          "metadata": {}
        },
        {
          "output_type": "stream",
          "name": "stderr",
          "text": [
            "\u001b[34m\u001b[1mwandb\u001b[0m: Agent Starting Run: u07c2yv6 with config:\n",
            "\u001b[34m\u001b[1mwandb\u001b[0m: \tactivation: tanh\n",
            "\u001b[34m\u001b[1mwandb\u001b[0m: \tbatch_size: 16\n",
            "\u001b[34m\u001b[1mwandb\u001b[0m: \tepochs: 5\n",
            "\u001b[34m\u001b[1mwandb\u001b[0m: \thidden_size: 32\n",
            "\u001b[34m\u001b[1mwandb\u001b[0m: \tlearning_rate: 0.001\n",
            "\u001b[34m\u001b[1mwandb\u001b[0m: \tnum_layers: 5\n",
            "\u001b[34m\u001b[1mwandb\u001b[0m: \toptimizer: adam\n",
            "\u001b[34m\u001b[1mwandb\u001b[0m: \tweight_decay: 0.0005\n",
            "\u001b[34m\u001b[1mwandb\u001b[0m: \tweight_init: random\n"
          ]
        },
        {
          "output_type": "display_data",
          "data": {
            "text/plain": [
              "<IPython.core.display.HTML object>"
            ],
            "text/html": [
              "Tracking run with wandb version 0.19.7"
            ]
          },
          "metadata": {}
        },
        {
          "output_type": "display_data",
          "data": {
            "text/plain": [
              "<IPython.core.display.HTML object>"
            ],
            "text/html": [
              "Run data is saved locally in <code>/content/wandb/run-20250309_195232-u07c2yv6</code>"
            ]
          },
          "metadata": {}
        },
        {
          "output_type": "display_data",
          "data": {
            "text/plain": [
              "<IPython.core.display.HTML object>"
            ],
            "text/html": [
              "Syncing run <strong><a href='https://wandb.ai/arunangshudutta218-iitm/dl_assgn_1_q_4/runs/u07c2yv6' target=\"_blank\">sleek-sweep-32</a></strong> to <a href='https://wandb.ai/arunangshudutta218-iitm/dl_assgn_1_q_4' target=\"_blank\">Weights & Biases</a> (<a href='https://wandb.me/developer-guide' target=\"_blank\">docs</a>)<br>Sweep page: <a href='https://wandb.ai/arunangshudutta218-iitm/dl_assgn_1_q_4/sweeps/sdlyh3ti' target=\"_blank\">https://wandb.ai/arunangshudutta218-iitm/dl_assgn_1_q_4/sweeps/sdlyh3ti</a>"
            ]
          },
          "metadata": {}
        },
        {
          "output_type": "display_data",
          "data": {
            "text/plain": [
              "<IPython.core.display.HTML object>"
            ],
            "text/html": [
              " View project at <a href='https://wandb.ai/arunangshudutta218-iitm/dl_assgn_1_q_4' target=\"_blank\">https://wandb.ai/arunangshudutta218-iitm/dl_assgn_1_q_4</a>"
            ]
          },
          "metadata": {}
        },
        {
          "output_type": "display_data",
          "data": {
            "text/plain": [
              "<IPython.core.display.HTML object>"
            ],
            "text/html": [
              " View sweep at <a href='https://wandb.ai/arunangshudutta218-iitm/dl_assgn_1_q_4/sweeps/sdlyh3ti' target=\"_blank\">https://wandb.ai/arunangshudutta218-iitm/dl_assgn_1_q_4/sweeps/sdlyh3ti</a>"
            ]
          },
          "metadata": {}
        },
        {
          "output_type": "display_data",
          "data": {
            "text/plain": [
              "<IPython.core.display.HTML object>"
            ],
            "text/html": [
              " View run at <a href='https://wandb.ai/arunangshudutta218-iitm/dl_assgn_1_q_4/runs/u07c2yv6' target=\"_blank\">https://wandb.ai/arunangshudutta218-iitm/dl_assgn_1_q_4/runs/u07c2yv6</a>"
            ]
          },
          "metadata": {}
        },
        {
          "output_type": "stream",
          "name": "stdout",
          "text": [
            "2625.0\n"
          ]
        },
        {
          "output_type": "stream",
          "name": "stderr",
          "text": [
            "100%|██████████| 2625/2625 [00:06<00:00, 423.42it/s]\n",
            "100%|██████████| 2625/2625 [00:08<00:00, 305.13it/s]\n",
            "100%|██████████| 2625/2625 [00:05<00:00, 443.91it/s]\n",
            "100%|██████████| 2625/2625 [00:08<00:00, 309.52it/s]\n",
            "100%|██████████| 2625/2625 [00:05<00:00, 447.74it/s]\n"
          ]
        },
        {
          "output_type": "display_data",
          "data": {
            "text/plain": [
              "<IPython.core.display.HTML object>"
            ],
            "text/html": []
          },
          "metadata": {}
        },
        {
          "output_type": "display_data",
          "data": {
            "text/plain": [
              "<IPython.core.display.HTML object>"
            ],
            "text/html": [
              "<br>    <style><br>        .wandb-row {<br>            display: flex;<br>            flex-direction: row;<br>            flex-wrap: wrap;<br>            justify-content: flex-start;<br>            width: 100%;<br>        }<br>        .wandb-col {<br>            display: flex;<br>            flex-direction: column;<br>            flex-basis: 100%;<br>            flex: 1;<br>            padding: 10px;<br>        }<br>    </style><br><div class=\"wandb-row\"><div class=\"wandb-col\"><h3>Run history:</h3><br/><table class=\"wandb\"><tr><td>tr_accuracy</td><td>▁▅██▆</td></tr><tr><td>tr_loss</td><td>█▄▃▁▁</td></tr><tr><td>val_accuracy</td><td>▂▁█▇▆</td></tr><tr><td>val_loss</td><td>█▄▃▁▁</td></tr></table><br/></div><div class=\"wandb-col\"><h3>Run summary:</h3><br/><table class=\"wandb\"><tr><td>tr_accuracy</td><td>75</td></tr><tr><td>tr_loss</td><td>0.7874</td></tr><tr><td>val_accuracy</td><td>81.25</td></tr><tr><td>val_loss</td><td>0.80519</td></tr></table><br/></div></div>"
            ]
          },
          "metadata": {}
        },
        {
          "output_type": "display_data",
          "data": {
            "text/plain": [
              "<IPython.core.display.HTML object>"
            ],
            "text/html": [
              " View run <strong style=\"color:#cdcd00\">e_5_hl_5_hs_32_lr_0.001_opt_adam_bs_16_init_random_ac_tanh_l2_0.0005</strong> at: <a href='https://wandb.ai/arunangshudutta218-iitm/dl_assgn_1_q_4/runs/u07c2yv6' target=\"_blank\">https://wandb.ai/arunangshudutta218-iitm/dl_assgn_1_q_4/runs/u07c2yv6</a><br> View project at: <a href='https://wandb.ai/arunangshudutta218-iitm/dl_assgn_1_q_4' target=\"_blank\">https://wandb.ai/arunangshudutta218-iitm/dl_assgn_1_q_4</a><br>Synced 5 W&B file(s), 0 media file(s), 0 artifact file(s) and 0 other file(s)"
            ]
          },
          "metadata": {}
        },
        {
          "output_type": "display_data",
          "data": {
            "text/plain": [
              "<IPython.core.display.HTML object>"
            ],
            "text/html": [
              "Find logs at: <code>./wandb/run-20250309_195232-u07c2yv6/logs</code>"
            ]
          },
          "metadata": {}
        },
        {
          "output_type": "stream",
          "name": "stderr",
          "text": [
            "\u001b[34m\u001b[1mwandb\u001b[0m: Agent Starting Run: wazcybdg with config:\n",
            "\u001b[34m\u001b[1mwandb\u001b[0m: \tactivation: tanh\n",
            "\u001b[34m\u001b[1mwandb\u001b[0m: \tbatch_size: 32\n",
            "\u001b[34m\u001b[1mwandb\u001b[0m: \tepochs: 5\n",
            "\u001b[34m\u001b[1mwandb\u001b[0m: \thidden_size: 64\n",
            "\u001b[34m\u001b[1mwandb\u001b[0m: \tlearning_rate: 0.0001\n",
            "\u001b[34m\u001b[1mwandb\u001b[0m: \tnum_layers: 3\n",
            "\u001b[34m\u001b[1mwandb\u001b[0m: \toptimizer: adam\n",
            "\u001b[34m\u001b[1mwandb\u001b[0m: \tweight_decay: 0\n",
            "\u001b[34m\u001b[1mwandb\u001b[0m: \tweight_init: random\n"
          ]
        },
        {
          "output_type": "display_data",
          "data": {
            "text/plain": [
              "<IPython.core.display.HTML object>"
            ],
            "text/html": [
              "Tracking run with wandb version 0.19.7"
            ]
          },
          "metadata": {}
        },
        {
          "output_type": "display_data",
          "data": {
            "text/plain": [
              "<IPython.core.display.HTML object>"
            ],
            "text/html": [
              "Run data is saved locally in <code>/content/wandb/run-20250309_195318-wazcybdg</code>"
            ]
          },
          "metadata": {}
        },
        {
          "output_type": "display_data",
          "data": {
            "text/plain": [
              "<IPython.core.display.HTML object>"
            ],
            "text/html": [
              "Syncing run <strong><a href='https://wandb.ai/arunangshudutta218-iitm/dl_assgn_1_q_4/runs/wazcybdg' target=\"_blank\">fragrant-sweep-33</a></strong> to <a href='https://wandb.ai/arunangshudutta218-iitm/dl_assgn_1_q_4' target=\"_blank\">Weights & Biases</a> (<a href='https://wandb.me/developer-guide' target=\"_blank\">docs</a>)<br>Sweep page: <a href='https://wandb.ai/arunangshudutta218-iitm/dl_assgn_1_q_4/sweeps/sdlyh3ti' target=\"_blank\">https://wandb.ai/arunangshudutta218-iitm/dl_assgn_1_q_4/sweeps/sdlyh3ti</a>"
            ]
          },
          "metadata": {}
        },
        {
          "output_type": "display_data",
          "data": {
            "text/plain": [
              "<IPython.core.display.HTML object>"
            ],
            "text/html": [
              " View project at <a href='https://wandb.ai/arunangshudutta218-iitm/dl_assgn_1_q_4' target=\"_blank\">https://wandb.ai/arunangshudutta218-iitm/dl_assgn_1_q_4</a>"
            ]
          },
          "metadata": {}
        },
        {
          "output_type": "display_data",
          "data": {
            "text/plain": [
              "<IPython.core.display.HTML object>"
            ],
            "text/html": [
              " View sweep at <a href='https://wandb.ai/arunangshudutta218-iitm/dl_assgn_1_q_4/sweeps/sdlyh3ti' target=\"_blank\">https://wandb.ai/arunangshudutta218-iitm/dl_assgn_1_q_4/sweeps/sdlyh3ti</a>"
            ]
          },
          "metadata": {}
        },
        {
          "output_type": "display_data",
          "data": {
            "text/plain": [
              "<IPython.core.display.HTML object>"
            ],
            "text/html": [
              " View run at <a href='https://wandb.ai/arunangshudutta218-iitm/dl_assgn_1_q_4/runs/wazcybdg' target=\"_blank\">https://wandb.ai/arunangshudutta218-iitm/dl_assgn_1_q_4/runs/wazcybdg</a>"
            ]
          },
          "metadata": {}
        },
        {
          "output_type": "stream",
          "name": "stdout",
          "text": [
            "1312.0\n"
          ]
        },
        {
          "output_type": "stream",
          "name": "stderr",
          "text": [
            "100%|██████████| 1312/1312 [00:04<00:00, 275.26it/s]\n",
            "100%|██████████| 1312/1312 [00:07<00:00, 179.22it/s]\n",
            "100%|██████████| 1312/1312 [00:05<00:00, 254.31it/s]\n",
            "100%|██████████| 1312/1312 [00:07<00:00, 177.15it/s]\n",
            "100%|██████████| 1312/1312 [00:04<00:00, 263.95it/s]\n"
          ]
        },
        {
          "output_type": "display_data",
          "data": {
            "text/plain": [
              "<IPython.core.display.HTML object>"
            ],
            "text/html": []
          },
          "metadata": {}
        },
        {
          "output_type": "display_data",
          "data": {
            "text/plain": [
              "<IPython.core.display.HTML object>"
            ],
            "text/html": [
              "<br>    <style><br>        .wandb-row {<br>            display: flex;<br>            flex-direction: row;<br>            flex-wrap: wrap;<br>            justify-content: flex-start;<br>            width: 100%;<br>        }<br>        .wandb-col {<br>            display: flex;<br>            flex-direction: column;<br>            flex-basis: 100%;<br>            flex: 1;<br>            padding: 10px;<br>        }<br>    </style><br><div class=\"wandb-row\"><div class=\"wandb-col\"><h3>Run history:</h3><br/><table class=\"wandb\"><tr><td>tr_accuracy</td><td>▁▂▄▇█</td></tr><tr><td>tr_loss</td><td>█▄▃▂▁</td></tr><tr><td>val_accuracy</td><td>▁▆▇▇█</td></tr><tr><td>val_loss</td><td>█▄▃▂▁</td></tr></table><br/></div><div class=\"wandb-col\"><h3>Run summary:</h3><br/><table class=\"wandb\"><tr><td>tr_accuracy</td><td>56.25</td></tr><tr><td>tr_loss</td><td>2.04688</td></tr><tr><td>val_accuracy</td><td>56.25</td></tr><tr><td>val_loss</td><td>2.23493</td></tr></table><br/></div></div>"
            ]
          },
          "metadata": {}
        },
        {
          "output_type": "display_data",
          "data": {
            "text/plain": [
              "<IPython.core.display.HTML object>"
            ],
            "text/html": [
              " View run <strong style=\"color:#cdcd00\">e_5_hl_3_hs_64_lr_0.0001_opt_adam_bs_32_init_random_ac_tanh_l2_0</strong> at: <a href='https://wandb.ai/arunangshudutta218-iitm/dl_assgn_1_q_4/runs/wazcybdg' target=\"_blank\">https://wandb.ai/arunangshudutta218-iitm/dl_assgn_1_q_4/runs/wazcybdg</a><br> View project at: <a href='https://wandb.ai/arunangshudutta218-iitm/dl_assgn_1_q_4' target=\"_blank\">https://wandb.ai/arunangshudutta218-iitm/dl_assgn_1_q_4</a><br>Synced 5 W&B file(s), 0 media file(s), 0 artifact file(s) and 0 other file(s)"
            ]
          },
          "metadata": {}
        },
        {
          "output_type": "display_data",
          "data": {
            "text/plain": [
              "<IPython.core.display.HTML object>"
            ],
            "text/html": [
              "Find logs at: <code>./wandb/run-20250309_195318-wazcybdg/logs</code>"
            ]
          },
          "metadata": {}
        },
        {
          "output_type": "stream",
          "name": "stderr",
          "text": [
            "\u001b[34m\u001b[1mwandb\u001b[0m: Agent Starting Run: fcfsczau with config:\n",
            "\u001b[34m\u001b[1mwandb\u001b[0m: \tactivation: sigmoid\n",
            "\u001b[34m\u001b[1mwandb\u001b[0m: \tbatch_size: 16\n",
            "\u001b[34m\u001b[1mwandb\u001b[0m: \tepochs: 5\n",
            "\u001b[34m\u001b[1mwandb\u001b[0m: \thidden_size: 32\n",
            "\u001b[34m\u001b[1mwandb\u001b[0m: \tlearning_rate: 0.0001\n",
            "\u001b[34m\u001b[1mwandb\u001b[0m: \tnum_layers: 3\n",
            "\u001b[34m\u001b[1mwandb\u001b[0m: \toptimizer: adam\n",
            "\u001b[34m\u001b[1mwandb\u001b[0m: \tweight_decay: 0.0005\n",
            "\u001b[34m\u001b[1mwandb\u001b[0m: \tweight_init: random\n"
          ]
        },
        {
          "output_type": "display_data",
          "data": {
            "text/plain": [
              "<IPython.core.display.HTML object>"
            ],
            "text/html": [
              "Tracking run with wandb version 0.19.7"
            ]
          },
          "metadata": {}
        },
        {
          "output_type": "display_data",
          "data": {
            "text/plain": [
              "<IPython.core.display.HTML object>"
            ],
            "text/html": [
              "Run data is saved locally in <code>/content/wandb/run-20250309_195359-fcfsczau</code>"
            ]
          },
          "metadata": {}
        },
        {
          "output_type": "display_data",
          "data": {
            "text/plain": [
              "<IPython.core.display.HTML object>"
            ],
            "text/html": [
              "Syncing run <strong><a href='https://wandb.ai/arunangshudutta218-iitm/dl_assgn_1_q_4/runs/fcfsczau' target=\"_blank\">lyric-sweep-34</a></strong> to <a href='https://wandb.ai/arunangshudutta218-iitm/dl_assgn_1_q_4' target=\"_blank\">Weights & Biases</a> (<a href='https://wandb.me/developer-guide' target=\"_blank\">docs</a>)<br>Sweep page: <a href='https://wandb.ai/arunangshudutta218-iitm/dl_assgn_1_q_4/sweeps/sdlyh3ti' target=\"_blank\">https://wandb.ai/arunangshudutta218-iitm/dl_assgn_1_q_4/sweeps/sdlyh3ti</a>"
            ]
          },
          "metadata": {}
        },
        {
          "output_type": "display_data",
          "data": {
            "text/plain": [
              "<IPython.core.display.HTML object>"
            ],
            "text/html": [
              " View project at <a href='https://wandb.ai/arunangshudutta218-iitm/dl_assgn_1_q_4' target=\"_blank\">https://wandb.ai/arunangshudutta218-iitm/dl_assgn_1_q_4</a>"
            ]
          },
          "metadata": {}
        },
        {
          "output_type": "display_data",
          "data": {
            "text/plain": [
              "<IPython.core.display.HTML object>"
            ],
            "text/html": [
              " View sweep at <a href='https://wandb.ai/arunangshudutta218-iitm/dl_assgn_1_q_4/sweeps/sdlyh3ti' target=\"_blank\">https://wandb.ai/arunangshudutta218-iitm/dl_assgn_1_q_4/sweeps/sdlyh3ti</a>"
            ]
          },
          "metadata": {}
        },
        {
          "output_type": "display_data",
          "data": {
            "text/plain": [
              "<IPython.core.display.HTML object>"
            ],
            "text/html": [
              " View run at <a href='https://wandb.ai/arunangshudutta218-iitm/dl_assgn_1_q_4/runs/fcfsczau' target=\"_blank\">https://wandb.ai/arunangshudutta218-iitm/dl_assgn_1_q_4/runs/fcfsczau</a>"
            ]
          },
          "metadata": {}
        },
        {
          "output_type": "stream",
          "name": "stdout",
          "text": [
            "2625.0\n"
          ]
        },
        {
          "output_type": "stream",
          "name": "stderr",
          "text": [
            "100%|██████████| 2625/2625 [00:04<00:00, 603.32it/s]\n",
            "100%|██████████| 2625/2625 [00:06<00:00, 377.52it/s]\n",
            "100%|██████████| 2625/2625 [00:04<00:00, 586.02it/s]\n",
            "100%|██████████| 2625/2625 [00:04<00:00, 605.29it/s]\n",
            "100%|██████████| 2625/2625 [00:06<00:00, 388.25it/s]\n"
          ]
        },
        {
          "output_type": "display_data",
          "data": {
            "text/plain": [
              "<IPython.core.display.HTML object>"
            ],
            "text/html": []
          },
          "metadata": {}
        },
        {
          "output_type": "display_data",
          "data": {
            "text/plain": [
              "<IPython.core.display.HTML object>"
            ],
            "text/html": [
              "<br>    <style><br>        .wandb-row {<br>            display: flex;<br>            flex-direction: row;<br>            flex-wrap: wrap;<br>            justify-content: flex-start;<br>            width: 100%;<br>        }<br>        .wandb-col {<br>            display: flex;<br>            flex-direction: column;<br>            flex-basis: 100%;<br>            flex: 1;<br>            padding: 10px;<br>        }<br>    </style><br><div class=\"wandb-row\"><div class=\"wandb-col\"><h3>Run history:</h3><br/><table class=\"wandb\"><tr><td>tr_accuracy</td><td>▁▅▇▇█</td></tr><tr><td>tr_loss</td><td>█▄▂▁▁</td></tr><tr><td>val_accuracy</td><td>▁▅███</td></tr><tr><td>val_loss</td><td>█▄▂▂▁</td></tr></table><br/></div><div class=\"wandb-col\"><h3>Run summary:</h3><br/><table class=\"wandb\"><tr><td>tr_accuracy</td><td>81.25</td></tr><tr><td>tr_loss</td><td>0.71787</td></tr><tr><td>val_accuracy</td><td>87.5</td></tr><tr><td>val_loss</td><td>0.74191</td></tr></table><br/></div></div>"
            ]
          },
          "metadata": {}
        },
        {
          "output_type": "display_data",
          "data": {
            "text/plain": [
              "<IPython.core.display.HTML object>"
            ],
            "text/html": [
              " View run <strong style=\"color:#cdcd00\">e_5_hl_3_hs_32_lr_0.0001_opt_adam_bs_16_init_random_ac_sigmoid_l2_0.0005</strong> at: <a href='https://wandb.ai/arunangshudutta218-iitm/dl_assgn_1_q_4/runs/fcfsczau' target=\"_blank\">https://wandb.ai/arunangshudutta218-iitm/dl_assgn_1_q_4/runs/fcfsczau</a><br> View project at: <a href='https://wandb.ai/arunangshudutta218-iitm/dl_assgn_1_q_4' target=\"_blank\">https://wandb.ai/arunangshudutta218-iitm/dl_assgn_1_q_4</a><br>Synced 5 W&B file(s), 0 media file(s), 0 artifact file(s) and 0 other file(s)"
            ]
          },
          "metadata": {}
        },
        {
          "output_type": "display_data",
          "data": {
            "text/plain": [
              "<IPython.core.display.HTML object>"
            ],
            "text/html": [
              "Find logs at: <code>./wandb/run-20250309_195359-fcfsczau/logs</code>"
            ]
          },
          "metadata": {}
        },
        {
          "output_type": "stream",
          "name": "stderr",
          "text": [
            "\u001b[34m\u001b[1mwandb\u001b[0m: Agent Starting Run: s1n6137v with config:\n",
            "\u001b[34m\u001b[1mwandb\u001b[0m: \tactivation: tanh\n",
            "\u001b[34m\u001b[1mwandb\u001b[0m: \tbatch_size: 16\n",
            "\u001b[34m\u001b[1mwandb\u001b[0m: \tepochs: 10\n",
            "\u001b[34m\u001b[1mwandb\u001b[0m: \thidden_size: 64\n",
            "\u001b[34m\u001b[1mwandb\u001b[0m: \tlearning_rate: 0.0001\n",
            "\u001b[34m\u001b[1mwandb\u001b[0m: \tnum_layers: 3\n",
            "\u001b[34m\u001b[1mwandb\u001b[0m: \toptimizer: sgd\n",
            "\u001b[34m\u001b[1mwandb\u001b[0m: \tweight_decay: 0.5\n",
            "\u001b[34m\u001b[1mwandb\u001b[0m: \tweight_init: random\n"
          ]
        },
        {
          "output_type": "display_data",
          "data": {
            "text/plain": [
              "<IPython.core.display.HTML object>"
            ],
            "text/html": [
              "Tracking run with wandb version 0.19.7"
            ]
          },
          "metadata": {}
        },
        {
          "output_type": "display_data",
          "data": {
            "text/plain": [
              "<IPython.core.display.HTML object>"
            ],
            "text/html": [
              "Run data is saved locally in <code>/content/wandb/run-20250309_195436-s1n6137v</code>"
            ]
          },
          "metadata": {}
        },
        {
          "output_type": "display_data",
          "data": {
            "text/plain": [
              "<IPython.core.display.HTML object>"
            ],
            "text/html": [
              "Syncing run <strong><a href='https://wandb.ai/arunangshudutta218-iitm/dl_assgn_1_q_4/runs/s1n6137v' target=\"_blank\">vibrant-sweep-35</a></strong> to <a href='https://wandb.ai/arunangshudutta218-iitm/dl_assgn_1_q_4' target=\"_blank\">Weights & Biases</a> (<a href='https://wandb.me/developer-guide' target=\"_blank\">docs</a>)<br>Sweep page: <a href='https://wandb.ai/arunangshudutta218-iitm/dl_assgn_1_q_4/sweeps/sdlyh3ti' target=\"_blank\">https://wandb.ai/arunangshudutta218-iitm/dl_assgn_1_q_4/sweeps/sdlyh3ti</a>"
            ]
          },
          "metadata": {}
        },
        {
          "output_type": "display_data",
          "data": {
            "text/plain": [
              "<IPython.core.display.HTML object>"
            ],
            "text/html": [
              " View project at <a href='https://wandb.ai/arunangshudutta218-iitm/dl_assgn_1_q_4' target=\"_blank\">https://wandb.ai/arunangshudutta218-iitm/dl_assgn_1_q_4</a>"
            ]
          },
          "metadata": {}
        },
        {
          "output_type": "display_data",
          "data": {
            "text/plain": [
              "<IPython.core.display.HTML object>"
            ],
            "text/html": [
              " View sweep at <a href='https://wandb.ai/arunangshudutta218-iitm/dl_assgn_1_q_4/sweeps/sdlyh3ti' target=\"_blank\">https://wandb.ai/arunangshudutta218-iitm/dl_assgn_1_q_4/sweeps/sdlyh3ti</a>"
            ]
          },
          "metadata": {}
        },
        {
          "output_type": "display_data",
          "data": {
            "text/plain": [
              "<IPython.core.display.HTML object>"
            ],
            "text/html": [
              " View run at <a href='https://wandb.ai/arunangshudutta218-iitm/dl_assgn_1_q_4/runs/s1n6137v' target=\"_blank\">https://wandb.ai/arunangshudutta218-iitm/dl_assgn_1_q_4/runs/s1n6137v</a>"
            ]
          },
          "metadata": {}
        },
        {
          "output_type": "stream",
          "name": "stdout",
          "text": [
            "2625.0\n"
          ]
        },
        {
          "output_type": "stream",
          "name": "stderr",
          "text": [
            "100%|██████████| 2625/2625 [00:07<00:00, 354.71it/s]\n",
            "100%|██████████| 2625/2625 [00:04<00:00, 580.33it/s]\n",
            "100%|██████████| 2625/2625 [00:07<00:00, 361.35it/s]\n",
            "100%|██████████| 2625/2625 [00:04<00:00, 582.93it/s]\n",
            "100%|██████████| 2625/2625 [00:07<00:00, 367.71it/s]\n",
            "100%|██████████| 2625/2625 [00:04<00:00, 569.17it/s]\n",
            "100%|██████████| 2625/2625 [00:05<00:00, 457.71it/s]\n",
            "100%|██████████| 2625/2625 [00:05<00:00, 513.00it/s]\n",
            "100%|██████████| 2625/2625 [00:04<00:00, 568.56it/s]\n",
            "100%|██████████| 2625/2625 [00:06<00:00, 418.43it/s]\n"
          ]
        },
        {
          "output_type": "display_data",
          "data": {
            "text/plain": [
              "<IPython.core.display.HTML object>"
            ],
            "text/html": []
          },
          "metadata": {}
        },
        {
          "output_type": "display_data",
          "data": {
            "text/plain": [
              "<IPython.core.display.HTML object>"
            ],
            "text/html": [
              "<br>    <style><br>        .wandb-row {<br>            display: flex;<br>            flex-direction: row;<br>            flex-wrap: wrap;<br>            justify-content: flex-start;<br>            width: 100%;<br>        }<br>        .wandb-col {<br>            display: flex;<br>            flex-direction: column;<br>            flex-basis: 100%;<br>            flex: 1;<br>            padding: 10px;<br>        }<br>    </style><br><div class=\"wandb-row\"><div class=\"wandb-col\"><h3>Run history:</h3><br/><table class=\"wandb\"><tr><td>tr_accuracy</td><td>▁▃▁▃▅▆█▆▆█</td></tr><tr><td>tr_loss</td><td>█▆▅▄▃▃▂▂▁▁</td></tr><tr><td>val_accuracy</td><td>▁▃▄▅▅▆▆███</td></tr><tr><td>val_loss</td><td>█▆▅▄▃▃▂▂▁▁</td></tr></table><br/></div><div class=\"wandb-col\"><h3>Run summary:</h3><br/><table class=\"wandb\"><tr><td>tr_accuracy</td><td>37.5</td></tr><tr><td>tr_loss</td><td>3.55888</td></tr><tr><td>val_accuracy</td><td>43.75</td></tr><tr><td>val_loss</td><td>3.61752</td></tr></table><br/></div></div>"
            ]
          },
          "metadata": {}
        },
        {
          "output_type": "display_data",
          "data": {
            "text/plain": [
              "<IPython.core.display.HTML object>"
            ],
            "text/html": [
              " View run <strong style=\"color:#cdcd00\">e_10_hl_3_hs_64_lr_0.0001_opt_sgd_bs_16_init_random_ac_tanh_l2_0.5</strong> at: <a href='https://wandb.ai/arunangshudutta218-iitm/dl_assgn_1_q_4/runs/s1n6137v' target=\"_blank\">https://wandb.ai/arunangshudutta218-iitm/dl_assgn_1_q_4/runs/s1n6137v</a><br> View project at: <a href='https://wandb.ai/arunangshudutta218-iitm/dl_assgn_1_q_4' target=\"_blank\">https://wandb.ai/arunangshudutta218-iitm/dl_assgn_1_q_4</a><br>Synced 5 W&B file(s), 0 media file(s), 0 artifact file(s) and 0 other file(s)"
            ]
          },
          "metadata": {}
        },
        {
          "output_type": "display_data",
          "data": {
            "text/plain": [
              "<IPython.core.display.HTML object>"
            ],
            "text/html": [
              "Find logs at: <code>./wandb/run-20250309_195436-s1n6137v/logs</code>"
            ]
          },
          "metadata": {}
        },
        {
          "output_type": "stream",
          "name": "stderr",
          "text": [
            "\u001b[34m\u001b[1mwandb\u001b[0m: Agent Starting Run: qmghr58c with config:\n",
            "\u001b[34m\u001b[1mwandb\u001b[0m: \tactivation: sigmoid\n",
            "\u001b[34m\u001b[1mwandb\u001b[0m: \tbatch_size: 16\n",
            "\u001b[34m\u001b[1mwandb\u001b[0m: \tepochs: 5\n",
            "\u001b[34m\u001b[1mwandb\u001b[0m: \thidden_size: 64\n",
            "\u001b[34m\u001b[1mwandb\u001b[0m: \tlearning_rate: 0.0001\n",
            "\u001b[34m\u001b[1mwandb\u001b[0m: \tnum_layers: 3\n",
            "\u001b[34m\u001b[1mwandb\u001b[0m: \toptimizer: adam\n",
            "\u001b[34m\u001b[1mwandb\u001b[0m: \tweight_decay: 0\n",
            "\u001b[34m\u001b[1mwandb\u001b[0m: \tweight_init: Xavier\n"
          ]
        },
        {
          "output_type": "display_data",
          "data": {
            "text/plain": [
              "<IPython.core.display.HTML object>"
            ],
            "text/html": [
              "Tracking run with wandb version 0.19.7"
            ]
          },
          "metadata": {}
        },
        {
          "output_type": "display_data",
          "data": {
            "text/plain": [
              "<IPython.core.display.HTML object>"
            ],
            "text/html": [
              "Run data is saved locally in <code>/content/wandb/run-20250309_195552-qmghr58c</code>"
            ]
          },
          "metadata": {}
        },
        {
          "output_type": "display_data",
          "data": {
            "text/plain": [
              "<IPython.core.display.HTML object>"
            ],
            "text/html": [
              "Syncing run <strong><a href='https://wandb.ai/arunangshudutta218-iitm/dl_assgn_1_q_4/runs/qmghr58c' target=\"_blank\">helpful-sweep-36</a></strong> to <a href='https://wandb.ai/arunangshudutta218-iitm/dl_assgn_1_q_4' target=\"_blank\">Weights & Biases</a> (<a href='https://wandb.me/developer-guide' target=\"_blank\">docs</a>)<br>Sweep page: <a href='https://wandb.ai/arunangshudutta218-iitm/dl_assgn_1_q_4/sweeps/sdlyh3ti' target=\"_blank\">https://wandb.ai/arunangshudutta218-iitm/dl_assgn_1_q_4/sweeps/sdlyh3ti</a>"
            ]
          },
          "metadata": {}
        },
        {
          "output_type": "display_data",
          "data": {
            "text/plain": [
              "<IPython.core.display.HTML object>"
            ],
            "text/html": [
              " View project at <a href='https://wandb.ai/arunangshudutta218-iitm/dl_assgn_1_q_4' target=\"_blank\">https://wandb.ai/arunangshudutta218-iitm/dl_assgn_1_q_4</a>"
            ]
          },
          "metadata": {}
        },
        {
          "output_type": "display_data",
          "data": {
            "text/plain": [
              "<IPython.core.display.HTML object>"
            ],
            "text/html": [
              " View sweep at <a href='https://wandb.ai/arunangshudutta218-iitm/dl_assgn_1_q_4/sweeps/sdlyh3ti' target=\"_blank\">https://wandb.ai/arunangshudutta218-iitm/dl_assgn_1_q_4/sweeps/sdlyh3ti</a>"
            ]
          },
          "metadata": {}
        },
        {
          "output_type": "display_data",
          "data": {
            "text/plain": [
              "<IPython.core.display.HTML object>"
            ],
            "text/html": [
              " View run at <a href='https://wandb.ai/arunangshudutta218-iitm/dl_assgn_1_q_4/runs/qmghr58c' target=\"_blank\">https://wandb.ai/arunangshudutta218-iitm/dl_assgn_1_q_4/runs/qmghr58c</a>"
            ]
          },
          "metadata": {}
        },
        {
          "output_type": "stream",
          "name": "stdout",
          "text": [
            "2625.0\n"
          ]
        },
        {
          "output_type": "stream",
          "name": "stderr",
          "text": [
            "100%|██████████| 2625/2625 [00:08<00:00, 317.32it/s]\n",
            "100%|██████████| 2625/2625 [00:09<00:00, 279.61it/s]\n",
            "100%|██████████| 2625/2625 [00:06<00:00, 397.36it/s]\n",
            "100%|██████████| 2625/2625 [00:09<00:00, 275.06it/s]\n",
            "100%|██████████| 2625/2625 [00:06<00:00, 393.43it/s]\n"
          ]
        },
        {
          "output_type": "display_data",
          "data": {
            "text/plain": [
              "<IPython.core.display.HTML object>"
            ],
            "text/html": []
          },
          "metadata": {}
        },
        {
          "output_type": "display_data",
          "data": {
            "text/plain": [
              "<IPython.core.display.HTML object>"
            ],
            "text/html": [
              "<br>    <style><br>        .wandb-row {<br>            display: flex;<br>            flex-direction: row;<br>            flex-wrap: wrap;<br>            justify-content: flex-start;<br>            width: 100%;<br>        }<br>        .wandb-col {<br>            display: flex;<br>            flex-direction: column;<br>            flex-basis: 100%;<br>            flex: 1;<br>            padding: 10px;<br>        }<br>    </style><br><div class=\"wandb-row\"><div class=\"wandb-col\"><h3>Run history:</h3><br/><table class=\"wandb\"><tr><td>tr_accuracy</td><td>▁▆███</td></tr><tr><td>tr_loss</td><td>█▄▂▁▁</td></tr><tr><td>val_accuracy</td><td>▁▃▆██</td></tr><tr><td>val_loss</td><td>█▄▂▁▁</td></tr></table><br/></div><div class=\"wandb-col\"><h3>Run summary:</h3><br/><table class=\"wandb\"><tr><td>tr_accuracy</td><td>87.5</td></tr><tr><td>tr_loss</td><td>0.56359</td></tr><tr><td>val_accuracy</td><td>100</td></tr><tr><td>val_loss</td><td>0.57132</td></tr></table><br/></div></div>"
            ]
          },
          "metadata": {}
        },
        {
          "output_type": "display_data",
          "data": {
            "text/plain": [
              "<IPython.core.display.HTML object>"
            ],
            "text/html": [
              " View run <strong style=\"color:#cdcd00\">e_5_hl_3_hs_64_lr_0.0001_opt_adam_bs_16_init_Xavier_ac_sigmoid_l2_0</strong> at: <a href='https://wandb.ai/arunangshudutta218-iitm/dl_assgn_1_q_4/runs/qmghr58c' target=\"_blank\">https://wandb.ai/arunangshudutta218-iitm/dl_assgn_1_q_4/runs/qmghr58c</a><br> View project at: <a href='https://wandb.ai/arunangshudutta218-iitm/dl_assgn_1_q_4' target=\"_blank\">https://wandb.ai/arunangshudutta218-iitm/dl_assgn_1_q_4</a><br>Synced 5 W&B file(s), 0 media file(s), 0 artifact file(s) and 0 other file(s)"
            ]
          },
          "metadata": {}
        },
        {
          "output_type": "display_data",
          "data": {
            "text/plain": [
              "<IPython.core.display.HTML object>"
            ],
            "text/html": [
              "Find logs at: <code>./wandb/run-20250309_195552-qmghr58c/logs</code>"
            ]
          },
          "metadata": {}
        },
        {
          "output_type": "stream",
          "name": "stderr",
          "text": [
            "\u001b[34m\u001b[1mwandb\u001b[0m: Agent Starting Run: bba7fpw3 with config:\n",
            "\u001b[34m\u001b[1mwandb\u001b[0m: \tactivation: ReLU\n",
            "\u001b[34m\u001b[1mwandb\u001b[0m: \tbatch_size: 64\n",
            "\u001b[34m\u001b[1mwandb\u001b[0m: \tepochs: 5\n",
            "\u001b[34m\u001b[1mwandb\u001b[0m: \thidden_size: 128\n",
            "\u001b[34m\u001b[1mwandb\u001b[0m: \tlearning_rate: 0.001\n",
            "\u001b[34m\u001b[1mwandb\u001b[0m: \tnum_layers: 5\n",
            "\u001b[34m\u001b[1mwandb\u001b[0m: \toptimizer: sgd\n",
            "\u001b[34m\u001b[1mwandb\u001b[0m: \tweight_decay: 0\n",
            "\u001b[34m\u001b[1mwandb\u001b[0m: \tweight_init: Xavier\n"
          ]
        },
        {
          "output_type": "display_data",
          "data": {
            "text/plain": [
              "<IPython.core.display.HTML object>"
            ],
            "text/html": [
              "Tracking run with wandb version 0.19.7"
            ]
          },
          "metadata": {}
        },
        {
          "output_type": "display_data",
          "data": {
            "text/plain": [
              "<IPython.core.display.HTML object>"
            ],
            "text/html": [
              "Run data is saved locally in <code>/content/wandb/run-20250309_195643-bba7fpw3</code>"
            ]
          },
          "metadata": {}
        },
        {
          "output_type": "display_data",
          "data": {
            "text/plain": [
              "<IPython.core.display.HTML object>"
            ],
            "text/html": [
              "Syncing run <strong><a href='https://wandb.ai/arunangshudutta218-iitm/dl_assgn_1_q_4/runs/bba7fpw3' target=\"_blank\">fearless-sweep-37</a></strong> to <a href='https://wandb.ai/arunangshudutta218-iitm/dl_assgn_1_q_4' target=\"_blank\">Weights & Biases</a> (<a href='https://wandb.me/developer-guide' target=\"_blank\">docs</a>)<br>Sweep page: <a href='https://wandb.ai/arunangshudutta218-iitm/dl_assgn_1_q_4/sweeps/sdlyh3ti' target=\"_blank\">https://wandb.ai/arunangshudutta218-iitm/dl_assgn_1_q_4/sweeps/sdlyh3ti</a>"
            ]
          },
          "metadata": {}
        },
        {
          "output_type": "display_data",
          "data": {
            "text/plain": [
              "<IPython.core.display.HTML object>"
            ],
            "text/html": [
              " View project at <a href='https://wandb.ai/arunangshudutta218-iitm/dl_assgn_1_q_4' target=\"_blank\">https://wandb.ai/arunangshudutta218-iitm/dl_assgn_1_q_4</a>"
            ]
          },
          "metadata": {}
        },
        {
          "output_type": "display_data",
          "data": {
            "text/plain": [
              "<IPython.core.display.HTML object>"
            ],
            "text/html": [
              " View sweep at <a href='https://wandb.ai/arunangshudutta218-iitm/dl_assgn_1_q_4/sweeps/sdlyh3ti' target=\"_blank\">https://wandb.ai/arunangshudutta218-iitm/dl_assgn_1_q_4/sweeps/sdlyh3ti</a>"
            ]
          },
          "metadata": {}
        },
        {
          "output_type": "display_data",
          "data": {
            "text/plain": [
              "<IPython.core.display.HTML object>"
            ],
            "text/html": [
              " View run at <a href='https://wandb.ai/arunangshudutta218-iitm/dl_assgn_1_q_4/runs/bba7fpw3' target=\"_blank\">https://wandb.ai/arunangshudutta218-iitm/dl_assgn_1_q_4/runs/bba7fpw3</a>"
            ]
          },
          "metadata": {}
        },
        {
          "output_type": "stream",
          "name": "stdout",
          "text": [
            "656.0\n"
          ]
        },
        {
          "output_type": "stream",
          "name": "stderr",
          "text": [
            "100%|██████████| 656/656 [00:03<00:00, 183.51it/s]\n",
            "100%|██████████| 656/656 [00:06<00:00, 104.21it/s]\n",
            "100%|██████████| 656/656 [00:03<00:00, 183.61it/s]\n",
            "100%|██████████| 656/656 [00:04<00:00, 160.09it/s]\n",
            "100%|██████████| 656/656 [00:05<00:00, 127.43it/s]\n"
          ]
        },
        {
          "output_type": "display_data",
          "data": {
            "text/plain": [
              "<IPython.core.display.HTML object>"
            ],
            "text/html": []
          },
          "metadata": {}
        },
        {
          "output_type": "display_data",
          "data": {
            "text/plain": [
              "<IPython.core.display.HTML object>"
            ],
            "text/html": [
              "<br>    <style><br>        .wandb-row {<br>            display: flex;<br>            flex-direction: row;<br>            flex-wrap: wrap;<br>            justify-content: flex-start;<br>            width: 100%;<br>        }<br>        .wandb-col {<br>            display: flex;<br>            flex-direction: column;<br>            flex-basis: 100%;<br>            flex: 1;<br>            padding: 10px;<br>        }<br>    </style><br><div class=\"wandb-row\"><div class=\"wandb-col\"><h3>Run history:</h3><br/><table class=\"wandb\"><tr><td>tr_accuracy</td><td>▁▅▆██</td></tr><tr><td>tr_loss</td><td>█▅▃▂▁</td></tr><tr><td>val_accuracy</td><td>▁▇▇▇█</td></tr><tr><td>val_loss</td><td>█▅▃▂▁</td></tr></table><br/></div><div class=\"wandb-col\"><h3>Run summary:</h3><br/><table class=\"wandb\"><tr><td>tr_accuracy</td><td>75</td></tr><tr><td>tr_loss</td><td>0.8479</td></tr><tr><td>val_accuracy</td><td>76.5625</td></tr><tr><td>val_loss</td><td>0.85013</td></tr></table><br/></div></div>"
            ]
          },
          "metadata": {}
        },
        {
          "output_type": "display_data",
          "data": {
            "text/plain": [
              "<IPython.core.display.HTML object>"
            ],
            "text/html": [
              " View run <strong style=\"color:#cdcd00\">e_5_hl_5_hs_128_lr_0.001_opt_sgd_bs_64_init_Xavier_ac_ReLU_l2_0</strong> at: <a href='https://wandb.ai/arunangshudutta218-iitm/dl_assgn_1_q_4/runs/bba7fpw3' target=\"_blank\">https://wandb.ai/arunangshudutta218-iitm/dl_assgn_1_q_4/runs/bba7fpw3</a><br> View project at: <a href='https://wandb.ai/arunangshudutta218-iitm/dl_assgn_1_q_4' target=\"_blank\">https://wandb.ai/arunangshudutta218-iitm/dl_assgn_1_q_4</a><br>Synced 5 W&B file(s), 0 media file(s), 0 artifact file(s) and 0 other file(s)"
            ]
          },
          "metadata": {}
        },
        {
          "output_type": "display_data",
          "data": {
            "text/plain": [
              "<IPython.core.display.HTML object>"
            ],
            "text/html": [
              "Find logs at: <code>./wandb/run-20250309_195643-bba7fpw3/logs</code>"
            ]
          },
          "metadata": {}
        },
        {
          "output_type": "stream",
          "name": "stderr",
          "text": [
            "\u001b[34m\u001b[1mwandb\u001b[0m: Agent Starting Run: wore326o with config:\n",
            "\u001b[34m\u001b[1mwandb\u001b[0m: \tactivation: ReLU\n",
            "\u001b[34m\u001b[1mwandb\u001b[0m: \tbatch_size: 32\n",
            "\u001b[34m\u001b[1mwandb\u001b[0m: \tepochs: 10\n",
            "\u001b[34m\u001b[1mwandb\u001b[0m: \thidden_size: 128\n",
            "\u001b[34m\u001b[1mwandb\u001b[0m: \tlearning_rate: 0.0001\n",
            "\u001b[34m\u001b[1mwandb\u001b[0m: \tnum_layers: 3\n",
            "\u001b[34m\u001b[1mwandb\u001b[0m: \toptimizer: momentum\n",
            "\u001b[34m\u001b[1mwandb\u001b[0m: \tweight_decay: 0\n",
            "\u001b[34m\u001b[1mwandb\u001b[0m: \tweight_init: Xavier\n"
          ]
        },
        {
          "output_type": "display_data",
          "data": {
            "text/plain": [
              "<IPython.core.display.HTML object>"
            ],
            "text/html": [
              "Tracking run with wandb version 0.19.7"
            ]
          },
          "metadata": {}
        },
        {
          "output_type": "display_data",
          "data": {
            "text/plain": [
              "<IPython.core.display.HTML object>"
            ],
            "text/html": [
              "Run data is saved locally in <code>/content/wandb/run-20250309_195719-wore326o</code>"
            ]
          },
          "metadata": {}
        },
        {
          "output_type": "display_data",
          "data": {
            "text/plain": [
              "<IPython.core.display.HTML object>"
            ],
            "text/html": [
              "Syncing run <strong><a href='https://wandb.ai/arunangshudutta218-iitm/dl_assgn_1_q_4/runs/wore326o' target=\"_blank\">light-sweep-38</a></strong> to <a href='https://wandb.ai/arunangshudutta218-iitm/dl_assgn_1_q_4' target=\"_blank\">Weights & Biases</a> (<a href='https://wandb.me/developer-guide' target=\"_blank\">docs</a>)<br>Sweep page: <a href='https://wandb.ai/arunangshudutta218-iitm/dl_assgn_1_q_4/sweeps/sdlyh3ti' target=\"_blank\">https://wandb.ai/arunangshudutta218-iitm/dl_assgn_1_q_4/sweeps/sdlyh3ti</a>"
            ]
          },
          "metadata": {}
        },
        {
          "output_type": "display_data",
          "data": {
            "text/plain": [
              "<IPython.core.display.HTML object>"
            ],
            "text/html": [
              " View project at <a href='https://wandb.ai/arunangshudutta218-iitm/dl_assgn_1_q_4' target=\"_blank\">https://wandb.ai/arunangshudutta218-iitm/dl_assgn_1_q_4</a>"
            ]
          },
          "metadata": {}
        },
        {
          "output_type": "display_data",
          "data": {
            "text/plain": [
              "<IPython.core.display.HTML object>"
            ],
            "text/html": [
              " View sweep at <a href='https://wandb.ai/arunangshudutta218-iitm/dl_assgn_1_q_4/sweeps/sdlyh3ti' target=\"_blank\">https://wandb.ai/arunangshudutta218-iitm/dl_assgn_1_q_4/sweeps/sdlyh3ti</a>"
            ]
          },
          "metadata": {}
        },
        {
          "output_type": "display_data",
          "data": {
            "text/plain": [
              "<IPython.core.display.HTML object>"
            ],
            "text/html": [
              " View run at <a href='https://wandb.ai/arunangshudutta218-iitm/dl_assgn_1_q_4/runs/wore326o' target=\"_blank\">https://wandb.ai/arunangshudutta218-iitm/dl_assgn_1_q_4/runs/wore326o</a>"
            ]
          },
          "metadata": {}
        },
        {
          "output_type": "stream",
          "name": "stdout",
          "text": [
            "1312.0\n"
          ]
        },
        {
          "output_type": "stream",
          "name": "stderr",
          "text": [
            "100%|██████████| 1312/1312 [00:07<00:00, 172.76it/s]\n",
            "100%|██████████| 1312/1312 [00:04<00:00, 305.25it/s]\n",
            "100%|██████████| 1312/1312 [00:07<00:00, 170.66it/s]\n",
            "100%|██████████| 1312/1312 [00:04<00:00, 308.52it/s]\n",
            "100%|██████████| 1312/1312 [00:04<00:00, 287.18it/s]\n",
            "100%|██████████| 1312/1312 [00:06<00:00, 215.16it/s]\n",
            "100%|██████████| 1312/1312 [00:04<00:00, 299.42it/s]\n",
            "100%|██████████| 1312/1312 [00:07<00:00, 180.94it/s]\n",
            "100%|██████████| 1312/1312 [00:04<00:00, 287.61it/s]\n",
            "100%|██████████| 1312/1312 [00:06<00:00, 188.77it/s]\n"
          ]
        },
        {
          "output_type": "display_data",
          "data": {
            "text/plain": [
              "<IPython.core.display.HTML object>"
            ],
            "text/html": []
          },
          "metadata": {}
        },
        {
          "output_type": "display_data",
          "data": {
            "text/plain": [
              "<IPython.core.display.HTML object>"
            ],
            "text/html": [
              "<br>    <style><br>        .wandb-row {<br>            display: flex;<br>            flex-direction: row;<br>            flex-wrap: wrap;<br>            justify-content: flex-start;<br>            width: 100%;<br>        }<br>        .wandb-col {<br>            display: flex;<br>            flex-direction: column;<br>            flex-basis: 100%;<br>            flex: 1;<br>            padding: 10px;<br>        }<br>    </style><br><div class=\"wandb-row\"><div class=\"wandb-col\"><h3>Run history:</h3><br/><table class=\"wandb\"><tr><td>tr_accuracy</td><td>▁▅▆▆▆▇▇▇▇█</td></tr><tr><td>tr_loss</td><td>█▇▆▄▃▃▂▂▁▁</td></tr><tr><td>val_accuracy</td><td>▁▆████████</td></tr><tr><td>val_loss</td><td>█▇▆▄▃▃▂▂▁▁</td></tr></table><br/></div><div class=\"wandb-col\"><h3>Run summary:</h3><br/><table class=\"wandb\"><tr><td>tr_accuracy</td><td>71.875</td></tr><tr><td>tr_loss</td><td>0.88919</td></tr><tr><td>val_accuracy</td><td>75</td></tr><tr><td>val_loss</td><td>0.88956</td></tr></table><br/></div></div>"
            ]
          },
          "metadata": {}
        },
        {
          "output_type": "display_data",
          "data": {
            "text/plain": [
              "<IPython.core.display.HTML object>"
            ],
            "text/html": [
              " View run <strong style=\"color:#cdcd00\">e_10_hl_3_hs_128_lr_0.0001_opt_momentum_bs_32_init_Xavier_ac_ReLU_l2_0</strong> at: <a href='https://wandb.ai/arunangshudutta218-iitm/dl_assgn_1_q_4/runs/wore326o' target=\"_blank\">https://wandb.ai/arunangshudutta218-iitm/dl_assgn_1_q_4/runs/wore326o</a><br> View project at: <a href='https://wandb.ai/arunangshudutta218-iitm/dl_assgn_1_q_4' target=\"_blank\">https://wandb.ai/arunangshudutta218-iitm/dl_assgn_1_q_4</a><br>Synced 5 W&B file(s), 0 media file(s), 0 artifact file(s) and 0 other file(s)"
            ]
          },
          "metadata": {}
        },
        {
          "output_type": "display_data",
          "data": {
            "text/plain": [
              "<IPython.core.display.HTML object>"
            ],
            "text/html": [
              "Find logs at: <code>./wandb/run-20250309_195719-wore326o/logs</code>"
            ]
          },
          "metadata": {}
        },
        {
          "output_type": "stream",
          "name": "stderr",
          "text": [
            "\u001b[34m\u001b[1mwandb\u001b[0m: Agent Starting Run: 5xpab2q4 with config:\n",
            "\u001b[34m\u001b[1mwandb\u001b[0m: \tactivation: ReLU\n",
            "\u001b[34m\u001b[1mwandb\u001b[0m: \tbatch_size: 16\n",
            "\u001b[34m\u001b[1mwandb\u001b[0m: \tepochs: 10\n",
            "\u001b[34m\u001b[1mwandb\u001b[0m: \thidden_size: 32\n",
            "\u001b[34m\u001b[1mwandb\u001b[0m: \tlearning_rate: 0.0001\n",
            "\u001b[34m\u001b[1mwandb\u001b[0m: \tnum_layers: 5\n",
            "\u001b[34m\u001b[1mwandb\u001b[0m: \toptimizer: sgd\n",
            "\u001b[34m\u001b[1mwandb\u001b[0m: \tweight_decay: 0.5\n",
            "\u001b[34m\u001b[1mwandb\u001b[0m: \tweight_init: Xavier\n"
          ]
        },
        {
          "output_type": "display_data",
          "data": {
            "text/plain": [
              "<IPython.core.display.HTML object>"
            ],
            "text/html": [
              "Tracking run with wandb version 0.19.7"
            ]
          },
          "metadata": {}
        },
        {
          "output_type": "display_data",
          "data": {
            "text/plain": [
              "<IPython.core.display.HTML object>"
            ],
            "text/html": [
              "Run data is saved locally in <code>/content/wandb/run-20250309_195830-5xpab2q4</code>"
            ]
          },
          "metadata": {}
        },
        {
          "output_type": "display_data",
          "data": {
            "text/plain": [
              "<IPython.core.display.HTML object>"
            ],
            "text/html": [
              "Syncing run <strong><a href='https://wandb.ai/arunangshudutta218-iitm/dl_assgn_1_q_4/runs/5xpab2q4' target=\"_blank\">vague-sweep-39</a></strong> to <a href='https://wandb.ai/arunangshudutta218-iitm/dl_assgn_1_q_4' target=\"_blank\">Weights & Biases</a> (<a href='https://wandb.me/developer-guide' target=\"_blank\">docs</a>)<br>Sweep page: <a href='https://wandb.ai/arunangshudutta218-iitm/dl_assgn_1_q_4/sweeps/sdlyh3ti' target=\"_blank\">https://wandb.ai/arunangshudutta218-iitm/dl_assgn_1_q_4/sweeps/sdlyh3ti</a>"
            ]
          },
          "metadata": {}
        },
        {
          "output_type": "display_data",
          "data": {
            "text/plain": [
              "<IPython.core.display.HTML object>"
            ],
            "text/html": [
              " View project at <a href='https://wandb.ai/arunangshudutta218-iitm/dl_assgn_1_q_4' target=\"_blank\">https://wandb.ai/arunangshudutta218-iitm/dl_assgn_1_q_4</a>"
            ]
          },
          "metadata": {}
        },
        {
          "output_type": "display_data",
          "data": {
            "text/plain": [
              "<IPython.core.display.HTML object>"
            ],
            "text/html": [
              " View sweep at <a href='https://wandb.ai/arunangshudutta218-iitm/dl_assgn_1_q_4/sweeps/sdlyh3ti' target=\"_blank\">https://wandb.ai/arunangshudutta218-iitm/dl_assgn_1_q_4/sweeps/sdlyh3ti</a>"
            ]
          },
          "metadata": {}
        },
        {
          "output_type": "display_data",
          "data": {
            "text/plain": [
              "<IPython.core.display.HTML object>"
            ],
            "text/html": [
              " View run at <a href='https://wandb.ai/arunangshudutta218-iitm/dl_assgn_1_q_4/runs/5xpab2q4' target=\"_blank\">https://wandb.ai/arunangshudutta218-iitm/dl_assgn_1_q_4/runs/5xpab2q4</a>"
            ]
          },
          "metadata": {}
        },
        {
          "output_type": "stream",
          "name": "stdout",
          "text": [
            "2625.0\n"
          ]
        },
        {
          "output_type": "stream",
          "name": "stderr",
          "text": [
            "100%|██████████| 2625/2625 [00:02<00:00, 937.37it/s] \n",
            "100%|██████████| 2625/2625 [00:03<00:00, 782.46it/s]\n",
            "100%|██████████| 2625/2625 [00:05<00:00, 494.93it/s]\n",
            "100%|██████████| 2625/2625 [00:02<00:00, 961.51it/s]\n",
            "100%|██████████| 2625/2625 [00:02<00:00, 970.07it/s]\n",
            "100%|██████████| 2625/2625 [00:02<00:00, 938.10it/s]\n",
            "100%|██████████| 2625/2625 [00:05<00:00, 493.60it/s]\n",
            "100%|██████████| 2625/2625 [00:02<00:00, 965.30it/s]\n",
            "100%|██████████| 2625/2625 [00:02<00:00, 965.64it/s]\n",
            "100%|██████████| 2625/2625 [00:02<00:00, 946.97it/s]\n"
          ]
        },
        {
          "output_type": "display_data",
          "data": {
            "text/plain": [
              "<IPython.core.display.HTML object>"
            ],
            "text/html": []
          },
          "metadata": {}
        },
        {
          "output_type": "display_data",
          "data": {
            "text/plain": [
              "<IPython.core.display.HTML object>"
            ],
            "text/html": [
              "<br>    <style><br>        .wandb-row {<br>            display: flex;<br>            flex-direction: row;<br>            flex-wrap: wrap;<br>            justify-content: flex-start;<br>            width: 100%;<br>        }<br>        .wandb-col {<br>            display: flex;<br>            flex-direction: column;<br>            flex-basis: 100%;<br>            flex: 1;<br>            padding: 10px;<br>        }<br>    </style><br><div class=\"wandb-row\"><div class=\"wandb-col\"><h3>Run history:</h3><br/><table class=\"wandb\"><tr><td>tr_accuracy</td><td>▁▁▂▃▃▃▃▃▆█</td></tr><tr><td>tr_loss</td><td>██▇▇▆▅▄▃▂▁</td></tr><tr><td>val_accuracy</td><td>▁▁▂▇▆▆▆▆▇█</td></tr><tr><td>val_loss</td><td>██▇▇▆▅▅▃▂▁</td></tr></table><br/></div><div class=\"wandb-col\"><h3>Run summary:</h3><br/><table class=\"wandb\"><tr><td>tr_accuracy</td><td>43.75</td></tr><tr><td>tr_loss</td><td>1.8113</td></tr><tr><td>val_accuracy</td><td>56.25</td></tr><tr><td>val_loss</td><td>1.80953</td></tr></table><br/></div></div>"
            ]
          },
          "metadata": {}
        },
        {
          "output_type": "display_data",
          "data": {
            "text/plain": [
              "<IPython.core.display.HTML object>"
            ],
            "text/html": [
              " View run <strong style=\"color:#cdcd00\">e_10_hl_5_hs_32_lr_0.0001_opt_sgd_bs_16_init_Xavier_ac_ReLU_l2_0.5</strong> at: <a href='https://wandb.ai/arunangshudutta218-iitm/dl_assgn_1_q_4/runs/5xpab2q4' target=\"_blank\">https://wandb.ai/arunangshudutta218-iitm/dl_assgn_1_q_4/runs/5xpab2q4</a><br> View project at: <a href='https://wandb.ai/arunangshudutta218-iitm/dl_assgn_1_q_4' target=\"_blank\">https://wandb.ai/arunangshudutta218-iitm/dl_assgn_1_q_4</a><br>Synced 5 W&B file(s), 0 media file(s), 0 artifact file(s) and 0 other file(s)"
            ]
          },
          "metadata": {}
        },
        {
          "output_type": "display_data",
          "data": {
            "text/plain": [
              "<IPython.core.display.HTML object>"
            ],
            "text/html": [
              "Find logs at: <code>./wandb/run-20250309_195830-5xpab2q4/logs</code>"
            ]
          },
          "metadata": {}
        },
        {
          "output_type": "stream",
          "name": "stderr",
          "text": [
            "\u001b[34m\u001b[1mwandb\u001b[0m: Agent Starting Run: iujdjj2r with config:\n",
            "\u001b[34m\u001b[1mwandb\u001b[0m: \tactivation: sigmoid\n",
            "\u001b[34m\u001b[1mwandb\u001b[0m: \tbatch_size: 16\n",
            "\u001b[34m\u001b[1mwandb\u001b[0m: \tepochs: 10\n",
            "\u001b[34m\u001b[1mwandb\u001b[0m: \thidden_size: 64\n",
            "\u001b[34m\u001b[1mwandb\u001b[0m: \tlearning_rate: 0.001\n",
            "\u001b[34m\u001b[1mwandb\u001b[0m: \tnum_layers: 5\n",
            "\u001b[34m\u001b[1mwandb\u001b[0m: \toptimizer: nadam\n",
            "\u001b[34m\u001b[1mwandb\u001b[0m: \tweight_decay: 0.5\n",
            "\u001b[34m\u001b[1mwandb\u001b[0m: \tweight_init: random\n"
          ]
        },
        {
          "output_type": "display_data",
          "data": {
            "text/plain": [
              "<IPython.core.display.HTML object>"
            ],
            "text/html": [
              "Tracking run with wandb version 0.19.7"
            ]
          },
          "metadata": {}
        },
        {
          "output_type": "display_data",
          "data": {
            "text/plain": [
              "<IPython.core.display.HTML object>"
            ],
            "text/html": [
              "Run data is saved locally in <code>/content/wandb/run-20250309_195911-iujdjj2r</code>"
            ]
          },
          "metadata": {}
        },
        {
          "output_type": "display_data",
          "data": {
            "text/plain": [
              "<IPython.core.display.HTML object>"
            ],
            "text/html": [
              "Syncing run <strong><a href='https://wandb.ai/arunangshudutta218-iitm/dl_assgn_1_q_4/runs/iujdjj2r' target=\"_blank\">dry-sweep-40</a></strong> to <a href='https://wandb.ai/arunangshudutta218-iitm/dl_assgn_1_q_4' target=\"_blank\">Weights & Biases</a> (<a href='https://wandb.me/developer-guide' target=\"_blank\">docs</a>)<br>Sweep page: <a href='https://wandb.ai/arunangshudutta218-iitm/dl_assgn_1_q_4/sweeps/sdlyh3ti' target=\"_blank\">https://wandb.ai/arunangshudutta218-iitm/dl_assgn_1_q_4/sweeps/sdlyh3ti</a>"
            ]
          },
          "metadata": {}
        },
        {
          "output_type": "display_data",
          "data": {
            "text/plain": [
              "<IPython.core.display.HTML object>"
            ],
            "text/html": [
              " View project at <a href='https://wandb.ai/arunangshudutta218-iitm/dl_assgn_1_q_4' target=\"_blank\">https://wandb.ai/arunangshudutta218-iitm/dl_assgn_1_q_4</a>"
            ]
          },
          "metadata": {}
        },
        {
          "output_type": "display_data",
          "data": {
            "text/plain": [
              "<IPython.core.display.HTML object>"
            ],
            "text/html": [
              " View sweep at <a href='https://wandb.ai/arunangshudutta218-iitm/dl_assgn_1_q_4/sweeps/sdlyh3ti' target=\"_blank\">https://wandb.ai/arunangshudutta218-iitm/dl_assgn_1_q_4/sweeps/sdlyh3ti</a>"
            ]
          },
          "metadata": {}
        },
        {
          "output_type": "display_data",
          "data": {
            "text/plain": [
              "<IPython.core.display.HTML object>"
            ],
            "text/html": [
              " View run at <a href='https://wandb.ai/arunangshudutta218-iitm/dl_assgn_1_q_4/runs/iujdjj2r' target=\"_blank\">https://wandb.ai/arunangshudutta218-iitm/dl_assgn_1_q_4/runs/iujdjj2r</a>"
            ]
          },
          "metadata": {}
        },
        {
          "output_type": "stream",
          "name": "stdout",
          "text": [
            "2625.0\n"
          ]
        },
        {
          "output_type": "stream",
          "name": "stderr",
          "text": [
            "100%|██████████| 2625/2625 [00:12<00:00, 215.19it/s]\n",
            "100%|██████████| 2625/2625 [00:09<00:00, 263.38it/s]\n",
            "100%|██████████| 2625/2625 [00:11<00:00, 233.41it/s]\n",
            "100%|██████████| 2625/2625 [00:12<00:00, 216.90it/s]\n",
            "100%|██████████| 2625/2625 [00:12<00:00, 205.31it/s]\n",
            "100%|██████████| 2625/2625 [00:12<00:00, 211.92it/s]\n",
            "100%|██████████| 2625/2625 [00:12<00:00, 210.79it/s]\n",
            "100%|██████████| 2625/2625 [00:10<00:00, 249.02it/s]\n",
            "100%|██████████| 2625/2625 [00:10<00:00, 262.04it/s]\n",
            "100%|██████████| 2625/2625 [00:12<00:00, 215.17it/s]\n"
          ]
        },
        {
          "output_type": "display_data",
          "data": {
            "text/plain": [
              "<IPython.core.display.HTML object>"
            ],
            "text/html": []
          },
          "metadata": {}
        },
        {
          "output_type": "display_data",
          "data": {
            "text/plain": [
              "<IPython.core.display.HTML object>"
            ],
            "text/html": [
              "<br>    <style><br>        .wandb-row {<br>            display: flex;<br>            flex-direction: row;<br>            flex-wrap: wrap;<br>            justify-content: flex-start;<br>            width: 100%;<br>        }<br>        .wandb-col {<br>            display: flex;<br>            flex-direction: column;<br>            flex-basis: 100%;<br>            flex: 1;<br>            padding: 10px;<br>        }<br>    </style><br><div class=\"wandb-row\"><div class=\"wandb-col\"><h3>Run history:</h3><br/><table class=\"wandb\"><tr><td>tr_accuracy</td><td>▁▁▁▁▁▁▁▁▁▁</td></tr><tr><td>tr_loss</td><td>█▄▃▂▂▁▁▁▁▁</td></tr><tr><td>val_accuracy</td><td>▁▁▁▁▁▁▁▁▁▁</td></tr><tr><td>val_loss</td><td>█▄▃▂▂▁▁▁▁▁</td></tr></table><br/></div><div class=\"wandb-col\"><h3>Run summary:</h3><br/><table class=\"wandb\"><tr><td>tr_accuracy</td><td>6.25</td></tr><tr><td>tr_loss</td><td>2.30272</td></tr><tr><td>val_accuracy</td><td>0</td></tr><tr><td>val_loss</td><td>2.30274</td></tr></table><br/></div></div>"
            ]
          },
          "metadata": {}
        },
        {
          "output_type": "display_data",
          "data": {
            "text/plain": [
              "<IPython.core.display.HTML object>"
            ],
            "text/html": [
              " View run <strong style=\"color:#cdcd00\">e_10_hl_5_hs_64_lr_0.001_opt_nadam_bs_16_init_random_ac_sigmoid_l2_0.5</strong> at: <a href='https://wandb.ai/arunangshudutta218-iitm/dl_assgn_1_q_4/runs/iujdjj2r' target=\"_blank\">https://wandb.ai/arunangshudutta218-iitm/dl_assgn_1_q_4/runs/iujdjj2r</a><br> View project at: <a href='https://wandb.ai/arunangshudutta218-iitm/dl_assgn_1_q_4' target=\"_blank\">https://wandb.ai/arunangshudutta218-iitm/dl_assgn_1_q_4</a><br>Synced 5 W&B file(s), 0 media file(s), 0 artifact file(s) and 0 other file(s)"
            ]
          },
          "metadata": {}
        },
        {
          "output_type": "display_data",
          "data": {
            "text/plain": [
              "<IPython.core.display.HTML object>"
            ],
            "text/html": [
              "Find logs at: <code>./wandb/run-20250309_195911-iujdjj2r/logs</code>"
            ]
          },
          "metadata": {}
        },
        {
          "output_type": "stream",
          "name": "stderr",
          "text": [
            "\u001b[34m\u001b[1mwandb\u001b[0m: Agent Starting Run: jya1mmxr with config:\n",
            "\u001b[34m\u001b[1mwandb\u001b[0m: \tactivation: tanh\n",
            "\u001b[34m\u001b[1mwandb\u001b[0m: \tbatch_size: 16\n",
            "\u001b[34m\u001b[1mwandb\u001b[0m: \tepochs: 5\n",
            "\u001b[34m\u001b[1mwandb\u001b[0m: \thidden_size: 64\n",
            "\u001b[34m\u001b[1mwandb\u001b[0m: \tlearning_rate: 0.0001\n",
            "\u001b[34m\u001b[1mwandb\u001b[0m: \tnum_layers: 3\n",
            "\u001b[34m\u001b[1mwandb\u001b[0m: \toptimizer: nag\n",
            "\u001b[34m\u001b[1mwandb\u001b[0m: \tweight_decay: 0\n",
            "\u001b[34m\u001b[1mwandb\u001b[0m: \tweight_init: random\n"
          ]
        },
        {
          "output_type": "display_data",
          "data": {
            "text/plain": [
              "<IPython.core.display.HTML object>"
            ],
            "text/html": [
              "Tracking run with wandb version 0.19.7"
            ]
          },
          "metadata": {}
        },
        {
          "output_type": "display_data",
          "data": {
            "text/plain": [
              "<IPython.core.display.HTML object>"
            ],
            "text/html": [
              "Run data is saved locally in <code>/content/wandb/run-20250309_200123-jya1mmxr</code>"
            ]
          },
          "metadata": {}
        },
        {
          "output_type": "display_data",
          "data": {
            "text/plain": [
              "<IPython.core.display.HTML object>"
            ],
            "text/html": [
              "Syncing run <strong><a href='https://wandb.ai/arunangshudutta218-iitm/dl_assgn_1_q_4/runs/jya1mmxr' target=\"_blank\">worldly-sweep-41</a></strong> to <a href='https://wandb.ai/arunangshudutta218-iitm/dl_assgn_1_q_4' target=\"_blank\">Weights & Biases</a> (<a href='https://wandb.me/developer-guide' target=\"_blank\">docs</a>)<br>Sweep page: <a href='https://wandb.ai/arunangshudutta218-iitm/dl_assgn_1_q_4/sweeps/sdlyh3ti' target=\"_blank\">https://wandb.ai/arunangshudutta218-iitm/dl_assgn_1_q_4/sweeps/sdlyh3ti</a>"
            ]
          },
          "metadata": {}
        },
        {
          "output_type": "display_data",
          "data": {
            "text/plain": [
              "<IPython.core.display.HTML object>"
            ],
            "text/html": [
              " View project at <a href='https://wandb.ai/arunangshudutta218-iitm/dl_assgn_1_q_4' target=\"_blank\">https://wandb.ai/arunangshudutta218-iitm/dl_assgn_1_q_4</a>"
            ]
          },
          "metadata": {}
        },
        {
          "output_type": "display_data",
          "data": {
            "text/plain": [
              "<IPython.core.display.HTML object>"
            ],
            "text/html": [
              " View sweep at <a href='https://wandb.ai/arunangshudutta218-iitm/dl_assgn_1_q_4/sweeps/sdlyh3ti' target=\"_blank\">https://wandb.ai/arunangshudutta218-iitm/dl_assgn_1_q_4/sweeps/sdlyh3ti</a>"
            ]
          },
          "metadata": {}
        },
        {
          "output_type": "display_data",
          "data": {
            "text/plain": [
              "<IPython.core.display.HTML object>"
            ],
            "text/html": [
              " View run at <a href='https://wandb.ai/arunangshudutta218-iitm/dl_assgn_1_q_4/runs/jya1mmxr' target=\"_blank\">https://wandb.ai/arunangshudutta218-iitm/dl_assgn_1_q_4/runs/jya1mmxr</a>"
            ]
          },
          "metadata": {}
        },
        {
          "output_type": "stream",
          "name": "stdout",
          "text": [
            "2625.0\n"
          ]
        },
        {
          "output_type": "stream",
          "name": "stderr",
          "text": [
            "100%|██████████| 2625/2625 [00:05<00:00, 471.08it/s]\n",
            "100%|██████████| 2625/2625 [00:08<00:00, 313.95it/s]\n",
            "100%|██████████| 2625/2625 [00:06<00:00, 428.30it/s]\n",
            "100%|██████████| 2625/2625 [00:08<00:00, 306.12it/s]\n",
            "100%|██████████| 2625/2625 [00:05<00:00, 467.29it/s]\n"
          ]
        },
        {
          "output_type": "display_data",
          "data": {
            "text/plain": [
              "<IPython.core.display.HTML object>"
            ],
            "text/html": []
          },
          "metadata": {}
        },
        {
          "output_type": "display_data",
          "data": {
            "text/plain": [
              "<IPython.core.display.HTML object>"
            ],
            "text/html": [
              "<br>    <style><br>        .wandb-row {<br>            display: flex;<br>            flex-direction: row;<br>            flex-wrap: wrap;<br>            justify-content: flex-start;<br>            width: 100%;<br>        }<br>        .wandb-col {<br>            display: flex;<br>            flex-direction: column;<br>            flex-basis: 100%;<br>            flex: 1;<br>            padding: 10px;<br>        }<br>    </style><br><div class=\"wandb-row\"><div class=\"wandb-col\"><h3>Run history:</h3><br/><table class=\"wandb\"><tr><td>tr_accuracy</td><td>▁█▁▁█</td></tr><tr><td>tr_loss</td><td>▁▃█▆▁</td></tr><tr><td>val_accuracy</td><td>█▁▁▁▁</td></tr><tr><td>val_loss</td><td>▁▃█▆▁</td></tr></table><br/></div><div class=\"wandb-col\"><h3>Run summary:</h3><br/><table class=\"wandb\"><tr><td>tr_accuracy</td><td>12.5</td></tr><tr><td>tr_loss</td><td>17.60697</td></tr><tr><td>val_accuracy</td><td>0</td></tr><tr><td>val_loss</td><td>17.63282</td></tr></table><br/></div></div>"
            ]
          },
          "metadata": {}
        },
        {
          "output_type": "display_data",
          "data": {
            "text/plain": [
              "<IPython.core.display.HTML object>"
            ],
            "text/html": [
              " View run <strong style=\"color:#cdcd00\">e_5_hl_3_hs_64_lr_0.0001_opt_nag_bs_16_init_random_ac_tanh_l2_0</strong> at: <a href='https://wandb.ai/arunangshudutta218-iitm/dl_assgn_1_q_4/runs/jya1mmxr' target=\"_blank\">https://wandb.ai/arunangshudutta218-iitm/dl_assgn_1_q_4/runs/jya1mmxr</a><br> View project at: <a href='https://wandb.ai/arunangshudutta218-iitm/dl_assgn_1_q_4' target=\"_blank\">https://wandb.ai/arunangshudutta218-iitm/dl_assgn_1_q_4</a><br>Synced 5 W&B file(s), 0 media file(s), 0 artifact file(s) and 0 other file(s)"
            ]
          },
          "metadata": {}
        },
        {
          "output_type": "display_data",
          "data": {
            "text/plain": [
              "<IPython.core.display.HTML object>"
            ],
            "text/html": [
              "Find logs at: <code>./wandb/run-20250309_200123-jya1mmxr/logs</code>"
            ]
          },
          "metadata": {}
        },
        {
          "output_type": "stream",
          "name": "stderr",
          "text": [
            "\u001b[34m\u001b[1mwandb\u001b[0m: Agent Starting Run: w9dkjtt3 with config:\n",
            "\u001b[34m\u001b[1mwandb\u001b[0m: \tactivation: tanh\n",
            "\u001b[34m\u001b[1mwandb\u001b[0m: \tbatch_size: 32\n",
            "\u001b[34m\u001b[1mwandb\u001b[0m: \tepochs: 10\n",
            "\u001b[34m\u001b[1mwandb\u001b[0m: \thidden_size: 32\n",
            "\u001b[34m\u001b[1mwandb\u001b[0m: \tlearning_rate: 0.0001\n",
            "\u001b[34m\u001b[1mwandb\u001b[0m: \tnum_layers: 5\n",
            "\u001b[34m\u001b[1mwandb\u001b[0m: \toptimizer: nag\n",
            "\u001b[34m\u001b[1mwandb\u001b[0m: \tweight_decay: 0.5\n",
            "\u001b[34m\u001b[1mwandb\u001b[0m: \tweight_init: random\n"
          ]
        },
        {
          "output_type": "display_data",
          "data": {
            "text/plain": [
              "<IPython.core.display.HTML object>"
            ],
            "text/html": [
              "Tracking run with wandb version 0.19.7"
            ]
          },
          "metadata": {}
        },
        {
          "output_type": "display_data",
          "data": {
            "text/plain": [
              "<IPython.core.display.HTML object>"
            ],
            "text/html": [
              "Run data is saved locally in <code>/content/wandb/run-20250309_200209-w9dkjtt3</code>"
            ]
          },
          "metadata": {}
        },
        {
          "output_type": "display_data",
          "data": {
            "text/plain": [
              "<IPython.core.display.HTML object>"
            ],
            "text/html": [
              "Syncing run <strong><a href='https://wandb.ai/arunangshudutta218-iitm/dl_assgn_1_q_4/runs/w9dkjtt3' target=\"_blank\">classic-sweep-42</a></strong> to <a href='https://wandb.ai/arunangshudutta218-iitm/dl_assgn_1_q_4' target=\"_blank\">Weights & Biases</a> (<a href='https://wandb.me/developer-guide' target=\"_blank\">docs</a>)<br>Sweep page: <a href='https://wandb.ai/arunangshudutta218-iitm/dl_assgn_1_q_4/sweeps/sdlyh3ti' target=\"_blank\">https://wandb.ai/arunangshudutta218-iitm/dl_assgn_1_q_4/sweeps/sdlyh3ti</a>"
            ]
          },
          "metadata": {}
        },
        {
          "output_type": "display_data",
          "data": {
            "text/plain": [
              "<IPython.core.display.HTML object>"
            ],
            "text/html": [
              " View project at <a href='https://wandb.ai/arunangshudutta218-iitm/dl_assgn_1_q_4' target=\"_blank\">https://wandb.ai/arunangshudutta218-iitm/dl_assgn_1_q_4</a>"
            ]
          },
          "metadata": {}
        },
        {
          "output_type": "display_data",
          "data": {
            "text/plain": [
              "<IPython.core.display.HTML object>"
            ],
            "text/html": [
              " View sweep at <a href='https://wandb.ai/arunangshudutta218-iitm/dl_assgn_1_q_4/sweeps/sdlyh3ti' target=\"_blank\">https://wandb.ai/arunangshudutta218-iitm/dl_assgn_1_q_4/sweeps/sdlyh3ti</a>"
            ]
          },
          "metadata": {}
        },
        {
          "output_type": "display_data",
          "data": {
            "text/plain": [
              "<IPython.core.display.HTML object>"
            ],
            "text/html": [
              " View run at <a href='https://wandb.ai/arunangshudutta218-iitm/dl_assgn_1_q_4/runs/w9dkjtt3' target=\"_blank\">https://wandb.ai/arunangshudutta218-iitm/dl_assgn_1_q_4/runs/w9dkjtt3</a>"
            ]
          },
          "metadata": {}
        },
        {
          "output_type": "stream",
          "name": "stdout",
          "text": [
            "1312.0\n"
          ]
        },
        {
          "output_type": "stream",
          "name": "stderr",
          "text": [
            "100%|██████████| 1312/1312 [00:03<00:00, 393.91it/s]\n",
            "100%|██████████| 1312/1312 [00:04<00:00, 305.24it/s]\n",
            "100%|██████████| 1312/1312 [00:03<00:00, 342.52it/s]\n",
            "100%|██████████| 1312/1312 [00:03<00:00, 419.76it/s]\n",
            "100%|██████████| 1312/1312 [00:03<00:00, 341.41it/s]\n",
            "100%|██████████| 1312/1312 [00:04<00:00, 298.75it/s]\n",
            "100%|██████████| 1312/1312 [00:03<00:00, 409.18it/s]\n",
            "100%|██████████| 1312/1312 [00:03<00:00, 357.91it/s]\n",
            "100%|██████████| 1312/1312 [00:04<00:00, 290.13it/s]\n",
            "100%|██████████| 1312/1312 [00:03<00:00, 418.25it/s]\n"
          ]
        },
        {
          "output_type": "display_data",
          "data": {
            "text/plain": [
              "<IPython.core.display.HTML object>"
            ],
            "text/html": []
          },
          "metadata": {}
        },
        {
          "output_type": "display_data",
          "data": {
            "text/plain": [
              "<IPython.core.display.HTML object>"
            ],
            "text/html": [
              "<br>    <style><br>        .wandb-row {<br>            display: flex;<br>            flex-direction: row;<br>            flex-wrap: wrap;<br>            justify-content: flex-start;<br>            width: 100%;<br>        }<br>        .wandb-col {<br>            display: flex;<br>            flex-direction: column;<br>            flex-basis: 100%;<br>            flex: 1;<br>            padding: 10px;<br>        }<br>    </style><br><div class=\"wandb-row\"><div class=\"wandb-col\"><h3>Run history:</h3><br/><table class=\"wandb\"><tr><td>tr_accuracy</td><td>▆█▄▃▅▃▄▃▁▆</td></tr><tr><td>tr_loss</td><td>▆▁▃▄▃▆▅▄█▃</td></tr><tr><td>val_accuracy</td><td>▁█▇▇▇▁▇▄▁▃</td></tr><tr><td>val_loss</td><td>▆▁▃▄▃▆▅▄█▃</td></tr></table><br/></div><div class=\"wandb-col\"><h3>Run summary:</h3><br/><table class=\"wandb\"><tr><td>tr_accuracy</td><td>37.5</td></tr><tr><td>tr_loss</td><td>1.41395</td></tr><tr><td>val_accuracy</td><td>37.5</td></tr><tr><td>val_loss</td><td>1.41455</td></tr></table><br/></div></div>"
            ]
          },
          "metadata": {}
        },
        {
          "output_type": "display_data",
          "data": {
            "text/plain": [
              "<IPython.core.display.HTML object>"
            ],
            "text/html": [
              " View run <strong style=\"color:#cdcd00\">e_10_hl_5_hs_32_lr_0.0001_opt_nag_bs_32_init_random_ac_tanh_l2_0.5</strong> at: <a href='https://wandb.ai/arunangshudutta218-iitm/dl_assgn_1_q_4/runs/w9dkjtt3' target=\"_blank\">https://wandb.ai/arunangshudutta218-iitm/dl_assgn_1_q_4/runs/w9dkjtt3</a><br> View project at: <a href='https://wandb.ai/arunangshudutta218-iitm/dl_assgn_1_q_4' target=\"_blank\">https://wandb.ai/arunangshudutta218-iitm/dl_assgn_1_q_4</a><br>Synced 5 W&B file(s), 0 media file(s), 0 artifact file(s) and 0 other file(s)"
            ]
          },
          "metadata": {}
        },
        {
          "output_type": "display_data",
          "data": {
            "text/plain": [
              "<IPython.core.display.HTML object>"
            ],
            "text/html": [
              "Find logs at: <code>./wandb/run-20250309_200209-w9dkjtt3/logs</code>"
            ]
          },
          "metadata": {}
        },
        {
          "output_type": "stream",
          "name": "stderr",
          "text": [
            "\u001b[34m\u001b[1mwandb\u001b[0m: Agent Starting Run: ff9b25nn with config:\n",
            "\u001b[34m\u001b[1mwandb\u001b[0m: \tactivation: tanh\n",
            "\u001b[34m\u001b[1mwandb\u001b[0m: \tbatch_size: 16\n",
            "\u001b[34m\u001b[1mwandb\u001b[0m: \tepochs: 5\n",
            "\u001b[34m\u001b[1mwandb\u001b[0m: \thidden_size: 32\n",
            "\u001b[34m\u001b[1mwandb\u001b[0m: \tlearning_rate: 0.001\n",
            "\u001b[34m\u001b[1mwandb\u001b[0m: \tnum_layers: 4\n",
            "\u001b[34m\u001b[1mwandb\u001b[0m: \toptimizer: sgd\n",
            "\u001b[34m\u001b[1mwandb\u001b[0m: \tweight_decay: 0\n",
            "\u001b[34m\u001b[1mwandb\u001b[0m: \tweight_init: Xavier\n"
          ]
        },
        {
          "output_type": "display_data",
          "data": {
            "text/plain": [
              "<IPython.core.display.HTML object>"
            ],
            "text/html": [
              "Tracking run with wandb version 0.19.7"
            ]
          },
          "metadata": {}
        },
        {
          "output_type": "display_data",
          "data": {
            "text/plain": [
              "<IPython.core.display.HTML object>"
            ],
            "text/html": [
              "Run data is saved locally in <code>/content/wandb/run-20250309_200305-ff9b25nn</code>"
            ]
          },
          "metadata": {}
        },
        {
          "output_type": "display_data",
          "data": {
            "text/plain": [
              "<IPython.core.display.HTML object>"
            ],
            "text/html": [
              "Syncing run <strong><a href='https://wandb.ai/arunangshudutta218-iitm/dl_assgn_1_q_4/runs/ff9b25nn' target=\"_blank\">flowing-sweep-43</a></strong> to <a href='https://wandb.ai/arunangshudutta218-iitm/dl_assgn_1_q_4' target=\"_blank\">Weights & Biases</a> (<a href='https://wandb.me/developer-guide' target=\"_blank\">docs</a>)<br>Sweep page: <a href='https://wandb.ai/arunangshudutta218-iitm/dl_assgn_1_q_4/sweeps/sdlyh3ti' target=\"_blank\">https://wandb.ai/arunangshudutta218-iitm/dl_assgn_1_q_4/sweeps/sdlyh3ti</a>"
            ]
          },
          "metadata": {}
        },
        {
          "output_type": "display_data",
          "data": {
            "text/plain": [
              "<IPython.core.display.HTML object>"
            ],
            "text/html": [
              " View project at <a href='https://wandb.ai/arunangshudutta218-iitm/dl_assgn_1_q_4' target=\"_blank\">https://wandb.ai/arunangshudutta218-iitm/dl_assgn_1_q_4</a>"
            ]
          },
          "metadata": {}
        },
        {
          "output_type": "display_data",
          "data": {
            "text/plain": [
              "<IPython.core.display.HTML object>"
            ],
            "text/html": [
              " View sweep at <a href='https://wandb.ai/arunangshudutta218-iitm/dl_assgn_1_q_4/sweeps/sdlyh3ti' target=\"_blank\">https://wandb.ai/arunangshudutta218-iitm/dl_assgn_1_q_4/sweeps/sdlyh3ti</a>"
            ]
          },
          "metadata": {}
        },
        {
          "output_type": "display_data",
          "data": {
            "text/plain": [
              "<IPython.core.display.HTML object>"
            ],
            "text/html": [
              " View run at <a href='https://wandb.ai/arunangshudutta218-iitm/dl_assgn_1_q_4/runs/ff9b25nn' target=\"_blank\">https://wandb.ai/arunangshudutta218-iitm/dl_assgn_1_q_4/runs/ff9b25nn</a>"
            ]
          },
          "metadata": {}
        },
        {
          "output_type": "stream",
          "name": "stdout",
          "text": [
            "2625.0\n"
          ]
        },
        {
          "output_type": "stream",
          "name": "stderr",
          "text": [
            "100%|██████████| 2625/2625 [00:03<00:00, 800.34it/s]\n",
            "100%|██████████| 2625/2625 [00:03<00:00, 723.45it/s]\n",
            "100%|██████████| 2625/2625 [00:05<00:00, 470.55it/s]\n",
            "100%|██████████| 2625/2625 [00:03<00:00, 750.65it/s]\n",
            "100%|██████████| 2625/2625 [00:03<00:00, 783.78it/s]\n"
          ]
        },
        {
          "output_type": "display_data",
          "data": {
            "text/plain": [
              "<IPython.core.display.HTML object>"
            ],
            "text/html": []
          },
          "metadata": {}
        },
        {
          "output_type": "display_data",
          "data": {
            "text/plain": [
              "<IPython.core.display.HTML object>"
            ],
            "text/html": [
              "<br>    <style><br>        .wandb-row {<br>            display: flex;<br>            flex-direction: row;<br>            flex-wrap: wrap;<br>            justify-content: flex-start;<br>            width: 100%;<br>        }<br>        .wandb-col {<br>            display: flex;<br>            flex-direction: column;<br>            flex-basis: 100%;<br>            flex: 1;<br>            padding: 10px;<br>        }<br>    </style><br><div class=\"wandb-row\"><div class=\"wandb-col\"><h3>Run history:</h3><br/><table class=\"wandb\"><tr><td>tr_accuracy</td><td>█▁▁██</td></tr><tr><td>tr_loss</td><td>█▄▃▂▁</td></tr><tr><td>val_accuracy</td><td>▁▆▆██</td></tr><tr><td>val_loss</td><td>█▄▃▂▁</td></tr></table><br/></div><div class=\"wandb-col\"><h3>Run summary:</h3><br/><table class=\"wandb\"><tr><td>tr_accuracy</td><td>93.75</td></tr><tr><td>tr_loss</td><td>0.63012</td></tr><tr><td>val_accuracy</td><td>100</td></tr><tr><td>val_loss</td><td>0.63857</td></tr></table><br/></div></div>"
            ]
          },
          "metadata": {}
        },
        {
          "output_type": "display_data",
          "data": {
            "text/plain": [
              "<IPython.core.display.HTML object>"
            ],
            "text/html": [
              " View run <strong style=\"color:#cdcd00\">e_5_hl_4_hs_32_lr_0.001_opt_sgd_bs_16_init_Xavier_ac_tanh_l2_0</strong> at: <a href='https://wandb.ai/arunangshudutta218-iitm/dl_assgn_1_q_4/runs/ff9b25nn' target=\"_blank\">https://wandb.ai/arunangshudutta218-iitm/dl_assgn_1_q_4/runs/ff9b25nn</a><br> View project at: <a href='https://wandb.ai/arunangshudutta218-iitm/dl_assgn_1_q_4' target=\"_blank\">https://wandb.ai/arunangshudutta218-iitm/dl_assgn_1_q_4</a><br>Synced 5 W&B file(s), 0 media file(s), 0 artifact file(s) and 0 other file(s)"
            ]
          },
          "metadata": {}
        },
        {
          "output_type": "display_data",
          "data": {
            "text/plain": [
              "<IPython.core.display.HTML object>"
            ],
            "text/html": [
              "Find logs at: <code>./wandb/run-20250309_200305-ff9b25nn/logs</code>"
            ]
          },
          "metadata": {}
        },
        {
          "output_type": "stream",
          "name": "stderr",
          "text": [
            "\u001b[34m\u001b[1mwandb\u001b[0m: Agent Starting Run: djbzmdw1 with config:\n",
            "\u001b[34m\u001b[1mwandb\u001b[0m: \tactivation: sigmoid\n",
            "\u001b[34m\u001b[1mwandb\u001b[0m: \tbatch_size: 64\n",
            "\u001b[34m\u001b[1mwandb\u001b[0m: \tepochs: 5\n",
            "\u001b[34m\u001b[1mwandb\u001b[0m: \thidden_size: 32\n",
            "\u001b[34m\u001b[1mwandb\u001b[0m: \tlearning_rate: 0.001\n",
            "\u001b[34m\u001b[1mwandb\u001b[0m: \tnum_layers: 4\n",
            "\u001b[34m\u001b[1mwandb\u001b[0m: \toptimizer: rmsprop\n",
            "\u001b[34m\u001b[1mwandb\u001b[0m: \tweight_decay: 0.0005\n",
            "\u001b[34m\u001b[1mwandb\u001b[0m: \tweight_init: Xavier\n"
          ]
        },
        {
          "output_type": "display_data",
          "data": {
            "text/plain": [
              "<IPython.core.display.HTML object>"
            ],
            "text/html": [
              "Tracking run with wandb version 0.19.7"
            ]
          },
          "metadata": {}
        },
        {
          "output_type": "display_data",
          "data": {
            "text/plain": [
              "<IPython.core.display.HTML object>"
            ],
            "text/html": [
              "Run data is saved locally in <code>/content/wandb/run-20250309_200336-djbzmdw1</code>"
            ]
          },
          "metadata": {}
        },
        {
          "output_type": "display_data",
          "data": {
            "text/plain": [
              "<IPython.core.display.HTML object>"
            ],
            "text/html": [
              "Syncing run <strong><a href='https://wandb.ai/arunangshudutta218-iitm/dl_assgn_1_q_4/runs/djbzmdw1' target=\"_blank\">fresh-sweep-44</a></strong> to <a href='https://wandb.ai/arunangshudutta218-iitm/dl_assgn_1_q_4' target=\"_blank\">Weights & Biases</a> (<a href='https://wandb.me/developer-guide' target=\"_blank\">docs</a>)<br>Sweep page: <a href='https://wandb.ai/arunangshudutta218-iitm/dl_assgn_1_q_4/sweeps/sdlyh3ti' target=\"_blank\">https://wandb.ai/arunangshudutta218-iitm/dl_assgn_1_q_4/sweeps/sdlyh3ti</a>"
            ]
          },
          "metadata": {}
        },
        {
          "output_type": "display_data",
          "data": {
            "text/plain": [
              "<IPython.core.display.HTML object>"
            ],
            "text/html": [
              " View project at <a href='https://wandb.ai/arunangshudutta218-iitm/dl_assgn_1_q_4' target=\"_blank\">https://wandb.ai/arunangshudutta218-iitm/dl_assgn_1_q_4</a>"
            ]
          },
          "metadata": {}
        },
        {
          "output_type": "display_data",
          "data": {
            "text/plain": [
              "<IPython.core.display.HTML object>"
            ],
            "text/html": [
              " View sweep at <a href='https://wandb.ai/arunangshudutta218-iitm/dl_assgn_1_q_4/sweeps/sdlyh3ti' target=\"_blank\">https://wandb.ai/arunangshudutta218-iitm/dl_assgn_1_q_4/sweeps/sdlyh3ti</a>"
            ]
          },
          "metadata": {}
        },
        {
          "output_type": "display_data",
          "data": {
            "text/plain": [
              "<IPython.core.display.HTML object>"
            ],
            "text/html": [
              " View run at <a href='https://wandb.ai/arunangshudutta218-iitm/dl_assgn_1_q_4/runs/djbzmdw1' target=\"_blank\">https://wandb.ai/arunangshudutta218-iitm/dl_assgn_1_q_4/runs/djbzmdw1</a>"
            ]
          },
          "metadata": {}
        },
        {
          "output_type": "stream",
          "name": "stdout",
          "text": [
            "656.0\n"
          ]
        },
        {
          "output_type": "stream",
          "name": "stderr",
          "text": [
            "100%|██████████| 656/656 [00:01<00:00, 398.92it/s]\n",
            "100%|██████████| 656/656 [00:01<00:00, 401.69it/s]\n",
            "100%|██████████| 656/656 [00:02<00:00, 266.75it/s]\n",
            "100%|██████████| 656/656 [00:03<00:00, 211.64it/s]\n",
            "100%|██████████| 656/656 [00:01<00:00, 405.58it/s]\n"
          ]
        },
        {
          "output_type": "display_data",
          "data": {
            "text/plain": [
              "<IPython.core.display.HTML object>"
            ],
            "text/html": []
          },
          "metadata": {}
        },
        {
          "output_type": "display_data",
          "data": {
            "text/plain": [
              "<IPython.core.display.HTML object>"
            ],
            "text/html": [
              "<br>    <style><br>        .wandb-row {<br>            display: flex;<br>            flex-direction: row;<br>            flex-wrap: wrap;<br>            justify-content: flex-start;<br>            width: 100%;<br>        }<br>        .wandb-col {<br>            display: flex;<br>            flex-direction: column;<br>            flex-basis: 100%;<br>            flex: 1;<br>            padding: 10px;<br>        }<br>    </style><br><div class=\"wandb-row\"><div class=\"wandb-col\"><h3>Run history:</h3><br/><table class=\"wandb\"><tr><td>tr_accuracy</td><td>▁▇▆▇█</td></tr><tr><td>tr_loss</td><td>█▄▂▂▁</td></tr><tr><td>val_accuracy</td><td>▁▅▆▇█</td></tr><tr><td>val_loss</td><td>█▄▂▂▁</td></tr></table><br/></div><div class=\"wandb-col\"><h3>Run summary:</h3><br/><table class=\"wandb\"><tr><td>tr_accuracy</td><td>84.375</td></tr><tr><td>tr_loss</td><td>0.53008</td></tr><tr><td>val_accuracy</td><td>93.75</td></tr><tr><td>val_loss</td><td>0.54413</td></tr></table><br/></div></div>"
            ]
          },
          "metadata": {}
        },
        {
          "output_type": "display_data",
          "data": {
            "text/plain": [
              "<IPython.core.display.HTML object>"
            ],
            "text/html": [
              " View run <strong style=\"color:#cdcd00\">e_5_hl_4_hs_32_lr_0.001_opt_rmsprop_bs_64_init_Xavier_ac_sigmoid_l2_0.0005</strong> at: <a href='https://wandb.ai/arunangshudutta218-iitm/dl_assgn_1_q_4/runs/djbzmdw1' target=\"_blank\">https://wandb.ai/arunangshudutta218-iitm/dl_assgn_1_q_4/runs/djbzmdw1</a><br> View project at: <a href='https://wandb.ai/arunangshudutta218-iitm/dl_assgn_1_q_4' target=\"_blank\">https://wandb.ai/arunangshudutta218-iitm/dl_assgn_1_q_4</a><br>Synced 5 W&B file(s), 0 media file(s), 0 artifact file(s) and 0 other file(s)"
            ]
          },
          "metadata": {}
        },
        {
          "output_type": "display_data",
          "data": {
            "text/plain": [
              "<IPython.core.display.HTML object>"
            ],
            "text/html": [
              "Find logs at: <code>./wandb/run-20250309_200336-djbzmdw1/logs</code>"
            ]
          },
          "metadata": {}
        },
        {
          "output_type": "stream",
          "name": "stderr",
          "text": [
            "\u001b[34m\u001b[1mwandb\u001b[0m: Agent Starting Run: 0lx3b2dn with config:\n",
            "\u001b[34m\u001b[1mwandb\u001b[0m: \tactivation: sigmoid\n",
            "\u001b[34m\u001b[1mwandb\u001b[0m: \tbatch_size: 32\n",
            "\u001b[34m\u001b[1mwandb\u001b[0m: \tepochs: 10\n",
            "\u001b[34m\u001b[1mwandb\u001b[0m: \thidden_size: 128\n",
            "\u001b[34m\u001b[1mwandb\u001b[0m: \tlearning_rate: 0.001\n",
            "\u001b[34m\u001b[1mwandb\u001b[0m: \tnum_layers: 3\n",
            "\u001b[34m\u001b[1mwandb\u001b[0m: \toptimizer: nadam\n",
            "\u001b[34m\u001b[1mwandb\u001b[0m: \tweight_decay: 0\n",
            "\u001b[34m\u001b[1mwandb\u001b[0m: \tweight_init: Xavier\n"
          ]
        },
        {
          "output_type": "display_data",
          "data": {
            "text/plain": [
              "<IPython.core.display.HTML object>"
            ],
            "text/html": [
              "Tracking run with wandb version 0.19.7"
            ]
          },
          "metadata": {}
        },
        {
          "output_type": "display_data",
          "data": {
            "text/plain": [
              "<IPython.core.display.HTML object>"
            ],
            "text/html": [
              "Run data is saved locally in <code>/content/wandb/run-20250309_200357-0lx3b2dn</code>"
            ]
          },
          "metadata": {}
        },
        {
          "output_type": "display_data",
          "data": {
            "text/plain": [
              "<IPython.core.display.HTML object>"
            ],
            "text/html": [
              "Syncing run <strong><a href='https://wandb.ai/arunangshudutta218-iitm/dl_assgn_1_q_4/runs/0lx3b2dn' target=\"_blank\">neat-sweep-45</a></strong> to <a href='https://wandb.ai/arunangshudutta218-iitm/dl_assgn_1_q_4' target=\"_blank\">Weights & Biases</a> (<a href='https://wandb.me/developer-guide' target=\"_blank\">docs</a>)<br>Sweep page: <a href='https://wandb.ai/arunangshudutta218-iitm/dl_assgn_1_q_4/sweeps/sdlyh3ti' target=\"_blank\">https://wandb.ai/arunangshudutta218-iitm/dl_assgn_1_q_4/sweeps/sdlyh3ti</a>"
            ]
          },
          "metadata": {}
        },
        {
          "output_type": "display_data",
          "data": {
            "text/plain": [
              "<IPython.core.display.HTML object>"
            ],
            "text/html": [
              " View project at <a href='https://wandb.ai/arunangshudutta218-iitm/dl_assgn_1_q_4' target=\"_blank\">https://wandb.ai/arunangshudutta218-iitm/dl_assgn_1_q_4</a>"
            ]
          },
          "metadata": {}
        },
        {
          "output_type": "display_data",
          "data": {
            "text/plain": [
              "<IPython.core.display.HTML object>"
            ],
            "text/html": [
              " View sweep at <a href='https://wandb.ai/arunangshudutta218-iitm/dl_assgn_1_q_4/sweeps/sdlyh3ti' target=\"_blank\">https://wandb.ai/arunangshudutta218-iitm/dl_assgn_1_q_4/sweeps/sdlyh3ti</a>"
            ]
          },
          "metadata": {}
        },
        {
          "output_type": "display_data",
          "data": {
            "text/plain": [
              "<IPython.core.display.HTML object>"
            ],
            "text/html": [
              " View run at <a href='https://wandb.ai/arunangshudutta218-iitm/dl_assgn_1_q_4/runs/0lx3b2dn' target=\"_blank\">https://wandb.ai/arunangshudutta218-iitm/dl_assgn_1_q_4/runs/0lx3b2dn</a>"
            ]
          },
          "metadata": {}
        },
        {
          "output_type": "stream",
          "name": "stdout",
          "text": [
            "1312.0\n"
          ]
        },
        {
          "output_type": "stream",
          "name": "stderr",
          "text": [
            "100%|██████████| 1312/1312 [00:11<00:00, 117.43it/s]\n",
            "100%|██████████| 1312/1312 [00:11<00:00, 114.68it/s]\n",
            "100%|██████████| 1312/1312 [00:10<00:00, 124.94it/s]\n",
            "100%|██████████| 1312/1312 [00:08<00:00, 157.39it/s]\n",
            "100%|██████████| 1312/1312 [00:10<00:00, 124.05it/s]\n",
            "100%|██████████| 1312/1312 [00:11<00:00, 116.47it/s]\n",
            "100%|██████████| 1312/1312 [00:11<00:00, 112.55it/s]\n",
            "100%|██████████| 1312/1312 [00:09<00:00, 144.57it/s]\n",
            "100%|██████████| 1312/1312 [00:09<00:00, 140.15it/s]\n",
            "100%|██████████| 1312/1312 [00:10<00:00, 119.44it/s]\n"
          ]
        },
        {
          "output_type": "display_data",
          "data": {
            "text/plain": [
              "<IPython.core.display.HTML object>"
            ],
            "text/html": []
          },
          "metadata": {}
        },
        {
          "output_type": "display_data",
          "data": {
            "text/plain": [
              "<IPython.core.display.HTML object>"
            ],
            "text/html": [
              "<br>    <style><br>        .wandb-row {<br>            display: flex;<br>            flex-direction: row;<br>            flex-wrap: wrap;<br>            justify-content: flex-start;<br>            width: 100%;<br>        }<br>        .wandb-col {<br>            display: flex;<br>            flex-direction: column;<br>            flex-basis: 100%;<br>            flex: 1;<br>            padding: 10px;<br>        }<br>    </style><br><div class=\"wandb-row\"><div class=\"wandb-col\"><h3>Run history:</h3><br/><table class=\"wandb\"><tr><td>tr_accuracy</td><td>▁▃▃▆▅▆▆▆▆█</td></tr><tr><td>tr_loss</td><td>█▅▄▃▂▂▂▁▁▁</td></tr><tr><td>val_accuracy</td><td>▁▁████████</td></tr><tr><td>val_loss</td><td>█▄▂▁▁▁▂▁▂▂</td></tr></table><br/></div><div class=\"wandb-col\"><h3>Run summary:</h3><br/><table class=\"wandb\"><tr><td>tr_accuracy</td><td>93.75</td></tr><tr><td>tr_loss</td><td>0.33765</td></tr><tr><td>val_accuracy</td><td>93.75</td></tr><tr><td>val_loss</td><td>0.4032</td></tr></table><br/></div></div>"
            ]
          },
          "metadata": {}
        },
        {
          "output_type": "display_data",
          "data": {
            "text/plain": [
              "<IPython.core.display.HTML object>"
            ],
            "text/html": [
              " View run <strong style=\"color:#cdcd00\">e_10_hl_3_hs_128_lr_0.001_opt_nadam_bs_32_init_Xavier_ac_sigmoid_l2_0</strong> at: <a href='https://wandb.ai/arunangshudutta218-iitm/dl_assgn_1_q_4/runs/0lx3b2dn' target=\"_blank\">https://wandb.ai/arunangshudutta218-iitm/dl_assgn_1_q_4/runs/0lx3b2dn</a><br> View project at: <a href='https://wandb.ai/arunangshudutta218-iitm/dl_assgn_1_q_4' target=\"_blank\">https://wandb.ai/arunangshudutta218-iitm/dl_assgn_1_q_4</a><br>Synced 5 W&B file(s), 0 media file(s), 0 artifact file(s) and 0 other file(s)"
            ]
          },
          "metadata": {}
        },
        {
          "output_type": "display_data",
          "data": {
            "text/plain": [
              "<IPython.core.display.HTML object>"
            ],
            "text/html": [
              "Find logs at: <code>./wandb/run-20250309_200357-0lx3b2dn/logs</code>"
            ]
          },
          "metadata": {}
        },
        {
          "output_type": "stream",
          "name": "stderr",
          "text": [
            "\u001b[34m\u001b[1mwandb\u001b[0m: Agent Starting Run: 00n1c7b7 with config:\n",
            "\u001b[34m\u001b[1mwandb\u001b[0m: \tactivation: ReLU\n",
            "\u001b[34m\u001b[1mwandb\u001b[0m: \tbatch_size: 16\n",
            "\u001b[34m\u001b[1mwandb\u001b[0m: \tepochs: 5\n",
            "\u001b[34m\u001b[1mwandb\u001b[0m: \thidden_size: 128\n",
            "\u001b[34m\u001b[1mwandb\u001b[0m: \tlearning_rate: 0.001\n",
            "\u001b[34m\u001b[1mwandb\u001b[0m: \tnum_layers: 4\n",
            "\u001b[34m\u001b[1mwandb\u001b[0m: \toptimizer: momentum\n",
            "\u001b[34m\u001b[1mwandb\u001b[0m: \tweight_decay: 0\n",
            "\u001b[34m\u001b[1mwandb\u001b[0m: \tweight_init: Xavier\n"
          ]
        },
        {
          "output_type": "display_data",
          "data": {
            "text/plain": [
              "<IPython.core.display.HTML object>"
            ],
            "text/html": [
              "Tracking run with wandb version 0.19.7"
            ]
          },
          "metadata": {}
        },
        {
          "output_type": "display_data",
          "data": {
            "text/plain": [
              "<IPython.core.display.HTML object>"
            ],
            "text/html": [
              "Run data is saved locally in <code>/content/wandb/run-20250309_200604-00n1c7b7</code>"
            ]
          },
          "metadata": {}
        },
        {
          "output_type": "display_data",
          "data": {
            "text/plain": [
              "<IPython.core.display.HTML object>"
            ],
            "text/html": [
              "Syncing run <strong><a href='https://wandb.ai/arunangshudutta218-iitm/dl_assgn_1_q_4/runs/00n1c7b7' target=\"_blank\">fresh-sweep-46</a></strong> to <a href='https://wandb.ai/arunangshudutta218-iitm/dl_assgn_1_q_4' target=\"_blank\">Weights & Biases</a> (<a href='https://wandb.me/developer-guide' target=\"_blank\">docs</a>)<br>Sweep page: <a href='https://wandb.ai/arunangshudutta218-iitm/dl_assgn_1_q_4/sweeps/sdlyh3ti' target=\"_blank\">https://wandb.ai/arunangshudutta218-iitm/dl_assgn_1_q_4/sweeps/sdlyh3ti</a>"
            ]
          },
          "metadata": {}
        },
        {
          "output_type": "display_data",
          "data": {
            "text/plain": [
              "<IPython.core.display.HTML object>"
            ],
            "text/html": [
              " View project at <a href='https://wandb.ai/arunangshudutta218-iitm/dl_assgn_1_q_4' target=\"_blank\">https://wandb.ai/arunangshudutta218-iitm/dl_assgn_1_q_4</a>"
            ]
          },
          "metadata": {}
        },
        {
          "output_type": "display_data",
          "data": {
            "text/plain": [
              "<IPython.core.display.HTML object>"
            ],
            "text/html": [
              " View sweep at <a href='https://wandb.ai/arunangshudutta218-iitm/dl_assgn_1_q_4/sweeps/sdlyh3ti' target=\"_blank\">https://wandb.ai/arunangshudutta218-iitm/dl_assgn_1_q_4/sweeps/sdlyh3ti</a>"
            ]
          },
          "metadata": {}
        },
        {
          "output_type": "display_data",
          "data": {
            "text/plain": [
              "<IPython.core.display.HTML object>"
            ],
            "text/html": [
              " View run at <a href='https://wandb.ai/arunangshudutta218-iitm/dl_assgn_1_q_4/runs/00n1c7b7' target=\"_blank\">https://wandb.ai/arunangshudutta218-iitm/dl_assgn_1_q_4/runs/00n1c7b7</a>"
            ]
          },
          "metadata": {}
        },
        {
          "output_type": "stream",
          "name": "stdout",
          "text": [
            "2625.0\n"
          ]
        },
        {
          "output_type": "stream",
          "name": "stderr",
          "text": [
            "100%|██████████| 2625/2625 [00:10<00:00, 255.88it/s]\n",
            "100%|██████████| 2625/2625 [00:09<00:00, 267.76it/s]\n",
            "100%|██████████| 2625/2625 [00:12<00:00, 214.69it/s]\n",
            "100%|██████████| 2625/2625 [00:12<00:00, 218.01it/s]\n",
            "100%|██████████| 2625/2625 [00:15<00:00, 167.15it/s]\n"
          ]
        },
        {
          "output_type": "display_data",
          "data": {
            "text/plain": [
              "<IPython.core.display.HTML object>"
            ],
            "text/html": []
          },
          "metadata": {}
        },
        {
          "output_type": "display_data",
          "data": {
            "text/plain": [
              "<IPython.core.display.HTML object>"
            ],
            "text/html": [
              "<br>    <style><br>        .wandb-row {<br>            display: flex;<br>            flex-direction: row;<br>            flex-wrap: wrap;<br>            justify-content: flex-start;<br>            width: 100%;<br>        }<br>        .wandb-col {<br>            display: flex;<br>            flex-direction: column;<br>            flex-basis: 100%;<br>            flex: 1;<br>            padding: 10px;<br>        }<br>    </style><br><div class=\"wandb-row\"><div class=\"wandb-col\"><h3>Run history:</h3><br/><table class=\"wandb\"><tr><td>tr_accuracy</td><td>▁████</td></tr><tr><td>tr_loss</td><td>█▄▂▂▁</td></tr><tr><td>val_accuracy</td><td>▁████</td></tr><tr><td>val_loss</td><td>█▄▂▂▁</td></tr></table><br/></div><div class=\"wandb-col\"><h3>Run summary:</h3><br/><table class=\"wandb\"><tr><td>tr_accuracy</td><td>100</td></tr><tr><td>tr_loss</td><td>0.44755</td></tr><tr><td>val_accuracy</td><td>93.75</td></tr><tr><td>val_loss</td><td>0.45845</td></tr></table><br/></div></div>"
            ]
          },
          "metadata": {}
        },
        {
          "output_type": "display_data",
          "data": {
            "text/plain": [
              "<IPython.core.display.HTML object>"
            ],
            "text/html": [
              " View run <strong style=\"color:#cdcd00\">e_5_hl_4_hs_128_lr_0.001_opt_momentum_bs_16_init_Xavier_ac_ReLU_l2_0</strong> at: <a href='https://wandb.ai/arunangshudutta218-iitm/dl_assgn_1_q_4/runs/00n1c7b7' target=\"_blank\">https://wandb.ai/arunangshudutta218-iitm/dl_assgn_1_q_4/runs/00n1c7b7</a><br> View project at: <a href='https://wandb.ai/arunangshudutta218-iitm/dl_assgn_1_q_4' target=\"_blank\">https://wandb.ai/arunangshudutta218-iitm/dl_assgn_1_q_4</a><br>Synced 5 W&B file(s), 0 media file(s), 0 artifact file(s) and 0 other file(s)"
            ]
          },
          "metadata": {}
        },
        {
          "output_type": "display_data",
          "data": {
            "text/plain": [
              "<IPython.core.display.HTML object>"
            ],
            "text/html": [
              "Find logs at: <code>./wandb/run-20250309_200604-00n1c7b7/logs</code>"
            ]
          },
          "metadata": {}
        },
        {
          "output_type": "stream",
          "name": "stderr",
          "text": [
            "\u001b[34m\u001b[1mwandb\u001b[0m: Agent Starting Run: 62hge6ql with config:\n",
            "\u001b[34m\u001b[1mwandb\u001b[0m: \tactivation: tanh\n",
            "\u001b[34m\u001b[1mwandb\u001b[0m: \tbatch_size: 32\n",
            "\u001b[34m\u001b[1mwandb\u001b[0m: \tepochs: 5\n",
            "\u001b[34m\u001b[1mwandb\u001b[0m: \thidden_size: 32\n",
            "\u001b[34m\u001b[1mwandb\u001b[0m: \tlearning_rate: 0.0001\n",
            "\u001b[34m\u001b[1mwandb\u001b[0m: \tnum_layers: 5\n",
            "\u001b[34m\u001b[1mwandb\u001b[0m: \toptimizer: momentum\n",
            "\u001b[34m\u001b[1mwandb\u001b[0m: \tweight_decay: 0.0005\n",
            "\u001b[34m\u001b[1mwandb\u001b[0m: \tweight_init: Xavier\n"
          ]
        },
        {
          "output_type": "display_data",
          "data": {
            "text/plain": [
              "<IPython.core.display.HTML object>"
            ],
            "text/html": [
              "Tracking run with wandb version 0.19.7"
            ]
          },
          "metadata": {}
        },
        {
          "output_type": "display_data",
          "data": {
            "text/plain": [
              "<IPython.core.display.HTML object>"
            ],
            "text/html": [
              "Run data is saved locally in <code>/content/wandb/run-20250309_200715-62hge6ql</code>"
            ]
          },
          "metadata": {}
        },
        {
          "output_type": "display_data",
          "data": {
            "text/plain": [
              "<IPython.core.display.HTML object>"
            ],
            "text/html": [
              "Syncing run <strong><a href='https://wandb.ai/arunangshudutta218-iitm/dl_assgn_1_q_4/runs/62hge6ql' target=\"_blank\">ethereal-sweep-47</a></strong> to <a href='https://wandb.ai/arunangshudutta218-iitm/dl_assgn_1_q_4' target=\"_blank\">Weights & Biases</a> (<a href='https://wandb.me/developer-guide' target=\"_blank\">docs</a>)<br>Sweep page: <a href='https://wandb.ai/arunangshudutta218-iitm/dl_assgn_1_q_4/sweeps/sdlyh3ti' target=\"_blank\">https://wandb.ai/arunangshudutta218-iitm/dl_assgn_1_q_4/sweeps/sdlyh3ti</a>"
            ]
          },
          "metadata": {}
        },
        {
          "output_type": "display_data",
          "data": {
            "text/plain": [
              "<IPython.core.display.HTML object>"
            ],
            "text/html": [
              " View project at <a href='https://wandb.ai/arunangshudutta218-iitm/dl_assgn_1_q_4' target=\"_blank\">https://wandb.ai/arunangshudutta218-iitm/dl_assgn_1_q_4</a>"
            ]
          },
          "metadata": {}
        },
        {
          "output_type": "display_data",
          "data": {
            "text/plain": [
              "<IPython.core.display.HTML object>"
            ],
            "text/html": [
              " View sweep at <a href='https://wandb.ai/arunangshudutta218-iitm/dl_assgn_1_q_4/sweeps/sdlyh3ti' target=\"_blank\">https://wandb.ai/arunangshudutta218-iitm/dl_assgn_1_q_4/sweeps/sdlyh3ti</a>"
            ]
          },
          "metadata": {}
        },
        {
          "output_type": "display_data",
          "data": {
            "text/plain": [
              "<IPython.core.display.HTML object>"
            ],
            "text/html": [
              " View run at <a href='https://wandb.ai/arunangshudutta218-iitm/dl_assgn_1_q_4/runs/62hge6ql' target=\"_blank\">https://wandb.ai/arunangshudutta218-iitm/dl_assgn_1_q_4/runs/62hge6ql</a>"
            ]
          },
          "metadata": {}
        },
        {
          "output_type": "stream",
          "name": "stdout",
          "text": [
            "1312.0\n"
          ]
        },
        {
          "output_type": "stream",
          "name": "stderr",
          "text": [
            "100%|██████████| 1312/1312 [00:04<00:00, 294.87it/s]\n",
            "100%|██████████| 1312/1312 [00:03<00:00, 343.62it/s]\n",
            "100%|██████████| 1312/1312 [00:02<00:00, 447.33it/s]\n",
            "100%|██████████| 1312/1312 [00:03<00:00, 417.87it/s]\n",
            "100%|██████████| 1312/1312 [00:04<00:00, 272.14it/s]\n"
          ]
        },
        {
          "output_type": "display_data",
          "data": {
            "text/plain": [
              "<IPython.core.display.HTML object>"
            ],
            "text/html": []
          },
          "metadata": {}
        },
        {
          "output_type": "display_data",
          "data": {
            "text/plain": [
              "<IPython.core.display.HTML object>"
            ],
            "text/html": [
              "<br>    <style><br>        .wandb-row {<br>            display: flex;<br>            flex-direction: row;<br>            flex-wrap: wrap;<br>            justify-content: flex-start;<br>            width: 100%;<br>        }<br>        .wandb-col {<br>            display: flex;<br>            flex-direction: column;<br>            flex-basis: 100%;<br>            flex: 1;<br>            padding: 10px;<br>        }<br>    </style><br><div class=\"wandb-row\"><div class=\"wandb-col\"><h3>Run history:</h3><br/><table class=\"wandb\"><tr><td>tr_accuracy</td><td>▁▅█▇█</td></tr><tr><td>tr_loss</td><td>█▆▄▂▁</td></tr><tr><td>val_accuracy</td><td>▁▄▅██</td></tr><tr><td>val_loss</td><td>█▆▄▂▁</td></tr></table><br/></div><div class=\"wandb-col\"><h3>Run summary:</h3><br/><table class=\"wandb\"><tr><td>tr_accuracy</td><td>59.375</td></tr><tr><td>tr_loss</td><td>1.4778</td></tr><tr><td>val_accuracy</td><td>68.75</td></tr><tr><td>val_loss</td><td>1.47861</td></tr></table><br/></div></div>"
            ]
          },
          "metadata": {}
        },
        {
          "output_type": "display_data",
          "data": {
            "text/plain": [
              "<IPython.core.display.HTML object>"
            ],
            "text/html": [
              " View run <strong style=\"color:#cdcd00\">e_5_hl_5_hs_32_lr_0.0001_opt_momentum_bs_32_init_Xavier_ac_tanh_l2_0.0005</strong> at: <a href='https://wandb.ai/arunangshudutta218-iitm/dl_assgn_1_q_4/runs/62hge6ql' target=\"_blank\">https://wandb.ai/arunangshudutta218-iitm/dl_assgn_1_q_4/runs/62hge6ql</a><br> View project at: <a href='https://wandb.ai/arunangshudutta218-iitm/dl_assgn_1_q_4' target=\"_blank\">https://wandb.ai/arunangshudutta218-iitm/dl_assgn_1_q_4</a><br>Synced 5 W&B file(s), 0 media file(s), 0 artifact file(s) and 0 other file(s)"
            ]
          },
          "metadata": {}
        },
        {
          "output_type": "display_data",
          "data": {
            "text/plain": [
              "<IPython.core.display.HTML object>"
            ],
            "text/html": [
              "Find logs at: <code>./wandb/run-20250309_200715-62hge6ql/logs</code>"
            ]
          },
          "metadata": {}
        },
        {
          "output_type": "stream",
          "name": "stderr",
          "text": [
            "\u001b[34m\u001b[1mwandb\u001b[0m: Agent Starting Run: 7h32zyeq with config:\n",
            "\u001b[34m\u001b[1mwandb\u001b[0m: \tactivation: tanh\n",
            "\u001b[34m\u001b[1mwandb\u001b[0m: \tbatch_size: 32\n",
            "\u001b[34m\u001b[1mwandb\u001b[0m: \tepochs: 5\n",
            "\u001b[34m\u001b[1mwandb\u001b[0m: \thidden_size: 64\n",
            "\u001b[34m\u001b[1mwandb\u001b[0m: \tlearning_rate: 0.0001\n",
            "\u001b[34m\u001b[1mwandb\u001b[0m: \tnum_layers: 4\n",
            "\u001b[34m\u001b[1mwandb\u001b[0m: \toptimizer: adam\n",
            "\u001b[34m\u001b[1mwandb\u001b[0m: \tweight_decay: 0\n",
            "\u001b[34m\u001b[1mwandb\u001b[0m: \tweight_init: random\n"
          ]
        },
        {
          "output_type": "display_data",
          "data": {
            "text/plain": [
              "<IPython.core.display.HTML object>"
            ],
            "text/html": [
              "Tracking run with wandb version 0.19.7"
            ]
          },
          "metadata": {}
        },
        {
          "output_type": "display_data",
          "data": {
            "text/plain": [
              "<IPython.core.display.HTML object>"
            ],
            "text/html": [
              "Run data is saved locally in <code>/content/wandb/run-20250309_200746-7h32zyeq</code>"
            ]
          },
          "metadata": {}
        },
        {
          "output_type": "display_data",
          "data": {
            "text/plain": [
              "<IPython.core.display.HTML object>"
            ],
            "text/html": [
              "Syncing run <strong><a href='https://wandb.ai/arunangshudutta218-iitm/dl_assgn_1_q_4/runs/7h32zyeq' target=\"_blank\">fine-sweep-48</a></strong> to <a href='https://wandb.ai/arunangshudutta218-iitm/dl_assgn_1_q_4' target=\"_blank\">Weights & Biases</a> (<a href='https://wandb.me/developer-guide' target=\"_blank\">docs</a>)<br>Sweep page: <a href='https://wandb.ai/arunangshudutta218-iitm/dl_assgn_1_q_4/sweeps/sdlyh3ti' target=\"_blank\">https://wandb.ai/arunangshudutta218-iitm/dl_assgn_1_q_4/sweeps/sdlyh3ti</a>"
            ]
          },
          "metadata": {}
        },
        {
          "output_type": "display_data",
          "data": {
            "text/plain": [
              "<IPython.core.display.HTML object>"
            ],
            "text/html": [
              " View project at <a href='https://wandb.ai/arunangshudutta218-iitm/dl_assgn_1_q_4' target=\"_blank\">https://wandb.ai/arunangshudutta218-iitm/dl_assgn_1_q_4</a>"
            ]
          },
          "metadata": {}
        },
        {
          "output_type": "display_data",
          "data": {
            "text/plain": [
              "<IPython.core.display.HTML object>"
            ],
            "text/html": [
              " View sweep at <a href='https://wandb.ai/arunangshudutta218-iitm/dl_assgn_1_q_4/sweeps/sdlyh3ti' target=\"_blank\">https://wandb.ai/arunangshudutta218-iitm/dl_assgn_1_q_4/sweeps/sdlyh3ti</a>"
            ]
          },
          "metadata": {}
        },
        {
          "output_type": "display_data",
          "data": {
            "text/plain": [
              "<IPython.core.display.HTML object>"
            ],
            "text/html": [
              " View run at <a href='https://wandb.ai/arunangshudutta218-iitm/dl_assgn_1_q_4/runs/7h32zyeq' target=\"_blank\">https://wandb.ai/arunangshudutta218-iitm/dl_assgn_1_q_4/runs/7h32zyeq</a>"
            ]
          },
          "metadata": {}
        },
        {
          "output_type": "stream",
          "name": "stdout",
          "text": [
            "1312.0\n"
          ]
        },
        {
          "output_type": "stream",
          "name": "stderr",
          "text": [
            "100%|██████████| 1312/1312 [00:08<00:00, 147.79it/s]\n",
            "100%|██████████| 1312/1312 [00:05<00:00, 219.34it/s]\n",
            "100%|██████████| 1312/1312 [00:08<00:00, 151.34it/s]\n",
            "100%|██████████| 1312/1312 [00:05<00:00, 221.36it/s]\n",
            "100%|██████████| 1312/1312 [00:07<00:00, 174.12it/s]\n"
          ]
        },
        {
          "output_type": "display_data",
          "data": {
            "text/plain": [
              "<IPython.core.display.HTML object>"
            ],
            "text/html": []
          },
          "metadata": {}
        },
        {
          "output_type": "display_data",
          "data": {
            "text/plain": [
              "<IPython.core.display.HTML object>"
            ],
            "text/html": [
              "<br>    <style><br>        .wandb-row {<br>            display: flex;<br>            flex-direction: row;<br>            flex-wrap: wrap;<br>            justify-content: flex-start;<br>            width: 100%;<br>        }<br>        .wandb-col {<br>            display: flex;<br>            flex-direction: column;<br>            flex-basis: 100%;<br>            flex: 1;<br>            padding: 10px;<br>        }<br>    </style><br><div class=\"wandb-row\"><div class=\"wandb-col\"><h3>Run history:</h3><br/><table class=\"wandb\"><tr><td>tr_accuracy</td><td>▁▅▆▆█</td></tr><tr><td>tr_loss</td><td>█▅▃▂▁</td></tr><tr><td>val_accuracy</td><td>▁▇█▅█</td></tr><tr><td>val_loss</td><td>█▅▃▂▁</td></tr></table><br/></div><div class=\"wandb-col\"><h3>Run summary:</h3><br/><table class=\"wandb\"><tr><td>tr_accuracy</td><td>62.5</td></tr><tr><td>tr_loss</td><td>2.99297</td></tr><tr><td>val_accuracy</td><td>40.625</td></tr><tr><td>val_loss</td><td>3.16436</td></tr></table><br/></div></div>"
            ]
          },
          "metadata": {}
        },
        {
          "output_type": "display_data",
          "data": {
            "text/plain": [
              "<IPython.core.display.HTML object>"
            ],
            "text/html": [
              " View run <strong style=\"color:#cdcd00\">e_5_hl_4_hs_64_lr_0.0001_opt_adam_bs_32_init_random_ac_tanh_l2_0</strong> at: <a href='https://wandb.ai/arunangshudutta218-iitm/dl_assgn_1_q_4/runs/7h32zyeq' target=\"_blank\">https://wandb.ai/arunangshudutta218-iitm/dl_assgn_1_q_4/runs/7h32zyeq</a><br> View project at: <a href='https://wandb.ai/arunangshudutta218-iitm/dl_assgn_1_q_4' target=\"_blank\">https://wandb.ai/arunangshudutta218-iitm/dl_assgn_1_q_4</a><br>Synced 5 W&B file(s), 0 media file(s), 0 artifact file(s) and 0 other file(s)"
            ]
          },
          "metadata": {}
        },
        {
          "output_type": "display_data",
          "data": {
            "text/plain": [
              "<IPython.core.display.HTML object>"
            ],
            "text/html": [
              "Find logs at: <code>./wandb/run-20250309_200746-7h32zyeq/logs</code>"
            ]
          },
          "metadata": {}
        },
        {
          "output_type": "stream",
          "name": "stderr",
          "text": [
            "\u001b[34m\u001b[1mwandb\u001b[0m: Agent Starting Run: 1njc8xal with config:\n",
            "\u001b[34m\u001b[1mwandb\u001b[0m: \tactivation: ReLU\n",
            "\u001b[34m\u001b[1mwandb\u001b[0m: \tbatch_size: 32\n",
            "\u001b[34m\u001b[1mwandb\u001b[0m: \tepochs: 5\n",
            "\u001b[34m\u001b[1mwandb\u001b[0m: \thidden_size: 32\n",
            "\u001b[34m\u001b[1mwandb\u001b[0m: \tlearning_rate: 0.001\n",
            "\u001b[34m\u001b[1mwandb\u001b[0m: \tnum_layers: 3\n",
            "\u001b[34m\u001b[1mwandb\u001b[0m: \toptimizer: rmsprop\n",
            "\u001b[34m\u001b[1mwandb\u001b[0m: \tweight_decay: 0.5\n",
            "\u001b[34m\u001b[1mwandb\u001b[0m: \tweight_init: Xavier\n"
          ]
        },
        {
          "output_type": "display_data",
          "data": {
            "text/plain": [
              "<IPython.core.display.HTML object>"
            ],
            "text/html": [
              "Tracking run with wandb version 0.19.7"
            ]
          },
          "metadata": {}
        },
        {
          "output_type": "display_data",
          "data": {
            "text/plain": [
              "<IPython.core.display.HTML object>"
            ],
            "text/html": [
              "Run data is saved locally in <code>/content/wandb/run-20250309_200837-1njc8xal</code>"
            ]
          },
          "metadata": {}
        },
        {
          "output_type": "display_data",
          "data": {
            "text/plain": [
              "<IPython.core.display.HTML object>"
            ],
            "text/html": [
              "Syncing run <strong><a href='https://wandb.ai/arunangshudutta218-iitm/dl_assgn_1_q_4/runs/1njc8xal' target=\"_blank\">radiant-sweep-49</a></strong> to <a href='https://wandb.ai/arunangshudutta218-iitm/dl_assgn_1_q_4' target=\"_blank\">Weights & Biases</a> (<a href='https://wandb.me/developer-guide' target=\"_blank\">docs</a>)<br>Sweep page: <a href='https://wandb.ai/arunangshudutta218-iitm/dl_assgn_1_q_4/sweeps/sdlyh3ti' target=\"_blank\">https://wandb.ai/arunangshudutta218-iitm/dl_assgn_1_q_4/sweeps/sdlyh3ti</a>"
            ]
          },
          "metadata": {}
        },
        {
          "output_type": "display_data",
          "data": {
            "text/plain": [
              "<IPython.core.display.HTML object>"
            ],
            "text/html": [
              " View project at <a href='https://wandb.ai/arunangshudutta218-iitm/dl_assgn_1_q_4' target=\"_blank\">https://wandb.ai/arunangshudutta218-iitm/dl_assgn_1_q_4</a>"
            ]
          },
          "metadata": {}
        },
        {
          "output_type": "display_data",
          "data": {
            "text/plain": [
              "<IPython.core.display.HTML object>"
            ],
            "text/html": [
              " View sweep at <a href='https://wandb.ai/arunangshudutta218-iitm/dl_assgn_1_q_4/sweeps/sdlyh3ti' target=\"_blank\">https://wandb.ai/arunangshudutta218-iitm/dl_assgn_1_q_4/sweeps/sdlyh3ti</a>"
            ]
          },
          "metadata": {}
        },
        {
          "output_type": "display_data",
          "data": {
            "text/plain": [
              "<IPython.core.display.HTML object>"
            ],
            "text/html": [
              " View run at <a href='https://wandb.ai/arunangshudutta218-iitm/dl_assgn_1_q_4/runs/1njc8xal' target=\"_blank\">https://wandb.ai/arunangshudutta218-iitm/dl_assgn_1_q_4/runs/1njc8xal</a>"
            ]
          },
          "metadata": {}
        },
        {
          "output_type": "stream",
          "name": "stdout",
          "text": [
            "1312.0\n"
          ]
        },
        {
          "output_type": "stream",
          "name": "stderr",
          "text": [
            "100%|██████████| 1312/1312 [00:01<00:00, 728.05it/s]\n",
            "100%|██████████| 1312/1312 [00:01<00:00, 719.28it/s]\n",
            "100%|██████████| 1312/1312 [00:01<00:00, 736.27it/s]\n",
            "100%|██████████| 1312/1312 [00:01<00:00, 751.05it/s]\n",
            "100%|██████████| 1312/1312 [00:02<00:00, 554.23it/s]\n"
          ]
        },
        {
          "output_type": "display_data",
          "data": {
            "text/plain": [
              "<IPython.core.display.HTML object>"
            ],
            "text/html": []
          },
          "metadata": {}
        },
        {
          "output_type": "display_data",
          "data": {
            "text/plain": [
              "<IPython.core.display.HTML object>"
            ],
            "text/html": [
              "<br>    <style><br>        .wandb-row {<br>            display: flex;<br>            flex-direction: row;<br>            flex-wrap: wrap;<br>            justify-content: flex-start;<br>            width: 100%;<br>        }<br>        .wandb-col {<br>            display: flex;<br>            flex-direction: column;<br>            flex-basis: 100%;<br>            flex: 1;<br>            padding: 10px;<br>        }<br>    </style><br><div class=\"wandb-row\"><div class=\"wandb-col\"><h3>Run history:</h3><br/><table class=\"wandb\"><tr><td>tr_accuracy</td><td>▁████</td></tr><tr><td>tr_loss</td><td>█▆▃▂▁</td></tr><tr><td>val_accuracy</td><td>▁▅███</td></tr><tr><td>val_loss</td><td>█▆▃▂▁</td></tr></table><br/></div><div class=\"wandb-col\"><h3>Run summary:</h3><br/><table class=\"wandb\"><tr><td>tr_accuracy</td><td>78.125</td></tr><tr><td>tr_loss</td><td>0.55014</td></tr><tr><td>val_accuracy</td><td>84.375</td></tr><tr><td>val_loss</td><td>0.55512</td></tr></table><br/></div></div>"
            ]
          },
          "metadata": {}
        },
        {
          "output_type": "display_data",
          "data": {
            "text/plain": [
              "<IPython.core.display.HTML object>"
            ],
            "text/html": [
              " View run <strong style=\"color:#cdcd00\">e_5_hl_3_hs_32_lr_0.001_opt_rmsprop_bs_32_init_Xavier_ac_ReLU_l2_0.5</strong> at: <a href='https://wandb.ai/arunangshudutta218-iitm/dl_assgn_1_q_4/runs/1njc8xal' target=\"_blank\">https://wandb.ai/arunangshudutta218-iitm/dl_assgn_1_q_4/runs/1njc8xal</a><br> View project at: <a href='https://wandb.ai/arunangshudutta218-iitm/dl_assgn_1_q_4' target=\"_blank\">https://wandb.ai/arunangshudutta218-iitm/dl_assgn_1_q_4</a><br>Synced 5 W&B file(s), 0 media file(s), 0 artifact file(s) and 0 other file(s)"
            ]
          },
          "metadata": {}
        },
        {
          "output_type": "display_data",
          "data": {
            "text/plain": [
              "<IPython.core.display.HTML object>"
            ],
            "text/html": [
              "Find logs at: <code>./wandb/run-20250309_200837-1njc8xal/logs</code>"
            ]
          },
          "metadata": {}
        },
        {
          "output_type": "stream",
          "name": "stderr",
          "text": [
            "\u001b[34m\u001b[1mwandb\u001b[0m: Agent Starting Run: h6l7pwm2 with config:\n",
            "\u001b[34m\u001b[1mwandb\u001b[0m: \tactivation: sigmoid\n",
            "\u001b[34m\u001b[1mwandb\u001b[0m: \tbatch_size: 64\n",
            "\u001b[34m\u001b[1mwandb\u001b[0m: \tepochs: 10\n",
            "\u001b[34m\u001b[1mwandb\u001b[0m: \thidden_size: 64\n",
            "\u001b[34m\u001b[1mwandb\u001b[0m: \tlearning_rate: 0.001\n",
            "\u001b[34m\u001b[1mwandb\u001b[0m: \tnum_layers: 5\n",
            "\u001b[34m\u001b[1mwandb\u001b[0m: \toptimizer: sgd\n",
            "\u001b[34m\u001b[1mwandb\u001b[0m: \tweight_decay: 0\n",
            "\u001b[34m\u001b[1mwandb\u001b[0m: \tweight_init: random\n"
          ]
        },
        {
          "output_type": "display_data",
          "data": {
            "text/plain": [
              "<IPython.core.display.HTML object>"
            ],
            "text/html": [
              "Tracking run with wandb version 0.19.7"
            ]
          },
          "metadata": {}
        },
        {
          "output_type": "display_data",
          "data": {
            "text/plain": [
              "<IPython.core.display.HTML object>"
            ],
            "text/html": [
              "Run data is saved locally in <code>/content/wandb/run-20250309_200853-h6l7pwm2</code>"
            ]
          },
          "metadata": {}
        },
        {
          "output_type": "display_data",
          "data": {
            "text/plain": [
              "<IPython.core.display.HTML object>"
            ],
            "text/html": [
              "Syncing run <strong><a href='https://wandb.ai/arunangshudutta218-iitm/dl_assgn_1_q_4/runs/h6l7pwm2' target=\"_blank\">glamorous-sweep-50</a></strong> to <a href='https://wandb.ai/arunangshudutta218-iitm/dl_assgn_1_q_4' target=\"_blank\">Weights & Biases</a> (<a href='https://wandb.me/developer-guide' target=\"_blank\">docs</a>)<br>Sweep page: <a href='https://wandb.ai/arunangshudutta218-iitm/dl_assgn_1_q_4/sweeps/sdlyh3ti' target=\"_blank\">https://wandb.ai/arunangshudutta218-iitm/dl_assgn_1_q_4/sweeps/sdlyh3ti</a>"
            ]
          },
          "metadata": {}
        },
        {
          "output_type": "display_data",
          "data": {
            "text/plain": [
              "<IPython.core.display.HTML object>"
            ],
            "text/html": [
              " View project at <a href='https://wandb.ai/arunangshudutta218-iitm/dl_assgn_1_q_4' target=\"_blank\">https://wandb.ai/arunangshudutta218-iitm/dl_assgn_1_q_4</a>"
            ]
          },
          "metadata": {}
        },
        {
          "output_type": "display_data",
          "data": {
            "text/plain": [
              "<IPython.core.display.HTML object>"
            ],
            "text/html": [
              " View sweep at <a href='https://wandb.ai/arunangshudutta218-iitm/dl_assgn_1_q_4/sweeps/sdlyh3ti' target=\"_blank\">https://wandb.ai/arunangshudutta218-iitm/dl_assgn_1_q_4/sweeps/sdlyh3ti</a>"
            ]
          },
          "metadata": {}
        },
        {
          "output_type": "display_data",
          "data": {
            "text/plain": [
              "<IPython.core.display.HTML object>"
            ],
            "text/html": [
              " View run at <a href='https://wandb.ai/arunangshudutta218-iitm/dl_assgn_1_q_4/runs/h6l7pwm2' target=\"_blank\">https://wandb.ai/arunangshudutta218-iitm/dl_assgn_1_q_4/runs/h6l7pwm2</a>"
            ]
          },
          "metadata": {}
        },
        {
          "output_type": "stream",
          "name": "stdout",
          "text": [
            "656.0\n"
          ]
        },
        {
          "output_type": "stream",
          "name": "stderr",
          "text": [
            "100%|██████████| 656/656 [00:02<00:00, 253.50it/s]\n",
            "100%|██████████| 656/656 [00:02<00:00, 261.71it/s]\n",
            "100%|██████████| 656/656 [00:04<00:00, 152.16it/s]\n",
            "100%|██████████| 656/656 [00:02<00:00, 246.04it/s]\n",
            "100%|██████████| 656/656 [00:02<00:00, 265.57it/s]\n",
            "100%|██████████| 656/656 [00:02<00:00, 264.67it/s]\n",
            "100%|██████████| 656/656 [00:05<00:00, 124.60it/s]\n",
            "100%|██████████| 656/656 [00:02<00:00, 247.39it/s]\n",
            "100%|██████████| 656/656 [00:02<00:00, 239.78it/s]\n",
            "100%|██████████| 656/656 [00:03<00:00, 190.21it/s]\n"
          ]
        },
        {
          "output_type": "display_data",
          "data": {
            "text/plain": [
              "<IPython.core.display.HTML object>"
            ],
            "text/html": []
          },
          "metadata": {}
        },
        {
          "output_type": "display_data",
          "data": {
            "text/plain": [
              "<IPython.core.display.HTML object>"
            ],
            "text/html": [
              "<br>    <style><br>        .wandb-row {<br>            display: flex;<br>            flex-direction: row;<br>            flex-wrap: wrap;<br>            justify-content: flex-start;<br>            width: 100%;<br>        }<br>        .wandb-col {<br>            display: flex;<br>            flex-direction: column;<br>            flex-basis: 100%;<br>            flex: 1;<br>            padding: 10px;<br>        }<br>    </style><br><div class=\"wandb-row\"><div class=\"wandb-col\"><h3>Run history:</h3><br/><table class=\"wandb\"><tr><td>tr_accuracy</td><td>▁▂▂▄▇▇▆▇██</td></tr><tr><td>tr_loss</td><td>█▅▃▃▂▂▂▁▁▁</td></tr><tr><td>val_accuracy</td><td>▁▂▂▃▆▅▆▇▇█</td></tr><tr><td>val_loss</td><td>█▅▃▃▂▂▂▁▁▁</td></tr></table><br/></div><div class=\"wandb-col\"><h3>Run summary:</h3><br/><table class=\"wandb\"><tr><td>tr_accuracy</td><td>46.875</td></tr><tr><td>tr_loss</td><td>1.58779</td></tr><tr><td>val_accuracy</td><td>60.9375</td></tr><tr><td>val_loss</td><td>1.58548</td></tr></table><br/></div></div>"
            ]
          },
          "metadata": {}
        },
        {
          "output_type": "display_data",
          "data": {
            "text/plain": [
              "<IPython.core.display.HTML object>"
            ],
            "text/html": [
              " View run <strong style=\"color:#cdcd00\">e_10_hl_5_hs_64_lr_0.001_opt_sgd_bs_64_init_random_ac_sigmoid_l2_0</strong> at: <a href='https://wandb.ai/arunangshudutta218-iitm/dl_assgn_1_q_4/runs/h6l7pwm2' target=\"_blank\">https://wandb.ai/arunangshudutta218-iitm/dl_assgn_1_q_4/runs/h6l7pwm2</a><br> View project at: <a href='https://wandb.ai/arunangshudutta218-iitm/dl_assgn_1_q_4' target=\"_blank\">https://wandb.ai/arunangshudutta218-iitm/dl_assgn_1_q_4</a><br>Synced 5 W&B file(s), 0 media file(s), 0 artifact file(s) and 0 other file(s)"
            ]
          },
          "metadata": {}
        },
        {
          "output_type": "display_data",
          "data": {
            "text/plain": [
              "<IPython.core.display.HTML object>"
            ],
            "text/html": [
              "Find logs at: <code>./wandb/run-20250309_200853-h6l7pwm2/logs</code>"
            ]
          },
          "metadata": {}
        },
        {
          "output_type": "stream",
          "name": "stderr",
          "text": [
            "\u001b[34m\u001b[1mwandb\u001b[0m: Sweep Agent: Waiting for job.\n",
            "\u001b[34m\u001b[1mwandb\u001b[0m: Job received.\n",
            "\u001b[34m\u001b[1mwandb\u001b[0m: Agent Starting Run: q8dubpr6 with config:\n",
            "\u001b[34m\u001b[1mwandb\u001b[0m: \tactivation: tanh\n",
            "\u001b[34m\u001b[1mwandb\u001b[0m: \tbatch_size: 64\n",
            "\u001b[34m\u001b[1mwandb\u001b[0m: \tepochs: 10\n",
            "\u001b[34m\u001b[1mwandb\u001b[0m: \thidden_size: 128\n",
            "\u001b[34m\u001b[1mwandb\u001b[0m: \tlearning_rate: 0.001\n",
            "\u001b[34m\u001b[1mwandb\u001b[0m: \tnum_layers: 3\n",
            "\u001b[34m\u001b[1mwandb\u001b[0m: \toptimizer: nadam\n",
            "\u001b[34m\u001b[1mwandb\u001b[0m: \tweight_decay: 0.5\n",
            "\u001b[34m\u001b[1mwandb\u001b[0m: \tweight_init: Xavier\n"
          ]
        },
        {
          "output_type": "display_data",
          "data": {
            "text/plain": [
              "<IPython.core.display.HTML object>"
            ],
            "text/html": [
              "Tracking run with wandb version 0.19.7"
            ]
          },
          "metadata": {}
        },
        {
          "output_type": "display_data",
          "data": {
            "text/plain": [
              "<IPython.core.display.HTML object>"
            ],
            "text/html": [
              "Run data is saved locally in <code>/content/wandb/run-20250309_200948-q8dubpr6</code>"
            ]
          },
          "metadata": {}
        },
        {
          "output_type": "display_data",
          "data": {
            "text/plain": [
              "<IPython.core.display.HTML object>"
            ],
            "text/html": [
              "Syncing run <strong><a href='https://wandb.ai/arunangshudutta218-iitm/dl_assgn_1_q_4/runs/q8dubpr6' target=\"_blank\">hearty-sweep-51</a></strong> to <a href='https://wandb.ai/arunangshudutta218-iitm/dl_assgn_1_q_4' target=\"_blank\">Weights & Biases</a> (<a href='https://wandb.me/developer-guide' target=\"_blank\">docs</a>)<br>Sweep page: <a href='https://wandb.ai/arunangshudutta218-iitm/dl_assgn_1_q_4/sweeps/sdlyh3ti' target=\"_blank\">https://wandb.ai/arunangshudutta218-iitm/dl_assgn_1_q_4/sweeps/sdlyh3ti</a>"
            ]
          },
          "metadata": {}
        },
        {
          "output_type": "display_data",
          "data": {
            "text/plain": [
              "<IPython.core.display.HTML object>"
            ],
            "text/html": [
              " View project at <a href='https://wandb.ai/arunangshudutta218-iitm/dl_assgn_1_q_4' target=\"_blank\">https://wandb.ai/arunangshudutta218-iitm/dl_assgn_1_q_4</a>"
            ]
          },
          "metadata": {}
        },
        {
          "output_type": "display_data",
          "data": {
            "text/plain": [
              "<IPython.core.display.HTML object>"
            ],
            "text/html": [
              " View sweep at <a href='https://wandb.ai/arunangshudutta218-iitm/dl_assgn_1_q_4/sweeps/sdlyh3ti' target=\"_blank\">https://wandb.ai/arunangshudutta218-iitm/dl_assgn_1_q_4/sweeps/sdlyh3ti</a>"
            ]
          },
          "metadata": {}
        },
        {
          "output_type": "display_data",
          "data": {
            "text/plain": [
              "<IPython.core.display.HTML object>"
            ],
            "text/html": [
              " View run at <a href='https://wandb.ai/arunangshudutta218-iitm/dl_assgn_1_q_4/runs/q8dubpr6' target=\"_blank\">https://wandb.ai/arunangshudutta218-iitm/dl_assgn_1_q_4/runs/q8dubpr6</a>"
            ]
          },
          "metadata": {}
        },
        {
          "output_type": "stream",
          "name": "stdout",
          "text": [
            "656.0\n"
          ]
        },
        {
          "output_type": "stream",
          "name": "stderr",
          "text": [
            "100%|██████████| 656/656 [00:08<00:00, 79.38it/s]\n",
            "100%|██████████| 656/656 [00:09<00:00, 66.95it/s]\n",
            "100%|██████████| 656/656 [00:10<00:00, 63.65it/s]\n",
            "100%|██████████| 656/656 [00:10<00:00, 60.84it/s]\n",
            "100%|██████████| 656/656 [00:09<00:00, 66.24it/s]\n",
            "100%|██████████| 656/656 [00:08<00:00, 78.27it/s]\n",
            "100%|██████████| 656/656 [00:09<00:00, 72.29it/s]\n",
            "100%|██████████| 656/656 [00:10<00:00, 62.92it/s]\n",
            "100%|██████████| 656/656 [00:10<00:00, 61.15it/s]\n",
            "100%|██████████| 656/656 [00:09<00:00, 69.84it/s]\n"
          ]
        },
        {
          "output_type": "display_data",
          "data": {
            "text/plain": [
              "<IPython.core.display.HTML object>"
            ],
            "text/html": []
          },
          "metadata": {}
        },
        {
          "output_type": "display_data",
          "data": {
            "text/plain": [
              "<IPython.core.display.HTML object>"
            ],
            "text/html": [
              "<br>    <style><br>        .wandb-row {<br>            display: flex;<br>            flex-direction: row;<br>            flex-wrap: wrap;<br>            justify-content: flex-start;<br>            width: 100%;<br>        }<br>        .wandb-col {<br>            display: flex;<br>            flex-direction: column;<br>            flex-basis: 100%;<br>            flex: 1;<br>            padding: 10px;<br>        }<br>    </style><br><div class=\"wandb-row\"><div class=\"wandb-col\"><h3>Run history:</h3><br/><table class=\"wandb\"><tr><td>tr_accuracy</td><td>▁▁▁▁▁▁▁▁██</td></tr><tr><td>tr_loss</td><td>██▇▆▅▄▃▃▁▁</td></tr><tr><td>val_accuracy</td><td>██▅▅▁▁▁▁▁▁</td></tr><tr><td>val_loss</td><td>██▇▆▅▄▃▃▁▁</td></tr></table><br/></div><div class=\"wandb-col\"><h3>Run summary:</h3><br/><table class=\"wandb\"><tr><td>tr_accuracy</td><td>84.375</td></tr><tr><td>tr_loss</td><td>0.4653</td></tr><tr><td>val_accuracy</td><td>87.5</td></tr><tr><td>val_loss</td><td>0.47601</td></tr></table><br/></div></div>"
            ]
          },
          "metadata": {}
        },
        {
          "output_type": "display_data",
          "data": {
            "text/plain": [
              "<IPython.core.display.HTML object>"
            ],
            "text/html": [
              " View run <strong style=\"color:#cdcd00\">e_10_hl_3_hs_128_lr_0.001_opt_nadam_bs_64_init_Xavier_ac_tanh_l2_0.5</strong> at: <a href='https://wandb.ai/arunangshudutta218-iitm/dl_assgn_1_q_4/runs/q8dubpr6' target=\"_blank\">https://wandb.ai/arunangshudutta218-iitm/dl_assgn_1_q_4/runs/q8dubpr6</a><br> View project at: <a href='https://wandb.ai/arunangshudutta218-iitm/dl_assgn_1_q_4' target=\"_blank\">https://wandb.ai/arunangshudutta218-iitm/dl_assgn_1_q_4</a><br>Synced 5 W&B file(s), 0 media file(s), 0 artifact file(s) and 0 other file(s)"
            ]
          },
          "metadata": {}
        },
        {
          "output_type": "display_data",
          "data": {
            "text/plain": [
              "<IPython.core.display.HTML object>"
            ],
            "text/html": [
              "Find logs at: <code>./wandb/run-20250309_200948-q8dubpr6/logs</code>"
            ]
          },
          "metadata": {}
        },
        {
          "output_type": "stream",
          "name": "stderr",
          "text": [
            "\u001b[34m\u001b[1mwandb\u001b[0m: Agent Starting Run: nhaax88l with config:\n",
            "\u001b[34m\u001b[1mwandb\u001b[0m: \tactivation: ReLU\n",
            "\u001b[34m\u001b[1mwandb\u001b[0m: \tbatch_size: 16\n",
            "\u001b[34m\u001b[1mwandb\u001b[0m: \tepochs: 10\n",
            "\u001b[34m\u001b[1mwandb\u001b[0m: \thidden_size: 128\n",
            "\u001b[34m\u001b[1mwandb\u001b[0m: \tlearning_rate: 0.0001\n",
            "\u001b[34m\u001b[1mwandb\u001b[0m: \tnum_layers: 5\n",
            "\u001b[34m\u001b[1mwandb\u001b[0m: \toptimizer: sgd\n",
            "\u001b[34m\u001b[1mwandb\u001b[0m: \tweight_decay: 0.0005\n",
            "\u001b[34m\u001b[1mwandb\u001b[0m: \tweight_init: Xavier\n"
          ]
        },
        {
          "output_type": "display_data",
          "data": {
            "text/plain": [
              "<IPython.core.display.HTML object>"
            ],
            "text/html": [
              "Tracking run with wandb version 0.19.7"
            ]
          },
          "metadata": {}
        },
        {
          "output_type": "display_data",
          "data": {
            "text/plain": [
              "<IPython.core.display.HTML object>"
            ],
            "text/html": [
              "Run data is saved locally in <code>/content/wandb/run-20250309_201156-nhaax88l</code>"
            ]
          },
          "metadata": {}
        },
        {
          "output_type": "display_data",
          "data": {
            "text/plain": [
              "<IPython.core.display.HTML object>"
            ],
            "text/html": [
              "Syncing run <strong><a href='https://wandb.ai/arunangshudutta218-iitm/dl_assgn_1_q_4/runs/nhaax88l' target=\"_blank\">rosy-sweep-52</a></strong> to <a href='https://wandb.ai/arunangshudutta218-iitm/dl_assgn_1_q_4' target=\"_blank\">Weights & Biases</a> (<a href='https://wandb.me/developer-guide' target=\"_blank\">docs</a>)<br>Sweep page: <a href='https://wandb.ai/arunangshudutta218-iitm/dl_assgn_1_q_4/sweeps/sdlyh3ti' target=\"_blank\">https://wandb.ai/arunangshudutta218-iitm/dl_assgn_1_q_4/sweeps/sdlyh3ti</a>"
            ]
          },
          "metadata": {}
        },
        {
          "output_type": "display_data",
          "data": {
            "text/plain": [
              "<IPython.core.display.HTML object>"
            ],
            "text/html": [
              " View project at <a href='https://wandb.ai/arunangshudutta218-iitm/dl_assgn_1_q_4' target=\"_blank\">https://wandb.ai/arunangshudutta218-iitm/dl_assgn_1_q_4</a>"
            ]
          },
          "metadata": {}
        },
        {
          "output_type": "display_data",
          "data": {
            "text/plain": [
              "<IPython.core.display.HTML object>"
            ],
            "text/html": [
              " View sweep at <a href='https://wandb.ai/arunangshudutta218-iitm/dl_assgn_1_q_4/sweeps/sdlyh3ti' target=\"_blank\">https://wandb.ai/arunangshudutta218-iitm/dl_assgn_1_q_4/sweeps/sdlyh3ti</a>"
            ]
          },
          "metadata": {}
        },
        {
          "output_type": "display_data",
          "data": {
            "text/plain": [
              "<IPython.core.display.HTML object>"
            ],
            "text/html": [
              " View run at <a href='https://wandb.ai/arunangshudutta218-iitm/dl_assgn_1_q_4/runs/nhaax88l' target=\"_blank\">https://wandb.ai/arunangshudutta218-iitm/dl_assgn_1_q_4/runs/nhaax88l</a>"
            ]
          },
          "metadata": {}
        },
        {
          "output_type": "stream",
          "name": "stdout",
          "text": [
            "2625.0\n"
          ]
        },
        {
          "output_type": "stream",
          "name": "stderr",
          "text": [
            "100%|██████████| 2625/2625 [00:12<00:00, 208.72it/s]\n",
            "100%|██████████| 2625/2625 [00:12<00:00, 206.20it/s]\n",
            "100%|██████████| 2625/2625 [00:11<00:00, 232.32it/s]\n",
            "100%|██████████| 2625/2625 [00:09<00:00, 279.55it/s]\n",
            "100%|██████████| 2625/2625 [00:11<00:00, 230.04it/s]\n",
            "100%|██████████| 2625/2625 [00:11<00:00, 223.39it/s]\n",
            "100%|██████████| 2625/2625 [00:11<00:00, 221.43it/s]\n",
            "100%|██████████| 2625/2625 [00:11<00:00, 222.43it/s]\n",
            "100%|██████████| 2625/2625 [00:08<00:00, 291.97it/s]\n",
            "100%|██████████| 2625/2625 [00:10<00:00, 241.69it/s]\n"
          ]
        },
        {
          "output_type": "display_data",
          "data": {
            "text/plain": [
              "<IPython.core.display.HTML object>"
            ],
            "text/html": []
          },
          "metadata": {}
        },
        {
          "output_type": "display_data",
          "data": {
            "text/plain": [
              "<IPython.core.display.HTML object>"
            ],
            "text/html": [
              "<br>    <style><br>        .wandb-row {<br>            display: flex;<br>            flex-direction: row;<br>            flex-wrap: wrap;<br>            justify-content: flex-start;<br>            width: 100%;<br>        }<br>        .wandb-col {<br>            display: flex;<br>            flex-direction: column;<br>            flex-basis: 100%;<br>            flex: 1;<br>            padding: 10px;<br>        }<br>    </style><br><div class=\"wandb-row\"><div class=\"wandb-col\"><h3>Run history:</h3><br/><table class=\"wandb\"><tr><td>tr_accuracy</td><td>▁▂▃▄▄▆▇▇▇█</td></tr><tr><td>tr_loss</td><td>██▇▆▅▄▃▂▁▁</td></tr><tr><td>val_accuracy</td><td>▁▂▃▅▆█████</td></tr><tr><td>val_loss</td><td>██▇▆▅▄▃▂▁▁</td></tr></table><br/></div><div class=\"wandb-col\"><h3>Run summary:</h3><br/><table class=\"wandb\"><tr><td>tr_accuracy</td><td>75</td></tr><tr><td>tr_loss</td><td>0.95272</td></tr><tr><td>val_accuracy</td><td>87.5</td></tr><tr><td>val_loss</td><td>0.95574</td></tr></table><br/></div></div>"
            ]
          },
          "metadata": {}
        },
        {
          "output_type": "display_data",
          "data": {
            "text/plain": [
              "<IPython.core.display.HTML object>"
            ],
            "text/html": [
              " View run <strong style=\"color:#cdcd00\">e_10_hl_5_hs_128_lr_0.0001_opt_sgd_bs_16_init_Xavier_ac_ReLU_l2_0.0005</strong> at: <a href='https://wandb.ai/arunangshudutta218-iitm/dl_assgn_1_q_4/runs/nhaax88l' target=\"_blank\">https://wandb.ai/arunangshudutta218-iitm/dl_assgn_1_q_4/runs/nhaax88l</a><br> View project at: <a href='https://wandb.ai/arunangshudutta218-iitm/dl_assgn_1_q_4' target=\"_blank\">https://wandb.ai/arunangshudutta218-iitm/dl_assgn_1_q_4</a><br>Synced 5 W&B file(s), 0 media file(s), 0 artifact file(s) and 0 other file(s)"
            ]
          },
          "metadata": {}
        },
        {
          "output_type": "display_data",
          "data": {
            "text/plain": [
              "<IPython.core.display.HTML object>"
            ],
            "text/html": [
              "Find logs at: <code>./wandb/run-20250309_201156-nhaax88l/logs</code>"
            ]
          },
          "metadata": {}
        },
        {
          "output_type": "stream",
          "name": "stderr",
          "text": [
            "\u001b[34m\u001b[1mwandb\u001b[0m: Agent Starting Run: j4fgxump with config:\n",
            "\u001b[34m\u001b[1mwandb\u001b[0m: \tactivation: ReLU\n",
            "\u001b[34m\u001b[1mwandb\u001b[0m: \tbatch_size: 32\n",
            "\u001b[34m\u001b[1mwandb\u001b[0m: \tepochs: 5\n",
            "\u001b[34m\u001b[1mwandb\u001b[0m: \thidden_size: 32\n",
            "\u001b[34m\u001b[1mwandb\u001b[0m: \tlearning_rate: 0.001\n",
            "\u001b[34m\u001b[1mwandb\u001b[0m: \tnum_layers: 3\n",
            "\u001b[34m\u001b[1mwandb\u001b[0m: \toptimizer: sgd\n",
            "\u001b[34m\u001b[1mwandb\u001b[0m: \tweight_decay: 0.5\n",
            "\u001b[34m\u001b[1mwandb\u001b[0m: \tweight_init: random\n"
          ]
        },
        {
          "output_type": "display_data",
          "data": {
            "text/plain": [
              "<IPython.core.display.HTML object>"
            ],
            "text/html": [
              "Tracking run with wandb version 0.19.7"
            ]
          },
          "metadata": {}
        },
        {
          "output_type": "display_data",
          "data": {
            "text/plain": [
              "<IPython.core.display.HTML object>"
            ],
            "text/html": [
              "Run data is saved locally in <code>/content/wandb/run-20250309_201408-j4fgxump</code>"
            ]
          },
          "metadata": {}
        },
        {
          "output_type": "display_data",
          "data": {
            "text/plain": [
              "<IPython.core.display.HTML object>"
            ],
            "text/html": [
              "Syncing run <strong><a href='https://wandb.ai/arunangshudutta218-iitm/dl_assgn_1_q_4/runs/j4fgxump' target=\"_blank\">young-sweep-53</a></strong> to <a href='https://wandb.ai/arunangshudutta218-iitm/dl_assgn_1_q_4' target=\"_blank\">Weights & Biases</a> (<a href='https://wandb.me/developer-guide' target=\"_blank\">docs</a>)<br>Sweep page: <a href='https://wandb.ai/arunangshudutta218-iitm/dl_assgn_1_q_4/sweeps/sdlyh3ti' target=\"_blank\">https://wandb.ai/arunangshudutta218-iitm/dl_assgn_1_q_4/sweeps/sdlyh3ti</a>"
            ]
          },
          "metadata": {}
        },
        {
          "output_type": "display_data",
          "data": {
            "text/plain": [
              "<IPython.core.display.HTML object>"
            ],
            "text/html": [
              " View project at <a href='https://wandb.ai/arunangshudutta218-iitm/dl_assgn_1_q_4' target=\"_blank\">https://wandb.ai/arunangshudutta218-iitm/dl_assgn_1_q_4</a>"
            ]
          },
          "metadata": {}
        },
        {
          "output_type": "display_data",
          "data": {
            "text/plain": [
              "<IPython.core.display.HTML object>"
            ],
            "text/html": [
              " View sweep at <a href='https://wandb.ai/arunangshudutta218-iitm/dl_assgn_1_q_4/sweeps/sdlyh3ti' target=\"_blank\">https://wandb.ai/arunangshudutta218-iitm/dl_assgn_1_q_4/sweeps/sdlyh3ti</a>"
            ]
          },
          "metadata": {}
        },
        {
          "output_type": "display_data",
          "data": {
            "text/plain": [
              "<IPython.core.display.HTML object>"
            ],
            "text/html": [
              " View run at <a href='https://wandb.ai/arunangshudutta218-iitm/dl_assgn_1_q_4/runs/j4fgxump' target=\"_blank\">https://wandb.ai/arunangshudutta218-iitm/dl_assgn_1_q_4/runs/j4fgxump</a>"
            ]
          },
          "metadata": {}
        },
        {
          "output_type": "stream",
          "name": "stdout",
          "text": [
            "1312.0\n"
          ]
        },
        {
          "output_type": "stream",
          "name": "stderr",
          "text": [
            "100%|██████████| 1312/1312 [00:01<00:00, 1011.18it/s]\n",
            "100%|██████████| 1312/1312 [00:01<00:00, 987.98it/s]\n",
            "100%|██████████| 1312/1312 [00:01<00:00, 913.27it/s] \n",
            "100%|██████████| 1312/1312 [00:01<00:00, 1012.17it/s]\n",
            "100%|██████████| 1312/1312 [00:01<00:00, 865.15it/s]\n"
          ]
        },
        {
          "output_type": "display_data",
          "data": {
            "text/plain": [
              "<IPython.core.display.HTML object>"
            ],
            "text/html": []
          },
          "metadata": {}
        },
        {
          "output_type": "display_data",
          "data": {
            "text/plain": [
              "<IPython.core.display.HTML object>"
            ],
            "text/html": [
              "<br>    <style><br>        .wandb-row {<br>            display: flex;<br>            flex-direction: row;<br>            flex-wrap: wrap;<br>            justify-content: flex-start;<br>            width: 100%;<br>        }<br>        .wandb-col {<br>            display: flex;<br>            flex-direction: column;<br>            flex-basis: 100%;<br>            flex: 1;<br>            padding: 10px;<br>        }<br>    </style><br><div class=\"wandb-row\"><div class=\"wandb-col\"><h3>Run history:</h3><br/><table class=\"wandb\"><tr><td>tr_accuracy</td><td>▁▁▁▁▁</td></tr><tr><td>val_accuracy</td><td>▁▁▁▁▁</td></tr></table><br/></div><div class=\"wandb-col\"><h3>Run summary:</h3><br/><table class=\"wandb\"><tr><td>tr_accuracy</td><td>15.625</td></tr><tr><td>tr_loss</td><td>nan</td></tr><tr><td>val_accuracy</td><td>6.25</td></tr><tr><td>val_loss</td><td>nan</td></tr></table><br/></div></div>"
            ]
          },
          "metadata": {}
        },
        {
          "output_type": "display_data",
          "data": {
            "text/plain": [
              "<IPython.core.display.HTML object>"
            ],
            "text/html": [
              " View run <strong style=\"color:#cdcd00\">e_5_hl_3_hs_32_lr_0.001_opt_sgd_bs_32_init_random_ac_ReLU_l2_0.5</strong> at: <a href='https://wandb.ai/arunangshudutta218-iitm/dl_assgn_1_q_4/runs/j4fgxump' target=\"_blank\">https://wandb.ai/arunangshudutta218-iitm/dl_assgn_1_q_4/runs/j4fgxump</a><br> View project at: <a href='https://wandb.ai/arunangshudutta218-iitm/dl_assgn_1_q_4' target=\"_blank\">https://wandb.ai/arunangshudutta218-iitm/dl_assgn_1_q_4</a><br>Synced 5 W&B file(s), 0 media file(s), 0 artifact file(s) and 0 other file(s)"
            ]
          },
          "metadata": {}
        },
        {
          "output_type": "display_data",
          "data": {
            "text/plain": [
              "<IPython.core.display.HTML object>"
            ],
            "text/html": [
              "Find logs at: <code>./wandb/run-20250309_201408-j4fgxump/logs</code>"
            ]
          },
          "metadata": {}
        },
        {
          "output_type": "stream",
          "name": "stderr",
          "text": [
            "\u001b[34m\u001b[1mwandb\u001b[0m: Agent Starting Run: 6brjj522 with config:\n",
            "\u001b[34m\u001b[1mwandb\u001b[0m: \tactivation: tanh\n",
            "\u001b[34m\u001b[1mwandb\u001b[0m: \tbatch_size: 64\n",
            "\u001b[34m\u001b[1mwandb\u001b[0m: \tepochs: 5\n",
            "\u001b[34m\u001b[1mwandb\u001b[0m: \thidden_size: 64\n",
            "\u001b[34m\u001b[1mwandb\u001b[0m: \tlearning_rate: 0.0001\n",
            "\u001b[34m\u001b[1mwandb\u001b[0m: \tnum_layers: 5\n",
            "\u001b[34m\u001b[1mwandb\u001b[0m: \toptimizer: rmsprop\n",
            "\u001b[34m\u001b[1mwandb\u001b[0m: \tweight_decay: 0.0005\n",
            "\u001b[34m\u001b[1mwandb\u001b[0m: \tweight_init: random\n"
          ]
        },
        {
          "output_type": "display_data",
          "data": {
            "text/plain": [
              "<IPython.core.display.HTML object>"
            ],
            "text/html": [
              "Tracking run with wandb version 0.19.7"
            ]
          },
          "metadata": {}
        },
        {
          "output_type": "display_data",
          "data": {
            "text/plain": [
              "<IPython.core.display.HTML object>"
            ],
            "text/html": [
              "Run data is saved locally in <code>/content/wandb/run-20250309_201423-6brjj522</code>"
            ]
          },
          "metadata": {}
        },
        {
          "output_type": "display_data",
          "data": {
            "text/plain": [
              "<IPython.core.display.HTML object>"
            ],
            "text/html": [
              "Syncing run <strong><a href='https://wandb.ai/arunangshudutta218-iitm/dl_assgn_1_q_4/runs/6brjj522' target=\"_blank\">vital-sweep-54</a></strong> to <a href='https://wandb.ai/arunangshudutta218-iitm/dl_assgn_1_q_4' target=\"_blank\">Weights & Biases</a> (<a href='https://wandb.me/developer-guide' target=\"_blank\">docs</a>)<br>Sweep page: <a href='https://wandb.ai/arunangshudutta218-iitm/dl_assgn_1_q_4/sweeps/sdlyh3ti' target=\"_blank\">https://wandb.ai/arunangshudutta218-iitm/dl_assgn_1_q_4/sweeps/sdlyh3ti</a>"
            ]
          },
          "metadata": {}
        },
        {
          "output_type": "display_data",
          "data": {
            "text/plain": [
              "<IPython.core.display.HTML object>"
            ],
            "text/html": [
              " View project at <a href='https://wandb.ai/arunangshudutta218-iitm/dl_assgn_1_q_4' target=\"_blank\">https://wandb.ai/arunangshudutta218-iitm/dl_assgn_1_q_4</a>"
            ]
          },
          "metadata": {}
        },
        {
          "output_type": "display_data",
          "data": {
            "text/plain": [
              "<IPython.core.display.HTML object>"
            ],
            "text/html": [
              " View sweep at <a href='https://wandb.ai/arunangshudutta218-iitm/dl_assgn_1_q_4/sweeps/sdlyh3ti' target=\"_blank\">https://wandb.ai/arunangshudutta218-iitm/dl_assgn_1_q_4/sweeps/sdlyh3ti</a>"
            ]
          },
          "metadata": {}
        },
        {
          "output_type": "display_data",
          "data": {
            "text/plain": [
              "<IPython.core.display.HTML object>"
            ],
            "text/html": [
              " View run at <a href='https://wandb.ai/arunangshudutta218-iitm/dl_assgn_1_q_4/runs/6brjj522' target=\"_blank\">https://wandb.ai/arunangshudutta218-iitm/dl_assgn_1_q_4/runs/6brjj522</a>"
            ]
          },
          "metadata": {}
        },
        {
          "output_type": "stream",
          "name": "stdout",
          "text": [
            "656.0\n"
          ]
        },
        {
          "output_type": "stream",
          "name": "stderr",
          "text": [
            "100%|██████████| 656/656 [00:05<00:00, 118.70it/s]\n",
            "100%|██████████| 656/656 [00:05<00:00, 120.24it/s]\n",
            "100%|██████████| 656/656 [00:05<00:00, 123.09it/s]\n",
            "100%|██████████| 656/656 [00:05<00:00, 111.73it/s]\n",
            "100%|██████████| 656/656 [00:05<00:00, 112.78it/s]\n"
          ]
        },
        {
          "output_type": "display_data",
          "data": {
            "text/plain": [
              "<IPython.core.display.HTML object>"
            ],
            "text/html": []
          },
          "metadata": {}
        },
        {
          "output_type": "display_data",
          "data": {
            "text/plain": [
              "<IPython.core.display.HTML object>"
            ],
            "text/html": [
              "<br>    <style><br>        .wandb-row {<br>            display: flex;<br>            flex-direction: row;<br>            flex-wrap: wrap;<br>            justify-content: flex-start;<br>            width: 100%;<br>        }<br>        .wandb-col {<br>            display: flex;<br>            flex-direction: column;<br>            flex-basis: 100%;<br>            flex: 1;<br>            padding: 10px;<br>        }<br>    </style><br><div class=\"wandb-row\"><div class=\"wandb-col\"><h3>Run history:</h3><br/><table class=\"wandb\"><tr><td>tr_accuracy</td><td>▁▁▆██</td></tr><tr><td>tr_loss</td><td>█▅▃▂▁</td></tr><tr><td>val_accuracy</td><td>▁▄▃▃█</td></tr><tr><td>val_loss</td><td>█▆▃▂▁</td></tr></table><br/></div><div class=\"wandb-col\"><h3>Run summary:</h3><br/><table class=\"wandb\"><tr><td>tr_accuracy</td><td>21.875</td></tr><tr><td>tr_loss</td><td>5.61407</td></tr><tr><td>val_accuracy</td><td>28.125</td></tr><tr><td>val_loss</td><td>5.89666</td></tr></table><br/></div></div>"
            ]
          },
          "metadata": {}
        },
        {
          "output_type": "display_data",
          "data": {
            "text/plain": [
              "<IPython.core.display.HTML object>"
            ],
            "text/html": [
              " View run <strong style=\"color:#cdcd00\">e_5_hl_5_hs_64_lr_0.0001_opt_rmsprop_bs_64_init_random_ac_tanh_l2_0.0005</strong> at: <a href='https://wandb.ai/arunangshudutta218-iitm/dl_assgn_1_q_4/runs/6brjj522' target=\"_blank\">https://wandb.ai/arunangshudutta218-iitm/dl_assgn_1_q_4/runs/6brjj522</a><br> View project at: <a href='https://wandb.ai/arunangshudutta218-iitm/dl_assgn_1_q_4' target=\"_blank\">https://wandb.ai/arunangshudutta218-iitm/dl_assgn_1_q_4</a><br>Synced 5 W&B file(s), 0 media file(s), 0 artifact file(s) and 0 other file(s)"
            ]
          },
          "metadata": {}
        },
        {
          "output_type": "display_data",
          "data": {
            "text/plain": [
              "<IPython.core.display.HTML object>"
            ],
            "text/html": [
              "Find logs at: <code>./wandb/run-20250309_201423-6brjj522/logs</code>"
            ]
          },
          "metadata": {}
        },
        {
          "output_type": "stream",
          "name": "stderr",
          "text": [
            "\u001b[34m\u001b[1mwandb\u001b[0m: Agent Starting Run: sd11gknk with config:\n",
            "\u001b[34m\u001b[1mwandb\u001b[0m: \tactivation: ReLU\n",
            "\u001b[34m\u001b[1mwandb\u001b[0m: \tbatch_size: 16\n",
            "\u001b[34m\u001b[1mwandb\u001b[0m: \tepochs: 10\n",
            "\u001b[34m\u001b[1mwandb\u001b[0m: \thidden_size: 128\n",
            "\u001b[34m\u001b[1mwandb\u001b[0m: \tlearning_rate: 0.001\n",
            "\u001b[34m\u001b[1mwandb\u001b[0m: \tnum_layers: 4\n",
            "\u001b[34m\u001b[1mwandb\u001b[0m: \toptimizer: nag\n",
            "\u001b[34m\u001b[1mwandb\u001b[0m: \tweight_decay: 0.0005\n",
            "\u001b[34m\u001b[1mwandb\u001b[0m: \tweight_init: random\n"
          ]
        },
        {
          "output_type": "display_data",
          "data": {
            "text/plain": [
              "<IPython.core.display.HTML object>"
            ],
            "text/html": [
              "Tracking run with wandb version 0.19.7"
            ]
          },
          "metadata": {}
        },
        {
          "output_type": "display_data",
          "data": {
            "text/plain": [
              "<IPython.core.display.HTML object>"
            ],
            "text/html": [
              "Run data is saved locally in <code>/content/wandb/run-20250309_201509-sd11gknk</code>"
            ]
          },
          "metadata": {}
        },
        {
          "output_type": "display_data",
          "data": {
            "text/plain": [
              "<IPython.core.display.HTML object>"
            ],
            "text/html": [
              "Syncing run <strong><a href='https://wandb.ai/arunangshudutta218-iitm/dl_assgn_1_q_4/runs/sd11gknk' target=\"_blank\">rural-sweep-55</a></strong> to <a href='https://wandb.ai/arunangshudutta218-iitm/dl_assgn_1_q_4' target=\"_blank\">Weights & Biases</a> (<a href='https://wandb.me/developer-guide' target=\"_blank\">docs</a>)<br>Sweep page: <a href='https://wandb.ai/arunangshudutta218-iitm/dl_assgn_1_q_4/sweeps/sdlyh3ti' target=\"_blank\">https://wandb.ai/arunangshudutta218-iitm/dl_assgn_1_q_4/sweeps/sdlyh3ti</a>"
            ]
          },
          "metadata": {}
        },
        {
          "output_type": "display_data",
          "data": {
            "text/plain": [
              "<IPython.core.display.HTML object>"
            ],
            "text/html": [
              " View project at <a href='https://wandb.ai/arunangshudutta218-iitm/dl_assgn_1_q_4' target=\"_blank\">https://wandb.ai/arunangshudutta218-iitm/dl_assgn_1_q_4</a>"
            ]
          },
          "metadata": {}
        },
        {
          "output_type": "display_data",
          "data": {
            "text/plain": [
              "<IPython.core.display.HTML object>"
            ],
            "text/html": [
              " View sweep at <a href='https://wandb.ai/arunangshudutta218-iitm/dl_assgn_1_q_4/sweeps/sdlyh3ti' target=\"_blank\">https://wandb.ai/arunangshudutta218-iitm/dl_assgn_1_q_4/sweeps/sdlyh3ti</a>"
            ]
          },
          "metadata": {}
        },
        {
          "output_type": "display_data",
          "data": {
            "text/plain": [
              "<IPython.core.display.HTML object>"
            ],
            "text/html": [
              " View run at <a href='https://wandb.ai/arunangshudutta218-iitm/dl_assgn_1_q_4/runs/sd11gknk' target=\"_blank\">https://wandb.ai/arunangshudutta218-iitm/dl_assgn_1_q_4/runs/sd11gknk</a>"
            ]
          },
          "metadata": {}
        },
        {
          "output_type": "stream",
          "name": "stdout",
          "text": [
            "2625.0\n"
          ]
        },
        {
          "output_type": "stream",
          "name": "stderr",
          "text": [
            "100%|██████████| 2625/2625 [00:13<00:00, 198.49it/s]\n",
            "100%|██████████| 2625/2625 [00:13<00:00, 194.14it/s]\n",
            "100%|██████████| 2625/2625 [00:13<00:00, 201.41it/s]\n",
            "100%|██████████| 2625/2625 [00:13<00:00, 195.66it/s]\n",
            "100%|██████████| 2625/2625 [00:11<00:00, 219.62it/s]\n",
            "100%|██████████| 2625/2625 [00:10<00:00, 247.29it/s]\n",
            "100%|██████████| 2625/2625 [00:11<00:00, 222.35it/s]\n",
            "100%|██████████| 2625/2625 [00:12<00:00, 208.45it/s]\n",
            "100%|██████████| 2625/2625 [00:12<00:00, 205.37it/s]\n",
            "100%|██████████| 2625/2625 [00:12<00:00, 202.39it/s]\n"
          ]
        },
        {
          "output_type": "display_data",
          "data": {
            "text/plain": [
              "<IPython.core.display.HTML object>"
            ],
            "text/html": []
          },
          "metadata": {}
        },
        {
          "output_type": "display_data",
          "data": {
            "text/plain": [
              "<IPython.core.display.HTML object>"
            ],
            "text/html": [
              "<br>    <style><br>        .wandb-row {<br>            display: flex;<br>            flex-direction: row;<br>            flex-wrap: wrap;<br>            justify-content: flex-start;<br>            width: 100%;<br>        }<br>        .wandb-col {<br>            display: flex;<br>            flex-direction: column;<br>            flex-basis: 100%;<br>            flex: 1;<br>            padding: 10px;<br>        }<br>    </style><br><div class=\"wandb-row\"><div class=\"wandb-col\"><h3>Run history:</h3><br/><table class=\"wandb\"><tr><td>tr_accuracy</td><td>▁▁▁▁▁▁▁▁▁▁</td></tr><tr><td>val_accuracy</td><td>▁▁▁▁▁▁▁▁▁▁</td></tr></table><br/></div><div class=\"wandb-col\"><h3>Run summary:</h3><br/><table class=\"wandb\"><tr><td>tr_accuracy</td><td>18.75</td></tr><tr><td>tr_loss</td><td>nan</td></tr><tr><td>val_accuracy</td><td>6.25</td></tr><tr><td>val_loss</td><td>nan</td></tr></table><br/></div></div>"
            ]
          },
          "metadata": {}
        },
        {
          "output_type": "display_data",
          "data": {
            "text/plain": [
              "<IPython.core.display.HTML object>"
            ],
            "text/html": [
              " View run <strong style=\"color:#cdcd00\">e_10_hl_4_hs_128_lr_0.001_opt_nag_bs_16_init_random_ac_ReLU_l2_0.0005</strong> at: <a href='https://wandb.ai/arunangshudutta218-iitm/dl_assgn_1_q_4/runs/sd11gknk' target=\"_blank\">https://wandb.ai/arunangshudutta218-iitm/dl_assgn_1_q_4/runs/sd11gknk</a><br> View project at: <a href='https://wandb.ai/arunangshudutta218-iitm/dl_assgn_1_q_4' target=\"_blank\">https://wandb.ai/arunangshudutta218-iitm/dl_assgn_1_q_4</a><br>Synced 5 W&B file(s), 0 media file(s), 0 artifact file(s) and 0 other file(s)"
            ]
          },
          "metadata": {}
        },
        {
          "output_type": "display_data",
          "data": {
            "text/plain": [
              "<IPython.core.display.HTML object>"
            ],
            "text/html": [
              "Find logs at: <code>./wandb/run-20250309_201509-sd11gknk/logs</code>"
            ]
          },
          "metadata": {}
        },
        {
          "output_type": "stream",
          "name": "stderr",
          "text": [
            "\u001b[34m\u001b[1mwandb\u001b[0m: Agent Starting Run: l8azkyvr with config:\n",
            "\u001b[34m\u001b[1mwandb\u001b[0m: \tactivation: ReLU\n",
            "\u001b[34m\u001b[1mwandb\u001b[0m: \tbatch_size: 16\n",
            "\u001b[34m\u001b[1mwandb\u001b[0m: \tepochs: 5\n",
            "\u001b[34m\u001b[1mwandb\u001b[0m: \thidden_size: 128\n",
            "\u001b[34m\u001b[1mwandb\u001b[0m: \tlearning_rate: 0.0001\n",
            "\u001b[34m\u001b[1mwandb\u001b[0m: \tnum_layers: 4\n",
            "\u001b[34m\u001b[1mwandb\u001b[0m: \toptimizer: sgd\n",
            "\u001b[34m\u001b[1mwandb\u001b[0m: \tweight_decay: 0.5\n",
            "\u001b[34m\u001b[1mwandb\u001b[0m: \tweight_init: random\n"
          ]
        },
        {
          "output_type": "display_data",
          "data": {
            "text/plain": [
              "<IPython.core.display.HTML object>"
            ],
            "text/html": [
              "Tracking run with wandb version 0.19.7"
            ]
          },
          "metadata": {}
        },
        {
          "output_type": "display_data",
          "data": {
            "text/plain": [
              "<IPython.core.display.HTML object>"
            ],
            "text/html": [
              "Run data is saved locally in <code>/content/wandb/run-20250309_201732-l8azkyvr</code>"
            ]
          },
          "metadata": {}
        },
        {
          "output_type": "display_data",
          "data": {
            "text/plain": [
              "<IPython.core.display.HTML object>"
            ],
            "text/html": [
              "Syncing run <strong><a href='https://wandb.ai/arunangshudutta218-iitm/dl_assgn_1_q_4/runs/l8azkyvr' target=\"_blank\">dainty-sweep-56</a></strong> to <a href='https://wandb.ai/arunangshudutta218-iitm/dl_assgn_1_q_4' target=\"_blank\">Weights & Biases</a> (<a href='https://wandb.me/developer-guide' target=\"_blank\">docs</a>)<br>Sweep page: <a href='https://wandb.ai/arunangshudutta218-iitm/dl_assgn_1_q_4/sweeps/sdlyh3ti' target=\"_blank\">https://wandb.ai/arunangshudutta218-iitm/dl_assgn_1_q_4/sweeps/sdlyh3ti</a>"
            ]
          },
          "metadata": {}
        },
        {
          "output_type": "display_data",
          "data": {
            "text/plain": [
              "<IPython.core.display.HTML object>"
            ],
            "text/html": [
              " View project at <a href='https://wandb.ai/arunangshudutta218-iitm/dl_assgn_1_q_4' target=\"_blank\">https://wandb.ai/arunangshudutta218-iitm/dl_assgn_1_q_4</a>"
            ]
          },
          "metadata": {}
        },
        {
          "output_type": "display_data",
          "data": {
            "text/plain": [
              "<IPython.core.display.HTML object>"
            ],
            "text/html": [
              " View sweep at <a href='https://wandb.ai/arunangshudutta218-iitm/dl_assgn_1_q_4/sweeps/sdlyh3ti' target=\"_blank\">https://wandb.ai/arunangshudutta218-iitm/dl_assgn_1_q_4/sweeps/sdlyh3ti</a>"
            ]
          },
          "metadata": {}
        },
        {
          "output_type": "display_data",
          "data": {
            "text/plain": [
              "<IPython.core.display.HTML object>"
            ],
            "text/html": [
              " View run at <a href='https://wandb.ai/arunangshudutta218-iitm/dl_assgn_1_q_4/runs/l8azkyvr' target=\"_blank\">https://wandb.ai/arunangshudutta218-iitm/dl_assgn_1_q_4/runs/l8azkyvr</a>"
            ]
          },
          "metadata": {}
        },
        {
          "output_type": "stream",
          "name": "stdout",
          "text": [
            "2625.0\n"
          ]
        },
        {
          "output_type": "stream",
          "name": "stderr",
          "text": [
            "100%|██████████| 2625/2625 [00:10<00:00, 242.57it/s]\n",
            "100%|██████████| 2625/2625 [00:10<00:00, 243.83it/s]\n",
            "100%|██████████| 2625/2625 [00:08<00:00, 311.82it/s]\n",
            "100%|██████████| 2625/2625 [00:10<00:00, 261.62it/s]\n",
            "100%|██████████| 2625/2625 [00:10<00:00, 241.57it/s]\n"
          ]
        },
        {
          "output_type": "display_data",
          "data": {
            "text/plain": [
              "<IPython.core.display.HTML object>"
            ],
            "text/html": []
          },
          "metadata": {}
        },
        {
          "output_type": "display_data",
          "data": {
            "text/plain": [
              "<IPython.core.display.HTML object>"
            ],
            "text/html": [
              "<br>    <style><br>        .wandb-row {<br>            display: flex;<br>            flex-direction: row;<br>            flex-wrap: wrap;<br>            justify-content: flex-start;<br>            width: 100%;<br>        }<br>        .wandb-col {<br>            display: flex;<br>            flex-direction: column;<br>            flex-basis: 100%;<br>            flex: 1;<br>            padding: 10px;<br>        }<br>    </style><br><div class=\"wandb-row\"><div class=\"wandb-col\"><h3>Run history:</h3><br/><table class=\"wandb\"><tr><td>tr_accuracy</td><td>▁▁▁▁▁</td></tr><tr><td>val_accuracy</td><td>▁▁▁▁▁</td></tr></table><br/></div><div class=\"wandb-col\"><h3>Run summary:</h3><br/><table class=\"wandb\"><tr><td>tr_accuracy</td><td>18.75</td></tr><tr><td>tr_loss</td><td>nan</td></tr><tr><td>val_accuracy</td><td>6.25</td></tr><tr><td>val_loss</td><td>nan</td></tr></table><br/></div></div>"
            ]
          },
          "metadata": {}
        },
        {
          "output_type": "display_data",
          "data": {
            "text/plain": [
              "<IPython.core.display.HTML object>"
            ],
            "text/html": [
              " View run <strong style=\"color:#cdcd00\">e_5_hl_4_hs_128_lr_0.0001_opt_sgd_bs_16_init_random_ac_ReLU_l2_0.5</strong> at: <a href='https://wandb.ai/arunangshudutta218-iitm/dl_assgn_1_q_4/runs/l8azkyvr' target=\"_blank\">https://wandb.ai/arunangshudutta218-iitm/dl_assgn_1_q_4/runs/l8azkyvr</a><br> View project at: <a href='https://wandb.ai/arunangshudutta218-iitm/dl_assgn_1_q_4' target=\"_blank\">https://wandb.ai/arunangshudutta218-iitm/dl_assgn_1_q_4</a><br>Synced 5 W&B file(s), 0 media file(s), 0 artifact file(s) and 0 other file(s)"
            ]
          },
          "metadata": {}
        },
        {
          "output_type": "display_data",
          "data": {
            "text/plain": [
              "<IPython.core.display.HTML object>"
            ],
            "text/html": [
              "Find logs at: <code>./wandb/run-20250309_201732-l8azkyvr/logs</code>"
            ]
          },
          "metadata": {}
        },
        {
          "output_type": "stream",
          "name": "stderr",
          "text": [
            "\u001b[34m\u001b[1mwandb\u001b[0m: Agent Starting Run: 3oftfdje with config:\n",
            "\u001b[34m\u001b[1mwandb\u001b[0m: \tactivation: ReLU\n",
            "\u001b[34m\u001b[1mwandb\u001b[0m: \tbatch_size: 64\n",
            "\u001b[34m\u001b[1mwandb\u001b[0m: \tepochs: 5\n",
            "\u001b[34m\u001b[1mwandb\u001b[0m: \thidden_size: 128\n",
            "\u001b[34m\u001b[1mwandb\u001b[0m: \tlearning_rate: 0.001\n",
            "\u001b[34m\u001b[1mwandb\u001b[0m: \tnum_layers: 5\n",
            "\u001b[34m\u001b[1mwandb\u001b[0m: \toptimizer: adam\n",
            "\u001b[34m\u001b[1mwandb\u001b[0m: \tweight_decay: 0.0005\n",
            "\u001b[34m\u001b[1mwandb\u001b[0m: \tweight_init: random\n"
          ]
        },
        {
          "output_type": "display_data",
          "data": {
            "text/plain": [
              "<IPython.core.display.HTML object>"
            ],
            "text/html": [
              "Tracking run with wandb version 0.19.7"
            ]
          },
          "metadata": {}
        },
        {
          "output_type": "display_data",
          "data": {
            "text/plain": [
              "<IPython.core.display.HTML object>"
            ],
            "text/html": [
              "Run data is saved locally in <code>/content/wandb/run-20250309_201833-3oftfdje</code>"
            ]
          },
          "metadata": {}
        },
        {
          "output_type": "display_data",
          "data": {
            "text/plain": [
              "<IPython.core.display.HTML object>"
            ],
            "text/html": [
              "Syncing run <strong><a href='https://wandb.ai/arunangshudutta218-iitm/dl_assgn_1_q_4/runs/3oftfdje' target=\"_blank\">dashing-sweep-57</a></strong> to <a href='https://wandb.ai/arunangshudutta218-iitm/dl_assgn_1_q_4' target=\"_blank\">Weights & Biases</a> (<a href='https://wandb.me/developer-guide' target=\"_blank\">docs</a>)<br>Sweep page: <a href='https://wandb.ai/arunangshudutta218-iitm/dl_assgn_1_q_4/sweeps/sdlyh3ti' target=\"_blank\">https://wandb.ai/arunangshudutta218-iitm/dl_assgn_1_q_4/sweeps/sdlyh3ti</a>"
            ]
          },
          "metadata": {}
        },
        {
          "output_type": "display_data",
          "data": {
            "text/plain": [
              "<IPython.core.display.HTML object>"
            ],
            "text/html": [
              " View project at <a href='https://wandb.ai/arunangshudutta218-iitm/dl_assgn_1_q_4' target=\"_blank\">https://wandb.ai/arunangshudutta218-iitm/dl_assgn_1_q_4</a>"
            ]
          },
          "metadata": {}
        },
        {
          "output_type": "display_data",
          "data": {
            "text/plain": [
              "<IPython.core.display.HTML object>"
            ],
            "text/html": [
              " View sweep at <a href='https://wandb.ai/arunangshudutta218-iitm/dl_assgn_1_q_4/sweeps/sdlyh3ti' target=\"_blank\">https://wandb.ai/arunangshudutta218-iitm/dl_assgn_1_q_4/sweeps/sdlyh3ti</a>"
            ]
          },
          "metadata": {}
        },
        {
          "output_type": "display_data",
          "data": {
            "text/plain": [
              "<IPython.core.display.HTML object>"
            ],
            "text/html": [
              " View run at <a href='https://wandb.ai/arunangshudutta218-iitm/dl_assgn_1_q_4/runs/3oftfdje' target=\"_blank\">https://wandb.ai/arunangshudutta218-iitm/dl_assgn_1_q_4/runs/3oftfdje</a>"
            ]
          },
          "metadata": {}
        },
        {
          "output_type": "stream",
          "name": "stdout",
          "text": [
            "656.0\n"
          ]
        },
        {
          "output_type": "stream",
          "name": "stderr",
          "text": [
            "100%|██████████| 656/656 [00:08<00:00, 77.76it/s] \n",
            "100%|██████████| 656/656 [00:06<00:00, 109.22it/s]\n",
            "100%|██████████| 656/656 [00:09<00:00, 71.88it/s] \n",
            "100%|██████████| 656/656 [00:06<00:00, 108.12it/s]\n",
            "100%|██████████| 656/656 [00:08<00:00, 80.58it/s] \n"
          ]
        },
        {
          "output_type": "display_data",
          "data": {
            "text/plain": [
              "<IPython.core.display.HTML object>"
            ],
            "text/html": []
          },
          "metadata": {}
        },
        {
          "output_type": "display_data",
          "data": {
            "text/plain": [
              "<IPython.core.display.HTML object>"
            ],
            "text/html": [
              "<br>    <style><br>        .wandb-row {<br>            display: flex;<br>            flex-direction: row;<br>            flex-wrap: wrap;<br>            justify-content: flex-start;<br>            width: 100%;<br>        }<br>        .wandb-col {<br>            display: flex;<br>            flex-direction: column;<br>            flex-basis: 100%;<br>            flex: 1;<br>            padding: 10px;<br>        }<br>    </style><br><div class=\"wandb-row\"><div class=\"wandb-col\"><h3>Run history:</h3><br/><table class=\"wandb\"><tr><td>tr_accuracy</td><td>▁▁▁▁▁</td></tr><tr><td>val_accuracy</td><td>▁▁▁▁▁</td></tr></table><br/></div><div class=\"wandb-col\"><h3>Run summary:</h3><br/><table class=\"wandb\"><tr><td>tr_accuracy</td><td>12.5</td></tr><tr><td>tr_loss</td><td>nan</td></tr><tr><td>val_accuracy</td><td>6.25</td></tr><tr><td>val_loss</td><td>nan</td></tr></table><br/></div></div>"
            ]
          },
          "metadata": {}
        },
        {
          "output_type": "display_data",
          "data": {
            "text/plain": [
              "<IPython.core.display.HTML object>"
            ],
            "text/html": [
              " View run <strong style=\"color:#cdcd00\">e_5_hl_5_hs_128_lr_0.001_opt_adam_bs_64_init_random_ac_ReLU_l2_0.0005</strong> at: <a href='https://wandb.ai/arunangshudutta218-iitm/dl_assgn_1_q_4/runs/3oftfdje' target=\"_blank\">https://wandb.ai/arunangshudutta218-iitm/dl_assgn_1_q_4/runs/3oftfdje</a><br> View project at: <a href='https://wandb.ai/arunangshudutta218-iitm/dl_assgn_1_q_4' target=\"_blank\">https://wandb.ai/arunangshudutta218-iitm/dl_assgn_1_q_4</a><br>Synced 5 W&B file(s), 0 media file(s), 0 artifact file(s) and 0 other file(s)"
            ]
          },
          "metadata": {}
        },
        {
          "output_type": "display_data",
          "data": {
            "text/plain": [
              "<IPython.core.display.HTML object>"
            ],
            "text/html": [
              "Find logs at: <code>./wandb/run-20250309_201833-3oftfdje/logs</code>"
            ]
          },
          "metadata": {}
        },
        {
          "output_type": "stream",
          "name": "stderr",
          "text": [
            "\u001b[34m\u001b[1mwandb\u001b[0m: Agent Starting Run: f0yjmylb with config:\n",
            "\u001b[34m\u001b[1mwandb\u001b[0m: \tactivation: tanh\n",
            "\u001b[34m\u001b[1mwandb\u001b[0m: \tbatch_size: 16\n",
            "\u001b[34m\u001b[1mwandb\u001b[0m: \tepochs: 5\n",
            "\u001b[34m\u001b[1mwandb\u001b[0m: \thidden_size: 32\n",
            "\u001b[34m\u001b[1mwandb\u001b[0m: \tlearning_rate: 0.001\n",
            "\u001b[34m\u001b[1mwandb\u001b[0m: \tnum_layers: 5\n",
            "\u001b[34m\u001b[1mwandb\u001b[0m: \toptimizer: sgd\n",
            "\u001b[34m\u001b[1mwandb\u001b[0m: \tweight_decay: 0.0005\n",
            "\u001b[34m\u001b[1mwandb\u001b[0m: \tweight_init: Xavier\n"
          ]
        },
        {
          "output_type": "display_data",
          "data": {
            "text/plain": [
              "<IPython.core.display.HTML object>"
            ],
            "text/html": [
              "Tracking run with wandb version 0.19.7"
            ]
          },
          "metadata": {}
        },
        {
          "output_type": "display_data",
          "data": {
            "text/plain": [
              "<IPython.core.display.HTML object>"
            ],
            "text/html": [
              "Run data is saved locally in <code>/content/wandb/run-20250309_201924-f0yjmylb</code>"
            ]
          },
          "metadata": {}
        },
        {
          "output_type": "display_data",
          "data": {
            "text/plain": [
              "<IPython.core.display.HTML object>"
            ],
            "text/html": [
              "Syncing run <strong><a href='https://wandb.ai/arunangshudutta218-iitm/dl_assgn_1_q_4/runs/f0yjmylb' target=\"_blank\">clean-sweep-58</a></strong> to <a href='https://wandb.ai/arunangshudutta218-iitm/dl_assgn_1_q_4' target=\"_blank\">Weights & Biases</a> (<a href='https://wandb.me/developer-guide' target=\"_blank\">docs</a>)<br>Sweep page: <a href='https://wandb.ai/arunangshudutta218-iitm/dl_assgn_1_q_4/sweeps/sdlyh3ti' target=\"_blank\">https://wandb.ai/arunangshudutta218-iitm/dl_assgn_1_q_4/sweeps/sdlyh3ti</a>"
            ]
          },
          "metadata": {}
        },
        {
          "output_type": "display_data",
          "data": {
            "text/plain": [
              "<IPython.core.display.HTML object>"
            ],
            "text/html": [
              " View project at <a href='https://wandb.ai/arunangshudutta218-iitm/dl_assgn_1_q_4' target=\"_blank\">https://wandb.ai/arunangshudutta218-iitm/dl_assgn_1_q_4</a>"
            ]
          },
          "metadata": {}
        },
        {
          "output_type": "display_data",
          "data": {
            "text/plain": [
              "<IPython.core.display.HTML object>"
            ],
            "text/html": [
              " View sweep at <a href='https://wandb.ai/arunangshudutta218-iitm/dl_assgn_1_q_4/sweeps/sdlyh3ti' target=\"_blank\">https://wandb.ai/arunangshudutta218-iitm/dl_assgn_1_q_4/sweeps/sdlyh3ti</a>"
            ]
          },
          "metadata": {}
        },
        {
          "output_type": "display_data",
          "data": {
            "text/plain": [
              "<IPython.core.display.HTML object>"
            ],
            "text/html": [
              " View run at <a href='https://wandb.ai/arunangshudutta218-iitm/dl_assgn_1_q_4/runs/f0yjmylb' target=\"_blank\">https://wandb.ai/arunangshudutta218-iitm/dl_assgn_1_q_4/runs/f0yjmylb</a>"
            ]
          },
          "metadata": {}
        },
        {
          "output_type": "stream",
          "name": "stdout",
          "text": [
            "2625.0\n"
          ]
        },
        {
          "output_type": "stream",
          "name": "stderr",
          "text": [
            "100%|██████████| 2625/2625 [00:04<00:00, 596.32it/s]\n",
            "100%|██████████| 2625/2625 [00:03<00:00, 662.83it/s]\n",
            "100%|██████████| 2625/2625 [00:06<00:00, 418.62it/s]\n",
            "100%|██████████| 2625/2625 [00:03<00:00, 671.72it/s]\n",
            "100%|██████████| 2625/2625 [00:05<00:00, 476.26it/s]\n"
          ]
        },
        {
          "output_type": "display_data",
          "data": {
            "text/plain": [
              "<IPython.core.display.HTML object>"
            ],
            "text/html": []
          },
          "metadata": {}
        },
        {
          "output_type": "display_data",
          "data": {
            "text/plain": [
              "<IPython.core.display.HTML object>"
            ],
            "text/html": [
              "<br>    <style><br>        .wandb-row {<br>            display: flex;<br>            flex-direction: row;<br>            flex-wrap: wrap;<br>            justify-content: flex-start;<br>            width: 100%;<br>        }<br>        .wandb-col {<br>            display: flex;<br>            flex-direction: column;<br>            flex-basis: 100%;<br>            flex: 1;<br>            padding: 10px;<br>        }<br>    </style><br><div class=\"wandb-row\"><div class=\"wandb-col\"><h3>Run history:</h3><br/><table class=\"wandb\"><tr><td>tr_accuracy</td><td>▁▁███</td></tr><tr><td>tr_loss</td><td>█▄▃▂▁</td></tr><tr><td>val_accuracy</td><td>▁████</td></tr><tr><td>val_loss</td><td>█▄▃▂▁</td></tr></table><br/></div><div class=\"wandb-col\"><h3>Run summary:</h3><br/><table class=\"wandb\"><tr><td>tr_accuracy</td><td>93.75</td></tr><tr><td>tr_loss</td><td>0.61813</td></tr><tr><td>val_accuracy</td><td>81.25</td></tr><tr><td>val_loss</td><td>0.62192</td></tr></table><br/></div></div>"
            ]
          },
          "metadata": {}
        },
        {
          "output_type": "display_data",
          "data": {
            "text/plain": [
              "<IPython.core.display.HTML object>"
            ],
            "text/html": [
              " View run <strong style=\"color:#cdcd00\">e_5_hl_5_hs_32_lr_0.001_opt_sgd_bs_16_init_Xavier_ac_tanh_l2_0.0005</strong> at: <a href='https://wandb.ai/arunangshudutta218-iitm/dl_assgn_1_q_4/runs/f0yjmylb' target=\"_blank\">https://wandb.ai/arunangshudutta218-iitm/dl_assgn_1_q_4/runs/f0yjmylb</a><br> View project at: <a href='https://wandb.ai/arunangshudutta218-iitm/dl_assgn_1_q_4' target=\"_blank\">https://wandb.ai/arunangshudutta218-iitm/dl_assgn_1_q_4</a><br>Synced 5 W&B file(s), 0 media file(s), 0 artifact file(s) and 0 other file(s)"
            ]
          },
          "metadata": {}
        },
        {
          "output_type": "display_data",
          "data": {
            "text/plain": [
              "<IPython.core.display.HTML object>"
            ],
            "text/html": [
              "Find logs at: <code>./wandb/run-20250309_201924-f0yjmylb/logs</code>"
            ]
          },
          "metadata": {}
        },
        {
          "output_type": "stream",
          "name": "stderr",
          "text": [
            "\u001b[34m\u001b[1mwandb\u001b[0m: Agent Starting Run: du3uu4ns with config:\n",
            "\u001b[34m\u001b[1mwandb\u001b[0m: \tactivation: ReLU\n",
            "\u001b[34m\u001b[1mwandb\u001b[0m: \tbatch_size: 16\n",
            "\u001b[34m\u001b[1mwandb\u001b[0m: \tepochs: 5\n",
            "\u001b[34m\u001b[1mwandb\u001b[0m: \thidden_size: 32\n",
            "\u001b[34m\u001b[1mwandb\u001b[0m: \tlearning_rate: 0.0001\n",
            "\u001b[34m\u001b[1mwandb\u001b[0m: \tnum_layers: 4\n",
            "\u001b[34m\u001b[1mwandb\u001b[0m: \toptimizer: adam\n",
            "\u001b[34m\u001b[1mwandb\u001b[0m: \tweight_decay: 0\n",
            "\u001b[34m\u001b[1mwandb\u001b[0m: \tweight_init: Xavier\n"
          ]
        },
        {
          "output_type": "display_data",
          "data": {
            "text/plain": [
              "<IPython.core.display.HTML object>"
            ],
            "text/html": [
              "Tracking run with wandb version 0.19.7"
            ]
          },
          "metadata": {}
        },
        {
          "output_type": "display_data",
          "data": {
            "text/plain": [
              "<IPython.core.display.HTML object>"
            ],
            "text/html": [
              "Run data is saved locally in <code>/content/wandb/run-20250309_202000-du3uu4ns</code>"
            ]
          },
          "metadata": {}
        },
        {
          "output_type": "display_data",
          "data": {
            "text/plain": [
              "<IPython.core.display.HTML object>"
            ],
            "text/html": [
              "Syncing run <strong><a href='https://wandb.ai/arunangshudutta218-iitm/dl_assgn_1_q_4/runs/du3uu4ns' target=\"_blank\">gallant-sweep-59</a></strong> to <a href='https://wandb.ai/arunangshudutta218-iitm/dl_assgn_1_q_4' target=\"_blank\">Weights & Biases</a> (<a href='https://wandb.me/developer-guide' target=\"_blank\">docs</a>)<br>Sweep page: <a href='https://wandb.ai/arunangshudutta218-iitm/dl_assgn_1_q_4/sweeps/sdlyh3ti' target=\"_blank\">https://wandb.ai/arunangshudutta218-iitm/dl_assgn_1_q_4/sweeps/sdlyh3ti</a>"
            ]
          },
          "metadata": {}
        },
        {
          "output_type": "display_data",
          "data": {
            "text/plain": [
              "<IPython.core.display.HTML object>"
            ],
            "text/html": [
              " View project at <a href='https://wandb.ai/arunangshudutta218-iitm/dl_assgn_1_q_4' target=\"_blank\">https://wandb.ai/arunangshudutta218-iitm/dl_assgn_1_q_4</a>"
            ]
          },
          "metadata": {}
        },
        {
          "output_type": "display_data",
          "data": {
            "text/plain": [
              "<IPython.core.display.HTML object>"
            ],
            "text/html": [
              " View sweep at <a href='https://wandb.ai/arunangshudutta218-iitm/dl_assgn_1_q_4/sweeps/sdlyh3ti' target=\"_blank\">https://wandb.ai/arunangshudutta218-iitm/dl_assgn_1_q_4/sweeps/sdlyh3ti</a>"
            ]
          },
          "metadata": {}
        },
        {
          "output_type": "display_data",
          "data": {
            "text/plain": [
              "<IPython.core.display.HTML object>"
            ],
            "text/html": [
              " View run at <a href='https://wandb.ai/arunangshudutta218-iitm/dl_assgn_1_q_4/runs/du3uu4ns' target=\"_blank\">https://wandb.ai/arunangshudutta218-iitm/dl_assgn_1_q_4/runs/du3uu4ns</a>"
            ]
          },
          "metadata": {}
        },
        {
          "output_type": "stream",
          "name": "stdout",
          "text": [
            "2625.0\n"
          ]
        },
        {
          "output_type": "stream",
          "name": "stderr",
          "text": [
            "100%|██████████| 2625/2625 [00:05<00:00, 518.62it/s]\n",
            "100%|██████████| 2625/2625 [00:07<00:00, 368.89it/s]\n",
            "100%|██████████| 2625/2625 [00:04<00:00, 539.86it/s]\n",
            "100%|██████████| 2625/2625 [00:07<00:00, 349.31it/s]\n",
            "100%|██████████| 2625/2625 [00:04<00:00, 526.60it/s]\n"
          ]
        },
        {
          "output_type": "display_data",
          "data": {
            "text/plain": [
              "<IPython.core.display.HTML object>"
            ],
            "text/html": []
          },
          "metadata": {}
        },
        {
          "output_type": "display_data",
          "data": {
            "text/plain": [
              "<IPython.core.display.HTML object>"
            ],
            "text/html": [
              "<br>    <style><br>        .wandb-row {<br>            display: flex;<br>            flex-direction: row;<br>            flex-wrap: wrap;<br>            justify-content: flex-start;<br>            width: 100%;<br>        }<br>        .wandb-col {<br>            display: flex;<br>            flex-direction: column;<br>            flex-basis: 100%;<br>            flex: 1;<br>            padding: 10px;<br>        }<br>    </style><br><div class=\"wandb-row\"><div class=\"wandb-col\"><h3>Run history:</h3><br/><table class=\"wandb\"><tr><td>tr_accuracy</td><td>▁▁▁█▅</td></tr><tr><td>tr_loss</td><td>█▄▃▂▁</td></tr><tr><td>val_accuracy</td><td>▁▁▁██</td></tr><tr><td>val_loss</td><td>█▄▃▂▁</td></tr></table><br/></div><div class=\"wandb-col\"><h3>Run summary:</h3><br/><table class=\"wandb\"><tr><td>tr_accuracy</td><td>93.75</td></tr><tr><td>tr_loss</td><td>0.46831</td></tr><tr><td>val_accuracy</td><td>93.75</td></tr><tr><td>val_loss</td><td>0.48029</td></tr></table><br/></div></div>"
            ]
          },
          "metadata": {}
        },
        {
          "output_type": "display_data",
          "data": {
            "text/plain": [
              "<IPython.core.display.HTML object>"
            ],
            "text/html": [
              " View run <strong style=\"color:#cdcd00\">e_5_hl_4_hs_32_lr_0.0001_opt_adam_bs_16_init_Xavier_ac_ReLU_l2_0</strong> at: <a href='https://wandb.ai/arunangshudutta218-iitm/dl_assgn_1_q_4/runs/du3uu4ns' target=\"_blank\">https://wandb.ai/arunangshudutta218-iitm/dl_assgn_1_q_4/runs/du3uu4ns</a><br> View project at: <a href='https://wandb.ai/arunangshudutta218-iitm/dl_assgn_1_q_4' target=\"_blank\">https://wandb.ai/arunangshudutta218-iitm/dl_assgn_1_q_4</a><br>Synced 5 W&B file(s), 0 media file(s), 0 artifact file(s) and 0 other file(s)"
            ]
          },
          "metadata": {}
        },
        {
          "output_type": "display_data",
          "data": {
            "text/plain": [
              "<IPython.core.display.HTML object>"
            ],
            "text/html": [
              "Find logs at: <code>./wandb/run-20250309_202000-du3uu4ns/logs</code>"
            ]
          },
          "metadata": {}
        },
        {
          "output_type": "stream",
          "name": "stderr",
          "text": [
            "\u001b[34m\u001b[1mwandb\u001b[0m: Sweep Agent: Waiting for job.\n",
            "\u001b[34m\u001b[1mwandb\u001b[0m: Job received.\n",
            "\u001b[34m\u001b[1mwandb\u001b[0m: Agent Starting Run: qgr6z6xp with config:\n",
            "\u001b[34m\u001b[1mwandb\u001b[0m: \tactivation: tanh\n",
            "\u001b[34m\u001b[1mwandb\u001b[0m: \tbatch_size: 64\n",
            "\u001b[34m\u001b[1mwandb\u001b[0m: \tepochs: 10\n",
            "\u001b[34m\u001b[1mwandb\u001b[0m: \thidden_size: 32\n",
            "\u001b[34m\u001b[1mwandb\u001b[0m: \tlearning_rate: 0.0001\n",
            "\u001b[34m\u001b[1mwandb\u001b[0m: \tnum_layers: 3\n",
            "\u001b[34m\u001b[1mwandb\u001b[0m: \toptimizer: momentum\n",
            "\u001b[34m\u001b[1mwandb\u001b[0m: \tweight_decay: 0.5\n",
            "\u001b[34m\u001b[1mwandb\u001b[0m: \tweight_init: random\n"
          ]
        },
        {
          "output_type": "display_data",
          "data": {
            "text/plain": [
              "<IPython.core.display.HTML object>"
            ],
            "text/html": [
              "Tracking run with wandb version 0.19.7"
            ]
          },
          "metadata": {}
        },
        {
          "output_type": "display_data",
          "data": {
            "text/plain": [
              "<IPython.core.display.HTML object>"
            ],
            "text/html": [
              "Run data is saved locally in <code>/content/wandb/run-20250309_202049-qgr6z6xp</code>"
            ]
          },
          "metadata": {}
        },
        {
          "output_type": "display_data",
          "data": {
            "text/plain": [
              "<IPython.core.display.HTML object>"
            ],
            "text/html": [
              "Syncing run <strong><a href='https://wandb.ai/arunangshudutta218-iitm/dl_assgn_1_q_4/runs/qgr6z6xp' target=\"_blank\">mild-sweep-60</a></strong> to <a href='https://wandb.ai/arunangshudutta218-iitm/dl_assgn_1_q_4' target=\"_blank\">Weights & Biases</a> (<a href='https://wandb.me/developer-guide' target=\"_blank\">docs</a>)<br>Sweep page: <a href='https://wandb.ai/arunangshudutta218-iitm/dl_assgn_1_q_4/sweeps/sdlyh3ti' target=\"_blank\">https://wandb.ai/arunangshudutta218-iitm/dl_assgn_1_q_4/sweeps/sdlyh3ti</a>"
            ]
          },
          "metadata": {}
        },
        {
          "output_type": "display_data",
          "data": {
            "text/plain": [
              "<IPython.core.display.HTML object>"
            ],
            "text/html": [
              " View project at <a href='https://wandb.ai/arunangshudutta218-iitm/dl_assgn_1_q_4' target=\"_blank\">https://wandb.ai/arunangshudutta218-iitm/dl_assgn_1_q_4</a>"
            ]
          },
          "metadata": {}
        },
        {
          "output_type": "display_data",
          "data": {
            "text/plain": [
              "<IPython.core.display.HTML object>"
            ],
            "text/html": [
              " View sweep at <a href='https://wandb.ai/arunangshudutta218-iitm/dl_assgn_1_q_4/sweeps/sdlyh3ti' target=\"_blank\">https://wandb.ai/arunangshudutta218-iitm/dl_assgn_1_q_4/sweeps/sdlyh3ti</a>"
            ]
          },
          "metadata": {}
        },
        {
          "output_type": "display_data",
          "data": {
            "text/plain": [
              "<IPython.core.display.HTML object>"
            ],
            "text/html": [
              " View run at <a href='https://wandb.ai/arunangshudutta218-iitm/dl_assgn_1_q_4/runs/qgr6z6xp' target=\"_blank\">https://wandb.ai/arunangshudutta218-iitm/dl_assgn_1_q_4/runs/qgr6z6xp</a>"
            ]
          },
          "metadata": {}
        },
        {
          "output_type": "stream",
          "name": "stdout",
          "text": [
            "656.0\n"
          ]
        },
        {
          "output_type": "stream",
          "name": "stderr",
          "text": [
            "100%|██████████| 656/656 [00:03<00:00, 202.14it/s]\n",
            "100%|██████████| 656/656 [00:01<00:00, 348.84it/s]\n",
            "100%|██████████| 656/656 [00:01<00:00, 376.45it/s]\n",
            "100%|██████████| 656/656 [00:02<00:00, 312.79it/s]\n",
            "100%|██████████| 656/656 [00:01<00:00, 393.89it/s]\n",
            "100%|██████████| 656/656 [00:02<00:00, 225.85it/s]\n",
            "100%|██████████| 656/656 [00:02<00:00, 242.62it/s]\n",
            "100%|██████████| 656/656 [00:01<00:00, 392.29it/s]\n",
            "100%|██████████| 656/656 [00:01<00:00, 387.14it/s]\n",
            "100%|██████████| 656/656 [00:01<00:00, 394.06it/s]\n"
          ]
        },
        {
          "output_type": "display_data",
          "data": {
            "text/plain": [
              "<IPython.core.display.HTML object>"
            ],
            "text/html": []
          },
          "metadata": {}
        },
        {
          "output_type": "display_data",
          "data": {
            "text/plain": [
              "<IPython.core.display.HTML object>"
            ],
            "text/html": [
              "<br>    <style><br>        .wandb-row {<br>            display: flex;<br>            flex-direction: row;<br>            flex-wrap: wrap;<br>            justify-content: flex-start;<br>            width: 100%;<br>        }<br>        .wandb-col {<br>            display: flex;<br>            flex-direction: column;<br>            flex-basis: 100%;<br>            flex: 1;<br>            padding: 10px;<br>        }<br>    </style><br><div class=\"wandb-row\"><div class=\"wandb-col\"><h3>Run history:</h3><br/><table class=\"wandb\"><tr><td>tr_accuracy</td><td>▂▁▂▃▂▄▇▆██</td></tr><tr><td>tr_loss</td><td>█▇▆▅▄▃▃▂▁▁</td></tr><tr><td>val_accuracy</td><td>▁▃▅▅▅▅▇▇█▇</td></tr><tr><td>val_loss</td><td>█▇▆▅▄▃▃▂▁▁</td></tr></table><br/></div><div class=\"wandb-col\"><h3>Run summary:</h3><br/><table class=\"wandb\"><tr><td>tr_accuracy</td><td>20.3125</td></tr><tr><td>tr_loss</td><td>5.54073</td></tr><tr><td>val_accuracy</td><td>20.3125</td></tr><tr><td>val_loss</td><td>5.56008</td></tr></table><br/></div></div>"
            ]
          },
          "metadata": {}
        },
        {
          "output_type": "display_data",
          "data": {
            "text/plain": [
              "<IPython.core.display.HTML object>"
            ],
            "text/html": [
              " View run <strong style=\"color:#cdcd00\">e_10_hl_3_hs_32_lr_0.0001_opt_momentum_bs_64_init_random_ac_tanh_l2_0.5</strong> at: <a href='https://wandb.ai/arunangshudutta218-iitm/dl_assgn_1_q_4/runs/qgr6z6xp' target=\"_blank\">https://wandb.ai/arunangshudutta218-iitm/dl_assgn_1_q_4/runs/qgr6z6xp</a><br> View project at: <a href='https://wandb.ai/arunangshudutta218-iitm/dl_assgn_1_q_4' target=\"_blank\">https://wandb.ai/arunangshudutta218-iitm/dl_assgn_1_q_4</a><br>Synced 5 W&B file(s), 0 media file(s), 0 artifact file(s) and 0 other file(s)"
            ]
          },
          "metadata": {}
        },
        {
          "output_type": "display_data",
          "data": {
            "text/plain": [
              "<IPython.core.display.HTML object>"
            ],
            "text/html": [
              "Find logs at: <code>./wandb/run-20250309_202049-qgr6z6xp/logs</code>"
            ]
          },
          "metadata": {}
        },
        {
          "output_type": "stream",
          "name": "stderr",
          "text": [
            "\u001b[34m\u001b[1mwandb\u001b[0m: Agent Starting Run: 9lneiw27 with config:\n",
            "\u001b[34m\u001b[1mwandb\u001b[0m: \tactivation: sigmoid\n",
            "\u001b[34m\u001b[1mwandb\u001b[0m: \tbatch_size: 32\n",
            "\u001b[34m\u001b[1mwandb\u001b[0m: \tepochs: 10\n",
            "\u001b[34m\u001b[1mwandb\u001b[0m: \thidden_size: 32\n",
            "\u001b[34m\u001b[1mwandb\u001b[0m: \tlearning_rate: 0.001\n",
            "\u001b[34m\u001b[1mwandb\u001b[0m: \tnum_layers: 4\n",
            "\u001b[34m\u001b[1mwandb\u001b[0m: \toptimizer: nag\n",
            "\u001b[34m\u001b[1mwandb\u001b[0m: \tweight_decay: 0.0005\n",
            "\u001b[34m\u001b[1mwandb\u001b[0m: \tweight_init: Xavier\n"
          ]
        },
        {
          "output_type": "display_data",
          "data": {
            "text/plain": [
              "<IPython.core.display.HTML object>"
            ],
            "text/html": [
              "Tracking run with wandb version 0.19.7"
            ]
          },
          "metadata": {}
        },
        {
          "output_type": "display_data",
          "data": {
            "text/plain": [
              "<IPython.core.display.HTML object>"
            ],
            "text/html": [
              "Run data is saved locally in <code>/content/wandb/run-20250309_202125-9lneiw27</code>"
            ]
          },
          "metadata": {}
        },
        {
          "output_type": "display_data",
          "data": {
            "text/plain": [
              "<IPython.core.display.HTML object>"
            ],
            "text/html": [
              "Syncing run <strong><a href='https://wandb.ai/arunangshudutta218-iitm/dl_assgn_1_q_4/runs/9lneiw27' target=\"_blank\">sweepy-sweep-61</a></strong> to <a href='https://wandb.ai/arunangshudutta218-iitm/dl_assgn_1_q_4' target=\"_blank\">Weights & Biases</a> (<a href='https://wandb.me/developer-guide' target=\"_blank\">docs</a>)<br>Sweep page: <a href='https://wandb.ai/arunangshudutta218-iitm/dl_assgn_1_q_4/sweeps/sdlyh3ti' target=\"_blank\">https://wandb.ai/arunangshudutta218-iitm/dl_assgn_1_q_4/sweeps/sdlyh3ti</a>"
            ]
          },
          "metadata": {}
        },
        {
          "output_type": "display_data",
          "data": {
            "text/plain": [
              "<IPython.core.display.HTML object>"
            ],
            "text/html": [
              " View project at <a href='https://wandb.ai/arunangshudutta218-iitm/dl_assgn_1_q_4' target=\"_blank\">https://wandb.ai/arunangshudutta218-iitm/dl_assgn_1_q_4</a>"
            ]
          },
          "metadata": {}
        },
        {
          "output_type": "display_data",
          "data": {
            "text/plain": [
              "<IPython.core.display.HTML object>"
            ],
            "text/html": [
              " View sweep at <a href='https://wandb.ai/arunangshudutta218-iitm/dl_assgn_1_q_4/sweeps/sdlyh3ti' target=\"_blank\">https://wandb.ai/arunangshudutta218-iitm/dl_assgn_1_q_4/sweeps/sdlyh3ti</a>"
            ]
          },
          "metadata": {}
        },
        {
          "output_type": "display_data",
          "data": {
            "text/plain": [
              "<IPython.core.display.HTML object>"
            ],
            "text/html": [
              " View run at <a href='https://wandb.ai/arunangshudutta218-iitm/dl_assgn_1_q_4/runs/9lneiw27' target=\"_blank\">https://wandb.ai/arunangshudutta218-iitm/dl_assgn_1_q_4/runs/9lneiw27</a>"
            ]
          },
          "metadata": {}
        },
        {
          "output_type": "stream",
          "name": "stdout",
          "text": [
            "1312.0\n"
          ]
        },
        {
          "output_type": "stream",
          "name": "stderr",
          "text": [
            "100%|██████████| 1312/1312 [00:02<00:00, 549.33it/s]\n",
            "100%|██████████| 1312/1312 [00:02<00:00, 589.52it/s]\n",
            "100%|██████████| 1312/1312 [00:04<00:00, 307.35it/s]\n",
            "100%|██████████| 1312/1312 [00:02<00:00, 448.35it/s]\n",
            "100%|██████████| 1312/1312 [00:02<00:00, 597.42it/s]\n",
            "100%|██████████| 1312/1312 [00:02<00:00, 591.84it/s]\n",
            "100%|██████████| 1312/1312 [00:02<00:00, 578.50it/s]\n",
            "100%|██████████| 1312/1312 [00:04<00:00, 308.23it/s]\n",
            "100%|██████████| 1312/1312 [00:02<00:00, 508.84it/s]\n",
            "100%|██████████| 1312/1312 [00:02<00:00, 576.58it/s]\n"
          ]
        },
        {
          "output_type": "display_data",
          "data": {
            "text/plain": [
              "<IPython.core.display.HTML object>"
            ],
            "text/html": []
          },
          "metadata": {}
        },
        {
          "output_type": "display_data",
          "data": {
            "text/plain": [
              "<IPython.core.display.HTML object>"
            ],
            "text/html": [
              "<br>    <style><br>        .wandb-row {<br>            display: flex;<br>            flex-direction: row;<br>            flex-wrap: wrap;<br>            justify-content: flex-start;<br>            width: 100%;<br>        }<br>        .wandb-col {<br>            display: flex;<br>            flex-direction: column;<br>            flex-basis: 100%;<br>            flex: 1;<br>            padding: 10px;<br>        }<br>    </style><br><div class=\"wandb-row\"><div class=\"wandb-col\"><h3>Run history:</h3><br/><table class=\"wandb\"><tr><td>tr_accuracy</td><td>▁▂▂▆▇▆▆▇██</td></tr><tr><td>tr_loss</td><td>█▅▄▂▂▂▂▂▁▁</td></tr><tr><td>val_accuracy</td><td>▁▅██▇▅▅▅▇▇</td></tr><tr><td>val_loss</td><td>█▅▄▂▁▁▂▂▁▁</td></tr></table><br/></div><div class=\"wandb-col\"><h3>Run summary:</h3><br/><table class=\"wandb\"><tr><td>tr_accuracy</td><td>90.625</td></tr><tr><td>tr_loss</td><td>0.38838</td></tr><tr><td>val_accuracy</td><td>90.625</td></tr><tr><td>val_loss</td><td>0.43763</td></tr></table><br/></div></div>"
            ]
          },
          "metadata": {}
        },
        {
          "output_type": "display_data",
          "data": {
            "text/plain": [
              "<IPython.core.display.HTML object>"
            ],
            "text/html": [
              " View run <strong style=\"color:#cdcd00\">e_10_hl_4_hs_32_lr_0.001_opt_nag_bs_32_init_Xavier_ac_sigmoid_l2_0.0005</strong> at: <a href='https://wandb.ai/arunangshudutta218-iitm/dl_assgn_1_q_4/runs/9lneiw27' target=\"_blank\">https://wandb.ai/arunangshudutta218-iitm/dl_assgn_1_q_4/runs/9lneiw27</a><br> View project at: <a href='https://wandb.ai/arunangshudutta218-iitm/dl_assgn_1_q_4' target=\"_blank\">https://wandb.ai/arunangshudutta218-iitm/dl_assgn_1_q_4</a><br>Synced 5 W&B file(s), 0 media file(s), 0 artifact file(s) and 0 other file(s)"
            ]
          },
          "metadata": {}
        },
        {
          "output_type": "display_data",
          "data": {
            "text/plain": [
              "<IPython.core.display.HTML object>"
            ],
            "text/html": [
              "Find logs at: <code>./wandb/run-20250309_202125-9lneiw27/logs</code>"
            ]
          },
          "metadata": {}
        },
        {
          "output_type": "stream",
          "name": "stderr",
          "text": [
            "\u001b[34m\u001b[1mwandb\u001b[0m: Agent Starting Run: yaejbaer with config:\n",
            "\u001b[34m\u001b[1mwandb\u001b[0m: \tactivation: tanh\n",
            "\u001b[34m\u001b[1mwandb\u001b[0m: \tbatch_size: 32\n",
            "\u001b[34m\u001b[1mwandb\u001b[0m: \tepochs: 10\n",
            "\u001b[34m\u001b[1mwandb\u001b[0m: \thidden_size: 64\n",
            "\u001b[34m\u001b[1mwandb\u001b[0m: \tlearning_rate: 0.001\n",
            "\u001b[34m\u001b[1mwandb\u001b[0m: \tnum_layers: 3\n",
            "\u001b[34m\u001b[1mwandb\u001b[0m: \toptimizer: nag\n",
            "\u001b[34m\u001b[1mwandb\u001b[0m: \tweight_decay: 0.5\n",
            "\u001b[34m\u001b[1mwandb\u001b[0m: \tweight_init: random\n"
          ]
        },
        {
          "output_type": "display_data",
          "data": {
            "text/plain": [
              "<IPython.core.display.HTML object>"
            ],
            "text/html": [
              "Tracking run with wandb version 0.19.7"
            ]
          },
          "metadata": {}
        },
        {
          "output_type": "display_data",
          "data": {
            "text/plain": [
              "<IPython.core.display.HTML object>"
            ],
            "text/html": [
              "Run data is saved locally in <code>/content/wandb/run-20250309_202206-yaejbaer</code>"
            ]
          },
          "metadata": {}
        },
        {
          "output_type": "display_data",
          "data": {
            "text/plain": [
              "<IPython.core.display.HTML object>"
            ],
            "text/html": [
              "Syncing run <strong><a href='https://wandb.ai/arunangshudutta218-iitm/dl_assgn_1_q_4/runs/yaejbaer' target=\"_blank\">eager-sweep-62</a></strong> to <a href='https://wandb.ai/arunangshudutta218-iitm/dl_assgn_1_q_4' target=\"_blank\">Weights & Biases</a> (<a href='https://wandb.me/developer-guide' target=\"_blank\">docs</a>)<br>Sweep page: <a href='https://wandb.ai/arunangshudutta218-iitm/dl_assgn_1_q_4/sweeps/sdlyh3ti' target=\"_blank\">https://wandb.ai/arunangshudutta218-iitm/dl_assgn_1_q_4/sweeps/sdlyh3ti</a>"
            ]
          },
          "metadata": {}
        },
        {
          "output_type": "display_data",
          "data": {
            "text/plain": [
              "<IPython.core.display.HTML object>"
            ],
            "text/html": [
              " View project at <a href='https://wandb.ai/arunangshudutta218-iitm/dl_assgn_1_q_4' target=\"_blank\">https://wandb.ai/arunangshudutta218-iitm/dl_assgn_1_q_4</a>"
            ]
          },
          "metadata": {}
        },
        {
          "output_type": "display_data",
          "data": {
            "text/plain": [
              "<IPython.core.display.HTML object>"
            ],
            "text/html": [
              " View sweep at <a href='https://wandb.ai/arunangshudutta218-iitm/dl_assgn_1_q_4/sweeps/sdlyh3ti' target=\"_blank\">https://wandb.ai/arunangshudutta218-iitm/dl_assgn_1_q_4/sweeps/sdlyh3ti</a>"
            ]
          },
          "metadata": {}
        },
        {
          "output_type": "display_data",
          "data": {
            "text/plain": [
              "<IPython.core.display.HTML object>"
            ],
            "text/html": [
              " View run at <a href='https://wandb.ai/arunangshudutta218-iitm/dl_assgn_1_q_4/runs/yaejbaer' target=\"_blank\">https://wandb.ai/arunangshudutta218-iitm/dl_assgn_1_q_4/runs/yaejbaer</a>"
            ]
          },
          "metadata": {}
        },
        {
          "output_type": "stream",
          "name": "stdout",
          "text": [
            "1312.0\n"
          ]
        },
        {
          "output_type": "stream",
          "name": "stderr",
          "text": [
            "100%|██████████| 1312/1312 [00:04<00:00, 315.26it/s]\n",
            "100%|██████████| 1312/1312 [00:04<00:00, 295.19it/s]\n",
            "100%|██████████| 1312/1312 [00:05<00:00, 248.59it/s]\n",
            "100%|██████████| 1312/1312 [00:04<00:00, 308.48it/s]\n",
            "100%|██████████| 1312/1312 [00:07<00:00, 171.94it/s]\n",
            "100%|██████████| 1312/1312 [00:04<00:00, 305.24it/s]\n",
            "100%|██████████| 1312/1312 [00:05<00:00, 247.37it/s]\n",
            "100%|██████████| 1312/1312 [00:05<00:00, 250.28it/s]\n",
            "100%|██████████| 1312/1312 [00:04<00:00, 308.11it/s]\n",
            "100%|██████████| 1312/1312 [00:07<00:00, 187.33it/s]\n"
          ]
        },
        {
          "output_type": "display_data",
          "data": {
            "text/plain": [
              "<IPython.core.display.HTML object>"
            ],
            "text/html": []
          },
          "metadata": {}
        },
        {
          "output_type": "display_data",
          "data": {
            "text/plain": [
              "<IPython.core.display.HTML object>"
            ],
            "text/html": [
              "<br>    <style><br>        .wandb-row {<br>            display: flex;<br>            flex-direction: row;<br>            flex-wrap: wrap;<br>            justify-content: flex-start;<br>            width: 100%;<br>        }<br>        .wandb-col {<br>            display: flex;<br>            flex-direction: column;<br>            flex-basis: 100%;<br>            flex: 1;<br>            padding: 10px;<br>        }<br>    </style><br><div class=\"wandb-row\"><div class=\"wandb-col\"><h3>Run history:</h3><br/><table class=\"wandb\"><tr><td>tr_accuracy</td><td>▂▇▅█▂▂▃▂▄▁</td></tr><tr><td>tr_loss</td><td>▆▁▄▂█▃▅▅▃▇</td></tr><tr><td>val_accuracy</td><td>▄█▇▆▄▄▁▄▆▇</td></tr><tr><td>val_loss</td><td>▆▁▄▂█▃▅▅▃▇</td></tr></table><br/></div><div class=\"wandb-col\"><h3>Run summary:</h3><br/><table class=\"wandb\"><tr><td>tr_accuracy</td><td>3.125</td></tr><tr><td>tr_loss</td><td>16.14733</td></tr><tr><td>val_accuracy</td><td>25</td></tr><tr><td>val_loss</td><td>16.14707</td></tr></table><br/></div></div>"
            ]
          },
          "metadata": {}
        },
        {
          "output_type": "display_data",
          "data": {
            "text/plain": [
              "<IPython.core.display.HTML object>"
            ],
            "text/html": [
              " View run <strong style=\"color:#cdcd00\">e_10_hl_3_hs_64_lr_0.001_opt_nag_bs_32_init_random_ac_tanh_l2_0.5</strong> at: <a href='https://wandb.ai/arunangshudutta218-iitm/dl_assgn_1_q_4/runs/yaejbaer' target=\"_blank\">https://wandb.ai/arunangshudutta218-iitm/dl_assgn_1_q_4/runs/yaejbaer</a><br> View project at: <a href='https://wandb.ai/arunangshudutta218-iitm/dl_assgn_1_q_4' target=\"_blank\">https://wandb.ai/arunangshudutta218-iitm/dl_assgn_1_q_4</a><br>Synced 5 W&B file(s), 0 media file(s), 0 artifact file(s) and 0 other file(s)"
            ]
          },
          "metadata": {}
        },
        {
          "output_type": "display_data",
          "data": {
            "text/plain": [
              "<IPython.core.display.HTML object>"
            ],
            "text/html": [
              "Find logs at: <code>./wandb/run-20250309_202206-yaejbaer/logs</code>"
            ]
          },
          "metadata": {}
        },
        {
          "output_type": "stream",
          "name": "stderr",
          "text": [
            "\u001b[34m\u001b[1mwandb\u001b[0m: Agent Starting Run: c14dd1sj with config:\n",
            "\u001b[34m\u001b[1mwandb\u001b[0m: \tactivation: tanh\n",
            "\u001b[34m\u001b[1mwandb\u001b[0m: \tbatch_size: 32\n",
            "\u001b[34m\u001b[1mwandb\u001b[0m: \tepochs: 5\n",
            "\u001b[34m\u001b[1mwandb\u001b[0m: \thidden_size: 32\n",
            "\u001b[34m\u001b[1mwandb\u001b[0m: \tlearning_rate: 0.001\n",
            "\u001b[34m\u001b[1mwandb\u001b[0m: \tnum_layers: 5\n",
            "\u001b[34m\u001b[1mwandb\u001b[0m: \toptimizer: nadam\n",
            "\u001b[34m\u001b[1mwandb\u001b[0m: \tweight_decay: 0.0005\n",
            "\u001b[34m\u001b[1mwandb\u001b[0m: \tweight_init: random\n"
          ]
        },
        {
          "output_type": "display_data",
          "data": {
            "text/plain": [
              "<IPython.core.display.HTML object>"
            ],
            "text/html": [
              "Tracking run with wandb version 0.19.7"
            ]
          },
          "metadata": {}
        },
        {
          "output_type": "display_data",
          "data": {
            "text/plain": [
              "<IPython.core.display.HTML object>"
            ],
            "text/html": [
              "Run data is saved locally in <code>/content/wandb/run-20250309_202317-c14dd1sj</code>"
            ]
          },
          "metadata": {}
        },
        {
          "output_type": "display_data",
          "data": {
            "text/plain": [
              "<IPython.core.display.HTML object>"
            ],
            "text/html": [
              "Syncing run <strong><a href='https://wandb.ai/arunangshudutta218-iitm/dl_assgn_1_q_4/runs/c14dd1sj' target=\"_blank\">jumping-sweep-63</a></strong> to <a href='https://wandb.ai/arunangshudutta218-iitm/dl_assgn_1_q_4' target=\"_blank\">Weights & Biases</a> (<a href='https://wandb.me/developer-guide' target=\"_blank\">docs</a>)<br>Sweep page: <a href='https://wandb.ai/arunangshudutta218-iitm/dl_assgn_1_q_4/sweeps/sdlyh3ti' target=\"_blank\">https://wandb.ai/arunangshudutta218-iitm/dl_assgn_1_q_4/sweeps/sdlyh3ti</a>"
            ]
          },
          "metadata": {}
        },
        {
          "output_type": "display_data",
          "data": {
            "text/plain": [
              "<IPython.core.display.HTML object>"
            ],
            "text/html": [
              " View project at <a href='https://wandb.ai/arunangshudutta218-iitm/dl_assgn_1_q_4' target=\"_blank\">https://wandb.ai/arunangshudutta218-iitm/dl_assgn_1_q_4</a>"
            ]
          },
          "metadata": {}
        },
        {
          "output_type": "display_data",
          "data": {
            "text/plain": [
              "<IPython.core.display.HTML object>"
            ],
            "text/html": [
              " View sweep at <a href='https://wandb.ai/arunangshudutta218-iitm/dl_assgn_1_q_4/sweeps/sdlyh3ti' target=\"_blank\">https://wandb.ai/arunangshudutta218-iitm/dl_assgn_1_q_4/sweeps/sdlyh3ti</a>"
            ]
          },
          "metadata": {}
        },
        {
          "output_type": "display_data",
          "data": {
            "text/plain": [
              "<IPython.core.display.HTML object>"
            ],
            "text/html": [
              " View run at <a href='https://wandb.ai/arunangshudutta218-iitm/dl_assgn_1_q_4/runs/c14dd1sj' target=\"_blank\">https://wandb.ai/arunangshudutta218-iitm/dl_assgn_1_q_4/runs/c14dd1sj</a>"
            ]
          },
          "metadata": {}
        },
        {
          "output_type": "stream",
          "name": "stdout",
          "text": [
            "1312.0\n"
          ]
        },
        {
          "output_type": "stream",
          "name": "stderr",
          "text": [
            "100%|██████████| 1312/1312 [00:07<00:00, 176.31it/s]\n",
            "100%|██████████| 1312/1312 [00:04<00:00, 294.43it/s]\n",
            "100%|██████████| 1312/1312 [00:06<00:00, 201.98it/s]\n",
            "100%|██████████| 1312/1312 [00:04<00:00, 304.40it/s]\n",
            "100%|██████████| 1312/1312 [00:04<00:00, 291.86it/s]\n"
          ]
        },
        {
          "output_type": "display_data",
          "data": {
            "text/plain": [
              "<IPython.core.display.HTML object>"
            ],
            "text/html": []
          },
          "metadata": {}
        },
        {
          "output_type": "display_data",
          "data": {
            "text/plain": [
              "<IPython.core.display.HTML object>"
            ],
            "text/html": [
              "<br>    <style><br>        .wandb-row {<br>            display: flex;<br>            flex-direction: row;<br>            flex-wrap: wrap;<br>            justify-content: flex-start;<br>            width: 100%;<br>        }<br>        .wandb-col {<br>            display: flex;<br>            flex-direction: column;<br>            flex-basis: 100%;<br>            flex: 1;<br>            padding: 10px;<br>        }<br>    </style><br><div class=\"wandb-row\"><div class=\"wandb-col\"><h3>Run history:</h3><br/><table class=\"wandb\"><tr><td>tr_accuracy</td><td>▄▁▆▄█</td></tr><tr><td>tr_loss</td><td>█▄▂▂▁</td></tr><tr><td>val_accuracy</td><td>▃▁▅█▆</td></tr><tr><td>val_loss</td><td>█▄▃▂▁</td></tr></table><br/></div><div class=\"wandb-col\"><h3>Run summary:</h3><br/><table class=\"wandb\"><tr><td>tr_accuracy</td><td>84.375</td></tr><tr><td>tr_loss</td><td>0.86039</td></tr><tr><td>val_accuracy</td><td>68.75</td></tr><tr><td>val_loss</td><td>0.8761</td></tr></table><br/></div></div>"
            ]
          },
          "metadata": {}
        },
        {
          "output_type": "display_data",
          "data": {
            "text/plain": [
              "<IPython.core.display.HTML object>"
            ],
            "text/html": [
              " View run <strong style=\"color:#cdcd00\">e_5_hl_5_hs_32_lr_0.001_opt_nadam_bs_32_init_random_ac_tanh_l2_0.0005</strong> at: <a href='https://wandb.ai/arunangshudutta218-iitm/dl_assgn_1_q_4/runs/c14dd1sj' target=\"_blank\">https://wandb.ai/arunangshudutta218-iitm/dl_assgn_1_q_4/runs/c14dd1sj</a><br> View project at: <a href='https://wandb.ai/arunangshudutta218-iitm/dl_assgn_1_q_4' target=\"_blank\">https://wandb.ai/arunangshudutta218-iitm/dl_assgn_1_q_4</a><br>Synced 5 W&B file(s), 0 media file(s), 0 artifact file(s) and 0 other file(s)"
            ]
          },
          "metadata": {}
        },
        {
          "output_type": "display_data",
          "data": {
            "text/plain": [
              "<IPython.core.display.HTML object>"
            ],
            "text/html": [
              "Find logs at: <code>./wandb/run-20250309_202317-c14dd1sj/logs</code>"
            ]
          },
          "metadata": {}
        },
        {
          "output_type": "stream",
          "name": "stderr",
          "text": [
            "\u001b[34m\u001b[1mwandb\u001b[0m: Agent Starting Run: 1tv6hssn with config:\n",
            "\u001b[34m\u001b[1mwandb\u001b[0m: \tactivation: ReLU\n",
            "\u001b[34m\u001b[1mwandb\u001b[0m: \tbatch_size: 32\n",
            "\u001b[34m\u001b[1mwandb\u001b[0m: \tepochs: 10\n",
            "\u001b[34m\u001b[1mwandb\u001b[0m: \thidden_size: 32\n",
            "\u001b[34m\u001b[1mwandb\u001b[0m: \tlearning_rate: 0.001\n",
            "\u001b[34m\u001b[1mwandb\u001b[0m: \tnum_layers: 3\n",
            "\u001b[34m\u001b[1mwandb\u001b[0m: \toptimizer: rmsprop\n",
            "\u001b[34m\u001b[1mwandb\u001b[0m: \tweight_decay: 0.0005\n",
            "\u001b[34m\u001b[1mwandb\u001b[0m: \tweight_init: Xavier\n"
          ]
        },
        {
          "output_type": "display_data",
          "data": {
            "text/plain": [
              "<IPython.core.display.HTML object>"
            ],
            "text/html": [
              "Tracking run with wandb version 0.19.7"
            ]
          },
          "metadata": {}
        },
        {
          "output_type": "display_data",
          "data": {
            "text/plain": [
              "<IPython.core.display.HTML object>"
            ],
            "text/html": [
              "Run data is saved locally in <code>/content/wandb/run-20250309_202358-1tv6hssn</code>"
            ]
          },
          "metadata": {}
        },
        {
          "output_type": "display_data",
          "data": {
            "text/plain": [
              "<IPython.core.display.HTML object>"
            ],
            "text/html": [
              "Syncing run <strong><a href='https://wandb.ai/arunangshudutta218-iitm/dl_assgn_1_q_4/runs/1tv6hssn' target=\"_blank\">dulcet-sweep-64</a></strong> to <a href='https://wandb.ai/arunangshudutta218-iitm/dl_assgn_1_q_4' target=\"_blank\">Weights & Biases</a> (<a href='https://wandb.me/developer-guide' target=\"_blank\">docs</a>)<br>Sweep page: <a href='https://wandb.ai/arunangshudutta218-iitm/dl_assgn_1_q_4/sweeps/sdlyh3ti' target=\"_blank\">https://wandb.ai/arunangshudutta218-iitm/dl_assgn_1_q_4/sweeps/sdlyh3ti</a>"
            ]
          },
          "metadata": {}
        },
        {
          "output_type": "display_data",
          "data": {
            "text/plain": [
              "<IPython.core.display.HTML object>"
            ],
            "text/html": [
              " View project at <a href='https://wandb.ai/arunangshudutta218-iitm/dl_assgn_1_q_4' target=\"_blank\">https://wandb.ai/arunangshudutta218-iitm/dl_assgn_1_q_4</a>"
            ]
          },
          "metadata": {}
        },
        {
          "output_type": "display_data",
          "data": {
            "text/plain": [
              "<IPython.core.display.HTML object>"
            ],
            "text/html": [
              " View sweep at <a href='https://wandb.ai/arunangshudutta218-iitm/dl_assgn_1_q_4/sweeps/sdlyh3ti' target=\"_blank\">https://wandb.ai/arunangshudutta218-iitm/dl_assgn_1_q_4/sweeps/sdlyh3ti</a>"
            ]
          },
          "metadata": {}
        },
        {
          "output_type": "display_data",
          "data": {
            "text/plain": [
              "<IPython.core.display.HTML object>"
            ],
            "text/html": [
              " View run at <a href='https://wandb.ai/arunangshudutta218-iitm/dl_assgn_1_q_4/runs/1tv6hssn' target=\"_blank\">https://wandb.ai/arunangshudutta218-iitm/dl_assgn_1_q_4/runs/1tv6hssn</a>"
            ]
          },
          "metadata": {}
        },
        {
          "output_type": "stream",
          "name": "stdout",
          "text": [
            "1312.0\n"
          ]
        },
        {
          "output_type": "stream",
          "name": "stderr",
          "text": [
            "100%|██████████| 1312/1312 [00:01<00:00, 688.68it/s]\n",
            "100%|██████████| 1312/1312 [00:03<00:00, 432.83it/s]\n",
            "100%|██████████| 1312/1312 [00:04<00:00, 280.98it/s]\n",
            "100%|██████████| 1312/1312 [00:02<00:00, 500.12it/s]\n",
            "100%|██████████| 1312/1312 [00:02<00:00, 520.53it/s]\n",
            "100%|██████████| 1312/1312 [00:02<00:00, 511.50it/s]\n",
            "100%|██████████| 1312/1312 [00:04<00:00, 270.79it/s]\n",
            "100%|██████████| 1312/1312 [00:02<00:00, 518.36it/s]\n",
            "100%|██████████| 1312/1312 [00:02<00:00, 534.40it/s]\n",
            "100%|██████████| 1312/1312 [00:02<00:00, 547.78it/s]\n"
          ]
        },
        {
          "output_type": "display_data",
          "data": {
            "text/plain": [
              "<IPython.core.display.HTML object>"
            ],
            "text/html": []
          },
          "metadata": {}
        },
        {
          "output_type": "display_data",
          "data": {
            "text/plain": [
              "<IPython.core.display.HTML object>"
            ],
            "text/html": [
              "<br>    <style><br>        .wandb-row {<br>            display: flex;<br>            flex-direction: row;<br>            flex-wrap: wrap;<br>            justify-content: flex-start;<br>            width: 100%;<br>        }<br>        .wandb-col {<br>            display: flex;<br>            flex-direction: column;<br>            flex-basis: 100%;<br>            flex: 1;<br>            padding: 10px;<br>        }<br>    </style><br><div class=\"wandb-row\"><div class=\"wandb-col\"><h3>Run history:</h3><br/><table class=\"wandb\"><tr><td>tr_accuracy</td><td>▅▅▄▅▇▁▅▄██</td></tr><tr><td>tr_loss</td><td>█▅▄▁▁▄▁▃▁▂</td></tr><tr><td>val_accuracy</td><td>▁▁▃▆▃▆▁▆█▃</td></tr><tr><td>val_loss</td><td>█▅▅▁▂▆▃▆▅▇</td></tr></table><br/></div><div class=\"wandb-col\"><h3>Run summary:</h3><br/><table class=\"wandb\"><tr><td>tr_accuracy</td><td>90.625</td></tr><tr><td>tr_loss</td><td>0.43559</td></tr><tr><td>val_accuracy</td><td>90.625</td></tr><tr><td>val_loss</td><td>0.50172</td></tr></table><br/></div></div>"
            ]
          },
          "metadata": {}
        },
        {
          "output_type": "display_data",
          "data": {
            "text/plain": [
              "<IPython.core.display.HTML object>"
            ],
            "text/html": [
              " View run <strong style=\"color:#cdcd00\">e_10_hl_3_hs_32_lr_0.001_opt_rmsprop_bs_32_init_Xavier_ac_ReLU_l2_0.0005</strong> at: <a href='https://wandb.ai/arunangshudutta218-iitm/dl_assgn_1_q_4/runs/1tv6hssn' target=\"_blank\">https://wandb.ai/arunangshudutta218-iitm/dl_assgn_1_q_4/runs/1tv6hssn</a><br> View project at: <a href='https://wandb.ai/arunangshudutta218-iitm/dl_assgn_1_q_4' target=\"_blank\">https://wandb.ai/arunangshudutta218-iitm/dl_assgn_1_q_4</a><br>Synced 5 W&B file(s), 0 media file(s), 0 artifact file(s) and 0 other file(s)"
            ]
          },
          "metadata": {}
        },
        {
          "output_type": "display_data",
          "data": {
            "text/plain": [
              "<IPython.core.display.HTML object>"
            ],
            "text/html": [
              "Find logs at: <code>./wandb/run-20250309_202358-1tv6hssn/logs</code>"
            ]
          },
          "metadata": {}
        },
        {
          "output_type": "stream",
          "name": "stderr",
          "text": [
            "\u001b[34m\u001b[1mwandb\u001b[0m: Agent Starting Run: ebpkj15c with config:\n",
            "\u001b[34m\u001b[1mwandb\u001b[0m: \tactivation: ReLU\n",
            "\u001b[34m\u001b[1mwandb\u001b[0m: \tbatch_size: 32\n",
            "\u001b[34m\u001b[1mwandb\u001b[0m: \tepochs: 5\n",
            "\u001b[34m\u001b[1mwandb\u001b[0m: \thidden_size: 64\n",
            "\u001b[34m\u001b[1mwandb\u001b[0m: \tlearning_rate: 0.0001\n",
            "\u001b[34m\u001b[1mwandb\u001b[0m: \tnum_layers: 5\n",
            "\u001b[34m\u001b[1mwandb\u001b[0m: \toptimizer: nag\n",
            "\u001b[34m\u001b[1mwandb\u001b[0m: \tweight_decay: 0.0005\n",
            "\u001b[34m\u001b[1mwandb\u001b[0m: \tweight_init: Xavier\n"
          ]
        },
        {
          "output_type": "display_data",
          "data": {
            "text/plain": [
              "<IPython.core.display.HTML object>"
            ],
            "text/html": [
              "Tracking run with wandb version 0.19.7"
            ]
          },
          "metadata": {}
        },
        {
          "output_type": "display_data",
          "data": {
            "text/plain": [
              "<IPython.core.display.HTML object>"
            ],
            "text/html": [
              "Run data is saved locally in <code>/content/wandb/run-20250309_202439-ebpkj15c</code>"
            ]
          },
          "metadata": {}
        },
        {
          "output_type": "display_data",
          "data": {
            "text/plain": [
              "<IPython.core.display.HTML object>"
            ],
            "text/html": [
              "Syncing run <strong><a href='https://wandb.ai/arunangshudutta218-iitm/dl_assgn_1_q_4/runs/ebpkj15c' target=\"_blank\">bright-sweep-65</a></strong> to <a href='https://wandb.ai/arunangshudutta218-iitm/dl_assgn_1_q_4' target=\"_blank\">Weights & Biases</a> (<a href='https://wandb.me/developer-guide' target=\"_blank\">docs</a>)<br>Sweep page: <a href='https://wandb.ai/arunangshudutta218-iitm/dl_assgn_1_q_4/sweeps/sdlyh3ti' target=\"_blank\">https://wandb.ai/arunangshudutta218-iitm/dl_assgn_1_q_4/sweeps/sdlyh3ti</a>"
            ]
          },
          "metadata": {}
        },
        {
          "output_type": "display_data",
          "data": {
            "text/plain": [
              "<IPython.core.display.HTML object>"
            ],
            "text/html": [
              " View project at <a href='https://wandb.ai/arunangshudutta218-iitm/dl_assgn_1_q_4' target=\"_blank\">https://wandb.ai/arunangshudutta218-iitm/dl_assgn_1_q_4</a>"
            ]
          },
          "metadata": {}
        },
        {
          "output_type": "display_data",
          "data": {
            "text/plain": [
              "<IPython.core.display.HTML object>"
            ],
            "text/html": [
              " View sweep at <a href='https://wandb.ai/arunangshudutta218-iitm/dl_assgn_1_q_4/sweeps/sdlyh3ti' target=\"_blank\">https://wandb.ai/arunangshudutta218-iitm/dl_assgn_1_q_4/sweeps/sdlyh3ti</a>"
            ]
          },
          "metadata": {}
        },
        {
          "output_type": "display_data",
          "data": {
            "text/plain": [
              "<IPython.core.display.HTML object>"
            ],
            "text/html": [
              " View run at <a href='https://wandb.ai/arunangshudutta218-iitm/dl_assgn_1_q_4/runs/ebpkj15c' target=\"_blank\">https://wandb.ai/arunangshudutta218-iitm/dl_assgn_1_q_4/runs/ebpkj15c</a>"
            ]
          },
          "metadata": {}
        },
        {
          "output_type": "stream",
          "name": "stdout",
          "text": [
            "1312.0\n"
          ]
        },
        {
          "output_type": "stream",
          "name": "stderr",
          "text": [
            "100%|██████████| 1312/1312 [00:03<00:00, 371.10it/s]\n",
            "100%|██████████| 1312/1312 [00:03<00:00, 388.09it/s]\n",
            "100%|██████████| 1312/1312 [00:05<00:00, 219.53it/s]\n",
            "100%|██████████| 1312/1312 [00:03<00:00, 383.62it/s]\n",
            "100%|██████████| 1312/1312 [00:03<00:00, 382.54it/s]\n"
          ]
        },
        {
          "output_type": "display_data",
          "data": {
            "text/plain": [
              "<IPython.core.display.HTML object>"
            ],
            "text/html": []
          },
          "metadata": {}
        },
        {
          "output_type": "display_data",
          "data": {
            "text/plain": [
              "<IPython.core.display.HTML object>"
            ],
            "text/html": [
              "<br>    <style><br>        .wandb-row {<br>            display: flex;<br>            flex-direction: row;<br>            flex-wrap: wrap;<br>            justify-content: flex-start;<br>            width: 100%;<br>        }<br>        .wandb-col {<br>            display: flex;<br>            flex-direction: column;<br>            flex-basis: 100%;<br>            flex: 1;<br>            padding: 10px;<br>        }<br>    </style><br><div class=\"wandb-row\"><div class=\"wandb-col\"><h3>Run history:</h3><br/><table class=\"wandb\"><tr><td>tr_accuracy</td><td>▁▁▁▁▁</td></tr><tr><td>val_accuracy</td><td>▁▁▁▁▁</td></tr></table><br/></div><div class=\"wandb-col\"><h3>Run summary:</h3><br/><table class=\"wandb\"><tr><td>tr_accuracy</td><td>15.625</td></tr><tr><td>tr_loss</td><td>nan</td></tr><tr><td>val_accuracy</td><td>6.25</td></tr><tr><td>val_loss</td><td>nan</td></tr></table><br/></div></div>"
            ]
          },
          "metadata": {}
        },
        {
          "output_type": "display_data",
          "data": {
            "text/plain": [
              "<IPython.core.display.HTML object>"
            ],
            "text/html": [
              " View run <strong style=\"color:#cdcd00\">e_5_hl_5_hs_64_lr_0.0001_opt_nag_bs_32_init_Xavier_ac_ReLU_l2_0.0005</strong> at: <a href='https://wandb.ai/arunangshudutta218-iitm/dl_assgn_1_q_4/runs/ebpkj15c' target=\"_blank\">https://wandb.ai/arunangshudutta218-iitm/dl_assgn_1_q_4/runs/ebpkj15c</a><br> View project at: <a href='https://wandb.ai/arunangshudutta218-iitm/dl_assgn_1_q_4' target=\"_blank\">https://wandb.ai/arunangshudutta218-iitm/dl_assgn_1_q_4</a><br>Synced 5 W&B file(s), 0 media file(s), 0 artifact file(s) and 0 other file(s)"
            ]
          },
          "metadata": {}
        },
        {
          "output_type": "display_data",
          "data": {
            "text/plain": [
              "<IPython.core.display.HTML object>"
            ],
            "text/html": [
              "Find logs at: <code>./wandb/run-20250309_202439-ebpkj15c/logs</code>"
            ]
          },
          "metadata": {}
        },
        {
          "output_type": "stream",
          "name": "stderr",
          "text": [
            "\u001b[34m\u001b[1mwandb\u001b[0m: Agent Starting Run: m228mxih with config:\n",
            "\u001b[34m\u001b[1mwandb\u001b[0m: \tactivation: tanh\n",
            "\u001b[34m\u001b[1mwandb\u001b[0m: \tbatch_size: 32\n",
            "\u001b[34m\u001b[1mwandb\u001b[0m: \tepochs: 10\n",
            "\u001b[34m\u001b[1mwandb\u001b[0m: \thidden_size: 64\n",
            "\u001b[34m\u001b[1mwandb\u001b[0m: \tlearning_rate: 0.001\n",
            "\u001b[34m\u001b[1mwandb\u001b[0m: \tnum_layers: 4\n",
            "\u001b[34m\u001b[1mwandb\u001b[0m: \toptimizer: momentum\n",
            "\u001b[34m\u001b[1mwandb\u001b[0m: \tweight_decay: 0.5\n",
            "\u001b[34m\u001b[1mwandb\u001b[0m: \tweight_init: Xavier\n"
          ]
        },
        {
          "output_type": "display_data",
          "data": {
            "text/plain": [
              "<IPython.core.display.HTML object>"
            ],
            "text/html": [
              "Tracking run with wandb version 0.19.7"
            ]
          },
          "metadata": {}
        },
        {
          "output_type": "display_data",
          "data": {
            "text/plain": [
              "<IPython.core.display.HTML object>"
            ],
            "text/html": [
              "Run data is saved locally in <code>/content/wandb/run-20250309_202510-m228mxih</code>"
            ]
          },
          "metadata": {}
        },
        {
          "output_type": "display_data",
          "data": {
            "text/plain": [
              "<IPython.core.display.HTML object>"
            ],
            "text/html": [
              "Syncing run <strong><a href='https://wandb.ai/arunangshudutta218-iitm/dl_assgn_1_q_4/runs/m228mxih' target=\"_blank\">playful-sweep-66</a></strong> to <a href='https://wandb.ai/arunangshudutta218-iitm/dl_assgn_1_q_4' target=\"_blank\">Weights & Biases</a> (<a href='https://wandb.me/developer-guide' target=\"_blank\">docs</a>)<br>Sweep page: <a href='https://wandb.ai/arunangshudutta218-iitm/dl_assgn_1_q_4/sweeps/sdlyh3ti' target=\"_blank\">https://wandb.ai/arunangshudutta218-iitm/dl_assgn_1_q_4/sweeps/sdlyh3ti</a>"
            ]
          },
          "metadata": {}
        },
        {
          "output_type": "display_data",
          "data": {
            "text/plain": [
              "<IPython.core.display.HTML object>"
            ],
            "text/html": [
              " View project at <a href='https://wandb.ai/arunangshudutta218-iitm/dl_assgn_1_q_4' target=\"_blank\">https://wandb.ai/arunangshudutta218-iitm/dl_assgn_1_q_4</a>"
            ]
          },
          "metadata": {}
        },
        {
          "output_type": "display_data",
          "data": {
            "text/plain": [
              "<IPython.core.display.HTML object>"
            ],
            "text/html": [
              " View sweep at <a href='https://wandb.ai/arunangshudutta218-iitm/dl_assgn_1_q_4/sweeps/sdlyh3ti' target=\"_blank\">https://wandb.ai/arunangshudutta218-iitm/dl_assgn_1_q_4/sweeps/sdlyh3ti</a>"
            ]
          },
          "metadata": {}
        },
        {
          "output_type": "display_data",
          "data": {
            "text/plain": [
              "<IPython.core.display.HTML object>"
            ],
            "text/html": [
              " View run at <a href='https://wandb.ai/arunangshudutta218-iitm/dl_assgn_1_q_4/runs/m228mxih' target=\"_blank\">https://wandb.ai/arunangshudutta218-iitm/dl_assgn_1_q_4/runs/m228mxih</a>"
            ]
          },
          "metadata": {}
        },
        {
          "output_type": "stream",
          "name": "stdout",
          "text": [
            "1312.0\n"
          ]
        },
        {
          "output_type": "stream",
          "name": "stderr",
          "text": [
            "100%|██████████| 1312/1312 [00:04<00:00, 269.56it/s]\n",
            "100%|██████████| 1312/1312 [00:06<00:00, 207.21it/s]\n",
            "100%|██████████| 1312/1312 [00:04<00:00, 277.18it/s]\n",
            "100%|██████████| 1312/1312 [00:07<00:00, 182.73it/s]\n",
            "100%|██████████| 1312/1312 [00:04<00:00, 289.79it/s]\n",
            "100%|██████████| 1312/1312 [00:07<00:00, 179.47it/s]\n",
            "100%|██████████| 1312/1312 [00:04<00:00, 279.17it/s]\n",
            "100%|██████████| 1312/1312 [00:07<00:00, 174.21it/s]\n",
            "100%|██████████| 1312/1312 [00:04<00:00, 277.36it/s]\n",
            "100%|██████████| 1312/1312 [00:06<00:00, 191.24it/s]\n"
          ]
        },
        {
          "output_type": "display_data",
          "data": {
            "text/plain": [
              "<IPython.core.display.HTML object>"
            ],
            "text/html": []
          },
          "metadata": {}
        },
        {
          "output_type": "display_data",
          "data": {
            "text/plain": [
              "<IPython.core.display.HTML object>"
            ],
            "text/html": [
              "<br>    <style><br>        .wandb-row {<br>            display: flex;<br>            flex-direction: row;<br>            flex-wrap: wrap;<br>            justify-content: flex-start;<br>            width: 100%;<br>        }<br>        .wandb-col {<br>            display: flex;<br>            flex-direction: column;<br>            flex-basis: 100%;<br>            flex: 1;<br>            padding: 10px;<br>        }<br>    </style><br><div class=\"wandb-row\"><div class=\"wandb-col\"><h3>Run history:</h3><br/><table class=\"wandb\"><tr><td>tr_accuracy</td><td>▁▁▂▂▂▅▅▇▇█</td></tr><tr><td>tr_loss</td><td>█▅▃▂▂▂▁▁▁▁</td></tr><tr><td>val_accuracy</td><td>▁▁█▆▆▆▆▆▆▆</td></tr><tr><td>val_loss</td><td>█▅▃▂▂▂▁▁▁▁</td></tr></table><br/></div><div class=\"wandb-col\"><h3>Run summary:</h3><br/><table class=\"wandb\"><tr><td>tr_accuracy</td><td>87.5</td></tr><tr><td>tr_loss</td><td>0.54403</td></tr><tr><td>val_accuracy</td><td>87.5</td></tr><tr><td>val_loss</td><td>0.54872</td></tr></table><br/></div></div>"
            ]
          },
          "metadata": {}
        },
        {
          "output_type": "display_data",
          "data": {
            "text/plain": [
              "<IPython.core.display.HTML object>"
            ],
            "text/html": [
              " View run <strong style=\"color:#cdcd00\">e_10_hl_4_hs_64_lr_0.001_opt_momentum_bs_32_init_Xavier_ac_tanh_l2_0.5</strong> at: <a href='https://wandb.ai/arunangshudutta218-iitm/dl_assgn_1_q_4/runs/m228mxih' target=\"_blank\">https://wandb.ai/arunangshudutta218-iitm/dl_assgn_1_q_4/runs/m228mxih</a><br> View project at: <a href='https://wandb.ai/arunangshudutta218-iitm/dl_assgn_1_q_4' target=\"_blank\">https://wandb.ai/arunangshudutta218-iitm/dl_assgn_1_q_4</a><br>Synced 5 W&B file(s), 0 media file(s), 0 artifact file(s) and 0 other file(s)"
            ]
          },
          "metadata": {}
        },
        {
          "output_type": "display_data",
          "data": {
            "text/plain": [
              "<IPython.core.display.HTML object>"
            ],
            "text/html": [
              "Find logs at: <code>./wandb/run-20250309_202510-m228mxih/logs</code>"
            ]
          },
          "metadata": {}
        },
        {
          "output_type": "stream",
          "name": "stderr",
          "text": [
            "\u001b[34m\u001b[1mwandb\u001b[0m: Agent Starting Run: l3hgwqzd with config:\n",
            "\u001b[34m\u001b[1mwandb\u001b[0m: \tactivation: sigmoid\n",
            "\u001b[34m\u001b[1mwandb\u001b[0m: \tbatch_size: 64\n",
            "\u001b[34m\u001b[1mwandb\u001b[0m: \tepochs: 5\n",
            "\u001b[34m\u001b[1mwandb\u001b[0m: \thidden_size: 64\n",
            "\u001b[34m\u001b[1mwandb\u001b[0m: \tlearning_rate: 0.0001\n",
            "\u001b[34m\u001b[1mwandb\u001b[0m: \tnum_layers: 3\n",
            "\u001b[34m\u001b[1mwandb\u001b[0m: \toptimizer: momentum\n",
            "\u001b[34m\u001b[1mwandb\u001b[0m: \tweight_decay: 0.5\n",
            "\u001b[34m\u001b[1mwandb\u001b[0m: \tweight_init: Xavier\n"
          ]
        },
        {
          "output_type": "display_data",
          "data": {
            "text/plain": [
              "<IPython.core.display.HTML object>"
            ],
            "text/html": [
              "Tracking run with wandb version 0.19.7"
            ]
          },
          "metadata": {}
        },
        {
          "output_type": "display_data",
          "data": {
            "text/plain": [
              "<IPython.core.display.HTML object>"
            ],
            "text/html": [
              "Run data is saved locally in <code>/content/wandb/run-20250309_202631-l3hgwqzd</code>"
            ]
          },
          "metadata": {}
        },
        {
          "output_type": "display_data",
          "data": {
            "text/plain": [
              "<IPython.core.display.HTML object>"
            ],
            "text/html": [
              "Syncing run <strong><a href='https://wandb.ai/arunangshudutta218-iitm/dl_assgn_1_q_4/runs/l3hgwqzd' target=\"_blank\">misunderstood-sweep-67</a></strong> to <a href='https://wandb.ai/arunangshudutta218-iitm/dl_assgn_1_q_4' target=\"_blank\">Weights & Biases</a> (<a href='https://wandb.me/developer-guide' target=\"_blank\">docs</a>)<br>Sweep page: <a href='https://wandb.ai/arunangshudutta218-iitm/dl_assgn_1_q_4/sweeps/sdlyh3ti' target=\"_blank\">https://wandb.ai/arunangshudutta218-iitm/dl_assgn_1_q_4/sweeps/sdlyh3ti</a>"
            ]
          },
          "metadata": {}
        },
        {
          "output_type": "display_data",
          "data": {
            "text/plain": [
              "<IPython.core.display.HTML object>"
            ],
            "text/html": [
              " View project at <a href='https://wandb.ai/arunangshudutta218-iitm/dl_assgn_1_q_4' target=\"_blank\">https://wandb.ai/arunangshudutta218-iitm/dl_assgn_1_q_4</a>"
            ]
          },
          "metadata": {}
        },
        {
          "output_type": "display_data",
          "data": {
            "text/plain": [
              "<IPython.core.display.HTML object>"
            ],
            "text/html": [
              " View sweep at <a href='https://wandb.ai/arunangshudutta218-iitm/dl_assgn_1_q_4/sweeps/sdlyh3ti' target=\"_blank\">https://wandb.ai/arunangshudutta218-iitm/dl_assgn_1_q_4/sweeps/sdlyh3ti</a>"
            ]
          },
          "metadata": {}
        },
        {
          "output_type": "display_data",
          "data": {
            "text/plain": [
              "<IPython.core.display.HTML object>"
            ],
            "text/html": [
              " View run at <a href='https://wandb.ai/arunangshudutta218-iitm/dl_assgn_1_q_4/runs/l3hgwqzd' target=\"_blank\">https://wandb.ai/arunangshudutta218-iitm/dl_assgn_1_q_4/runs/l3hgwqzd</a>"
            ]
          },
          "metadata": {}
        },
        {
          "output_type": "stream",
          "name": "stdout",
          "text": [
            "656.0\n"
          ]
        },
        {
          "output_type": "stream",
          "name": "stderr",
          "text": [
            "100%|██████████| 656/656 [00:02<00:00, 280.67it/s]\n",
            "100%|██████████| 656/656 [00:03<00:00, 167.57it/s]\n",
            "100%|██████████| 656/656 [00:02<00:00, 298.40it/s]\n",
            "100%|██████████| 656/656 [00:02<00:00, 327.51it/s]\n",
            "100%|██████████| 656/656 [00:02<00:00, 308.27it/s]\n"
          ]
        },
        {
          "output_type": "display_data",
          "data": {
            "text/plain": [
              "<IPython.core.display.HTML object>"
            ],
            "text/html": []
          },
          "metadata": {}
        },
        {
          "output_type": "display_data",
          "data": {
            "text/plain": [
              "<IPython.core.display.HTML object>"
            ],
            "text/html": [
              "<br>    <style><br>        .wandb-row {<br>            display: flex;<br>            flex-direction: row;<br>            flex-wrap: wrap;<br>            justify-content: flex-start;<br>            width: 100%;<br>        }<br>        .wandb-col {<br>            display: flex;<br>            flex-direction: column;<br>            flex-basis: 100%;<br>            flex: 1;<br>            padding: 10px;<br>        }<br>    </style><br><div class=\"wandb-row\"><div class=\"wandb-col\"><h3>Run history:</h3><br/><table class=\"wandb\"><tr><td>tr_accuracy</td><td>▁▁▁▁▁</td></tr><tr><td>tr_loss</td><td>█▅▃▂▁</td></tr><tr><td>val_accuracy</td><td>▁▁▁▁▁</td></tr><tr><td>val_loss</td><td>█▅▃▂▁</td></tr></table><br/></div><div class=\"wandb-col\"><h3>Run summary:</h3><br/><table class=\"wandb\"><tr><td>tr_accuracy</td><td>14.0625</td></tr><tr><td>tr_loss</td><td>2.3195</td></tr><tr><td>val_accuracy</td><td>12.5</td></tr><tr><td>val_loss</td><td>2.31941</td></tr></table><br/></div></div>"
            ]
          },
          "metadata": {}
        },
        {
          "output_type": "display_data",
          "data": {
            "text/plain": [
              "<IPython.core.display.HTML object>"
            ],
            "text/html": [
              " View run <strong style=\"color:#cdcd00\">e_5_hl_3_hs_64_lr_0.0001_opt_momentum_bs_64_init_Xavier_ac_sigmoid_l2_0.5</strong> at: <a href='https://wandb.ai/arunangshudutta218-iitm/dl_assgn_1_q_4/runs/l3hgwqzd' target=\"_blank\">https://wandb.ai/arunangshudutta218-iitm/dl_assgn_1_q_4/runs/l3hgwqzd</a><br> View project at: <a href='https://wandb.ai/arunangshudutta218-iitm/dl_assgn_1_q_4' target=\"_blank\">https://wandb.ai/arunangshudutta218-iitm/dl_assgn_1_q_4</a><br>Synced 5 W&B file(s), 0 media file(s), 0 artifact file(s) and 0 other file(s)"
            ]
          },
          "metadata": {}
        },
        {
          "output_type": "display_data",
          "data": {
            "text/plain": [
              "<IPython.core.display.HTML object>"
            ],
            "text/html": [
              "Find logs at: <code>./wandb/run-20250309_202631-l3hgwqzd/logs</code>"
            ]
          },
          "metadata": {}
        },
        {
          "output_type": "stream",
          "name": "stderr",
          "text": [
            "\u001b[34m\u001b[1mwandb\u001b[0m: Agent Starting Run: zcglbmg1 with config:\n",
            "\u001b[34m\u001b[1mwandb\u001b[0m: \tactivation: tanh\n",
            "\u001b[34m\u001b[1mwandb\u001b[0m: \tbatch_size: 64\n",
            "\u001b[34m\u001b[1mwandb\u001b[0m: \tepochs: 10\n",
            "\u001b[34m\u001b[1mwandb\u001b[0m: \thidden_size: 32\n",
            "\u001b[34m\u001b[1mwandb\u001b[0m: \tlearning_rate: 0.0001\n",
            "\u001b[34m\u001b[1mwandb\u001b[0m: \tnum_layers: 3\n",
            "\u001b[34m\u001b[1mwandb\u001b[0m: \toptimizer: nadam\n",
            "\u001b[34m\u001b[1mwandb\u001b[0m: \tweight_decay: 0.5\n",
            "\u001b[34m\u001b[1mwandb\u001b[0m: \tweight_init: random\n"
          ]
        },
        {
          "output_type": "display_data",
          "data": {
            "text/plain": [
              "<IPython.core.display.HTML object>"
            ],
            "text/html": [
              "Tracking run with wandb version 0.19.7"
            ]
          },
          "metadata": {}
        },
        {
          "output_type": "display_data",
          "data": {
            "text/plain": [
              "<IPython.core.display.HTML object>"
            ],
            "text/html": [
              "Run data is saved locally in <code>/content/wandb/run-20250309_202652-zcglbmg1</code>"
            ]
          },
          "metadata": {}
        },
        {
          "output_type": "display_data",
          "data": {
            "text/plain": [
              "<IPython.core.display.HTML object>"
            ],
            "text/html": [
              "Syncing run <strong><a href='https://wandb.ai/arunangshudutta218-iitm/dl_assgn_1_q_4/runs/zcglbmg1' target=\"_blank\">restful-sweep-68</a></strong> to <a href='https://wandb.ai/arunangshudutta218-iitm/dl_assgn_1_q_4' target=\"_blank\">Weights & Biases</a> (<a href='https://wandb.me/developer-guide' target=\"_blank\">docs</a>)<br>Sweep page: <a href='https://wandb.ai/arunangshudutta218-iitm/dl_assgn_1_q_4/sweeps/sdlyh3ti' target=\"_blank\">https://wandb.ai/arunangshudutta218-iitm/dl_assgn_1_q_4/sweeps/sdlyh3ti</a>"
            ]
          },
          "metadata": {}
        },
        {
          "output_type": "display_data",
          "data": {
            "text/plain": [
              "<IPython.core.display.HTML object>"
            ],
            "text/html": [
              " View project at <a href='https://wandb.ai/arunangshudutta218-iitm/dl_assgn_1_q_4' target=\"_blank\">https://wandb.ai/arunangshudutta218-iitm/dl_assgn_1_q_4</a>"
            ]
          },
          "metadata": {}
        },
        {
          "output_type": "display_data",
          "data": {
            "text/plain": [
              "<IPython.core.display.HTML object>"
            ],
            "text/html": [
              " View sweep at <a href='https://wandb.ai/arunangshudutta218-iitm/dl_assgn_1_q_4/sweeps/sdlyh3ti' target=\"_blank\">https://wandb.ai/arunangshudutta218-iitm/dl_assgn_1_q_4/sweeps/sdlyh3ti</a>"
            ]
          },
          "metadata": {}
        },
        {
          "output_type": "display_data",
          "data": {
            "text/plain": [
              "<IPython.core.display.HTML object>"
            ],
            "text/html": [
              " View run at <a href='https://wandb.ai/arunangshudutta218-iitm/dl_assgn_1_q_4/runs/zcglbmg1' target=\"_blank\">https://wandb.ai/arunangshudutta218-iitm/dl_assgn_1_q_4/runs/zcglbmg1</a>"
            ]
          },
          "metadata": {}
        },
        {
          "output_type": "stream",
          "name": "stdout",
          "text": [
            "656.0\n"
          ]
        },
        {
          "output_type": "stream",
          "name": "stderr",
          "text": [
            "100%|██████████| 656/656 [00:02<00:00, 294.54it/s]\n",
            "100%|██████████| 656/656 [00:02<00:00, 304.33it/s]\n",
            "100%|██████████| 656/656 [00:02<00:00, 303.42it/s]\n",
            "100%|██████████| 656/656 [00:03<00:00, 210.40it/s]\n",
            "100%|██████████| 656/656 [00:03<00:00, 170.58it/s]\n",
            "100%|██████████| 656/656 [00:02<00:00, 291.23it/s]\n",
            "100%|██████████| 656/656 [00:02<00:00, 299.66it/s]\n",
            "100%|██████████| 656/656 [00:02<00:00, 282.99it/s]\n",
            "100%|██████████| 656/656 [00:04<00:00, 153.92it/s]\n",
            "100%|██████████| 656/656 [00:02<00:00, 273.88it/s]\n"
          ]
        },
        {
          "output_type": "display_data",
          "data": {
            "text/plain": [
              "<IPython.core.display.HTML object>"
            ],
            "text/html": []
          },
          "metadata": {}
        },
        {
          "output_type": "display_data",
          "data": {
            "text/plain": [
              "<IPython.core.display.HTML object>"
            ],
            "text/html": [
              "<br>    <style><br>        .wandb-row {<br>            display: flex;<br>            flex-direction: row;<br>            flex-wrap: wrap;<br>            justify-content: flex-start;<br>            width: 100%;<br>        }<br>        .wandb-col {<br>            display: flex;<br>            flex-direction: column;<br>            flex-basis: 100%;<br>            flex: 1;<br>            padding: 10px;<br>        }<br>    </style><br><div class=\"wandb-row\"><div class=\"wandb-col\"><h3>Run history:</h3><br/><table class=\"wandb\"><tr><td>tr_accuracy</td><td>▁▂▄▅▅▇▇▇██</td></tr><tr><td>tr_loss</td><td>█▅▄▃▂▂▂▁▁▁</td></tr><tr><td>val_accuracy</td><td>▁▃▄▅▆▇▇▇██</td></tr><tr><td>val_loss</td><td>█▅▄▃▂▂▂▁▁▁</td></tr></table><br/></div><div class=\"wandb-col\"><h3>Run summary:</h3><br/><table class=\"wandb\"><tr><td>tr_accuracy</td><td>56.25</td></tr><tr><td>tr_loss</td><td>1.25733</td></tr><tr><td>val_accuracy</td><td>57.8125</td></tr><tr><td>val_loss</td><td>1.28038</td></tr></table><br/></div></div>"
            ]
          },
          "metadata": {}
        },
        {
          "output_type": "display_data",
          "data": {
            "text/plain": [
              "<IPython.core.display.HTML object>"
            ],
            "text/html": [
              " View run <strong style=\"color:#cdcd00\">e_10_hl_3_hs_32_lr_0.0001_opt_nadam_bs_64_init_random_ac_tanh_l2_0.5</strong> at: <a href='https://wandb.ai/arunangshudutta218-iitm/dl_assgn_1_q_4/runs/zcglbmg1' target=\"_blank\">https://wandb.ai/arunangshudutta218-iitm/dl_assgn_1_q_4/runs/zcglbmg1</a><br> View project at: <a href='https://wandb.ai/arunangshudutta218-iitm/dl_assgn_1_q_4' target=\"_blank\">https://wandb.ai/arunangshudutta218-iitm/dl_assgn_1_q_4</a><br>Synced 5 W&B file(s), 0 media file(s), 0 artifact file(s) and 0 other file(s)"
            ]
          },
          "metadata": {}
        },
        {
          "output_type": "display_data",
          "data": {
            "text/plain": [
              "<IPython.core.display.HTML object>"
            ],
            "text/html": [
              "Find logs at: <code>./wandb/run-20250309_202652-zcglbmg1/logs</code>"
            ]
          },
          "metadata": {}
        },
        {
          "output_type": "stream",
          "name": "stderr",
          "text": [
            "\u001b[34m\u001b[1mwandb\u001b[0m: Agent Starting Run: 3jcv9ssd with config:\n",
            "\u001b[34m\u001b[1mwandb\u001b[0m: \tactivation: sigmoid\n",
            "\u001b[34m\u001b[1mwandb\u001b[0m: \tbatch_size: 64\n",
            "\u001b[34m\u001b[1mwandb\u001b[0m: \tepochs: 5\n",
            "\u001b[34m\u001b[1mwandb\u001b[0m: \thidden_size: 64\n",
            "\u001b[34m\u001b[1mwandb\u001b[0m: \tlearning_rate: 0.0001\n",
            "\u001b[34m\u001b[1mwandb\u001b[0m: \tnum_layers: 4\n",
            "\u001b[34m\u001b[1mwandb\u001b[0m: \toptimizer: adam\n",
            "\u001b[34m\u001b[1mwandb\u001b[0m: \tweight_decay: 0.5\n",
            "\u001b[34m\u001b[1mwandb\u001b[0m: \tweight_init: random\n"
          ]
        },
        {
          "output_type": "display_data",
          "data": {
            "text/plain": [
              "<IPython.core.display.HTML object>"
            ],
            "text/html": [
              "Tracking run with wandb version 0.19.7"
            ]
          },
          "metadata": {}
        },
        {
          "output_type": "display_data",
          "data": {
            "text/plain": [
              "<IPython.core.display.HTML object>"
            ],
            "text/html": [
              "Run data is saved locally in <code>/content/wandb/run-20250309_202733-3jcv9ssd</code>"
            ]
          },
          "metadata": {}
        },
        {
          "output_type": "display_data",
          "data": {
            "text/plain": [
              "<IPython.core.display.HTML object>"
            ],
            "text/html": [
              "Syncing run <strong><a href='https://wandb.ai/arunangshudutta218-iitm/dl_assgn_1_q_4/runs/3jcv9ssd' target=\"_blank\">cerulean-sweep-69</a></strong> to <a href='https://wandb.ai/arunangshudutta218-iitm/dl_assgn_1_q_4' target=\"_blank\">Weights & Biases</a> (<a href='https://wandb.me/developer-guide' target=\"_blank\">docs</a>)<br>Sweep page: <a href='https://wandb.ai/arunangshudutta218-iitm/dl_assgn_1_q_4/sweeps/sdlyh3ti' target=\"_blank\">https://wandb.ai/arunangshudutta218-iitm/dl_assgn_1_q_4/sweeps/sdlyh3ti</a>"
            ]
          },
          "metadata": {}
        },
        {
          "output_type": "display_data",
          "data": {
            "text/plain": [
              "<IPython.core.display.HTML object>"
            ],
            "text/html": [
              " View project at <a href='https://wandb.ai/arunangshudutta218-iitm/dl_assgn_1_q_4' target=\"_blank\">https://wandb.ai/arunangshudutta218-iitm/dl_assgn_1_q_4</a>"
            ]
          },
          "metadata": {}
        },
        {
          "output_type": "display_data",
          "data": {
            "text/plain": [
              "<IPython.core.display.HTML object>"
            ],
            "text/html": [
              " View sweep at <a href='https://wandb.ai/arunangshudutta218-iitm/dl_assgn_1_q_4/sweeps/sdlyh3ti' target=\"_blank\">https://wandb.ai/arunangshudutta218-iitm/dl_assgn_1_q_4/sweeps/sdlyh3ti</a>"
            ]
          },
          "metadata": {}
        },
        {
          "output_type": "display_data",
          "data": {
            "text/plain": [
              "<IPython.core.display.HTML object>"
            ],
            "text/html": [
              " View run at <a href='https://wandb.ai/arunangshudutta218-iitm/dl_assgn_1_q_4/runs/3jcv9ssd' target=\"_blank\">https://wandb.ai/arunangshudutta218-iitm/dl_assgn_1_q_4/runs/3jcv9ssd</a>"
            ]
          },
          "metadata": {}
        },
        {
          "output_type": "stream",
          "name": "stdout",
          "text": [
            "656.0\n"
          ]
        },
        {
          "output_type": "stream",
          "name": "stderr",
          "text": [
            "100%|██████████| 656/656 [00:05<00:00, 125.61it/s]\n",
            "100%|██████████| 656/656 [00:03<00:00, 189.75it/s]\n",
            "100%|██████████| 656/656 [00:03<00:00, 206.38it/s]\n",
            "100%|██████████| 656/656 [00:03<00:00, 167.15it/s]\n",
            "100%|██████████| 656/656 [00:04<00:00, 131.75it/s]\n"
          ]
        },
        {
          "output_type": "display_data",
          "data": {
            "text/plain": [
              "<IPython.core.display.HTML object>"
            ],
            "text/html": []
          },
          "metadata": {}
        },
        {
          "output_type": "display_data",
          "data": {
            "text/plain": [
              "<IPython.core.display.HTML object>"
            ],
            "text/html": [
              "<br>    <style><br>        .wandb-row {<br>            display: flex;<br>            flex-direction: row;<br>            flex-wrap: wrap;<br>            justify-content: flex-start;<br>            width: 100%;<br>        }<br>        .wandb-col {<br>            display: flex;<br>            flex-direction: column;<br>            flex-basis: 100%;<br>            flex: 1;<br>            padding: 10px;<br>        }<br>    </style><br><div class=\"wandb-row\"><div class=\"wandb-col\"><h3>Run history:</h3><br/><table class=\"wandb\"><tr><td>tr_accuracy</td><td>▁▄▇██</td></tr><tr><td>tr_loss</td><td>█▄▂▁▁</td></tr><tr><td>val_accuracy</td><td>▁▄▇▇█</td></tr><tr><td>val_loss</td><td>█▄▂▁▁</td></tr></table><br/></div><div class=\"wandb-col\"><h3>Run summary:</h3><br/><table class=\"wandb\"><tr><td>tr_accuracy</td><td>67.1875</td></tr><tr><td>tr_loss</td><td>1.03192</td></tr><tr><td>val_accuracy</td><td>70.3125</td></tr><tr><td>val_loss</td><td>1.03854</td></tr></table><br/></div></div>"
            ]
          },
          "metadata": {}
        },
        {
          "output_type": "display_data",
          "data": {
            "text/plain": [
              "<IPython.core.display.HTML object>"
            ],
            "text/html": [
              " View run <strong style=\"color:#cdcd00\">e_5_hl_4_hs_64_lr_0.0001_opt_adam_bs_64_init_random_ac_sigmoid_l2_0.5</strong> at: <a href='https://wandb.ai/arunangshudutta218-iitm/dl_assgn_1_q_4/runs/3jcv9ssd' target=\"_blank\">https://wandb.ai/arunangshudutta218-iitm/dl_assgn_1_q_4/runs/3jcv9ssd</a><br> View project at: <a href='https://wandb.ai/arunangshudutta218-iitm/dl_assgn_1_q_4' target=\"_blank\">https://wandb.ai/arunangshudutta218-iitm/dl_assgn_1_q_4</a><br>Synced 5 W&B file(s), 0 media file(s), 0 artifact file(s) and 0 other file(s)"
            ]
          },
          "metadata": {}
        },
        {
          "output_type": "display_data",
          "data": {
            "text/plain": [
              "<IPython.core.display.HTML object>"
            ],
            "text/html": [
              "Find logs at: <code>./wandb/run-20250309_202733-3jcv9ssd/logs</code>"
            ]
          },
          "metadata": {}
        },
        {
          "output_type": "stream",
          "name": "stderr",
          "text": [
            "\u001b[34m\u001b[1mwandb\u001b[0m: Agent Starting Run: efr2mwmy with config:\n",
            "\u001b[34m\u001b[1mwandb\u001b[0m: \tactivation: sigmoid\n",
            "\u001b[34m\u001b[1mwandb\u001b[0m: \tbatch_size: 32\n",
            "\u001b[34m\u001b[1mwandb\u001b[0m: \tepochs: 10\n",
            "\u001b[34m\u001b[1mwandb\u001b[0m: \thidden_size: 32\n",
            "\u001b[34m\u001b[1mwandb\u001b[0m: \tlearning_rate: 0.001\n",
            "\u001b[34m\u001b[1mwandb\u001b[0m: \tnum_layers: 5\n",
            "\u001b[34m\u001b[1mwandb\u001b[0m: \toptimizer: adam\n",
            "\u001b[34m\u001b[1mwandb\u001b[0m: \tweight_decay: 0\n",
            "\u001b[34m\u001b[1mwandb\u001b[0m: \tweight_init: random\n"
          ]
        },
        {
          "output_type": "display_data",
          "data": {
            "text/plain": [
              "<IPython.core.display.HTML object>"
            ],
            "text/html": [
              "Tracking run with wandb version 0.19.7"
            ]
          },
          "metadata": {}
        },
        {
          "output_type": "display_data",
          "data": {
            "text/plain": [
              "<IPython.core.display.HTML object>"
            ],
            "text/html": [
              "Run data is saved locally in <code>/content/wandb/run-20250309_202804-efr2mwmy</code>"
            ]
          },
          "metadata": {}
        },
        {
          "output_type": "display_data",
          "data": {
            "text/plain": [
              "<IPython.core.display.HTML object>"
            ],
            "text/html": [
              "Syncing run <strong><a href='https://wandb.ai/arunangshudutta218-iitm/dl_assgn_1_q_4/runs/efr2mwmy' target=\"_blank\">youthful-sweep-70</a></strong> to <a href='https://wandb.ai/arunangshudutta218-iitm/dl_assgn_1_q_4' target=\"_blank\">Weights & Biases</a> (<a href='https://wandb.me/developer-guide' target=\"_blank\">docs</a>)<br>Sweep page: <a href='https://wandb.ai/arunangshudutta218-iitm/dl_assgn_1_q_4/sweeps/sdlyh3ti' target=\"_blank\">https://wandb.ai/arunangshudutta218-iitm/dl_assgn_1_q_4/sweeps/sdlyh3ti</a>"
            ]
          },
          "metadata": {}
        },
        {
          "output_type": "display_data",
          "data": {
            "text/plain": [
              "<IPython.core.display.HTML object>"
            ],
            "text/html": [
              " View project at <a href='https://wandb.ai/arunangshudutta218-iitm/dl_assgn_1_q_4' target=\"_blank\">https://wandb.ai/arunangshudutta218-iitm/dl_assgn_1_q_4</a>"
            ]
          },
          "metadata": {}
        },
        {
          "output_type": "display_data",
          "data": {
            "text/plain": [
              "<IPython.core.display.HTML object>"
            ],
            "text/html": [
              " View sweep at <a href='https://wandb.ai/arunangshudutta218-iitm/dl_assgn_1_q_4/sweeps/sdlyh3ti' target=\"_blank\">https://wandb.ai/arunangshudutta218-iitm/dl_assgn_1_q_4/sweeps/sdlyh3ti</a>"
            ]
          },
          "metadata": {}
        },
        {
          "output_type": "display_data",
          "data": {
            "text/plain": [
              "<IPython.core.display.HTML object>"
            ],
            "text/html": [
              " View run at <a href='https://wandb.ai/arunangshudutta218-iitm/dl_assgn_1_q_4/runs/efr2mwmy' target=\"_blank\">https://wandb.ai/arunangshudutta218-iitm/dl_assgn_1_q_4/runs/efr2mwmy</a>"
            ]
          },
          "metadata": {}
        },
        {
          "output_type": "stream",
          "name": "stdout",
          "text": [
            "1312.0\n"
          ]
        },
        {
          "output_type": "stream",
          "name": "stderr",
          "text": [
            "100%|██████████| 1312/1312 [00:04<00:00, 301.22it/s]\n",
            "100%|██████████| 1312/1312 [00:05<00:00, 250.67it/s]\n",
            "100%|██████████| 1312/1312 [00:03<00:00, 380.49it/s]\n",
            "100%|██████████| 1312/1312 [00:03<00:00, 362.65it/s]\n",
            "100%|██████████| 1312/1312 [00:06<00:00, 214.62it/s]\n",
            "100%|██████████| 1312/1312 [00:03<00:00, 383.85it/s]\n",
            "100%|██████████| 1312/1312 [00:03<00:00, 383.58it/s]\n",
            "100%|██████████| 1312/1312 [00:05<00:00, 238.24it/s]\n",
            "100%|██████████| 1312/1312 [00:04<00:00, 324.60it/s]\n",
            "100%|██████████| 1312/1312 [00:03<00:00, 374.35it/s]\n"
          ]
        },
        {
          "output_type": "display_data",
          "data": {
            "text/plain": [
              "<IPython.core.display.HTML object>"
            ],
            "text/html": []
          },
          "metadata": {}
        },
        {
          "output_type": "display_data",
          "data": {
            "text/plain": [
              "<IPython.core.display.HTML object>"
            ],
            "text/html": [
              "<br>    <style><br>        .wandb-row {<br>            display: flex;<br>            flex-direction: row;<br>            flex-wrap: wrap;<br>            justify-content: flex-start;<br>            width: 100%;<br>        }<br>        .wandb-col {<br>            display: flex;<br>            flex-direction: column;<br>            flex-basis: 100%;<br>            flex: 1;<br>            padding: 10px;<br>        }<br>    </style><br><div class=\"wandb-row\"><div class=\"wandb-col\"><h3>Run history:</h3><br/><table class=\"wandb\"><tr><td>tr_accuracy</td><td>▁▃▆▆█▆▆▆▆▆</td></tr><tr><td>tr_loss</td><td>█▅▄▃▂▂▂▁▁▁</td></tr><tr><td>val_accuracy</td><td>▁▁▅▅▅▅▅▅▆█</td></tr><tr><td>val_loss</td><td>█▅▃▃▂▂▂▁▁▁</td></tr></table><br/></div><div class=\"wandb-col\"><h3>Run summary:</h3><br/><table class=\"wandb\"><tr><td>tr_accuracy</td><td>90.625</td></tr><tr><td>tr_loss</td><td>0.42027</td></tr><tr><td>val_accuracy</td><td>96.875</td></tr><tr><td>val_loss</td><td>0.4567</td></tr></table><br/></div></div>"
            ]
          },
          "metadata": {}
        },
        {
          "output_type": "display_data",
          "data": {
            "text/plain": [
              "<IPython.core.display.HTML object>"
            ],
            "text/html": [
              " View run <strong style=\"color:#cdcd00\">e_10_hl_5_hs_32_lr_0.001_opt_adam_bs_32_init_random_ac_sigmoid_l2_0</strong> at: <a href='https://wandb.ai/arunangshudutta218-iitm/dl_assgn_1_q_4/runs/efr2mwmy' target=\"_blank\">https://wandb.ai/arunangshudutta218-iitm/dl_assgn_1_q_4/runs/efr2mwmy</a><br> View project at: <a href='https://wandb.ai/arunangshudutta218-iitm/dl_assgn_1_q_4' target=\"_blank\">https://wandb.ai/arunangshudutta218-iitm/dl_assgn_1_q_4</a><br>Synced 5 W&B file(s), 0 media file(s), 0 artifact file(s) and 0 other file(s)"
            ]
          },
          "metadata": {}
        },
        {
          "output_type": "display_data",
          "data": {
            "text/plain": [
              "<IPython.core.display.HTML object>"
            ],
            "text/html": [
              "Find logs at: <code>./wandb/run-20250309_202804-efr2mwmy/logs</code>"
            ]
          },
          "metadata": {}
        },
        {
          "output_type": "stream",
          "name": "stderr",
          "text": [
            "\u001b[34m\u001b[1mwandb\u001b[0m: Agent Starting Run: e2u7odbb with config:\n",
            "\u001b[34m\u001b[1mwandb\u001b[0m: \tactivation: tanh\n",
            "\u001b[34m\u001b[1mwandb\u001b[0m: \tbatch_size: 16\n",
            "\u001b[34m\u001b[1mwandb\u001b[0m: \tepochs: 5\n",
            "\u001b[34m\u001b[1mwandb\u001b[0m: \thidden_size: 32\n",
            "\u001b[34m\u001b[1mwandb\u001b[0m: \tlearning_rate: 0.001\n",
            "\u001b[34m\u001b[1mwandb\u001b[0m: \tnum_layers: 3\n",
            "\u001b[34m\u001b[1mwandb\u001b[0m: \toptimizer: nag\n",
            "\u001b[34m\u001b[1mwandb\u001b[0m: \tweight_decay: 0\n",
            "\u001b[34m\u001b[1mwandb\u001b[0m: \tweight_init: Xavier\n"
          ]
        },
        {
          "output_type": "display_data",
          "data": {
            "text/plain": [
              "<IPython.core.display.HTML object>"
            ],
            "text/html": [
              "Tracking run with wandb version 0.19.7"
            ]
          },
          "metadata": {}
        },
        {
          "output_type": "display_data",
          "data": {
            "text/plain": [
              "<IPython.core.display.HTML object>"
            ],
            "text/html": [
              "Run data is saved locally in <code>/content/wandb/run-20250309_202900-e2u7odbb</code>"
            ]
          },
          "metadata": {}
        },
        {
          "output_type": "display_data",
          "data": {
            "text/plain": [
              "<IPython.core.display.HTML object>"
            ],
            "text/html": [
              "Syncing run <strong><a href='https://wandb.ai/arunangshudutta218-iitm/dl_assgn_1_q_4/runs/e2u7odbb' target=\"_blank\">dulcet-sweep-71</a></strong> to <a href='https://wandb.ai/arunangshudutta218-iitm/dl_assgn_1_q_4' target=\"_blank\">Weights & Biases</a> (<a href='https://wandb.me/developer-guide' target=\"_blank\">docs</a>)<br>Sweep page: <a href='https://wandb.ai/arunangshudutta218-iitm/dl_assgn_1_q_4/sweeps/sdlyh3ti' target=\"_blank\">https://wandb.ai/arunangshudutta218-iitm/dl_assgn_1_q_4/sweeps/sdlyh3ti</a>"
            ]
          },
          "metadata": {}
        },
        {
          "output_type": "display_data",
          "data": {
            "text/plain": [
              "<IPython.core.display.HTML object>"
            ],
            "text/html": [
              " View project at <a href='https://wandb.ai/arunangshudutta218-iitm/dl_assgn_1_q_4' target=\"_blank\">https://wandb.ai/arunangshudutta218-iitm/dl_assgn_1_q_4</a>"
            ]
          },
          "metadata": {}
        },
        {
          "output_type": "display_data",
          "data": {
            "text/plain": [
              "<IPython.core.display.HTML object>"
            ],
            "text/html": [
              " View sweep at <a href='https://wandb.ai/arunangshudutta218-iitm/dl_assgn_1_q_4/sweeps/sdlyh3ti' target=\"_blank\">https://wandb.ai/arunangshudutta218-iitm/dl_assgn_1_q_4/sweeps/sdlyh3ti</a>"
            ]
          },
          "metadata": {}
        },
        {
          "output_type": "display_data",
          "data": {
            "text/plain": [
              "<IPython.core.display.HTML object>"
            ],
            "text/html": [
              " View run at <a href='https://wandb.ai/arunangshudutta218-iitm/dl_assgn_1_q_4/runs/e2u7odbb' target=\"_blank\">https://wandb.ai/arunangshudutta218-iitm/dl_assgn_1_q_4/runs/e2u7odbb</a>"
            ]
          },
          "metadata": {}
        },
        {
          "output_type": "stream",
          "name": "stdout",
          "text": [
            "2625.0\n"
          ]
        },
        {
          "output_type": "stream",
          "name": "stderr",
          "text": [
            "100%|██████████| 2625/2625 [00:03<00:00, 718.04it/s]\n",
            "100%|██████████| 2625/2625 [00:04<00:00, 638.81it/s]\n",
            "100%|██████████| 2625/2625 [00:05<00:00, 445.79it/s]\n",
            "100%|██████████| 2625/2625 [00:03<00:00, 757.47it/s]\n",
            "100%|██████████| 2625/2625 [00:03<00:00, 741.52it/s]\n"
          ]
        },
        {
          "output_type": "display_data",
          "data": {
            "text/plain": [
              "<IPython.core.display.HTML object>"
            ],
            "text/html": []
          },
          "metadata": {}
        },
        {
          "output_type": "display_data",
          "data": {
            "text/plain": [
              "<IPython.core.display.HTML object>"
            ],
            "text/html": [
              "<br>    <style><br>        .wandb-row {<br>            display: flex;<br>            flex-direction: row;<br>            flex-wrap: wrap;<br>            justify-content: flex-start;<br>            width: 100%;<br>        }<br>        .wandb-col {<br>            display: flex;<br>            flex-direction: column;<br>            flex-basis: 100%;<br>            flex: 1;<br>            padding: 10px;<br>        }<br>    </style><br><div class=\"wandb-row\"><div class=\"wandb-col\"><h3>Run history:</h3><br/><table class=\"wandb\"><tr><td>tr_accuracy</td><td>▁█▁▃▁</td></tr><tr><td>tr_loss</td><td>▃▁▄█▄</td></tr><tr><td>val_accuracy</td><td>██▅▁▁</td></tr><tr><td>val_loss</td><td>▃▁▄█▄</td></tr></table><br/></div><div class=\"wandb-col\"><h3>Run summary:</h3><br/><table class=\"wandb\"><tr><td>tr_accuracy</td><td>6.25</td></tr><tr><td>tr_loss</td><td>6.09492</td></tr><tr><td>val_accuracy</td><td>0</td></tr><tr><td>val_loss</td><td>6.12421</td></tr></table><br/></div></div>"
            ]
          },
          "metadata": {}
        },
        {
          "output_type": "display_data",
          "data": {
            "text/plain": [
              "<IPython.core.display.HTML object>"
            ],
            "text/html": [
              " View run <strong style=\"color:#cdcd00\">e_5_hl_3_hs_32_lr_0.001_opt_nag_bs_16_init_Xavier_ac_tanh_l2_0</strong> at: <a href='https://wandb.ai/arunangshudutta218-iitm/dl_assgn_1_q_4/runs/e2u7odbb' target=\"_blank\">https://wandb.ai/arunangshudutta218-iitm/dl_assgn_1_q_4/runs/e2u7odbb</a><br> View project at: <a href='https://wandb.ai/arunangshudutta218-iitm/dl_assgn_1_q_4' target=\"_blank\">https://wandb.ai/arunangshudutta218-iitm/dl_assgn_1_q_4</a><br>Synced 5 W&B file(s), 0 media file(s), 0 artifact file(s) and 0 other file(s)"
            ]
          },
          "metadata": {}
        },
        {
          "output_type": "display_data",
          "data": {
            "text/plain": [
              "<IPython.core.display.HTML object>"
            ],
            "text/html": [
              "Find logs at: <code>./wandb/run-20250309_202900-e2u7odbb/logs</code>"
            ]
          },
          "metadata": {}
        },
        {
          "output_type": "stream",
          "name": "stderr",
          "text": [
            "\u001b[34m\u001b[1mwandb\u001b[0m: Agent Starting Run: omrsnhe5 with config:\n",
            "\u001b[34m\u001b[1mwandb\u001b[0m: \tactivation: tanh\n",
            "\u001b[34m\u001b[1mwandb\u001b[0m: \tbatch_size: 32\n",
            "\u001b[34m\u001b[1mwandb\u001b[0m: \tepochs: 10\n",
            "\u001b[34m\u001b[1mwandb\u001b[0m: \thidden_size: 128\n",
            "\u001b[34m\u001b[1mwandb\u001b[0m: \tlearning_rate: 0.0001\n",
            "\u001b[34m\u001b[1mwandb\u001b[0m: \tnum_layers: 3\n",
            "\u001b[34m\u001b[1mwandb\u001b[0m: \toptimizer: adam\n",
            "\u001b[34m\u001b[1mwandb\u001b[0m: \tweight_decay: 0.5\n",
            "\u001b[34m\u001b[1mwandb\u001b[0m: \tweight_init: Xavier\n"
          ]
        },
        {
          "output_type": "display_data",
          "data": {
            "text/plain": [
              "<IPython.core.display.HTML object>"
            ],
            "text/html": [
              "Tracking run with wandb version 0.19.7"
            ]
          },
          "metadata": {}
        },
        {
          "output_type": "display_data",
          "data": {
            "text/plain": [
              "<IPython.core.display.HTML object>"
            ],
            "text/html": [
              "Run data is saved locally in <code>/content/wandb/run-20250309_202931-omrsnhe5</code>"
            ]
          },
          "metadata": {}
        },
        {
          "output_type": "display_data",
          "data": {
            "text/plain": [
              "<IPython.core.display.HTML object>"
            ],
            "text/html": [
              "Syncing run <strong><a href='https://wandb.ai/arunangshudutta218-iitm/dl_assgn_1_q_4/runs/omrsnhe5' target=\"_blank\">fearless-sweep-72</a></strong> to <a href='https://wandb.ai/arunangshudutta218-iitm/dl_assgn_1_q_4' target=\"_blank\">Weights & Biases</a> (<a href='https://wandb.me/developer-guide' target=\"_blank\">docs</a>)<br>Sweep page: <a href='https://wandb.ai/arunangshudutta218-iitm/dl_assgn_1_q_4/sweeps/sdlyh3ti' target=\"_blank\">https://wandb.ai/arunangshudutta218-iitm/dl_assgn_1_q_4/sweeps/sdlyh3ti</a>"
            ]
          },
          "metadata": {}
        },
        {
          "output_type": "display_data",
          "data": {
            "text/plain": [
              "<IPython.core.display.HTML object>"
            ],
            "text/html": [
              " View project at <a href='https://wandb.ai/arunangshudutta218-iitm/dl_assgn_1_q_4' target=\"_blank\">https://wandb.ai/arunangshudutta218-iitm/dl_assgn_1_q_4</a>"
            ]
          },
          "metadata": {}
        },
        {
          "output_type": "display_data",
          "data": {
            "text/plain": [
              "<IPython.core.display.HTML object>"
            ],
            "text/html": [
              " View sweep at <a href='https://wandb.ai/arunangshudutta218-iitm/dl_assgn_1_q_4/sweeps/sdlyh3ti' target=\"_blank\">https://wandb.ai/arunangshudutta218-iitm/dl_assgn_1_q_4/sweeps/sdlyh3ti</a>"
            ]
          },
          "metadata": {}
        },
        {
          "output_type": "display_data",
          "data": {
            "text/plain": [
              "<IPython.core.display.HTML object>"
            ],
            "text/html": [
              " View run at <a href='https://wandb.ai/arunangshudutta218-iitm/dl_assgn_1_q_4/runs/omrsnhe5' target=\"_blank\">https://wandb.ai/arunangshudutta218-iitm/dl_assgn_1_q_4/runs/omrsnhe5</a>"
            ]
          },
          "metadata": {}
        },
        {
          "output_type": "stream",
          "name": "stdout",
          "text": [
            "1312.0\n"
          ]
        },
        {
          "output_type": "stream",
          "name": "stderr",
          "text": [
            "100%|██████████| 1312/1312 [00:13<00:00, 98.54it/s] \n",
            "100%|██████████| 1312/1312 [00:12<00:00, 103.96it/s]\n",
            "100%|██████████| 1312/1312 [00:13<00:00, 99.07it/s]\n",
            "100%|██████████| 1312/1312 [00:13<00:00, 99.05it/s]\n",
            "100%|██████████| 1312/1312 [00:12<00:00, 102.53it/s]\n",
            "100%|██████████| 1312/1312 [00:12<00:00, 106.20it/s]\n",
            "100%|██████████| 1312/1312 [00:12<00:00, 109.09it/s]\n",
            "100%|██████████| 1312/1312 [00:12<00:00, 107.43it/s]\n",
            "100%|██████████| 1312/1312 [00:12<00:00, 105.93it/s]\n",
            "100%|██████████| 1312/1312 [00:11<00:00, 109.62it/s]\n"
          ]
        },
        {
          "output_type": "display_data",
          "data": {
            "text/plain": [
              "<IPython.core.display.HTML object>"
            ],
            "text/html": []
          },
          "metadata": {}
        },
        {
          "output_type": "display_data",
          "data": {
            "text/plain": [
              "<IPython.core.display.HTML object>"
            ],
            "text/html": [
              "<br>    <style><br>        .wandb-row {<br>            display: flex;<br>            flex-direction: row;<br>            flex-wrap: wrap;<br>            justify-content: flex-start;<br>            width: 100%;<br>        }<br>        .wandb-col {<br>            display: flex;<br>            flex-direction: column;<br>            flex-basis: 100%;<br>            flex: 1;<br>            padding: 10px;<br>        }<br>    </style><br><div class=\"wandb-row\"><div class=\"wandb-col\"><h3>Run history:</h3><br/><table class=\"wandb\"><tr><td>tr_accuracy</td><td>▁▆▆▆██████</td></tr><tr><td>tr_loss</td><td>█▅▃▃▂▂▂▁▁▁</td></tr><tr><td>val_accuracy</td><td>▁▁▁▁▁▁▁███</td></tr><tr><td>val_loss</td><td>█▄▃▃▂▂▂▁▁▁</td></tr></table><br/></div><div class=\"wandb-col\"><h3>Run summary:</h3><br/><table class=\"wandb\"><tr><td>tr_accuracy</td><td>81.25</td></tr><tr><td>tr_loss</td><td>0.49403</td></tr><tr><td>val_accuracy</td><td>93.75</td></tr><tr><td>val_loss</td><td>0.50018</td></tr></table><br/></div></div>"
            ]
          },
          "metadata": {}
        },
        {
          "output_type": "display_data",
          "data": {
            "text/plain": [
              "<IPython.core.display.HTML object>"
            ],
            "text/html": [
              " View run <strong style=\"color:#cdcd00\">e_10_hl_3_hs_128_lr_0.0001_opt_adam_bs_32_init_Xavier_ac_tanh_l2_0.5</strong> at: <a href='https://wandb.ai/arunangshudutta218-iitm/dl_assgn_1_q_4/runs/omrsnhe5' target=\"_blank\">https://wandb.ai/arunangshudutta218-iitm/dl_assgn_1_q_4/runs/omrsnhe5</a><br> View project at: <a href='https://wandb.ai/arunangshudutta218-iitm/dl_assgn_1_q_4' target=\"_blank\">https://wandb.ai/arunangshudutta218-iitm/dl_assgn_1_q_4</a><br>Synced 5 W&B file(s), 0 media file(s), 0 artifact file(s) and 0 other file(s)"
            ]
          },
          "metadata": {}
        },
        {
          "output_type": "display_data",
          "data": {
            "text/plain": [
              "<IPython.core.display.HTML object>"
            ],
            "text/html": [
              "Find logs at: <code>./wandb/run-20250309_202931-omrsnhe5/logs</code>"
            ]
          },
          "metadata": {}
        },
        {
          "output_type": "stream",
          "name": "stderr",
          "text": [
            "\u001b[34m\u001b[1mwandb\u001b[0m: Agent Starting Run: 6u0k0go9 with config:\n",
            "\u001b[34m\u001b[1mwandb\u001b[0m: \tactivation: sigmoid\n",
            "\u001b[34m\u001b[1mwandb\u001b[0m: \tbatch_size: 64\n",
            "\u001b[34m\u001b[1mwandb\u001b[0m: \tepochs: 5\n",
            "\u001b[34m\u001b[1mwandb\u001b[0m: \thidden_size: 128\n",
            "\u001b[34m\u001b[1mwandb\u001b[0m: \tlearning_rate: 0.001\n",
            "\u001b[34m\u001b[1mwandb\u001b[0m: \tnum_layers: 4\n",
            "\u001b[34m\u001b[1mwandb\u001b[0m: \toptimizer: nag\n",
            "\u001b[34m\u001b[1mwandb\u001b[0m: \tweight_decay: 0.0005\n",
            "\u001b[34m\u001b[1mwandb\u001b[0m: \tweight_init: Xavier\n"
          ]
        },
        {
          "output_type": "display_data",
          "data": {
            "text/plain": [
              "<IPython.core.display.HTML object>"
            ],
            "text/html": [
              "Tracking run with wandb version 0.19.7"
            ]
          },
          "metadata": {}
        },
        {
          "output_type": "display_data",
          "data": {
            "text/plain": [
              "<IPython.core.display.HTML object>"
            ],
            "text/html": [
              "Run data is saved locally in <code>/content/wandb/run-20250309_203208-6u0k0go9</code>"
            ]
          },
          "metadata": {}
        },
        {
          "output_type": "display_data",
          "data": {
            "text/plain": [
              "<IPython.core.display.HTML object>"
            ],
            "text/html": [
              "Syncing run <strong><a href='https://wandb.ai/arunangshudutta218-iitm/dl_assgn_1_q_4/runs/6u0k0go9' target=\"_blank\">fanciful-sweep-73</a></strong> to <a href='https://wandb.ai/arunangshudutta218-iitm/dl_assgn_1_q_4' target=\"_blank\">Weights & Biases</a> (<a href='https://wandb.me/developer-guide' target=\"_blank\">docs</a>)<br>Sweep page: <a href='https://wandb.ai/arunangshudutta218-iitm/dl_assgn_1_q_4/sweeps/sdlyh3ti' target=\"_blank\">https://wandb.ai/arunangshudutta218-iitm/dl_assgn_1_q_4/sweeps/sdlyh3ti</a>"
            ]
          },
          "metadata": {}
        },
        {
          "output_type": "display_data",
          "data": {
            "text/plain": [
              "<IPython.core.display.HTML object>"
            ],
            "text/html": [
              " View project at <a href='https://wandb.ai/arunangshudutta218-iitm/dl_assgn_1_q_4' target=\"_blank\">https://wandb.ai/arunangshudutta218-iitm/dl_assgn_1_q_4</a>"
            ]
          },
          "metadata": {}
        },
        {
          "output_type": "display_data",
          "data": {
            "text/plain": [
              "<IPython.core.display.HTML object>"
            ],
            "text/html": [
              " View sweep at <a href='https://wandb.ai/arunangshudutta218-iitm/dl_assgn_1_q_4/sweeps/sdlyh3ti' target=\"_blank\">https://wandb.ai/arunangshudutta218-iitm/dl_assgn_1_q_4/sweeps/sdlyh3ti</a>"
            ]
          },
          "metadata": {}
        },
        {
          "output_type": "display_data",
          "data": {
            "text/plain": [
              "<IPython.core.display.HTML object>"
            ],
            "text/html": [
              " View run at <a href='https://wandb.ai/arunangshudutta218-iitm/dl_assgn_1_q_4/runs/6u0k0go9' target=\"_blank\">https://wandb.ai/arunangshudutta218-iitm/dl_assgn_1_q_4/runs/6u0k0go9</a>"
            ]
          },
          "metadata": {}
        },
        {
          "output_type": "stream",
          "name": "stdout",
          "text": [
            "656.0\n"
          ]
        },
        {
          "output_type": "stream",
          "name": "stderr",
          "text": [
            "100%|██████████| 656/656 [00:06<00:00, 101.51it/s]\n",
            "100%|██████████| 656/656 [00:05<00:00, 127.04it/s]\n",
            "100%|██████████| 656/656 [00:06<00:00, 95.75it/s]\n",
            "100%|██████████| 656/656 [00:05<00:00, 120.52it/s]\n",
            "100%|██████████| 656/656 [00:08<00:00, 79.39it/s]\n"
          ]
        },
        {
          "output_type": "display_data",
          "data": {
            "text/plain": [
              "<IPython.core.display.HTML object>"
            ],
            "text/html": []
          },
          "metadata": {}
        },
        {
          "output_type": "display_data",
          "data": {
            "text/plain": [
              "<IPython.core.display.HTML object>"
            ],
            "text/html": [
              "<br>    <style><br>        .wandb-row {<br>            display: flex;<br>            flex-direction: row;<br>            flex-wrap: wrap;<br>            justify-content: flex-start;<br>            width: 100%;<br>        }<br>        .wandb-col {<br>            display: flex;<br>            flex-direction: column;<br>            flex-basis: 100%;<br>            flex: 1;<br>            padding: 10px;<br>        }<br>    </style><br><div class=\"wandb-row\"><div class=\"wandb-col\"><h3>Run history:</h3><br/><table class=\"wandb\"><tr><td>tr_accuracy</td><td>▁▅▇▇█</td></tr><tr><td>tr_loss</td><td>█▃▂▁▁</td></tr><tr><td>val_accuracy</td><td>▁▅▇██</td></tr><tr><td>val_loss</td><td>█▃▂▁▁</td></tr></table><br/></div><div class=\"wandb-col\"><h3>Run summary:</h3><br/><table class=\"wandb\"><tr><td>tr_accuracy</td><td>87.5</td></tr><tr><td>tr_loss</td><td>0.44045</td></tr><tr><td>val_accuracy</td><td>89.0625</td></tr><tr><td>val_loss</td><td>0.45586</td></tr></table><br/></div></div>"
            ]
          },
          "metadata": {}
        },
        {
          "output_type": "display_data",
          "data": {
            "text/plain": [
              "<IPython.core.display.HTML object>"
            ],
            "text/html": [
              " View run <strong style=\"color:#cdcd00\">e_5_hl_4_hs_128_lr_0.001_opt_nag_bs_64_init_Xavier_ac_sigmoid_l2_0.0005</strong> at: <a href='https://wandb.ai/arunangshudutta218-iitm/dl_assgn_1_q_4/runs/6u0k0go9' target=\"_blank\">https://wandb.ai/arunangshudutta218-iitm/dl_assgn_1_q_4/runs/6u0k0go9</a><br> View project at: <a href='https://wandb.ai/arunangshudutta218-iitm/dl_assgn_1_q_4' target=\"_blank\">https://wandb.ai/arunangshudutta218-iitm/dl_assgn_1_q_4</a><br>Synced 5 W&B file(s), 0 media file(s), 0 artifact file(s) and 0 other file(s)"
            ]
          },
          "metadata": {}
        },
        {
          "output_type": "display_data",
          "data": {
            "text/plain": [
              "<IPython.core.display.HTML object>"
            ],
            "text/html": [
              "Find logs at: <code>./wandb/run-20250309_203208-6u0k0go9/logs</code>"
            ]
          },
          "metadata": {}
        },
        {
          "output_type": "stream",
          "name": "stderr",
          "text": [
            "\u001b[34m\u001b[1mwandb\u001b[0m: Agent Starting Run: 7lejz3jz with config:\n",
            "\u001b[34m\u001b[1mwandb\u001b[0m: \tactivation: sigmoid\n",
            "\u001b[34m\u001b[1mwandb\u001b[0m: \tbatch_size: 16\n",
            "\u001b[34m\u001b[1mwandb\u001b[0m: \tepochs: 5\n",
            "\u001b[34m\u001b[1mwandb\u001b[0m: \thidden_size: 64\n",
            "\u001b[34m\u001b[1mwandb\u001b[0m: \tlearning_rate: 0.001\n",
            "\u001b[34m\u001b[1mwandb\u001b[0m: \tnum_layers: 5\n",
            "\u001b[34m\u001b[1mwandb\u001b[0m: \toptimizer: rmsprop\n",
            "\u001b[34m\u001b[1mwandb\u001b[0m: \tweight_decay: 0.0005\n",
            "\u001b[34m\u001b[1mwandb\u001b[0m: \tweight_init: random\n"
          ]
        },
        {
          "output_type": "display_data",
          "data": {
            "text/plain": [
              "<IPython.core.display.HTML object>"
            ],
            "text/html": [
              "Tracking run with wandb version 0.19.7"
            ]
          },
          "metadata": {}
        },
        {
          "output_type": "display_data",
          "data": {
            "text/plain": [
              "<IPython.core.display.HTML object>"
            ],
            "text/html": [
              "Run data is saved locally in <code>/content/wandb/run-20250309_203259-7lejz3jz</code>"
            ]
          },
          "metadata": {}
        },
        {
          "output_type": "display_data",
          "data": {
            "text/plain": [
              "<IPython.core.display.HTML object>"
            ],
            "text/html": [
              "Syncing run <strong><a href='https://wandb.ai/arunangshudutta218-iitm/dl_assgn_1_q_4/runs/7lejz3jz' target=\"_blank\">feasible-sweep-74</a></strong> to <a href='https://wandb.ai/arunangshudutta218-iitm/dl_assgn_1_q_4' target=\"_blank\">Weights & Biases</a> (<a href='https://wandb.me/developer-guide' target=\"_blank\">docs</a>)<br>Sweep page: <a href='https://wandb.ai/arunangshudutta218-iitm/dl_assgn_1_q_4/sweeps/sdlyh3ti' target=\"_blank\">https://wandb.ai/arunangshudutta218-iitm/dl_assgn_1_q_4/sweeps/sdlyh3ti</a>"
            ]
          },
          "metadata": {}
        },
        {
          "output_type": "display_data",
          "data": {
            "text/plain": [
              "<IPython.core.display.HTML object>"
            ],
            "text/html": [
              " View project at <a href='https://wandb.ai/arunangshudutta218-iitm/dl_assgn_1_q_4' target=\"_blank\">https://wandb.ai/arunangshudutta218-iitm/dl_assgn_1_q_4</a>"
            ]
          },
          "metadata": {}
        },
        {
          "output_type": "display_data",
          "data": {
            "text/plain": [
              "<IPython.core.display.HTML object>"
            ],
            "text/html": [
              " View sweep at <a href='https://wandb.ai/arunangshudutta218-iitm/dl_assgn_1_q_4/sweeps/sdlyh3ti' target=\"_blank\">https://wandb.ai/arunangshudutta218-iitm/dl_assgn_1_q_4/sweeps/sdlyh3ti</a>"
            ]
          },
          "metadata": {}
        },
        {
          "output_type": "display_data",
          "data": {
            "text/plain": [
              "<IPython.core.display.HTML object>"
            ],
            "text/html": [
              " View run at <a href='https://wandb.ai/arunangshudutta218-iitm/dl_assgn_1_q_4/runs/7lejz3jz' target=\"_blank\">https://wandb.ai/arunangshudutta218-iitm/dl_assgn_1_q_4/runs/7lejz3jz</a>"
            ]
          },
          "metadata": {}
        },
        {
          "output_type": "stream",
          "name": "stdout",
          "text": [
            "2625.0\n"
          ]
        },
        {
          "output_type": "stream",
          "name": "stderr",
          "text": [
            "100%|██████████| 2625/2625 [00:10<00:00, 239.15it/s]\n",
            "100%|██████████| 2625/2625 [00:11<00:00, 231.53it/s]\n",
            "100%|██████████| 2625/2625 [00:08<00:00, 325.84it/s]\n",
            "100%|██████████| 2625/2625 [00:10<00:00, 246.21it/s]\n",
            "100%|██████████| 2625/2625 [00:10<00:00, 241.47it/s]\n"
          ]
        },
        {
          "output_type": "display_data",
          "data": {
            "text/plain": [
              "<IPython.core.display.HTML object>"
            ],
            "text/html": []
          },
          "metadata": {}
        },
        {
          "output_type": "display_data",
          "data": {
            "text/plain": [
              "<IPython.core.display.HTML object>"
            ],
            "text/html": [
              "<br>    <style><br>        .wandb-row {<br>            display: flex;<br>            flex-direction: row;<br>            flex-wrap: wrap;<br>            justify-content: flex-start;<br>            width: 100%;<br>        }<br>        .wandb-col {<br>            display: flex;<br>            flex-direction: column;<br>            flex-basis: 100%;<br>            flex: 1;<br>            padding: 10px;<br>        }<br>    </style><br><div class=\"wandb-row\"><div class=\"wandb-col\"><h3>Run history:</h3><br/><table class=\"wandb\"><tr><td>tr_accuracy</td><td>▁▁▁▁▁</td></tr><tr><td>tr_loss</td><td>█▅▃▁▁</td></tr><tr><td>val_accuracy</td><td>███▁█</td></tr><tr><td>val_loss</td><td>█▅▃▁▁</td></tr></table><br/></div><div class=\"wandb-col\"><h3>Run summary:</h3><br/><table class=\"wandb\"><tr><td>tr_accuracy</td><td>93.75</td></tr><tr><td>tr_loss</td><td>0.44657</td></tr><tr><td>val_accuracy</td><td>93.75</td></tr><tr><td>val_loss</td><td>0.48081</td></tr></table><br/></div></div>"
            ]
          },
          "metadata": {}
        },
        {
          "output_type": "display_data",
          "data": {
            "text/plain": [
              "<IPython.core.display.HTML object>"
            ],
            "text/html": [
              " View run <strong style=\"color:#cdcd00\">e_5_hl_5_hs_64_lr_0.001_opt_rmsprop_bs_16_init_random_ac_sigmoid_l2_0.0005</strong> at: <a href='https://wandb.ai/arunangshudutta218-iitm/dl_assgn_1_q_4/runs/7lejz3jz' target=\"_blank\">https://wandb.ai/arunangshudutta218-iitm/dl_assgn_1_q_4/runs/7lejz3jz</a><br> View project at: <a href='https://wandb.ai/arunangshudutta218-iitm/dl_assgn_1_q_4' target=\"_blank\">https://wandb.ai/arunangshudutta218-iitm/dl_assgn_1_q_4</a><br>Synced 5 W&B file(s), 0 media file(s), 0 artifact file(s) and 0 other file(s)"
            ]
          },
          "metadata": {}
        },
        {
          "output_type": "display_data",
          "data": {
            "text/plain": [
              "<IPython.core.display.HTML object>"
            ],
            "text/html": [
              "Find logs at: <code>./wandb/run-20250309_203259-7lejz3jz/logs</code>"
            ]
          },
          "metadata": {}
        },
        {
          "output_type": "stream",
          "name": "stderr",
          "text": [
            "\u001b[34m\u001b[1mwandb\u001b[0m: Agent Starting Run: z46phv3v with config:\n",
            "\u001b[34m\u001b[1mwandb\u001b[0m: \tactivation: sigmoid\n",
            "\u001b[34m\u001b[1mwandb\u001b[0m: \tbatch_size: 32\n",
            "\u001b[34m\u001b[1mwandb\u001b[0m: \tepochs: 10\n",
            "\u001b[34m\u001b[1mwandb\u001b[0m: \thidden_size: 64\n",
            "\u001b[34m\u001b[1mwandb\u001b[0m: \tlearning_rate: 0.0001\n",
            "\u001b[34m\u001b[1mwandb\u001b[0m: \tnum_layers: 4\n",
            "\u001b[34m\u001b[1mwandb\u001b[0m: \toptimizer: nadam\n",
            "\u001b[34m\u001b[1mwandb\u001b[0m: \tweight_decay: 0\n",
            "\u001b[34m\u001b[1mwandb\u001b[0m: \tweight_init: random\n"
          ]
        },
        {
          "output_type": "display_data",
          "data": {
            "text/plain": [
              "<IPython.core.display.HTML object>"
            ],
            "text/html": [
              "Tracking run with wandb version 0.19.7"
            ]
          },
          "metadata": {}
        },
        {
          "output_type": "display_data",
          "data": {
            "text/plain": [
              "<IPython.core.display.HTML object>"
            ],
            "text/html": [
              "Run data is saved locally in <code>/content/wandb/run-20250309_203401-z46phv3v</code>"
            ]
          },
          "metadata": {}
        },
        {
          "output_type": "display_data",
          "data": {
            "text/plain": [
              "<IPython.core.display.HTML object>"
            ],
            "text/html": [
              "Syncing run <strong><a href='https://wandb.ai/arunangshudutta218-iitm/dl_assgn_1_q_4/runs/z46phv3v' target=\"_blank\">elated-sweep-75</a></strong> to <a href='https://wandb.ai/arunangshudutta218-iitm/dl_assgn_1_q_4' target=\"_blank\">Weights & Biases</a> (<a href='https://wandb.me/developer-guide' target=\"_blank\">docs</a>)<br>Sweep page: <a href='https://wandb.ai/arunangshudutta218-iitm/dl_assgn_1_q_4/sweeps/sdlyh3ti' target=\"_blank\">https://wandb.ai/arunangshudutta218-iitm/dl_assgn_1_q_4/sweeps/sdlyh3ti</a>"
            ]
          },
          "metadata": {}
        },
        {
          "output_type": "display_data",
          "data": {
            "text/plain": [
              "<IPython.core.display.HTML object>"
            ],
            "text/html": [
              " View project at <a href='https://wandb.ai/arunangshudutta218-iitm/dl_assgn_1_q_4' target=\"_blank\">https://wandb.ai/arunangshudutta218-iitm/dl_assgn_1_q_4</a>"
            ]
          },
          "metadata": {}
        },
        {
          "output_type": "display_data",
          "data": {
            "text/plain": [
              "<IPython.core.display.HTML object>"
            ],
            "text/html": [
              " View sweep at <a href='https://wandb.ai/arunangshudutta218-iitm/dl_assgn_1_q_4/sweeps/sdlyh3ti' target=\"_blank\">https://wandb.ai/arunangshudutta218-iitm/dl_assgn_1_q_4/sweeps/sdlyh3ti</a>"
            ]
          },
          "metadata": {}
        },
        {
          "output_type": "display_data",
          "data": {
            "text/plain": [
              "<IPython.core.display.HTML object>"
            ],
            "text/html": [
              " View run at <a href='https://wandb.ai/arunangshudutta218-iitm/dl_assgn_1_q_4/runs/z46phv3v' target=\"_blank\">https://wandb.ai/arunangshudutta218-iitm/dl_assgn_1_q_4/runs/z46phv3v</a>"
            ]
          },
          "metadata": {}
        },
        {
          "output_type": "stream",
          "name": "stdout",
          "text": [
            "1312.0\n"
          ]
        },
        {
          "output_type": "stream",
          "name": "stderr",
          "text": [
            "100%|██████████| 1312/1312 [00:06<00:00, 188.93it/s]\n",
            "100%|██████████| 1312/1312 [00:06<00:00, 198.56it/s]\n",
            "100%|██████████| 1312/1312 [00:07<00:00, 186.58it/s]\n",
            "100%|██████████| 1312/1312 [00:06<00:00, 194.48it/s]\n",
            "100%|██████████| 1312/1312 [00:06<00:00, 210.43it/s]\n",
            "100%|██████████| 1312/1312 [00:07<00:00, 170.01it/s]\n",
            "100%|██████████| 1312/1312 [00:05<00:00, 233.46it/s]\n",
            "100%|██████████| 1312/1312 [00:07<00:00, 172.05it/s]\n",
            "100%|██████████| 1312/1312 [00:05<00:00, 242.70it/s]\n",
            "100%|██████████| 1312/1312 [00:08<00:00, 154.43it/s]\n"
          ]
        },
        {
          "output_type": "display_data",
          "data": {
            "text/plain": [
              "<IPython.core.display.HTML object>"
            ],
            "text/html": []
          },
          "metadata": {}
        },
        {
          "output_type": "display_data",
          "data": {
            "text/plain": [
              "<IPython.core.display.HTML object>"
            ],
            "text/html": [
              "<br>    <style><br>        .wandb-row {<br>            display: flex;<br>            flex-direction: row;<br>            flex-wrap: wrap;<br>            justify-content: flex-start;<br>            width: 100%;<br>        }<br>        .wandb-col {<br>            display: flex;<br>            flex-direction: column;<br>            flex-basis: 100%;<br>            flex: 1;<br>            padding: 10px;<br>        }<br>    </style><br><div class=\"wandb-row\"><div class=\"wandb-col\"><h3>Run history:</h3><br/><table class=\"wandb\"><tr><td>tr_accuracy</td><td>▁▃▄▅▇▇▇▇▇█</td></tr><tr><td>tr_loss</td><td>█▄▃▂▂▂▁▁▁▁</td></tr><tr><td>val_accuracy</td><td>▁▅▇▇████▇▇</td></tr><tr><td>val_loss</td><td>█▄▃▂▂▂▁▁▁▁</td></tr></table><br/></div><div class=\"wandb-col\"><h3>Run summary:</h3><br/><table class=\"wandb\"><tr><td>tr_accuracy</td><td>81.25</td></tr><tr><td>tr_loss</td><td>0.5795</td></tr><tr><td>val_accuracy</td><td>75</td></tr><tr><td>val_loss</td><td>0.59306</td></tr></table><br/></div></div>"
            ]
          },
          "metadata": {}
        },
        {
          "output_type": "display_data",
          "data": {
            "text/plain": [
              "<IPython.core.display.HTML object>"
            ],
            "text/html": [
              " View run <strong style=\"color:#cdcd00\">e_10_hl_4_hs_64_lr_0.0001_opt_nadam_bs_32_init_random_ac_sigmoid_l2_0</strong> at: <a href='https://wandb.ai/arunangshudutta218-iitm/dl_assgn_1_q_4/runs/z46phv3v' target=\"_blank\">https://wandb.ai/arunangshudutta218-iitm/dl_assgn_1_q_4/runs/z46phv3v</a><br> View project at: <a href='https://wandb.ai/arunangshudutta218-iitm/dl_assgn_1_q_4' target=\"_blank\">https://wandb.ai/arunangshudutta218-iitm/dl_assgn_1_q_4</a><br>Synced 5 W&B file(s), 0 media file(s), 0 artifact file(s) and 0 other file(s)"
            ]
          },
          "metadata": {}
        },
        {
          "output_type": "display_data",
          "data": {
            "text/plain": [
              "<IPython.core.display.HTML object>"
            ],
            "text/html": [
              "Find logs at: <code>./wandb/run-20250309_203401-z46phv3v/logs</code>"
            ]
          },
          "metadata": {}
        },
        {
          "output_type": "stream",
          "name": "stderr",
          "text": [
            "\u001b[34m\u001b[1mwandb\u001b[0m: Agent Starting Run: kjixjc11 with config:\n",
            "\u001b[34m\u001b[1mwandb\u001b[0m: \tactivation: ReLU\n",
            "\u001b[34m\u001b[1mwandb\u001b[0m: \tbatch_size: 64\n",
            "\u001b[34m\u001b[1mwandb\u001b[0m: \tepochs: 5\n",
            "\u001b[34m\u001b[1mwandb\u001b[0m: \thidden_size: 32\n",
            "\u001b[34m\u001b[1mwandb\u001b[0m: \tlearning_rate: 0.0001\n",
            "\u001b[34m\u001b[1mwandb\u001b[0m: \tnum_layers: 3\n",
            "\u001b[34m\u001b[1mwandb\u001b[0m: \toptimizer: sgd\n",
            "\u001b[34m\u001b[1mwandb\u001b[0m: \tweight_decay: 0.5\n",
            "\u001b[34m\u001b[1mwandb\u001b[0m: \tweight_init: random\n"
          ]
        },
        {
          "output_type": "display_data",
          "data": {
            "text/plain": [
              "<IPython.core.display.HTML object>"
            ],
            "text/html": [
              "Tracking run with wandb version 0.19.7"
            ]
          },
          "metadata": {}
        },
        {
          "output_type": "display_data",
          "data": {
            "text/plain": [
              "<IPython.core.display.HTML object>"
            ],
            "text/html": [
              "Run data is saved locally in <code>/content/wandb/run-20250309_203527-kjixjc11</code>"
            ]
          },
          "metadata": {}
        },
        {
          "output_type": "display_data",
          "data": {
            "text/plain": [
              "<IPython.core.display.HTML object>"
            ],
            "text/html": [
              "Syncing run <strong><a href='https://wandb.ai/arunangshudutta218-iitm/dl_assgn_1_q_4/runs/kjixjc11' target=\"_blank\">upbeat-sweep-76</a></strong> to <a href='https://wandb.ai/arunangshudutta218-iitm/dl_assgn_1_q_4' target=\"_blank\">Weights & Biases</a> (<a href='https://wandb.me/developer-guide' target=\"_blank\">docs</a>)<br>Sweep page: <a href='https://wandb.ai/arunangshudutta218-iitm/dl_assgn_1_q_4/sweeps/sdlyh3ti' target=\"_blank\">https://wandb.ai/arunangshudutta218-iitm/dl_assgn_1_q_4/sweeps/sdlyh3ti</a>"
            ]
          },
          "metadata": {}
        },
        {
          "output_type": "display_data",
          "data": {
            "text/plain": [
              "<IPython.core.display.HTML object>"
            ],
            "text/html": [
              " View project at <a href='https://wandb.ai/arunangshudutta218-iitm/dl_assgn_1_q_4' target=\"_blank\">https://wandb.ai/arunangshudutta218-iitm/dl_assgn_1_q_4</a>"
            ]
          },
          "metadata": {}
        },
        {
          "output_type": "display_data",
          "data": {
            "text/plain": [
              "<IPython.core.display.HTML object>"
            ],
            "text/html": [
              " View sweep at <a href='https://wandb.ai/arunangshudutta218-iitm/dl_assgn_1_q_4/sweeps/sdlyh3ti' target=\"_blank\">https://wandb.ai/arunangshudutta218-iitm/dl_assgn_1_q_4/sweeps/sdlyh3ti</a>"
            ]
          },
          "metadata": {}
        },
        {
          "output_type": "display_data",
          "data": {
            "text/plain": [
              "<IPython.core.display.HTML object>"
            ],
            "text/html": [
              " View run at <a href='https://wandb.ai/arunangshudutta218-iitm/dl_assgn_1_q_4/runs/kjixjc11' target=\"_blank\">https://wandb.ai/arunangshudutta218-iitm/dl_assgn_1_q_4/runs/kjixjc11</a>"
            ]
          },
          "metadata": {}
        },
        {
          "output_type": "stream",
          "name": "stdout",
          "text": [
            "656.0\n"
          ]
        },
        {
          "output_type": "stream",
          "name": "stderr",
          "text": [
            "100%|██████████| 656/656 [00:01<00:00, 378.80it/s]\n",
            "100%|██████████| 656/656 [00:01<00:00, 345.05it/s]\n",
            "100%|██████████| 656/656 [00:00<00:00, 701.77it/s]\n",
            "100%|██████████| 656/656 [00:00<00:00, 707.11it/s]\n",
            "100%|██████████| 656/656 [00:00<00:00, 662.93it/s]\n"
          ]
        },
        {
          "output_type": "display_data",
          "data": {
            "text/plain": [
              "<IPython.core.display.HTML object>"
            ],
            "text/html": []
          },
          "metadata": {}
        },
        {
          "output_type": "display_data",
          "data": {
            "text/plain": [
              "<IPython.core.display.HTML object>"
            ],
            "text/html": [
              "<br>    <style><br>        .wandb-row {<br>            display: flex;<br>            flex-direction: row;<br>            flex-wrap: wrap;<br>            justify-content: flex-start;<br>            width: 100%;<br>        }<br>        .wandb-col {<br>            display: flex;<br>            flex-direction: column;<br>            flex-basis: 100%;<br>            flex: 1;<br>            padding: 10px;<br>        }<br>    </style><br><div class=\"wandb-row\"><div class=\"wandb-col\"><h3>Run history:</h3><br/><table class=\"wandb\"><tr><td>tr_accuracy</td><td>▁▁▁▁▁</td></tr><tr><td>val_accuracy</td><td>▁▁▁▁▁</td></tr></table><br/></div><div class=\"wandb-col\"><h3>Run summary:</h3><br/><table class=\"wandb\"><tr><td>tr_accuracy</td><td>12.5</td></tr><tr><td>tr_loss</td><td>nan</td></tr><tr><td>val_accuracy</td><td>6.25</td></tr><tr><td>val_loss</td><td>nan</td></tr></table><br/></div></div>"
            ]
          },
          "metadata": {}
        },
        {
          "output_type": "display_data",
          "data": {
            "text/plain": [
              "<IPython.core.display.HTML object>"
            ],
            "text/html": [
              " View run <strong style=\"color:#cdcd00\">e_5_hl_3_hs_32_lr_0.0001_opt_sgd_bs_64_init_random_ac_ReLU_l2_0.5</strong> at: <a href='https://wandb.ai/arunangshudutta218-iitm/dl_assgn_1_q_4/runs/kjixjc11' target=\"_blank\">https://wandb.ai/arunangshudutta218-iitm/dl_assgn_1_q_4/runs/kjixjc11</a><br> View project at: <a href='https://wandb.ai/arunangshudutta218-iitm/dl_assgn_1_q_4' target=\"_blank\">https://wandb.ai/arunangshudutta218-iitm/dl_assgn_1_q_4</a><br>Synced 5 W&B file(s), 0 media file(s), 0 artifact file(s) and 0 other file(s)"
            ]
          },
          "metadata": {}
        },
        {
          "output_type": "display_data",
          "data": {
            "text/plain": [
              "<IPython.core.display.HTML object>"
            ],
            "text/html": [
              "Find logs at: <code>./wandb/run-20250309_203527-kjixjc11/logs</code>"
            ]
          },
          "metadata": {}
        },
        {
          "output_type": "stream",
          "name": "stderr",
          "text": [
            "\u001b[34m\u001b[1mwandb\u001b[0m: Agent Starting Run: djn53i5q with config:\n",
            "\u001b[34m\u001b[1mwandb\u001b[0m: \tactivation: sigmoid\n",
            "\u001b[34m\u001b[1mwandb\u001b[0m: \tbatch_size: 64\n",
            "\u001b[34m\u001b[1mwandb\u001b[0m: \tepochs: 5\n",
            "\u001b[34m\u001b[1mwandb\u001b[0m: \thidden_size: 64\n",
            "\u001b[34m\u001b[1mwandb\u001b[0m: \tlearning_rate: 0.0001\n",
            "\u001b[34m\u001b[1mwandb\u001b[0m: \tnum_layers: 3\n",
            "\u001b[34m\u001b[1mwandb\u001b[0m: \toptimizer: sgd\n",
            "\u001b[34m\u001b[1mwandb\u001b[0m: \tweight_decay: 0.5\n",
            "\u001b[34m\u001b[1mwandb\u001b[0m: \tweight_init: Xavier\n"
          ]
        },
        {
          "output_type": "display_data",
          "data": {
            "text/plain": [
              "<IPython.core.display.HTML object>"
            ],
            "text/html": [
              "Tracking run with wandb version 0.19.7"
            ]
          },
          "metadata": {}
        },
        {
          "output_type": "display_data",
          "data": {
            "text/plain": [
              "<IPython.core.display.HTML object>"
            ],
            "text/html": [
              "Run data is saved locally in <code>/content/wandb/run-20250309_203544-djn53i5q</code>"
            ]
          },
          "metadata": {}
        },
        {
          "output_type": "display_data",
          "data": {
            "text/plain": [
              "<IPython.core.display.HTML object>"
            ],
            "text/html": [
              "Syncing run <strong><a href='https://wandb.ai/arunangshudutta218-iitm/dl_assgn_1_q_4/runs/djn53i5q' target=\"_blank\">bumbling-sweep-77</a></strong> to <a href='https://wandb.ai/arunangshudutta218-iitm/dl_assgn_1_q_4' target=\"_blank\">Weights & Biases</a> (<a href='https://wandb.me/developer-guide' target=\"_blank\">docs</a>)<br>Sweep page: <a href='https://wandb.ai/arunangshudutta218-iitm/dl_assgn_1_q_4/sweeps/sdlyh3ti' target=\"_blank\">https://wandb.ai/arunangshudutta218-iitm/dl_assgn_1_q_4/sweeps/sdlyh3ti</a>"
            ]
          },
          "metadata": {}
        },
        {
          "output_type": "display_data",
          "data": {
            "text/plain": [
              "<IPython.core.display.HTML object>"
            ],
            "text/html": [
              " View project at <a href='https://wandb.ai/arunangshudutta218-iitm/dl_assgn_1_q_4' target=\"_blank\">https://wandb.ai/arunangshudutta218-iitm/dl_assgn_1_q_4</a>"
            ]
          },
          "metadata": {}
        },
        {
          "output_type": "display_data",
          "data": {
            "text/plain": [
              "<IPython.core.display.HTML object>"
            ],
            "text/html": [
              " View sweep at <a href='https://wandb.ai/arunangshudutta218-iitm/dl_assgn_1_q_4/sweeps/sdlyh3ti' target=\"_blank\">https://wandb.ai/arunangshudutta218-iitm/dl_assgn_1_q_4/sweeps/sdlyh3ti</a>"
            ]
          },
          "metadata": {}
        },
        {
          "output_type": "display_data",
          "data": {
            "text/plain": [
              "<IPython.core.display.HTML object>"
            ],
            "text/html": [
              " View run at <a href='https://wandb.ai/arunangshudutta218-iitm/dl_assgn_1_q_4/runs/djn53i5q' target=\"_blank\">https://wandb.ai/arunangshudutta218-iitm/dl_assgn_1_q_4/runs/djn53i5q</a>"
            ]
          },
          "metadata": {}
        },
        {
          "output_type": "stream",
          "name": "stdout",
          "text": [
            "656.0\n"
          ]
        },
        {
          "output_type": "stream",
          "name": "stderr",
          "text": [
            "100%|██████████| 656/656 [00:02<00:00, 304.15it/s]\n",
            "100%|██████████| 656/656 [00:02<00:00, 284.74it/s]\n",
            "100%|██████████| 656/656 [00:01<00:00, 346.41it/s]\n",
            "100%|██████████| 656/656 [00:01<00:00, 349.01it/s]\n",
            "100%|██████████| 656/656 [00:03<00:00, 187.57it/s]\n"
          ]
        },
        {
          "output_type": "display_data",
          "data": {
            "text/plain": [
              "<IPython.core.display.HTML object>"
            ],
            "text/html": []
          },
          "metadata": {}
        },
        {
          "output_type": "display_data",
          "data": {
            "text/plain": [
              "<IPython.core.display.HTML object>"
            ],
            "text/html": [
              "<br>    <style><br>        .wandb-row {<br>            display: flex;<br>            flex-direction: row;<br>            flex-wrap: wrap;<br>            justify-content: flex-start;<br>            width: 100%;<br>        }<br>        .wandb-col {<br>            display: flex;<br>            flex-direction: column;<br>            flex-basis: 100%;<br>            flex: 1;<br>            padding: 10px;<br>        }<br>    </style><br><div class=\"wandb-row\"><div class=\"wandb-col\"><h3>Run history:</h3><br/><table class=\"wandb\"><tr><td>tr_accuracy</td><td>▁▁▁▁▁</td></tr><tr><td>tr_loss</td><td>█▅▃▂▁</td></tr><tr><td>val_accuracy</td><td>▁▁▁▁▁</td></tr><tr><td>val_loss</td><td>█▅▃▂▁</td></tr></table><br/></div><div class=\"wandb-col\"><h3>Run summary:</h3><br/><table class=\"wandb\"><tr><td>tr_accuracy</td><td>14.0625</td></tr><tr><td>tr_loss</td><td>2.31054</td></tr><tr><td>val_accuracy</td><td>12.5</td></tr><tr><td>val_loss</td><td>2.30984</td></tr></table><br/></div></div>"
            ]
          },
          "metadata": {}
        },
        {
          "output_type": "display_data",
          "data": {
            "text/plain": [
              "<IPython.core.display.HTML object>"
            ],
            "text/html": [
              " View run <strong style=\"color:#cdcd00\">e_5_hl_3_hs_64_lr_0.0001_opt_sgd_bs_64_init_Xavier_ac_sigmoid_l2_0.5</strong> at: <a href='https://wandb.ai/arunangshudutta218-iitm/dl_assgn_1_q_4/runs/djn53i5q' target=\"_blank\">https://wandb.ai/arunangshudutta218-iitm/dl_assgn_1_q_4/runs/djn53i5q</a><br> View project at: <a href='https://wandb.ai/arunangshudutta218-iitm/dl_assgn_1_q_4' target=\"_blank\">https://wandb.ai/arunangshudutta218-iitm/dl_assgn_1_q_4</a><br>Synced 5 W&B file(s), 0 media file(s), 0 artifact file(s) and 0 other file(s)"
            ]
          },
          "metadata": {}
        },
        {
          "output_type": "display_data",
          "data": {
            "text/plain": [
              "<IPython.core.display.HTML object>"
            ],
            "text/html": [
              "Find logs at: <code>./wandb/run-20250309_203544-djn53i5q/logs</code>"
            ]
          },
          "metadata": {}
        },
        {
          "output_type": "stream",
          "name": "stderr",
          "text": [
            "\u001b[34m\u001b[1mwandb\u001b[0m: Sweep Agent: Waiting for job.\n",
            "\u001b[34m\u001b[1mwandb\u001b[0m: Job received.\n",
            "\u001b[34m\u001b[1mwandb\u001b[0m: Agent Starting Run: o1x14ghd with config:\n",
            "\u001b[34m\u001b[1mwandb\u001b[0m: \tactivation: sigmoid\n",
            "\u001b[34m\u001b[1mwandb\u001b[0m: \tbatch_size: 32\n",
            "\u001b[34m\u001b[1mwandb\u001b[0m: \tepochs: 10\n",
            "\u001b[34m\u001b[1mwandb\u001b[0m: \thidden_size: 128\n",
            "\u001b[34m\u001b[1mwandb\u001b[0m: \tlearning_rate: 0.001\n",
            "\u001b[34m\u001b[1mwandb\u001b[0m: \tnum_layers: 3\n",
            "\u001b[34m\u001b[1mwandb\u001b[0m: \toptimizer: nadam\n",
            "\u001b[34m\u001b[1mwandb\u001b[0m: \tweight_decay: 0\n",
            "\u001b[34m\u001b[1mwandb\u001b[0m: \tweight_init: random\n"
          ]
        },
        {
          "output_type": "display_data",
          "data": {
            "text/plain": [
              "<IPython.core.display.HTML object>"
            ],
            "text/html": [
              "Tracking run with wandb version 0.19.7"
            ]
          },
          "metadata": {}
        },
        {
          "output_type": "display_data",
          "data": {
            "text/plain": [
              "<IPython.core.display.HTML object>"
            ],
            "text/html": [
              "Run data is saved locally in <code>/content/wandb/run-20250309_203614-o1x14ghd</code>"
            ]
          },
          "metadata": {}
        },
        {
          "output_type": "display_data",
          "data": {
            "text/plain": [
              "<IPython.core.display.HTML object>"
            ],
            "text/html": [
              "Syncing run <strong><a href='https://wandb.ai/arunangshudutta218-iitm/dl_assgn_1_q_4/runs/o1x14ghd' target=\"_blank\">worldly-sweep-78</a></strong> to <a href='https://wandb.ai/arunangshudutta218-iitm/dl_assgn_1_q_4' target=\"_blank\">Weights & Biases</a> (<a href='https://wandb.me/developer-guide' target=\"_blank\">docs</a>)<br>Sweep page: <a href='https://wandb.ai/arunangshudutta218-iitm/dl_assgn_1_q_4/sweeps/sdlyh3ti' target=\"_blank\">https://wandb.ai/arunangshudutta218-iitm/dl_assgn_1_q_4/sweeps/sdlyh3ti</a>"
            ]
          },
          "metadata": {}
        },
        {
          "output_type": "display_data",
          "data": {
            "text/plain": [
              "<IPython.core.display.HTML object>"
            ],
            "text/html": [
              " View project at <a href='https://wandb.ai/arunangshudutta218-iitm/dl_assgn_1_q_4' target=\"_blank\">https://wandb.ai/arunangshudutta218-iitm/dl_assgn_1_q_4</a>"
            ]
          },
          "metadata": {}
        },
        {
          "output_type": "display_data",
          "data": {
            "text/plain": [
              "<IPython.core.display.HTML object>"
            ],
            "text/html": [
              " View sweep at <a href='https://wandb.ai/arunangshudutta218-iitm/dl_assgn_1_q_4/sweeps/sdlyh3ti' target=\"_blank\">https://wandb.ai/arunangshudutta218-iitm/dl_assgn_1_q_4/sweeps/sdlyh3ti</a>"
            ]
          },
          "metadata": {}
        },
        {
          "output_type": "display_data",
          "data": {
            "text/plain": [
              "<IPython.core.display.HTML object>"
            ],
            "text/html": [
              " View run at <a href='https://wandb.ai/arunangshudutta218-iitm/dl_assgn_1_q_4/runs/o1x14ghd' target=\"_blank\">https://wandb.ai/arunangshudutta218-iitm/dl_assgn_1_q_4/runs/o1x14ghd</a>"
            ]
          },
          "metadata": {}
        },
        {
          "output_type": "stream",
          "name": "stdout",
          "text": [
            "1312.0\n"
          ]
        },
        {
          "output_type": "stream",
          "name": "stderr",
          "text": [
            "100%|██████████| 1312/1312 [00:10<00:00, 126.63it/s]\n",
            "100%|██████████| 1312/1312 [00:09<00:00, 136.66it/s]\n",
            "100%|██████████| 1312/1312 [00:11<00:00, 114.77it/s]\n",
            "100%|██████████| 1312/1312 [00:11<00:00, 110.05it/s]\n",
            "100%|██████████| 1312/1312 [00:12<00:00, 104.95it/s]\n",
            "100%|██████████| 1312/1312 [00:11<00:00, 110.81it/s]\n",
            "100%|██████████| 1312/1312 [00:10<00:00, 124.29it/s]\n",
            "100%|██████████| 1312/1312 [00:09<00:00, 132.81it/s]\n",
            "100%|██████████| 1312/1312 [00:11<00:00, 112.39it/s]\n",
            "100%|██████████| 1312/1312 [00:12<00:00, 108.28it/s]\n"
          ]
        },
        {
          "output_type": "display_data",
          "data": {
            "text/plain": [
              "<IPython.core.display.HTML object>"
            ],
            "text/html": []
          },
          "metadata": {}
        },
        {
          "output_type": "display_data",
          "data": {
            "text/plain": [
              "<IPython.core.display.HTML object>"
            ],
            "text/html": [
              "<br>    <style><br>        .wandb-row {<br>            display: flex;<br>            flex-direction: row;<br>            flex-wrap: wrap;<br>            justify-content: flex-start;<br>            width: 100%;<br>        }<br>        .wandb-col {<br>            display: flex;<br>            flex-direction: column;<br>            flex-basis: 100%;<br>            flex: 1;<br>            padding: 10px;<br>        }<br>    </style><br><div class=\"wandb-row\"><div class=\"wandb-col\"><h3>Run history:</h3><br/><table class=\"wandb\"><tr><td>tr_accuracy</td><td>▁▁▁▄▄▅▂▇██</td></tr><tr><td>tr_loss</td><td>█▅▄▃▂▂▂▁▁▁</td></tr><tr><td>val_accuracy</td><td>▁▅▅▅▅▅█▅██</td></tr><tr><td>val_loss</td><td>█▄▃▂▁▁▁▁▁▂</td></tr></table><br/></div><div class=\"wandb-col\"><h3>Run summary:</h3><br/><table class=\"wandb\"><tr><td>tr_accuracy</td><td>93.75</td></tr><tr><td>tr_loss</td><td>0.36908</td></tr><tr><td>val_accuracy</td><td>90.625</td></tr><tr><td>val_loss</td><td>0.48778</td></tr></table><br/></div></div>"
            ]
          },
          "metadata": {}
        },
        {
          "output_type": "display_data",
          "data": {
            "text/plain": [
              "<IPython.core.display.HTML object>"
            ],
            "text/html": [
              " View run <strong style=\"color:#cdcd00\">e_10_hl_3_hs_128_lr_0.001_opt_nadam_bs_32_init_random_ac_sigmoid_l2_0</strong> at: <a href='https://wandb.ai/arunangshudutta218-iitm/dl_assgn_1_q_4/runs/o1x14ghd' target=\"_blank\">https://wandb.ai/arunangshudutta218-iitm/dl_assgn_1_q_4/runs/o1x14ghd</a><br> View project at: <a href='https://wandb.ai/arunangshudutta218-iitm/dl_assgn_1_q_4' target=\"_blank\">https://wandb.ai/arunangshudutta218-iitm/dl_assgn_1_q_4</a><br>Synced 5 W&B file(s), 0 media file(s), 0 artifact file(s) and 0 other file(s)"
            ]
          },
          "metadata": {}
        },
        {
          "output_type": "display_data",
          "data": {
            "text/plain": [
              "<IPython.core.display.HTML object>"
            ],
            "text/html": [
              "Find logs at: <code>./wandb/run-20250309_203614-o1x14ghd/logs</code>"
            ]
          },
          "metadata": {}
        },
        {
          "output_type": "stream",
          "name": "stderr",
          "text": [
            "\u001b[34m\u001b[1mwandb\u001b[0m: Agent Starting Run: sij8qs0u with config:\n",
            "\u001b[34m\u001b[1mwandb\u001b[0m: \tactivation: tanh\n",
            "\u001b[34m\u001b[1mwandb\u001b[0m: \tbatch_size: 64\n",
            "\u001b[34m\u001b[1mwandb\u001b[0m: \tepochs: 10\n",
            "\u001b[34m\u001b[1mwandb\u001b[0m: \thidden_size: 128\n",
            "\u001b[34m\u001b[1mwandb\u001b[0m: \tlearning_rate: 0.001\n",
            "\u001b[34m\u001b[1mwandb\u001b[0m: \tnum_layers: 3\n",
            "\u001b[34m\u001b[1mwandb\u001b[0m: \toptimizer: nadam\n",
            "\u001b[34m\u001b[1mwandb\u001b[0m: \tweight_decay: 0.5\n",
            "\u001b[34m\u001b[1mwandb\u001b[0m: \tweight_init: random\n"
          ]
        },
        {
          "output_type": "display_data",
          "data": {
            "text/plain": [
              "<IPython.core.display.HTML object>"
            ],
            "text/html": [
              "Tracking run with wandb version 0.19.7"
            ]
          },
          "metadata": {}
        },
        {
          "output_type": "display_data",
          "data": {
            "text/plain": [
              "<IPython.core.display.HTML object>"
            ],
            "text/html": [
              "Run data is saved locally in <code>/content/wandb/run-20250309_203826-sij8qs0u</code>"
            ]
          },
          "metadata": {}
        },
        {
          "output_type": "display_data",
          "data": {
            "text/plain": [
              "<IPython.core.display.HTML object>"
            ],
            "text/html": [
              "Syncing run <strong><a href='https://wandb.ai/arunangshudutta218-iitm/dl_assgn_1_q_4/runs/sij8qs0u' target=\"_blank\">exalted-sweep-79</a></strong> to <a href='https://wandb.ai/arunangshudutta218-iitm/dl_assgn_1_q_4' target=\"_blank\">Weights & Biases</a> (<a href='https://wandb.me/developer-guide' target=\"_blank\">docs</a>)<br>Sweep page: <a href='https://wandb.ai/arunangshudutta218-iitm/dl_assgn_1_q_4/sweeps/sdlyh3ti' target=\"_blank\">https://wandb.ai/arunangshudutta218-iitm/dl_assgn_1_q_4/sweeps/sdlyh3ti</a>"
            ]
          },
          "metadata": {}
        },
        {
          "output_type": "display_data",
          "data": {
            "text/plain": [
              "<IPython.core.display.HTML object>"
            ],
            "text/html": [
              " View project at <a href='https://wandb.ai/arunangshudutta218-iitm/dl_assgn_1_q_4' target=\"_blank\">https://wandb.ai/arunangshudutta218-iitm/dl_assgn_1_q_4</a>"
            ]
          },
          "metadata": {}
        },
        {
          "output_type": "display_data",
          "data": {
            "text/plain": [
              "<IPython.core.display.HTML object>"
            ],
            "text/html": [
              " View sweep at <a href='https://wandb.ai/arunangshudutta218-iitm/dl_assgn_1_q_4/sweeps/sdlyh3ti' target=\"_blank\">https://wandb.ai/arunangshudutta218-iitm/dl_assgn_1_q_4/sweeps/sdlyh3ti</a>"
            ]
          },
          "metadata": {}
        },
        {
          "output_type": "display_data",
          "data": {
            "text/plain": [
              "<IPython.core.display.HTML object>"
            ],
            "text/html": [
              " View run at <a href='https://wandb.ai/arunangshudutta218-iitm/dl_assgn_1_q_4/runs/sij8qs0u' target=\"_blank\">https://wandb.ai/arunangshudutta218-iitm/dl_assgn_1_q_4/runs/sij8qs0u</a>"
            ]
          },
          "metadata": {}
        },
        {
          "output_type": "stream",
          "name": "stdout",
          "text": [
            "656.0\n"
          ]
        },
        {
          "output_type": "stream",
          "name": "stderr",
          "text": [
            "100%|██████████| 656/656 [00:10<00:00, 64.23it/s]\n",
            "100%|██████████| 656/656 [00:10<00:00, 60.84it/s]\n",
            "100%|██████████| 656/656 [00:10<00:00, 61.75it/s]\n",
            "100%|██████████| 656/656 [00:09<00:00, 67.11it/s]\n",
            "100%|██████████| 656/656 [00:08<00:00, 79.86it/s]\n",
            "100%|██████████| 656/656 [00:09<00:00, 68.89it/s]\n",
            "100%|██████████| 656/656 [00:10<00:00, 62.44it/s]\n",
            "100%|██████████| 656/656 [00:10<00:00, 61.45it/s]\n",
            "100%|██████████| 656/656 [00:10<00:00, 63.10it/s]\n",
            "100%|██████████| 656/656 [00:08<00:00, 72.93it/s]\n"
          ]
        },
        {
          "output_type": "display_data",
          "data": {
            "text/plain": [
              "<IPython.core.display.HTML object>"
            ],
            "text/html": []
          },
          "metadata": {}
        },
        {
          "output_type": "display_data",
          "data": {
            "text/plain": [
              "<IPython.core.display.HTML object>"
            ],
            "text/html": [
              "<br>    <style><br>        .wandb-row {<br>            display: flex;<br>            flex-direction: row;<br>            flex-wrap: wrap;<br>            justify-content: flex-start;<br>            width: 100%;<br>        }<br>        .wandb-col {<br>            display: flex;<br>            flex-direction: column;<br>            flex-basis: 100%;<br>            flex: 1;<br>            padding: 10px;<br>        }<br>    </style><br><div class=\"wandb-row\"><div class=\"wandb-col\"><h3>Run history:</h3><br/><table class=\"wandb\"><tr><td>tr_accuracy</td><td>▁▃▅█▇▅▅▇▇▇</td></tr><tr><td>tr_loss</td><td>█▃▂▁▁▁▁▁▁▁</td></tr><tr><td>val_accuracy</td><td>▁▅▄▇▆▇▇███</td></tr><tr><td>val_loss</td><td>█▃▂▁▁▁▁▁▁▁</td></tr></table><br/></div><div class=\"wandb-col\"><h3>Run summary:</h3><br/><table class=\"wandb\"><tr><td>tr_accuracy</td><td>87.5</td></tr><tr><td>tr_loss</td><td>0.46862</td></tr><tr><td>val_accuracy</td><td>90.625</td></tr><tr><td>val_loss</td><td>0.47683</td></tr></table><br/></div></div>"
            ]
          },
          "metadata": {}
        },
        {
          "output_type": "display_data",
          "data": {
            "text/plain": [
              "<IPython.core.display.HTML object>"
            ],
            "text/html": [
              " View run <strong style=\"color:#cdcd00\">e_10_hl_3_hs_128_lr_0.001_opt_nadam_bs_64_init_random_ac_tanh_l2_0.5</strong> at: <a href='https://wandb.ai/arunangshudutta218-iitm/dl_assgn_1_q_4/runs/sij8qs0u' target=\"_blank\">https://wandb.ai/arunangshudutta218-iitm/dl_assgn_1_q_4/runs/sij8qs0u</a><br> View project at: <a href='https://wandb.ai/arunangshudutta218-iitm/dl_assgn_1_q_4' target=\"_blank\">https://wandb.ai/arunangshudutta218-iitm/dl_assgn_1_q_4</a><br>Synced 5 W&B file(s), 0 media file(s), 0 artifact file(s) and 0 other file(s)"
            ]
          },
          "metadata": {}
        },
        {
          "output_type": "display_data",
          "data": {
            "text/plain": [
              "<IPython.core.display.HTML object>"
            ],
            "text/html": [
              "Find logs at: <code>./wandb/run-20250309_203826-sij8qs0u/logs</code>"
            ]
          },
          "metadata": {}
        },
        {
          "output_type": "stream",
          "name": "stderr",
          "text": [
            "\u001b[34m\u001b[1mwandb\u001b[0m: Agent Starting Run: 89rtpnkh with config:\n",
            "\u001b[34m\u001b[1mwandb\u001b[0m: \tactivation: tanh\n",
            "\u001b[34m\u001b[1mwandb\u001b[0m: \tbatch_size: 16\n",
            "\u001b[34m\u001b[1mwandb\u001b[0m: \tepochs: 5\n",
            "\u001b[34m\u001b[1mwandb\u001b[0m: \thidden_size: 32\n",
            "\u001b[34m\u001b[1mwandb\u001b[0m: \tlearning_rate: 0.0001\n",
            "\u001b[34m\u001b[1mwandb\u001b[0m: \tnum_layers: 3\n",
            "\u001b[34m\u001b[1mwandb\u001b[0m: \toptimizer: rmsprop\n",
            "\u001b[34m\u001b[1mwandb\u001b[0m: \tweight_decay: 0\n",
            "\u001b[34m\u001b[1mwandb\u001b[0m: \tweight_init: Xavier\n"
          ]
        },
        {
          "output_type": "display_data",
          "data": {
            "text/plain": [
              "<IPython.core.display.HTML object>"
            ],
            "text/html": [
              "Tracking run with wandb version 0.19.7"
            ]
          },
          "metadata": {}
        },
        {
          "output_type": "display_data",
          "data": {
            "text/plain": [
              "<IPython.core.display.HTML object>"
            ],
            "text/html": [
              "Run data is saved locally in <code>/content/wandb/run-20250309_204038-89rtpnkh</code>"
            ]
          },
          "metadata": {}
        },
        {
          "output_type": "display_data",
          "data": {
            "text/plain": [
              "<IPython.core.display.HTML object>"
            ],
            "text/html": [
              "Syncing run <strong><a href='https://wandb.ai/arunangshudutta218-iitm/dl_assgn_1_q_4/runs/89rtpnkh' target=\"_blank\">balmy-sweep-80</a></strong> to <a href='https://wandb.ai/arunangshudutta218-iitm/dl_assgn_1_q_4' target=\"_blank\">Weights & Biases</a> (<a href='https://wandb.me/developer-guide' target=\"_blank\">docs</a>)<br>Sweep page: <a href='https://wandb.ai/arunangshudutta218-iitm/dl_assgn_1_q_4/sweeps/sdlyh3ti' target=\"_blank\">https://wandb.ai/arunangshudutta218-iitm/dl_assgn_1_q_4/sweeps/sdlyh3ti</a>"
            ]
          },
          "metadata": {}
        },
        {
          "output_type": "display_data",
          "data": {
            "text/plain": [
              "<IPython.core.display.HTML object>"
            ],
            "text/html": [
              " View project at <a href='https://wandb.ai/arunangshudutta218-iitm/dl_assgn_1_q_4' target=\"_blank\">https://wandb.ai/arunangshudutta218-iitm/dl_assgn_1_q_4</a>"
            ]
          },
          "metadata": {}
        },
        {
          "output_type": "display_data",
          "data": {
            "text/plain": [
              "<IPython.core.display.HTML object>"
            ],
            "text/html": [
              " View sweep at <a href='https://wandb.ai/arunangshudutta218-iitm/dl_assgn_1_q_4/sweeps/sdlyh3ti' target=\"_blank\">https://wandb.ai/arunangshudutta218-iitm/dl_assgn_1_q_4/sweeps/sdlyh3ti</a>"
            ]
          },
          "metadata": {}
        },
        {
          "output_type": "display_data",
          "data": {
            "text/plain": [
              "<IPython.core.display.HTML object>"
            ],
            "text/html": [
              " View run at <a href='https://wandb.ai/arunangshudutta218-iitm/dl_assgn_1_q_4/runs/89rtpnkh' target=\"_blank\">https://wandb.ai/arunangshudutta218-iitm/dl_assgn_1_q_4/runs/89rtpnkh</a>"
            ]
          },
          "metadata": {}
        },
        {
          "output_type": "stream",
          "name": "stdout",
          "text": [
            "2625.0\n"
          ]
        },
        {
          "output_type": "stream",
          "name": "stderr",
          "text": [
            "100%|██████████| 2625/2625 [00:05<00:00, 474.84it/s]\n",
            "100%|██████████| 2625/2625 [00:05<00:00, 508.70it/s]\n",
            "100%|██████████| 2625/2625 [00:04<00:00, 585.76it/s]\n",
            "100%|██████████| 2625/2625 [00:06<00:00, 382.85it/s]\n",
            "100%|██████████| 2625/2625 [00:04<00:00, 623.35it/s]\n"
          ]
        },
        {
          "output_type": "display_data",
          "data": {
            "text/plain": [
              "<IPython.core.display.HTML object>"
            ],
            "text/html": []
          },
          "metadata": {}
        },
        {
          "output_type": "display_data",
          "data": {
            "text/plain": [
              "<IPython.core.display.HTML object>"
            ],
            "text/html": [
              "<br>    <style><br>        .wandb-row {<br>            display: flex;<br>            flex-direction: row;<br>            flex-wrap: wrap;<br>            justify-content: flex-start;<br>            width: 100%;<br>        }<br>        .wandb-col {<br>            display: flex;<br>            flex-direction: column;<br>            flex-basis: 100%;<br>            flex: 1;<br>            padding: 10px;<br>        }<br>    </style><br><div class=\"wandb-row\"><div class=\"wandb-col\"><h3>Run history:</h3><br/><table class=\"wandb\"><tr><td>tr_accuracy</td><td>▁████</td></tr><tr><td>tr_loss</td><td>█▄▂▂▁</td></tr><tr><td>val_accuracy</td><td>▁████</td></tr><tr><td>val_loss</td><td>█▄▂▂▁</td></tr></table><br/></div><div class=\"wandb-col\"><h3>Run summary:</h3><br/><table class=\"wandb\"><tr><td>tr_accuracy</td><td>93.75</td></tr><tr><td>tr_loss</td><td>0.42687</td></tr><tr><td>val_accuracy</td><td>93.75</td></tr><tr><td>val_loss</td><td>0.4358</td></tr></table><br/></div></div>"
            ]
          },
          "metadata": {}
        },
        {
          "output_type": "display_data",
          "data": {
            "text/plain": [
              "<IPython.core.display.HTML object>"
            ],
            "text/html": [
              " View run <strong style=\"color:#cdcd00\">e_5_hl_3_hs_32_lr_0.0001_opt_rmsprop_bs_16_init_Xavier_ac_tanh_l2_0</strong> at: <a href='https://wandb.ai/arunangshudutta218-iitm/dl_assgn_1_q_4/runs/89rtpnkh' target=\"_blank\">https://wandb.ai/arunangshudutta218-iitm/dl_assgn_1_q_4/runs/89rtpnkh</a><br> View project at: <a href='https://wandb.ai/arunangshudutta218-iitm/dl_assgn_1_q_4' target=\"_blank\">https://wandb.ai/arunangshudutta218-iitm/dl_assgn_1_q_4</a><br>Synced 5 W&B file(s), 0 media file(s), 0 artifact file(s) and 0 other file(s)"
            ]
          },
          "metadata": {}
        },
        {
          "output_type": "display_data",
          "data": {
            "text/plain": [
              "<IPython.core.display.HTML object>"
            ],
            "text/html": [
              "Find logs at: <code>./wandb/run-20250309_204038-89rtpnkh/logs</code>"
            ]
          },
          "metadata": {}
        },
        {
          "output_type": "stream",
          "name": "stderr",
          "text": [
            "\u001b[34m\u001b[1mwandb\u001b[0m: Agent Starting Run: gc6361fh with config:\n",
            "\u001b[34m\u001b[1mwandb\u001b[0m: \tactivation: sigmoid\n",
            "\u001b[34m\u001b[1mwandb\u001b[0m: \tbatch_size: 16\n",
            "\u001b[34m\u001b[1mwandb\u001b[0m: \tepochs: 10\n",
            "\u001b[34m\u001b[1mwandb\u001b[0m: \thidden_size: 128\n",
            "\u001b[34m\u001b[1mwandb\u001b[0m: \tlearning_rate: 0.0001\n",
            "\u001b[34m\u001b[1mwandb\u001b[0m: \tnum_layers: 5\n",
            "\u001b[34m\u001b[1mwandb\u001b[0m: \toptimizer: adam\n",
            "\u001b[34m\u001b[1mwandb\u001b[0m: \tweight_decay: 0.5\n",
            "\u001b[34m\u001b[1mwandb\u001b[0m: \tweight_init: random\n"
          ]
        },
        {
          "output_type": "display_data",
          "data": {
            "text/plain": [
              "<IPython.core.display.HTML object>"
            ],
            "text/html": [
              "Tracking run with wandb version 0.19.7"
            ]
          },
          "metadata": {}
        },
        {
          "output_type": "display_data",
          "data": {
            "text/plain": [
              "<IPython.core.display.HTML object>"
            ],
            "text/html": [
              "Run data is saved locally in <code>/content/wandb/run-20250309_204114-gc6361fh</code>"
            ]
          },
          "metadata": {}
        },
        {
          "output_type": "display_data",
          "data": {
            "text/plain": [
              "<IPython.core.display.HTML object>"
            ],
            "text/html": [
              "Syncing run <strong><a href='https://wandb.ai/arunangshudutta218-iitm/dl_assgn_1_q_4/runs/gc6361fh' target=\"_blank\">wise-sweep-81</a></strong> to <a href='https://wandb.ai/arunangshudutta218-iitm/dl_assgn_1_q_4' target=\"_blank\">Weights & Biases</a> (<a href='https://wandb.me/developer-guide' target=\"_blank\">docs</a>)<br>Sweep page: <a href='https://wandb.ai/arunangshudutta218-iitm/dl_assgn_1_q_4/sweeps/sdlyh3ti' target=\"_blank\">https://wandb.ai/arunangshudutta218-iitm/dl_assgn_1_q_4/sweeps/sdlyh3ti</a>"
            ]
          },
          "metadata": {}
        },
        {
          "output_type": "display_data",
          "data": {
            "text/plain": [
              "<IPython.core.display.HTML object>"
            ],
            "text/html": [
              " View project at <a href='https://wandb.ai/arunangshudutta218-iitm/dl_assgn_1_q_4' target=\"_blank\">https://wandb.ai/arunangshudutta218-iitm/dl_assgn_1_q_4</a>"
            ]
          },
          "metadata": {}
        },
        {
          "output_type": "display_data",
          "data": {
            "text/plain": [
              "<IPython.core.display.HTML object>"
            ],
            "text/html": [
              " View sweep at <a href='https://wandb.ai/arunangshudutta218-iitm/dl_assgn_1_q_4/sweeps/sdlyh3ti' target=\"_blank\">https://wandb.ai/arunangshudutta218-iitm/dl_assgn_1_q_4/sweeps/sdlyh3ti</a>"
            ]
          },
          "metadata": {}
        },
        {
          "output_type": "display_data",
          "data": {
            "text/plain": [
              "<IPython.core.display.HTML object>"
            ],
            "text/html": [
              " View run at <a href='https://wandb.ai/arunangshudutta218-iitm/dl_assgn_1_q_4/runs/gc6361fh' target=\"_blank\">https://wandb.ai/arunangshudutta218-iitm/dl_assgn_1_q_4/runs/gc6361fh</a>"
            ]
          },
          "metadata": {}
        },
        {
          "output_type": "stream",
          "name": "stdout",
          "text": [
            "2625.0\n"
          ]
        },
        {
          "output_type": "stream",
          "name": "stderr",
          "text": [
            "100%|██████████| 2625/2625 [00:24<00:00, 108.78it/s]\n",
            "100%|██████████| 2625/2625 [00:24<00:00, 106.69it/s]\n",
            "100%|██████████| 2625/2625 [00:24<00:00, 108.50it/s]\n",
            "100%|██████████| 2625/2625 [00:23<00:00, 110.89it/s]\n",
            "100%|██████████| 2625/2625 [00:24<00:00, 105.83it/s]\n",
            "100%|██████████| 2625/2625 [00:24<00:00, 106.24it/s]\n",
            "100%|██████████| 2625/2625 [00:24<00:00, 107.97it/s]\n",
            "100%|██████████| 2625/2625 [00:23<00:00, 113.90it/s]\n",
            "100%|██████████| 2625/2625 [00:24<00:00, 107.07it/s]\n",
            "100%|██████████| 2625/2625 [00:26<00:00, 99.56it/s] \n"
          ]
        },
        {
          "output_type": "display_data",
          "data": {
            "text/plain": [
              "<IPython.core.display.HTML object>"
            ],
            "text/html": []
          },
          "metadata": {}
        },
        {
          "output_type": "display_data",
          "data": {
            "text/plain": [
              "<IPython.core.display.HTML object>"
            ],
            "text/html": [
              "<br>    <style><br>        .wandb-row {<br>            display: flex;<br>            flex-direction: row;<br>            flex-wrap: wrap;<br>            justify-content: flex-start;<br>            width: 100%;<br>        }<br>        .wandb-col {<br>            display: flex;<br>            flex-direction: column;<br>            flex-basis: 100%;<br>            flex: 1;<br>            padding: 10px;<br>        }<br>    </style><br><div class=\"wandb-row\"><div class=\"wandb-col\"><h3>Run history:</h3><br/><table class=\"wandb\"><tr><td>tr_accuracy</td><td>▆█▇█▇▇▄▄▁▁</td></tr><tr><td>tr_loss</td><td>▃▂▁▁▂▃▅▆██</td></tr><tr><td>val_accuracy</td><td>▅▅▆▇█▆▅▁▁▁</td></tr><tr><td>val_loss</td><td>▃▂▁▁▂▃▅▆██</td></tr></table><br/></div><div class=\"wandb-col\"><h3>Run summary:</h3><br/><table class=\"wandb\"><tr><td>tr_accuracy</td><td>6.25</td></tr><tr><td>tr_loss</td><td>2.00366</td></tr><tr><td>val_accuracy</td><td>25</td></tr><tr><td>val_loss</td><td>2.00491</td></tr></table><br/></div></div>"
            ]
          },
          "metadata": {}
        },
        {
          "output_type": "display_data",
          "data": {
            "text/plain": [
              "<IPython.core.display.HTML object>"
            ],
            "text/html": [
              " View run <strong style=\"color:#cdcd00\">e_10_hl_5_hs_128_lr_0.0001_opt_adam_bs_16_init_random_ac_sigmoid_l2_0.5</strong> at: <a href='https://wandb.ai/arunangshudutta218-iitm/dl_assgn_1_q_4/runs/gc6361fh' target=\"_blank\">https://wandb.ai/arunangshudutta218-iitm/dl_assgn_1_q_4/runs/gc6361fh</a><br> View project at: <a href='https://wandb.ai/arunangshudutta218-iitm/dl_assgn_1_q_4' target=\"_blank\">https://wandb.ai/arunangshudutta218-iitm/dl_assgn_1_q_4</a><br>Synced 5 W&B file(s), 0 media file(s), 0 artifact file(s) and 0 other file(s)"
            ]
          },
          "metadata": {}
        },
        {
          "output_type": "display_data",
          "data": {
            "text/plain": [
              "<IPython.core.display.HTML object>"
            ],
            "text/html": [
              "Find logs at: <code>./wandb/run-20250309_204114-gc6361fh/logs</code>"
            ]
          },
          "metadata": {}
        },
        {
          "output_type": "stream",
          "name": "stderr",
          "text": [
            "\u001b[34m\u001b[1mwandb\u001b[0m: Agent Starting Run: ax6v4ug2 with config:\n",
            "\u001b[34m\u001b[1mwandb\u001b[0m: \tactivation: ReLU\n",
            "\u001b[34m\u001b[1mwandb\u001b[0m: \tbatch_size: 32\n",
            "\u001b[34m\u001b[1mwandb\u001b[0m: \tepochs: 10\n",
            "\u001b[34m\u001b[1mwandb\u001b[0m: \thidden_size: 64\n",
            "\u001b[34m\u001b[1mwandb\u001b[0m: \tlearning_rate: 0.001\n",
            "\u001b[34m\u001b[1mwandb\u001b[0m: \tnum_layers: 3\n",
            "\u001b[34m\u001b[1mwandb\u001b[0m: \toptimizer: adam\n",
            "\u001b[34m\u001b[1mwandb\u001b[0m: \tweight_decay: 0.5\n",
            "\u001b[34m\u001b[1mwandb\u001b[0m: \tweight_init: Xavier\n"
          ]
        },
        {
          "output_type": "display_data",
          "data": {
            "text/plain": [
              "<IPython.core.display.HTML object>"
            ],
            "text/html": [
              "Tracking run with wandb version 0.19.7"
            ]
          },
          "metadata": {}
        },
        {
          "output_type": "display_data",
          "data": {
            "text/plain": [
              "<IPython.core.display.HTML object>"
            ],
            "text/html": [
              "Run data is saved locally in <code>/content/wandb/run-20250309_204548-ax6v4ug2</code>"
            ]
          },
          "metadata": {}
        },
        {
          "output_type": "display_data",
          "data": {
            "text/plain": [
              "<IPython.core.display.HTML object>"
            ],
            "text/html": [
              "Syncing run <strong><a href='https://wandb.ai/arunangshudutta218-iitm/dl_assgn_1_q_4/runs/ax6v4ug2' target=\"_blank\">earthy-sweep-82</a></strong> to <a href='https://wandb.ai/arunangshudutta218-iitm/dl_assgn_1_q_4' target=\"_blank\">Weights & Biases</a> (<a href='https://wandb.me/developer-guide' target=\"_blank\">docs</a>)<br>Sweep page: <a href='https://wandb.ai/arunangshudutta218-iitm/dl_assgn_1_q_4/sweeps/sdlyh3ti' target=\"_blank\">https://wandb.ai/arunangshudutta218-iitm/dl_assgn_1_q_4/sweeps/sdlyh3ti</a>"
            ]
          },
          "metadata": {}
        },
        {
          "output_type": "display_data",
          "data": {
            "text/plain": [
              "<IPython.core.display.HTML object>"
            ],
            "text/html": [
              " View project at <a href='https://wandb.ai/arunangshudutta218-iitm/dl_assgn_1_q_4' target=\"_blank\">https://wandb.ai/arunangshudutta218-iitm/dl_assgn_1_q_4</a>"
            ]
          },
          "metadata": {}
        },
        {
          "output_type": "display_data",
          "data": {
            "text/plain": [
              "<IPython.core.display.HTML object>"
            ],
            "text/html": [
              " View sweep at <a href='https://wandb.ai/arunangshudutta218-iitm/dl_assgn_1_q_4/sweeps/sdlyh3ti' target=\"_blank\">https://wandb.ai/arunangshudutta218-iitm/dl_assgn_1_q_4/sweeps/sdlyh3ti</a>"
            ]
          },
          "metadata": {}
        },
        {
          "output_type": "display_data",
          "data": {
            "text/plain": [
              "<IPython.core.display.HTML object>"
            ],
            "text/html": [
              " View run at <a href='https://wandb.ai/arunangshudutta218-iitm/dl_assgn_1_q_4/runs/ax6v4ug2' target=\"_blank\">https://wandb.ai/arunangshudutta218-iitm/dl_assgn_1_q_4/runs/ax6v4ug2</a>"
            ]
          },
          "metadata": {}
        },
        {
          "output_type": "stream",
          "name": "stdout",
          "text": [
            "1312.0\n"
          ]
        },
        {
          "output_type": "stream",
          "name": "stderr",
          "text": [
            "100%|██████████| 1312/1312 [00:04<00:00, 313.12it/s]\n",
            "100%|██████████| 1312/1312 [00:04<00:00, 274.59it/s]\n",
            "100%|██████████| 1312/1312 [00:06<00:00, 194.44it/s]\n",
            "100%|██████████| 1312/1312 [00:04<00:00, 320.34it/s]\n",
            "100%|██████████| 1312/1312 [00:04<00:00, 299.47it/s]\n",
            "100%|██████████| 1312/1312 [00:06<00:00, 200.50it/s]\n",
            "100%|██████████| 1312/1312 [00:04<00:00, 295.56it/s]\n",
            "100%|██████████| 1312/1312 [00:06<00:00, 194.86it/s]\n",
            "100%|██████████| 1312/1312 [00:04<00:00, 287.29it/s]\n",
            "100%|██████████| 1312/1312 [00:04<00:00, 294.02it/s]\n"
          ]
        },
        {
          "output_type": "display_data",
          "data": {
            "text/plain": [
              "<IPython.core.display.HTML object>"
            ],
            "text/html": []
          },
          "metadata": {}
        },
        {
          "output_type": "display_data",
          "data": {
            "text/plain": [
              "<IPython.core.display.HTML object>"
            ],
            "text/html": [
              "<br>    <style><br>        .wandb-row {<br>            display: flex;<br>            flex-direction: row;<br>            flex-wrap: wrap;<br>            justify-content: flex-start;<br>            width: 100%;<br>        }<br>        .wandb-col {<br>            display: flex;<br>            flex-direction: column;<br>            flex-basis: 100%;<br>            flex: 1;<br>            padding: 10px;<br>        }<br>    </style><br><div class=\"wandb-row\"><div class=\"wandb-col\"><h3>Run history:</h3><br/><table class=\"wandb\"><tr><td>tr_accuracy</td><td>▅▅▅▁▅▅▅▅█▅</td></tr><tr><td>tr_loss</td><td>█▆▅▄▃▃▂▁▁▁</td></tr><tr><td>val_accuracy</td><td>▁▆▆▆▆▆████</td></tr><tr><td>val_loss</td><td>█▆▅▄▄▃▂▁▁▁</td></tr></table><br/></div><div class=\"wandb-col\"><h3>Run summary:</h3><br/><table class=\"wandb\"><tr><td>tr_accuracy</td><td>81.25</td></tr><tr><td>tr_loss</td><td>0.50371</td></tr><tr><td>val_accuracy</td><td>90.625</td></tr><tr><td>val_loss</td><td>0.50911</td></tr></table><br/></div></div>"
            ]
          },
          "metadata": {}
        },
        {
          "output_type": "display_data",
          "data": {
            "text/plain": [
              "<IPython.core.display.HTML object>"
            ],
            "text/html": [
              " View run <strong style=\"color:#cdcd00\">e_10_hl_3_hs_64_lr_0.001_opt_adam_bs_32_init_Xavier_ac_ReLU_l2_0.5</strong> at: <a href='https://wandb.ai/arunangshudutta218-iitm/dl_assgn_1_q_4/runs/ax6v4ug2' target=\"_blank\">https://wandb.ai/arunangshudutta218-iitm/dl_assgn_1_q_4/runs/ax6v4ug2</a><br> View project at: <a href='https://wandb.ai/arunangshudutta218-iitm/dl_assgn_1_q_4' target=\"_blank\">https://wandb.ai/arunangshudutta218-iitm/dl_assgn_1_q_4</a><br>Synced 5 W&B file(s), 0 media file(s), 0 artifact file(s) and 0 other file(s)"
            ]
          },
          "metadata": {}
        },
        {
          "output_type": "display_data",
          "data": {
            "text/plain": [
              "<IPython.core.display.HTML object>"
            ],
            "text/html": [
              "Find logs at: <code>./wandb/run-20250309_204548-ax6v4ug2/logs</code>"
            ]
          },
          "metadata": {}
        },
        {
          "output_type": "stream",
          "name": "stderr",
          "text": [
            "\u001b[34m\u001b[1mwandb\u001b[0m: Agent Starting Run: 5d8xsc0c with config:\n",
            "\u001b[34m\u001b[1mwandb\u001b[0m: \tactivation: sigmoid\n",
            "\u001b[34m\u001b[1mwandb\u001b[0m: \tbatch_size: 64\n",
            "\u001b[34m\u001b[1mwandb\u001b[0m: \tepochs: 10\n",
            "\u001b[34m\u001b[1mwandb\u001b[0m: \thidden_size: 128\n",
            "\u001b[34m\u001b[1mwandb\u001b[0m: \tlearning_rate: 0.0001\n",
            "\u001b[34m\u001b[1mwandb\u001b[0m: \tnum_layers: 5\n",
            "\u001b[34m\u001b[1mwandb\u001b[0m: \toptimizer: adam\n",
            "\u001b[34m\u001b[1mwandb\u001b[0m: \tweight_decay: 0\n",
            "\u001b[34m\u001b[1mwandb\u001b[0m: \tweight_init: random\n"
          ]
        },
        {
          "output_type": "display_data",
          "data": {
            "text/plain": [
              "<IPython.core.display.HTML object>"
            ],
            "text/html": [
              "Tracking run with wandb version 0.19.7"
            ]
          },
          "metadata": {}
        },
        {
          "output_type": "display_data",
          "data": {
            "text/plain": [
              "<IPython.core.display.HTML object>"
            ],
            "text/html": [
              "Run data is saved locally in <code>/content/wandb/run-20250309_204649-5d8xsc0c</code>"
            ]
          },
          "metadata": {}
        },
        {
          "output_type": "display_data",
          "data": {
            "text/plain": [
              "<IPython.core.display.HTML object>"
            ],
            "text/html": [
              "Syncing run <strong><a href='https://wandb.ai/arunangshudutta218-iitm/dl_assgn_1_q_4/runs/5d8xsc0c' target=\"_blank\">expert-sweep-83</a></strong> to <a href='https://wandb.ai/arunangshudutta218-iitm/dl_assgn_1_q_4' target=\"_blank\">Weights & Biases</a> (<a href='https://wandb.me/developer-guide' target=\"_blank\">docs</a>)<br>Sweep page: <a href='https://wandb.ai/arunangshudutta218-iitm/dl_assgn_1_q_4/sweeps/sdlyh3ti' target=\"_blank\">https://wandb.ai/arunangshudutta218-iitm/dl_assgn_1_q_4/sweeps/sdlyh3ti</a>"
            ]
          },
          "metadata": {}
        },
        {
          "output_type": "display_data",
          "data": {
            "text/plain": [
              "<IPython.core.display.HTML object>"
            ],
            "text/html": [
              " View project at <a href='https://wandb.ai/arunangshudutta218-iitm/dl_assgn_1_q_4' target=\"_blank\">https://wandb.ai/arunangshudutta218-iitm/dl_assgn_1_q_4</a>"
            ]
          },
          "metadata": {}
        },
        {
          "output_type": "display_data",
          "data": {
            "text/plain": [
              "<IPython.core.display.HTML object>"
            ],
            "text/html": [
              " View sweep at <a href='https://wandb.ai/arunangshudutta218-iitm/dl_assgn_1_q_4/sweeps/sdlyh3ti' target=\"_blank\">https://wandb.ai/arunangshudutta218-iitm/dl_assgn_1_q_4/sweeps/sdlyh3ti</a>"
            ]
          },
          "metadata": {}
        },
        {
          "output_type": "display_data",
          "data": {
            "text/plain": [
              "<IPython.core.display.HTML object>"
            ],
            "text/html": [
              " View run at <a href='https://wandb.ai/arunangshudutta218-iitm/dl_assgn_1_q_4/runs/5d8xsc0c' target=\"_blank\">https://wandb.ai/arunangshudutta218-iitm/dl_assgn_1_q_4/runs/5d8xsc0c</a>"
            ]
          },
          "metadata": {}
        },
        {
          "output_type": "stream",
          "name": "stdout",
          "text": [
            "656.0\n"
          ]
        },
        {
          "output_type": "stream",
          "name": "stderr",
          "text": [
            "100%|██████████| 656/656 [00:08<00:00, 72.97it/s]\n",
            "100%|██████████| 656/656 [00:08<00:00, 74.77it/s]\n",
            "100%|██████████| 656/656 [00:10<00:00, 60.57it/s]\n",
            "100%|██████████| 656/656 [00:11<00:00, 55.77it/s]\n",
            "100%|██████████| 656/656 [00:11<00:00, 58.10it/s]\n",
            "100%|██████████| 656/656 [00:08<00:00, 74.77it/s]\n",
            "100%|██████████| 656/656 [00:07<00:00, 82.09it/s]\n",
            "100%|██████████| 656/656 [00:10<00:00, 60.11it/s]\n",
            "100%|██████████| 656/656 [00:11<00:00, 58.25it/s]\n",
            "100%|██████████| 656/656 [00:10<00:00, 60.67it/s]\n"
          ]
        },
        {
          "output_type": "display_data",
          "data": {
            "text/plain": [
              "<IPython.core.display.HTML object>"
            ],
            "text/html": []
          },
          "metadata": {}
        },
        {
          "output_type": "display_data",
          "data": {
            "text/plain": [
              "<IPython.core.display.HTML object>"
            ],
            "text/html": [
              "<br>    <style><br>        .wandb-row {<br>            display: flex;<br>            flex-direction: row;<br>            flex-wrap: wrap;<br>            justify-content: flex-start;<br>            width: 100%;<br>        }<br>        .wandb-col {<br>            display: flex;<br>            flex-direction: column;<br>            flex-basis: 100%;<br>            flex: 1;<br>            padding: 10px;<br>        }<br>    </style><br><div class=\"wandb-row\"><div class=\"wandb-col\"><h3>Run history:</h3><br/><table class=\"wandb\"><tr><td>tr_accuracy</td><td>▁▅▅▅▆▆▇▇▇█</td></tr><tr><td>tr_loss</td><td>█▄▃▃▂▂▁▁▁▁</td></tr><tr><td>val_accuracy</td><td>▁▄▇█▇▇▆▆▆▆</td></tr><tr><td>val_loss</td><td>█▄▃▂▂▂▁▁▁▁</td></tr></table><br/></div><div class=\"wandb-col\"><h3>Run summary:</h3><br/><table class=\"wandb\"><tr><td>tr_accuracy</td><td>89.0625</td></tr><tr><td>tr_loss</td><td>0.56685</td></tr><tr><td>val_accuracy</td><td>78.125</td></tr><tr><td>val_loss</td><td>0.61252</td></tr></table><br/></div></div>"
            ]
          },
          "metadata": {}
        },
        {
          "output_type": "display_data",
          "data": {
            "text/plain": [
              "<IPython.core.display.HTML object>"
            ],
            "text/html": [
              " View run <strong style=\"color:#cdcd00\">e_10_hl_5_hs_128_lr_0.0001_opt_adam_bs_64_init_random_ac_sigmoid_l2_0</strong> at: <a href='https://wandb.ai/arunangshudutta218-iitm/dl_assgn_1_q_4/runs/5d8xsc0c' target=\"_blank\">https://wandb.ai/arunangshudutta218-iitm/dl_assgn_1_q_4/runs/5d8xsc0c</a><br> View project at: <a href='https://wandb.ai/arunangshudutta218-iitm/dl_assgn_1_q_4' target=\"_blank\">https://wandb.ai/arunangshudutta218-iitm/dl_assgn_1_q_4</a><br>Synced 5 W&B file(s), 0 media file(s), 0 artifact file(s) and 0 other file(s)"
            ]
          },
          "metadata": {}
        },
        {
          "output_type": "display_data",
          "data": {
            "text/plain": [
              "<IPython.core.display.HTML object>"
            ],
            "text/html": [
              "Find logs at: <code>./wandb/run-20250309_204649-5d8xsc0c/logs</code>"
            ]
          },
          "metadata": {}
        },
        {
          "output_type": "stream",
          "name": "stderr",
          "text": [
            "\u001b[34m\u001b[1mwandb\u001b[0m: Agent Starting Run: piya366x with config:\n",
            "\u001b[34m\u001b[1mwandb\u001b[0m: \tactivation: sigmoid\n",
            "\u001b[34m\u001b[1mwandb\u001b[0m: \tbatch_size: 32\n",
            "\u001b[34m\u001b[1mwandb\u001b[0m: \tepochs: 10\n",
            "\u001b[34m\u001b[1mwandb\u001b[0m: \thidden_size: 32\n",
            "\u001b[34m\u001b[1mwandb\u001b[0m: \tlearning_rate: 0.0001\n",
            "\u001b[34m\u001b[1mwandb\u001b[0m: \tnum_layers: 4\n",
            "\u001b[34m\u001b[1mwandb\u001b[0m: \toptimizer: momentum\n",
            "\u001b[34m\u001b[1mwandb\u001b[0m: \tweight_decay: 0.0005\n",
            "\u001b[34m\u001b[1mwandb\u001b[0m: \tweight_init: Xavier\n"
          ]
        },
        {
          "output_type": "display_data",
          "data": {
            "text/plain": [
              "<IPython.core.display.HTML object>"
            ],
            "text/html": [
              "Tracking run with wandb version 0.19.7"
            ]
          },
          "metadata": {}
        },
        {
          "output_type": "display_data",
          "data": {
            "text/plain": [
              "<IPython.core.display.HTML object>"
            ],
            "text/html": [
              "Run data is saved locally in <code>/content/wandb/run-20250309_204901-piya366x</code>"
            ]
          },
          "metadata": {}
        },
        {
          "output_type": "display_data",
          "data": {
            "text/plain": [
              "<IPython.core.display.HTML object>"
            ],
            "text/html": [
              "Syncing run <strong><a href='https://wandb.ai/arunangshudutta218-iitm/dl_assgn_1_q_4/runs/piya366x' target=\"_blank\">smooth-sweep-84</a></strong> to <a href='https://wandb.ai/arunangshudutta218-iitm/dl_assgn_1_q_4' target=\"_blank\">Weights & Biases</a> (<a href='https://wandb.me/developer-guide' target=\"_blank\">docs</a>)<br>Sweep page: <a href='https://wandb.ai/arunangshudutta218-iitm/dl_assgn_1_q_4/sweeps/sdlyh3ti' target=\"_blank\">https://wandb.ai/arunangshudutta218-iitm/dl_assgn_1_q_4/sweeps/sdlyh3ti</a>"
            ]
          },
          "metadata": {}
        },
        {
          "output_type": "display_data",
          "data": {
            "text/plain": [
              "<IPython.core.display.HTML object>"
            ],
            "text/html": [
              " View project at <a href='https://wandb.ai/arunangshudutta218-iitm/dl_assgn_1_q_4' target=\"_blank\">https://wandb.ai/arunangshudutta218-iitm/dl_assgn_1_q_4</a>"
            ]
          },
          "metadata": {}
        },
        {
          "output_type": "display_data",
          "data": {
            "text/plain": [
              "<IPython.core.display.HTML object>"
            ],
            "text/html": [
              " View sweep at <a href='https://wandb.ai/arunangshudutta218-iitm/dl_assgn_1_q_4/sweeps/sdlyh3ti' target=\"_blank\">https://wandb.ai/arunangshudutta218-iitm/dl_assgn_1_q_4/sweeps/sdlyh3ti</a>"
            ]
          },
          "metadata": {}
        },
        {
          "output_type": "display_data",
          "data": {
            "text/plain": [
              "<IPython.core.display.HTML object>"
            ],
            "text/html": [
              " View run at <a href='https://wandb.ai/arunangshudutta218-iitm/dl_assgn_1_q_4/runs/piya366x' target=\"_blank\">https://wandb.ai/arunangshudutta218-iitm/dl_assgn_1_q_4/runs/piya366x</a>"
            ]
          },
          "metadata": {}
        },
        {
          "output_type": "stream",
          "name": "stdout",
          "text": [
            "1312.0\n"
          ]
        },
        {
          "output_type": "stream",
          "name": "stderr",
          "text": [
            "100%|██████████| 1312/1312 [00:04<00:00, 308.50it/s]\n",
            "100%|██████████| 1312/1312 [00:02<00:00, 528.90it/s]\n",
            "100%|██████████| 1312/1312 [00:02<00:00, 586.95it/s]\n",
            "100%|██████████| 1312/1312 [00:02<00:00, 570.36it/s]\n",
            "100%|██████████| 1312/1312 [00:02<00:00, 491.77it/s]\n",
            "100%|██████████| 1312/1312 [00:04<00:00, 321.53it/s]\n",
            "100%|██████████| 1312/1312 [00:02<00:00, 570.26it/s]\n",
            "100%|██████████| 1312/1312 [00:02<00:00, 485.45it/s]\n",
            "100%|██████████| 1312/1312 [00:02<00:00, 568.88it/s]\n",
            "100%|██████████| 1312/1312 [00:03<00:00, 330.61it/s]\n"
          ]
        },
        {
          "output_type": "display_data",
          "data": {
            "text/plain": [
              "<IPython.core.display.HTML object>"
            ],
            "text/html": []
          },
          "metadata": {}
        },
        {
          "output_type": "display_data",
          "data": {
            "text/plain": [
              "<IPython.core.display.HTML object>"
            ],
            "text/html": [
              "<br>    <style><br>        .wandb-row {<br>            display: flex;<br>            flex-direction: row;<br>            flex-wrap: wrap;<br>            justify-content: flex-start;<br>            width: 100%;<br>        }<br>        .wandb-col {<br>            display: flex;<br>            flex-direction: column;<br>            flex-basis: 100%;<br>            flex: 1;<br>            padding: 10px;<br>        }<br>    </style><br><div class=\"wandb-row\"><div class=\"wandb-col\"><h3>Run history:</h3><br/><table class=\"wandb\"><tr><td>tr_accuracy</td><td>▁▁▁▁▁▁▁▁▁▁</td></tr><tr><td>tr_loss</td><td>█▅▄▃▂▂▁▁▁▁</td></tr><tr><td>val_accuracy</td><td>▁▁▁▁▁▁▁▁▁▁</td></tr><tr><td>val_loss</td><td>█▅▃▂▂▁▁▁▁▁</td></tr></table><br/></div><div class=\"wandb-col\"><h3>Run summary:</h3><br/><table class=\"wandb\"><tr><td>tr_accuracy</td><td>15.625</td></tr><tr><td>tr_loss</td><td>2.30237</td></tr><tr><td>val_accuracy</td><td>3.125</td></tr><tr><td>val_loss</td><td>2.30221</td></tr></table><br/></div></div>"
            ]
          },
          "metadata": {}
        },
        {
          "output_type": "display_data",
          "data": {
            "text/plain": [
              "<IPython.core.display.HTML object>"
            ],
            "text/html": [
              " View run <strong style=\"color:#cdcd00\">e_10_hl_4_hs_32_lr_0.0001_opt_momentum_bs_32_init_Xavier_ac_sigmoid_l2_0.0005</strong> at: <a href='https://wandb.ai/arunangshudutta218-iitm/dl_assgn_1_q_4/runs/piya366x' target=\"_blank\">https://wandb.ai/arunangshudutta218-iitm/dl_assgn_1_q_4/runs/piya366x</a><br> View project at: <a href='https://wandb.ai/arunangshudutta218-iitm/dl_assgn_1_q_4' target=\"_blank\">https://wandb.ai/arunangshudutta218-iitm/dl_assgn_1_q_4</a><br>Synced 5 W&B file(s), 0 media file(s), 0 artifact file(s) and 0 other file(s)"
            ]
          },
          "metadata": {}
        },
        {
          "output_type": "display_data",
          "data": {
            "text/plain": [
              "<IPython.core.display.HTML object>"
            ],
            "text/html": [
              "Find logs at: <code>./wandb/run-20250309_204901-piya366x/logs</code>"
            ]
          },
          "metadata": {}
        },
        {
          "output_type": "stream",
          "name": "stderr",
          "text": [
            "\u001b[34m\u001b[1mwandb\u001b[0m: Agent Starting Run: tpvt4pm8 with config:\n",
            "\u001b[34m\u001b[1mwandb\u001b[0m: \tactivation: sigmoid\n",
            "\u001b[34m\u001b[1mwandb\u001b[0m: \tbatch_size: 32\n",
            "\u001b[34m\u001b[1mwandb\u001b[0m: \tepochs: 5\n",
            "\u001b[34m\u001b[1mwandb\u001b[0m: \thidden_size: 32\n",
            "\u001b[34m\u001b[1mwandb\u001b[0m: \tlearning_rate: 0.0001\n",
            "\u001b[34m\u001b[1mwandb\u001b[0m: \tnum_layers: 4\n",
            "\u001b[34m\u001b[1mwandb\u001b[0m: \toptimizer: rmsprop\n",
            "\u001b[34m\u001b[1mwandb\u001b[0m: \tweight_decay: 0\n",
            "\u001b[34m\u001b[1mwandb\u001b[0m: \tweight_init: random\n"
          ]
        },
        {
          "output_type": "display_data",
          "data": {
            "text/plain": [
              "<IPython.core.display.HTML object>"
            ],
            "text/html": [
              "Tracking run with wandb version 0.19.7"
            ]
          },
          "metadata": {}
        },
        {
          "output_type": "display_data",
          "data": {
            "text/plain": [
              "<IPython.core.display.HTML object>"
            ],
            "text/html": [
              "Run data is saved locally in <code>/content/wandb/run-20250309_204942-tpvt4pm8</code>"
            ]
          },
          "metadata": {}
        },
        {
          "output_type": "display_data",
          "data": {
            "text/plain": [
              "<IPython.core.display.HTML object>"
            ],
            "text/html": [
              "Syncing run <strong><a href='https://wandb.ai/arunangshudutta218-iitm/dl_assgn_1_q_4/runs/tpvt4pm8' target=\"_blank\">olive-sweep-85</a></strong> to <a href='https://wandb.ai/arunangshudutta218-iitm/dl_assgn_1_q_4' target=\"_blank\">Weights & Biases</a> (<a href='https://wandb.me/developer-guide' target=\"_blank\">docs</a>)<br>Sweep page: <a href='https://wandb.ai/arunangshudutta218-iitm/dl_assgn_1_q_4/sweeps/sdlyh3ti' target=\"_blank\">https://wandb.ai/arunangshudutta218-iitm/dl_assgn_1_q_4/sweeps/sdlyh3ti</a>"
            ]
          },
          "metadata": {}
        },
        {
          "output_type": "display_data",
          "data": {
            "text/plain": [
              "<IPython.core.display.HTML object>"
            ],
            "text/html": [
              " View project at <a href='https://wandb.ai/arunangshudutta218-iitm/dl_assgn_1_q_4' target=\"_blank\">https://wandb.ai/arunangshudutta218-iitm/dl_assgn_1_q_4</a>"
            ]
          },
          "metadata": {}
        },
        {
          "output_type": "display_data",
          "data": {
            "text/plain": [
              "<IPython.core.display.HTML object>"
            ],
            "text/html": [
              " View sweep at <a href='https://wandb.ai/arunangshudutta218-iitm/dl_assgn_1_q_4/sweeps/sdlyh3ti' target=\"_blank\">https://wandb.ai/arunangshudutta218-iitm/dl_assgn_1_q_4/sweeps/sdlyh3ti</a>"
            ]
          },
          "metadata": {}
        },
        {
          "output_type": "display_data",
          "data": {
            "text/plain": [
              "<IPython.core.display.HTML object>"
            ],
            "text/html": [
              " View run at <a href='https://wandb.ai/arunangshudutta218-iitm/dl_assgn_1_q_4/runs/tpvt4pm8' target=\"_blank\">https://wandb.ai/arunangshudutta218-iitm/dl_assgn_1_q_4/runs/tpvt4pm8</a>"
            ]
          },
          "metadata": {}
        },
        {
          "output_type": "stream",
          "name": "stdout",
          "text": [
            "1312.0\n"
          ]
        },
        {
          "output_type": "stream",
          "name": "stderr",
          "text": [
            "100%|██████████| 1312/1312 [00:02<00:00, 460.90it/s]\n",
            "100%|██████████| 1312/1312 [00:03<00:00, 364.47it/s]\n",
            "100%|██████████| 1312/1312 [00:04<00:00, 315.89it/s]\n",
            "100%|██████████| 1312/1312 [00:03<00:00, 424.82it/s]\n",
            "100%|██████████| 1312/1312 [00:02<00:00, 481.09it/s]\n"
          ]
        },
        {
          "output_type": "display_data",
          "data": {
            "text/plain": [
              "<IPython.core.display.HTML object>"
            ],
            "text/html": []
          },
          "metadata": {}
        },
        {
          "output_type": "display_data",
          "data": {
            "text/plain": [
              "<IPython.core.display.HTML object>"
            ],
            "text/html": [
              "<br>    <style><br>        .wandb-row {<br>            display: flex;<br>            flex-direction: row;<br>            flex-wrap: wrap;<br>            justify-content: flex-start;<br>            width: 100%;<br>        }<br>        .wandb-col {<br>            display: flex;<br>            flex-direction: column;<br>            flex-basis: 100%;<br>            flex: 1;<br>            padding: 10px;<br>        }<br>    </style><br><div class=\"wandb-row\"><div class=\"wandb-col\"><h3>Run history:</h3><br/><table class=\"wandb\"><tr><td>tr_accuracy</td><td>▁▁▅▅█</td></tr><tr><td>tr_loss</td><td>█▄▂▂▁</td></tr><tr><td>val_accuracy</td><td>▁▅▆██</td></tr><tr><td>val_loss</td><td>█▄▃▂▁</td></tr></table><br/></div><div class=\"wandb-col\"><h3>Run summary:</h3><br/><table class=\"wandb\"><tr><td>tr_accuracy</td><td>62.5</td></tr><tr><td>tr_loss</td><td>0.89854</td></tr><tr><td>val_accuracy</td><td>78.125</td></tr><tr><td>val_loss</td><td>0.90965</td></tr></table><br/></div></div>"
            ]
          },
          "metadata": {}
        },
        {
          "output_type": "display_data",
          "data": {
            "text/plain": [
              "<IPython.core.display.HTML object>"
            ],
            "text/html": [
              " View run <strong style=\"color:#cdcd00\">e_5_hl_4_hs_32_lr_0.0001_opt_rmsprop_bs_32_init_random_ac_sigmoid_l2_0</strong> at: <a href='https://wandb.ai/arunangshudutta218-iitm/dl_assgn_1_q_4/runs/tpvt4pm8' target=\"_blank\">https://wandb.ai/arunangshudutta218-iitm/dl_assgn_1_q_4/runs/tpvt4pm8</a><br> View project at: <a href='https://wandb.ai/arunangshudutta218-iitm/dl_assgn_1_q_4' target=\"_blank\">https://wandb.ai/arunangshudutta218-iitm/dl_assgn_1_q_4</a><br>Synced 5 W&B file(s), 0 media file(s), 0 artifact file(s) and 0 other file(s)"
            ]
          },
          "metadata": {}
        },
        {
          "output_type": "display_data",
          "data": {
            "text/plain": [
              "<IPython.core.display.HTML object>"
            ],
            "text/html": [
              "Find logs at: <code>./wandb/run-20250309_204942-tpvt4pm8/logs</code>"
            ]
          },
          "metadata": {}
        },
        {
          "output_type": "stream",
          "name": "stderr",
          "text": [
            "\u001b[34m\u001b[1mwandb\u001b[0m: Agent Starting Run: cugv5onm with config:\n",
            "\u001b[34m\u001b[1mwandb\u001b[0m: \tactivation: ReLU\n",
            "\u001b[34m\u001b[1mwandb\u001b[0m: \tbatch_size: 64\n",
            "\u001b[34m\u001b[1mwandb\u001b[0m: \tepochs: 5\n",
            "\u001b[34m\u001b[1mwandb\u001b[0m: \thidden_size: 32\n",
            "\u001b[34m\u001b[1mwandb\u001b[0m: \tlearning_rate: 0.001\n",
            "\u001b[34m\u001b[1mwandb\u001b[0m: \tnum_layers: 4\n",
            "\u001b[34m\u001b[1mwandb\u001b[0m: \toptimizer: nag\n",
            "\u001b[34m\u001b[1mwandb\u001b[0m: \tweight_decay: 0.0005\n",
            "\u001b[34m\u001b[1mwandb\u001b[0m: \tweight_init: Xavier\n"
          ]
        },
        {
          "output_type": "display_data",
          "data": {
            "text/plain": [
              "<IPython.core.display.HTML object>"
            ],
            "text/html": [
              "Tracking run with wandb version 0.19.7"
            ]
          },
          "metadata": {}
        },
        {
          "output_type": "display_data",
          "data": {
            "text/plain": [
              "<IPython.core.display.HTML object>"
            ],
            "text/html": [
              "Run data is saved locally in <code>/content/wandb/run-20250309_205008-cugv5onm</code>"
            ]
          },
          "metadata": {}
        },
        {
          "output_type": "display_data",
          "data": {
            "text/plain": [
              "<IPython.core.display.HTML object>"
            ],
            "text/html": [
              "Syncing run <strong><a href='https://wandb.ai/arunangshudutta218-iitm/dl_assgn_1_q_4/runs/cugv5onm' target=\"_blank\">sage-sweep-86</a></strong> to <a href='https://wandb.ai/arunangshudutta218-iitm/dl_assgn_1_q_4' target=\"_blank\">Weights & Biases</a> (<a href='https://wandb.me/developer-guide' target=\"_blank\">docs</a>)<br>Sweep page: <a href='https://wandb.ai/arunangshudutta218-iitm/dl_assgn_1_q_4/sweeps/sdlyh3ti' target=\"_blank\">https://wandb.ai/arunangshudutta218-iitm/dl_assgn_1_q_4/sweeps/sdlyh3ti</a>"
            ]
          },
          "metadata": {}
        },
        {
          "output_type": "display_data",
          "data": {
            "text/plain": [
              "<IPython.core.display.HTML object>"
            ],
            "text/html": [
              " View project at <a href='https://wandb.ai/arunangshudutta218-iitm/dl_assgn_1_q_4' target=\"_blank\">https://wandb.ai/arunangshudutta218-iitm/dl_assgn_1_q_4</a>"
            ]
          },
          "metadata": {}
        },
        {
          "output_type": "display_data",
          "data": {
            "text/plain": [
              "<IPython.core.display.HTML object>"
            ],
            "text/html": [
              " View sweep at <a href='https://wandb.ai/arunangshudutta218-iitm/dl_assgn_1_q_4/sweeps/sdlyh3ti' target=\"_blank\">https://wandb.ai/arunangshudutta218-iitm/dl_assgn_1_q_4/sweeps/sdlyh3ti</a>"
            ]
          },
          "metadata": {}
        },
        {
          "output_type": "display_data",
          "data": {
            "text/plain": [
              "<IPython.core.display.HTML object>"
            ],
            "text/html": [
              " View run at <a href='https://wandb.ai/arunangshudutta218-iitm/dl_assgn_1_q_4/runs/cugv5onm' target=\"_blank\">https://wandb.ai/arunangshudutta218-iitm/dl_assgn_1_q_4/runs/cugv5onm</a>"
            ]
          },
          "metadata": {}
        },
        {
          "output_type": "stream",
          "name": "stdout",
          "text": [
            "656.0\n"
          ]
        },
        {
          "output_type": "stream",
          "name": "stderr",
          "text": [
            "100%|██████████| 656/656 [00:01<00:00, 488.62it/s]\n",
            "100%|██████████| 656/656 [00:01<00:00, 477.58it/s]\n",
            "100%|██████████| 656/656 [00:01<00:00, 490.71it/s]\n",
            "100%|██████████| 656/656 [00:01<00:00, 514.37it/s]\n",
            "100%|██████████| 656/656 [00:02<00:00, 306.90it/s]\n"
          ]
        },
        {
          "output_type": "display_data",
          "data": {
            "text/plain": [
              "<IPython.core.display.HTML object>"
            ],
            "text/html": []
          },
          "metadata": {}
        },
        {
          "output_type": "display_data",
          "data": {
            "text/plain": [
              "<IPython.core.display.HTML object>"
            ],
            "text/html": [
              "<br>    <style><br>        .wandb-row {<br>            display: flex;<br>            flex-direction: row;<br>            flex-wrap: wrap;<br>            justify-content: flex-start;<br>            width: 100%;<br>        }<br>        .wandb-col {<br>            display: flex;<br>            flex-direction: column;<br>            flex-basis: 100%;<br>            flex: 1;<br>            padding: 10px;<br>        }<br>    </style><br><div class=\"wandb-row\"><div class=\"wandb-col\"><h3>Run history:</h3><br/><table class=\"wandb\"><tr><td>tr_accuracy</td><td>▁▁▁▁▁</td></tr><tr><td>tr_loss</td><td>▁▁▁▁▁</td></tr><tr><td>val_accuracy</td><td>▁▁▁▁▁</td></tr><tr><td>val_loss</td><td>▁▁▁▁▁</td></tr></table><br/></div><div class=\"wandb-col\"><h3>Run summary:</h3><br/><table class=\"wandb\"><tr><td>tr_accuracy</td><td>7.8125</td></tr><tr><td>tr_loss</td><td>2.30495</td></tr><tr><td>val_accuracy</td><td>7.8125</td></tr><tr><td>val_loss</td><td>2.30521</td></tr></table><br/></div></div>"
            ]
          },
          "metadata": {}
        },
        {
          "output_type": "display_data",
          "data": {
            "text/plain": [
              "<IPython.core.display.HTML object>"
            ],
            "text/html": [
              " View run <strong style=\"color:#cdcd00\">e_5_hl_4_hs_32_lr_0.001_opt_nag_bs_64_init_Xavier_ac_ReLU_l2_0.0005</strong> at: <a href='https://wandb.ai/arunangshudutta218-iitm/dl_assgn_1_q_4/runs/cugv5onm' target=\"_blank\">https://wandb.ai/arunangshudutta218-iitm/dl_assgn_1_q_4/runs/cugv5onm</a><br> View project at: <a href='https://wandb.ai/arunangshudutta218-iitm/dl_assgn_1_q_4' target=\"_blank\">https://wandb.ai/arunangshudutta218-iitm/dl_assgn_1_q_4</a><br>Synced 5 W&B file(s), 0 media file(s), 0 artifact file(s) and 0 other file(s)"
            ]
          },
          "metadata": {}
        },
        {
          "output_type": "display_data",
          "data": {
            "text/plain": [
              "<IPython.core.display.HTML object>"
            ],
            "text/html": [
              "Find logs at: <code>./wandb/run-20250309_205008-cugv5onm/logs</code>"
            ]
          },
          "metadata": {}
        },
        {
          "output_type": "stream",
          "name": "stderr",
          "text": [
            "\u001b[34m\u001b[1mwandb\u001b[0m: Agent Starting Run: 3oq5j926 with config:\n",
            "\u001b[34m\u001b[1mwandb\u001b[0m: \tactivation: tanh\n",
            "\u001b[34m\u001b[1mwandb\u001b[0m: \tbatch_size: 16\n",
            "\u001b[34m\u001b[1mwandb\u001b[0m: \tepochs: 10\n",
            "\u001b[34m\u001b[1mwandb\u001b[0m: \thidden_size: 64\n",
            "\u001b[34m\u001b[1mwandb\u001b[0m: \tlearning_rate: 0.0001\n",
            "\u001b[34m\u001b[1mwandb\u001b[0m: \tnum_layers: 3\n",
            "\u001b[34m\u001b[1mwandb\u001b[0m: \toptimizer: nag\n",
            "\u001b[34m\u001b[1mwandb\u001b[0m: \tweight_decay: 0\n",
            "\u001b[34m\u001b[1mwandb\u001b[0m: \tweight_init: random\n"
          ]
        },
        {
          "output_type": "display_data",
          "data": {
            "text/plain": [
              "<IPython.core.display.HTML object>"
            ],
            "text/html": [
              "Tracking run with wandb version 0.19.7"
            ]
          },
          "metadata": {}
        },
        {
          "output_type": "display_data",
          "data": {
            "text/plain": [
              "<IPython.core.display.HTML object>"
            ],
            "text/html": [
              "Run data is saved locally in <code>/content/wandb/run-20250309_205023-3oq5j926</code>"
            ]
          },
          "metadata": {}
        },
        {
          "output_type": "display_data",
          "data": {
            "text/plain": [
              "<IPython.core.display.HTML object>"
            ],
            "text/html": [
              "Syncing run <strong><a href='https://wandb.ai/arunangshudutta218-iitm/dl_assgn_1_q_4/runs/3oq5j926' target=\"_blank\">restful-sweep-87</a></strong> to <a href='https://wandb.ai/arunangshudutta218-iitm/dl_assgn_1_q_4' target=\"_blank\">Weights & Biases</a> (<a href='https://wandb.me/developer-guide' target=\"_blank\">docs</a>)<br>Sweep page: <a href='https://wandb.ai/arunangshudutta218-iitm/dl_assgn_1_q_4/sweeps/sdlyh3ti' target=\"_blank\">https://wandb.ai/arunangshudutta218-iitm/dl_assgn_1_q_4/sweeps/sdlyh3ti</a>"
            ]
          },
          "metadata": {}
        },
        {
          "output_type": "display_data",
          "data": {
            "text/plain": [
              "<IPython.core.display.HTML object>"
            ],
            "text/html": [
              " View project at <a href='https://wandb.ai/arunangshudutta218-iitm/dl_assgn_1_q_4' target=\"_blank\">https://wandb.ai/arunangshudutta218-iitm/dl_assgn_1_q_4</a>"
            ]
          },
          "metadata": {}
        },
        {
          "output_type": "display_data",
          "data": {
            "text/plain": [
              "<IPython.core.display.HTML object>"
            ],
            "text/html": [
              " View sweep at <a href='https://wandb.ai/arunangshudutta218-iitm/dl_assgn_1_q_4/sweeps/sdlyh3ti' target=\"_blank\">https://wandb.ai/arunangshudutta218-iitm/dl_assgn_1_q_4/sweeps/sdlyh3ti</a>"
            ]
          },
          "metadata": {}
        },
        {
          "output_type": "display_data",
          "data": {
            "text/plain": [
              "<IPython.core.display.HTML object>"
            ],
            "text/html": [
              " View run at <a href='https://wandb.ai/arunangshudutta218-iitm/dl_assgn_1_q_4/runs/3oq5j926' target=\"_blank\">https://wandb.ai/arunangshudutta218-iitm/dl_assgn_1_q_4/runs/3oq5j926</a>"
            ]
          },
          "metadata": {}
        },
        {
          "output_type": "stream",
          "name": "stdout",
          "text": [
            "2625.0\n"
          ]
        },
        {
          "output_type": "stream",
          "name": "stderr",
          "text": [
            "100%|██████████| 2625/2625 [00:08<00:00, 298.37it/s]\n",
            "100%|██████████| 2625/2625 [00:06<00:00, 388.63it/s]\n",
            "100%|██████████| 2625/2625 [00:09<00:00, 271.91it/s]\n",
            "100%|██████████| 2625/2625 [00:06<00:00, 392.73it/s]\n",
            "100%|██████████| 2625/2625 [00:08<00:00, 301.04it/s]\n",
            "100%|██████████| 2625/2625 [00:07<00:00, 344.02it/s]\n",
            "100%|██████████| 2625/2625 [00:06<00:00, 387.34it/s]\n",
            "100%|██████████| 2625/2625 [00:09<00:00, 279.80it/s]\n",
            "100%|██████████| 2625/2625 [00:06<00:00, 400.47it/s]\n",
            "100%|██████████| 2625/2625 [00:09<00:00, 287.83it/s]\n"
          ]
        },
        {
          "output_type": "display_data",
          "data": {
            "text/plain": [
              "<IPython.core.display.HTML object>"
            ],
            "text/html": []
          },
          "metadata": {}
        },
        {
          "output_type": "display_data",
          "data": {
            "text/plain": [
              "<IPython.core.display.HTML object>"
            ],
            "text/html": [
              "<br>    <style><br>        .wandb-row {<br>            display: flex;<br>            flex-direction: row;<br>            flex-wrap: wrap;<br>            justify-content: flex-start;<br>            width: 100%;<br>        }<br>        .wandb-col {<br>            display: flex;<br>            flex-direction: column;<br>            flex-basis: 100%;<br>            flex: 1;<br>            padding: 10px;<br>        }<br>    </style><br><div class=\"wandb-row\"><div class=\"wandb-col\"><h3>Run history:</h3><br/><table class=\"wandb\"><tr><td>tr_accuracy</td><td>▃▆▃▁▃▃▆██▃</td></tr><tr><td>tr_loss</td><td>█▃▄▄▁▃▇▂▂▅</td></tr><tr><td>val_accuracy</td><td>▁▁███▅▁▅▅█</td></tr><tr><td>val_loss</td><td>█▃▄▄▁▃▇▂▂▅</td></tr></table><br/></div><div class=\"wandb-col\"><h3>Run summary:</h3><br/><table class=\"wandb\"><tr><td>tr_accuracy</td><td>6.25</td></tr><tr><td>tr_loss</td><td>20.70581</td></tr><tr><td>val_accuracy</td><td>12.5</td></tr><tr><td>val_loss</td><td>20.67569</td></tr></table><br/></div></div>"
            ]
          },
          "metadata": {}
        },
        {
          "output_type": "display_data",
          "data": {
            "text/plain": [
              "<IPython.core.display.HTML object>"
            ],
            "text/html": [
              " View run <strong style=\"color:#cdcd00\">e_10_hl_3_hs_64_lr_0.0001_opt_nag_bs_16_init_random_ac_tanh_l2_0</strong> at: <a href='https://wandb.ai/arunangshudutta218-iitm/dl_assgn_1_q_4/runs/3oq5j926' target=\"_blank\">https://wandb.ai/arunangshudutta218-iitm/dl_assgn_1_q_4/runs/3oq5j926</a><br> View project at: <a href='https://wandb.ai/arunangshudutta218-iitm/dl_assgn_1_q_4' target=\"_blank\">https://wandb.ai/arunangshudutta218-iitm/dl_assgn_1_q_4</a><br>Synced 5 W&B file(s), 0 media file(s), 0 artifact file(s) and 0 other file(s)"
            ]
          },
          "metadata": {}
        },
        {
          "output_type": "display_data",
          "data": {
            "text/plain": [
              "<IPython.core.display.HTML object>"
            ],
            "text/html": [
              "Find logs at: <code>./wandb/run-20250309_205023-3oq5j926/logs</code>"
            ]
          },
          "metadata": {}
        },
        {
          "output_type": "stream",
          "name": "stderr",
          "text": [
            "\u001b[34m\u001b[1mwandb\u001b[0m: Sweep Agent: Waiting for job.\n",
            "\u001b[34m\u001b[1mwandb\u001b[0m: Job received.\n",
            "\u001b[34m\u001b[1mwandb\u001b[0m: Agent Starting Run: 5zjcggaf with config:\n",
            "\u001b[34m\u001b[1mwandb\u001b[0m: \tactivation: sigmoid\n",
            "\u001b[34m\u001b[1mwandb\u001b[0m: \tbatch_size: 32\n",
            "\u001b[34m\u001b[1mwandb\u001b[0m: \tepochs: 10\n",
            "\u001b[34m\u001b[1mwandb\u001b[0m: \thidden_size: 64\n",
            "\u001b[34m\u001b[1mwandb\u001b[0m: \tlearning_rate: 0.0001\n",
            "\u001b[34m\u001b[1mwandb\u001b[0m: \tnum_layers: 5\n",
            "\u001b[34m\u001b[1mwandb\u001b[0m: \toptimizer: sgd\n",
            "\u001b[34m\u001b[1mwandb\u001b[0m: \tweight_decay: 0.5\n",
            "\u001b[34m\u001b[1mwandb\u001b[0m: \tweight_init: random\n"
          ]
        },
        {
          "output_type": "display_data",
          "data": {
            "text/plain": [
              "<IPython.core.display.HTML object>"
            ],
            "text/html": [
              "Tracking run with wandb version 0.19.7"
            ]
          },
          "metadata": {}
        },
        {
          "output_type": "display_data",
          "data": {
            "text/plain": [
              "<IPython.core.display.HTML object>"
            ],
            "text/html": [
              "Run data is saved locally in <code>/content/wandb/run-20250309_205210-5zjcggaf</code>"
            ]
          },
          "metadata": {}
        },
        {
          "output_type": "display_data",
          "data": {
            "text/plain": [
              "<IPython.core.display.HTML object>"
            ],
            "text/html": [
              "Syncing run <strong><a href='https://wandb.ai/arunangshudutta218-iitm/dl_assgn_1_q_4/runs/5zjcggaf' target=\"_blank\">fanciful-sweep-88</a></strong> to <a href='https://wandb.ai/arunangshudutta218-iitm/dl_assgn_1_q_4' target=\"_blank\">Weights & Biases</a> (<a href='https://wandb.me/developer-guide' target=\"_blank\">docs</a>)<br>Sweep page: <a href='https://wandb.ai/arunangshudutta218-iitm/dl_assgn_1_q_4/sweeps/sdlyh3ti' target=\"_blank\">https://wandb.ai/arunangshudutta218-iitm/dl_assgn_1_q_4/sweeps/sdlyh3ti</a>"
            ]
          },
          "metadata": {}
        },
        {
          "output_type": "display_data",
          "data": {
            "text/plain": [
              "<IPython.core.display.HTML object>"
            ],
            "text/html": [
              " View project at <a href='https://wandb.ai/arunangshudutta218-iitm/dl_assgn_1_q_4' target=\"_blank\">https://wandb.ai/arunangshudutta218-iitm/dl_assgn_1_q_4</a>"
            ]
          },
          "metadata": {}
        },
        {
          "output_type": "display_data",
          "data": {
            "text/plain": [
              "<IPython.core.display.HTML object>"
            ],
            "text/html": [
              " View sweep at <a href='https://wandb.ai/arunangshudutta218-iitm/dl_assgn_1_q_4/sweeps/sdlyh3ti' target=\"_blank\">https://wandb.ai/arunangshudutta218-iitm/dl_assgn_1_q_4/sweeps/sdlyh3ti</a>"
            ]
          },
          "metadata": {}
        },
        {
          "output_type": "display_data",
          "data": {
            "text/plain": [
              "<IPython.core.display.HTML object>"
            ],
            "text/html": [
              " View run at <a href='https://wandb.ai/arunangshudutta218-iitm/dl_assgn_1_q_4/runs/5zjcggaf' target=\"_blank\">https://wandb.ai/arunangshudutta218-iitm/dl_assgn_1_q_4/runs/5zjcggaf</a>"
            ]
          },
          "metadata": {}
        },
        {
          "output_type": "stream",
          "name": "stdout",
          "text": [
            "1312.0\n"
          ]
        },
        {
          "output_type": "stream",
          "name": "stderr",
          "text": [
            "100%|██████████| 1312/1312 [00:03<00:00, 342.72it/s]\n",
            "100%|██████████| 1312/1312 [00:06<00:00, 200.39it/s]\n",
            "100%|██████████| 1312/1312 [00:03<00:00, 333.81it/s]\n",
            "100%|██████████| 1312/1312 [00:04<00:00, 271.86it/s]\n",
            "100%|██████████| 1312/1312 [00:05<00:00, 252.02it/s]\n",
            "100%|██████████| 1312/1312 [00:04<00:00, 318.11it/s]\n",
            "100%|██████████| 1312/1312 [00:06<00:00, 197.90it/s]\n",
            "100%|██████████| 1312/1312 [00:04<00:00, 313.34it/s]\n",
            "100%|██████████| 1312/1312 [00:03<00:00, 330.34it/s]\n",
            "100%|██████████| 1312/1312 [00:06<00:00, 200.66it/s]\n"
          ]
        },
        {
          "output_type": "display_data",
          "data": {
            "text/plain": [
              "<IPython.core.display.HTML object>"
            ],
            "text/html": []
          },
          "metadata": {}
        },
        {
          "output_type": "display_data",
          "data": {
            "text/plain": [
              "<IPython.core.display.HTML object>"
            ],
            "text/html": [
              "<br>    <style><br>        .wandb-row {<br>            display: flex;<br>            flex-direction: row;<br>            flex-wrap: wrap;<br>            justify-content: flex-start;<br>            width: 100%;<br>        }<br>        .wandb-col {<br>            display: flex;<br>            flex-direction: column;<br>            flex-basis: 100%;<br>            flex: 1;<br>            padding: 10px;<br>        }<br>    </style><br><div class=\"wandb-row\"><div class=\"wandb-col\"><h3>Run history:</h3><br/><table class=\"wandb\"><tr><td>tr_accuracy</td><td>▁▃▅▅▆██▇▇█</td></tr><tr><td>tr_loss</td><td>█▄▃▂▂▁▁▁▁▁</td></tr><tr><td>val_accuracy</td><td>▁▄▃▄▅▅▇▇▇█</td></tr><tr><td>val_loss</td><td>█▄▃▂▂▁▁▁▁▁</td></tr></table><br/></div><div class=\"wandb-col\"><h3>Run summary:</h3><br/><table class=\"wandb\"><tr><td>tr_accuracy</td><td>31.25</td></tr><tr><td>tr_loss</td><td>2.31815</td></tr><tr><td>val_accuracy</td><td>28.125</td></tr><tr><td>val_loss</td><td>2.32794</td></tr></table><br/></div></div>"
            ]
          },
          "metadata": {}
        },
        {
          "output_type": "display_data",
          "data": {
            "text/plain": [
              "<IPython.core.display.HTML object>"
            ],
            "text/html": [
              " View run <strong style=\"color:#cdcd00\">e_10_hl_5_hs_64_lr_0.0001_opt_sgd_bs_32_init_random_ac_sigmoid_l2_0.5</strong> at: <a href='https://wandb.ai/arunangshudutta218-iitm/dl_assgn_1_q_4/runs/5zjcggaf' target=\"_blank\">https://wandb.ai/arunangshudutta218-iitm/dl_assgn_1_q_4/runs/5zjcggaf</a><br> View project at: <a href='https://wandb.ai/arunangshudutta218-iitm/dl_assgn_1_q_4' target=\"_blank\">https://wandb.ai/arunangshudutta218-iitm/dl_assgn_1_q_4</a><br>Synced 5 W&B file(s), 0 media file(s), 0 artifact file(s) and 0 other file(s)"
            ]
          },
          "metadata": {}
        },
        {
          "output_type": "display_data",
          "data": {
            "text/plain": [
              "<IPython.core.display.HTML object>"
            ],
            "text/html": [
              "Find logs at: <code>./wandb/run-20250309_205210-5zjcggaf/logs</code>"
            ]
          },
          "metadata": {}
        },
        {
          "output_type": "stream",
          "name": "stderr",
          "text": [
            "\u001b[34m\u001b[1mwandb\u001b[0m: Agent Starting Run: y4em07kp with config:\n",
            "\u001b[34m\u001b[1mwandb\u001b[0m: \tactivation: ReLU\n",
            "\u001b[34m\u001b[1mwandb\u001b[0m: \tbatch_size: 64\n",
            "\u001b[34m\u001b[1mwandb\u001b[0m: \tepochs: 5\n",
            "\u001b[34m\u001b[1mwandb\u001b[0m: \thidden_size: 128\n",
            "\u001b[34m\u001b[1mwandb\u001b[0m: \tlearning_rate: 0.0001\n",
            "\u001b[34m\u001b[1mwandb\u001b[0m: \tnum_layers: 5\n",
            "\u001b[34m\u001b[1mwandb\u001b[0m: \toptimizer: momentum\n",
            "\u001b[34m\u001b[1mwandb\u001b[0m: \tweight_decay: 0\n",
            "\u001b[34m\u001b[1mwandb\u001b[0m: \tweight_init: Xavier\n"
          ]
        },
        {
          "output_type": "display_data",
          "data": {
            "text/plain": [
              "<IPython.core.display.HTML object>"
            ],
            "text/html": [
              "Tracking run with wandb version 0.19.7"
            ]
          },
          "metadata": {}
        },
        {
          "output_type": "display_data",
          "data": {
            "text/plain": [
              "<IPython.core.display.HTML object>"
            ],
            "text/html": [
              "Run data is saved locally in <code>/content/wandb/run-20250309_205316-y4em07kp</code>"
            ]
          },
          "metadata": {}
        },
        {
          "output_type": "display_data",
          "data": {
            "text/plain": [
              "<IPython.core.display.HTML object>"
            ],
            "text/html": [
              "Syncing run <strong><a href='https://wandb.ai/arunangshudutta218-iitm/dl_assgn_1_q_4/runs/y4em07kp' target=\"_blank\">royal-sweep-89</a></strong> to <a href='https://wandb.ai/arunangshudutta218-iitm/dl_assgn_1_q_4' target=\"_blank\">Weights & Biases</a> (<a href='https://wandb.me/developer-guide' target=\"_blank\">docs</a>)<br>Sweep page: <a href='https://wandb.ai/arunangshudutta218-iitm/dl_assgn_1_q_4/sweeps/sdlyh3ti' target=\"_blank\">https://wandb.ai/arunangshudutta218-iitm/dl_assgn_1_q_4/sweeps/sdlyh3ti</a>"
            ]
          },
          "metadata": {}
        },
        {
          "output_type": "display_data",
          "data": {
            "text/plain": [
              "<IPython.core.display.HTML object>"
            ],
            "text/html": [
              " View project at <a href='https://wandb.ai/arunangshudutta218-iitm/dl_assgn_1_q_4' target=\"_blank\">https://wandb.ai/arunangshudutta218-iitm/dl_assgn_1_q_4</a>"
            ]
          },
          "metadata": {}
        },
        {
          "output_type": "display_data",
          "data": {
            "text/plain": [
              "<IPython.core.display.HTML object>"
            ],
            "text/html": [
              " View sweep at <a href='https://wandb.ai/arunangshudutta218-iitm/dl_assgn_1_q_4/sweeps/sdlyh3ti' target=\"_blank\">https://wandb.ai/arunangshudutta218-iitm/dl_assgn_1_q_4/sweeps/sdlyh3ti</a>"
            ]
          },
          "metadata": {}
        },
        {
          "output_type": "display_data",
          "data": {
            "text/plain": [
              "<IPython.core.display.HTML object>"
            ],
            "text/html": [
              " View run at <a href='https://wandb.ai/arunangshudutta218-iitm/dl_assgn_1_q_4/runs/y4em07kp' target=\"_blank\">https://wandb.ai/arunangshudutta218-iitm/dl_assgn_1_q_4/runs/y4em07kp</a>"
            ]
          },
          "metadata": {}
        },
        {
          "output_type": "stream",
          "name": "stdout",
          "text": [
            "656.0\n"
          ]
        },
        {
          "output_type": "stream",
          "name": "stderr",
          "text": [
            "100%|██████████| 656/656 [00:07<00:00, 90.98it/s]\n",
            "100%|██████████| 656/656 [00:05<00:00, 119.73it/s]\n",
            "100%|██████████| 656/656 [00:07<00:00, 82.54it/s]\n",
            "100%|██████████| 656/656 [00:04<00:00, 135.21it/s]\n",
            "100%|██████████| 656/656 [00:07<00:00, 89.07it/s]\n"
          ]
        },
        {
          "output_type": "display_data",
          "data": {
            "text/plain": [
              "<IPython.core.display.HTML object>"
            ],
            "text/html": []
          },
          "metadata": {}
        },
        {
          "output_type": "display_data",
          "data": {
            "text/plain": [
              "<IPython.core.display.HTML object>"
            ],
            "text/html": [
              "<br>    <style><br>        .wandb-row {<br>            display: flex;<br>            flex-direction: row;<br>            flex-wrap: wrap;<br>            justify-content: flex-start;<br>            width: 100%;<br>        }<br>        .wandb-col {<br>            display: flex;<br>            flex-direction: column;<br>            flex-basis: 100%;<br>            flex: 1;<br>            padding: 10px;<br>        }<br>    </style><br><div class=\"wandb-row\"><div class=\"wandb-col\"><h3>Run history:</h3><br/><table class=\"wandb\"><tr><td>tr_accuracy</td><td>▁▄███</td></tr><tr><td>tr_loss</td><td>█▆▅▃▁</td></tr><tr><td>val_accuracy</td><td>▁▅▇██</td></tr><tr><td>val_loss</td><td>█▆▅▃▁</td></tr></table><br/></div><div class=\"wandb-col\"><h3>Run summary:</h3><br/><table class=\"wandb\"><tr><td>tr_accuracy</td><td>31.25</td></tr><tr><td>tr_loss</td><td>2.17737</td></tr><tr><td>val_accuracy</td><td>46.875</td></tr><tr><td>val_loss</td><td>2.17698</td></tr></table><br/></div></div>"
            ]
          },
          "metadata": {}
        },
        {
          "output_type": "display_data",
          "data": {
            "text/plain": [
              "<IPython.core.display.HTML object>"
            ],
            "text/html": [
              " View run <strong style=\"color:#cdcd00\">e_5_hl_5_hs_128_lr_0.0001_opt_momentum_bs_64_init_Xavier_ac_ReLU_l2_0</strong> at: <a href='https://wandb.ai/arunangshudutta218-iitm/dl_assgn_1_q_4/runs/y4em07kp' target=\"_blank\">https://wandb.ai/arunangshudutta218-iitm/dl_assgn_1_q_4/runs/y4em07kp</a><br> View project at: <a href='https://wandb.ai/arunangshudutta218-iitm/dl_assgn_1_q_4' target=\"_blank\">https://wandb.ai/arunangshudutta218-iitm/dl_assgn_1_q_4</a><br>Synced 5 W&B file(s), 0 media file(s), 0 artifact file(s) and 0 other file(s)"
            ]
          },
          "metadata": {}
        },
        {
          "output_type": "display_data",
          "data": {
            "text/plain": [
              "<IPython.core.display.HTML object>"
            ],
            "text/html": [
              "Find logs at: <code>./wandb/run-20250309_205316-y4em07kp/logs</code>"
            ]
          },
          "metadata": {}
        },
        {
          "output_type": "stream",
          "name": "stderr",
          "text": [
            "\u001b[34m\u001b[1mwandb\u001b[0m: Agent Starting Run: xdhgn9p7 with config:\n",
            "\u001b[34m\u001b[1mwandb\u001b[0m: \tactivation: ReLU\n",
            "\u001b[34m\u001b[1mwandb\u001b[0m: \tbatch_size: 16\n",
            "\u001b[34m\u001b[1mwandb\u001b[0m: \tepochs: 5\n",
            "\u001b[34m\u001b[1mwandb\u001b[0m: \thidden_size: 32\n",
            "\u001b[34m\u001b[1mwandb\u001b[0m: \tlearning_rate: 0.001\n",
            "\u001b[34m\u001b[1mwandb\u001b[0m: \tnum_layers: 3\n",
            "\u001b[34m\u001b[1mwandb\u001b[0m: \toptimizer: adam\n",
            "\u001b[34m\u001b[1mwandb\u001b[0m: \tweight_decay: 0.0005\n",
            "\u001b[34m\u001b[1mwandb\u001b[0m: \tweight_init: Xavier\n"
          ]
        },
        {
          "output_type": "display_data",
          "data": {
            "text/plain": [
              "<IPython.core.display.HTML object>"
            ],
            "text/html": [
              "Tracking run with wandb version 0.19.7"
            ]
          },
          "metadata": {}
        },
        {
          "output_type": "display_data",
          "data": {
            "text/plain": [
              "<IPython.core.display.HTML object>"
            ],
            "text/html": [
              "Run data is saved locally in <code>/content/wandb/run-20250309_205402-xdhgn9p7</code>"
            ]
          },
          "metadata": {}
        },
        {
          "output_type": "display_data",
          "data": {
            "text/plain": [
              "<IPython.core.display.HTML object>"
            ],
            "text/html": [
              "Syncing run <strong><a href='https://wandb.ai/arunangshudutta218-iitm/dl_assgn_1_q_4/runs/xdhgn9p7' target=\"_blank\">electric-sweep-90</a></strong> to <a href='https://wandb.ai/arunangshudutta218-iitm/dl_assgn_1_q_4' target=\"_blank\">Weights & Biases</a> (<a href='https://wandb.me/developer-guide' target=\"_blank\">docs</a>)<br>Sweep page: <a href='https://wandb.ai/arunangshudutta218-iitm/dl_assgn_1_q_4/sweeps/sdlyh3ti' target=\"_blank\">https://wandb.ai/arunangshudutta218-iitm/dl_assgn_1_q_4/sweeps/sdlyh3ti</a>"
            ]
          },
          "metadata": {}
        },
        {
          "output_type": "display_data",
          "data": {
            "text/plain": [
              "<IPython.core.display.HTML object>"
            ],
            "text/html": [
              " View project at <a href='https://wandb.ai/arunangshudutta218-iitm/dl_assgn_1_q_4' target=\"_blank\">https://wandb.ai/arunangshudutta218-iitm/dl_assgn_1_q_4</a>"
            ]
          },
          "metadata": {}
        },
        {
          "output_type": "display_data",
          "data": {
            "text/plain": [
              "<IPython.core.display.HTML object>"
            ],
            "text/html": [
              " View sweep at <a href='https://wandb.ai/arunangshudutta218-iitm/dl_assgn_1_q_4/sweeps/sdlyh3ti' target=\"_blank\">https://wandb.ai/arunangshudutta218-iitm/dl_assgn_1_q_4/sweeps/sdlyh3ti</a>"
            ]
          },
          "metadata": {}
        },
        {
          "output_type": "display_data",
          "data": {
            "text/plain": [
              "<IPython.core.display.HTML object>"
            ],
            "text/html": [
              " View run at <a href='https://wandb.ai/arunangshudutta218-iitm/dl_assgn_1_q_4/runs/xdhgn9p7' target=\"_blank\">https://wandb.ai/arunangshudutta218-iitm/dl_assgn_1_q_4/runs/xdhgn9p7</a>"
            ]
          },
          "metadata": {}
        },
        {
          "output_type": "stream",
          "name": "stdout",
          "text": [
            "2625.0\n"
          ]
        },
        {
          "output_type": "stream",
          "name": "stderr",
          "text": [
            "100%|██████████| 2625/2625 [00:09<00:00, 287.75it/s]\n",
            "100%|██████████| 2625/2625 [00:14<00:00, 179.27it/s]\n",
            "100%|██████████| 2625/2625 [00:14<00:00, 181.40it/s]\n",
            "100%|██████████| 2625/2625 [00:12<00:00, 202.80it/s]\n",
            "100%|██████████| 2625/2625 [00:14<00:00, 181.50it/s]\n"
          ]
        },
        {
          "output_type": "display_data",
          "data": {
            "text/plain": [
              "<IPython.core.display.HTML object>"
            ],
            "text/html": []
          },
          "metadata": {}
        },
        {
          "output_type": "display_data",
          "data": {
            "text/plain": [
              "<IPython.core.display.HTML object>"
            ],
            "text/html": [
              "<br>    <style><br>        .wandb-row {<br>            display: flex;<br>            flex-direction: row;<br>            flex-wrap: wrap;<br>            justify-content: flex-start;<br>            width: 100%;<br>        }<br>        .wandb-col {<br>            display: flex;<br>            flex-direction: column;<br>            flex-basis: 100%;<br>            flex: 1;<br>            padding: 10px;<br>        }<br>    </style><br><div class=\"wandb-row\"><div class=\"wandb-col\"><h3>Run history:</h3><br/><table class=\"wandb\"><tr><td>tr_accuracy</td><td>▁█▁██</td></tr><tr><td>tr_loss</td><td>▄▁▆▅█</td></tr><tr><td>val_accuracy</td><td>▁▅█▅▁</td></tr><tr><td>val_loss</td><td>▂▁▅▆█</td></tr></table><br/></div><div class=\"wandb-col\"><h3>Run summary:</h3><br/><table class=\"wandb\"><tr><td>tr_accuracy</td><td>100</td></tr><tr><td>tr_loss</td><td>0.49533</td></tr><tr><td>val_accuracy</td><td>81.25</td></tr><tr><td>val_loss</td><td>0.54985</td></tr></table><br/></div></div>"
            ]
          },
          "metadata": {}
        },
        {
          "output_type": "display_data",
          "data": {
            "text/plain": [
              "<IPython.core.display.HTML object>"
            ],
            "text/html": [
              " View run <strong style=\"color:#cdcd00\">e_5_hl_3_hs_32_lr_0.001_opt_adam_bs_16_init_Xavier_ac_ReLU_l2_0.0005</strong> at: <a href='https://wandb.ai/arunangshudutta218-iitm/dl_assgn_1_q_4/runs/xdhgn9p7' target=\"_blank\">https://wandb.ai/arunangshudutta218-iitm/dl_assgn_1_q_4/runs/xdhgn9p7</a><br> View project at: <a href='https://wandb.ai/arunangshudutta218-iitm/dl_assgn_1_q_4' target=\"_blank\">https://wandb.ai/arunangshudutta218-iitm/dl_assgn_1_q_4</a><br>Synced 5 W&B file(s), 0 media file(s), 0 artifact file(s) and 0 other file(s)"
            ]
          },
          "metadata": {}
        },
        {
          "output_type": "display_data",
          "data": {
            "text/plain": [
              "<IPython.core.display.HTML object>"
            ],
            "text/html": [
              "Find logs at: <code>./wandb/run-20250309_205402-xdhgn9p7/logs</code>"
            ]
          },
          "metadata": {}
        },
        {
          "output_type": "stream",
          "name": "stderr",
          "text": [
            "\u001b[34m\u001b[1mwandb\u001b[0m: Agent Starting Run: mw7uvhgu with config:\n",
            "\u001b[34m\u001b[1mwandb\u001b[0m: \tactivation: tanh\n",
            "\u001b[34m\u001b[1mwandb\u001b[0m: \tbatch_size: 16\n",
            "\u001b[34m\u001b[1mwandb\u001b[0m: \tepochs: 5\n",
            "\u001b[34m\u001b[1mwandb\u001b[0m: \thidden_size: 128\n",
            "\u001b[34m\u001b[1mwandb\u001b[0m: \tlearning_rate: 0.0001\n",
            "\u001b[34m\u001b[1mwandb\u001b[0m: \tnum_layers: 3\n",
            "\u001b[34m\u001b[1mwandb\u001b[0m: \toptimizer: rmsprop\n",
            "\u001b[34m\u001b[1mwandb\u001b[0m: \tweight_decay: 0\n",
            "\u001b[34m\u001b[1mwandb\u001b[0m: \tweight_init: random\n"
          ]
        },
        {
          "output_type": "display_data",
          "data": {
            "text/plain": [
              "<IPython.core.display.HTML object>"
            ],
            "text/html": [
              "Tracking run with wandb version 0.19.7"
            ]
          },
          "metadata": {}
        },
        {
          "output_type": "display_data",
          "data": {
            "text/plain": [
              "<IPython.core.display.HTML object>"
            ],
            "text/html": [
              "Run data is saved locally in <code>/content/wandb/run-20250309_205539-mw7uvhgu</code>"
            ]
          },
          "metadata": {}
        },
        {
          "output_type": "display_data",
          "data": {
            "text/plain": [
              "<IPython.core.display.HTML object>"
            ],
            "text/html": [
              "Syncing run <strong><a href='https://wandb.ai/arunangshudutta218-iitm/dl_assgn_1_q_4/runs/mw7uvhgu' target=\"_blank\">legendary-sweep-91</a></strong> to <a href='https://wandb.ai/arunangshudutta218-iitm/dl_assgn_1_q_4' target=\"_blank\">Weights & Biases</a> (<a href='https://wandb.me/developer-guide' target=\"_blank\">docs</a>)<br>Sweep page: <a href='https://wandb.ai/arunangshudutta218-iitm/dl_assgn_1_q_4/sweeps/sdlyh3ti' target=\"_blank\">https://wandb.ai/arunangshudutta218-iitm/dl_assgn_1_q_4/sweeps/sdlyh3ti</a>"
            ]
          },
          "metadata": {}
        },
        {
          "output_type": "display_data",
          "data": {
            "text/plain": [
              "<IPython.core.display.HTML object>"
            ],
            "text/html": [
              " View project at <a href='https://wandb.ai/arunangshudutta218-iitm/dl_assgn_1_q_4' target=\"_blank\">https://wandb.ai/arunangshudutta218-iitm/dl_assgn_1_q_4</a>"
            ]
          },
          "metadata": {}
        },
        {
          "output_type": "display_data",
          "data": {
            "text/plain": [
              "<IPython.core.display.HTML object>"
            ],
            "text/html": [
              " View sweep at <a href='https://wandb.ai/arunangshudutta218-iitm/dl_assgn_1_q_4/sweeps/sdlyh3ti' target=\"_blank\">https://wandb.ai/arunangshudutta218-iitm/dl_assgn_1_q_4/sweeps/sdlyh3ti</a>"
            ]
          },
          "metadata": {}
        },
        {
          "output_type": "display_data",
          "data": {
            "text/plain": [
              "<IPython.core.display.HTML object>"
            ],
            "text/html": [
              " View run at <a href='https://wandb.ai/arunangshudutta218-iitm/dl_assgn_1_q_4/runs/mw7uvhgu' target=\"_blank\">https://wandb.ai/arunangshudutta218-iitm/dl_assgn_1_q_4/runs/mw7uvhgu</a>"
            ]
          },
          "metadata": {}
        },
        {
          "output_type": "stream",
          "name": "stdout",
          "text": [
            "2625.0\n"
          ]
        },
        {
          "output_type": "stream",
          "name": "stderr",
          "text": [
            "100%|██████████| 2625/2625 [00:16<00:00, 162.03it/s]\n",
            "100%|██████████| 2625/2625 [00:16<00:00, 156.71it/s]\n",
            "100%|██████████| 2625/2625 [00:15<00:00, 164.85it/s]\n",
            "100%|██████████| 2625/2625 [00:16<00:00, 163.17it/s]\n",
            "100%|██████████| 2625/2625 [00:16<00:00, 159.80it/s]\n"
          ]
        },
        {
          "output_type": "display_data",
          "data": {
            "text/plain": [
              "<IPython.core.display.HTML object>"
            ],
            "text/html": []
          },
          "metadata": {}
        },
        {
          "output_type": "display_data",
          "data": {
            "text/plain": [
              "<IPython.core.display.HTML object>"
            ],
            "text/html": [
              "<br>    <style><br>        .wandb-row {<br>            display: flex;<br>            flex-direction: row;<br>            flex-wrap: wrap;<br>            justify-content: flex-start;<br>            width: 100%;<br>        }<br>        .wandb-col {<br>            display: flex;<br>            flex-direction: column;<br>            flex-basis: 100%;<br>            flex: 1;<br>            padding: 10px;<br>        }<br>    </style><br><div class=\"wandb-row\"><div class=\"wandb-col\"><h3>Run history:</h3><br/><table class=\"wandb\"><tr><td>tr_accuracy</td><td>▁▃▅▇█</td></tr><tr><td>tr_loss</td><td>█▄▃▂▁</td></tr><tr><td>val_accuracy</td><td>▁▃█▅▇</td></tr><tr><td>val_loss</td><td>█▄▃▂▁</td></tr></table><br/></div><div class=\"wandb-col\"><h3>Run summary:</h3><br/><table class=\"wandb\"><tr><td>tr_accuracy</td><td>75</td></tr><tr><td>tr_loss</td><td>2.77238</td></tr><tr><td>val_accuracy</td><td>68.75</td></tr><tr><td>val_loss</td><td>3.02643</td></tr></table><br/></div></div>"
            ]
          },
          "metadata": {}
        },
        {
          "output_type": "display_data",
          "data": {
            "text/plain": [
              "<IPython.core.display.HTML object>"
            ],
            "text/html": [
              " View run <strong style=\"color:#cdcd00\">e_5_hl_3_hs_128_lr_0.0001_opt_rmsprop_bs_16_init_random_ac_tanh_l2_0</strong> at: <a href='https://wandb.ai/arunangshudutta218-iitm/dl_assgn_1_q_4/runs/mw7uvhgu' target=\"_blank\">https://wandb.ai/arunangshudutta218-iitm/dl_assgn_1_q_4/runs/mw7uvhgu</a><br> View project at: <a href='https://wandb.ai/arunangshudutta218-iitm/dl_assgn_1_q_4' target=\"_blank\">https://wandb.ai/arunangshudutta218-iitm/dl_assgn_1_q_4</a><br>Synced 5 W&B file(s), 0 media file(s), 0 artifact file(s) and 0 other file(s)"
            ]
          },
          "metadata": {}
        },
        {
          "output_type": "display_data",
          "data": {
            "text/plain": [
              "<IPython.core.display.HTML object>"
            ],
            "text/html": [
              "Find logs at: <code>./wandb/run-20250309_205539-mw7uvhgu/logs</code>"
            ]
          },
          "metadata": {}
        },
        {
          "output_type": "stream",
          "name": "stderr",
          "text": [
            "\u001b[34m\u001b[1mwandb\u001b[0m: Agent Starting Run: 73cygps7 with config:\n",
            "\u001b[34m\u001b[1mwandb\u001b[0m: \tactivation: tanh\n",
            "\u001b[34m\u001b[1mwandb\u001b[0m: \tbatch_size: 32\n",
            "\u001b[34m\u001b[1mwandb\u001b[0m: \tepochs: 5\n",
            "\u001b[34m\u001b[1mwandb\u001b[0m: \thidden_size: 32\n",
            "\u001b[34m\u001b[1mwandb\u001b[0m: \tlearning_rate: 0.001\n",
            "\u001b[34m\u001b[1mwandb\u001b[0m: \tnum_layers: 5\n",
            "\u001b[34m\u001b[1mwandb\u001b[0m: \toptimizer: adam\n",
            "\u001b[34m\u001b[1mwandb\u001b[0m: \tweight_decay: 0.5\n",
            "\u001b[34m\u001b[1mwandb\u001b[0m: \tweight_init: Xavier\n"
          ]
        },
        {
          "output_type": "display_data",
          "data": {
            "text/plain": [
              "<IPython.core.display.HTML object>"
            ],
            "text/html": [
              "Tracking run with wandb version 0.19.7"
            ]
          },
          "metadata": {}
        },
        {
          "output_type": "display_data",
          "data": {
            "text/plain": [
              "<IPython.core.display.HTML object>"
            ],
            "text/html": [
              "Run data is saved locally in <code>/content/wandb/run-20250309_205721-73cygps7</code>"
            ]
          },
          "metadata": {}
        },
        {
          "output_type": "display_data",
          "data": {
            "text/plain": [
              "<IPython.core.display.HTML object>"
            ],
            "text/html": [
              "Syncing run <strong><a href='https://wandb.ai/arunangshudutta218-iitm/dl_assgn_1_q_4/runs/73cygps7' target=\"_blank\">vague-sweep-92</a></strong> to <a href='https://wandb.ai/arunangshudutta218-iitm/dl_assgn_1_q_4' target=\"_blank\">Weights & Biases</a> (<a href='https://wandb.me/developer-guide' target=\"_blank\">docs</a>)<br>Sweep page: <a href='https://wandb.ai/arunangshudutta218-iitm/dl_assgn_1_q_4/sweeps/sdlyh3ti' target=\"_blank\">https://wandb.ai/arunangshudutta218-iitm/dl_assgn_1_q_4/sweeps/sdlyh3ti</a>"
            ]
          },
          "metadata": {}
        },
        {
          "output_type": "display_data",
          "data": {
            "text/plain": [
              "<IPython.core.display.HTML object>"
            ],
            "text/html": [
              " View project at <a href='https://wandb.ai/arunangshudutta218-iitm/dl_assgn_1_q_4' target=\"_blank\">https://wandb.ai/arunangshudutta218-iitm/dl_assgn_1_q_4</a>"
            ]
          },
          "metadata": {}
        },
        {
          "output_type": "display_data",
          "data": {
            "text/plain": [
              "<IPython.core.display.HTML object>"
            ],
            "text/html": [
              " View sweep at <a href='https://wandb.ai/arunangshudutta218-iitm/dl_assgn_1_q_4/sweeps/sdlyh3ti' target=\"_blank\">https://wandb.ai/arunangshudutta218-iitm/dl_assgn_1_q_4/sweeps/sdlyh3ti</a>"
            ]
          },
          "metadata": {}
        },
        {
          "output_type": "display_data",
          "data": {
            "text/plain": [
              "<IPython.core.display.HTML object>"
            ],
            "text/html": [
              " View run at <a href='https://wandb.ai/arunangshudutta218-iitm/dl_assgn_1_q_4/runs/73cygps7' target=\"_blank\">https://wandb.ai/arunangshudutta218-iitm/dl_assgn_1_q_4/runs/73cygps7</a>"
            ]
          },
          "metadata": {}
        },
        {
          "output_type": "stream",
          "name": "stdout",
          "text": [
            "1312.0\n"
          ]
        },
        {
          "output_type": "stream",
          "name": "stderr",
          "text": [
            "100%|██████████| 1312/1312 [00:07<00:00, 184.20it/s]\n",
            "100%|██████████| 1312/1312 [00:04<00:00, 281.35it/s]\n",
            "100%|██████████| 1312/1312 [00:05<00:00, 250.99it/s]\n",
            "100%|██████████| 1312/1312 [00:05<00:00, 243.08it/s]\n",
            "100%|██████████| 1312/1312 [00:04<00:00, 300.46it/s]\n"
          ]
        },
        {
          "output_type": "display_data",
          "data": {
            "text/plain": [
              "<IPython.core.display.HTML object>"
            ],
            "text/html": []
          },
          "metadata": {}
        },
        {
          "output_type": "display_data",
          "data": {
            "text/plain": [
              "<IPython.core.display.HTML object>"
            ],
            "text/html": [
              "<br>    <style><br>        .wandb-row {<br>            display: flex;<br>            flex-direction: row;<br>            flex-wrap: wrap;<br>            justify-content: flex-start;<br>            width: 100%;<br>        }<br>        .wandb-col {<br>            display: flex;<br>            flex-direction: column;<br>            flex-basis: 100%;<br>            flex: 1;<br>            padding: 10px;<br>        }<br>    </style><br><div class=\"wandb-row\"><div class=\"wandb-col\"><h3>Run history:</h3><br/><table class=\"wandb\"><tr><td>tr_accuracy</td><td>▁▅▅▅█</td></tr><tr><td>tr_loss</td><td>█▇▅▂▁</td></tr><tr><td>val_accuracy</td><td>▅█▁▁▁</td></tr><tr><td>val_loss</td><td>█▇▅▂▁</td></tr></table><br/></div><div class=\"wandb-col\"><h3>Run summary:</h3><br/><table class=\"wandb\"><tr><td>tr_accuracy</td><td>84.375</td></tr><tr><td>tr_loss</td><td>0.536</td></tr><tr><td>val_accuracy</td><td>90.625</td></tr><tr><td>val_loss</td><td>0.54017</td></tr></table><br/></div></div>"
            ]
          },
          "metadata": {}
        },
        {
          "output_type": "display_data",
          "data": {
            "text/plain": [
              "<IPython.core.display.HTML object>"
            ],
            "text/html": [
              " View run <strong style=\"color:#cdcd00\">e_5_hl_5_hs_32_lr_0.001_opt_adam_bs_32_init_Xavier_ac_tanh_l2_0.5</strong> at: <a href='https://wandb.ai/arunangshudutta218-iitm/dl_assgn_1_q_4/runs/73cygps7' target=\"_blank\">https://wandb.ai/arunangshudutta218-iitm/dl_assgn_1_q_4/runs/73cygps7</a><br> View project at: <a href='https://wandb.ai/arunangshudutta218-iitm/dl_assgn_1_q_4' target=\"_blank\">https://wandb.ai/arunangshudutta218-iitm/dl_assgn_1_q_4</a><br>Synced 5 W&B file(s), 0 media file(s), 0 artifact file(s) and 0 other file(s)"
            ]
          },
          "metadata": {}
        },
        {
          "output_type": "display_data",
          "data": {
            "text/plain": [
              "<IPython.core.display.HTML object>"
            ],
            "text/html": [
              "Find logs at: <code>./wandb/run-20250309_205721-73cygps7/logs</code>"
            ]
          },
          "metadata": {}
        },
        {
          "output_type": "stream",
          "name": "stderr",
          "text": [
            "\u001b[34m\u001b[1mwandb\u001b[0m: Sweep Agent: Waiting for job.\n",
            "\u001b[34m\u001b[1mwandb\u001b[0m: Job received.\n",
            "\u001b[34m\u001b[1mwandb\u001b[0m: Agent Starting Run: zuuuyl7v with config:\n",
            "\u001b[34m\u001b[1mwandb\u001b[0m: \tactivation: ReLU\n",
            "\u001b[34m\u001b[1mwandb\u001b[0m: \tbatch_size: 64\n",
            "\u001b[34m\u001b[1mwandb\u001b[0m: \tepochs: 10\n",
            "\u001b[34m\u001b[1mwandb\u001b[0m: \thidden_size: 64\n",
            "\u001b[34m\u001b[1mwandb\u001b[0m: \tlearning_rate: 0.001\n",
            "\u001b[34m\u001b[1mwandb\u001b[0m: \tnum_layers: 4\n",
            "\u001b[34m\u001b[1mwandb\u001b[0m: \toptimizer: adam\n",
            "\u001b[34m\u001b[1mwandb\u001b[0m: \tweight_decay: 0.5\n",
            "\u001b[34m\u001b[1mwandb\u001b[0m: \tweight_init: random\n"
          ]
        },
        {
          "output_type": "display_data",
          "data": {
            "text/plain": [
              "<IPython.core.display.HTML object>"
            ],
            "text/html": [
              "Tracking run with wandb version 0.19.7"
            ]
          },
          "metadata": {}
        },
        {
          "output_type": "display_data",
          "data": {
            "text/plain": [
              "<IPython.core.display.HTML object>"
            ],
            "text/html": [
              "Run data is saved locally in <code>/content/wandb/run-20250309_205806-zuuuyl7v</code>"
            ]
          },
          "metadata": {}
        },
        {
          "output_type": "display_data",
          "data": {
            "text/plain": [
              "<IPython.core.display.HTML object>"
            ],
            "text/html": [
              "Syncing run <strong><a href='https://wandb.ai/arunangshudutta218-iitm/dl_assgn_1_q_4/runs/zuuuyl7v' target=\"_blank\">fluent-sweep-93</a></strong> to <a href='https://wandb.ai/arunangshudutta218-iitm/dl_assgn_1_q_4' target=\"_blank\">Weights & Biases</a> (<a href='https://wandb.me/developer-guide' target=\"_blank\">docs</a>)<br>Sweep page: <a href='https://wandb.ai/arunangshudutta218-iitm/dl_assgn_1_q_4/sweeps/sdlyh3ti' target=\"_blank\">https://wandb.ai/arunangshudutta218-iitm/dl_assgn_1_q_4/sweeps/sdlyh3ti</a>"
            ]
          },
          "metadata": {}
        },
        {
          "output_type": "display_data",
          "data": {
            "text/plain": [
              "<IPython.core.display.HTML object>"
            ],
            "text/html": [
              " View project at <a href='https://wandb.ai/arunangshudutta218-iitm/dl_assgn_1_q_4' target=\"_blank\">https://wandb.ai/arunangshudutta218-iitm/dl_assgn_1_q_4</a>"
            ]
          },
          "metadata": {}
        },
        {
          "output_type": "display_data",
          "data": {
            "text/plain": [
              "<IPython.core.display.HTML object>"
            ],
            "text/html": [
              " View sweep at <a href='https://wandb.ai/arunangshudutta218-iitm/dl_assgn_1_q_4/sweeps/sdlyh3ti' target=\"_blank\">https://wandb.ai/arunangshudutta218-iitm/dl_assgn_1_q_4/sweeps/sdlyh3ti</a>"
            ]
          },
          "metadata": {}
        },
        {
          "output_type": "display_data",
          "data": {
            "text/plain": [
              "<IPython.core.display.HTML object>"
            ],
            "text/html": [
              " View run at <a href='https://wandb.ai/arunangshudutta218-iitm/dl_assgn_1_q_4/runs/zuuuyl7v' target=\"_blank\">https://wandb.ai/arunangshudutta218-iitm/dl_assgn_1_q_4/runs/zuuuyl7v</a>"
            ]
          },
          "metadata": {}
        },
        {
          "output_type": "stream",
          "name": "stdout",
          "text": [
            "656.0\n"
          ]
        },
        {
          "output_type": "stream",
          "name": "stderr",
          "text": [
            "100%|██████████| 656/656 [00:04<00:00, 147.22it/s]\n",
            "100%|██████████| 656/656 [00:02<00:00, 234.67it/s]\n",
            "100%|██████████| 656/656 [00:02<00:00, 228.94it/s]\n",
            "100%|██████████| 656/656 [00:03<00:00, 211.64it/s]\n",
            "100%|██████████| 656/656 [00:04<00:00, 152.18it/s]\n",
            "100%|██████████| 656/656 [00:02<00:00, 234.16it/s]\n",
            "100%|██████████| 656/656 [00:02<00:00, 232.41it/s]\n",
            "100%|██████████| 656/656 [00:03<00:00, 165.67it/s]\n",
            "100%|██████████| 656/656 [00:04<00:00, 148.85it/s]\n",
            "100%|██████████| 656/656 [00:02<00:00, 232.91it/s]\n"
          ]
        },
        {
          "output_type": "display_data",
          "data": {
            "text/plain": [
              "<IPython.core.display.HTML object>"
            ],
            "text/html": []
          },
          "metadata": {}
        },
        {
          "output_type": "display_data",
          "data": {
            "text/plain": [
              "<IPython.core.display.HTML object>"
            ],
            "text/html": [
              "<br>    <style><br>        .wandb-row {<br>            display: flex;<br>            flex-direction: row;<br>            flex-wrap: wrap;<br>            justify-content: flex-start;<br>            width: 100%;<br>        }<br>        .wandb-col {<br>            display: flex;<br>            flex-direction: column;<br>            flex-basis: 100%;<br>            flex: 1;<br>            padding: 10px;<br>        }<br>    </style><br><div class=\"wandb-row\"><div class=\"wandb-col\"><h3>Run history:</h3><br/><table class=\"wandb\"><tr><td>tr_accuracy</td><td>▁▁▁▁▁▁▁▁▁▁</td></tr><tr><td>val_accuracy</td><td>▁▁▁▁▁▁▁▁▁▁</td></tr></table><br/></div><div class=\"wandb-col\"><h3>Run summary:</h3><br/><table class=\"wandb\"><tr><td>tr_accuracy</td><td>12.5</td></tr><tr><td>tr_loss</td><td>nan</td></tr><tr><td>val_accuracy</td><td>6.25</td></tr><tr><td>val_loss</td><td>nan</td></tr></table><br/></div></div>"
            ]
          },
          "metadata": {}
        },
        {
          "output_type": "display_data",
          "data": {
            "text/plain": [
              "<IPython.core.display.HTML object>"
            ],
            "text/html": [
              " View run <strong style=\"color:#cdcd00\">e_10_hl_4_hs_64_lr_0.001_opt_adam_bs_64_init_random_ac_ReLU_l2_0.5</strong> at: <a href='https://wandb.ai/arunangshudutta218-iitm/dl_assgn_1_q_4/runs/zuuuyl7v' target=\"_blank\">https://wandb.ai/arunangshudutta218-iitm/dl_assgn_1_q_4/runs/zuuuyl7v</a><br> View project at: <a href='https://wandb.ai/arunangshudutta218-iitm/dl_assgn_1_q_4' target=\"_blank\">https://wandb.ai/arunangshudutta218-iitm/dl_assgn_1_q_4</a><br>Synced 5 W&B file(s), 0 media file(s), 0 artifact file(s) and 0 other file(s)"
            ]
          },
          "metadata": {}
        },
        {
          "output_type": "display_data",
          "data": {
            "text/plain": [
              "<IPython.core.display.HTML object>"
            ],
            "text/html": [
              "Find logs at: <code>./wandb/run-20250309_205806-zuuuyl7v/logs</code>"
            ]
          },
          "metadata": {}
        },
        {
          "output_type": "stream",
          "name": "stderr",
          "text": [
            "\u001b[34m\u001b[1mwandb\u001b[0m: Agent Starting Run: pc2maa13 with config:\n",
            "\u001b[34m\u001b[1mwandb\u001b[0m: \tactivation: tanh\n",
            "\u001b[34m\u001b[1mwandb\u001b[0m: \tbatch_size: 16\n",
            "\u001b[34m\u001b[1mwandb\u001b[0m: \tepochs: 5\n",
            "\u001b[34m\u001b[1mwandb\u001b[0m: \thidden_size: 32\n",
            "\u001b[34m\u001b[1mwandb\u001b[0m: \tlearning_rate: 0.001\n",
            "\u001b[34m\u001b[1mwandb\u001b[0m: \tnum_layers: 5\n",
            "\u001b[34m\u001b[1mwandb\u001b[0m: \toptimizer: momentum\n",
            "\u001b[34m\u001b[1mwandb\u001b[0m: \tweight_decay: 0.5\n",
            "\u001b[34m\u001b[1mwandb\u001b[0m: \tweight_init: random\n"
          ]
        },
        {
          "output_type": "display_data",
          "data": {
            "text/plain": [
              "<IPython.core.display.HTML object>"
            ],
            "text/html": [
              "Tracking run with wandb version 0.19.7"
            ]
          },
          "metadata": {}
        },
        {
          "output_type": "display_data",
          "data": {
            "text/plain": [
              "<IPython.core.display.HTML object>"
            ],
            "text/html": [
              "Run data is saved locally in <code>/content/wandb/run-20250309_205853-pc2maa13</code>"
            ]
          },
          "metadata": {}
        },
        {
          "output_type": "display_data",
          "data": {
            "text/plain": [
              "<IPython.core.display.HTML object>"
            ],
            "text/html": [
              "Syncing run <strong><a href='https://wandb.ai/arunangshudutta218-iitm/dl_assgn_1_q_4/runs/pc2maa13' target=\"_blank\">happy-sweep-94</a></strong> to <a href='https://wandb.ai/arunangshudutta218-iitm/dl_assgn_1_q_4' target=\"_blank\">Weights & Biases</a> (<a href='https://wandb.me/developer-guide' target=\"_blank\">docs</a>)<br>Sweep page: <a href='https://wandb.ai/arunangshudutta218-iitm/dl_assgn_1_q_4/sweeps/sdlyh3ti' target=\"_blank\">https://wandb.ai/arunangshudutta218-iitm/dl_assgn_1_q_4/sweeps/sdlyh3ti</a>"
            ]
          },
          "metadata": {}
        },
        {
          "output_type": "display_data",
          "data": {
            "text/plain": [
              "<IPython.core.display.HTML object>"
            ],
            "text/html": [
              " View project at <a href='https://wandb.ai/arunangshudutta218-iitm/dl_assgn_1_q_4' target=\"_blank\">https://wandb.ai/arunangshudutta218-iitm/dl_assgn_1_q_4</a>"
            ]
          },
          "metadata": {}
        },
        {
          "output_type": "display_data",
          "data": {
            "text/plain": [
              "<IPython.core.display.HTML object>"
            ],
            "text/html": [
              " View sweep at <a href='https://wandb.ai/arunangshudutta218-iitm/dl_assgn_1_q_4/sweeps/sdlyh3ti' target=\"_blank\">https://wandb.ai/arunangshudutta218-iitm/dl_assgn_1_q_4/sweeps/sdlyh3ti</a>"
            ]
          },
          "metadata": {}
        },
        {
          "output_type": "display_data",
          "data": {
            "text/plain": [
              "<IPython.core.display.HTML object>"
            ],
            "text/html": [
              " View run at <a href='https://wandb.ai/arunangshudutta218-iitm/dl_assgn_1_q_4/runs/pc2maa13' target=\"_blank\">https://wandb.ai/arunangshudutta218-iitm/dl_assgn_1_q_4/runs/pc2maa13</a>"
            ]
          },
          "metadata": {}
        },
        {
          "output_type": "stream",
          "name": "stdout",
          "text": [
            "2625.0\n"
          ]
        },
        {
          "output_type": "stream",
          "name": "stderr",
          "text": [
            "100%|██████████| 2625/2625 [00:06<00:00, 382.35it/s]\n",
            "100%|██████████| 2625/2625 [00:05<00:00, 502.94it/s]\n",
            "100%|██████████| 2625/2625 [00:07<00:00, 363.18it/s]\n",
            "100%|██████████| 2625/2625 [00:04<00:00, 562.43it/s]\n",
            "100%|██████████| 2625/2625 [00:07<00:00, 335.25it/s]\n"
          ]
        },
        {
          "output_type": "display_data",
          "data": {
            "text/plain": [
              "<IPython.core.display.HTML object>"
            ],
            "text/html": []
          },
          "metadata": {}
        },
        {
          "output_type": "display_data",
          "data": {
            "text/plain": [
              "<IPython.core.display.HTML object>"
            ],
            "text/html": [
              "<br>    <style><br>        .wandb-row {<br>            display: flex;<br>            flex-direction: row;<br>            flex-wrap: wrap;<br>            justify-content: flex-start;<br>            width: 100%;<br>        }<br>        .wandb-col {<br>            display: flex;<br>            flex-direction: column;<br>            flex-basis: 100%;<br>            flex: 1;<br>            padding: 10px;<br>        }<br>    </style><br><div class=\"wandb-row\"><div class=\"wandb-col\"><h3>Run history:</h3><br/><table class=\"wandb\"><tr><td>tr_accuracy</td><td>▁▇██▇</td></tr><tr><td>tr_loss</td><td>█▄▂▁▁</td></tr><tr><td>val_accuracy</td><td>▁▂▆▇█</td></tr><tr><td>val_loss</td><td>█▄▂▁▁</td></tr></table><br/></div><div class=\"wandb-col\"><h3>Run summary:</h3><br/><table class=\"wandb\"><tr><td>tr_accuracy</td><td>62.5</td></tr><tr><td>tr_loss</td><td>0.9165</td></tr><tr><td>val_accuracy</td><td>62.5</td></tr><tr><td>val_loss</td><td>0.92693</td></tr></table><br/></div></div>"
            ]
          },
          "metadata": {}
        },
        {
          "output_type": "display_data",
          "data": {
            "text/plain": [
              "<IPython.core.display.HTML object>"
            ],
            "text/html": [
              " View run <strong style=\"color:#cdcd00\">e_5_hl_5_hs_32_lr_0.001_opt_momentum_bs_16_init_random_ac_tanh_l2_0.5</strong> at: <a href='https://wandb.ai/arunangshudutta218-iitm/dl_assgn_1_q_4/runs/pc2maa13' target=\"_blank\">https://wandb.ai/arunangshudutta218-iitm/dl_assgn_1_q_4/runs/pc2maa13</a><br> View project at: <a href='https://wandb.ai/arunangshudutta218-iitm/dl_assgn_1_q_4' target=\"_blank\">https://wandb.ai/arunangshudutta218-iitm/dl_assgn_1_q_4</a><br>Synced 5 W&B file(s), 0 media file(s), 0 artifact file(s) and 0 other file(s)"
            ]
          },
          "metadata": {}
        },
        {
          "output_type": "display_data",
          "data": {
            "text/plain": [
              "<IPython.core.display.HTML object>"
            ],
            "text/html": [
              "Find logs at: <code>./wandb/run-20250309_205853-pc2maa13/logs</code>"
            ]
          },
          "metadata": {}
        },
        {
          "output_type": "stream",
          "name": "stderr",
          "text": [
            "\u001b[34m\u001b[1mwandb\u001b[0m: Sweep Agent: Waiting for job.\n",
            "\u001b[34m\u001b[1mwandb\u001b[0m: Job received.\n",
            "\u001b[34m\u001b[1mwandb\u001b[0m: Agent Starting Run: 554x2c6i with config:\n",
            "\u001b[34m\u001b[1mwandb\u001b[0m: \tactivation: tanh\n",
            "\u001b[34m\u001b[1mwandb\u001b[0m: \tbatch_size: 16\n",
            "\u001b[34m\u001b[1mwandb\u001b[0m: \tepochs: 5\n",
            "\u001b[34m\u001b[1mwandb\u001b[0m: \thidden_size: 128\n",
            "\u001b[34m\u001b[1mwandb\u001b[0m: \tlearning_rate: 0.0001\n",
            "\u001b[34m\u001b[1mwandb\u001b[0m: \tnum_layers: 5\n",
            "\u001b[34m\u001b[1mwandb\u001b[0m: \toptimizer: nag\n",
            "\u001b[34m\u001b[1mwandb\u001b[0m: \tweight_decay: 0.5\n",
            "\u001b[34m\u001b[1mwandb\u001b[0m: \tweight_init: Xavier\n"
          ]
        },
        {
          "output_type": "display_data",
          "data": {
            "text/plain": [
              "<IPython.core.display.HTML object>"
            ],
            "text/html": [
              "Tracking run with wandb version 0.19.7"
            ]
          },
          "metadata": {}
        },
        {
          "output_type": "display_data",
          "data": {
            "text/plain": [
              "<IPython.core.display.HTML object>"
            ],
            "text/html": [
              "Run data is saved locally in <code>/content/wandb/run-20250309_205943-554x2c6i</code>"
            ]
          },
          "metadata": {}
        },
        {
          "output_type": "display_data",
          "data": {
            "text/plain": [
              "<IPython.core.display.HTML object>"
            ],
            "text/html": [
              "Syncing run <strong><a href='https://wandb.ai/arunangshudutta218-iitm/dl_assgn_1_q_4/runs/554x2c6i' target=\"_blank\">playful-sweep-95</a></strong> to <a href='https://wandb.ai/arunangshudutta218-iitm/dl_assgn_1_q_4' target=\"_blank\">Weights & Biases</a> (<a href='https://wandb.me/developer-guide' target=\"_blank\">docs</a>)<br>Sweep page: <a href='https://wandb.ai/arunangshudutta218-iitm/dl_assgn_1_q_4/sweeps/sdlyh3ti' target=\"_blank\">https://wandb.ai/arunangshudutta218-iitm/dl_assgn_1_q_4/sweeps/sdlyh3ti</a>"
            ]
          },
          "metadata": {}
        },
        {
          "output_type": "display_data",
          "data": {
            "text/plain": [
              "<IPython.core.display.HTML object>"
            ],
            "text/html": [
              " View project at <a href='https://wandb.ai/arunangshudutta218-iitm/dl_assgn_1_q_4' target=\"_blank\">https://wandb.ai/arunangshudutta218-iitm/dl_assgn_1_q_4</a>"
            ]
          },
          "metadata": {}
        },
        {
          "output_type": "display_data",
          "data": {
            "text/plain": [
              "<IPython.core.display.HTML object>"
            ],
            "text/html": [
              " View sweep at <a href='https://wandb.ai/arunangshudutta218-iitm/dl_assgn_1_q_4/sweeps/sdlyh3ti' target=\"_blank\">https://wandb.ai/arunangshudutta218-iitm/dl_assgn_1_q_4/sweeps/sdlyh3ti</a>"
            ]
          },
          "metadata": {}
        },
        {
          "output_type": "display_data",
          "data": {
            "text/plain": [
              "<IPython.core.display.HTML object>"
            ],
            "text/html": [
              " View run at <a href='https://wandb.ai/arunangshudutta218-iitm/dl_assgn_1_q_4/runs/554x2c6i' target=\"_blank\">https://wandb.ai/arunangshudutta218-iitm/dl_assgn_1_q_4/runs/554x2c6i</a>"
            ]
          },
          "metadata": {}
        },
        {
          "output_type": "stream",
          "name": "stdout",
          "text": [
            "2625.0\n"
          ]
        },
        {
          "output_type": "stream",
          "name": "stderr",
          "text": [
            "100%|██████████| 2625/2625 [00:20<00:00, 130.78it/s]\n",
            "100%|██████████| 2625/2625 [00:22<00:00, 115.55it/s]\n",
            "100%|██████████| 2625/2625 [00:20<00:00, 127.89it/s]\n",
            "100%|██████████| 2625/2625 [00:21<00:00, 122.66it/s]\n",
            "100%|██████████| 2625/2625 [00:23<00:00, 109.76it/s]\n"
          ]
        },
        {
          "output_type": "display_data",
          "data": {
            "text/plain": [
              "<IPython.core.display.HTML object>"
            ],
            "text/html": []
          },
          "metadata": {}
        },
        {
          "output_type": "display_data",
          "data": {
            "text/plain": [
              "<IPython.core.display.HTML object>"
            ],
            "text/html": [
              "<br>    <style><br>        .wandb-row {<br>            display: flex;<br>            flex-direction: row;<br>            flex-wrap: wrap;<br>            justify-content: flex-start;<br>            width: 100%;<br>        }<br>        .wandb-col {<br>            display: flex;<br>            flex-direction: column;<br>            flex-basis: 100%;<br>            flex: 1;<br>            padding: 10px;<br>        }<br>    </style><br><div class=\"wandb-row\"><div class=\"wandb-col\"><h3>Run history:</h3><br/><table class=\"wandb\"><tr><td>tr_accuracy</td><td>▁▃▃▃█</td></tr><tr><td>tr_loss</td><td>▅█▁▅▅</td></tr><tr><td>val_accuracy</td><td>▃▃█▁▁</td></tr><tr><td>val_loss</td><td>▅█▁▅▅</td></tr></table><br/></div><div class=\"wandb-col\"><h3>Run summary:</h3><br/><table class=\"wandb\"><tr><td>tr_accuracy</td><td>18.75</td></tr><tr><td>tr_loss</td><td>26.80601</td></tr><tr><td>val_accuracy</td><td>6.25</td></tr><tr><td>val_loss</td><td>26.79158</td></tr></table><br/></div></div>"
            ]
          },
          "metadata": {}
        },
        {
          "output_type": "display_data",
          "data": {
            "text/plain": [
              "<IPython.core.display.HTML object>"
            ],
            "text/html": [
              " View run <strong style=\"color:#cdcd00\">e_5_hl_5_hs_128_lr_0.0001_opt_nag_bs_16_init_Xavier_ac_tanh_l2_0.5</strong> at: <a href='https://wandb.ai/arunangshudutta218-iitm/dl_assgn_1_q_4/runs/554x2c6i' target=\"_blank\">https://wandb.ai/arunangshudutta218-iitm/dl_assgn_1_q_4/runs/554x2c6i</a><br> View project at: <a href='https://wandb.ai/arunangshudutta218-iitm/dl_assgn_1_q_4' target=\"_blank\">https://wandb.ai/arunangshudutta218-iitm/dl_assgn_1_q_4</a><br>Synced 5 W&B file(s), 0 media file(s), 0 artifact file(s) and 0 other file(s)"
            ]
          },
          "metadata": {}
        },
        {
          "output_type": "display_data",
          "data": {
            "text/plain": [
              "<IPython.core.display.HTML object>"
            ],
            "text/html": [
              "Find logs at: <code>./wandb/run-20250309_205943-554x2c6i/logs</code>"
            ]
          },
          "metadata": {}
        },
        {
          "output_type": "stream",
          "name": "stderr",
          "text": [
            "\u001b[34m\u001b[1mwandb\u001b[0m: Agent Starting Run: wdggnhbz with config:\n",
            "\u001b[34m\u001b[1mwandb\u001b[0m: \tactivation: sigmoid\n",
            "\u001b[34m\u001b[1mwandb\u001b[0m: \tbatch_size: 64\n",
            "\u001b[34m\u001b[1mwandb\u001b[0m: \tepochs: 10\n",
            "\u001b[34m\u001b[1mwandb\u001b[0m: \thidden_size: 32\n",
            "\u001b[34m\u001b[1mwandb\u001b[0m: \tlearning_rate: 0.001\n",
            "\u001b[34m\u001b[1mwandb\u001b[0m: \tnum_layers: 4\n",
            "\u001b[34m\u001b[1mwandb\u001b[0m: \toptimizer: rmsprop\n",
            "\u001b[34m\u001b[1mwandb\u001b[0m: \tweight_decay: 0.0005\n",
            "\u001b[34m\u001b[1mwandb\u001b[0m: \tweight_init: random\n"
          ]
        },
        {
          "output_type": "display_data",
          "data": {
            "text/plain": [
              "<IPython.core.display.HTML object>"
            ],
            "text/html": [
              "Tracking run with wandb version 0.19.7"
            ]
          },
          "metadata": {}
        },
        {
          "output_type": "display_data",
          "data": {
            "text/plain": [
              "<IPython.core.display.HTML object>"
            ],
            "text/html": [
              "Run data is saved locally in <code>/content/wandb/run-20250309_210156-wdggnhbz</code>"
            ]
          },
          "metadata": {}
        },
        {
          "output_type": "display_data",
          "data": {
            "text/plain": [
              "<IPython.core.display.HTML object>"
            ],
            "text/html": [
              "Syncing run <strong><a href='https://wandb.ai/arunangshudutta218-iitm/dl_assgn_1_q_4/runs/wdggnhbz' target=\"_blank\">dandy-sweep-96</a></strong> to <a href='https://wandb.ai/arunangshudutta218-iitm/dl_assgn_1_q_4' target=\"_blank\">Weights & Biases</a> (<a href='https://wandb.me/developer-guide' target=\"_blank\">docs</a>)<br>Sweep page: <a href='https://wandb.ai/arunangshudutta218-iitm/dl_assgn_1_q_4/sweeps/sdlyh3ti' target=\"_blank\">https://wandb.ai/arunangshudutta218-iitm/dl_assgn_1_q_4/sweeps/sdlyh3ti</a>"
            ]
          },
          "metadata": {}
        },
        {
          "output_type": "display_data",
          "data": {
            "text/plain": [
              "<IPython.core.display.HTML object>"
            ],
            "text/html": [
              " View project at <a href='https://wandb.ai/arunangshudutta218-iitm/dl_assgn_1_q_4' target=\"_blank\">https://wandb.ai/arunangshudutta218-iitm/dl_assgn_1_q_4</a>"
            ]
          },
          "metadata": {}
        },
        {
          "output_type": "display_data",
          "data": {
            "text/plain": [
              "<IPython.core.display.HTML object>"
            ],
            "text/html": [
              " View sweep at <a href='https://wandb.ai/arunangshudutta218-iitm/dl_assgn_1_q_4/sweeps/sdlyh3ti' target=\"_blank\">https://wandb.ai/arunangshudutta218-iitm/dl_assgn_1_q_4/sweeps/sdlyh3ti</a>"
            ]
          },
          "metadata": {}
        },
        {
          "output_type": "display_data",
          "data": {
            "text/plain": [
              "<IPython.core.display.HTML object>"
            ],
            "text/html": [
              " View run at <a href='https://wandb.ai/arunangshudutta218-iitm/dl_assgn_1_q_4/runs/wdggnhbz' target=\"_blank\">https://wandb.ai/arunangshudutta218-iitm/dl_assgn_1_q_4/runs/wdggnhbz</a>"
            ]
          },
          "metadata": {}
        },
        {
          "output_type": "stream",
          "name": "stdout",
          "text": [
            "656.0\n"
          ]
        },
        {
          "output_type": "stream",
          "name": "stderr",
          "text": [
            "100%|██████████| 656/656 [00:03<00:00, 202.82it/s]\n",
            "100%|██████████| 656/656 [00:02<00:00, 256.86it/s]\n",
            "100%|██████████| 656/656 [00:01<00:00, 398.30it/s]\n",
            "100%|██████████| 656/656 [00:02<00:00, 321.57it/s]\n",
            "100%|██████████| 656/656 [00:01<00:00, 355.48it/s]\n",
            "100%|██████████| 656/656 [00:01<00:00, 354.82it/s]\n",
            "100%|██████████| 656/656 [00:03<00:00, 200.14it/s]\n",
            "100%|██████████| 656/656 [00:02<00:00, 267.92it/s]\n",
            "100%|██████████| 656/656 [00:01<00:00, 367.23it/s]\n",
            "100%|██████████| 656/656 [00:01<00:00, 366.03it/s]\n"
          ]
        },
        {
          "output_type": "display_data",
          "data": {
            "text/plain": [
              "<IPython.core.display.HTML object>"
            ],
            "text/html": []
          },
          "metadata": {}
        },
        {
          "output_type": "display_data",
          "data": {
            "text/plain": [
              "<IPython.core.display.HTML object>"
            ],
            "text/html": [
              "<br>    <style><br>        .wandb-row {<br>            display: flex;<br>            flex-direction: row;<br>            flex-wrap: wrap;<br>            justify-content: flex-start;<br>            width: 100%;<br>        }<br>        .wandb-col {<br>            display: flex;<br>            flex-direction: column;<br>            flex-basis: 100%;<br>            flex: 1;<br>            padding: 10px;<br>        }<br>    </style><br><div class=\"wandb-row\"><div class=\"wandb-col\"><h3>Run history:</h3><br/><table class=\"wandb\"><tr><td>tr_accuracy</td><td>▁▅▄▅▅▅▅▇▇█</td></tr><tr><td>tr_loss</td><td>█▅▃▃▂▂▂▁▁▁</td></tr><tr><td>val_accuracy</td><td>▁▄▂▅▄▄▇█▇█</td></tr><tr><td>val_loss</td><td>█▄▃▃▂▂▂▁▁▁</td></tr></table><br/></div><div class=\"wandb-col\"><h3>Run summary:</h3><br/><table class=\"wandb\"><tr><td>tr_accuracy</td><td>92.1875</td></tr><tr><td>tr_loss</td><td>0.43448</td></tr><tr><td>val_accuracy</td><td>87.5</td></tr><tr><td>val_loss</td><td>0.46612</td></tr></table><br/></div></div>"
            ]
          },
          "metadata": {}
        },
        {
          "output_type": "display_data",
          "data": {
            "text/plain": [
              "<IPython.core.display.HTML object>"
            ],
            "text/html": [
              " View run <strong style=\"color:#cdcd00\">e_10_hl_4_hs_32_lr_0.001_opt_rmsprop_bs_64_init_random_ac_sigmoid_l2_0.0005</strong> at: <a href='https://wandb.ai/arunangshudutta218-iitm/dl_assgn_1_q_4/runs/wdggnhbz' target=\"_blank\">https://wandb.ai/arunangshudutta218-iitm/dl_assgn_1_q_4/runs/wdggnhbz</a><br> View project at: <a href='https://wandb.ai/arunangshudutta218-iitm/dl_assgn_1_q_4' target=\"_blank\">https://wandb.ai/arunangshudutta218-iitm/dl_assgn_1_q_4</a><br>Synced 5 W&B file(s), 0 media file(s), 0 artifact file(s) and 0 other file(s)"
            ]
          },
          "metadata": {}
        },
        {
          "output_type": "display_data",
          "data": {
            "text/plain": [
              "<IPython.core.display.HTML object>"
            ],
            "text/html": [
              "Find logs at: <code>./wandb/run-20250309_210156-wdggnhbz/logs</code>"
            ]
          },
          "metadata": {}
        },
        {
          "output_type": "stream",
          "name": "stderr",
          "text": [
            "\u001b[34m\u001b[1mwandb\u001b[0m: Agent Starting Run: yydcumi0 with config:\n",
            "\u001b[34m\u001b[1mwandb\u001b[0m: \tactivation: ReLU\n",
            "\u001b[34m\u001b[1mwandb\u001b[0m: \tbatch_size: 64\n",
            "\u001b[34m\u001b[1mwandb\u001b[0m: \tepochs: 5\n",
            "\u001b[34m\u001b[1mwandb\u001b[0m: \thidden_size: 128\n",
            "\u001b[34m\u001b[1mwandb\u001b[0m: \tlearning_rate: 0.0001\n",
            "\u001b[34m\u001b[1mwandb\u001b[0m: \tnum_layers: 3\n",
            "\u001b[34m\u001b[1mwandb\u001b[0m: \toptimizer: nag\n",
            "\u001b[34m\u001b[1mwandb\u001b[0m: \tweight_decay: 0.5\n",
            "\u001b[34m\u001b[1mwandb\u001b[0m: \tweight_init: random\n"
          ]
        },
        {
          "output_type": "display_data",
          "data": {
            "text/plain": [
              "<IPython.core.display.HTML object>"
            ],
            "text/html": [
              "Tracking run with wandb version 0.19.7"
            ]
          },
          "metadata": {}
        },
        {
          "output_type": "display_data",
          "data": {
            "text/plain": [
              "<IPython.core.display.HTML object>"
            ],
            "text/html": [
              "Run data is saved locally in <code>/content/wandb/run-20250309_210232-yydcumi0</code>"
            ]
          },
          "metadata": {}
        },
        {
          "output_type": "display_data",
          "data": {
            "text/plain": [
              "<IPython.core.display.HTML object>"
            ],
            "text/html": [
              "Syncing run <strong><a href='https://wandb.ai/arunangshudutta218-iitm/dl_assgn_1_q_4/runs/yydcumi0' target=\"_blank\">brisk-sweep-97</a></strong> to <a href='https://wandb.ai/arunangshudutta218-iitm/dl_assgn_1_q_4' target=\"_blank\">Weights & Biases</a> (<a href='https://wandb.me/developer-guide' target=\"_blank\">docs</a>)<br>Sweep page: <a href='https://wandb.ai/arunangshudutta218-iitm/dl_assgn_1_q_4/sweeps/sdlyh3ti' target=\"_blank\">https://wandb.ai/arunangshudutta218-iitm/dl_assgn_1_q_4/sweeps/sdlyh3ti</a>"
            ]
          },
          "metadata": {}
        },
        {
          "output_type": "display_data",
          "data": {
            "text/plain": [
              "<IPython.core.display.HTML object>"
            ],
            "text/html": [
              " View project at <a href='https://wandb.ai/arunangshudutta218-iitm/dl_assgn_1_q_4' target=\"_blank\">https://wandb.ai/arunangshudutta218-iitm/dl_assgn_1_q_4</a>"
            ]
          },
          "metadata": {}
        },
        {
          "output_type": "display_data",
          "data": {
            "text/plain": [
              "<IPython.core.display.HTML object>"
            ],
            "text/html": [
              " View sweep at <a href='https://wandb.ai/arunangshudutta218-iitm/dl_assgn_1_q_4/sweeps/sdlyh3ti' target=\"_blank\">https://wandb.ai/arunangshudutta218-iitm/dl_assgn_1_q_4/sweeps/sdlyh3ti</a>"
            ]
          },
          "metadata": {}
        },
        {
          "output_type": "display_data",
          "data": {
            "text/plain": [
              "<IPython.core.display.HTML object>"
            ],
            "text/html": [
              " View run at <a href='https://wandb.ai/arunangshudutta218-iitm/dl_assgn_1_q_4/runs/yydcumi0' target=\"_blank\">https://wandb.ai/arunangshudutta218-iitm/dl_assgn_1_q_4/runs/yydcumi0</a>"
            ]
          },
          "metadata": {}
        },
        {
          "output_type": "stream",
          "name": "stdout",
          "text": [
            "656.0\n"
          ]
        },
        {
          "output_type": "stream",
          "name": "stderr",
          "text": [
            "100%|██████████| 656/656 [00:03<00:00, 170.73it/s]\n",
            "100%|██████████| 656/656 [00:04<00:00, 133.17it/s]\n",
            "100%|██████████| 656/656 [00:04<00:00, 136.45it/s]\n",
            "100%|██████████| 656/656 [00:03<00:00, 183.94it/s]\n",
            "100%|██████████| 656/656 [00:05<00:00, 125.65it/s]\n"
          ]
        },
        {
          "output_type": "display_data",
          "data": {
            "text/plain": [
              "<IPython.core.display.HTML object>"
            ],
            "text/html": []
          },
          "metadata": {}
        },
        {
          "output_type": "display_data",
          "data": {
            "text/plain": [
              "<IPython.core.display.HTML object>"
            ],
            "text/html": [
              "<br>    <style><br>        .wandb-row {<br>            display: flex;<br>            flex-direction: row;<br>            flex-wrap: wrap;<br>            justify-content: flex-start;<br>            width: 100%;<br>        }<br>        .wandb-col {<br>            display: flex;<br>            flex-direction: column;<br>            flex-basis: 100%;<br>            flex: 1;<br>            padding: 10px;<br>        }<br>    </style><br><div class=\"wandb-row\"><div class=\"wandb-col\"><h3>Run history:</h3><br/><table class=\"wandb\"><tr><td>tr_accuracy</td><td>▁▁▁▁▁</td></tr><tr><td>val_accuracy</td><td>▁▁▁▁▁</td></tr></table><br/></div><div class=\"wandb-col\"><h3>Run summary:</h3><br/><table class=\"wandb\"><tr><td>tr_accuracy</td><td>12.5</td></tr><tr><td>tr_loss</td><td>nan</td></tr><tr><td>val_accuracy</td><td>6.25</td></tr><tr><td>val_loss</td><td>nan</td></tr></table><br/></div></div>"
            ]
          },
          "metadata": {}
        },
        {
          "output_type": "display_data",
          "data": {
            "text/plain": [
              "<IPython.core.display.HTML object>"
            ],
            "text/html": [
              " View run <strong style=\"color:#cdcd00\">e_5_hl_3_hs_128_lr_0.0001_opt_nag_bs_64_init_random_ac_ReLU_l2_0.5</strong> at: <a href='https://wandb.ai/arunangshudutta218-iitm/dl_assgn_1_q_4/runs/yydcumi0' target=\"_blank\">https://wandb.ai/arunangshudutta218-iitm/dl_assgn_1_q_4/runs/yydcumi0</a><br> View project at: <a href='https://wandb.ai/arunangshudutta218-iitm/dl_assgn_1_q_4' target=\"_blank\">https://wandb.ai/arunangshudutta218-iitm/dl_assgn_1_q_4</a><br>Synced 5 W&B file(s), 0 media file(s), 0 artifact file(s) and 0 other file(s)"
            ]
          },
          "metadata": {}
        },
        {
          "output_type": "display_data",
          "data": {
            "text/plain": [
              "<IPython.core.display.HTML object>"
            ],
            "text/html": [
              "Find logs at: <code>./wandb/run-20250309_210232-yydcumi0/logs</code>"
            ]
          },
          "metadata": {}
        },
        {
          "output_type": "stream",
          "name": "stderr",
          "text": [
            "\u001b[34m\u001b[1mwandb\u001b[0m: Agent Starting Run: jdzjl5ci with config:\n",
            "\u001b[34m\u001b[1mwandb\u001b[0m: \tactivation: ReLU\n",
            "\u001b[34m\u001b[1mwandb\u001b[0m: \tbatch_size: 32\n",
            "\u001b[34m\u001b[1mwandb\u001b[0m: \tepochs: 5\n",
            "\u001b[34m\u001b[1mwandb\u001b[0m: \thidden_size: 64\n",
            "\u001b[34m\u001b[1mwandb\u001b[0m: \tlearning_rate: 0.001\n",
            "\u001b[34m\u001b[1mwandb\u001b[0m: \tnum_layers: 5\n",
            "\u001b[34m\u001b[1mwandb\u001b[0m: \toptimizer: sgd\n",
            "\u001b[34m\u001b[1mwandb\u001b[0m: \tweight_decay: 0\n",
            "\u001b[34m\u001b[1mwandb\u001b[0m: \tweight_init: random\n"
          ]
        },
        {
          "output_type": "display_data",
          "data": {
            "text/plain": [
              "<IPython.core.display.HTML object>"
            ],
            "text/html": [
              "Tracking run with wandb version 0.19.7"
            ]
          },
          "metadata": {}
        },
        {
          "output_type": "display_data",
          "data": {
            "text/plain": [
              "<IPython.core.display.HTML object>"
            ],
            "text/html": [
              "Run data is saved locally in <code>/content/wandb/run-20250309_210308-jdzjl5ci</code>"
            ]
          },
          "metadata": {}
        },
        {
          "output_type": "display_data",
          "data": {
            "text/plain": [
              "<IPython.core.display.HTML object>"
            ],
            "text/html": [
              "Syncing run <strong><a href='https://wandb.ai/arunangshudutta218-iitm/dl_assgn_1_q_4/runs/jdzjl5ci' target=\"_blank\">vital-sweep-98</a></strong> to <a href='https://wandb.ai/arunangshudutta218-iitm/dl_assgn_1_q_4' target=\"_blank\">Weights & Biases</a> (<a href='https://wandb.me/developer-guide' target=\"_blank\">docs</a>)<br>Sweep page: <a href='https://wandb.ai/arunangshudutta218-iitm/dl_assgn_1_q_4/sweeps/sdlyh3ti' target=\"_blank\">https://wandb.ai/arunangshudutta218-iitm/dl_assgn_1_q_4/sweeps/sdlyh3ti</a>"
            ]
          },
          "metadata": {}
        },
        {
          "output_type": "display_data",
          "data": {
            "text/plain": [
              "<IPython.core.display.HTML object>"
            ],
            "text/html": [
              " View project at <a href='https://wandb.ai/arunangshudutta218-iitm/dl_assgn_1_q_4' target=\"_blank\">https://wandb.ai/arunangshudutta218-iitm/dl_assgn_1_q_4</a>"
            ]
          },
          "metadata": {}
        },
        {
          "output_type": "display_data",
          "data": {
            "text/plain": [
              "<IPython.core.display.HTML object>"
            ],
            "text/html": [
              " View sweep at <a href='https://wandb.ai/arunangshudutta218-iitm/dl_assgn_1_q_4/sweeps/sdlyh3ti' target=\"_blank\">https://wandb.ai/arunangshudutta218-iitm/dl_assgn_1_q_4/sweeps/sdlyh3ti</a>"
            ]
          },
          "metadata": {}
        },
        {
          "output_type": "display_data",
          "data": {
            "text/plain": [
              "<IPython.core.display.HTML object>"
            ],
            "text/html": [
              " View run at <a href='https://wandb.ai/arunangshudutta218-iitm/dl_assgn_1_q_4/runs/jdzjl5ci' target=\"_blank\">https://wandb.ai/arunangshudutta218-iitm/dl_assgn_1_q_4/runs/jdzjl5ci</a>"
            ]
          },
          "metadata": {}
        },
        {
          "output_type": "stream",
          "name": "stdout",
          "text": [
            "1312.0\n"
          ]
        },
        {
          "output_type": "stream",
          "name": "stderr",
          "text": [
            "100%|██████████| 1312/1312 [00:04<00:00, 302.80it/s]\n",
            "100%|██████████| 1312/1312 [00:04<00:00, 284.00it/s]\n",
            "100%|██████████| 1312/1312 [00:03<00:00, 428.07it/s]\n",
            "100%|██████████| 1312/1312 [00:03<00:00, 425.89it/s]\n",
            "100%|██████████| 1312/1312 [00:05<00:00, 257.84it/s]\n"
          ]
        },
        {
          "output_type": "display_data",
          "data": {
            "text/plain": [
              "<IPython.core.display.HTML object>"
            ],
            "text/html": []
          },
          "metadata": {}
        },
        {
          "output_type": "display_data",
          "data": {
            "text/plain": [
              "<IPython.core.display.HTML object>"
            ],
            "text/html": [
              "<br>    <style><br>        .wandb-row {<br>            display: flex;<br>            flex-direction: row;<br>            flex-wrap: wrap;<br>            justify-content: flex-start;<br>            width: 100%;<br>        }<br>        .wandb-col {<br>            display: flex;<br>            flex-direction: column;<br>            flex-basis: 100%;<br>            flex: 1;<br>            padding: 10px;<br>        }<br>    </style><br><div class=\"wandb-row\"><div class=\"wandb-col\"><h3>Run history:</h3><br/><table class=\"wandb\"><tr><td>tr_accuracy</td><td>▁▁▁▁▁</td></tr><tr><td>val_accuracy</td><td>▁▁▁▁▁</td></tr></table><br/></div><div class=\"wandb-col\"><h3>Run summary:</h3><br/><table class=\"wandb\"><tr><td>tr_accuracy</td><td>15.625</td></tr><tr><td>tr_loss</td><td>nan</td></tr><tr><td>val_accuracy</td><td>6.25</td></tr><tr><td>val_loss</td><td>nan</td></tr></table><br/></div></div>"
            ]
          },
          "metadata": {}
        },
        {
          "output_type": "display_data",
          "data": {
            "text/plain": [
              "<IPython.core.display.HTML object>"
            ],
            "text/html": [
              " View run <strong style=\"color:#cdcd00\">e_5_hl_5_hs_64_lr_0.001_opt_sgd_bs_32_init_random_ac_ReLU_l2_0</strong> at: <a href='https://wandb.ai/arunangshudutta218-iitm/dl_assgn_1_q_4/runs/jdzjl5ci' target=\"_blank\">https://wandb.ai/arunangshudutta218-iitm/dl_assgn_1_q_4/runs/jdzjl5ci</a><br> View project at: <a href='https://wandb.ai/arunangshudutta218-iitm/dl_assgn_1_q_4' target=\"_blank\">https://wandb.ai/arunangshudutta218-iitm/dl_assgn_1_q_4</a><br>Synced 5 W&B file(s), 0 media file(s), 0 artifact file(s) and 0 other file(s)"
            ]
          },
          "metadata": {}
        },
        {
          "output_type": "display_data",
          "data": {
            "text/plain": [
              "<IPython.core.display.HTML object>"
            ],
            "text/html": [
              "Find logs at: <code>./wandb/run-20250309_210308-jdzjl5ci/logs</code>"
            ]
          },
          "metadata": {}
        },
        {
          "output_type": "stream",
          "name": "stderr",
          "text": [
            "\u001b[34m\u001b[1mwandb\u001b[0m: Agent Starting Run: smcwegpj with config:\n",
            "\u001b[34m\u001b[1mwandb\u001b[0m: \tactivation: ReLU\n",
            "\u001b[34m\u001b[1mwandb\u001b[0m: \tbatch_size: 16\n",
            "\u001b[34m\u001b[1mwandb\u001b[0m: \tepochs: 10\n",
            "\u001b[34m\u001b[1mwandb\u001b[0m: \thidden_size: 64\n",
            "\u001b[34m\u001b[1mwandb\u001b[0m: \tlearning_rate: 0.0001\n",
            "\u001b[34m\u001b[1mwandb\u001b[0m: \tnum_layers: 3\n",
            "\u001b[34m\u001b[1mwandb\u001b[0m: \toptimizer: nadam\n",
            "\u001b[34m\u001b[1mwandb\u001b[0m: \tweight_decay: 0\n",
            "\u001b[34m\u001b[1mwandb\u001b[0m: \tweight_init: random\n"
          ]
        },
        {
          "output_type": "display_data",
          "data": {
            "text/plain": [
              "<IPython.core.display.HTML object>"
            ],
            "text/html": [
              "Tracking run with wandb version 0.19.7"
            ]
          },
          "metadata": {}
        },
        {
          "output_type": "display_data",
          "data": {
            "text/plain": [
              "<IPython.core.display.HTML object>"
            ],
            "text/html": [
              "Run data is saved locally in <code>/content/wandb/run-20250309_210338-smcwegpj</code>"
            ]
          },
          "metadata": {}
        },
        {
          "output_type": "display_data",
          "data": {
            "text/plain": [
              "<IPython.core.display.HTML object>"
            ],
            "text/html": [
              "Syncing run <strong><a href='https://wandb.ai/arunangshudutta218-iitm/dl_assgn_1_q_4/runs/smcwegpj' target=\"_blank\">absurd-sweep-99</a></strong> to <a href='https://wandb.ai/arunangshudutta218-iitm/dl_assgn_1_q_4' target=\"_blank\">Weights & Biases</a> (<a href='https://wandb.me/developer-guide' target=\"_blank\">docs</a>)<br>Sweep page: <a href='https://wandb.ai/arunangshudutta218-iitm/dl_assgn_1_q_4/sweeps/sdlyh3ti' target=\"_blank\">https://wandb.ai/arunangshudutta218-iitm/dl_assgn_1_q_4/sweeps/sdlyh3ti</a>"
            ]
          },
          "metadata": {}
        },
        {
          "output_type": "display_data",
          "data": {
            "text/plain": [
              "<IPython.core.display.HTML object>"
            ],
            "text/html": [
              " View project at <a href='https://wandb.ai/arunangshudutta218-iitm/dl_assgn_1_q_4' target=\"_blank\">https://wandb.ai/arunangshudutta218-iitm/dl_assgn_1_q_4</a>"
            ]
          },
          "metadata": {}
        },
        {
          "output_type": "display_data",
          "data": {
            "text/plain": [
              "<IPython.core.display.HTML object>"
            ],
            "text/html": [
              " View sweep at <a href='https://wandb.ai/arunangshudutta218-iitm/dl_assgn_1_q_4/sweeps/sdlyh3ti' target=\"_blank\">https://wandb.ai/arunangshudutta218-iitm/dl_assgn_1_q_4/sweeps/sdlyh3ti</a>"
            ]
          },
          "metadata": {}
        },
        {
          "output_type": "display_data",
          "data": {
            "text/plain": [
              "<IPython.core.display.HTML object>"
            ],
            "text/html": [
              " View run at <a href='https://wandb.ai/arunangshudutta218-iitm/dl_assgn_1_q_4/runs/smcwegpj' target=\"_blank\">https://wandb.ai/arunangshudutta218-iitm/dl_assgn_1_q_4/runs/smcwegpj</a>"
            ]
          },
          "metadata": {}
        },
        {
          "output_type": "stream",
          "name": "stdout",
          "text": [
            "2625.0\n"
          ]
        },
        {
          "output_type": "stream",
          "name": "stderr",
          "text": [
            "100%|██████████| 2625/2625 [00:11<00:00, 235.50it/s]\n",
            "100%|██████████| 2625/2625 [00:07<00:00, 336.14it/s]\n",
            "100%|██████████| 2625/2625 [00:10<00:00, 250.84it/s]\n",
            "100%|██████████| 2625/2625 [00:09<00:00, 268.60it/s]\n",
            "100%|██████████| 2625/2625 [00:08<00:00, 320.27it/s]\n",
            "100%|██████████| 2625/2625 [00:11<00:00, 237.63it/s]\n",
            "100%|██████████| 2625/2625 [00:08<00:00, 317.11it/s]\n",
            "100%|██████████| 2625/2625 [00:09<00:00, 270.68it/s]\n",
            "100%|██████████| 2625/2625 [00:10<00:00, 245.31it/s]\n",
            "100%|██████████| 2625/2625 [00:08<00:00, 327.33it/s]\n"
          ]
        },
        {
          "output_type": "display_data",
          "data": {
            "text/plain": [
              "<IPython.core.display.HTML object>"
            ],
            "text/html": []
          },
          "metadata": {}
        },
        {
          "output_type": "display_data",
          "data": {
            "text/plain": [
              "<IPython.core.display.HTML object>"
            ],
            "text/html": [
              "<br>    <style><br>        .wandb-row {<br>            display: flex;<br>            flex-direction: row;<br>            flex-wrap: wrap;<br>            justify-content: flex-start;<br>            width: 100%;<br>        }<br>        .wandb-col {<br>            display: flex;<br>            flex-direction: column;<br>            flex-basis: 100%;<br>            flex: 1;<br>            padding: 10px;<br>        }<br>    </style><br><div class=\"wandb-row\"><div class=\"wandb-col\"><h3>Run history:</h3><br/><table class=\"wandb\"><tr><td>tr_accuracy</td><td>▁▁▁▁▁▁▁▁▁▁</td></tr><tr><td>val_accuracy</td><td>▁▁▁▁▁▁▁▁▁▁</td></tr></table><br/></div><div class=\"wandb-col\"><h3>Run summary:</h3><br/><table class=\"wandb\"><tr><td>tr_accuracy</td><td>18.75</td></tr><tr><td>tr_loss</td><td>nan</td></tr><tr><td>val_accuracy</td><td>6.25</td></tr><tr><td>val_loss</td><td>nan</td></tr></table><br/></div></div>"
            ]
          },
          "metadata": {}
        },
        {
          "output_type": "display_data",
          "data": {
            "text/plain": [
              "<IPython.core.display.HTML object>"
            ],
            "text/html": [
              " View run <strong style=\"color:#cdcd00\">e_10_hl_3_hs_64_lr_0.0001_opt_nadam_bs_16_init_random_ac_ReLU_l2_0</strong> at: <a href='https://wandb.ai/arunangshudutta218-iitm/dl_assgn_1_q_4/runs/smcwegpj' target=\"_blank\">https://wandb.ai/arunangshudutta218-iitm/dl_assgn_1_q_4/runs/smcwegpj</a><br> View project at: <a href='https://wandb.ai/arunangshudutta218-iitm/dl_assgn_1_q_4' target=\"_blank\">https://wandb.ai/arunangshudutta218-iitm/dl_assgn_1_q_4</a><br>Synced 5 W&B file(s), 0 media file(s), 0 artifact file(s) and 0 other file(s)"
            ]
          },
          "metadata": {}
        },
        {
          "output_type": "display_data",
          "data": {
            "text/plain": [
              "<IPython.core.display.HTML object>"
            ],
            "text/html": [
              "Find logs at: <code>./wandb/run-20250309_210338-smcwegpj/logs</code>"
            ]
          },
          "metadata": {}
        },
        {
          "output_type": "stream",
          "name": "stderr",
          "text": [
            "\u001b[34m\u001b[1mwandb\u001b[0m: Agent Starting Run: z4d76a76 with config:\n",
            "\u001b[34m\u001b[1mwandb\u001b[0m: \tactivation: sigmoid\n",
            "\u001b[34m\u001b[1mwandb\u001b[0m: \tbatch_size: 64\n",
            "\u001b[34m\u001b[1mwandb\u001b[0m: \tepochs: 10\n",
            "\u001b[34m\u001b[1mwandb\u001b[0m: \thidden_size: 32\n",
            "\u001b[34m\u001b[1mwandb\u001b[0m: \tlearning_rate: 0.0001\n",
            "\u001b[34m\u001b[1mwandb\u001b[0m: \tnum_layers: 4\n",
            "\u001b[34m\u001b[1mwandb\u001b[0m: \toptimizer: rmsprop\n",
            "\u001b[34m\u001b[1mwandb\u001b[0m: \tweight_decay: 0.5\n",
            "\u001b[34m\u001b[1mwandb\u001b[0m: \tweight_init: Xavier\n"
          ]
        },
        {
          "output_type": "display_data",
          "data": {
            "text/plain": [
              "<IPython.core.display.HTML object>"
            ],
            "text/html": [
              "Tracking run with wandb version 0.19.7"
            ]
          },
          "metadata": {}
        },
        {
          "output_type": "display_data",
          "data": {
            "text/plain": [
              "<IPython.core.display.HTML object>"
            ],
            "text/html": [
              "Run data is saved locally in <code>/content/wandb/run-20250309_210525-z4d76a76</code>"
            ]
          },
          "metadata": {}
        },
        {
          "output_type": "display_data",
          "data": {
            "text/plain": [
              "<IPython.core.display.HTML object>"
            ],
            "text/html": [
              "Syncing run <strong><a href='https://wandb.ai/arunangshudutta218-iitm/dl_assgn_1_q_4/runs/z4d76a76' target=\"_blank\">colorful-sweep-100</a></strong> to <a href='https://wandb.ai/arunangshudutta218-iitm/dl_assgn_1_q_4' target=\"_blank\">Weights & Biases</a> (<a href='https://wandb.me/developer-guide' target=\"_blank\">docs</a>)<br>Sweep page: <a href='https://wandb.ai/arunangshudutta218-iitm/dl_assgn_1_q_4/sweeps/sdlyh3ti' target=\"_blank\">https://wandb.ai/arunangshudutta218-iitm/dl_assgn_1_q_4/sweeps/sdlyh3ti</a>"
            ]
          },
          "metadata": {}
        },
        {
          "output_type": "display_data",
          "data": {
            "text/plain": [
              "<IPython.core.display.HTML object>"
            ],
            "text/html": [
              " View project at <a href='https://wandb.ai/arunangshudutta218-iitm/dl_assgn_1_q_4' target=\"_blank\">https://wandb.ai/arunangshudutta218-iitm/dl_assgn_1_q_4</a>"
            ]
          },
          "metadata": {}
        },
        {
          "output_type": "display_data",
          "data": {
            "text/plain": [
              "<IPython.core.display.HTML object>"
            ],
            "text/html": [
              " View sweep at <a href='https://wandb.ai/arunangshudutta218-iitm/dl_assgn_1_q_4/sweeps/sdlyh3ti' target=\"_blank\">https://wandb.ai/arunangshudutta218-iitm/dl_assgn_1_q_4/sweeps/sdlyh3ti</a>"
            ]
          },
          "metadata": {}
        },
        {
          "output_type": "display_data",
          "data": {
            "text/plain": [
              "<IPython.core.display.HTML object>"
            ],
            "text/html": [
              " View run at <a href='https://wandb.ai/arunangshudutta218-iitm/dl_assgn_1_q_4/runs/z4d76a76' target=\"_blank\">https://wandb.ai/arunangshudutta218-iitm/dl_assgn_1_q_4/runs/z4d76a76</a>"
            ]
          },
          "metadata": {}
        },
        {
          "output_type": "stream",
          "name": "stdout",
          "text": [
            "656.0\n"
          ]
        },
        {
          "output_type": "stream",
          "name": "stderr",
          "text": [
            "100%|██████████| 656/656 [00:01<00:00, 340.19it/s]\n",
            "100%|██████████| 656/656 [00:01<00:00, 361.78it/s]\n",
            "100%|██████████| 656/656 [00:02<00:00, 260.10it/s]\n",
            "100%|██████████| 656/656 [00:03<00:00, 192.61it/s]\n",
            "100%|██████████| 656/656 [00:01<00:00, 346.25it/s]\n",
            "100%|██████████| 656/656 [00:02<00:00, 317.35it/s]\n",
            "100%|██████████| 656/656 [00:01<00:00, 357.32it/s]\n",
            "100%|██████████| 656/656 [00:01<00:00, 370.75it/s]\n",
            "100%|██████████| 656/656 [00:03<00:00, 218.61it/s]\n",
            "100%|██████████| 656/656 [00:02<00:00, 220.67it/s]\n"
          ]
        },
        {
          "output_type": "display_data",
          "data": {
            "text/plain": [
              "<IPython.core.display.HTML object>"
            ],
            "text/html": []
          },
          "metadata": {}
        },
        {
          "output_type": "display_data",
          "data": {
            "text/plain": [
              "<IPython.core.display.HTML object>"
            ],
            "text/html": [
              "<br>    <style><br>        .wandb-row {<br>            display: flex;<br>            flex-direction: row;<br>            flex-wrap: wrap;<br>            justify-content: flex-start;<br>            width: 100%;<br>        }<br>        .wandb-col {<br>            display: flex;<br>            flex-direction: column;<br>            flex-basis: 100%;<br>            flex: 1;<br>            padding: 10px;<br>        }<br>    </style><br><div class=\"wandb-row\"><div class=\"wandb-col\"><h3>Run history:</h3><br/><table class=\"wandb\"><tr><td>tr_accuracy</td><td>▁█▃▃▃▃▃▃▃▃</td></tr><tr><td>tr_loss</td><td>▁▅████████</td></tr><tr><td>val_accuracy</td><td>▃█▁▁▁▁▁▁▁▁</td></tr><tr><td>val_loss</td><td>▁▄████████</td></tr></table><br/></div><div class=\"wandb-col\"><h3>Run summary:</h3><br/><table class=\"wandb\"><tr><td>tr_accuracy</td><td>10.9375</td></tr><tr><td>tr_loss</td><td>2.3026</td></tr><tr><td>val_accuracy</td><td>9.375</td></tr><tr><td>val_loss</td><td>2.30263</td></tr></table><br/></div></div>"
            ]
          },
          "metadata": {}
        },
        {
          "output_type": "display_data",
          "data": {
            "text/plain": [
              "<IPython.core.display.HTML object>"
            ],
            "text/html": [
              " View run <strong style=\"color:#cdcd00\">e_10_hl_4_hs_32_lr_0.0001_opt_rmsprop_bs_64_init_Xavier_ac_sigmoid_l2_0.5</strong> at: <a href='https://wandb.ai/arunangshudutta218-iitm/dl_assgn_1_q_4/runs/z4d76a76' target=\"_blank\">https://wandb.ai/arunangshudutta218-iitm/dl_assgn_1_q_4/runs/z4d76a76</a><br> View project at: <a href='https://wandb.ai/arunangshudutta218-iitm/dl_assgn_1_q_4' target=\"_blank\">https://wandb.ai/arunangshudutta218-iitm/dl_assgn_1_q_4</a><br>Synced 5 W&B file(s), 0 media file(s), 0 artifact file(s) and 0 other file(s)"
            ]
          },
          "metadata": {}
        },
        {
          "output_type": "display_data",
          "data": {
            "text/plain": [
              "<IPython.core.display.HTML object>"
            ],
            "text/html": [
              "Find logs at: <code>./wandb/run-20250309_210525-z4d76a76/logs</code>"
            ]
          },
          "metadata": {}
        }
      ]
    },
    {
      "cell_type": "code",
      "source": [],
      "metadata": {
        "id": "G6iAvpzcXBg6"
      },
      "execution_count": null,
      "outputs": []
    }
  ]
}