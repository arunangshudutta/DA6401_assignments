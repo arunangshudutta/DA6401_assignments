{
  "nbformat": 4,
  "nbformat_minor": 0,
  "metadata": {
    "colab": {
      "provenance": [],
      "authorship_tag": "ABX9TyP5KbTSrAslKCJquc/sdL2G",
      "include_colab_link": true
    },
    "kernelspec": {
      "name": "python3",
      "display_name": "Python 3"
    },
    "language_info": {
      "name": "python"
    }
  },
  "cells": [
    {
      "cell_type": "markdown",
      "metadata": {
        "id": "view-in-github",
        "colab_type": "text"
      },
      "source": [
        "<a href=\"https://colab.research.google.com/github/arunangshudutta/DA6401_assignments/blob/main/assignment_1/Assignment_1_Q1.ipynb\" target=\"_parent\"><img src=\"https://colab.research.google.com/assets/colab-badge.svg\" alt=\"Open In Colab\"/></a>"
      ]
    },
    {
      "cell_type": "code",
      "execution_count": null,
      "metadata": {
        "id": "nMY0Mx2yEL8g"
      },
      "outputs": [],
      "source": [
        "import matplotlib.pyplot as plt\n",
        "import numpy as np\n",
        "from tqdm import tqdm\n",
        "import warnings\n",
        "warnings.filterwarnings('ignore', category=RuntimeWarning)"
      ]
    },
    {
      "cell_type": "code",
      "source": [
        "from keras.datasets import fashion_mnist\n",
        "from sklearn.model_selection import train_test_split"
      ],
      "metadata": {
        "id": "O6_uhkNkEXPa"
      },
      "execution_count": null,
      "outputs": []
    },
    {
      "cell_type": "code",
      "source": [
        "wandb.init(project=\"DA6401 assignment 1\")"
      ],
      "metadata": {
        "id": "hUyObjvzZ8Ug"
      },
      "execution_count": null,
      "outputs": []
    },
    {
      "cell_type": "code",
      "source": [
        "(train_images, train_labels), (test_images, test_labels) = fashion_mnist.load_data()"
      ],
      "metadata": {
        "id": "TSMSjg5HZ-Fk"
      },
      "execution_count": null,
      "outputs": []
    },
    {
      "cell_type": "code",
      "source": [
        "# Define class names\n",
        "class_names = ['T-shirt/top', 'Trouser', 'Pullover', 'Dress', 'Coat',\n",
        "               'Sandal', 'Shirt', 'Sneaker', 'Bag', 'Ankle boot']\n",
        "\n",
        "# Create a 2x5 grid for displaying images\n",
        "fig, axes = plt.subplots(2, 5, figsize=(15, 6))\n",
        "axes = axes.flatten()\n",
        "\n",
        "class_name_list_wandb = []\n",
        "image_list_wandb = []\n",
        "\n",
        "# Display one image from each class\n",
        "for i in range(len(class_names)):\n",
        "    # Find the first occurrence of the class in the dataset\n",
        "    idx = np.where(train_labels == i)[0][0]\n",
        "\n",
        "    # Display the image\n",
        "    axes[i].imshow(train_images[idx], cmap='gray')\n",
        "\n",
        "    axes[i].set_title(class_names[i])\n",
        "\n",
        "    axes[i].axis('off')\n",
        "\n",
        "    image_list_wandb.append(train_images[idx])\n",
        "    class_name_list_wandb.append(class_names[i])\n",
        "\n",
        "plt.tight_layout()\n",
        "plt.show()\n",
        "\n",
        "wandb.log({\"Question 1\": [wandb.Image(img, caption=caption) for img, caption in zip(image_list_wandb, class_name_list_wandb)]})"
      ],
      "metadata": {
        "id": "F4E-jf71aBHe"
      },
      "execution_count": null,
      "outputs": []
    }
  ]
}