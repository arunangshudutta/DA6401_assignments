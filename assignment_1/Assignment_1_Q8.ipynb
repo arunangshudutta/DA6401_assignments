{
  "nbformat": 4,
  "nbformat_minor": 0,
  "metadata": {
    "colab": {
      "provenance": [],
      "authorship_tag": "ABX9TyOILn6i+euqYxXCtV1VTp39",
      "include_colab_link": true
    },
    "kernelspec": {
      "name": "python3",
      "display_name": "Python 3"
    },
    "language_info": {
      "name": "python"
    }
  },
  "cells": [
    {
      "cell_type": "markdown",
      "metadata": {
        "id": "view-in-github",
        "colab_type": "text"
      },
      "source": [
        "<a href=\"https://colab.research.google.com/github/arunangshudutta/DA6401_assignments/blob/main/assignment_1/Assignment_1_Q8.ipynb\" target=\"_parent\"><img src=\"https://colab.research.google.com/assets/colab-badge.svg\" alt=\"Open In Colab\"/></a>"
      ]
    },
    {
      "cell_type": "code",
      "execution_count": null,
      "metadata": {
        "id": "BFA3MtRRC3Sw"
      },
      "outputs": [],
      "source": [
        "import matplotlib.pyplot as plt\n",
        "import numpy as np\n",
        "from numpy import linalg as la\n",
        "from tqdm import tqdm\n",
        "import warnings\n",
        "warnings.filterwarnings('ignore', category=RuntimeWarning)\n",
        "\n",
        "from keras.datasets import fashion_mnist\n",
        "from sklearn.model_selection import train_test_split\n",
        "\n",
        "import wandb"
      ]
    },
    {
      "cell_type": "code",
      "source": [
        "def weights_initialization(num_neurons, initializer):\n",
        "  \"\"\"\n",
        "  num_neurons = list of number of neurons at each layer starting from the input layer and ending at output layer\n",
        "  initializer = 'random' or 'xavier'\n",
        "\n",
        "  Returns: initialized weight matrices and bias vectors\n",
        "  \"\"\"\n",
        "  mean=0\n",
        "  std_dev=1\n",
        "\n",
        "  W_matrices = []\n",
        "  b_vectors = []\n",
        "\n",
        "  for i in range(len(num_neurons)-1):\n",
        "    rows = num_neurons[i+1]\n",
        "    cols = num_neurons[i]\n",
        "\n",
        "    if initializer == 'random':\n",
        "\n",
        "      weight_matrix = np.random.normal(mean, std_dev, size=(rows, cols))\n",
        "\n",
        "    elif initializer == 'Xavier':\n",
        "\n",
        "      upper_bound = np.sqrt(6.0/(rows + cols))\n",
        "      lower_bound = -1*upper_bound\n",
        "      weight_matrix = np.random.uniform(low = lower_bound, high = upper_bound, size = (rows, cols))\n",
        "\n",
        "    else:\n",
        "      print('initializer invalid')\n",
        "\n",
        "\n",
        "    bias_vector = np.zeros((rows,1))\n",
        "\n",
        "    W_matrices.append(weight_matrix)\n",
        "    b_vectors.append(bias_vector)\n",
        "\n",
        "\n",
        "  return W_matrices, b_vectors\n",
        "\n",
        "################################################################################\n",
        "\n",
        "# ACTIVATION FUNCTIONS\n",
        "def relu(x):\n",
        "  \"\"\"\n",
        "  Rectified Linear Unit (ReLU) activation function\n",
        "  \"\"\"\n",
        "  return np.maximum(0, x)\n",
        "\n",
        "def sigmoid(x):\n",
        "  \"\"\"\n",
        "  Sigmoid activation function\n",
        "  \"\"\"\n",
        "  # x = np.float128(x)\n",
        "  return 1 / (1 + np.exp(-x))\n",
        "\n",
        "def tanh(x):\n",
        "  \"\"\"\n",
        "  Hyperbolic tangent (tanh) activation function\n",
        "  \"\"\"\n",
        "  # x = np.float128(x)\n",
        "  return np.tanh(x)\n",
        "def softmax(x):\n",
        "\n",
        "  \"\"\"\n",
        "  Softmax function for output layer\n",
        "  \"\"\"\n",
        "  # x = np.float128(x)\n",
        "  return np.exp(x) / np.sum(np.exp(x), axis=0)\n",
        "\n",
        "def activation_output(x, activation_function):\n",
        "  \"\"\"\n",
        "  activation_function = 'ReLU', 'sigmoid', 'tanh'\n",
        "  \"\"\"\n",
        "  if activation_function == 'ReLU':\n",
        "    return relu(x)\n",
        "  elif activation_function == 'sigmoid':\n",
        "    return sigmoid(x)\n",
        "  elif activation_function == 'tanh':\n",
        "    return tanh(x)\n",
        "  elif activation_function == 'softmax':\n",
        "    return softmax(x)\n",
        "  else:\n",
        "    print('activation function invalid')\n",
        "\n",
        "# DERIVATIVE OF ACTIVATION FUNCTION\n",
        "def sigmoid_derivative(x):\n",
        "  s = sigmoid(x)\n",
        "  return s * (1 - s)\n",
        "\n",
        "def tanh_derivative(x):\n",
        "  t = tanh(x)\n",
        "  return 1 - t**2\n",
        "\n",
        "def relu_derivative(x):\n",
        "  return 1*(x>0)\n",
        "\n",
        "def activation_derivative(x, activation_function):\n",
        "  \"\"\"\n",
        "  activation_function = 'ReLU', 'sigmoid', 'tanh'\n",
        "  \"\"\"\n",
        "  if activation_function == 'ReLU':\n",
        "    return relu_derivative(x)\n",
        "  elif activation_function == 'sigmoid':\n",
        "    return sigmoid_derivative(x)\n",
        "  elif activation_function == 'tanh':\n",
        "    return tanh_derivative(x)\n",
        "  else:\n",
        "    print('activation function invalid')\n",
        "\n",
        "################################################################################\n",
        "\n",
        "def layer_output_FP(x, weight_matrix, bias_vector, activation_function):\n",
        "  pre_activation = np.add(np.matmul(weight_matrix, x), bias_vector)\n",
        "  post_activation = activation_output(pre_activation, activation_function)\n",
        "  return pre_activation, post_activation\n",
        "\n",
        "def forward_propagation(ip_data, W_matrices, b_vectors, activation_functions):\n",
        "  \"\"\"\n",
        "  forward propagation\n",
        "  \"\"\"\n",
        "\n",
        "  layer_op = []\n",
        "  layer_op.append(ip_data)\n",
        "\n",
        "  layer_ip = []\n",
        "\n",
        "  for i in range(len(W_matrices)):\n",
        "\n",
        "    weight_matrix = W_matrices[i]\n",
        "    bias_vector = b_vectors[i]\n",
        "\n",
        "    activation_function = activation_functions[i]\n",
        "\n",
        "    pre_activation, post_activation = layer_output_FP(layer_op[i], weight_matrix, bias_vector, activation_function)\n",
        "\n",
        "    layer_op.append(post_activation)\n",
        "    layer_ip.append(pre_activation)\n",
        "\n",
        "  return layer_ip, layer_op\n",
        "\n",
        "################################################################################\n",
        "\n",
        "def back_propagation(W_matrices, b_vectors, y_true, layer_ip, layer_op, activation_functions, batch_size, w_d, loss_function):\n",
        "\n",
        "  DWs = []\n",
        "  Dbs = []\n",
        "  for i in range(len(W_matrices)):\n",
        "    k = len(W_matrices) - i\n",
        "\n",
        "    if k == len(W_matrices):\n",
        "      if loss_function == 'cross_entropy':\n",
        "        Da = -np.add(y_true, -layer_op[k])\n",
        "      elif loss_function == 'squared_error':\n",
        "        Da = (layer_op[k] - y_true)*layer_op[k]*(1-layer_op[k])\n",
        "\n",
        "      Dw = (np.matmul(Da, layer_op[k-1].T) + w_d*W_matrices[k-1])/batch_size\n",
        "    else:\n",
        "\n",
        "      Dh = np.matmul(W_matrices[k].T, Da)\n",
        "      Dg = activation_derivative(layer_ip[k-1], activation_functions[k-1])\n",
        "      Da = np.multiply(Dh, Dg)\n",
        "      Dw = (np.matmul(Da, layer_op[k-1].T) + w_d*W_matrices[k-1])/batch_size\n",
        "    Db = np.sum(Da, axis=1, keepdims=True)/batch_size\n",
        "\n",
        "    DWs.append(Dw)\n",
        "    Dbs.append(Db)\n",
        "\n",
        "  return DWs, Dbs\n",
        "\n",
        "\n",
        "################################################################################\n",
        "\n",
        "\n",
        "def update_weights_gd(W_matrices, b_vectors, DWs, Dbs, learning_rate = 0.1):\n",
        "\n",
        "  DWs.reverse()\n",
        "  Dbs.reverse()\n",
        "\n",
        "  for i in range(len(DWs)):\n",
        "\n",
        "    W_matrices[i] = W_matrices[i] - learning_rate*DWs[i]\n",
        "    b_vectors[i] = b_vectors[i] - learning_rate*Dbs[i]\n",
        "  return W_matrices, b_vectors\n",
        "\n",
        "def update_weights_momentum(W_matrices, b_vectors, DWs, Dbs, u_past_w, u_past_b, learning_rate = 0.1, beta = 0.5):\n",
        "  DWs.reverse()\n",
        "  Dbs.reverse()\n",
        "  u_w = u_past_w\n",
        "  u_b = u_past_b\n",
        "  for i in range(len(DWs)):\n",
        "\n",
        "    u_w[i] = beta*u_past_w[i] + DWs[i]\n",
        "    u_b[i] = beta*u_past_b[i] + Dbs[i]\n",
        "\n",
        "    W_matrices[i] = W_matrices[i] - learning_rate*u_w[i]\n",
        "    b_vectors[i] = b_vectors[i] - learning_rate*u_b[i]\n",
        "\n",
        "  return W_matrices, b_vectors, u_w, u_b\n",
        "\n",
        "def update_weights_adagrad(W_matrices, b_vectors, DWs, Dbs, u_past_w, u_past_b, learning_rate = 0.1):\n",
        "  DWs.reverse()\n",
        "  Dbs.reverse()\n",
        "\n",
        "  u_w = u_past_w\n",
        "  u_b = u_past_b\n",
        "  eps = 1e-8\n",
        "  for i in range(len(DWs)):\n",
        "    u_w[i] = u_past_w[i] + DWs[i]**2\n",
        "    u_b[i] = u_past_b[i] + Dbs[i]**2\n",
        "\n",
        "    W_matrices[i] = W_matrices[i] - learning_rate*DWs[i]/(np.sqrt(u_w[i]) + eps)\n",
        "    b_vectors[i] = b_vectors[i] - learning_rate*Dbs[i]/(np.sqrt(u_b[i]) + eps)\n",
        "\n",
        "  return W_matrices, b_vectors, u_w, u_b\n",
        "\n",
        "def update_weights_rmsprop(W_matrices, b_vectors, DWs, Dbs, u_past_w, u_past_b, learning_rate = 0.1, beta = 0.5):\n",
        "  DWs.reverse()\n",
        "  Dbs.reverse()\n",
        "\n",
        "  u_w = u_past_w\n",
        "  u_b = u_past_b\n",
        "  eps = 1e-8\n",
        "  for i in range(len(DWs)):\n",
        "    u_w[i] = beta*u_past_w[i] + (1-beta)*DWs[i]**2\n",
        "    u_b[i] = beta*u_past_b[i] + (1-beta)*Dbs[i]**2\n",
        "\n",
        "    W_matrices[i] = W_matrices[i] - learning_rate*DWs[i]/(np.sqrt(u_w[i]) + eps)\n",
        "    b_vectors[i] = b_vectors[i] - learning_rate*Dbs[i]/(np.sqrt(u_b[i]) + eps)\n",
        "\n",
        "  return W_matrices, b_vectors, u_w, u_b\n",
        "\n",
        "def update_weights_adam(W_matrices, b_vectors, DWs, Dbs, mw_past, mb_past, vw_past, vb_past, t, learning_rate = 0.1, beta1 = 0.5, beta2 =0.5):\n",
        "  DWs.reverse()\n",
        "  Dbs.reverse()\n",
        "  mw = mw_past\n",
        "  mb = mb_past\n",
        "  vw = vw_past\n",
        "  vb = vb_past\n",
        "  eps = 1e-8\n",
        "\n",
        "  for i in range(len(DWs)):\n",
        "    mw[i] = beta1*mw_past[i] + (1-beta1)*DWs[i]\n",
        "    mb[i] = beta1*mb_past[i] + (1-beta1)*Dbs[i]\n",
        "\n",
        "    mw_cap = mw[i]/(1 - beta1**t)\n",
        "    mb_cap = mb[i]/(1 - beta1**t)\n",
        "\n",
        "    vw[i] = beta2*vw_past[i] + (1-beta2)*DWs[i]**2\n",
        "    vb[i] = beta2*vb_past[i] + (1-beta2)*Dbs[i]**2\n",
        "    vw_cap = vw[i]/(1 - beta2**t)\n",
        "    vb_cap = vb[i]/(1 - beta2**t)\n",
        "\n",
        "    W_matrices[i] = W_matrices[i] - learning_rate*mw_cap/(np.sqrt(vw_cap) + eps)\n",
        "    b_vectors[i] = b_vectors[i] - learning_rate*mb_cap/(np.sqrt(vb_cap) + eps)\n",
        "\n",
        "  return W_matrices, b_vectors, mw, mb, vw, vb\n",
        "\n",
        "def update_weights_nadam(W_matrices, b_vectors, DWs, Dbs, mw_past, mb_past, vw_past, vb_past,t,  learning_rate = 0.1, beta1 = 0.5, beta2 =0.5):\n",
        "  DWs.reverse()\n",
        "  Dbs.reverse()\n",
        "  mw = mw_past\n",
        "  mb = mb_past\n",
        "  vw = vw_past\n",
        "  vb = vb_past\n",
        "  eps = 1e-8\n",
        "\n",
        "  for i in range(len(DWs)):\n",
        "    mw[i] = beta1*mw_past[i] + (1-beta1)*DWs[i]\n",
        "    mb[i] = beta1*mb_past[i] + (1-beta1)*Dbs[i]\n",
        "\n",
        "    mw_cap = mw[i]/(1 - beta1**(t+1))\n",
        "    mb_cap = mb[i]/(1 - beta1**(t+1))\n",
        "\n",
        "    vw[i] = beta2*vw_past[i] + (1-beta2)*DWs[i]**2\n",
        "    vb[i] = beta2*vb_past[i] + (1-beta2)*Dbs[i]**2\n",
        "    vw_cap = vw[i]/(1 - beta2**(t+1))\n",
        "    vb_cap = vb[i]/(1 - beta2**(t+1))\n",
        "\n",
        "    W_matrices[i] = W_matrices[i] - learning_rate*(beta1*mw_cap + ((1-beta1)/(1 - beta1**(t+1)))*DWs[i])/(np.sqrt(vw_cap) + eps)\n",
        "    b_vectors[i] = b_vectors[i] - learning_rate*(beta1*mb_cap + ((1-beta1)/(1 - beta1**(t+1)))*Dbs[i])/(np.sqrt(vb_cap) + eps)\n",
        "\n",
        "  return W_matrices, b_vectors, mw, mb, vw, vb\n",
        "\n",
        "def look_ahead_nag(W_s, b_s, u_past_w, u_past_b, beta = 0.5):\n",
        "  for i in range(len(W_s)):\n",
        "    W_s[i] = W_s[i] - beta*u_past_w[i]\n",
        "    b_s[i] = b_s[i] - beta*u_past_b[i]\n",
        "  return W_s, b_s\n",
        "\n",
        "################################################################################\n",
        "\n",
        "\n",
        "def one_hot_encode(integers, num_classes=None):\n",
        "  if num_classes is None:\n",
        "      num_classes = np.max(integers) + 1\n",
        "  return np.eye(num_classes)[integers]\n",
        "\n",
        "def cross_entropy_loss(y_true, y_pred, batch_size):\n",
        "  # Clip the predicted probabilities to avoid numerical instability\n",
        "  y_pred = np.clip(y_pred, 1e-15, 1 - 1e-15)\n",
        "  loss_value = np.sum(np.sum(y_true*np.log(y_pred), axis=0))/batch_size\n",
        "  return loss_value*(-1)\n",
        "\n",
        "def squared_error_loss(y_true, y_pred, batch_size):\n",
        "  # Clip the predicted probabilities to avoid numerical instability\n",
        "  loss_value = 0.5*np.sum(la.norm(y_true-y_pred, axis=0)**2)/batch_size\n",
        "  return loss_value\n",
        "\n",
        "def accuracy(y_true, y_pred, batch_size):\n",
        "  n_correct = 0\n",
        "  for i in range(0, batch_size, 1) :\n",
        "    if y_true[:,i].argmax() == y_pred[:,i].argmax() :\n",
        "      n_correct += 1\n",
        "  return 100 * n_correct / batch_size\n",
        "\n",
        "################################################################################\n",
        "\n",
        "def load_split_dataset(test_ratio=0.3):\n",
        "  # Load Fashion MNIST dataset\n",
        "  (train_images, train_labels), (test_images, test_labels) = fashion_mnist.load_data()\n",
        "\n",
        "  # Split the training set into training and validation sets\n",
        "  X_train, X_val, Y_train, Y_val = train_test_split(train_images, train_labels, test_size=test_ratio, random_state=42)\n",
        "\n",
        "  data_size = X_train.shape[0]\n",
        "  X_train = (X_train.reshape(data_size, -1).T)/255\n",
        "  Y_train = one_hot_encode(Y_train, 10).T\n",
        "\n",
        "  data_size = X_val.shape[0]\n",
        "  X_val = (X_val.reshape(data_size, -1).T)/255\n",
        "  Y_val = one_hot_encode(Y_val, 10).T\n",
        "\n",
        "  data_size = test_images.shape[0]\n",
        "  X_test = (test_images.reshape(data_size, -1).T)/255\n",
        "  Y_test = one_hot_encode(test_labels, 10).T\n",
        "\n",
        "  return X_train, Y_train, X_val, Y_val, X_test, Y_test\n"
      ],
      "metadata": {
        "id": "Fov_S0dSDItF"
      },
      "execution_count": null,
      "outputs": []
    },
    {
      "cell_type": "code",
      "source": [
        "\n",
        "def train_model(X_train,Y_train, X_test, Y_test, epoch=1,batch_size=25, num_neurons_hidden = [10], activation_functions = ['sigmoid'], loss_function = 'cross_entropy',\n",
        "                weights_init_type='random', optimizer = 'sgd', learning_rate = 0.1, opti_beta = [0.5, 0.5], w_d = 0, plot_acc_loss = False):\n",
        "\n",
        "  \"\"\"\n",
        "  X has shape (number of features, number of samples in train data set)\n",
        "  Y has shape (number of classes, number of samples in train data set)\n",
        "\n",
        "  num_neurons_hidden = list of number of neurons at each hidden layer\n",
        "\n",
        "  \"\"\"\n",
        "  num_ip_neurons = X_train.shape[0]\n",
        "  num_op_neurons = Y_train.shape[0]\n",
        "  num_neurons = [num_ip_neurons] + num_neurons_hidden + [num_op_neurons]\n",
        "  activation_functions = activation_functions + ['softmax']\n",
        "\n",
        "  W_s, b_s = weights_initialization(num_neurons, weights_init_type)\n",
        "  print('Hyper parameters: \\n')\n",
        "  print(\"Weight initialization type : \", weights_init_type)\n",
        "  print(\"Optimizer : \", optimizer)\n",
        "  print(\"Learning rate (initial): \", learning_rate)\n",
        "  print(\"Batch size: \", batch_size)\n",
        "  print(\"-------------------\")\n",
        "  print(\"Architecture Description:\\n\")\n",
        "\n",
        "  for i in range(len(num_neurons)-1):\n",
        "    print(\"Layer: \", i+1, \" ; number of neurons: \", num_neurons[i+1], \" ; activation function: \", activation_functions[i])\n",
        "    print(\"Weight matrix dimention\", W_s[i].shape, \"Bias vector dimention\", b_s[i].shape)\n",
        "    print(\"----------------\")\n",
        "\n",
        "  num_batches = np.floor(X_train.shape[1]/batch_size)\n",
        "  print(num_batches)\n",
        "\n",
        "\n",
        "  if optimizer == 'momentum':\n",
        "    u_past_w = [x * 0 for x in W_s]\n",
        "    u_past_b = [x * 0 for x in b_s]\n",
        "\n",
        "  elif optimizer == 'nag':\n",
        "    u_past_w = [x * 0 for x in W_s]\n",
        "    u_past_b = [x * 0 for x in b_s]\n",
        "\n",
        "  elif optimizer == 'rmsprop':\n",
        "    u_past_w = [x * 0 for x in W_s]\n",
        "    u_past_b = [x * 0 for x in b_s]\n",
        "\n",
        "  elif optimizer == 'adagrad':\n",
        "    u_past_w = [x * 0 for x in W_s]\n",
        "    u_past_b = [x * 0 for x in b_s]\n",
        "\n",
        "  elif optimizer == 'adam':\n",
        "    mw_past = [x * 0 for x in W_s]\n",
        "    mb_past = [x * 0 for x in b_s]\n",
        "    vw_past = [x * 0 for x in W_s]\n",
        "    vb_past = [x * 0 for x in b_s]\n",
        "    t = 1\n",
        "\n",
        "  elif optimizer == 'nadam':\n",
        "    mw_past = [x * 0 for x in W_s]\n",
        "    mb_past = [x * 0 for x in b_s]\n",
        "    vw_past = [x * 0 for x in W_s]\n",
        "    vb_past = [x * 0 for x in b_s]\n",
        "    t = 1\n",
        "\n",
        "  print('\\n Start of training')\n",
        "\n",
        "  ip_all, op_all = forward_propagation(X_train, W_s, b_s, activation_functions)\n",
        "  ce_loss_tr = cross_entropy_loss(Y_train, op_all[-1], X_train.shape[1])\n",
        "  se_loss_tr = squared_error_loss(Y_train, op_all[-1], X_train.shape[1])\n",
        "  acc_tr = accuracy(Y_train, op_all[-1], Y_train.shape[1])\n",
        "\n",
        "  ip_all, op_all = forward_propagation(X_test, W_s, b_s, activation_functions)\n",
        "  ce_loss_ts = cross_entropy_loss(Y_test, op_all[-1], X_test.shape[1])\n",
        "  se_loss_ts = squared_error_loss(Y_test, op_all[-1], X_test.shape[1])\n",
        "  acc_ts = accuracy(Y_test, op_all[-1], Y_test.shape[1])\n",
        "\n",
        "  print(\"CE Training Loss: \", ce_loss_tr, \"SE Training Loss: \", se_loss_tr,\"Training Accuracy: \", acc_tr, \"CE Test Loss: \",\n",
        "        ce_loss_ts, \"SE Test Loss: \", se_loss_ts ,  \"Testing Accuracy: \", acc_ts)\n",
        "\n",
        "  wandb.log({'tr_loss_CE' : ce_loss_tr, 'tr_loss_SE' : se_loss_tr, 'tr_accuracy' : acc_tr, 'val_loss_CE' : ce_loss_ts, 'val_loss_SE' : se_loss_ts, 'val_accuracy' : acc_ts})\n",
        "\n",
        "  train_loss = np.array([ce_loss_tr])\n",
        "  train_acc = np.array([acc_tr])\n",
        "\n",
        "  val_loss = np.array([ce_loss_ts])\n",
        "  val_acc = np.array([acc_ts])\n",
        "\n",
        "  for i in range(epoch):\n",
        "    print('Epoch: ', i+1)\n",
        "\n",
        "    for j in tqdm(range(int(num_batches))):\n",
        "      batch_X = X_train[:,j*batch_size:(j+1)*batch_size]\n",
        "      batch_Y = Y_train[:,j*batch_size:(j+1)*batch_size]\n",
        "\n",
        "\n",
        "      if optimizer == 'sgd':\n",
        "        ip, op = forward_propagation(batch_X, W_s, b_s, activation_functions)\n",
        "        DWs, Dbs = back_propagation(W_s, b_s, batch_Y, ip, op, activation_functions, batch_size, w_d, loss_function)\n",
        "        W_s, b_s = update_weights_gd(W_s, b_s, DWs, Dbs, learning_rate)\n",
        "\n",
        "      elif optimizer == 'momentum':\n",
        "        ip, op = forward_propagation(batch_X, W_s, b_s, activation_functions)\n",
        "        DWs, Dbs = back_propagation(W_s, b_s, batch_Y, ip, op, activation_functions, batch_size, w_d, loss_function)\n",
        "        W_s, b_s, u_past_w, u_past_b  = update_weights_momentum(W_s, b_s, DWs, Dbs, u_past_w, u_past_b, learning_rate, opti_beta[0])\n",
        "\n",
        "      elif optimizer == 'adagrad':\n",
        "        ip, op = forward_propagation(batch_X, W_s, b_s, activation_functions)\n",
        "        DWs, Dbs = back_propagation(W_s, b_s, batch_Y, ip, op, activation_functions, batch_size, w_d, loss_function)\n",
        "        W_s, b_s, u_past_w, u_past_b  = update_weights_adagrad(W_s, b_s, DWs, Dbs, u_past_w, u_past_b, learning_rate)\n",
        "\n",
        "      elif optimizer == 'rmsprop':\n",
        "        ip, op = forward_propagation(batch_X, W_s, b_s, activation_functions)\n",
        "        DWs, Dbs = back_propagation(W_s, b_s, batch_Y, ip, op, activation_functions, batch_size, w_d, loss_function)\n",
        "        W_s, b_s, u_past_w, u_past_b  = update_weights_rmsprop(W_s, b_s, DWs, Dbs, u_past_w, u_past_b, learning_rate, opti_beta[0])\n",
        "\n",
        "      elif optimizer == 'adam':\n",
        "        ip, op = forward_propagation(batch_X, W_s, b_s, activation_functions)\n",
        "        DWs, Dbs = back_propagation(W_s, b_s, batch_Y, ip, op, activation_functions, batch_size, w_d, loss_function)\n",
        "        W_s, b_s, mw_past, mb_past, vw_past, vb_past = update_weights_adam(W_s, b_s, DWs, Dbs, mw_past, mb_past, vw_past, vb_past, t, learning_rate, opti_beta[0], opti_beta[1])\n",
        "        t =t +1\n",
        "\n",
        "      elif optimizer == 'nadam':\n",
        "        ip, op = forward_propagation(batch_X, W_s, b_s, activation_functions)\n",
        "        DWs, Dbs = back_propagation(W_s, b_s, batch_Y, ip, op, activation_functions, batch_size, w_d, loss_function)\n",
        "        W_s, b_s, mw_past, mb_past, vw_past, vb_past = update_weights_nadam(W_s, b_s, DWs, Dbs, mw_past, mb_past, vw_past, vb_past, t, learning_rate, opti_beta[0], opti_beta[1])\n",
        "        t =t +1\n",
        "      elif optimizer == 'nag':\n",
        "        PWs, Pbs = look_ahead_nag(W_s, b_s, u_past_w, u_past_b, opti_beta[0])\n",
        "        ip, op = forward_propagation(batch_X, W_s, b_s, activation_functions)\n",
        "        DWs, Dbs = back_propagation(PWs, Pbs, batch_Y, ip, op, activation_functions, batch_size, w_d, loss_function)\n",
        "        W_s, b_s, u_past_w, u_past_b  = update_weights_momentum(W_s, b_s, DWs, Dbs, u_past_w, u_past_b, learning_rate, opti_beta[0])\n",
        "\n",
        "\n",
        "    ip_all, op_all = forward_propagation(X_train, W_s, b_s, activation_functions)\n",
        "    ce_loss_tr = cross_entropy_loss(Y_train, op_all[-1], X_train.shape[1])\n",
        "    se_loss_tr = squared_error_loss(Y_train, op_all[-1], X_train.shape[1])\n",
        "    acc_tr = accuracy(Y_train, op_all[-1], Y_train.shape[1])\n",
        "\n",
        "    ip_all, op_all = forward_propagation(X_test, W_s, b_s, activation_functions)\n",
        "    ce_loss_ts = cross_entropy_loss(Y_test, op_all[-1], X_test.shape[1])\n",
        "    se_loss_ts = squared_error_loss(Y_test, op_all[-1], X_test.shape[1])\n",
        "    acc_ts = accuracy(Y_test, op_all[-1], Y_test.shape[1])\n",
        "\n",
        "    print(\"CE Training Loss: \", ce_loss_tr, \"SE Training Loss: \", se_loss_tr,\"Training Accuracy: \", acc_tr, \"CE Test Loss: \",\n",
        "          ce_loss_ts, \"SE Test Loss: \", se_loss_ts ,  \"Testing Accuracy: \", acc_ts)\n",
        "\n",
        "    train_loss = np.append(train_loss, [ce_loss_tr])\n",
        "    train_acc = np.append(train_acc, [acc_tr])\n",
        "\n",
        "    val_loss = np.append(val_loss, [ce_loss_ts])\n",
        "    val_acc = np.append(val_acc, [acc_ts])\n",
        "\n",
        "    wandb.log({'tr_loss_CE' : ce_loss_tr, 'tr_loss_SE' : se_loss_tr, 'tr_accuracy' : acc_tr, 'val_loss_CE' : ce_loss_ts, 'val_loss_SE' : se_loss_ts, 'val_accuracy' : acc_ts})\n",
        "\n",
        "  if plot_acc_loss == True:\n",
        "\n",
        "    fig, ax = plt.subplots()  # Create a figure and axes object\n",
        "    ax.plot(np.arange(0, epoch + 1, 1), train_acc, color='r', label='training')\n",
        "    ax.plot(np.arange(0, epoch + 1, 1), val_acc, color='g', label='validation')\n",
        "    ax.set_title(\"Accuracy\")  # Set title on the axes object\n",
        "    ax.legend()\n",
        "    plt.grid()\n",
        "    plt.show()\n",
        "\n",
        "    fig, ax = plt.subplots()  # Create a figure and axes object for the second plot\n",
        "    ax.plot(np.arange(0, epoch + 1, 1), train_loss, color='r', label='training')\n",
        "    ax.plot(np.arange(0, epoch + 1, 1), val_loss, color='g', label='validation')\n",
        "    ax.set_title(\"Loss\")  # Set title on the axes object\n",
        "    ax.legend()\n",
        "    plt.grid()\n",
        "    plt.show()\n",
        "\n",
        "\n"
      ],
      "metadata": {
        "id": "oKUlWg9EDLDy"
      },
      "execution_count": null,
      "outputs": []
    },
    {
      "cell_type": "code",
      "source": [
        "sweep_config = {\n",
        "    'method': 'grid',\n",
        "    'metric': {\n",
        "      'name': 'valid accuracy',\n",
        "      'goal': 'maximize'\n",
        "    },\n",
        "    'parameters': {\n",
        "        'epochs': {\n",
        "            'values': [5]\n",
        "        },\n",
        "        'num_layers': {\n",
        "            'values': [4]\n",
        "        },\n",
        "         'hidden_size': {\n",
        "            'values': [64]\n",
        "        },\n",
        "        'weight_decay': {\n",
        "            'values': [0, 0.0005, 0.5]\n",
        "        },\n",
        "         'learning_rate': {\n",
        "            'values': [0.001, 0.0001]\n",
        "        },\n",
        "         'optimizer': {\n",
        "            'values': ['rmsprop', 'adam', 'nadam']\n",
        "        },\n",
        "        'batch_size': {\n",
        "            'values': [32]\n",
        "        },\n",
        "         'weight_init': {\n",
        "            'values': ['Xavier']\n",
        "        },\n",
        "        'activation': {\n",
        "            'values': ['tanh', 'ReLU']\n",
        "        },\n",
        "        'loss_function': {\n",
        "            'values': ['cross_entropy', 'squared_error']\n",
        "        },\n",
        "    }\n",
        "}\n",
        "\n",
        "sweep_id = wandb.sweep(sweep = sweep_config, project = 'dl_assgn_1_q_8')"
      ],
      "metadata": {
        "colab": {
          "base_uri": "https://localhost:8080/"
        },
        "id": "FqTt49DzNhST",
        "outputId": "9dcfb1b5-f64f-4dc1-93eb-49cecd4a50f4"
      },
      "execution_count": null,
      "outputs": [
        {
          "output_type": "stream",
          "name": "stdout",
          "text": [
            "Create sweep with ID: 28yyx0vh\n",
            "Sweep URL: https://wandb.ai/arunangshudutta218-iitm/dl_assgn_1_q_8/sweeps/28yyx0vh\n"
          ]
        }
      ]
    },
    {
      "cell_type": "code",
      "source": [
        "def main():\n",
        "  with wandb.init() as run:\n",
        "\n",
        "    epochs = wandb.config.epochs\n",
        "    nhl = wandb.config.num_layers\n",
        "    sz = wandb.config.hidden_size\n",
        "    w_d = wandb.config.weight_decay\n",
        "    lr = wandb.config.learning_rate\n",
        "    optimizer = wandb.config.optimizer\n",
        "    b_sz = wandb.config.batch_size\n",
        "    weight_init = wandb.config.weight_init\n",
        "    act_fun = wandb.config.activation\n",
        "    loss_fun = wandb.config.loss_function\n",
        "\n",
        "    neuros_num = []\n",
        "    act_func = []\n",
        "    for i in range(nhl):\n",
        "      neuros_num.append(sz)\n",
        "      act_func.append(act_fun)\n",
        "\n",
        "    wandb.run.name = \"e_{}_hl_{}_hs_{}_lr_{}_opt_{}_bs_{}_init_{}_ac_{}_l2_{}\".format(epochs, nhl, sz, lr, optimizer, b_sz, weight_init, act_fun, w_d)\n",
        "\n",
        "    train_model(X_train, Y_train, X_val, Y_val, epoch=epochs, batch_size=b_sz, num_neurons_hidden = neuros_num, activation_functions = act_func, loss_function = loss_fun,\n",
        "                weights_init_type=weight_init, optimizer = optimizer, learning_rate = lr, opti_beta = [0.5, 0.5], w_d = w_d)\n",
        "\n",
        "\n",
        "X_train, Y_train, X_val, Y_val, X_test, Y_test = load_split_dataset()\n",
        "\n",
        "wandb.agent(sweep_id, function = main)\n",
        "wandb.finish()"
      ],
      "metadata": {
        "colab": {
          "base_uri": "https://localhost:8080/",
          "height": 1000
        },
        "id": "qgbFowRhOTp5",
        "outputId": "3b741946-816e-4ffd-c145-7ec30e41b062"
      },
      "execution_count": null,
      "outputs": [
        {
          "output_type": "stream",
          "name": "stderr",
          "text": [
            "\u001b[34m\u001b[1mwandb\u001b[0m: Agent Starting Run: rrwycqoi with config:\n",
            "\u001b[34m\u001b[1mwandb\u001b[0m: \tactivation: tanh\n",
            "\u001b[34m\u001b[1mwandb\u001b[0m: \tbatch_size: 32\n",
            "\u001b[34m\u001b[1mwandb\u001b[0m: \tepochs: 5\n",
            "\u001b[34m\u001b[1mwandb\u001b[0m: \thidden_size: 64\n",
            "\u001b[34m\u001b[1mwandb\u001b[0m: \tlearning_rate: 0.001\n",
            "\u001b[34m\u001b[1mwandb\u001b[0m: \tloss_function: cross_entropy\n",
            "\u001b[34m\u001b[1mwandb\u001b[0m: \tnum_layers: 4\n",
            "\u001b[34m\u001b[1mwandb\u001b[0m: \toptimizer: rmsprop\n",
            "\u001b[34m\u001b[1mwandb\u001b[0m: \tweight_decay: 0\n",
            "\u001b[34m\u001b[1mwandb\u001b[0m: \tweight_init: Xavier\n"
          ]
        },
        {
          "output_type": "display_data",
          "data": {
            "text/plain": [
              "<IPython.core.display.HTML object>"
            ],
            "text/html": [
              "Tracking run with wandb version 0.19.8"
            ]
          },
          "metadata": {}
        },
        {
          "output_type": "display_data",
          "data": {
            "text/plain": [
              "<IPython.core.display.HTML object>"
            ],
            "text/html": [
              "Run data is saved locally in <code>/content/wandb/run-20250317_132242-rrwycqoi</code>"
            ]
          },
          "metadata": {}
        },
        {
          "output_type": "display_data",
          "data": {
            "text/plain": [
              "<IPython.core.display.HTML object>"
            ],
            "text/html": [
              "Syncing run <strong><a href='https://wandb.ai/arunangshudutta218-iitm/dl_assgn_1_q_8/runs/rrwycqoi' target=\"_blank\">vivid-sweep-1</a></strong> to <a href='https://wandb.ai/arunangshudutta218-iitm/dl_assgn_1_q_8' target=\"_blank\">Weights & Biases</a> (<a href='https://wandb.me/developer-guide' target=\"_blank\">docs</a>)<br>Sweep page: <a href='https://wandb.ai/arunangshudutta218-iitm/dl_assgn_1_q_8/sweeps/28yyx0vh' target=\"_blank\">https://wandb.ai/arunangshudutta218-iitm/dl_assgn_1_q_8/sweeps/28yyx0vh</a>"
            ]
          },
          "metadata": {}
        },
        {
          "output_type": "display_data",
          "data": {
            "text/plain": [
              "<IPython.core.display.HTML object>"
            ],
            "text/html": [
              " View project at <a href='https://wandb.ai/arunangshudutta218-iitm/dl_assgn_1_q_8' target=\"_blank\">https://wandb.ai/arunangshudutta218-iitm/dl_assgn_1_q_8</a>"
            ]
          },
          "metadata": {}
        },
        {
          "output_type": "display_data",
          "data": {
            "text/plain": [
              "<IPython.core.display.HTML object>"
            ],
            "text/html": [
              " View sweep at <a href='https://wandb.ai/arunangshudutta218-iitm/dl_assgn_1_q_8/sweeps/28yyx0vh' target=\"_blank\">https://wandb.ai/arunangshudutta218-iitm/dl_assgn_1_q_8/sweeps/28yyx0vh</a>"
            ]
          },
          "metadata": {}
        },
        {
          "output_type": "display_data",
          "data": {
            "text/plain": [
              "<IPython.core.display.HTML object>"
            ],
            "text/html": [
              " View run at <a href='https://wandb.ai/arunangshudutta218-iitm/dl_assgn_1_q_8/runs/rrwycqoi' target=\"_blank\">https://wandb.ai/arunangshudutta218-iitm/dl_assgn_1_q_8/runs/rrwycqoi</a>"
            ]
          },
          "metadata": {}
        },
        {
          "output_type": "stream",
          "name": "stdout",
          "text": [
            "Hyper parameters: \n",
            "\n",
            "Weight initialization type :  Xavier\n",
            "Optimizer :  rmsprop\n",
            "Learning rate (initial):  0.001\n",
            "Batch size:  32\n",
            "-------------------\n",
            "Architecture Description:\n",
            "\n",
            "Layer:  1  ; number of neurons:  64  ; activation function:  tanh\n",
            "Weight matrix dimention (64, 784) Bias vector dimention (64, 1)\n",
            "----------------\n",
            "Layer:  2  ; number of neurons:  64  ; activation function:  tanh\n",
            "Weight matrix dimention (64, 64) Bias vector dimention (64, 1)\n",
            "----------------\n",
            "Layer:  3  ; number of neurons:  64  ; activation function:  tanh\n",
            "Weight matrix dimention (64, 64) Bias vector dimention (64, 1)\n",
            "----------------\n",
            "Layer:  4  ; number of neurons:  64  ; activation function:  tanh\n",
            "Weight matrix dimention (64, 64) Bias vector dimention (64, 1)\n",
            "----------------\n",
            "Layer:  5  ; number of neurons:  10  ; activation function:  softmax\n",
            "Weight matrix dimention (10, 64) Bias vector dimention (10, 1)\n",
            "----------------\n",
            "1312.0\n",
            "\n",
            " Start of training\n",
            "CE Training Loss:  2.270430577226135 SE Training Loss:  0.44609708315869595 Training Accuracy:  18.126190476190477 CE Test Loss:  2.2722249667865015 SE Test Loss:  0.44634537360074555 Testing Accuracy:  17.788888888888888\n",
            "Epoch:  1\n"
          ]
        },
        {
          "output_type": "stream",
          "name": "stderr",
          "text": [
            "100%|██████████| 1312/1312 [00:04<00:00, 274.70it/s]\n"
          ]
        },
        {
          "output_type": "stream",
          "name": "stdout",
          "text": [
            "CE Training Loss:  0.47530398975837174 SE Training Loss:  0.12322470019385406 Training Accuracy:  82.95952380952382 CE Test Loss:  0.48625823532585055 SE Test Loss:  0.12592855079643367 Testing Accuracy:  82.43888888888888\n",
            "Epoch:  2\n"
          ]
        },
        {
          "output_type": "stream",
          "name": "stderr",
          "text": [
            "100%|██████████| 1312/1312 [00:06<00:00, 206.42it/s]\n"
          ]
        },
        {
          "output_type": "stream",
          "name": "stdout",
          "text": [
            "CE Training Loss:  0.40385400231315993 SE Training Loss:  0.10413439567929757 Training Accuracy:  85.5047619047619 CE Test Loss:  0.42618932806884896 SE Test Loss:  0.10852818755662655 Testing Accuracy:  85.03333333333333\n",
            "Epoch:  3\n"
          ]
        },
        {
          "output_type": "stream",
          "name": "stderr",
          "text": [
            "100%|██████████| 1312/1312 [00:05<00:00, 223.72it/s]\n"
          ]
        },
        {
          "output_type": "stream",
          "name": "stdout",
          "text": [
            "CE Training Loss:  0.37891867796074935 SE Training Loss:  0.09753425879380408 Training Accuracy:  86.38333333333334 CE Test Loss:  0.40992068194981807 SE Test Loss:  0.10354504095333375 Testing Accuracy:  85.7\n",
            "Epoch:  4\n"
          ]
        },
        {
          "output_type": "stream",
          "name": "stderr",
          "text": [
            "100%|██████████| 1312/1312 [00:05<00:00, 241.79it/s]\n"
          ]
        },
        {
          "output_type": "stream",
          "name": "stdout",
          "text": [
            "CE Training Loss:  0.36321319948151254 SE Training Loss:  0.09339508325728828 Training Accuracy:  87.01904761904763 CE Test Loss:  0.401159297590101 SE Test Loss:  0.100775861701728 Testing Accuracy:  86.21666666666667\n",
            "Epoch:  5\n"
          ]
        },
        {
          "output_type": "stream",
          "name": "stderr",
          "text": [
            "100%|██████████| 1312/1312 [00:05<00:00, 229.22it/s]\n"
          ]
        },
        {
          "output_type": "stream",
          "name": "stdout",
          "text": [
            "CE Training Loss:  0.34614661497715105 SE Training Loss:  0.08897782400327779 Training Accuracy:  87.6952380952381 CE Test Loss:  0.3939658056776319 SE Test Loss:  0.09855443196515486 Testing Accuracy:  86.60555555555555\n"
          ]
        },
        {
          "output_type": "display_data",
          "data": {
            "text/plain": [
              "<IPython.core.display.HTML object>"
            ],
            "text/html": []
          },
          "metadata": {}
        },
        {
          "output_type": "display_data",
          "data": {
            "text/plain": [
              "<IPython.core.display.HTML object>"
            ],
            "text/html": [
              "<br>    <style><br>        .wandb-row {<br>            display: flex;<br>            flex-direction: row;<br>            flex-wrap: wrap;<br>            justify-content: flex-start;<br>            width: 100%;<br>        }<br>        .wandb-col {<br>            display: flex;<br>            flex-direction: column;<br>            flex-basis: 100%;<br>            flex: 1;<br>            padding: 10px;<br>        }<br>    </style><br><div class=\"wandb-row\"><div class=\"wandb-col\"><h3>Run history:</h3><br/><table class=\"wandb\"><tr><td>tr_accuracy</td><td>▁█████</td></tr><tr><td>tr_loss_CE</td><td>█▁▁▁▁▁</td></tr><tr><td>tr_loss_SE</td><td>█▂▁▁▁▁</td></tr><tr><td>val_accuracy</td><td>▁█████</td></tr><tr><td>val_loss_CE</td><td>█▁▁▁▁▁</td></tr><tr><td>val_loss_SE</td><td>█▂▁▁▁▁</td></tr></table><br/></div><div class=\"wandb-col\"><h3>Run summary:</h3><br/><table class=\"wandb\"><tr><td>tr_accuracy</td><td>87.69524</td></tr><tr><td>tr_loss_CE</td><td>0.34615</td></tr><tr><td>tr_loss_SE</td><td>0.08898</td></tr><tr><td>val_accuracy</td><td>86.60556</td></tr><tr><td>val_loss_CE</td><td>0.39397</td></tr><tr><td>val_loss_SE</td><td>0.09855</td></tr></table><br/></div></div>"
            ]
          },
          "metadata": {}
        },
        {
          "output_type": "display_data",
          "data": {
            "text/plain": [
              "<IPython.core.display.HTML object>"
            ],
            "text/html": [
              " View run <strong style=\"color:#cdcd00\">e_5_hl_4_hs_64_lr_0.001_opt_rmsprop_bs_32_init_Xavier_ac_tanh_l2_0</strong> at: <a href='https://wandb.ai/arunangshudutta218-iitm/dl_assgn_1_q_8/runs/rrwycqoi' target=\"_blank\">https://wandb.ai/arunangshudutta218-iitm/dl_assgn_1_q_8/runs/rrwycqoi</a><br> View project at: <a href='https://wandb.ai/arunangshudutta218-iitm/dl_assgn_1_q_8' target=\"_blank\">https://wandb.ai/arunangshudutta218-iitm/dl_assgn_1_q_8</a><br>Synced 5 W&B file(s), 0 media file(s), 0 artifact file(s) and 0 other file(s)"
            ]
          },
          "metadata": {}
        },
        {
          "output_type": "display_data",
          "data": {
            "text/plain": [
              "<IPython.core.display.HTML object>"
            ],
            "text/html": [
              "Find logs at: <code>./wandb/run-20250317_132242-rrwycqoi/logs</code>"
            ]
          },
          "metadata": {}
        },
        {
          "output_type": "stream",
          "name": "stderr",
          "text": [
            "\u001b[34m\u001b[1mwandb\u001b[0m: Agent Starting Run: ckd3otub with config:\n",
            "\u001b[34m\u001b[1mwandb\u001b[0m: \tactivation: tanh\n",
            "\u001b[34m\u001b[1mwandb\u001b[0m: \tbatch_size: 32\n",
            "\u001b[34m\u001b[1mwandb\u001b[0m: \tepochs: 5\n",
            "\u001b[34m\u001b[1mwandb\u001b[0m: \thidden_size: 64\n",
            "\u001b[34m\u001b[1mwandb\u001b[0m: \tlearning_rate: 0.001\n",
            "\u001b[34m\u001b[1mwandb\u001b[0m: \tloss_function: cross_entropy\n",
            "\u001b[34m\u001b[1mwandb\u001b[0m: \tnum_layers: 4\n",
            "\u001b[34m\u001b[1mwandb\u001b[0m: \toptimizer: rmsprop\n",
            "\u001b[34m\u001b[1mwandb\u001b[0m: \tweight_decay: 0.0005\n",
            "\u001b[34m\u001b[1mwandb\u001b[0m: \tweight_init: Xavier\n"
          ]
        },
        {
          "output_type": "display_data",
          "data": {
            "text/plain": [
              "<IPython.core.display.HTML object>"
            ],
            "text/html": [
              "Tracking run with wandb version 0.19.8"
            ]
          },
          "metadata": {}
        },
        {
          "output_type": "display_data",
          "data": {
            "text/plain": [
              "<IPython.core.display.HTML object>"
            ],
            "text/html": [
              "Run data is saved locally in <code>/content/wandb/run-20250317_132328-ckd3otub</code>"
            ]
          },
          "metadata": {}
        },
        {
          "output_type": "display_data",
          "data": {
            "text/plain": [
              "<IPython.core.display.HTML object>"
            ],
            "text/html": [
              "Syncing run <strong><a href='https://wandb.ai/arunangshudutta218-iitm/dl_assgn_1_q_8/runs/ckd3otub' target=\"_blank\">polar-sweep-2</a></strong> to <a href='https://wandb.ai/arunangshudutta218-iitm/dl_assgn_1_q_8' target=\"_blank\">Weights & Biases</a> (<a href='https://wandb.me/developer-guide' target=\"_blank\">docs</a>)<br>Sweep page: <a href='https://wandb.ai/arunangshudutta218-iitm/dl_assgn_1_q_8/sweeps/28yyx0vh' target=\"_blank\">https://wandb.ai/arunangshudutta218-iitm/dl_assgn_1_q_8/sweeps/28yyx0vh</a>"
            ]
          },
          "metadata": {}
        },
        {
          "output_type": "display_data",
          "data": {
            "text/plain": [
              "<IPython.core.display.HTML object>"
            ],
            "text/html": [
              " View project at <a href='https://wandb.ai/arunangshudutta218-iitm/dl_assgn_1_q_8' target=\"_blank\">https://wandb.ai/arunangshudutta218-iitm/dl_assgn_1_q_8</a>"
            ]
          },
          "metadata": {}
        },
        {
          "output_type": "display_data",
          "data": {
            "text/plain": [
              "<IPython.core.display.HTML object>"
            ],
            "text/html": [
              " View sweep at <a href='https://wandb.ai/arunangshudutta218-iitm/dl_assgn_1_q_8/sweeps/28yyx0vh' target=\"_blank\">https://wandb.ai/arunangshudutta218-iitm/dl_assgn_1_q_8/sweeps/28yyx0vh</a>"
            ]
          },
          "metadata": {}
        },
        {
          "output_type": "display_data",
          "data": {
            "text/plain": [
              "<IPython.core.display.HTML object>"
            ],
            "text/html": [
              " View run at <a href='https://wandb.ai/arunangshudutta218-iitm/dl_assgn_1_q_8/runs/ckd3otub' target=\"_blank\">https://wandb.ai/arunangshudutta218-iitm/dl_assgn_1_q_8/runs/ckd3otub</a>"
            ]
          },
          "metadata": {}
        },
        {
          "output_type": "stream",
          "name": "stdout",
          "text": [
            "Hyper parameters: \n",
            "\n",
            "Weight initialization type :  Xavier\n",
            "Optimizer :  rmsprop\n",
            "Learning rate (initial):  0.001\n",
            "Batch size:  32\n",
            "-------------------\n",
            "Architecture Description:\n",
            "\n",
            "Layer:  1  ; number of neurons:  64  ; activation function:  tanh\n",
            "Weight matrix dimention (64, 784) Bias vector dimention (64, 1)\n",
            "----------------\n",
            "Layer:  2  ; number of neurons:  64  ; activation function:  tanh\n",
            "Weight matrix dimention (64, 64) Bias vector dimention (64, 1)\n",
            "----------------\n",
            "Layer:  3  ; number of neurons:  64  ; activation function:  tanh\n",
            "Weight matrix dimention (64, 64) Bias vector dimention (64, 1)\n",
            "----------------\n",
            "Layer:  4  ; number of neurons:  64  ; activation function:  tanh\n",
            "Weight matrix dimention (64, 64) Bias vector dimention (64, 1)\n",
            "----------------\n",
            "Layer:  5  ; number of neurons:  10  ; activation function:  softmax\n",
            "Weight matrix dimention (10, 64) Bias vector dimention (10, 1)\n",
            "----------------\n",
            "1312.0\n",
            "\n",
            " Start of training\n",
            "CE Training Loss:  2.3562718052467186 SE Training Loss:  0.45466801541077784 Training Accuracy:  14.045238095238096 CE Test Loss:  2.357236277069994 SE Test Loss:  0.45471506186380367 Testing Accuracy:  14.294444444444444\n",
            "Epoch:  1\n"
          ]
        },
        {
          "output_type": "stream",
          "name": "stderr",
          "text": [
            "100%|██████████| 1312/1312 [00:07<00:00, 172.63it/s]\n"
          ]
        },
        {
          "output_type": "stream",
          "name": "stdout",
          "text": [
            "CE Training Loss:  0.46385108773768047 SE Training Loss:  0.1195059314264847 Training Accuracy:  83.33095238095238 CE Test Loss:  0.47102494097145925 SE Test Loss:  0.12111717916551738 Testing Accuracy:  83.01666666666667\n",
            "Epoch:  2\n"
          ]
        },
        {
          "output_type": "stream",
          "name": "stderr",
          "text": [
            "100%|██████████| 1312/1312 [00:04<00:00, 272.27it/s]\n"
          ]
        },
        {
          "output_type": "stream",
          "name": "stdout",
          "text": [
            "CE Training Loss:  0.4161964072735203 SE Training Loss:  0.1070613677880542 Training Accuracy:  85.00714285714285 CE Test Loss:  0.435227932315886 SE Test Loss:  0.11087746586759116 Testing Accuracy:  84.7\n",
            "Epoch:  3\n"
          ]
        },
        {
          "output_type": "stream",
          "name": "stderr",
          "text": [
            "100%|██████████| 1312/1312 [00:07<00:00, 177.84it/s]\n"
          ]
        },
        {
          "output_type": "stream",
          "name": "stdout",
          "text": [
            "CE Training Loss:  0.386947004267527 SE Training Loss:  0.09977350226099783 Training Accuracy:  86.04047619047618 CE Test Loss:  0.41849099450180055 SE Test Loss:  0.10577896602395775 Testing Accuracy:  85.46111111111111\n",
            "Epoch:  4\n"
          ]
        },
        {
          "output_type": "stream",
          "name": "stderr",
          "text": [
            "100%|██████████| 1312/1312 [00:04<00:00, 270.25it/s]\n"
          ]
        },
        {
          "output_type": "stream",
          "name": "stdout",
          "text": [
            "CE Training Loss:  0.3615634462964621 SE Training Loss:  0.0929263229211986 Training Accuracy:  87.07857142857142 CE Test Loss:  0.4027355609766588 SE Test Loss:  0.10120760555441126 Testing Accuracy:  86.04444444444445\n",
            "Epoch:  5\n"
          ]
        },
        {
          "output_type": "stream",
          "name": "stderr",
          "text": [
            "100%|██████████| 1312/1312 [00:07<00:00, 175.84it/s]\n"
          ]
        },
        {
          "output_type": "stream",
          "name": "stdout",
          "text": [
            "CE Training Loss:  0.3488316388494272 SE Training Loss:  0.08962232289058411 Training Accuracy:  87.63095238095238 CE Test Loss:  0.39897979722149746 SE Test Loss:  0.09935173640947831 Testing Accuracy:  86.53888888888889\n"
          ]
        },
        {
          "output_type": "display_data",
          "data": {
            "text/plain": [
              "<IPython.core.display.HTML object>"
            ],
            "text/html": []
          },
          "metadata": {}
        },
        {
          "output_type": "display_data",
          "data": {
            "text/plain": [
              "<IPython.core.display.HTML object>"
            ],
            "text/html": [
              "<br>    <style><br>        .wandb-row {<br>            display: flex;<br>            flex-direction: row;<br>            flex-wrap: wrap;<br>            justify-content: flex-start;<br>            width: 100%;<br>        }<br>        .wandb-col {<br>            display: flex;<br>            flex-direction: column;<br>            flex-basis: 100%;<br>            flex: 1;<br>            padding: 10px;<br>        }<br>    </style><br><div class=\"wandb-row\"><div class=\"wandb-col\"><h3>Run history:</h3><br/><table class=\"wandb\"><tr><td>tr_accuracy</td><td>▁█████</td></tr><tr><td>tr_loss_CE</td><td>█▁▁▁▁▁</td></tr><tr><td>tr_loss_SE</td><td>█▂▁▁▁▁</td></tr><tr><td>val_accuracy</td><td>▁█████</td></tr><tr><td>val_loss_CE</td><td>█▁▁▁▁▁</td></tr><tr><td>val_loss_SE</td><td>█▁▁▁▁▁</td></tr></table><br/></div><div class=\"wandb-col\"><h3>Run summary:</h3><br/><table class=\"wandb\"><tr><td>tr_accuracy</td><td>87.63095</td></tr><tr><td>tr_loss_CE</td><td>0.34883</td></tr><tr><td>tr_loss_SE</td><td>0.08962</td></tr><tr><td>val_accuracy</td><td>86.53889</td></tr><tr><td>val_loss_CE</td><td>0.39898</td></tr><tr><td>val_loss_SE</td><td>0.09935</td></tr></table><br/></div></div>"
            ]
          },
          "metadata": {}
        },
        {
          "output_type": "display_data",
          "data": {
            "text/plain": [
              "<IPython.core.display.HTML object>"
            ],
            "text/html": [
              " View run <strong style=\"color:#cdcd00\">e_5_hl_4_hs_64_lr_0.001_opt_rmsprop_bs_32_init_Xavier_ac_tanh_l2_0.0005</strong> at: <a href='https://wandb.ai/arunangshudutta218-iitm/dl_assgn_1_q_8/runs/ckd3otub' target=\"_blank\">https://wandb.ai/arunangshudutta218-iitm/dl_assgn_1_q_8/runs/ckd3otub</a><br> View project at: <a href='https://wandb.ai/arunangshudutta218-iitm/dl_assgn_1_q_8' target=\"_blank\">https://wandb.ai/arunangshudutta218-iitm/dl_assgn_1_q_8</a><br>Synced 5 W&B file(s), 0 media file(s), 0 artifact file(s) and 0 other file(s)"
            ]
          },
          "metadata": {}
        },
        {
          "output_type": "display_data",
          "data": {
            "text/plain": [
              "<IPython.core.display.HTML object>"
            ],
            "text/html": [
              "Find logs at: <code>./wandb/run-20250317_132328-ckd3otub/logs</code>"
            ]
          },
          "metadata": {}
        },
        {
          "output_type": "stream",
          "name": "stderr",
          "text": [
            "\u001b[34m\u001b[1mwandb\u001b[0m: Agent Starting Run: v3uq7sj3 with config:\n",
            "\u001b[34m\u001b[1mwandb\u001b[0m: \tactivation: tanh\n",
            "\u001b[34m\u001b[1mwandb\u001b[0m: \tbatch_size: 32\n",
            "\u001b[34m\u001b[1mwandb\u001b[0m: \tepochs: 5\n",
            "\u001b[34m\u001b[1mwandb\u001b[0m: \thidden_size: 64\n",
            "\u001b[34m\u001b[1mwandb\u001b[0m: \tlearning_rate: 0.001\n",
            "\u001b[34m\u001b[1mwandb\u001b[0m: \tloss_function: cross_entropy\n",
            "\u001b[34m\u001b[1mwandb\u001b[0m: \tnum_layers: 4\n",
            "\u001b[34m\u001b[1mwandb\u001b[0m: \toptimizer: rmsprop\n",
            "\u001b[34m\u001b[1mwandb\u001b[0m: \tweight_decay: 0.5\n",
            "\u001b[34m\u001b[1mwandb\u001b[0m: \tweight_init: Xavier\n"
          ]
        },
        {
          "output_type": "display_data",
          "data": {
            "text/plain": [
              "<IPython.core.display.HTML object>"
            ],
            "text/html": [
              "Tracking run with wandb version 0.19.8"
            ]
          },
          "metadata": {}
        },
        {
          "output_type": "display_data",
          "data": {
            "text/plain": [
              "<IPython.core.display.HTML object>"
            ],
            "text/html": [
              "Run data is saved locally in <code>/content/wandb/run-20250317_132413-v3uq7sj3</code>"
            ]
          },
          "metadata": {}
        },
        {
          "output_type": "display_data",
          "data": {
            "text/plain": [
              "<IPython.core.display.HTML object>"
            ],
            "text/html": [
              "Syncing run <strong><a href='https://wandb.ai/arunangshudutta218-iitm/dl_assgn_1_q_8/runs/v3uq7sj3' target=\"_blank\">wobbly-sweep-3</a></strong> to <a href='https://wandb.ai/arunangshudutta218-iitm/dl_assgn_1_q_8' target=\"_blank\">Weights & Biases</a> (<a href='https://wandb.me/developer-guide' target=\"_blank\">docs</a>)<br>Sweep page: <a href='https://wandb.ai/arunangshudutta218-iitm/dl_assgn_1_q_8/sweeps/28yyx0vh' target=\"_blank\">https://wandb.ai/arunangshudutta218-iitm/dl_assgn_1_q_8/sweeps/28yyx0vh</a>"
            ]
          },
          "metadata": {}
        },
        {
          "output_type": "display_data",
          "data": {
            "text/plain": [
              "<IPython.core.display.HTML object>"
            ],
            "text/html": [
              " View project at <a href='https://wandb.ai/arunangshudutta218-iitm/dl_assgn_1_q_8' target=\"_blank\">https://wandb.ai/arunangshudutta218-iitm/dl_assgn_1_q_8</a>"
            ]
          },
          "metadata": {}
        },
        {
          "output_type": "display_data",
          "data": {
            "text/plain": [
              "<IPython.core.display.HTML object>"
            ],
            "text/html": [
              " View sweep at <a href='https://wandb.ai/arunangshudutta218-iitm/dl_assgn_1_q_8/sweeps/28yyx0vh' target=\"_blank\">https://wandb.ai/arunangshudutta218-iitm/dl_assgn_1_q_8/sweeps/28yyx0vh</a>"
            ]
          },
          "metadata": {}
        },
        {
          "output_type": "display_data",
          "data": {
            "text/plain": [
              "<IPython.core.display.HTML object>"
            ],
            "text/html": [
              " View run at <a href='https://wandb.ai/arunangshudutta218-iitm/dl_assgn_1_q_8/runs/v3uq7sj3' target=\"_blank\">https://wandb.ai/arunangshudutta218-iitm/dl_assgn_1_q_8/runs/v3uq7sj3</a>"
            ]
          },
          "metadata": {}
        },
        {
          "output_type": "stream",
          "name": "stdout",
          "text": [
            "Hyper parameters: \n",
            "\n",
            "Weight initialization type :  Xavier\n",
            "Optimizer :  rmsprop\n",
            "Learning rate (initial):  0.001\n",
            "Batch size:  32\n",
            "-------------------\n",
            "Architecture Description:\n",
            "\n",
            "Layer:  1  ; number of neurons:  64  ; activation function:  tanh\n",
            "Weight matrix dimention (64, 784) Bias vector dimention (64, 1)\n",
            "----------------\n",
            "Layer:  2  ; number of neurons:  64  ; activation function:  tanh\n",
            "Weight matrix dimention (64, 64) Bias vector dimention (64, 1)\n",
            "----------------\n",
            "Layer:  3  ; number of neurons:  64  ; activation function:  tanh\n",
            "Weight matrix dimention (64, 64) Bias vector dimention (64, 1)\n",
            "----------------\n",
            "Layer:  4  ; number of neurons:  64  ; activation function:  tanh\n",
            "Weight matrix dimention (64, 64) Bias vector dimention (64, 1)\n",
            "----------------\n",
            "Layer:  5  ; number of neurons:  10  ; activation function:  softmax\n",
            "Weight matrix dimention (10, 64) Bias vector dimention (10, 1)\n",
            "----------------\n",
            "1312.0\n",
            "\n",
            " Start of training\n",
            "CE Training Loss:  2.2525407306586835 SE Training Loss:  0.44760827365435657 Training Accuracy:  7.34047619047619 CE Test Loss:  2.253205005986488 SE Test Loss:  0.4476611627295223 Testing Accuracy:  7.605555555555555\n",
            "Epoch:  1\n"
          ]
        },
        {
          "output_type": "stream",
          "name": "stderr",
          "text": [
            "100%|██████████| 1312/1312 [00:07<00:00, 180.12it/s]\n"
          ]
        },
        {
          "output_type": "stream",
          "name": "stdout",
          "text": [
            "CE Training Loss:  0.6016020347566335 SE Training Loss:  0.15123784074674046 Training Accuracy:  77.88333333333334 CE Test Loss:  0.6045471494760483 SE Test Loss:  0.15181610761543918 Testing Accuracy:  77.97222222222223\n",
            "Epoch:  2\n"
          ]
        },
        {
          "output_type": "stream",
          "name": "stderr",
          "text": [
            "100%|██████████| 1312/1312 [00:04<00:00, 266.13it/s]\n"
          ]
        },
        {
          "output_type": "stream",
          "name": "stdout",
          "text": [
            "CE Training Loss:  0.5806935286002788 SE Training Loss:  0.14525673062576097 Training Accuracy:  79.34285714285714 CE Test Loss:  0.5834760495839533 SE Test Loss:  0.14572468584238277 Testing Accuracy:  79.43333333333334\n",
            "Epoch:  3\n"
          ]
        },
        {
          "output_type": "stream",
          "name": "stderr",
          "text": [
            "100%|██████████| 1312/1312 [00:07<00:00, 170.92it/s]\n"
          ]
        },
        {
          "output_type": "stream",
          "name": "stdout",
          "text": [
            "CE Training Loss:  0.567312923784186 SE Training Loss:  0.14147453073712463 Training Accuracy:  80.23809523809524 CE Test Loss:  0.5705255589051859 SE Test Loss:  0.14211396103270016 Testing Accuracy:  80.24444444444444\n",
            "Epoch:  4\n"
          ]
        },
        {
          "output_type": "stream",
          "name": "stderr",
          "text": [
            "100%|██████████| 1312/1312 [00:04<00:00, 269.25it/s]\n"
          ]
        },
        {
          "output_type": "stream",
          "name": "stdout",
          "text": [
            "CE Training Loss:  0.5671179612087084 SE Training Loss:  0.14116798452669047 Training Accuracy:  80.34761904761905 CE Test Loss:  0.570373764037257 SE Test Loss:  0.1418913907806816 Testing Accuracy:  80.2611111111111\n",
            "Epoch:  5\n"
          ]
        },
        {
          "output_type": "stream",
          "name": "stderr",
          "text": [
            "100%|██████████| 1312/1312 [00:07<00:00, 177.61it/s]\n"
          ]
        },
        {
          "output_type": "stream",
          "name": "stdout",
          "text": [
            "CE Training Loss:  0.5580429035644924 SE Training Loss:  0.13831811492357401 Training Accuracy:  80.92142857142858 CE Test Loss:  0.5614491441179466 SE Test Loss:  0.1390243196455635 Testing Accuracy:  80.78888888888889\n"
          ]
        },
        {
          "output_type": "display_data",
          "data": {
            "text/plain": [
              "<IPython.core.display.HTML object>"
            ],
            "text/html": []
          },
          "metadata": {}
        },
        {
          "output_type": "display_data",
          "data": {
            "text/plain": [
              "<IPython.core.display.HTML object>"
            ],
            "text/html": [
              "<br>    <style><br>        .wandb-row {<br>            display: flex;<br>            flex-direction: row;<br>            flex-wrap: wrap;<br>            justify-content: flex-start;<br>            width: 100%;<br>        }<br>        .wandb-col {<br>            display: flex;<br>            flex-direction: column;<br>            flex-basis: 100%;<br>            flex: 1;<br>            padding: 10px;<br>        }<br>    </style><br><div class=\"wandb-row\"><div class=\"wandb-col\"><h3>Run history:</h3><br/><table class=\"wandb\"><tr><td>tr_accuracy</td><td>▁█████</td></tr><tr><td>tr_loss_CE</td><td>█▁▁▁▁▁</td></tr><tr><td>tr_loss_SE</td><td>█▁▁▁▁▁</td></tr><tr><td>val_accuracy</td><td>▁█████</td></tr><tr><td>val_loss_CE</td><td>█▁▁▁▁▁</td></tr><tr><td>val_loss_SE</td><td>█▁▁▁▁▁</td></tr></table><br/></div><div class=\"wandb-col\"><h3>Run summary:</h3><br/><table class=\"wandb\"><tr><td>tr_accuracy</td><td>80.92143</td></tr><tr><td>tr_loss_CE</td><td>0.55804</td></tr><tr><td>tr_loss_SE</td><td>0.13832</td></tr><tr><td>val_accuracy</td><td>80.78889</td></tr><tr><td>val_loss_CE</td><td>0.56145</td></tr><tr><td>val_loss_SE</td><td>0.13902</td></tr></table><br/></div></div>"
            ]
          },
          "metadata": {}
        },
        {
          "output_type": "display_data",
          "data": {
            "text/plain": [
              "<IPython.core.display.HTML object>"
            ],
            "text/html": [
              " View run <strong style=\"color:#cdcd00\">e_5_hl_4_hs_64_lr_0.001_opt_rmsprop_bs_32_init_Xavier_ac_tanh_l2_0.5</strong> at: <a href='https://wandb.ai/arunangshudutta218-iitm/dl_assgn_1_q_8/runs/v3uq7sj3' target=\"_blank\">https://wandb.ai/arunangshudutta218-iitm/dl_assgn_1_q_8/runs/v3uq7sj3</a><br> View project at: <a href='https://wandb.ai/arunangshudutta218-iitm/dl_assgn_1_q_8' target=\"_blank\">https://wandb.ai/arunangshudutta218-iitm/dl_assgn_1_q_8</a><br>Synced 5 W&B file(s), 0 media file(s), 0 artifact file(s) and 0 other file(s)"
            ]
          },
          "metadata": {}
        },
        {
          "output_type": "display_data",
          "data": {
            "text/plain": [
              "<IPython.core.display.HTML object>"
            ],
            "text/html": [
              "Find logs at: <code>./wandb/run-20250317_132413-v3uq7sj3/logs</code>"
            ]
          },
          "metadata": {}
        },
        {
          "output_type": "stream",
          "name": "stderr",
          "text": [
            "\u001b[34m\u001b[1mwandb\u001b[0m: Agent Starting Run: pf8btf8b with config:\n",
            "\u001b[34m\u001b[1mwandb\u001b[0m: \tactivation: tanh\n",
            "\u001b[34m\u001b[1mwandb\u001b[0m: \tbatch_size: 32\n",
            "\u001b[34m\u001b[1mwandb\u001b[0m: \tepochs: 5\n",
            "\u001b[34m\u001b[1mwandb\u001b[0m: \thidden_size: 64\n",
            "\u001b[34m\u001b[1mwandb\u001b[0m: \tlearning_rate: 0.001\n",
            "\u001b[34m\u001b[1mwandb\u001b[0m: \tloss_function: cross_entropy\n",
            "\u001b[34m\u001b[1mwandb\u001b[0m: \tnum_layers: 4\n",
            "\u001b[34m\u001b[1mwandb\u001b[0m: \toptimizer: adam\n",
            "\u001b[34m\u001b[1mwandb\u001b[0m: \tweight_decay: 0\n",
            "\u001b[34m\u001b[1mwandb\u001b[0m: \tweight_init: Xavier\n"
          ]
        },
        {
          "output_type": "display_data",
          "data": {
            "text/plain": [
              "<IPython.core.display.HTML object>"
            ],
            "text/html": [
              "Tracking run with wandb version 0.19.8"
            ]
          },
          "metadata": {}
        },
        {
          "output_type": "display_data",
          "data": {
            "text/plain": [
              "<IPython.core.display.HTML object>"
            ],
            "text/html": [
              "Run data is saved locally in <code>/content/wandb/run-20250317_132458-pf8btf8b</code>"
            ]
          },
          "metadata": {}
        },
        {
          "output_type": "display_data",
          "data": {
            "text/plain": [
              "<IPython.core.display.HTML object>"
            ],
            "text/html": [
              "Syncing run <strong><a href='https://wandb.ai/arunangshudutta218-iitm/dl_assgn_1_q_8/runs/pf8btf8b' target=\"_blank\">stoic-sweep-4</a></strong> to <a href='https://wandb.ai/arunangshudutta218-iitm/dl_assgn_1_q_8' target=\"_blank\">Weights & Biases</a> (<a href='https://wandb.me/developer-guide' target=\"_blank\">docs</a>)<br>Sweep page: <a href='https://wandb.ai/arunangshudutta218-iitm/dl_assgn_1_q_8/sweeps/28yyx0vh' target=\"_blank\">https://wandb.ai/arunangshudutta218-iitm/dl_assgn_1_q_8/sweeps/28yyx0vh</a>"
            ]
          },
          "metadata": {}
        },
        {
          "output_type": "display_data",
          "data": {
            "text/plain": [
              "<IPython.core.display.HTML object>"
            ],
            "text/html": [
              " View project at <a href='https://wandb.ai/arunangshudutta218-iitm/dl_assgn_1_q_8' target=\"_blank\">https://wandb.ai/arunangshudutta218-iitm/dl_assgn_1_q_8</a>"
            ]
          },
          "metadata": {}
        },
        {
          "output_type": "display_data",
          "data": {
            "text/plain": [
              "<IPython.core.display.HTML object>"
            ],
            "text/html": [
              " View sweep at <a href='https://wandb.ai/arunangshudutta218-iitm/dl_assgn_1_q_8/sweeps/28yyx0vh' target=\"_blank\">https://wandb.ai/arunangshudutta218-iitm/dl_assgn_1_q_8/sweeps/28yyx0vh</a>"
            ]
          },
          "metadata": {}
        },
        {
          "output_type": "display_data",
          "data": {
            "text/plain": [
              "<IPython.core.display.HTML object>"
            ],
            "text/html": [
              " View run at <a href='https://wandb.ai/arunangshudutta218-iitm/dl_assgn_1_q_8/runs/pf8btf8b' target=\"_blank\">https://wandb.ai/arunangshudutta218-iitm/dl_assgn_1_q_8/runs/pf8btf8b</a>"
            ]
          },
          "metadata": {}
        },
        {
          "output_type": "stream",
          "name": "stdout",
          "text": [
            "Hyper parameters: \n",
            "\n",
            "Weight initialization type :  Xavier\n",
            "Optimizer :  adam\n",
            "Learning rate (initial):  0.001\n",
            "Batch size:  32\n",
            "-------------------\n",
            "Architecture Description:\n",
            "\n",
            "Layer:  1  ; number of neurons:  64  ; activation function:  tanh\n",
            "Weight matrix dimention (64, 784) Bias vector dimention (64, 1)\n",
            "----------------\n",
            "Layer:  2  ; number of neurons:  64  ; activation function:  tanh\n",
            "Weight matrix dimention (64, 64) Bias vector dimention (64, 1)\n",
            "----------------\n",
            "Layer:  3  ; number of neurons:  64  ; activation function:  tanh\n",
            "Weight matrix dimention (64, 64) Bias vector dimention (64, 1)\n",
            "----------------\n",
            "Layer:  4  ; number of neurons:  64  ; activation function:  tanh\n",
            "Weight matrix dimention (64, 64) Bias vector dimention (64, 1)\n",
            "----------------\n",
            "Layer:  5  ; number of neurons:  10  ; activation function:  softmax\n",
            "Weight matrix dimention (10, 64) Bias vector dimention (10, 1)\n",
            "----------------\n",
            "1312.0\n",
            "\n",
            " Start of training\n",
            "CE Training Loss:  2.367334189832244 SE Training Loss:  0.45589999552856064 Training Accuracy:  8.842857142857143 CE Test Loss:  2.3659147083125607 SE Test Loss:  0.4558116133329946 Testing Accuracy:  8.733333333333333\n",
            "Epoch:  1\n"
          ]
        },
        {
          "output_type": "stream",
          "name": "stderr",
          "text": [
            "100%|██████████| 1312/1312 [00:08<00:00, 148.80it/s]\n"
          ]
        },
        {
          "output_type": "stream",
          "name": "stdout",
          "text": [
            "CE Training Loss:  0.4176161101232898 SE Training Loss:  0.10806549225363714 Training Accuracy:  84.88095238095238 CE Test Loss:  0.4322104419155502 SE Test Loss:  0.1104908600586063 Testing Accuracy:  84.63333333333334\n",
            "Epoch:  2\n"
          ]
        },
        {
          "output_type": "stream",
          "name": "stderr",
          "text": [
            "100%|██████████| 1312/1312 [00:07<00:00, 184.39it/s]\n"
          ]
        },
        {
          "output_type": "stream",
          "name": "stdout",
          "text": [
            "CE Training Loss:  0.3686862624304778 SE Training Loss:  0.09430061793643474 Training Accuracy:  86.91666666666667 CE Test Loss:  0.395734003792096 SE Test Loss:  0.09962478886108446 Testing Accuracy:  86.29444444444445\n",
            "Epoch:  3\n"
          ]
        },
        {
          "output_type": "stream",
          "name": "stderr",
          "text": [
            "100%|██████████| 1312/1312 [00:05<00:00, 226.97it/s]\n"
          ]
        },
        {
          "output_type": "stream",
          "name": "stdout",
          "text": [
            "CE Training Loss:  0.34267932886897456 SE Training Loss:  0.08830298303677683 Training Accuracy:  87.73095238095237 CE Test Loss:  0.37874463293391336 SE Test Loss:  0.09569626276784314 Testing Accuracy:  86.79444444444445\n",
            "Epoch:  4\n"
          ]
        },
        {
          "output_type": "stream",
          "name": "stderr",
          "text": [
            "100%|██████████| 1312/1312 [00:08<00:00, 153.11it/s]\n"
          ]
        },
        {
          "output_type": "stream",
          "name": "stdout",
          "text": [
            "CE Training Loss:  0.35230783064238946 SE Training Loss:  0.09007750417532755 Training Accuracy:  87.54047619047618 CE Test Loss:  0.3929233889303621 SE Test Loss:  0.09818482106887785 Testing Accuracy:  86.61111111111111\n",
            "Epoch:  5\n"
          ]
        },
        {
          "output_type": "stream",
          "name": "stderr",
          "text": [
            "100%|██████████| 1312/1312 [00:05<00:00, 222.78it/s]\n"
          ]
        },
        {
          "output_type": "stream",
          "name": "stdout",
          "text": [
            "CE Training Loss:  0.3399627601062014 SE Training Loss:  0.08730257731866672 Training Accuracy:  87.97142857142858 CE Test Loss:  0.3883433098491288 SE Test Loss:  0.09679102094239764 Testing Accuracy:  86.92222222222222\n"
          ]
        },
        {
          "output_type": "display_data",
          "data": {
            "text/plain": [
              "<IPython.core.display.HTML object>"
            ],
            "text/html": []
          },
          "metadata": {}
        },
        {
          "output_type": "display_data",
          "data": {
            "text/plain": [
              "<IPython.core.display.HTML object>"
            ],
            "text/html": [
              "<br>    <style><br>        .wandb-row {<br>            display: flex;<br>            flex-direction: row;<br>            flex-wrap: wrap;<br>            justify-content: flex-start;<br>            width: 100%;<br>        }<br>        .wandb-col {<br>            display: flex;<br>            flex-direction: column;<br>            flex-basis: 100%;<br>            flex: 1;<br>            padding: 10px;<br>        }<br>    </style><br><div class=\"wandb-row\"><div class=\"wandb-col\"><h3>Run history:</h3><br/><table class=\"wandb\"><tr><td>tr_accuracy</td><td>▁█████</td></tr><tr><td>tr_loss_CE</td><td>█▁▁▁▁▁</td></tr><tr><td>tr_loss_SE</td><td>█▁▁▁▁▁</td></tr><tr><td>val_accuracy</td><td>▁█████</td></tr><tr><td>val_loss_CE</td><td>█▁▁▁▁▁</td></tr><tr><td>val_loss_SE</td><td>█▁▁▁▁▁</td></tr></table><br/></div><div class=\"wandb-col\"><h3>Run summary:</h3><br/><table class=\"wandb\"><tr><td>tr_accuracy</td><td>87.97143</td></tr><tr><td>tr_loss_CE</td><td>0.33996</td></tr><tr><td>tr_loss_SE</td><td>0.0873</td></tr><tr><td>val_accuracy</td><td>86.92222</td></tr><tr><td>val_loss_CE</td><td>0.38834</td></tr><tr><td>val_loss_SE</td><td>0.09679</td></tr></table><br/></div></div>"
            ]
          },
          "metadata": {}
        },
        {
          "output_type": "display_data",
          "data": {
            "text/plain": [
              "<IPython.core.display.HTML object>"
            ],
            "text/html": [
              " View run <strong style=\"color:#cdcd00\">e_5_hl_4_hs_64_lr_0.001_opt_adam_bs_32_init_Xavier_ac_tanh_l2_0</strong> at: <a href='https://wandb.ai/arunangshudutta218-iitm/dl_assgn_1_q_8/runs/pf8btf8b' target=\"_blank\">https://wandb.ai/arunangshudutta218-iitm/dl_assgn_1_q_8/runs/pf8btf8b</a><br> View project at: <a href='https://wandb.ai/arunangshudutta218-iitm/dl_assgn_1_q_8' target=\"_blank\">https://wandb.ai/arunangshudutta218-iitm/dl_assgn_1_q_8</a><br>Synced 5 W&B file(s), 0 media file(s), 0 artifact file(s) and 0 other file(s)"
            ]
          },
          "metadata": {}
        },
        {
          "output_type": "display_data",
          "data": {
            "text/plain": [
              "<IPython.core.display.HTML object>"
            ],
            "text/html": [
              "Find logs at: <code>./wandb/run-20250317_132458-pf8btf8b/logs</code>"
            ]
          },
          "metadata": {}
        },
        {
          "output_type": "stream",
          "name": "stderr",
          "text": [
            "\u001b[34m\u001b[1mwandb\u001b[0m: Agent Starting Run: d1kckih0 with config:\n",
            "\u001b[34m\u001b[1mwandb\u001b[0m: \tactivation: tanh\n",
            "\u001b[34m\u001b[1mwandb\u001b[0m: \tbatch_size: 32\n",
            "\u001b[34m\u001b[1mwandb\u001b[0m: \tepochs: 5\n",
            "\u001b[34m\u001b[1mwandb\u001b[0m: \thidden_size: 64\n",
            "\u001b[34m\u001b[1mwandb\u001b[0m: \tlearning_rate: 0.001\n",
            "\u001b[34m\u001b[1mwandb\u001b[0m: \tloss_function: cross_entropy\n",
            "\u001b[34m\u001b[1mwandb\u001b[0m: \tnum_layers: 4\n",
            "\u001b[34m\u001b[1mwandb\u001b[0m: \toptimizer: adam\n",
            "\u001b[34m\u001b[1mwandb\u001b[0m: \tweight_decay: 0.0005\n",
            "\u001b[34m\u001b[1mwandb\u001b[0m: \tweight_init: Xavier\n"
          ]
        },
        {
          "output_type": "display_data",
          "data": {
            "text/plain": [
              "<IPython.core.display.HTML object>"
            ],
            "text/html": [
              "Tracking run with wandb version 0.19.8"
            ]
          },
          "metadata": {}
        },
        {
          "output_type": "display_data",
          "data": {
            "text/plain": [
              "<IPython.core.display.HTML object>"
            ],
            "text/html": [
              "Run data is saved locally in <code>/content/wandb/run-20250317_132548-d1kckih0</code>"
            ]
          },
          "metadata": {}
        },
        {
          "output_type": "display_data",
          "data": {
            "text/plain": [
              "<IPython.core.display.HTML object>"
            ],
            "text/html": [
              "Syncing run <strong><a href='https://wandb.ai/arunangshudutta218-iitm/dl_assgn_1_q_8/runs/d1kckih0' target=\"_blank\">neat-sweep-5</a></strong> to <a href='https://wandb.ai/arunangshudutta218-iitm/dl_assgn_1_q_8' target=\"_blank\">Weights & Biases</a> (<a href='https://wandb.me/developer-guide' target=\"_blank\">docs</a>)<br>Sweep page: <a href='https://wandb.ai/arunangshudutta218-iitm/dl_assgn_1_q_8/sweeps/28yyx0vh' target=\"_blank\">https://wandb.ai/arunangshudutta218-iitm/dl_assgn_1_q_8/sweeps/28yyx0vh</a>"
            ]
          },
          "metadata": {}
        },
        {
          "output_type": "display_data",
          "data": {
            "text/plain": [
              "<IPython.core.display.HTML object>"
            ],
            "text/html": [
              " View project at <a href='https://wandb.ai/arunangshudutta218-iitm/dl_assgn_1_q_8' target=\"_blank\">https://wandb.ai/arunangshudutta218-iitm/dl_assgn_1_q_8</a>"
            ]
          },
          "metadata": {}
        },
        {
          "output_type": "display_data",
          "data": {
            "text/plain": [
              "<IPython.core.display.HTML object>"
            ],
            "text/html": [
              " View sweep at <a href='https://wandb.ai/arunangshudutta218-iitm/dl_assgn_1_q_8/sweeps/28yyx0vh' target=\"_blank\">https://wandb.ai/arunangshudutta218-iitm/dl_assgn_1_q_8/sweeps/28yyx0vh</a>"
            ]
          },
          "metadata": {}
        },
        {
          "output_type": "display_data",
          "data": {
            "text/plain": [
              "<IPython.core.display.HTML object>"
            ],
            "text/html": [
              " View run at <a href='https://wandb.ai/arunangshudutta218-iitm/dl_assgn_1_q_8/runs/d1kckih0' target=\"_blank\">https://wandb.ai/arunangshudutta218-iitm/dl_assgn_1_q_8/runs/d1kckih0</a>"
            ]
          },
          "metadata": {}
        },
        {
          "output_type": "stream",
          "name": "stdout",
          "text": [
            "Hyper parameters: \n",
            "\n",
            "Weight initialization type :  Xavier\n",
            "Optimizer :  adam\n",
            "Learning rate (initial):  0.001\n",
            "Batch size:  32\n",
            "-------------------\n",
            "Architecture Description:\n",
            "\n",
            "Layer:  1  ; number of neurons:  64  ; activation function:  tanh\n",
            "Weight matrix dimention (64, 784) Bias vector dimention (64, 1)\n",
            "----------------\n",
            "Layer:  2  ; number of neurons:  64  ; activation function:  tanh\n",
            "Weight matrix dimention (64, 64) Bias vector dimention (64, 1)\n",
            "----------------\n",
            "Layer:  3  ; number of neurons:  64  ; activation function:  tanh\n",
            "Weight matrix dimention (64, 64) Bias vector dimention (64, 1)\n",
            "----------------\n",
            "Layer:  4  ; number of neurons:  64  ; activation function:  tanh\n",
            "Weight matrix dimention (64, 64) Bias vector dimention (64, 1)\n",
            "----------------\n",
            "Layer:  5  ; number of neurons:  10  ; activation function:  softmax\n",
            "Weight matrix dimention (10, 64) Bias vector dimention (10, 1)\n",
            "----------------\n",
            "1312.0\n",
            "\n",
            " Start of training\n",
            "CE Training Loss:  2.3251098566960775 SE Training Loss:  0.4513323882358612 Training Accuracy:  14.888095238095238 CE Test Loss:  2.3232633377267216 SE Test Loss:  0.45115631261638356 Testing Accuracy:  14.672222222222222\n",
            "Epoch:  1\n"
          ]
        },
        {
          "output_type": "stream",
          "name": "stderr",
          "text": [
            "100%|██████████| 1312/1312 [00:05<00:00, 224.59it/s]\n"
          ]
        },
        {
          "output_type": "stream",
          "name": "stdout",
          "text": [
            "CE Training Loss:  0.43914641197933 SE Training Loss:  0.1125218593946983 Training Accuracy:  84.16666666666667 CE Test Loss:  0.4483152346677464 SE Test Loss:  0.114240314472195 Testing Accuracy:  83.97777777777777\n",
            "Epoch:  2\n"
          ]
        },
        {
          "output_type": "stream",
          "name": "stderr",
          "text": [
            "100%|██████████| 1312/1312 [00:08<00:00, 163.02it/s]\n"
          ]
        },
        {
          "output_type": "stream",
          "name": "stdout",
          "text": [
            "CE Training Loss:  0.3733752998517749 SE Training Loss:  0.09606954995563817 Training Accuracy:  86.55714285714286 CE Test Loss:  0.39623260117148074 SE Test Loss:  0.10075517413491711 Testing Accuracy:  85.9888888888889\n",
            "Epoch:  3\n"
          ]
        },
        {
          "output_type": "stream",
          "name": "stderr",
          "text": [
            "100%|██████████| 1312/1312 [00:07<00:00, 170.82it/s]\n"
          ]
        },
        {
          "output_type": "stream",
          "name": "stdout",
          "text": [
            "CE Training Loss:  0.3455587203850888 SE Training Loss:  0.08897910710367682 Training Accuracy:  87.72380952380952 CE Test Loss:  0.38111008815078323 SE Test Loss:  0.09657316472572558 Testing Accuracy:  86.4888888888889\n",
            "Epoch:  4\n"
          ]
        },
        {
          "output_type": "stream",
          "name": "stderr",
          "text": [
            "100%|██████████| 1312/1312 [00:05<00:00, 225.26it/s]\n"
          ]
        },
        {
          "output_type": "stream",
          "name": "stdout",
          "text": [
            "CE Training Loss:  0.33249420129466456 SE Training Loss:  0.0857675015138064 Training Accuracy:  88.17380952380952 CE Test Loss:  0.3783190510808772 SE Test Loss:  0.09540823422030477 Testing Accuracy:  86.7\n",
            "Epoch:  5\n"
          ]
        },
        {
          "output_type": "stream",
          "name": "stderr",
          "text": [
            "100%|██████████| 1312/1312 [00:08<00:00, 157.59it/s]\n"
          ]
        },
        {
          "output_type": "stream",
          "name": "stdout",
          "text": [
            "CE Training Loss:  0.3298679347164885 SE Training Loss:  0.08561538562880915 Training Accuracy:  88.22619047619048 CE Test Loss:  0.3858333413471239 SE Test Loss:  0.09688089183055928 Testing Accuracy:  86.61666666666666\n"
          ]
        },
        {
          "output_type": "display_data",
          "data": {
            "text/plain": [
              "<IPython.core.display.HTML object>"
            ],
            "text/html": []
          },
          "metadata": {}
        },
        {
          "output_type": "display_data",
          "data": {
            "text/plain": [
              "<IPython.core.display.HTML object>"
            ],
            "text/html": [
              "<br>    <style><br>        .wandb-row {<br>            display: flex;<br>            flex-direction: row;<br>            flex-wrap: wrap;<br>            justify-content: flex-start;<br>            width: 100%;<br>        }<br>        .wandb-col {<br>            display: flex;<br>            flex-direction: column;<br>            flex-basis: 100%;<br>            flex: 1;<br>            padding: 10px;<br>        }<br>    </style><br><div class=\"wandb-row\"><div class=\"wandb-col\"><h3>Run history:</h3><br/><table class=\"wandb\"><tr><td>tr_accuracy</td><td>▁█████</td></tr><tr><td>tr_loss_CE</td><td>█▁▁▁▁▁</td></tr><tr><td>tr_loss_SE</td><td>█▂▁▁▁▁</td></tr><tr><td>val_accuracy</td><td>▁█████</td></tr><tr><td>val_loss_CE</td><td>█▁▁▁▁▁</td></tr><tr><td>val_loss_SE</td><td>█▁▁▁▁▁</td></tr></table><br/></div><div class=\"wandb-col\"><h3>Run summary:</h3><br/><table class=\"wandb\"><tr><td>tr_accuracy</td><td>88.22619</td></tr><tr><td>tr_loss_CE</td><td>0.32987</td></tr><tr><td>tr_loss_SE</td><td>0.08562</td></tr><tr><td>val_accuracy</td><td>86.61667</td></tr><tr><td>val_loss_CE</td><td>0.38583</td></tr><tr><td>val_loss_SE</td><td>0.09688</td></tr></table><br/></div></div>"
            ]
          },
          "metadata": {}
        },
        {
          "output_type": "display_data",
          "data": {
            "text/plain": [
              "<IPython.core.display.HTML object>"
            ],
            "text/html": [
              " View run <strong style=\"color:#cdcd00\">e_5_hl_4_hs_64_lr_0.001_opt_adam_bs_32_init_Xavier_ac_tanh_l2_0.0005</strong> at: <a href='https://wandb.ai/arunangshudutta218-iitm/dl_assgn_1_q_8/runs/d1kckih0' target=\"_blank\">https://wandb.ai/arunangshudutta218-iitm/dl_assgn_1_q_8/runs/d1kckih0</a><br> View project at: <a href='https://wandb.ai/arunangshudutta218-iitm/dl_assgn_1_q_8' target=\"_blank\">https://wandb.ai/arunangshudutta218-iitm/dl_assgn_1_q_8</a><br>Synced 5 W&B file(s), 0 media file(s), 0 artifact file(s) and 0 other file(s)"
            ]
          },
          "metadata": {}
        },
        {
          "output_type": "display_data",
          "data": {
            "text/plain": [
              "<IPython.core.display.HTML object>"
            ],
            "text/html": [
              "Find logs at: <code>./wandb/run-20250317_132548-d1kckih0/logs</code>"
            ]
          },
          "metadata": {}
        },
        {
          "output_type": "stream",
          "name": "stderr",
          "text": [
            "\u001b[34m\u001b[1mwandb\u001b[0m: Agent Starting Run: fui0p5uw with config:\n",
            "\u001b[34m\u001b[1mwandb\u001b[0m: \tactivation: tanh\n",
            "\u001b[34m\u001b[1mwandb\u001b[0m: \tbatch_size: 32\n",
            "\u001b[34m\u001b[1mwandb\u001b[0m: \tepochs: 5\n",
            "\u001b[34m\u001b[1mwandb\u001b[0m: \thidden_size: 64\n",
            "\u001b[34m\u001b[1mwandb\u001b[0m: \tlearning_rate: 0.001\n",
            "\u001b[34m\u001b[1mwandb\u001b[0m: \tloss_function: cross_entropy\n",
            "\u001b[34m\u001b[1mwandb\u001b[0m: \tnum_layers: 4\n",
            "\u001b[34m\u001b[1mwandb\u001b[0m: \toptimizer: adam\n",
            "\u001b[34m\u001b[1mwandb\u001b[0m: \tweight_decay: 0.5\n",
            "\u001b[34m\u001b[1mwandb\u001b[0m: \tweight_init: Xavier\n"
          ]
        },
        {
          "output_type": "display_data",
          "data": {
            "text/plain": [
              "<IPython.core.display.HTML object>"
            ],
            "text/html": [
              "Tracking run with wandb version 0.19.8"
            ]
          },
          "metadata": {}
        },
        {
          "output_type": "display_data",
          "data": {
            "text/plain": [
              "<IPython.core.display.HTML object>"
            ],
            "text/html": [
              "Run data is saved locally in <code>/content/wandb/run-20250317_132639-fui0p5uw</code>"
            ]
          },
          "metadata": {}
        },
        {
          "output_type": "display_data",
          "data": {
            "text/plain": [
              "<IPython.core.display.HTML object>"
            ],
            "text/html": [
              "Syncing run <strong><a href='https://wandb.ai/arunangshudutta218-iitm/dl_assgn_1_q_8/runs/fui0p5uw' target=\"_blank\">apricot-sweep-6</a></strong> to <a href='https://wandb.ai/arunangshudutta218-iitm/dl_assgn_1_q_8' target=\"_blank\">Weights & Biases</a> (<a href='https://wandb.me/developer-guide' target=\"_blank\">docs</a>)<br>Sweep page: <a href='https://wandb.ai/arunangshudutta218-iitm/dl_assgn_1_q_8/sweeps/28yyx0vh' target=\"_blank\">https://wandb.ai/arunangshudutta218-iitm/dl_assgn_1_q_8/sweeps/28yyx0vh</a>"
            ]
          },
          "metadata": {}
        },
        {
          "output_type": "display_data",
          "data": {
            "text/plain": [
              "<IPython.core.display.HTML object>"
            ],
            "text/html": [
              " View project at <a href='https://wandb.ai/arunangshudutta218-iitm/dl_assgn_1_q_8' target=\"_blank\">https://wandb.ai/arunangshudutta218-iitm/dl_assgn_1_q_8</a>"
            ]
          },
          "metadata": {}
        },
        {
          "output_type": "display_data",
          "data": {
            "text/plain": [
              "<IPython.core.display.HTML object>"
            ],
            "text/html": [
              " View sweep at <a href='https://wandb.ai/arunangshudutta218-iitm/dl_assgn_1_q_8/sweeps/28yyx0vh' target=\"_blank\">https://wandb.ai/arunangshudutta218-iitm/dl_assgn_1_q_8/sweeps/28yyx0vh</a>"
            ]
          },
          "metadata": {}
        },
        {
          "output_type": "display_data",
          "data": {
            "text/plain": [
              "<IPython.core.display.HTML object>"
            ],
            "text/html": [
              " View run at <a href='https://wandb.ai/arunangshudutta218-iitm/dl_assgn_1_q_8/runs/fui0p5uw' target=\"_blank\">https://wandb.ai/arunangshudutta218-iitm/dl_assgn_1_q_8/runs/fui0p5uw</a>"
            ]
          },
          "metadata": {}
        },
        {
          "output_type": "stream",
          "name": "stdout",
          "text": [
            "Hyper parameters: \n",
            "\n",
            "Weight initialization type :  Xavier\n",
            "Optimizer :  adam\n",
            "Learning rate (initial):  0.001\n",
            "Batch size:  32\n",
            "-------------------\n",
            "Architecture Description:\n",
            "\n",
            "Layer:  1  ; number of neurons:  64  ; activation function:  tanh\n",
            "Weight matrix dimention (64, 784) Bias vector dimention (64, 1)\n",
            "----------------\n",
            "Layer:  2  ; number of neurons:  64  ; activation function:  tanh\n",
            "Weight matrix dimention (64, 64) Bias vector dimention (64, 1)\n",
            "----------------\n",
            "Layer:  3  ; number of neurons:  64  ; activation function:  tanh\n",
            "Weight matrix dimention (64, 64) Bias vector dimention (64, 1)\n",
            "----------------\n",
            "Layer:  4  ; number of neurons:  64  ; activation function:  tanh\n",
            "Weight matrix dimention (64, 64) Bias vector dimention (64, 1)\n",
            "----------------\n",
            "Layer:  5  ; number of neurons:  10  ; activation function:  softmax\n",
            "Weight matrix dimention (10, 64) Bias vector dimention (10, 1)\n",
            "----------------\n",
            "1312.0\n",
            "\n",
            " Start of training\n",
            "CE Training Loss:  2.3738485648635 SE Training Loss:  0.4597866595143784 Training Accuracy:  6.919047619047619 CE Test Loss:  2.3719417971313983 SE Test Loss:  0.4596126296575995 Testing Accuracy:  6.983333333333333\n",
            "Epoch:  1\n"
          ]
        },
        {
          "output_type": "stream",
          "name": "stderr",
          "text": [
            "100%|██████████| 1312/1312 [00:07<00:00, 169.91it/s]\n"
          ]
        },
        {
          "output_type": "stream",
          "name": "stdout",
          "text": [
            "CE Training Loss:  0.5841737202852851 SE Training Loss:  0.14214271988182262 Training Accuracy:  80.17619047619047 CE Test Loss:  0.5858672987264371 SE Test Loss:  0.14241802958341096 Testing Accuracy:  80.41111111111111\n",
            "Epoch:  2\n"
          ]
        },
        {
          "output_type": "stream",
          "name": "stderr",
          "text": [
            "100%|██████████| 1312/1312 [00:07<00:00, 178.97it/s]\n"
          ]
        },
        {
          "output_type": "stream",
          "name": "stdout",
          "text": [
            "CE Training Loss:  0.5700971885332943 SE Training Loss:  0.13810698236864113 Training Accuracy:  80.9952380952381 CE Test Loss:  0.5725054297127723 SE Test Loss:  0.13851504780359325 Testing Accuracy:  81.06111111111112\n",
            "Epoch:  3\n"
          ]
        },
        {
          "output_type": "stream",
          "name": "stderr",
          "text": [
            "100%|██████████| 1312/1312 [00:05<00:00, 223.65it/s]\n"
          ]
        },
        {
          "output_type": "stream",
          "name": "stdout",
          "text": [
            "CE Training Loss:  0.5648232748806461 SE Training Loss:  0.13628467995876617 Training Accuracy:  81.20476190476191 CE Test Loss:  0.5669639009823606 SE Test Loss:  0.13662981881060812 Testing Accuracy:  81.32222222222222\n",
            "Epoch:  4\n"
          ]
        },
        {
          "output_type": "stream",
          "name": "stderr",
          "text": [
            "100%|██████████| 1312/1312 [00:08<00:00, 156.59it/s]\n"
          ]
        },
        {
          "output_type": "stream",
          "name": "stdout",
          "text": [
            "CE Training Loss:  0.5587295807375058 SE Training Loss:  0.1346023344744257 Training Accuracy:  81.52142857142857 CE Test Loss:  0.5613488258434622 SE Test Loss:  0.13504063342199393 Testing Accuracy:  81.58333333333333\n",
            "Epoch:  5\n"
          ]
        },
        {
          "output_type": "stream",
          "name": "stderr",
          "text": [
            "100%|██████████| 1312/1312 [00:05<00:00, 225.41it/s]\n"
          ]
        },
        {
          "output_type": "stream",
          "name": "stdout",
          "text": [
            "CE Training Loss:  0.5584359351578857 SE Training Loss:  0.13434772231952596 Training Accuracy:  81.53333333333333 CE Test Loss:  0.5613768637837748 SE Test Loss:  0.13488703252332787 Testing Accuracy:  81.55555555555556\n"
          ]
        },
        {
          "output_type": "display_data",
          "data": {
            "text/plain": [
              "<IPython.core.display.HTML object>"
            ],
            "text/html": []
          },
          "metadata": {}
        },
        {
          "output_type": "display_data",
          "data": {
            "text/plain": [
              "<IPython.core.display.HTML object>"
            ],
            "text/html": [
              "<br>    <style><br>        .wandb-row {<br>            display: flex;<br>            flex-direction: row;<br>            flex-wrap: wrap;<br>            justify-content: flex-start;<br>            width: 100%;<br>        }<br>        .wandb-col {<br>            display: flex;<br>            flex-direction: column;<br>            flex-basis: 100%;<br>            flex: 1;<br>            padding: 10px;<br>        }<br>    </style><br><div class=\"wandb-row\"><div class=\"wandb-col\"><h3>Run history:</h3><br/><table class=\"wandb\"><tr><td>tr_accuracy</td><td>▁█████</td></tr><tr><td>tr_loss_CE</td><td>█▁▁▁▁▁</td></tr><tr><td>tr_loss_SE</td><td>█▁▁▁▁▁</td></tr><tr><td>val_accuracy</td><td>▁█████</td></tr><tr><td>val_loss_CE</td><td>█▁▁▁▁▁</td></tr><tr><td>val_loss_SE</td><td>█▁▁▁▁▁</td></tr></table><br/></div><div class=\"wandb-col\"><h3>Run summary:</h3><br/><table class=\"wandb\"><tr><td>tr_accuracy</td><td>81.53333</td></tr><tr><td>tr_loss_CE</td><td>0.55844</td></tr><tr><td>tr_loss_SE</td><td>0.13435</td></tr><tr><td>val_accuracy</td><td>81.55556</td></tr><tr><td>val_loss_CE</td><td>0.56138</td></tr><tr><td>val_loss_SE</td><td>0.13489</td></tr></table><br/></div></div>"
            ]
          },
          "metadata": {}
        },
        {
          "output_type": "display_data",
          "data": {
            "text/plain": [
              "<IPython.core.display.HTML object>"
            ],
            "text/html": [
              " View run <strong style=\"color:#cdcd00\">e_5_hl_4_hs_64_lr_0.001_opt_adam_bs_32_init_Xavier_ac_tanh_l2_0.5</strong> at: <a href='https://wandb.ai/arunangshudutta218-iitm/dl_assgn_1_q_8/runs/fui0p5uw' target=\"_blank\">https://wandb.ai/arunangshudutta218-iitm/dl_assgn_1_q_8/runs/fui0p5uw</a><br> View project at: <a href='https://wandb.ai/arunangshudutta218-iitm/dl_assgn_1_q_8' target=\"_blank\">https://wandb.ai/arunangshudutta218-iitm/dl_assgn_1_q_8</a><br>Synced 5 W&B file(s), 0 media file(s), 0 artifact file(s) and 0 other file(s)"
            ]
          },
          "metadata": {}
        },
        {
          "output_type": "display_data",
          "data": {
            "text/plain": [
              "<IPython.core.display.HTML object>"
            ],
            "text/html": [
              "Find logs at: <code>./wandb/run-20250317_132639-fui0p5uw/logs</code>"
            ]
          },
          "metadata": {}
        },
        {
          "output_type": "stream",
          "name": "stderr",
          "text": [
            "\u001b[34m\u001b[1mwandb\u001b[0m: Agent Starting Run: 6fmjsr1n with config:\n",
            "\u001b[34m\u001b[1mwandb\u001b[0m: \tactivation: tanh\n",
            "\u001b[34m\u001b[1mwandb\u001b[0m: \tbatch_size: 32\n",
            "\u001b[34m\u001b[1mwandb\u001b[0m: \tepochs: 5\n",
            "\u001b[34m\u001b[1mwandb\u001b[0m: \thidden_size: 64\n",
            "\u001b[34m\u001b[1mwandb\u001b[0m: \tlearning_rate: 0.001\n",
            "\u001b[34m\u001b[1mwandb\u001b[0m: \tloss_function: cross_entropy\n",
            "\u001b[34m\u001b[1mwandb\u001b[0m: \tnum_layers: 4\n",
            "\u001b[34m\u001b[1mwandb\u001b[0m: \toptimizer: nadam\n",
            "\u001b[34m\u001b[1mwandb\u001b[0m: \tweight_decay: 0\n",
            "\u001b[34m\u001b[1mwandb\u001b[0m: \tweight_init: Xavier\n"
          ]
        },
        {
          "output_type": "display_data",
          "data": {
            "text/plain": [
              "<IPython.core.display.HTML object>"
            ],
            "text/html": [
              "Tracking run with wandb version 0.19.8"
            ]
          },
          "metadata": {}
        },
        {
          "output_type": "display_data",
          "data": {
            "text/plain": [
              "<IPython.core.display.HTML object>"
            ],
            "text/html": [
              "Run data is saved locally in <code>/content/wandb/run-20250317_132729-6fmjsr1n</code>"
            ]
          },
          "metadata": {}
        },
        {
          "output_type": "display_data",
          "data": {
            "text/plain": [
              "<IPython.core.display.HTML object>"
            ],
            "text/html": [
              "Syncing run <strong><a href='https://wandb.ai/arunangshudutta218-iitm/dl_assgn_1_q_8/runs/6fmjsr1n' target=\"_blank\">skilled-sweep-7</a></strong> to <a href='https://wandb.ai/arunangshudutta218-iitm/dl_assgn_1_q_8' target=\"_blank\">Weights & Biases</a> (<a href='https://wandb.me/developer-guide' target=\"_blank\">docs</a>)<br>Sweep page: <a href='https://wandb.ai/arunangshudutta218-iitm/dl_assgn_1_q_8/sweeps/28yyx0vh' target=\"_blank\">https://wandb.ai/arunangshudutta218-iitm/dl_assgn_1_q_8/sweeps/28yyx0vh</a>"
            ]
          },
          "metadata": {}
        },
        {
          "output_type": "display_data",
          "data": {
            "text/plain": [
              "<IPython.core.display.HTML object>"
            ],
            "text/html": [
              " View project at <a href='https://wandb.ai/arunangshudutta218-iitm/dl_assgn_1_q_8' target=\"_blank\">https://wandb.ai/arunangshudutta218-iitm/dl_assgn_1_q_8</a>"
            ]
          },
          "metadata": {}
        },
        {
          "output_type": "display_data",
          "data": {
            "text/plain": [
              "<IPython.core.display.HTML object>"
            ],
            "text/html": [
              " View sweep at <a href='https://wandb.ai/arunangshudutta218-iitm/dl_assgn_1_q_8/sweeps/28yyx0vh' target=\"_blank\">https://wandb.ai/arunangshudutta218-iitm/dl_assgn_1_q_8/sweeps/28yyx0vh</a>"
            ]
          },
          "metadata": {}
        },
        {
          "output_type": "display_data",
          "data": {
            "text/plain": [
              "<IPython.core.display.HTML object>"
            ],
            "text/html": [
              " View run at <a href='https://wandb.ai/arunangshudutta218-iitm/dl_assgn_1_q_8/runs/6fmjsr1n' target=\"_blank\">https://wandb.ai/arunangshudutta218-iitm/dl_assgn_1_q_8/runs/6fmjsr1n</a>"
            ]
          },
          "metadata": {}
        },
        {
          "output_type": "stream",
          "name": "stdout",
          "text": [
            "Hyper parameters: \n",
            "\n",
            "Weight initialization type :  Xavier\n",
            "Optimizer :  nadam\n",
            "Learning rate (initial):  0.001\n",
            "Batch size:  32\n",
            "-------------------\n",
            "Architecture Description:\n",
            "\n",
            "Layer:  1  ; number of neurons:  64  ; activation function:  tanh\n",
            "Weight matrix dimention (64, 784) Bias vector dimention (64, 1)\n",
            "----------------\n",
            "Layer:  2  ; number of neurons:  64  ; activation function:  tanh\n",
            "Weight matrix dimention (64, 64) Bias vector dimention (64, 1)\n",
            "----------------\n",
            "Layer:  3  ; number of neurons:  64  ; activation function:  tanh\n",
            "Weight matrix dimention (64, 64) Bias vector dimention (64, 1)\n",
            "----------------\n",
            "Layer:  4  ; number of neurons:  64  ; activation function:  tanh\n",
            "Weight matrix dimention (64, 64) Bias vector dimention (64, 1)\n",
            "----------------\n",
            "Layer:  5  ; number of neurons:  10  ; activation function:  softmax\n",
            "Weight matrix dimention (10, 64) Bias vector dimention (10, 1)\n",
            "----------------\n",
            "1312.0\n",
            "\n",
            " Start of training\n",
            "CE Training Loss:  2.4195202899101673 SE Training Loss:  0.4697672350447615 Training Accuracy:  4.869047619047619 CE Test Loss:  2.4220008874791445 SE Test Loss:  0.4700090819169826 Testing Accuracy:  4.794444444444444\n",
            "Epoch:  1\n"
          ]
        },
        {
          "output_type": "stream",
          "name": "stderr",
          "text": [
            "100%|██████████| 1312/1312 [00:07<00:00, 177.65it/s]\n"
          ]
        },
        {
          "output_type": "stream",
          "name": "stdout",
          "text": [
            "CE Training Loss:  0.42866095755099837 SE Training Loss:  0.11095642960333445 Training Accuracy:  84.40714285714286 CE Test Loss:  0.43929940028983316 SE Test Loss:  0.11302366101080065 Testing Accuracy:  84.16111111111111\n",
            "Epoch:  2\n"
          ]
        },
        {
          "output_type": "stream",
          "name": "stderr",
          "text": [
            "100%|██████████| 1312/1312 [00:06<00:00, 207.89it/s]\n"
          ]
        },
        {
          "output_type": "stream",
          "name": "stdout",
          "text": [
            "CE Training Loss:  0.3812920908452503 SE Training Loss:  0.09895473270958276 Training Accuracy:  86.17619047619047 CE Test Loss:  0.4050116002553513 SE Test Loss:  0.10397669603790238 Testing Accuracy:  85.53888888888889\n",
            "Epoch:  3\n"
          ]
        },
        {
          "output_type": "stream",
          "name": "stderr",
          "text": [
            "100%|██████████| 1312/1312 [00:08<00:00, 153.53it/s]\n"
          ]
        },
        {
          "output_type": "stream",
          "name": "stdout",
          "text": [
            "CE Training Loss:  0.35918918368666153 SE Training Loss:  0.09325580500966482 Training Accuracy:  87.08333333333333 CE Test Loss:  0.3922691750341287 SE Test Loss:  0.09994918228382746 Testing Accuracy:  86.09444444444445\n",
            "Epoch:  4\n"
          ]
        },
        {
          "output_type": "stream",
          "name": "stderr",
          "text": [
            "100%|██████████| 1312/1312 [00:06<00:00, 211.55it/s]\n"
          ]
        },
        {
          "output_type": "stream",
          "name": "stdout",
          "text": [
            "CE Training Loss:  0.3451560799300643 SE Training Loss:  0.08928090874231115 Training Accuracy:  87.6452380952381 CE Test Loss:  0.3852665044972165 SE Test Loss:  0.097513515181984 Testing Accuracy:  86.63888888888889\n",
            "Epoch:  5\n"
          ]
        },
        {
          "output_type": "stream",
          "name": "stderr",
          "text": [
            "100%|██████████| 1312/1312 [00:07<00:00, 177.89it/s]\n"
          ]
        },
        {
          "output_type": "stream",
          "name": "stdout",
          "text": [
            "CE Training Loss:  0.33362262490353684 SE Training Loss:  0.08613746782921755 Training Accuracy:  88.18333333333334 CE Test Loss:  0.38219062119115127 SE Test Loss:  0.09611788509186285 Testing Accuracy:  86.92222222222222\n"
          ]
        },
        {
          "output_type": "display_data",
          "data": {
            "text/plain": [
              "<IPython.core.display.HTML object>"
            ],
            "text/html": []
          },
          "metadata": {}
        },
        {
          "output_type": "display_data",
          "data": {
            "text/plain": [
              "<IPython.core.display.HTML object>"
            ],
            "text/html": [
              "<br>    <style><br>        .wandb-row {<br>            display: flex;<br>            flex-direction: row;<br>            flex-wrap: wrap;<br>            justify-content: flex-start;<br>            width: 100%;<br>        }<br>        .wandb-col {<br>            display: flex;<br>            flex-direction: column;<br>            flex-basis: 100%;<br>            flex: 1;<br>            padding: 10px;<br>        }<br>    </style><br><div class=\"wandb-row\"><div class=\"wandb-col\"><h3>Run history:</h3><br/><table class=\"wandb\"><tr><td>tr_accuracy</td><td>▁█████</td></tr><tr><td>tr_loss_CE</td><td>█▁▁▁▁▁</td></tr><tr><td>tr_loss_SE</td><td>█▁▁▁▁▁</td></tr><tr><td>val_accuracy</td><td>▁█████</td></tr><tr><td>val_loss_CE</td><td>█▁▁▁▁▁</td></tr><tr><td>val_loss_SE</td><td>█▁▁▁▁▁</td></tr></table><br/></div><div class=\"wandb-col\"><h3>Run summary:</h3><br/><table class=\"wandb\"><tr><td>tr_accuracy</td><td>88.18333</td></tr><tr><td>tr_loss_CE</td><td>0.33362</td></tr><tr><td>tr_loss_SE</td><td>0.08614</td></tr><tr><td>val_accuracy</td><td>86.92222</td></tr><tr><td>val_loss_CE</td><td>0.38219</td></tr><tr><td>val_loss_SE</td><td>0.09612</td></tr></table><br/></div></div>"
            ]
          },
          "metadata": {}
        },
        {
          "output_type": "display_data",
          "data": {
            "text/plain": [
              "<IPython.core.display.HTML object>"
            ],
            "text/html": [
              " View run <strong style=\"color:#cdcd00\">e_5_hl_4_hs_64_lr_0.001_opt_nadam_bs_32_init_Xavier_ac_tanh_l2_0</strong> at: <a href='https://wandb.ai/arunangshudutta218-iitm/dl_assgn_1_q_8/runs/6fmjsr1n' target=\"_blank\">https://wandb.ai/arunangshudutta218-iitm/dl_assgn_1_q_8/runs/6fmjsr1n</a><br> View project at: <a href='https://wandb.ai/arunangshudutta218-iitm/dl_assgn_1_q_8' target=\"_blank\">https://wandb.ai/arunangshudutta218-iitm/dl_assgn_1_q_8</a><br>Synced 5 W&B file(s), 0 media file(s), 0 artifact file(s) and 0 other file(s)"
            ]
          },
          "metadata": {}
        },
        {
          "output_type": "display_data",
          "data": {
            "text/plain": [
              "<IPython.core.display.HTML object>"
            ],
            "text/html": [
              "Find logs at: <code>./wandb/run-20250317_132729-6fmjsr1n/logs</code>"
            ]
          },
          "metadata": {}
        },
        {
          "output_type": "stream",
          "name": "stderr",
          "text": [
            "\u001b[34m\u001b[1mwandb\u001b[0m: Agent Starting Run: ax9r1gak with config:\n",
            "\u001b[34m\u001b[1mwandb\u001b[0m: \tactivation: tanh\n",
            "\u001b[34m\u001b[1mwandb\u001b[0m: \tbatch_size: 32\n",
            "\u001b[34m\u001b[1mwandb\u001b[0m: \tepochs: 5\n",
            "\u001b[34m\u001b[1mwandb\u001b[0m: \thidden_size: 64\n",
            "\u001b[34m\u001b[1mwandb\u001b[0m: \tlearning_rate: 0.001\n",
            "\u001b[34m\u001b[1mwandb\u001b[0m: \tloss_function: cross_entropy\n",
            "\u001b[34m\u001b[1mwandb\u001b[0m: \tnum_layers: 4\n",
            "\u001b[34m\u001b[1mwandb\u001b[0m: \toptimizer: nadam\n",
            "\u001b[34m\u001b[1mwandb\u001b[0m: \tweight_decay: 0.0005\n",
            "\u001b[34m\u001b[1mwandb\u001b[0m: \tweight_init: Xavier\n"
          ]
        },
        {
          "output_type": "display_data",
          "data": {
            "text/plain": [
              "<IPython.core.display.HTML object>"
            ],
            "text/html": [
              "Tracking run with wandb version 0.19.8"
            ]
          },
          "metadata": {}
        },
        {
          "output_type": "display_data",
          "data": {
            "text/plain": [
              "<IPython.core.display.HTML object>"
            ],
            "text/html": [
              "Run data is saved locally in <code>/content/wandb/run-20250317_132820-ax9r1gak</code>"
            ]
          },
          "metadata": {}
        },
        {
          "output_type": "display_data",
          "data": {
            "text/plain": [
              "<IPython.core.display.HTML object>"
            ],
            "text/html": [
              "Syncing run <strong><a href='https://wandb.ai/arunangshudutta218-iitm/dl_assgn_1_q_8/runs/ax9r1gak' target=\"_blank\">scarlet-sweep-8</a></strong> to <a href='https://wandb.ai/arunangshudutta218-iitm/dl_assgn_1_q_8' target=\"_blank\">Weights & Biases</a> (<a href='https://wandb.me/developer-guide' target=\"_blank\">docs</a>)<br>Sweep page: <a href='https://wandb.ai/arunangshudutta218-iitm/dl_assgn_1_q_8/sweeps/28yyx0vh' target=\"_blank\">https://wandb.ai/arunangshudutta218-iitm/dl_assgn_1_q_8/sweeps/28yyx0vh</a>"
            ]
          },
          "metadata": {}
        },
        {
          "output_type": "display_data",
          "data": {
            "text/plain": [
              "<IPython.core.display.HTML object>"
            ],
            "text/html": [
              " View project at <a href='https://wandb.ai/arunangshudutta218-iitm/dl_assgn_1_q_8' target=\"_blank\">https://wandb.ai/arunangshudutta218-iitm/dl_assgn_1_q_8</a>"
            ]
          },
          "metadata": {}
        },
        {
          "output_type": "display_data",
          "data": {
            "text/plain": [
              "<IPython.core.display.HTML object>"
            ],
            "text/html": [
              " View sweep at <a href='https://wandb.ai/arunangshudutta218-iitm/dl_assgn_1_q_8/sweeps/28yyx0vh' target=\"_blank\">https://wandb.ai/arunangshudutta218-iitm/dl_assgn_1_q_8/sweeps/28yyx0vh</a>"
            ]
          },
          "metadata": {}
        },
        {
          "output_type": "display_data",
          "data": {
            "text/plain": [
              "<IPython.core.display.HTML object>"
            ],
            "text/html": [
              " View run at <a href='https://wandb.ai/arunangshudutta218-iitm/dl_assgn_1_q_8/runs/ax9r1gak' target=\"_blank\">https://wandb.ai/arunangshudutta218-iitm/dl_assgn_1_q_8/runs/ax9r1gak</a>"
            ]
          },
          "metadata": {}
        },
        {
          "output_type": "stream",
          "name": "stdout",
          "text": [
            "Hyper parameters: \n",
            "\n",
            "Weight initialization type :  Xavier\n",
            "Optimizer :  nadam\n",
            "Learning rate (initial):  0.001\n",
            "Batch size:  32\n",
            "-------------------\n",
            "Architecture Description:\n",
            "\n",
            "Layer:  1  ; number of neurons:  64  ; activation function:  tanh\n",
            "Weight matrix dimention (64, 784) Bias vector dimention (64, 1)\n",
            "----------------\n",
            "Layer:  2  ; number of neurons:  64  ; activation function:  tanh\n",
            "Weight matrix dimention (64, 64) Bias vector dimention (64, 1)\n",
            "----------------\n",
            "Layer:  3  ; number of neurons:  64  ; activation function:  tanh\n",
            "Weight matrix dimention (64, 64) Bias vector dimention (64, 1)\n",
            "----------------\n",
            "Layer:  4  ; number of neurons:  64  ; activation function:  tanh\n",
            "Weight matrix dimention (64, 64) Bias vector dimention (64, 1)\n",
            "----------------\n",
            "Layer:  5  ; number of neurons:  10  ; activation function:  softmax\n",
            "Weight matrix dimention (10, 64) Bias vector dimention (10, 1)\n",
            "----------------\n",
            "1312.0\n",
            "\n",
            " Start of training\n",
            "CE Training Loss:  2.3412849579002635 SE Training Loss:  0.454074412237389 Training Accuracy:  10.504761904761905 CE Test Loss:  2.341124133950724 SE Test Loss:  0.4540313918077415 Testing Accuracy:  10.616666666666667\n",
            "Epoch:  1\n"
          ]
        },
        {
          "output_type": "stream",
          "name": "stderr",
          "text": [
            "100%|██████████| 1312/1312 [00:06<00:00, 199.90it/s]\n"
          ]
        },
        {
          "output_type": "stream",
          "name": "stdout",
          "text": [
            "CE Training Loss:  0.42318330700551166 SE Training Loss:  0.10887378681483793 Training Accuracy:  84.77380952380952 CE Test Loss:  0.4359565746054125 SE Test Loss:  0.11165430766581523 Testing Accuracy:  84.5\n",
            "Epoch:  2\n"
          ]
        },
        {
          "output_type": "stream",
          "name": "stderr",
          "text": [
            "100%|██████████| 1312/1312 [00:09<00:00, 143.36it/s]\n"
          ]
        },
        {
          "output_type": "stream",
          "name": "stdout",
          "text": [
            "CE Training Loss:  0.3829622797876951 SE Training Loss:  0.09858379758315977 Training Accuracy:  86.10952380952381 CE Test Loss:  0.40804430825206156 SE Test Loss:  0.1039415772708531 Testing Accuracy:  85.38333333333334\n",
            "Epoch:  3\n"
          ]
        },
        {
          "output_type": "stream",
          "name": "stderr",
          "text": [
            "100%|██████████| 1312/1312 [00:06<00:00, 210.37it/s]\n"
          ]
        },
        {
          "output_type": "stream",
          "name": "stdout",
          "text": [
            "CE Training Loss:  0.3563074595082384 SE Training Loss:  0.09190549592395451 Training Accuracy:  87.11190476190477 CE Test Loss:  0.39323056492387665 SE Test Loss:  0.09940545904699932 Testing Accuracy:  86.08888888888889\n",
            "Epoch:  4\n"
          ]
        },
        {
          "output_type": "stream",
          "name": "stderr",
          "text": [
            "100%|██████████| 1312/1312 [00:07<00:00, 175.71it/s]\n"
          ]
        },
        {
          "output_type": "stream",
          "name": "stdout",
          "text": [
            "CE Training Loss:  0.33916581847876537 SE Training Loss:  0.08758169982467556 Training Accuracy:  87.72619047619048 CE Test Loss:  0.38314512009420126 SE Test Loss:  0.09632806882758388 Testing Accuracy:  86.60555555555555\n",
            "Epoch:  5\n"
          ]
        },
        {
          "output_type": "stream",
          "name": "stderr",
          "text": [
            "100%|██████████| 1312/1312 [00:08<00:00, 149.42it/s]\n"
          ]
        },
        {
          "output_type": "stream",
          "name": "stdout",
          "text": [
            "CE Training Loss:  0.3296421633197618 SE Training Loss:  0.08466731740643876 Training Accuracy:  88.25 CE Test Loss:  0.383326449134606 SE Test Loss:  0.095292391065642 Testing Accuracy:  86.79444444444445\n"
          ]
        },
        {
          "output_type": "display_data",
          "data": {
            "text/plain": [
              "<IPython.core.display.HTML object>"
            ],
            "text/html": []
          },
          "metadata": {}
        },
        {
          "output_type": "display_data",
          "data": {
            "text/plain": [
              "<IPython.core.display.HTML object>"
            ],
            "text/html": [
              "<br>    <style><br>        .wandb-row {<br>            display: flex;<br>            flex-direction: row;<br>            flex-wrap: wrap;<br>            justify-content: flex-start;<br>            width: 100%;<br>        }<br>        .wandb-col {<br>            display: flex;<br>            flex-direction: column;<br>            flex-basis: 100%;<br>            flex: 1;<br>            padding: 10px;<br>        }<br>    </style><br><div class=\"wandb-row\"><div class=\"wandb-col\"><h3>Run history:</h3><br/><table class=\"wandb\"><tr><td>tr_accuracy</td><td>▁█████</td></tr><tr><td>tr_loss_CE</td><td>█▁▁▁▁▁</td></tr><tr><td>tr_loss_SE</td><td>█▁▁▁▁▁</td></tr><tr><td>val_accuracy</td><td>▁█████</td></tr><tr><td>val_loss_CE</td><td>█▁▁▁▁▁</td></tr><tr><td>val_loss_SE</td><td>█▁▁▁▁▁</td></tr></table><br/></div><div class=\"wandb-col\"><h3>Run summary:</h3><br/><table class=\"wandb\"><tr><td>tr_accuracy</td><td>88.25</td></tr><tr><td>tr_loss_CE</td><td>0.32964</td></tr><tr><td>tr_loss_SE</td><td>0.08467</td></tr><tr><td>val_accuracy</td><td>86.79444</td></tr><tr><td>val_loss_CE</td><td>0.38333</td></tr><tr><td>val_loss_SE</td><td>0.09529</td></tr></table><br/></div></div>"
            ]
          },
          "metadata": {}
        },
        {
          "output_type": "display_data",
          "data": {
            "text/plain": [
              "<IPython.core.display.HTML object>"
            ],
            "text/html": [
              " View run <strong style=\"color:#cdcd00\">e_5_hl_4_hs_64_lr_0.001_opt_nadam_bs_32_init_Xavier_ac_tanh_l2_0.0005</strong> at: <a href='https://wandb.ai/arunangshudutta218-iitm/dl_assgn_1_q_8/runs/ax9r1gak' target=\"_blank\">https://wandb.ai/arunangshudutta218-iitm/dl_assgn_1_q_8/runs/ax9r1gak</a><br> View project at: <a href='https://wandb.ai/arunangshudutta218-iitm/dl_assgn_1_q_8' target=\"_blank\">https://wandb.ai/arunangshudutta218-iitm/dl_assgn_1_q_8</a><br>Synced 5 W&B file(s), 0 media file(s), 0 artifact file(s) and 0 other file(s)"
            ]
          },
          "metadata": {}
        },
        {
          "output_type": "display_data",
          "data": {
            "text/plain": [
              "<IPython.core.display.HTML object>"
            ],
            "text/html": [
              "Find logs at: <code>./wandb/run-20250317_132820-ax9r1gak/logs</code>"
            ]
          },
          "metadata": {}
        },
        {
          "output_type": "stream",
          "name": "stderr",
          "text": [
            "\u001b[34m\u001b[1mwandb\u001b[0m: Agent Starting Run: 9hy8ey08 with config:\n",
            "\u001b[34m\u001b[1mwandb\u001b[0m: \tactivation: tanh\n",
            "\u001b[34m\u001b[1mwandb\u001b[0m: \tbatch_size: 32\n",
            "\u001b[34m\u001b[1mwandb\u001b[0m: \tepochs: 5\n",
            "\u001b[34m\u001b[1mwandb\u001b[0m: \thidden_size: 64\n",
            "\u001b[34m\u001b[1mwandb\u001b[0m: \tlearning_rate: 0.001\n",
            "\u001b[34m\u001b[1mwandb\u001b[0m: \tloss_function: cross_entropy\n",
            "\u001b[34m\u001b[1mwandb\u001b[0m: \tnum_layers: 4\n",
            "\u001b[34m\u001b[1mwandb\u001b[0m: \toptimizer: nadam\n",
            "\u001b[34m\u001b[1mwandb\u001b[0m: \tweight_decay: 0.5\n",
            "\u001b[34m\u001b[1mwandb\u001b[0m: \tweight_init: Xavier\n"
          ]
        },
        {
          "output_type": "display_data",
          "data": {
            "text/plain": [
              "<IPython.core.display.HTML object>"
            ],
            "text/html": [
              "Tracking run with wandb version 0.19.8"
            ]
          },
          "metadata": {}
        },
        {
          "output_type": "display_data",
          "data": {
            "text/plain": [
              "<IPython.core.display.HTML object>"
            ],
            "text/html": [
              "Run data is saved locally in <code>/content/wandb/run-20250317_132916-9hy8ey08</code>"
            ]
          },
          "metadata": {}
        },
        {
          "output_type": "display_data",
          "data": {
            "text/plain": [
              "<IPython.core.display.HTML object>"
            ],
            "text/html": [
              "Syncing run <strong><a href='https://wandb.ai/arunangshudutta218-iitm/dl_assgn_1_q_8/runs/9hy8ey08' target=\"_blank\">colorful-sweep-9</a></strong> to <a href='https://wandb.ai/arunangshudutta218-iitm/dl_assgn_1_q_8' target=\"_blank\">Weights & Biases</a> (<a href='https://wandb.me/developer-guide' target=\"_blank\">docs</a>)<br>Sweep page: <a href='https://wandb.ai/arunangshudutta218-iitm/dl_assgn_1_q_8/sweeps/28yyx0vh' target=\"_blank\">https://wandb.ai/arunangshudutta218-iitm/dl_assgn_1_q_8/sweeps/28yyx0vh</a>"
            ]
          },
          "metadata": {}
        },
        {
          "output_type": "display_data",
          "data": {
            "text/plain": [
              "<IPython.core.display.HTML object>"
            ],
            "text/html": [
              " View project at <a href='https://wandb.ai/arunangshudutta218-iitm/dl_assgn_1_q_8' target=\"_blank\">https://wandb.ai/arunangshudutta218-iitm/dl_assgn_1_q_8</a>"
            ]
          },
          "metadata": {}
        },
        {
          "output_type": "display_data",
          "data": {
            "text/plain": [
              "<IPython.core.display.HTML object>"
            ],
            "text/html": [
              " View sweep at <a href='https://wandb.ai/arunangshudutta218-iitm/dl_assgn_1_q_8/sweeps/28yyx0vh' target=\"_blank\">https://wandb.ai/arunangshudutta218-iitm/dl_assgn_1_q_8/sweeps/28yyx0vh</a>"
            ]
          },
          "metadata": {}
        },
        {
          "output_type": "display_data",
          "data": {
            "text/plain": [
              "<IPython.core.display.HTML object>"
            ],
            "text/html": [
              " View run at <a href='https://wandb.ai/arunangshudutta218-iitm/dl_assgn_1_q_8/runs/9hy8ey08' target=\"_blank\">https://wandb.ai/arunangshudutta218-iitm/dl_assgn_1_q_8/runs/9hy8ey08</a>"
            ]
          },
          "metadata": {}
        },
        {
          "output_type": "stream",
          "name": "stdout",
          "text": [
            "Hyper parameters: \n",
            "\n",
            "Weight initialization type :  Xavier\n",
            "Optimizer :  nadam\n",
            "Learning rate (initial):  0.001\n",
            "Batch size:  32\n",
            "-------------------\n",
            "Architecture Description:\n",
            "\n",
            "Layer:  1  ; number of neurons:  64  ; activation function:  tanh\n",
            "Weight matrix dimention (64, 784) Bias vector dimention (64, 1)\n",
            "----------------\n",
            "Layer:  2  ; number of neurons:  64  ; activation function:  tanh\n",
            "Weight matrix dimention (64, 64) Bias vector dimention (64, 1)\n",
            "----------------\n",
            "Layer:  3  ; number of neurons:  64  ; activation function:  tanh\n",
            "Weight matrix dimention (64, 64) Bias vector dimention (64, 1)\n",
            "----------------\n",
            "Layer:  4  ; number of neurons:  64  ; activation function:  tanh\n",
            "Weight matrix dimention (64, 64) Bias vector dimention (64, 1)\n",
            "----------------\n",
            "Layer:  5  ; number of neurons:  10  ; activation function:  softmax\n",
            "Weight matrix dimention (10, 64) Bias vector dimention (10, 1)\n",
            "----------------\n",
            "1312.0\n",
            "\n",
            " Start of training\n",
            "CE Training Loss:  2.27648483406902 SE Training Loss:  0.44742538534976084 Training Accuracy:  13.464285714285714 CE Test Loss:  2.277772059933505 SE Test Loss:  0.4475901118236815 Testing Accuracy:  13.2\n",
            "Epoch:  1\n"
          ]
        },
        {
          "output_type": "stream",
          "name": "stderr",
          "text": [
            "100%|██████████| 1312/1312 [00:08<00:00, 148.72it/s]\n"
          ]
        },
        {
          "output_type": "stream",
          "name": "stdout",
          "text": [
            "CE Training Loss:  0.6506255382545798 SE Training Loss:  0.157803774384925 Training Accuracy:  77.33333333333333 CE Test Loss:  0.6528720846272498 SE Test Loss:  0.158162706031426 Testing Accuracy:  77.38888888888889\n",
            "Epoch:  2\n"
          ]
        },
        {
          "output_type": "stream",
          "name": "stderr",
          "text": [
            "100%|██████████| 1312/1312 [00:08<00:00, 156.62it/s]\n"
          ]
        },
        {
          "output_type": "stream",
          "name": "stdout",
          "text": [
            "CE Training Loss:  0.6052791266322683 SE Training Loss:  0.1463809403788681 Training Accuracy:  79.51428571428572 CE Test Loss:  0.6081792398408884 SE Test Loss:  0.14698727347368507 Testing Accuracy:  79.5\n",
            "Epoch:  3\n"
          ]
        },
        {
          "output_type": "stream",
          "name": "stderr",
          "text": [
            "100%|██████████| 1312/1312 [00:06<00:00, 196.53it/s]\n"
          ]
        },
        {
          "output_type": "stream",
          "name": "stdout",
          "text": [
            "CE Training Loss:  0.581083451122601 SE Training Loss:  0.1402091364405518 Training Accuracy:  80.67380952380952 CE Test Loss:  0.5841284796728144 SE Test Loss:  0.14089000170874674 Testing Accuracy:  80.51666666666667\n",
            "Epoch:  4\n"
          ]
        },
        {
          "output_type": "stream",
          "name": "stderr",
          "text": [
            "100%|██████████| 1312/1312 [00:08<00:00, 149.33it/s]\n"
          ]
        },
        {
          "output_type": "stream",
          "name": "stdout",
          "text": [
            "CE Training Loss:  0.57001835514999 SE Training Loss:  0.137307639311927 Training Accuracy:  81.21190476190476 CE Test Loss:  0.57318853901708 SE Test Loss:  0.13804358097237562 Testing Accuracy:  81.1\n",
            "Epoch:  5\n"
          ]
        },
        {
          "output_type": "stream",
          "name": "stderr",
          "text": [
            "100%|██████████| 1312/1312 [00:08<00:00, 160.60it/s]\n"
          ]
        },
        {
          "output_type": "stream",
          "name": "stdout",
          "text": [
            "CE Training Loss:  0.5631661004383862 SE Training Loss:  0.13541119886682337 Training Accuracy:  81.53809523809524 CE Test Loss:  0.5664637627260832 SE Test Loss:  0.13619137384947697 Testing Accuracy:  81.28333333333333\n"
          ]
        },
        {
          "output_type": "display_data",
          "data": {
            "text/plain": [
              "<IPython.core.display.HTML object>"
            ],
            "text/html": []
          },
          "metadata": {}
        },
        {
          "output_type": "display_data",
          "data": {
            "text/plain": [
              "<IPython.core.display.HTML object>"
            ],
            "text/html": [
              "<br>    <style><br>        .wandb-row {<br>            display: flex;<br>            flex-direction: row;<br>            flex-wrap: wrap;<br>            justify-content: flex-start;<br>            width: 100%;<br>        }<br>        .wandb-col {<br>            display: flex;<br>            flex-direction: column;<br>            flex-basis: 100%;<br>            flex: 1;<br>            padding: 10px;<br>        }<br>    </style><br><div class=\"wandb-row\"><div class=\"wandb-col\"><h3>Run history:</h3><br/><table class=\"wandb\"><tr><td>tr_accuracy</td><td>▁█████</td></tr><tr><td>tr_loss_CE</td><td>█▁▁▁▁▁</td></tr><tr><td>tr_loss_SE</td><td>█▂▁▁▁▁</td></tr><tr><td>val_accuracy</td><td>▁█████</td></tr><tr><td>val_loss_CE</td><td>█▁▁▁▁▁</td></tr><tr><td>val_loss_SE</td><td>█▁▁▁▁▁</td></tr></table><br/></div><div class=\"wandb-col\"><h3>Run summary:</h3><br/><table class=\"wandb\"><tr><td>tr_accuracy</td><td>81.5381</td></tr><tr><td>tr_loss_CE</td><td>0.56317</td></tr><tr><td>tr_loss_SE</td><td>0.13541</td></tr><tr><td>val_accuracy</td><td>81.28333</td></tr><tr><td>val_loss_CE</td><td>0.56646</td></tr><tr><td>val_loss_SE</td><td>0.13619</td></tr></table><br/></div></div>"
            ]
          },
          "metadata": {}
        },
        {
          "output_type": "display_data",
          "data": {
            "text/plain": [
              "<IPython.core.display.HTML object>"
            ],
            "text/html": [
              " View run <strong style=\"color:#cdcd00\">e_5_hl_4_hs_64_lr_0.001_opt_nadam_bs_32_init_Xavier_ac_tanh_l2_0.5</strong> at: <a href='https://wandb.ai/arunangshudutta218-iitm/dl_assgn_1_q_8/runs/9hy8ey08' target=\"_blank\">https://wandb.ai/arunangshudutta218-iitm/dl_assgn_1_q_8/runs/9hy8ey08</a><br> View project at: <a href='https://wandb.ai/arunangshudutta218-iitm/dl_assgn_1_q_8' target=\"_blank\">https://wandb.ai/arunangshudutta218-iitm/dl_assgn_1_q_8</a><br>Synced 5 W&B file(s), 0 media file(s), 0 artifact file(s) and 0 other file(s)"
            ]
          },
          "metadata": {}
        },
        {
          "output_type": "display_data",
          "data": {
            "text/plain": [
              "<IPython.core.display.HTML object>"
            ],
            "text/html": [
              "Find logs at: <code>./wandb/run-20250317_132916-9hy8ey08/logs</code>"
            ]
          },
          "metadata": {}
        },
        {
          "output_type": "stream",
          "name": "stderr",
          "text": [
            "\u001b[34m\u001b[1mwandb\u001b[0m: Agent Starting Run: 3eoornkw with config:\n",
            "\u001b[34m\u001b[1mwandb\u001b[0m: \tactivation: tanh\n",
            "\u001b[34m\u001b[1mwandb\u001b[0m: \tbatch_size: 32\n",
            "\u001b[34m\u001b[1mwandb\u001b[0m: \tepochs: 5\n",
            "\u001b[34m\u001b[1mwandb\u001b[0m: \thidden_size: 64\n",
            "\u001b[34m\u001b[1mwandb\u001b[0m: \tlearning_rate: 0.001\n",
            "\u001b[34m\u001b[1mwandb\u001b[0m: \tloss_function: squared_error\n",
            "\u001b[34m\u001b[1mwandb\u001b[0m: \tnum_layers: 4\n",
            "\u001b[34m\u001b[1mwandb\u001b[0m: \toptimizer: rmsprop\n",
            "\u001b[34m\u001b[1mwandb\u001b[0m: \tweight_decay: 0\n",
            "\u001b[34m\u001b[1mwandb\u001b[0m: \tweight_init: Xavier\n"
          ]
        },
        {
          "output_type": "display_data",
          "data": {
            "text/plain": [
              "<IPython.core.display.HTML object>"
            ],
            "text/html": [
              "Tracking run with wandb version 0.19.8"
            ]
          },
          "metadata": {}
        },
        {
          "output_type": "display_data",
          "data": {
            "text/plain": [
              "<IPython.core.display.HTML object>"
            ],
            "text/html": [
              "Run data is saved locally in <code>/content/wandb/run-20250317_133011-3eoornkw</code>"
            ]
          },
          "metadata": {}
        },
        {
          "output_type": "display_data",
          "data": {
            "text/plain": [
              "<IPython.core.display.HTML object>"
            ],
            "text/html": [
              "Syncing run <strong><a href='https://wandb.ai/arunangshudutta218-iitm/dl_assgn_1_q_8/runs/3eoornkw' target=\"_blank\">bright-sweep-10</a></strong> to <a href='https://wandb.ai/arunangshudutta218-iitm/dl_assgn_1_q_8' target=\"_blank\">Weights & Biases</a> (<a href='https://wandb.me/developer-guide' target=\"_blank\">docs</a>)<br>Sweep page: <a href='https://wandb.ai/arunangshudutta218-iitm/dl_assgn_1_q_8/sweeps/28yyx0vh' target=\"_blank\">https://wandb.ai/arunangshudutta218-iitm/dl_assgn_1_q_8/sweeps/28yyx0vh</a>"
            ]
          },
          "metadata": {}
        },
        {
          "output_type": "display_data",
          "data": {
            "text/plain": [
              "<IPython.core.display.HTML object>"
            ],
            "text/html": [
              " View project at <a href='https://wandb.ai/arunangshudutta218-iitm/dl_assgn_1_q_8' target=\"_blank\">https://wandb.ai/arunangshudutta218-iitm/dl_assgn_1_q_8</a>"
            ]
          },
          "metadata": {}
        },
        {
          "output_type": "display_data",
          "data": {
            "text/plain": [
              "<IPython.core.display.HTML object>"
            ],
            "text/html": [
              " View sweep at <a href='https://wandb.ai/arunangshudutta218-iitm/dl_assgn_1_q_8/sweeps/28yyx0vh' target=\"_blank\">https://wandb.ai/arunangshudutta218-iitm/dl_assgn_1_q_8/sweeps/28yyx0vh</a>"
            ]
          },
          "metadata": {}
        },
        {
          "output_type": "display_data",
          "data": {
            "text/plain": [
              "<IPython.core.display.HTML object>"
            ],
            "text/html": [
              " View run at <a href='https://wandb.ai/arunangshudutta218-iitm/dl_assgn_1_q_8/runs/3eoornkw' target=\"_blank\">https://wandb.ai/arunangshudutta218-iitm/dl_assgn_1_q_8/runs/3eoornkw</a>"
            ]
          },
          "metadata": {}
        },
        {
          "output_type": "stream",
          "name": "stdout",
          "text": [
            "Hyper parameters: \n",
            "\n",
            "Weight initialization type :  Xavier\n",
            "Optimizer :  rmsprop\n",
            "Learning rate (initial):  0.001\n",
            "Batch size:  32\n",
            "-------------------\n",
            "Architecture Description:\n",
            "\n",
            "Layer:  1  ; number of neurons:  64  ; activation function:  tanh\n",
            "Weight matrix dimention (64, 784) Bias vector dimention (64, 1)\n",
            "----------------\n",
            "Layer:  2  ; number of neurons:  64  ; activation function:  tanh\n",
            "Weight matrix dimention (64, 64) Bias vector dimention (64, 1)\n",
            "----------------\n",
            "Layer:  3  ; number of neurons:  64  ; activation function:  tanh\n",
            "Weight matrix dimention (64, 64) Bias vector dimention (64, 1)\n",
            "----------------\n",
            "Layer:  4  ; number of neurons:  64  ; activation function:  tanh\n",
            "Weight matrix dimention (64, 64) Bias vector dimention (64, 1)\n",
            "----------------\n",
            "Layer:  5  ; number of neurons:  10  ; activation function:  softmax\n",
            "Weight matrix dimention (10, 64) Bias vector dimention (10, 1)\n",
            "----------------\n",
            "1312.0\n",
            "\n",
            " Start of training\n",
            "CE Training Loss:  2.3349029432090656 SE Training Loss:  0.4550832876979871 Training Accuracy:  6.571428571428571 CE Test Loss:  2.3320788970027744 SE Test Loss:  0.45479381673983443 Testing Accuracy:  6.905555555555556\n",
            "Epoch:  1\n"
          ]
        },
        {
          "output_type": "stream",
          "name": "stderr",
          "text": [
            "100%|██████████| 1312/1312 [00:06<00:00, 195.97it/s]\n"
          ]
        },
        {
          "output_type": "stream",
          "name": "stdout",
          "text": [
            "CE Training Loss:  0.44321737777533954 SE Training Loss:  0.11062457418233845 Training Accuracy:  84.58571428571429 CE Test Loss:  0.45491920560916954 SE Test Loss:  0.1137633253026493 Testing Accuracy:  84.16666666666667\n",
            "Epoch:  2\n"
          ]
        },
        {
          "output_type": "stream",
          "name": "stderr",
          "text": [
            "100%|██████████| 1312/1312 [00:05<00:00, 258.56it/s]\n"
          ]
        },
        {
          "output_type": "stream",
          "name": "stdout",
          "text": [
            "CE Training Loss:  0.39055974074232586 SE Training Loss:  0.09784168046980052 Training Accuracy:  86.45 CE Test Loss:  0.4079344734348397 SE Test Loss:  0.10257743347704656 Testing Accuracy:  85.80555555555556\n",
            "Epoch:  3\n"
          ]
        },
        {
          "output_type": "stream",
          "name": "stderr",
          "text": [
            "100%|██████████| 1312/1312 [00:07<00:00, 173.86it/s]\n"
          ]
        },
        {
          "output_type": "stream",
          "name": "stdout",
          "text": [
            "CE Training Loss:  0.36615631807955173 SE Training Loss:  0.0909673943132271 Training Accuracy:  87.4452380952381 CE Test Loss:  0.3902840948238906 SE Test Loss:  0.0971093990207087 Testing Accuracy:  86.47222222222223\n",
            "Epoch:  4\n"
          ]
        },
        {
          "output_type": "stream",
          "name": "stderr",
          "text": [
            "100%|██████████| 1312/1312 [00:05<00:00, 248.68it/s]\n"
          ]
        },
        {
          "output_type": "stream",
          "name": "stdout",
          "text": [
            "CE Training Loss:  0.35592677582978755 SE Training Loss:  0.08850366089177165 Training Accuracy:  87.87619047619047 CE Test Loss:  0.38625370184453545 SE Test Loss:  0.09581306179899875 Testing Accuracy:  86.83333333333333\n",
            "Epoch:  5\n"
          ]
        },
        {
          "output_type": "stream",
          "name": "stderr",
          "text": [
            "100%|██████████| 1312/1312 [00:10<00:00, 123.76it/s]\n"
          ]
        },
        {
          "output_type": "stream",
          "name": "stdout",
          "text": [
            "CE Training Loss:  0.33704719787932974 SE Training Loss:  0.08356537508245919 Training Accuracy:  88.4047619047619 CE Test Loss:  0.3705100739905934 SE Test Loss:  0.0919112508962775 Testing Accuracy:  87.40555555555555\n"
          ]
        },
        {
          "output_type": "display_data",
          "data": {
            "text/plain": [
              "<IPython.core.display.HTML object>"
            ],
            "text/html": []
          },
          "metadata": {}
        },
        {
          "output_type": "display_data",
          "data": {
            "text/plain": [
              "<IPython.core.display.HTML object>"
            ],
            "text/html": [
              "<br>    <style><br>        .wandb-row {<br>            display: flex;<br>            flex-direction: row;<br>            flex-wrap: wrap;<br>            justify-content: flex-start;<br>            width: 100%;<br>        }<br>        .wandb-col {<br>            display: flex;<br>            flex-direction: column;<br>            flex-basis: 100%;<br>            flex: 1;<br>            padding: 10px;<br>        }<br>    </style><br><div class=\"wandb-row\"><div class=\"wandb-col\"><h3>Run history:</h3><br/><table class=\"wandb\"><tr><td>tr_accuracy</td><td>▁█████</td></tr><tr><td>tr_loss_CE</td><td>█▁▁▁▁▁</td></tr><tr><td>tr_loss_SE</td><td>█▂▁▁▁▁</td></tr><tr><td>val_accuracy</td><td>▁█████</td></tr><tr><td>val_loss_CE</td><td>█▁▁▁▁▁</td></tr><tr><td>val_loss_SE</td><td>█▁▁▁▁▁</td></tr></table><br/></div><div class=\"wandb-col\"><h3>Run summary:</h3><br/><table class=\"wandb\"><tr><td>tr_accuracy</td><td>88.40476</td></tr><tr><td>tr_loss_CE</td><td>0.33705</td></tr><tr><td>tr_loss_SE</td><td>0.08357</td></tr><tr><td>val_accuracy</td><td>87.40556</td></tr><tr><td>val_loss_CE</td><td>0.37051</td></tr><tr><td>val_loss_SE</td><td>0.09191</td></tr></table><br/></div></div>"
            ]
          },
          "metadata": {}
        },
        {
          "output_type": "display_data",
          "data": {
            "text/plain": [
              "<IPython.core.display.HTML object>"
            ],
            "text/html": [
              " View run <strong style=\"color:#cdcd00\">e_5_hl_4_hs_64_lr_0.001_opt_rmsprop_bs_32_init_Xavier_ac_tanh_l2_0</strong> at: <a href='https://wandb.ai/arunangshudutta218-iitm/dl_assgn_1_q_8/runs/3eoornkw' target=\"_blank\">https://wandb.ai/arunangshudutta218-iitm/dl_assgn_1_q_8/runs/3eoornkw</a><br> View project at: <a href='https://wandb.ai/arunangshudutta218-iitm/dl_assgn_1_q_8' target=\"_blank\">https://wandb.ai/arunangshudutta218-iitm/dl_assgn_1_q_8</a><br>Synced 5 W&B file(s), 0 media file(s), 0 artifact file(s) and 0 other file(s)"
            ]
          },
          "metadata": {}
        },
        {
          "output_type": "display_data",
          "data": {
            "text/plain": [
              "<IPython.core.display.HTML object>"
            ],
            "text/html": [
              "Find logs at: <code>./wandb/run-20250317_133011-3eoornkw/logs</code>"
            ]
          },
          "metadata": {}
        },
        {
          "output_type": "stream",
          "name": "stderr",
          "text": [
            "\u001b[34m\u001b[1mwandb\u001b[0m: Agent Starting Run: hmjplqjj with config:\n",
            "\u001b[34m\u001b[1mwandb\u001b[0m: \tactivation: tanh\n",
            "\u001b[34m\u001b[1mwandb\u001b[0m: \tbatch_size: 32\n",
            "\u001b[34m\u001b[1mwandb\u001b[0m: \tepochs: 5\n",
            "\u001b[34m\u001b[1mwandb\u001b[0m: \thidden_size: 64\n",
            "\u001b[34m\u001b[1mwandb\u001b[0m: \tlearning_rate: 0.001\n",
            "\u001b[34m\u001b[1mwandb\u001b[0m: \tloss_function: squared_error\n",
            "\u001b[34m\u001b[1mwandb\u001b[0m: \tnum_layers: 4\n",
            "\u001b[34m\u001b[1mwandb\u001b[0m: \toptimizer: rmsprop\n",
            "\u001b[34m\u001b[1mwandb\u001b[0m: \tweight_decay: 0.0005\n",
            "\u001b[34m\u001b[1mwandb\u001b[0m: \tweight_init: Xavier\n"
          ]
        },
        {
          "output_type": "display_data",
          "data": {
            "text/plain": [
              "<IPython.core.display.HTML object>"
            ],
            "text/html": [
              "Tracking run with wandb version 0.19.8"
            ]
          },
          "metadata": {}
        },
        {
          "output_type": "display_data",
          "data": {
            "text/plain": [
              "<IPython.core.display.HTML object>"
            ],
            "text/html": [
              "Run data is saved locally in <code>/content/wandb/run-20250317_133103-hmjplqjj</code>"
            ]
          },
          "metadata": {}
        },
        {
          "output_type": "display_data",
          "data": {
            "text/plain": [
              "<IPython.core.display.HTML object>"
            ],
            "text/html": [
              "Syncing run <strong><a href='https://wandb.ai/arunangshudutta218-iitm/dl_assgn_1_q_8/runs/hmjplqjj' target=\"_blank\">royal-sweep-11</a></strong> to <a href='https://wandb.ai/arunangshudutta218-iitm/dl_assgn_1_q_8' target=\"_blank\">Weights & Biases</a> (<a href='https://wandb.me/developer-guide' target=\"_blank\">docs</a>)<br>Sweep page: <a href='https://wandb.ai/arunangshudutta218-iitm/dl_assgn_1_q_8/sweeps/28yyx0vh' target=\"_blank\">https://wandb.ai/arunangshudutta218-iitm/dl_assgn_1_q_8/sweeps/28yyx0vh</a>"
            ]
          },
          "metadata": {}
        },
        {
          "output_type": "display_data",
          "data": {
            "text/plain": [
              "<IPython.core.display.HTML object>"
            ],
            "text/html": [
              " View project at <a href='https://wandb.ai/arunangshudutta218-iitm/dl_assgn_1_q_8' target=\"_blank\">https://wandb.ai/arunangshudutta218-iitm/dl_assgn_1_q_8</a>"
            ]
          },
          "metadata": {}
        },
        {
          "output_type": "display_data",
          "data": {
            "text/plain": [
              "<IPython.core.display.HTML object>"
            ],
            "text/html": [
              " View sweep at <a href='https://wandb.ai/arunangshudutta218-iitm/dl_assgn_1_q_8/sweeps/28yyx0vh' target=\"_blank\">https://wandb.ai/arunangshudutta218-iitm/dl_assgn_1_q_8/sweeps/28yyx0vh</a>"
            ]
          },
          "metadata": {}
        },
        {
          "output_type": "display_data",
          "data": {
            "text/plain": [
              "<IPython.core.display.HTML object>"
            ],
            "text/html": [
              " View run at <a href='https://wandb.ai/arunangshudutta218-iitm/dl_assgn_1_q_8/runs/hmjplqjj' target=\"_blank\">https://wandb.ai/arunangshudutta218-iitm/dl_assgn_1_q_8/runs/hmjplqjj</a>"
            ]
          },
          "metadata": {}
        },
        {
          "output_type": "stream",
          "name": "stdout",
          "text": [
            "Hyper parameters: \n",
            "\n",
            "Weight initialization type :  Xavier\n",
            "Optimizer :  rmsprop\n",
            "Learning rate (initial):  0.001\n",
            "Batch size:  32\n",
            "-------------------\n",
            "Architecture Description:\n",
            "\n",
            "Layer:  1  ; number of neurons:  64  ; activation function:  tanh\n",
            "Weight matrix dimention (64, 784) Bias vector dimention (64, 1)\n",
            "----------------\n",
            "Layer:  2  ; number of neurons:  64  ; activation function:  tanh\n",
            "Weight matrix dimention (64, 64) Bias vector dimention (64, 1)\n",
            "----------------\n",
            "Layer:  3  ; number of neurons:  64  ; activation function:  tanh\n",
            "Weight matrix dimention (64, 64) Bias vector dimention (64, 1)\n",
            "----------------\n",
            "Layer:  4  ; number of neurons:  64  ; activation function:  tanh\n",
            "Weight matrix dimention (64, 64) Bias vector dimention (64, 1)\n",
            "----------------\n",
            "Layer:  5  ; number of neurons:  10  ; activation function:  softmax\n",
            "Weight matrix dimention (10, 64) Bias vector dimention (10, 1)\n",
            "----------------\n",
            "1312.0\n",
            "\n",
            " Start of training\n",
            "CE Training Loss:  2.465625241380099 SE Training Loss:  0.46266700570090946 Training Accuracy:  13.388095238095238 CE Test Loss:  2.4735593083296235 SE Test Loss:  0.46343912555341366 Testing Accuracy:  13.161111111111111\n",
            "Epoch:  1\n"
          ]
        },
        {
          "output_type": "stream",
          "name": "stderr",
          "text": [
            "100%|██████████| 1312/1312 [00:07<00:00, 186.92it/s]\n"
          ]
        },
        {
          "output_type": "stream",
          "name": "stdout",
          "text": [
            "CE Training Loss:  0.4214778892967141 SE Training Loss:  0.10586004658919555 Training Accuracy:  85.25238095238095 CE Test Loss:  0.4297478177412615 SE Test Loss:  0.10832011460944363 Testing Accuracy:  85.02777777777777\n",
            "Epoch:  2\n"
          ]
        },
        {
          "output_type": "stream",
          "name": "stderr",
          "text": [
            "100%|██████████| 1312/1312 [00:06<00:00, 192.51it/s]\n"
          ]
        },
        {
          "output_type": "stream",
          "name": "stdout",
          "text": [
            "CE Training Loss:  0.3907902208370213 SE Training Loss:  0.09840313960674008 Training Accuracy:  86.3 CE Test Loss:  0.4043211251813576 SE Test Loss:  0.10160418015001829 Testing Accuracy:  85.8\n",
            "Epoch:  3\n"
          ]
        },
        {
          "output_type": "stream",
          "name": "stderr",
          "text": [
            "100%|██████████| 1312/1312 [00:05<00:00, 257.79it/s]\n"
          ]
        },
        {
          "output_type": "stream",
          "name": "stdout",
          "text": [
            "CE Training Loss:  0.3666242449335216 SE Training Loss:  0.09186791265107863 Training Accuracy:  87.2547619047619 CE Test Loss:  0.38999409004453883 SE Test Loss:  0.0976552900915566 Testing Accuracy:  86.42777777777778\n",
            "Epoch:  4\n"
          ]
        },
        {
          "output_type": "stream",
          "name": "stderr",
          "text": [
            "100%|██████████| 1312/1312 [00:07<00:00, 169.90it/s]\n"
          ]
        },
        {
          "output_type": "stream",
          "name": "stdout",
          "text": [
            "CE Training Loss:  0.3682559258245019 SE Training Loss:  0.09225352617479854 Training Accuracy:  87.22619047619048 CE Test Loss:  0.39469767242385934 SE Test Loss:  0.09849281658775312 Testing Accuracy:  86.2611111111111\n",
            "Epoch:  5\n"
          ]
        },
        {
          "output_type": "stream",
          "name": "stderr",
          "text": [
            "100%|██████████| 1312/1312 [00:05<00:00, 252.52it/s]\n"
          ]
        },
        {
          "output_type": "stream",
          "name": "stdout",
          "text": [
            "CE Training Loss:  0.35417355402913303 SE Training Loss:  0.08838225379612806 Training Accuracy:  87.7547619047619 CE Test Loss:  0.3882117441062125 SE Test Loss:  0.09667557902987614 Testing Accuracy:  86.57222222222222\n"
          ]
        },
        {
          "output_type": "display_data",
          "data": {
            "text/plain": [
              "<IPython.core.display.HTML object>"
            ],
            "text/html": []
          },
          "metadata": {}
        },
        {
          "output_type": "display_data",
          "data": {
            "text/plain": [
              "<IPython.core.display.HTML object>"
            ],
            "text/html": [
              "<br>    <style><br>        .wandb-row {<br>            display: flex;<br>            flex-direction: row;<br>            flex-wrap: wrap;<br>            justify-content: flex-start;<br>            width: 100%;<br>        }<br>        .wandb-col {<br>            display: flex;<br>            flex-direction: column;<br>            flex-basis: 100%;<br>            flex: 1;<br>            padding: 10px;<br>        }<br>    </style><br><div class=\"wandb-row\"><div class=\"wandb-col\"><h3>Run history:</h3><br/><table class=\"wandb\"><tr><td>tr_accuracy</td><td>▁█████</td></tr><tr><td>tr_loss_CE</td><td>█▁▁▁▁▁</td></tr><tr><td>tr_loss_SE</td><td>█▁▁▁▁▁</td></tr><tr><td>val_accuracy</td><td>▁█████</td></tr><tr><td>val_loss_CE</td><td>█▁▁▁▁▁</td></tr><tr><td>val_loss_SE</td><td>█▁▁▁▁▁</td></tr></table><br/></div><div class=\"wandb-col\"><h3>Run summary:</h3><br/><table class=\"wandb\"><tr><td>tr_accuracy</td><td>87.75476</td></tr><tr><td>tr_loss_CE</td><td>0.35417</td></tr><tr><td>tr_loss_SE</td><td>0.08838</td></tr><tr><td>val_accuracy</td><td>86.57222</td></tr><tr><td>val_loss_CE</td><td>0.38821</td></tr><tr><td>val_loss_SE</td><td>0.09668</td></tr></table><br/></div></div>"
            ]
          },
          "metadata": {}
        },
        {
          "output_type": "display_data",
          "data": {
            "text/plain": [
              "<IPython.core.display.HTML object>"
            ],
            "text/html": [
              " View run <strong style=\"color:#cdcd00\">e_5_hl_4_hs_64_lr_0.001_opt_rmsprop_bs_32_init_Xavier_ac_tanh_l2_0.0005</strong> at: <a href='https://wandb.ai/arunangshudutta218-iitm/dl_assgn_1_q_8/runs/hmjplqjj' target=\"_blank\">https://wandb.ai/arunangshudutta218-iitm/dl_assgn_1_q_8/runs/hmjplqjj</a><br> View project at: <a href='https://wandb.ai/arunangshudutta218-iitm/dl_assgn_1_q_8' target=\"_blank\">https://wandb.ai/arunangshudutta218-iitm/dl_assgn_1_q_8</a><br>Synced 5 W&B file(s), 0 media file(s), 0 artifact file(s) and 0 other file(s)"
            ]
          },
          "metadata": {}
        },
        {
          "output_type": "display_data",
          "data": {
            "text/plain": [
              "<IPython.core.display.HTML object>"
            ],
            "text/html": [
              "Find logs at: <code>./wandb/run-20250317_133103-hmjplqjj/logs</code>"
            ]
          },
          "metadata": {}
        },
        {
          "output_type": "stream",
          "name": "stderr",
          "text": [
            "\u001b[34m\u001b[1mwandb\u001b[0m: Sweep Agent: Waiting for job.\n",
            "\u001b[34m\u001b[1mwandb\u001b[0m: Job received.\n",
            "\u001b[34m\u001b[1mwandb\u001b[0m: Agent Starting Run: phd0gtxf with config:\n",
            "\u001b[34m\u001b[1mwandb\u001b[0m: \tactivation: tanh\n",
            "\u001b[34m\u001b[1mwandb\u001b[0m: \tbatch_size: 32\n",
            "\u001b[34m\u001b[1mwandb\u001b[0m: \tepochs: 5\n",
            "\u001b[34m\u001b[1mwandb\u001b[0m: \thidden_size: 64\n",
            "\u001b[34m\u001b[1mwandb\u001b[0m: \tlearning_rate: 0.001\n",
            "\u001b[34m\u001b[1mwandb\u001b[0m: \tloss_function: squared_error\n",
            "\u001b[34m\u001b[1mwandb\u001b[0m: \tnum_layers: 4\n",
            "\u001b[34m\u001b[1mwandb\u001b[0m: \toptimizer: rmsprop\n",
            "\u001b[34m\u001b[1mwandb\u001b[0m: \tweight_decay: 0.5\n",
            "\u001b[34m\u001b[1mwandb\u001b[0m: \tweight_init: Xavier\n"
          ]
        },
        {
          "output_type": "display_data",
          "data": {
            "text/plain": [
              "<IPython.core.display.HTML object>"
            ],
            "text/html": [
              "Tracking run with wandb version 0.19.8"
            ]
          },
          "metadata": {}
        },
        {
          "output_type": "display_data",
          "data": {
            "text/plain": [
              "<IPython.core.display.HTML object>"
            ],
            "text/html": [
              "Run data is saved locally in <code>/content/wandb/run-20250317_133159-phd0gtxf</code>"
            ]
          },
          "metadata": {}
        },
        {
          "output_type": "display_data",
          "data": {
            "text/plain": [
              "<IPython.core.display.HTML object>"
            ],
            "text/html": [
              "Syncing run <strong><a href='https://wandb.ai/arunangshudutta218-iitm/dl_assgn_1_q_8/runs/phd0gtxf' target=\"_blank\">golden-sweep-12</a></strong> to <a href='https://wandb.ai/arunangshudutta218-iitm/dl_assgn_1_q_8' target=\"_blank\">Weights & Biases</a> (<a href='https://wandb.me/developer-guide' target=\"_blank\">docs</a>)<br>Sweep page: <a href='https://wandb.ai/arunangshudutta218-iitm/dl_assgn_1_q_8/sweeps/28yyx0vh' target=\"_blank\">https://wandb.ai/arunangshudutta218-iitm/dl_assgn_1_q_8/sweeps/28yyx0vh</a>"
            ]
          },
          "metadata": {}
        },
        {
          "output_type": "display_data",
          "data": {
            "text/plain": [
              "<IPython.core.display.HTML object>"
            ],
            "text/html": [
              " View project at <a href='https://wandb.ai/arunangshudutta218-iitm/dl_assgn_1_q_8' target=\"_blank\">https://wandb.ai/arunangshudutta218-iitm/dl_assgn_1_q_8</a>"
            ]
          },
          "metadata": {}
        },
        {
          "output_type": "display_data",
          "data": {
            "text/plain": [
              "<IPython.core.display.HTML object>"
            ],
            "text/html": [
              " View sweep at <a href='https://wandb.ai/arunangshudutta218-iitm/dl_assgn_1_q_8/sweeps/28yyx0vh' target=\"_blank\">https://wandb.ai/arunangshudutta218-iitm/dl_assgn_1_q_8/sweeps/28yyx0vh</a>"
            ]
          },
          "metadata": {}
        },
        {
          "output_type": "display_data",
          "data": {
            "text/plain": [
              "<IPython.core.display.HTML object>"
            ],
            "text/html": [
              " View run at <a href='https://wandb.ai/arunangshudutta218-iitm/dl_assgn_1_q_8/runs/phd0gtxf' target=\"_blank\">https://wandb.ai/arunangshudutta218-iitm/dl_assgn_1_q_8/runs/phd0gtxf</a>"
            ]
          },
          "metadata": {}
        },
        {
          "output_type": "stream",
          "name": "stdout",
          "text": [
            "Hyper parameters: \n",
            "\n",
            "Weight initialization type :  Xavier\n",
            "Optimizer :  rmsprop\n",
            "Learning rate (initial):  0.001\n",
            "Batch size:  32\n",
            "-------------------\n",
            "Architecture Description:\n",
            "\n",
            "Layer:  1  ; number of neurons:  64  ; activation function:  tanh\n",
            "Weight matrix dimention (64, 784) Bias vector dimention (64, 1)\n",
            "----------------\n",
            "Layer:  2  ; number of neurons:  64  ; activation function:  tanh\n",
            "Weight matrix dimention (64, 64) Bias vector dimention (64, 1)\n",
            "----------------\n",
            "Layer:  3  ; number of neurons:  64  ; activation function:  tanh\n",
            "Weight matrix dimention (64, 64) Bias vector dimention (64, 1)\n",
            "----------------\n",
            "Layer:  4  ; number of neurons:  64  ; activation function:  tanh\n",
            "Weight matrix dimention (64, 64) Bias vector dimention (64, 1)\n",
            "----------------\n",
            "Layer:  5  ; number of neurons:  10  ; activation function:  softmax\n",
            "Weight matrix dimention (10, 64) Bias vector dimention (10, 1)\n",
            "----------------\n",
            "1312.0\n",
            "\n",
            " Start of training\n",
            "CE Training Loss:  2.4093022488780114 SE Training Loss:  0.4607781097271517 Training Accuracy:  7.173809523809524 CE Test Loss:  2.4073553440418363 SE Test Loss:  0.46063304302328356 Testing Accuracy:  7.083333333333333\n",
            "Epoch:  1\n"
          ]
        },
        {
          "output_type": "stream",
          "name": "stderr",
          "text": [
            "100%|██████████| 1312/1312 [00:06<00:00, 208.59it/s]\n"
          ]
        },
        {
          "output_type": "stream",
          "name": "stdout",
          "text": [
            "CE Training Loss:  0.990409021794853 SE Training Loss:  0.24170831420263053 Training Accuracy:  68.0952380952381 CE Test Loss:  0.9932854850235987 SE Test Loss:  0.24250353928399873 Testing Accuracy:  68.0\n",
            "Epoch:  2\n"
          ]
        },
        {
          "output_type": "stream",
          "name": "stderr",
          "text": [
            "100%|██████████| 1312/1312 [00:07<00:00, 174.53it/s]\n"
          ]
        },
        {
          "output_type": "stream",
          "name": "stdout",
          "text": [
            "CE Training Loss:  1.017200428067201 SE Training Loss:  0.24690583392067894 Training Accuracy:  66.14285714285714 CE Test Loss:  1.0187898494872785 SE Test Loss:  0.24734347837124496 Testing Accuracy:  65.93333333333334\n",
            "Epoch:  3\n"
          ]
        },
        {
          "output_type": "stream",
          "name": "stderr",
          "text": [
            "100%|██████████| 1312/1312 [00:05<00:00, 247.70it/s]\n"
          ]
        },
        {
          "output_type": "stream",
          "name": "stdout",
          "text": [
            "CE Training Loss:  1.0334892689264372 SE Training Loss:  0.2501073489638408 Training Accuracy:  64.93095238095238 CE Test Loss:  1.0344422501767983 SE Test Loss:  0.2504087305316545 Testing Accuracy:  64.89444444444445\n",
            "Epoch:  4\n"
          ]
        },
        {
          "output_type": "stream",
          "name": "stderr",
          "text": [
            "100%|██████████| 1312/1312 [00:07<00:00, 171.18it/s]\n"
          ]
        },
        {
          "output_type": "stream",
          "name": "stdout",
          "text": [
            "CE Training Loss:  1.0412631392524845 SE Training Loss:  0.25144084128133204 Training Accuracy:  64.6952380952381 CE Test Loss:  1.041907744450334 SE Test Loss:  0.2516533008143025 Testing Accuracy:  64.84444444444445\n",
            "Epoch:  5\n"
          ]
        },
        {
          "output_type": "stream",
          "name": "stderr",
          "text": [
            "100%|██████████| 1312/1312 [00:05<00:00, 250.24it/s]\n"
          ]
        },
        {
          "output_type": "stream",
          "name": "stdout",
          "text": [
            "CE Training Loss:  1.0511720661402113 SE Training Loss:  0.25353248569219683 Training Accuracy:  64.39285714285714 CE Test Loss:  1.0516055801405133 SE Test Loss:  0.25366786869811797 Testing Accuracy:  64.43333333333334\n"
          ]
        },
        {
          "output_type": "display_data",
          "data": {
            "text/plain": [
              "<IPython.core.display.HTML object>"
            ],
            "text/html": []
          },
          "metadata": {}
        },
        {
          "output_type": "display_data",
          "data": {
            "text/plain": [
              "<IPython.core.display.HTML object>"
            ],
            "text/html": [
              "<br>    <style><br>        .wandb-row {<br>            display: flex;<br>            flex-direction: row;<br>            flex-wrap: wrap;<br>            justify-content: flex-start;<br>            width: 100%;<br>        }<br>        .wandb-col {<br>            display: flex;<br>            flex-direction: column;<br>            flex-basis: 100%;<br>            flex: 1;<br>            padding: 10px;<br>        }<br>    </style><br><div class=\"wandb-row\"><div class=\"wandb-col\"><h3>Run history:</h3><br/><table class=\"wandb\"><tr><td>tr_accuracy</td><td>▁█████</td></tr><tr><td>tr_loss_CE</td><td>█▁▁▁▁▁</td></tr><tr><td>tr_loss_SE</td><td>█▁▁▁▁▁</td></tr><tr><td>val_accuracy</td><td>▁█████</td></tr><tr><td>val_loss_CE</td><td>█▁▁▁▁▁</td></tr><tr><td>val_loss_SE</td><td>█▁▁▁▁▁</td></tr></table><br/></div><div class=\"wandb-col\"><h3>Run summary:</h3><br/><table class=\"wandb\"><tr><td>tr_accuracy</td><td>64.39286</td></tr><tr><td>tr_loss_CE</td><td>1.05117</td></tr><tr><td>tr_loss_SE</td><td>0.25353</td></tr><tr><td>val_accuracy</td><td>64.43333</td></tr><tr><td>val_loss_CE</td><td>1.05161</td></tr><tr><td>val_loss_SE</td><td>0.25367</td></tr></table><br/></div></div>"
            ]
          },
          "metadata": {}
        },
        {
          "output_type": "display_data",
          "data": {
            "text/plain": [
              "<IPython.core.display.HTML object>"
            ],
            "text/html": [
              " View run <strong style=\"color:#cdcd00\">e_5_hl_4_hs_64_lr_0.001_opt_rmsprop_bs_32_init_Xavier_ac_tanh_l2_0.5</strong> at: <a href='https://wandb.ai/arunangshudutta218-iitm/dl_assgn_1_q_8/runs/phd0gtxf' target=\"_blank\">https://wandb.ai/arunangshudutta218-iitm/dl_assgn_1_q_8/runs/phd0gtxf</a><br> View project at: <a href='https://wandb.ai/arunangshudutta218-iitm/dl_assgn_1_q_8' target=\"_blank\">https://wandb.ai/arunangshudutta218-iitm/dl_assgn_1_q_8</a><br>Synced 5 W&B file(s), 0 media file(s), 0 artifact file(s) and 0 other file(s)"
            ]
          },
          "metadata": {}
        },
        {
          "output_type": "display_data",
          "data": {
            "text/plain": [
              "<IPython.core.display.HTML object>"
            ],
            "text/html": [
              "Find logs at: <code>./wandb/run-20250317_133159-phd0gtxf/logs</code>"
            ]
          },
          "metadata": {}
        },
        {
          "output_type": "stream",
          "name": "stderr",
          "text": [
            "\u001b[34m\u001b[1mwandb\u001b[0m: Sweep Agent: Waiting for job.\n",
            "\u001b[34m\u001b[1mwandb\u001b[0m: Job received.\n",
            "\u001b[34m\u001b[1mwandb\u001b[0m: Agent Starting Run: zrnst5z7 with config:\n",
            "\u001b[34m\u001b[1mwandb\u001b[0m: \tactivation: tanh\n",
            "\u001b[34m\u001b[1mwandb\u001b[0m: \tbatch_size: 32\n",
            "\u001b[34m\u001b[1mwandb\u001b[0m: \tepochs: 5\n",
            "\u001b[34m\u001b[1mwandb\u001b[0m: \thidden_size: 64\n",
            "\u001b[34m\u001b[1mwandb\u001b[0m: \tlearning_rate: 0.001\n",
            "\u001b[34m\u001b[1mwandb\u001b[0m: \tloss_function: squared_error\n",
            "\u001b[34m\u001b[1mwandb\u001b[0m: \tnum_layers: 4\n",
            "\u001b[34m\u001b[1mwandb\u001b[0m: \toptimizer: adam\n",
            "\u001b[34m\u001b[1mwandb\u001b[0m: \tweight_decay: 0\n",
            "\u001b[34m\u001b[1mwandb\u001b[0m: \tweight_init: Xavier\n"
          ]
        },
        {
          "output_type": "display_data",
          "data": {
            "text/plain": [
              "<IPython.core.display.HTML object>"
            ],
            "text/html": [
              "Tracking run with wandb version 0.19.8"
            ]
          },
          "metadata": {}
        },
        {
          "output_type": "display_data",
          "data": {
            "text/plain": [
              "<IPython.core.display.HTML object>"
            ],
            "text/html": [
              "Run data is saved locally in <code>/content/wandb/run-20250317_133254-zrnst5z7</code>"
            ]
          },
          "metadata": {}
        },
        {
          "output_type": "display_data",
          "data": {
            "text/plain": [
              "<IPython.core.display.HTML object>"
            ],
            "text/html": [
              "Syncing run <strong><a href='https://wandb.ai/arunangshudutta218-iitm/dl_assgn_1_q_8/runs/zrnst5z7' target=\"_blank\">light-sweep-13</a></strong> to <a href='https://wandb.ai/arunangshudutta218-iitm/dl_assgn_1_q_8' target=\"_blank\">Weights & Biases</a> (<a href='https://wandb.me/developer-guide' target=\"_blank\">docs</a>)<br>Sweep page: <a href='https://wandb.ai/arunangshudutta218-iitm/dl_assgn_1_q_8/sweeps/28yyx0vh' target=\"_blank\">https://wandb.ai/arunangshudutta218-iitm/dl_assgn_1_q_8/sweeps/28yyx0vh</a>"
            ]
          },
          "metadata": {}
        },
        {
          "output_type": "display_data",
          "data": {
            "text/plain": [
              "<IPython.core.display.HTML object>"
            ],
            "text/html": [
              " View project at <a href='https://wandb.ai/arunangshudutta218-iitm/dl_assgn_1_q_8' target=\"_blank\">https://wandb.ai/arunangshudutta218-iitm/dl_assgn_1_q_8</a>"
            ]
          },
          "metadata": {}
        },
        {
          "output_type": "display_data",
          "data": {
            "text/plain": [
              "<IPython.core.display.HTML object>"
            ],
            "text/html": [
              " View sweep at <a href='https://wandb.ai/arunangshudutta218-iitm/dl_assgn_1_q_8/sweeps/28yyx0vh' target=\"_blank\">https://wandb.ai/arunangshudutta218-iitm/dl_assgn_1_q_8/sweeps/28yyx0vh</a>"
            ]
          },
          "metadata": {}
        },
        {
          "output_type": "display_data",
          "data": {
            "text/plain": [
              "<IPython.core.display.HTML object>"
            ],
            "text/html": [
              " View run at <a href='https://wandb.ai/arunangshudutta218-iitm/dl_assgn_1_q_8/runs/zrnst5z7' target=\"_blank\">https://wandb.ai/arunangshudutta218-iitm/dl_assgn_1_q_8/runs/zrnst5z7</a>"
            ]
          },
          "metadata": {}
        },
        {
          "output_type": "stream",
          "name": "stdout",
          "text": [
            "Hyper parameters: \n",
            "\n",
            "Weight initialization type :  Xavier\n",
            "Optimizer :  adam\n",
            "Learning rate (initial):  0.001\n",
            "Batch size:  32\n",
            "-------------------\n",
            "Architecture Description:\n",
            "\n",
            "Layer:  1  ; number of neurons:  64  ; activation function:  tanh\n",
            "Weight matrix dimention (64, 784) Bias vector dimention (64, 1)\n",
            "----------------\n",
            "Layer:  2  ; number of neurons:  64  ; activation function:  tanh\n",
            "Weight matrix dimention (64, 64) Bias vector dimention (64, 1)\n",
            "----------------\n",
            "Layer:  3  ; number of neurons:  64  ; activation function:  tanh\n",
            "Weight matrix dimention (64, 64) Bias vector dimention (64, 1)\n",
            "----------------\n",
            "Layer:  4  ; number of neurons:  64  ; activation function:  tanh\n",
            "Weight matrix dimention (64, 64) Bias vector dimention (64, 1)\n",
            "----------------\n",
            "Layer:  5  ; number of neurons:  10  ; activation function:  softmax\n",
            "Weight matrix dimention (10, 64) Bias vector dimention (10, 1)\n",
            "----------------\n",
            "1312.0\n",
            "\n",
            " Start of training\n",
            "CE Training Loss:  2.377075392330591 SE Training Loss:  0.45724376304631176 Training Accuracy:  10.866666666666667 CE Test Loss:  2.37310512186228 SE Test Loss:  0.45690788518061576 Testing Accuracy:  10.916666666666666\n",
            "Epoch:  1\n"
          ]
        },
        {
          "output_type": "stream",
          "name": "stderr",
          "text": [
            "100%|██████████| 1312/1312 [00:06<00:00, 194.16it/s]\n"
          ]
        },
        {
          "output_type": "stream",
          "name": "stdout",
          "text": [
            "CE Training Loss:  0.4267659075934204 SE Training Loss:  0.10635756664086406 Training Accuracy:  85.22142857142858 CE Test Loss:  0.4385942195380185 SE Test Loss:  0.10941814128675051 Testing Accuracy:  84.96666666666667\n",
            "Epoch:  2\n"
          ]
        },
        {
          "output_type": "stream",
          "name": "stderr",
          "text": [
            "100%|██████████| 1312/1312 [00:08<00:00, 146.45it/s]\n"
          ]
        },
        {
          "output_type": "stream",
          "name": "stdout",
          "text": [
            "CE Training Loss:  0.3773534087243217 SE Training Loss:  0.0936612835173643 Training Accuracy:  87.03095238095239 CE Test Loss:  0.39933445098117853 SE Test Loss:  0.0991036711785086 Testing Accuracy:  86.3\n",
            "Epoch:  3\n"
          ]
        },
        {
          "output_type": "stream",
          "name": "stderr",
          "text": [
            "100%|██████████| 1312/1312 [00:06<00:00, 217.09it/s]\n"
          ]
        },
        {
          "output_type": "stream",
          "name": "stdout",
          "text": [
            "CE Training Loss:  0.3612202523317352 SE Training Loss:  0.08991925953676731 Training Accuracy:  87.50952380952381 CE Test Loss:  0.3919920177553151 SE Test Loss:  0.09728719628072371 Testing Accuracy:  86.7\n",
            "Epoch:  4\n"
          ]
        },
        {
          "output_type": "stream",
          "name": "stderr",
          "text": [
            "100%|██████████| 1312/1312 [00:08<00:00, 156.94it/s]\n"
          ]
        },
        {
          "output_type": "stream",
          "name": "stdout",
          "text": [
            "CE Training Loss:  0.34000958403675435 SE Training Loss:  0.08429187547560572 Training Accuracy:  88.4 CE Test Loss:  0.3767202337119373 SE Test Loss:  0.09292689434786622 Testing Accuracy:  87.33333333333333\n",
            "Epoch:  5\n"
          ]
        },
        {
          "output_type": "stream",
          "name": "stderr",
          "text": [
            "100%|██████████| 1312/1312 [00:07<00:00, 168.57it/s]\n"
          ]
        },
        {
          "output_type": "stream",
          "name": "stdout",
          "text": [
            "CE Training Loss:  0.33820287754385514 SE Training Loss:  0.08328872108554423 Training Accuracy:  88.62142857142857 CE Test Loss:  0.3821822963804947 SE Test Loss:  0.09392259516694107 Testing Accuracy:  87.18333333333334\n"
          ]
        },
        {
          "output_type": "display_data",
          "data": {
            "text/plain": [
              "<IPython.core.display.HTML object>"
            ],
            "text/html": []
          },
          "metadata": {}
        },
        {
          "output_type": "display_data",
          "data": {
            "text/plain": [
              "<IPython.core.display.HTML object>"
            ],
            "text/html": [
              "<br>    <style><br>        .wandb-row {<br>            display: flex;<br>            flex-direction: row;<br>            flex-wrap: wrap;<br>            justify-content: flex-start;<br>            width: 100%;<br>        }<br>        .wandb-col {<br>            display: flex;<br>            flex-direction: column;<br>            flex-basis: 100%;<br>            flex: 1;<br>            padding: 10px;<br>        }<br>    </style><br><div class=\"wandb-row\"><div class=\"wandb-col\"><h3>Run history:</h3><br/><table class=\"wandb\"><tr><td>tr_accuracy</td><td>▁█████</td></tr><tr><td>tr_loss_CE</td><td>█▁▁▁▁▁</td></tr><tr><td>tr_loss_SE</td><td>█▁▁▁▁▁</td></tr><tr><td>val_accuracy</td><td>▁█████</td></tr><tr><td>val_loss_CE</td><td>█▁▁▁▁▁</td></tr><tr><td>val_loss_SE</td><td>█▁▁▁▁▁</td></tr></table><br/></div><div class=\"wandb-col\"><h3>Run summary:</h3><br/><table class=\"wandb\"><tr><td>tr_accuracy</td><td>88.62143</td></tr><tr><td>tr_loss_CE</td><td>0.3382</td></tr><tr><td>tr_loss_SE</td><td>0.08329</td></tr><tr><td>val_accuracy</td><td>87.18333</td></tr><tr><td>val_loss_CE</td><td>0.38218</td></tr><tr><td>val_loss_SE</td><td>0.09392</td></tr></table><br/></div></div>"
            ]
          },
          "metadata": {}
        },
        {
          "output_type": "display_data",
          "data": {
            "text/plain": [
              "<IPython.core.display.HTML object>"
            ],
            "text/html": [
              " View run <strong style=\"color:#cdcd00\">e_5_hl_4_hs_64_lr_0.001_opt_adam_bs_32_init_Xavier_ac_tanh_l2_0</strong> at: <a href='https://wandb.ai/arunangshudutta218-iitm/dl_assgn_1_q_8/runs/zrnst5z7' target=\"_blank\">https://wandb.ai/arunangshudutta218-iitm/dl_assgn_1_q_8/runs/zrnst5z7</a><br> View project at: <a href='https://wandb.ai/arunangshudutta218-iitm/dl_assgn_1_q_8' target=\"_blank\">https://wandb.ai/arunangshudutta218-iitm/dl_assgn_1_q_8</a><br>Synced 5 W&B file(s), 0 media file(s), 0 artifact file(s) and 0 other file(s)"
            ]
          },
          "metadata": {}
        },
        {
          "output_type": "display_data",
          "data": {
            "text/plain": [
              "<IPython.core.display.HTML object>"
            ],
            "text/html": [
              "Find logs at: <code>./wandb/run-20250317_133254-zrnst5z7/logs</code>"
            ]
          },
          "metadata": {}
        },
        {
          "output_type": "stream",
          "name": "stderr",
          "text": [
            "\u001b[34m\u001b[1mwandb\u001b[0m: Agent Starting Run: 996hzv1q with config:\n",
            "\u001b[34m\u001b[1mwandb\u001b[0m: \tactivation: tanh\n",
            "\u001b[34m\u001b[1mwandb\u001b[0m: \tbatch_size: 32\n",
            "\u001b[34m\u001b[1mwandb\u001b[0m: \tepochs: 5\n",
            "\u001b[34m\u001b[1mwandb\u001b[0m: \thidden_size: 64\n",
            "\u001b[34m\u001b[1mwandb\u001b[0m: \tlearning_rate: 0.001\n",
            "\u001b[34m\u001b[1mwandb\u001b[0m: \tloss_function: squared_error\n",
            "\u001b[34m\u001b[1mwandb\u001b[0m: \tnum_layers: 4\n",
            "\u001b[34m\u001b[1mwandb\u001b[0m: \toptimizer: adam\n",
            "\u001b[34m\u001b[1mwandb\u001b[0m: \tweight_decay: 0.0005\n",
            "\u001b[34m\u001b[1mwandb\u001b[0m: \tweight_init: Xavier\n"
          ]
        },
        {
          "output_type": "display_data",
          "data": {
            "text/plain": [
              "<IPython.core.display.HTML object>"
            ],
            "text/html": [
              "Tracking run with wandb version 0.19.8"
            ]
          },
          "metadata": {}
        },
        {
          "output_type": "display_data",
          "data": {
            "text/plain": [
              "<IPython.core.display.HTML object>"
            ],
            "text/html": [
              "Run data is saved locally in <code>/content/wandb/run-20250317_133350-996hzv1q</code>"
            ]
          },
          "metadata": {}
        },
        {
          "output_type": "display_data",
          "data": {
            "text/plain": [
              "<IPython.core.display.HTML object>"
            ],
            "text/html": [
              "Syncing run <strong><a href='https://wandb.ai/arunangshudutta218-iitm/dl_assgn_1_q_8/runs/996hzv1q' target=\"_blank\">logical-sweep-14</a></strong> to <a href='https://wandb.ai/arunangshudutta218-iitm/dl_assgn_1_q_8' target=\"_blank\">Weights & Biases</a> (<a href='https://wandb.me/developer-guide' target=\"_blank\">docs</a>)<br>Sweep page: <a href='https://wandb.ai/arunangshudutta218-iitm/dl_assgn_1_q_8/sweeps/28yyx0vh' target=\"_blank\">https://wandb.ai/arunangshudutta218-iitm/dl_assgn_1_q_8/sweeps/28yyx0vh</a>"
            ]
          },
          "metadata": {}
        },
        {
          "output_type": "display_data",
          "data": {
            "text/plain": [
              "<IPython.core.display.HTML object>"
            ],
            "text/html": [
              " View project at <a href='https://wandb.ai/arunangshudutta218-iitm/dl_assgn_1_q_8' target=\"_blank\">https://wandb.ai/arunangshudutta218-iitm/dl_assgn_1_q_8</a>"
            ]
          },
          "metadata": {}
        },
        {
          "output_type": "display_data",
          "data": {
            "text/plain": [
              "<IPython.core.display.HTML object>"
            ],
            "text/html": [
              " View sweep at <a href='https://wandb.ai/arunangshudutta218-iitm/dl_assgn_1_q_8/sweeps/28yyx0vh' target=\"_blank\">https://wandb.ai/arunangshudutta218-iitm/dl_assgn_1_q_8/sweeps/28yyx0vh</a>"
            ]
          },
          "metadata": {}
        },
        {
          "output_type": "display_data",
          "data": {
            "text/plain": [
              "<IPython.core.display.HTML object>"
            ],
            "text/html": [
              " View run at <a href='https://wandb.ai/arunangshudutta218-iitm/dl_assgn_1_q_8/runs/996hzv1q' target=\"_blank\">https://wandb.ai/arunangshudutta218-iitm/dl_assgn_1_q_8/runs/996hzv1q</a>"
            ]
          },
          "metadata": {}
        },
        {
          "output_type": "stream",
          "name": "stdout",
          "text": [
            "Hyper parameters: \n",
            "\n",
            "Weight initialization type :  Xavier\n",
            "Optimizer :  adam\n",
            "Learning rate (initial):  0.001\n",
            "Batch size:  32\n",
            "-------------------\n",
            "Architecture Description:\n",
            "\n",
            "Layer:  1  ; number of neurons:  64  ; activation function:  tanh\n",
            "Weight matrix dimention (64, 784) Bias vector dimention (64, 1)\n",
            "----------------\n",
            "Layer:  2  ; number of neurons:  64  ; activation function:  tanh\n",
            "Weight matrix dimention (64, 64) Bias vector dimention (64, 1)\n",
            "----------------\n",
            "Layer:  3  ; number of neurons:  64  ; activation function:  tanh\n",
            "Weight matrix dimention (64, 64) Bias vector dimention (64, 1)\n",
            "----------------\n",
            "Layer:  4  ; number of neurons:  64  ; activation function:  tanh\n",
            "Weight matrix dimention (64, 64) Bias vector dimention (64, 1)\n",
            "----------------\n",
            "Layer:  5  ; number of neurons:  10  ; activation function:  softmax\n",
            "Weight matrix dimention (10, 64) Bias vector dimention (10, 1)\n",
            "----------------\n",
            "1312.0\n",
            "\n",
            " Start of training\n",
            "CE Training Loss:  2.3513896369326073 SE Training Loss:  0.4556170940598867 Training Accuracy:  9.888095238095238 CE Test Loss:  2.3520997386482114 SE Test Loss:  0.45568933900404196 Testing Accuracy:  9.683333333333334\n",
            "Epoch:  1\n"
          ]
        },
        {
          "output_type": "stream",
          "name": "stderr",
          "text": [
            "100%|██████████| 1312/1312 [00:08<00:00, 153.11it/s]\n"
          ]
        },
        {
          "output_type": "stream",
          "name": "stdout",
          "text": [
            "CE Training Loss:  0.4388318450659608 SE Training Loss:  0.11072897580728336 Training Accuracy:  84.66904761904762 CE Test Loss:  0.4484429830761597 SE Test Loss:  0.1132645074564319 Testing Accuracy:  84.5\n",
            "Epoch:  2\n"
          ]
        },
        {
          "output_type": "stream",
          "name": "stderr",
          "text": [
            "100%|██████████| 1312/1312 [00:06<00:00, 210.93it/s]\n"
          ]
        },
        {
          "output_type": "stream",
          "name": "stdout",
          "text": [
            "CE Training Loss:  0.3913542003645009 SE Training Loss:  0.09794054118030443 Training Accuracy:  86.37857142857143 CE Test Loss:  0.40820290549730204 SE Test Loss:  0.10234196589132748 Testing Accuracy:  85.86111111111111\n",
            "Epoch:  3\n"
          ]
        },
        {
          "output_type": "stream",
          "name": "stderr",
          "text": [
            "100%|██████████| 1312/1312 [00:07<00:00, 178.93it/s]\n"
          ]
        },
        {
          "output_type": "stream",
          "name": "stdout",
          "text": [
            "CE Training Loss:  0.37326984030591825 SE Training Loss:  0.09246729101434788 Training Accuracy:  87.14285714285714 CE Test Loss:  0.39722672355770716 SE Test Loss:  0.09843790092101931 Testing Accuracy:  86.38333333333334\n",
            "Epoch:  4\n"
          ]
        },
        {
          "output_type": "stream",
          "name": "stderr",
          "text": [
            "100%|██████████| 1312/1312 [00:08<00:00, 155.28it/s]\n"
          ]
        },
        {
          "output_type": "stream",
          "name": "stdout",
          "text": [
            "CE Training Loss:  0.35546209153680447 SE Training Loss:  0.08810412954707376 Training Accuracy:  87.88571428571429 CE Test Loss:  0.38755935568216743 SE Test Loss:  0.09592079769641866 Testing Accuracy:  86.73333333333333\n",
            "Epoch:  5\n"
          ]
        },
        {
          "output_type": "stream",
          "name": "stderr",
          "text": [
            "100%|██████████| 1312/1312 [00:06<00:00, 216.57it/s]\n"
          ]
        },
        {
          "output_type": "stream",
          "name": "stdout",
          "text": [
            "CE Training Loss:  0.3566202766689391 SE Training Loss:  0.08791203676525154 Training Accuracy:  87.82857142857142 CE Test Loss:  0.39389231284610166 SE Test Loss:  0.09700532940836598 Testing Accuracy:  86.73333333333333\n"
          ]
        },
        {
          "output_type": "display_data",
          "data": {
            "text/plain": [
              "<IPython.core.display.HTML object>"
            ],
            "text/html": []
          },
          "metadata": {}
        },
        {
          "output_type": "display_data",
          "data": {
            "text/plain": [
              "<IPython.core.display.HTML object>"
            ],
            "text/html": [
              "<br>    <style><br>        .wandb-row {<br>            display: flex;<br>            flex-direction: row;<br>            flex-wrap: wrap;<br>            justify-content: flex-start;<br>            width: 100%;<br>        }<br>        .wandb-col {<br>            display: flex;<br>            flex-direction: column;<br>            flex-basis: 100%;<br>            flex: 1;<br>            padding: 10px;<br>        }<br>    </style><br><div class=\"wandb-row\"><div class=\"wandb-col\"><h3>Run history:</h3><br/><table class=\"wandb\"><tr><td>tr_accuracy</td><td>▁█████</td></tr><tr><td>tr_loss_CE</td><td>█▁▁▁▁▁</td></tr><tr><td>tr_loss_SE</td><td>█▁▁▁▁▁</td></tr><tr><td>val_accuracy</td><td>▁█████</td></tr><tr><td>val_loss_CE</td><td>█▁▁▁▁▁</td></tr><tr><td>val_loss_SE</td><td>█▁▁▁▁▁</td></tr></table><br/></div><div class=\"wandb-col\"><h3>Run summary:</h3><br/><table class=\"wandb\"><tr><td>tr_accuracy</td><td>87.82857</td></tr><tr><td>tr_loss_CE</td><td>0.35662</td></tr><tr><td>tr_loss_SE</td><td>0.08791</td></tr><tr><td>val_accuracy</td><td>86.73333</td></tr><tr><td>val_loss_CE</td><td>0.39389</td></tr><tr><td>val_loss_SE</td><td>0.09701</td></tr></table><br/></div></div>"
            ]
          },
          "metadata": {}
        },
        {
          "output_type": "display_data",
          "data": {
            "text/plain": [
              "<IPython.core.display.HTML object>"
            ],
            "text/html": [
              " View run <strong style=\"color:#cdcd00\">e_5_hl_4_hs_64_lr_0.001_opt_adam_bs_32_init_Xavier_ac_tanh_l2_0.0005</strong> at: <a href='https://wandb.ai/arunangshudutta218-iitm/dl_assgn_1_q_8/runs/996hzv1q' target=\"_blank\">https://wandb.ai/arunangshudutta218-iitm/dl_assgn_1_q_8/runs/996hzv1q</a><br> View project at: <a href='https://wandb.ai/arunangshudutta218-iitm/dl_assgn_1_q_8' target=\"_blank\">https://wandb.ai/arunangshudutta218-iitm/dl_assgn_1_q_8</a><br>Synced 5 W&B file(s), 0 media file(s), 0 artifact file(s) and 0 other file(s)"
            ]
          },
          "metadata": {}
        },
        {
          "output_type": "display_data",
          "data": {
            "text/plain": [
              "<IPython.core.display.HTML object>"
            ],
            "text/html": [
              "Find logs at: <code>./wandb/run-20250317_133350-996hzv1q/logs</code>"
            ]
          },
          "metadata": {}
        },
        {
          "output_type": "stream",
          "name": "stderr",
          "text": [
            "\u001b[34m\u001b[1mwandb\u001b[0m: Agent Starting Run: s6z7eetj with config:\n",
            "\u001b[34m\u001b[1mwandb\u001b[0m: \tactivation: tanh\n",
            "\u001b[34m\u001b[1mwandb\u001b[0m: \tbatch_size: 32\n",
            "\u001b[34m\u001b[1mwandb\u001b[0m: \tepochs: 5\n",
            "\u001b[34m\u001b[1mwandb\u001b[0m: \thidden_size: 64\n",
            "\u001b[34m\u001b[1mwandb\u001b[0m: \tlearning_rate: 0.001\n",
            "\u001b[34m\u001b[1mwandb\u001b[0m: \tloss_function: squared_error\n",
            "\u001b[34m\u001b[1mwandb\u001b[0m: \tnum_layers: 4\n",
            "\u001b[34m\u001b[1mwandb\u001b[0m: \toptimizer: adam\n",
            "\u001b[34m\u001b[1mwandb\u001b[0m: \tweight_decay: 0.5\n",
            "\u001b[34m\u001b[1mwandb\u001b[0m: \tweight_init: Xavier\n"
          ]
        },
        {
          "output_type": "display_data",
          "data": {
            "text/plain": [
              "<IPython.core.display.HTML object>"
            ],
            "text/html": [
              "Tracking run with wandb version 0.19.8"
            ]
          },
          "metadata": {}
        },
        {
          "output_type": "display_data",
          "data": {
            "text/plain": [
              "<IPython.core.display.HTML object>"
            ],
            "text/html": [
              "Run data is saved locally in <code>/content/wandb/run-20250317_133440-s6z7eetj</code>"
            ]
          },
          "metadata": {}
        },
        {
          "output_type": "display_data",
          "data": {
            "text/plain": [
              "<IPython.core.display.HTML object>"
            ],
            "text/html": [
              "Syncing run <strong><a href='https://wandb.ai/arunangshudutta218-iitm/dl_assgn_1_q_8/runs/s6z7eetj' target=\"_blank\">icy-sweep-15</a></strong> to <a href='https://wandb.ai/arunangshudutta218-iitm/dl_assgn_1_q_8' target=\"_blank\">Weights & Biases</a> (<a href='https://wandb.me/developer-guide' target=\"_blank\">docs</a>)<br>Sweep page: <a href='https://wandb.ai/arunangshudutta218-iitm/dl_assgn_1_q_8/sweeps/28yyx0vh' target=\"_blank\">https://wandb.ai/arunangshudutta218-iitm/dl_assgn_1_q_8/sweeps/28yyx0vh</a>"
            ]
          },
          "metadata": {}
        },
        {
          "output_type": "display_data",
          "data": {
            "text/plain": [
              "<IPython.core.display.HTML object>"
            ],
            "text/html": [
              " View project at <a href='https://wandb.ai/arunangshudutta218-iitm/dl_assgn_1_q_8' target=\"_blank\">https://wandb.ai/arunangshudutta218-iitm/dl_assgn_1_q_8</a>"
            ]
          },
          "metadata": {}
        },
        {
          "output_type": "display_data",
          "data": {
            "text/plain": [
              "<IPython.core.display.HTML object>"
            ],
            "text/html": [
              " View sweep at <a href='https://wandb.ai/arunangshudutta218-iitm/dl_assgn_1_q_8/sweeps/28yyx0vh' target=\"_blank\">https://wandb.ai/arunangshudutta218-iitm/dl_assgn_1_q_8/sweeps/28yyx0vh</a>"
            ]
          },
          "metadata": {}
        },
        {
          "output_type": "display_data",
          "data": {
            "text/plain": [
              "<IPython.core.display.HTML object>"
            ],
            "text/html": [
              " View run at <a href='https://wandb.ai/arunangshudutta218-iitm/dl_assgn_1_q_8/runs/s6z7eetj' target=\"_blank\">https://wandb.ai/arunangshudutta218-iitm/dl_assgn_1_q_8/runs/s6z7eetj</a>"
            ]
          },
          "metadata": {}
        },
        {
          "output_type": "stream",
          "name": "stdout",
          "text": [
            "Hyper parameters: \n",
            "\n",
            "Weight initialization type :  Xavier\n",
            "Optimizer :  adam\n",
            "Learning rate (initial):  0.001\n",
            "Batch size:  32\n",
            "-------------------\n",
            "Architecture Description:\n",
            "\n",
            "Layer:  1  ; number of neurons:  64  ; activation function:  tanh\n",
            "Weight matrix dimention (64, 784) Bias vector dimention (64, 1)\n",
            "----------------\n",
            "Layer:  2  ; number of neurons:  64  ; activation function:  tanh\n",
            "Weight matrix dimention (64, 64) Bias vector dimention (64, 1)\n",
            "----------------\n",
            "Layer:  3  ; number of neurons:  64  ; activation function:  tanh\n",
            "Weight matrix dimention (64, 64) Bias vector dimention (64, 1)\n",
            "----------------\n",
            "Layer:  4  ; number of neurons:  64  ; activation function:  tanh\n",
            "Weight matrix dimention (64, 64) Bias vector dimention (64, 1)\n",
            "----------------\n",
            "Layer:  5  ; number of neurons:  10  ; activation function:  softmax\n",
            "Weight matrix dimention (10, 64) Bias vector dimention (10, 1)\n",
            "----------------\n",
            "1312.0\n",
            "\n",
            " Start of training\n",
            "CE Training Loss:  2.362133598778783 SE Training Loss:  0.4576353602128878 Training Accuracy:  9.126190476190477 CE Test Loss:  2.364560317382416 SE Test Loss:  0.45786930583138663 Testing Accuracy:  9.25\n",
            "Epoch:  1\n"
          ]
        },
        {
          "output_type": "stream",
          "name": "stderr",
          "text": [
            "100%|██████████| 1312/1312 [00:06<00:00, 204.00it/s]\n"
          ]
        },
        {
          "output_type": "stream",
          "name": "stdout",
          "text": [
            "CE Training Loss:  1.0061749292119373 SE Training Loss:  0.24657241162527685 Training Accuracy:  66.98571428571428 CE Test Loss:  1.0071109318691465 SE Test Loss:  0.2471957021386424 Testing Accuracy:  66.88888888888889\n",
            "Epoch:  2\n"
          ]
        },
        {
          "output_type": "stream",
          "name": "stderr",
          "text": [
            "100%|██████████| 1312/1312 [00:08<00:00, 163.16it/s]\n"
          ]
        },
        {
          "output_type": "stream",
          "name": "stdout",
          "text": [
            "CE Training Loss:  1.0276867617288108 SE Training Loss:  0.24970070399210803 Training Accuracy:  65.68333333333334 CE Test Loss:  1.0276964880115447 SE Test Loss:  0.2500846941955546 Testing Accuracy:  65.60555555555555\n",
            "Epoch:  3\n"
          ]
        },
        {
          "output_type": "stream",
          "name": "stderr",
          "text": [
            "100%|██████████| 1312/1312 [00:08<00:00, 154.11it/s]\n"
          ]
        },
        {
          "output_type": "stream",
          "name": "stdout",
          "text": [
            "CE Training Loss:  1.1632405178237746 SE Training Loss:  0.2801697056091577 Training Accuracy:  55.57142857142857 CE Test Loss:  1.1617673539342095 SE Test Loss:  0.280034098396943 Testing Accuracy:  55.46111111111111\n",
            "Epoch:  4\n"
          ]
        },
        {
          "output_type": "stream",
          "name": "stderr",
          "text": [
            "100%|██████████| 1312/1312 [00:06<00:00, 211.70it/s]\n"
          ]
        },
        {
          "output_type": "stream",
          "name": "stdout",
          "text": [
            "CE Training Loss:  1.1682950522545874 SE Training Loss:  0.2809834190655749 Training Accuracy:  55.72142857142857 CE Test Loss:  1.1666807990735628 SE Test Loss:  0.2807938088884057 Testing Accuracy:  55.61666666666667\n",
            "Epoch:  5\n"
          ]
        },
        {
          "output_type": "stream",
          "name": "stderr",
          "text": [
            "100%|██████████| 1312/1312 [00:08<00:00, 149.15it/s]\n"
          ]
        },
        {
          "output_type": "stream",
          "name": "stdout",
          "text": [
            "CE Training Loss:  1.1698860481506697 SE Training Loss:  0.28105038539738 Training Accuracy:  55.65238095238095 CE Test Loss:  1.1682922401361266 SE Test Loss:  0.2808702261782303 Testing Accuracy:  55.56111111111111\n"
          ]
        },
        {
          "output_type": "display_data",
          "data": {
            "text/plain": [
              "<IPython.core.display.HTML object>"
            ],
            "text/html": []
          },
          "metadata": {}
        },
        {
          "output_type": "display_data",
          "data": {
            "text/plain": [
              "<IPython.core.display.HTML object>"
            ],
            "text/html": [
              "<br>    <style><br>        .wandb-row {<br>            display: flex;<br>            flex-direction: row;<br>            flex-wrap: wrap;<br>            justify-content: flex-start;<br>            width: 100%;<br>        }<br>        .wandb-col {<br>            display: flex;<br>            flex-direction: column;<br>            flex-basis: 100%;<br>            flex: 1;<br>            padding: 10px;<br>        }<br>    </style><br><div class=\"wandb-row\"><div class=\"wandb-col\"><h3>Run history:</h3><br/><table class=\"wandb\"><tr><td>tr_accuracy</td><td>▁██▇▇▇</td></tr><tr><td>tr_loss_CE</td><td>█▁▁▂▂▂</td></tr><tr><td>tr_loss_SE</td><td>█▁▁▂▂▂</td></tr><tr><td>val_accuracy</td><td>▁██▇▇▇</td></tr><tr><td>val_loss_CE</td><td>█▁▁▂▂▂</td></tr><tr><td>val_loss_SE</td><td>█▁▁▂▂▂</td></tr></table><br/></div><div class=\"wandb-col\"><h3>Run summary:</h3><br/><table class=\"wandb\"><tr><td>tr_accuracy</td><td>55.65238</td></tr><tr><td>tr_loss_CE</td><td>1.16989</td></tr><tr><td>tr_loss_SE</td><td>0.28105</td></tr><tr><td>val_accuracy</td><td>55.56111</td></tr><tr><td>val_loss_CE</td><td>1.16829</td></tr><tr><td>val_loss_SE</td><td>0.28087</td></tr></table><br/></div></div>"
            ]
          },
          "metadata": {}
        },
        {
          "output_type": "display_data",
          "data": {
            "text/plain": [
              "<IPython.core.display.HTML object>"
            ],
            "text/html": [
              " View run <strong style=\"color:#cdcd00\">e_5_hl_4_hs_64_lr_0.001_opt_adam_bs_32_init_Xavier_ac_tanh_l2_0.5</strong> at: <a href='https://wandb.ai/arunangshudutta218-iitm/dl_assgn_1_q_8/runs/s6z7eetj' target=\"_blank\">https://wandb.ai/arunangshudutta218-iitm/dl_assgn_1_q_8/runs/s6z7eetj</a><br> View project at: <a href='https://wandb.ai/arunangshudutta218-iitm/dl_assgn_1_q_8' target=\"_blank\">https://wandb.ai/arunangshudutta218-iitm/dl_assgn_1_q_8</a><br>Synced 5 W&B file(s), 0 media file(s), 0 artifact file(s) and 0 other file(s)"
            ]
          },
          "metadata": {}
        },
        {
          "output_type": "display_data",
          "data": {
            "text/plain": [
              "<IPython.core.display.HTML object>"
            ],
            "text/html": [
              "Find logs at: <code>./wandb/run-20250317_133440-s6z7eetj/logs</code>"
            ]
          },
          "metadata": {}
        },
        {
          "output_type": "stream",
          "name": "stderr",
          "text": [
            "\u001b[34m\u001b[1mwandb\u001b[0m: Agent Starting Run: etxbvniq with config:\n",
            "\u001b[34m\u001b[1mwandb\u001b[0m: \tactivation: tanh\n",
            "\u001b[34m\u001b[1mwandb\u001b[0m: \tbatch_size: 32\n",
            "\u001b[34m\u001b[1mwandb\u001b[0m: \tepochs: 5\n",
            "\u001b[34m\u001b[1mwandb\u001b[0m: \thidden_size: 64\n",
            "\u001b[34m\u001b[1mwandb\u001b[0m: \tlearning_rate: 0.001\n",
            "\u001b[34m\u001b[1mwandb\u001b[0m: \tloss_function: squared_error\n",
            "\u001b[34m\u001b[1mwandb\u001b[0m: \tnum_layers: 4\n",
            "\u001b[34m\u001b[1mwandb\u001b[0m: \toptimizer: nadam\n",
            "\u001b[34m\u001b[1mwandb\u001b[0m: \tweight_decay: 0\n",
            "\u001b[34m\u001b[1mwandb\u001b[0m: \tweight_init: Xavier\n"
          ]
        },
        {
          "output_type": "display_data",
          "data": {
            "text/plain": [
              "<IPython.core.display.HTML object>"
            ],
            "text/html": [
              "Tracking run with wandb version 0.19.8"
            ]
          },
          "metadata": {}
        },
        {
          "output_type": "display_data",
          "data": {
            "text/plain": [
              "<IPython.core.display.HTML object>"
            ],
            "text/html": [
              "Run data is saved locally in <code>/content/wandb/run-20250317_133531-etxbvniq</code>"
            ]
          },
          "metadata": {}
        },
        {
          "output_type": "display_data",
          "data": {
            "text/plain": [
              "<IPython.core.display.HTML object>"
            ],
            "text/html": [
              "Syncing run <strong><a href='https://wandb.ai/arunangshudutta218-iitm/dl_assgn_1_q_8/runs/etxbvniq' target=\"_blank\">floral-sweep-16</a></strong> to <a href='https://wandb.ai/arunangshudutta218-iitm/dl_assgn_1_q_8' target=\"_blank\">Weights & Biases</a> (<a href='https://wandb.me/developer-guide' target=\"_blank\">docs</a>)<br>Sweep page: <a href='https://wandb.ai/arunangshudutta218-iitm/dl_assgn_1_q_8/sweeps/28yyx0vh' target=\"_blank\">https://wandb.ai/arunangshudutta218-iitm/dl_assgn_1_q_8/sweeps/28yyx0vh</a>"
            ]
          },
          "metadata": {}
        },
        {
          "output_type": "display_data",
          "data": {
            "text/plain": [
              "<IPython.core.display.HTML object>"
            ],
            "text/html": [
              " View project at <a href='https://wandb.ai/arunangshudutta218-iitm/dl_assgn_1_q_8' target=\"_blank\">https://wandb.ai/arunangshudutta218-iitm/dl_assgn_1_q_8</a>"
            ]
          },
          "metadata": {}
        },
        {
          "output_type": "display_data",
          "data": {
            "text/plain": [
              "<IPython.core.display.HTML object>"
            ],
            "text/html": [
              " View sweep at <a href='https://wandb.ai/arunangshudutta218-iitm/dl_assgn_1_q_8/sweeps/28yyx0vh' target=\"_blank\">https://wandb.ai/arunangshudutta218-iitm/dl_assgn_1_q_8/sweeps/28yyx0vh</a>"
            ]
          },
          "metadata": {}
        },
        {
          "output_type": "display_data",
          "data": {
            "text/plain": [
              "<IPython.core.display.HTML object>"
            ],
            "text/html": [
              " View run at <a href='https://wandb.ai/arunangshudutta218-iitm/dl_assgn_1_q_8/runs/etxbvniq' target=\"_blank\">https://wandb.ai/arunangshudutta218-iitm/dl_assgn_1_q_8/runs/etxbvniq</a>"
            ]
          },
          "metadata": {}
        },
        {
          "output_type": "stream",
          "name": "stdout",
          "text": [
            "Hyper parameters: \n",
            "\n",
            "Weight initialization type :  Xavier\n",
            "Optimizer :  nadam\n",
            "Learning rate (initial):  0.001\n",
            "Batch size:  32\n",
            "-------------------\n",
            "Architecture Description:\n",
            "\n",
            "Layer:  1  ; number of neurons:  64  ; activation function:  tanh\n",
            "Weight matrix dimention (64, 784) Bias vector dimention (64, 1)\n",
            "----------------\n",
            "Layer:  2  ; number of neurons:  64  ; activation function:  tanh\n",
            "Weight matrix dimention (64, 64) Bias vector dimention (64, 1)\n",
            "----------------\n",
            "Layer:  3  ; number of neurons:  64  ; activation function:  tanh\n",
            "Weight matrix dimention (64, 64) Bias vector dimention (64, 1)\n",
            "----------------\n",
            "Layer:  4  ; number of neurons:  64  ; activation function:  tanh\n",
            "Weight matrix dimention (64, 64) Bias vector dimention (64, 1)\n",
            "----------------\n",
            "Layer:  5  ; number of neurons:  10  ; activation function:  softmax\n",
            "Weight matrix dimention (10, 64) Bias vector dimention (10, 1)\n",
            "----------------\n",
            "1312.0\n",
            "\n",
            " Start of training\n",
            "CE Training Loss:  2.329018458181603 SE Training Loss:  0.45148380509906233 Training Accuracy:  12.85 CE Test Loss:  2.3251535083283614 SE Test Loss:  0.4510304501466358 Testing Accuracy:  13.072222222222223\n",
            "Epoch:  1\n"
          ]
        },
        {
          "output_type": "stream",
          "name": "stderr",
          "text": [
            "100%|██████████| 1312/1312 [00:08<00:00, 146.53it/s]\n"
          ]
        },
        {
          "output_type": "stream",
          "name": "stdout",
          "text": [
            "CE Training Loss:  0.43221679731145085 SE Training Loss:  0.10766294277033031 Training Accuracy:  84.95952380952382 CE Test Loss:  0.4409688648567716 SE Test Loss:  0.11016685885825694 Testing Accuracy:  84.77777777777777\n",
            "Epoch:  2\n"
          ]
        },
        {
          "output_type": "stream",
          "name": "stderr",
          "text": [
            "100%|██████████| 1312/1312 [00:08<00:00, 153.92it/s]\n"
          ]
        },
        {
          "output_type": "stream",
          "name": "stdout",
          "text": [
            "CE Training Loss:  0.39403649224655823 SE Training Loss:  0.0984715501209457 Training Accuracy:  86.28809523809524 CE Test Loss:  0.4123743184978772 SE Test Loss:  0.10318729232544045 Testing Accuracy:  85.55555555555556\n",
            "Epoch:  3\n"
          ]
        },
        {
          "output_type": "stream",
          "name": "stderr",
          "text": [
            "100%|██████████| 1312/1312 [00:06<00:00, 209.36it/s]\n"
          ]
        },
        {
          "output_type": "stream",
          "name": "stdout",
          "text": [
            "CE Training Loss:  0.36652621744230784 SE Training Loss:  0.09170689648567473 Training Accuracy:  87.21428571428571 CE Test Loss:  0.39194496690335456 SE Test Loss:  0.09841712304676609 Testing Accuracy:  86.38888888888889\n",
            "Epoch:  4\n"
          ]
        },
        {
          "output_type": "stream",
          "name": "stderr",
          "text": [
            "100%|██████████| 1312/1312 [00:09<00:00, 144.82it/s]\n"
          ]
        },
        {
          "output_type": "stream",
          "name": "stdout",
          "text": [
            "CE Training Loss:  0.3571742667449823 SE Training Loss:  0.08849050136654636 Training Accuracy:  87.74761904761905 CE Test Loss:  0.390789523314693 SE Test Loss:  0.096964409267209 Testing Accuracy:  86.63888888888889\n",
            "Epoch:  5\n"
          ]
        },
        {
          "output_type": "stream",
          "name": "stderr",
          "text": [
            "100%|██████████| 1312/1312 [00:07<00:00, 175.60it/s]\n"
          ]
        },
        {
          "output_type": "stream",
          "name": "stdout",
          "text": [
            "CE Training Loss:  0.3390376070590004 SE Training Loss:  0.08416132152719234 Training Accuracy:  88.37142857142857 CE Test Loss:  0.37859842917577685 SE Test Loss:  0.09383149979655123 Testing Accuracy:  87.2\n"
          ]
        },
        {
          "output_type": "display_data",
          "data": {
            "text/plain": [
              "<IPython.core.display.HTML object>"
            ],
            "text/html": []
          },
          "metadata": {}
        },
        {
          "output_type": "display_data",
          "data": {
            "text/plain": [
              "<IPython.core.display.HTML object>"
            ],
            "text/html": [
              "<br>    <style><br>        .wandb-row {<br>            display: flex;<br>            flex-direction: row;<br>            flex-wrap: wrap;<br>            justify-content: flex-start;<br>            width: 100%;<br>        }<br>        .wandb-col {<br>            display: flex;<br>            flex-direction: column;<br>            flex-basis: 100%;<br>            flex: 1;<br>            padding: 10px;<br>        }<br>    </style><br><div class=\"wandb-row\"><div class=\"wandb-col\"><h3>Run history:</h3><br/><table class=\"wandb\"><tr><td>tr_accuracy</td><td>▁█████</td></tr><tr><td>tr_loss_CE</td><td>█▁▁▁▁▁</td></tr><tr><td>tr_loss_SE</td><td>█▁▁▁▁▁</td></tr><tr><td>val_accuracy</td><td>▁█████</td></tr><tr><td>val_loss_CE</td><td>█▁▁▁▁▁</td></tr><tr><td>val_loss_SE</td><td>█▁▁▁▁▁</td></tr></table><br/></div><div class=\"wandb-col\"><h3>Run summary:</h3><br/><table class=\"wandb\"><tr><td>tr_accuracy</td><td>88.37143</td></tr><tr><td>tr_loss_CE</td><td>0.33904</td></tr><tr><td>tr_loss_SE</td><td>0.08416</td></tr><tr><td>val_accuracy</td><td>87.2</td></tr><tr><td>val_loss_CE</td><td>0.3786</td></tr><tr><td>val_loss_SE</td><td>0.09383</td></tr></table><br/></div></div>"
            ]
          },
          "metadata": {}
        },
        {
          "output_type": "display_data",
          "data": {
            "text/plain": [
              "<IPython.core.display.HTML object>"
            ],
            "text/html": [
              " View run <strong style=\"color:#cdcd00\">e_5_hl_4_hs_64_lr_0.001_opt_nadam_bs_32_init_Xavier_ac_tanh_l2_0</strong> at: <a href='https://wandb.ai/arunangshudutta218-iitm/dl_assgn_1_q_8/runs/etxbvniq' target=\"_blank\">https://wandb.ai/arunangshudutta218-iitm/dl_assgn_1_q_8/runs/etxbvniq</a><br> View project at: <a href='https://wandb.ai/arunangshudutta218-iitm/dl_assgn_1_q_8' target=\"_blank\">https://wandb.ai/arunangshudutta218-iitm/dl_assgn_1_q_8</a><br>Synced 5 W&B file(s), 0 media file(s), 0 artifact file(s) and 0 other file(s)"
            ]
          },
          "metadata": {}
        },
        {
          "output_type": "display_data",
          "data": {
            "text/plain": [
              "<IPython.core.display.HTML object>"
            ],
            "text/html": [
              "Find logs at: <code>./wandb/run-20250317_133531-etxbvniq/logs</code>"
            ]
          },
          "metadata": {}
        },
        {
          "output_type": "stream",
          "name": "stderr",
          "text": [
            "\u001b[34m\u001b[1mwandb\u001b[0m: Agent Starting Run: yyc39dl6 with config:\n",
            "\u001b[34m\u001b[1mwandb\u001b[0m: \tactivation: tanh\n",
            "\u001b[34m\u001b[1mwandb\u001b[0m: \tbatch_size: 32\n",
            "\u001b[34m\u001b[1mwandb\u001b[0m: \tepochs: 5\n",
            "\u001b[34m\u001b[1mwandb\u001b[0m: \thidden_size: 64\n",
            "\u001b[34m\u001b[1mwandb\u001b[0m: \tlearning_rate: 0.001\n",
            "\u001b[34m\u001b[1mwandb\u001b[0m: \tloss_function: squared_error\n",
            "\u001b[34m\u001b[1mwandb\u001b[0m: \tnum_layers: 4\n",
            "\u001b[34m\u001b[1mwandb\u001b[0m: \toptimizer: nadam\n",
            "\u001b[34m\u001b[1mwandb\u001b[0m: \tweight_decay: 0.0005\n",
            "\u001b[34m\u001b[1mwandb\u001b[0m: \tweight_init: Xavier\n"
          ]
        },
        {
          "output_type": "display_data",
          "data": {
            "text/plain": [
              "<IPython.core.display.HTML object>"
            ],
            "text/html": [
              "Tracking run with wandb version 0.19.8"
            ]
          },
          "metadata": {}
        },
        {
          "output_type": "display_data",
          "data": {
            "text/plain": [
              "<IPython.core.display.HTML object>"
            ],
            "text/html": [
              "Run data is saved locally in <code>/content/wandb/run-20250317_133626-yyc39dl6</code>"
            ]
          },
          "metadata": {}
        },
        {
          "output_type": "display_data",
          "data": {
            "text/plain": [
              "<IPython.core.display.HTML object>"
            ],
            "text/html": [
              "Syncing run <strong><a href='https://wandb.ai/arunangshudutta218-iitm/dl_assgn_1_q_8/runs/yyc39dl6' target=\"_blank\">colorful-sweep-17</a></strong> to <a href='https://wandb.ai/arunangshudutta218-iitm/dl_assgn_1_q_8' target=\"_blank\">Weights & Biases</a> (<a href='https://wandb.me/developer-guide' target=\"_blank\">docs</a>)<br>Sweep page: <a href='https://wandb.ai/arunangshudutta218-iitm/dl_assgn_1_q_8/sweeps/28yyx0vh' target=\"_blank\">https://wandb.ai/arunangshudutta218-iitm/dl_assgn_1_q_8/sweeps/28yyx0vh</a>"
            ]
          },
          "metadata": {}
        },
        {
          "output_type": "display_data",
          "data": {
            "text/plain": [
              "<IPython.core.display.HTML object>"
            ],
            "text/html": [
              " View project at <a href='https://wandb.ai/arunangshudutta218-iitm/dl_assgn_1_q_8' target=\"_blank\">https://wandb.ai/arunangshudutta218-iitm/dl_assgn_1_q_8</a>"
            ]
          },
          "metadata": {}
        },
        {
          "output_type": "display_data",
          "data": {
            "text/plain": [
              "<IPython.core.display.HTML object>"
            ],
            "text/html": [
              " View sweep at <a href='https://wandb.ai/arunangshudutta218-iitm/dl_assgn_1_q_8/sweeps/28yyx0vh' target=\"_blank\">https://wandb.ai/arunangshudutta218-iitm/dl_assgn_1_q_8/sweeps/28yyx0vh</a>"
            ]
          },
          "metadata": {}
        },
        {
          "output_type": "display_data",
          "data": {
            "text/plain": [
              "<IPython.core.display.HTML object>"
            ],
            "text/html": [
              " View run at <a href='https://wandb.ai/arunangshudutta218-iitm/dl_assgn_1_q_8/runs/yyc39dl6' target=\"_blank\">https://wandb.ai/arunangshudutta218-iitm/dl_assgn_1_q_8/runs/yyc39dl6</a>"
            ]
          },
          "metadata": {}
        },
        {
          "output_type": "stream",
          "name": "stdout",
          "text": [
            "Hyper parameters: \n",
            "\n",
            "Weight initialization type :  Xavier\n",
            "Optimizer :  nadam\n",
            "Learning rate (initial):  0.001\n",
            "Batch size:  32\n",
            "-------------------\n",
            "Architecture Description:\n",
            "\n",
            "Layer:  1  ; number of neurons:  64  ; activation function:  tanh\n",
            "Weight matrix dimention (64, 784) Bias vector dimention (64, 1)\n",
            "----------------\n",
            "Layer:  2  ; number of neurons:  64  ; activation function:  tanh\n",
            "Weight matrix dimention (64, 64) Bias vector dimention (64, 1)\n",
            "----------------\n",
            "Layer:  3  ; number of neurons:  64  ; activation function:  tanh\n",
            "Weight matrix dimention (64, 64) Bias vector dimention (64, 1)\n",
            "----------------\n",
            "Layer:  4  ; number of neurons:  64  ; activation function:  tanh\n",
            "Weight matrix dimention (64, 64) Bias vector dimention (64, 1)\n",
            "----------------\n",
            "Layer:  5  ; number of neurons:  10  ; activation function:  softmax\n",
            "Weight matrix dimention (10, 64) Bias vector dimention (10, 1)\n",
            "----------------\n",
            "1312.0\n",
            "\n",
            " Start of training\n",
            "CE Training Loss:  2.4137351943015926 SE Training Loss:  0.4609107055225965 Training Accuracy:  8.054761904761905 CE Test Loss:  2.4177578140354155 SE Test Loss:  0.4613164515881785 Testing Accuracy:  7.916666666666667\n",
            "Epoch:  1\n"
          ]
        },
        {
          "output_type": "stream",
          "name": "stderr",
          "text": [
            "100%|██████████| 1312/1312 [00:08<00:00, 152.58it/s]\n"
          ]
        },
        {
          "output_type": "stream",
          "name": "stdout",
          "text": [
            "CE Training Loss:  0.4314926213032638 SE Training Loss:  0.10758475502564195 Training Accuracy:  85.03571428571429 CE Test Loss:  0.4384222220196298 SE Test Loss:  0.10974966995995522 Testing Accuracy:  84.75555555555556\n",
            "Epoch:  2\n"
          ]
        },
        {
          "output_type": "stream",
          "name": "stderr",
          "text": [
            "100%|██████████| 1312/1312 [00:06<00:00, 202.30it/s]\n"
          ]
        },
        {
          "output_type": "stream",
          "name": "stdout",
          "text": [
            "CE Training Loss:  0.390372839783606 SE Training Loss:  0.09737630312579361 Training Accuracy:  86.39761904761905 CE Test Loss:  0.40669724857468775 SE Test Loss:  0.10174686645407444 Testing Accuracy:  85.85555555555555\n",
            "Epoch:  3\n"
          ]
        },
        {
          "output_type": "stream",
          "name": "stderr",
          "text": [
            "100%|██████████| 1312/1312 [00:08<00:00, 147.28it/s]\n"
          ]
        },
        {
          "output_type": "stream",
          "name": "stdout",
          "text": [
            "CE Training Loss:  0.3813760481008846 SE Training Loss:  0.09543531469932341 Training Accuracy:  86.55714285714286 CE Test Loss:  0.40427847471282496 SE Test Loss:  0.10123075856080814 Testing Accuracy:  85.87222222222222\n",
            "Epoch:  4\n"
          ]
        },
        {
          "output_type": "stream",
          "name": "stderr",
          "text": [
            "100%|██████████| 1312/1312 [00:08<00:00, 151.67it/s]\n"
          ]
        },
        {
          "output_type": "stream",
          "name": "stdout",
          "text": [
            "CE Training Loss:  0.37489475550252654 SE Training Loss:  0.09328436860042262 Training Accuracy:  86.91190476190476 CE Test Loss:  0.4024269926864682 SE Test Loss:  0.09984374601221885 Testing Accuracy:  86.08888888888889\n",
            "Epoch:  5\n"
          ]
        },
        {
          "output_type": "stream",
          "name": "stderr",
          "text": [
            "100%|██████████| 1312/1312 [00:06<00:00, 200.78it/s]\n"
          ]
        },
        {
          "output_type": "stream",
          "name": "stdout",
          "text": [
            "CE Training Loss:  0.35759876770831256 SE Training Loss:  0.08834327244876236 Training Accuracy:  87.78333333333333 CE Test Loss:  0.38857513221353424 SE Test Loss:  0.0961813962773384 Testing Accuracy:  86.58888888888889\n"
          ]
        },
        {
          "output_type": "display_data",
          "data": {
            "text/plain": [
              "<IPython.core.display.HTML object>"
            ],
            "text/html": []
          },
          "metadata": {}
        },
        {
          "output_type": "display_data",
          "data": {
            "text/plain": [
              "<IPython.core.display.HTML object>"
            ],
            "text/html": [
              "<br>    <style><br>        .wandb-row {<br>            display: flex;<br>            flex-direction: row;<br>            flex-wrap: wrap;<br>            justify-content: flex-start;<br>            width: 100%;<br>        }<br>        .wandb-col {<br>            display: flex;<br>            flex-direction: column;<br>            flex-basis: 100%;<br>            flex: 1;<br>            padding: 10px;<br>        }<br>    </style><br><div class=\"wandb-row\"><div class=\"wandb-col\"><h3>Run history:</h3><br/><table class=\"wandb\"><tr><td>tr_accuracy</td><td>▁█████</td></tr><tr><td>tr_loss_CE</td><td>█▁▁▁▁▁</td></tr><tr><td>tr_loss_SE</td><td>█▁▁▁▁▁</td></tr><tr><td>val_accuracy</td><td>▁█████</td></tr><tr><td>val_loss_CE</td><td>█▁▁▁▁▁</td></tr><tr><td>val_loss_SE</td><td>█▁▁▁▁▁</td></tr></table><br/></div><div class=\"wandb-col\"><h3>Run summary:</h3><br/><table class=\"wandb\"><tr><td>tr_accuracy</td><td>87.78333</td></tr><tr><td>tr_loss_CE</td><td>0.3576</td></tr><tr><td>tr_loss_SE</td><td>0.08834</td></tr><tr><td>val_accuracy</td><td>86.58889</td></tr><tr><td>val_loss_CE</td><td>0.38858</td></tr><tr><td>val_loss_SE</td><td>0.09618</td></tr></table><br/></div></div>"
            ]
          },
          "metadata": {}
        },
        {
          "output_type": "display_data",
          "data": {
            "text/plain": [
              "<IPython.core.display.HTML object>"
            ],
            "text/html": [
              " View run <strong style=\"color:#cdcd00\">e_5_hl_4_hs_64_lr_0.001_opt_nadam_bs_32_init_Xavier_ac_tanh_l2_0.0005</strong> at: <a href='https://wandb.ai/arunangshudutta218-iitm/dl_assgn_1_q_8/runs/yyc39dl6' target=\"_blank\">https://wandb.ai/arunangshudutta218-iitm/dl_assgn_1_q_8/runs/yyc39dl6</a><br> View project at: <a href='https://wandb.ai/arunangshudutta218-iitm/dl_assgn_1_q_8' target=\"_blank\">https://wandb.ai/arunangshudutta218-iitm/dl_assgn_1_q_8</a><br>Synced 5 W&B file(s), 0 media file(s), 0 artifact file(s) and 0 other file(s)"
            ]
          },
          "metadata": {}
        },
        {
          "output_type": "display_data",
          "data": {
            "text/plain": [
              "<IPython.core.display.HTML object>"
            ],
            "text/html": [
              "Find logs at: <code>./wandb/run-20250317_133626-yyc39dl6/logs</code>"
            ]
          },
          "metadata": {}
        },
        {
          "output_type": "stream",
          "name": "stderr",
          "text": [
            "\u001b[34m\u001b[1mwandb\u001b[0m: Agent Starting Run: 2yhc7y0l with config:\n",
            "\u001b[34m\u001b[1mwandb\u001b[0m: \tactivation: tanh\n",
            "\u001b[34m\u001b[1mwandb\u001b[0m: \tbatch_size: 32\n",
            "\u001b[34m\u001b[1mwandb\u001b[0m: \tepochs: 5\n",
            "\u001b[34m\u001b[1mwandb\u001b[0m: \thidden_size: 64\n",
            "\u001b[34m\u001b[1mwandb\u001b[0m: \tlearning_rate: 0.001\n",
            "\u001b[34m\u001b[1mwandb\u001b[0m: \tloss_function: squared_error\n",
            "\u001b[34m\u001b[1mwandb\u001b[0m: \tnum_layers: 4\n",
            "\u001b[34m\u001b[1mwandb\u001b[0m: \toptimizer: nadam\n",
            "\u001b[34m\u001b[1mwandb\u001b[0m: \tweight_decay: 0.5\n",
            "\u001b[34m\u001b[1mwandb\u001b[0m: \tweight_init: Xavier\n"
          ]
        },
        {
          "output_type": "display_data",
          "data": {
            "text/plain": [
              "<IPython.core.display.HTML object>"
            ],
            "text/html": [
              "Tracking run with wandb version 0.19.8"
            ]
          },
          "metadata": {}
        },
        {
          "output_type": "display_data",
          "data": {
            "text/plain": [
              "<IPython.core.display.HTML object>"
            ],
            "text/html": [
              "Run data is saved locally in <code>/content/wandb/run-20250317_133722-2yhc7y0l</code>"
            ]
          },
          "metadata": {}
        },
        {
          "output_type": "display_data",
          "data": {
            "text/plain": [
              "<IPython.core.display.HTML object>"
            ],
            "text/html": [
              "Syncing run <strong><a href='https://wandb.ai/arunangshudutta218-iitm/dl_assgn_1_q_8/runs/2yhc7y0l' target=\"_blank\">usual-sweep-18</a></strong> to <a href='https://wandb.ai/arunangshudutta218-iitm/dl_assgn_1_q_8' target=\"_blank\">Weights & Biases</a> (<a href='https://wandb.me/developer-guide' target=\"_blank\">docs</a>)<br>Sweep page: <a href='https://wandb.ai/arunangshudutta218-iitm/dl_assgn_1_q_8/sweeps/28yyx0vh' target=\"_blank\">https://wandb.ai/arunangshudutta218-iitm/dl_assgn_1_q_8/sweeps/28yyx0vh</a>"
            ]
          },
          "metadata": {}
        },
        {
          "output_type": "display_data",
          "data": {
            "text/plain": [
              "<IPython.core.display.HTML object>"
            ],
            "text/html": [
              " View project at <a href='https://wandb.ai/arunangshudutta218-iitm/dl_assgn_1_q_8' target=\"_blank\">https://wandb.ai/arunangshudutta218-iitm/dl_assgn_1_q_8</a>"
            ]
          },
          "metadata": {}
        },
        {
          "output_type": "display_data",
          "data": {
            "text/plain": [
              "<IPython.core.display.HTML object>"
            ],
            "text/html": [
              " View sweep at <a href='https://wandb.ai/arunangshudutta218-iitm/dl_assgn_1_q_8/sweeps/28yyx0vh' target=\"_blank\">https://wandb.ai/arunangshudutta218-iitm/dl_assgn_1_q_8/sweeps/28yyx0vh</a>"
            ]
          },
          "metadata": {}
        },
        {
          "output_type": "display_data",
          "data": {
            "text/plain": [
              "<IPython.core.display.HTML object>"
            ],
            "text/html": [
              " View run at <a href='https://wandb.ai/arunangshudutta218-iitm/dl_assgn_1_q_8/runs/2yhc7y0l' target=\"_blank\">https://wandb.ai/arunangshudutta218-iitm/dl_assgn_1_q_8/runs/2yhc7y0l</a>"
            ]
          },
          "metadata": {}
        },
        {
          "output_type": "stream",
          "name": "stdout",
          "text": [
            "Hyper parameters: \n",
            "\n",
            "Weight initialization type :  Xavier\n",
            "Optimizer :  nadam\n",
            "Learning rate (initial):  0.001\n",
            "Batch size:  32\n",
            "-------------------\n",
            "Architecture Description:\n",
            "\n",
            "Layer:  1  ; number of neurons:  64  ; activation function:  tanh\n",
            "Weight matrix dimention (64, 784) Bias vector dimention (64, 1)\n",
            "----------------\n",
            "Layer:  2  ; number of neurons:  64  ; activation function:  tanh\n",
            "Weight matrix dimention (64, 64) Bias vector dimention (64, 1)\n",
            "----------------\n",
            "Layer:  3  ; number of neurons:  64  ; activation function:  tanh\n",
            "Weight matrix dimention (64, 64) Bias vector dimention (64, 1)\n",
            "----------------\n",
            "Layer:  4  ; number of neurons:  64  ; activation function:  tanh\n",
            "Weight matrix dimention (64, 64) Bias vector dimention (64, 1)\n",
            "----------------\n",
            "Layer:  5  ; number of neurons:  10  ; activation function:  softmax\n",
            "Weight matrix dimention (10, 64) Bias vector dimention (10, 1)\n",
            "----------------\n",
            "1312.0\n",
            "\n",
            " Start of training\n",
            "CE Training Loss:  2.440388246947826 SE Training Loss:  0.46331014814188926 Training Accuracy:  12.814285714285715 CE Test Loss:  2.44548265875492 SE Test Loss:  0.4639517373508485 Testing Accuracy:  12.811111111111112\n",
            "Epoch:  1\n"
          ]
        },
        {
          "output_type": "stream",
          "name": "stderr",
          "text": [
            "100%|██████████| 1312/1312 [00:08<00:00, 159.84it/s]\n"
          ]
        },
        {
          "output_type": "stream",
          "name": "stdout",
          "text": [
            "CE Training Loss:  1.0022822152799296 SE Training Loss:  0.24331526011285454 Training Accuracy:  66.62142857142857 CE Test Loss:  1.0025846056677954 SE Test Loss:  0.24347227431044954 Testing Accuracy:  66.66666666666667\n",
            "Epoch:  2\n"
          ]
        },
        {
          "output_type": "stream",
          "name": "stderr",
          "text": [
            "100%|██████████| 1312/1312 [00:06<00:00, 198.94it/s]\n"
          ]
        },
        {
          "output_type": "stream",
          "name": "stdout",
          "text": [
            "CE Training Loss:  1.0085489708844269 SE Training Loss:  0.24290073705486104 Training Accuracy:  66.3952380952381 CE Test Loss:  1.0080126938210268 SE Test Loss:  0.24287110645392088 Testing Accuracy:  66.6\n",
            "Epoch:  3\n"
          ]
        },
        {
          "output_type": "stream",
          "name": "stderr",
          "text": [
            "100%|██████████| 1312/1312 [00:09<00:00, 137.96it/s]\n"
          ]
        },
        {
          "output_type": "stream",
          "name": "stdout",
          "text": [
            "CE Training Loss:  1.020916462656238 SE Training Loss:  0.24512639108943646 Training Accuracy:  65.81190476190476 CE Test Loss:  1.0202128607560217 SE Test Loss:  0.24506768043369104 Testing Accuracy:  65.90555555555555\n",
            "Epoch:  4\n"
          ]
        },
        {
          "output_type": "stream",
          "name": "stderr",
          "text": [
            "100%|██████████| 1312/1312 [00:07<00:00, 178.73it/s]\n"
          ]
        },
        {
          "output_type": "stream",
          "name": "stdout",
          "text": [
            "CE Training Loss:  1.0296065600318571 SE Training Loss:  0.2464741150431527 Training Accuracy:  65.45476190476191 CE Test Loss:  1.0287864076200335 SE Test Loss:  0.24639469083962276 Testing Accuracy:  65.66666666666667\n",
            "Epoch:  5\n"
          ]
        },
        {
          "output_type": "stream",
          "name": "stderr",
          "text": [
            "100%|██████████| 1312/1312 [00:06<00:00, 199.24it/s]\n"
          ]
        },
        {
          "output_type": "stream",
          "name": "stdout",
          "text": [
            "CE Training Loss:  1.0358373358367499 SE Training Loss:  0.24738767210766885 Training Accuracy:  65.48571428571428 CE Test Loss:  1.035001286682921 SE Test Loss:  0.24731173788296806 Testing Accuracy:  65.66666666666667\n"
          ]
        },
        {
          "output_type": "display_data",
          "data": {
            "text/plain": [
              "<IPython.core.display.HTML object>"
            ],
            "text/html": []
          },
          "metadata": {}
        },
        {
          "output_type": "display_data",
          "data": {
            "text/plain": [
              "<IPython.core.display.HTML object>"
            ],
            "text/html": [
              "<br>    <style><br>        .wandb-row {<br>            display: flex;<br>            flex-direction: row;<br>            flex-wrap: wrap;<br>            justify-content: flex-start;<br>            width: 100%;<br>        }<br>        .wandb-col {<br>            display: flex;<br>            flex-direction: column;<br>            flex-basis: 100%;<br>            flex: 1;<br>            padding: 10px;<br>        }<br>    </style><br><div class=\"wandb-row\"><div class=\"wandb-col\"><h3>Run history:</h3><br/><table class=\"wandb\"><tr><td>tr_accuracy</td><td>▁█████</td></tr><tr><td>tr_loss_CE</td><td>█▁▁▁▁▁</td></tr><tr><td>tr_loss_SE</td><td>█▁▁▁▁▁</td></tr><tr><td>val_accuracy</td><td>▁█████</td></tr><tr><td>val_loss_CE</td><td>█▁▁▁▁▁</td></tr><tr><td>val_loss_SE</td><td>█▁▁▁▁▁</td></tr></table><br/></div><div class=\"wandb-col\"><h3>Run summary:</h3><br/><table class=\"wandb\"><tr><td>tr_accuracy</td><td>65.48571</td></tr><tr><td>tr_loss_CE</td><td>1.03584</td></tr><tr><td>tr_loss_SE</td><td>0.24739</td></tr><tr><td>val_accuracy</td><td>65.66667</td></tr><tr><td>val_loss_CE</td><td>1.035</td></tr><tr><td>val_loss_SE</td><td>0.24731</td></tr></table><br/></div></div>"
            ]
          },
          "metadata": {}
        },
        {
          "output_type": "display_data",
          "data": {
            "text/plain": [
              "<IPython.core.display.HTML object>"
            ],
            "text/html": [
              " View run <strong style=\"color:#cdcd00\">e_5_hl_4_hs_64_lr_0.001_opt_nadam_bs_32_init_Xavier_ac_tanh_l2_0.5</strong> at: <a href='https://wandb.ai/arunangshudutta218-iitm/dl_assgn_1_q_8/runs/2yhc7y0l' target=\"_blank\">https://wandb.ai/arunangshudutta218-iitm/dl_assgn_1_q_8/runs/2yhc7y0l</a><br> View project at: <a href='https://wandb.ai/arunangshudutta218-iitm/dl_assgn_1_q_8' target=\"_blank\">https://wandb.ai/arunangshudutta218-iitm/dl_assgn_1_q_8</a><br>Synced 5 W&B file(s), 0 media file(s), 0 artifact file(s) and 0 other file(s)"
            ]
          },
          "metadata": {}
        },
        {
          "output_type": "display_data",
          "data": {
            "text/plain": [
              "<IPython.core.display.HTML object>"
            ],
            "text/html": [
              "Find logs at: <code>./wandb/run-20250317_133722-2yhc7y0l/logs</code>"
            ]
          },
          "metadata": {}
        },
        {
          "output_type": "stream",
          "name": "stderr",
          "text": [
            "\u001b[34m\u001b[1mwandb\u001b[0m: Agent Starting Run: qrbolcnp with config:\n",
            "\u001b[34m\u001b[1mwandb\u001b[0m: \tactivation: tanh\n",
            "\u001b[34m\u001b[1mwandb\u001b[0m: \tbatch_size: 32\n",
            "\u001b[34m\u001b[1mwandb\u001b[0m: \tepochs: 5\n",
            "\u001b[34m\u001b[1mwandb\u001b[0m: \thidden_size: 64\n",
            "\u001b[34m\u001b[1mwandb\u001b[0m: \tlearning_rate: 0.0001\n",
            "\u001b[34m\u001b[1mwandb\u001b[0m: \tloss_function: cross_entropy\n",
            "\u001b[34m\u001b[1mwandb\u001b[0m: \tnum_layers: 4\n",
            "\u001b[34m\u001b[1mwandb\u001b[0m: \toptimizer: rmsprop\n",
            "\u001b[34m\u001b[1mwandb\u001b[0m: \tweight_decay: 0\n",
            "\u001b[34m\u001b[1mwandb\u001b[0m: \tweight_init: Xavier\n"
          ]
        },
        {
          "output_type": "display_data",
          "data": {
            "text/plain": [
              "<IPython.core.display.HTML object>"
            ],
            "text/html": [
              "Tracking run with wandb version 0.19.8"
            ]
          },
          "metadata": {}
        },
        {
          "output_type": "display_data",
          "data": {
            "text/plain": [
              "<IPython.core.display.HTML object>"
            ],
            "text/html": [
              "Run data is saved locally in <code>/content/wandb/run-20250317_133817-qrbolcnp</code>"
            ]
          },
          "metadata": {}
        },
        {
          "output_type": "display_data",
          "data": {
            "text/plain": [
              "<IPython.core.display.HTML object>"
            ],
            "text/html": [
              "Syncing run <strong><a href='https://wandb.ai/arunangshudutta218-iitm/dl_assgn_1_q_8/runs/qrbolcnp' target=\"_blank\">revived-sweep-19</a></strong> to <a href='https://wandb.ai/arunangshudutta218-iitm/dl_assgn_1_q_8' target=\"_blank\">Weights & Biases</a> (<a href='https://wandb.me/developer-guide' target=\"_blank\">docs</a>)<br>Sweep page: <a href='https://wandb.ai/arunangshudutta218-iitm/dl_assgn_1_q_8/sweeps/28yyx0vh' target=\"_blank\">https://wandb.ai/arunangshudutta218-iitm/dl_assgn_1_q_8/sweeps/28yyx0vh</a>"
            ]
          },
          "metadata": {}
        },
        {
          "output_type": "display_data",
          "data": {
            "text/plain": [
              "<IPython.core.display.HTML object>"
            ],
            "text/html": [
              " View project at <a href='https://wandb.ai/arunangshudutta218-iitm/dl_assgn_1_q_8' target=\"_blank\">https://wandb.ai/arunangshudutta218-iitm/dl_assgn_1_q_8</a>"
            ]
          },
          "metadata": {}
        },
        {
          "output_type": "display_data",
          "data": {
            "text/plain": [
              "<IPython.core.display.HTML object>"
            ],
            "text/html": [
              " View sweep at <a href='https://wandb.ai/arunangshudutta218-iitm/dl_assgn_1_q_8/sweeps/28yyx0vh' target=\"_blank\">https://wandb.ai/arunangshudutta218-iitm/dl_assgn_1_q_8/sweeps/28yyx0vh</a>"
            ]
          },
          "metadata": {}
        },
        {
          "output_type": "display_data",
          "data": {
            "text/plain": [
              "<IPython.core.display.HTML object>"
            ],
            "text/html": [
              " View run at <a href='https://wandb.ai/arunangshudutta218-iitm/dl_assgn_1_q_8/runs/qrbolcnp' target=\"_blank\">https://wandb.ai/arunangshudutta218-iitm/dl_assgn_1_q_8/runs/qrbolcnp</a>"
            ]
          },
          "metadata": {}
        },
        {
          "output_type": "stream",
          "name": "stdout",
          "text": [
            "Hyper parameters: \n",
            "\n",
            "Weight initialization type :  Xavier\n",
            "Optimizer :  rmsprop\n",
            "Learning rate (initial):  0.0001\n",
            "Batch size:  32\n",
            "-------------------\n",
            "Architecture Description:\n",
            "\n",
            "Layer:  1  ; number of neurons:  64  ; activation function:  tanh\n",
            "Weight matrix dimention (64, 784) Bias vector dimention (64, 1)\n",
            "----------------\n",
            "Layer:  2  ; number of neurons:  64  ; activation function:  tanh\n",
            "Weight matrix dimention (64, 64) Bias vector dimention (64, 1)\n",
            "----------------\n",
            "Layer:  3  ; number of neurons:  64  ; activation function:  tanh\n",
            "Weight matrix dimention (64, 64) Bias vector dimention (64, 1)\n",
            "----------------\n",
            "Layer:  4  ; number of neurons:  64  ; activation function:  tanh\n",
            "Weight matrix dimention (64, 64) Bias vector dimention (64, 1)\n",
            "----------------\n",
            "Layer:  5  ; number of neurons:  10  ; activation function:  softmax\n",
            "Weight matrix dimention (10, 64) Bias vector dimention (10, 1)\n",
            "----------------\n",
            "1312.0\n",
            "\n",
            " Start of training\n",
            "CE Training Loss:  2.3845621082086033 SE Training Loss:  0.46002780755078554 Training Accuracy:  10.611904761904762 CE Test Loss:  2.3864316468431563 SE Test Loss:  0.4601384749833264 Testing Accuracy:  10.61111111111111\n",
            "Epoch:  1\n"
          ]
        },
        {
          "output_type": "stream",
          "name": "stderr",
          "text": [
            "100%|██████████| 1312/1312 [00:05<00:00, 249.51it/s]\n"
          ]
        },
        {
          "output_type": "stream",
          "name": "stdout",
          "text": [
            "CE Training Loss:  0.5180661552632856 SE Training Loss:  0.1282292645640433 Training Accuracy:  82.09285714285714 CE Test Loss:  0.5223526667252019 SE Test Loss:  0.12934865360009332 Testing Accuracy:  82.11666666666666\n",
            "Epoch:  2\n"
          ]
        },
        {
          "output_type": "stream",
          "name": "stderr",
          "text": [
            "100%|██████████| 1312/1312 [00:06<00:00, 195.88it/s]\n"
          ]
        },
        {
          "output_type": "stream",
          "name": "stdout",
          "text": [
            "CE Training Loss:  0.44805058172585266 SE Training Loss:  0.11287320390082153 Training Accuracy:  84.00714285714285 CE Test Loss:  0.45394919717278437 SE Test Loss:  0.11406892552144642 Testing Accuracy:  84.2\n",
            "Epoch:  3\n"
          ]
        },
        {
          "output_type": "stream",
          "name": "stderr",
          "text": [
            "100%|██████████| 1312/1312 [00:05<00:00, 223.60it/s]\n"
          ]
        },
        {
          "output_type": "stream",
          "name": "stdout",
          "text": [
            "CE Training Loss:  0.41921609511110175 SE Training Loss:  0.10616682644420225 Training Accuracy:  84.98333333333333 CE Test Loss:  0.42812351144846417 SE Test Loss:  0.10800097842350291 Testing Accuracy:  84.94444444444444\n",
            "Epoch:  4\n"
          ]
        },
        {
          "output_type": "stream",
          "name": "stderr",
          "text": [
            "100%|██████████| 1312/1312 [00:05<00:00, 226.20it/s]\n"
          ]
        },
        {
          "output_type": "stream",
          "name": "stdout",
          "text": [
            "CE Training Loss:  0.4011338244636579 SE Training Loss:  0.10186162510170817 Training Accuracy:  85.62857142857143 CE Test Loss:  0.4129269696938328 SE Test Loss:  0.10440156015453847 Testing Accuracy:  85.49444444444444\n",
            "Epoch:  5\n"
          ]
        },
        {
          "output_type": "stream",
          "name": "stderr",
          "text": [
            "100%|██████████| 1312/1312 [00:06<00:00, 197.39it/s]\n"
          ]
        },
        {
          "output_type": "stream",
          "name": "stdout",
          "text": [
            "CE Training Loss:  0.38816939738096 SE Training Loss:  0.09871900474718201 Training Accuracy:  86.09761904761905 CE Test Loss:  0.4026922336657548 SE Test Loss:  0.10193835922537259 Testing Accuracy:  85.89444444444445\n"
          ]
        },
        {
          "output_type": "display_data",
          "data": {
            "text/plain": [
              "<IPython.core.display.HTML object>"
            ],
            "text/html": []
          },
          "metadata": {}
        },
        {
          "output_type": "display_data",
          "data": {
            "text/plain": [
              "<IPython.core.display.HTML object>"
            ],
            "text/html": [
              "<br>    <style><br>        .wandb-row {<br>            display: flex;<br>            flex-direction: row;<br>            flex-wrap: wrap;<br>            justify-content: flex-start;<br>            width: 100%;<br>        }<br>        .wandb-col {<br>            display: flex;<br>            flex-direction: column;<br>            flex-basis: 100%;<br>            flex: 1;<br>            padding: 10px;<br>        }<br>    </style><br><div class=\"wandb-row\"><div class=\"wandb-col\"><h3>Run history:</h3><br/><table class=\"wandb\"><tr><td>tr_accuracy</td><td>▁█████</td></tr><tr><td>tr_loss_CE</td><td>█▁▁▁▁▁</td></tr><tr><td>tr_loss_SE</td><td>█▂▁▁▁▁</td></tr><tr><td>val_accuracy</td><td>▁█████</td></tr><tr><td>val_loss_CE</td><td>█▁▁▁▁▁</td></tr><tr><td>val_loss_SE</td><td>█▂▁▁▁▁</td></tr></table><br/></div><div class=\"wandb-col\"><h3>Run summary:</h3><br/><table class=\"wandb\"><tr><td>tr_accuracy</td><td>86.09762</td></tr><tr><td>tr_loss_CE</td><td>0.38817</td></tr><tr><td>tr_loss_SE</td><td>0.09872</td></tr><tr><td>val_accuracy</td><td>85.89444</td></tr><tr><td>val_loss_CE</td><td>0.40269</td></tr><tr><td>val_loss_SE</td><td>0.10194</td></tr></table><br/></div></div>"
            ]
          },
          "metadata": {}
        },
        {
          "output_type": "display_data",
          "data": {
            "text/plain": [
              "<IPython.core.display.HTML object>"
            ],
            "text/html": [
              " View run <strong style=\"color:#cdcd00\">e_5_hl_4_hs_64_lr_0.0001_opt_rmsprop_bs_32_init_Xavier_ac_tanh_l2_0</strong> at: <a href='https://wandb.ai/arunangshudutta218-iitm/dl_assgn_1_q_8/runs/qrbolcnp' target=\"_blank\">https://wandb.ai/arunangshudutta218-iitm/dl_assgn_1_q_8/runs/qrbolcnp</a><br> View project at: <a href='https://wandb.ai/arunangshudutta218-iitm/dl_assgn_1_q_8' target=\"_blank\">https://wandb.ai/arunangshudutta218-iitm/dl_assgn_1_q_8</a><br>Synced 5 W&B file(s), 0 media file(s), 0 artifact file(s) and 0 other file(s)"
            ]
          },
          "metadata": {}
        },
        {
          "output_type": "display_data",
          "data": {
            "text/plain": [
              "<IPython.core.display.HTML object>"
            ],
            "text/html": [
              "Find logs at: <code>./wandb/run-20250317_133817-qrbolcnp/logs</code>"
            ]
          },
          "metadata": {}
        },
        {
          "output_type": "stream",
          "name": "stderr",
          "text": [
            "\u001b[34m\u001b[1mwandb\u001b[0m: Agent Starting Run: 0ygt1nmd with config:\n",
            "\u001b[34m\u001b[1mwandb\u001b[0m: \tactivation: tanh\n",
            "\u001b[34m\u001b[1mwandb\u001b[0m: \tbatch_size: 32\n",
            "\u001b[34m\u001b[1mwandb\u001b[0m: \tepochs: 5\n",
            "\u001b[34m\u001b[1mwandb\u001b[0m: \thidden_size: 64\n",
            "\u001b[34m\u001b[1mwandb\u001b[0m: \tlearning_rate: 0.0001\n",
            "\u001b[34m\u001b[1mwandb\u001b[0m: \tloss_function: cross_entropy\n",
            "\u001b[34m\u001b[1mwandb\u001b[0m: \tnum_layers: 4\n",
            "\u001b[34m\u001b[1mwandb\u001b[0m: \toptimizer: rmsprop\n",
            "\u001b[34m\u001b[1mwandb\u001b[0m: \tweight_decay: 0.0005\n",
            "\u001b[34m\u001b[1mwandb\u001b[0m: \tweight_init: Xavier\n"
          ]
        },
        {
          "output_type": "display_data",
          "data": {
            "text/plain": [
              "<IPython.core.display.HTML object>"
            ],
            "text/html": [
              "Tracking run with wandb version 0.19.8"
            ]
          },
          "metadata": {}
        },
        {
          "output_type": "display_data",
          "data": {
            "text/plain": [
              "<IPython.core.display.HTML object>"
            ],
            "text/html": [
              "Run data is saved locally in <code>/content/wandb/run-20250317_133903-0ygt1nmd</code>"
            ]
          },
          "metadata": {}
        },
        {
          "output_type": "display_data",
          "data": {
            "text/plain": [
              "<IPython.core.display.HTML object>"
            ],
            "text/html": [
              "Syncing run <strong><a href='https://wandb.ai/arunangshudutta218-iitm/dl_assgn_1_q_8/runs/0ygt1nmd' target=\"_blank\">feasible-sweep-20</a></strong> to <a href='https://wandb.ai/arunangshudutta218-iitm/dl_assgn_1_q_8' target=\"_blank\">Weights & Biases</a> (<a href='https://wandb.me/developer-guide' target=\"_blank\">docs</a>)<br>Sweep page: <a href='https://wandb.ai/arunangshudutta218-iitm/dl_assgn_1_q_8/sweeps/28yyx0vh' target=\"_blank\">https://wandb.ai/arunangshudutta218-iitm/dl_assgn_1_q_8/sweeps/28yyx0vh</a>"
            ]
          },
          "metadata": {}
        },
        {
          "output_type": "display_data",
          "data": {
            "text/plain": [
              "<IPython.core.display.HTML object>"
            ],
            "text/html": [
              " View project at <a href='https://wandb.ai/arunangshudutta218-iitm/dl_assgn_1_q_8' target=\"_blank\">https://wandb.ai/arunangshudutta218-iitm/dl_assgn_1_q_8</a>"
            ]
          },
          "metadata": {}
        },
        {
          "output_type": "display_data",
          "data": {
            "text/plain": [
              "<IPython.core.display.HTML object>"
            ],
            "text/html": [
              " View sweep at <a href='https://wandb.ai/arunangshudutta218-iitm/dl_assgn_1_q_8/sweeps/28yyx0vh' target=\"_blank\">https://wandb.ai/arunangshudutta218-iitm/dl_assgn_1_q_8/sweeps/28yyx0vh</a>"
            ]
          },
          "metadata": {}
        },
        {
          "output_type": "display_data",
          "data": {
            "text/plain": [
              "<IPython.core.display.HTML object>"
            ],
            "text/html": [
              " View run at <a href='https://wandb.ai/arunangshudutta218-iitm/dl_assgn_1_q_8/runs/0ygt1nmd' target=\"_blank\">https://wandb.ai/arunangshudutta218-iitm/dl_assgn_1_q_8/runs/0ygt1nmd</a>"
            ]
          },
          "metadata": {}
        },
        {
          "output_type": "stream",
          "name": "stdout",
          "text": [
            "Hyper parameters: \n",
            "\n",
            "Weight initialization type :  Xavier\n",
            "Optimizer :  rmsprop\n",
            "Learning rate (initial):  0.0001\n",
            "Batch size:  32\n",
            "-------------------\n",
            "Architecture Description:\n",
            "\n",
            "Layer:  1  ; number of neurons:  64  ; activation function:  tanh\n",
            "Weight matrix dimention (64, 784) Bias vector dimention (64, 1)\n",
            "----------------\n",
            "Layer:  2  ; number of neurons:  64  ; activation function:  tanh\n",
            "Weight matrix dimention (64, 64) Bias vector dimention (64, 1)\n",
            "----------------\n",
            "Layer:  3  ; number of neurons:  64  ; activation function:  tanh\n",
            "Weight matrix dimention (64, 64) Bias vector dimention (64, 1)\n",
            "----------------\n",
            "Layer:  4  ; number of neurons:  64  ; activation function:  tanh\n",
            "Weight matrix dimention (64, 64) Bias vector dimention (64, 1)\n",
            "----------------\n",
            "Layer:  5  ; number of neurons:  10  ; activation function:  softmax\n",
            "Weight matrix dimention (10, 64) Bias vector dimention (10, 1)\n",
            "----------------\n",
            "1312.0\n",
            "\n",
            " Start of training\n",
            "CE Training Loss:  2.3679805751389806 SE Training Loss:  0.45596203078265346 Training Accuracy:  8.771428571428572 CE Test Loss:  2.36464599335743 SE Test Loss:  0.45560739125600536 Testing Accuracy:  8.761111111111111\n",
            "Epoch:  1\n"
          ]
        },
        {
          "output_type": "stream",
          "name": "stderr",
          "text": [
            "100%|██████████| 1312/1312 [00:07<00:00, 174.89it/s]\n"
          ]
        },
        {
          "output_type": "stream",
          "name": "stdout",
          "text": [
            "CE Training Loss:  0.5357867383426269 SE Training Loss:  0.13131773625694312 Training Accuracy:  81.92857142857143 CE Test Loss:  0.5409927917156977 SE Test Loss:  0.13276482912740123 Testing Accuracy:  81.7611111111111\n",
            "Epoch:  2\n"
          ]
        },
        {
          "output_type": "stream",
          "name": "stderr",
          "text": [
            "100%|██████████| 1312/1312 [00:05<00:00, 239.41it/s]\n"
          ]
        },
        {
          "output_type": "stream",
          "name": "stdout",
          "text": [
            "CE Training Loss:  0.4558516638426443 SE Training Loss:  0.11409455000762828 Training Accuracy:  83.93333333333334 CE Test Loss:  0.46103501001193664 SE Test Loss:  0.11521898599405252 Testing Accuracy:  83.74444444444444\n",
            "Epoch:  3\n"
          ]
        },
        {
          "output_type": "stream",
          "name": "stderr",
          "text": [
            "100%|██████████| 1312/1312 [00:07<00:00, 167.29it/s]\n"
          ]
        },
        {
          "output_type": "stream",
          "name": "stdout",
          "text": [
            "CE Training Loss:  0.42568210012302576 SE Training Loss:  0.10713224548043336 Training Accuracy:  84.91666666666667 CE Test Loss:  0.4323635790125069 SE Test Loss:  0.1086251814711691 Testing Accuracy:  84.68888888888888\n",
            "Epoch:  4\n"
          ]
        },
        {
          "output_type": "stream",
          "name": "stderr",
          "text": [
            "100%|██████████| 1312/1312 [00:05<00:00, 249.53it/s]\n"
          ]
        },
        {
          "output_type": "stream",
          "name": "stdout",
          "text": [
            "CE Training Loss:  0.40737685231375986 SE Training Loss:  0.10273161857713872 Training Accuracy:  85.6047619047619 CE Test Loss:  0.4157189812862286 SE Test Loss:  0.10468682279344017 Testing Accuracy:  85.38888888888889\n",
            "Epoch:  5\n"
          ]
        },
        {
          "output_type": "stream",
          "name": "stderr",
          "text": [
            "100%|██████████| 1312/1312 [00:07<00:00, 165.04it/s]\n"
          ]
        },
        {
          "output_type": "stream",
          "name": "stdout",
          "text": [
            "CE Training Loss:  0.3938780307653014 SE Training Loss:  0.09944797457334363 Training Accuracy:  86.06904761904762 CE Test Loss:  0.40390003108806183 SE Test Loss:  0.10183933039846159 Testing Accuracy:  85.83333333333333\n"
          ]
        },
        {
          "output_type": "display_data",
          "data": {
            "text/plain": [
              "<IPython.core.display.HTML object>"
            ],
            "text/html": []
          },
          "metadata": {}
        },
        {
          "output_type": "display_data",
          "data": {
            "text/plain": [
              "<IPython.core.display.HTML object>"
            ],
            "text/html": [
              "<br>    <style><br>        .wandb-row {<br>            display: flex;<br>            flex-direction: row;<br>            flex-wrap: wrap;<br>            justify-content: flex-start;<br>            width: 100%;<br>        }<br>        .wandb-col {<br>            display: flex;<br>            flex-direction: column;<br>            flex-basis: 100%;<br>            flex: 1;<br>            padding: 10px;<br>        }<br>    </style><br><div class=\"wandb-row\"><div class=\"wandb-col\"><h3>Run history:</h3><br/><table class=\"wandb\"><tr><td>tr_accuracy</td><td>▁█████</td></tr><tr><td>tr_loss_CE</td><td>█▂▁▁▁▁</td></tr><tr><td>tr_loss_SE</td><td>█▂▁▁▁▁</td></tr><tr><td>val_accuracy</td><td>▁█████</td></tr><tr><td>val_loss_CE</td><td>█▁▁▁▁▁</td></tr><tr><td>val_loss_SE</td><td>█▂▁▁▁▁</td></tr></table><br/></div><div class=\"wandb-col\"><h3>Run summary:</h3><br/><table class=\"wandb\"><tr><td>tr_accuracy</td><td>86.06905</td></tr><tr><td>tr_loss_CE</td><td>0.39388</td></tr><tr><td>tr_loss_SE</td><td>0.09945</td></tr><tr><td>val_accuracy</td><td>85.83333</td></tr><tr><td>val_loss_CE</td><td>0.4039</td></tr><tr><td>val_loss_SE</td><td>0.10184</td></tr></table><br/></div></div>"
            ]
          },
          "metadata": {}
        },
        {
          "output_type": "display_data",
          "data": {
            "text/plain": [
              "<IPython.core.display.HTML object>"
            ],
            "text/html": [
              " View run <strong style=\"color:#cdcd00\">e_5_hl_4_hs_64_lr_0.0001_opt_rmsprop_bs_32_init_Xavier_ac_tanh_l2_0.0005</strong> at: <a href='https://wandb.ai/arunangshudutta218-iitm/dl_assgn_1_q_8/runs/0ygt1nmd' target=\"_blank\">https://wandb.ai/arunangshudutta218-iitm/dl_assgn_1_q_8/runs/0ygt1nmd</a><br> View project at: <a href='https://wandb.ai/arunangshudutta218-iitm/dl_assgn_1_q_8' target=\"_blank\">https://wandb.ai/arunangshudutta218-iitm/dl_assgn_1_q_8</a><br>Synced 5 W&B file(s), 0 media file(s), 0 artifact file(s) and 0 other file(s)"
            ]
          },
          "metadata": {}
        },
        {
          "output_type": "display_data",
          "data": {
            "text/plain": [
              "<IPython.core.display.HTML object>"
            ],
            "text/html": [
              "Find logs at: <code>./wandb/run-20250317_133903-0ygt1nmd/logs</code>"
            ]
          },
          "metadata": {}
        },
        {
          "output_type": "stream",
          "name": "stderr",
          "text": [
            "\u001b[34m\u001b[1mwandb\u001b[0m: Agent Starting Run: i05czk4o with config:\n",
            "\u001b[34m\u001b[1mwandb\u001b[0m: \tactivation: tanh\n",
            "\u001b[34m\u001b[1mwandb\u001b[0m: \tbatch_size: 32\n",
            "\u001b[34m\u001b[1mwandb\u001b[0m: \tepochs: 5\n",
            "\u001b[34m\u001b[1mwandb\u001b[0m: \thidden_size: 64\n",
            "\u001b[34m\u001b[1mwandb\u001b[0m: \tlearning_rate: 0.0001\n",
            "\u001b[34m\u001b[1mwandb\u001b[0m: \tloss_function: cross_entropy\n",
            "\u001b[34m\u001b[1mwandb\u001b[0m: \tnum_layers: 4\n",
            "\u001b[34m\u001b[1mwandb\u001b[0m: \toptimizer: rmsprop\n",
            "\u001b[34m\u001b[1mwandb\u001b[0m: \tweight_decay: 0.5\n",
            "\u001b[34m\u001b[1mwandb\u001b[0m: \tweight_init: Xavier\n"
          ]
        },
        {
          "output_type": "display_data",
          "data": {
            "text/plain": [
              "<IPython.core.display.HTML object>"
            ],
            "text/html": [
              "Tracking run with wandb version 0.19.8"
            ]
          },
          "metadata": {}
        },
        {
          "output_type": "display_data",
          "data": {
            "text/plain": [
              "<IPython.core.display.HTML object>"
            ],
            "text/html": [
              "Run data is saved locally in <code>/content/wandb/run-20250317_133953-i05czk4o</code>"
            ]
          },
          "metadata": {}
        },
        {
          "output_type": "display_data",
          "data": {
            "text/plain": [
              "<IPython.core.display.HTML object>"
            ],
            "text/html": [
              "Syncing run <strong><a href='https://wandb.ai/arunangshudutta218-iitm/dl_assgn_1_q_8/runs/i05czk4o' target=\"_blank\">spring-sweep-21</a></strong> to <a href='https://wandb.ai/arunangshudutta218-iitm/dl_assgn_1_q_8' target=\"_blank\">Weights & Biases</a> (<a href='https://wandb.me/developer-guide' target=\"_blank\">docs</a>)<br>Sweep page: <a href='https://wandb.ai/arunangshudutta218-iitm/dl_assgn_1_q_8/sweeps/28yyx0vh' target=\"_blank\">https://wandb.ai/arunangshudutta218-iitm/dl_assgn_1_q_8/sweeps/28yyx0vh</a>"
            ]
          },
          "metadata": {}
        },
        {
          "output_type": "display_data",
          "data": {
            "text/plain": [
              "<IPython.core.display.HTML object>"
            ],
            "text/html": [
              " View project at <a href='https://wandb.ai/arunangshudutta218-iitm/dl_assgn_1_q_8' target=\"_blank\">https://wandb.ai/arunangshudutta218-iitm/dl_assgn_1_q_8</a>"
            ]
          },
          "metadata": {}
        },
        {
          "output_type": "display_data",
          "data": {
            "text/plain": [
              "<IPython.core.display.HTML object>"
            ],
            "text/html": [
              " View sweep at <a href='https://wandb.ai/arunangshudutta218-iitm/dl_assgn_1_q_8/sweeps/28yyx0vh' target=\"_blank\">https://wandb.ai/arunangshudutta218-iitm/dl_assgn_1_q_8/sweeps/28yyx0vh</a>"
            ]
          },
          "metadata": {}
        },
        {
          "output_type": "display_data",
          "data": {
            "text/plain": [
              "<IPython.core.display.HTML object>"
            ],
            "text/html": [
              " View run at <a href='https://wandb.ai/arunangshudutta218-iitm/dl_assgn_1_q_8/runs/i05czk4o' target=\"_blank\">https://wandb.ai/arunangshudutta218-iitm/dl_assgn_1_q_8/runs/i05czk4o</a>"
            ]
          },
          "metadata": {}
        },
        {
          "output_type": "stream",
          "name": "stdout",
          "text": [
            "Hyper parameters: \n",
            "\n",
            "Weight initialization type :  Xavier\n",
            "Optimizer :  rmsprop\n",
            "Learning rate (initial):  0.0001\n",
            "Batch size:  32\n",
            "-------------------\n",
            "Architecture Description:\n",
            "\n",
            "Layer:  1  ; number of neurons:  64  ; activation function:  tanh\n",
            "Weight matrix dimention (64, 784) Bias vector dimention (64, 1)\n",
            "----------------\n",
            "Layer:  2  ; number of neurons:  64  ; activation function:  tanh\n",
            "Weight matrix dimention (64, 64) Bias vector dimention (64, 1)\n",
            "----------------\n",
            "Layer:  3  ; number of neurons:  64  ; activation function:  tanh\n",
            "Weight matrix dimention (64, 64) Bias vector dimention (64, 1)\n",
            "----------------\n",
            "Layer:  4  ; number of neurons:  64  ; activation function:  tanh\n",
            "Weight matrix dimention (64, 64) Bias vector dimention (64, 1)\n",
            "----------------\n",
            "Layer:  5  ; number of neurons:  10  ; activation function:  softmax\n",
            "Weight matrix dimention (10, 64) Bias vector dimention (10, 1)\n",
            "----------------\n",
            "1312.0\n",
            "\n",
            " Start of training\n",
            "CE Training Loss:  2.3589434378403467 SE Training Loss:  0.4555690765674565 Training Accuracy:  8.68095238095238 CE Test Loss:  2.3548145807258343 SE Test Loss:  0.4551378675131921 Testing Accuracy:  8.71111111111111\n",
            "Epoch:  1\n"
          ]
        },
        {
          "output_type": "stream",
          "name": "stderr",
          "text": [
            "100%|██████████| 1312/1312 [00:05<00:00, 219.53it/s]\n"
          ]
        },
        {
          "output_type": "stream",
          "name": "stdout",
          "text": [
            "CE Training Loss:  0.6152103234876427 SE Training Loss:  0.1482224755760092 Training Accuracy:  80.17142857142858 CE Test Loss:  0.620121003370948 SE Test Loss:  0.14948852402792687 Testing Accuracy:  80.13888888888889\n",
            "Epoch:  2\n"
          ]
        },
        {
          "output_type": "stream",
          "name": "stderr",
          "text": [
            "100%|██████████| 1312/1312 [00:06<00:00, 189.56it/s]\n"
          ]
        },
        {
          "output_type": "stream",
          "name": "stdout",
          "text": [
            "CE Training Loss:  0.5559604915494714 SE Training Loss:  0.1337003673899773 Training Accuracy:  82.10952380952381 CE Test Loss:  0.5603617853882275 SE Test Loss:  0.1345772920079293 Testing Accuracy:  81.92777777777778\n",
            "Epoch:  3\n"
          ]
        },
        {
          "output_type": "stream",
          "name": "stderr",
          "text": [
            "100%|██████████| 1312/1312 [00:05<00:00, 247.62it/s]\n"
          ]
        },
        {
          "output_type": "stream",
          "name": "stdout",
          "text": [
            "CE Training Loss:  0.5365133481087342 SE Training Loss:  0.12900168153207914 Training Accuracy:  82.73571428571428 CE Test Loss:  0.540928684849122 SE Test Loss:  0.1298477142179548 Testing Accuracy:  82.46111111111111\n",
            "Epoch:  4\n"
          ]
        },
        {
          "output_type": "stream",
          "name": "stderr",
          "text": [
            "100%|██████████| 1312/1312 [00:07<00:00, 169.76it/s]\n"
          ]
        },
        {
          "output_type": "stream",
          "name": "stdout",
          "text": [
            "CE Training Loss:  0.5262248426981836 SE Training Loss:  0.12654014134905378 Training Accuracy:  82.98571428571428 CE Test Loss:  0.5307836703406426 SE Test Loss:  0.12742055465545038 Testing Accuracy:  82.78333333333333\n",
            "Epoch:  5\n"
          ]
        },
        {
          "output_type": "stream",
          "name": "stderr",
          "text": [
            "100%|██████████| 1312/1312 [00:05<00:00, 250.79it/s]\n"
          ]
        },
        {
          "output_type": "stream",
          "name": "stdout",
          "text": [
            "CE Training Loss:  0.5198493036647668 SE Training Loss:  0.12500993561723137 Training Accuracy:  83.22142857142858 CE Test Loss:  0.5245806515387189 SE Test Loss:  0.12593424987027002 Testing Accuracy:  82.92777777777778\n"
          ]
        },
        {
          "output_type": "display_data",
          "data": {
            "text/plain": [
              "<IPython.core.display.HTML object>"
            ],
            "text/html": []
          },
          "metadata": {}
        },
        {
          "output_type": "display_data",
          "data": {
            "text/plain": [
              "<IPython.core.display.HTML object>"
            ],
            "text/html": [
              "<br>    <style><br>        .wandb-row {<br>            display: flex;<br>            flex-direction: row;<br>            flex-wrap: wrap;<br>            justify-content: flex-start;<br>            width: 100%;<br>        }<br>        .wandb-col {<br>            display: flex;<br>            flex-direction: column;<br>            flex-basis: 100%;<br>            flex: 1;<br>            padding: 10px;<br>        }<br>    </style><br><div class=\"wandb-row\"><div class=\"wandb-col\"><h3>Run history:</h3><br/><table class=\"wandb\"><tr><td>tr_accuracy</td><td>▁█████</td></tr><tr><td>tr_loss_CE</td><td>█▁▁▁▁▁</td></tr><tr><td>tr_loss_SE</td><td>█▁▁▁▁▁</td></tr><tr><td>val_accuracy</td><td>▁█████</td></tr><tr><td>val_loss_CE</td><td>█▁▁▁▁▁</td></tr><tr><td>val_loss_SE</td><td>█▂▁▁▁▁</td></tr></table><br/></div><div class=\"wandb-col\"><h3>Run summary:</h3><br/><table class=\"wandb\"><tr><td>tr_accuracy</td><td>83.22143</td></tr><tr><td>tr_loss_CE</td><td>0.51985</td></tr><tr><td>tr_loss_SE</td><td>0.12501</td></tr><tr><td>val_accuracy</td><td>82.92778</td></tr><tr><td>val_loss_CE</td><td>0.52458</td></tr><tr><td>val_loss_SE</td><td>0.12593</td></tr></table><br/></div></div>"
            ]
          },
          "metadata": {}
        },
        {
          "output_type": "display_data",
          "data": {
            "text/plain": [
              "<IPython.core.display.HTML object>"
            ],
            "text/html": [
              " View run <strong style=\"color:#cdcd00\">e_5_hl_4_hs_64_lr_0.0001_opt_rmsprop_bs_32_init_Xavier_ac_tanh_l2_0.5</strong> at: <a href='https://wandb.ai/arunangshudutta218-iitm/dl_assgn_1_q_8/runs/i05czk4o' target=\"_blank\">https://wandb.ai/arunangshudutta218-iitm/dl_assgn_1_q_8/runs/i05czk4o</a><br> View project at: <a href='https://wandb.ai/arunangshudutta218-iitm/dl_assgn_1_q_8' target=\"_blank\">https://wandb.ai/arunangshudutta218-iitm/dl_assgn_1_q_8</a><br>Synced 5 W&B file(s), 0 media file(s), 0 artifact file(s) and 0 other file(s)"
            ]
          },
          "metadata": {}
        },
        {
          "output_type": "display_data",
          "data": {
            "text/plain": [
              "<IPython.core.display.HTML object>"
            ],
            "text/html": [
              "Find logs at: <code>./wandb/run-20250317_133953-i05czk4o/logs</code>"
            ]
          },
          "metadata": {}
        },
        {
          "output_type": "stream",
          "name": "stderr",
          "text": [
            "\u001b[34m\u001b[1mwandb\u001b[0m: Agent Starting Run: fdj71v56 with config:\n",
            "\u001b[34m\u001b[1mwandb\u001b[0m: \tactivation: tanh\n",
            "\u001b[34m\u001b[1mwandb\u001b[0m: \tbatch_size: 32\n",
            "\u001b[34m\u001b[1mwandb\u001b[0m: \tepochs: 5\n",
            "\u001b[34m\u001b[1mwandb\u001b[0m: \thidden_size: 64\n",
            "\u001b[34m\u001b[1mwandb\u001b[0m: \tlearning_rate: 0.0001\n",
            "\u001b[34m\u001b[1mwandb\u001b[0m: \tloss_function: cross_entropy\n",
            "\u001b[34m\u001b[1mwandb\u001b[0m: \tnum_layers: 4\n",
            "\u001b[34m\u001b[1mwandb\u001b[0m: \toptimizer: adam\n",
            "\u001b[34m\u001b[1mwandb\u001b[0m: \tweight_decay: 0\n",
            "\u001b[34m\u001b[1mwandb\u001b[0m: \tweight_init: Xavier\n"
          ]
        },
        {
          "output_type": "display_data",
          "data": {
            "text/plain": [
              "<IPython.core.display.HTML object>"
            ],
            "text/html": [
              "Tracking run with wandb version 0.19.8"
            ]
          },
          "metadata": {}
        },
        {
          "output_type": "display_data",
          "data": {
            "text/plain": [
              "<IPython.core.display.HTML object>"
            ],
            "text/html": [
              "Run data is saved locally in <code>/content/wandb/run-20250317_134039-fdj71v56</code>"
            ]
          },
          "metadata": {}
        },
        {
          "output_type": "display_data",
          "data": {
            "text/plain": [
              "<IPython.core.display.HTML object>"
            ],
            "text/html": [
              "Syncing run <strong><a href='https://wandb.ai/arunangshudutta218-iitm/dl_assgn_1_q_8/runs/fdj71v56' target=\"_blank\">rosy-sweep-22</a></strong> to <a href='https://wandb.ai/arunangshudutta218-iitm/dl_assgn_1_q_8' target=\"_blank\">Weights & Biases</a> (<a href='https://wandb.me/developer-guide' target=\"_blank\">docs</a>)<br>Sweep page: <a href='https://wandb.ai/arunangshudutta218-iitm/dl_assgn_1_q_8/sweeps/28yyx0vh' target=\"_blank\">https://wandb.ai/arunangshudutta218-iitm/dl_assgn_1_q_8/sweeps/28yyx0vh</a>"
            ]
          },
          "metadata": {}
        },
        {
          "output_type": "display_data",
          "data": {
            "text/plain": [
              "<IPython.core.display.HTML object>"
            ],
            "text/html": [
              " View project at <a href='https://wandb.ai/arunangshudutta218-iitm/dl_assgn_1_q_8' target=\"_blank\">https://wandb.ai/arunangshudutta218-iitm/dl_assgn_1_q_8</a>"
            ]
          },
          "metadata": {}
        },
        {
          "output_type": "display_data",
          "data": {
            "text/plain": [
              "<IPython.core.display.HTML object>"
            ],
            "text/html": [
              " View sweep at <a href='https://wandb.ai/arunangshudutta218-iitm/dl_assgn_1_q_8/sweeps/28yyx0vh' target=\"_blank\">https://wandb.ai/arunangshudutta218-iitm/dl_assgn_1_q_8/sweeps/28yyx0vh</a>"
            ]
          },
          "metadata": {}
        },
        {
          "output_type": "display_data",
          "data": {
            "text/plain": [
              "<IPython.core.display.HTML object>"
            ],
            "text/html": [
              " View run at <a href='https://wandb.ai/arunangshudutta218-iitm/dl_assgn_1_q_8/runs/fdj71v56' target=\"_blank\">https://wandb.ai/arunangshudutta218-iitm/dl_assgn_1_q_8/runs/fdj71v56</a>"
            ]
          },
          "metadata": {}
        },
        {
          "output_type": "stream",
          "name": "stdout",
          "text": [
            "Hyper parameters: \n",
            "\n",
            "Weight initialization type :  Xavier\n",
            "Optimizer :  adam\n",
            "Learning rate (initial):  0.0001\n",
            "Batch size:  32\n",
            "-------------------\n",
            "Architecture Description:\n",
            "\n",
            "Layer:  1  ; number of neurons:  64  ; activation function:  tanh\n",
            "Weight matrix dimention (64, 784) Bias vector dimention (64, 1)\n",
            "----------------\n",
            "Layer:  2  ; number of neurons:  64  ; activation function:  tanh\n",
            "Weight matrix dimention (64, 64) Bias vector dimention (64, 1)\n",
            "----------------\n",
            "Layer:  3  ; number of neurons:  64  ; activation function:  tanh\n",
            "Weight matrix dimention (64, 64) Bias vector dimention (64, 1)\n",
            "----------------\n",
            "Layer:  4  ; number of neurons:  64  ; activation function:  tanh\n",
            "Weight matrix dimention (64, 64) Bias vector dimention (64, 1)\n",
            "----------------\n",
            "Layer:  5  ; number of neurons:  10  ; activation function:  softmax\n",
            "Weight matrix dimention (10, 64) Bias vector dimention (10, 1)\n",
            "----------------\n",
            "1312.0\n",
            "\n",
            " Start of training\n",
            "CE Training Loss:  2.3478152927279416 SE Training Loss:  0.45392315165276176 Training Accuracy:  9.969047619047618 CE Test Loss:  2.348482377273625 SE Test Loss:  0.45390465003693814 Testing Accuracy:  10.266666666666667\n",
            "Epoch:  1\n"
          ]
        },
        {
          "output_type": "stream",
          "name": "stderr",
          "text": [
            "100%|██████████| 1312/1312 [00:06<00:00, 213.94it/s]\n"
          ]
        },
        {
          "output_type": "stream",
          "name": "stdout",
          "text": [
            "CE Training Loss:  0.5199201823372571 SE Training Loss:  0.12895853529405993 Training Accuracy:  81.99047619047619 CE Test Loss:  0.5245151488464038 SE Test Loss:  0.1301256105317464 Testing Accuracy:  81.95555555555555\n",
            "Epoch:  2\n"
          ]
        },
        {
          "output_type": "stream",
          "name": "stderr",
          "text": [
            "100%|██████████| 1312/1312 [00:08<00:00, 149.04it/s]\n"
          ]
        },
        {
          "output_type": "stream",
          "name": "stdout",
          "text": [
            "CE Training Loss:  0.4464388957291581 SE Training Loss:  0.11266566567079858 Training Accuracy:  84.08571428571429 CE Test Loss:  0.4519666287590097 SE Test Loss:  0.11378640836176869 Testing Accuracy:  84.05\n",
            "Epoch:  3\n"
          ]
        },
        {
          "output_type": "stream",
          "name": "stderr",
          "text": [
            "100%|██████████| 1312/1312 [00:07<00:00, 171.64it/s]\n"
          ]
        },
        {
          "output_type": "stream",
          "name": "stdout",
          "text": [
            "CE Training Loss:  0.41426024721609694 SE Training Loss:  0.1051671013506127 Training Accuracy:  85.15 CE Test Loss:  0.42278441838429937 SE Test Loss:  0.10691273928124306 Testing Accuracy:  85.13888888888889\n",
            "Epoch:  4\n"
          ]
        },
        {
          "output_type": "stream",
          "name": "stderr",
          "text": [
            "100%|██████████| 1312/1312 [00:06<00:00, 215.62it/s]\n"
          ]
        },
        {
          "output_type": "stream",
          "name": "stdout",
          "text": [
            "CE Training Loss:  0.3939333521296788 SE Training Loss:  0.10029790811250028 Training Accuracy:  85.88333333333334 CE Test Loss:  0.40566653076332804 SE Test Loss:  0.10279025664620142 Testing Accuracy:  85.7\n",
            "Epoch:  5\n"
          ]
        },
        {
          "output_type": "stream",
          "name": "stderr",
          "text": [
            "100%|██████████| 1312/1312 [00:08<00:00, 148.74it/s]\n"
          ]
        },
        {
          "output_type": "stream",
          "name": "stdout",
          "text": [
            "CE Training Loss:  0.379357021422473 SE Training Loss:  0.09676692068131917 Training Accuracy:  86.41666666666667 CE Test Loss:  0.3940338749961743 SE Test Loss:  0.09994409817920231 Testing Accuracy:  86.07222222222222\n"
          ]
        },
        {
          "output_type": "display_data",
          "data": {
            "text/plain": [
              "<IPython.core.display.HTML object>"
            ],
            "text/html": []
          },
          "metadata": {}
        },
        {
          "output_type": "display_data",
          "data": {
            "text/plain": [
              "<IPython.core.display.HTML object>"
            ],
            "text/html": [
              "<br>    <style><br>        .wandb-row {<br>            display: flex;<br>            flex-direction: row;<br>            flex-wrap: wrap;<br>            justify-content: flex-start;<br>            width: 100%;<br>        }<br>        .wandb-col {<br>            display: flex;<br>            flex-direction: column;<br>            flex-basis: 100%;<br>            flex: 1;<br>            padding: 10px;<br>        }<br>    </style><br><div class=\"wandb-row\"><div class=\"wandb-col\"><h3>Run history:</h3><br/><table class=\"wandb\"><tr><td>tr_accuracy</td><td>▁█████</td></tr><tr><td>tr_loss_CE</td><td>█▁▁▁▁▁</td></tr><tr><td>tr_loss_SE</td><td>█▂▁▁▁▁</td></tr><tr><td>val_accuracy</td><td>▁█████</td></tr><tr><td>val_loss_CE</td><td>█▁▁▁▁▁</td></tr><tr><td>val_loss_SE</td><td>█▂▁▁▁▁</td></tr></table><br/></div><div class=\"wandb-col\"><h3>Run summary:</h3><br/><table class=\"wandb\"><tr><td>tr_accuracy</td><td>86.41667</td></tr><tr><td>tr_loss_CE</td><td>0.37936</td></tr><tr><td>tr_loss_SE</td><td>0.09677</td></tr><tr><td>val_accuracy</td><td>86.07222</td></tr><tr><td>val_loss_CE</td><td>0.39403</td></tr><tr><td>val_loss_SE</td><td>0.09994</td></tr></table><br/></div></div>"
            ]
          },
          "metadata": {}
        },
        {
          "output_type": "display_data",
          "data": {
            "text/plain": [
              "<IPython.core.display.HTML object>"
            ],
            "text/html": [
              " View run <strong style=\"color:#cdcd00\">e_5_hl_4_hs_64_lr_0.0001_opt_adam_bs_32_init_Xavier_ac_tanh_l2_0</strong> at: <a href='https://wandb.ai/arunangshudutta218-iitm/dl_assgn_1_q_8/runs/fdj71v56' target=\"_blank\">https://wandb.ai/arunangshudutta218-iitm/dl_assgn_1_q_8/runs/fdj71v56</a><br> View project at: <a href='https://wandb.ai/arunangshudutta218-iitm/dl_assgn_1_q_8' target=\"_blank\">https://wandb.ai/arunangshudutta218-iitm/dl_assgn_1_q_8</a><br>Synced 5 W&B file(s), 0 media file(s), 0 artifact file(s) and 0 other file(s)"
            ]
          },
          "metadata": {}
        },
        {
          "output_type": "display_data",
          "data": {
            "text/plain": [
              "<IPython.core.display.HTML object>"
            ],
            "text/html": [
              "Find logs at: <code>./wandb/run-20250317_134039-fdj71v56/logs</code>"
            ]
          },
          "metadata": {}
        },
        {
          "output_type": "stream",
          "name": "stderr",
          "text": [
            "\u001b[34m\u001b[1mwandb\u001b[0m: Agent Starting Run: d09wagut with config:\n",
            "\u001b[34m\u001b[1mwandb\u001b[0m: \tactivation: tanh\n",
            "\u001b[34m\u001b[1mwandb\u001b[0m: \tbatch_size: 32\n",
            "\u001b[34m\u001b[1mwandb\u001b[0m: \tepochs: 5\n",
            "\u001b[34m\u001b[1mwandb\u001b[0m: \thidden_size: 64\n",
            "\u001b[34m\u001b[1mwandb\u001b[0m: \tlearning_rate: 0.0001\n",
            "\u001b[34m\u001b[1mwandb\u001b[0m: \tloss_function: cross_entropy\n",
            "\u001b[34m\u001b[1mwandb\u001b[0m: \tnum_layers: 4\n",
            "\u001b[34m\u001b[1mwandb\u001b[0m: \toptimizer: adam\n",
            "\u001b[34m\u001b[1mwandb\u001b[0m: \tweight_decay: 0.0005\n",
            "\u001b[34m\u001b[1mwandb\u001b[0m: \tweight_init: Xavier\n"
          ]
        },
        {
          "output_type": "display_data",
          "data": {
            "text/plain": [
              "<IPython.core.display.HTML object>"
            ],
            "text/html": [
              "Tracking run with wandb version 0.19.8"
            ]
          },
          "metadata": {}
        },
        {
          "output_type": "display_data",
          "data": {
            "text/plain": [
              "<IPython.core.display.HTML object>"
            ],
            "text/html": [
              "Run data is saved locally in <code>/content/wandb/run-20250317_134134-d09wagut</code>"
            ]
          },
          "metadata": {}
        },
        {
          "output_type": "display_data",
          "data": {
            "text/plain": [
              "<IPython.core.display.HTML object>"
            ],
            "text/html": [
              "Syncing run <strong><a href='https://wandb.ai/arunangshudutta218-iitm/dl_assgn_1_q_8/runs/d09wagut' target=\"_blank\">radiant-sweep-23</a></strong> to <a href='https://wandb.ai/arunangshudutta218-iitm/dl_assgn_1_q_8' target=\"_blank\">Weights & Biases</a> (<a href='https://wandb.me/developer-guide' target=\"_blank\">docs</a>)<br>Sweep page: <a href='https://wandb.ai/arunangshudutta218-iitm/dl_assgn_1_q_8/sweeps/28yyx0vh' target=\"_blank\">https://wandb.ai/arunangshudutta218-iitm/dl_assgn_1_q_8/sweeps/28yyx0vh</a>"
            ]
          },
          "metadata": {}
        },
        {
          "output_type": "display_data",
          "data": {
            "text/plain": [
              "<IPython.core.display.HTML object>"
            ],
            "text/html": [
              " View project at <a href='https://wandb.ai/arunangshudutta218-iitm/dl_assgn_1_q_8' target=\"_blank\">https://wandb.ai/arunangshudutta218-iitm/dl_assgn_1_q_8</a>"
            ]
          },
          "metadata": {}
        },
        {
          "output_type": "display_data",
          "data": {
            "text/plain": [
              "<IPython.core.display.HTML object>"
            ],
            "text/html": [
              " View sweep at <a href='https://wandb.ai/arunangshudutta218-iitm/dl_assgn_1_q_8/sweeps/28yyx0vh' target=\"_blank\">https://wandb.ai/arunangshudutta218-iitm/dl_assgn_1_q_8/sweeps/28yyx0vh</a>"
            ]
          },
          "metadata": {}
        },
        {
          "output_type": "display_data",
          "data": {
            "text/plain": [
              "<IPython.core.display.HTML object>"
            ],
            "text/html": [
              " View run at <a href='https://wandb.ai/arunangshudutta218-iitm/dl_assgn_1_q_8/runs/d09wagut' target=\"_blank\">https://wandb.ai/arunangshudutta218-iitm/dl_assgn_1_q_8/runs/d09wagut</a>"
            ]
          },
          "metadata": {}
        },
        {
          "output_type": "stream",
          "name": "stdout",
          "text": [
            "Hyper parameters: \n",
            "\n",
            "Weight initialization type :  Xavier\n",
            "Optimizer :  adam\n",
            "Learning rate (initial):  0.0001\n",
            "Batch size:  32\n",
            "-------------------\n",
            "Architecture Description:\n",
            "\n",
            "Layer:  1  ; number of neurons:  64  ; activation function:  tanh\n",
            "Weight matrix dimention (64, 784) Bias vector dimention (64, 1)\n",
            "----------------\n",
            "Layer:  2  ; number of neurons:  64  ; activation function:  tanh\n",
            "Weight matrix dimention (64, 64) Bias vector dimention (64, 1)\n",
            "----------------\n",
            "Layer:  3  ; number of neurons:  64  ; activation function:  tanh\n",
            "Weight matrix dimention (64, 64) Bias vector dimention (64, 1)\n",
            "----------------\n",
            "Layer:  4  ; number of neurons:  64  ; activation function:  tanh\n",
            "Weight matrix dimention (64, 64) Bias vector dimention (64, 1)\n",
            "----------------\n",
            "Layer:  5  ; number of neurons:  10  ; activation function:  softmax\n",
            "Weight matrix dimention (10, 64) Bias vector dimention (10, 1)\n",
            "----------------\n",
            "1312.0\n",
            "\n",
            " Start of training\n",
            "CE Training Loss:  2.3878502989104495 SE Training Loss:  0.4563114545701841 Training Accuracy:  10.585714285714285 CE Test Loss:  2.3889029071407633 SE Test Loss:  0.45638386774022516 Testing Accuracy:  10.672222222222222\n",
            "Epoch:  1\n"
          ]
        },
        {
          "output_type": "stream",
          "name": "stderr",
          "text": [
            "100%|██████████| 1312/1312 [00:06<00:00, 215.95it/s]\n"
          ]
        },
        {
          "output_type": "stream",
          "name": "stdout",
          "text": [
            "CE Training Loss:  0.5193610592769458 SE Training Loss:  0.12926796441186444 Training Accuracy:  82.07857142857142 CE Test Loss:  0.5237908800147865 SE Test Loss:  0.13026706916460862 Testing Accuracy:  81.89444444444445\n",
            "Epoch:  2\n"
          ]
        },
        {
          "output_type": "stream",
          "name": "stderr",
          "text": [
            "100%|██████████| 1312/1312 [00:09<00:00, 144.46it/s]\n"
          ]
        },
        {
          "output_type": "stream",
          "name": "stdout",
          "text": [
            "CE Training Loss:  0.44169987216251616 SE Training Loss:  0.11114650819360503 Training Accuracy:  84.37142857142857 CE Test Loss:  0.4481715363574006 SE Test Loss:  0.1123878160168739 Testing Accuracy:  84.3\n",
            "Epoch:  3\n"
          ]
        },
        {
          "output_type": "stream",
          "name": "stderr",
          "text": [
            "100%|██████████| 1312/1312 [00:06<00:00, 211.84it/s]\n"
          ]
        },
        {
          "output_type": "stream",
          "name": "stdout",
          "text": [
            "CE Training Loss:  0.40857507923641156 SE Training Loss:  0.10325564409192928 Training Accuracy:  85.41428571428571 CE Test Loss:  0.4183479077790888 SE Test Loss:  0.10524716742991304 Testing Accuracy:  85.40555555555555\n",
            "Epoch:  4\n"
          ]
        },
        {
          "output_type": "stream",
          "name": "stderr",
          "text": [
            "100%|██████████| 1312/1312 [00:07<00:00, 180.93it/s]\n"
          ]
        },
        {
          "output_type": "stream",
          "name": "stdout",
          "text": [
            "CE Training Loss:  0.3882853772325131 SE Training Loss:  0.09839354557246134 Training Accuracy:  86.23095238095237 CE Test Loss:  0.40124478521780677 SE Test Loss:  0.10112403562434777 Testing Accuracy:  85.9\n",
            "Epoch:  5\n"
          ]
        },
        {
          "output_type": "stream",
          "name": "stderr",
          "text": [
            "100%|██████████| 1312/1312 [00:08<00:00, 152.09it/s]\n"
          ]
        },
        {
          "output_type": "stream",
          "name": "stdout",
          "text": [
            "CE Training Loss:  0.3737969458523537 SE Training Loss:  0.09492432008146826 Training Accuracy:  86.76190476190476 CE Test Loss:  0.3898954533110584 SE Test Loss:  0.09839135544234107 Testing Accuracy:  86.31111111111112\n"
          ]
        },
        {
          "output_type": "display_data",
          "data": {
            "text/plain": [
              "<IPython.core.display.HTML object>"
            ],
            "text/html": []
          },
          "metadata": {}
        },
        {
          "output_type": "display_data",
          "data": {
            "text/plain": [
              "<IPython.core.display.HTML object>"
            ],
            "text/html": [
              "<br>    <style><br>        .wandb-row {<br>            display: flex;<br>            flex-direction: row;<br>            flex-wrap: wrap;<br>            justify-content: flex-start;<br>            width: 100%;<br>        }<br>        .wandb-col {<br>            display: flex;<br>            flex-direction: column;<br>            flex-basis: 100%;<br>            flex: 1;<br>            padding: 10px;<br>        }<br>    </style><br><div class=\"wandb-row\"><div class=\"wandb-col\"><h3>Run history:</h3><br/><table class=\"wandb\"><tr><td>tr_accuracy</td><td>▁█████</td></tr><tr><td>tr_loss_CE</td><td>█▂▁▁▁▁</td></tr><tr><td>tr_loss_SE</td><td>█▂▁▁▁▁</td></tr><tr><td>val_accuracy</td><td>▁█████</td></tr><tr><td>val_loss_CE</td><td>█▁▁▁▁▁</td></tr><tr><td>val_loss_SE</td><td>█▂▁▁▁▁</td></tr></table><br/></div><div class=\"wandb-col\"><h3>Run summary:</h3><br/><table class=\"wandb\"><tr><td>tr_accuracy</td><td>86.7619</td></tr><tr><td>tr_loss_CE</td><td>0.3738</td></tr><tr><td>tr_loss_SE</td><td>0.09492</td></tr><tr><td>val_accuracy</td><td>86.31111</td></tr><tr><td>val_loss_CE</td><td>0.3899</td></tr><tr><td>val_loss_SE</td><td>0.09839</td></tr></table><br/></div></div>"
            ]
          },
          "metadata": {}
        },
        {
          "output_type": "display_data",
          "data": {
            "text/plain": [
              "<IPython.core.display.HTML object>"
            ],
            "text/html": [
              " View run <strong style=\"color:#cdcd00\">e_5_hl_4_hs_64_lr_0.0001_opt_adam_bs_32_init_Xavier_ac_tanh_l2_0.0005</strong> at: <a href='https://wandb.ai/arunangshudutta218-iitm/dl_assgn_1_q_8/runs/d09wagut' target=\"_blank\">https://wandb.ai/arunangshudutta218-iitm/dl_assgn_1_q_8/runs/d09wagut</a><br> View project at: <a href='https://wandb.ai/arunangshudutta218-iitm/dl_assgn_1_q_8' target=\"_blank\">https://wandb.ai/arunangshudutta218-iitm/dl_assgn_1_q_8</a><br>Synced 5 W&B file(s), 0 media file(s), 0 artifact file(s) and 0 other file(s)"
            ]
          },
          "metadata": {}
        },
        {
          "output_type": "display_data",
          "data": {
            "text/plain": [
              "<IPython.core.display.HTML object>"
            ],
            "text/html": [
              "Find logs at: <code>./wandb/run-20250317_134134-d09wagut/logs</code>"
            ]
          },
          "metadata": {}
        },
        {
          "output_type": "stream",
          "name": "stderr",
          "text": [
            "\u001b[34m\u001b[1mwandb\u001b[0m: Agent Starting Run: g5s7ai9q with config:\n",
            "\u001b[34m\u001b[1mwandb\u001b[0m: \tactivation: tanh\n",
            "\u001b[34m\u001b[1mwandb\u001b[0m: \tbatch_size: 32\n",
            "\u001b[34m\u001b[1mwandb\u001b[0m: \tepochs: 5\n",
            "\u001b[34m\u001b[1mwandb\u001b[0m: \thidden_size: 64\n",
            "\u001b[34m\u001b[1mwandb\u001b[0m: \tlearning_rate: 0.0001\n",
            "\u001b[34m\u001b[1mwandb\u001b[0m: \tloss_function: cross_entropy\n",
            "\u001b[34m\u001b[1mwandb\u001b[0m: \tnum_layers: 4\n",
            "\u001b[34m\u001b[1mwandb\u001b[0m: \toptimizer: adam\n",
            "\u001b[34m\u001b[1mwandb\u001b[0m: \tweight_decay: 0.5\n",
            "\u001b[34m\u001b[1mwandb\u001b[0m: \tweight_init: Xavier\n"
          ]
        },
        {
          "output_type": "display_data",
          "data": {
            "text/plain": [
              "<IPython.core.display.HTML object>"
            ],
            "text/html": [
              "Tracking run with wandb version 0.19.8"
            ]
          },
          "metadata": {}
        },
        {
          "output_type": "display_data",
          "data": {
            "text/plain": [
              "<IPython.core.display.HTML object>"
            ],
            "text/html": [
              "Run data is saved locally in <code>/content/wandb/run-20250317_134230-g5s7ai9q</code>"
            ]
          },
          "metadata": {}
        },
        {
          "output_type": "display_data",
          "data": {
            "text/plain": [
              "<IPython.core.display.HTML object>"
            ],
            "text/html": [
              "Syncing run <strong><a href='https://wandb.ai/arunangshudutta218-iitm/dl_assgn_1_q_8/runs/g5s7ai9q' target=\"_blank\">summer-sweep-24</a></strong> to <a href='https://wandb.ai/arunangshudutta218-iitm/dl_assgn_1_q_8' target=\"_blank\">Weights & Biases</a> (<a href='https://wandb.me/developer-guide' target=\"_blank\">docs</a>)<br>Sweep page: <a href='https://wandb.ai/arunangshudutta218-iitm/dl_assgn_1_q_8/sweeps/28yyx0vh' target=\"_blank\">https://wandb.ai/arunangshudutta218-iitm/dl_assgn_1_q_8/sweeps/28yyx0vh</a>"
            ]
          },
          "metadata": {}
        },
        {
          "output_type": "display_data",
          "data": {
            "text/plain": [
              "<IPython.core.display.HTML object>"
            ],
            "text/html": [
              " View project at <a href='https://wandb.ai/arunangshudutta218-iitm/dl_assgn_1_q_8' target=\"_blank\">https://wandb.ai/arunangshudutta218-iitm/dl_assgn_1_q_8</a>"
            ]
          },
          "metadata": {}
        },
        {
          "output_type": "display_data",
          "data": {
            "text/plain": [
              "<IPython.core.display.HTML object>"
            ],
            "text/html": [
              " View sweep at <a href='https://wandb.ai/arunangshudutta218-iitm/dl_assgn_1_q_8/sweeps/28yyx0vh' target=\"_blank\">https://wandb.ai/arunangshudutta218-iitm/dl_assgn_1_q_8/sweeps/28yyx0vh</a>"
            ]
          },
          "metadata": {}
        },
        {
          "output_type": "display_data",
          "data": {
            "text/plain": [
              "<IPython.core.display.HTML object>"
            ],
            "text/html": [
              " View run at <a href='https://wandb.ai/arunangshudutta218-iitm/dl_assgn_1_q_8/runs/g5s7ai9q' target=\"_blank\">https://wandb.ai/arunangshudutta218-iitm/dl_assgn_1_q_8/runs/g5s7ai9q</a>"
            ]
          },
          "metadata": {}
        },
        {
          "output_type": "stream",
          "name": "stdout",
          "text": [
            "Hyper parameters: \n",
            "\n",
            "Weight initialization type :  Xavier\n",
            "Optimizer :  adam\n",
            "Learning rate (initial):  0.0001\n",
            "Batch size:  32\n",
            "-------------------\n",
            "Architecture Description:\n",
            "\n",
            "Layer:  1  ; number of neurons:  64  ; activation function:  tanh\n",
            "Weight matrix dimention (64, 784) Bias vector dimention (64, 1)\n",
            "----------------\n",
            "Layer:  2  ; number of neurons:  64  ; activation function:  tanh\n",
            "Weight matrix dimention (64, 64) Bias vector dimention (64, 1)\n",
            "----------------\n",
            "Layer:  3  ; number of neurons:  64  ; activation function:  tanh\n",
            "Weight matrix dimention (64, 64) Bias vector dimention (64, 1)\n",
            "----------------\n",
            "Layer:  4  ; number of neurons:  64  ; activation function:  tanh\n",
            "Weight matrix dimention (64, 64) Bias vector dimention (64, 1)\n",
            "----------------\n",
            "Layer:  5  ; number of neurons:  10  ; activation function:  softmax\n",
            "Weight matrix dimention (10, 64) Bias vector dimention (10, 1)\n",
            "----------------\n",
            "1312.0\n",
            "\n",
            " Start of training\n",
            "CE Training Loss:  2.4708325266602045 SE Training Loss:  0.4652053114519924 Training Accuracy:  8.035714285714286 CE Test Loss:  2.475248885038462 SE Test Loss:  0.4656209156790769 Testing Accuracy:  8.05\n",
            "Epoch:  1\n"
          ]
        },
        {
          "output_type": "stream",
          "name": "stderr",
          "text": [
            "100%|██████████| 1312/1312 [00:08<00:00, 150.84it/s]\n"
          ]
        },
        {
          "output_type": "stream",
          "name": "stdout",
          "text": [
            "CE Training Loss:  0.5893570901373724 SE Training Loss:  0.1418431516434776 Training Accuracy:  81.31666666666666 CE Test Loss:  0.5934445292820714 SE Test Loss:  0.1430202392196441 Testing Accuracy:  81.02777777777777\n",
            "Epoch:  2\n"
          ]
        },
        {
          "output_type": "stream",
          "name": "stderr",
          "text": [
            "100%|██████████| 1312/1312 [00:07<00:00, 169.22it/s]\n"
          ]
        },
        {
          "output_type": "stream",
          "name": "stdout",
          "text": [
            "CE Training Loss:  0.5369983974886074 SE Training Loss:  0.12907292014253532 Training Accuracy:  82.79761904761905 CE Test Loss:  0.5410836373519093 SE Test Loss:  0.13002867085413486 Testing Accuracy:  82.63888888888889\n",
            "Epoch:  3\n"
          ]
        },
        {
          "output_type": "stream",
          "name": "stderr",
          "text": [
            "100%|██████████| 1312/1312 [00:06<00:00, 202.15it/s]\n"
          ]
        },
        {
          "output_type": "stream",
          "name": "stdout",
          "text": [
            "CE Training Loss:  0.5206733043804145 SE Training Loss:  0.1251026917319215 Training Accuracy:  83.21904761904761 CE Test Loss:  0.5252891483124188 SE Test Loss:  0.12610682897693834 Testing Accuracy:  83.12222222222222\n",
            "Epoch:  4\n"
          ]
        },
        {
          "output_type": "stream",
          "name": "stderr",
          "text": [
            "100%|██████████| 1312/1312 [00:08<00:00, 149.30it/s]\n"
          ]
        },
        {
          "output_type": "stream",
          "name": "stdout",
          "text": [
            "CE Training Loss:  0.5118643994819272 SE Training Loss:  0.12297681116831498 Training Accuracy:  83.43095238095238 CE Test Loss:  0.517036086773617 SE Test Loss:  0.12408110146305044 Testing Accuracy:  83.41666666666667\n",
            "Epoch:  5\n"
          ]
        },
        {
          "output_type": "stream",
          "name": "stderr",
          "text": [
            "100%|██████████| 1312/1312 [00:06<00:00, 197.41it/s]\n"
          ]
        },
        {
          "output_type": "stream",
          "name": "stdout",
          "text": [
            "CE Training Loss:  0.5064785554399757 SE Training Loss:  0.12167921550950157 Training Accuracy:  83.62380952380953 CE Test Loss:  0.5121413398896794 SE Test Loss:  0.12288196445835729 Testing Accuracy:  83.54444444444445\n"
          ]
        },
        {
          "output_type": "display_data",
          "data": {
            "text/plain": [
              "<IPython.core.display.HTML object>"
            ],
            "text/html": []
          },
          "metadata": {}
        },
        {
          "output_type": "display_data",
          "data": {
            "text/plain": [
              "<IPython.core.display.HTML object>"
            ],
            "text/html": [
              "<br>    <style><br>        .wandb-row {<br>            display: flex;<br>            flex-direction: row;<br>            flex-wrap: wrap;<br>            justify-content: flex-start;<br>            width: 100%;<br>        }<br>        .wandb-col {<br>            display: flex;<br>            flex-direction: column;<br>            flex-basis: 100%;<br>            flex: 1;<br>            padding: 10px;<br>        }<br>    </style><br><div class=\"wandb-row\"><div class=\"wandb-col\"><h3>Run history:</h3><br/><table class=\"wandb\"><tr><td>tr_accuracy</td><td>▁█████</td></tr><tr><td>tr_loss_CE</td><td>█▁▁▁▁▁</td></tr><tr><td>tr_loss_SE</td><td>█▁▁▁▁▁</td></tr><tr><td>val_accuracy</td><td>▁█████</td></tr><tr><td>val_loss_CE</td><td>█▁▁▁▁▁</td></tr><tr><td>val_loss_SE</td><td>█▁▁▁▁▁</td></tr></table><br/></div><div class=\"wandb-col\"><h3>Run summary:</h3><br/><table class=\"wandb\"><tr><td>tr_accuracy</td><td>83.62381</td></tr><tr><td>tr_loss_CE</td><td>0.50648</td></tr><tr><td>tr_loss_SE</td><td>0.12168</td></tr><tr><td>val_accuracy</td><td>83.54444</td></tr><tr><td>val_loss_CE</td><td>0.51214</td></tr><tr><td>val_loss_SE</td><td>0.12288</td></tr></table><br/></div></div>"
            ]
          },
          "metadata": {}
        },
        {
          "output_type": "display_data",
          "data": {
            "text/plain": [
              "<IPython.core.display.HTML object>"
            ],
            "text/html": [
              " View run <strong style=\"color:#cdcd00\">e_5_hl_4_hs_64_lr_0.0001_opt_adam_bs_32_init_Xavier_ac_tanh_l2_0.5</strong> at: <a href='https://wandb.ai/arunangshudutta218-iitm/dl_assgn_1_q_8/runs/g5s7ai9q' target=\"_blank\">https://wandb.ai/arunangshudutta218-iitm/dl_assgn_1_q_8/runs/g5s7ai9q</a><br> View project at: <a href='https://wandb.ai/arunangshudutta218-iitm/dl_assgn_1_q_8' target=\"_blank\">https://wandb.ai/arunangshudutta218-iitm/dl_assgn_1_q_8</a><br>Synced 5 W&B file(s), 0 media file(s), 0 artifact file(s) and 0 other file(s)"
            ]
          },
          "metadata": {}
        },
        {
          "output_type": "display_data",
          "data": {
            "text/plain": [
              "<IPython.core.display.HTML object>"
            ],
            "text/html": [
              "Find logs at: <code>./wandb/run-20250317_134230-g5s7ai9q/logs</code>"
            ]
          },
          "metadata": {}
        },
        {
          "output_type": "stream",
          "name": "stderr",
          "text": [
            "\u001b[34m\u001b[1mwandb\u001b[0m: Agent Starting Run: ux8mi946 with config:\n",
            "\u001b[34m\u001b[1mwandb\u001b[0m: \tactivation: tanh\n",
            "\u001b[34m\u001b[1mwandb\u001b[0m: \tbatch_size: 32\n",
            "\u001b[34m\u001b[1mwandb\u001b[0m: \tepochs: 5\n",
            "\u001b[34m\u001b[1mwandb\u001b[0m: \thidden_size: 64\n",
            "\u001b[34m\u001b[1mwandb\u001b[0m: \tlearning_rate: 0.0001\n",
            "\u001b[34m\u001b[1mwandb\u001b[0m: \tloss_function: cross_entropy\n",
            "\u001b[34m\u001b[1mwandb\u001b[0m: \tnum_layers: 4\n",
            "\u001b[34m\u001b[1mwandb\u001b[0m: \toptimizer: nadam\n",
            "\u001b[34m\u001b[1mwandb\u001b[0m: \tweight_decay: 0\n",
            "\u001b[34m\u001b[1mwandb\u001b[0m: \tweight_init: Xavier\n"
          ]
        },
        {
          "output_type": "display_data",
          "data": {
            "text/plain": [
              "<IPython.core.display.HTML object>"
            ],
            "text/html": [
              "Tracking run with wandb version 0.19.8"
            ]
          },
          "metadata": {}
        },
        {
          "output_type": "display_data",
          "data": {
            "text/plain": [
              "<IPython.core.display.HTML object>"
            ],
            "text/html": [
              "Run data is saved locally in <code>/content/wandb/run-20250317_134327-ux8mi946</code>"
            ]
          },
          "metadata": {}
        },
        {
          "output_type": "display_data",
          "data": {
            "text/plain": [
              "<IPython.core.display.HTML object>"
            ],
            "text/html": [
              "Syncing run <strong><a href='https://wandb.ai/arunangshudutta218-iitm/dl_assgn_1_q_8/runs/ux8mi946' target=\"_blank\">flowing-sweep-25</a></strong> to <a href='https://wandb.ai/arunangshudutta218-iitm/dl_assgn_1_q_8' target=\"_blank\">Weights & Biases</a> (<a href='https://wandb.me/developer-guide' target=\"_blank\">docs</a>)<br>Sweep page: <a href='https://wandb.ai/arunangshudutta218-iitm/dl_assgn_1_q_8/sweeps/28yyx0vh' target=\"_blank\">https://wandb.ai/arunangshudutta218-iitm/dl_assgn_1_q_8/sweeps/28yyx0vh</a>"
            ]
          },
          "metadata": {}
        },
        {
          "output_type": "display_data",
          "data": {
            "text/plain": [
              "<IPython.core.display.HTML object>"
            ],
            "text/html": [
              " View project at <a href='https://wandb.ai/arunangshudutta218-iitm/dl_assgn_1_q_8' target=\"_blank\">https://wandb.ai/arunangshudutta218-iitm/dl_assgn_1_q_8</a>"
            ]
          },
          "metadata": {}
        },
        {
          "output_type": "display_data",
          "data": {
            "text/plain": [
              "<IPython.core.display.HTML object>"
            ],
            "text/html": [
              " View sweep at <a href='https://wandb.ai/arunangshudutta218-iitm/dl_assgn_1_q_8/sweeps/28yyx0vh' target=\"_blank\">https://wandb.ai/arunangshudutta218-iitm/dl_assgn_1_q_8/sweeps/28yyx0vh</a>"
            ]
          },
          "metadata": {}
        },
        {
          "output_type": "display_data",
          "data": {
            "text/plain": [
              "<IPython.core.display.HTML object>"
            ],
            "text/html": [
              " View run at <a href='https://wandb.ai/arunangshudutta218-iitm/dl_assgn_1_q_8/runs/ux8mi946' target=\"_blank\">https://wandb.ai/arunangshudutta218-iitm/dl_assgn_1_q_8/runs/ux8mi946</a>"
            ]
          },
          "metadata": {}
        },
        {
          "output_type": "stream",
          "name": "stdout",
          "text": [
            "Hyper parameters: \n",
            "\n",
            "Weight initialization type :  Xavier\n",
            "Optimizer :  nadam\n",
            "Learning rate (initial):  0.0001\n",
            "Batch size:  32\n",
            "-------------------\n",
            "Architecture Description:\n",
            "\n",
            "Layer:  1  ; number of neurons:  64  ; activation function:  tanh\n",
            "Weight matrix dimention (64, 784) Bias vector dimention (64, 1)\n",
            "----------------\n",
            "Layer:  2  ; number of neurons:  64  ; activation function:  tanh\n",
            "Weight matrix dimention (64, 64) Bias vector dimention (64, 1)\n",
            "----------------\n",
            "Layer:  3  ; number of neurons:  64  ; activation function:  tanh\n",
            "Weight matrix dimention (64, 64) Bias vector dimention (64, 1)\n",
            "----------------\n",
            "Layer:  4  ; number of neurons:  64  ; activation function:  tanh\n",
            "Weight matrix dimention (64, 64) Bias vector dimention (64, 1)\n",
            "----------------\n",
            "Layer:  5  ; number of neurons:  10  ; activation function:  softmax\n",
            "Weight matrix dimention (10, 64) Bias vector dimention (10, 1)\n",
            "----------------\n",
            "1312.0\n",
            "\n",
            " Start of training\n",
            "CE Training Loss:  2.3910652669285817 SE Training Loss:  0.45890601147838 Training Accuracy:  8.89047619047619 CE Test Loss:  2.3913544673258276 SE Test Loss:  0.45885048251885513 Testing Accuracy:  9.311111111111112\n",
            "Epoch:  1\n"
          ]
        },
        {
          "output_type": "stream",
          "name": "stderr",
          "text": [
            "100%|██████████| 1312/1312 [00:06<00:00, 194.26it/s]\n"
          ]
        },
        {
          "output_type": "stream",
          "name": "stdout",
          "text": [
            "CE Training Loss:  0.5111797464334453 SE Training Loss:  0.12696690681315626 Training Accuracy:  82.3452380952381 CE Test Loss:  0.5161846940772193 SE Test Loss:  0.12831307190285351 Testing Accuracy:  82.13333333333334\n",
            "Epoch:  2\n"
          ]
        },
        {
          "output_type": "stream",
          "name": "stderr",
          "text": [
            "100%|██████████| 1312/1312 [00:08<00:00, 146.13it/s]\n"
          ]
        },
        {
          "output_type": "stream",
          "name": "stdout",
          "text": [
            "CE Training Loss:  0.44283411684617907 SE Training Loss:  0.1116113847495285 Training Accuracy:  84.32619047619048 CE Test Loss:  0.4496165531001552 SE Test Loss:  0.11324973359197937 Testing Accuracy:  84.14444444444445\n",
            "Epoch:  3\n"
          ]
        },
        {
          "output_type": "stream",
          "name": "stderr",
          "text": [
            "100%|██████████| 1312/1312 [00:09<00:00, 138.10it/s]\n"
          ]
        },
        {
          "output_type": "stream",
          "name": "stdout",
          "text": [
            "CE Training Loss:  0.4145551488181208 SE Training Loss:  0.10489623868290573 Training Accuracy:  85.47142857142858 CE Test Loss:  0.4244410615135114 SE Test Loss:  0.10727008741467718 Testing Accuracy:  84.9888888888889\n",
            "Epoch:  4\n"
          ]
        },
        {
          "output_type": "stream",
          "name": "stderr",
          "text": [
            "100%|██████████| 1312/1312 [00:06<00:00, 195.64it/s]\n"
          ]
        },
        {
          "output_type": "stream",
          "name": "stdout",
          "text": [
            "CE Training Loss:  0.3964567397505905 SE Training Loss:  0.10047855955191334 Training Accuracy:  86.01428571428572 CE Test Loss:  0.409329954370347 SE Test Loss:  0.10356185758115115 Testing Accuracy:  85.40555555555555\n",
            "Epoch:  5\n"
          ]
        },
        {
          "output_type": "stream",
          "name": "stderr",
          "text": [
            "100%|██████████| 1312/1312 [00:08<00:00, 158.41it/s]\n"
          ]
        },
        {
          "output_type": "stream",
          "name": "stdout",
          "text": [
            "CE Training Loss:  0.38336539960127264 SE Training Loss:  0.09727099154783428 Training Accuracy:  86.45714285714286 CE Test Loss:  0.3991306410496553 SE Test Loss:  0.10101276722643925 Testing Accuracy:  85.7388888888889\n"
          ]
        },
        {
          "output_type": "display_data",
          "data": {
            "text/plain": [
              "<IPython.core.display.HTML object>"
            ],
            "text/html": []
          },
          "metadata": {}
        },
        {
          "output_type": "display_data",
          "data": {
            "text/plain": [
              "<IPython.core.display.HTML object>"
            ],
            "text/html": [
              "<br>    <style><br>        .wandb-row {<br>            display: flex;<br>            flex-direction: row;<br>            flex-wrap: wrap;<br>            justify-content: flex-start;<br>            width: 100%;<br>        }<br>        .wandb-col {<br>            display: flex;<br>            flex-direction: column;<br>            flex-basis: 100%;<br>            flex: 1;<br>            padding: 10px;<br>        }<br>    </style><br><div class=\"wandb-row\"><div class=\"wandb-col\"><h3>Run history:</h3><br/><table class=\"wandb\"><tr><td>tr_accuracy</td><td>▁█████</td></tr><tr><td>tr_loss_CE</td><td>█▁▁▁▁▁</td></tr><tr><td>tr_loss_SE</td><td>█▂▁▁▁▁</td></tr><tr><td>val_accuracy</td><td>▁█████</td></tr><tr><td>val_loss_CE</td><td>█▁▁▁▁▁</td></tr><tr><td>val_loss_SE</td><td>█▂▁▁▁▁</td></tr></table><br/></div><div class=\"wandb-col\"><h3>Run summary:</h3><br/><table class=\"wandb\"><tr><td>tr_accuracy</td><td>86.45714</td></tr><tr><td>tr_loss_CE</td><td>0.38337</td></tr><tr><td>tr_loss_SE</td><td>0.09727</td></tr><tr><td>val_accuracy</td><td>85.73889</td></tr><tr><td>val_loss_CE</td><td>0.39913</td></tr><tr><td>val_loss_SE</td><td>0.10101</td></tr></table><br/></div></div>"
            ]
          },
          "metadata": {}
        },
        {
          "output_type": "display_data",
          "data": {
            "text/plain": [
              "<IPython.core.display.HTML object>"
            ],
            "text/html": [
              " View run <strong style=\"color:#cdcd00\">e_5_hl_4_hs_64_lr_0.0001_opt_nadam_bs_32_init_Xavier_ac_tanh_l2_0</strong> at: <a href='https://wandb.ai/arunangshudutta218-iitm/dl_assgn_1_q_8/runs/ux8mi946' target=\"_blank\">https://wandb.ai/arunangshudutta218-iitm/dl_assgn_1_q_8/runs/ux8mi946</a><br> View project at: <a href='https://wandb.ai/arunangshudutta218-iitm/dl_assgn_1_q_8' target=\"_blank\">https://wandb.ai/arunangshudutta218-iitm/dl_assgn_1_q_8</a><br>Synced 5 W&B file(s), 0 media file(s), 0 artifact file(s) and 0 other file(s)"
            ]
          },
          "metadata": {}
        },
        {
          "output_type": "display_data",
          "data": {
            "text/plain": [
              "<IPython.core.display.HTML object>"
            ],
            "text/html": [
              "Find logs at: <code>./wandb/run-20250317_134327-ux8mi946/logs</code>"
            ]
          },
          "metadata": {}
        },
        {
          "output_type": "stream",
          "name": "stderr",
          "text": [
            "\u001b[34m\u001b[1mwandb\u001b[0m: Agent Starting Run: cjbve4jb with config:\n",
            "\u001b[34m\u001b[1mwandb\u001b[0m: \tactivation: tanh\n",
            "\u001b[34m\u001b[1mwandb\u001b[0m: \tbatch_size: 32\n",
            "\u001b[34m\u001b[1mwandb\u001b[0m: \tepochs: 5\n",
            "\u001b[34m\u001b[1mwandb\u001b[0m: \thidden_size: 64\n",
            "\u001b[34m\u001b[1mwandb\u001b[0m: \tlearning_rate: 0.0001\n",
            "\u001b[34m\u001b[1mwandb\u001b[0m: \tloss_function: cross_entropy\n",
            "\u001b[34m\u001b[1mwandb\u001b[0m: \tnum_layers: 4\n",
            "\u001b[34m\u001b[1mwandb\u001b[0m: \toptimizer: nadam\n",
            "\u001b[34m\u001b[1mwandb\u001b[0m: \tweight_decay: 0.0005\n",
            "\u001b[34m\u001b[1mwandb\u001b[0m: \tweight_init: Xavier\n"
          ]
        },
        {
          "output_type": "display_data",
          "data": {
            "text/plain": [
              "<IPython.core.display.HTML object>"
            ],
            "text/html": [
              "Tracking run with wandb version 0.19.8"
            ]
          },
          "metadata": {}
        },
        {
          "output_type": "display_data",
          "data": {
            "text/plain": [
              "<IPython.core.display.HTML object>"
            ],
            "text/html": [
              "Run data is saved locally in <code>/content/wandb/run-20250317_134431-cjbve4jb</code>"
            ]
          },
          "metadata": {}
        },
        {
          "output_type": "display_data",
          "data": {
            "text/plain": [
              "<IPython.core.display.HTML object>"
            ],
            "text/html": [
              "Syncing run <strong><a href='https://wandb.ai/arunangshudutta218-iitm/dl_assgn_1_q_8/runs/cjbve4jb' target=\"_blank\">hearty-sweep-26</a></strong> to <a href='https://wandb.ai/arunangshudutta218-iitm/dl_assgn_1_q_8' target=\"_blank\">Weights & Biases</a> (<a href='https://wandb.me/developer-guide' target=\"_blank\">docs</a>)<br>Sweep page: <a href='https://wandb.ai/arunangshudutta218-iitm/dl_assgn_1_q_8/sweeps/28yyx0vh' target=\"_blank\">https://wandb.ai/arunangshudutta218-iitm/dl_assgn_1_q_8/sweeps/28yyx0vh</a>"
            ]
          },
          "metadata": {}
        },
        {
          "output_type": "display_data",
          "data": {
            "text/plain": [
              "<IPython.core.display.HTML object>"
            ],
            "text/html": [
              " View project at <a href='https://wandb.ai/arunangshudutta218-iitm/dl_assgn_1_q_8' target=\"_blank\">https://wandb.ai/arunangshudutta218-iitm/dl_assgn_1_q_8</a>"
            ]
          },
          "metadata": {}
        },
        {
          "output_type": "display_data",
          "data": {
            "text/plain": [
              "<IPython.core.display.HTML object>"
            ],
            "text/html": [
              " View sweep at <a href='https://wandb.ai/arunangshudutta218-iitm/dl_assgn_1_q_8/sweeps/28yyx0vh' target=\"_blank\">https://wandb.ai/arunangshudutta218-iitm/dl_assgn_1_q_8/sweeps/28yyx0vh</a>"
            ]
          },
          "metadata": {}
        },
        {
          "output_type": "display_data",
          "data": {
            "text/plain": [
              "<IPython.core.display.HTML object>"
            ],
            "text/html": [
              " View run at <a href='https://wandb.ai/arunangshudutta218-iitm/dl_assgn_1_q_8/runs/cjbve4jb' target=\"_blank\">https://wandb.ai/arunangshudutta218-iitm/dl_assgn_1_q_8/runs/cjbve4jb</a>"
            ]
          },
          "metadata": {}
        },
        {
          "output_type": "stream",
          "name": "stdout",
          "text": [
            "Hyper parameters: \n",
            "\n",
            "Weight initialization type :  Xavier\n",
            "Optimizer :  nadam\n",
            "Learning rate (initial):  0.0001\n",
            "Batch size:  32\n",
            "-------------------\n",
            "Architecture Description:\n",
            "\n",
            "Layer:  1  ; number of neurons:  64  ; activation function:  tanh\n",
            "Weight matrix dimention (64, 784) Bias vector dimention (64, 1)\n",
            "----------------\n",
            "Layer:  2  ; number of neurons:  64  ; activation function:  tanh\n",
            "Weight matrix dimention (64, 64) Bias vector dimention (64, 1)\n",
            "----------------\n",
            "Layer:  3  ; number of neurons:  64  ; activation function:  tanh\n",
            "Weight matrix dimention (64, 64) Bias vector dimention (64, 1)\n",
            "----------------\n",
            "Layer:  4  ; number of neurons:  64  ; activation function:  tanh\n",
            "Weight matrix dimention (64, 64) Bias vector dimention (64, 1)\n",
            "----------------\n",
            "Layer:  5  ; number of neurons:  10  ; activation function:  softmax\n",
            "Weight matrix dimention (10, 64) Bias vector dimention (10, 1)\n",
            "----------------\n",
            "1312.0\n",
            "\n",
            " Start of training\n",
            "CE Training Loss:  2.3715117019076724 SE Training Loss:  0.4584555001850698 Training Accuracy:  5.859523809523809 CE Test Loss:  2.3713104869433894 SE Test Loss:  0.45840239522225584 Testing Accuracy:  6.127777777777778\n",
            "Epoch:  1\n"
          ]
        },
        {
          "output_type": "stream",
          "name": "stderr",
          "text": [
            "100%|██████████| 1312/1312 [00:07<00:00, 178.42it/s]\n"
          ]
        },
        {
          "output_type": "stream",
          "name": "stdout",
          "text": [
            "CE Training Loss:  0.5121094340213437 SE Training Loss:  0.12709766160671965 Training Accuracy:  82.26904761904763 CE Test Loss:  0.5190185943362408 SE Test Loss:  0.12878878803265892 Testing Accuracy:  82.22222222222223\n",
            "Epoch:  2\n"
          ]
        },
        {
          "output_type": "stream",
          "name": "stderr",
          "text": [
            "100%|██████████| 1312/1312 [00:06<00:00, 187.87it/s]\n"
          ]
        },
        {
          "output_type": "stream",
          "name": "stdout",
          "text": [
            "CE Training Loss:  0.4398344388662914 SE Training Loss:  0.11136408923783808 Training Accuracy:  84.25 CE Test Loss:  0.44865920852833274 SE Test Loss:  0.11327179366024077 Testing Accuracy:  83.97777777777777\n",
            "Epoch:  3\n"
          ]
        },
        {
          "output_type": "stream",
          "name": "stderr",
          "text": [
            "100%|██████████| 1312/1312 [00:09<00:00, 138.59it/s]\n"
          ]
        },
        {
          "output_type": "stream",
          "name": "stdout",
          "text": [
            "CE Training Loss:  0.40955407757926676 SE Training Loss:  0.10427251271399669 Training Accuracy:  85.25952380952381 CE Test Loss:  0.4214524972850685 SE Test Loss:  0.10687157525316368 Testing Accuracy:  85.03888888888889\n",
            "Epoch:  4\n"
          ]
        },
        {
          "output_type": "stream",
          "name": "stderr",
          "text": [
            "100%|██████████| 1312/1312 [00:07<00:00, 186.54it/s]\n"
          ]
        },
        {
          "output_type": "stream",
          "name": "stdout",
          "text": [
            "CE Training Loss:  0.3899308645431725 SE Training Loss:  0.0994849371141068 Training Accuracy:  85.92857142857143 CE Test Loss:  0.40465897811821355 SE Test Loss:  0.10273644435676957 Testing Accuracy:  85.60555555555555\n",
            "Epoch:  5\n"
          ]
        },
        {
          "output_type": "stream",
          "name": "stderr",
          "text": [
            "100%|██████████| 1312/1312 [00:07<00:00, 175.52it/s]\n"
          ]
        },
        {
          "output_type": "stream",
          "name": "stdout",
          "text": [
            "CE Training Loss:  0.37553850311839404 SE Training Loss:  0.0959524535685152 Training Accuracy:  86.49285714285715 CE Test Loss:  0.392810309885806 SE Test Loss:  0.09976410625881095 Testing Accuracy:  86.00555555555556\n"
          ]
        },
        {
          "output_type": "display_data",
          "data": {
            "text/plain": [
              "<IPython.core.display.HTML object>"
            ],
            "text/html": []
          },
          "metadata": {}
        },
        {
          "output_type": "display_data",
          "data": {
            "text/plain": [
              "<IPython.core.display.HTML object>"
            ],
            "text/html": [
              "<br>    <style><br>        .wandb-row {<br>            display: flex;<br>            flex-direction: row;<br>            flex-wrap: wrap;<br>            justify-content: flex-start;<br>            width: 100%;<br>        }<br>        .wandb-col {<br>            display: flex;<br>            flex-direction: column;<br>            flex-basis: 100%;<br>            flex: 1;<br>            padding: 10px;<br>        }<br>    </style><br><div class=\"wandb-row\"><div class=\"wandb-col\"><h3>Run history:</h3><br/><table class=\"wandb\"><tr><td>tr_accuracy</td><td>▁█████</td></tr><tr><td>tr_loss_CE</td><td>█▁▁▁▁▁</td></tr><tr><td>tr_loss_SE</td><td>█▂▁▁▁▁</td></tr><tr><td>val_accuracy</td><td>▁█████</td></tr><tr><td>val_loss_CE</td><td>█▁▁▁▁▁</td></tr><tr><td>val_loss_SE</td><td>█▂▁▁▁▁</td></tr></table><br/></div><div class=\"wandb-col\"><h3>Run summary:</h3><br/><table class=\"wandb\"><tr><td>tr_accuracy</td><td>86.49286</td></tr><tr><td>tr_loss_CE</td><td>0.37554</td></tr><tr><td>tr_loss_SE</td><td>0.09595</td></tr><tr><td>val_accuracy</td><td>86.00556</td></tr><tr><td>val_loss_CE</td><td>0.39281</td></tr><tr><td>val_loss_SE</td><td>0.09976</td></tr></table><br/></div></div>"
            ]
          },
          "metadata": {}
        },
        {
          "output_type": "display_data",
          "data": {
            "text/plain": [
              "<IPython.core.display.HTML object>"
            ],
            "text/html": [
              " View run <strong style=\"color:#cdcd00\">e_5_hl_4_hs_64_lr_0.0001_opt_nadam_bs_32_init_Xavier_ac_tanh_l2_0.0005</strong> at: <a href='https://wandb.ai/arunangshudutta218-iitm/dl_assgn_1_q_8/runs/cjbve4jb' target=\"_blank\">https://wandb.ai/arunangshudutta218-iitm/dl_assgn_1_q_8/runs/cjbve4jb</a><br> View project at: <a href='https://wandb.ai/arunangshudutta218-iitm/dl_assgn_1_q_8' target=\"_blank\">https://wandb.ai/arunangshudutta218-iitm/dl_assgn_1_q_8</a><br>Synced 5 W&B file(s), 0 media file(s), 0 artifact file(s) and 0 other file(s)"
            ]
          },
          "metadata": {}
        },
        {
          "output_type": "display_data",
          "data": {
            "text/plain": [
              "<IPython.core.display.HTML object>"
            ],
            "text/html": [
              "Find logs at: <code>./wandb/run-20250317_134431-cjbve4jb/logs</code>"
            ]
          },
          "metadata": {}
        },
        {
          "output_type": "stream",
          "name": "stderr",
          "text": [
            "\u001b[34m\u001b[1mwandb\u001b[0m: Agent Starting Run: btec7nlm with config:\n",
            "\u001b[34m\u001b[1mwandb\u001b[0m: \tactivation: tanh\n",
            "\u001b[34m\u001b[1mwandb\u001b[0m: \tbatch_size: 32\n",
            "\u001b[34m\u001b[1mwandb\u001b[0m: \tepochs: 5\n",
            "\u001b[34m\u001b[1mwandb\u001b[0m: \thidden_size: 64\n",
            "\u001b[34m\u001b[1mwandb\u001b[0m: \tlearning_rate: 0.0001\n",
            "\u001b[34m\u001b[1mwandb\u001b[0m: \tloss_function: cross_entropy\n",
            "\u001b[34m\u001b[1mwandb\u001b[0m: \tnum_layers: 4\n",
            "\u001b[34m\u001b[1mwandb\u001b[0m: \toptimizer: nadam\n",
            "\u001b[34m\u001b[1mwandb\u001b[0m: \tweight_decay: 0.5\n",
            "\u001b[34m\u001b[1mwandb\u001b[0m: \tweight_init: Xavier\n"
          ]
        },
        {
          "output_type": "display_data",
          "data": {
            "text/plain": [
              "<IPython.core.display.HTML object>"
            ],
            "text/html": [
              "Tracking run with wandb version 0.19.8"
            ]
          },
          "metadata": {}
        },
        {
          "output_type": "display_data",
          "data": {
            "text/plain": [
              "<IPython.core.display.HTML object>"
            ],
            "text/html": [
              "Run data is saved locally in <code>/content/wandb/run-20250317_134526-btec7nlm</code>"
            ]
          },
          "metadata": {}
        },
        {
          "output_type": "display_data",
          "data": {
            "text/plain": [
              "<IPython.core.display.HTML object>"
            ],
            "text/html": [
              "Syncing run <strong><a href='https://wandb.ai/arunangshudutta218-iitm/dl_assgn_1_q_8/runs/btec7nlm' target=\"_blank\">sunny-sweep-27</a></strong> to <a href='https://wandb.ai/arunangshudutta218-iitm/dl_assgn_1_q_8' target=\"_blank\">Weights & Biases</a> (<a href='https://wandb.me/developer-guide' target=\"_blank\">docs</a>)<br>Sweep page: <a href='https://wandb.ai/arunangshudutta218-iitm/dl_assgn_1_q_8/sweeps/28yyx0vh' target=\"_blank\">https://wandb.ai/arunangshudutta218-iitm/dl_assgn_1_q_8/sweeps/28yyx0vh</a>"
            ]
          },
          "metadata": {}
        },
        {
          "output_type": "display_data",
          "data": {
            "text/plain": [
              "<IPython.core.display.HTML object>"
            ],
            "text/html": [
              " View project at <a href='https://wandb.ai/arunangshudutta218-iitm/dl_assgn_1_q_8' target=\"_blank\">https://wandb.ai/arunangshudutta218-iitm/dl_assgn_1_q_8</a>"
            ]
          },
          "metadata": {}
        },
        {
          "output_type": "display_data",
          "data": {
            "text/plain": [
              "<IPython.core.display.HTML object>"
            ],
            "text/html": [
              " View sweep at <a href='https://wandb.ai/arunangshudutta218-iitm/dl_assgn_1_q_8/sweeps/28yyx0vh' target=\"_blank\">https://wandb.ai/arunangshudutta218-iitm/dl_assgn_1_q_8/sweeps/28yyx0vh</a>"
            ]
          },
          "metadata": {}
        },
        {
          "output_type": "display_data",
          "data": {
            "text/plain": [
              "<IPython.core.display.HTML object>"
            ],
            "text/html": [
              " View run at <a href='https://wandb.ai/arunangshudutta218-iitm/dl_assgn_1_q_8/runs/btec7nlm' target=\"_blank\">https://wandb.ai/arunangshudutta218-iitm/dl_assgn_1_q_8/runs/btec7nlm</a>"
            ]
          },
          "metadata": {}
        },
        {
          "output_type": "stream",
          "name": "stdout",
          "text": [
            "Hyper parameters: \n",
            "\n",
            "Weight initialization type :  Xavier\n",
            "Optimizer :  nadam\n",
            "Learning rate (initial):  0.0001\n",
            "Batch size:  32\n",
            "-------------------\n",
            "Architecture Description:\n",
            "\n",
            "Layer:  1  ; number of neurons:  64  ; activation function:  tanh\n",
            "Weight matrix dimention (64, 784) Bias vector dimention (64, 1)\n",
            "----------------\n",
            "Layer:  2  ; number of neurons:  64  ; activation function:  tanh\n",
            "Weight matrix dimention (64, 64) Bias vector dimention (64, 1)\n",
            "----------------\n",
            "Layer:  3  ; number of neurons:  64  ; activation function:  tanh\n",
            "Weight matrix dimention (64, 64) Bias vector dimention (64, 1)\n",
            "----------------\n",
            "Layer:  4  ; number of neurons:  64  ; activation function:  tanh\n",
            "Weight matrix dimention (64, 64) Bias vector dimention (64, 1)\n",
            "----------------\n",
            "Layer:  5  ; number of neurons:  10  ; activation function:  softmax\n",
            "Weight matrix dimention (10, 64) Bias vector dimention (10, 1)\n",
            "----------------\n",
            "1312.0\n",
            "\n",
            " Start of training\n",
            "CE Training Loss:  2.2847154191057615 SE Training Loss:  0.44553883321983917 Training Accuracy:  14.707142857142857 CE Test Loss:  2.2801363524980527 SE Test Loss:  0.4449580347316181 Testing Accuracy:  14.88888888888889\n",
            "Epoch:  1\n"
          ]
        },
        {
          "output_type": "stream",
          "name": "stderr",
          "text": [
            "100%|██████████| 1312/1312 [00:06<00:00, 193.09it/s]\n"
          ]
        },
        {
          "output_type": "stream",
          "name": "stdout",
          "text": [
            "CE Training Loss:  0.598897377253706 SE Training Loss:  0.14424171510970504 Training Accuracy:  80.59285714285714 CE Test Loss:  0.6043982210887854 SE Test Loss:  0.14560792789190327 Testing Accuracy:  80.68333333333334\n",
            "Epoch:  2\n"
          ]
        },
        {
          "output_type": "stream",
          "name": "stderr",
          "text": [
            "100%|██████████| 1312/1312 [00:07<00:00, 164.04it/s]\n"
          ]
        },
        {
          "output_type": "stream",
          "name": "stdout",
          "text": [
            "CE Training Loss:  0.5403699485584649 SE Training Loss:  0.12977237114741566 Training Accuracy:  82.47857142857143 CE Test Loss:  0.5447529128038021 SE Test Loss:  0.13071891085275145 Testing Accuracy:  82.42777777777778\n",
            "Epoch:  3\n"
          ]
        },
        {
          "output_type": "stream",
          "name": "stderr",
          "text": [
            "100%|██████████| 1312/1312 [00:09<00:00, 133.26it/s]\n"
          ]
        },
        {
          "output_type": "stream",
          "name": "stdout",
          "text": [
            "CE Training Loss:  0.5218048054535447 SE Training Loss:  0.12517296284499407 Training Accuracy:  83.2452380952381 CE Test Loss:  0.5265743063889818 SE Test Loss:  0.1262131059678341 Testing Accuracy:  83.02222222222223\n",
            "Epoch:  4\n"
          ]
        },
        {
          "output_type": "stream",
          "name": "stderr",
          "text": [
            "100%|██████████| 1312/1312 [00:06<00:00, 189.23it/s]\n"
          ]
        },
        {
          "output_type": "stream",
          "name": "stdout",
          "text": [
            "CE Training Loss:  0.5126313508298946 SE Training Loss:  0.12293504669556372 Training Accuracy:  83.56666666666666 CE Test Loss:  0.5179228881670285 SE Test Loss:  0.12411461746513786 Testing Accuracy:  83.27222222222223\n",
            "Epoch:  5\n"
          ]
        },
        {
          "output_type": "stream",
          "name": "stderr",
          "text": [
            "100%|██████████| 1312/1312 [00:07<00:00, 165.99it/s]\n"
          ]
        },
        {
          "output_type": "stream",
          "name": "stdout",
          "text": [
            "CE Training Loss:  0.5070035435036289 SE Training Loss:  0.12157152523121624 Training Accuracy:  83.76428571428572 CE Test Loss:  0.5127599461844145 SE Test Loss:  0.1228723662843705 Testing Accuracy:  83.46111111111111\n"
          ]
        },
        {
          "output_type": "display_data",
          "data": {
            "text/plain": [
              "<IPython.core.display.HTML object>"
            ],
            "text/html": []
          },
          "metadata": {}
        },
        {
          "output_type": "display_data",
          "data": {
            "text/plain": [
              "<IPython.core.display.HTML object>"
            ],
            "text/html": [
              "<br>    <style><br>        .wandb-row {<br>            display: flex;<br>            flex-direction: row;<br>            flex-wrap: wrap;<br>            justify-content: flex-start;<br>            width: 100%;<br>        }<br>        .wandb-col {<br>            display: flex;<br>            flex-direction: column;<br>            flex-basis: 100%;<br>            flex: 1;<br>            padding: 10px;<br>        }<br>    </style><br><div class=\"wandb-row\"><div class=\"wandb-col\"><h3>Run history:</h3><br/><table class=\"wandb\"><tr><td>tr_accuracy</td><td>▁█████</td></tr><tr><td>tr_loss_CE</td><td>█▁▁▁▁▁</td></tr><tr><td>tr_loss_SE</td><td>█▁▁▁▁▁</td></tr><tr><td>val_accuracy</td><td>▁█████</td></tr><tr><td>val_loss_CE</td><td>█▁▁▁▁▁</td></tr><tr><td>val_loss_SE</td><td>█▁▁▁▁▁</td></tr></table><br/></div><div class=\"wandb-col\"><h3>Run summary:</h3><br/><table class=\"wandb\"><tr><td>tr_accuracy</td><td>83.76429</td></tr><tr><td>tr_loss_CE</td><td>0.507</td></tr><tr><td>tr_loss_SE</td><td>0.12157</td></tr><tr><td>val_accuracy</td><td>83.46111</td></tr><tr><td>val_loss_CE</td><td>0.51276</td></tr><tr><td>val_loss_SE</td><td>0.12287</td></tr></table><br/></div></div>"
            ]
          },
          "metadata": {}
        },
        {
          "output_type": "display_data",
          "data": {
            "text/plain": [
              "<IPython.core.display.HTML object>"
            ],
            "text/html": [
              " View run <strong style=\"color:#cdcd00\">e_5_hl_4_hs_64_lr_0.0001_opt_nadam_bs_32_init_Xavier_ac_tanh_l2_0.5</strong> at: <a href='https://wandb.ai/arunangshudutta218-iitm/dl_assgn_1_q_8/runs/btec7nlm' target=\"_blank\">https://wandb.ai/arunangshudutta218-iitm/dl_assgn_1_q_8/runs/btec7nlm</a><br> View project at: <a href='https://wandb.ai/arunangshudutta218-iitm/dl_assgn_1_q_8' target=\"_blank\">https://wandb.ai/arunangshudutta218-iitm/dl_assgn_1_q_8</a><br>Synced 5 W&B file(s), 0 media file(s), 0 artifact file(s) and 0 other file(s)"
            ]
          },
          "metadata": {}
        },
        {
          "output_type": "display_data",
          "data": {
            "text/plain": [
              "<IPython.core.display.HTML object>"
            ],
            "text/html": [
              "Find logs at: <code>./wandb/run-20250317_134526-btec7nlm/logs</code>"
            ]
          },
          "metadata": {}
        },
        {
          "output_type": "stream",
          "name": "stderr",
          "text": [
            "\u001b[34m\u001b[1mwandb\u001b[0m: Agent Starting Run: 8cbe5uf1 with config:\n",
            "\u001b[34m\u001b[1mwandb\u001b[0m: \tactivation: tanh\n",
            "\u001b[34m\u001b[1mwandb\u001b[0m: \tbatch_size: 32\n",
            "\u001b[34m\u001b[1mwandb\u001b[0m: \tepochs: 5\n",
            "\u001b[34m\u001b[1mwandb\u001b[0m: \thidden_size: 64\n",
            "\u001b[34m\u001b[1mwandb\u001b[0m: \tlearning_rate: 0.0001\n",
            "\u001b[34m\u001b[1mwandb\u001b[0m: \tloss_function: squared_error\n",
            "\u001b[34m\u001b[1mwandb\u001b[0m: \tnum_layers: 4\n",
            "\u001b[34m\u001b[1mwandb\u001b[0m: \toptimizer: rmsprop\n",
            "\u001b[34m\u001b[1mwandb\u001b[0m: \tweight_decay: 0\n",
            "\u001b[34m\u001b[1mwandb\u001b[0m: \tweight_init: Xavier\n"
          ]
        },
        {
          "output_type": "display_data",
          "data": {
            "text/plain": [
              "<IPython.core.display.HTML object>"
            ],
            "text/html": [
              "Tracking run with wandb version 0.19.8"
            ]
          },
          "metadata": {}
        },
        {
          "output_type": "display_data",
          "data": {
            "text/plain": [
              "<IPython.core.display.HTML object>"
            ],
            "text/html": [
              "Run data is saved locally in <code>/content/wandb/run-20250317_134622-8cbe5uf1</code>"
            ]
          },
          "metadata": {}
        },
        {
          "output_type": "display_data",
          "data": {
            "text/plain": [
              "<IPython.core.display.HTML object>"
            ],
            "text/html": [
              "Syncing run <strong><a href='https://wandb.ai/arunangshudutta218-iitm/dl_assgn_1_q_8/runs/8cbe5uf1' target=\"_blank\">sage-sweep-28</a></strong> to <a href='https://wandb.ai/arunangshudutta218-iitm/dl_assgn_1_q_8' target=\"_blank\">Weights & Biases</a> (<a href='https://wandb.me/developer-guide' target=\"_blank\">docs</a>)<br>Sweep page: <a href='https://wandb.ai/arunangshudutta218-iitm/dl_assgn_1_q_8/sweeps/28yyx0vh' target=\"_blank\">https://wandb.ai/arunangshudutta218-iitm/dl_assgn_1_q_8/sweeps/28yyx0vh</a>"
            ]
          },
          "metadata": {}
        },
        {
          "output_type": "display_data",
          "data": {
            "text/plain": [
              "<IPython.core.display.HTML object>"
            ],
            "text/html": [
              " View project at <a href='https://wandb.ai/arunangshudutta218-iitm/dl_assgn_1_q_8' target=\"_blank\">https://wandb.ai/arunangshudutta218-iitm/dl_assgn_1_q_8</a>"
            ]
          },
          "metadata": {}
        },
        {
          "output_type": "display_data",
          "data": {
            "text/plain": [
              "<IPython.core.display.HTML object>"
            ],
            "text/html": [
              " View sweep at <a href='https://wandb.ai/arunangshudutta218-iitm/dl_assgn_1_q_8/sweeps/28yyx0vh' target=\"_blank\">https://wandb.ai/arunangshudutta218-iitm/dl_assgn_1_q_8/sweeps/28yyx0vh</a>"
            ]
          },
          "metadata": {}
        },
        {
          "output_type": "display_data",
          "data": {
            "text/plain": [
              "<IPython.core.display.HTML object>"
            ],
            "text/html": [
              " View run at <a href='https://wandb.ai/arunangshudutta218-iitm/dl_assgn_1_q_8/runs/8cbe5uf1' target=\"_blank\">https://wandb.ai/arunangshudutta218-iitm/dl_assgn_1_q_8/runs/8cbe5uf1</a>"
            ]
          },
          "metadata": {}
        },
        {
          "output_type": "stream",
          "name": "stdout",
          "text": [
            "Hyper parameters: \n",
            "\n",
            "Weight initialization type :  Xavier\n",
            "Optimizer :  rmsprop\n",
            "Learning rate (initial):  0.0001\n",
            "Batch size:  32\n",
            "-------------------\n",
            "Architecture Description:\n",
            "\n",
            "Layer:  1  ; number of neurons:  64  ; activation function:  tanh\n",
            "Weight matrix dimention (64, 784) Bias vector dimention (64, 1)\n",
            "----------------\n",
            "Layer:  2  ; number of neurons:  64  ; activation function:  tanh\n",
            "Weight matrix dimention (64, 64) Bias vector dimention (64, 1)\n",
            "----------------\n",
            "Layer:  3  ; number of neurons:  64  ; activation function:  tanh\n",
            "Weight matrix dimention (64, 64) Bias vector dimention (64, 1)\n",
            "----------------\n",
            "Layer:  4  ; number of neurons:  64  ; activation function:  tanh\n",
            "Weight matrix dimention (64, 64) Bias vector dimention (64, 1)\n",
            "----------------\n",
            "Layer:  5  ; number of neurons:  10  ; activation function:  softmax\n",
            "Weight matrix dimention (10, 64) Bias vector dimention (10, 1)\n",
            "----------------\n",
            "1312.0\n",
            "\n",
            " Start of training\n",
            "CE Training Loss:  2.3539526523975765 SE Training Loss:  0.4547969157302704 Training Accuracy:  11.695238095238095 CE Test Loss:  2.35409453547368 SE Test Loss:  0.45467978608386495 Testing Accuracy:  11.794444444444444\n",
            "Epoch:  1\n"
          ]
        },
        {
          "output_type": "stream",
          "name": "stderr",
          "text": [
            "100%|██████████| 1312/1312 [00:05<00:00, 223.11it/s]\n"
          ]
        },
        {
          "output_type": "stream",
          "name": "stdout",
          "text": [
            "CE Training Loss:  0.5560498098481899 SE Training Loss:  0.13377793059330584 Training Accuracy:  81.85952380952381 CE Test Loss:  0.5603541550016738 SE Test Loss:  0.13485467082331312 Testing Accuracy:  81.81666666666666\n",
            "Epoch:  2\n"
          ]
        },
        {
          "output_type": "stream",
          "name": "stderr",
          "text": [
            "100%|██████████| 1312/1312 [00:08<00:00, 160.67it/s]\n"
          ]
        },
        {
          "output_type": "stream",
          "name": "stdout",
          "text": [
            "CE Training Loss:  0.4753447007922648 SE Training Loss:  0.11587733444068934 Training Accuracy:  84.05952380952381 CE Test Loss:  0.48118825221615 SE Test Loss:  0.11722340348921789 Testing Accuracy:  83.71111111111111\n",
            "Epoch:  3\n"
          ]
        },
        {
          "output_type": "stream",
          "name": "stderr",
          "text": [
            "100%|██████████| 1312/1312 [00:05<00:00, 247.44it/s]\n"
          ]
        },
        {
          "output_type": "stream",
          "name": "stdout",
          "text": [
            "CE Training Loss:  0.4389934523745545 SE Training Loss:  0.10778029911842203 Training Accuracy:  85.11428571428571 CE Test Loss:  0.44667490827404993 SE Test Loss:  0.10966461764787598 Testing Accuracy:  84.91666666666667\n",
            "Epoch:  4\n"
          ]
        },
        {
          "output_type": "stream",
          "name": "stderr",
          "text": [
            "100%|██████████| 1312/1312 [00:06<00:00, 190.30it/s]\n"
          ]
        },
        {
          "output_type": "stream",
          "name": "stdout",
          "text": [
            "CE Training Loss:  0.4155657454390006 SE Training Loss:  0.1024380102924916 Training Accuracy:  85.79047619047618 CE Test Loss:  0.4256494564440727 SE Test Loss:  0.10505123646688032 Testing Accuracy:  85.59444444444445\n",
            "Epoch:  5\n"
          ]
        },
        {
          "output_type": "stream",
          "name": "stderr",
          "text": [
            "100%|██████████| 1312/1312 [00:06<00:00, 211.00it/s]\n"
          ]
        },
        {
          "output_type": "stream",
          "name": "stdout",
          "text": [
            "CE Training Loss:  0.39914419138653967 SE Training Loss:  0.09858443070481174 Training Accuracy:  86.31190476190476 CE Test Loss:  0.41157342066192104 SE Test Loss:  0.10196143312108219 Testing Accuracy:  85.88333333333334\n"
          ]
        },
        {
          "output_type": "display_data",
          "data": {
            "text/plain": [
              "<IPython.core.display.HTML object>"
            ],
            "text/html": []
          },
          "metadata": {}
        },
        {
          "output_type": "display_data",
          "data": {
            "text/plain": [
              "<IPython.core.display.HTML object>"
            ],
            "text/html": [
              "<br>    <style><br>        .wandb-row {<br>            display: flex;<br>            flex-direction: row;<br>            flex-wrap: wrap;<br>            justify-content: flex-start;<br>            width: 100%;<br>        }<br>        .wandb-col {<br>            display: flex;<br>            flex-direction: column;<br>            flex-basis: 100%;<br>            flex: 1;<br>            padding: 10px;<br>        }<br>    </style><br><div class=\"wandb-row\"><div class=\"wandb-col\"><h3>Run history:</h3><br/><table class=\"wandb\"><tr><td>tr_accuracy</td><td>▁█████</td></tr><tr><td>tr_loss_CE</td><td>█▂▁▁▁▁</td></tr><tr><td>tr_loss_SE</td><td>█▂▁▁▁▁</td></tr><tr><td>val_accuracy</td><td>▁█████</td></tr><tr><td>val_loss_CE</td><td>█▂▁▁▁▁</td></tr><tr><td>val_loss_SE</td><td>█▂▁▁▁▁</td></tr></table><br/></div><div class=\"wandb-col\"><h3>Run summary:</h3><br/><table class=\"wandb\"><tr><td>tr_accuracy</td><td>86.3119</td></tr><tr><td>tr_loss_CE</td><td>0.39914</td></tr><tr><td>tr_loss_SE</td><td>0.09858</td></tr><tr><td>val_accuracy</td><td>85.88333</td></tr><tr><td>val_loss_CE</td><td>0.41157</td></tr><tr><td>val_loss_SE</td><td>0.10196</td></tr></table><br/></div></div>"
            ]
          },
          "metadata": {}
        },
        {
          "output_type": "display_data",
          "data": {
            "text/plain": [
              "<IPython.core.display.HTML object>"
            ],
            "text/html": [
              " View run <strong style=\"color:#cdcd00\">e_5_hl_4_hs_64_lr_0.0001_opt_rmsprop_bs_32_init_Xavier_ac_tanh_l2_0</strong> at: <a href='https://wandb.ai/arunangshudutta218-iitm/dl_assgn_1_q_8/runs/8cbe5uf1' target=\"_blank\">https://wandb.ai/arunangshudutta218-iitm/dl_assgn_1_q_8/runs/8cbe5uf1</a><br> View project at: <a href='https://wandb.ai/arunangshudutta218-iitm/dl_assgn_1_q_8' target=\"_blank\">https://wandb.ai/arunangshudutta218-iitm/dl_assgn_1_q_8</a><br>Synced 5 W&B file(s), 0 media file(s), 0 artifact file(s) and 0 other file(s)"
            ]
          },
          "metadata": {}
        },
        {
          "output_type": "display_data",
          "data": {
            "text/plain": [
              "<IPython.core.display.HTML object>"
            ],
            "text/html": [
              "Find logs at: <code>./wandb/run-20250317_134622-8cbe5uf1/logs</code>"
            ]
          },
          "metadata": {}
        },
        {
          "output_type": "stream",
          "name": "stderr",
          "text": [
            "\u001b[34m\u001b[1mwandb\u001b[0m: Agent Starting Run: xi5fov4w with config:\n",
            "\u001b[34m\u001b[1mwandb\u001b[0m: \tactivation: tanh\n",
            "\u001b[34m\u001b[1mwandb\u001b[0m: \tbatch_size: 32\n",
            "\u001b[34m\u001b[1mwandb\u001b[0m: \tepochs: 5\n",
            "\u001b[34m\u001b[1mwandb\u001b[0m: \thidden_size: 64\n",
            "\u001b[34m\u001b[1mwandb\u001b[0m: \tlearning_rate: 0.0001\n",
            "\u001b[34m\u001b[1mwandb\u001b[0m: \tloss_function: squared_error\n",
            "\u001b[34m\u001b[1mwandb\u001b[0m: \tnum_layers: 4\n",
            "\u001b[34m\u001b[1mwandb\u001b[0m: \toptimizer: rmsprop\n",
            "\u001b[34m\u001b[1mwandb\u001b[0m: \tweight_decay: 0.0005\n",
            "\u001b[34m\u001b[1mwandb\u001b[0m: \tweight_init: Xavier\n"
          ]
        },
        {
          "output_type": "display_data",
          "data": {
            "text/plain": [
              "<IPython.core.display.HTML object>"
            ],
            "text/html": [
              "Tracking run with wandb version 0.19.8"
            ]
          },
          "metadata": {}
        },
        {
          "output_type": "display_data",
          "data": {
            "text/plain": [
              "<IPython.core.display.HTML object>"
            ],
            "text/html": [
              "Run data is saved locally in <code>/content/wandb/run-20250317_134713-xi5fov4w</code>"
            ]
          },
          "metadata": {}
        },
        {
          "output_type": "display_data",
          "data": {
            "text/plain": [
              "<IPython.core.display.HTML object>"
            ],
            "text/html": [
              "Syncing run <strong><a href='https://wandb.ai/arunangshudutta218-iitm/dl_assgn_1_q_8/runs/xi5fov4w' target=\"_blank\">sparkling-sweep-29</a></strong> to <a href='https://wandb.ai/arunangshudutta218-iitm/dl_assgn_1_q_8' target=\"_blank\">Weights & Biases</a> (<a href='https://wandb.me/developer-guide' target=\"_blank\">docs</a>)<br>Sweep page: <a href='https://wandb.ai/arunangshudutta218-iitm/dl_assgn_1_q_8/sweeps/28yyx0vh' target=\"_blank\">https://wandb.ai/arunangshudutta218-iitm/dl_assgn_1_q_8/sweeps/28yyx0vh</a>"
            ]
          },
          "metadata": {}
        },
        {
          "output_type": "display_data",
          "data": {
            "text/plain": [
              "<IPython.core.display.HTML object>"
            ],
            "text/html": [
              " View project at <a href='https://wandb.ai/arunangshudutta218-iitm/dl_assgn_1_q_8' target=\"_blank\">https://wandb.ai/arunangshudutta218-iitm/dl_assgn_1_q_8</a>"
            ]
          },
          "metadata": {}
        },
        {
          "output_type": "display_data",
          "data": {
            "text/plain": [
              "<IPython.core.display.HTML object>"
            ],
            "text/html": [
              " View sweep at <a href='https://wandb.ai/arunangshudutta218-iitm/dl_assgn_1_q_8/sweeps/28yyx0vh' target=\"_blank\">https://wandb.ai/arunangshudutta218-iitm/dl_assgn_1_q_8/sweeps/28yyx0vh</a>"
            ]
          },
          "metadata": {}
        },
        {
          "output_type": "display_data",
          "data": {
            "text/plain": [
              "<IPython.core.display.HTML object>"
            ],
            "text/html": [
              " View run at <a href='https://wandb.ai/arunangshudutta218-iitm/dl_assgn_1_q_8/runs/xi5fov4w' target=\"_blank\">https://wandb.ai/arunangshudutta218-iitm/dl_assgn_1_q_8/runs/xi5fov4w</a>"
            ]
          },
          "metadata": {}
        },
        {
          "output_type": "stream",
          "name": "stdout",
          "text": [
            "Hyper parameters: \n",
            "\n",
            "Weight initialization type :  Xavier\n",
            "Optimizer :  rmsprop\n",
            "Learning rate (initial):  0.0001\n",
            "Batch size:  32\n",
            "-------------------\n",
            "Architecture Description:\n",
            "\n",
            "Layer:  1  ; number of neurons:  64  ; activation function:  tanh\n",
            "Weight matrix dimention (64, 784) Bias vector dimention (64, 1)\n",
            "----------------\n",
            "Layer:  2  ; number of neurons:  64  ; activation function:  tanh\n",
            "Weight matrix dimention (64, 64) Bias vector dimention (64, 1)\n",
            "----------------\n",
            "Layer:  3  ; number of neurons:  64  ; activation function:  tanh\n",
            "Weight matrix dimention (64, 64) Bias vector dimention (64, 1)\n",
            "----------------\n",
            "Layer:  4  ; number of neurons:  64  ; activation function:  tanh\n",
            "Weight matrix dimention (64, 64) Bias vector dimention (64, 1)\n",
            "----------------\n",
            "Layer:  5  ; number of neurons:  10  ; activation function:  softmax\n",
            "Weight matrix dimention (10, 64) Bias vector dimention (10, 1)\n",
            "----------------\n",
            "1312.0\n",
            "\n",
            " Start of training\n",
            "CE Training Loss:  2.420111360798009 SE Training Loss:  0.4616786444814184 Training Accuracy:  6.5476190476190474 CE Test Loss:  2.4175435268811296 SE Test Loss:  0.4614178108358022 Testing Accuracy:  6.85\n",
            "Epoch:  1\n"
          ]
        },
        {
          "output_type": "stream",
          "name": "stderr",
          "text": [
            "100%|██████████| 1312/1312 [00:07<00:00, 164.58it/s]\n"
          ]
        },
        {
          "output_type": "stream",
          "name": "stdout",
          "text": [
            "CE Training Loss:  0.5462848861810925 SE Training Loss:  0.1324819975877123 Training Accuracy:  81.99047619047619 CE Test Loss:  0.548836747489932 SE Test Loss:  0.1330451507257044 Testing Accuracy:  81.88888888888889\n",
            "Epoch:  2\n"
          ]
        },
        {
          "output_type": "stream",
          "name": "stderr",
          "text": [
            "100%|██████████| 1312/1312 [00:05<00:00, 228.14it/s]\n"
          ]
        },
        {
          "output_type": "stream",
          "name": "stdout",
          "text": [
            "CE Training Loss:  0.4651829256925373 SE Training Loss:  0.1139842444458077 Training Accuracy:  84.29285714285714 CE Test Loss:  0.4701453010847761 SE Test Loss:  0.11494666340735375 Testing Accuracy:  84.24444444444444\n",
            "Epoch:  3\n"
          ]
        },
        {
          "output_type": "stream",
          "name": "stderr",
          "text": [
            "100%|██████████| 1312/1312 [00:07<00:00, 181.70it/s]\n"
          ]
        },
        {
          "output_type": "stream",
          "name": "stdout",
          "text": [
            "CE Training Loss:  0.4329492817610025 SE Training Loss:  0.10631004808670527 Training Accuracy:  85.32619047619048 CE Test Loss:  0.4402797694333077 SE Test Loss:  0.10799256089765069 Testing Accuracy:  85.16111111111111\n",
            "Epoch:  4\n"
          ]
        },
        {
          "output_type": "stream",
          "name": "stderr",
          "text": [
            "100%|██████████| 1312/1312 [00:06<00:00, 204.00it/s]\n"
          ]
        },
        {
          "output_type": "stream",
          "name": "stdout",
          "text": [
            "CE Training Loss:  0.4132982799601637 SE Training Loss:  0.10153860900241829 Training Accuracy:  85.8404761904762 CE Test Loss:  0.42275251224232935 SE Test Loss:  0.10394986000476006 Testing Accuracy:  85.69444444444444\n",
            "Epoch:  5\n"
          ]
        },
        {
          "output_type": "stream",
          "name": "stderr",
          "text": [
            "100%|██████████| 1312/1312 [00:05<00:00, 229.44it/s]\n"
          ]
        },
        {
          "output_type": "stream",
          "name": "stdout",
          "text": [
            "CE Training Loss:  0.3993508783536034 SE Training Loss:  0.09813692112999789 Training Accuracy:  86.36428571428571 CE Test Loss:  0.41084100886704616 SE Test Loss:  0.10125148518457314 Testing Accuracy:  85.98333333333333\n"
          ]
        },
        {
          "output_type": "display_data",
          "data": {
            "text/plain": [
              "<IPython.core.display.HTML object>"
            ],
            "text/html": []
          },
          "metadata": {}
        },
        {
          "output_type": "display_data",
          "data": {
            "text/plain": [
              "<IPython.core.display.HTML object>"
            ],
            "text/html": [
              "<br>    <style><br>        .wandb-row {<br>            display: flex;<br>            flex-direction: row;<br>            flex-wrap: wrap;<br>            justify-content: flex-start;<br>            width: 100%;<br>        }<br>        .wandb-col {<br>            display: flex;<br>            flex-direction: column;<br>            flex-basis: 100%;<br>            flex: 1;<br>            padding: 10px;<br>        }<br>    </style><br><div class=\"wandb-row\"><div class=\"wandb-col\"><h3>Run history:</h3><br/><table class=\"wandb\"><tr><td>tr_accuracy</td><td>▁█████</td></tr><tr><td>tr_loss_CE</td><td>█▂▁▁▁▁</td></tr><tr><td>tr_loss_SE</td><td>█▂▁▁▁▁</td></tr><tr><td>val_accuracy</td><td>▁█████</td></tr><tr><td>val_loss_CE</td><td>█▁▁▁▁▁</td></tr><tr><td>val_loss_SE</td><td>█▂▁▁▁▁</td></tr></table><br/></div><div class=\"wandb-col\"><h3>Run summary:</h3><br/><table class=\"wandb\"><tr><td>tr_accuracy</td><td>86.36429</td></tr><tr><td>tr_loss_CE</td><td>0.39935</td></tr><tr><td>tr_loss_SE</td><td>0.09814</td></tr><tr><td>val_accuracy</td><td>85.98333</td></tr><tr><td>val_loss_CE</td><td>0.41084</td></tr><tr><td>val_loss_SE</td><td>0.10125</td></tr></table><br/></div></div>"
            ]
          },
          "metadata": {}
        },
        {
          "output_type": "display_data",
          "data": {
            "text/plain": [
              "<IPython.core.display.HTML object>"
            ],
            "text/html": [
              " View run <strong style=\"color:#cdcd00\">e_5_hl_4_hs_64_lr_0.0001_opt_rmsprop_bs_32_init_Xavier_ac_tanh_l2_0.0005</strong> at: <a href='https://wandb.ai/arunangshudutta218-iitm/dl_assgn_1_q_8/runs/xi5fov4w' target=\"_blank\">https://wandb.ai/arunangshudutta218-iitm/dl_assgn_1_q_8/runs/xi5fov4w</a><br> View project at: <a href='https://wandb.ai/arunangshudutta218-iitm/dl_assgn_1_q_8' target=\"_blank\">https://wandb.ai/arunangshudutta218-iitm/dl_assgn_1_q_8</a><br>Synced 5 W&B file(s), 0 media file(s), 0 artifact file(s) and 0 other file(s)"
            ]
          },
          "metadata": {}
        },
        {
          "output_type": "display_data",
          "data": {
            "text/plain": [
              "<IPython.core.display.HTML object>"
            ],
            "text/html": [
              "Find logs at: <code>./wandb/run-20250317_134713-xi5fov4w/logs</code>"
            ]
          },
          "metadata": {}
        },
        {
          "output_type": "stream",
          "name": "stderr",
          "text": [
            "\u001b[34m\u001b[1mwandb\u001b[0m: Agent Starting Run: wgieygrp with config:\n",
            "\u001b[34m\u001b[1mwandb\u001b[0m: \tactivation: tanh\n",
            "\u001b[34m\u001b[1mwandb\u001b[0m: \tbatch_size: 32\n",
            "\u001b[34m\u001b[1mwandb\u001b[0m: \tepochs: 5\n",
            "\u001b[34m\u001b[1mwandb\u001b[0m: \thidden_size: 64\n",
            "\u001b[34m\u001b[1mwandb\u001b[0m: \tlearning_rate: 0.0001\n",
            "\u001b[34m\u001b[1mwandb\u001b[0m: \tloss_function: squared_error\n",
            "\u001b[34m\u001b[1mwandb\u001b[0m: \tnum_layers: 4\n",
            "\u001b[34m\u001b[1mwandb\u001b[0m: \toptimizer: rmsprop\n",
            "\u001b[34m\u001b[1mwandb\u001b[0m: \tweight_decay: 0.5\n",
            "\u001b[34m\u001b[1mwandb\u001b[0m: \tweight_init: Xavier\n"
          ]
        },
        {
          "output_type": "display_data",
          "data": {
            "text/plain": [
              "<IPython.core.display.HTML object>"
            ],
            "text/html": [
              "Tracking run with wandb version 0.19.8"
            ]
          },
          "metadata": {}
        },
        {
          "output_type": "display_data",
          "data": {
            "text/plain": [
              "<IPython.core.display.HTML object>"
            ],
            "text/html": [
              "Run data is saved locally in <code>/content/wandb/run-20250317_134803-wgieygrp</code>"
            ]
          },
          "metadata": {}
        },
        {
          "output_type": "display_data",
          "data": {
            "text/plain": [
              "<IPython.core.display.HTML object>"
            ],
            "text/html": [
              "Syncing run <strong><a href='https://wandb.ai/arunangshudutta218-iitm/dl_assgn_1_q_8/runs/wgieygrp' target=\"_blank\">bumbling-sweep-30</a></strong> to <a href='https://wandb.ai/arunangshudutta218-iitm/dl_assgn_1_q_8' target=\"_blank\">Weights & Biases</a> (<a href='https://wandb.me/developer-guide' target=\"_blank\">docs</a>)<br>Sweep page: <a href='https://wandb.ai/arunangshudutta218-iitm/dl_assgn_1_q_8/sweeps/28yyx0vh' target=\"_blank\">https://wandb.ai/arunangshudutta218-iitm/dl_assgn_1_q_8/sweeps/28yyx0vh</a>"
            ]
          },
          "metadata": {}
        },
        {
          "output_type": "display_data",
          "data": {
            "text/plain": [
              "<IPython.core.display.HTML object>"
            ],
            "text/html": [
              " View project at <a href='https://wandb.ai/arunangshudutta218-iitm/dl_assgn_1_q_8' target=\"_blank\">https://wandb.ai/arunangshudutta218-iitm/dl_assgn_1_q_8</a>"
            ]
          },
          "metadata": {}
        },
        {
          "output_type": "display_data",
          "data": {
            "text/plain": [
              "<IPython.core.display.HTML object>"
            ],
            "text/html": [
              " View sweep at <a href='https://wandb.ai/arunangshudutta218-iitm/dl_assgn_1_q_8/sweeps/28yyx0vh' target=\"_blank\">https://wandb.ai/arunangshudutta218-iitm/dl_assgn_1_q_8/sweeps/28yyx0vh</a>"
            ]
          },
          "metadata": {}
        },
        {
          "output_type": "display_data",
          "data": {
            "text/plain": [
              "<IPython.core.display.HTML object>"
            ],
            "text/html": [
              " View run at <a href='https://wandb.ai/arunangshudutta218-iitm/dl_assgn_1_q_8/runs/wgieygrp' target=\"_blank\">https://wandb.ai/arunangshudutta218-iitm/dl_assgn_1_q_8/runs/wgieygrp</a>"
            ]
          },
          "metadata": {}
        },
        {
          "output_type": "stream",
          "name": "stdout",
          "text": [
            "Hyper parameters: \n",
            "\n",
            "Weight initialization type :  Xavier\n",
            "Optimizer :  rmsprop\n",
            "Learning rate (initial):  0.0001\n",
            "Batch size:  32\n",
            "-------------------\n",
            "Architecture Description:\n",
            "\n",
            "Layer:  1  ; number of neurons:  64  ; activation function:  tanh\n",
            "Weight matrix dimention (64, 784) Bias vector dimention (64, 1)\n",
            "----------------\n",
            "Layer:  2  ; number of neurons:  64  ; activation function:  tanh\n",
            "Weight matrix dimention (64, 64) Bias vector dimention (64, 1)\n",
            "----------------\n",
            "Layer:  3  ; number of neurons:  64  ; activation function:  tanh\n",
            "Weight matrix dimention (64, 64) Bias vector dimention (64, 1)\n",
            "----------------\n",
            "Layer:  4  ; number of neurons:  64  ; activation function:  tanh\n",
            "Weight matrix dimention (64, 64) Bias vector dimention (64, 1)\n",
            "----------------\n",
            "Layer:  5  ; number of neurons:  10  ; activation function:  softmax\n",
            "Weight matrix dimention (10, 64) Bias vector dimention (10, 1)\n",
            "----------------\n",
            "1312.0\n",
            "\n",
            " Start of training\n",
            "CE Training Loss:  2.395942901974305 SE Training Loss:  0.4600772239913596 Training Accuracy:  12.838095238095239 CE Test Loss:  2.393296101070272 SE Test Loss:  0.45987670732546476 Testing Accuracy:  13.066666666666666\n",
            "Epoch:  1\n"
          ]
        },
        {
          "output_type": "stream",
          "name": "stderr",
          "text": [
            "100%|██████████| 1312/1312 [00:05<00:00, 240.50it/s]\n"
          ]
        },
        {
          "output_type": "stream",
          "name": "stdout",
          "text": [
            "CE Training Loss:  1.1050393086086892 SE Training Loss:  0.2599838675412065 Training Accuracy:  66.32380952380953 CE Test Loss:  1.1067725866626006 SE Test Loss:  0.2604991737325729 Testing Accuracy:  66.18888888888888\n",
            "Epoch:  2\n"
          ]
        },
        {
          "output_type": "stream",
          "name": "stderr",
          "text": [
            "100%|██████████| 1312/1312 [00:07<00:00, 164.29it/s]\n"
          ]
        },
        {
          "output_type": "stream",
          "name": "stdout",
          "text": [
            "CE Training Loss:  1.0667588927847487 SE Training Loss:  0.26000040934018087 Training Accuracy:  67.6047619047619 CE Test Loss:  1.067608299226459 SE Test Loss:  0.2605389625221885 Testing Accuracy:  67.2388888888889\n",
            "Epoch:  3\n"
          ]
        },
        {
          "output_type": "stream",
          "name": "stderr",
          "text": [
            "100%|██████████| 1312/1312 [00:05<00:00, 248.02it/s]\n"
          ]
        },
        {
          "output_type": "stream",
          "name": "stdout",
          "text": [
            "CE Training Loss:  1.0844793143796594 SE Training Loss:  0.26848000978122355 Training Accuracy:  62.76190476190476 CE Test Loss:  1.0843867824646554 SE Test Loss:  0.2686942922758015 Testing Accuracy:  62.25555555555555\n",
            "Epoch:  4\n"
          ]
        },
        {
          "output_type": "stream",
          "name": "stderr",
          "text": [
            "100%|██████████| 1312/1312 [00:08<00:00, 160.05it/s]\n"
          ]
        },
        {
          "output_type": "stream",
          "name": "stdout",
          "text": [
            "CE Training Loss:  1.0692328344713962 SE Training Loss:  0.26434400057096175 Training Accuracy:  64.49761904761905 CE Test Loss:  1.069606819875886 SE Test Loss:  0.2647101139183713 Testing Accuracy:  64.02222222222223\n",
            "Epoch:  5\n"
          ]
        },
        {
          "output_type": "stream",
          "name": "stderr",
          "text": [
            "100%|██████████| 1312/1312 [00:05<00:00, 241.00it/s]\n"
          ]
        },
        {
          "output_type": "stream",
          "name": "stdout",
          "text": [
            "CE Training Loss:  1.0566126429376836 SE Training Loss:  0.26023316637553773 Training Accuracy:  65.77619047619048 CE Test Loss:  1.0571834537024156 SE Test Loss:  0.2606970417319863 Testing Accuracy:  65.41666666666667\n"
          ]
        },
        {
          "output_type": "display_data",
          "data": {
            "text/plain": [
              "<IPython.core.display.HTML object>"
            ],
            "text/html": []
          },
          "metadata": {}
        },
        {
          "output_type": "display_data",
          "data": {
            "text/plain": [
              "<IPython.core.display.HTML object>"
            ],
            "text/html": [
              "<br>    <style><br>        .wandb-row {<br>            display: flex;<br>            flex-direction: row;<br>            flex-wrap: wrap;<br>            justify-content: flex-start;<br>            width: 100%;<br>        }<br>        .wandb-col {<br>            display: flex;<br>            flex-direction: column;<br>            flex-basis: 100%;<br>            flex: 1;<br>            padding: 10px;<br>        }<br>    </style><br><div class=\"wandb-row\"><div class=\"wandb-col\"><h3>Run history:</h3><br/><table class=\"wandb\"><tr><td>tr_accuracy</td><td>▁██▇██</td></tr><tr><td>tr_loss_CE</td><td>█▁▁▁▁▁</td></tr><tr><td>tr_loss_SE</td><td>█▁▁▁▁▁</td></tr><tr><td>val_accuracy</td><td>▁██▇██</td></tr><tr><td>val_loss_CE</td><td>█▁▁▁▁▁</td></tr><tr><td>val_loss_SE</td><td>█▁▁▁▁▁</td></tr></table><br/></div><div class=\"wandb-col\"><h3>Run summary:</h3><br/><table class=\"wandb\"><tr><td>tr_accuracy</td><td>65.77619</td></tr><tr><td>tr_loss_CE</td><td>1.05661</td></tr><tr><td>tr_loss_SE</td><td>0.26023</td></tr><tr><td>val_accuracy</td><td>65.41667</td></tr><tr><td>val_loss_CE</td><td>1.05718</td></tr><tr><td>val_loss_SE</td><td>0.2607</td></tr></table><br/></div></div>"
            ]
          },
          "metadata": {}
        },
        {
          "output_type": "display_data",
          "data": {
            "text/plain": [
              "<IPython.core.display.HTML object>"
            ],
            "text/html": [
              " View run <strong style=\"color:#cdcd00\">e_5_hl_4_hs_64_lr_0.0001_opt_rmsprop_bs_32_init_Xavier_ac_tanh_l2_0.5</strong> at: <a href='https://wandb.ai/arunangshudutta218-iitm/dl_assgn_1_q_8/runs/wgieygrp' target=\"_blank\">https://wandb.ai/arunangshudutta218-iitm/dl_assgn_1_q_8/runs/wgieygrp</a><br> View project at: <a href='https://wandb.ai/arunangshudutta218-iitm/dl_assgn_1_q_8' target=\"_blank\">https://wandb.ai/arunangshudutta218-iitm/dl_assgn_1_q_8</a><br>Synced 5 W&B file(s), 0 media file(s), 0 artifact file(s) and 0 other file(s)"
            ]
          },
          "metadata": {}
        },
        {
          "output_type": "display_data",
          "data": {
            "text/plain": [
              "<IPython.core.display.HTML object>"
            ],
            "text/html": [
              "Find logs at: <code>./wandb/run-20250317_134803-wgieygrp/logs</code>"
            ]
          },
          "metadata": {}
        },
        {
          "output_type": "stream",
          "name": "stderr",
          "text": [
            "\u001b[34m\u001b[1mwandb\u001b[0m: Agent Starting Run: 9ib25bh4 with config:\n",
            "\u001b[34m\u001b[1mwandb\u001b[0m: \tactivation: tanh\n",
            "\u001b[34m\u001b[1mwandb\u001b[0m: \tbatch_size: 32\n",
            "\u001b[34m\u001b[1mwandb\u001b[0m: \tepochs: 5\n",
            "\u001b[34m\u001b[1mwandb\u001b[0m: \thidden_size: 64\n",
            "\u001b[34m\u001b[1mwandb\u001b[0m: \tlearning_rate: 0.0001\n",
            "\u001b[34m\u001b[1mwandb\u001b[0m: \tloss_function: squared_error\n",
            "\u001b[34m\u001b[1mwandb\u001b[0m: \tnum_layers: 4\n",
            "\u001b[34m\u001b[1mwandb\u001b[0m: \toptimizer: adam\n",
            "\u001b[34m\u001b[1mwandb\u001b[0m: \tweight_decay: 0\n",
            "\u001b[34m\u001b[1mwandb\u001b[0m: \tweight_init: Xavier\n"
          ]
        },
        {
          "output_type": "display_data",
          "data": {
            "text/plain": [
              "<IPython.core.display.HTML object>"
            ],
            "text/html": [
              "Tracking run with wandb version 0.19.8"
            ]
          },
          "metadata": {}
        },
        {
          "output_type": "display_data",
          "data": {
            "text/plain": [
              "<IPython.core.display.HTML object>"
            ],
            "text/html": [
              "Run data is saved locally in <code>/content/wandb/run-20250317_134852-9ib25bh4</code>"
            ]
          },
          "metadata": {}
        },
        {
          "output_type": "display_data",
          "data": {
            "text/plain": [
              "<IPython.core.display.HTML object>"
            ],
            "text/html": [
              "Syncing run <strong><a href='https://wandb.ai/arunangshudutta218-iitm/dl_assgn_1_q_8/runs/9ib25bh4' target=\"_blank\">dainty-sweep-31</a></strong> to <a href='https://wandb.ai/arunangshudutta218-iitm/dl_assgn_1_q_8' target=\"_blank\">Weights & Biases</a> (<a href='https://wandb.me/developer-guide' target=\"_blank\">docs</a>)<br>Sweep page: <a href='https://wandb.ai/arunangshudutta218-iitm/dl_assgn_1_q_8/sweeps/28yyx0vh' target=\"_blank\">https://wandb.ai/arunangshudutta218-iitm/dl_assgn_1_q_8/sweeps/28yyx0vh</a>"
            ]
          },
          "metadata": {}
        },
        {
          "output_type": "display_data",
          "data": {
            "text/plain": [
              "<IPython.core.display.HTML object>"
            ],
            "text/html": [
              " View project at <a href='https://wandb.ai/arunangshudutta218-iitm/dl_assgn_1_q_8' target=\"_blank\">https://wandb.ai/arunangshudutta218-iitm/dl_assgn_1_q_8</a>"
            ]
          },
          "metadata": {}
        },
        {
          "output_type": "display_data",
          "data": {
            "text/plain": [
              "<IPython.core.display.HTML object>"
            ],
            "text/html": [
              " View sweep at <a href='https://wandb.ai/arunangshudutta218-iitm/dl_assgn_1_q_8/sweeps/28yyx0vh' target=\"_blank\">https://wandb.ai/arunangshudutta218-iitm/dl_assgn_1_q_8/sweeps/28yyx0vh</a>"
            ]
          },
          "metadata": {}
        },
        {
          "output_type": "display_data",
          "data": {
            "text/plain": [
              "<IPython.core.display.HTML object>"
            ],
            "text/html": [
              " View run at <a href='https://wandb.ai/arunangshudutta218-iitm/dl_assgn_1_q_8/runs/9ib25bh4' target=\"_blank\">https://wandb.ai/arunangshudutta218-iitm/dl_assgn_1_q_8/runs/9ib25bh4</a>"
            ]
          },
          "metadata": {}
        },
        {
          "output_type": "stream",
          "name": "stdout",
          "text": [
            "Hyper parameters: \n",
            "\n",
            "Weight initialization type :  Xavier\n",
            "Optimizer :  adam\n",
            "Learning rate (initial):  0.0001\n",
            "Batch size:  32\n",
            "-------------------\n",
            "Architecture Description:\n",
            "\n",
            "Layer:  1  ; number of neurons:  64  ; activation function:  tanh\n",
            "Weight matrix dimention (64, 784) Bias vector dimention (64, 1)\n",
            "----------------\n",
            "Layer:  2  ; number of neurons:  64  ; activation function:  tanh\n",
            "Weight matrix dimention (64, 64) Bias vector dimention (64, 1)\n",
            "----------------\n",
            "Layer:  3  ; number of neurons:  64  ; activation function:  tanh\n",
            "Weight matrix dimention (64, 64) Bias vector dimention (64, 1)\n",
            "----------------\n",
            "Layer:  4  ; number of neurons:  64  ; activation function:  tanh\n",
            "Weight matrix dimention (64, 64) Bias vector dimention (64, 1)\n",
            "----------------\n",
            "Layer:  5  ; number of neurons:  10  ; activation function:  softmax\n",
            "Weight matrix dimention (10, 64) Bias vector dimention (10, 1)\n",
            "----------------\n",
            "1312.0\n",
            "\n",
            " Start of training\n",
            "CE Training Loss:  2.2711334783745962 SE Training Loss:  0.44878275958589436 Training Accuracy:  12.597619047619048 CE Test Loss:  2.2692423769475467 SE Test Loss:  0.448675251593934 Testing Accuracy:  12.316666666666666\n",
            "Epoch:  1\n"
          ]
        },
        {
          "output_type": "stream",
          "name": "stderr",
          "text": [
            "100%|██████████| 1312/1312 [00:09<00:00, 141.29it/s]\n"
          ]
        },
        {
          "output_type": "stream",
          "name": "stdout",
          "text": [
            "CE Training Loss:  0.527775025851288 SE Training Loss:  0.12751129239839407 Training Accuracy:  82.5547619047619 CE Test Loss:  0.5326174035729369 SE Test Loss:  0.12844728888712248 Testing Accuracy:  82.50555555555556\n",
            "Epoch:  2\n"
          ]
        },
        {
          "output_type": "stream",
          "name": "stderr",
          "text": [
            "100%|██████████| 1312/1312 [00:06<00:00, 195.07it/s]\n"
          ]
        },
        {
          "output_type": "stream",
          "name": "stdout",
          "text": [
            "CE Training Loss:  0.45220444734931153 SE Training Loss:  0.11082536505860648 Training Accuracy:  84.61904761904762 CE Test Loss:  0.45978615944753326 SE Test Loss:  0.11256325980105868 Testing Accuracy:  84.47222222222223\n",
            "Epoch:  3\n"
          ]
        },
        {
          "output_type": "stream",
          "name": "stderr",
          "text": [
            "100%|██████████| 1312/1312 [00:07<00:00, 181.74it/s]\n"
          ]
        },
        {
          "output_type": "stream",
          "name": "stdout",
          "text": [
            "CE Training Loss:  0.4214694192320429 SE Training Loss:  0.10355496566497108 Training Accuracy:  85.73095238095237 CE Test Loss:  0.4317488742242189 SE Test Loss:  0.1063402615024113 Testing Accuracy:  85.20555555555555\n",
            "Epoch:  4\n"
          ]
        },
        {
          "output_type": "stream",
          "name": "stderr",
          "text": [
            "100%|██████████| 1312/1312 [00:09<00:00, 143.54it/s]\n"
          ]
        },
        {
          "output_type": "stream",
          "name": "stdout",
          "text": [
            "CE Training Loss:  0.4030775119722838 SE Training Loss:  0.0990075257391273 Training Accuracy:  86.3404761904762 CE Test Loss:  0.41538816465086836 SE Test Loss:  0.10256180619110161 Testing Accuracy:  85.74444444444444\n",
            "Epoch:  5\n"
          ]
        },
        {
          "output_type": "stream",
          "name": "stderr",
          "text": [
            "100%|██████████| 1312/1312 [00:06<00:00, 209.04it/s]\n"
          ]
        },
        {
          "output_type": "stream",
          "name": "stdout",
          "text": [
            "CE Training Loss:  0.3900385008963522 SE Training Loss:  0.09575536324431144 Training Accuracy:  86.83333333333333 CE Test Loss:  0.40421054715479454 SE Test Loss:  0.099949644150858 Testing Accuracy:  86.22222222222223\n"
          ]
        },
        {
          "output_type": "display_data",
          "data": {
            "text/plain": [
              "<IPython.core.display.HTML object>"
            ],
            "text/html": []
          },
          "metadata": {}
        },
        {
          "output_type": "display_data",
          "data": {
            "text/plain": [
              "<IPython.core.display.HTML object>"
            ],
            "text/html": [
              "<br>    <style><br>        .wandb-row {<br>            display: flex;<br>            flex-direction: row;<br>            flex-wrap: wrap;<br>            justify-content: flex-start;<br>            width: 100%;<br>        }<br>        .wandb-col {<br>            display: flex;<br>            flex-direction: column;<br>            flex-basis: 100%;<br>            flex: 1;<br>            padding: 10px;<br>        }<br>    </style><br><div class=\"wandb-row\"><div class=\"wandb-col\"><h3>Run history:</h3><br/><table class=\"wandb\"><tr><td>tr_accuracy</td><td>▁█████</td></tr><tr><td>tr_loss_CE</td><td>█▂▁▁▁▁</td></tr><tr><td>tr_loss_SE</td><td>█▂▁▁▁▁</td></tr><tr><td>val_accuracy</td><td>▁█████</td></tr><tr><td>val_loss_CE</td><td>█▁▁▁▁▁</td></tr><tr><td>val_loss_SE</td><td>█▂▁▁▁▁</td></tr></table><br/></div><div class=\"wandb-col\"><h3>Run summary:</h3><br/><table class=\"wandb\"><tr><td>tr_accuracy</td><td>86.83333</td></tr><tr><td>tr_loss_CE</td><td>0.39004</td></tr><tr><td>tr_loss_SE</td><td>0.09576</td></tr><tr><td>val_accuracy</td><td>86.22222</td></tr><tr><td>val_loss_CE</td><td>0.40421</td></tr><tr><td>val_loss_SE</td><td>0.09995</td></tr></table><br/></div></div>"
            ]
          },
          "metadata": {}
        },
        {
          "output_type": "display_data",
          "data": {
            "text/plain": [
              "<IPython.core.display.HTML object>"
            ],
            "text/html": [
              " View run <strong style=\"color:#cdcd00\">e_5_hl_4_hs_64_lr_0.0001_opt_adam_bs_32_init_Xavier_ac_tanh_l2_0</strong> at: <a href='https://wandb.ai/arunangshudutta218-iitm/dl_assgn_1_q_8/runs/9ib25bh4' target=\"_blank\">https://wandb.ai/arunangshudutta218-iitm/dl_assgn_1_q_8/runs/9ib25bh4</a><br> View project at: <a href='https://wandb.ai/arunangshudutta218-iitm/dl_assgn_1_q_8' target=\"_blank\">https://wandb.ai/arunangshudutta218-iitm/dl_assgn_1_q_8</a><br>Synced 5 W&B file(s), 0 media file(s), 0 artifact file(s) and 0 other file(s)"
            ]
          },
          "metadata": {}
        },
        {
          "output_type": "display_data",
          "data": {
            "text/plain": [
              "<IPython.core.display.HTML object>"
            ],
            "text/html": [
              "Find logs at: <code>./wandb/run-20250317_134852-9ib25bh4/logs</code>"
            ]
          },
          "metadata": {}
        },
        {
          "output_type": "stream",
          "name": "stderr",
          "text": [
            "\u001b[34m\u001b[1mwandb\u001b[0m: Agent Starting Run: gvy1tgaq with config:\n",
            "\u001b[34m\u001b[1mwandb\u001b[0m: \tactivation: tanh\n",
            "\u001b[34m\u001b[1mwandb\u001b[0m: \tbatch_size: 32\n",
            "\u001b[34m\u001b[1mwandb\u001b[0m: \tepochs: 5\n",
            "\u001b[34m\u001b[1mwandb\u001b[0m: \thidden_size: 64\n",
            "\u001b[34m\u001b[1mwandb\u001b[0m: \tlearning_rate: 0.0001\n",
            "\u001b[34m\u001b[1mwandb\u001b[0m: \tloss_function: squared_error\n",
            "\u001b[34m\u001b[1mwandb\u001b[0m: \tnum_layers: 4\n",
            "\u001b[34m\u001b[1mwandb\u001b[0m: \toptimizer: adam\n",
            "\u001b[34m\u001b[1mwandb\u001b[0m: \tweight_decay: 0.0005\n",
            "\u001b[34m\u001b[1mwandb\u001b[0m: \tweight_init: Xavier\n"
          ]
        },
        {
          "output_type": "display_data",
          "data": {
            "text/plain": [
              "<IPython.core.display.HTML object>"
            ],
            "text/html": [
              "Tracking run with wandb version 0.19.8"
            ]
          },
          "metadata": {}
        },
        {
          "output_type": "display_data",
          "data": {
            "text/plain": [
              "<IPython.core.display.HTML object>"
            ],
            "text/html": [
              "Run data is saved locally in <code>/content/wandb/run-20250317_134948-gvy1tgaq</code>"
            ]
          },
          "metadata": {}
        },
        {
          "output_type": "display_data",
          "data": {
            "text/plain": [
              "<IPython.core.display.HTML object>"
            ],
            "text/html": [
              "Syncing run <strong><a href='https://wandb.ai/arunangshudutta218-iitm/dl_assgn_1_q_8/runs/gvy1tgaq' target=\"_blank\">neat-sweep-32</a></strong> to <a href='https://wandb.ai/arunangshudutta218-iitm/dl_assgn_1_q_8' target=\"_blank\">Weights & Biases</a> (<a href='https://wandb.me/developer-guide' target=\"_blank\">docs</a>)<br>Sweep page: <a href='https://wandb.ai/arunangshudutta218-iitm/dl_assgn_1_q_8/sweeps/28yyx0vh' target=\"_blank\">https://wandb.ai/arunangshudutta218-iitm/dl_assgn_1_q_8/sweeps/28yyx0vh</a>"
            ]
          },
          "metadata": {}
        },
        {
          "output_type": "display_data",
          "data": {
            "text/plain": [
              "<IPython.core.display.HTML object>"
            ],
            "text/html": [
              " View project at <a href='https://wandb.ai/arunangshudutta218-iitm/dl_assgn_1_q_8' target=\"_blank\">https://wandb.ai/arunangshudutta218-iitm/dl_assgn_1_q_8</a>"
            ]
          },
          "metadata": {}
        },
        {
          "output_type": "display_data",
          "data": {
            "text/plain": [
              "<IPython.core.display.HTML object>"
            ],
            "text/html": [
              " View sweep at <a href='https://wandb.ai/arunangshudutta218-iitm/dl_assgn_1_q_8/sweeps/28yyx0vh' target=\"_blank\">https://wandb.ai/arunangshudutta218-iitm/dl_assgn_1_q_8/sweeps/28yyx0vh</a>"
            ]
          },
          "metadata": {}
        },
        {
          "output_type": "display_data",
          "data": {
            "text/plain": [
              "<IPython.core.display.HTML object>"
            ],
            "text/html": [
              " View run at <a href='https://wandb.ai/arunangshudutta218-iitm/dl_assgn_1_q_8/runs/gvy1tgaq' target=\"_blank\">https://wandb.ai/arunangshudutta218-iitm/dl_assgn_1_q_8/runs/gvy1tgaq</a>"
            ]
          },
          "metadata": {}
        },
        {
          "output_type": "stream",
          "name": "stdout",
          "text": [
            "Hyper parameters: \n",
            "\n",
            "Weight initialization type :  Xavier\n",
            "Optimizer :  adam\n",
            "Learning rate (initial):  0.0001\n",
            "Batch size:  32\n",
            "-------------------\n",
            "Architecture Description:\n",
            "\n",
            "Layer:  1  ; number of neurons:  64  ; activation function:  tanh\n",
            "Weight matrix dimention (64, 784) Bias vector dimention (64, 1)\n",
            "----------------\n",
            "Layer:  2  ; number of neurons:  64  ; activation function:  tanh\n",
            "Weight matrix dimention (64, 64) Bias vector dimention (64, 1)\n",
            "----------------\n",
            "Layer:  3  ; number of neurons:  64  ; activation function:  tanh\n",
            "Weight matrix dimention (64, 64) Bias vector dimention (64, 1)\n",
            "----------------\n",
            "Layer:  4  ; number of neurons:  64  ; activation function:  tanh\n",
            "Weight matrix dimention (64, 64) Bias vector dimention (64, 1)\n",
            "----------------\n",
            "Layer:  5  ; number of neurons:  10  ; activation function:  softmax\n",
            "Weight matrix dimention (10, 64) Bias vector dimention (10, 1)\n",
            "----------------\n",
            "1312.0\n",
            "\n",
            " Start of training\n",
            "CE Training Loss:  2.345673591102198 SE Training Loss:  0.45598872755788855 Training Accuracy:  7.664285714285715 CE Test Loss:  2.3394761938688324 SE Test Loss:  0.4553891440372469 Testing Accuracy:  7.661111111111111\n",
            "Epoch:  1\n"
          ]
        },
        {
          "output_type": "stream",
          "name": "stderr",
          "text": [
            "100%|██████████| 1312/1312 [00:07<00:00, 171.03it/s]\n"
          ]
        },
        {
          "output_type": "stream",
          "name": "stdout",
          "text": [
            "CE Training Loss:  0.5381640235259785 SE Training Loss:  0.12937944029045628 Training Accuracy:  82.25952380952381 CE Test Loss:  0.5386218121185157 SE Test Loss:  0.12994162461113146 Testing Accuracy:  82.12777777777778\n",
            "Epoch:  2\n"
          ]
        },
        {
          "output_type": "stream",
          "name": "stderr",
          "text": [
            "100%|██████████| 1312/1312 [00:06<00:00, 201.58it/s]\n"
          ]
        },
        {
          "output_type": "stream",
          "name": "stdout",
          "text": [
            "CE Training Loss:  0.4568149634489234 SE Training Loss:  0.11121753272550021 Training Accuracy:  84.72142857142858 CE Test Loss:  0.4587212054736489 SE Test Loss:  0.11203718198618377 Testing Accuracy:  84.68333333333334\n",
            "Epoch:  3\n"
          ]
        },
        {
          "output_type": "stream",
          "name": "stderr",
          "text": [
            "100%|██████████| 1312/1312 [00:08<00:00, 145.95it/s]\n"
          ]
        },
        {
          "output_type": "stream",
          "name": "stdout",
          "text": [
            "CE Training Loss:  0.4243017289006071 SE Training Loss:  0.1036707153900267 Training Accuracy:  85.79761904761905 CE Test Loss:  0.42842367012336763 SE Test Loss:  0.10509111047049327 Testing Accuracy:  85.6\n",
            "Epoch:  4\n"
          ]
        },
        {
          "output_type": "stream",
          "name": "stderr",
          "text": [
            "100%|██████████| 1312/1312 [00:06<00:00, 208.73it/s]\n"
          ]
        },
        {
          "output_type": "stream",
          "name": "stdout",
          "text": [
            "CE Training Loss:  0.40402256621086974 SE Training Loss:  0.09881580265498245 Training Accuracy:  86.45714285714286 CE Test Loss:  0.4108267816605887 SE Test Loss:  0.1010371258207459 Testing Accuracy:  86.05555555555556\n",
            "Epoch:  5\n"
          ]
        },
        {
          "output_type": "stream",
          "name": "stderr",
          "text": [
            "100%|██████████| 1312/1312 [00:07<00:00, 169.43it/s]\n"
          ]
        },
        {
          "output_type": "stream",
          "name": "stdout",
          "text": [
            "CE Training Loss:  0.3893996697952567 SE Training Loss:  0.0952449786938918 Training Accuracy:  86.90238095238095 CE Test Loss:  0.39912508107871375 SE Test Loss:  0.09831685901118686 Testing Accuracy:  86.41666666666667\n"
          ]
        },
        {
          "output_type": "display_data",
          "data": {
            "text/plain": [
              "<IPython.core.display.HTML object>"
            ],
            "text/html": []
          },
          "metadata": {}
        },
        {
          "output_type": "display_data",
          "data": {
            "text/plain": [
              "<IPython.core.display.HTML object>"
            ],
            "text/html": [
              "<br>    <style><br>        .wandb-row {<br>            display: flex;<br>            flex-direction: row;<br>            flex-wrap: wrap;<br>            justify-content: flex-start;<br>            width: 100%;<br>        }<br>        .wandb-col {<br>            display: flex;<br>            flex-direction: column;<br>            flex-basis: 100%;<br>            flex: 1;<br>            padding: 10px;<br>        }<br>    </style><br><div class=\"wandb-row\"><div class=\"wandb-col\"><h3>Run history:</h3><br/><table class=\"wandb\"><tr><td>tr_accuracy</td><td>▁█████</td></tr><tr><td>tr_loss_CE</td><td>█▂▁▁▁▁</td></tr><tr><td>tr_loss_SE</td><td>█▂▁▁▁▁</td></tr><tr><td>val_accuracy</td><td>▁█████</td></tr><tr><td>val_loss_CE</td><td>█▂▁▁▁▁</td></tr><tr><td>val_loss_SE</td><td>█▂▁▁▁▁</td></tr></table><br/></div><div class=\"wandb-col\"><h3>Run summary:</h3><br/><table class=\"wandb\"><tr><td>tr_accuracy</td><td>86.90238</td></tr><tr><td>tr_loss_CE</td><td>0.3894</td></tr><tr><td>tr_loss_SE</td><td>0.09524</td></tr><tr><td>val_accuracy</td><td>86.41667</td></tr><tr><td>val_loss_CE</td><td>0.39913</td></tr><tr><td>val_loss_SE</td><td>0.09832</td></tr></table><br/></div></div>"
            ]
          },
          "metadata": {}
        },
        {
          "output_type": "display_data",
          "data": {
            "text/plain": [
              "<IPython.core.display.HTML object>"
            ],
            "text/html": [
              " View run <strong style=\"color:#cdcd00\">e_5_hl_4_hs_64_lr_0.0001_opt_adam_bs_32_init_Xavier_ac_tanh_l2_0.0005</strong> at: <a href='https://wandb.ai/arunangshudutta218-iitm/dl_assgn_1_q_8/runs/gvy1tgaq' target=\"_blank\">https://wandb.ai/arunangshudutta218-iitm/dl_assgn_1_q_8/runs/gvy1tgaq</a><br> View project at: <a href='https://wandb.ai/arunangshudutta218-iitm/dl_assgn_1_q_8' target=\"_blank\">https://wandb.ai/arunangshudutta218-iitm/dl_assgn_1_q_8</a><br>Synced 5 W&B file(s), 0 media file(s), 0 artifact file(s) and 0 other file(s)"
            ]
          },
          "metadata": {}
        },
        {
          "output_type": "display_data",
          "data": {
            "text/plain": [
              "<IPython.core.display.HTML object>"
            ],
            "text/html": [
              "Find logs at: <code>./wandb/run-20250317_134948-gvy1tgaq/logs</code>"
            ]
          },
          "metadata": {}
        },
        {
          "output_type": "stream",
          "name": "stderr",
          "text": [
            "\u001b[34m\u001b[1mwandb\u001b[0m: Agent Starting Run: hr2egwra with config:\n",
            "\u001b[34m\u001b[1mwandb\u001b[0m: \tactivation: tanh\n",
            "\u001b[34m\u001b[1mwandb\u001b[0m: \tbatch_size: 32\n",
            "\u001b[34m\u001b[1mwandb\u001b[0m: \tepochs: 5\n",
            "\u001b[34m\u001b[1mwandb\u001b[0m: \thidden_size: 64\n",
            "\u001b[34m\u001b[1mwandb\u001b[0m: \tlearning_rate: 0.0001\n",
            "\u001b[34m\u001b[1mwandb\u001b[0m: \tloss_function: squared_error\n",
            "\u001b[34m\u001b[1mwandb\u001b[0m: \tnum_layers: 4\n",
            "\u001b[34m\u001b[1mwandb\u001b[0m: \toptimizer: adam\n",
            "\u001b[34m\u001b[1mwandb\u001b[0m: \tweight_decay: 0.5\n",
            "\u001b[34m\u001b[1mwandb\u001b[0m: \tweight_init: Xavier\n"
          ]
        },
        {
          "output_type": "display_data",
          "data": {
            "text/plain": [
              "<IPython.core.display.HTML object>"
            ],
            "text/html": [
              "Tracking run with wandb version 0.19.8"
            ]
          },
          "metadata": {}
        },
        {
          "output_type": "display_data",
          "data": {
            "text/plain": [
              "<IPython.core.display.HTML object>"
            ],
            "text/html": [
              "Run data is saved locally in <code>/content/wandb/run-20250317_135044-hr2egwra</code>"
            ]
          },
          "metadata": {}
        },
        {
          "output_type": "display_data",
          "data": {
            "text/plain": [
              "<IPython.core.display.HTML object>"
            ],
            "text/html": [
              "Syncing run <strong><a href='https://wandb.ai/arunangshudutta218-iitm/dl_assgn_1_q_8/runs/hr2egwra' target=\"_blank\">smooth-sweep-33</a></strong> to <a href='https://wandb.ai/arunangshudutta218-iitm/dl_assgn_1_q_8' target=\"_blank\">Weights & Biases</a> (<a href='https://wandb.me/developer-guide' target=\"_blank\">docs</a>)<br>Sweep page: <a href='https://wandb.ai/arunangshudutta218-iitm/dl_assgn_1_q_8/sweeps/28yyx0vh' target=\"_blank\">https://wandb.ai/arunangshudutta218-iitm/dl_assgn_1_q_8/sweeps/28yyx0vh</a>"
            ]
          },
          "metadata": {}
        },
        {
          "output_type": "display_data",
          "data": {
            "text/plain": [
              "<IPython.core.display.HTML object>"
            ],
            "text/html": [
              " View project at <a href='https://wandb.ai/arunangshudutta218-iitm/dl_assgn_1_q_8' target=\"_blank\">https://wandb.ai/arunangshudutta218-iitm/dl_assgn_1_q_8</a>"
            ]
          },
          "metadata": {}
        },
        {
          "output_type": "display_data",
          "data": {
            "text/plain": [
              "<IPython.core.display.HTML object>"
            ],
            "text/html": [
              " View sweep at <a href='https://wandb.ai/arunangshudutta218-iitm/dl_assgn_1_q_8/sweeps/28yyx0vh' target=\"_blank\">https://wandb.ai/arunangshudutta218-iitm/dl_assgn_1_q_8/sweeps/28yyx0vh</a>"
            ]
          },
          "metadata": {}
        },
        {
          "output_type": "display_data",
          "data": {
            "text/plain": [
              "<IPython.core.display.HTML object>"
            ],
            "text/html": [
              " View run at <a href='https://wandb.ai/arunangshudutta218-iitm/dl_assgn_1_q_8/runs/hr2egwra' target=\"_blank\">https://wandb.ai/arunangshudutta218-iitm/dl_assgn_1_q_8/runs/hr2egwra</a>"
            ]
          },
          "metadata": {}
        },
        {
          "output_type": "stream",
          "name": "stdout",
          "text": [
            "Hyper parameters: \n",
            "\n",
            "Weight initialization type :  Xavier\n",
            "Optimizer :  adam\n",
            "Learning rate (initial):  0.0001\n",
            "Batch size:  32\n",
            "-------------------\n",
            "Architecture Description:\n",
            "\n",
            "Layer:  1  ; number of neurons:  64  ; activation function:  tanh\n",
            "Weight matrix dimention (64, 784) Bias vector dimention (64, 1)\n",
            "----------------\n",
            "Layer:  2  ; number of neurons:  64  ; activation function:  tanh\n",
            "Weight matrix dimention (64, 64) Bias vector dimention (64, 1)\n",
            "----------------\n",
            "Layer:  3  ; number of neurons:  64  ; activation function:  tanh\n",
            "Weight matrix dimention (64, 64) Bias vector dimention (64, 1)\n",
            "----------------\n",
            "Layer:  4  ; number of neurons:  64  ; activation function:  tanh\n",
            "Weight matrix dimention (64, 64) Bias vector dimention (64, 1)\n",
            "----------------\n",
            "Layer:  5  ; number of neurons:  10  ; activation function:  softmax\n",
            "Weight matrix dimention (10, 64) Bias vector dimention (10, 1)\n",
            "----------------\n",
            "1312.0\n",
            "\n",
            " Start of training\n",
            "CE Training Loss:  2.365708797518797 SE Training Loss:  0.45575712606609087 Training Accuracy:  9.295238095238096 CE Test Loss:  2.368173616778008 SE Test Loss:  0.4560671861006842 Testing Accuracy:  8.733333333333333\n",
            "Epoch:  1\n"
          ]
        },
        {
          "output_type": "stream",
          "name": "stderr",
          "text": [
            "100%|██████████| 1312/1312 [00:06<00:00, 190.34it/s]\n"
          ]
        },
        {
          "output_type": "stream",
          "name": "stdout",
          "text": [
            "CE Training Loss:  1.205623193224547 SE Training Loss:  0.2778281225990744 Training Accuracy:  64.97619047619048 CE Test Loss:  1.2056416381280326 SE Test Loss:  0.2779656502771777 Testing Accuracy:  64.65\n",
            "Epoch:  2\n"
          ]
        },
        {
          "output_type": "stream",
          "name": "stderr",
          "text": [
            "100%|██████████| 1312/1312 [00:07<00:00, 177.42it/s]\n"
          ]
        },
        {
          "output_type": "stream",
          "name": "stdout",
          "text": [
            "CE Training Loss:  1.06004628826089 SE Training Loss:  0.2505382905131375 Training Accuracy:  64.63571428571429 CE Test Loss:  1.0616692407982269 SE Test Loss:  0.2512031919053918 Testing Accuracy:  64.61111111111111\n",
            "Epoch:  3\n"
          ]
        },
        {
          "output_type": "stream",
          "name": "stderr",
          "text": [
            "100%|██████████| 1312/1312 [00:09<00:00, 142.63it/s]\n"
          ]
        },
        {
          "output_type": "stream",
          "name": "stdout",
          "text": [
            "CE Training Loss:  1.0145088197724266 SE Training Loss:  0.2428507693411873 Training Accuracy:  65.57619047619048 CE Test Loss:  1.0167751038631287 SE Test Loss:  0.24371698122614407 Testing Accuracy:  65.41666666666667\n",
            "Epoch:  4\n"
          ]
        },
        {
          "output_type": "stream",
          "name": "stderr",
          "text": [
            "100%|██████████| 1312/1312 [00:06<00:00, 203.52it/s]\n"
          ]
        },
        {
          "output_type": "stream",
          "name": "stdout",
          "text": [
            "CE Training Loss:  0.9900505166178568 SE Training Loss:  0.23861109858876758 Training Accuracy:  67.48809523809524 CE Test Loss:  0.9925570423377533 SE Test Loss:  0.23953070136841131 Testing Accuracy:  67.41111111111111\n",
            "Epoch:  5\n"
          ]
        },
        {
          "output_type": "stream",
          "name": "stderr",
          "text": [
            "100%|██████████| 1312/1312 [00:08<00:00, 159.75it/s]\n"
          ]
        },
        {
          "output_type": "stream",
          "name": "stdout",
          "text": [
            "CE Training Loss:  0.976220382067332 SE Training Loss:  0.2361137840041632 Training Accuracy:  68.38809523809523 CE Test Loss:  0.9787789442458406 SE Test Loss:  0.23702433067305517 Testing Accuracy:  68.52222222222223\n"
          ]
        },
        {
          "output_type": "display_data",
          "data": {
            "text/plain": [
              "<IPython.core.display.HTML object>"
            ],
            "text/html": []
          },
          "metadata": {}
        },
        {
          "output_type": "display_data",
          "data": {
            "text/plain": [
              "<IPython.core.display.HTML object>"
            ],
            "text/html": [
              "<br>    <style><br>        .wandb-row {<br>            display: flex;<br>            flex-direction: row;<br>            flex-wrap: wrap;<br>            justify-content: flex-start;<br>            width: 100%;<br>        }<br>        .wandb-col {<br>            display: flex;<br>            flex-direction: column;<br>            flex-basis: 100%;<br>            flex: 1;<br>            padding: 10px;<br>        }<br>    </style><br><div class=\"wandb-row\"><div class=\"wandb-col\"><h3>Run history:</h3><br/><table class=\"wandb\"><tr><td>tr_accuracy</td><td>▁█████</td></tr><tr><td>tr_loss_CE</td><td>█▂▁▁▁▁</td></tr><tr><td>tr_loss_SE</td><td>█▂▁▁▁▁</td></tr><tr><td>val_accuracy</td><td>▁█████</td></tr><tr><td>val_loss_CE</td><td>█▂▁▁▁▁</td></tr><tr><td>val_loss_SE</td><td>█▂▁▁▁▁</td></tr></table><br/></div><div class=\"wandb-col\"><h3>Run summary:</h3><br/><table class=\"wandb\"><tr><td>tr_accuracy</td><td>68.3881</td></tr><tr><td>tr_loss_CE</td><td>0.97622</td></tr><tr><td>tr_loss_SE</td><td>0.23611</td></tr><tr><td>val_accuracy</td><td>68.52222</td></tr><tr><td>val_loss_CE</td><td>0.97878</td></tr><tr><td>val_loss_SE</td><td>0.23702</td></tr></table><br/></div></div>"
            ]
          },
          "metadata": {}
        },
        {
          "output_type": "display_data",
          "data": {
            "text/plain": [
              "<IPython.core.display.HTML object>"
            ],
            "text/html": [
              " View run <strong style=\"color:#cdcd00\">e_5_hl_4_hs_64_lr_0.0001_opt_adam_bs_32_init_Xavier_ac_tanh_l2_0.5</strong> at: <a href='https://wandb.ai/arunangshudutta218-iitm/dl_assgn_1_q_8/runs/hr2egwra' target=\"_blank\">https://wandb.ai/arunangshudutta218-iitm/dl_assgn_1_q_8/runs/hr2egwra</a><br> View project at: <a href='https://wandb.ai/arunangshudutta218-iitm/dl_assgn_1_q_8' target=\"_blank\">https://wandb.ai/arunangshudutta218-iitm/dl_assgn_1_q_8</a><br>Synced 5 W&B file(s), 0 media file(s), 0 artifact file(s) and 0 other file(s)"
            ]
          },
          "metadata": {}
        },
        {
          "output_type": "display_data",
          "data": {
            "text/plain": [
              "<IPython.core.display.HTML object>"
            ],
            "text/html": [
              "Find logs at: <code>./wandb/run-20250317_135044-hr2egwra/logs</code>"
            ]
          },
          "metadata": {}
        },
        {
          "output_type": "stream",
          "name": "stderr",
          "text": [
            "\u001b[34m\u001b[1mwandb\u001b[0m: Agent Starting Run: 2a7cmexs with config:\n",
            "\u001b[34m\u001b[1mwandb\u001b[0m: \tactivation: tanh\n",
            "\u001b[34m\u001b[1mwandb\u001b[0m: \tbatch_size: 32\n",
            "\u001b[34m\u001b[1mwandb\u001b[0m: \tepochs: 5\n",
            "\u001b[34m\u001b[1mwandb\u001b[0m: \thidden_size: 64\n",
            "\u001b[34m\u001b[1mwandb\u001b[0m: \tlearning_rate: 0.0001\n",
            "\u001b[34m\u001b[1mwandb\u001b[0m: \tloss_function: squared_error\n",
            "\u001b[34m\u001b[1mwandb\u001b[0m: \tnum_layers: 4\n",
            "\u001b[34m\u001b[1mwandb\u001b[0m: \toptimizer: nadam\n",
            "\u001b[34m\u001b[1mwandb\u001b[0m: \tweight_decay: 0\n",
            "\u001b[34m\u001b[1mwandb\u001b[0m: \tweight_init: Xavier\n"
          ]
        },
        {
          "output_type": "display_data",
          "data": {
            "text/plain": [
              "<IPython.core.display.HTML object>"
            ],
            "text/html": [
              "Tracking run with wandb version 0.19.8"
            ]
          },
          "metadata": {}
        },
        {
          "output_type": "display_data",
          "data": {
            "text/plain": [
              "<IPython.core.display.HTML object>"
            ],
            "text/html": [
              "Run data is saved locally in <code>/content/wandb/run-20250317_135140-2a7cmexs</code>"
            ]
          },
          "metadata": {}
        },
        {
          "output_type": "display_data",
          "data": {
            "text/plain": [
              "<IPython.core.display.HTML object>"
            ],
            "text/html": [
              "Syncing run <strong><a href='https://wandb.ai/arunangshudutta218-iitm/dl_assgn_1_q_8/runs/2a7cmexs' target=\"_blank\">glowing-sweep-34</a></strong> to <a href='https://wandb.ai/arunangshudutta218-iitm/dl_assgn_1_q_8' target=\"_blank\">Weights & Biases</a> (<a href='https://wandb.me/developer-guide' target=\"_blank\">docs</a>)<br>Sweep page: <a href='https://wandb.ai/arunangshudutta218-iitm/dl_assgn_1_q_8/sweeps/28yyx0vh' target=\"_blank\">https://wandb.ai/arunangshudutta218-iitm/dl_assgn_1_q_8/sweeps/28yyx0vh</a>"
            ]
          },
          "metadata": {}
        },
        {
          "output_type": "display_data",
          "data": {
            "text/plain": [
              "<IPython.core.display.HTML object>"
            ],
            "text/html": [
              " View project at <a href='https://wandb.ai/arunangshudutta218-iitm/dl_assgn_1_q_8' target=\"_blank\">https://wandb.ai/arunangshudutta218-iitm/dl_assgn_1_q_8</a>"
            ]
          },
          "metadata": {}
        },
        {
          "output_type": "display_data",
          "data": {
            "text/plain": [
              "<IPython.core.display.HTML object>"
            ],
            "text/html": [
              " View sweep at <a href='https://wandb.ai/arunangshudutta218-iitm/dl_assgn_1_q_8/sweeps/28yyx0vh' target=\"_blank\">https://wandb.ai/arunangshudutta218-iitm/dl_assgn_1_q_8/sweeps/28yyx0vh</a>"
            ]
          },
          "metadata": {}
        },
        {
          "output_type": "display_data",
          "data": {
            "text/plain": [
              "<IPython.core.display.HTML object>"
            ],
            "text/html": [
              " View run at <a href='https://wandb.ai/arunangshudutta218-iitm/dl_assgn_1_q_8/runs/2a7cmexs' target=\"_blank\">https://wandb.ai/arunangshudutta218-iitm/dl_assgn_1_q_8/runs/2a7cmexs</a>"
            ]
          },
          "metadata": {}
        },
        {
          "output_type": "stream",
          "name": "stdout",
          "text": [
            "Hyper parameters: \n",
            "\n",
            "Weight initialization type :  Xavier\n",
            "Optimizer :  nadam\n",
            "Learning rate (initial):  0.0001\n",
            "Batch size:  32\n",
            "-------------------\n",
            "Architecture Description:\n",
            "\n",
            "Layer:  1  ; number of neurons:  64  ; activation function:  tanh\n",
            "Weight matrix dimention (64, 784) Bias vector dimention (64, 1)\n",
            "----------------\n",
            "Layer:  2  ; number of neurons:  64  ; activation function:  tanh\n",
            "Weight matrix dimention (64, 64) Bias vector dimention (64, 1)\n",
            "----------------\n",
            "Layer:  3  ; number of neurons:  64  ; activation function:  tanh\n",
            "Weight matrix dimention (64, 64) Bias vector dimention (64, 1)\n",
            "----------------\n",
            "Layer:  4  ; number of neurons:  64  ; activation function:  tanh\n",
            "Weight matrix dimention (64, 64) Bias vector dimention (64, 1)\n",
            "----------------\n",
            "Layer:  5  ; number of neurons:  10  ; activation function:  softmax\n",
            "Weight matrix dimention (10, 64) Bias vector dimention (10, 1)\n",
            "----------------\n",
            "1312.0\n",
            "\n",
            " Start of training\n",
            "CE Training Loss:  2.3586003363771737 SE Training Loss:  0.4561214987684252 Training Accuracy:  11.404761904761905 CE Test Loss:  2.353597422280753 SE Test Loss:  0.45558251260522037 Testing Accuracy:  11.45\n",
            "Epoch:  1\n"
          ]
        },
        {
          "output_type": "stream",
          "name": "stderr",
          "text": [
            "100%|██████████| 1312/1312 [00:06<00:00, 189.50it/s]\n"
          ]
        },
        {
          "output_type": "stream",
          "name": "stdout",
          "text": [
            "CE Training Loss:  0.5469373028194796 SE Training Loss:  0.1315364165338536 Training Accuracy:  82.18809523809524 CE Test Loss:  0.5460511858408369 SE Test Loss:  0.13157072544770093 Testing Accuracy:  82.26666666666667\n",
            "Epoch:  2\n"
          ]
        },
        {
          "output_type": "stream",
          "name": "stderr",
          "text": [
            "100%|██████████| 1312/1312 [00:08<00:00, 156.31it/s]\n"
          ]
        },
        {
          "output_type": "stream",
          "name": "stdout",
          "text": [
            "CE Training Loss:  0.46586621002294376 SE Training Loss:  0.11353919301300801 Training Accuracy:  84.32619047619048 CE Test Loss:  0.4675930988152486 SE Test Loss:  0.11453303445790547 Testing Accuracy:  84.17222222222222\n",
            "Epoch:  3\n"
          ]
        },
        {
          "output_type": "stream",
          "name": "stderr",
          "text": [
            "100%|██████████| 1312/1312 [00:09<00:00, 133.45it/s]\n"
          ]
        },
        {
          "output_type": "stream",
          "name": "stdout",
          "text": [
            "CE Training Loss:  0.4320391527698891 SE Training Loss:  0.10563721140548572 Training Accuracy:  85.46190476190476 CE Test Loss:  0.43701302461587865 SE Test Loss:  0.10763006074152619 Testing Accuracy:  85.0111111111111\n",
            "Epoch:  4\n"
          ]
        },
        {
          "output_type": "stream",
          "name": "stderr",
          "text": [
            "100%|██████████| 1312/1312 [00:06<00:00, 193.33it/s]\n"
          ]
        },
        {
          "output_type": "stream",
          "name": "stdout",
          "text": [
            "CE Training Loss:  0.4105875933853278 SE Training Loss:  0.10049928238349079 Training Accuracy:  86.1952380952381 CE Test Loss:  0.4183678017415146 SE Test Loss:  0.10331156201019437 Testing Accuracy:  85.60555555555555\n",
            "Epoch:  5\n"
          ]
        },
        {
          "output_type": "stream",
          "name": "stderr",
          "text": [
            "100%|██████████| 1312/1312 [00:08<00:00, 156.99it/s]\n"
          ]
        },
        {
          "output_type": "stream",
          "name": "stdout",
          "text": [
            "CE Training Loss:  0.3950916497700774 SE Training Loss:  0.09674517947056087 Training Accuracy:  86.70238095238095 CE Test Loss:  0.40538104251152157 SE Test Loss:  0.10022370602700516 Testing Accuracy:  85.91111111111111\n"
          ]
        },
        {
          "output_type": "display_data",
          "data": {
            "text/plain": [
              "<IPython.core.display.HTML object>"
            ],
            "text/html": []
          },
          "metadata": {}
        },
        {
          "output_type": "display_data",
          "data": {
            "text/plain": [
              "<IPython.core.display.HTML object>"
            ],
            "text/html": [
              "<br>    <style><br>        .wandb-row {<br>            display: flex;<br>            flex-direction: row;<br>            flex-wrap: wrap;<br>            justify-content: flex-start;<br>            width: 100%;<br>        }<br>        .wandb-col {<br>            display: flex;<br>            flex-direction: column;<br>            flex-basis: 100%;<br>            flex: 1;<br>            padding: 10px;<br>        }<br>    </style><br><div class=\"wandb-row\"><div class=\"wandb-col\"><h3>Run history:</h3><br/><table class=\"wandb\"><tr><td>tr_accuracy</td><td>▁█████</td></tr><tr><td>tr_loss_CE</td><td>█▂▁▁▁▁</td></tr><tr><td>tr_loss_SE</td><td>█▂▁▁▁▁</td></tr><tr><td>val_accuracy</td><td>▁█████</td></tr><tr><td>val_loss_CE</td><td>█▂▁▁▁▁</td></tr><tr><td>val_loss_SE</td><td>█▂▁▁▁▁</td></tr></table><br/></div><div class=\"wandb-col\"><h3>Run summary:</h3><br/><table class=\"wandb\"><tr><td>tr_accuracy</td><td>86.70238</td></tr><tr><td>tr_loss_CE</td><td>0.39509</td></tr><tr><td>tr_loss_SE</td><td>0.09675</td></tr><tr><td>val_accuracy</td><td>85.91111</td></tr><tr><td>val_loss_CE</td><td>0.40538</td></tr><tr><td>val_loss_SE</td><td>0.10022</td></tr></table><br/></div></div>"
            ]
          },
          "metadata": {}
        },
        {
          "output_type": "display_data",
          "data": {
            "text/plain": [
              "<IPython.core.display.HTML object>"
            ],
            "text/html": [
              " View run <strong style=\"color:#cdcd00\">e_5_hl_4_hs_64_lr_0.0001_opt_nadam_bs_32_init_Xavier_ac_tanh_l2_0</strong> at: <a href='https://wandb.ai/arunangshudutta218-iitm/dl_assgn_1_q_8/runs/2a7cmexs' target=\"_blank\">https://wandb.ai/arunangshudutta218-iitm/dl_assgn_1_q_8/runs/2a7cmexs</a><br> View project at: <a href='https://wandb.ai/arunangshudutta218-iitm/dl_assgn_1_q_8' target=\"_blank\">https://wandb.ai/arunangshudutta218-iitm/dl_assgn_1_q_8</a><br>Synced 5 W&B file(s), 0 media file(s), 0 artifact file(s) and 0 other file(s)"
            ]
          },
          "metadata": {}
        },
        {
          "output_type": "display_data",
          "data": {
            "text/plain": [
              "<IPython.core.display.HTML object>"
            ],
            "text/html": [
              "Find logs at: <code>./wandb/run-20250317_135140-2a7cmexs/logs</code>"
            ]
          },
          "metadata": {}
        },
        {
          "output_type": "stream",
          "name": "stderr",
          "text": [
            "\u001b[34m\u001b[1mwandb\u001b[0m: Agent Starting Run: r59us7y8 with config:\n",
            "\u001b[34m\u001b[1mwandb\u001b[0m: \tactivation: tanh\n",
            "\u001b[34m\u001b[1mwandb\u001b[0m: \tbatch_size: 32\n",
            "\u001b[34m\u001b[1mwandb\u001b[0m: \tepochs: 5\n",
            "\u001b[34m\u001b[1mwandb\u001b[0m: \thidden_size: 64\n",
            "\u001b[34m\u001b[1mwandb\u001b[0m: \tlearning_rate: 0.0001\n",
            "\u001b[34m\u001b[1mwandb\u001b[0m: \tloss_function: squared_error\n",
            "\u001b[34m\u001b[1mwandb\u001b[0m: \tnum_layers: 4\n",
            "\u001b[34m\u001b[1mwandb\u001b[0m: \toptimizer: nadam\n",
            "\u001b[34m\u001b[1mwandb\u001b[0m: \tweight_decay: 0.0005\n",
            "\u001b[34m\u001b[1mwandb\u001b[0m: \tweight_init: Xavier\n"
          ]
        },
        {
          "output_type": "display_data",
          "data": {
            "text/plain": [
              "<IPython.core.display.HTML object>"
            ],
            "text/html": [
              "Tracking run with wandb version 0.19.8"
            ]
          },
          "metadata": {}
        },
        {
          "output_type": "display_data",
          "data": {
            "text/plain": [
              "<IPython.core.display.HTML object>"
            ],
            "text/html": [
              "Run data is saved locally in <code>/content/wandb/run-20250317_135235-r59us7y8</code>"
            ]
          },
          "metadata": {}
        },
        {
          "output_type": "display_data",
          "data": {
            "text/plain": [
              "<IPython.core.display.HTML object>"
            ],
            "text/html": [
              "Syncing run <strong><a href='https://wandb.ai/arunangshudutta218-iitm/dl_assgn_1_q_8/runs/r59us7y8' target=\"_blank\">summer-sweep-35</a></strong> to <a href='https://wandb.ai/arunangshudutta218-iitm/dl_assgn_1_q_8' target=\"_blank\">Weights & Biases</a> (<a href='https://wandb.me/developer-guide' target=\"_blank\">docs</a>)<br>Sweep page: <a href='https://wandb.ai/arunangshudutta218-iitm/dl_assgn_1_q_8/sweeps/28yyx0vh' target=\"_blank\">https://wandb.ai/arunangshudutta218-iitm/dl_assgn_1_q_8/sweeps/28yyx0vh</a>"
            ]
          },
          "metadata": {}
        },
        {
          "output_type": "display_data",
          "data": {
            "text/plain": [
              "<IPython.core.display.HTML object>"
            ],
            "text/html": [
              " View project at <a href='https://wandb.ai/arunangshudutta218-iitm/dl_assgn_1_q_8' target=\"_blank\">https://wandb.ai/arunangshudutta218-iitm/dl_assgn_1_q_8</a>"
            ]
          },
          "metadata": {}
        },
        {
          "output_type": "display_data",
          "data": {
            "text/plain": [
              "<IPython.core.display.HTML object>"
            ],
            "text/html": [
              " View sweep at <a href='https://wandb.ai/arunangshudutta218-iitm/dl_assgn_1_q_8/sweeps/28yyx0vh' target=\"_blank\">https://wandb.ai/arunangshudutta218-iitm/dl_assgn_1_q_8/sweeps/28yyx0vh</a>"
            ]
          },
          "metadata": {}
        },
        {
          "output_type": "display_data",
          "data": {
            "text/plain": [
              "<IPython.core.display.HTML object>"
            ],
            "text/html": [
              " View run at <a href='https://wandb.ai/arunangshudutta218-iitm/dl_assgn_1_q_8/runs/r59us7y8' target=\"_blank\">https://wandb.ai/arunangshudutta218-iitm/dl_assgn_1_q_8/runs/r59us7y8</a>"
            ]
          },
          "metadata": {}
        },
        {
          "output_type": "stream",
          "name": "stdout",
          "text": [
            "Hyper parameters: \n",
            "\n",
            "Weight initialization type :  Xavier\n",
            "Optimizer :  nadam\n",
            "Learning rate (initial):  0.0001\n",
            "Batch size:  32\n",
            "-------------------\n",
            "Architecture Description:\n",
            "\n",
            "Layer:  1  ; number of neurons:  64  ; activation function:  tanh\n",
            "Weight matrix dimention (64, 784) Bias vector dimention (64, 1)\n",
            "----------------\n",
            "Layer:  2  ; number of neurons:  64  ; activation function:  tanh\n",
            "Weight matrix dimention (64, 64) Bias vector dimention (64, 1)\n",
            "----------------\n",
            "Layer:  3  ; number of neurons:  64  ; activation function:  tanh\n",
            "Weight matrix dimention (64, 64) Bias vector dimention (64, 1)\n",
            "----------------\n",
            "Layer:  4  ; number of neurons:  64  ; activation function:  tanh\n",
            "Weight matrix dimention (64, 64) Bias vector dimention (64, 1)\n",
            "----------------\n",
            "Layer:  5  ; number of neurons:  10  ; activation function:  softmax\n",
            "Weight matrix dimention (10, 64) Bias vector dimention (10, 1)\n",
            "----------------\n",
            "1312.0\n",
            "\n",
            " Start of training\n",
            "CE Training Loss:  2.408888344839348 SE Training Loss:  0.46234525913937546 Training Accuracy:  2.4309523809523808 CE Test Loss:  2.4058193423113496 SE Test Loss:  0.46202461480525453 Testing Accuracy:  2.488888888888889\n",
            "Epoch:  1\n"
          ]
        },
        {
          "output_type": "stream",
          "name": "stderr",
          "text": [
            "100%|██████████| 1312/1312 [00:06<00:00, 190.11it/s]\n"
          ]
        },
        {
          "output_type": "stream",
          "name": "stdout",
          "text": [
            "CE Training Loss:  0.5370983032237969 SE Training Loss:  0.13113575032882163 Training Accuracy:  81.97857142857143 CE Test Loss:  0.5413485845798908 SE Test Loss:  0.1323340956098747 Testing Accuracy:  81.97222222222223\n",
            "Epoch:  2\n"
          ]
        },
        {
          "output_type": "stream",
          "name": "stderr",
          "text": [
            "100%|██████████| 1312/1312 [00:09<00:00, 136.31it/s]\n"
          ]
        },
        {
          "output_type": "stream",
          "name": "stdout",
          "text": [
            "CE Training Loss:  0.4656424499672919 SE Training Loss:  0.11483711589040335 Training Accuracy:  83.92619047619047 CE Test Loss:  0.47145356676443195 SE Test Loss:  0.11656112701305907 Testing Accuracy:  83.63888888888889\n",
            "Epoch:  3\n"
          ]
        },
        {
          "output_type": "stream",
          "name": "stderr",
          "text": [
            "100%|██████████| 1312/1312 [00:09<00:00, 137.81it/s]\n"
          ]
        },
        {
          "output_type": "stream",
          "name": "stdout",
          "text": [
            "CE Training Loss:  0.43271426901625626 SE Training Loss:  0.1071554273429025 Training Accuracy:  85.15 CE Test Loss:  0.4407326368610023 SE Test Loss:  0.10954937165146293 Testing Accuracy:  84.65\n",
            "Epoch:  4\n"
          ]
        },
        {
          "output_type": "stream",
          "name": "stderr",
          "text": [
            "100%|██████████| 1312/1312 [00:06<00:00, 189.88it/s]\n"
          ]
        },
        {
          "output_type": "stream",
          "name": "stdout",
          "text": [
            "CE Training Loss:  0.4112436297630189 SE Training Loss:  0.10202294498578474 Training Accuracy:  85.94047619047619 CE Test Loss:  0.4213333947070492 SE Test Loss:  0.10503629947692349 Testing Accuracy:  85.49444444444444\n",
            "Epoch:  5\n"
          ]
        },
        {
          "output_type": "stream",
          "name": "stderr",
          "text": [
            "100%|██████████| 1312/1312 [00:09<00:00, 136.11it/s]\n"
          ]
        },
        {
          "output_type": "stream",
          "name": "stdout",
          "text": [
            "CE Training Loss:  0.395677672970118 SE Training Loss:  0.09817036779215 Training Accuracy:  86.44047619047619 CE Test Loss:  0.4077347549469648 SE Test Loss:  0.10182372871777026 Testing Accuracy:  85.88333333333334\n"
          ]
        },
        {
          "output_type": "display_data",
          "data": {
            "text/plain": [
              "<IPython.core.display.HTML object>"
            ],
            "text/html": []
          },
          "metadata": {}
        },
        {
          "output_type": "display_data",
          "data": {
            "text/plain": [
              "<IPython.core.display.HTML object>"
            ],
            "text/html": [
              "<br>    <style><br>        .wandb-row {<br>            display: flex;<br>            flex-direction: row;<br>            flex-wrap: wrap;<br>            justify-content: flex-start;<br>            width: 100%;<br>        }<br>        .wandb-col {<br>            display: flex;<br>            flex-direction: column;<br>            flex-basis: 100%;<br>            flex: 1;<br>            padding: 10px;<br>        }<br>    </style><br><div class=\"wandb-row\"><div class=\"wandb-col\"><h3>Run history:</h3><br/><table class=\"wandb\"><tr><td>tr_accuracy</td><td>▁█████</td></tr><tr><td>tr_loss_CE</td><td>█▁▁▁▁▁</td></tr><tr><td>tr_loss_SE</td><td>█▂▁▁▁▁</td></tr><tr><td>val_accuracy</td><td>▁█████</td></tr><tr><td>val_loss_CE</td><td>█▁▁▁▁▁</td></tr><tr><td>val_loss_SE</td><td>█▂▁▁▁▁</td></tr></table><br/></div><div class=\"wandb-col\"><h3>Run summary:</h3><br/><table class=\"wandb\"><tr><td>tr_accuracy</td><td>86.44048</td></tr><tr><td>tr_loss_CE</td><td>0.39568</td></tr><tr><td>tr_loss_SE</td><td>0.09817</td></tr><tr><td>val_accuracy</td><td>85.88333</td></tr><tr><td>val_loss_CE</td><td>0.40773</td></tr><tr><td>val_loss_SE</td><td>0.10182</td></tr></table><br/></div></div>"
            ]
          },
          "metadata": {}
        },
        {
          "output_type": "display_data",
          "data": {
            "text/plain": [
              "<IPython.core.display.HTML object>"
            ],
            "text/html": [
              " View run <strong style=\"color:#cdcd00\">e_5_hl_4_hs_64_lr_0.0001_opt_nadam_bs_32_init_Xavier_ac_tanh_l2_0.0005</strong> at: <a href='https://wandb.ai/arunangshudutta218-iitm/dl_assgn_1_q_8/runs/r59us7y8' target=\"_blank\">https://wandb.ai/arunangshudutta218-iitm/dl_assgn_1_q_8/runs/r59us7y8</a><br> View project at: <a href='https://wandb.ai/arunangshudutta218-iitm/dl_assgn_1_q_8' target=\"_blank\">https://wandb.ai/arunangshudutta218-iitm/dl_assgn_1_q_8</a><br>Synced 5 W&B file(s), 0 media file(s), 0 artifact file(s) and 0 other file(s)"
            ]
          },
          "metadata": {}
        },
        {
          "output_type": "display_data",
          "data": {
            "text/plain": [
              "<IPython.core.display.HTML object>"
            ],
            "text/html": [
              "Find logs at: <code>./wandb/run-20250317_135235-r59us7y8/logs</code>"
            ]
          },
          "metadata": {}
        },
        {
          "output_type": "stream",
          "name": "stderr",
          "text": [
            "\u001b[34m\u001b[1mwandb\u001b[0m: Agent Starting Run: 7znbjkvo with config:\n",
            "\u001b[34m\u001b[1mwandb\u001b[0m: \tactivation: tanh\n",
            "\u001b[34m\u001b[1mwandb\u001b[0m: \tbatch_size: 32\n",
            "\u001b[34m\u001b[1mwandb\u001b[0m: \tepochs: 5\n",
            "\u001b[34m\u001b[1mwandb\u001b[0m: \thidden_size: 64\n",
            "\u001b[34m\u001b[1mwandb\u001b[0m: \tlearning_rate: 0.0001\n",
            "\u001b[34m\u001b[1mwandb\u001b[0m: \tloss_function: squared_error\n",
            "\u001b[34m\u001b[1mwandb\u001b[0m: \tnum_layers: 4\n",
            "\u001b[34m\u001b[1mwandb\u001b[0m: \toptimizer: nadam\n",
            "\u001b[34m\u001b[1mwandb\u001b[0m: \tweight_decay: 0.5\n",
            "\u001b[34m\u001b[1mwandb\u001b[0m: \tweight_init: Xavier\n"
          ]
        },
        {
          "output_type": "display_data",
          "data": {
            "text/plain": [
              "<IPython.core.display.HTML object>"
            ],
            "text/html": [
              "Tracking run with wandb version 0.19.8"
            ]
          },
          "metadata": {}
        },
        {
          "output_type": "display_data",
          "data": {
            "text/plain": [
              "<IPython.core.display.HTML object>"
            ],
            "text/html": [
              "Run data is saved locally in <code>/content/wandb/run-20250317_135335-7znbjkvo</code>"
            ]
          },
          "metadata": {}
        },
        {
          "output_type": "display_data",
          "data": {
            "text/plain": [
              "<IPython.core.display.HTML object>"
            ],
            "text/html": [
              "Syncing run <strong><a href='https://wandb.ai/arunangshudutta218-iitm/dl_assgn_1_q_8/runs/7znbjkvo' target=\"_blank\">wild-sweep-36</a></strong> to <a href='https://wandb.ai/arunangshudutta218-iitm/dl_assgn_1_q_8' target=\"_blank\">Weights & Biases</a> (<a href='https://wandb.me/developer-guide' target=\"_blank\">docs</a>)<br>Sweep page: <a href='https://wandb.ai/arunangshudutta218-iitm/dl_assgn_1_q_8/sweeps/28yyx0vh' target=\"_blank\">https://wandb.ai/arunangshudutta218-iitm/dl_assgn_1_q_8/sweeps/28yyx0vh</a>"
            ]
          },
          "metadata": {}
        },
        {
          "output_type": "display_data",
          "data": {
            "text/plain": [
              "<IPython.core.display.HTML object>"
            ],
            "text/html": [
              " View project at <a href='https://wandb.ai/arunangshudutta218-iitm/dl_assgn_1_q_8' target=\"_blank\">https://wandb.ai/arunangshudutta218-iitm/dl_assgn_1_q_8</a>"
            ]
          },
          "metadata": {}
        },
        {
          "output_type": "display_data",
          "data": {
            "text/plain": [
              "<IPython.core.display.HTML object>"
            ],
            "text/html": [
              " View sweep at <a href='https://wandb.ai/arunangshudutta218-iitm/dl_assgn_1_q_8/sweeps/28yyx0vh' target=\"_blank\">https://wandb.ai/arunangshudutta218-iitm/dl_assgn_1_q_8/sweeps/28yyx0vh</a>"
            ]
          },
          "metadata": {}
        },
        {
          "output_type": "display_data",
          "data": {
            "text/plain": [
              "<IPython.core.display.HTML object>"
            ],
            "text/html": [
              " View run at <a href='https://wandb.ai/arunangshudutta218-iitm/dl_assgn_1_q_8/runs/7znbjkvo' target=\"_blank\">https://wandb.ai/arunangshudutta218-iitm/dl_assgn_1_q_8/runs/7znbjkvo</a>"
            ]
          },
          "metadata": {}
        },
        {
          "output_type": "stream",
          "name": "stdout",
          "text": [
            "Hyper parameters: \n",
            "\n",
            "Weight initialization type :  Xavier\n",
            "Optimizer :  nadam\n",
            "Learning rate (initial):  0.0001\n",
            "Batch size:  32\n",
            "-------------------\n",
            "Architecture Description:\n",
            "\n",
            "Layer:  1  ; number of neurons:  64  ; activation function:  tanh\n",
            "Weight matrix dimention (64, 784) Bias vector dimention (64, 1)\n",
            "----------------\n",
            "Layer:  2  ; number of neurons:  64  ; activation function:  tanh\n",
            "Weight matrix dimention (64, 64) Bias vector dimention (64, 1)\n",
            "----------------\n",
            "Layer:  3  ; number of neurons:  64  ; activation function:  tanh\n",
            "Weight matrix dimention (64, 64) Bias vector dimention (64, 1)\n",
            "----------------\n",
            "Layer:  4  ; number of neurons:  64  ; activation function:  tanh\n",
            "Weight matrix dimention (64, 64) Bias vector dimention (64, 1)\n",
            "----------------\n",
            "Layer:  5  ; number of neurons:  10  ; activation function:  softmax\n",
            "Weight matrix dimention (10, 64) Bias vector dimention (10, 1)\n",
            "----------------\n",
            "1312.0\n",
            "\n",
            " Start of training\n",
            "CE Training Loss:  2.4668177026155265 SE Training Loss:  0.46668261412845313 Training Accuracy:  7.269047619047619 CE Test Loss:  2.4706912351722936 SE Test Loss:  0.46716579174515693 Testing Accuracy:  7.155555555555556\n",
            "Epoch:  1\n"
          ]
        },
        {
          "output_type": "stream",
          "name": "stderr",
          "text": [
            "100%|██████████| 1312/1312 [00:06<00:00, 189.29it/s]\n"
          ]
        },
        {
          "output_type": "stream",
          "name": "stdout",
          "text": [
            "CE Training Loss:  1.1037166852777396 SE Training Loss:  0.2563549210345856 Training Accuracy:  65.3952380952381 CE Test Loss:  1.1070640214742116 SE Test Loss:  0.25725473333576654 Testing Accuracy:  64.98333333333333\n",
            "Epoch:  2\n"
          ]
        },
        {
          "output_type": "stream",
          "name": "stderr",
          "text": [
            "100%|██████████| 1312/1312 [00:09<00:00, 135.23it/s]\n"
          ]
        },
        {
          "output_type": "stream",
          "name": "stdout",
          "text": [
            "CE Training Loss:  1.020139371064406 SE Training Loss:  0.24611896128681351 Training Accuracy:  67.18809523809524 CE Test Loss:  1.023623740243421 SE Test Loss:  0.24724661391238983 Testing Accuracy:  66.94444444444444\n",
            "Epoch:  3\n"
          ]
        },
        {
          "output_type": "stream",
          "name": "stderr",
          "text": [
            "100%|██████████| 1312/1312 [00:09<00:00, 141.61it/s]\n"
          ]
        },
        {
          "output_type": "stream",
          "name": "stdout",
          "text": [
            "CE Training Loss:  0.9709026846811926 SE Training Loss:  0.23559996694655216 Training Accuracy:  69.42142857142858 CE Test Loss:  0.9750556864710983 SE Test Loss:  0.23696313336129238 Testing Accuracy:  68.92777777777778\n",
            "Epoch:  4\n"
          ]
        },
        {
          "output_type": "stream",
          "name": "stderr",
          "text": [
            "100%|██████████| 1312/1312 [00:06<00:00, 187.82it/s]\n"
          ]
        },
        {
          "output_type": "stream",
          "name": "stdout",
          "text": [
            "CE Training Loss:  0.9512028777341978 SE Training Loss:  0.23149722146017276 Training Accuracy:  70.1547619047619 CE Test Loss:  0.9557363535482487 SE Test Loss:  0.23296431279399854 Testing Accuracy:  69.72222222222223\n",
            "Epoch:  5\n"
          ]
        },
        {
          "output_type": "stream",
          "name": "stderr",
          "text": [
            "100%|██████████| 1312/1312 [00:09<00:00, 134.79it/s]\n"
          ]
        },
        {
          "output_type": "stream",
          "name": "stdout",
          "text": [
            "CE Training Loss:  0.9420642416621274 SE Training Loss:  0.22964145690798665 Training Accuracy:  70.45952380952382 CE Test Loss:  0.9468082840319623 SE Test Loss:  0.23115253490593968 Testing Accuracy:  70.07777777777778\n"
          ]
        },
        {
          "output_type": "display_data",
          "data": {
            "text/plain": [
              "<IPython.core.display.HTML object>"
            ],
            "text/html": []
          },
          "metadata": {}
        },
        {
          "output_type": "display_data",
          "data": {
            "text/plain": [
              "<IPython.core.display.HTML object>"
            ],
            "text/html": [
              "<br>    <style><br>        .wandb-row {<br>            display: flex;<br>            flex-direction: row;<br>            flex-wrap: wrap;<br>            justify-content: flex-start;<br>            width: 100%;<br>        }<br>        .wandb-col {<br>            display: flex;<br>            flex-direction: column;<br>            flex-basis: 100%;<br>            flex: 1;<br>            padding: 10px;<br>        }<br>    </style><br><div class=\"wandb-row\"><div class=\"wandb-col\"><h3>Run history:</h3><br/><table class=\"wandb\"><tr><td>tr_accuracy</td><td>▁▇████</td></tr><tr><td>tr_loss_CE</td><td>█▂▁▁▁▁</td></tr><tr><td>tr_loss_SE</td><td>█▂▁▁▁▁</td></tr><tr><td>val_accuracy</td><td>▁▇████</td></tr><tr><td>val_loss_CE</td><td>█▂▁▁▁▁</td></tr><tr><td>val_loss_SE</td><td>█▂▁▁▁▁</td></tr></table><br/></div><div class=\"wandb-col\"><h3>Run summary:</h3><br/><table class=\"wandb\"><tr><td>tr_accuracy</td><td>70.45952</td></tr><tr><td>tr_loss_CE</td><td>0.94206</td></tr><tr><td>tr_loss_SE</td><td>0.22964</td></tr><tr><td>val_accuracy</td><td>70.07778</td></tr><tr><td>val_loss_CE</td><td>0.94681</td></tr><tr><td>val_loss_SE</td><td>0.23115</td></tr></table><br/></div></div>"
            ]
          },
          "metadata": {}
        },
        {
          "output_type": "display_data",
          "data": {
            "text/plain": [
              "<IPython.core.display.HTML object>"
            ],
            "text/html": [
              " View run <strong style=\"color:#cdcd00\">e_5_hl_4_hs_64_lr_0.0001_opt_nadam_bs_32_init_Xavier_ac_tanh_l2_0.5</strong> at: <a href='https://wandb.ai/arunangshudutta218-iitm/dl_assgn_1_q_8/runs/7znbjkvo' target=\"_blank\">https://wandb.ai/arunangshudutta218-iitm/dl_assgn_1_q_8/runs/7znbjkvo</a><br> View project at: <a href='https://wandb.ai/arunangshudutta218-iitm/dl_assgn_1_q_8' target=\"_blank\">https://wandb.ai/arunangshudutta218-iitm/dl_assgn_1_q_8</a><br>Synced 5 W&B file(s), 0 media file(s), 0 artifact file(s) and 0 other file(s)"
            ]
          },
          "metadata": {}
        },
        {
          "output_type": "display_data",
          "data": {
            "text/plain": [
              "<IPython.core.display.HTML object>"
            ],
            "text/html": [
              "Find logs at: <code>./wandb/run-20250317_135335-7znbjkvo/logs</code>"
            ]
          },
          "metadata": {}
        },
        {
          "output_type": "stream",
          "name": "stderr",
          "text": [
            "\u001b[34m\u001b[1mwandb\u001b[0m: Sweep Agent: Waiting for job.\n",
            "\u001b[34m\u001b[1mwandb\u001b[0m: Job received.\n",
            "\u001b[34m\u001b[1mwandb\u001b[0m: Agent Starting Run: c76ubttf with config:\n",
            "\u001b[34m\u001b[1mwandb\u001b[0m: \tactivation: ReLU\n",
            "\u001b[34m\u001b[1mwandb\u001b[0m: \tbatch_size: 32\n",
            "\u001b[34m\u001b[1mwandb\u001b[0m: \tepochs: 5\n",
            "\u001b[34m\u001b[1mwandb\u001b[0m: \thidden_size: 64\n",
            "\u001b[34m\u001b[1mwandb\u001b[0m: \tlearning_rate: 0.001\n",
            "\u001b[34m\u001b[1mwandb\u001b[0m: \tloss_function: cross_entropy\n",
            "\u001b[34m\u001b[1mwandb\u001b[0m: \tnum_layers: 4\n",
            "\u001b[34m\u001b[1mwandb\u001b[0m: \toptimizer: rmsprop\n",
            "\u001b[34m\u001b[1mwandb\u001b[0m: \tweight_decay: 0\n",
            "\u001b[34m\u001b[1mwandb\u001b[0m: \tweight_init: Xavier\n"
          ]
        },
        {
          "output_type": "display_data",
          "data": {
            "text/plain": [
              "<IPython.core.display.HTML object>"
            ],
            "text/html": [
              "Tracking run with wandb version 0.19.8"
            ]
          },
          "metadata": {}
        },
        {
          "output_type": "display_data",
          "data": {
            "text/plain": [
              "<IPython.core.display.HTML object>"
            ],
            "text/html": [
              "Run data is saved locally in <code>/content/wandb/run-20250317_135442-c76ubttf</code>"
            ]
          },
          "metadata": {}
        },
        {
          "output_type": "display_data",
          "data": {
            "text/plain": [
              "<IPython.core.display.HTML object>"
            ],
            "text/html": [
              "Syncing run <strong><a href='https://wandb.ai/arunangshudutta218-iitm/dl_assgn_1_q_8/runs/c76ubttf' target=\"_blank\">curious-sweep-37</a></strong> to <a href='https://wandb.ai/arunangshudutta218-iitm/dl_assgn_1_q_8' target=\"_blank\">Weights & Biases</a> (<a href='https://wandb.me/developer-guide' target=\"_blank\">docs</a>)<br>Sweep page: <a href='https://wandb.ai/arunangshudutta218-iitm/dl_assgn_1_q_8/sweeps/28yyx0vh' target=\"_blank\">https://wandb.ai/arunangshudutta218-iitm/dl_assgn_1_q_8/sweeps/28yyx0vh</a>"
            ]
          },
          "metadata": {}
        },
        {
          "output_type": "display_data",
          "data": {
            "text/plain": [
              "<IPython.core.display.HTML object>"
            ],
            "text/html": [
              " View project at <a href='https://wandb.ai/arunangshudutta218-iitm/dl_assgn_1_q_8' target=\"_blank\">https://wandb.ai/arunangshudutta218-iitm/dl_assgn_1_q_8</a>"
            ]
          },
          "metadata": {}
        },
        {
          "output_type": "display_data",
          "data": {
            "text/plain": [
              "<IPython.core.display.HTML object>"
            ],
            "text/html": [
              " View sweep at <a href='https://wandb.ai/arunangshudutta218-iitm/dl_assgn_1_q_8/sweeps/28yyx0vh' target=\"_blank\">https://wandb.ai/arunangshudutta218-iitm/dl_assgn_1_q_8/sweeps/28yyx0vh</a>"
            ]
          },
          "metadata": {}
        },
        {
          "output_type": "display_data",
          "data": {
            "text/plain": [
              "<IPython.core.display.HTML object>"
            ],
            "text/html": [
              " View run at <a href='https://wandb.ai/arunangshudutta218-iitm/dl_assgn_1_q_8/runs/c76ubttf' target=\"_blank\">https://wandb.ai/arunangshudutta218-iitm/dl_assgn_1_q_8/runs/c76ubttf</a>"
            ]
          },
          "metadata": {}
        },
        {
          "output_type": "stream",
          "name": "stdout",
          "text": [
            "Hyper parameters: \n",
            "\n",
            "Weight initialization type :  Xavier\n",
            "Optimizer :  rmsprop\n",
            "Learning rate (initial):  0.001\n",
            "Batch size:  32\n",
            "-------------------\n",
            "Architecture Description:\n",
            "\n",
            "Layer:  1  ; number of neurons:  64  ; activation function:  ReLU\n",
            "Weight matrix dimention (64, 784) Bias vector dimention (64, 1)\n",
            "----------------\n",
            "Layer:  2  ; number of neurons:  64  ; activation function:  ReLU\n",
            "Weight matrix dimention (64, 64) Bias vector dimention (64, 1)\n",
            "----------------\n",
            "Layer:  3  ; number of neurons:  64  ; activation function:  ReLU\n",
            "Weight matrix dimention (64, 64) Bias vector dimention (64, 1)\n",
            "----------------\n",
            "Layer:  4  ; number of neurons:  64  ; activation function:  ReLU\n",
            "Weight matrix dimention (64, 64) Bias vector dimention (64, 1)\n",
            "----------------\n",
            "Layer:  5  ; number of neurons:  10  ; activation function:  softmax\n",
            "Weight matrix dimention (10, 64) Bias vector dimention (10, 1)\n",
            "----------------\n",
            "1312.0\n",
            "\n",
            " Start of training\n",
            "CE Training Loss:  2.3106843221700775 SE Training Loss:  0.45098535498143455 Training Accuracy:  5.173809523809524 CE Test Loss:  2.3091089121035093 SE Test Loss:  0.45082154391822915 Testing Accuracy:  4.783333333333333\n",
            "Epoch:  1\n"
          ]
        },
        {
          "output_type": "stream",
          "name": "stderr",
          "text": [
            "100%|██████████| 1312/1312 [00:04<00:00, 294.73it/s]\n"
          ]
        },
        {
          "output_type": "stream",
          "name": "stdout",
          "text": [
            "CE Training Loss:  0.5006927126205948 SE Training Loss:  0.12535455371002177 Training Accuracy:  82.57619047619048 CE Test Loss:  0.5128596085201874 SE Test Loss:  0.12739705536263615 Testing Accuracy:  82.2611111111111\n",
            "Epoch:  2\n"
          ]
        },
        {
          "output_type": "stream",
          "name": "stderr",
          "text": [
            "100%|██████████| 1312/1312 [00:05<00:00, 255.67it/s]\n"
          ]
        },
        {
          "output_type": "stream",
          "name": "stdout",
          "text": [
            "CE Training Loss:  0.4853102343610469 SE Training Loss:  0.11741354707018159 Training Accuracy:  83.73809523809524 CE Test Loss:  0.5092118718755119 SE Test Loss:  0.1206562697636349 Testing Accuracy:  83.29444444444445\n",
            "Epoch:  3\n"
          ]
        },
        {
          "output_type": "stream",
          "name": "stderr",
          "text": [
            "100%|██████████| 1312/1312 [00:03<00:00, 356.04it/s]\n"
          ]
        },
        {
          "output_type": "stream",
          "name": "stdout",
          "text": [
            "CE Training Loss:  0.5162198389078357 SE Training Loss:  0.11815995613762709 Training Accuracy:  83.41904761904762 CE Test Loss:  0.5567018139995835 SE Test Loss:  0.12431309866740944 Testing Accuracy:  82.45\n",
            "Epoch:  4\n"
          ]
        },
        {
          "output_type": "stream",
          "name": "stderr",
          "text": [
            "100%|██████████| 1312/1312 [00:05<00:00, 260.63it/s]\n"
          ]
        },
        {
          "output_type": "stream",
          "name": "stdout",
          "text": [
            "CE Training Loss:  0.48040887426577616 SE Training Loss:  0.10610257051042453 Training Accuracy:  85.30952380952381 CE Test Loss:  0.5394752229145625 SE Test Loss:  0.11238686421859266 Testing Accuracy:  84.62777777777778\n",
            "Epoch:  5\n"
          ]
        },
        {
          "output_type": "stream",
          "name": "stderr",
          "text": [
            "100%|██████████| 1312/1312 [00:04<00:00, 265.33it/s]\n"
          ]
        },
        {
          "output_type": "stream",
          "name": "stdout",
          "text": [
            "CE Training Loss:  0.49827291315510835 SE Training Loss:  0.11085302143240991 Training Accuracy:  84.5 CE Test Loss:  0.5592222345688689 SE Test Loss:  0.1177544332562356 Testing Accuracy:  83.68333333333334\n"
          ]
        },
        {
          "output_type": "display_data",
          "data": {
            "text/plain": [
              "<IPython.core.display.HTML object>"
            ],
            "text/html": []
          },
          "metadata": {}
        },
        {
          "output_type": "display_data",
          "data": {
            "text/plain": [
              "<IPython.core.display.HTML object>"
            ],
            "text/html": [
              "<br>    <style><br>        .wandb-row {<br>            display: flex;<br>            flex-direction: row;<br>            flex-wrap: wrap;<br>            justify-content: flex-start;<br>            width: 100%;<br>        }<br>        .wandb-col {<br>            display: flex;<br>            flex-direction: column;<br>            flex-basis: 100%;<br>            flex: 1;<br>            padding: 10px;<br>        }<br>    </style><br><div class=\"wandb-row\"><div class=\"wandb-col\"><h3>Run history:</h3><br/><table class=\"wandb\"><tr><td>tr_accuracy</td><td>▁█████</td></tr><tr><td>tr_loss_CE</td><td>█▁▁▁▁▁</td></tr><tr><td>tr_loss_SE</td><td>█▁▁▁▁▁</td></tr><tr><td>val_accuracy</td><td>▁█████</td></tr><tr><td>val_loss_CE</td><td>█▁▁▁▁▁</td></tr><tr><td>val_loss_SE</td><td>█▁▁▁▁▁</td></tr></table><br/></div><div class=\"wandb-col\"><h3>Run summary:</h3><br/><table class=\"wandb\"><tr><td>tr_accuracy</td><td>84.5</td></tr><tr><td>tr_loss_CE</td><td>0.49827</td></tr><tr><td>tr_loss_SE</td><td>0.11085</td></tr><tr><td>val_accuracy</td><td>83.68333</td></tr><tr><td>val_loss_CE</td><td>0.55922</td></tr><tr><td>val_loss_SE</td><td>0.11775</td></tr></table><br/></div></div>"
            ]
          },
          "metadata": {}
        },
        {
          "output_type": "display_data",
          "data": {
            "text/plain": [
              "<IPython.core.display.HTML object>"
            ],
            "text/html": [
              " View run <strong style=\"color:#cdcd00\">e_5_hl_4_hs_64_lr_0.001_opt_rmsprop_bs_32_init_Xavier_ac_ReLU_l2_0</strong> at: <a href='https://wandb.ai/arunangshudutta218-iitm/dl_assgn_1_q_8/runs/c76ubttf' target=\"_blank\">https://wandb.ai/arunangshudutta218-iitm/dl_assgn_1_q_8/runs/c76ubttf</a><br> View project at: <a href='https://wandb.ai/arunangshudutta218-iitm/dl_assgn_1_q_8' target=\"_blank\">https://wandb.ai/arunangshudutta218-iitm/dl_assgn_1_q_8</a><br>Synced 5 W&B file(s), 0 media file(s), 0 artifact file(s) and 0 other file(s)"
            ]
          },
          "metadata": {}
        },
        {
          "output_type": "display_data",
          "data": {
            "text/plain": [
              "<IPython.core.display.HTML object>"
            ],
            "text/html": [
              "Find logs at: <code>./wandb/run-20250317_135442-c76ubttf/logs</code>"
            ]
          },
          "metadata": {}
        },
        {
          "output_type": "stream",
          "name": "stderr",
          "text": [
            "\u001b[34m\u001b[1mwandb\u001b[0m: Agent Starting Run: a4l3874t with config:\n",
            "\u001b[34m\u001b[1mwandb\u001b[0m: \tactivation: ReLU\n",
            "\u001b[34m\u001b[1mwandb\u001b[0m: \tbatch_size: 32\n",
            "\u001b[34m\u001b[1mwandb\u001b[0m: \tepochs: 5\n",
            "\u001b[34m\u001b[1mwandb\u001b[0m: \thidden_size: 64\n",
            "\u001b[34m\u001b[1mwandb\u001b[0m: \tlearning_rate: 0.001\n",
            "\u001b[34m\u001b[1mwandb\u001b[0m: \tloss_function: cross_entropy\n",
            "\u001b[34m\u001b[1mwandb\u001b[0m: \tnum_layers: 4\n",
            "\u001b[34m\u001b[1mwandb\u001b[0m: \toptimizer: rmsprop\n",
            "\u001b[34m\u001b[1mwandb\u001b[0m: \tweight_decay: 0.0005\n",
            "\u001b[34m\u001b[1mwandb\u001b[0m: \tweight_init: Xavier\n"
          ]
        },
        {
          "output_type": "display_data",
          "data": {
            "text/plain": [
              "<IPython.core.display.HTML object>"
            ],
            "text/html": [
              "Tracking run with wandb version 0.19.8"
            ]
          },
          "metadata": {}
        },
        {
          "output_type": "display_data",
          "data": {
            "text/plain": [
              "<IPython.core.display.HTML object>"
            ],
            "text/html": [
              "Run data is saved locally in <code>/content/wandb/run-20250317_135518-a4l3874t</code>"
            ]
          },
          "metadata": {}
        },
        {
          "output_type": "display_data",
          "data": {
            "text/plain": [
              "<IPython.core.display.HTML object>"
            ],
            "text/html": [
              "Syncing run <strong><a href='https://wandb.ai/arunangshudutta218-iitm/dl_assgn_1_q_8/runs/a4l3874t' target=\"_blank\">still-sweep-38</a></strong> to <a href='https://wandb.ai/arunangshudutta218-iitm/dl_assgn_1_q_8' target=\"_blank\">Weights & Biases</a> (<a href='https://wandb.me/developer-guide' target=\"_blank\">docs</a>)<br>Sweep page: <a href='https://wandb.ai/arunangshudutta218-iitm/dl_assgn_1_q_8/sweeps/28yyx0vh' target=\"_blank\">https://wandb.ai/arunangshudutta218-iitm/dl_assgn_1_q_8/sweeps/28yyx0vh</a>"
            ]
          },
          "metadata": {}
        },
        {
          "output_type": "display_data",
          "data": {
            "text/plain": [
              "<IPython.core.display.HTML object>"
            ],
            "text/html": [
              " View project at <a href='https://wandb.ai/arunangshudutta218-iitm/dl_assgn_1_q_8' target=\"_blank\">https://wandb.ai/arunangshudutta218-iitm/dl_assgn_1_q_8</a>"
            ]
          },
          "metadata": {}
        },
        {
          "output_type": "display_data",
          "data": {
            "text/plain": [
              "<IPython.core.display.HTML object>"
            ],
            "text/html": [
              " View sweep at <a href='https://wandb.ai/arunangshudutta218-iitm/dl_assgn_1_q_8/sweeps/28yyx0vh' target=\"_blank\">https://wandb.ai/arunangshudutta218-iitm/dl_assgn_1_q_8/sweeps/28yyx0vh</a>"
            ]
          },
          "metadata": {}
        },
        {
          "output_type": "display_data",
          "data": {
            "text/plain": [
              "<IPython.core.display.HTML object>"
            ],
            "text/html": [
              " View run at <a href='https://wandb.ai/arunangshudutta218-iitm/dl_assgn_1_q_8/runs/a4l3874t' target=\"_blank\">https://wandb.ai/arunangshudutta218-iitm/dl_assgn_1_q_8/runs/a4l3874t</a>"
            ]
          },
          "metadata": {}
        },
        {
          "output_type": "stream",
          "name": "stdout",
          "text": [
            "Hyper parameters: \n",
            "\n",
            "Weight initialization type :  Xavier\n",
            "Optimizer :  rmsprop\n",
            "Learning rate (initial):  0.001\n",
            "Batch size:  32\n",
            "-------------------\n",
            "Architecture Description:\n",
            "\n",
            "Layer:  1  ; number of neurons:  64  ; activation function:  ReLU\n",
            "Weight matrix dimention (64, 784) Bias vector dimention (64, 1)\n",
            "----------------\n",
            "Layer:  2  ; number of neurons:  64  ; activation function:  ReLU\n",
            "Weight matrix dimention (64, 64) Bias vector dimention (64, 1)\n",
            "----------------\n",
            "Layer:  3  ; number of neurons:  64  ; activation function:  ReLU\n",
            "Weight matrix dimention (64, 64) Bias vector dimention (64, 1)\n",
            "----------------\n",
            "Layer:  4  ; number of neurons:  64  ; activation function:  ReLU\n",
            "Weight matrix dimention (64, 64) Bias vector dimention (64, 1)\n",
            "----------------\n",
            "Layer:  5  ; number of neurons:  10  ; activation function:  softmax\n",
            "Weight matrix dimention (10, 64) Bias vector dimention (10, 1)\n",
            "----------------\n",
            "1312.0\n",
            "\n",
            " Start of training\n",
            "CE Training Loss:  2.343811944172096 SE Training Loss:  0.4541322212620355 Training Accuracy:  6.178571428571429 CE Test Loss:  2.3436292814678836 SE Test Loss:  0.45410715870664786 Testing Accuracy:  6.2\n",
            "Epoch:  1\n"
          ]
        },
        {
          "output_type": "stream",
          "name": "stderr",
          "text": [
            "100%|██████████| 1312/1312 [00:04<00:00, 288.51it/s]\n"
          ]
        },
        {
          "output_type": "stream",
          "name": "stdout",
          "text": [
            "CE Training Loss:  0.4862225333896783 SE Training Loss:  0.12191262748467957 Training Accuracy:  82.7547619047619 CE Test Loss:  0.5005415681832194 SE Test Loss:  0.12328618461074277 Testing Accuracy:  82.7\n",
            "Epoch:  2\n"
          ]
        },
        {
          "output_type": "stream",
          "name": "stderr",
          "text": [
            "100%|██████████| 1312/1312 [00:13<00:00, 100.46it/s]\n"
          ]
        },
        {
          "output_type": "stream",
          "name": "stdout",
          "text": [
            "CE Training Loss:  0.5181062252631036 SE Training Loss:  0.12582603350140725 Training Accuracy:  82.43571428571428 CE Test Loss:  0.5432675259069518 SE Test Loss:  0.12940439313743962 Testing Accuracy:  81.60555555555555\n",
            "Epoch:  3\n"
          ]
        },
        {
          "output_type": "stream",
          "name": "stderr",
          "text": [
            "100%|██████████| 1312/1312 [00:13<00:00, 100.86it/s]\n"
          ]
        },
        {
          "output_type": "stream",
          "name": "stdout",
          "text": [
            "CE Training Loss:  0.5355622666185356 SE Training Loss:  0.12321470682192086 Training Accuracy:  83.05952380952381 CE Test Loss:  0.5806175925379365 SE Test Loss:  0.1280969990235507 Testing Accuracy:  82.65\n",
            "Epoch:  4\n"
          ]
        },
        {
          "output_type": "stream",
          "name": "stderr",
          "text": [
            "100%|██████████| 1312/1312 [00:12<00:00, 105.07it/s]\n"
          ]
        },
        {
          "output_type": "stream",
          "name": "stdout",
          "text": [
            "CE Training Loss:  0.5723851086840612 SE Training Loss:  0.12774406280312803 Training Accuracy:  82.60952380952381 CE Test Loss:  0.6294081028257024 SE Test Loss:  0.13267322494732717 Testing Accuracy:  82.0\n",
            "Epoch:  5\n"
          ]
        },
        {
          "output_type": "stream",
          "name": "stderr",
          "text": [
            "100%|██████████| 1312/1312 [00:14<00:00, 89.01it/s]\n"
          ]
        },
        {
          "output_type": "stream",
          "name": "stdout",
          "text": [
            "CE Training Loss:  0.5516856252168352 SE Training Loss:  0.12095027323668156 Training Accuracy:  83.57380952380953 CE Test Loss:  0.6125414922844835 SE Test Loss:  0.1275620065336542 Testing Accuracy:  82.75555555555556\n"
          ]
        },
        {
          "output_type": "display_data",
          "data": {
            "text/plain": [
              "<IPython.core.display.HTML object>"
            ],
            "text/html": []
          },
          "metadata": {}
        },
        {
          "output_type": "display_data",
          "data": {
            "text/plain": [
              "<IPython.core.display.HTML object>"
            ],
            "text/html": [
              "<br>    <style><br>        .wandb-row {<br>            display: flex;<br>            flex-direction: row;<br>            flex-wrap: wrap;<br>            justify-content: flex-start;<br>            width: 100%;<br>        }<br>        .wandb-col {<br>            display: flex;<br>            flex-direction: column;<br>            flex-basis: 100%;<br>            flex: 1;<br>            padding: 10px;<br>        }<br>    </style><br><div class=\"wandb-row\"><div class=\"wandb-col\"><h3>Run history:</h3><br/><table class=\"wandb\"><tr><td>tr_accuracy</td><td>▁█████</td></tr><tr><td>tr_loss_CE</td><td>█▁▁▁▁▁</td></tr><tr><td>tr_loss_SE</td><td>█▁▁▁▁▁</td></tr><tr><td>val_accuracy</td><td>▁█████</td></tr><tr><td>val_loss_CE</td><td>█▁▁▁▁▁</td></tr><tr><td>val_loss_SE</td><td>█▁▁▁▁▁</td></tr></table><br/></div><div class=\"wandb-col\"><h3>Run summary:</h3><br/><table class=\"wandb\"><tr><td>tr_accuracy</td><td>83.57381</td></tr><tr><td>tr_loss_CE</td><td>0.55169</td></tr><tr><td>tr_loss_SE</td><td>0.12095</td></tr><tr><td>val_accuracy</td><td>82.75556</td></tr><tr><td>val_loss_CE</td><td>0.61254</td></tr><tr><td>val_loss_SE</td><td>0.12756</td></tr></table><br/></div></div>"
            ]
          },
          "metadata": {}
        },
        {
          "output_type": "display_data",
          "data": {
            "text/plain": [
              "<IPython.core.display.HTML object>"
            ],
            "text/html": [
              " View run <strong style=\"color:#cdcd00\">e_5_hl_4_hs_64_lr_0.001_opt_rmsprop_bs_32_init_Xavier_ac_ReLU_l2_0.0005</strong> at: <a href='https://wandb.ai/arunangshudutta218-iitm/dl_assgn_1_q_8/runs/a4l3874t' target=\"_blank\">https://wandb.ai/arunangshudutta218-iitm/dl_assgn_1_q_8/runs/a4l3874t</a><br> View project at: <a href='https://wandb.ai/arunangshudutta218-iitm/dl_assgn_1_q_8' target=\"_blank\">https://wandb.ai/arunangshudutta218-iitm/dl_assgn_1_q_8</a><br>Synced 5 W&B file(s), 0 media file(s), 0 artifact file(s) and 0 other file(s)"
            ]
          },
          "metadata": {}
        },
        {
          "output_type": "display_data",
          "data": {
            "text/plain": [
              "<IPython.core.display.HTML object>"
            ],
            "text/html": [
              "Find logs at: <code>./wandb/run-20250317_135518-a4l3874t/logs</code>"
            ]
          },
          "metadata": {}
        },
        {
          "output_type": "stream",
          "name": "stderr",
          "text": [
            "\u001b[34m\u001b[1mwandb\u001b[0m: Sweep Agent: Waiting for job.\n",
            "\u001b[34m\u001b[1mwandb\u001b[0m: Job received.\n",
            "\u001b[34m\u001b[1mwandb\u001b[0m: Agent Starting Run: dghsxtmg with config:\n",
            "\u001b[34m\u001b[1mwandb\u001b[0m: \tactivation: ReLU\n",
            "\u001b[34m\u001b[1mwandb\u001b[0m: \tbatch_size: 32\n",
            "\u001b[34m\u001b[1mwandb\u001b[0m: \tepochs: 5\n",
            "\u001b[34m\u001b[1mwandb\u001b[0m: \thidden_size: 64\n",
            "\u001b[34m\u001b[1mwandb\u001b[0m: \tlearning_rate: 0.001\n",
            "\u001b[34m\u001b[1mwandb\u001b[0m: \tloss_function: cross_entropy\n",
            "\u001b[34m\u001b[1mwandb\u001b[0m: \tnum_layers: 4\n",
            "\u001b[34m\u001b[1mwandb\u001b[0m: \toptimizer: rmsprop\n",
            "\u001b[34m\u001b[1mwandb\u001b[0m: \tweight_decay: 0.5\n",
            "\u001b[34m\u001b[1mwandb\u001b[0m: \tweight_init: Xavier\n"
          ]
        },
        {
          "output_type": "display_data",
          "data": {
            "text/plain": [
              "<IPython.core.display.HTML object>"
            ],
            "text/html": [
              "Tracking run with wandb version 0.19.8"
            ]
          },
          "metadata": {}
        },
        {
          "output_type": "display_data",
          "data": {
            "text/plain": [
              "<IPython.core.display.HTML object>"
            ],
            "text/html": [
              "Run data is saved locally in <code>/content/wandb/run-20250317_135659-dghsxtmg</code>"
            ]
          },
          "metadata": {}
        },
        {
          "output_type": "display_data",
          "data": {
            "text/plain": [
              "<IPython.core.display.HTML object>"
            ],
            "text/html": [
              "Syncing run <strong><a href='https://wandb.ai/arunangshudutta218-iitm/dl_assgn_1_q_8/runs/dghsxtmg' target=\"_blank\">laced-sweep-39</a></strong> to <a href='https://wandb.ai/arunangshudutta218-iitm/dl_assgn_1_q_8' target=\"_blank\">Weights & Biases</a> (<a href='https://wandb.me/developer-guide' target=\"_blank\">docs</a>)<br>Sweep page: <a href='https://wandb.ai/arunangshudutta218-iitm/dl_assgn_1_q_8/sweeps/28yyx0vh' target=\"_blank\">https://wandb.ai/arunangshudutta218-iitm/dl_assgn_1_q_8/sweeps/28yyx0vh</a>"
            ]
          },
          "metadata": {}
        },
        {
          "output_type": "display_data",
          "data": {
            "text/plain": [
              "<IPython.core.display.HTML object>"
            ],
            "text/html": [
              " View project at <a href='https://wandb.ai/arunangshudutta218-iitm/dl_assgn_1_q_8' target=\"_blank\">https://wandb.ai/arunangshudutta218-iitm/dl_assgn_1_q_8</a>"
            ]
          },
          "metadata": {}
        },
        {
          "output_type": "display_data",
          "data": {
            "text/plain": [
              "<IPython.core.display.HTML object>"
            ],
            "text/html": [
              " View sweep at <a href='https://wandb.ai/arunangshudutta218-iitm/dl_assgn_1_q_8/sweeps/28yyx0vh' target=\"_blank\">https://wandb.ai/arunangshudutta218-iitm/dl_assgn_1_q_8/sweeps/28yyx0vh</a>"
            ]
          },
          "metadata": {}
        },
        {
          "output_type": "display_data",
          "data": {
            "text/plain": [
              "<IPython.core.display.HTML object>"
            ],
            "text/html": [
              " View run at <a href='https://wandb.ai/arunangshudutta218-iitm/dl_assgn_1_q_8/runs/dghsxtmg' target=\"_blank\">https://wandb.ai/arunangshudutta218-iitm/dl_assgn_1_q_8/runs/dghsxtmg</a>"
            ]
          },
          "metadata": {}
        },
        {
          "output_type": "stream",
          "name": "stdout",
          "text": [
            "Hyper parameters: \n",
            "\n",
            "Weight initialization type :  Xavier\n",
            "Optimizer :  rmsprop\n",
            "Learning rate (initial):  0.001\n",
            "Batch size:  32\n",
            "-------------------\n",
            "Architecture Description:\n",
            "\n",
            "Layer:  1  ; number of neurons:  64  ; activation function:  ReLU\n",
            "Weight matrix dimention (64, 784) Bias vector dimention (64, 1)\n",
            "----------------\n",
            "Layer:  2  ; number of neurons:  64  ; activation function:  ReLU\n",
            "Weight matrix dimention (64, 64) Bias vector dimention (64, 1)\n",
            "----------------\n",
            "Layer:  3  ; number of neurons:  64  ; activation function:  ReLU\n",
            "Weight matrix dimention (64, 64) Bias vector dimention (64, 1)\n",
            "----------------\n",
            "Layer:  4  ; number of neurons:  64  ; activation function:  ReLU\n",
            "Weight matrix dimention (64, 64) Bias vector dimention (64, 1)\n",
            "----------------\n",
            "Layer:  5  ; number of neurons:  10  ; activation function:  softmax\n",
            "Weight matrix dimention (10, 64) Bias vector dimention (10, 1)\n",
            "----------------\n",
            "1312.0\n",
            "\n",
            " Start of training\n",
            "CE Training Loss:  2.314799915698758 SE Training Loss:  0.45098149396339354 Training Accuracy:  12.716666666666667 CE Test Loss:  2.3145435443323485 SE Test Loss:  0.4509730819844231 Testing Accuracy:  12.7\n",
            "Epoch:  1\n"
          ]
        },
        {
          "output_type": "stream",
          "name": "stderr",
          "text": [
            "100%|██████████| 1312/1312 [00:06<00:00, 198.10it/s]\n"
          ]
        },
        {
          "output_type": "stream",
          "name": "stdout",
          "text": [
            "CE Training Loss:  0.6209734304428416 SE Training Loss:  0.15927172533871312 Training Accuracy:  76.94285714285714 CE Test Loss:  0.6225024167214759 SE Test Loss:  0.1592498911878455 Testing Accuracy:  76.94444444444444\n",
            "Epoch:  2\n"
          ]
        },
        {
          "output_type": "stream",
          "name": "stderr",
          "text": [
            "100%|██████████| 1312/1312 [00:03<00:00, 366.77it/s]\n"
          ]
        },
        {
          "output_type": "stream",
          "name": "stdout",
          "text": [
            "CE Training Loss:  0.5939082511005433 SE Training Loss:  0.1516493239992606 Training Accuracy:  78.28571428571429 CE Test Loss:  0.5961574709325759 SE Test Loss:  0.15179049692725397 Testing Accuracy:  78.28888888888889\n",
            "Epoch:  3\n"
          ]
        },
        {
          "output_type": "stream",
          "name": "stderr",
          "text": [
            "100%|██████████| 1312/1312 [00:04<00:00, 313.77it/s]\n"
          ]
        },
        {
          "output_type": "stream",
          "name": "stdout",
          "text": [
            "CE Training Loss:  0.5751561236514326 SE Training Loss:  0.14620483081706406 Training Accuracy:  79.1452380952381 CE Test Loss:  0.577991706732631 SE Test Loss:  0.14652379966982731 Testing Accuracy:  79.06111111111112\n",
            "Epoch:  4\n"
          ]
        },
        {
          "output_type": "stream",
          "name": "stderr",
          "text": [
            "100%|██████████| 1312/1312 [00:05<00:00, 240.81it/s]\n"
          ]
        },
        {
          "output_type": "stream",
          "name": "stdout",
          "text": [
            "CE Training Loss:  0.5750130677725893 SE Training Loss:  0.14618249443757203 Training Accuracy:  79.20238095238095 CE Test Loss:  0.5781596887160094 SE Test Loss:  0.14669736896723 Testing Accuracy:  79.19444444444444\n",
            "Epoch:  5\n"
          ]
        },
        {
          "output_type": "stream",
          "name": "stderr",
          "text": [
            "100%|██████████| 1312/1312 [00:03<00:00, 373.95it/s]\n"
          ]
        },
        {
          "output_type": "stream",
          "name": "stdout",
          "text": [
            "CE Training Loss:  0.5687877141680044 SE Training Loss:  0.1444089507991715 Training Accuracy:  79.48809523809524 CE Test Loss:  0.5728029397508071 SE Test Loss:  0.14518691233255454 Testing Accuracy:  79.35555555555555\n"
          ]
        },
        {
          "output_type": "display_data",
          "data": {
            "text/plain": [
              "<IPython.core.display.HTML object>"
            ],
            "text/html": []
          },
          "metadata": {}
        },
        {
          "output_type": "display_data",
          "data": {
            "text/plain": [
              "<IPython.core.display.HTML object>"
            ],
            "text/html": [
              "<br>    <style><br>        .wandb-row {<br>            display: flex;<br>            flex-direction: row;<br>            flex-wrap: wrap;<br>            justify-content: flex-start;<br>            width: 100%;<br>        }<br>        .wandb-col {<br>            display: flex;<br>            flex-direction: column;<br>            flex-basis: 100%;<br>            flex: 1;<br>            padding: 10px;<br>        }<br>    </style><br><div class=\"wandb-row\"><div class=\"wandb-col\"><h3>Run history:</h3><br/><table class=\"wandb\"><tr><td>tr_accuracy</td><td>▁█████</td></tr><tr><td>tr_loss_CE</td><td>█▁▁▁▁▁</td></tr><tr><td>tr_loss_SE</td><td>█▁▁▁▁▁</td></tr><tr><td>val_accuracy</td><td>▁█████</td></tr><tr><td>val_loss_CE</td><td>█▁▁▁▁▁</td></tr><tr><td>val_loss_SE</td><td>█▁▁▁▁▁</td></tr></table><br/></div><div class=\"wandb-col\"><h3>Run summary:</h3><br/><table class=\"wandb\"><tr><td>tr_accuracy</td><td>79.4881</td></tr><tr><td>tr_loss_CE</td><td>0.56879</td></tr><tr><td>tr_loss_SE</td><td>0.14441</td></tr><tr><td>val_accuracy</td><td>79.35556</td></tr><tr><td>val_loss_CE</td><td>0.5728</td></tr><tr><td>val_loss_SE</td><td>0.14519</td></tr></table><br/></div></div>"
            ]
          },
          "metadata": {}
        },
        {
          "output_type": "display_data",
          "data": {
            "text/plain": [
              "<IPython.core.display.HTML object>"
            ],
            "text/html": [
              " View run <strong style=\"color:#cdcd00\">e_5_hl_4_hs_64_lr_0.001_opt_rmsprop_bs_32_init_Xavier_ac_ReLU_l2_0.5</strong> at: <a href='https://wandb.ai/arunangshudutta218-iitm/dl_assgn_1_q_8/runs/dghsxtmg' target=\"_blank\">https://wandb.ai/arunangshudutta218-iitm/dl_assgn_1_q_8/runs/dghsxtmg</a><br> View project at: <a href='https://wandb.ai/arunangshudutta218-iitm/dl_assgn_1_q_8' target=\"_blank\">https://wandb.ai/arunangshudutta218-iitm/dl_assgn_1_q_8</a><br>Synced 5 W&B file(s), 0 media file(s), 0 artifact file(s) and 0 other file(s)"
            ]
          },
          "metadata": {}
        },
        {
          "output_type": "display_data",
          "data": {
            "text/plain": [
              "<IPython.core.display.HTML object>"
            ],
            "text/html": [
              "Find logs at: <code>./wandb/run-20250317_135659-dghsxtmg/logs</code>"
            ]
          },
          "metadata": {}
        },
        {
          "output_type": "stream",
          "name": "stderr",
          "text": [
            "\u001b[34m\u001b[1mwandb\u001b[0m: Agent Starting Run: ql2jllog with config:\n",
            "\u001b[34m\u001b[1mwandb\u001b[0m: \tactivation: ReLU\n",
            "\u001b[34m\u001b[1mwandb\u001b[0m: \tbatch_size: 32\n",
            "\u001b[34m\u001b[1mwandb\u001b[0m: \tepochs: 5\n",
            "\u001b[34m\u001b[1mwandb\u001b[0m: \thidden_size: 64\n",
            "\u001b[34m\u001b[1mwandb\u001b[0m: \tlearning_rate: 0.001\n",
            "\u001b[34m\u001b[1mwandb\u001b[0m: \tloss_function: cross_entropy\n",
            "\u001b[34m\u001b[1mwandb\u001b[0m: \tnum_layers: 4\n",
            "\u001b[34m\u001b[1mwandb\u001b[0m: \toptimizer: adam\n",
            "\u001b[34m\u001b[1mwandb\u001b[0m: \tweight_decay: 0\n",
            "\u001b[34m\u001b[1mwandb\u001b[0m: \tweight_init: Xavier\n"
          ]
        },
        {
          "output_type": "display_data",
          "data": {
            "text/plain": [
              "<IPython.core.display.HTML object>"
            ],
            "text/html": [
              "Tracking run with wandb version 0.19.8"
            ]
          },
          "metadata": {}
        },
        {
          "output_type": "display_data",
          "data": {
            "text/plain": [
              "<IPython.core.display.HTML object>"
            ],
            "text/html": [
              "Run data is saved locally in <code>/content/wandb/run-20250317_135734-ql2jllog</code>"
            ]
          },
          "metadata": {}
        },
        {
          "output_type": "display_data",
          "data": {
            "text/plain": [
              "<IPython.core.display.HTML object>"
            ],
            "text/html": [
              "Syncing run <strong><a href='https://wandb.ai/arunangshudutta218-iitm/dl_assgn_1_q_8/runs/ql2jllog' target=\"_blank\">dutiful-sweep-40</a></strong> to <a href='https://wandb.ai/arunangshudutta218-iitm/dl_assgn_1_q_8' target=\"_blank\">Weights & Biases</a> (<a href='https://wandb.me/developer-guide' target=\"_blank\">docs</a>)<br>Sweep page: <a href='https://wandb.ai/arunangshudutta218-iitm/dl_assgn_1_q_8/sweeps/28yyx0vh' target=\"_blank\">https://wandb.ai/arunangshudutta218-iitm/dl_assgn_1_q_8/sweeps/28yyx0vh</a>"
            ]
          },
          "metadata": {}
        },
        {
          "output_type": "display_data",
          "data": {
            "text/plain": [
              "<IPython.core.display.HTML object>"
            ],
            "text/html": [
              " View project at <a href='https://wandb.ai/arunangshudutta218-iitm/dl_assgn_1_q_8' target=\"_blank\">https://wandb.ai/arunangshudutta218-iitm/dl_assgn_1_q_8</a>"
            ]
          },
          "metadata": {}
        },
        {
          "output_type": "display_data",
          "data": {
            "text/plain": [
              "<IPython.core.display.HTML object>"
            ],
            "text/html": [
              " View sweep at <a href='https://wandb.ai/arunangshudutta218-iitm/dl_assgn_1_q_8/sweeps/28yyx0vh' target=\"_blank\">https://wandb.ai/arunangshudutta218-iitm/dl_assgn_1_q_8/sweeps/28yyx0vh</a>"
            ]
          },
          "metadata": {}
        },
        {
          "output_type": "display_data",
          "data": {
            "text/plain": [
              "<IPython.core.display.HTML object>"
            ],
            "text/html": [
              " View run at <a href='https://wandb.ai/arunangshudutta218-iitm/dl_assgn_1_q_8/runs/ql2jllog' target=\"_blank\">https://wandb.ai/arunangshudutta218-iitm/dl_assgn_1_q_8/runs/ql2jllog</a>"
            ]
          },
          "metadata": {}
        },
        {
          "output_type": "stream",
          "name": "stdout",
          "text": [
            "Hyper parameters: \n",
            "\n",
            "Weight initialization type :  Xavier\n",
            "Optimizer :  adam\n",
            "Learning rate (initial):  0.001\n",
            "Batch size:  32\n",
            "-------------------\n",
            "Architecture Description:\n",
            "\n",
            "Layer:  1  ; number of neurons:  64  ; activation function:  ReLU\n",
            "Weight matrix dimention (64, 784) Bias vector dimention (64, 1)\n",
            "----------------\n",
            "Layer:  2  ; number of neurons:  64  ; activation function:  ReLU\n",
            "Weight matrix dimention (64, 64) Bias vector dimention (64, 1)\n",
            "----------------\n",
            "Layer:  3  ; number of neurons:  64  ; activation function:  ReLU\n",
            "Weight matrix dimention (64, 64) Bias vector dimention (64, 1)\n",
            "----------------\n",
            "Layer:  4  ; number of neurons:  64  ; activation function:  ReLU\n",
            "Weight matrix dimention (64, 64) Bias vector dimention (64, 1)\n",
            "----------------\n",
            "Layer:  5  ; number of neurons:  10  ; activation function:  softmax\n",
            "Weight matrix dimention (10, 64) Bias vector dimention (10, 1)\n",
            "----------------\n",
            "1312.0\n",
            "\n",
            " Start of training\n",
            "CE Training Loss:  2.273887184637737 SE Training Loss:  0.4468477201827761 Training Accuracy:  15.164285714285715 CE Test Loss:  2.2727055785604637 SE Test Loss:  0.44670440100920966 Testing Accuracy:  15.161111111111111\n",
            "Epoch:  1\n"
          ]
        },
        {
          "output_type": "stream",
          "name": "stderr",
          "text": [
            "100%|██████████| 1312/1312 [00:04<00:00, 263.32it/s]\n"
          ]
        },
        {
          "output_type": "stream",
          "name": "stdout",
          "text": [
            "CE Training Loss:  0.437877132688473 SE Training Loss:  0.11178653345010961 Training Accuracy:  84.26666666666667 CE Test Loss:  0.4499653557314756 SE Test Loss:  0.11337015446630852 Testing Accuracy:  83.92222222222222\n",
            "Epoch:  2\n"
          ]
        },
        {
          "output_type": "stream",
          "name": "stderr",
          "text": [
            "100%|██████████| 1312/1312 [00:06<00:00, 187.96it/s]\n"
          ]
        },
        {
          "output_type": "stream",
          "name": "stdout",
          "text": [
            "CE Training Loss:  0.4533169492936528 SE Training Loss:  0.10564988570399576 Training Accuracy:  85.36666666666666 CE Test Loss:  0.4828213544734416 SE Test Loss:  0.10927876807897725 Testing Accuracy:  84.94444444444444\n",
            "Epoch:  3\n"
          ]
        },
        {
          "output_type": "stream",
          "name": "stderr",
          "text": [
            "100%|██████████| 1312/1312 [00:04<00:00, 290.36it/s]\n"
          ]
        },
        {
          "output_type": "stream",
          "name": "stdout",
          "text": [
            "CE Training Loss:  0.41666114563837947 SE Training Loss:  0.09966084138109953 Training Accuracy:  86.22142857142858 CE Test Loss:  0.438912166467687 SE Test Loss:  0.10217734911758215 Testing Accuracy:  86.07777777777778\n",
            "Epoch:  4\n"
          ]
        },
        {
          "output_type": "stream",
          "name": "stderr",
          "text": [
            "100%|██████████| 1312/1312 [00:04<00:00, 292.28it/s]\n"
          ]
        },
        {
          "output_type": "stream",
          "name": "stdout",
          "text": [
            "CE Training Loss:  0.4236274062984078 SE Training Loss:  0.09432469302998193 Training Accuracy:  86.97380952380952 CE Test Loss:  0.4772595349893522 SE Test Loss:  0.10004384415253717 Testing Accuracy:  86.4\n",
            "Epoch:  5\n"
          ]
        },
        {
          "output_type": "stream",
          "name": "stderr",
          "text": [
            "100%|██████████| 1312/1312 [00:07<00:00, 186.76it/s]\n"
          ]
        },
        {
          "output_type": "stream",
          "name": "stdout",
          "text": [
            "CE Training Loss:  nan SE Training Loss:  nan Training Accuracy:  10.073809523809524 CE Test Loss:  nan SE Test Loss:  nan Testing Accuracy:  9.827777777777778\n"
          ]
        },
        {
          "output_type": "display_data",
          "data": {
            "text/plain": [
              "<IPython.core.display.HTML object>"
            ],
            "text/html": []
          },
          "metadata": {}
        },
        {
          "output_type": "display_data",
          "data": {
            "text/plain": [
              "<IPython.core.display.HTML object>"
            ],
            "text/html": [
              "<br>    <style><br>        .wandb-row {<br>            display: flex;<br>            flex-direction: row;<br>            flex-wrap: wrap;<br>            justify-content: flex-start;<br>            width: 100%;<br>        }<br>        .wandb-col {<br>            display: flex;<br>            flex-direction: column;<br>            flex-basis: 100%;<br>            flex: 1;<br>            padding: 10px;<br>        }<br>    </style><br><div class=\"wandb-row\"><div class=\"wandb-col\"><h3>Run history:</h3><br/><table class=\"wandb\"><tr><td>tr_accuracy</td><td>▁████▁</td></tr><tr><td>tr_loss_CE</td><td>█▁▁▁▁ </td></tr><tr><td>tr_loss_SE</td><td>█▁▁▁▁ </td></tr><tr><td>val_accuracy</td><td>▁████▁</td></tr><tr><td>val_loss_CE</td><td>█▁▁▁▁ </td></tr><tr><td>val_loss_SE</td><td>█▁▁▁▁ </td></tr></table><br/></div><div class=\"wandb-col\"><h3>Run summary:</h3><br/><table class=\"wandb\"><tr><td>tr_accuracy</td><td>10.07381</td></tr><tr><td>tr_loss_CE</td><td>nan</td></tr><tr><td>tr_loss_SE</td><td>nan</td></tr><tr><td>val_accuracy</td><td>9.82778</td></tr><tr><td>val_loss_CE</td><td>nan</td></tr><tr><td>val_loss_SE</td><td>nan</td></tr></table><br/></div></div>"
            ]
          },
          "metadata": {}
        },
        {
          "output_type": "display_data",
          "data": {
            "text/plain": [
              "<IPython.core.display.HTML object>"
            ],
            "text/html": [
              " View run <strong style=\"color:#cdcd00\">e_5_hl_4_hs_64_lr_0.001_opt_adam_bs_32_init_Xavier_ac_ReLU_l2_0</strong> at: <a href='https://wandb.ai/arunangshudutta218-iitm/dl_assgn_1_q_8/runs/ql2jllog' target=\"_blank\">https://wandb.ai/arunangshudutta218-iitm/dl_assgn_1_q_8/runs/ql2jllog</a><br> View project at: <a href='https://wandb.ai/arunangshudutta218-iitm/dl_assgn_1_q_8' target=\"_blank\">https://wandb.ai/arunangshudutta218-iitm/dl_assgn_1_q_8</a><br>Synced 5 W&B file(s), 0 media file(s), 0 artifact file(s) and 0 other file(s)"
            ]
          },
          "metadata": {}
        },
        {
          "output_type": "display_data",
          "data": {
            "text/plain": [
              "<IPython.core.display.HTML object>"
            ],
            "text/html": [
              "Find logs at: <code>./wandb/run-20250317_135734-ql2jllog/logs</code>"
            ]
          },
          "metadata": {}
        },
        {
          "output_type": "stream",
          "name": "stderr",
          "text": [
            "\u001b[34m\u001b[1mwandb\u001b[0m: Agent Starting Run: 9rxekkbl with config:\n",
            "\u001b[34m\u001b[1mwandb\u001b[0m: \tactivation: ReLU\n",
            "\u001b[34m\u001b[1mwandb\u001b[0m: \tbatch_size: 32\n",
            "\u001b[34m\u001b[1mwandb\u001b[0m: \tepochs: 5\n",
            "\u001b[34m\u001b[1mwandb\u001b[0m: \thidden_size: 64\n",
            "\u001b[34m\u001b[1mwandb\u001b[0m: \tlearning_rate: 0.001\n",
            "\u001b[34m\u001b[1mwandb\u001b[0m: \tloss_function: cross_entropy\n",
            "\u001b[34m\u001b[1mwandb\u001b[0m: \tnum_layers: 4\n",
            "\u001b[34m\u001b[1mwandb\u001b[0m: \toptimizer: adam\n",
            "\u001b[34m\u001b[1mwandb\u001b[0m: \tweight_decay: 0.0005\n",
            "\u001b[34m\u001b[1mwandb\u001b[0m: \tweight_init: Xavier\n"
          ]
        },
        {
          "output_type": "display_data",
          "data": {
            "text/plain": [
              "<IPython.core.display.HTML object>"
            ],
            "text/html": [
              "Tracking run with wandb version 0.19.8"
            ]
          },
          "metadata": {}
        },
        {
          "output_type": "display_data",
          "data": {
            "text/plain": [
              "<IPython.core.display.HTML object>"
            ],
            "text/html": [
              "Run data is saved locally in <code>/content/wandb/run-20250317_135814-9rxekkbl</code>"
            ]
          },
          "metadata": {}
        },
        {
          "output_type": "display_data",
          "data": {
            "text/plain": [
              "<IPython.core.display.HTML object>"
            ],
            "text/html": [
              "Syncing run <strong><a href='https://wandb.ai/arunangshudutta218-iitm/dl_assgn_1_q_8/runs/9rxekkbl' target=\"_blank\">wandering-sweep-41</a></strong> to <a href='https://wandb.ai/arunangshudutta218-iitm/dl_assgn_1_q_8' target=\"_blank\">Weights & Biases</a> (<a href='https://wandb.me/developer-guide' target=\"_blank\">docs</a>)<br>Sweep page: <a href='https://wandb.ai/arunangshudutta218-iitm/dl_assgn_1_q_8/sweeps/28yyx0vh' target=\"_blank\">https://wandb.ai/arunangshudutta218-iitm/dl_assgn_1_q_8/sweeps/28yyx0vh</a>"
            ]
          },
          "metadata": {}
        },
        {
          "output_type": "display_data",
          "data": {
            "text/plain": [
              "<IPython.core.display.HTML object>"
            ],
            "text/html": [
              " View project at <a href='https://wandb.ai/arunangshudutta218-iitm/dl_assgn_1_q_8' target=\"_blank\">https://wandb.ai/arunangshudutta218-iitm/dl_assgn_1_q_8</a>"
            ]
          },
          "metadata": {}
        },
        {
          "output_type": "display_data",
          "data": {
            "text/plain": [
              "<IPython.core.display.HTML object>"
            ],
            "text/html": [
              " View sweep at <a href='https://wandb.ai/arunangshudutta218-iitm/dl_assgn_1_q_8/sweeps/28yyx0vh' target=\"_blank\">https://wandb.ai/arunangshudutta218-iitm/dl_assgn_1_q_8/sweeps/28yyx0vh</a>"
            ]
          },
          "metadata": {}
        },
        {
          "output_type": "display_data",
          "data": {
            "text/plain": [
              "<IPython.core.display.HTML object>"
            ],
            "text/html": [
              " View run at <a href='https://wandb.ai/arunangshudutta218-iitm/dl_assgn_1_q_8/runs/9rxekkbl' target=\"_blank\">https://wandb.ai/arunangshudutta218-iitm/dl_assgn_1_q_8/runs/9rxekkbl</a>"
            ]
          },
          "metadata": {}
        },
        {
          "output_type": "stream",
          "name": "stdout",
          "text": [
            "Hyper parameters: \n",
            "\n",
            "Weight initialization type :  Xavier\n",
            "Optimizer :  adam\n",
            "Learning rate (initial):  0.001\n",
            "Batch size:  32\n",
            "-------------------\n",
            "Architecture Description:\n",
            "\n",
            "Layer:  1  ; number of neurons:  64  ; activation function:  ReLU\n",
            "Weight matrix dimention (64, 784) Bias vector dimention (64, 1)\n",
            "----------------\n",
            "Layer:  2  ; number of neurons:  64  ; activation function:  ReLU\n",
            "Weight matrix dimention (64, 64) Bias vector dimention (64, 1)\n",
            "----------------\n",
            "Layer:  3  ; number of neurons:  64  ; activation function:  ReLU\n",
            "Weight matrix dimention (64, 64) Bias vector dimention (64, 1)\n",
            "----------------\n",
            "Layer:  4  ; number of neurons:  64  ; activation function:  ReLU\n",
            "Weight matrix dimention (64, 64) Bias vector dimention (64, 1)\n",
            "----------------\n",
            "Layer:  5  ; number of neurons:  10  ; activation function:  softmax\n",
            "Weight matrix dimention (10, 64) Bias vector dimention (10, 1)\n",
            "----------------\n",
            "1312.0\n",
            "\n",
            " Start of training\n",
            "CE Training Loss:  2.3145692298318417 SE Training Loss:  0.4511486516630079 Training Accuracy:  13.064285714285715 CE Test Loss:  2.3147524027648307 SE Test Loss:  0.45117775609398864 Testing Accuracy:  12.905555555555555\n",
            "Epoch:  1\n"
          ]
        },
        {
          "output_type": "stream",
          "name": "stderr",
          "text": [
            "100%|██████████| 1312/1312 [00:06<00:00, 193.53it/s]\n"
          ]
        },
        {
          "output_type": "stream",
          "name": "stdout",
          "text": [
            "CE Training Loss:  0.4478808762199854 SE Training Loss:  0.11478064082137088 Training Accuracy:  83.66190476190476 CE Test Loss:  0.45737031146421436 SE Test Loss:  0.11635789167864302 Testing Accuracy:  83.72777777777777\n",
            "Epoch:  2\n"
          ]
        },
        {
          "output_type": "stream",
          "name": "stderr",
          "text": [
            "100%|██████████| 1312/1312 [00:06<00:00, 200.57it/s]\n"
          ]
        },
        {
          "output_type": "stream",
          "name": "stdout",
          "text": [
            "CE Training Loss:  0.4194587734072845 SE Training Loss:  0.10257531866756091 Training Accuracy:  85.66666666666667 CE Test Loss:  0.4415223897879802 SE Test Loss:  0.10564342077381765 Testing Accuracy:  85.33333333333333\n",
            "Epoch:  3\n"
          ]
        },
        {
          "output_type": "stream",
          "name": "stderr",
          "text": [
            "100%|██████████| 1312/1312 [00:15<00:00, 86.52it/s] \n"
          ]
        },
        {
          "output_type": "stream",
          "name": "stdout",
          "text": [
            "CE Training Loss:  0.4225944603100199 SE Training Loss:  0.10362477877135624 Training Accuracy:  85.44285714285714 CE Test Loss:  0.4546375822433824 SE Test Loss:  0.10747607593900108 Testing Accuracy:  84.96666666666667\n",
            "Epoch:  4\n"
          ]
        },
        {
          "output_type": "stream",
          "name": "stderr",
          "text": [
            "100%|██████████| 1312/1312 [00:15<00:00, 85.28it/s] \n"
          ]
        },
        {
          "output_type": "stream",
          "name": "stdout",
          "text": [
            "CE Training Loss:  0.39718643556786176 SE Training Loss:  0.09524204206274614 Training Accuracy:  86.75952380952381 CE Test Loss:  0.43903090017679003 SE Test Loss:  0.10151388899629221 Testing Accuracy:  85.90555555555555\n",
            "Epoch:  5\n"
          ]
        },
        {
          "output_type": "stream",
          "name": "stderr",
          "text": [
            "100%|██████████| 1312/1312 [00:16<00:00, 78.52it/s]\n"
          ]
        },
        {
          "output_type": "stream",
          "name": "stdout",
          "text": [
            "CE Training Loss:  0.4632033214398019 SE Training Loss:  0.10885679311055001 Training Accuracy:  85.00714285714285 CE Test Loss:  0.5153054486970757 SE Test Loss:  0.11633518865904927 Testing Accuracy:  84.20555555555555\n"
          ]
        },
        {
          "output_type": "display_data",
          "data": {
            "text/plain": [
              "<IPython.core.display.HTML object>"
            ],
            "text/html": []
          },
          "metadata": {}
        },
        {
          "output_type": "display_data",
          "data": {
            "text/plain": [
              "<IPython.core.display.HTML object>"
            ],
            "text/html": [
              "<br>    <style><br>        .wandb-row {<br>            display: flex;<br>            flex-direction: row;<br>            flex-wrap: wrap;<br>            justify-content: flex-start;<br>            width: 100%;<br>        }<br>        .wandb-col {<br>            display: flex;<br>            flex-direction: column;<br>            flex-basis: 100%;<br>            flex: 1;<br>            padding: 10px;<br>        }<br>    </style><br><div class=\"wandb-row\"><div class=\"wandb-col\"><h3>Run history:</h3><br/><table class=\"wandb\"><tr><td>tr_accuracy</td><td>▁█████</td></tr><tr><td>tr_loss_CE</td><td>█▁▁▁▁▁</td></tr><tr><td>tr_loss_SE</td><td>█▁▁▁▁▁</td></tr><tr><td>val_accuracy</td><td>▁█████</td></tr><tr><td>val_loss_CE</td><td>█▁▁▁▁▁</td></tr><tr><td>val_loss_SE</td><td>█▁▁▁▁▁</td></tr></table><br/></div><div class=\"wandb-col\"><h3>Run summary:</h3><br/><table class=\"wandb\"><tr><td>tr_accuracy</td><td>85.00714</td></tr><tr><td>tr_loss_CE</td><td>0.4632</td></tr><tr><td>tr_loss_SE</td><td>0.10886</td></tr><tr><td>val_accuracy</td><td>84.20556</td></tr><tr><td>val_loss_CE</td><td>0.51531</td></tr><tr><td>val_loss_SE</td><td>0.11634</td></tr></table><br/></div></div>"
            ]
          },
          "metadata": {}
        },
        {
          "output_type": "display_data",
          "data": {
            "text/plain": [
              "<IPython.core.display.HTML object>"
            ],
            "text/html": [
              " View run <strong style=\"color:#cdcd00\">e_5_hl_4_hs_64_lr_0.001_opt_adam_bs_32_init_Xavier_ac_ReLU_l2_0.0005</strong> at: <a href='https://wandb.ai/arunangshudutta218-iitm/dl_assgn_1_q_8/runs/9rxekkbl' target=\"_blank\">https://wandb.ai/arunangshudutta218-iitm/dl_assgn_1_q_8/runs/9rxekkbl</a><br> View project at: <a href='https://wandb.ai/arunangshudutta218-iitm/dl_assgn_1_q_8' target=\"_blank\">https://wandb.ai/arunangshudutta218-iitm/dl_assgn_1_q_8</a><br>Synced 5 W&B file(s), 0 media file(s), 0 artifact file(s) and 0 other file(s)"
            ]
          },
          "metadata": {}
        },
        {
          "output_type": "display_data",
          "data": {
            "text/plain": [
              "<IPython.core.display.HTML object>"
            ],
            "text/html": [
              "Find logs at: <code>./wandb/run-20250317_135814-9rxekkbl/logs</code>"
            ]
          },
          "metadata": {}
        },
        {
          "output_type": "stream",
          "name": "stderr",
          "text": [
            "\u001b[34m\u001b[1mwandb\u001b[0m: Agent Starting Run: l1iy6ygf with config:\n",
            "\u001b[34m\u001b[1mwandb\u001b[0m: \tactivation: ReLU\n",
            "\u001b[34m\u001b[1mwandb\u001b[0m: \tbatch_size: 32\n",
            "\u001b[34m\u001b[1mwandb\u001b[0m: \tepochs: 5\n",
            "\u001b[34m\u001b[1mwandb\u001b[0m: \thidden_size: 64\n",
            "\u001b[34m\u001b[1mwandb\u001b[0m: \tlearning_rate: 0.001\n",
            "\u001b[34m\u001b[1mwandb\u001b[0m: \tloss_function: cross_entropy\n",
            "\u001b[34m\u001b[1mwandb\u001b[0m: \tnum_layers: 4\n",
            "\u001b[34m\u001b[1mwandb\u001b[0m: \toptimizer: adam\n",
            "\u001b[34m\u001b[1mwandb\u001b[0m: \tweight_decay: 0.5\n",
            "\u001b[34m\u001b[1mwandb\u001b[0m: \tweight_init: Xavier\n"
          ]
        },
        {
          "output_type": "display_data",
          "data": {
            "text/plain": [
              "<IPython.core.display.HTML object>"
            ],
            "text/html": [
              "Tracking run with wandb version 0.19.8"
            ]
          },
          "metadata": {}
        },
        {
          "output_type": "display_data",
          "data": {
            "text/plain": [
              "<IPython.core.display.HTML object>"
            ],
            "text/html": [
              "Run data is saved locally in <code>/content/wandb/run-20250317_135946-l1iy6ygf</code>"
            ]
          },
          "metadata": {}
        },
        {
          "output_type": "display_data",
          "data": {
            "text/plain": [
              "<IPython.core.display.HTML object>"
            ],
            "text/html": [
              "Syncing run <strong><a href='https://wandb.ai/arunangshudutta218-iitm/dl_assgn_1_q_8/runs/l1iy6ygf' target=\"_blank\">divine-sweep-42</a></strong> to <a href='https://wandb.ai/arunangshudutta218-iitm/dl_assgn_1_q_8' target=\"_blank\">Weights & Biases</a> (<a href='https://wandb.me/developer-guide' target=\"_blank\">docs</a>)<br>Sweep page: <a href='https://wandb.ai/arunangshudutta218-iitm/dl_assgn_1_q_8/sweeps/28yyx0vh' target=\"_blank\">https://wandb.ai/arunangshudutta218-iitm/dl_assgn_1_q_8/sweeps/28yyx0vh</a>"
            ]
          },
          "metadata": {}
        },
        {
          "output_type": "display_data",
          "data": {
            "text/plain": [
              "<IPython.core.display.HTML object>"
            ],
            "text/html": [
              " View project at <a href='https://wandb.ai/arunangshudutta218-iitm/dl_assgn_1_q_8' target=\"_blank\">https://wandb.ai/arunangshudutta218-iitm/dl_assgn_1_q_8</a>"
            ]
          },
          "metadata": {}
        },
        {
          "output_type": "display_data",
          "data": {
            "text/plain": [
              "<IPython.core.display.HTML object>"
            ],
            "text/html": [
              " View sweep at <a href='https://wandb.ai/arunangshudutta218-iitm/dl_assgn_1_q_8/sweeps/28yyx0vh' target=\"_blank\">https://wandb.ai/arunangshudutta218-iitm/dl_assgn_1_q_8/sweeps/28yyx0vh</a>"
            ]
          },
          "metadata": {}
        },
        {
          "output_type": "display_data",
          "data": {
            "text/plain": [
              "<IPython.core.display.HTML object>"
            ],
            "text/html": [
              " View run at <a href='https://wandb.ai/arunangshudutta218-iitm/dl_assgn_1_q_8/runs/l1iy6ygf' target=\"_blank\">https://wandb.ai/arunangshudutta218-iitm/dl_assgn_1_q_8/runs/l1iy6ygf</a>"
            ]
          },
          "metadata": {}
        },
        {
          "output_type": "stream",
          "name": "stdout",
          "text": [
            "Hyper parameters: \n",
            "\n",
            "Weight initialization type :  Xavier\n",
            "Optimizer :  adam\n",
            "Learning rate (initial):  0.001\n",
            "Batch size:  32\n",
            "-------------------\n",
            "Architecture Description:\n",
            "\n",
            "Layer:  1  ; number of neurons:  64  ; activation function:  ReLU\n",
            "Weight matrix dimention (64, 784) Bias vector dimention (64, 1)\n",
            "----------------\n",
            "Layer:  2  ; number of neurons:  64  ; activation function:  ReLU\n",
            "Weight matrix dimention (64, 64) Bias vector dimention (64, 1)\n",
            "----------------\n",
            "Layer:  3  ; number of neurons:  64  ; activation function:  ReLU\n",
            "Weight matrix dimention (64, 64) Bias vector dimention (64, 1)\n",
            "----------------\n",
            "Layer:  4  ; number of neurons:  64  ; activation function:  ReLU\n",
            "Weight matrix dimention (64, 64) Bias vector dimention (64, 1)\n",
            "----------------\n",
            "Layer:  5  ; number of neurons:  10  ; activation function:  softmax\n",
            "Weight matrix dimention (10, 64) Bias vector dimention (10, 1)\n",
            "----------------\n",
            "1312.0\n",
            "\n",
            " Start of training\n",
            "CE Training Loss:  2.306157412569674 SE Training Loss:  0.450189455935197 Training Accuracy:  12.104761904761904 CE Test Loss:  2.3066852272932232 SE Test Loss:  0.4502445308412988 Testing Accuracy:  11.966666666666667\n",
            "Epoch:  1\n"
          ]
        },
        {
          "output_type": "stream",
          "name": "stderr",
          "text": [
            "100%|██████████| 1312/1312 [00:04<00:00, 276.58it/s]\n"
          ]
        },
        {
          "output_type": "stream",
          "name": "stdout",
          "text": [
            "CE Training Loss:  0.5709319684238825 SE Training Loss:  0.14268189861004374 Training Accuracy:  80.56428571428572 CE Test Loss:  0.57382235819119 SE Test Loss:  0.14301609245637079 Testing Accuracy:  80.5\n",
            "Epoch:  2\n"
          ]
        },
        {
          "output_type": "stream",
          "name": "stderr",
          "text": [
            "100%|██████████| 1312/1312 [00:06<00:00, 208.61it/s]\n"
          ]
        },
        {
          "output_type": "stream",
          "name": "stdout",
          "text": [
            "CE Training Loss:  0.5489338891805278 SE Training Loss:  0.1369870745722707 Training Accuracy:  81.27380952380952 CE Test Loss:  0.5526746012082489 SE Test Loss:  0.13759625141858534 Testing Accuracy:  81.17222222222222\n",
            "Epoch:  3\n"
          ]
        },
        {
          "output_type": "stream",
          "name": "stderr",
          "text": [
            "100%|██████████| 1312/1312 [00:05<00:00, 236.82it/s]\n"
          ]
        },
        {
          "output_type": "stream",
          "name": "stdout",
          "text": [
            "CE Training Loss:  0.5456371278773541 SE Training Loss:  0.13541540482673559 Training Accuracy:  81.43809523809524 CE Test Loss:  0.5502588163892274 SE Test Loss:  0.1363826851567611 Testing Accuracy:  81.51666666666667\n",
            "Epoch:  4\n"
          ]
        },
        {
          "output_type": "stream",
          "name": "stderr",
          "text": [
            "100%|██████████| 1312/1312 [00:04<00:00, 266.56it/s]\n"
          ]
        },
        {
          "output_type": "stream",
          "name": "stdout",
          "text": [
            "CE Training Loss:  0.5371369274455149 SE Training Loss:  0.13362391946929095 Training Accuracy:  81.66428571428571 CE Test Loss:  0.5418817234783259 SE Test Loss:  0.1346710404500202 Testing Accuracy:  81.73333333333333\n",
            "Epoch:  5\n"
          ]
        },
        {
          "output_type": "stream",
          "name": "stderr",
          "text": [
            "100%|██████████| 1312/1312 [00:07<00:00, 179.46it/s]\n"
          ]
        },
        {
          "output_type": "stream",
          "name": "stdout",
          "text": [
            "CE Training Loss:  0.5382362775229914 SE Training Loss:  0.13365773032089617 Training Accuracy:  81.61904761904762 CE Test Loss:  0.5433010860517886 SE Test Loss:  0.13481787720539776 Testing Accuracy:  81.63333333333334\n"
          ]
        },
        {
          "output_type": "display_data",
          "data": {
            "text/plain": [
              "<IPython.core.display.HTML object>"
            ],
            "text/html": []
          },
          "metadata": {}
        },
        {
          "output_type": "display_data",
          "data": {
            "text/plain": [
              "<IPython.core.display.HTML object>"
            ],
            "text/html": [
              "<br>    <style><br>        .wandb-row {<br>            display: flex;<br>            flex-direction: row;<br>            flex-wrap: wrap;<br>            justify-content: flex-start;<br>            width: 100%;<br>        }<br>        .wandb-col {<br>            display: flex;<br>            flex-direction: column;<br>            flex-basis: 100%;<br>            flex: 1;<br>            padding: 10px;<br>        }<br>    </style><br><div class=\"wandb-row\"><div class=\"wandb-col\"><h3>Run history:</h3><br/><table class=\"wandb\"><tr><td>tr_accuracy</td><td>▁█████</td></tr><tr><td>tr_loss_CE</td><td>█▁▁▁▁▁</td></tr><tr><td>tr_loss_SE</td><td>█▁▁▁▁▁</td></tr><tr><td>val_accuracy</td><td>▁█████</td></tr><tr><td>val_loss_CE</td><td>█▁▁▁▁▁</td></tr><tr><td>val_loss_SE</td><td>█▁▁▁▁▁</td></tr></table><br/></div><div class=\"wandb-col\"><h3>Run summary:</h3><br/><table class=\"wandb\"><tr><td>tr_accuracy</td><td>81.61905</td></tr><tr><td>tr_loss_CE</td><td>0.53824</td></tr><tr><td>tr_loss_SE</td><td>0.13366</td></tr><tr><td>val_accuracy</td><td>81.63333</td></tr><tr><td>val_loss_CE</td><td>0.5433</td></tr><tr><td>val_loss_SE</td><td>0.13482</td></tr></table><br/></div></div>"
            ]
          },
          "metadata": {}
        },
        {
          "output_type": "display_data",
          "data": {
            "text/plain": [
              "<IPython.core.display.HTML object>"
            ],
            "text/html": [
              " View run <strong style=\"color:#cdcd00\">e_5_hl_4_hs_64_lr_0.001_opt_adam_bs_32_init_Xavier_ac_ReLU_l2_0.5</strong> at: <a href='https://wandb.ai/arunangshudutta218-iitm/dl_assgn_1_q_8/runs/l1iy6ygf' target=\"_blank\">https://wandb.ai/arunangshudutta218-iitm/dl_assgn_1_q_8/runs/l1iy6ygf</a><br> View project at: <a href='https://wandb.ai/arunangshudutta218-iitm/dl_assgn_1_q_8' target=\"_blank\">https://wandb.ai/arunangshudutta218-iitm/dl_assgn_1_q_8</a><br>Synced 5 W&B file(s), 0 media file(s), 0 artifact file(s) and 0 other file(s)"
            ]
          },
          "metadata": {}
        },
        {
          "output_type": "display_data",
          "data": {
            "text/plain": [
              "<IPython.core.display.HTML object>"
            ],
            "text/html": [
              "Find logs at: <code>./wandb/run-20250317_135946-l1iy6ygf/logs</code>"
            ]
          },
          "metadata": {}
        },
        {
          "output_type": "stream",
          "name": "stderr",
          "text": [
            "\u001b[34m\u001b[1mwandb\u001b[0m: Agent Starting Run: rz09g8mv with config:\n",
            "\u001b[34m\u001b[1mwandb\u001b[0m: \tactivation: ReLU\n",
            "\u001b[34m\u001b[1mwandb\u001b[0m: \tbatch_size: 32\n",
            "\u001b[34m\u001b[1mwandb\u001b[0m: \tepochs: 5\n",
            "\u001b[34m\u001b[1mwandb\u001b[0m: \thidden_size: 64\n",
            "\u001b[34m\u001b[1mwandb\u001b[0m: \tlearning_rate: 0.001\n",
            "\u001b[34m\u001b[1mwandb\u001b[0m: \tloss_function: cross_entropy\n",
            "\u001b[34m\u001b[1mwandb\u001b[0m: \tnum_layers: 4\n",
            "\u001b[34m\u001b[1mwandb\u001b[0m: \toptimizer: nadam\n",
            "\u001b[34m\u001b[1mwandb\u001b[0m: \tweight_decay: 0\n",
            "\u001b[34m\u001b[1mwandb\u001b[0m: \tweight_init: Xavier\n"
          ]
        },
        {
          "output_type": "display_data",
          "data": {
            "text/plain": [
              "<IPython.core.display.HTML object>"
            ],
            "text/html": [
              "Tracking run with wandb version 0.19.8"
            ]
          },
          "metadata": {}
        },
        {
          "output_type": "display_data",
          "data": {
            "text/plain": [
              "<IPython.core.display.HTML object>"
            ],
            "text/html": [
              "Run data is saved locally in <code>/content/wandb/run-20250317_140026-rz09g8mv</code>"
            ]
          },
          "metadata": {}
        },
        {
          "output_type": "display_data",
          "data": {
            "text/plain": [
              "<IPython.core.display.HTML object>"
            ],
            "text/html": [
              "Syncing run <strong><a href='https://wandb.ai/arunangshudutta218-iitm/dl_assgn_1_q_8/runs/rz09g8mv' target=\"_blank\">grateful-sweep-43</a></strong> to <a href='https://wandb.ai/arunangshudutta218-iitm/dl_assgn_1_q_8' target=\"_blank\">Weights & Biases</a> (<a href='https://wandb.me/developer-guide' target=\"_blank\">docs</a>)<br>Sweep page: <a href='https://wandb.ai/arunangshudutta218-iitm/dl_assgn_1_q_8/sweeps/28yyx0vh' target=\"_blank\">https://wandb.ai/arunangshudutta218-iitm/dl_assgn_1_q_8/sweeps/28yyx0vh</a>"
            ]
          },
          "metadata": {}
        },
        {
          "output_type": "display_data",
          "data": {
            "text/plain": [
              "<IPython.core.display.HTML object>"
            ],
            "text/html": [
              " View project at <a href='https://wandb.ai/arunangshudutta218-iitm/dl_assgn_1_q_8' target=\"_blank\">https://wandb.ai/arunangshudutta218-iitm/dl_assgn_1_q_8</a>"
            ]
          },
          "metadata": {}
        },
        {
          "output_type": "display_data",
          "data": {
            "text/plain": [
              "<IPython.core.display.HTML object>"
            ],
            "text/html": [
              " View sweep at <a href='https://wandb.ai/arunangshudutta218-iitm/dl_assgn_1_q_8/sweeps/28yyx0vh' target=\"_blank\">https://wandb.ai/arunangshudutta218-iitm/dl_assgn_1_q_8/sweeps/28yyx0vh</a>"
            ]
          },
          "metadata": {}
        },
        {
          "output_type": "display_data",
          "data": {
            "text/plain": [
              "<IPython.core.display.HTML object>"
            ],
            "text/html": [
              " View run at <a href='https://wandb.ai/arunangshudutta218-iitm/dl_assgn_1_q_8/runs/rz09g8mv' target=\"_blank\">https://wandb.ai/arunangshudutta218-iitm/dl_assgn_1_q_8/runs/rz09g8mv</a>"
            ]
          },
          "metadata": {}
        },
        {
          "output_type": "stream",
          "name": "stdout",
          "text": [
            "Hyper parameters: \n",
            "\n",
            "Weight initialization type :  Xavier\n",
            "Optimizer :  nadam\n",
            "Learning rate (initial):  0.001\n",
            "Batch size:  32\n",
            "-------------------\n",
            "Architecture Description:\n",
            "\n",
            "Layer:  1  ; number of neurons:  64  ; activation function:  ReLU\n",
            "Weight matrix dimention (64, 784) Bias vector dimention (64, 1)\n",
            "----------------\n",
            "Layer:  2  ; number of neurons:  64  ; activation function:  ReLU\n",
            "Weight matrix dimention (64, 64) Bias vector dimention (64, 1)\n",
            "----------------\n",
            "Layer:  3  ; number of neurons:  64  ; activation function:  ReLU\n",
            "Weight matrix dimention (64, 64) Bias vector dimention (64, 1)\n",
            "----------------\n",
            "Layer:  4  ; number of neurons:  64  ; activation function:  ReLU\n",
            "Weight matrix dimention (64, 64) Bias vector dimention (64, 1)\n",
            "----------------\n",
            "Layer:  5  ; number of neurons:  10  ; activation function:  softmax\n",
            "Weight matrix dimention (10, 64) Bias vector dimention (10, 1)\n",
            "----------------\n",
            "1312.0\n",
            "\n",
            " Start of training\n",
            "CE Training Loss:  2.3152946053712995 SE Training Loss:  0.45210536561480374 Training Accuracy:  9.56904761904762 CE Test Loss:  2.3125693504822222 SE Test Loss:  0.45180710286997056 Testing Accuracy:  9.794444444444444\n",
            "Epoch:  1\n"
          ]
        },
        {
          "output_type": "stream",
          "name": "stderr",
          "text": [
            "100%|██████████| 1312/1312 [00:07<00:00, 172.16it/s]\n"
          ]
        },
        {
          "output_type": "stream",
          "name": "stdout",
          "text": [
            "CE Training Loss:  0.438329836437935 SE Training Loss:  0.11009376909439306 Training Accuracy:  84.69761904761904 CE Test Loss:  0.4497497431422054 SE Test Loss:  0.11182687303279391 Testing Accuracy:  84.50555555555556\n",
            "Epoch:  2\n"
          ]
        },
        {
          "output_type": "stream",
          "name": "stderr",
          "text": [
            "100%|██████████| 1312/1312 [00:05<00:00, 243.95it/s]\n"
          ]
        },
        {
          "output_type": "stream",
          "name": "stdout",
          "text": [
            "CE Training Loss:  0.41571590584640955 SE Training Loss:  0.1033152715354114 Training Accuracy:  85.57380952380953 CE Test Loss:  0.44484324632081995 SE Test Loss:  0.10795085092357407 Testing Accuracy:  85.17222222222222\n",
            "Epoch:  3\n"
          ]
        },
        {
          "output_type": "stream",
          "name": "stderr",
          "text": [
            "100%|██████████| 1312/1312 [00:07<00:00, 165.87it/s]\n"
          ]
        },
        {
          "output_type": "stream",
          "name": "stdout",
          "text": [
            "CE Training Loss:  0.4618530235661234 SE Training Loss:  0.10633054832811033 Training Accuracy:  85.33809523809524 CE Test Loss:  0.4951810167561186 SE Test Loss:  0.11046707279849477 Testing Accuracy:  84.79444444444445\n",
            "Epoch:  4\n"
          ]
        },
        {
          "output_type": "stream",
          "name": "stderr",
          "text": [
            "100%|██████████| 1312/1312 [00:04<00:00, 265.53it/s]\n"
          ]
        },
        {
          "output_type": "stream",
          "name": "stdout",
          "text": [
            "CE Training Loss:  0.4819377507202414 SE Training Loss:  0.1021215498136242 Training Accuracy:  85.94285714285714 CE Test Loss:  0.5468778423752488 SE Test Loss:  0.10820504667804699 Testing Accuracy:  85.24444444444444\n",
            "Epoch:  5\n"
          ]
        },
        {
          "output_type": "stream",
          "name": "stderr",
          "text": [
            "100%|██████████| 1312/1312 [00:07<00:00, 165.02it/s]\n"
          ]
        },
        {
          "output_type": "stream",
          "name": "stdout",
          "text": [
            "CE Training Loss:  0.521389260960463 SE Training Loss:  0.10673867873150142 Training Accuracy:  85.40238095238095 CE Test Loss:  0.580576917323205 SE Test Loss:  0.11311852716015705 Testing Accuracy:  84.56666666666666\n"
          ]
        },
        {
          "output_type": "display_data",
          "data": {
            "text/plain": [
              "<IPython.core.display.HTML object>"
            ],
            "text/html": []
          },
          "metadata": {}
        },
        {
          "output_type": "display_data",
          "data": {
            "text/plain": [
              "<IPython.core.display.HTML object>"
            ],
            "text/html": [
              "<br>    <style><br>        .wandb-row {<br>            display: flex;<br>            flex-direction: row;<br>            flex-wrap: wrap;<br>            justify-content: flex-start;<br>            width: 100%;<br>        }<br>        .wandb-col {<br>            display: flex;<br>            flex-direction: column;<br>            flex-basis: 100%;<br>            flex: 1;<br>            padding: 10px;<br>        }<br>    </style><br><div class=\"wandb-row\"><div class=\"wandb-col\"><h3>Run history:</h3><br/><table class=\"wandb\"><tr><td>tr_accuracy</td><td>▁█████</td></tr><tr><td>tr_loss_CE</td><td>█▁▁▁▁▁</td></tr><tr><td>tr_loss_SE</td><td>█▁▁▁▁▁</td></tr><tr><td>val_accuracy</td><td>▁█████</td></tr><tr><td>val_loss_CE</td><td>█▁▁▁▁▂</td></tr><tr><td>val_loss_SE</td><td>█▁▁▁▁▁</td></tr></table><br/></div><div class=\"wandb-col\"><h3>Run summary:</h3><br/><table class=\"wandb\"><tr><td>tr_accuracy</td><td>85.40238</td></tr><tr><td>tr_loss_CE</td><td>0.52139</td></tr><tr><td>tr_loss_SE</td><td>0.10674</td></tr><tr><td>val_accuracy</td><td>84.56667</td></tr><tr><td>val_loss_CE</td><td>0.58058</td></tr><tr><td>val_loss_SE</td><td>0.11312</td></tr></table><br/></div></div>"
            ]
          },
          "metadata": {}
        },
        {
          "output_type": "display_data",
          "data": {
            "text/plain": [
              "<IPython.core.display.HTML object>"
            ],
            "text/html": [
              " View run <strong style=\"color:#cdcd00\">e_5_hl_4_hs_64_lr_0.001_opt_nadam_bs_32_init_Xavier_ac_ReLU_l2_0</strong> at: <a href='https://wandb.ai/arunangshudutta218-iitm/dl_assgn_1_q_8/runs/rz09g8mv' target=\"_blank\">https://wandb.ai/arunangshudutta218-iitm/dl_assgn_1_q_8/runs/rz09g8mv</a><br> View project at: <a href='https://wandb.ai/arunangshudutta218-iitm/dl_assgn_1_q_8' target=\"_blank\">https://wandb.ai/arunangshudutta218-iitm/dl_assgn_1_q_8</a><br>Synced 5 W&B file(s), 0 media file(s), 0 artifact file(s) and 0 other file(s)"
            ]
          },
          "metadata": {}
        },
        {
          "output_type": "display_data",
          "data": {
            "text/plain": [
              "<IPython.core.display.HTML object>"
            ],
            "text/html": [
              "Find logs at: <code>./wandb/run-20250317_140026-rz09g8mv/logs</code>"
            ]
          },
          "metadata": {}
        },
        {
          "output_type": "stream",
          "name": "stderr",
          "text": [
            "\u001b[34m\u001b[1mwandb\u001b[0m: Agent Starting Run: vaw3s35k with config:\n",
            "\u001b[34m\u001b[1mwandb\u001b[0m: \tactivation: ReLU\n",
            "\u001b[34m\u001b[1mwandb\u001b[0m: \tbatch_size: 32\n",
            "\u001b[34m\u001b[1mwandb\u001b[0m: \tepochs: 5\n",
            "\u001b[34m\u001b[1mwandb\u001b[0m: \thidden_size: 64\n",
            "\u001b[34m\u001b[1mwandb\u001b[0m: \tlearning_rate: 0.001\n",
            "\u001b[34m\u001b[1mwandb\u001b[0m: \tloss_function: cross_entropy\n",
            "\u001b[34m\u001b[1mwandb\u001b[0m: \tnum_layers: 4\n",
            "\u001b[34m\u001b[1mwandb\u001b[0m: \toptimizer: nadam\n",
            "\u001b[34m\u001b[1mwandb\u001b[0m: \tweight_decay: 0.0005\n",
            "\u001b[34m\u001b[1mwandb\u001b[0m: \tweight_init: Xavier\n"
          ]
        },
        {
          "output_type": "display_data",
          "data": {
            "text/plain": [
              "<IPython.core.display.HTML object>"
            ],
            "text/html": [
              "Tracking run with wandb version 0.19.8"
            ]
          },
          "metadata": {}
        },
        {
          "output_type": "display_data",
          "data": {
            "text/plain": [
              "<IPython.core.display.HTML object>"
            ],
            "text/html": [
              "Run data is saved locally in <code>/content/wandb/run-20250317_140111-vaw3s35k</code>"
            ]
          },
          "metadata": {}
        },
        {
          "output_type": "display_data",
          "data": {
            "text/plain": [
              "<IPython.core.display.HTML object>"
            ],
            "text/html": [
              "Syncing run <strong><a href='https://wandb.ai/arunangshudutta218-iitm/dl_assgn_1_q_8/runs/vaw3s35k' target=\"_blank\">worldly-sweep-44</a></strong> to <a href='https://wandb.ai/arunangshudutta218-iitm/dl_assgn_1_q_8' target=\"_blank\">Weights & Biases</a> (<a href='https://wandb.me/developer-guide' target=\"_blank\">docs</a>)<br>Sweep page: <a href='https://wandb.ai/arunangshudutta218-iitm/dl_assgn_1_q_8/sweeps/28yyx0vh' target=\"_blank\">https://wandb.ai/arunangshudutta218-iitm/dl_assgn_1_q_8/sweeps/28yyx0vh</a>"
            ]
          },
          "metadata": {}
        },
        {
          "output_type": "display_data",
          "data": {
            "text/plain": [
              "<IPython.core.display.HTML object>"
            ],
            "text/html": [
              " View project at <a href='https://wandb.ai/arunangshudutta218-iitm/dl_assgn_1_q_8' target=\"_blank\">https://wandb.ai/arunangshudutta218-iitm/dl_assgn_1_q_8</a>"
            ]
          },
          "metadata": {}
        },
        {
          "output_type": "display_data",
          "data": {
            "text/plain": [
              "<IPython.core.display.HTML object>"
            ],
            "text/html": [
              " View sweep at <a href='https://wandb.ai/arunangshudutta218-iitm/dl_assgn_1_q_8/sweeps/28yyx0vh' target=\"_blank\">https://wandb.ai/arunangshudutta218-iitm/dl_assgn_1_q_8/sweeps/28yyx0vh</a>"
            ]
          },
          "metadata": {}
        },
        {
          "output_type": "display_data",
          "data": {
            "text/plain": [
              "<IPython.core.display.HTML object>"
            ],
            "text/html": [
              " View run at <a href='https://wandb.ai/arunangshudutta218-iitm/dl_assgn_1_q_8/runs/vaw3s35k' target=\"_blank\">https://wandb.ai/arunangshudutta218-iitm/dl_assgn_1_q_8/runs/vaw3s35k</a>"
            ]
          },
          "metadata": {}
        },
        {
          "output_type": "stream",
          "name": "stdout",
          "text": [
            "Hyper parameters: \n",
            "\n",
            "Weight initialization type :  Xavier\n",
            "Optimizer :  nadam\n",
            "Learning rate (initial):  0.001\n",
            "Batch size:  32\n",
            "-------------------\n",
            "Architecture Description:\n",
            "\n",
            "Layer:  1  ; number of neurons:  64  ; activation function:  ReLU\n",
            "Weight matrix dimention (64, 784) Bias vector dimention (64, 1)\n",
            "----------------\n",
            "Layer:  2  ; number of neurons:  64  ; activation function:  ReLU\n",
            "Weight matrix dimention (64, 64) Bias vector dimention (64, 1)\n",
            "----------------\n",
            "Layer:  3  ; number of neurons:  64  ; activation function:  ReLU\n",
            "Weight matrix dimention (64, 64) Bias vector dimention (64, 1)\n",
            "----------------\n",
            "Layer:  4  ; number of neurons:  64  ; activation function:  ReLU\n",
            "Weight matrix dimention (64, 64) Bias vector dimention (64, 1)\n",
            "----------------\n",
            "Layer:  5  ; number of neurons:  10  ; activation function:  softmax\n",
            "Weight matrix dimention (10, 64) Bias vector dimention (10, 1)\n",
            "----------------\n",
            "1312.0\n",
            "\n",
            " Start of training\n",
            "CE Training Loss:  2.334980995833987 SE Training Loss:  0.453266369209888 Training Accuracy:  8.864285714285714 CE Test Loss:  2.3341468974872663 SE Test Loss:  0.4531734461223057 Testing Accuracy:  8.88888888888889\n",
            "Epoch:  1\n"
          ]
        },
        {
          "output_type": "stream",
          "name": "stderr",
          "text": [
            "100%|██████████| 1312/1312 [00:11<00:00, 116.01it/s]\n"
          ]
        },
        {
          "output_type": "stream",
          "name": "stdout",
          "text": [
            "CE Training Loss:  0.4442129824667082 SE Training Loss:  0.1133065511631198 Training Accuracy:  84.12380952380953 CE Test Loss:  0.45453362969935956 SE Test Loss:  0.11554306521372448 Testing Accuracy:  83.9\n",
            "Epoch:  2\n"
          ]
        },
        {
          "output_type": "stream",
          "name": "stderr",
          "text": [
            "100%|██████████| 1312/1312 [00:20<00:00, 63.61it/s]\n"
          ]
        },
        {
          "output_type": "stream",
          "name": "stdout",
          "text": [
            "CE Training Loss:  0.41470226542219374 SE Training Loss:  0.10197178383361154 Training Accuracy:  85.87857142857143 CE Test Loss:  0.43794974932794345 SE Test Loss:  0.10624699025059949 Testing Accuracy:  85.35\n",
            "Epoch:  3\n"
          ]
        },
        {
          "output_type": "stream",
          "name": "stderr",
          "text": [
            "100%|██████████| 1312/1312 [00:18<00:00, 72.64it/s]\n"
          ]
        },
        {
          "output_type": "stream",
          "name": "stdout",
          "text": [
            "CE Training Loss:  0.4466039250280581 SE Training Loss:  0.10422322348603322 Training Accuracy:  85.6547619047619 CE Test Loss:  0.4871789703814274 SE Test Loss:  0.11002803627610808 Testing Accuracy:  85.12222222222222\n",
            "Epoch:  4\n"
          ]
        },
        {
          "output_type": "stream",
          "name": "stderr",
          "text": [
            "100%|██████████| 1312/1312 [00:17<00:00, 73.69it/s]\n"
          ]
        },
        {
          "output_type": "stream",
          "name": "stdout",
          "text": [
            "CE Training Loss:  0.4189734652505151 SE Training Loss:  0.1020096135886444 Training Accuracy:  85.69047619047619 CE Test Loss:  0.46859184599450077 SE Test Loss:  0.10962613786427779 Testing Accuracy:  84.64444444444445\n",
            "Epoch:  5\n"
          ]
        },
        {
          "output_type": "stream",
          "name": "stderr",
          "text": [
            "100%|██████████| 1312/1312 [00:21<00:00, 60.18it/s]\n"
          ]
        },
        {
          "output_type": "stream",
          "name": "stdout",
          "text": [
            "CE Training Loss:  0.41963551481991723 SE Training Loss:  0.098683290915159 Training Accuracy:  86.12619047619047 CE Test Loss:  0.47731346402514657 SE Test Loss:  0.1063833556226901 Testing Accuracy:  85.35\n"
          ]
        },
        {
          "output_type": "display_data",
          "data": {
            "text/plain": [
              "<IPython.core.display.HTML object>"
            ],
            "text/html": []
          },
          "metadata": {}
        },
        {
          "output_type": "display_data",
          "data": {
            "text/plain": [
              "<IPython.core.display.HTML object>"
            ],
            "text/html": [
              "<br>    <style><br>        .wandb-row {<br>            display: flex;<br>            flex-direction: row;<br>            flex-wrap: wrap;<br>            justify-content: flex-start;<br>            width: 100%;<br>        }<br>        .wandb-col {<br>            display: flex;<br>            flex-direction: column;<br>            flex-basis: 100%;<br>            flex: 1;<br>            padding: 10px;<br>        }<br>    </style><br><div class=\"wandb-row\"><div class=\"wandb-col\"><h3>Run history:</h3><br/><table class=\"wandb\"><tr><td>tr_accuracy</td><td>▁█████</td></tr><tr><td>tr_loss_CE</td><td>█▁▁▁▁▁</td></tr><tr><td>tr_loss_SE</td><td>█▁▁▁▁▁</td></tr><tr><td>val_accuracy</td><td>▁█████</td></tr><tr><td>val_loss_CE</td><td>█▁▁▁▁▁</td></tr><tr><td>val_loss_SE</td><td>█▁▁▁▁▁</td></tr></table><br/></div><div class=\"wandb-col\"><h3>Run summary:</h3><br/><table class=\"wandb\"><tr><td>tr_accuracy</td><td>86.12619</td></tr><tr><td>tr_loss_CE</td><td>0.41964</td></tr><tr><td>tr_loss_SE</td><td>0.09868</td></tr><tr><td>val_accuracy</td><td>85.35</td></tr><tr><td>val_loss_CE</td><td>0.47731</td></tr><tr><td>val_loss_SE</td><td>0.10638</td></tr></table><br/></div></div>"
            ]
          },
          "metadata": {}
        },
        {
          "output_type": "display_data",
          "data": {
            "text/plain": [
              "<IPython.core.display.HTML object>"
            ],
            "text/html": [
              " View run <strong style=\"color:#cdcd00\">e_5_hl_4_hs_64_lr_0.001_opt_nadam_bs_32_init_Xavier_ac_ReLU_l2_0.0005</strong> at: <a href='https://wandb.ai/arunangshudutta218-iitm/dl_assgn_1_q_8/runs/vaw3s35k' target=\"_blank\">https://wandb.ai/arunangshudutta218-iitm/dl_assgn_1_q_8/runs/vaw3s35k</a><br> View project at: <a href='https://wandb.ai/arunangshudutta218-iitm/dl_assgn_1_q_8' target=\"_blank\">https://wandb.ai/arunangshudutta218-iitm/dl_assgn_1_q_8</a><br>Synced 5 W&B file(s), 0 media file(s), 0 artifact file(s) and 0 other file(s)"
            ]
          },
          "metadata": {}
        },
        {
          "output_type": "display_data",
          "data": {
            "text/plain": [
              "<IPython.core.display.HTML object>"
            ],
            "text/html": [
              "Find logs at: <code>./wandb/run-20250317_140111-vaw3s35k/logs</code>"
            ]
          },
          "metadata": {}
        },
        {
          "output_type": "stream",
          "name": "stderr",
          "text": [
            "\u001b[34m\u001b[1mwandb\u001b[0m: Agent Starting Run: pxdv26ol with config:\n",
            "\u001b[34m\u001b[1mwandb\u001b[0m: \tactivation: ReLU\n",
            "\u001b[34m\u001b[1mwandb\u001b[0m: \tbatch_size: 32\n",
            "\u001b[34m\u001b[1mwandb\u001b[0m: \tepochs: 5\n",
            "\u001b[34m\u001b[1mwandb\u001b[0m: \thidden_size: 64\n",
            "\u001b[34m\u001b[1mwandb\u001b[0m: \tlearning_rate: 0.001\n",
            "\u001b[34m\u001b[1mwandb\u001b[0m: \tloss_function: cross_entropy\n",
            "\u001b[34m\u001b[1mwandb\u001b[0m: \tnum_layers: 4\n",
            "\u001b[34m\u001b[1mwandb\u001b[0m: \toptimizer: nadam\n",
            "\u001b[34m\u001b[1mwandb\u001b[0m: \tweight_decay: 0.5\n",
            "\u001b[34m\u001b[1mwandb\u001b[0m: \tweight_init: Xavier\n"
          ]
        },
        {
          "output_type": "display_data",
          "data": {
            "text/plain": [
              "<IPython.core.display.HTML object>"
            ],
            "text/html": [
              "Tracking run with wandb version 0.19.8"
            ]
          },
          "metadata": {}
        },
        {
          "output_type": "display_data",
          "data": {
            "text/plain": [
              "<IPython.core.display.HTML object>"
            ],
            "text/html": [
              "Run data is saved locally in <code>/content/wandb/run-20250317_140323-pxdv26ol</code>"
            ]
          },
          "metadata": {}
        },
        {
          "output_type": "display_data",
          "data": {
            "text/plain": [
              "<IPython.core.display.HTML object>"
            ],
            "text/html": [
              "Syncing run <strong><a href='https://wandb.ai/arunangshudutta218-iitm/dl_assgn_1_q_8/runs/pxdv26ol' target=\"_blank\">classic-sweep-45</a></strong> to <a href='https://wandb.ai/arunangshudutta218-iitm/dl_assgn_1_q_8' target=\"_blank\">Weights & Biases</a> (<a href='https://wandb.me/developer-guide' target=\"_blank\">docs</a>)<br>Sweep page: <a href='https://wandb.ai/arunangshudutta218-iitm/dl_assgn_1_q_8/sweeps/28yyx0vh' target=\"_blank\">https://wandb.ai/arunangshudutta218-iitm/dl_assgn_1_q_8/sweeps/28yyx0vh</a>"
            ]
          },
          "metadata": {}
        },
        {
          "output_type": "display_data",
          "data": {
            "text/plain": [
              "<IPython.core.display.HTML object>"
            ],
            "text/html": [
              " View project at <a href='https://wandb.ai/arunangshudutta218-iitm/dl_assgn_1_q_8' target=\"_blank\">https://wandb.ai/arunangshudutta218-iitm/dl_assgn_1_q_8</a>"
            ]
          },
          "metadata": {}
        },
        {
          "output_type": "display_data",
          "data": {
            "text/plain": [
              "<IPython.core.display.HTML object>"
            ],
            "text/html": [
              " View sweep at <a href='https://wandb.ai/arunangshudutta218-iitm/dl_assgn_1_q_8/sweeps/28yyx0vh' target=\"_blank\">https://wandb.ai/arunangshudutta218-iitm/dl_assgn_1_q_8/sweeps/28yyx0vh</a>"
            ]
          },
          "metadata": {}
        },
        {
          "output_type": "display_data",
          "data": {
            "text/plain": [
              "<IPython.core.display.HTML object>"
            ],
            "text/html": [
              " View run at <a href='https://wandb.ai/arunangshudutta218-iitm/dl_assgn_1_q_8/runs/pxdv26ol' target=\"_blank\">https://wandb.ai/arunangshudutta218-iitm/dl_assgn_1_q_8/runs/pxdv26ol</a>"
            ]
          },
          "metadata": {}
        },
        {
          "output_type": "stream",
          "name": "stdout",
          "text": [
            "Hyper parameters: \n",
            "\n",
            "Weight initialization type :  Xavier\n",
            "Optimizer :  nadam\n",
            "Learning rate (initial):  0.001\n",
            "Batch size:  32\n",
            "-------------------\n",
            "Architecture Description:\n",
            "\n",
            "Layer:  1  ; number of neurons:  64  ; activation function:  ReLU\n",
            "Weight matrix dimention (64, 784) Bias vector dimention (64, 1)\n",
            "----------------\n",
            "Layer:  2  ; number of neurons:  64  ; activation function:  ReLU\n",
            "Weight matrix dimention (64, 64) Bias vector dimention (64, 1)\n",
            "----------------\n",
            "Layer:  3  ; number of neurons:  64  ; activation function:  ReLU\n",
            "Weight matrix dimention (64, 64) Bias vector dimention (64, 1)\n",
            "----------------\n",
            "Layer:  4  ; number of neurons:  64  ; activation function:  ReLU\n",
            "Weight matrix dimention (64, 64) Bias vector dimention (64, 1)\n",
            "----------------\n",
            "Layer:  5  ; number of neurons:  10  ; activation function:  softmax\n",
            "Weight matrix dimention (10, 64) Bias vector dimention (10, 1)\n",
            "----------------\n",
            "1312.0\n",
            "\n",
            " Start of training\n",
            "CE Training Loss:  2.3141230318283683 SE Training Loss:  0.4511583627963382 Training Accuracy:  10.471428571428572 CE Test Loss:  2.3135580825632465 SE Test Loss:  0.4511101476409761 Testing Accuracy:  10.644444444444444\n",
            "Epoch:  1\n"
          ]
        },
        {
          "output_type": "stream",
          "name": "stderr",
          "text": [
            "100%|██████████| 1312/1312 [00:06<00:00, 196.74it/s]\n"
          ]
        },
        {
          "output_type": "stream",
          "name": "stdout",
          "text": [
            "CE Training Loss:  0.5677021912221735 SE Training Loss:  0.14220749218780498 Training Accuracy:  80.4095238095238 CE Test Loss:  0.570554786702519 SE Test Loss:  0.14255894167114191 Testing Accuracy:  80.63888888888889\n",
            "Epoch:  2\n"
          ]
        },
        {
          "output_type": "stream",
          "name": "stderr",
          "text": [
            "100%|██████████| 1312/1312 [00:05<00:00, 226.60it/s]\n"
          ]
        },
        {
          "output_type": "stream",
          "name": "stdout",
          "text": [
            "CE Training Loss:  0.5539465286050201 SE Training Loss:  0.13899603020456897 Training Accuracy:  80.85 CE Test Loss:  0.5576041482045422 SE Test Loss:  0.1395050039369456 Testing Accuracy:  80.92222222222222\n",
            "Epoch:  3\n"
          ]
        },
        {
          "output_type": "stream",
          "name": "stderr",
          "text": [
            "100%|██████████| 1312/1312 [00:06<00:00, 214.05it/s]\n"
          ]
        },
        {
          "output_type": "stream",
          "name": "stdout",
          "text": [
            "CE Training Loss:  0.5504722615001935 SE Training Loss:  0.13800599545364745 Training Accuracy:  81.02857142857142 CE Test Loss:  0.5548431841050995 SE Test Loss:  0.13872327615972507 Testing Accuracy:  81.02222222222223\n",
            "Epoch:  4\n"
          ]
        },
        {
          "output_type": "stream",
          "name": "stderr",
          "text": [
            "100%|██████████| 1312/1312 [00:06<00:00, 192.24it/s]\n"
          ]
        },
        {
          "output_type": "stream",
          "name": "stdout",
          "text": [
            "CE Training Loss:  0.5438052694199367 SE Training Loss:  0.13609856950016433 Training Accuracy:  81.25714285714285 CE Test Loss:  0.5488455901081079 SE Test Loss:  0.1370785552673392 Testing Accuracy:  81.27222222222223\n",
            "Epoch:  5\n"
          ]
        },
        {
          "output_type": "stream",
          "name": "stderr",
          "text": [
            "100%|██████████| 1312/1312 [00:05<00:00, 260.64it/s]\n"
          ]
        },
        {
          "output_type": "stream",
          "name": "stdout",
          "text": [
            "CE Training Loss:  0.5350770482500847 SE Training Loss:  0.1337583051220952 Training Accuracy:  81.74285714285715 CE Test Loss:  0.5410362438213756 SE Test Loss:  0.13508207433270847 Testing Accuracy:  81.7611111111111\n"
          ]
        },
        {
          "output_type": "display_data",
          "data": {
            "text/plain": [
              "<IPython.core.display.HTML object>"
            ],
            "text/html": []
          },
          "metadata": {}
        },
        {
          "output_type": "display_data",
          "data": {
            "text/plain": [
              "<IPython.core.display.HTML object>"
            ],
            "text/html": [
              "<br>    <style><br>        .wandb-row {<br>            display: flex;<br>            flex-direction: row;<br>            flex-wrap: wrap;<br>            justify-content: flex-start;<br>            width: 100%;<br>        }<br>        .wandb-col {<br>            display: flex;<br>            flex-direction: column;<br>            flex-basis: 100%;<br>            flex: 1;<br>            padding: 10px;<br>        }<br>    </style><br><div class=\"wandb-row\"><div class=\"wandb-col\"><h3>Run history:</h3><br/><table class=\"wandb\"><tr><td>tr_accuracy</td><td>▁█████</td></tr><tr><td>tr_loss_CE</td><td>█▁▁▁▁▁</td></tr><tr><td>tr_loss_SE</td><td>█▁▁▁▁▁</td></tr><tr><td>val_accuracy</td><td>▁█████</td></tr><tr><td>val_loss_CE</td><td>█▁▁▁▁▁</td></tr><tr><td>val_loss_SE</td><td>█▁▁▁▁▁</td></tr></table><br/></div><div class=\"wandb-col\"><h3>Run summary:</h3><br/><table class=\"wandb\"><tr><td>tr_accuracy</td><td>81.74286</td></tr><tr><td>tr_loss_CE</td><td>0.53508</td></tr><tr><td>tr_loss_SE</td><td>0.13376</td></tr><tr><td>val_accuracy</td><td>81.76111</td></tr><tr><td>val_loss_CE</td><td>0.54104</td></tr><tr><td>val_loss_SE</td><td>0.13508</td></tr></table><br/></div></div>"
            ]
          },
          "metadata": {}
        },
        {
          "output_type": "display_data",
          "data": {
            "text/plain": [
              "<IPython.core.display.HTML object>"
            ],
            "text/html": [
              " View run <strong style=\"color:#cdcd00\">e_5_hl_4_hs_64_lr_0.001_opt_nadam_bs_32_init_Xavier_ac_ReLU_l2_0.5</strong> at: <a href='https://wandb.ai/arunangshudutta218-iitm/dl_assgn_1_q_8/runs/pxdv26ol' target=\"_blank\">https://wandb.ai/arunangshudutta218-iitm/dl_assgn_1_q_8/runs/pxdv26ol</a><br> View project at: <a href='https://wandb.ai/arunangshudutta218-iitm/dl_assgn_1_q_8' target=\"_blank\">https://wandb.ai/arunangshudutta218-iitm/dl_assgn_1_q_8</a><br>Synced 5 W&B file(s), 0 media file(s), 0 artifact file(s) and 0 other file(s)"
            ]
          },
          "metadata": {}
        },
        {
          "output_type": "display_data",
          "data": {
            "text/plain": [
              "<IPython.core.display.HTML object>"
            ],
            "text/html": [
              "Find logs at: <code>./wandb/run-20250317_140323-pxdv26ol/logs</code>"
            ]
          },
          "metadata": {}
        },
        {
          "output_type": "stream",
          "name": "stderr",
          "text": [
            "\u001b[34m\u001b[1mwandb\u001b[0m: Agent Starting Run: xzlskivv with config:\n",
            "\u001b[34m\u001b[1mwandb\u001b[0m: \tactivation: ReLU\n",
            "\u001b[34m\u001b[1mwandb\u001b[0m: \tbatch_size: 32\n",
            "\u001b[34m\u001b[1mwandb\u001b[0m: \tepochs: 5\n",
            "\u001b[34m\u001b[1mwandb\u001b[0m: \thidden_size: 64\n",
            "\u001b[34m\u001b[1mwandb\u001b[0m: \tlearning_rate: 0.001\n",
            "\u001b[34m\u001b[1mwandb\u001b[0m: \tloss_function: squared_error\n",
            "\u001b[34m\u001b[1mwandb\u001b[0m: \tnum_layers: 4\n",
            "\u001b[34m\u001b[1mwandb\u001b[0m: \toptimizer: rmsprop\n",
            "\u001b[34m\u001b[1mwandb\u001b[0m: \tweight_decay: 0\n",
            "\u001b[34m\u001b[1mwandb\u001b[0m: \tweight_init: Xavier\n"
          ]
        },
        {
          "output_type": "display_data",
          "data": {
            "text/plain": [
              "<IPython.core.display.HTML object>"
            ],
            "text/html": [
              "Tracking run with wandb version 0.19.8"
            ]
          },
          "metadata": {}
        },
        {
          "output_type": "display_data",
          "data": {
            "text/plain": [
              "<IPython.core.display.HTML object>"
            ],
            "text/html": [
              "Run data is saved locally in <code>/content/wandb/run-20250317_140407-xzlskivv</code>"
            ]
          },
          "metadata": {}
        },
        {
          "output_type": "display_data",
          "data": {
            "text/plain": [
              "<IPython.core.display.HTML object>"
            ],
            "text/html": [
              "Syncing run <strong><a href='https://wandb.ai/arunangshudutta218-iitm/dl_assgn_1_q_8/runs/xzlskivv' target=\"_blank\">lunar-sweep-46</a></strong> to <a href='https://wandb.ai/arunangshudutta218-iitm/dl_assgn_1_q_8' target=\"_blank\">Weights & Biases</a> (<a href='https://wandb.me/developer-guide' target=\"_blank\">docs</a>)<br>Sweep page: <a href='https://wandb.ai/arunangshudutta218-iitm/dl_assgn_1_q_8/sweeps/28yyx0vh' target=\"_blank\">https://wandb.ai/arunangshudutta218-iitm/dl_assgn_1_q_8/sweeps/28yyx0vh</a>"
            ]
          },
          "metadata": {}
        },
        {
          "output_type": "display_data",
          "data": {
            "text/plain": [
              "<IPython.core.display.HTML object>"
            ],
            "text/html": [
              " View project at <a href='https://wandb.ai/arunangshudutta218-iitm/dl_assgn_1_q_8' target=\"_blank\">https://wandb.ai/arunangshudutta218-iitm/dl_assgn_1_q_8</a>"
            ]
          },
          "metadata": {}
        },
        {
          "output_type": "display_data",
          "data": {
            "text/plain": [
              "<IPython.core.display.HTML object>"
            ],
            "text/html": [
              " View sweep at <a href='https://wandb.ai/arunangshudutta218-iitm/dl_assgn_1_q_8/sweeps/28yyx0vh' target=\"_blank\">https://wandb.ai/arunangshudutta218-iitm/dl_assgn_1_q_8/sweeps/28yyx0vh</a>"
            ]
          },
          "metadata": {}
        },
        {
          "output_type": "display_data",
          "data": {
            "text/plain": [
              "<IPython.core.display.HTML object>"
            ],
            "text/html": [
              " View run at <a href='https://wandb.ai/arunangshudutta218-iitm/dl_assgn_1_q_8/runs/xzlskivv' target=\"_blank\">https://wandb.ai/arunangshudutta218-iitm/dl_assgn_1_q_8/runs/xzlskivv</a>"
            ]
          },
          "metadata": {}
        },
        {
          "output_type": "stream",
          "name": "stdout",
          "text": [
            "Hyper parameters: \n",
            "\n",
            "Weight initialization type :  Xavier\n",
            "Optimizer :  rmsprop\n",
            "Learning rate (initial):  0.001\n",
            "Batch size:  32\n",
            "-------------------\n",
            "Architecture Description:\n",
            "\n",
            "Layer:  1  ; number of neurons:  64  ; activation function:  ReLU\n",
            "Weight matrix dimention (64, 784) Bias vector dimention (64, 1)\n",
            "----------------\n",
            "Layer:  2  ; number of neurons:  64  ; activation function:  ReLU\n",
            "Weight matrix dimention (64, 64) Bias vector dimention (64, 1)\n",
            "----------------\n",
            "Layer:  3  ; number of neurons:  64  ; activation function:  ReLU\n",
            "Weight matrix dimention (64, 64) Bias vector dimention (64, 1)\n",
            "----------------\n",
            "Layer:  4  ; number of neurons:  64  ; activation function:  ReLU\n",
            "Weight matrix dimention (64, 64) Bias vector dimention (64, 1)\n",
            "----------------\n",
            "Layer:  5  ; number of neurons:  10  ; activation function:  softmax\n",
            "Weight matrix dimention (10, 64) Bias vector dimention (10, 1)\n",
            "----------------\n",
            "1312.0\n",
            "\n",
            " Start of training\n",
            "CE Training Loss:  2.314106523572923 SE Training Loss:  0.4518896284454517 Training Accuracy:  10.573809523809524 CE Test Loss:  2.3129209083588824 SE Test Loss:  0.4517768357926793 Testing Accuracy:  10.533333333333333\n",
            "Epoch:  1\n"
          ]
        },
        {
          "output_type": "stream",
          "name": "stderr",
          "text": [
            "100%|██████████| 1312/1312 [00:04<00:00, 274.66it/s]\n"
          ]
        },
        {
          "output_type": "stream",
          "name": "stdout",
          "text": [
            "CE Training Loss:  0.5085272715995395 SE Training Loss:  0.12563792495290055 Training Accuracy:  82.61190476190477 CE Test Loss:  0.519388234008961 SE Test Loss:  0.1281235492058002 Testing Accuracy:  82.33333333333333\n",
            "Epoch:  2\n"
          ]
        },
        {
          "output_type": "stream",
          "name": "stderr",
          "text": [
            "100%|██████████| 1312/1312 [00:05<00:00, 235.95it/s]\n"
          ]
        },
        {
          "output_type": "stream",
          "name": "stdout",
          "text": [
            "CE Training Loss:  nan SE Training Loss:  nan Training Accuracy:  10.073809523809524 CE Test Loss:  nan SE Test Loss:  nan Testing Accuracy:  9.827777777777778\n",
            "Epoch:  3\n"
          ]
        },
        {
          "output_type": "stream",
          "name": "stderr",
          "text": [
            "100%|██████████| 1312/1312 [00:03<00:00, 351.27it/s]\n"
          ]
        },
        {
          "output_type": "stream",
          "name": "stdout",
          "text": [
            "CE Training Loss:  nan SE Training Loss:  nan Training Accuracy:  10.073809523809524 CE Test Loss:  nan SE Test Loss:  nan Testing Accuracy:  9.827777777777778\n",
            "Epoch:  4\n"
          ]
        },
        {
          "output_type": "stream",
          "name": "stderr",
          "text": [
            "100%|██████████| 1312/1312 [00:04<00:00, 281.00it/s]\n"
          ]
        },
        {
          "output_type": "stream",
          "name": "stdout",
          "text": [
            "CE Training Loss:  nan SE Training Loss:  nan Training Accuracy:  10.073809523809524 CE Test Loss:  nan SE Test Loss:  nan Testing Accuracy:  9.827777777777778\n",
            "Epoch:  5\n"
          ]
        },
        {
          "output_type": "stream",
          "name": "stderr",
          "text": [
            "100%|██████████| 1312/1312 [00:05<00:00, 256.99it/s]\n"
          ]
        },
        {
          "output_type": "stream",
          "name": "stdout",
          "text": [
            "CE Training Loss:  nan SE Training Loss:  nan Training Accuracy:  10.073809523809524 CE Test Loss:  nan SE Test Loss:  nan Testing Accuracy:  9.827777777777778\n"
          ]
        },
        {
          "output_type": "display_data",
          "data": {
            "text/plain": [
              "<IPython.core.display.HTML object>"
            ],
            "text/html": []
          },
          "metadata": {}
        },
        {
          "output_type": "display_data",
          "data": {
            "text/plain": [
              "<IPython.core.display.HTML object>"
            ],
            "text/html": [
              "<br>    <style><br>        .wandb-row {<br>            display: flex;<br>            flex-direction: row;<br>            flex-wrap: wrap;<br>            justify-content: flex-start;<br>            width: 100%;<br>        }<br>        .wandb-col {<br>            display: flex;<br>            flex-direction: column;<br>            flex-basis: 100%;<br>            flex: 1;<br>            padding: 10px;<br>        }<br>    </style><br><div class=\"wandb-row\"><div class=\"wandb-col\"><h3>Run history:</h3><br/><table class=\"wandb\"><tr><td>tr_accuracy</td><td>▁█▁▁▁▁</td></tr><tr><td>tr_loss_CE</td><td>█▁    </td></tr><tr><td>tr_loss_SE</td><td>█▁    </td></tr><tr><td>val_accuracy</td><td>▁█▁▁▁▁</td></tr><tr><td>val_loss_CE</td><td>█▁    </td></tr><tr><td>val_loss_SE</td><td>█▁    </td></tr></table><br/></div><div class=\"wandb-col\"><h3>Run summary:</h3><br/><table class=\"wandb\"><tr><td>tr_accuracy</td><td>10.07381</td></tr><tr><td>tr_loss_CE</td><td>nan</td></tr><tr><td>tr_loss_SE</td><td>nan</td></tr><tr><td>val_accuracy</td><td>9.82778</td></tr><tr><td>val_loss_CE</td><td>nan</td></tr><tr><td>val_loss_SE</td><td>nan</td></tr></table><br/></div></div>"
            ]
          },
          "metadata": {}
        },
        {
          "output_type": "display_data",
          "data": {
            "text/plain": [
              "<IPython.core.display.HTML object>"
            ],
            "text/html": [
              " View run <strong style=\"color:#cdcd00\">e_5_hl_4_hs_64_lr_0.001_opt_rmsprop_bs_32_init_Xavier_ac_ReLU_l2_0</strong> at: <a href='https://wandb.ai/arunangshudutta218-iitm/dl_assgn_1_q_8/runs/xzlskivv' target=\"_blank\">https://wandb.ai/arunangshudutta218-iitm/dl_assgn_1_q_8/runs/xzlskivv</a><br> View project at: <a href='https://wandb.ai/arunangshudutta218-iitm/dl_assgn_1_q_8' target=\"_blank\">https://wandb.ai/arunangshudutta218-iitm/dl_assgn_1_q_8</a><br>Synced 5 W&B file(s), 0 media file(s), 0 artifact file(s) and 0 other file(s)"
            ]
          },
          "metadata": {}
        },
        {
          "output_type": "display_data",
          "data": {
            "text/plain": [
              "<IPython.core.display.HTML object>"
            ],
            "text/html": [
              "Find logs at: <code>./wandb/run-20250317_140407-xzlskivv/logs</code>"
            ]
          },
          "metadata": {}
        },
        {
          "output_type": "stream",
          "name": "stderr",
          "text": [
            "\u001b[34m\u001b[1mwandb\u001b[0m: Agent Starting Run: bbkb7zxh with config:\n",
            "\u001b[34m\u001b[1mwandb\u001b[0m: \tactivation: ReLU\n",
            "\u001b[34m\u001b[1mwandb\u001b[0m: \tbatch_size: 32\n",
            "\u001b[34m\u001b[1mwandb\u001b[0m: \tepochs: 5\n",
            "\u001b[34m\u001b[1mwandb\u001b[0m: \thidden_size: 64\n",
            "\u001b[34m\u001b[1mwandb\u001b[0m: \tlearning_rate: 0.001\n",
            "\u001b[34m\u001b[1mwandb\u001b[0m: \tloss_function: squared_error\n",
            "\u001b[34m\u001b[1mwandb\u001b[0m: \tnum_layers: 4\n",
            "\u001b[34m\u001b[1mwandb\u001b[0m: \toptimizer: rmsprop\n",
            "\u001b[34m\u001b[1mwandb\u001b[0m: \tweight_decay: 0.0005\n",
            "\u001b[34m\u001b[1mwandb\u001b[0m: \tweight_init: Xavier\n"
          ]
        },
        {
          "output_type": "display_data",
          "data": {
            "text/plain": [
              "<IPython.core.display.HTML object>"
            ],
            "text/html": [
              "Tracking run with wandb version 0.19.8"
            ]
          },
          "metadata": {}
        },
        {
          "output_type": "display_data",
          "data": {
            "text/plain": [
              "<IPython.core.display.HTML object>"
            ],
            "text/html": [
              "Run data is saved locally in <code>/content/wandb/run-20250317_140443-bbkb7zxh</code>"
            ]
          },
          "metadata": {}
        },
        {
          "output_type": "display_data",
          "data": {
            "text/plain": [
              "<IPython.core.display.HTML object>"
            ],
            "text/html": [
              "Syncing run <strong><a href='https://wandb.ai/arunangshudutta218-iitm/dl_assgn_1_q_8/runs/bbkb7zxh' target=\"_blank\">neat-sweep-47</a></strong> to <a href='https://wandb.ai/arunangshudutta218-iitm/dl_assgn_1_q_8' target=\"_blank\">Weights & Biases</a> (<a href='https://wandb.me/developer-guide' target=\"_blank\">docs</a>)<br>Sweep page: <a href='https://wandb.ai/arunangshudutta218-iitm/dl_assgn_1_q_8/sweeps/28yyx0vh' target=\"_blank\">https://wandb.ai/arunangshudutta218-iitm/dl_assgn_1_q_8/sweeps/28yyx0vh</a>"
            ]
          },
          "metadata": {}
        },
        {
          "output_type": "display_data",
          "data": {
            "text/plain": [
              "<IPython.core.display.HTML object>"
            ],
            "text/html": [
              " View project at <a href='https://wandb.ai/arunangshudutta218-iitm/dl_assgn_1_q_8' target=\"_blank\">https://wandb.ai/arunangshudutta218-iitm/dl_assgn_1_q_8</a>"
            ]
          },
          "metadata": {}
        },
        {
          "output_type": "display_data",
          "data": {
            "text/plain": [
              "<IPython.core.display.HTML object>"
            ],
            "text/html": [
              " View sweep at <a href='https://wandb.ai/arunangshudutta218-iitm/dl_assgn_1_q_8/sweeps/28yyx0vh' target=\"_blank\">https://wandb.ai/arunangshudutta218-iitm/dl_assgn_1_q_8/sweeps/28yyx0vh</a>"
            ]
          },
          "metadata": {}
        },
        {
          "output_type": "display_data",
          "data": {
            "text/plain": [
              "<IPython.core.display.HTML object>"
            ],
            "text/html": [
              " View run at <a href='https://wandb.ai/arunangshudutta218-iitm/dl_assgn_1_q_8/runs/bbkb7zxh' target=\"_blank\">https://wandb.ai/arunangshudutta218-iitm/dl_assgn_1_q_8/runs/bbkb7zxh</a>"
            ]
          },
          "metadata": {}
        },
        {
          "output_type": "stream",
          "name": "stdout",
          "text": [
            "Hyper parameters: \n",
            "\n",
            "Weight initialization type :  Xavier\n",
            "Optimizer :  rmsprop\n",
            "Learning rate (initial):  0.001\n",
            "Batch size:  32\n",
            "-------------------\n",
            "Architecture Description:\n",
            "\n",
            "Layer:  1  ; number of neurons:  64  ; activation function:  ReLU\n",
            "Weight matrix dimention (64, 784) Bias vector dimention (64, 1)\n",
            "----------------\n",
            "Layer:  2  ; number of neurons:  64  ; activation function:  ReLU\n",
            "Weight matrix dimention (64, 64) Bias vector dimention (64, 1)\n",
            "----------------\n",
            "Layer:  3  ; number of neurons:  64  ; activation function:  ReLU\n",
            "Weight matrix dimention (64, 64) Bias vector dimention (64, 1)\n",
            "----------------\n",
            "Layer:  4  ; number of neurons:  64  ; activation function:  ReLU\n",
            "Weight matrix dimention (64, 64) Bias vector dimention (64, 1)\n",
            "----------------\n",
            "Layer:  5  ; number of neurons:  10  ; activation function:  softmax\n",
            "Weight matrix dimention (10, 64) Bias vector dimention (10, 1)\n",
            "----------------\n",
            "1312.0\n",
            "\n",
            " Start of training\n",
            "CE Training Loss:  2.341312248833033 SE Training Loss:  0.45291623104171724 Training Accuracy:  7.269047619047619 CE Test Loss:  2.342625595239585 SE Test Loss:  0.453035076657956 Testing Accuracy:  7.338888888888889\n",
            "Epoch:  1\n"
          ]
        },
        {
          "output_type": "stream",
          "name": "stderr",
          "text": [
            "100%|██████████| 1312/1312 [00:06<00:00, 195.30it/s]\n"
          ]
        },
        {
          "output_type": "stream",
          "name": "stdout",
          "text": [
            "CE Training Loss:  0.5185616666625974 SE Training Loss:  0.13128664057198297 Training Accuracy:  81.71190476190476 CE Test Loss:  0.530434383082801 SE Test Loss:  0.13394475988565088 Testing Accuracy:  81.27222222222223\n",
            "Epoch:  2\n"
          ]
        },
        {
          "output_type": "stream",
          "name": "stderr",
          "text": [
            "100%|██████████| 1312/1312 [00:14<00:00, 92.96it/s] \n"
          ]
        },
        {
          "output_type": "stream",
          "name": "stdout",
          "text": [
            "CE Training Loss:  nan SE Training Loss:  nan Training Accuracy:  10.073809523809524 CE Test Loss:  nan SE Test Loss:  nan Testing Accuracy:  9.827777777777778\n",
            "Epoch:  3\n"
          ]
        },
        {
          "output_type": "stream",
          "name": "stderr",
          "text": [
            "100%|██████████| 1312/1312 [00:03<00:00, 342.28it/s]\n"
          ]
        },
        {
          "output_type": "stream",
          "name": "stdout",
          "text": [
            "CE Training Loss:  nan SE Training Loss:  nan Training Accuracy:  10.073809523809524 CE Test Loss:  nan SE Test Loss:  nan Testing Accuracy:  9.827777777777778\n",
            "Epoch:  4\n"
          ]
        },
        {
          "output_type": "stream",
          "name": "stderr",
          "text": [
            "100%|██████████| 1312/1312 [00:04<00:00, 264.93it/s]\n"
          ]
        },
        {
          "output_type": "stream",
          "name": "stdout",
          "text": [
            "CE Training Loss:  nan SE Training Loss:  nan Training Accuracy:  10.073809523809524 CE Test Loss:  nan SE Test Loss:  nan Testing Accuracy:  9.827777777777778\n",
            "Epoch:  5\n"
          ]
        },
        {
          "output_type": "stream",
          "name": "stderr",
          "text": [
            "100%|██████████| 1312/1312 [00:05<00:00, 258.32it/s]\n"
          ]
        },
        {
          "output_type": "stream",
          "name": "stdout",
          "text": [
            "CE Training Loss:  nan SE Training Loss:  nan Training Accuracy:  10.073809523809524 CE Test Loss:  nan SE Test Loss:  nan Testing Accuracy:  9.827777777777778\n"
          ]
        },
        {
          "output_type": "display_data",
          "data": {
            "text/plain": [
              "<IPython.core.display.HTML object>"
            ],
            "text/html": []
          },
          "metadata": {}
        },
        {
          "output_type": "display_data",
          "data": {
            "text/plain": [
              "<IPython.core.display.HTML object>"
            ],
            "text/html": [
              "<br>    <style><br>        .wandb-row {<br>            display: flex;<br>            flex-direction: row;<br>            flex-wrap: wrap;<br>            justify-content: flex-start;<br>            width: 100%;<br>        }<br>        .wandb-col {<br>            display: flex;<br>            flex-direction: column;<br>            flex-basis: 100%;<br>            flex: 1;<br>            padding: 10px;<br>        }<br>    </style><br><div class=\"wandb-row\"><div class=\"wandb-col\"><h3>Run history:</h3><br/><table class=\"wandb\"><tr><td>tr_accuracy</td><td>▁█▁▁▁▁</td></tr><tr><td>tr_loss_CE</td><td>█▁    </td></tr><tr><td>tr_loss_SE</td><td>█▁    </td></tr><tr><td>val_accuracy</td><td>▁█▁▁▁▁</td></tr><tr><td>val_loss_CE</td><td>█▁    </td></tr><tr><td>val_loss_SE</td><td>█▁    </td></tr></table><br/></div><div class=\"wandb-col\"><h3>Run summary:</h3><br/><table class=\"wandb\"><tr><td>tr_accuracy</td><td>10.07381</td></tr><tr><td>tr_loss_CE</td><td>nan</td></tr><tr><td>tr_loss_SE</td><td>nan</td></tr><tr><td>val_accuracy</td><td>9.82778</td></tr><tr><td>val_loss_CE</td><td>nan</td></tr><tr><td>val_loss_SE</td><td>nan</td></tr></table><br/></div></div>"
            ]
          },
          "metadata": {}
        },
        {
          "output_type": "display_data",
          "data": {
            "text/plain": [
              "<IPython.core.display.HTML object>"
            ],
            "text/html": [
              " View run <strong style=\"color:#cdcd00\">e_5_hl_4_hs_64_lr_0.001_opt_rmsprop_bs_32_init_Xavier_ac_ReLU_l2_0.0005</strong> at: <a href='https://wandb.ai/arunangshudutta218-iitm/dl_assgn_1_q_8/runs/bbkb7zxh' target=\"_blank\">https://wandb.ai/arunangshudutta218-iitm/dl_assgn_1_q_8/runs/bbkb7zxh</a><br> View project at: <a href='https://wandb.ai/arunangshudutta218-iitm/dl_assgn_1_q_8' target=\"_blank\">https://wandb.ai/arunangshudutta218-iitm/dl_assgn_1_q_8</a><br>Synced 5 W&B file(s), 0 media file(s), 0 artifact file(s) and 0 other file(s)"
            ]
          },
          "metadata": {}
        },
        {
          "output_type": "display_data",
          "data": {
            "text/plain": [
              "<IPython.core.display.HTML object>"
            ],
            "text/html": [
              "Find logs at: <code>./wandb/run-20250317_140443-bbkb7zxh/logs</code>"
            ]
          },
          "metadata": {}
        },
        {
          "output_type": "stream",
          "name": "stderr",
          "text": [
            "\u001b[34m\u001b[1mwandb\u001b[0m: Agent Starting Run: kjw2c92o with config:\n",
            "\u001b[34m\u001b[1mwandb\u001b[0m: \tactivation: ReLU\n",
            "\u001b[34m\u001b[1mwandb\u001b[0m: \tbatch_size: 32\n",
            "\u001b[34m\u001b[1mwandb\u001b[0m: \tepochs: 5\n",
            "\u001b[34m\u001b[1mwandb\u001b[0m: \thidden_size: 64\n",
            "\u001b[34m\u001b[1mwandb\u001b[0m: \tlearning_rate: 0.001\n",
            "\u001b[34m\u001b[1mwandb\u001b[0m: \tloss_function: squared_error\n",
            "\u001b[34m\u001b[1mwandb\u001b[0m: \tnum_layers: 4\n",
            "\u001b[34m\u001b[1mwandb\u001b[0m: \toptimizer: rmsprop\n",
            "\u001b[34m\u001b[1mwandb\u001b[0m: \tweight_decay: 0.5\n",
            "\u001b[34m\u001b[1mwandb\u001b[0m: \tweight_init: Xavier\n"
          ]
        },
        {
          "output_type": "display_data",
          "data": {
            "text/plain": [
              "<IPython.core.display.HTML object>"
            ],
            "text/html": [
              "Tracking run with wandb version 0.19.8"
            ]
          },
          "metadata": {}
        },
        {
          "output_type": "display_data",
          "data": {
            "text/plain": [
              "<IPython.core.display.HTML object>"
            ],
            "text/html": [
              "Run data is saved locally in <code>/content/wandb/run-20250317_140528-kjw2c92o</code>"
            ]
          },
          "metadata": {}
        },
        {
          "output_type": "display_data",
          "data": {
            "text/plain": [
              "<IPython.core.display.HTML object>"
            ],
            "text/html": [
              "Syncing run <strong><a href='https://wandb.ai/arunangshudutta218-iitm/dl_assgn_1_q_8/runs/kjw2c92o' target=\"_blank\">flowing-sweep-48</a></strong> to <a href='https://wandb.ai/arunangshudutta218-iitm/dl_assgn_1_q_8' target=\"_blank\">Weights & Biases</a> (<a href='https://wandb.me/developer-guide' target=\"_blank\">docs</a>)<br>Sweep page: <a href='https://wandb.ai/arunangshudutta218-iitm/dl_assgn_1_q_8/sweeps/28yyx0vh' target=\"_blank\">https://wandb.ai/arunangshudutta218-iitm/dl_assgn_1_q_8/sweeps/28yyx0vh</a>"
            ]
          },
          "metadata": {}
        },
        {
          "output_type": "display_data",
          "data": {
            "text/plain": [
              "<IPython.core.display.HTML object>"
            ],
            "text/html": [
              " View project at <a href='https://wandb.ai/arunangshudutta218-iitm/dl_assgn_1_q_8' target=\"_blank\">https://wandb.ai/arunangshudutta218-iitm/dl_assgn_1_q_8</a>"
            ]
          },
          "metadata": {}
        },
        {
          "output_type": "display_data",
          "data": {
            "text/plain": [
              "<IPython.core.display.HTML object>"
            ],
            "text/html": [
              " View sweep at <a href='https://wandb.ai/arunangshudutta218-iitm/dl_assgn_1_q_8/sweeps/28yyx0vh' target=\"_blank\">https://wandb.ai/arunangshudutta218-iitm/dl_assgn_1_q_8/sweeps/28yyx0vh</a>"
            ]
          },
          "metadata": {}
        },
        {
          "output_type": "display_data",
          "data": {
            "text/plain": [
              "<IPython.core.display.HTML object>"
            ],
            "text/html": [
              " View run at <a href='https://wandb.ai/arunangshudutta218-iitm/dl_assgn_1_q_8/runs/kjw2c92o' target=\"_blank\">https://wandb.ai/arunangshudutta218-iitm/dl_assgn_1_q_8/runs/kjw2c92o</a>"
            ]
          },
          "metadata": {}
        },
        {
          "output_type": "stream",
          "name": "stdout",
          "text": [
            "Hyper parameters: \n",
            "\n",
            "Weight initialization type :  Xavier\n",
            "Optimizer :  rmsprop\n",
            "Learning rate (initial):  0.001\n",
            "Batch size:  32\n",
            "-------------------\n",
            "Architecture Description:\n",
            "\n",
            "Layer:  1  ; number of neurons:  64  ; activation function:  ReLU\n",
            "Weight matrix dimention (64, 784) Bias vector dimention (64, 1)\n",
            "----------------\n",
            "Layer:  2  ; number of neurons:  64  ; activation function:  ReLU\n",
            "Weight matrix dimention (64, 64) Bias vector dimention (64, 1)\n",
            "----------------\n",
            "Layer:  3  ; number of neurons:  64  ; activation function:  ReLU\n",
            "Weight matrix dimention (64, 64) Bias vector dimention (64, 1)\n",
            "----------------\n",
            "Layer:  4  ; number of neurons:  64  ; activation function:  ReLU\n",
            "Weight matrix dimention (64, 64) Bias vector dimention (64, 1)\n",
            "----------------\n",
            "Layer:  5  ; number of neurons:  10  ; activation function:  softmax\n",
            "Weight matrix dimention (10, 64) Bias vector dimention (10, 1)\n",
            "----------------\n",
            "1312.0\n",
            "\n",
            " Start of training\n",
            "CE Training Loss:  2.298359601946076 SE Training Loss:  0.45014726198780913 Training Accuracy:  10.592857142857143 CE Test Loss:  2.299338627706533 SE Test Loss:  0.45025115102665053 Testing Accuracy:  10.36111111111111\n",
            "Epoch:  1\n"
          ]
        },
        {
          "output_type": "stream",
          "name": "stderr",
          "text": [
            "100%|██████████| 1312/1312 [00:06<00:00, 201.07it/s]\n"
          ]
        },
        {
          "output_type": "stream",
          "name": "stdout",
          "text": [
            "CE Training Loss:  1.108433659105615 SE Training Loss:  0.2766111608011072 Training Accuracy:  54.11190476190476 CE Test Loss:  1.1089382393187581 SE Test Loss:  0.27686930250503233 Testing Accuracy:  54.272222222222226\n",
            "Epoch:  2\n"
          ]
        },
        {
          "output_type": "stream",
          "name": "stderr",
          "text": [
            "100%|██████████| 1312/1312 [00:04<00:00, 311.12it/s]\n"
          ]
        },
        {
          "output_type": "stream",
          "name": "stdout",
          "text": [
            "CE Training Loss:  1.5406332441215722 SE Training Loss:  0.3036206929887955 Training Accuracy:  47.26190476190476 CE Test Loss:  1.515274333211717 SE Test Loss:  0.30294772341778214 Testing Accuracy:  47.46666666666667\n",
            "Epoch:  3\n"
          ]
        },
        {
          "output_type": "stream",
          "name": "stderr",
          "text": [
            "100%|██████████| 1312/1312 [00:05<00:00, 227.01it/s]\n"
          ]
        },
        {
          "output_type": "stream",
          "name": "stdout",
          "text": [
            "CE Training Loss:  nan SE Training Loss:  nan Training Accuracy:  10.073809523809524 CE Test Loss:  nan SE Test Loss:  nan Testing Accuracy:  9.827777777777778\n",
            "Epoch:  4\n"
          ]
        },
        {
          "output_type": "stream",
          "name": "stderr",
          "text": [
            "100%|██████████| 1312/1312 [00:04<00:00, 274.10it/s]\n"
          ]
        },
        {
          "output_type": "stream",
          "name": "stdout",
          "text": [
            "CE Training Loss:  nan SE Training Loss:  nan Training Accuracy:  10.073809523809524 CE Test Loss:  nan SE Test Loss:  nan Testing Accuracy:  9.827777777777778\n",
            "Epoch:  5\n"
          ]
        },
        {
          "output_type": "stream",
          "name": "stderr",
          "text": [
            "100%|██████████| 1312/1312 [00:03<00:00, 341.33it/s]\n"
          ]
        },
        {
          "output_type": "stream",
          "name": "stdout",
          "text": [
            "CE Training Loss:  nan SE Training Loss:  nan Training Accuracy:  10.073809523809524 CE Test Loss:  nan SE Test Loss:  nan Testing Accuracy:  9.827777777777778\n"
          ]
        },
        {
          "output_type": "display_data",
          "data": {
            "text/plain": [
              "<IPython.core.display.HTML object>"
            ],
            "text/html": []
          },
          "metadata": {}
        },
        {
          "output_type": "display_data",
          "data": {
            "text/plain": [
              "<IPython.core.display.HTML object>"
            ],
            "text/html": [
              "<br>    <style><br>        .wandb-row {<br>            display: flex;<br>            flex-direction: row;<br>            flex-wrap: wrap;<br>            justify-content: flex-start;<br>            width: 100%;<br>        }<br>        .wandb-col {<br>            display: flex;<br>            flex-direction: column;<br>            flex-basis: 100%;<br>            flex: 1;<br>            padding: 10px;<br>        }<br>    </style><br><div class=\"wandb-row\"><div class=\"wandb-col\"><h3>Run history:</h3><br/><table class=\"wandb\"><tr><td>tr_accuracy</td><td>▁█▇▁▁▁</td></tr><tr><td>tr_loss_CE</td><td>█▁▄   </td></tr><tr><td>tr_loss_SE</td><td>█▁▂   </td></tr><tr><td>val_accuracy</td><td>▁█▇▁▁▁</td></tr><tr><td>val_loss_CE</td><td>█▁▃   </td></tr><tr><td>val_loss_SE</td><td>█▁▂   </td></tr></table><br/></div><div class=\"wandb-col\"><h3>Run summary:</h3><br/><table class=\"wandb\"><tr><td>tr_accuracy</td><td>10.07381</td></tr><tr><td>tr_loss_CE</td><td>nan</td></tr><tr><td>tr_loss_SE</td><td>nan</td></tr><tr><td>val_accuracy</td><td>9.82778</td></tr><tr><td>val_loss_CE</td><td>nan</td></tr><tr><td>val_loss_SE</td><td>nan</td></tr></table><br/></div></div>"
            ]
          },
          "metadata": {}
        },
        {
          "output_type": "display_data",
          "data": {
            "text/plain": [
              "<IPython.core.display.HTML object>"
            ],
            "text/html": [
              " View run <strong style=\"color:#cdcd00\">e_5_hl_4_hs_64_lr_0.001_opt_rmsprop_bs_32_init_Xavier_ac_ReLU_l2_0.5</strong> at: <a href='https://wandb.ai/arunangshudutta218-iitm/dl_assgn_1_q_8/runs/kjw2c92o' target=\"_blank\">https://wandb.ai/arunangshudutta218-iitm/dl_assgn_1_q_8/runs/kjw2c92o</a><br> View project at: <a href='https://wandb.ai/arunangshudutta218-iitm/dl_assgn_1_q_8' target=\"_blank\">https://wandb.ai/arunangshudutta218-iitm/dl_assgn_1_q_8</a><br>Synced 5 W&B file(s), 0 media file(s), 0 artifact file(s) and 0 other file(s)"
            ]
          },
          "metadata": {}
        },
        {
          "output_type": "display_data",
          "data": {
            "text/plain": [
              "<IPython.core.display.HTML object>"
            ],
            "text/html": [
              "Find logs at: <code>./wandb/run-20250317_140528-kjw2c92o/logs</code>"
            ]
          },
          "metadata": {}
        },
        {
          "output_type": "stream",
          "name": "stderr",
          "text": [
            "\u001b[34m\u001b[1mwandb\u001b[0m: Sweep Agent: Waiting for job.\n",
            "\u001b[34m\u001b[1mwandb\u001b[0m: Job received.\n",
            "\u001b[34m\u001b[1mwandb\u001b[0m: Agent Starting Run: ejzlritb with config:\n",
            "\u001b[34m\u001b[1mwandb\u001b[0m: \tactivation: ReLU\n",
            "\u001b[34m\u001b[1mwandb\u001b[0m: \tbatch_size: 32\n",
            "\u001b[34m\u001b[1mwandb\u001b[0m: \tepochs: 5\n",
            "\u001b[34m\u001b[1mwandb\u001b[0m: \thidden_size: 64\n",
            "\u001b[34m\u001b[1mwandb\u001b[0m: \tlearning_rate: 0.001\n",
            "\u001b[34m\u001b[1mwandb\u001b[0m: \tloss_function: squared_error\n",
            "\u001b[34m\u001b[1mwandb\u001b[0m: \tnum_layers: 4\n",
            "\u001b[34m\u001b[1mwandb\u001b[0m: \toptimizer: adam\n",
            "\u001b[34m\u001b[1mwandb\u001b[0m: \tweight_decay: 0\n",
            "\u001b[34m\u001b[1mwandb\u001b[0m: \tweight_init: Xavier\n"
          ]
        },
        {
          "output_type": "display_data",
          "data": {
            "text/plain": [
              "<IPython.core.display.HTML object>"
            ],
            "text/html": [
              "Tracking run with wandb version 0.19.8"
            ]
          },
          "metadata": {}
        },
        {
          "output_type": "display_data",
          "data": {
            "text/plain": [
              "<IPython.core.display.HTML object>"
            ],
            "text/html": [
              "Run data is saved locally in <code>/content/wandb/run-20250317_140614-ejzlritb</code>"
            ]
          },
          "metadata": {}
        },
        {
          "output_type": "display_data",
          "data": {
            "text/plain": [
              "<IPython.core.display.HTML object>"
            ],
            "text/html": [
              "Syncing run <strong><a href='https://wandb.ai/arunangshudutta218-iitm/dl_assgn_1_q_8/runs/ejzlritb' target=\"_blank\">efficient-sweep-49</a></strong> to <a href='https://wandb.ai/arunangshudutta218-iitm/dl_assgn_1_q_8' target=\"_blank\">Weights & Biases</a> (<a href='https://wandb.me/developer-guide' target=\"_blank\">docs</a>)<br>Sweep page: <a href='https://wandb.ai/arunangshudutta218-iitm/dl_assgn_1_q_8/sweeps/28yyx0vh' target=\"_blank\">https://wandb.ai/arunangshudutta218-iitm/dl_assgn_1_q_8/sweeps/28yyx0vh</a>"
            ]
          },
          "metadata": {}
        },
        {
          "output_type": "display_data",
          "data": {
            "text/plain": [
              "<IPython.core.display.HTML object>"
            ],
            "text/html": [
              " View project at <a href='https://wandb.ai/arunangshudutta218-iitm/dl_assgn_1_q_8' target=\"_blank\">https://wandb.ai/arunangshudutta218-iitm/dl_assgn_1_q_8</a>"
            ]
          },
          "metadata": {}
        },
        {
          "output_type": "display_data",
          "data": {
            "text/plain": [
              "<IPython.core.display.HTML object>"
            ],
            "text/html": [
              " View sweep at <a href='https://wandb.ai/arunangshudutta218-iitm/dl_assgn_1_q_8/sweeps/28yyx0vh' target=\"_blank\">https://wandb.ai/arunangshudutta218-iitm/dl_assgn_1_q_8/sweeps/28yyx0vh</a>"
            ]
          },
          "metadata": {}
        },
        {
          "output_type": "display_data",
          "data": {
            "text/plain": [
              "<IPython.core.display.HTML object>"
            ],
            "text/html": [
              " View run at <a href='https://wandb.ai/arunangshudutta218-iitm/dl_assgn_1_q_8/runs/ejzlritb' target=\"_blank\">https://wandb.ai/arunangshudutta218-iitm/dl_assgn_1_q_8/runs/ejzlritb</a>"
            ]
          },
          "metadata": {}
        },
        {
          "output_type": "stream",
          "name": "stdout",
          "text": [
            "Hyper parameters: \n",
            "\n",
            "Weight initialization type :  Xavier\n",
            "Optimizer :  adam\n",
            "Learning rate (initial):  0.001\n",
            "Batch size:  32\n",
            "-------------------\n",
            "Architecture Description:\n",
            "\n",
            "Layer:  1  ; number of neurons:  64  ; activation function:  ReLU\n",
            "Weight matrix dimention (64, 784) Bias vector dimention (64, 1)\n",
            "----------------\n",
            "Layer:  2  ; number of neurons:  64  ; activation function:  ReLU\n",
            "Weight matrix dimention (64, 64) Bias vector dimention (64, 1)\n",
            "----------------\n",
            "Layer:  3  ; number of neurons:  64  ; activation function:  ReLU\n",
            "Weight matrix dimention (64, 64) Bias vector dimention (64, 1)\n",
            "----------------\n",
            "Layer:  4  ; number of neurons:  64  ; activation function:  ReLU\n",
            "Weight matrix dimention (64, 64) Bias vector dimention (64, 1)\n",
            "----------------\n",
            "Layer:  5  ; number of neurons:  10  ; activation function:  softmax\n",
            "Weight matrix dimention (10, 64) Bias vector dimention (10, 1)\n",
            "----------------\n",
            "1312.0\n",
            "\n",
            " Start of training\n",
            "CE Training Loss:  2.3244354406798062 SE Training Loss:  0.45226354797405466 Training Accuracy:  10.271428571428572 CE Test Loss:  2.323420673519552 SE Test Loss:  0.4521623066383195 Testing Accuracy:  10.344444444444445\n",
            "Epoch:  1\n"
          ]
        },
        {
          "output_type": "stream",
          "name": "stderr",
          "text": [
            "100%|██████████| 1312/1312 [00:06<00:00, 189.30it/s]\n"
          ]
        },
        {
          "output_type": "stream",
          "name": "stdout",
          "text": [
            "CE Training Loss:  0.4236705107519774 SE Training Loss:  0.10585679804246982 Training Accuracy:  85.06904761904762 CE Test Loss:  0.4346377830680312 SE Test Loss:  0.10770010525211574 Testing Accuracy:  84.83888888888889\n",
            "Epoch:  2\n"
          ]
        },
        {
          "output_type": "stream",
          "name": "stderr",
          "text": [
            "100%|██████████| 1312/1312 [00:04<00:00, 279.32it/s]\n"
          ]
        },
        {
          "output_type": "stream",
          "name": "stdout",
          "text": [
            "CE Training Loss:  nan SE Training Loss:  nan Training Accuracy:  10.073809523809524 CE Test Loss:  nan SE Test Loss:  nan Testing Accuracy:  9.827777777777778\n",
            "Epoch:  3\n"
          ]
        },
        {
          "output_type": "stream",
          "name": "stderr",
          "text": [
            "100%|██████████| 1312/1312 [00:07<00:00, 172.73it/s]\n"
          ]
        },
        {
          "output_type": "stream",
          "name": "stdout",
          "text": [
            "CE Training Loss:  nan SE Training Loss:  nan Training Accuracy:  10.073809523809524 CE Test Loss:  nan SE Test Loss:  nan Testing Accuracy:  9.827777777777778\n",
            "Epoch:  4\n"
          ]
        },
        {
          "output_type": "stream",
          "name": "stderr",
          "text": [
            "100%|██████████| 1312/1312 [00:04<00:00, 280.14it/s]\n"
          ]
        },
        {
          "output_type": "stream",
          "name": "stdout",
          "text": [
            "CE Training Loss:  nan SE Training Loss:  nan Training Accuracy:  10.073809523809524 CE Test Loss:  nan SE Test Loss:  nan Testing Accuracy:  9.827777777777778\n",
            "Epoch:  5\n"
          ]
        },
        {
          "output_type": "stream",
          "name": "stderr",
          "text": [
            "100%|██████████| 1312/1312 [00:06<00:00, 214.18it/s]\n"
          ]
        },
        {
          "output_type": "stream",
          "name": "stdout",
          "text": [
            "CE Training Loss:  nan SE Training Loss:  nan Training Accuracy:  10.073809523809524 CE Test Loss:  nan SE Test Loss:  nan Testing Accuracy:  9.827777777777778\n"
          ]
        },
        {
          "output_type": "display_data",
          "data": {
            "text/plain": [
              "<IPython.core.display.HTML object>"
            ],
            "text/html": []
          },
          "metadata": {}
        },
        {
          "output_type": "display_data",
          "data": {
            "text/plain": [
              "<IPython.core.display.HTML object>"
            ],
            "text/html": [
              "<br>    <style><br>        .wandb-row {<br>            display: flex;<br>            flex-direction: row;<br>            flex-wrap: wrap;<br>            justify-content: flex-start;<br>            width: 100%;<br>        }<br>        .wandb-col {<br>            display: flex;<br>            flex-direction: column;<br>            flex-basis: 100%;<br>            flex: 1;<br>            padding: 10px;<br>        }<br>    </style><br><div class=\"wandb-row\"><div class=\"wandb-col\"><h3>Run history:</h3><br/><table class=\"wandb\"><tr><td>tr_accuracy</td><td>▁█▁▁▁▁</td></tr><tr><td>tr_loss_CE</td><td>█▁    </td></tr><tr><td>tr_loss_SE</td><td>█▁    </td></tr><tr><td>val_accuracy</td><td>▁█▁▁▁▁</td></tr><tr><td>val_loss_CE</td><td>█▁    </td></tr><tr><td>val_loss_SE</td><td>█▁    </td></tr></table><br/></div><div class=\"wandb-col\"><h3>Run summary:</h3><br/><table class=\"wandb\"><tr><td>tr_accuracy</td><td>10.07381</td></tr><tr><td>tr_loss_CE</td><td>nan</td></tr><tr><td>tr_loss_SE</td><td>nan</td></tr><tr><td>val_accuracy</td><td>9.82778</td></tr><tr><td>val_loss_CE</td><td>nan</td></tr><tr><td>val_loss_SE</td><td>nan</td></tr></table><br/></div></div>"
            ]
          },
          "metadata": {}
        },
        {
          "output_type": "display_data",
          "data": {
            "text/plain": [
              "<IPython.core.display.HTML object>"
            ],
            "text/html": [
              " View run <strong style=\"color:#cdcd00\">e_5_hl_4_hs_64_lr_0.001_opt_adam_bs_32_init_Xavier_ac_ReLU_l2_0</strong> at: <a href='https://wandb.ai/arunangshudutta218-iitm/dl_assgn_1_q_8/runs/ejzlritb' target=\"_blank\">https://wandb.ai/arunangshudutta218-iitm/dl_assgn_1_q_8/runs/ejzlritb</a><br> View project at: <a href='https://wandb.ai/arunangshudutta218-iitm/dl_assgn_1_q_8' target=\"_blank\">https://wandb.ai/arunangshudutta218-iitm/dl_assgn_1_q_8</a><br>Synced 5 W&B file(s), 0 media file(s), 0 artifact file(s) and 0 other file(s)"
            ]
          },
          "metadata": {}
        },
        {
          "output_type": "display_data",
          "data": {
            "text/plain": [
              "<IPython.core.display.HTML object>"
            ],
            "text/html": [
              "Find logs at: <code>./wandb/run-20250317_140614-ejzlritb/logs</code>"
            ]
          },
          "metadata": {}
        },
        {
          "output_type": "stream",
          "name": "stderr",
          "text": [
            "\u001b[34m\u001b[1mwandb\u001b[0m: Agent Starting Run: 3mp1rrlz with config:\n",
            "\u001b[34m\u001b[1mwandb\u001b[0m: \tactivation: ReLU\n",
            "\u001b[34m\u001b[1mwandb\u001b[0m: \tbatch_size: 32\n",
            "\u001b[34m\u001b[1mwandb\u001b[0m: \tepochs: 5\n",
            "\u001b[34m\u001b[1mwandb\u001b[0m: \thidden_size: 64\n",
            "\u001b[34m\u001b[1mwandb\u001b[0m: \tlearning_rate: 0.001\n",
            "\u001b[34m\u001b[1mwandb\u001b[0m: \tloss_function: squared_error\n",
            "\u001b[34m\u001b[1mwandb\u001b[0m: \tnum_layers: 4\n",
            "\u001b[34m\u001b[1mwandb\u001b[0m: \toptimizer: adam\n",
            "\u001b[34m\u001b[1mwandb\u001b[0m: \tweight_decay: 0.0005\n",
            "\u001b[34m\u001b[1mwandb\u001b[0m: \tweight_init: Xavier\n"
          ]
        },
        {
          "output_type": "display_data",
          "data": {
            "text/plain": [
              "<IPython.core.display.HTML object>"
            ],
            "text/html": [
              "Tracking run with wandb version 0.19.8"
            ]
          },
          "metadata": {}
        },
        {
          "output_type": "display_data",
          "data": {
            "text/plain": [
              "<IPython.core.display.HTML object>"
            ],
            "text/html": [
              "Run data is saved locally in <code>/content/wandb/run-20250317_140654-3mp1rrlz</code>"
            ]
          },
          "metadata": {}
        },
        {
          "output_type": "display_data",
          "data": {
            "text/plain": [
              "<IPython.core.display.HTML object>"
            ],
            "text/html": [
              "Syncing run <strong><a href='https://wandb.ai/arunangshudutta218-iitm/dl_assgn_1_q_8/runs/3mp1rrlz' target=\"_blank\">dulcet-sweep-50</a></strong> to <a href='https://wandb.ai/arunangshudutta218-iitm/dl_assgn_1_q_8' target=\"_blank\">Weights & Biases</a> (<a href='https://wandb.me/developer-guide' target=\"_blank\">docs</a>)<br>Sweep page: <a href='https://wandb.ai/arunangshudutta218-iitm/dl_assgn_1_q_8/sweeps/28yyx0vh' target=\"_blank\">https://wandb.ai/arunangshudutta218-iitm/dl_assgn_1_q_8/sweeps/28yyx0vh</a>"
            ]
          },
          "metadata": {}
        },
        {
          "output_type": "display_data",
          "data": {
            "text/plain": [
              "<IPython.core.display.HTML object>"
            ],
            "text/html": [
              " View project at <a href='https://wandb.ai/arunangshudutta218-iitm/dl_assgn_1_q_8' target=\"_blank\">https://wandb.ai/arunangshudutta218-iitm/dl_assgn_1_q_8</a>"
            ]
          },
          "metadata": {}
        },
        {
          "output_type": "display_data",
          "data": {
            "text/plain": [
              "<IPython.core.display.HTML object>"
            ],
            "text/html": [
              " View sweep at <a href='https://wandb.ai/arunangshudutta218-iitm/dl_assgn_1_q_8/sweeps/28yyx0vh' target=\"_blank\">https://wandb.ai/arunangshudutta218-iitm/dl_assgn_1_q_8/sweeps/28yyx0vh</a>"
            ]
          },
          "metadata": {}
        },
        {
          "output_type": "display_data",
          "data": {
            "text/plain": [
              "<IPython.core.display.HTML object>"
            ],
            "text/html": [
              " View run at <a href='https://wandb.ai/arunangshudutta218-iitm/dl_assgn_1_q_8/runs/3mp1rrlz' target=\"_blank\">https://wandb.ai/arunangshudutta218-iitm/dl_assgn_1_q_8/runs/3mp1rrlz</a>"
            ]
          },
          "metadata": {}
        },
        {
          "output_type": "stream",
          "name": "stdout",
          "text": [
            "Hyper parameters: \n",
            "\n",
            "Weight initialization type :  Xavier\n",
            "Optimizer :  adam\n",
            "Learning rate (initial):  0.001\n",
            "Batch size:  32\n",
            "-------------------\n",
            "Architecture Description:\n",
            "\n",
            "Layer:  1  ; number of neurons:  64  ; activation function:  ReLU\n",
            "Weight matrix dimention (64, 784) Bias vector dimention (64, 1)\n",
            "----------------\n",
            "Layer:  2  ; number of neurons:  64  ; activation function:  ReLU\n",
            "Weight matrix dimention (64, 64) Bias vector dimention (64, 1)\n",
            "----------------\n",
            "Layer:  3  ; number of neurons:  64  ; activation function:  ReLU\n",
            "Weight matrix dimention (64, 64) Bias vector dimention (64, 1)\n",
            "----------------\n",
            "Layer:  4  ; number of neurons:  64  ; activation function:  ReLU\n",
            "Weight matrix dimention (64, 64) Bias vector dimention (64, 1)\n",
            "----------------\n",
            "Layer:  5  ; number of neurons:  10  ; activation function:  softmax\n",
            "Weight matrix dimention (10, 64) Bias vector dimention (10, 1)\n",
            "----------------\n",
            "1312.0\n",
            "\n",
            " Start of training\n",
            "CE Training Loss:  2.2950563806166193 SE Training Loss:  0.44907694067066506 Training Accuracy:  15.661904761904761 CE Test Loss:  2.2940081501116354 SE Test Loss:  0.44898384989089 Testing Accuracy:  15.85\n",
            "Epoch:  1\n"
          ]
        },
        {
          "output_type": "stream",
          "name": "stderr",
          "text": [
            "100%|██████████| 1312/1312 [00:05<00:00, 249.56it/s]\n"
          ]
        },
        {
          "output_type": "stream",
          "name": "stdout",
          "text": [
            "CE Training Loss:  0.4656794176358535 SE Training Loss:  0.11717991335558935 Training Accuracy:  83.46428571428571 CE Test Loss:  0.4788141643120804 SE Test Loss:  0.11935800200862941 Testing Accuracy:  83.32777777777778\n",
            "Epoch:  2\n"
          ]
        },
        {
          "output_type": "stream",
          "name": "stderr",
          "text": [
            "100%|██████████| 1312/1312 [00:10<00:00, 121.67it/s]\n"
          ]
        },
        {
          "output_type": "stream",
          "name": "stdout",
          "text": [
            "CE Training Loss:  0.4779296804094183 SE Training Loss:  0.11583293369442446 Training Accuracy:  84.21428571428571 CE Test Loss:  0.4995082558139709 SE Test Loss:  0.11979478514391045 Testing Accuracy:  83.70555555555555\n",
            "Epoch:  3\n"
          ]
        },
        {
          "output_type": "stream",
          "name": "stderr",
          "text": [
            "100%|██████████| 1312/1312 [00:10<00:00, 120.79it/s]\n"
          ]
        },
        {
          "output_type": "stream",
          "name": "stdout",
          "text": [
            "CE Training Loss:  nan SE Training Loss:  nan Training Accuracy:  10.073809523809524 CE Test Loss:  nan SE Test Loss:  nan Testing Accuracy:  9.827777777777778\n",
            "Epoch:  4\n"
          ]
        },
        {
          "output_type": "stream",
          "name": "stderr",
          "text": [
            "100%|██████████| 1312/1312 [00:07<00:00, 180.48it/s]\n"
          ]
        },
        {
          "output_type": "stream",
          "name": "stdout",
          "text": [
            "CE Training Loss:  nan SE Training Loss:  nan Training Accuracy:  10.073809523809524 CE Test Loss:  nan SE Test Loss:  nan Testing Accuracy:  9.827777777777778\n",
            "Epoch:  5\n"
          ]
        },
        {
          "output_type": "stream",
          "name": "stderr",
          "text": [
            "100%|██████████| 1312/1312 [00:04<00:00, 273.23it/s]\n"
          ]
        },
        {
          "output_type": "stream",
          "name": "stdout",
          "text": [
            "CE Training Loss:  nan SE Training Loss:  nan Training Accuracy:  10.073809523809524 CE Test Loss:  nan SE Test Loss:  nan Testing Accuracy:  9.827777777777778\n"
          ]
        },
        {
          "output_type": "display_data",
          "data": {
            "text/plain": [
              "<IPython.core.display.HTML object>"
            ],
            "text/html": []
          },
          "metadata": {}
        },
        {
          "output_type": "display_data",
          "data": {
            "text/plain": [
              "<IPython.core.display.HTML object>"
            ],
            "text/html": [
              "<br>    <style><br>        .wandb-row {<br>            display: flex;<br>            flex-direction: row;<br>            flex-wrap: wrap;<br>            justify-content: flex-start;<br>            width: 100%;<br>        }<br>        .wandb-col {<br>            display: flex;<br>            flex-direction: column;<br>            flex-basis: 100%;<br>            flex: 1;<br>            padding: 10px;<br>        }<br>    </style><br><div class=\"wandb-row\"><div class=\"wandb-col\"><h3>Run history:</h3><br/><table class=\"wandb\"><tr><td>tr_accuracy</td><td>▂██▁▁▁</td></tr><tr><td>tr_loss_CE</td><td>█▁▁   </td></tr><tr><td>tr_loss_SE</td><td>█▁▁   </td></tr><tr><td>val_accuracy</td><td>▂██▁▁▁</td></tr><tr><td>val_loss_CE</td><td>█▁▁   </td></tr><tr><td>val_loss_SE</td><td>█▁▁   </td></tr></table><br/></div><div class=\"wandb-col\"><h3>Run summary:</h3><br/><table class=\"wandb\"><tr><td>tr_accuracy</td><td>10.07381</td></tr><tr><td>tr_loss_CE</td><td>nan</td></tr><tr><td>tr_loss_SE</td><td>nan</td></tr><tr><td>val_accuracy</td><td>9.82778</td></tr><tr><td>val_loss_CE</td><td>nan</td></tr><tr><td>val_loss_SE</td><td>nan</td></tr></table><br/></div></div>"
            ]
          },
          "metadata": {}
        },
        {
          "output_type": "display_data",
          "data": {
            "text/plain": [
              "<IPython.core.display.HTML object>"
            ],
            "text/html": [
              " View run <strong style=\"color:#cdcd00\">e_5_hl_4_hs_64_lr_0.001_opt_adam_bs_32_init_Xavier_ac_ReLU_l2_0.0005</strong> at: <a href='https://wandb.ai/arunangshudutta218-iitm/dl_assgn_1_q_8/runs/3mp1rrlz' target=\"_blank\">https://wandb.ai/arunangshudutta218-iitm/dl_assgn_1_q_8/runs/3mp1rrlz</a><br> View project at: <a href='https://wandb.ai/arunangshudutta218-iitm/dl_assgn_1_q_8' target=\"_blank\">https://wandb.ai/arunangshudutta218-iitm/dl_assgn_1_q_8</a><br>Synced 5 W&B file(s), 0 media file(s), 0 artifact file(s) and 0 other file(s)"
            ]
          },
          "metadata": {}
        },
        {
          "output_type": "display_data",
          "data": {
            "text/plain": [
              "<IPython.core.display.HTML object>"
            ],
            "text/html": [
              "Find logs at: <code>./wandb/run-20250317_140654-3mp1rrlz/logs</code>"
            ]
          },
          "metadata": {}
        },
        {
          "output_type": "stream",
          "name": "stderr",
          "text": [
            "\u001b[34m\u001b[1mwandb\u001b[0m: Agent Starting Run: q4p2iet0 with config:\n",
            "\u001b[34m\u001b[1mwandb\u001b[0m: \tactivation: ReLU\n",
            "\u001b[34m\u001b[1mwandb\u001b[0m: \tbatch_size: 32\n",
            "\u001b[34m\u001b[1mwandb\u001b[0m: \tepochs: 5\n",
            "\u001b[34m\u001b[1mwandb\u001b[0m: \thidden_size: 64\n",
            "\u001b[34m\u001b[1mwandb\u001b[0m: \tlearning_rate: 0.001\n",
            "\u001b[34m\u001b[1mwandb\u001b[0m: \tloss_function: squared_error\n",
            "\u001b[34m\u001b[1mwandb\u001b[0m: \tnum_layers: 4\n",
            "\u001b[34m\u001b[1mwandb\u001b[0m: \toptimizer: adam\n",
            "\u001b[34m\u001b[1mwandb\u001b[0m: \tweight_decay: 0.5\n",
            "\u001b[34m\u001b[1mwandb\u001b[0m: \tweight_init: Xavier\n"
          ]
        },
        {
          "output_type": "display_data",
          "data": {
            "text/plain": [
              "<IPython.core.display.HTML object>"
            ],
            "text/html": [
              "Tracking run with wandb version 0.19.8"
            ]
          },
          "metadata": {}
        },
        {
          "output_type": "display_data",
          "data": {
            "text/plain": [
              "<IPython.core.display.HTML object>"
            ],
            "text/html": [
              "Run data is saved locally in <code>/content/wandb/run-20250317_140750-q4p2iet0</code>"
            ]
          },
          "metadata": {}
        },
        {
          "output_type": "display_data",
          "data": {
            "text/plain": [
              "<IPython.core.display.HTML object>"
            ],
            "text/html": [
              "Syncing run <strong><a href='https://wandb.ai/arunangshudutta218-iitm/dl_assgn_1_q_8/runs/q4p2iet0' target=\"_blank\">different-sweep-51</a></strong> to <a href='https://wandb.ai/arunangshudutta218-iitm/dl_assgn_1_q_8' target=\"_blank\">Weights & Biases</a> (<a href='https://wandb.me/developer-guide' target=\"_blank\">docs</a>)<br>Sweep page: <a href='https://wandb.ai/arunangshudutta218-iitm/dl_assgn_1_q_8/sweeps/28yyx0vh' target=\"_blank\">https://wandb.ai/arunangshudutta218-iitm/dl_assgn_1_q_8/sweeps/28yyx0vh</a>"
            ]
          },
          "metadata": {}
        },
        {
          "output_type": "display_data",
          "data": {
            "text/plain": [
              "<IPython.core.display.HTML object>"
            ],
            "text/html": [
              " View project at <a href='https://wandb.ai/arunangshudutta218-iitm/dl_assgn_1_q_8' target=\"_blank\">https://wandb.ai/arunangshudutta218-iitm/dl_assgn_1_q_8</a>"
            ]
          },
          "metadata": {}
        },
        {
          "output_type": "display_data",
          "data": {
            "text/plain": [
              "<IPython.core.display.HTML object>"
            ],
            "text/html": [
              " View sweep at <a href='https://wandb.ai/arunangshudutta218-iitm/dl_assgn_1_q_8/sweeps/28yyx0vh' target=\"_blank\">https://wandb.ai/arunangshudutta218-iitm/dl_assgn_1_q_8/sweeps/28yyx0vh</a>"
            ]
          },
          "metadata": {}
        },
        {
          "output_type": "display_data",
          "data": {
            "text/plain": [
              "<IPython.core.display.HTML object>"
            ],
            "text/html": [
              " View run at <a href='https://wandb.ai/arunangshudutta218-iitm/dl_assgn_1_q_8/runs/q4p2iet0' target=\"_blank\">https://wandb.ai/arunangshudutta218-iitm/dl_assgn_1_q_8/runs/q4p2iet0</a>"
            ]
          },
          "metadata": {}
        },
        {
          "output_type": "stream",
          "name": "stdout",
          "text": [
            "Hyper parameters: \n",
            "\n",
            "Weight initialization type :  Xavier\n",
            "Optimizer :  adam\n",
            "Learning rate (initial):  0.001\n",
            "Batch size:  32\n",
            "-------------------\n",
            "Architecture Description:\n",
            "\n",
            "Layer:  1  ; number of neurons:  64  ; activation function:  ReLU\n",
            "Weight matrix dimention (64, 784) Bias vector dimention (64, 1)\n",
            "----------------\n",
            "Layer:  2  ; number of neurons:  64  ; activation function:  ReLU\n",
            "Weight matrix dimention (64, 64) Bias vector dimention (64, 1)\n",
            "----------------\n",
            "Layer:  3  ; number of neurons:  64  ; activation function:  ReLU\n",
            "Weight matrix dimention (64, 64) Bias vector dimention (64, 1)\n",
            "----------------\n",
            "Layer:  4  ; number of neurons:  64  ; activation function:  ReLU\n",
            "Weight matrix dimention (64, 64) Bias vector dimention (64, 1)\n",
            "----------------\n",
            "Layer:  5  ; number of neurons:  10  ; activation function:  softmax\n",
            "Weight matrix dimention (10, 64) Bias vector dimention (10, 1)\n",
            "----------------\n",
            "1312.0\n",
            "\n",
            " Start of training\n",
            "CE Training Loss:  2.3117845221007793 SE Training Loss:  0.450709801068972 Training Accuracy:  11.511904761904763 CE Test Loss:  2.310826784777399 SE Test Loss:  0.4506061930971262 Testing Accuracy:  11.905555555555555\n",
            "Epoch:  1\n"
          ]
        },
        {
          "output_type": "stream",
          "name": "stderr",
          "text": [
            "100%|██████████| 1312/1312 [00:04<00:00, 288.15it/s]\n"
          ]
        },
        {
          "output_type": "stream",
          "name": "stdout",
          "text": [
            "CE Training Loss:  1.1316941554690967 SE Training Loss:  0.2629707920413136 Training Accuracy:  60.50952380952381 CE Test Loss:  1.1431071096698455 SE Test Loss:  0.26432092164726967 Testing Accuracy:  60.18888888888889\n",
            "Epoch:  2\n"
          ]
        },
        {
          "output_type": "stream",
          "name": "stderr",
          "text": [
            "100%|██████████| 1312/1312 [00:06<00:00, 200.96it/s]\n"
          ]
        },
        {
          "output_type": "stream",
          "name": "stdout",
          "text": [
            "CE Training Loss:  1.3007088120296844 SE Training Loss:  0.2571202576476905 Training Accuracy:  62.31666666666667 CE Test Loss:  1.3092083834081993 SE Test Loss:  0.25568185607502025 Testing Accuracy:  62.6\n",
            "Epoch:  3\n"
          ]
        },
        {
          "output_type": "stream",
          "name": "stderr",
          "text": [
            "100%|██████████| 1312/1312 [00:05<00:00, 243.81it/s]\n"
          ]
        },
        {
          "output_type": "stream",
          "name": "stdout",
          "text": [
            "CE Training Loss:  1.3424914364584006 SE Training Loss:  0.28431021722775307 Training Accuracy:  56.83095238095238 CE Test Loss:  1.3602221843887488 SE Test Loss:  0.2851638922273067 Testing Accuracy:  56.93333333333333\n",
            "Epoch:  4\n"
          ]
        },
        {
          "output_type": "stream",
          "name": "stderr",
          "text": [
            "100%|██████████| 1312/1312 [00:04<00:00, 268.48it/s]\n"
          ]
        },
        {
          "output_type": "stream",
          "name": "stdout",
          "text": [
            "CE Training Loss:  1.1046390496456016 SE Training Loss:  0.26643665006931044 Training Accuracy:  57.82857142857143 CE Test Loss:  1.0956793571714163 SE Test Loss:  0.26522170399681777 Testing Accuracy:  58.21666666666667\n",
            "Epoch:  5\n"
          ]
        },
        {
          "output_type": "stream",
          "name": "stderr",
          "text": [
            "100%|██████████| 1312/1312 [00:07<00:00, 175.52it/s]\n"
          ]
        },
        {
          "output_type": "stream",
          "name": "stdout",
          "text": [
            "CE Training Loss:  1.7207633893107652 SE Training Loss:  0.2965735493126206 Training Accuracy:  55.65952380952381 CE Test Loss:  1.7526254912692858 SE Test Loss:  0.2982542965034539 Testing Accuracy:  55.33888888888889\n"
          ]
        },
        {
          "output_type": "display_data",
          "data": {
            "text/plain": [
              "<IPython.core.display.HTML object>"
            ],
            "text/html": []
          },
          "metadata": {}
        },
        {
          "output_type": "display_data",
          "data": {
            "text/plain": [
              "<IPython.core.display.HTML object>"
            ],
            "text/html": [
              "<br>    <style><br>        .wandb-row {<br>            display: flex;<br>            flex-direction: row;<br>            flex-wrap: wrap;<br>            justify-content: flex-start;<br>            width: 100%;<br>        }<br>        .wandb-col {<br>            display: flex;<br>            flex-direction: column;<br>            flex-basis: 100%;<br>            flex: 1;<br>            padding: 10px;<br>        }<br>    </style><br><div class=\"wandb-row\"><div class=\"wandb-col\"><h3>Run history:</h3><br/><table class=\"wandb\"><tr><td>tr_accuracy</td><td>▁██▇▇▇</td></tr><tr><td>tr_loss_CE</td><td>█▁▂▂▁▅</td></tr><tr><td>tr_loss_SE</td><td>█▁▁▂▁▂</td></tr><tr><td>val_accuracy</td><td>▁██▇▇▇</td></tr><tr><td>val_loss_CE</td><td>█▁▂▃▁▅</td></tr><tr><td>val_loss_SE</td><td>█▁▁▂▁▃</td></tr></table><br/></div><div class=\"wandb-col\"><h3>Run summary:</h3><br/><table class=\"wandb\"><tr><td>tr_accuracy</td><td>55.65952</td></tr><tr><td>tr_loss_CE</td><td>1.72076</td></tr><tr><td>tr_loss_SE</td><td>0.29657</td></tr><tr><td>val_accuracy</td><td>55.33889</td></tr><tr><td>val_loss_CE</td><td>1.75263</td></tr><tr><td>val_loss_SE</td><td>0.29825</td></tr></table><br/></div></div>"
            ]
          },
          "metadata": {}
        },
        {
          "output_type": "display_data",
          "data": {
            "text/plain": [
              "<IPython.core.display.HTML object>"
            ],
            "text/html": [
              " View run <strong style=\"color:#cdcd00\">e_5_hl_4_hs_64_lr_0.001_opt_adam_bs_32_init_Xavier_ac_ReLU_l2_0.5</strong> at: <a href='https://wandb.ai/arunangshudutta218-iitm/dl_assgn_1_q_8/runs/q4p2iet0' target=\"_blank\">https://wandb.ai/arunangshudutta218-iitm/dl_assgn_1_q_8/runs/q4p2iet0</a><br> View project at: <a href='https://wandb.ai/arunangshudutta218-iitm/dl_assgn_1_q_8' target=\"_blank\">https://wandb.ai/arunangshudutta218-iitm/dl_assgn_1_q_8</a><br>Synced 5 W&B file(s), 0 media file(s), 0 artifact file(s) and 0 other file(s)"
            ]
          },
          "metadata": {}
        },
        {
          "output_type": "display_data",
          "data": {
            "text/plain": [
              "<IPython.core.display.HTML object>"
            ],
            "text/html": [
              "Find logs at: <code>./wandb/run-20250317_140750-q4p2iet0/logs</code>"
            ]
          },
          "metadata": {}
        },
        {
          "output_type": "stream",
          "name": "stderr",
          "text": [
            "\u001b[34m\u001b[1mwandb\u001b[0m: Agent Starting Run: kk6w2l9p with config:\n",
            "\u001b[34m\u001b[1mwandb\u001b[0m: \tactivation: ReLU\n",
            "\u001b[34m\u001b[1mwandb\u001b[0m: \tbatch_size: 32\n",
            "\u001b[34m\u001b[1mwandb\u001b[0m: \tepochs: 5\n",
            "\u001b[34m\u001b[1mwandb\u001b[0m: \thidden_size: 64\n",
            "\u001b[34m\u001b[1mwandb\u001b[0m: \tlearning_rate: 0.001\n",
            "\u001b[34m\u001b[1mwandb\u001b[0m: \tloss_function: squared_error\n",
            "\u001b[34m\u001b[1mwandb\u001b[0m: \tnum_layers: 4\n",
            "\u001b[34m\u001b[1mwandb\u001b[0m: \toptimizer: nadam\n",
            "\u001b[34m\u001b[1mwandb\u001b[0m: \tweight_decay: 0\n",
            "\u001b[34m\u001b[1mwandb\u001b[0m: \tweight_init: Xavier\n"
          ]
        },
        {
          "output_type": "display_data",
          "data": {
            "text/plain": [
              "<IPython.core.display.HTML object>"
            ],
            "text/html": [
              "Tracking run with wandb version 0.19.8"
            ]
          },
          "metadata": {}
        },
        {
          "output_type": "display_data",
          "data": {
            "text/plain": [
              "<IPython.core.display.HTML object>"
            ],
            "text/html": [
              "Run data is saved locally in <code>/content/wandb/run-20250317_140830-kk6w2l9p</code>"
            ]
          },
          "metadata": {}
        },
        {
          "output_type": "display_data",
          "data": {
            "text/plain": [
              "<IPython.core.display.HTML object>"
            ],
            "text/html": [
              "Syncing run <strong><a href='https://wandb.ai/arunangshudutta218-iitm/dl_assgn_1_q_8/runs/kk6w2l9p' target=\"_blank\">revived-sweep-52</a></strong> to <a href='https://wandb.ai/arunangshudutta218-iitm/dl_assgn_1_q_8' target=\"_blank\">Weights & Biases</a> (<a href='https://wandb.me/developer-guide' target=\"_blank\">docs</a>)<br>Sweep page: <a href='https://wandb.ai/arunangshudutta218-iitm/dl_assgn_1_q_8/sweeps/28yyx0vh' target=\"_blank\">https://wandb.ai/arunangshudutta218-iitm/dl_assgn_1_q_8/sweeps/28yyx0vh</a>"
            ]
          },
          "metadata": {}
        },
        {
          "output_type": "display_data",
          "data": {
            "text/plain": [
              "<IPython.core.display.HTML object>"
            ],
            "text/html": [
              " View project at <a href='https://wandb.ai/arunangshudutta218-iitm/dl_assgn_1_q_8' target=\"_blank\">https://wandb.ai/arunangshudutta218-iitm/dl_assgn_1_q_8</a>"
            ]
          },
          "metadata": {}
        },
        {
          "output_type": "display_data",
          "data": {
            "text/plain": [
              "<IPython.core.display.HTML object>"
            ],
            "text/html": [
              " View sweep at <a href='https://wandb.ai/arunangshudutta218-iitm/dl_assgn_1_q_8/sweeps/28yyx0vh' target=\"_blank\">https://wandb.ai/arunangshudutta218-iitm/dl_assgn_1_q_8/sweeps/28yyx0vh</a>"
            ]
          },
          "metadata": {}
        },
        {
          "output_type": "display_data",
          "data": {
            "text/plain": [
              "<IPython.core.display.HTML object>"
            ],
            "text/html": [
              " View run at <a href='https://wandb.ai/arunangshudutta218-iitm/dl_assgn_1_q_8/runs/kk6w2l9p' target=\"_blank\">https://wandb.ai/arunangshudutta218-iitm/dl_assgn_1_q_8/runs/kk6w2l9p</a>"
            ]
          },
          "metadata": {}
        },
        {
          "output_type": "stream",
          "name": "stdout",
          "text": [
            "Hyper parameters: \n",
            "\n",
            "Weight initialization type :  Xavier\n",
            "Optimizer :  nadam\n",
            "Learning rate (initial):  0.001\n",
            "Batch size:  32\n",
            "-------------------\n",
            "Architecture Description:\n",
            "\n",
            "Layer:  1  ; number of neurons:  64  ; activation function:  ReLU\n",
            "Weight matrix dimention (64, 784) Bias vector dimention (64, 1)\n",
            "----------------\n",
            "Layer:  2  ; number of neurons:  64  ; activation function:  ReLU\n",
            "Weight matrix dimention (64, 64) Bias vector dimention (64, 1)\n",
            "----------------\n",
            "Layer:  3  ; number of neurons:  64  ; activation function:  ReLU\n",
            "Weight matrix dimention (64, 64) Bias vector dimention (64, 1)\n",
            "----------------\n",
            "Layer:  4  ; number of neurons:  64  ; activation function:  ReLU\n",
            "Weight matrix dimention (64, 64) Bias vector dimention (64, 1)\n",
            "----------------\n",
            "Layer:  5  ; number of neurons:  10  ; activation function:  softmax\n",
            "Weight matrix dimention (10, 64) Bias vector dimention (10, 1)\n",
            "----------------\n",
            "1312.0\n",
            "\n",
            " Start of training\n",
            "CE Training Loss:  2.3190242892685404 SE Training Loss:  0.4515253306853315 Training Accuracy:  12.383333333333333 CE Test Loss:  2.3203528124726476 SE Test Loss:  0.4516621225604025 Testing Accuracy:  12.0\n",
            "Epoch:  1\n"
          ]
        },
        {
          "output_type": "stream",
          "name": "stderr",
          "text": [
            "100%|██████████| 1312/1312 [00:08<00:00, 159.23it/s]\n"
          ]
        },
        {
          "output_type": "stream",
          "name": "stdout",
          "text": [
            "CE Training Loss:  0.4805156189943286 SE Training Loss:  0.11822645283160071 Training Accuracy:  83.3404761904762 CE Test Loss:  0.4885109693424717 SE Test Loss:  0.11902000427470082 Testing Accuracy:  83.31666666666666\n",
            "Epoch:  2\n"
          ]
        },
        {
          "output_type": "stream",
          "name": "stderr",
          "text": [
            "100%|██████████| 1312/1312 [00:05<00:00, 257.99it/s]\n"
          ]
        },
        {
          "output_type": "stream",
          "name": "stdout",
          "text": [
            "CE Training Loss:  0.4174600023257962 SE Training Loss:  0.09985286625440347 Training Accuracy:  86.18571428571428 CE Test Loss:  0.43612981335219114 SE Test Loss:  0.10297585465912824 Testing Accuracy:  85.86666666666666\n",
            "Epoch:  3\n"
          ]
        },
        {
          "output_type": "stream",
          "name": "stderr",
          "text": [
            "100%|██████████| 1312/1312 [00:08<00:00, 153.71it/s]\n"
          ]
        },
        {
          "output_type": "stream",
          "name": "stdout",
          "text": [
            "CE Training Loss:  nan SE Training Loss:  nan Training Accuracy:  10.073809523809524 CE Test Loss:  nan SE Test Loss:  nan Testing Accuracy:  9.827777777777778\n",
            "Epoch:  4\n"
          ]
        },
        {
          "output_type": "stream",
          "name": "stderr",
          "text": [
            "100%|██████████| 1312/1312 [00:05<00:00, 249.27it/s]\n"
          ]
        },
        {
          "output_type": "stream",
          "name": "stdout",
          "text": [
            "CE Training Loss:  nan SE Training Loss:  nan Training Accuracy:  10.073809523809524 CE Test Loss:  nan SE Test Loss:  nan Testing Accuracy:  9.827777777777778\n",
            "Epoch:  5\n"
          ]
        },
        {
          "output_type": "stream",
          "name": "stderr",
          "text": [
            "100%|██████████| 1312/1312 [00:07<00:00, 166.57it/s]\n"
          ]
        },
        {
          "output_type": "stream",
          "name": "stdout",
          "text": [
            "CE Training Loss:  nan SE Training Loss:  nan Training Accuracy:  10.073809523809524 CE Test Loss:  nan SE Test Loss:  nan Testing Accuracy:  9.827777777777778\n"
          ]
        },
        {
          "output_type": "display_data",
          "data": {
            "text/plain": [
              "<IPython.core.display.HTML object>"
            ],
            "text/html": []
          },
          "metadata": {}
        },
        {
          "output_type": "display_data",
          "data": {
            "text/plain": [
              "<IPython.core.display.HTML object>"
            ],
            "text/html": [
              "<br>    <style><br>        .wandb-row {<br>            display: flex;<br>            flex-direction: row;<br>            flex-wrap: wrap;<br>            justify-content: flex-start;<br>            width: 100%;<br>        }<br>        .wandb-col {<br>            display: flex;<br>            flex-direction: column;<br>            flex-basis: 100%;<br>            flex: 1;<br>            padding: 10px;<br>        }<br>    </style><br><div class=\"wandb-row\"><div class=\"wandb-col\"><h3>Run history:</h3><br/><table class=\"wandb\"><tr><td>tr_accuracy</td><td>▁██▁▁▁</td></tr><tr><td>tr_loss_CE</td><td>█▁▁   </td></tr><tr><td>tr_loss_SE</td><td>█▁▁   </td></tr><tr><td>val_accuracy</td><td>▁██▁▁▁</td></tr><tr><td>val_loss_CE</td><td>█▁▁   </td></tr><tr><td>val_loss_SE</td><td>█▁▁   </td></tr></table><br/></div><div class=\"wandb-col\"><h3>Run summary:</h3><br/><table class=\"wandb\"><tr><td>tr_accuracy</td><td>10.07381</td></tr><tr><td>tr_loss_CE</td><td>nan</td></tr><tr><td>tr_loss_SE</td><td>nan</td></tr><tr><td>val_accuracy</td><td>9.82778</td></tr><tr><td>val_loss_CE</td><td>nan</td></tr><tr><td>val_loss_SE</td><td>nan</td></tr></table><br/></div></div>"
            ]
          },
          "metadata": {}
        },
        {
          "output_type": "display_data",
          "data": {
            "text/plain": [
              "<IPython.core.display.HTML object>"
            ],
            "text/html": [
              " View run <strong style=\"color:#cdcd00\">e_5_hl_4_hs_64_lr_0.001_opt_nadam_bs_32_init_Xavier_ac_ReLU_l2_0</strong> at: <a href='https://wandb.ai/arunangshudutta218-iitm/dl_assgn_1_q_8/runs/kk6w2l9p' target=\"_blank\">https://wandb.ai/arunangshudutta218-iitm/dl_assgn_1_q_8/runs/kk6w2l9p</a><br> View project at: <a href='https://wandb.ai/arunangshudutta218-iitm/dl_assgn_1_q_8' target=\"_blank\">https://wandb.ai/arunangshudutta218-iitm/dl_assgn_1_q_8</a><br>Synced 5 W&B file(s), 0 media file(s), 0 artifact file(s) and 0 other file(s)"
            ]
          },
          "metadata": {}
        },
        {
          "output_type": "display_data",
          "data": {
            "text/plain": [
              "<IPython.core.display.HTML object>"
            ],
            "text/html": [
              "Find logs at: <code>./wandb/run-20250317_140830-kk6w2l9p/logs</code>"
            ]
          },
          "metadata": {}
        },
        {
          "output_type": "stream",
          "name": "stderr",
          "text": [
            "\u001b[34m\u001b[1mwandb\u001b[0m: Agent Starting Run: e6tl2rkw with config:\n",
            "\u001b[34m\u001b[1mwandb\u001b[0m: \tactivation: ReLU\n",
            "\u001b[34m\u001b[1mwandb\u001b[0m: \tbatch_size: 32\n",
            "\u001b[34m\u001b[1mwandb\u001b[0m: \tepochs: 5\n",
            "\u001b[34m\u001b[1mwandb\u001b[0m: \thidden_size: 64\n",
            "\u001b[34m\u001b[1mwandb\u001b[0m: \tlearning_rate: 0.001\n",
            "\u001b[34m\u001b[1mwandb\u001b[0m: \tloss_function: squared_error\n",
            "\u001b[34m\u001b[1mwandb\u001b[0m: \tnum_layers: 4\n",
            "\u001b[34m\u001b[1mwandb\u001b[0m: \toptimizer: nadam\n",
            "\u001b[34m\u001b[1mwandb\u001b[0m: \tweight_decay: 0.0005\n",
            "\u001b[34m\u001b[1mwandb\u001b[0m: \tweight_init: Xavier\n"
          ]
        },
        {
          "output_type": "display_data",
          "data": {
            "text/plain": [
              "<IPython.core.display.HTML object>"
            ],
            "text/html": [
              "Tracking run with wandb version 0.19.8"
            ]
          },
          "metadata": {}
        },
        {
          "output_type": "display_data",
          "data": {
            "text/plain": [
              "<IPython.core.display.HTML object>"
            ],
            "text/html": [
              "Run data is saved locally in <code>/content/wandb/run-20250317_140915-e6tl2rkw</code>"
            ]
          },
          "metadata": {}
        },
        {
          "output_type": "display_data",
          "data": {
            "text/plain": [
              "<IPython.core.display.HTML object>"
            ],
            "text/html": [
              "Syncing run <strong><a href='https://wandb.ai/arunangshudutta218-iitm/dl_assgn_1_q_8/runs/e6tl2rkw' target=\"_blank\">sage-sweep-53</a></strong> to <a href='https://wandb.ai/arunangshudutta218-iitm/dl_assgn_1_q_8' target=\"_blank\">Weights & Biases</a> (<a href='https://wandb.me/developer-guide' target=\"_blank\">docs</a>)<br>Sweep page: <a href='https://wandb.ai/arunangshudutta218-iitm/dl_assgn_1_q_8/sweeps/28yyx0vh' target=\"_blank\">https://wandb.ai/arunangshudutta218-iitm/dl_assgn_1_q_8/sweeps/28yyx0vh</a>"
            ]
          },
          "metadata": {}
        },
        {
          "output_type": "display_data",
          "data": {
            "text/plain": [
              "<IPython.core.display.HTML object>"
            ],
            "text/html": [
              " View project at <a href='https://wandb.ai/arunangshudutta218-iitm/dl_assgn_1_q_8' target=\"_blank\">https://wandb.ai/arunangshudutta218-iitm/dl_assgn_1_q_8</a>"
            ]
          },
          "metadata": {}
        },
        {
          "output_type": "display_data",
          "data": {
            "text/plain": [
              "<IPython.core.display.HTML object>"
            ],
            "text/html": [
              " View sweep at <a href='https://wandb.ai/arunangshudutta218-iitm/dl_assgn_1_q_8/sweeps/28yyx0vh' target=\"_blank\">https://wandb.ai/arunangshudutta218-iitm/dl_assgn_1_q_8/sweeps/28yyx0vh</a>"
            ]
          },
          "metadata": {}
        },
        {
          "output_type": "display_data",
          "data": {
            "text/plain": [
              "<IPython.core.display.HTML object>"
            ],
            "text/html": [
              " View run at <a href='https://wandb.ai/arunangshudutta218-iitm/dl_assgn_1_q_8/runs/e6tl2rkw' target=\"_blank\">https://wandb.ai/arunangshudutta218-iitm/dl_assgn_1_q_8/runs/e6tl2rkw</a>"
            ]
          },
          "metadata": {}
        },
        {
          "output_type": "stream",
          "name": "stdout",
          "text": [
            "Hyper parameters: \n",
            "\n",
            "Weight initialization type :  Xavier\n",
            "Optimizer :  nadam\n",
            "Learning rate (initial):  0.001\n",
            "Batch size:  32\n",
            "-------------------\n",
            "Architecture Description:\n",
            "\n",
            "Layer:  1  ; number of neurons:  64  ; activation function:  ReLU\n",
            "Weight matrix dimention (64, 784) Bias vector dimention (64, 1)\n",
            "----------------\n",
            "Layer:  2  ; number of neurons:  64  ; activation function:  ReLU\n",
            "Weight matrix dimention (64, 64) Bias vector dimention (64, 1)\n",
            "----------------\n",
            "Layer:  3  ; number of neurons:  64  ; activation function:  ReLU\n",
            "Weight matrix dimention (64, 64) Bias vector dimention (64, 1)\n",
            "----------------\n",
            "Layer:  4  ; number of neurons:  64  ; activation function:  ReLU\n",
            "Weight matrix dimention (64, 64) Bias vector dimention (64, 1)\n",
            "----------------\n",
            "Layer:  5  ; number of neurons:  10  ; activation function:  softmax\n",
            "Weight matrix dimention (10, 64) Bias vector dimention (10, 1)\n",
            "----------------\n",
            "1312.0\n",
            "\n",
            " Start of training\n",
            "CE Training Loss:  2.3440621202744274 SE Training Loss:  0.45374844426520533 Training Accuracy:  7.733333333333333 CE Test Loss:  2.345595729492574 SE Test Loss:  0.45387308869843873 Testing Accuracy:  7.683333333333334\n",
            "Epoch:  1\n"
          ]
        },
        {
          "output_type": "stream",
          "name": "stderr",
          "text": [
            "100%|██████████| 1312/1312 [00:13<00:00, 96.43it/s]\n"
          ]
        },
        {
          "output_type": "stream",
          "name": "stdout",
          "text": [
            "CE Training Loss:  0.46391574175838374 SE Training Loss:  0.11655201401682964 Training Accuracy:  83.68333333333334 CE Test Loss:  0.4739725414858237 SE Test Loss:  0.11880751534618288 Testing Accuracy:  83.42222222222222\n",
            "Epoch:  2\n"
          ]
        },
        {
          "output_type": "stream",
          "name": "stderr",
          "text": [
            "100%|██████████| 1312/1312 [00:16<00:00, 78.76it/s] \n"
          ]
        },
        {
          "output_type": "stream",
          "name": "stdout",
          "text": [
            "CE Training Loss:  nan SE Training Loss:  nan Training Accuracy:  10.073809523809524 CE Test Loss:  nan SE Test Loss:  nan Testing Accuracy:  9.827777777777778\n",
            "Epoch:  3\n"
          ]
        },
        {
          "output_type": "stream",
          "name": "stderr",
          "text": [
            "100%|██████████| 1312/1312 [00:05<00:00, 246.64it/s]\n"
          ]
        },
        {
          "output_type": "stream",
          "name": "stdout",
          "text": [
            "CE Training Loss:  nan SE Training Loss:  nan Training Accuracy:  10.073809523809524 CE Test Loss:  nan SE Test Loss:  nan Testing Accuracy:  9.827777777777778\n",
            "Epoch:  4\n"
          ]
        },
        {
          "output_type": "stream",
          "name": "stderr",
          "text": [
            "100%|██████████| 1312/1312 [00:07<00:00, 166.96it/s]\n"
          ]
        },
        {
          "output_type": "stream",
          "name": "stdout",
          "text": [
            "CE Training Loss:  nan SE Training Loss:  nan Training Accuracy:  10.073809523809524 CE Test Loss:  nan SE Test Loss:  nan Testing Accuracy:  9.827777777777778\n",
            "Epoch:  5\n"
          ]
        },
        {
          "output_type": "stream",
          "name": "stderr",
          "text": [
            "100%|██████████| 1312/1312 [00:05<00:00, 253.24it/s]\n"
          ]
        },
        {
          "output_type": "stream",
          "name": "stdout",
          "text": [
            "CE Training Loss:  nan SE Training Loss:  nan Training Accuracy:  10.073809523809524 CE Test Loss:  nan SE Test Loss:  nan Testing Accuracy:  9.827777777777778\n"
          ]
        },
        {
          "output_type": "display_data",
          "data": {
            "text/plain": [
              "<IPython.core.display.HTML object>"
            ],
            "text/html": []
          },
          "metadata": {}
        },
        {
          "output_type": "display_data",
          "data": {
            "text/plain": [
              "<IPython.core.display.HTML object>"
            ],
            "text/html": [
              "<br>    <style><br>        .wandb-row {<br>            display: flex;<br>            flex-direction: row;<br>            flex-wrap: wrap;<br>            justify-content: flex-start;<br>            width: 100%;<br>        }<br>        .wandb-col {<br>            display: flex;<br>            flex-direction: column;<br>            flex-basis: 100%;<br>            flex: 1;<br>            padding: 10px;<br>        }<br>    </style><br><div class=\"wandb-row\"><div class=\"wandb-col\"><h3>Run history:</h3><br/><table class=\"wandb\"><tr><td>tr_accuracy</td><td>▁█▁▁▁▁</td></tr><tr><td>tr_loss_CE</td><td>█▁    </td></tr><tr><td>tr_loss_SE</td><td>█▁    </td></tr><tr><td>val_accuracy</td><td>▁█▁▁▁▁</td></tr><tr><td>val_loss_CE</td><td>█▁    </td></tr><tr><td>val_loss_SE</td><td>█▁    </td></tr></table><br/></div><div class=\"wandb-col\"><h3>Run summary:</h3><br/><table class=\"wandb\"><tr><td>tr_accuracy</td><td>10.07381</td></tr><tr><td>tr_loss_CE</td><td>nan</td></tr><tr><td>tr_loss_SE</td><td>nan</td></tr><tr><td>val_accuracy</td><td>9.82778</td></tr><tr><td>val_loss_CE</td><td>nan</td></tr><tr><td>val_loss_SE</td><td>nan</td></tr></table><br/></div></div>"
            ]
          },
          "metadata": {}
        },
        {
          "output_type": "display_data",
          "data": {
            "text/plain": [
              "<IPython.core.display.HTML object>"
            ],
            "text/html": [
              " View run <strong style=\"color:#cdcd00\">e_5_hl_4_hs_64_lr_0.001_opt_nadam_bs_32_init_Xavier_ac_ReLU_l2_0.0005</strong> at: <a href='https://wandb.ai/arunangshudutta218-iitm/dl_assgn_1_q_8/runs/e6tl2rkw' target=\"_blank\">https://wandb.ai/arunangshudutta218-iitm/dl_assgn_1_q_8/runs/e6tl2rkw</a><br> View project at: <a href='https://wandb.ai/arunangshudutta218-iitm/dl_assgn_1_q_8' target=\"_blank\">https://wandb.ai/arunangshudutta218-iitm/dl_assgn_1_q_8</a><br>Synced 5 W&B file(s), 0 media file(s), 0 artifact file(s) and 0 other file(s)"
            ]
          },
          "metadata": {}
        },
        {
          "output_type": "display_data",
          "data": {
            "text/plain": [
              "<IPython.core.display.HTML object>"
            ],
            "text/html": [
              "Find logs at: <code>./wandb/run-20250317_140915-e6tl2rkw/logs</code>"
            ]
          },
          "metadata": {}
        },
        {
          "output_type": "stream",
          "name": "stderr",
          "text": [
            "\u001b[34m\u001b[1mwandb\u001b[0m: Agent Starting Run: 1ufnpo6t with config:\n",
            "\u001b[34m\u001b[1mwandb\u001b[0m: \tactivation: ReLU\n",
            "\u001b[34m\u001b[1mwandb\u001b[0m: \tbatch_size: 32\n",
            "\u001b[34m\u001b[1mwandb\u001b[0m: \tepochs: 5\n",
            "\u001b[34m\u001b[1mwandb\u001b[0m: \thidden_size: 64\n",
            "\u001b[34m\u001b[1mwandb\u001b[0m: \tlearning_rate: 0.001\n",
            "\u001b[34m\u001b[1mwandb\u001b[0m: \tloss_function: squared_error\n",
            "\u001b[34m\u001b[1mwandb\u001b[0m: \tnum_layers: 4\n",
            "\u001b[34m\u001b[1mwandb\u001b[0m: \toptimizer: nadam\n",
            "\u001b[34m\u001b[1mwandb\u001b[0m: \tweight_decay: 0.5\n",
            "\u001b[34m\u001b[1mwandb\u001b[0m: \tweight_init: Xavier\n"
          ]
        },
        {
          "output_type": "display_data",
          "data": {
            "text/plain": [
              "<IPython.core.display.HTML object>"
            ],
            "text/html": [
              "Tracking run with wandb version 0.19.8"
            ]
          },
          "metadata": {}
        },
        {
          "output_type": "display_data",
          "data": {
            "text/plain": [
              "<IPython.core.display.HTML object>"
            ],
            "text/html": [
              "Run data is saved locally in <code>/content/wandb/run-20250317_141021-1ufnpo6t</code>"
            ]
          },
          "metadata": {}
        },
        {
          "output_type": "display_data",
          "data": {
            "text/plain": [
              "<IPython.core.display.HTML object>"
            ],
            "text/html": [
              "Syncing run <strong><a href='https://wandb.ai/arunangshudutta218-iitm/dl_assgn_1_q_8/runs/1ufnpo6t' target=\"_blank\">avid-sweep-54</a></strong> to <a href='https://wandb.ai/arunangshudutta218-iitm/dl_assgn_1_q_8' target=\"_blank\">Weights & Biases</a> (<a href='https://wandb.me/developer-guide' target=\"_blank\">docs</a>)<br>Sweep page: <a href='https://wandb.ai/arunangshudutta218-iitm/dl_assgn_1_q_8/sweeps/28yyx0vh' target=\"_blank\">https://wandb.ai/arunangshudutta218-iitm/dl_assgn_1_q_8/sweeps/28yyx0vh</a>"
            ]
          },
          "metadata": {}
        },
        {
          "output_type": "display_data",
          "data": {
            "text/plain": [
              "<IPython.core.display.HTML object>"
            ],
            "text/html": [
              " View project at <a href='https://wandb.ai/arunangshudutta218-iitm/dl_assgn_1_q_8' target=\"_blank\">https://wandb.ai/arunangshudutta218-iitm/dl_assgn_1_q_8</a>"
            ]
          },
          "metadata": {}
        },
        {
          "output_type": "display_data",
          "data": {
            "text/plain": [
              "<IPython.core.display.HTML object>"
            ],
            "text/html": [
              " View sweep at <a href='https://wandb.ai/arunangshudutta218-iitm/dl_assgn_1_q_8/sweeps/28yyx0vh' target=\"_blank\">https://wandb.ai/arunangshudutta218-iitm/dl_assgn_1_q_8/sweeps/28yyx0vh</a>"
            ]
          },
          "metadata": {}
        },
        {
          "output_type": "display_data",
          "data": {
            "text/plain": [
              "<IPython.core.display.HTML object>"
            ],
            "text/html": [
              " View run at <a href='https://wandb.ai/arunangshudutta218-iitm/dl_assgn_1_q_8/runs/1ufnpo6t' target=\"_blank\">https://wandb.ai/arunangshudutta218-iitm/dl_assgn_1_q_8/runs/1ufnpo6t</a>"
            ]
          },
          "metadata": {}
        },
        {
          "output_type": "stream",
          "name": "stdout",
          "text": [
            "Hyper parameters: \n",
            "\n",
            "Weight initialization type :  Xavier\n",
            "Optimizer :  nadam\n",
            "Learning rate (initial):  0.001\n",
            "Batch size:  32\n",
            "-------------------\n",
            "Architecture Description:\n",
            "\n",
            "Layer:  1  ; number of neurons:  64  ; activation function:  ReLU\n",
            "Weight matrix dimention (64, 784) Bias vector dimention (64, 1)\n",
            "----------------\n",
            "Layer:  2  ; number of neurons:  64  ; activation function:  ReLU\n",
            "Weight matrix dimention (64, 64) Bias vector dimention (64, 1)\n",
            "----------------\n",
            "Layer:  3  ; number of neurons:  64  ; activation function:  ReLU\n",
            "Weight matrix dimention (64, 64) Bias vector dimention (64, 1)\n",
            "----------------\n",
            "Layer:  4  ; number of neurons:  64  ; activation function:  ReLU\n",
            "Weight matrix dimention (64, 64) Bias vector dimention (64, 1)\n",
            "----------------\n",
            "Layer:  5  ; number of neurons:  10  ; activation function:  softmax\n",
            "Weight matrix dimention (10, 64) Bias vector dimention (10, 1)\n",
            "----------------\n",
            "1312.0\n",
            "\n",
            " Start of training\n",
            "CE Training Loss:  2.3232170673751713 SE Training Loss:  0.45258188127193083 Training Accuracy:  9.91904761904762 CE Test Loss:  2.324172199649207 SE Test Loss:  0.4526989019439752 Testing Accuracy:  9.916666666666666\n",
            "Epoch:  1\n"
          ]
        },
        {
          "output_type": "stream",
          "name": "stderr",
          "text": [
            "100%|██████████| 1312/1312 [00:06<00:00, 196.55it/s]\n"
          ]
        },
        {
          "output_type": "stream",
          "name": "stdout",
          "text": [
            "CE Training Loss:  1.2348555345933119 SE Training Loss:  0.29243825654731836 Training Accuracy:  51.44761904761905 CE Test Loss:  1.2336914307049702 SE Test Loss:  0.29191985044960267 Testing Accuracy:  51.18888888888889\n",
            "Epoch:  2\n"
          ]
        },
        {
          "output_type": "stream",
          "name": "stderr",
          "text": [
            "100%|██████████| 1312/1312 [00:05<00:00, 255.46it/s]\n"
          ]
        },
        {
          "output_type": "stream",
          "name": "stdout",
          "text": [
            "CE Training Loss:  nan SE Training Loss:  nan Training Accuracy:  10.073809523809524 CE Test Loss:  nan SE Test Loss:  nan Testing Accuracy:  9.827777777777778\n",
            "Epoch:  3\n"
          ]
        },
        {
          "output_type": "stream",
          "name": "stderr",
          "text": [
            "100%|██████████| 1312/1312 [00:08<00:00, 160.34it/s]\n"
          ]
        },
        {
          "output_type": "stream",
          "name": "stdout",
          "text": [
            "CE Training Loss:  nan SE Training Loss:  nan Training Accuracy:  10.073809523809524 CE Test Loss:  nan SE Test Loss:  nan Testing Accuracy:  9.827777777777778\n",
            "Epoch:  4\n"
          ]
        },
        {
          "output_type": "stream",
          "name": "stderr",
          "text": [
            "100%|██████████| 1312/1312 [00:05<00:00, 239.16it/s]\n"
          ]
        },
        {
          "output_type": "stream",
          "name": "stdout",
          "text": [
            "CE Training Loss:  nan SE Training Loss:  nan Training Accuracy:  10.073809523809524 CE Test Loss:  nan SE Test Loss:  nan Testing Accuracy:  9.827777777777778\n",
            "Epoch:  5\n"
          ]
        },
        {
          "output_type": "stream",
          "name": "stderr",
          "text": [
            "100%|██████████| 1312/1312 [00:08<00:00, 158.82it/s]\n"
          ]
        },
        {
          "output_type": "stream",
          "name": "stdout",
          "text": [
            "CE Training Loss:  nan SE Training Loss:  nan Training Accuracy:  10.073809523809524 CE Test Loss:  nan SE Test Loss:  nan Testing Accuracy:  9.827777777777778\n"
          ]
        },
        {
          "output_type": "display_data",
          "data": {
            "text/plain": [
              "<IPython.core.display.HTML object>"
            ],
            "text/html": []
          },
          "metadata": {}
        },
        {
          "output_type": "display_data",
          "data": {
            "text/plain": [
              "<IPython.core.display.HTML object>"
            ],
            "text/html": [
              "<br>    <style><br>        .wandb-row {<br>            display: flex;<br>            flex-direction: row;<br>            flex-wrap: wrap;<br>            justify-content: flex-start;<br>            width: 100%;<br>        }<br>        .wandb-col {<br>            display: flex;<br>            flex-direction: column;<br>            flex-basis: 100%;<br>            flex: 1;<br>            padding: 10px;<br>        }<br>    </style><br><div class=\"wandb-row\"><div class=\"wandb-col\"><h3>Run history:</h3><br/><table class=\"wandb\"><tr><td>tr_accuracy</td><td>▁█▁▁▁▁</td></tr><tr><td>tr_loss_CE</td><td>█▁    </td></tr><tr><td>tr_loss_SE</td><td>█▁    </td></tr><tr><td>val_accuracy</td><td>▁█▁▁▁▁</td></tr><tr><td>val_loss_CE</td><td>█▁    </td></tr><tr><td>val_loss_SE</td><td>█▁    </td></tr></table><br/></div><div class=\"wandb-col\"><h3>Run summary:</h3><br/><table class=\"wandb\"><tr><td>tr_accuracy</td><td>10.07381</td></tr><tr><td>tr_loss_CE</td><td>nan</td></tr><tr><td>tr_loss_SE</td><td>nan</td></tr><tr><td>val_accuracy</td><td>9.82778</td></tr><tr><td>val_loss_CE</td><td>nan</td></tr><tr><td>val_loss_SE</td><td>nan</td></tr></table><br/></div></div>"
            ]
          },
          "metadata": {}
        },
        {
          "output_type": "display_data",
          "data": {
            "text/plain": [
              "<IPython.core.display.HTML object>"
            ],
            "text/html": [
              " View run <strong style=\"color:#cdcd00\">e_5_hl_4_hs_64_lr_0.001_opt_nadam_bs_32_init_Xavier_ac_ReLU_l2_0.5</strong> at: <a href='https://wandb.ai/arunangshudutta218-iitm/dl_assgn_1_q_8/runs/1ufnpo6t' target=\"_blank\">https://wandb.ai/arunangshudutta218-iitm/dl_assgn_1_q_8/runs/1ufnpo6t</a><br> View project at: <a href='https://wandb.ai/arunangshudutta218-iitm/dl_assgn_1_q_8' target=\"_blank\">https://wandb.ai/arunangshudutta218-iitm/dl_assgn_1_q_8</a><br>Synced 5 W&B file(s), 0 media file(s), 0 artifact file(s) and 0 other file(s)"
            ]
          },
          "metadata": {}
        },
        {
          "output_type": "display_data",
          "data": {
            "text/plain": [
              "<IPython.core.display.HTML object>"
            ],
            "text/html": [
              "Find logs at: <code>./wandb/run-20250317_141021-1ufnpo6t/logs</code>"
            ]
          },
          "metadata": {}
        },
        {
          "output_type": "stream",
          "name": "stderr",
          "text": [
            "\u001b[34m\u001b[1mwandb\u001b[0m: Agent Starting Run: 96dycp1w with config:\n",
            "\u001b[34m\u001b[1mwandb\u001b[0m: \tactivation: ReLU\n",
            "\u001b[34m\u001b[1mwandb\u001b[0m: \tbatch_size: 32\n",
            "\u001b[34m\u001b[1mwandb\u001b[0m: \tepochs: 5\n",
            "\u001b[34m\u001b[1mwandb\u001b[0m: \thidden_size: 64\n",
            "\u001b[34m\u001b[1mwandb\u001b[0m: \tlearning_rate: 0.0001\n",
            "\u001b[34m\u001b[1mwandb\u001b[0m: \tloss_function: cross_entropy\n",
            "\u001b[34m\u001b[1mwandb\u001b[0m: \tnum_layers: 4\n",
            "\u001b[34m\u001b[1mwandb\u001b[0m: \toptimizer: rmsprop\n",
            "\u001b[34m\u001b[1mwandb\u001b[0m: \tweight_decay: 0\n",
            "\u001b[34m\u001b[1mwandb\u001b[0m: \tweight_init: Xavier\n"
          ]
        },
        {
          "output_type": "display_data",
          "data": {
            "text/plain": [
              "<IPython.core.display.HTML object>"
            ],
            "text/html": [
              "Tracking run with wandb version 0.19.8"
            ]
          },
          "metadata": {}
        },
        {
          "output_type": "display_data",
          "data": {
            "text/plain": [
              "<IPython.core.display.HTML object>"
            ],
            "text/html": [
              "Run data is saved locally in <code>/content/wandb/run-20250317_141107-96dycp1w</code>"
            ]
          },
          "metadata": {}
        },
        {
          "output_type": "display_data",
          "data": {
            "text/plain": [
              "<IPython.core.display.HTML object>"
            ],
            "text/html": [
              "Syncing run <strong><a href='https://wandb.ai/arunangshudutta218-iitm/dl_assgn_1_q_8/runs/96dycp1w' target=\"_blank\">earnest-sweep-55</a></strong> to <a href='https://wandb.ai/arunangshudutta218-iitm/dl_assgn_1_q_8' target=\"_blank\">Weights & Biases</a> (<a href='https://wandb.me/developer-guide' target=\"_blank\">docs</a>)<br>Sweep page: <a href='https://wandb.ai/arunangshudutta218-iitm/dl_assgn_1_q_8/sweeps/28yyx0vh' target=\"_blank\">https://wandb.ai/arunangshudutta218-iitm/dl_assgn_1_q_8/sweeps/28yyx0vh</a>"
            ]
          },
          "metadata": {}
        },
        {
          "output_type": "display_data",
          "data": {
            "text/plain": [
              "<IPython.core.display.HTML object>"
            ],
            "text/html": [
              " View project at <a href='https://wandb.ai/arunangshudutta218-iitm/dl_assgn_1_q_8' target=\"_blank\">https://wandb.ai/arunangshudutta218-iitm/dl_assgn_1_q_8</a>"
            ]
          },
          "metadata": {}
        },
        {
          "output_type": "display_data",
          "data": {
            "text/plain": [
              "<IPython.core.display.HTML object>"
            ],
            "text/html": [
              " View sweep at <a href='https://wandb.ai/arunangshudutta218-iitm/dl_assgn_1_q_8/sweeps/28yyx0vh' target=\"_blank\">https://wandb.ai/arunangshudutta218-iitm/dl_assgn_1_q_8/sweeps/28yyx0vh</a>"
            ]
          },
          "metadata": {}
        },
        {
          "output_type": "display_data",
          "data": {
            "text/plain": [
              "<IPython.core.display.HTML object>"
            ],
            "text/html": [
              " View run at <a href='https://wandb.ai/arunangshudutta218-iitm/dl_assgn_1_q_8/runs/96dycp1w' target=\"_blank\">https://wandb.ai/arunangshudutta218-iitm/dl_assgn_1_q_8/runs/96dycp1w</a>"
            ]
          },
          "metadata": {}
        },
        {
          "output_type": "stream",
          "name": "stdout",
          "text": [
            "Hyper parameters: \n",
            "\n",
            "Weight initialization type :  Xavier\n",
            "Optimizer :  rmsprop\n",
            "Learning rate (initial):  0.0001\n",
            "Batch size:  32\n",
            "-------------------\n",
            "Architecture Description:\n",
            "\n",
            "Layer:  1  ; number of neurons:  64  ; activation function:  ReLU\n",
            "Weight matrix dimention (64, 784) Bias vector dimention (64, 1)\n",
            "----------------\n",
            "Layer:  2  ; number of neurons:  64  ; activation function:  ReLU\n",
            "Weight matrix dimention (64, 64) Bias vector dimention (64, 1)\n",
            "----------------\n",
            "Layer:  3  ; number of neurons:  64  ; activation function:  ReLU\n",
            "Weight matrix dimention (64, 64) Bias vector dimention (64, 1)\n",
            "----------------\n",
            "Layer:  4  ; number of neurons:  64  ; activation function:  ReLU\n",
            "Weight matrix dimention (64, 64) Bias vector dimention (64, 1)\n",
            "----------------\n",
            "Layer:  5  ; number of neurons:  10  ; activation function:  softmax\n",
            "Weight matrix dimention (10, 64) Bias vector dimention (10, 1)\n",
            "----------------\n",
            "1312.0\n",
            "\n",
            " Start of training\n",
            "CE Training Loss:  2.3145639913390537 SE Training Loss:  0.45121985482457394 Training Accuracy:  6.488095238095238 CE Test Loss:  2.314688387190818 SE Test Loss:  0.4512380458985373 Testing Accuracy:  6.655555555555556\n",
            "Epoch:  1\n"
          ]
        },
        {
          "output_type": "stream",
          "name": "stderr",
          "text": [
            "100%|██████████| 1312/1312 [00:07<00:00, 176.25it/s]\n"
          ]
        },
        {
          "output_type": "stream",
          "name": "stdout",
          "text": [
            "CE Training Loss:  0.5801191355881611 SE Training Loss:  0.14449368648797167 Training Accuracy:  80.18571428571428 CE Test Loss:  0.5835982656771219 SE Test Loss:  0.14550690676278483 Testing Accuracy:  80.12777777777778\n",
            "Epoch:  2\n"
          ]
        },
        {
          "output_type": "stream",
          "name": "stderr",
          "text": [
            "100%|██████████| 1312/1312 [00:04<00:00, 303.69it/s]\n"
          ]
        },
        {
          "output_type": "stream",
          "name": "stdout",
          "text": [
            "CE Training Loss:  0.4889711360459225 SE Training Loss:  0.12208187367831323 Training Accuracy:  83.23095238095237 CE Test Loss:  0.4926707845975739 SE Test Loss:  0.1229072364463887 Testing Accuracy:  83.32777777777778\n",
            "Epoch:  3\n"
          ]
        },
        {
          "output_type": "stream",
          "name": "stderr",
          "text": [
            "100%|██████████| 1312/1312 [00:04<00:00, 289.36it/s]\n"
          ]
        },
        {
          "output_type": "stream",
          "name": "stdout",
          "text": [
            "CE Training Loss:  0.4476760173749173 SE Training Loss:  0.11213250731471709 Training Accuracy:  84.53095238095239 CE Test Loss:  0.4545262636408938 SE Test Loss:  0.11352150440765742 Testing Accuracy:  84.38888888888889\n",
            "Epoch:  4\n"
          ]
        },
        {
          "output_type": "stream",
          "name": "stderr",
          "text": [
            "100%|██████████| 1312/1312 [00:06<00:00, 218.05it/s]\n"
          ]
        },
        {
          "output_type": "stream",
          "name": "stdout",
          "text": [
            "CE Training Loss:  0.4230621663019236 SE Training Loss:  0.10622786328215122 Training Accuracy:  85.25238095238095 CE Test Loss:  0.43202346019341037 SE Test Loss:  0.10792761858612032 Testing Accuracy:  85.11111111111111\n",
            "Epoch:  5\n"
          ]
        },
        {
          "output_type": "stream",
          "name": "stderr",
          "text": [
            "100%|██████████| 1312/1312 [00:03<00:00, 328.39it/s]\n"
          ]
        },
        {
          "output_type": "stream",
          "name": "stdout",
          "text": [
            "CE Training Loss:  0.4049778178755969 SE Training Loss:  0.10216406739583228 Training Accuracy:  85.74047619047619 CE Test Loss:  0.41595259853804206 SE Test Loss:  0.10411208083590741 Testing Accuracy:  85.63888888888889\n"
          ]
        },
        {
          "output_type": "display_data",
          "data": {
            "text/plain": [
              "<IPython.core.display.HTML object>"
            ],
            "text/html": []
          },
          "metadata": {}
        },
        {
          "output_type": "display_data",
          "data": {
            "text/plain": [
              "<IPython.core.display.HTML object>"
            ],
            "text/html": [
              "<br>    <style><br>        .wandb-row {<br>            display: flex;<br>            flex-direction: row;<br>            flex-wrap: wrap;<br>            justify-content: flex-start;<br>            width: 100%;<br>        }<br>        .wandb-col {<br>            display: flex;<br>            flex-direction: column;<br>            flex-basis: 100%;<br>            flex: 1;<br>            padding: 10px;<br>        }<br>    </style><br><div class=\"wandb-row\"><div class=\"wandb-col\"><h3>Run history:</h3><br/><table class=\"wandb\"><tr><td>tr_accuracy</td><td>▁█████</td></tr><tr><td>tr_loss_CE</td><td>█▂▁▁▁▁</td></tr><tr><td>tr_loss_SE</td><td>█▂▁▁▁▁</td></tr><tr><td>val_accuracy</td><td>▁█████</td></tr><tr><td>val_loss_CE</td><td>█▂▁▁▁▁</td></tr><tr><td>val_loss_SE</td><td>█▂▁▁▁▁</td></tr></table><br/></div><div class=\"wandb-col\"><h3>Run summary:</h3><br/><table class=\"wandb\"><tr><td>tr_accuracy</td><td>85.74048</td></tr><tr><td>tr_loss_CE</td><td>0.40498</td></tr><tr><td>tr_loss_SE</td><td>0.10216</td></tr><tr><td>val_accuracy</td><td>85.63889</td></tr><tr><td>val_loss_CE</td><td>0.41595</td></tr><tr><td>val_loss_SE</td><td>0.10411</td></tr></table><br/></div></div>"
            ]
          },
          "metadata": {}
        },
        {
          "output_type": "display_data",
          "data": {
            "text/plain": [
              "<IPython.core.display.HTML object>"
            ],
            "text/html": [
              " View run <strong style=\"color:#cdcd00\">e_5_hl_4_hs_64_lr_0.0001_opt_rmsprop_bs_32_init_Xavier_ac_ReLU_l2_0</strong> at: <a href='https://wandb.ai/arunangshudutta218-iitm/dl_assgn_1_q_8/runs/96dycp1w' target=\"_blank\">https://wandb.ai/arunangshudutta218-iitm/dl_assgn_1_q_8/runs/96dycp1w</a><br> View project at: <a href='https://wandb.ai/arunangshudutta218-iitm/dl_assgn_1_q_8' target=\"_blank\">https://wandb.ai/arunangshudutta218-iitm/dl_assgn_1_q_8</a><br>Synced 5 W&B file(s), 0 media file(s), 0 artifact file(s) and 0 other file(s)"
            ]
          },
          "metadata": {}
        },
        {
          "output_type": "display_data",
          "data": {
            "text/plain": [
              "<IPython.core.display.HTML object>"
            ],
            "text/html": [
              "Find logs at: <code>./wandb/run-20250317_141107-96dycp1w/logs</code>"
            ]
          },
          "metadata": {}
        },
        {
          "output_type": "stream",
          "name": "stderr",
          "text": [
            "\u001b[34m\u001b[1mwandb\u001b[0m: Agent Starting Run: 1300qhrf with config:\n",
            "\u001b[34m\u001b[1mwandb\u001b[0m: \tactivation: ReLU\n",
            "\u001b[34m\u001b[1mwandb\u001b[0m: \tbatch_size: 32\n",
            "\u001b[34m\u001b[1mwandb\u001b[0m: \tepochs: 5\n",
            "\u001b[34m\u001b[1mwandb\u001b[0m: \thidden_size: 64\n",
            "\u001b[34m\u001b[1mwandb\u001b[0m: \tlearning_rate: 0.0001\n",
            "\u001b[34m\u001b[1mwandb\u001b[0m: \tloss_function: cross_entropy\n",
            "\u001b[34m\u001b[1mwandb\u001b[0m: \tnum_layers: 4\n",
            "\u001b[34m\u001b[1mwandb\u001b[0m: \toptimizer: rmsprop\n",
            "\u001b[34m\u001b[1mwandb\u001b[0m: \tweight_decay: 0.0005\n",
            "\u001b[34m\u001b[1mwandb\u001b[0m: \tweight_init: Xavier\n"
          ]
        },
        {
          "output_type": "display_data",
          "data": {
            "text/plain": [
              "<IPython.core.display.HTML object>"
            ],
            "text/html": [
              "Tracking run with wandb version 0.19.8"
            ]
          },
          "metadata": {}
        },
        {
          "output_type": "display_data",
          "data": {
            "text/plain": [
              "<IPython.core.display.HTML object>"
            ],
            "text/html": [
              "Run data is saved locally in <code>/content/wandb/run-20250317_141143-1300qhrf</code>"
            ]
          },
          "metadata": {}
        },
        {
          "output_type": "display_data",
          "data": {
            "text/plain": [
              "<IPython.core.display.HTML object>"
            ],
            "text/html": [
              "Syncing run <strong><a href='https://wandb.ai/arunangshudutta218-iitm/dl_assgn_1_q_8/runs/1300qhrf' target=\"_blank\">deft-sweep-56</a></strong> to <a href='https://wandb.ai/arunangshudutta218-iitm/dl_assgn_1_q_8' target=\"_blank\">Weights & Biases</a> (<a href='https://wandb.me/developer-guide' target=\"_blank\">docs</a>)<br>Sweep page: <a href='https://wandb.ai/arunangshudutta218-iitm/dl_assgn_1_q_8/sweeps/28yyx0vh' target=\"_blank\">https://wandb.ai/arunangshudutta218-iitm/dl_assgn_1_q_8/sweeps/28yyx0vh</a>"
            ]
          },
          "metadata": {}
        },
        {
          "output_type": "display_data",
          "data": {
            "text/plain": [
              "<IPython.core.display.HTML object>"
            ],
            "text/html": [
              " View project at <a href='https://wandb.ai/arunangshudutta218-iitm/dl_assgn_1_q_8' target=\"_blank\">https://wandb.ai/arunangshudutta218-iitm/dl_assgn_1_q_8</a>"
            ]
          },
          "metadata": {}
        },
        {
          "output_type": "display_data",
          "data": {
            "text/plain": [
              "<IPython.core.display.HTML object>"
            ],
            "text/html": [
              " View sweep at <a href='https://wandb.ai/arunangshudutta218-iitm/dl_assgn_1_q_8/sweeps/28yyx0vh' target=\"_blank\">https://wandb.ai/arunangshudutta218-iitm/dl_assgn_1_q_8/sweeps/28yyx0vh</a>"
            ]
          },
          "metadata": {}
        },
        {
          "output_type": "display_data",
          "data": {
            "text/plain": [
              "<IPython.core.display.HTML object>"
            ],
            "text/html": [
              " View run at <a href='https://wandb.ai/arunangshudutta218-iitm/dl_assgn_1_q_8/runs/1300qhrf' target=\"_blank\">https://wandb.ai/arunangshudutta218-iitm/dl_assgn_1_q_8/runs/1300qhrf</a>"
            ]
          },
          "metadata": {}
        },
        {
          "output_type": "stream",
          "name": "stdout",
          "text": [
            "Hyper parameters: \n",
            "\n",
            "Weight initialization type :  Xavier\n",
            "Optimizer :  rmsprop\n",
            "Learning rate (initial):  0.0001\n",
            "Batch size:  32\n",
            "-------------------\n",
            "Architecture Description:\n",
            "\n",
            "Layer:  1  ; number of neurons:  64  ; activation function:  ReLU\n",
            "Weight matrix dimention (64, 784) Bias vector dimention (64, 1)\n",
            "----------------\n",
            "Layer:  2  ; number of neurons:  64  ; activation function:  ReLU\n",
            "Weight matrix dimention (64, 64) Bias vector dimention (64, 1)\n",
            "----------------\n",
            "Layer:  3  ; number of neurons:  64  ; activation function:  ReLU\n",
            "Weight matrix dimention (64, 64) Bias vector dimention (64, 1)\n",
            "----------------\n",
            "Layer:  4  ; number of neurons:  64  ; activation function:  ReLU\n",
            "Weight matrix dimention (64, 64) Bias vector dimention (64, 1)\n",
            "----------------\n",
            "Layer:  5  ; number of neurons:  10  ; activation function:  softmax\n",
            "Weight matrix dimention (10, 64) Bias vector dimention (10, 1)\n",
            "----------------\n",
            "1312.0\n",
            "\n",
            " Start of training\n",
            "CE Training Loss:  2.303130340460058 SE Training Loss:  0.4499415457228663 Training Accuracy:  15.25 CE Test Loss:  2.3001053189003233 SE Test Loss:  0.44960809246969663 Testing Accuracy:  15.911111111111111\n",
            "Epoch:  1\n"
          ]
        },
        {
          "output_type": "stream",
          "name": "stderr",
          "text": [
            "100%|██████████| 1312/1312 [00:04<00:00, 325.65it/s]\n"
          ]
        },
        {
          "output_type": "stream",
          "name": "stdout",
          "text": [
            "CE Training Loss:  0.5860299257926184 SE Training Loss:  0.14765528617856438 Training Accuracy:  80.0 CE Test Loss:  0.5913462557867093 SE Test Loss:  0.14922356282566887 Testing Accuracy:  79.83888888888889\n",
            "Epoch:  2\n"
          ]
        },
        {
          "output_type": "stream",
          "name": "stderr",
          "text": [
            "100%|██████████| 1312/1312 [00:04<00:00, 314.93it/s]\n"
          ]
        },
        {
          "output_type": "stream",
          "name": "stdout",
          "text": [
            "CE Training Loss:  0.4894764793884502 SE Training Loss:  0.12331608766485323 Training Accuracy:  83.16428571428571 CE Test Loss:  0.49669349648758454 SE Test Loss:  0.12484607206498771 Testing Accuracy:  83.09444444444445\n",
            "Epoch:  3\n"
          ]
        },
        {
          "output_type": "stream",
          "name": "stderr",
          "text": [
            "100%|██████████| 1312/1312 [00:07<00:00, 182.67it/s]\n"
          ]
        },
        {
          "output_type": "stream",
          "name": "stdout",
          "text": [
            "CE Training Loss:  0.4540777563438371 SE Training Loss:  0.11427485187648533 Training Accuracy:  84.31666666666666 CE Test Loss:  0.46315701993454794 SE Test Loss:  0.11623289683035674 Testing Accuracy:  84.14444444444445\n",
            "Epoch:  4\n"
          ]
        },
        {
          "output_type": "stream",
          "name": "stderr",
          "text": [
            "100%|██████████| 1312/1312 [00:04<00:00, 287.81it/s]\n"
          ]
        },
        {
          "output_type": "stream",
          "name": "stdout",
          "text": [
            "CE Training Loss:  0.4314371915417285 SE Training Loss:  0.1084872342142187 Training Accuracy:  85.08333333333333 CE Test Loss:  0.44249574757981586 SE Test Loss:  0.11085212464772717 Testing Accuracy:  84.78888888888889\n",
            "Epoch:  5\n"
          ]
        },
        {
          "output_type": "stream",
          "name": "stderr",
          "text": [
            "100%|██████████| 1312/1312 [00:09<00:00, 132.22it/s]\n"
          ]
        },
        {
          "output_type": "stream",
          "name": "stdout",
          "text": [
            "CE Training Loss:  0.4141056744455395 SE Training Loss:  0.10416692996509477 Training Accuracy:  85.6 CE Test Loss:  0.42686449098572393 SE Test Loss:  0.1069837792884886 Testing Accuracy:  85.28888888888889\n"
          ]
        },
        {
          "output_type": "display_data",
          "data": {
            "text/plain": [
              "<IPython.core.display.HTML object>"
            ],
            "text/html": []
          },
          "metadata": {}
        },
        {
          "output_type": "display_data",
          "data": {
            "text/plain": [
              "<IPython.core.display.HTML object>"
            ],
            "text/html": [
              "<br>    <style><br>        .wandb-row {<br>            display: flex;<br>            flex-direction: row;<br>            flex-wrap: wrap;<br>            justify-content: flex-start;<br>            width: 100%;<br>        }<br>        .wandb-col {<br>            display: flex;<br>            flex-direction: column;<br>            flex-basis: 100%;<br>            flex: 1;<br>            padding: 10px;<br>        }<br>    </style><br><div class=\"wandb-row\"><div class=\"wandb-col\"><h3>Run history:</h3><br/><table class=\"wandb\"><tr><td>tr_accuracy</td><td>▁▇████</td></tr><tr><td>tr_loss_CE</td><td>█▂▁▁▁▁</td></tr><tr><td>tr_loss_SE</td><td>█▂▁▁▁▁</td></tr><tr><td>val_accuracy</td><td>▁▇████</td></tr><tr><td>val_loss_CE</td><td>█▂▁▁▁▁</td></tr><tr><td>val_loss_SE</td><td>█▂▁▁▁▁</td></tr></table><br/></div><div class=\"wandb-col\"><h3>Run summary:</h3><br/><table class=\"wandb\"><tr><td>tr_accuracy</td><td>85.6</td></tr><tr><td>tr_loss_CE</td><td>0.41411</td></tr><tr><td>tr_loss_SE</td><td>0.10417</td></tr><tr><td>val_accuracy</td><td>85.28889</td></tr><tr><td>val_loss_CE</td><td>0.42686</td></tr><tr><td>val_loss_SE</td><td>0.10698</td></tr></table><br/></div></div>"
            ]
          },
          "metadata": {}
        },
        {
          "output_type": "display_data",
          "data": {
            "text/plain": [
              "<IPython.core.display.HTML object>"
            ],
            "text/html": [
              " View run <strong style=\"color:#cdcd00\">e_5_hl_4_hs_64_lr_0.0001_opt_rmsprop_bs_32_init_Xavier_ac_ReLU_l2_0.0005</strong> at: <a href='https://wandb.ai/arunangshudutta218-iitm/dl_assgn_1_q_8/runs/1300qhrf' target=\"_blank\">https://wandb.ai/arunangshudutta218-iitm/dl_assgn_1_q_8/runs/1300qhrf</a><br> View project at: <a href='https://wandb.ai/arunangshudutta218-iitm/dl_assgn_1_q_8' target=\"_blank\">https://wandb.ai/arunangshudutta218-iitm/dl_assgn_1_q_8</a><br>Synced 5 W&B file(s), 0 media file(s), 0 artifact file(s) and 0 other file(s)"
            ]
          },
          "metadata": {}
        },
        {
          "output_type": "display_data",
          "data": {
            "text/plain": [
              "<IPython.core.display.HTML object>"
            ],
            "text/html": [
              "Find logs at: <code>./wandb/run-20250317_141143-1300qhrf/logs</code>"
            ]
          },
          "metadata": {}
        },
        {
          "output_type": "stream",
          "name": "stderr",
          "text": [
            "\u001b[34m\u001b[1mwandb\u001b[0m: Agent Starting Run: d1ku9bpt with config:\n",
            "\u001b[34m\u001b[1mwandb\u001b[0m: \tactivation: ReLU\n",
            "\u001b[34m\u001b[1mwandb\u001b[0m: \tbatch_size: 32\n",
            "\u001b[34m\u001b[1mwandb\u001b[0m: \tepochs: 5\n",
            "\u001b[34m\u001b[1mwandb\u001b[0m: \thidden_size: 64\n",
            "\u001b[34m\u001b[1mwandb\u001b[0m: \tlearning_rate: 0.0001\n",
            "\u001b[34m\u001b[1mwandb\u001b[0m: \tloss_function: cross_entropy\n",
            "\u001b[34m\u001b[1mwandb\u001b[0m: \tnum_layers: 4\n",
            "\u001b[34m\u001b[1mwandb\u001b[0m: \toptimizer: rmsprop\n",
            "\u001b[34m\u001b[1mwandb\u001b[0m: \tweight_decay: 0.5\n",
            "\u001b[34m\u001b[1mwandb\u001b[0m: \tweight_init: Xavier\n"
          ]
        },
        {
          "output_type": "display_data",
          "data": {
            "text/plain": [
              "<IPython.core.display.HTML object>"
            ],
            "text/html": [
              "Tracking run with wandb version 0.19.8"
            ]
          },
          "metadata": {}
        },
        {
          "output_type": "display_data",
          "data": {
            "text/plain": [
              "<IPython.core.display.HTML object>"
            ],
            "text/html": [
              "Run data is saved locally in <code>/content/wandb/run-20250317_141228-d1ku9bpt</code>"
            ]
          },
          "metadata": {}
        },
        {
          "output_type": "display_data",
          "data": {
            "text/plain": [
              "<IPython.core.display.HTML object>"
            ],
            "text/html": [
              "Syncing run <strong><a href='https://wandb.ai/arunangshudutta218-iitm/dl_assgn_1_q_8/runs/d1ku9bpt' target=\"_blank\">ethereal-sweep-57</a></strong> to <a href='https://wandb.ai/arunangshudutta218-iitm/dl_assgn_1_q_8' target=\"_blank\">Weights & Biases</a> (<a href='https://wandb.me/developer-guide' target=\"_blank\">docs</a>)<br>Sweep page: <a href='https://wandb.ai/arunangshudutta218-iitm/dl_assgn_1_q_8/sweeps/28yyx0vh' target=\"_blank\">https://wandb.ai/arunangshudutta218-iitm/dl_assgn_1_q_8/sweeps/28yyx0vh</a>"
            ]
          },
          "metadata": {}
        },
        {
          "output_type": "display_data",
          "data": {
            "text/plain": [
              "<IPython.core.display.HTML object>"
            ],
            "text/html": [
              " View project at <a href='https://wandb.ai/arunangshudutta218-iitm/dl_assgn_1_q_8' target=\"_blank\">https://wandb.ai/arunangshudutta218-iitm/dl_assgn_1_q_8</a>"
            ]
          },
          "metadata": {}
        },
        {
          "output_type": "display_data",
          "data": {
            "text/plain": [
              "<IPython.core.display.HTML object>"
            ],
            "text/html": [
              " View sweep at <a href='https://wandb.ai/arunangshudutta218-iitm/dl_assgn_1_q_8/sweeps/28yyx0vh' target=\"_blank\">https://wandb.ai/arunangshudutta218-iitm/dl_assgn_1_q_8/sweeps/28yyx0vh</a>"
            ]
          },
          "metadata": {}
        },
        {
          "output_type": "display_data",
          "data": {
            "text/plain": [
              "<IPython.core.display.HTML object>"
            ],
            "text/html": [
              " View run at <a href='https://wandb.ai/arunangshudutta218-iitm/dl_assgn_1_q_8/runs/d1ku9bpt' target=\"_blank\">https://wandb.ai/arunangshudutta218-iitm/dl_assgn_1_q_8/runs/d1ku9bpt</a>"
            ]
          },
          "metadata": {}
        },
        {
          "output_type": "stream",
          "name": "stdout",
          "text": [
            "Hyper parameters: \n",
            "\n",
            "Weight initialization type :  Xavier\n",
            "Optimizer :  rmsprop\n",
            "Learning rate (initial):  0.0001\n",
            "Batch size:  32\n",
            "-------------------\n",
            "Architecture Description:\n",
            "\n",
            "Layer:  1  ; number of neurons:  64  ; activation function:  ReLU\n",
            "Weight matrix dimention (64, 784) Bias vector dimention (64, 1)\n",
            "----------------\n",
            "Layer:  2  ; number of neurons:  64  ; activation function:  ReLU\n",
            "Weight matrix dimention (64, 64) Bias vector dimention (64, 1)\n",
            "----------------\n",
            "Layer:  3  ; number of neurons:  64  ; activation function:  ReLU\n",
            "Weight matrix dimention (64, 64) Bias vector dimention (64, 1)\n",
            "----------------\n",
            "Layer:  4  ; number of neurons:  64  ; activation function:  ReLU\n",
            "Weight matrix dimention (64, 64) Bias vector dimention (64, 1)\n",
            "----------------\n",
            "Layer:  5  ; number of neurons:  10  ; activation function:  softmax\n",
            "Weight matrix dimention (10, 64) Bias vector dimention (10, 1)\n",
            "----------------\n",
            "1312.0\n",
            "\n",
            " Start of training\n",
            "CE Training Loss:  2.3099345170848533 SE Training Loss:  0.4507348982731915 Training Accuracy:  10.535714285714286 CE Test Loss:  2.3093449183609502 SE Test Loss:  0.45067533964238843 Testing Accuracy:  10.688888888888888\n",
            "Epoch:  1\n"
          ]
        },
        {
          "output_type": "stream",
          "name": "stderr",
          "text": [
            "100%|██████████| 1312/1312 [00:04<00:00, 266.65it/s]\n"
          ]
        },
        {
          "output_type": "stream",
          "name": "stdout",
          "text": [
            "CE Training Loss:  0.6709951467109656 SE Training Loss:  0.1668186677206692 Training Accuracy:  77.54523809523809 CE Test Loss:  0.6739103859580505 SE Test Loss:  0.16791623160347854 Testing Accuracy:  77.41111111111111\n",
            "Epoch:  2\n"
          ]
        },
        {
          "output_type": "stream",
          "name": "stderr",
          "text": [
            "100%|██████████| 1312/1312 [00:04<00:00, 321.83it/s]\n"
          ]
        },
        {
          "output_type": "stream",
          "name": "stdout",
          "text": [
            "CE Training Loss:  0.5654890966784203 SE Training Loss:  0.1397450190172275 Training Accuracy:  81.4095238095238 CE Test Loss:  0.5701095006083752 SE Test Loss:  0.14082290323875668 Testing Accuracy:  81.65555555555555\n",
            "Epoch:  3\n"
          ]
        },
        {
          "output_type": "stream",
          "name": "stderr",
          "text": [
            "100%|██████████| 1312/1312 [00:06<00:00, 197.10it/s]\n"
          ]
        },
        {
          "output_type": "stream",
          "name": "stdout",
          "text": [
            "CE Training Loss:  0.5283217381825667 SE Training Loss:  0.1306846449950514 Training Accuracy:  82.57380952380953 CE Test Loss:  0.5332919226136192 SE Test Loss:  0.13161832324230854 Testing Accuracy:  82.65\n",
            "Epoch:  4\n"
          ]
        },
        {
          "output_type": "stream",
          "name": "stderr",
          "text": [
            "100%|██████████| 1312/1312 [00:04<00:00, 287.31it/s]\n"
          ]
        },
        {
          "output_type": "stream",
          "name": "stdout",
          "text": [
            "CE Training Loss:  0.5102610302108098 SE Training Loss:  0.12625746390101242 Training Accuracy:  83.13095238095238 CE Test Loss:  0.5156856210900252 SE Test Loss:  0.1271992299639496 Testing Accuracy:  83.07222222222222\n",
            "Epoch:  5\n"
          ]
        },
        {
          "output_type": "stream",
          "name": "stderr",
          "text": [
            "100%|██████████| 1312/1312 [00:03<00:00, 341.28it/s]\n"
          ]
        },
        {
          "output_type": "stream",
          "name": "stdout",
          "text": [
            "CE Training Loss:  0.49909957179240744 SE Training Loss:  0.12352729473800717 Training Accuracy:  83.42857142857143 CE Test Loss:  0.5050427555910136 SE Test Loss:  0.12455962965552506 Testing Accuracy:  83.49444444444444\n"
          ]
        },
        {
          "output_type": "display_data",
          "data": {
            "text/plain": [
              "<IPython.core.display.HTML object>"
            ],
            "text/html": []
          },
          "metadata": {}
        },
        {
          "output_type": "display_data",
          "data": {
            "text/plain": [
              "<IPython.core.display.HTML object>"
            ],
            "text/html": [
              "<br>    <style><br>        .wandb-row {<br>            display: flex;<br>            flex-direction: row;<br>            flex-wrap: wrap;<br>            justify-content: flex-start;<br>            width: 100%;<br>        }<br>        .wandb-col {<br>            display: flex;<br>            flex-direction: column;<br>            flex-basis: 100%;<br>            flex: 1;<br>            padding: 10px;<br>        }<br>    </style><br><div class=\"wandb-row\"><div class=\"wandb-col\"><h3>Run history:</h3><br/><table class=\"wandb\"><tr><td>tr_accuracy</td><td>▁▇████</td></tr><tr><td>tr_loss_CE</td><td>█▂▁▁▁▁</td></tr><tr><td>tr_loss_SE</td><td>█▂▁▁▁▁</td></tr><tr><td>val_accuracy</td><td>▁▇████</td></tr><tr><td>val_loss_CE</td><td>█▂▁▁▁▁</td></tr><tr><td>val_loss_SE</td><td>█▂▁▁▁▁</td></tr></table><br/></div><div class=\"wandb-col\"><h3>Run summary:</h3><br/><table class=\"wandb\"><tr><td>tr_accuracy</td><td>83.42857</td></tr><tr><td>tr_loss_CE</td><td>0.4991</td></tr><tr><td>tr_loss_SE</td><td>0.12353</td></tr><tr><td>val_accuracy</td><td>83.49444</td></tr><tr><td>val_loss_CE</td><td>0.50504</td></tr><tr><td>val_loss_SE</td><td>0.12456</td></tr></table><br/></div></div>"
            ]
          },
          "metadata": {}
        },
        {
          "output_type": "display_data",
          "data": {
            "text/plain": [
              "<IPython.core.display.HTML object>"
            ],
            "text/html": [
              " View run <strong style=\"color:#cdcd00\">e_5_hl_4_hs_64_lr_0.0001_opt_rmsprop_bs_32_init_Xavier_ac_ReLU_l2_0.5</strong> at: <a href='https://wandb.ai/arunangshudutta218-iitm/dl_assgn_1_q_8/runs/d1ku9bpt' target=\"_blank\">https://wandb.ai/arunangshudutta218-iitm/dl_assgn_1_q_8/runs/d1ku9bpt</a><br> View project at: <a href='https://wandb.ai/arunangshudutta218-iitm/dl_assgn_1_q_8' target=\"_blank\">https://wandb.ai/arunangshudutta218-iitm/dl_assgn_1_q_8</a><br>Synced 5 W&B file(s), 0 media file(s), 0 artifact file(s) and 0 other file(s)"
            ]
          },
          "metadata": {}
        },
        {
          "output_type": "display_data",
          "data": {
            "text/plain": [
              "<IPython.core.display.HTML object>"
            ],
            "text/html": [
              "Find logs at: <code>./wandb/run-20250317_141228-d1ku9bpt/logs</code>"
            ]
          },
          "metadata": {}
        },
        {
          "output_type": "stream",
          "name": "stderr",
          "text": [
            "\u001b[34m\u001b[1mwandb\u001b[0m: Agent Starting Run: l13jrclx with config:\n",
            "\u001b[34m\u001b[1mwandb\u001b[0m: \tactivation: ReLU\n",
            "\u001b[34m\u001b[1mwandb\u001b[0m: \tbatch_size: 32\n",
            "\u001b[34m\u001b[1mwandb\u001b[0m: \tepochs: 5\n",
            "\u001b[34m\u001b[1mwandb\u001b[0m: \thidden_size: 64\n",
            "\u001b[34m\u001b[1mwandb\u001b[0m: \tlearning_rate: 0.0001\n",
            "\u001b[34m\u001b[1mwandb\u001b[0m: \tloss_function: cross_entropy\n",
            "\u001b[34m\u001b[1mwandb\u001b[0m: \tnum_layers: 4\n",
            "\u001b[34m\u001b[1mwandb\u001b[0m: \toptimizer: adam\n",
            "\u001b[34m\u001b[1mwandb\u001b[0m: \tweight_decay: 0\n",
            "\u001b[34m\u001b[1mwandb\u001b[0m: \tweight_init: Xavier\n"
          ]
        },
        {
          "output_type": "display_data",
          "data": {
            "text/plain": [
              "<IPython.core.display.HTML object>"
            ],
            "text/html": [
              "Tracking run with wandb version 0.19.8"
            ]
          },
          "metadata": {}
        },
        {
          "output_type": "display_data",
          "data": {
            "text/plain": [
              "<IPython.core.display.HTML object>"
            ],
            "text/html": [
              "Run data is saved locally in <code>/content/wandb/run-20250317_141303-l13jrclx</code>"
            ]
          },
          "metadata": {}
        },
        {
          "output_type": "display_data",
          "data": {
            "text/plain": [
              "<IPython.core.display.HTML object>"
            ],
            "text/html": [
              "Syncing run <strong><a href='https://wandb.ai/arunangshudutta218-iitm/dl_assgn_1_q_8/runs/l13jrclx' target=\"_blank\">skilled-sweep-58</a></strong> to <a href='https://wandb.ai/arunangshudutta218-iitm/dl_assgn_1_q_8' target=\"_blank\">Weights & Biases</a> (<a href='https://wandb.me/developer-guide' target=\"_blank\">docs</a>)<br>Sweep page: <a href='https://wandb.ai/arunangshudutta218-iitm/dl_assgn_1_q_8/sweeps/28yyx0vh' target=\"_blank\">https://wandb.ai/arunangshudutta218-iitm/dl_assgn_1_q_8/sweeps/28yyx0vh</a>"
            ]
          },
          "metadata": {}
        },
        {
          "output_type": "display_data",
          "data": {
            "text/plain": [
              "<IPython.core.display.HTML object>"
            ],
            "text/html": [
              " View project at <a href='https://wandb.ai/arunangshudutta218-iitm/dl_assgn_1_q_8' target=\"_blank\">https://wandb.ai/arunangshudutta218-iitm/dl_assgn_1_q_8</a>"
            ]
          },
          "metadata": {}
        },
        {
          "output_type": "display_data",
          "data": {
            "text/plain": [
              "<IPython.core.display.HTML object>"
            ],
            "text/html": [
              " View sweep at <a href='https://wandb.ai/arunangshudutta218-iitm/dl_assgn_1_q_8/sweeps/28yyx0vh' target=\"_blank\">https://wandb.ai/arunangshudutta218-iitm/dl_assgn_1_q_8/sweeps/28yyx0vh</a>"
            ]
          },
          "metadata": {}
        },
        {
          "output_type": "display_data",
          "data": {
            "text/plain": [
              "<IPython.core.display.HTML object>"
            ],
            "text/html": [
              " View run at <a href='https://wandb.ai/arunangshudutta218-iitm/dl_assgn_1_q_8/runs/l13jrclx' target=\"_blank\">https://wandb.ai/arunangshudutta218-iitm/dl_assgn_1_q_8/runs/l13jrclx</a>"
            ]
          },
          "metadata": {}
        },
        {
          "output_type": "stream",
          "name": "stdout",
          "text": [
            "Hyper parameters: \n",
            "\n",
            "Weight initialization type :  Xavier\n",
            "Optimizer :  adam\n",
            "Learning rate (initial):  0.0001\n",
            "Batch size:  32\n",
            "-------------------\n",
            "Architecture Description:\n",
            "\n",
            "Layer:  1  ; number of neurons:  64  ; activation function:  ReLU\n",
            "Weight matrix dimention (64, 784) Bias vector dimention (64, 1)\n",
            "----------------\n",
            "Layer:  2  ; number of neurons:  64  ; activation function:  ReLU\n",
            "Weight matrix dimention (64, 64) Bias vector dimention (64, 1)\n",
            "----------------\n",
            "Layer:  3  ; number of neurons:  64  ; activation function:  ReLU\n",
            "Weight matrix dimention (64, 64) Bias vector dimention (64, 1)\n",
            "----------------\n",
            "Layer:  4  ; number of neurons:  64  ; activation function:  ReLU\n",
            "Weight matrix dimention (64, 64) Bias vector dimention (64, 1)\n",
            "----------------\n",
            "Layer:  5  ; number of neurons:  10  ; activation function:  softmax\n",
            "Weight matrix dimention (10, 64) Bias vector dimention (10, 1)\n",
            "----------------\n",
            "1312.0\n",
            "\n",
            " Start of training\n",
            "CE Training Loss:  2.2990617834462723 SE Training Loss:  0.4497292645862562 Training Accuracy:  9.095238095238095 CE Test Loss:  2.300076807201616 SE Test Loss:  0.449821093491123 Testing Accuracy:  9.027777777777779\n",
            "Epoch:  1\n"
          ]
        },
        {
          "output_type": "stream",
          "name": "stderr",
          "text": [
            "100%|██████████| 1312/1312 [00:05<00:00, 261.85it/s]\n"
          ]
        },
        {
          "output_type": "stream",
          "name": "stdout",
          "text": [
            "CE Training Loss:  0.5691467844479541 SE Training Loss:  0.1418667771437092 Training Accuracy:  80.30952380952381 CE Test Loss:  0.5781589653690985 SE Test Loss:  0.14398300720597473 Testing Accuracy:  79.73333333333333\n",
            "Epoch:  2\n"
          ]
        },
        {
          "output_type": "stream",
          "name": "stderr",
          "text": [
            "100%|██████████| 1312/1312 [00:07<00:00, 170.54it/s]\n"
          ]
        },
        {
          "output_type": "stream",
          "name": "stdout",
          "text": [
            "CE Training Loss:  0.47370507648327864 SE Training Loss:  0.11918137917764224 Training Accuracy:  83.57619047619048 CE Test Loss:  0.48393564144143886 SE Test Loss:  0.12116850189401866 Testing Accuracy:  83.29444444444445\n",
            "Epoch:  3\n"
          ]
        },
        {
          "output_type": "stream",
          "name": "stderr",
          "text": [
            "100%|██████████| 1312/1312 [00:05<00:00, 250.19it/s]\n"
          ]
        },
        {
          "output_type": "stream",
          "name": "stdout",
          "text": [
            "CE Training Loss:  0.4363891616665694 SE Training Loss:  0.10982094004190808 Training Accuracy:  84.79523809523809 CE Test Loss:  0.4482040647098219 SE Test Loss:  0.11196767442310832 Testing Accuracy:  84.53333333333333\n",
            "Epoch:  4\n"
          ]
        },
        {
          "output_type": "stream",
          "name": "stderr",
          "text": [
            "100%|██████████| 1312/1312 [00:08<00:00, 163.59it/s]\n"
          ]
        },
        {
          "output_type": "stream",
          "name": "stdout",
          "text": [
            "CE Training Loss:  0.41473042427967605 SE Training Loss:  0.10450823244573483 Training Accuracy:  85.51666666666667 CE Test Loss:  0.42941059976199725 SE Test Loss:  0.107279669595533 Testing Accuracy:  85.28333333333333\n",
            "Epoch:  5\n"
          ]
        },
        {
          "output_type": "stream",
          "name": "stderr",
          "text": [
            "100%|██████████| 1312/1312 [00:05<00:00, 252.91it/s]\n"
          ]
        },
        {
          "output_type": "stream",
          "name": "stdout",
          "text": [
            "CE Training Loss:  0.39848010158872943 SE Training Loss:  0.10039238997166604 Training Accuracy:  86.17619047619047 CE Test Loss:  0.4160515706697696 SE Test Loss:  0.10370526743712387 Testing Accuracy:  85.82222222222222\n"
          ]
        },
        {
          "output_type": "display_data",
          "data": {
            "text/plain": [
              "<IPython.core.display.HTML object>"
            ],
            "text/html": []
          },
          "metadata": {}
        },
        {
          "output_type": "display_data",
          "data": {
            "text/plain": [
              "<IPython.core.display.HTML object>"
            ],
            "text/html": [
              "<br>    <style><br>        .wandb-row {<br>            display: flex;<br>            flex-direction: row;<br>            flex-wrap: wrap;<br>            justify-content: flex-start;<br>            width: 100%;<br>        }<br>        .wandb-col {<br>            display: flex;<br>            flex-direction: column;<br>            flex-basis: 100%;<br>            flex: 1;<br>            padding: 10px;<br>        }<br>    </style><br><div class=\"wandb-row\"><div class=\"wandb-col\"><h3>Run history:</h3><br/><table class=\"wandb\"><tr><td>tr_accuracy</td><td>▁▇████</td></tr><tr><td>tr_loss_CE</td><td>█▂▁▁▁▁</td></tr><tr><td>tr_loss_SE</td><td>█▂▁▁▁▁</td></tr><tr><td>val_accuracy</td><td>▁▇████</td></tr><tr><td>val_loss_CE</td><td>█▂▁▁▁▁</td></tr><tr><td>val_loss_SE</td><td>█▂▁▁▁▁</td></tr></table><br/></div><div class=\"wandb-col\"><h3>Run summary:</h3><br/><table class=\"wandb\"><tr><td>tr_accuracy</td><td>86.17619</td></tr><tr><td>tr_loss_CE</td><td>0.39848</td></tr><tr><td>tr_loss_SE</td><td>0.10039</td></tr><tr><td>val_accuracy</td><td>85.82222</td></tr><tr><td>val_loss_CE</td><td>0.41605</td></tr><tr><td>val_loss_SE</td><td>0.10371</td></tr></table><br/></div></div>"
            ]
          },
          "metadata": {}
        },
        {
          "output_type": "display_data",
          "data": {
            "text/plain": [
              "<IPython.core.display.HTML object>"
            ],
            "text/html": [
              " View run <strong style=\"color:#cdcd00\">e_5_hl_4_hs_64_lr_0.0001_opt_adam_bs_32_init_Xavier_ac_ReLU_l2_0</strong> at: <a href='https://wandb.ai/arunangshudutta218-iitm/dl_assgn_1_q_8/runs/l13jrclx' target=\"_blank\">https://wandb.ai/arunangshudutta218-iitm/dl_assgn_1_q_8/runs/l13jrclx</a><br> View project at: <a href='https://wandb.ai/arunangshudutta218-iitm/dl_assgn_1_q_8' target=\"_blank\">https://wandb.ai/arunangshudutta218-iitm/dl_assgn_1_q_8</a><br>Synced 5 W&B file(s), 0 media file(s), 0 artifact file(s) and 0 other file(s)"
            ]
          },
          "metadata": {}
        },
        {
          "output_type": "display_data",
          "data": {
            "text/plain": [
              "<IPython.core.display.HTML object>"
            ],
            "text/html": [
              "Find logs at: <code>./wandb/run-20250317_141303-l13jrclx/logs</code>"
            ]
          },
          "metadata": {}
        },
        {
          "output_type": "stream",
          "name": "stderr",
          "text": [
            "\u001b[34m\u001b[1mwandb\u001b[0m: Agent Starting Run: qlmov3ii with config:\n",
            "\u001b[34m\u001b[1mwandb\u001b[0m: \tactivation: ReLU\n",
            "\u001b[34m\u001b[1mwandb\u001b[0m: \tbatch_size: 32\n",
            "\u001b[34m\u001b[1mwandb\u001b[0m: \tepochs: 5\n",
            "\u001b[34m\u001b[1mwandb\u001b[0m: \thidden_size: 64\n",
            "\u001b[34m\u001b[1mwandb\u001b[0m: \tlearning_rate: 0.0001\n",
            "\u001b[34m\u001b[1mwandb\u001b[0m: \tloss_function: cross_entropy\n",
            "\u001b[34m\u001b[1mwandb\u001b[0m: \tnum_layers: 4\n",
            "\u001b[34m\u001b[1mwandb\u001b[0m: \toptimizer: adam\n",
            "\u001b[34m\u001b[1mwandb\u001b[0m: \tweight_decay: 0.0005\n",
            "\u001b[34m\u001b[1mwandb\u001b[0m: \tweight_init: Xavier\n"
          ]
        },
        {
          "output_type": "display_data",
          "data": {
            "text/plain": [
              "<IPython.core.display.HTML object>"
            ],
            "text/html": [
              "Tracking run with wandb version 0.19.8"
            ]
          },
          "metadata": {}
        },
        {
          "output_type": "display_data",
          "data": {
            "text/plain": [
              "<IPython.core.display.HTML object>"
            ],
            "text/html": [
              "Run data is saved locally in <code>/content/wandb/run-20250317_141344-qlmov3ii</code>"
            ]
          },
          "metadata": {}
        },
        {
          "output_type": "display_data",
          "data": {
            "text/plain": [
              "<IPython.core.display.HTML object>"
            ],
            "text/html": [
              "Syncing run <strong><a href='https://wandb.ai/arunangshudutta218-iitm/dl_assgn_1_q_8/runs/qlmov3ii' target=\"_blank\">neat-sweep-59</a></strong> to <a href='https://wandb.ai/arunangshudutta218-iitm/dl_assgn_1_q_8' target=\"_blank\">Weights & Biases</a> (<a href='https://wandb.me/developer-guide' target=\"_blank\">docs</a>)<br>Sweep page: <a href='https://wandb.ai/arunangshudutta218-iitm/dl_assgn_1_q_8/sweeps/28yyx0vh' target=\"_blank\">https://wandb.ai/arunangshudutta218-iitm/dl_assgn_1_q_8/sweeps/28yyx0vh</a>"
            ]
          },
          "metadata": {}
        },
        {
          "output_type": "display_data",
          "data": {
            "text/plain": [
              "<IPython.core.display.HTML object>"
            ],
            "text/html": [
              " View project at <a href='https://wandb.ai/arunangshudutta218-iitm/dl_assgn_1_q_8' target=\"_blank\">https://wandb.ai/arunangshudutta218-iitm/dl_assgn_1_q_8</a>"
            ]
          },
          "metadata": {}
        },
        {
          "output_type": "display_data",
          "data": {
            "text/plain": [
              "<IPython.core.display.HTML object>"
            ],
            "text/html": [
              " View sweep at <a href='https://wandb.ai/arunangshudutta218-iitm/dl_assgn_1_q_8/sweeps/28yyx0vh' target=\"_blank\">https://wandb.ai/arunangshudutta218-iitm/dl_assgn_1_q_8/sweeps/28yyx0vh</a>"
            ]
          },
          "metadata": {}
        },
        {
          "output_type": "display_data",
          "data": {
            "text/plain": [
              "<IPython.core.display.HTML object>"
            ],
            "text/html": [
              " View run at <a href='https://wandb.ai/arunangshudutta218-iitm/dl_assgn_1_q_8/runs/qlmov3ii' target=\"_blank\">https://wandb.ai/arunangshudutta218-iitm/dl_assgn_1_q_8/runs/qlmov3ii</a>"
            ]
          },
          "metadata": {}
        },
        {
          "output_type": "stream",
          "name": "stdout",
          "text": [
            "Hyper parameters: \n",
            "\n",
            "Weight initialization type :  Xavier\n",
            "Optimizer :  adam\n",
            "Learning rate (initial):  0.0001\n",
            "Batch size:  32\n",
            "-------------------\n",
            "Architecture Description:\n",
            "\n",
            "Layer:  1  ; number of neurons:  64  ; activation function:  ReLU\n",
            "Weight matrix dimention (64, 784) Bias vector dimention (64, 1)\n",
            "----------------\n",
            "Layer:  2  ; number of neurons:  64  ; activation function:  ReLU\n",
            "Weight matrix dimention (64, 64) Bias vector dimention (64, 1)\n",
            "----------------\n",
            "Layer:  3  ; number of neurons:  64  ; activation function:  ReLU\n",
            "Weight matrix dimention (64, 64) Bias vector dimention (64, 1)\n",
            "----------------\n",
            "Layer:  4  ; number of neurons:  64  ; activation function:  ReLU\n",
            "Weight matrix dimention (64, 64) Bias vector dimention (64, 1)\n",
            "----------------\n",
            "Layer:  5  ; number of neurons:  10  ; activation function:  softmax\n",
            "Weight matrix dimention (10, 64) Bias vector dimention (10, 1)\n",
            "----------------\n",
            "1312.0\n",
            "\n",
            " Start of training\n",
            "CE Training Loss:  2.3125105809387323 SE Training Loss:  0.45083677190780336 Training Accuracy:  12.902380952380952 CE Test Loss:  2.3129335139193827 SE Test Loss:  0.4508725314637481 Testing Accuracy:  12.972222222222221\n",
            "Epoch:  1\n"
          ]
        },
        {
          "output_type": "stream",
          "name": "stderr",
          "text": [
            "100%|██████████| 1312/1312 [00:04<00:00, 267.72it/s]\n"
          ]
        },
        {
          "output_type": "stream",
          "name": "stdout",
          "text": [
            "CE Training Loss:  0.5841613980942911 SE Training Loss:  0.14611782907422563 Training Accuracy:  79.5047619047619 CE Test Loss:  0.5894600781017507 SE Test Loss:  0.1477561276639735 Testing Accuracy:  79.17222222222222\n",
            "Epoch:  2\n"
          ]
        },
        {
          "output_type": "stream",
          "name": "stderr",
          "text": [
            "100%|██████████| 1312/1312 [00:07<00:00, 175.08it/s]\n"
          ]
        },
        {
          "output_type": "stream",
          "name": "stdout",
          "text": [
            "CE Training Loss:  0.48812288847289953 SE Training Loss:  0.12379412489316428 Training Accuracy:  82.73571428571428 CE Test Loss:  0.4937235843484643 SE Test Loss:  0.12490253194524868 Testing Accuracy:  82.52222222222223\n",
            "Epoch:  3\n"
          ]
        },
        {
          "output_type": "stream",
          "name": "stderr",
          "text": [
            "100%|██████████| 1312/1312 [00:06<00:00, 211.75it/s]\n"
          ]
        },
        {
          "output_type": "stream",
          "name": "stdout",
          "text": [
            "CE Training Loss:  0.44669519766345617 SE Training Loss:  0.11334936211953685 Training Accuracy:  84.40714285714286 CE Test Loss:  0.4543009869424703 SE Test Loss:  0.11453945569078496 Testing Accuracy:  84.23333333333333\n",
            "Epoch:  4\n"
          ]
        },
        {
          "output_type": "stream",
          "name": "stderr",
          "text": [
            "100%|██████████| 1312/1312 [00:13<00:00, 100.02it/s]\n"
          ]
        },
        {
          "output_type": "stream",
          "name": "stdout",
          "text": [
            "CE Training Loss:  0.418841125067751 SE Training Loss:  0.1060627336760807 Training Accuracy:  85.4 CE Test Loss:  0.4291494220308214 SE Test Loss:  0.10765214522449192 Testing Accuracy:  85.23333333333333\n",
            "Epoch:  5\n"
          ]
        },
        {
          "output_type": "stream",
          "name": "stderr",
          "text": [
            "100%|██████████| 1312/1312 [00:15<00:00, 86.41it/s] \n"
          ]
        },
        {
          "output_type": "stream",
          "name": "stdout",
          "text": [
            "CE Training Loss:  0.3990921154855205 SE Training Loss:  0.10088798570700283 Training Accuracy:  86.11190476190477 CE Test Loss:  0.41267962702288835 SE Test Loss:  0.10317518969452895 Testing Accuracy:  85.66666666666667\n"
          ]
        },
        {
          "output_type": "display_data",
          "data": {
            "text/plain": [
              "<IPython.core.display.HTML object>"
            ],
            "text/html": []
          },
          "metadata": {}
        },
        {
          "output_type": "display_data",
          "data": {
            "text/plain": [
              "<IPython.core.display.HTML object>"
            ],
            "text/html": [
              "<br>    <style><br>        .wandb-row {<br>            display: flex;<br>            flex-direction: row;<br>            flex-wrap: wrap;<br>            justify-content: flex-start;<br>            width: 100%;<br>        }<br>        .wandb-col {<br>            display: flex;<br>            flex-direction: column;<br>            flex-basis: 100%;<br>            flex: 1;<br>            padding: 10px;<br>        }<br>    </style><br><div class=\"wandb-row\"><div class=\"wandb-col\"><h3>Run history:</h3><br/><table class=\"wandb\"><tr><td>tr_accuracy</td><td>▁▇████</td></tr><tr><td>tr_loss_CE</td><td>█▂▁▁▁▁</td></tr><tr><td>tr_loss_SE</td><td>█▂▁▁▁▁</td></tr><tr><td>val_accuracy</td><td>▁▇████</td></tr><tr><td>val_loss_CE</td><td>█▂▁▁▁▁</td></tr><tr><td>val_loss_SE</td><td>█▂▁▁▁▁</td></tr></table><br/></div><div class=\"wandb-col\"><h3>Run summary:</h3><br/><table class=\"wandb\"><tr><td>tr_accuracy</td><td>86.1119</td></tr><tr><td>tr_loss_CE</td><td>0.39909</td></tr><tr><td>tr_loss_SE</td><td>0.10089</td></tr><tr><td>val_accuracy</td><td>85.66667</td></tr><tr><td>val_loss_CE</td><td>0.41268</td></tr><tr><td>val_loss_SE</td><td>0.10318</td></tr></table><br/></div></div>"
            ]
          },
          "metadata": {}
        },
        {
          "output_type": "display_data",
          "data": {
            "text/plain": [
              "<IPython.core.display.HTML object>"
            ],
            "text/html": [
              " View run <strong style=\"color:#cdcd00\">e_5_hl_4_hs_64_lr_0.0001_opt_adam_bs_32_init_Xavier_ac_ReLU_l2_0.0005</strong> at: <a href='https://wandb.ai/arunangshudutta218-iitm/dl_assgn_1_q_8/runs/qlmov3ii' target=\"_blank\">https://wandb.ai/arunangshudutta218-iitm/dl_assgn_1_q_8/runs/qlmov3ii</a><br> View project at: <a href='https://wandb.ai/arunangshudutta218-iitm/dl_assgn_1_q_8' target=\"_blank\">https://wandb.ai/arunangshudutta218-iitm/dl_assgn_1_q_8</a><br>Synced 5 W&B file(s), 0 media file(s), 0 artifact file(s) and 0 other file(s)"
            ]
          },
          "metadata": {}
        },
        {
          "output_type": "display_data",
          "data": {
            "text/plain": [
              "<IPython.core.display.HTML object>"
            ],
            "text/html": [
              "Find logs at: <code>./wandb/run-20250317_141344-qlmov3ii/logs</code>"
            ]
          },
          "metadata": {}
        },
        {
          "output_type": "stream",
          "name": "stderr",
          "text": [
            "\u001b[34m\u001b[1mwandb\u001b[0m: Agent Starting Run: bwx46kcm with config:\n",
            "\u001b[34m\u001b[1mwandb\u001b[0m: \tactivation: ReLU\n",
            "\u001b[34m\u001b[1mwandb\u001b[0m: \tbatch_size: 32\n",
            "\u001b[34m\u001b[1mwandb\u001b[0m: \tepochs: 5\n",
            "\u001b[34m\u001b[1mwandb\u001b[0m: \thidden_size: 64\n",
            "\u001b[34m\u001b[1mwandb\u001b[0m: \tlearning_rate: 0.0001\n",
            "\u001b[34m\u001b[1mwandb\u001b[0m: \tloss_function: cross_entropy\n",
            "\u001b[34m\u001b[1mwandb\u001b[0m: \tnum_layers: 4\n",
            "\u001b[34m\u001b[1mwandb\u001b[0m: \toptimizer: adam\n",
            "\u001b[34m\u001b[1mwandb\u001b[0m: \tweight_decay: 0.5\n",
            "\u001b[34m\u001b[1mwandb\u001b[0m: \tweight_init: Xavier\n"
          ]
        },
        {
          "output_type": "display_data",
          "data": {
            "text/plain": [
              "<IPython.core.display.HTML object>"
            ],
            "text/html": [
              "Tracking run with wandb version 0.19.8"
            ]
          },
          "metadata": {}
        },
        {
          "output_type": "display_data",
          "data": {
            "text/plain": [
              "<IPython.core.display.HTML object>"
            ],
            "text/html": [
              "Run data is saved locally in <code>/content/wandb/run-20250317_141454-bwx46kcm</code>"
            ]
          },
          "metadata": {}
        },
        {
          "output_type": "display_data",
          "data": {
            "text/plain": [
              "<IPython.core.display.HTML object>"
            ],
            "text/html": [
              "Syncing run <strong><a href='https://wandb.ai/arunangshudutta218-iitm/dl_assgn_1_q_8/runs/bwx46kcm' target=\"_blank\">robust-sweep-60</a></strong> to <a href='https://wandb.ai/arunangshudutta218-iitm/dl_assgn_1_q_8' target=\"_blank\">Weights & Biases</a> (<a href='https://wandb.me/developer-guide' target=\"_blank\">docs</a>)<br>Sweep page: <a href='https://wandb.ai/arunangshudutta218-iitm/dl_assgn_1_q_8/sweeps/28yyx0vh' target=\"_blank\">https://wandb.ai/arunangshudutta218-iitm/dl_assgn_1_q_8/sweeps/28yyx0vh</a>"
            ]
          },
          "metadata": {}
        },
        {
          "output_type": "display_data",
          "data": {
            "text/plain": [
              "<IPython.core.display.HTML object>"
            ],
            "text/html": [
              " View project at <a href='https://wandb.ai/arunangshudutta218-iitm/dl_assgn_1_q_8' target=\"_blank\">https://wandb.ai/arunangshudutta218-iitm/dl_assgn_1_q_8</a>"
            ]
          },
          "metadata": {}
        },
        {
          "output_type": "display_data",
          "data": {
            "text/plain": [
              "<IPython.core.display.HTML object>"
            ],
            "text/html": [
              " View sweep at <a href='https://wandb.ai/arunangshudutta218-iitm/dl_assgn_1_q_8/sweeps/28yyx0vh' target=\"_blank\">https://wandb.ai/arunangshudutta218-iitm/dl_assgn_1_q_8/sweeps/28yyx0vh</a>"
            ]
          },
          "metadata": {}
        },
        {
          "output_type": "display_data",
          "data": {
            "text/plain": [
              "<IPython.core.display.HTML object>"
            ],
            "text/html": [
              " View run at <a href='https://wandb.ai/arunangshudutta218-iitm/dl_assgn_1_q_8/runs/bwx46kcm' target=\"_blank\">https://wandb.ai/arunangshudutta218-iitm/dl_assgn_1_q_8/runs/bwx46kcm</a>"
            ]
          },
          "metadata": {}
        },
        {
          "output_type": "stream",
          "name": "stdout",
          "text": [
            "Hyper parameters: \n",
            "\n",
            "Weight initialization type :  Xavier\n",
            "Optimizer :  adam\n",
            "Learning rate (initial):  0.0001\n",
            "Batch size:  32\n",
            "-------------------\n",
            "Architecture Description:\n",
            "\n",
            "Layer:  1  ; number of neurons:  64  ; activation function:  ReLU\n",
            "Weight matrix dimention (64, 784) Bias vector dimention (64, 1)\n",
            "----------------\n",
            "Layer:  2  ; number of neurons:  64  ; activation function:  ReLU\n",
            "Weight matrix dimention (64, 64) Bias vector dimention (64, 1)\n",
            "----------------\n",
            "Layer:  3  ; number of neurons:  64  ; activation function:  ReLU\n",
            "Weight matrix dimention (64, 64) Bias vector dimention (64, 1)\n",
            "----------------\n",
            "Layer:  4  ; number of neurons:  64  ; activation function:  ReLU\n",
            "Weight matrix dimention (64, 64) Bias vector dimention (64, 1)\n",
            "----------------\n",
            "Layer:  5  ; number of neurons:  10  ; activation function:  softmax\n",
            "Weight matrix dimention (10, 64) Bias vector dimention (10, 1)\n",
            "----------------\n",
            "1312.0\n",
            "\n",
            " Start of training\n",
            "CE Training Loss:  2.324090870439341 SE Training Loss:  0.4523526320193352 Training Accuracy:  8.588095238095239 CE Test Loss:  2.3240341417673136 SE Test Loss:  0.4523363526034622 Testing Accuracy:  8.75\n",
            "Epoch:  1\n"
          ]
        },
        {
          "output_type": "stream",
          "name": "stderr",
          "text": [
            "100%|██████████| 1312/1312 [00:07<00:00, 165.09it/s]\n"
          ]
        },
        {
          "output_type": "stream",
          "name": "stdout",
          "text": [
            "CE Training Loss:  0.7072916788808027 SE Training Loss:  0.175859502404441 Training Accuracy:  77.03333333333333 CE Test Loss:  0.710477917784066 SE Test Loss:  0.17722067498602068 Testing Accuracy:  76.62777777777778\n",
            "Epoch:  2\n"
          ]
        },
        {
          "output_type": "stream",
          "name": "stderr",
          "text": [
            "100%|██████████| 1312/1312 [00:04<00:00, 263.23it/s]\n"
          ]
        },
        {
          "output_type": "stream",
          "name": "stdout",
          "text": [
            "CE Training Loss:  0.5910628365804591 SE Training Loss:  0.14709738191053695 Training Accuracy:  80.32619047619048 CE Test Loss:  0.5958327572636016 SE Test Loss:  0.14873533171511105 Testing Accuracy:  80.10555555555555\n",
            "Epoch:  3\n"
          ]
        },
        {
          "output_type": "stream",
          "name": "stderr",
          "text": [
            "100%|██████████| 1312/1312 [00:06<00:00, 207.20it/s]\n"
          ]
        },
        {
          "output_type": "stream",
          "name": "stdout",
          "text": [
            "CE Training Loss:  0.549803016410469 SE Training Loss:  0.1367104060956438 Training Accuracy:  81.5 CE Test Loss:  0.5543602550803561 SE Test Loss:  0.13796583278442096 Testing Accuracy:  81.51666666666667\n",
            "Epoch:  4\n"
          ]
        },
        {
          "output_type": "stream",
          "name": "stderr",
          "text": [
            "100%|██████████| 1312/1312 [00:06<00:00, 210.78it/s]\n"
          ]
        },
        {
          "output_type": "stream",
          "name": "stdout",
          "text": [
            "CE Training Loss:  0.5282920235149079 SE Training Loss:  0.13131553928558257 Training Accuracy:  82.20714285714286 CE Test Loss:  0.532942980189114 SE Test Loss:  0.13242066931663357 Testing Accuracy:  82.22777777777777\n",
            "Epoch:  5\n"
          ]
        },
        {
          "output_type": "stream",
          "name": "stderr",
          "text": [
            "100%|██████████| 1312/1312 [00:04<00:00, 263.19it/s]\n"
          ]
        },
        {
          "output_type": "stream",
          "name": "stdout",
          "text": [
            "CE Training Loss:  0.515099818012323 SE Training Loss:  0.1281388594261516 Training Accuracy:  82.53333333333333 CE Test Loss:  0.520236565216644 SE Test Loss:  0.12925515073834584 Testing Accuracy:  82.52222222222223\n"
          ]
        },
        {
          "output_type": "display_data",
          "data": {
            "text/plain": [
              "<IPython.core.display.HTML object>"
            ],
            "text/html": []
          },
          "metadata": {}
        },
        {
          "output_type": "display_data",
          "data": {
            "text/plain": [
              "<IPython.core.display.HTML object>"
            ],
            "text/html": [
              "<br>    <style><br>        .wandb-row {<br>            display: flex;<br>            flex-direction: row;<br>            flex-wrap: wrap;<br>            justify-content: flex-start;<br>            width: 100%;<br>        }<br>        .wandb-col {<br>            display: flex;<br>            flex-direction: column;<br>            flex-basis: 100%;<br>            flex: 1;<br>            padding: 10px;<br>        }<br>    </style><br><div class=\"wandb-row\"><div class=\"wandb-col\"><h3>Run history:</h3><br/><table class=\"wandb\"><tr><td>tr_accuracy</td><td>▁▇████</td></tr><tr><td>tr_loss_CE</td><td>█▂▁▁▁▁</td></tr><tr><td>tr_loss_SE</td><td>█▂▁▁▁▁</td></tr><tr><td>val_accuracy</td><td>▁▇████</td></tr><tr><td>val_loss_CE</td><td>█▂▁▁▁▁</td></tr><tr><td>val_loss_SE</td><td>█▂▁▁▁▁</td></tr></table><br/></div><div class=\"wandb-col\"><h3>Run summary:</h3><br/><table class=\"wandb\"><tr><td>tr_accuracy</td><td>82.53333</td></tr><tr><td>tr_loss_CE</td><td>0.5151</td></tr><tr><td>tr_loss_SE</td><td>0.12814</td></tr><tr><td>val_accuracy</td><td>82.52222</td></tr><tr><td>val_loss_CE</td><td>0.52024</td></tr><tr><td>val_loss_SE</td><td>0.12926</td></tr></table><br/></div></div>"
            ]
          },
          "metadata": {}
        },
        {
          "output_type": "display_data",
          "data": {
            "text/plain": [
              "<IPython.core.display.HTML object>"
            ],
            "text/html": [
              " View run <strong style=\"color:#cdcd00\">e_5_hl_4_hs_64_lr_0.0001_opt_adam_bs_32_init_Xavier_ac_ReLU_l2_0.5</strong> at: <a href='https://wandb.ai/arunangshudutta218-iitm/dl_assgn_1_q_8/runs/bwx46kcm' target=\"_blank\">https://wandb.ai/arunangshudutta218-iitm/dl_assgn_1_q_8/runs/bwx46kcm</a><br> View project at: <a href='https://wandb.ai/arunangshudutta218-iitm/dl_assgn_1_q_8' target=\"_blank\">https://wandb.ai/arunangshudutta218-iitm/dl_assgn_1_q_8</a><br>Synced 5 W&B file(s), 0 media file(s), 0 artifact file(s) and 0 other file(s)"
            ]
          },
          "metadata": {}
        },
        {
          "output_type": "display_data",
          "data": {
            "text/plain": [
              "<IPython.core.display.HTML object>"
            ],
            "text/html": [
              "Find logs at: <code>./wandb/run-20250317_141454-bwx46kcm/logs</code>"
            ]
          },
          "metadata": {}
        },
        {
          "output_type": "stream",
          "name": "stderr",
          "text": [
            "\u001b[34m\u001b[1mwandb\u001b[0m: Agent Starting Run: ljqa8tna with config:\n",
            "\u001b[34m\u001b[1mwandb\u001b[0m: \tactivation: ReLU\n",
            "\u001b[34m\u001b[1mwandb\u001b[0m: \tbatch_size: 32\n",
            "\u001b[34m\u001b[1mwandb\u001b[0m: \tepochs: 5\n",
            "\u001b[34m\u001b[1mwandb\u001b[0m: \thidden_size: 64\n",
            "\u001b[34m\u001b[1mwandb\u001b[0m: \tlearning_rate: 0.0001\n",
            "\u001b[34m\u001b[1mwandb\u001b[0m: \tloss_function: cross_entropy\n",
            "\u001b[34m\u001b[1mwandb\u001b[0m: \tnum_layers: 4\n",
            "\u001b[34m\u001b[1mwandb\u001b[0m: \toptimizer: nadam\n",
            "\u001b[34m\u001b[1mwandb\u001b[0m: \tweight_decay: 0\n",
            "\u001b[34m\u001b[1mwandb\u001b[0m: \tweight_init: Xavier\n"
          ]
        },
        {
          "output_type": "display_data",
          "data": {
            "text/plain": [
              "<IPython.core.display.HTML object>"
            ],
            "text/html": [
              "Tracking run with wandb version 0.19.8"
            ]
          },
          "metadata": {}
        },
        {
          "output_type": "display_data",
          "data": {
            "text/plain": [
              "<IPython.core.display.HTML object>"
            ],
            "text/html": [
              "Run data is saved locally in <code>/content/wandb/run-20250317_141536-ljqa8tna</code>"
            ]
          },
          "metadata": {}
        },
        {
          "output_type": "display_data",
          "data": {
            "text/plain": [
              "<IPython.core.display.HTML object>"
            ],
            "text/html": [
              "Syncing run <strong><a href='https://wandb.ai/arunangshudutta218-iitm/dl_assgn_1_q_8/runs/ljqa8tna' target=\"_blank\">floral-sweep-61</a></strong> to <a href='https://wandb.ai/arunangshudutta218-iitm/dl_assgn_1_q_8' target=\"_blank\">Weights & Biases</a> (<a href='https://wandb.me/developer-guide' target=\"_blank\">docs</a>)<br>Sweep page: <a href='https://wandb.ai/arunangshudutta218-iitm/dl_assgn_1_q_8/sweeps/28yyx0vh' target=\"_blank\">https://wandb.ai/arunangshudutta218-iitm/dl_assgn_1_q_8/sweeps/28yyx0vh</a>"
            ]
          },
          "metadata": {}
        },
        {
          "output_type": "display_data",
          "data": {
            "text/plain": [
              "<IPython.core.display.HTML object>"
            ],
            "text/html": [
              " View project at <a href='https://wandb.ai/arunangshudutta218-iitm/dl_assgn_1_q_8' target=\"_blank\">https://wandb.ai/arunangshudutta218-iitm/dl_assgn_1_q_8</a>"
            ]
          },
          "metadata": {}
        },
        {
          "output_type": "display_data",
          "data": {
            "text/plain": [
              "<IPython.core.display.HTML object>"
            ],
            "text/html": [
              " View sweep at <a href='https://wandb.ai/arunangshudutta218-iitm/dl_assgn_1_q_8/sweeps/28yyx0vh' target=\"_blank\">https://wandb.ai/arunangshudutta218-iitm/dl_assgn_1_q_8/sweeps/28yyx0vh</a>"
            ]
          },
          "metadata": {}
        },
        {
          "output_type": "display_data",
          "data": {
            "text/plain": [
              "<IPython.core.display.HTML object>"
            ],
            "text/html": [
              " View run at <a href='https://wandb.ai/arunangshudutta218-iitm/dl_assgn_1_q_8/runs/ljqa8tna' target=\"_blank\">https://wandb.ai/arunangshudutta218-iitm/dl_assgn_1_q_8/runs/ljqa8tna</a>"
            ]
          },
          "metadata": {}
        },
        {
          "output_type": "stream",
          "name": "stdout",
          "text": [
            "Hyper parameters: \n",
            "\n",
            "Weight initialization type :  Xavier\n",
            "Optimizer :  nadam\n",
            "Learning rate (initial):  0.0001\n",
            "Batch size:  32\n",
            "-------------------\n",
            "Architecture Description:\n",
            "\n",
            "Layer:  1  ; number of neurons:  64  ; activation function:  ReLU\n",
            "Weight matrix dimention (64, 784) Bias vector dimention (64, 1)\n",
            "----------------\n",
            "Layer:  2  ; number of neurons:  64  ; activation function:  ReLU\n",
            "Weight matrix dimention (64, 64) Bias vector dimention (64, 1)\n",
            "----------------\n",
            "Layer:  3  ; number of neurons:  64  ; activation function:  ReLU\n",
            "Weight matrix dimention (64, 64) Bias vector dimention (64, 1)\n",
            "----------------\n",
            "Layer:  4  ; number of neurons:  64  ; activation function:  ReLU\n",
            "Weight matrix dimention (64, 64) Bias vector dimention (64, 1)\n",
            "----------------\n",
            "Layer:  5  ; number of neurons:  10  ; activation function:  softmax\n",
            "Weight matrix dimention (10, 64) Bias vector dimention (10, 1)\n",
            "----------------\n",
            "1312.0\n",
            "\n",
            " Start of training\n",
            "CE Training Loss:  2.306876769891243 SE Training Loss:  0.4502652233810058 Training Accuracy:  10.34047619047619 CE Test Loss:  2.3085689580649875 SE Test Loss:  0.45044282306068506 Testing Accuracy:  10.472222222222221\n",
            "Epoch:  1\n"
          ]
        },
        {
          "output_type": "stream",
          "name": "stderr",
          "text": [
            "100%|██████████| 1312/1312 [00:06<00:00, 203.05it/s]\n"
          ]
        },
        {
          "output_type": "stream",
          "name": "stdout",
          "text": [
            "CE Training Loss:  0.5802058071069252 SE Training Loss:  0.1434775611454182 Training Accuracy:  80.41904761904762 CE Test Loss:  0.5932481447255692 SE Test Loss:  0.14660171475808798 Testing Accuracy:  79.90555555555555\n",
            "Epoch:  2\n"
          ]
        },
        {
          "output_type": "stream",
          "name": "stderr",
          "text": [
            "100%|██████████| 1312/1312 [00:07<00:00, 179.13it/s]\n"
          ]
        },
        {
          "output_type": "stream",
          "name": "stdout",
          "text": [
            "CE Training Loss:  0.484637472919229 SE Training Loss:  0.12144602949628194 Training Accuracy:  83.3404761904762 CE Test Loss:  0.49687267542392977 SE Test Loss:  0.12392240932413377 Testing Accuracy:  83.05555555555556\n",
            "Epoch:  3\n"
          ]
        },
        {
          "output_type": "stream",
          "name": "stderr",
          "text": [
            "100%|██████████| 1312/1312 [00:06<00:00, 191.09it/s]\n"
          ]
        },
        {
          "output_type": "stream",
          "name": "stdout",
          "text": [
            "CE Training Loss:  0.44581277929410024 SE Training Loss:  0.11193423135426117 Training Accuracy:  84.62142857142857 CE Test Loss:  0.45855165223218913 SE Test Loss:  0.11448125432843373 Testing Accuracy:  84.36666666666666\n",
            "Epoch:  4\n"
          ]
        },
        {
          "output_type": "stream",
          "name": "stderr",
          "text": [
            "100%|██████████| 1312/1312 [00:07<00:00, 170.89it/s]\n"
          ]
        },
        {
          "output_type": "stream",
          "name": "stdout",
          "text": [
            "CE Training Loss:  0.422979887377557 SE Training Loss:  0.1061107497606501 Training Accuracy:  85.41904761904762 CE Test Loss:  0.4366106384791791 SE Test Loss:  0.10880503676061087 Testing Accuracy:  85.01666666666667\n",
            "Epoch:  5\n"
          ]
        },
        {
          "output_type": "stream",
          "name": "stderr",
          "text": [
            "100%|██████████| 1312/1312 [00:05<00:00, 223.55it/s]\n"
          ]
        },
        {
          "output_type": "stream",
          "name": "stdout",
          "text": [
            "CE Training Loss:  0.40532221097945687 SE Training Loss:  0.10176733212976426 Training Accuracy:  85.99047619047619 CE Test Loss:  0.4209409360890109 SE Test Loss:  0.10473220570686104 Testing Accuracy:  85.7\n"
          ]
        },
        {
          "output_type": "display_data",
          "data": {
            "text/plain": [
              "<IPython.core.display.HTML object>"
            ],
            "text/html": []
          },
          "metadata": {}
        },
        {
          "output_type": "display_data",
          "data": {
            "text/plain": [
              "<IPython.core.display.HTML object>"
            ],
            "text/html": [
              "<br>    <style><br>        .wandb-row {<br>            display: flex;<br>            flex-direction: row;<br>            flex-wrap: wrap;<br>            justify-content: flex-start;<br>            width: 100%;<br>        }<br>        .wandb-col {<br>            display: flex;<br>            flex-direction: column;<br>            flex-basis: 100%;<br>            flex: 1;<br>            padding: 10px;<br>        }<br>    </style><br><div class=\"wandb-row\"><div class=\"wandb-col\"><h3>Run history:</h3><br/><table class=\"wandb\"><tr><td>tr_accuracy</td><td>▁▇████</td></tr><tr><td>tr_loss_CE</td><td>█▂▁▁▁▁</td></tr><tr><td>tr_loss_SE</td><td>█▂▁▁▁▁</td></tr><tr><td>val_accuracy</td><td>▁▇████</td></tr><tr><td>val_loss_CE</td><td>█▂▁▁▁▁</td></tr><tr><td>val_loss_SE</td><td>█▂▁▁▁▁</td></tr></table><br/></div><div class=\"wandb-col\"><h3>Run summary:</h3><br/><table class=\"wandb\"><tr><td>tr_accuracy</td><td>85.99048</td></tr><tr><td>tr_loss_CE</td><td>0.40532</td></tr><tr><td>tr_loss_SE</td><td>0.10177</td></tr><tr><td>val_accuracy</td><td>85.7</td></tr><tr><td>val_loss_CE</td><td>0.42094</td></tr><tr><td>val_loss_SE</td><td>0.10473</td></tr></table><br/></div></div>"
            ]
          },
          "metadata": {}
        },
        {
          "output_type": "display_data",
          "data": {
            "text/plain": [
              "<IPython.core.display.HTML object>"
            ],
            "text/html": [
              " View run <strong style=\"color:#cdcd00\">e_5_hl_4_hs_64_lr_0.0001_opt_nadam_bs_32_init_Xavier_ac_ReLU_l2_0</strong> at: <a href='https://wandb.ai/arunangshudutta218-iitm/dl_assgn_1_q_8/runs/ljqa8tna' target=\"_blank\">https://wandb.ai/arunangshudutta218-iitm/dl_assgn_1_q_8/runs/ljqa8tna</a><br> View project at: <a href='https://wandb.ai/arunangshudutta218-iitm/dl_assgn_1_q_8' target=\"_blank\">https://wandb.ai/arunangshudutta218-iitm/dl_assgn_1_q_8</a><br>Synced 5 W&B file(s), 0 media file(s), 0 artifact file(s) and 0 other file(s)"
            ]
          },
          "metadata": {}
        },
        {
          "output_type": "display_data",
          "data": {
            "text/plain": [
              "<IPython.core.display.HTML object>"
            ],
            "text/html": [
              "Find logs at: <code>./wandb/run-20250317_141536-ljqa8tna/logs</code>"
            ]
          },
          "metadata": {}
        },
        {
          "output_type": "stream",
          "name": "stderr",
          "text": [
            "\u001b[34m\u001b[1mwandb\u001b[0m: Agent Starting Run: pu5m5v1y with config:\n",
            "\u001b[34m\u001b[1mwandb\u001b[0m: \tactivation: ReLU\n",
            "\u001b[34m\u001b[1mwandb\u001b[0m: \tbatch_size: 32\n",
            "\u001b[34m\u001b[1mwandb\u001b[0m: \tepochs: 5\n",
            "\u001b[34m\u001b[1mwandb\u001b[0m: \thidden_size: 64\n",
            "\u001b[34m\u001b[1mwandb\u001b[0m: \tlearning_rate: 0.0001\n",
            "\u001b[34m\u001b[1mwandb\u001b[0m: \tloss_function: cross_entropy\n",
            "\u001b[34m\u001b[1mwandb\u001b[0m: \tnum_layers: 4\n",
            "\u001b[34m\u001b[1mwandb\u001b[0m: \toptimizer: nadam\n",
            "\u001b[34m\u001b[1mwandb\u001b[0m: \tweight_decay: 0.0005\n",
            "\u001b[34m\u001b[1mwandb\u001b[0m: \tweight_init: Xavier\n"
          ]
        },
        {
          "output_type": "display_data",
          "data": {
            "text/plain": [
              "<IPython.core.display.HTML object>"
            ],
            "text/html": [
              "Tracking run with wandb version 0.19.8"
            ]
          },
          "metadata": {}
        },
        {
          "output_type": "display_data",
          "data": {
            "text/plain": [
              "<IPython.core.display.HTML object>"
            ],
            "text/html": [
              "Run data is saved locally in <code>/content/wandb/run-20250317_141621-pu5m5v1y</code>"
            ]
          },
          "metadata": {}
        },
        {
          "output_type": "display_data",
          "data": {
            "text/plain": [
              "<IPython.core.display.HTML object>"
            ],
            "text/html": [
              "Syncing run <strong><a href='https://wandb.ai/arunangshudutta218-iitm/dl_assgn_1_q_8/runs/pu5m5v1y' target=\"_blank\">royal-sweep-62</a></strong> to <a href='https://wandb.ai/arunangshudutta218-iitm/dl_assgn_1_q_8' target=\"_blank\">Weights & Biases</a> (<a href='https://wandb.me/developer-guide' target=\"_blank\">docs</a>)<br>Sweep page: <a href='https://wandb.ai/arunangshudutta218-iitm/dl_assgn_1_q_8/sweeps/28yyx0vh' target=\"_blank\">https://wandb.ai/arunangshudutta218-iitm/dl_assgn_1_q_8/sweeps/28yyx0vh</a>"
            ]
          },
          "metadata": {}
        },
        {
          "output_type": "display_data",
          "data": {
            "text/plain": [
              "<IPython.core.display.HTML object>"
            ],
            "text/html": [
              " View project at <a href='https://wandb.ai/arunangshudutta218-iitm/dl_assgn_1_q_8' target=\"_blank\">https://wandb.ai/arunangshudutta218-iitm/dl_assgn_1_q_8</a>"
            ]
          },
          "metadata": {}
        },
        {
          "output_type": "display_data",
          "data": {
            "text/plain": [
              "<IPython.core.display.HTML object>"
            ],
            "text/html": [
              " View sweep at <a href='https://wandb.ai/arunangshudutta218-iitm/dl_assgn_1_q_8/sweeps/28yyx0vh' target=\"_blank\">https://wandb.ai/arunangshudutta218-iitm/dl_assgn_1_q_8/sweeps/28yyx0vh</a>"
            ]
          },
          "metadata": {}
        },
        {
          "output_type": "display_data",
          "data": {
            "text/plain": [
              "<IPython.core.display.HTML object>"
            ],
            "text/html": [
              " View run at <a href='https://wandb.ai/arunangshudutta218-iitm/dl_assgn_1_q_8/runs/pu5m5v1y' target=\"_blank\">https://wandb.ai/arunangshudutta218-iitm/dl_assgn_1_q_8/runs/pu5m5v1y</a>"
            ]
          },
          "metadata": {}
        },
        {
          "output_type": "stream",
          "name": "stdout",
          "text": [
            "Hyper parameters: \n",
            "\n",
            "Weight initialization type :  Xavier\n",
            "Optimizer :  nadam\n",
            "Learning rate (initial):  0.0001\n",
            "Batch size:  32\n",
            "-------------------\n",
            "Architecture Description:\n",
            "\n",
            "Layer:  1  ; number of neurons:  64  ; activation function:  ReLU\n",
            "Weight matrix dimention (64, 784) Bias vector dimention (64, 1)\n",
            "----------------\n",
            "Layer:  2  ; number of neurons:  64  ; activation function:  ReLU\n",
            "Weight matrix dimention (64, 64) Bias vector dimention (64, 1)\n",
            "----------------\n",
            "Layer:  3  ; number of neurons:  64  ; activation function:  ReLU\n",
            "Weight matrix dimention (64, 64) Bias vector dimention (64, 1)\n",
            "----------------\n",
            "Layer:  4  ; number of neurons:  64  ; activation function:  ReLU\n",
            "Weight matrix dimention (64, 64) Bias vector dimention (64, 1)\n",
            "----------------\n",
            "Layer:  5  ; number of neurons:  10  ; activation function:  softmax\n",
            "Weight matrix dimention (10, 64) Bias vector dimention (10, 1)\n",
            "----------------\n",
            "1312.0\n",
            "\n",
            " Start of training\n",
            "CE Training Loss:  2.357043629082565 SE Training Loss:  0.45561807894966694 Training Accuracy:  11.56904761904762 CE Test Loss:  2.3548571633598243 SE Test Loss:  0.4554318597428589 Testing Accuracy:  11.666666666666666\n",
            "Epoch:  1\n"
          ]
        },
        {
          "output_type": "stream",
          "name": "stderr",
          "text": [
            "100%|██████████| 1312/1312 [00:06<00:00, 202.89it/s]\n"
          ]
        },
        {
          "output_type": "stream",
          "name": "stdout",
          "text": [
            "CE Training Loss:  0.5880457778285662 SE Training Loss:  0.1460636762506565 Training Accuracy:  79.82142857142857 CE Test Loss:  0.5929437068090124 SE Test Loss:  0.14731433274061842 Testing Accuracy:  79.83333333333333\n",
            "Epoch:  2\n"
          ]
        },
        {
          "output_type": "stream",
          "name": "stderr",
          "text": [
            "100%|██████████| 1312/1312 [00:06<00:00, 189.86it/s]\n"
          ]
        },
        {
          "output_type": "stream",
          "name": "stdout",
          "text": [
            "CE Training Loss:  0.4894691791444253 SE Training Loss:  0.1237010991262226 Training Accuracy:  82.95238095238095 CE Test Loss:  0.4971390689998785 SE Test Loss:  0.12489519378604225 Testing Accuracy:  82.78888888888889\n",
            "Epoch:  3\n"
          ]
        },
        {
          "output_type": "stream",
          "name": "stderr",
          "text": [
            "100%|██████████| 1312/1312 [00:05<00:00, 246.79it/s]\n"
          ]
        },
        {
          "output_type": "stream",
          "name": "stdout",
          "text": [
            "CE Training Loss:  0.4511237422625864 SE Training Loss:  0.11467248364808048 Training Accuracy:  84.1047619047619 CE Test Loss:  0.46116983752391005 SE Test Loss:  0.11606902998747402 Testing Accuracy:  83.9\n",
            "Epoch:  4\n"
          ]
        },
        {
          "output_type": "stream",
          "name": "stderr",
          "text": [
            "100%|██████████| 1312/1312 [00:08<00:00, 152.14it/s]\n"
          ]
        },
        {
          "output_type": "stream",
          "name": "stdout",
          "text": [
            "CE Training Loss:  0.42705003122201307 SE Training Loss:  0.10888085392786927 Training Accuracy:  84.82857142857142 CE Test Loss:  0.43931043303427963 SE Test Loss:  0.11064784917734177 Testing Accuracy:  84.71111111111111\n",
            "Epoch:  5\n"
          ]
        },
        {
          "output_type": "stream",
          "name": "stderr",
          "text": [
            "100%|██████████| 1312/1312 [00:10<00:00, 124.03it/s]\n"
          ]
        },
        {
          "output_type": "stream",
          "name": "stdout",
          "text": [
            "CE Training Loss:  0.40929039625308117 SE Training Loss:  0.1043545878859306 Training Accuracy:  85.45952380952382 CE Test Loss:  0.4246894455227188 SE Test Loss:  0.10678680620449041 Testing Accuracy:  85.28888888888889\n"
          ]
        },
        {
          "output_type": "display_data",
          "data": {
            "text/plain": [
              "<IPython.core.display.HTML object>"
            ],
            "text/html": []
          },
          "metadata": {}
        },
        {
          "output_type": "display_data",
          "data": {
            "text/plain": [
              "<IPython.core.display.HTML object>"
            ],
            "text/html": [
              "<br>    <style><br>        .wandb-row {<br>            display: flex;<br>            flex-direction: row;<br>            flex-wrap: wrap;<br>            justify-content: flex-start;<br>            width: 100%;<br>        }<br>        .wandb-col {<br>            display: flex;<br>            flex-direction: column;<br>            flex-basis: 100%;<br>            flex: 1;<br>            padding: 10px;<br>        }<br>    </style><br><div class=\"wandb-row\"><div class=\"wandb-col\"><h3>Run history:</h3><br/><table class=\"wandb\"><tr><td>tr_accuracy</td><td>▁▇████</td></tr><tr><td>tr_loss_CE</td><td>█▂▁▁▁▁</td></tr><tr><td>tr_loss_SE</td><td>█▂▁▁▁▁</td></tr><tr><td>val_accuracy</td><td>▁▇████</td></tr><tr><td>val_loss_CE</td><td>█▂▁▁▁▁</td></tr><tr><td>val_loss_SE</td><td>█▂▁▁▁▁</td></tr></table><br/></div><div class=\"wandb-col\"><h3>Run summary:</h3><br/><table class=\"wandb\"><tr><td>tr_accuracy</td><td>85.45952</td></tr><tr><td>tr_loss_CE</td><td>0.40929</td></tr><tr><td>tr_loss_SE</td><td>0.10435</td></tr><tr><td>val_accuracy</td><td>85.28889</td></tr><tr><td>val_loss_CE</td><td>0.42469</td></tr><tr><td>val_loss_SE</td><td>0.10679</td></tr></table><br/></div></div>"
            ]
          },
          "metadata": {}
        },
        {
          "output_type": "display_data",
          "data": {
            "text/plain": [
              "<IPython.core.display.HTML object>"
            ],
            "text/html": [
              " View run <strong style=\"color:#cdcd00\">e_5_hl_4_hs_64_lr_0.0001_opt_nadam_bs_32_init_Xavier_ac_ReLU_l2_0.0005</strong> at: <a href='https://wandb.ai/arunangshudutta218-iitm/dl_assgn_1_q_8/runs/pu5m5v1y' target=\"_blank\">https://wandb.ai/arunangshudutta218-iitm/dl_assgn_1_q_8/runs/pu5m5v1y</a><br> View project at: <a href='https://wandb.ai/arunangshudutta218-iitm/dl_assgn_1_q_8' target=\"_blank\">https://wandb.ai/arunangshudutta218-iitm/dl_assgn_1_q_8</a><br>Synced 5 W&B file(s), 0 media file(s), 0 artifact file(s) and 0 other file(s)"
            ]
          },
          "metadata": {}
        },
        {
          "output_type": "display_data",
          "data": {
            "text/plain": [
              "<IPython.core.display.HTML object>"
            ],
            "text/html": [
              "Find logs at: <code>./wandb/run-20250317_141621-pu5m5v1y/logs</code>"
            ]
          },
          "metadata": {}
        },
        {
          "output_type": "stream",
          "name": "stderr",
          "text": [
            "\u001b[34m\u001b[1mwandb\u001b[0m: Agent Starting Run: 78hkbteo with config:\n",
            "\u001b[34m\u001b[1mwandb\u001b[0m: \tactivation: ReLU\n",
            "\u001b[34m\u001b[1mwandb\u001b[0m: \tbatch_size: 32\n",
            "\u001b[34m\u001b[1mwandb\u001b[0m: \tepochs: 5\n",
            "\u001b[34m\u001b[1mwandb\u001b[0m: \thidden_size: 64\n",
            "\u001b[34m\u001b[1mwandb\u001b[0m: \tlearning_rate: 0.0001\n",
            "\u001b[34m\u001b[1mwandb\u001b[0m: \tloss_function: cross_entropy\n",
            "\u001b[34m\u001b[1mwandb\u001b[0m: \tnum_layers: 4\n",
            "\u001b[34m\u001b[1mwandb\u001b[0m: \toptimizer: nadam\n",
            "\u001b[34m\u001b[1mwandb\u001b[0m: \tweight_decay: 0.5\n",
            "\u001b[34m\u001b[1mwandb\u001b[0m: \tweight_init: Xavier\n"
          ]
        },
        {
          "output_type": "display_data",
          "data": {
            "text/plain": [
              "<IPython.core.display.HTML object>"
            ],
            "text/html": [
              "Tracking run with wandb version 0.19.8"
            ]
          },
          "metadata": {}
        },
        {
          "output_type": "display_data",
          "data": {
            "text/plain": [
              "<IPython.core.display.HTML object>"
            ],
            "text/html": [
              "Run data is saved locally in <code>/content/wandb/run-20250317_141712-78hkbteo</code>"
            ]
          },
          "metadata": {}
        },
        {
          "output_type": "display_data",
          "data": {
            "text/plain": [
              "<IPython.core.display.HTML object>"
            ],
            "text/html": [
              "Syncing run <strong><a href='https://wandb.ai/arunangshudutta218-iitm/dl_assgn_1_q_8/runs/78hkbteo' target=\"_blank\">likely-sweep-63</a></strong> to <a href='https://wandb.ai/arunangshudutta218-iitm/dl_assgn_1_q_8' target=\"_blank\">Weights & Biases</a> (<a href='https://wandb.me/developer-guide' target=\"_blank\">docs</a>)<br>Sweep page: <a href='https://wandb.ai/arunangshudutta218-iitm/dl_assgn_1_q_8/sweeps/28yyx0vh' target=\"_blank\">https://wandb.ai/arunangshudutta218-iitm/dl_assgn_1_q_8/sweeps/28yyx0vh</a>"
            ]
          },
          "metadata": {}
        },
        {
          "output_type": "display_data",
          "data": {
            "text/plain": [
              "<IPython.core.display.HTML object>"
            ],
            "text/html": [
              " View project at <a href='https://wandb.ai/arunangshudutta218-iitm/dl_assgn_1_q_8' target=\"_blank\">https://wandb.ai/arunangshudutta218-iitm/dl_assgn_1_q_8</a>"
            ]
          },
          "metadata": {}
        },
        {
          "output_type": "display_data",
          "data": {
            "text/plain": [
              "<IPython.core.display.HTML object>"
            ],
            "text/html": [
              " View sweep at <a href='https://wandb.ai/arunangshudutta218-iitm/dl_assgn_1_q_8/sweeps/28yyx0vh' target=\"_blank\">https://wandb.ai/arunangshudutta218-iitm/dl_assgn_1_q_8/sweeps/28yyx0vh</a>"
            ]
          },
          "metadata": {}
        },
        {
          "output_type": "display_data",
          "data": {
            "text/plain": [
              "<IPython.core.display.HTML object>"
            ],
            "text/html": [
              " View run at <a href='https://wandb.ai/arunangshudutta218-iitm/dl_assgn_1_q_8/runs/78hkbteo' target=\"_blank\">https://wandb.ai/arunangshudutta218-iitm/dl_assgn_1_q_8/runs/78hkbteo</a>"
            ]
          },
          "metadata": {}
        },
        {
          "output_type": "stream",
          "name": "stdout",
          "text": [
            "Hyper parameters: \n",
            "\n",
            "Weight initialization type :  Xavier\n",
            "Optimizer :  nadam\n",
            "Learning rate (initial):  0.0001\n",
            "Batch size:  32\n",
            "-------------------\n",
            "Architecture Description:\n",
            "\n",
            "Layer:  1  ; number of neurons:  64  ; activation function:  ReLU\n",
            "Weight matrix dimention (64, 784) Bias vector dimention (64, 1)\n",
            "----------------\n",
            "Layer:  2  ; number of neurons:  64  ; activation function:  ReLU\n",
            "Weight matrix dimention (64, 64) Bias vector dimention (64, 1)\n",
            "----------------\n",
            "Layer:  3  ; number of neurons:  64  ; activation function:  ReLU\n",
            "Weight matrix dimention (64, 64) Bias vector dimention (64, 1)\n",
            "----------------\n",
            "Layer:  4  ; number of neurons:  64  ; activation function:  ReLU\n",
            "Weight matrix dimention (64, 64) Bias vector dimention (64, 1)\n",
            "----------------\n",
            "Layer:  5  ; number of neurons:  10  ; activation function:  softmax\n",
            "Weight matrix dimention (10, 64) Bias vector dimention (10, 1)\n",
            "----------------\n",
            "1312.0\n",
            "\n",
            " Start of training\n",
            "CE Training Loss:  2.3150178616152206 SE Training Loss:  0.45102483502806656 Training Accuracy:  9.802380952380952 CE Test Loss:  2.315124869251383 SE Test Loss:  0.45103579226418594 Testing Accuracy:  9.755555555555556\n",
            "Epoch:  1\n"
          ]
        },
        {
          "output_type": "stream",
          "name": "stderr",
          "text": [
            "100%|██████████| 1312/1312 [00:08<00:00, 160.67it/s]\n"
          ]
        },
        {
          "output_type": "stream",
          "name": "stdout",
          "text": [
            "CE Training Loss:  0.6886257143505083 SE Training Loss:  0.1740549880408423 Training Accuracy:  76.30714285714286 CE Test Loss:  0.6922231027652834 SE Test Loss:  0.17519516212825617 Testing Accuracy:  75.97777777777777\n",
            "Epoch:  2\n"
          ]
        },
        {
          "output_type": "stream",
          "name": "stderr",
          "text": [
            "100%|██████████| 1312/1312 [00:05<00:00, 231.48it/s]\n"
          ]
        },
        {
          "output_type": "stream",
          "name": "stdout",
          "text": [
            "CE Training Loss:  0.5746148499526051 SE Training Loss:  0.14324701264532563 Training Accuracy:  80.95 CE Test Loss:  0.5793320534505734 SE Test Loss:  0.14436481360287398 Testing Accuracy:  81.09444444444445\n",
            "Epoch:  3\n"
          ]
        },
        {
          "output_type": "stream",
          "name": "stderr",
          "text": [
            "100%|██████████| 1312/1312 [00:08<00:00, 158.42it/s]\n"
          ]
        },
        {
          "output_type": "stream",
          "name": "stdout",
          "text": [
            "CE Training Loss:  0.5326658779103486 SE Training Loss:  0.13284828033081006 Training Accuracy:  82.14761904761905 CE Test Loss:  0.5370389751523352 SE Test Loss:  0.13364341439971822 Testing Accuracy:  82.16111111111111\n",
            "Epoch:  4\n"
          ]
        },
        {
          "output_type": "stream",
          "name": "stderr",
          "text": [
            "100%|██████████| 1312/1312 [00:05<00:00, 240.76it/s]\n"
          ]
        },
        {
          "output_type": "stream",
          "name": "stdout",
          "text": [
            "CE Training Loss:  0.515452574163739 SE Training Loss:  0.12850631449077818 Training Accuracy:  82.6952380952381 CE Test Loss:  0.5196471437010174 SE Test Loss:  0.12920689016541023 Testing Accuracy:  82.72222222222223\n",
            "Epoch:  5\n"
          ]
        },
        {
          "output_type": "stream",
          "name": "stderr",
          "text": [
            "100%|██████████| 1312/1312 [00:07<00:00, 177.32it/s]\n"
          ]
        },
        {
          "output_type": "stream",
          "name": "stdout",
          "text": [
            "CE Training Loss:  0.5062567509153664 SE Training Loss:  0.126123939449946 Training Accuracy:  82.99047619047619 CE Test Loss:  0.5105849209094429 SE Test Loss:  0.12683782669147212 Testing Accuracy:  83.10555555555555\n"
          ]
        },
        {
          "output_type": "display_data",
          "data": {
            "text/plain": [
              "<IPython.core.display.HTML object>"
            ],
            "text/html": []
          },
          "metadata": {}
        },
        {
          "output_type": "display_data",
          "data": {
            "text/plain": [
              "<IPython.core.display.HTML object>"
            ],
            "text/html": [
              "<br>    <style><br>        .wandb-row {<br>            display: flex;<br>            flex-direction: row;<br>            flex-wrap: wrap;<br>            justify-content: flex-start;<br>            width: 100%;<br>        }<br>        .wandb-col {<br>            display: flex;<br>            flex-direction: column;<br>            flex-basis: 100%;<br>            flex: 1;<br>            padding: 10px;<br>        }<br>    </style><br><div class=\"wandb-row\"><div class=\"wandb-col\"><h3>Run history:</h3><br/><table class=\"wandb\"><tr><td>tr_accuracy</td><td>▁▇████</td></tr><tr><td>tr_loss_CE</td><td>█▂▁▁▁▁</td></tr><tr><td>tr_loss_SE</td><td>█▂▁▁▁▁</td></tr><tr><td>val_accuracy</td><td>▁▇████</td></tr><tr><td>val_loss_CE</td><td>█▂▁▁▁▁</td></tr><tr><td>val_loss_SE</td><td>█▂▁▁▁▁</td></tr></table><br/></div><div class=\"wandb-col\"><h3>Run summary:</h3><br/><table class=\"wandb\"><tr><td>tr_accuracy</td><td>82.99048</td></tr><tr><td>tr_loss_CE</td><td>0.50626</td></tr><tr><td>tr_loss_SE</td><td>0.12612</td></tr><tr><td>val_accuracy</td><td>83.10556</td></tr><tr><td>val_loss_CE</td><td>0.51058</td></tr><tr><td>val_loss_SE</td><td>0.12684</td></tr></table><br/></div></div>"
            ]
          },
          "metadata": {}
        },
        {
          "output_type": "display_data",
          "data": {
            "text/plain": [
              "<IPython.core.display.HTML object>"
            ],
            "text/html": [
              " View run <strong style=\"color:#cdcd00\">e_5_hl_4_hs_64_lr_0.0001_opt_nadam_bs_32_init_Xavier_ac_ReLU_l2_0.5</strong> at: <a href='https://wandb.ai/arunangshudutta218-iitm/dl_assgn_1_q_8/runs/78hkbteo' target=\"_blank\">https://wandb.ai/arunangshudutta218-iitm/dl_assgn_1_q_8/runs/78hkbteo</a><br> View project at: <a href='https://wandb.ai/arunangshudutta218-iitm/dl_assgn_1_q_8' target=\"_blank\">https://wandb.ai/arunangshudutta218-iitm/dl_assgn_1_q_8</a><br>Synced 5 W&B file(s), 0 media file(s), 0 artifact file(s) and 0 other file(s)"
            ]
          },
          "metadata": {}
        },
        {
          "output_type": "display_data",
          "data": {
            "text/plain": [
              "<IPython.core.display.HTML object>"
            ],
            "text/html": [
              "Find logs at: <code>./wandb/run-20250317_141712-78hkbteo/logs</code>"
            ]
          },
          "metadata": {}
        },
        {
          "output_type": "stream",
          "name": "stderr",
          "text": [
            "\u001b[34m\u001b[1mwandb\u001b[0m: Agent Starting Run: nhnpu2bv with config:\n",
            "\u001b[34m\u001b[1mwandb\u001b[0m: \tactivation: ReLU\n",
            "\u001b[34m\u001b[1mwandb\u001b[0m: \tbatch_size: 32\n",
            "\u001b[34m\u001b[1mwandb\u001b[0m: \tepochs: 5\n",
            "\u001b[34m\u001b[1mwandb\u001b[0m: \thidden_size: 64\n",
            "\u001b[34m\u001b[1mwandb\u001b[0m: \tlearning_rate: 0.0001\n",
            "\u001b[34m\u001b[1mwandb\u001b[0m: \tloss_function: squared_error\n",
            "\u001b[34m\u001b[1mwandb\u001b[0m: \tnum_layers: 4\n",
            "\u001b[34m\u001b[1mwandb\u001b[0m: \toptimizer: rmsprop\n",
            "\u001b[34m\u001b[1mwandb\u001b[0m: \tweight_decay: 0\n",
            "\u001b[34m\u001b[1mwandb\u001b[0m: \tweight_init: Xavier\n"
          ]
        },
        {
          "output_type": "display_data",
          "data": {
            "text/plain": [
              "<IPython.core.display.HTML object>"
            ],
            "text/html": [
              "Tracking run with wandb version 0.19.8"
            ]
          },
          "metadata": {}
        },
        {
          "output_type": "display_data",
          "data": {
            "text/plain": [
              "<IPython.core.display.HTML object>"
            ],
            "text/html": [
              "Run data is saved locally in <code>/content/wandb/run-20250317_141757-nhnpu2bv</code>"
            ]
          },
          "metadata": {}
        },
        {
          "output_type": "display_data",
          "data": {
            "text/plain": [
              "<IPython.core.display.HTML object>"
            ],
            "text/html": [
              "Syncing run <strong><a href='https://wandb.ai/arunangshudutta218-iitm/dl_assgn_1_q_8/runs/nhnpu2bv' target=\"_blank\">sweepy-sweep-64</a></strong> to <a href='https://wandb.ai/arunangshudutta218-iitm/dl_assgn_1_q_8' target=\"_blank\">Weights & Biases</a> (<a href='https://wandb.me/developer-guide' target=\"_blank\">docs</a>)<br>Sweep page: <a href='https://wandb.ai/arunangshudutta218-iitm/dl_assgn_1_q_8/sweeps/28yyx0vh' target=\"_blank\">https://wandb.ai/arunangshudutta218-iitm/dl_assgn_1_q_8/sweeps/28yyx0vh</a>"
            ]
          },
          "metadata": {}
        },
        {
          "output_type": "display_data",
          "data": {
            "text/plain": [
              "<IPython.core.display.HTML object>"
            ],
            "text/html": [
              " View project at <a href='https://wandb.ai/arunangshudutta218-iitm/dl_assgn_1_q_8' target=\"_blank\">https://wandb.ai/arunangshudutta218-iitm/dl_assgn_1_q_8</a>"
            ]
          },
          "metadata": {}
        },
        {
          "output_type": "display_data",
          "data": {
            "text/plain": [
              "<IPython.core.display.HTML object>"
            ],
            "text/html": [
              " View sweep at <a href='https://wandb.ai/arunangshudutta218-iitm/dl_assgn_1_q_8/sweeps/28yyx0vh' target=\"_blank\">https://wandb.ai/arunangshudutta218-iitm/dl_assgn_1_q_8/sweeps/28yyx0vh</a>"
            ]
          },
          "metadata": {}
        },
        {
          "output_type": "display_data",
          "data": {
            "text/plain": [
              "<IPython.core.display.HTML object>"
            ],
            "text/html": [
              " View run at <a href='https://wandb.ai/arunangshudutta218-iitm/dl_assgn_1_q_8/runs/nhnpu2bv' target=\"_blank\">https://wandb.ai/arunangshudutta218-iitm/dl_assgn_1_q_8/runs/nhnpu2bv</a>"
            ]
          },
          "metadata": {}
        },
        {
          "output_type": "stream",
          "name": "stdout",
          "text": [
            "Hyper parameters: \n",
            "\n",
            "Weight initialization type :  Xavier\n",
            "Optimizer :  rmsprop\n",
            "Learning rate (initial):  0.0001\n",
            "Batch size:  32\n",
            "-------------------\n",
            "Architecture Description:\n",
            "\n",
            "Layer:  1  ; number of neurons:  64  ; activation function:  ReLU\n",
            "Weight matrix dimention (64, 784) Bias vector dimention (64, 1)\n",
            "----------------\n",
            "Layer:  2  ; number of neurons:  64  ; activation function:  ReLU\n",
            "Weight matrix dimention (64, 64) Bias vector dimention (64, 1)\n",
            "----------------\n",
            "Layer:  3  ; number of neurons:  64  ; activation function:  ReLU\n",
            "Weight matrix dimention (64, 64) Bias vector dimention (64, 1)\n",
            "----------------\n",
            "Layer:  4  ; number of neurons:  64  ; activation function:  ReLU\n",
            "Weight matrix dimention (64, 64) Bias vector dimention (64, 1)\n",
            "----------------\n",
            "Layer:  5  ; number of neurons:  10  ; activation function:  softmax\n",
            "Weight matrix dimention (10, 64) Bias vector dimention (10, 1)\n",
            "----------------\n",
            "1312.0\n",
            "\n",
            " Start of training\n",
            "CE Training Loss:  2.3076635981603166 SE Training Loss:  0.4503028403583518 Training Accuracy:  12.378571428571428 CE Test Loss:  2.3058258525246464 SE Test Loss:  0.4501160951544567 Testing Accuracy:  12.794444444444444\n",
            "Epoch:  1\n"
          ]
        },
        {
          "output_type": "stream",
          "name": "stderr",
          "text": [
            "100%|██████████| 1312/1312 [00:04<00:00, 268.70it/s]\n"
          ]
        },
        {
          "output_type": "stream",
          "name": "stdout",
          "text": [
            "CE Training Loss:  0.6801980260063525 SE Training Loss:  0.15970103775325922 Training Accuracy:  79.10714285714286 CE Test Loss:  0.6817786316912385 SE Test Loss:  0.1616021344822566 Testing Accuracy:  78.71666666666667\n",
            "Epoch:  2\n"
          ]
        },
        {
          "output_type": "stream",
          "name": "stderr",
          "text": [
            "100%|██████████| 1312/1312 [00:05<00:00, 230.69it/s]\n"
          ]
        },
        {
          "output_type": "stream",
          "name": "stdout",
          "text": [
            "CE Training Loss:  0.5801217733566162 SE Training Loss:  0.13529806939149727 Training Accuracy:  81.83809523809524 CE Test Loss:  0.5814252788420645 SE Test Loss:  0.13605235310568686 Testing Accuracy:  81.95\n",
            "Epoch:  3\n"
          ]
        },
        {
          "output_type": "stream",
          "name": "stderr",
          "text": [
            "100%|██████████| 1312/1312 [00:03<00:00, 328.91it/s]\n"
          ]
        },
        {
          "output_type": "stream",
          "name": "stdout",
          "text": [
            "CE Training Loss:  0.528245457914436 SE Training Loss:  0.12312717403256798 Training Accuracy:  83.3404761904762 CE Test Loss:  0.532564437983719 SE Test Loss:  0.12425078436814156 Testing Accuracy:  83.31111111111112\n",
            "Epoch:  4\n"
          ]
        },
        {
          "output_type": "stream",
          "name": "stderr",
          "text": [
            "100%|██████████| 1312/1312 [00:05<00:00, 229.62it/s]\n"
          ]
        },
        {
          "output_type": "stream",
          "name": "stdout",
          "text": [
            "CE Training Loss:  0.4962752834302408 SE Training Loss:  0.11586747790940258 Training Accuracy:  84.15 CE Test Loss:  0.5026739755787927 SE Test Loss:  0.11757507143931788 Testing Accuracy:  84.09444444444445\n",
            "Epoch:  5\n"
          ]
        },
        {
          "output_type": "stream",
          "name": "stderr",
          "text": [
            "100%|██████████| 1312/1312 [00:04<00:00, 269.43it/s]\n"
          ]
        },
        {
          "output_type": "stream",
          "name": "stdout",
          "text": [
            "CE Training Loss:  0.47724779662103495 SE Training Loss:  0.11091075564330097 Training Accuracy:  84.89047619047619 CE Test Loss:  0.4860540903882024 SE Test Loss:  0.11327013820613825 Testing Accuracy:  84.57777777777778\n"
          ]
        },
        {
          "output_type": "display_data",
          "data": {
            "text/plain": [
              "<IPython.core.display.HTML object>"
            ],
            "text/html": []
          },
          "metadata": {}
        },
        {
          "output_type": "display_data",
          "data": {
            "text/plain": [
              "<IPython.core.display.HTML object>"
            ],
            "text/html": [
              "<br>    <style><br>        .wandb-row {<br>            display: flex;<br>            flex-direction: row;<br>            flex-wrap: wrap;<br>            justify-content: flex-start;<br>            width: 100%;<br>        }<br>        .wandb-col {<br>            display: flex;<br>            flex-direction: column;<br>            flex-basis: 100%;<br>            flex: 1;<br>            padding: 10px;<br>        }<br>    </style><br><div class=\"wandb-row\"><div class=\"wandb-col\"><h3>Run history:</h3><br/><table class=\"wandb\"><tr><td>tr_accuracy</td><td>▁▇████</td></tr><tr><td>tr_loss_CE</td><td>█▂▁▁▁▁</td></tr><tr><td>tr_loss_SE</td><td>█▂▂▁▁▁</td></tr><tr><td>val_accuracy</td><td>▁▇████</td></tr><tr><td>val_loss_CE</td><td>█▂▁▁▁▁</td></tr><tr><td>val_loss_SE</td><td>█▂▁▁▁▁</td></tr></table><br/></div><div class=\"wandb-col\"><h3>Run summary:</h3><br/><table class=\"wandb\"><tr><td>tr_accuracy</td><td>84.89048</td></tr><tr><td>tr_loss_CE</td><td>0.47725</td></tr><tr><td>tr_loss_SE</td><td>0.11091</td></tr><tr><td>val_accuracy</td><td>84.57778</td></tr><tr><td>val_loss_CE</td><td>0.48605</td></tr><tr><td>val_loss_SE</td><td>0.11327</td></tr></table><br/></div></div>"
            ]
          },
          "metadata": {}
        },
        {
          "output_type": "display_data",
          "data": {
            "text/plain": [
              "<IPython.core.display.HTML object>"
            ],
            "text/html": [
              " View run <strong style=\"color:#cdcd00\">e_5_hl_4_hs_64_lr_0.0001_opt_rmsprop_bs_32_init_Xavier_ac_ReLU_l2_0</strong> at: <a href='https://wandb.ai/arunangshudutta218-iitm/dl_assgn_1_q_8/runs/nhnpu2bv' target=\"_blank\">https://wandb.ai/arunangshudutta218-iitm/dl_assgn_1_q_8/runs/nhnpu2bv</a><br> View project at: <a href='https://wandb.ai/arunangshudutta218-iitm/dl_assgn_1_q_8' target=\"_blank\">https://wandb.ai/arunangshudutta218-iitm/dl_assgn_1_q_8</a><br>Synced 5 W&B file(s), 0 media file(s), 0 artifact file(s) and 0 other file(s)"
            ]
          },
          "metadata": {}
        },
        {
          "output_type": "display_data",
          "data": {
            "text/plain": [
              "<IPython.core.display.HTML object>"
            ],
            "text/html": [
              "Find logs at: <code>./wandb/run-20250317_141757-nhnpu2bv/logs</code>"
            ]
          },
          "metadata": {}
        },
        {
          "output_type": "stream",
          "name": "stderr",
          "text": [
            "\u001b[34m\u001b[1mwandb\u001b[0m: Agent Starting Run: s0811kmd with config:\n",
            "\u001b[34m\u001b[1mwandb\u001b[0m: \tactivation: ReLU\n",
            "\u001b[34m\u001b[1mwandb\u001b[0m: \tbatch_size: 32\n",
            "\u001b[34m\u001b[1mwandb\u001b[0m: \tepochs: 5\n",
            "\u001b[34m\u001b[1mwandb\u001b[0m: \thidden_size: 64\n",
            "\u001b[34m\u001b[1mwandb\u001b[0m: \tlearning_rate: 0.0001\n",
            "\u001b[34m\u001b[1mwandb\u001b[0m: \tloss_function: squared_error\n",
            "\u001b[34m\u001b[1mwandb\u001b[0m: \tnum_layers: 4\n",
            "\u001b[34m\u001b[1mwandb\u001b[0m: \toptimizer: rmsprop\n",
            "\u001b[34m\u001b[1mwandb\u001b[0m: \tweight_decay: 0.0005\n",
            "\u001b[34m\u001b[1mwandb\u001b[0m: \tweight_init: Xavier\n"
          ]
        },
        {
          "output_type": "display_data",
          "data": {
            "text/plain": [
              "<IPython.core.display.HTML object>"
            ],
            "text/html": [
              "Tracking run with wandb version 0.19.8"
            ]
          },
          "metadata": {}
        },
        {
          "output_type": "display_data",
          "data": {
            "text/plain": [
              "<IPython.core.display.HTML object>"
            ],
            "text/html": [
              "Run data is saved locally in <code>/content/wandb/run-20250317_141833-s0811kmd</code>"
            ]
          },
          "metadata": {}
        },
        {
          "output_type": "display_data",
          "data": {
            "text/plain": [
              "<IPython.core.display.HTML object>"
            ],
            "text/html": [
              "Syncing run <strong><a href='https://wandb.ai/arunangshudutta218-iitm/dl_assgn_1_q_8/runs/s0811kmd' target=\"_blank\">sweepy-sweep-65</a></strong> to <a href='https://wandb.ai/arunangshudutta218-iitm/dl_assgn_1_q_8' target=\"_blank\">Weights & Biases</a> (<a href='https://wandb.me/developer-guide' target=\"_blank\">docs</a>)<br>Sweep page: <a href='https://wandb.ai/arunangshudutta218-iitm/dl_assgn_1_q_8/sweeps/28yyx0vh' target=\"_blank\">https://wandb.ai/arunangshudutta218-iitm/dl_assgn_1_q_8/sweeps/28yyx0vh</a>"
            ]
          },
          "metadata": {}
        },
        {
          "output_type": "display_data",
          "data": {
            "text/plain": [
              "<IPython.core.display.HTML object>"
            ],
            "text/html": [
              " View project at <a href='https://wandb.ai/arunangshudutta218-iitm/dl_assgn_1_q_8' target=\"_blank\">https://wandb.ai/arunangshudutta218-iitm/dl_assgn_1_q_8</a>"
            ]
          },
          "metadata": {}
        },
        {
          "output_type": "display_data",
          "data": {
            "text/plain": [
              "<IPython.core.display.HTML object>"
            ],
            "text/html": [
              " View sweep at <a href='https://wandb.ai/arunangshudutta218-iitm/dl_assgn_1_q_8/sweeps/28yyx0vh' target=\"_blank\">https://wandb.ai/arunangshudutta218-iitm/dl_assgn_1_q_8/sweeps/28yyx0vh</a>"
            ]
          },
          "metadata": {}
        },
        {
          "output_type": "display_data",
          "data": {
            "text/plain": [
              "<IPython.core.display.HTML object>"
            ],
            "text/html": [
              " View run at <a href='https://wandb.ai/arunangshudutta218-iitm/dl_assgn_1_q_8/runs/s0811kmd' target=\"_blank\">https://wandb.ai/arunangshudutta218-iitm/dl_assgn_1_q_8/runs/s0811kmd</a>"
            ]
          },
          "metadata": {}
        },
        {
          "output_type": "stream",
          "name": "stdout",
          "text": [
            "Hyper parameters: \n",
            "\n",
            "Weight initialization type :  Xavier\n",
            "Optimizer :  rmsprop\n",
            "Learning rate (initial):  0.0001\n",
            "Batch size:  32\n",
            "-------------------\n",
            "Architecture Description:\n",
            "\n",
            "Layer:  1  ; number of neurons:  64  ; activation function:  ReLU\n",
            "Weight matrix dimention (64, 784) Bias vector dimention (64, 1)\n",
            "----------------\n",
            "Layer:  2  ; number of neurons:  64  ; activation function:  ReLU\n",
            "Weight matrix dimention (64, 64) Bias vector dimention (64, 1)\n",
            "----------------\n",
            "Layer:  3  ; number of neurons:  64  ; activation function:  ReLU\n",
            "Weight matrix dimention (64, 64) Bias vector dimention (64, 1)\n",
            "----------------\n",
            "Layer:  4  ; number of neurons:  64  ; activation function:  ReLU\n",
            "Weight matrix dimention (64, 64) Bias vector dimention (64, 1)\n",
            "----------------\n",
            "Layer:  5  ; number of neurons:  10  ; activation function:  softmax\n",
            "Weight matrix dimention (10, 64) Bias vector dimention (10, 1)\n",
            "----------------\n",
            "1312.0\n",
            "\n",
            " Start of training\n",
            "CE Training Loss:  2.3382020625191964 SE Training Loss:  0.4540074954113243 Training Accuracy:  8.780952380952382 CE Test Loss:  2.340343509951233 SE Test Loss:  0.4542264506600231 Testing Accuracy:  8.677777777777777\n",
            "Epoch:  1\n"
          ]
        },
        {
          "output_type": "stream",
          "name": "stderr",
          "text": [
            "100%|██████████| 1312/1312 [00:06<00:00, 200.85it/s]\n"
          ]
        },
        {
          "output_type": "stream",
          "name": "stdout",
          "text": [
            "CE Training Loss:  0.6262438902653682 SE Training Loss:  0.14936736005271942 Training Accuracy:  80.04523809523809 CE Test Loss:  0.62811552784769 SE Test Loss:  0.15030548297380353 Testing Accuracy:  80.14444444444445\n",
            "Epoch:  2\n"
          ]
        },
        {
          "output_type": "stream",
          "name": "stderr",
          "text": [
            "100%|██████████| 1312/1312 [00:04<00:00, 320.93it/s]\n"
          ]
        },
        {
          "output_type": "stream",
          "name": "stdout",
          "text": [
            "CE Training Loss:  0.5367420305926529 SE Training Loss:  0.12841905593667463 Training Accuracy:  82.58095238095238 CE Test Loss:  0.5395556518848832 SE Test Loss:  0.12927672919632238 Testing Accuracy:  82.5\n",
            "Epoch:  3\n"
          ]
        },
        {
          "output_type": "stream",
          "name": "stderr",
          "text": [
            "100%|██████████| 1312/1312 [00:05<00:00, 245.70it/s]\n"
          ]
        },
        {
          "output_type": "stream",
          "name": "stdout",
          "text": [
            "CE Training Loss:  0.4999450117438569 SE Training Loss:  0.119986267720283 Training Accuracy:  83.57619047619048 CE Test Loss:  0.505552029783532 SE Test Loss:  0.12142368395990072 Testing Accuracy:  83.41111111111111\n",
            "Epoch:  4\n"
          ]
        },
        {
          "output_type": "stream",
          "name": "stderr",
          "text": [
            "100%|██████████| 1312/1312 [00:05<00:00, 229.53it/s]\n"
          ]
        },
        {
          "output_type": "stream",
          "name": "stdout",
          "text": [
            "CE Training Loss:  0.47790294803303357 SE Training Loss:  0.11520040612628145 Training Accuracy:  84.21428571428571 CE Test Loss:  0.48595546914380083 SE Test Loss:  0.11712194114359967 Testing Accuracy:  83.81111111111112\n",
            "Epoch:  5\n"
          ]
        },
        {
          "output_type": "stream",
          "name": "stderr",
          "text": [
            "100%|██████████| 1312/1312 [00:07<00:00, 169.01it/s]\n"
          ]
        },
        {
          "output_type": "stream",
          "name": "stdout",
          "text": [
            "CE Training Loss:  0.46084415183066074 SE Training Loss:  0.11124725761507194 Training Accuracy:  84.69761904761904 CE Test Loss:  0.4701067910105353 SE Test Loss:  0.11342536536445426 Testing Accuracy:  84.27777777777777\n"
          ]
        },
        {
          "output_type": "display_data",
          "data": {
            "text/plain": [
              "<IPython.core.display.HTML object>"
            ],
            "text/html": []
          },
          "metadata": {}
        },
        {
          "output_type": "display_data",
          "data": {
            "text/plain": [
              "<IPython.core.display.HTML object>"
            ],
            "text/html": [
              "<br>    <style><br>        .wandb-row {<br>            display: flex;<br>            flex-direction: row;<br>            flex-wrap: wrap;<br>            justify-content: flex-start;<br>            width: 100%;<br>        }<br>        .wandb-col {<br>            display: flex;<br>            flex-direction: column;<br>            flex-basis: 100%;<br>            flex: 1;<br>            padding: 10px;<br>        }<br>    </style><br><div class=\"wandb-row\"><div class=\"wandb-col\"><h3>Run history:</h3><br/><table class=\"wandb\"><tr><td>tr_accuracy</td><td>▁█████</td></tr><tr><td>tr_loss_CE</td><td>█▂▁▁▁▁</td></tr><tr><td>tr_loss_SE</td><td>█▂▁▁▁▁</td></tr><tr><td>val_accuracy</td><td>▁█████</td></tr><tr><td>val_loss_CE</td><td>█▂▁▁▁▁</td></tr><tr><td>val_loss_SE</td><td>█▂▁▁▁▁</td></tr></table><br/></div><div class=\"wandb-col\"><h3>Run summary:</h3><br/><table class=\"wandb\"><tr><td>tr_accuracy</td><td>84.69762</td></tr><tr><td>tr_loss_CE</td><td>0.46084</td></tr><tr><td>tr_loss_SE</td><td>0.11125</td></tr><tr><td>val_accuracy</td><td>84.27778</td></tr><tr><td>val_loss_CE</td><td>0.47011</td></tr><tr><td>val_loss_SE</td><td>0.11343</td></tr></table><br/></div></div>"
            ]
          },
          "metadata": {}
        },
        {
          "output_type": "display_data",
          "data": {
            "text/plain": [
              "<IPython.core.display.HTML object>"
            ],
            "text/html": [
              " View run <strong style=\"color:#cdcd00\">e_5_hl_4_hs_64_lr_0.0001_opt_rmsprop_bs_32_init_Xavier_ac_ReLU_l2_0.0005</strong> at: <a href='https://wandb.ai/arunangshudutta218-iitm/dl_assgn_1_q_8/runs/s0811kmd' target=\"_blank\">https://wandb.ai/arunangshudutta218-iitm/dl_assgn_1_q_8/runs/s0811kmd</a><br> View project at: <a href='https://wandb.ai/arunangshudutta218-iitm/dl_assgn_1_q_8' target=\"_blank\">https://wandb.ai/arunangshudutta218-iitm/dl_assgn_1_q_8</a><br>Synced 5 W&B file(s), 0 media file(s), 0 artifact file(s) and 0 other file(s)"
            ]
          },
          "metadata": {}
        },
        {
          "output_type": "display_data",
          "data": {
            "text/plain": [
              "<IPython.core.display.HTML object>"
            ],
            "text/html": [
              "Find logs at: <code>./wandb/run-20250317_141833-s0811kmd/logs</code>"
            ]
          },
          "metadata": {}
        },
        {
          "output_type": "stream",
          "name": "stderr",
          "text": [
            "\u001b[34m\u001b[1mwandb\u001b[0m: Agent Starting Run: h7rugowh with config:\n",
            "\u001b[34m\u001b[1mwandb\u001b[0m: \tactivation: ReLU\n",
            "\u001b[34m\u001b[1mwandb\u001b[0m: \tbatch_size: 32\n",
            "\u001b[34m\u001b[1mwandb\u001b[0m: \tepochs: 5\n",
            "\u001b[34m\u001b[1mwandb\u001b[0m: \thidden_size: 64\n",
            "\u001b[34m\u001b[1mwandb\u001b[0m: \tlearning_rate: 0.0001\n",
            "\u001b[34m\u001b[1mwandb\u001b[0m: \tloss_function: squared_error\n",
            "\u001b[34m\u001b[1mwandb\u001b[0m: \tnum_layers: 4\n",
            "\u001b[34m\u001b[1mwandb\u001b[0m: \toptimizer: rmsprop\n",
            "\u001b[34m\u001b[1mwandb\u001b[0m: \tweight_decay: 0.5\n",
            "\u001b[34m\u001b[1mwandb\u001b[0m: \tweight_init: Xavier\n"
          ]
        },
        {
          "output_type": "display_data",
          "data": {
            "text/plain": [
              "<IPython.core.display.HTML object>"
            ],
            "text/html": [
              "Tracking run with wandb version 0.19.8"
            ]
          },
          "metadata": {}
        },
        {
          "output_type": "display_data",
          "data": {
            "text/plain": [
              "<IPython.core.display.HTML object>"
            ],
            "text/html": [
              "Run data is saved locally in <code>/content/wandb/run-20250317_141913-h7rugowh</code>"
            ]
          },
          "metadata": {}
        },
        {
          "output_type": "display_data",
          "data": {
            "text/plain": [
              "<IPython.core.display.HTML object>"
            ],
            "text/html": [
              "Syncing run <strong><a href='https://wandb.ai/arunangshudutta218-iitm/dl_assgn_1_q_8/runs/h7rugowh' target=\"_blank\">astral-sweep-66</a></strong> to <a href='https://wandb.ai/arunangshudutta218-iitm/dl_assgn_1_q_8' target=\"_blank\">Weights & Biases</a> (<a href='https://wandb.me/developer-guide' target=\"_blank\">docs</a>)<br>Sweep page: <a href='https://wandb.ai/arunangshudutta218-iitm/dl_assgn_1_q_8/sweeps/28yyx0vh' target=\"_blank\">https://wandb.ai/arunangshudutta218-iitm/dl_assgn_1_q_8/sweeps/28yyx0vh</a>"
            ]
          },
          "metadata": {}
        },
        {
          "output_type": "display_data",
          "data": {
            "text/plain": [
              "<IPython.core.display.HTML object>"
            ],
            "text/html": [
              " View project at <a href='https://wandb.ai/arunangshudutta218-iitm/dl_assgn_1_q_8' target=\"_blank\">https://wandb.ai/arunangshudutta218-iitm/dl_assgn_1_q_8</a>"
            ]
          },
          "metadata": {}
        },
        {
          "output_type": "display_data",
          "data": {
            "text/plain": [
              "<IPython.core.display.HTML object>"
            ],
            "text/html": [
              " View sweep at <a href='https://wandb.ai/arunangshudutta218-iitm/dl_assgn_1_q_8/sweeps/28yyx0vh' target=\"_blank\">https://wandb.ai/arunangshudutta218-iitm/dl_assgn_1_q_8/sweeps/28yyx0vh</a>"
            ]
          },
          "metadata": {}
        },
        {
          "output_type": "display_data",
          "data": {
            "text/plain": [
              "<IPython.core.display.HTML object>"
            ],
            "text/html": [
              " View run at <a href='https://wandb.ai/arunangshudutta218-iitm/dl_assgn_1_q_8/runs/h7rugowh' target=\"_blank\">https://wandb.ai/arunangshudutta218-iitm/dl_assgn_1_q_8/runs/h7rugowh</a>"
            ]
          },
          "metadata": {}
        },
        {
          "output_type": "stream",
          "name": "stdout",
          "text": [
            "Hyper parameters: \n",
            "\n",
            "Weight initialization type :  Xavier\n",
            "Optimizer :  rmsprop\n",
            "Learning rate (initial):  0.0001\n",
            "Batch size:  32\n",
            "-------------------\n",
            "Architecture Description:\n",
            "\n",
            "Layer:  1  ; number of neurons:  64  ; activation function:  ReLU\n",
            "Weight matrix dimention (64, 784) Bias vector dimention (64, 1)\n",
            "----------------\n",
            "Layer:  2  ; number of neurons:  64  ; activation function:  ReLU\n",
            "Weight matrix dimention (64, 64) Bias vector dimention (64, 1)\n",
            "----------------\n",
            "Layer:  3  ; number of neurons:  64  ; activation function:  ReLU\n",
            "Weight matrix dimention (64, 64) Bias vector dimention (64, 1)\n",
            "----------------\n",
            "Layer:  4  ; number of neurons:  64  ; activation function:  ReLU\n",
            "Weight matrix dimention (64, 64) Bias vector dimention (64, 1)\n",
            "----------------\n",
            "Layer:  5  ; number of neurons:  10  ; activation function:  softmax\n",
            "Weight matrix dimention (10, 64) Bias vector dimention (10, 1)\n",
            "----------------\n",
            "1312.0\n",
            "\n",
            " Start of training\n",
            "CE Training Loss:  2.343015587221127 SE Training Loss:  0.45411128336952306 Training Accuracy:  7.628571428571429 CE Test Loss:  2.342816311098742 SE Test Loss:  0.4540961904762198 Testing Accuracy:  7.611111111111111\n",
            "Epoch:  1\n"
          ]
        },
        {
          "output_type": "stream",
          "name": "stderr",
          "text": [
            "100%|██████████| 1312/1312 [00:03<00:00, 335.57it/s]\n"
          ]
        },
        {
          "output_type": "stream",
          "name": "stdout",
          "text": [
            "CE Training Loss:  1.543137690296258 SE Training Loss:  0.34880204542031246 Training Accuracy:  38.21666666666667 CE Test Loss:  1.5440583703842552 SE Test Loss:  0.3487010887032845 Testing Accuracy:  38.522222222222226\n",
            "Epoch:  2\n"
          ]
        },
        {
          "output_type": "stream",
          "name": "stderr",
          "text": [
            "100%|██████████| 1312/1312 [00:06<00:00, 195.29it/s]\n"
          ]
        },
        {
          "output_type": "stream",
          "name": "stdout",
          "text": [
            "CE Training Loss:  1.2203902684813115 SE Training Loss:  0.28820185818330124 Training Accuracy:  54.98571428571429 CE Test Loss:  1.2190932669495738 SE Test Loss:  0.28799473227171213 Testing Accuracy:  54.82222222222222\n",
            "Epoch:  3\n"
          ]
        },
        {
          "output_type": "stream",
          "name": "stderr",
          "text": [
            "100%|██████████| 1312/1312 [00:04<00:00, 299.30it/s]\n"
          ]
        },
        {
          "output_type": "stream",
          "name": "stdout",
          "text": [
            "CE Training Loss:  1.79676304799623 SE Training Loss:  0.306292763809768 Training Accuracy:  52.93333333333333 CE Test Loss:  1.793444353056985 SE Test Loss:  0.304169146836703 Testing Accuracy:  53.59444444444444\n",
            "Epoch:  4\n"
          ]
        },
        {
          "output_type": "stream",
          "name": "stderr",
          "text": [
            "100%|██████████| 1312/1312 [00:04<00:00, 311.29it/s]\n"
          ]
        },
        {
          "output_type": "stream",
          "name": "stdout",
          "text": [
            "CE Training Loss:  nan SE Training Loss:  nan Training Accuracy:  10.073809523809524 CE Test Loss:  nan SE Test Loss:  nan Testing Accuracy:  9.827777777777778\n",
            "Epoch:  5\n"
          ]
        },
        {
          "output_type": "stream",
          "name": "stderr",
          "text": [
            "100%|██████████| 1312/1312 [00:06<00:00, 216.00it/s]\n"
          ]
        },
        {
          "output_type": "stream",
          "name": "stdout",
          "text": [
            "CE Training Loss:  nan SE Training Loss:  nan Training Accuracy:  10.073809523809524 CE Test Loss:  nan SE Test Loss:  nan Testing Accuracy:  9.827777777777778\n"
          ]
        },
        {
          "output_type": "display_data",
          "data": {
            "text/plain": [
              "<IPython.core.display.HTML object>"
            ],
            "text/html": []
          },
          "metadata": {}
        },
        {
          "output_type": "display_data",
          "data": {
            "text/plain": [
              "<IPython.core.display.HTML object>"
            ],
            "text/html": [
              "<br>    <style><br>        .wandb-row {<br>            display: flex;<br>            flex-direction: row;<br>            flex-wrap: wrap;<br>            justify-content: flex-start;<br>            width: 100%;<br>        }<br>        .wandb-col {<br>            display: flex;<br>            flex-direction: column;<br>            flex-basis: 100%;<br>            flex: 1;<br>            padding: 10px;<br>        }<br>    </style><br><div class=\"wandb-row\"><div class=\"wandb-col\"><h3>Run history:</h3><br/><table class=\"wandb\"><tr><td>tr_accuracy</td><td>▁▆██▁▁</td></tr><tr><td>tr_loss_CE</td><td>█▃▁▅  </td></tr><tr><td>tr_loss_SE</td><td>█▄▁▂  </td></tr><tr><td>val_accuracy</td><td>▁▆██▁▁</td></tr><tr><td>val_loss_CE</td><td>█▃▁▅  </td></tr><tr><td>val_loss_SE</td><td>█▄▁▂  </td></tr></table><br/></div><div class=\"wandb-col\"><h3>Run summary:</h3><br/><table class=\"wandb\"><tr><td>tr_accuracy</td><td>10.07381</td></tr><tr><td>tr_loss_CE</td><td>nan</td></tr><tr><td>tr_loss_SE</td><td>nan</td></tr><tr><td>val_accuracy</td><td>9.82778</td></tr><tr><td>val_loss_CE</td><td>nan</td></tr><tr><td>val_loss_SE</td><td>nan</td></tr></table><br/></div></div>"
            ]
          },
          "metadata": {}
        },
        {
          "output_type": "display_data",
          "data": {
            "text/plain": [
              "<IPython.core.display.HTML object>"
            ],
            "text/html": [
              " View run <strong style=\"color:#cdcd00\">e_5_hl_4_hs_64_lr_0.0001_opt_rmsprop_bs_32_init_Xavier_ac_ReLU_l2_0.5</strong> at: <a href='https://wandb.ai/arunangshudutta218-iitm/dl_assgn_1_q_8/runs/h7rugowh' target=\"_blank\">https://wandb.ai/arunangshudutta218-iitm/dl_assgn_1_q_8/runs/h7rugowh</a><br> View project at: <a href='https://wandb.ai/arunangshudutta218-iitm/dl_assgn_1_q_8' target=\"_blank\">https://wandb.ai/arunangshudutta218-iitm/dl_assgn_1_q_8</a><br>Synced 5 W&B file(s), 0 media file(s), 0 artifact file(s) and 0 other file(s)"
            ]
          },
          "metadata": {}
        },
        {
          "output_type": "display_data",
          "data": {
            "text/plain": [
              "<IPython.core.display.HTML object>"
            ],
            "text/html": [
              "Find logs at: <code>./wandb/run-20250317_141913-h7rugowh/logs</code>"
            ]
          },
          "metadata": {}
        },
        {
          "output_type": "stream",
          "name": "stderr",
          "text": [
            "\u001b[34m\u001b[1mwandb\u001b[0m: Agent Starting Run: fm6adyi8 with config:\n",
            "\u001b[34m\u001b[1mwandb\u001b[0m: \tactivation: ReLU\n",
            "\u001b[34m\u001b[1mwandb\u001b[0m: \tbatch_size: 32\n",
            "\u001b[34m\u001b[1mwandb\u001b[0m: \tepochs: 5\n",
            "\u001b[34m\u001b[1mwandb\u001b[0m: \thidden_size: 64\n",
            "\u001b[34m\u001b[1mwandb\u001b[0m: \tlearning_rate: 0.0001\n",
            "\u001b[34m\u001b[1mwandb\u001b[0m: \tloss_function: squared_error\n",
            "\u001b[34m\u001b[1mwandb\u001b[0m: \tnum_layers: 4\n",
            "\u001b[34m\u001b[1mwandb\u001b[0m: \toptimizer: adam\n",
            "\u001b[34m\u001b[1mwandb\u001b[0m: \tweight_decay: 0\n",
            "\u001b[34m\u001b[1mwandb\u001b[0m: \tweight_init: Xavier\n"
          ]
        },
        {
          "output_type": "display_data",
          "data": {
            "text/plain": [
              "<IPython.core.display.HTML object>"
            ],
            "text/html": [
              "Tracking run with wandb version 0.19.8"
            ]
          },
          "metadata": {}
        },
        {
          "output_type": "display_data",
          "data": {
            "text/plain": [
              "<IPython.core.display.HTML object>"
            ],
            "text/html": [
              "Run data is saved locally in <code>/content/wandb/run-20250317_141948-fm6adyi8</code>"
            ]
          },
          "metadata": {}
        },
        {
          "output_type": "display_data",
          "data": {
            "text/plain": [
              "<IPython.core.display.HTML object>"
            ],
            "text/html": [
              "Syncing run <strong><a href='https://wandb.ai/arunangshudutta218-iitm/dl_assgn_1_q_8/runs/fm6adyi8' target=\"_blank\">drawn-sweep-67</a></strong> to <a href='https://wandb.ai/arunangshudutta218-iitm/dl_assgn_1_q_8' target=\"_blank\">Weights & Biases</a> (<a href='https://wandb.me/developer-guide' target=\"_blank\">docs</a>)<br>Sweep page: <a href='https://wandb.ai/arunangshudutta218-iitm/dl_assgn_1_q_8/sweeps/28yyx0vh' target=\"_blank\">https://wandb.ai/arunangshudutta218-iitm/dl_assgn_1_q_8/sweeps/28yyx0vh</a>"
            ]
          },
          "metadata": {}
        },
        {
          "output_type": "display_data",
          "data": {
            "text/plain": [
              "<IPython.core.display.HTML object>"
            ],
            "text/html": [
              " View project at <a href='https://wandb.ai/arunangshudutta218-iitm/dl_assgn_1_q_8' target=\"_blank\">https://wandb.ai/arunangshudutta218-iitm/dl_assgn_1_q_8</a>"
            ]
          },
          "metadata": {}
        },
        {
          "output_type": "display_data",
          "data": {
            "text/plain": [
              "<IPython.core.display.HTML object>"
            ],
            "text/html": [
              " View sweep at <a href='https://wandb.ai/arunangshudutta218-iitm/dl_assgn_1_q_8/sweeps/28yyx0vh' target=\"_blank\">https://wandb.ai/arunangshudutta218-iitm/dl_assgn_1_q_8/sweeps/28yyx0vh</a>"
            ]
          },
          "metadata": {}
        },
        {
          "output_type": "display_data",
          "data": {
            "text/plain": [
              "<IPython.core.display.HTML object>"
            ],
            "text/html": [
              " View run at <a href='https://wandb.ai/arunangshudutta218-iitm/dl_assgn_1_q_8/runs/fm6adyi8' target=\"_blank\">https://wandb.ai/arunangshudutta218-iitm/dl_assgn_1_q_8/runs/fm6adyi8</a>"
            ]
          },
          "metadata": {}
        },
        {
          "output_type": "stream",
          "name": "stdout",
          "text": [
            "Hyper parameters: \n",
            "\n",
            "Weight initialization type :  Xavier\n",
            "Optimizer :  adam\n",
            "Learning rate (initial):  0.0001\n",
            "Batch size:  32\n",
            "-------------------\n",
            "Architecture Description:\n",
            "\n",
            "Layer:  1  ; number of neurons:  64  ; activation function:  ReLU\n",
            "Weight matrix dimention (64, 784) Bias vector dimention (64, 1)\n",
            "----------------\n",
            "Layer:  2  ; number of neurons:  64  ; activation function:  ReLU\n",
            "Weight matrix dimention (64, 64) Bias vector dimention (64, 1)\n",
            "----------------\n",
            "Layer:  3  ; number of neurons:  64  ; activation function:  ReLU\n",
            "Weight matrix dimention (64, 64) Bias vector dimention (64, 1)\n",
            "----------------\n",
            "Layer:  4  ; number of neurons:  64  ; activation function:  ReLU\n",
            "Weight matrix dimention (64, 64) Bias vector dimention (64, 1)\n",
            "----------------\n",
            "Layer:  5  ; number of neurons:  10  ; activation function:  softmax\n",
            "Weight matrix dimention (10, 64) Bias vector dimention (10, 1)\n",
            "----------------\n",
            "1312.0\n",
            "\n",
            " Start of training\n",
            "CE Training Loss:  2.3388721187860932 SE Training Loss:  0.4541683191782501 Training Accuracy:  9.176190476190476 CE Test Loss:  2.3393286219078013 SE Test Loss:  0.45420384522915164 Testing Accuracy:  8.9\n",
            "Epoch:  1\n"
          ]
        },
        {
          "output_type": "stream",
          "name": "stderr",
          "text": [
            "100%|██████████| 1312/1312 [00:08<00:00, 162.30it/s]\n"
          ]
        },
        {
          "output_type": "stream",
          "name": "stdout",
          "text": [
            "CE Training Loss:  0.6596591814751939 SE Training Loss:  0.1494238499912976 Training Accuracy:  80.60238095238095 CE Test Loss:  0.6608592574695558 SE Test Loss:  0.15113466212600954 Testing Accuracy:  80.30555555555556\n",
            "Epoch:  2\n"
          ]
        },
        {
          "output_type": "stream",
          "name": "stderr",
          "text": [
            "100%|██████████| 1312/1312 [00:05<00:00, 228.00it/s]\n"
          ]
        },
        {
          "output_type": "stream",
          "name": "stdout",
          "text": [
            "CE Training Loss:  0.5438896298558569 SE Training Loss:  0.12680112080027617 Training Accuracy:  83.03809523809524 CE Test Loss:  0.5494686091966261 SE Test Loss:  0.12851900436443348 Testing Accuracy:  82.68888888888888\n",
            "Epoch:  3\n"
          ]
        },
        {
          "output_type": "stream",
          "name": "stderr",
          "text": [
            "100%|██████████| 1312/1312 [00:07<00:00, 170.26it/s]\n"
          ]
        },
        {
          "output_type": "stream",
          "name": "stdout",
          "text": [
            "CE Training Loss:  0.48400118134628534 SE Training Loss:  0.11603644533189611 Training Accuracy:  84.31190476190476 CE Test Loss:  0.49271746301380903 SE Test Loss:  0.11802273247338448 Testing Accuracy:  83.97777777777777\n",
            "Epoch:  4\n"
          ]
        },
        {
          "output_type": "stream",
          "name": "stderr",
          "text": [
            "100%|██████████| 1312/1312 [00:05<00:00, 261.43it/s]\n"
          ]
        },
        {
          "output_type": "stream",
          "name": "stdout",
          "text": [
            "CE Training Loss:  0.45534403462039136 SE Training Loss:  0.10991443935605083 Training Accuracy:  84.9 CE Test Loss:  0.4649579650193109 SE Test Loss:  0.11202515612315568 Testing Accuracy:  84.63888888888889\n",
            "Epoch:  5\n"
          ]
        },
        {
          "output_type": "stream",
          "name": "stderr",
          "text": [
            "100%|██████████| 1312/1312 [00:06<00:00, 199.48it/s]\n"
          ]
        },
        {
          "output_type": "stream",
          "name": "stdout",
          "text": [
            "CE Training Loss:  0.4411477507075665 SE Training Loss:  0.10611451050556167 Training Accuracy:  85.37380952380953 CE Test Loss:  0.45181628179985805 SE Test Loss:  0.10869266226550273 Testing Accuracy:  85.06666666666666\n"
          ]
        },
        {
          "output_type": "display_data",
          "data": {
            "text/plain": [
              "<IPython.core.display.HTML object>"
            ],
            "text/html": []
          },
          "metadata": {}
        },
        {
          "output_type": "display_data",
          "data": {
            "text/plain": [
              "<IPython.core.display.HTML object>"
            ],
            "text/html": [
              "<br>    <style><br>        .wandb-row {<br>            display: flex;<br>            flex-direction: row;<br>            flex-wrap: wrap;<br>            justify-content: flex-start;<br>            width: 100%;<br>        }<br>        .wandb-col {<br>            display: flex;<br>            flex-direction: column;<br>            flex-basis: 100%;<br>            flex: 1;<br>            padding: 10px;<br>        }<br>    </style><br><div class=\"wandb-row\"><div class=\"wandb-col\"><h3>Run history:</h3><br/><table class=\"wandb\"><tr><td>tr_accuracy</td><td>▁█████</td></tr><tr><td>tr_loss_CE</td><td>█▂▁▁▁▁</td></tr><tr><td>tr_loss_SE</td><td>█▂▁▁▁▁</td></tr><tr><td>val_accuracy</td><td>▁█████</td></tr><tr><td>val_loss_CE</td><td>█▂▁▁▁▁</td></tr><tr><td>val_loss_SE</td><td>█▂▁▁▁▁</td></tr></table><br/></div><div class=\"wandb-col\"><h3>Run summary:</h3><br/><table class=\"wandb\"><tr><td>tr_accuracy</td><td>85.37381</td></tr><tr><td>tr_loss_CE</td><td>0.44115</td></tr><tr><td>tr_loss_SE</td><td>0.10611</td></tr><tr><td>val_accuracy</td><td>85.06667</td></tr><tr><td>val_loss_CE</td><td>0.45182</td></tr><tr><td>val_loss_SE</td><td>0.10869</td></tr></table><br/></div></div>"
            ]
          },
          "metadata": {}
        },
        {
          "output_type": "display_data",
          "data": {
            "text/plain": [
              "<IPython.core.display.HTML object>"
            ],
            "text/html": [
              " View run <strong style=\"color:#cdcd00\">e_5_hl_4_hs_64_lr_0.0001_opt_adam_bs_32_init_Xavier_ac_ReLU_l2_0</strong> at: <a href='https://wandb.ai/arunangshudutta218-iitm/dl_assgn_1_q_8/runs/fm6adyi8' target=\"_blank\">https://wandb.ai/arunangshudutta218-iitm/dl_assgn_1_q_8/runs/fm6adyi8</a><br> View project at: <a href='https://wandb.ai/arunangshudutta218-iitm/dl_assgn_1_q_8' target=\"_blank\">https://wandb.ai/arunangshudutta218-iitm/dl_assgn_1_q_8</a><br>Synced 5 W&B file(s), 0 media file(s), 0 artifact file(s) and 0 other file(s)"
            ]
          },
          "metadata": {}
        },
        {
          "output_type": "display_data",
          "data": {
            "text/plain": [
              "<IPython.core.display.HTML object>"
            ],
            "text/html": [
              "Find logs at: <code>./wandb/run-20250317_141948-fm6adyi8/logs</code>"
            ]
          },
          "metadata": {}
        },
        {
          "output_type": "stream",
          "name": "stderr",
          "text": [
            "\u001b[34m\u001b[1mwandb\u001b[0m: Agent Starting Run: toljlz6w with config:\n",
            "\u001b[34m\u001b[1mwandb\u001b[0m: \tactivation: ReLU\n",
            "\u001b[34m\u001b[1mwandb\u001b[0m: \tbatch_size: 32\n",
            "\u001b[34m\u001b[1mwandb\u001b[0m: \tepochs: 5\n",
            "\u001b[34m\u001b[1mwandb\u001b[0m: \thidden_size: 64\n",
            "\u001b[34m\u001b[1mwandb\u001b[0m: \tlearning_rate: 0.0001\n",
            "\u001b[34m\u001b[1mwandb\u001b[0m: \tloss_function: squared_error\n",
            "\u001b[34m\u001b[1mwandb\u001b[0m: \tnum_layers: 4\n",
            "\u001b[34m\u001b[1mwandb\u001b[0m: \toptimizer: adam\n",
            "\u001b[34m\u001b[1mwandb\u001b[0m: \tweight_decay: 0.0005\n",
            "\u001b[34m\u001b[1mwandb\u001b[0m: \tweight_init: Xavier\n"
          ]
        },
        {
          "output_type": "display_data",
          "data": {
            "text/plain": [
              "<IPython.core.display.HTML object>"
            ],
            "text/html": [
              "Tracking run with wandb version 0.19.8"
            ]
          },
          "metadata": {}
        },
        {
          "output_type": "display_data",
          "data": {
            "text/plain": [
              "<IPython.core.display.HTML object>"
            ],
            "text/html": [
              "Run data is saved locally in <code>/content/wandb/run-20250317_142033-toljlz6w</code>"
            ]
          },
          "metadata": {}
        },
        {
          "output_type": "display_data",
          "data": {
            "text/plain": [
              "<IPython.core.display.HTML object>"
            ],
            "text/html": [
              "Syncing run <strong><a href='https://wandb.ai/arunangshudutta218-iitm/dl_assgn_1_q_8/runs/toljlz6w' target=\"_blank\">lucky-sweep-68</a></strong> to <a href='https://wandb.ai/arunangshudutta218-iitm/dl_assgn_1_q_8' target=\"_blank\">Weights & Biases</a> (<a href='https://wandb.me/developer-guide' target=\"_blank\">docs</a>)<br>Sweep page: <a href='https://wandb.ai/arunangshudutta218-iitm/dl_assgn_1_q_8/sweeps/28yyx0vh' target=\"_blank\">https://wandb.ai/arunangshudutta218-iitm/dl_assgn_1_q_8/sweeps/28yyx0vh</a>"
            ]
          },
          "metadata": {}
        },
        {
          "output_type": "display_data",
          "data": {
            "text/plain": [
              "<IPython.core.display.HTML object>"
            ],
            "text/html": [
              " View project at <a href='https://wandb.ai/arunangshudutta218-iitm/dl_assgn_1_q_8' target=\"_blank\">https://wandb.ai/arunangshudutta218-iitm/dl_assgn_1_q_8</a>"
            ]
          },
          "metadata": {}
        },
        {
          "output_type": "display_data",
          "data": {
            "text/plain": [
              "<IPython.core.display.HTML object>"
            ],
            "text/html": [
              " View sweep at <a href='https://wandb.ai/arunangshudutta218-iitm/dl_assgn_1_q_8/sweeps/28yyx0vh' target=\"_blank\">https://wandb.ai/arunangshudutta218-iitm/dl_assgn_1_q_8/sweeps/28yyx0vh</a>"
            ]
          },
          "metadata": {}
        },
        {
          "output_type": "display_data",
          "data": {
            "text/plain": [
              "<IPython.core.display.HTML object>"
            ],
            "text/html": [
              " View run at <a href='https://wandb.ai/arunangshudutta218-iitm/dl_assgn_1_q_8/runs/toljlz6w' target=\"_blank\">https://wandb.ai/arunangshudutta218-iitm/dl_assgn_1_q_8/runs/toljlz6w</a>"
            ]
          },
          "metadata": {}
        },
        {
          "output_type": "stream",
          "name": "stdout",
          "text": [
            "Hyper parameters: \n",
            "\n",
            "Weight initialization type :  Xavier\n",
            "Optimizer :  adam\n",
            "Learning rate (initial):  0.0001\n",
            "Batch size:  32\n",
            "-------------------\n",
            "Architecture Description:\n",
            "\n",
            "Layer:  1  ; number of neurons:  64  ; activation function:  ReLU\n",
            "Weight matrix dimention (64, 784) Bias vector dimention (64, 1)\n",
            "----------------\n",
            "Layer:  2  ; number of neurons:  64  ; activation function:  ReLU\n",
            "Weight matrix dimention (64, 64) Bias vector dimention (64, 1)\n",
            "----------------\n",
            "Layer:  3  ; number of neurons:  64  ; activation function:  ReLU\n",
            "Weight matrix dimention (64, 64) Bias vector dimention (64, 1)\n",
            "----------------\n",
            "Layer:  4  ; number of neurons:  64  ; activation function:  ReLU\n",
            "Weight matrix dimention (64, 64) Bias vector dimention (64, 1)\n",
            "----------------\n",
            "Layer:  5  ; number of neurons:  10  ; activation function:  softmax\n",
            "Weight matrix dimention (10, 64) Bias vector dimention (10, 1)\n",
            "----------------\n",
            "1312.0\n",
            "\n",
            " Start of training\n",
            "CE Training Loss:  2.3291812855531133 SE Training Loss:  0.4525792101839105 Training Accuracy:  10.097619047619048 CE Test Loss:  2.3292001816780674 SE Test Loss:  0.4525833278600228 Testing Accuracy:  10.261111111111111\n",
            "Epoch:  1\n"
          ]
        },
        {
          "output_type": "stream",
          "name": "stderr",
          "text": [
            "100%|██████████| 1312/1312 [00:07<00:00, 166.99it/s]\n"
          ]
        },
        {
          "output_type": "stream",
          "name": "stdout",
          "text": [
            "CE Training Loss:  0.6252462423308617 SE Training Loss:  0.14656092337437646 Training Accuracy:  80.95238095238095 CE Test Loss:  0.6289508404505473 SE Test Loss:  0.14774394156829593 Testing Accuracy:  80.86111111111111\n",
            "Epoch:  2\n"
          ]
        },
        {
          "output_type": "stream",
          "name": "stderr",
          "text": [
            "100%|██████████| 1312/1312 [00:04<00:00, 262.56it/s]\n"
          ]
        },
        {
          "output_type": "stream",
          "name": "stdout",
          "text": [
            "CE Training Loss:  0.5198016722807881 SE Training Loss:  0.12506944834407088 Training Accuracy:  83.02619047619048 CE Test Loss:  0.5261331166941072 SE Test Loss:  0.12653309817591557 Testing Accuracy:  82.93888888888888\n",
            "Epoch:  3\n"
          ]
        },
        {
          "output_type": "stream",
          "name": "stderr",
          "text": [
            "100%|██████████| 1312/1312 [00:08<00:00, 151.76it/s]\n"
          ]
        },
        {
          "output_type": "stream",
          "name": "stdout",
          "text": [
            "CE Training Loss:  0.4759301451052786 SE Training Loss:  0.11563929089145644 Training Accuracy:  84.21904761904761 CE Test Loss:  0.48527329745955405 SE Test Loss:  0.1179357176376658 Testing Accuracy:  83.88333333333334\n",
            "Epoch:  4\n"
          ]
        },
        {
          "output_type": "stream",
          "name": "stderr",
          "text": [
            "100%|██████████| 1312/1312 [00:13<00:00, 93.97it/s]\n"
          ]
        },
        {
          "output_type": "stream",
          "name": "stdout",
          "text": [
            "CE Training Loss:  0.4504704038341324 SE Training Loss:  0.10975168277728599 Training Accuracy:  84.91904761904762 CE Test Loss:  0.46223181565438365 SE Test Loss:  0.11255474058987829 Testing Accuracy:  84.5111111111111\n",
            "Epoch:  5\n"
          ]
        },
        {
          "output_type": "stream",
          "name": "stderr",
          "text": [
            "100%|██████████| 1312/1312 [00:16<00:00, 78.05it/s]\n"
          ]
        },
        {
          "output_type": "stream",
          "name": "stdout",
          "text": [
            "CE Training Loss:  0.43049870862784606 SE Training Loss:  0.10505763227447942 Training Accuracy:  85.5547619047619 CE Test Loss:  0.4445200042360181 SE Test Loss:  0.10825747446418212 Testing Accuracy:  85.09444444444445\n"
          ]
        },
        {
          "output_type": "display_data",
          "data": {
            "text/plain": [
              "<IPython.core.display.HTML object>"
            ],
            "text/html": []
          },
          "metadata": {}
        },
        {
          "output_type": "display_data",
          "data": {
            "text/plain": [
              "<IPython.core.display.HTML object>"
            ],
            "text/html": [
              "<br>    <style><br>        .wandb-row {<br>            display: flex;<br>            flex-direction: row;<br>            flex-wrap: wrap;<br>            justify-content: flex-start;<br>            width: 100%;<br>        }<br>        .wandb-col {<br>            display: flex;<br>            flex-direction: column;<br>            flex-basis: 100%;<br>            flex: 1;<br>            padding: 10px;<br>        }<br>    </style><br><div class=\"wandb-row\"><div class=\"wandb-col\"><h3>Run history:</h3><br/><table class=\"wandb\"><tr><td>tr_accuracy</td><td>▁█████</td></tr><tr><td>tr_loss_CE</td><td>█▂▁▁▁▁</td></tr><tr><td>tr_loss_SE</td><td>█▂▁▁▁▁</td></tr><tr><td>val_accuracy</td><td>▁█████</td></tr><tr><td>val_loss_CE</td><td>█▂▁▁▁▁</td></tr><tr><td>val_loss_SE</td><td>█▂▁▁▁▁</td></tr></table><br/></div><div class=\"wandb-col\"><h3>Run summary:</h3><br/><table class=\"wandb\"><tr><td>tr_accuracy</td><td>85.55476</td></tr><tr><td>tr_loss_CE</td><td>0.4305</td></tr><tr><td>tr_loss_SE</td><td>0.10506</td></tr><tr><td>val_accuracy</td><td>85.09444</td></tr><tr><td>val_loss_CE</td><td>0.44452</td></tr><tr><td>val_loss_SE</td><td>0.10826</td></tr></table><br/></div></div>"
            ]
          },
          "metadata": {}
        },
        {
          "output_type": "display_data",
          "data": {
            "text/plain": [
              "<IPython.core.display.HTML object>"
            ],
            "text/html": [
              " View run <strong style=\"color:#cdcd00\">e_5_hl_4_hs_64_lr_0.0001_opt_adam_bs_32_init_Xavier_ac_ReLU_l2_0.0005</strong> at: <a href='https://wandb.ai/arunangshudutta218-iitm/dl_assgn_1_q_8/runs/toljlz6w' target=\"_blank\">https://wandb.ai/arunangshudutta218-iitm/dl_assgn_1_q_8/runs/toljlz6w</a><br> View project at: <a href='https://wandb.ai/arunangshudutta218-iitm/dl_assgn_1_q_8' target=\"_blank\">https://wandb.ai/arunangshudutta218-iitm/dl_assgn_1_q_8</a><br>Synced 5 W&B file(s), 0 media file(s), 0 artifact file(s) and 0 other file(s)"
            ]
          },
          "metadata": {}
        },
        {
          "output_type": "display_data",
          "data": {
            "text/plain": [
              "<IPython.core.display.HTML object>"
            ],
            "text/html": [
              "Find logs at: <code>./wandb/run-20250317_142033-toljlz6w/logs</code>"
            ]
          },
          "metadata": {}
        },
        {
          "output_type": "stream",
          "name": "stderr",
          "text": [
            "\u001b[34m\u001b[1mwandb\u001b[0m: Agent Starting Run: blky62ua with config:\n",
            "\u001b[34m\u001b[1mwandb\u001b[0m: \tactivation: ReLU\n",
            "\u001b[34m\u001b[1mwandb\u001b[0m: \tbatch_size: 32\n",
            "\u001b[34m\u001b[1mwandb\u001b[0m: \tepochs: 5\n",
            "\u001b[34m\u001b[1mwandb\u001b[0m: \thidden_size: 64\n",
            "\u001b[34m\u001b[1mwandb\u001b[0m: \tlearning_rate: 0.0001\n",
            "\u001b[34m\u001b[1mwandb\u001b[0m: \tloss_function: squared_error\n",
            "\u001b[34m\u001b[1mwandb\u001b[0m: \tnum_layers: 4\n",
            "\u001b[34m\u001b[1mwandb\u001b[0m: \toptimizer: adam\n",
            "\u001b[34m\u001b[1mwandb\u001b[0m: \tweight_decay: 0.5\n",
            "\u001b[34m\u001b[1mwandb\u001b[0m: \tweight_init: Xavier\n"
          ]
        },
        {
          "output_type": "display_data",
          "data": {
            "text/plain": [
              "<IPython.core.display.HTML object>"
            ],
            "text/html": [
              "Tracking run with wandb version 0.19.8"
            ]
          },
          "metadata": {}
        },
        {
          "output_type": "display_data",
          "data": {
            "text/plain": [
              "<IPython.core.display.HTML object>"
            ],
            "text/html": [
              "Run data is saved locally in <code>/content/wandb/run-20250317_142149-blky62ua</code>"
            ]
          },
          "metadata": {}
        },
        {
          "output_type": "display_data",
          "data": {
            "text/plain": [
              "<IPython.core.display.HTML object>"
            ],
            "text/html": [
              "Syncing run <strong><a href='https://wandb.ai/arunangshudutta218-iitm/dl_assgn_1_q_8/runs/blky62ua' target=\"_blank\">lunar-sweep-69</a></strong> to <a href='https://wandb.ai/arunangshudutta218-iitm/dl_assgn_1_q_8' target=\"_blank\">Weights & Biases</a> (<a href='https://wandb.me/developer-guide' target=\"_blank\">docs</a>)<br>Sweep page: <a href='https://wandb.ai/arunangshudutta218-iitm/dl_assgn_1_q_8/sweeps/28yyx0vh' target=\"_blank\">https://wandb.ai/arunangshudutta218-iitm/dl_assgn_1_q_8/sweeps/28yyx0vh</a>"
            ]
          },
          "metadata": {}
        },
        {
          "output_type": "display_data",
          "data": {
            "text/plain": [
              "<IPython.core.display.HTML object>"
            ],
            "text/html": [
              " View project at <a href='https://wandb.ai/arunangshudutta218-iitm/dl_assgn_1_q_8' target=\"_blank\">https://wandb.ai/arunangshudutta218-iitm/dl_assgn_1_q_8</a>"
            ]
          },
          "metadata": {}
        },
        {
          "output_type": "display_data",
          "data": {
            "text/plain": [
              "<IPython.core.display.HTML object>"
            ],
            "text/html": [
              " View sweep at <a href='https://wandb.ai/arunangshudutta218-iitm/dl_assgn_1_q_8/sweeps/28yyx0vh' target=\"_blank\">https://wandb.ai/arunangshudutta218-iitm/dl_assgn_1_q_8/sweeps/28yyx0vh</a>"
            ]
          },
          "metadata": {}
        },
        {
          "output_type": "display_data",
          "data": {
            "text/plain": [
              "<IPython.core.display.HTML object>"
            ],
            "text/html": [
              " View run at <a href='https://wandb.ai/arunangshudutta218-iitm/dl_assgn_1_q_8/runs/blky62ua' target=\"_blank\">https://wandb.ai/arunangshudutta218-iitm/dl_assgn_1_q_8/runs/blky62ua</a>"
            ]
          },
          "metadata": {}
        },
        {
          "output_type": "stream",
          "name": "stdout",
          "text": [
            "Hyper parameters: \n",
            "\n",
            "Weight initialization type :  Xavier\n",
            "Optimizer :  adam\n",
            "Learning rate (initial):  0.0001\n",
            "Batch size:  32\n",
            "-------------------\n",
            "Architecture Description:\n",
            "\n",
            "Layer:  1  ; number of neurons:  64  ; activation function:  ReLU\n",
            "Weight matrix dimention (64, 784) Bias vector dimention (64, 1)\n",
            "----------------\n",
            "Layer:  2  ; number of neurons:  64  ; activation function:  ReLU\n",
            "Weight matrix dimention (64, 64) Bias vector dimention (64, 1)\n",
            "----------------\n",
            "Layer:  3  ; number of neurons:  64  ; activation function:  ReLU\n",
            "Weight matrix dimention (64, 64) Bias vector dimention (64, 1)\n",
            "----------------\n",
            "Layer:  4  ; number of neurons:  64  ; activation function:  ReLU\n",
            "Weight matrix dimention (64, 64) Bias vector dimention (64, 1)\n",
            "----------------\n",
            "Layer:  5  ; number of neurons:  10  ; activation function:  softmax\n",
            "Weight matrix dimention (10, 64) Bias vector dimention (10, 1)\n",
            "----------------\n",
            "1312.0\n",
            "\n",
            " Start of training\n",
            "CE Training Loss:  2.3322815121241747 SE Training Loss:  0.4525068817031515 Training Accuracy:  12.019047619047619 CE Test Loss:  2.332277844703606 SE Test Loss:  0.45249704123356405 Testing Accuracy:  12.072222222222223\n",
            "Epoch:  1\n"
          ]
        },
        {
          "output_type": "stream",
          "name": "stderr",
          "text": [
            "100%|██████████| 1312/1312 [00:09<00:00, 134.58it/s]\n"
          ]
        },
        {
          "output_type": "stream",
          "name": "stdout",
          "text": [
            "CE Training Loss:  1.1997981202272874 SE Training Loss:  0.27565848256989745 Training Accuracy:  58.25238095238095 CE Test Loss:  1.1995187204048723 SE Test Loss:  0.2757085426758021 Testing Accuracy:  58.13333333333333\n",
            "Epoch:  2\n"
          ]
        },
        {
          "output_type": "stream",
          "name": "stderr",
          "text": [
            "100%|██████████| 1312/1312 [00:05<00:00, 254.78it/s]\n"
          ]
        },
        {
          "output_type": "stream",
          "name": "stdout",
          "text": [
            "CE Training Loss:  1.186782674509197 SE Training Loss:  0.25984935892233324 Training Accuracy:  61.65952380952381 CE Test Loss:  1.1849481339445167 SE Test Loss:  0.25995577344147053 Testing Accuracy:  61.50555555555555\n",
            "Epoch:  3\n"
          ]
        },
        {
          "output_type": "stream",
          "name": "stderr",
          "text": [
            "100%|██████████| 1312/1312 [00:06<00:00, 191.13it/s]\n"
          ]
        },
        {
          "output_type": "stream",
          "name": "stdout",
          "text": [
            "CE Training Loss:  1.0263654940919822 SE Training Loss:  0.2434346367348259 Training Accuracy:  63.885714285714286 CE Test Loss:  1.0375864564688715 SE Test Loss:  0.24528975088843374 Testing Accuracy:  63.672222222222224\n",
            "Epoch:  4\n"
          ]
        },
        {
          "output_type": "stream",
          "name": "stderr",
          "text": [
            "100%|██████████| 1312/1312 [00:05<00:00, 240.03it/s]\n"
          ]
        },
        {
          "output_type": "stream",
          "name": "stdout",
          "text": [
            "CE Training Loss:  0.999957228986211 SE Training Loss:  0.23993944381931692 Training Accuracy:  63.67142857142857 CE Test Loss:  1.0011466816514811 SE Test Loss:  0.24091293502187358 Testing Accuracy:  63.55555555555556\n",
            "Epoch:  5\n"
          ]
        },
        {
          "output_type": "stream",
          "name": "stderr",
          "text": [
            "100%|██████████| 1312/1312 [00:05<00:00, 255.57it/s]\n"
          ]
        },
        {
          "output_type": "stream",
          "name": "stdout",
          "text": [
            "CE Training Loss:  0.9905877903440037 SE Training Loss:  0.23923342213520693 Training Accuracy:  63.50476190476191 CE Test Loss:  0.9901332146724411 SE Test Loss:  0.23987108706116866 Testing Accuracy:  63.40555555555556\n"
          ]
        },
        {
          "output_type": "display_data",
          "data": {
            "text/plain": [
              "<IPython.core.display.HTML object>"
            ],
            "text/html": []
          },
          "metadata": {}
        },
        {
          "output_type": "display_data",
          "data": {
            "text/plain": [
              "<IPython.core.display.HTML object>"
            ],
            "text/html": [
              "<br>    <style><br>        .wandb-row {<br>            display: flex;<br>            flex-direction: row;<br>            flex-wrap: wrap;<br>            justify-content: flex-start;<br>            width: 100%;<br>        }<br>        .wandb-col {<br>            display: flex;<br>            flex-direction: column;<br>            flex-basis: 100%;<br>            flex: 1;<br>            padding: 10px;<br>        }<br>    </style><br><div class=\"wandb-row\"><div class=\"wandb-col\"><h3>Run history:</h3><br/><table class=\"wandb\"><tr><td>tr_accuracy</td><td>▁▇████</td></tr><tr><td>tr_loss_CE</td><td>█▂▂▁▁▁</td></tr><tr><td>tr_loss_SE</td><td>█▂▂▁▁▁</td></tr><tr><td>val_accuracy</td><td>▁▇████</td></tr><tr><td>val_loss_CE</td><td>█▂▂▁▁▁</td></tr><tr><td>val_loss_SE</td><td>█▂▂▁▁▁</td></tr></table><br/></div><div class=\"wandb-col\"><h3>Run summary:</h3><br/><table class=\"wandb\"><tr><td>tr_accuracy</td><td>63.50476</td></tr><tr><td>tr_loss_CE</td><td>0.99059</td></tr><tr><td>tr_loss_SE</td><td>0.23923</td></tr><tr><td>val_accuracy</td><td>63.40556</td></tr><tr><td>val_loss_CE</td><td>0.99013</td></tr><tr><td>val_loss_SE</td><td>0.23987</td></tr></table><br/></div></div>"
            ]
          },
          "metadata": {}
        },
        {
          "output_type": "display_data",
          "data": {
            "text/plain": [
              "<IPython.core.display.HTML object>"
            ],
            "text/html": [
              " View run <strong style=\"color:#cdcd00\">e_5_hl_4_hs_64_lr_0.0001_opt_adam_bs_32_init_Xavier_ac_ReLU_l2_0.5</strong> at: <a href='https://wandb.ai/arunangshudutta218-iitm/dl_assgn_1_q_8/runs/blky62ua' target=\"_blank\">https://wandb.ai/arunangshudutta218-iitm/dl_assgn_1_q_8/runs/blky62ua</a><br> View project at: <a href='https://wandb.ai/arunangshudutta218-iitm/dl_assgn_1_q_8' target=\"_blank\">https://wandb.ai/arunangshudutta218-iitm/dl_assgn_1_q_8</a><br>Synced 5 W&B file(s), 0 media file(s), 0 artifact file(s) and 0 other file(s)"
            ]
          },
          "metadata": {}
        },
        {
          "output_type": "display_data",
          "data": {
            "text/plain": [
              "<IPython.core.display.HTML object>"
            ],
            "text/html": [
              "Find logs at: <code>./wandb/run-20250317_142149-blky62ua/logs</code>"
            ]
          },
          "metadata": {}
        },
        {
          "output_type": "stream",
          "name": "stderr",
          "text": [
            "\u001b[34m\u001b[1mwandb\u001b[0m: Agent Starting Run: 8bcr6kms with config:\n",
            "\u001b[34m\u001b[1mwandb\u001b[0m: \tactivation: ReLU\n",
            "\u001b[34m\u001b[1mwandb\u001b[0m: \tbatch_size: 32\n",
            "\u001b[34m\u001b[1mwandb\u001b[0m: \tepochs: 5\n",
            "\u001b[34m\u001b[1mwandb\u001b[0m: \thidden_size: 64\n",
            "\u001b[34m\u001b[1mwandb\u001b[0m: \tlearning_rate: 0.0001\n",
            "\u001b[34m\u001b[1mwandb\u001b[0m: \tloss_function: squared_error\n",
            "\u001b[34m\u001b[1mwandb\u001b[0m: \tnum_layers: 4\n",
            "\u001b[34m\u001b[1mwandb\u001b[0m: \toptimizer: nadam\n",
            "\u001b[34m\u001b[1mwandb\u001b[0m: \tweight_decay: 0\n",
            "\u001b[34m\u001b[1mwandb\u001b[0m: \tweight_init: Xavier\n"
          ]
        },
        {
          "output_type": "display_data",
          "data": {
            "text/plain": [
              "<IPython.core.display.HTML object>"
            ],
            "text/html": [
              "Tracking run with wandb version 0.19.8"
            ]
          },
          "metadata": {}
        },
        {
          "output_type": "display_data",
          "data": {
            "text/plain": [
              "<IPython.core.display.HTML object>"
            ],
            "text/html": [
              "Run data is saved locally in <code>/content/wandb/run-20250317_142234-8bcr6kms</code>"
            ]
          },
          "metadata": {}
        },
        {
          "output_type": "display_data",
          "data": {
            "text/plain": [
              "<IPython.core.display.HTML object>"
            ],
            "text/html": [
              "Syncing run <strong><a href='https://wandb.ai/arunangshudutta218-iitm/dl_assgn_1_q_8/runs/8bcr6kms' target=\"_blank\">silvery-sweep-70</a></strong> to <a href='https://wandb.ai/arunangshudutta218-iitm/dl_assgn_1_q_8' target=\"_blank\">Weights & Biases</a> (<a href='https://wandb.me/developer-guide' target=\"_blank\">docs</a>)<br>Sweep page: <a href='https://wandb.ai/arunangshudutta218-iitm/dl_assgn_1_q_8/sweeps/28yyx0vh' target=\"_blank\">https://wandb.ai/arunangshudutta218-iitm/dl_assgn_1_q_8/sweeps/28yyx0vh</a>"
            ]
          },
          "metadata": {}
        },
        {
          "output_type": "display_data",
          "data": {
            "text/plain": [
              "<IPython.core.display.HTML object>"
            ],
            "text/html": [
              " View project at <a href='https://wandb.ai/arunangshudutta218-iitm/dl_assgn_1_q_8' target=\"_blank\">https://wandb.ai/arunangshudutta218-iitm/dl_assgn_1_q_8</a>"
            ]
          },
          "metadata": {}
        },
        {
          "output_type": "display_data",
          "data": {
            "text/plain": [
              "<IPython.core.display.HTML object>"
            ],
            "text/html": [
              " View sweep at <a href='https://wandb.ai/arunangshudutta218-iitm/dl_assgn_1_q_8/sweeps/28yyx0vh' target=\"_blank\">https://wandb.ai/arunangshudutta218-iitm/dl_assgn_1_q_8/sweeps/28yyx0vh</a>"
            ]
          },
          "metadata": {}
        },
        {
          "output_type": "display_data",
          "data": {
            "text/plain": [
              "<IPython.core.display.HTML object>"
            ],
            "text/html": [
              " View run at <a href='https://wandb.ai/arunangshudutta218-iitm/dl_assgn_1_q_8/runs/8bcr6kms' target=\"_blank\">https://wandb.ai/arunangshudutta218-iitm/dl_assgn_1_q_8/runs/8bcr6kms</a>"
            ]
          },
          "metadata": {}
        },
        {
          "output_type": "stream",
          "name": "stdout",
          "text": [
            "Hyper parameters: \n",
            "\n",
            "Weight initialization type :  Xavier\n",
            "Optimizer :  nadam\n",
            "Learning rate (initial):  0.0001\n",
            "Batch size:  32\n",
            "-------------------\n",
            "Architecture Description:\n",
            "\n",
            "Layer:  1  ; number of neurons:  64  ; activation function:  ReLU\n",
            "Weight matrix dimention (64, 784) Bias vector dimention (64, 1)\n",
            "----------------\n",
            "Layer:  2  ; number of neurons:  64  ; activation function:  ReLU\n",
            "Weight matrix dimention (64, 64) Bias vector dimention (64, 1)\n",
            "----------------\n",
            "Layer:  3  ; number of neurons:  64  ; activation function:  ReLU\n",
            "Weight matrix dimention (64, 64) Bias vector dimention (64, 1)\n",
            "----------------\n",
            "Layer:  4  ; number of neurons:  64  ; activation function:  ReLU\n",
            "Weight matrix dimention (64, 64) Bias vector dimention (64, 1)\n",
            "----------------\n",
            "Layer:  5  ; number of neurons:  10  ; activation function:  softmax\n",
            "Weight matrix dimention (10, 64) Bias vector dimention (10, 1)\n",
            "----------------\n",
            "1312.0\n",
            "\n",
            " Start of training\n",
            "CE Training Loss:  2.331874515176169 SE Training Loss:  0.45372358869544993 Training Accuracy:  4.878571428571429 CE Test Loss:  2.331307048249993 SE Test Loss:  0.45366697759158425 Testing Accuracy:  5.016666666666667\n",
            "Epoch:  1\n"
          ]
        },
        {
          "output_type": "stream",
          "name": "stderr",
          "text": [
            "100%|██████████| 1312/1312 [00:07<00:00, 175.11it/s]\n"
          ]
        },
        {
          "output_type": "stream",
          "name": "stdout",
          "text": [
            "CE Training Loss:  0.6146289955678039 SE Training Loss:  0.14979913556257063 Training Accuracy:  80.07857142857142 CE Test Loss:  0.6170266282057493 SE Test Loss:  0.151158159589349 Testing Accuracy:  79.82777777777778\n",
            "Epoch:  2\n"
          ]
        },
        {
          "output_type": "stream",
          "name": "stderr",
          "text": [
            "100%|██████████| 1312/1312 [00:05<00:00, 232.82it/s]\n"
          ]
        },
        {
          "output_type": "stream",
          "name": "stdout",
          "text": [
            "CE Training Loss:  0.5322974152104174 SE Training Loss:  0.12855143295565388 Training Accuracy:  82.48333333333333 CE Test Loss:  0.5340491951855743 SE Test Loss:  0.129811920683882 Testing Accuracy:  82.38333333333334\n",
            "Epoch:  3\n"
          ]
        },
        {
          "output_type": "stream",
          "name": "stderr",
          "text": [
            "100%|██████████| 1312/1312 [00:06<00:00, 206.33it/s]\n"
          ]
        },
        {
          "output_type": "stream",
          "name": "stdout",
          "text": [
            "CE Training Loss:  0.4937162856452683 SE Training Loss:  0.11932438916797174 Training Accuracy:  83.66428571428571 CE Test Loss:  0.49708509462906203 SE Test Loss:  0.12098897818916614 Testing Accuracy:  83.52222222222223\n",
            "Epoch:  4\n"
          ]
        },
        {
          "output_type": "stream",
          "name": "stderr",
          "text": [
            "100%|██████████| 1312/1312 [00:06<00:00, 188.79it/s]\n"
          ]
        },
        {
          "output_type": "stream",
          "name": "stdout",
          "text": [
            "CE Training Loss:  0.4686659484932438 SE Training Loss:  0.11339816581535082 Training Accuracy:  84.49285714285715 CE Test Loss:  0.47323212616085836 SE Test Loss:  0.11539883399413257 Testing Accuracy:  84.3\n",
            "Epoch:  5\n"
          ]
        },
        {
          "output_type": "stream",
          "name": "stderr",
          "text": [
            "100%|██████████| 1312/1312 [00:06<00:00, 207.43it/s]\n"
          ]
        },
        {
          "output_type": "stream",
          "name": "stdout",
          "text": [
            "CE Training Loss:  0.4515193155591474 SE Training Loss:  0.10975877536158322 Training Accuracy:  84.89761904761905 CE Test Loss:  0.4570323010901757 SE Test Loss:  0.11203881695524434 Testing Accuracy:  84.60555555555555\n"
          ]
        },
        {
          "output_type": "display_data",
          "data": {
            "text/plain": [
              "<IPython.core.display.HTML object>"
            ],
            "text/html": []
          },
          "metadata": {}
        },
        {
          "output_type": "display_data",
          "data": {
            "text/plain": [
              "<IPython.core.display.HTML object>"
            ],
            "text/html": [
              "<br>    <style><br>        .wandb-row {<br>            display: flex;<br>            flex-direction: row;<br>            flex-wrap: wrap;<br>            justify-content: flex-start;<br>            width: 100%;<br>        }<br>        .wandb-col {<br>            display: flex;<br>            flex-direction: column;<br>            flex-basis: 100%;<br>            flex: 1;<br>            padding: 10px;<br>        }<br>    </style><br><div class=\"wandb-row\"><div class=\"wandb-col\"><h3>Run history:</h3><br/><table class=\"wandb\"><tr><td>tr_accuracy</td><td>▁█████</td></tr><tr><td>tr_loss_CE</td><td>█▂▁▁▁▁</td></tr><tr><td>tr_loss_SE</td><td>█▂▁▁▁▁</td></tr><tr><td>val_accuracy</td><td>▁█████</td></tr><tr><td>val_loss_CE</td><td>█▂▁▁▁▁</td></tr><tr><td>val_loss_SE</td><td>█▂▁▁▁▁</td></tr></table><br/></div><div class=\"wandb-col\"><h3>Run summary:</h3><br/><table class=\"wandb\"><tr><td>tr_accuracy</td><td>84.89762</td></tr><tr><td>tr_loss_CE</td><td>0.45152</td></tr><tr><td>tr_loss_SE</td><td>0.10976</td></tr><tr><td>val_accuracy</td><td>84.60556</td></tr><tr><td>val_loss_CE</td><td>0.45703</td></tr><tr><td>val_loss_SE</td><td>0.11204</td></tr></table><br/></div></div>"
            ]
          },
          "metadata": {}
        },
        {
          "output_type": "display_data",
          "data": {
            "text/plain": [
              "<IPython.core.display.HTML object>"
            ],
            "text/html": [
              " View run <strong style=\"color:#cdcd00\">e_5_hl_4_hs_64_lr_0.0001_opt_nadam_bs_32_init_Xavier_ac_ReLU_l2_0</strong> at: <a href='https://wandb.ai/arunangshudutta218-iitm/dl_assgn_1_q_8/runs/8bcr6kms' target=\"_blank\">https://wandb.ai/arunangshudutta218-iitm/dl_assgn_1_q_8/runs/8bcr6kms</a><br> View project at: <a href='https://wandb.ai/arunangshudutta218-iitm/dl_assgn_1_q_8' target=\"_blank\">https://wandb.ai/arunangshudutta218-iitm/dl_assgn_1_q_8</a><br>Synced 5 W&B file(s), 0 media file(s), 0 artifact file(s) and 0 other file(s)"
            ]
          },
          "metadata": {}
        },
        {
          "output_type": "display_data",
          "data": {
            "text/plain": [
              "<IPython.core.display.HTML object>"
            ],
            "text/html": [
              "Find logs at: <code>./wandb/run-20250317_142234-8bcr6kms/logs</code>"
            ]
          },
          "metadata": {}
        },
        {
          "output_type": "stream",
          "name": "stderr",
          "text": [
            "\u001b[34m\u001b[1mwandb\u001b[0m: Agent Starting Run: oe2i4155 with config:\n",
            "\u001b[34m\u001b[1mwandb\u001b[0m: \tactivation: ReLU\n",
            "\u001b[34m\u001b[1mwandb\u001b[0m: \tbatch_size: 32\n",
            "\u001b[34m\u001b[1mwandb\u001b[0m: \tepochs: 5\n",
            "\u001b[34m\u001b[1mwandb\u001b[0m: \thidden_size: 64\n",
            "\u001b[34m\u001b[1mwandb\u001b[0m: \tlearning_rate: 0.0001\n",
            "\u001b[34m\u001b[1mwandb\u001b[0m: \tloss_function: squared_error\n",
            "\u001b[34m\u001b[1mwandb\u001b[0m: \tnum_layers: 4\n",
            "\u001b[34m\u001b[1mwandb\u001b[0m: \toptimizer: nadam\n",
            "\u001b[34m\u001b[1mwandb\u001b[0m: \tweight_decay: 0.0005\n",
            "\u001b[34m\u001b[1mwandb\u001b[0m: \tweight_init: Xavier\n"
          ]
        },
        {
          "output_type": "display_data",
          "data": {
            "text/plain": [
              "<IPython.core.display.HTML object>"
            ],
            "text/html": [
              "Tracking run with wandb version 0.19.8"
            ]
          },
          "metadata": {}
        },
        {
          "output_type": "display_data",
          "data": {
            "text/plain": [
              "<IPython.core.display.HTML object>"
            ],
            "text/html": [
              "Run data is saved locally in <code>/content/wandb/run-20250317_142320-oe2i4155</code>"
            ]
          },
          "metadata": {}
        },
        {
          "output_type": "display_data",
          "data": {
            "text/plain": [
              "<IPython.core.display.HTML object>"
            ],
            "text/html": [
              "Syncing run <strong><a href='https://wandb.ai/arunangshudutta218-iitm/dl_assgn_1_q_8/runs/oe2i4155' target=\"_blank\">bumbling-sweep-71</a></strong> to <a href='https://wandb.ai/arunangshudutta218-iitm/dl_assgn_1_q_8' target=\"_blank\">Weights & Biases</a> (<a href='https://wandb.me/developer-guide' target=\"_blank\">docs</a>)<br>Sweep page: <a href='https://wandb.ai/arunangshudutta218-iitm/dl_assgn_1_q_8/sweeps/28yyx0vh' target=\"_blank\">https://wandb.ai/arunangshudutta218-iitm/dl_assgn_1_q_8/sweeps/28yyx0vh</a>"
            ]
          },
          "metadata": {}
        },
        {
          "output_type": "display_data",
          "data": {
            "text/plain": [
              "<IPython.core.display.HTML object>"
            ],
            "text/html": [
              " View project at <a href='https://wandb.ai/arunangshudutta218-iitm/dl_assgn_1_q_8' target=\"_blank\">https://wandb.ai/arunangshudutta218-iitm/dl_assgn_1_q_8</a>"
            ]
          },
          "metadata": {}
        },
        {
          "output_type": "display_data",
          "data": {
            "text/plain": [
              "<IPython.core.display.HTML object>"
            ],
            "text/html": [
              " View sweep at <a href='https://wandb.ai/arunangshudutta218-iitm/dl_assgn_1_q_8/sweeps/28yyx0vh' target=\"_blank\">https://wandb.ai/arunangshudutta218-iitm/dl_assgn_1_q_8/sweeps/28yyx0vh</a>"
            ]
          },
          "metadata": {}
        },
        {
          "output_type": "display_data",
          "data": {
            "text/plain": [
              "<IPython.core.display.HTML object>"
            ],
            "text/html": [
              " View run at <a href='https://wandb.ai/arunangshudutta218-iitm/dl_assgn_1_q_8/runs/oe2i4155' target=\"_blank\">https://wandb.ai/arunangshudutta218-iitm/dl_assgn_1_q_8/runs/oe2i4155</a>"
            ]
          },
          "metadata": {}
        },
        {
          "output_type": "stream",
          "name": "stdout",
          "text": [
            "Hyper parameters: \n",
            "\n",
            "Weight initialization type :  Xavier\n",
            "Optimizer :  nadam\n",
            "Learning rate (initial):  0.0001\n",
            "Batch size:  32\n",
            "-------------------\n",
            "Architecture Description:\n",
            "\n",
            "Layer:  1  ; number of neurons:  64  ; activation function:  ReLU\n",
            "Weight matrix dimention (64, 784) Bias vector dimention (64, 1)\n",
            "----------------\n",
            "Layer:  2  ; number of neurons:  64  ; activation function:  ReLU\n",
            "Weight matrix dimention (64, 64) Bias vector dimention (64, 1)\n",
            "----------------\n",
            "Layer:  3  ; number of neurons:  64  ; activation function:  ReLU\n",
            "Weight matrix dimention (64, 64) Bias vector dimention (64, 1)\n",
            "----------------\n",
            "Layer:  4  ; number of neurons:  64  ; activation function:  ReLU\n",
            "Weight matrix dimention (64, 64) Bias vector dimention (64, 1)\n",
            "----------------\n",
            "Layer:  5  ; number of neurons:  10  ; activation function:  softmax\n",
            "Weight matrix dimention (10, 64) Bias vector dimention (10, 1)\n",
            "----------------\n",
            "1312.0\n",
            "\n",
            " Start of training\n",
            "CE Training Loss:  2.3097716613609065 SE Training Loss:  0.45088921914235425 Training Accuracy:  16.126190476190477 CE Test Loss:  2.309765170311674 SE Test Loss:  0.4508779526320723 Testing Accuracy:  16.11111111111111\n",
            "Epoch:  1\n"
          ]
        },
        {
          "output_type": "stream",
          "name": "stderr",
          "text": [
            "100%|██████████| 1312/1312 [00:08<00:00, 161.97it/s]\n"
          ]
        },
        {
          "output_type": "stream",
          "name": "stdout",
          "text": [
            "CE Training Loss:  0.6222921426789847 SE Training Loss:  0.14927013553449486 Training Accuracy:  79.34761904761905 CE Test Loss:  0.6274061046284999 SE Test Loss:  0.15137675753436122 Testing Accuracy:  78.92777777777778\n",
            "Epoch:  2\n"
          ]
        },
        {
          "output_type": "stream",
          "name": "stderr",
          "text": [
            "100%|██████████| 1312/1312 [00:05<00:00, 220.42it/s]\n"
          ]
        },
        {
          "output_type": "stream",
          "name": "stdout",
          "text": [
            "CE Training Loss:  0.5400617808134951 SE Training Loss:  0.12884747970031157 Training Accuracy:  82.6952380952381 CE Test Loss:  0.5426735293035165 SE Test Loss:  0.13026590965489615 Testing Accuracy:  82.18333333333334\n",
            "Epoch:  3\n"
          ]
        },
        {
          "output_type": "stream",
          "name": "stderr",
          "text": [
            "100%|██████████| 1312/1312 [00:08<00:00, 153.60it/s]\n"
          ]
        },
        {
          "output_type": "stream",
          "name": "stdout",
          "text": [
            "CE Training Loss:  0.5089491115961443 SE Training Loss:  0.11913180570988828 Training Accuracy:  83.83571428571429 CE Test Loss:  0.5124599552624268 SE Test Loss:  0.12081323075241547 Testing Accuracy:  83.52777777777777\n",
            "Epoch:  4\n"
          ]
        },
        {
          "output_type": "stream",
          "name": "stderr",
          "text": [
            "100%|██████████| 1312/1312 [00:08<00:00, 153.23it/s]\n"
          ]
        },
        {
          "output_type": "stream",
          "name": "stdout",
          "text": [
            "CE Training Loss:  0.4918959058854925 SE Training Loss:  0.11303522835855988 Training Accuracy:  84.65 CE Test Loss:  0.4980207601791633 SE Test Loss:  0.1153421892305584 Testing Accuracy:  84.23333333333333\n",
            "Epoch:  5\n"
          ]
        },
        {
          "output_type": "stream",
          "name": "stderr",
          "text": [
            "100%|██████████| 1312/1312 [00:15<00:00, 86.09it/s]\n"
          ]
        },
        {
          "output_type": "stream",
          "name": "stdout",
          "text": [
            "CE Training Loss:  0.4809061770526807 SE Training Loss:  0.10922189684982093 Training Accuracy:  85.11190476190477 CE Test Loss:  0.4897331997053455 SE Test Loss:  0.11202239017824837 Testing Accuracy:  84.47777777777777\n"
          ]
        },
        {
          "output_type": "display_data",
          "data": {
            "text/plain": [
              "<IPython.core.display.HTML object>"
            ],
            "text/html": []
          },
          "metadata": {}
        },
        {
          "output_type": "display_data",
          "data": {
            "text/plain": [
              "<IPython.core.display.HTML object>"
            ],
            "text/html": [
              "<br>    <style><br>        .wandb-row {<br>            display: flex;<br>            flex-direction: row;<br>            flex-wrap: wrap;<br>            justify-content: flex-start;<br>            width: 100%;<br>        }<br>        .wandb-col {<br>            display: flex;<br>            flex-direction: column;<br>            flex-basis: 100%;<br>            flex: 1;<br>            padding: 10px;<br>        }<br>    </style><br><div class=\"wandb-row\"><div class=\"wandb-col\"><h3>Run history:</h3><br/><table class=\"wandb\"><tr><td>tr_accuracy</td><td>▁▇████</td></tr><tr><td>tr_loss_CE</td><td>█▂▁▁▁▁</td></tr><tr><td>tr_loss_SE</td><td>█▂▁▁▁▁</td></tr><tr><td>val_accuracy</td><td>▁▇████</td></tr><tr><td>val_loss_CE</td><td>█▂▁▁▁▁</td></tr><tr><td>val_loss_SE</td><td>█▂▁▁▁▁</td></tr></table><br/></div><div class=\"wandb-col\"><h3>Run summary:</h3><br/><table class=\"wandb\"><tr><td>tr_accuracy</td><td>85.1119</td></tr><tr><td>tr_loss_CE</td><td>0.48091</td></tr><tr><td>tr_loss_SE</td><td>0.10922</td></tr><tr><td>val_accuracy</td><td>84.47778</td></tr><tr><td>val_loss_CE</td><td>0.48973</td></tr><tr><td>val_loss_SE</td><td>0.11202</td></tr></table><br/></div></div>"
            ]
          },
          "metadata": {}
        },
        {
          "output_type": "display_data",
          "data": {
            "text/plain": [
              "<IPython.core.display.HTML object>"
            ],
            "text/html": [
              " View run <strong style=\"color:#cdcd00\">e_5_hl_4_hs_64_lr_0.0001_opt_nadam_bs_32_init_Xavier_ac_ReLU_l2_0.0005</strong> at: <a href='https://wandb.ai/arunangshudutta218-iitm/dl_assgn_1_q_8/runs/oe2i4155' target=\"_blank\">https://wandb.ai/arunangshudutta218-iitm/dl_assgn_1_q_8/runs/oe2i4155</a><br> View project at: <a href='https://wandb.ai/arunangshudutta218-iitm/dl_assgn_1_q_8' target=\"_blank\">https://wandb.ai/arunangshudutta218-iitm/dl_assgn_1_q_8</a><br>Synced 5 W&B file(s), 0 media file(s), 0 artifact file(s) and 0 other file(s)"
            ]
          },
          "metadata": {}
        },
        {
          "output_type": "display_data",
          "data": {
            "text/plain": [
              "<IPython.core.display.HTML object>"
            ],
            "text/html": [
              "Find logs at: <code>./wandb/run-20250317_142320-oe2i4155/logs</code>"
            ]
          },
          "metadata": {}
        },
        {
          "output_type": "stream",
          "name": "stderr",
          "text": [
            "\u001b[34m\u001b[1mwandb\u001b[0m: Agent Starting Run: s2bpmigp with config:\n",
            "\u001b[34m\u001b[1mwandb\u001b[0m: \tactivation: ReLU\n",
            "\u001b[34m\u001b[1mwandb\u001b[0m: \tbatch_size: 32\n",
            "\u001b[34m\u001b[1mwandb\u001b[0m: \tepochs: 5\n",
            "\u001b[34m\u001b[1mwandb\u001b[0m: \thidden_size: 64\n",
            "\u001b[34m\u001b[1mwandb\u001b[0m: \tlearning_rate: 0.0001\n",
            "\u001b[34m\u001b[1mwandb\u001b[0m: \tloss_function: squared_error\n",
            "\u001b[34m\u001b[1mwandb\u001b[0m: \tnum_layers: 4\n",
            "\u001b[34m\u001b[1mwandb\u001b[0m: \toptimizer: nadam\n",
            "\u001b[34m\u001b[1mwandb\u001b[0m: \tweight_decay: 0.5\n",
            "\u001b[34m\u001b[1mwandb\u001b[0m: \tweight_init: Xavier\n"
          ]
        },
        {
          "output_type": "display_data",
          "data": {
            "text/plain": [
              "<IPython.core.display.HTML object>"
            ],
            "text/html": [
              "Tracking run with wandb version 0.19.8"
            ]
          },
          "metadata": {}
        },
        {
          "output_type": "display_data",
          "data": {
            "text/plain": [
              "<IPython.core.display.HTML object>"
            ],
            "text/html": [
              "Run data is saved locally in <code>/content/wandb/run-20250317_142420-s2bpmigp</code>"
            ]
          },
          "metadata": {}
        },
        {
          "output_type": "display_data",
          "data": {
            "text/plain": [
              "<IPython.core.display.HTML object>"
            ],
            "text/html": [
              "Syncing run <strong><a href='https://wandb.ai/arunangshudutta218-iitm/dl_assgn_1_q_8/runs/s2bpmigp' target=\"_blank\">prime-sweep-72</a></strong> to <a href='https://wandb.ai/arunangshudutta218-iitm/dl_assgn_1_q_8' target=\"_blank\">Weights & Biases</a> (<a href='https://wandb.me/developer-guide' target=\"_blank\">docs</a>)<br>Sweep page: <a href='https://wandb.ai/arunangshudutta218-iitm/dl_assgn_1_q_8/sweeps/28yyx0vh' target=\"_blank\">https://wandb.ai/arunangshudutta218-iitm/dl_assgn_1_q_8/sweeps/28yyx0vh</a>"
            ]
          },
          "metadata": {}
        },
        {
          "output_type": "display_data",
          "data": {
            "text/plain": [
              "<IPython.core.display.HTML object>"
            ],
            "text/html": [
              " View project at <a href='https://wandb.ai/arunangshudutta218-iitm/dl_assgn_1_q_8' target=\"_blank\">https://wandb.ai/arunangshudutta218-iitm/dl_assgn_1_q_8</a>"
            ]
          },
          "metadata": {}
        },
        {
          "output_type": "display_data",
          "data": {
            "text/plain": [
              "<IPython.core.display.HTML object>"
            ],
            "text/html": [
              " View sweep at <a href='https://wandb.ai/arunangshudutta218-iitm/dl_assgn_1_q_8/sweeps/28yyx0vh' target=\"_blank\">https://wandb.ai/arunangshudutta218-iitm/dl_assgn_1_q_8/sweeps/28yyx0vh</a>"
            ]
          },
          "metadata": {}
        },
        {
          "output_type": "display_data",
          "data": {
            "text/plain": [
              "<IPython.core.display.HTML object>"
            ],
            "text/html": [
              " View run at <a href='https://wandb.ai/arunangshudutta218-iitm/dl_assgn_1_q_8/runs/s2bpmigp' target=\"_blank\">https://wandb.ai/arunangshudutta218-iitm/dl_assgn_1_q_8/runs/s2bpmigp</a>"
            ]
          },
          "metadata": {}
        },
        {
          "output_type": "stream",
          "name": "stdout",
          "text": [
            "Hyper parameters: \n",
            "\n",
            "Weight initialization type :  Xavier\n",
            "Optimizer :  nadam\n",
            "Learning rate (initial):  0.0001\n",
            "Batch size:  32\n",
            "-------------------\n",
            "Architecture Description:\n",
            "\n",
            "Layer:  1  ; number of neurons:  64  ; activation function:  ReLU\n",
            "Weight matrix dimention (64, 784) Bias vector dimention (64, 1)\n",
            "----------------\n",
            "Layer:  2  ; number of neurons:  64  ; activation function:  ReLU\n",
            "Weight matrix dimention (64, 64) Bias vector dimention (64, 1)\n",
            "----------------\n",
            "Layer:  3  ; number of neurons:  64  ; activation function:  ReLU\n",
            "Weight matrix dimention (64, 64) Bias vector dimention (64, 1)\n",
            "----------------\n",
            "Layer:  4  ; number of neurons:  64  ; activation function:  ReLU\n",
            "Weight matrix dimention (64, 64) Bias vector dimention (64, 1)\n",
            "----------------\n",
            "Layer:  5  ; number of neurons:  10  ; activation function:  softmax\n",
            "Weight matrix dimention (10, 64) Bias vector dimention (10, 1)\n",
            "----------------\n",
            "1312.0\n",
            "\n",
            " Start of training\n",
            "CE Training Loss:  2.3106319928769254 SE Training Loss:  0.45084934006126354 Training Accuracy:  11.488095238095237 CE Test Loss:  2.310916738659212 SE Test Loss:  0.45088288378778374 Testing Accuracy:  11.5\n",
            "Epoch:  1\n"
          ]
        },
        {
          "output_type": "stream",
          "name": "stderr",
          "text": [
            "100%|██████████| 1312/1312 [00:06<00:00, 196.05it/s]\n"
          ]
        },
        {
          "output_type": "stream",
          "name": "stdout",
          "text": [
            "CE Training Loss:  1.423761169723001 SE Training Loss:  0.2602777012080058 Training Accuracy:  64.50238095238095 CE Test Loss:  1.4267404205848975 SE Test Loss:  0.26098599670685374 Testing Accuracy:  64.40555555555555\n",
            "Epoch:  2\n"
          ]
        },
        {
          "output_type": "stream",
          "name": "stderr",
          "text": [
            "100%|██████████| 1312/1312 [00:06<00:00, 194.58it/s]\n"
          ]
        },
        {
          "output_type": "stream",
          "name": "stdout",
          "text": [
            "CE Training Loss:  1.287912153785446 SE Training Loss:  0.24857124134878372 Training Accuracy:  63.18333333333333 CE Test Loss:  1.2855698113897758 SE Test Loss:  0.2474417570736898 Testing Accuracy:  63.48888888888889\n",
            "Epoch:  3\n"
          ]
        },
        {
          "output_type": "stream",
          "name": "stderr",
          "text": [
            "100%|██████████| 1312/1312 [00:06<00:00, 207.20it/s]\n"
          ]
        },
        {
          "output_type": "stream",
          "name": "stdout",
          "text": [
            "CE Training Loss:  nan SE Training Loss:  nan Training Accuracy:  10.073809523809524 CE Test Loss:  nan SE Test Loss:  nan Testing Accuracy:  9.827777777777778\n",
            "Epoch:  4\n"
          ]
        },
        {
          "output_type": "stream",
          "name": "stderr",
          "text": [
            "100%|██████████| 1312/1312 [00:06<00:00, 191.95it/s]\n"
          ]
        },
        {
          "output_type": "stream",
          "name": "stdout",
          "text": [
            "CE Training Loss:  nan SE Training Loss:  nan Training Accuracy:  10.073809523809524 CE Test Loss:  nan SE Test Loss:  nan Testing Accuracy:  9.827777777777778\n",
            "Epoch:  5\n"
          ]
        },
        {
          "output_type": "stream",
          "name": "stderr",
          "text": [
            "100%|██████████| 1312/1312 [00:05<00:00, 226.71it/s]\n"
          ]
        },
        {
          "output_type": "stream",
          "name": "stdout",
          "text": [
            "CE Training Loss:  nan SE Training Loss:  nan Training Accuracy:  10.073809523809524 CE Test Loss:  nan SE Test Loss:  nan Testing Accuracy:  9.827777777777778\n"
          ]
        },
        {
          "output_type": "display_data",
          "data": {
            "text/plain": [
              "<IPython.core.display.HTML object>"
            ],
            "text/html": []
          },
          "metadata": {}
        },
        {
          "output_type": "display_data",
          "data": {
            "text/plain": [
              "<IPython.core.display.HTML object>"
            ],
            "text/html": [
              "<br>    <style><br>        .wandb-row {<br>            display: flex;<br>            flex-direction: row;<br>            flex-wrap: wrap;<br>            justify-content: flex-start;<br>            width: 100%;<br>        }<br>        .wandb-col {<br>            display: flex;<br>            flex-direction: column;<br>            flex-basis: 100%;<br>            flex: 1;<br>            padding: 10px;<br>        }<br>    </style><br><div class=\"wandb-row\"><div class=\"wandb-col\"><h3>Run history:</h3><br/><table class=\"wandb\"><tr><td>tr_accuracy</td><td>▁██▁▁▁</td></tr><tr><td>tr_loss_CE</td><td>█▂▁   </td></tr><tr><td>tr_loss_SE</td><td>█▁▁   </td></tr><tr><td>val_accuracy</td><td>▁██▁▁▁</td></tr><tr><td>val_loss_CE</td><td>█▂▁   </td></tr><tr><td>val_loss_SE</td><td>█▁▁   </td></tr></table><br/></div><div class=\"wandb-col\"><h3>Run summary:</h3><br/><table class=\"wandb\"><tr><td>tr_accuracy</td><td>10.07381</td></tr><tr><td>tr_loss_CE</td><td>nan</td></tr><tr><td>tr_loss_SE</td><td>nan</td></tr><tr><td>val_accuracy</td><td>9.82778</td></tr><tr><td>val_loss_CE</td><td>nan</td></tr><tr><td>val_loss_SE</td><td>nan</td></tr></table><br/></div></div>"
            ]
          },
          "metadata": {}
        },
        {
          "output_type": "display_data",
          "data": {
            "text/plain": [
              "<IPython.core.display.HTML object>"
            ],
            "text/html": [
              " View run <strong style=\"color:#cdcd00\">e_5_hl_4_hs_64_lr_0.0001_opt_nadam_bs_32_init_Xavier_ac_ReLU_l2_0.5</strong> at: <a href='https://wandb.ai/arunangshudutta218-iitm/dl_assgn_1_q_8/runs/s2bpmigp' target=\"_blank\">https://wandb.ai/arunangshudutta218-iitm/dl_assgn_1_q_8/runs/s2bpmigp</a><br> View project at: <a href='https://wandb.ai/arunangshudutta218-iitm/dl_assgn_1_q_8' target=\"_blank\">https://wandb.ai/arunangshudutta218-iitm/dl_assgn_1_q_8</a><br>Synced 5 W&B file(s), 0 media file(s), 0 artifact file(s) and 0 other file(s)"
            ]
          },
          "metadata": {}
        },
        {
          "output_type": "display_data",
          "data": {
            "text/plain": [
              "<IPython.core.display.HTML object>"
            ],
            "text/html": [
              "Find logs at: <code>./wandb/run-20250317_142420-s2bpmigp/logs</code>"
            ]
          },
          "metadata": {}
        },
        {
          "output_type": "stream",
          "name": "stderr",
          "text": [
            "\u001b[34m\u001b[1mwandb\u001b[0m: Sweep Agent: Waiting for job.\n",
            "\u001b[34m\u001b[1mwandb\u001b[0m: Sweep Agent: Exiting.\n"
          ]
        }
      ]
    },
    {
      "cell_type": "code",
      "source": [],
      "metadata": {
        "id": "44KHLNzfPks9"
      },
      "execution_count": null,
      "outputs": []
    }
  ]
}