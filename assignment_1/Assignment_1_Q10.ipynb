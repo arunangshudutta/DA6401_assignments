{
  "nbformat": 4,
  "nbformat_minor": 0,
  "metadata": {
    "colab": {
      "provenance": [],
      "authorship_tag": "ABX9TyMrYyNUDCQg9r+AGHHW01+M",
      "include_colab_link": true
    },
    "kernelspec": {
      "name": "python3",
      "display_name": "Python 3"
    },
    "language_info": {
      "name": "python"
    }
  },
  "cells": [
    {
      "cell_type": "markdown",
      "metadata": {
        "id": "view-in-github",
        "colab_type": "text"
      },
      "source": [
        "<a href=\"https://colab.research.google.com/github/arunangshudutta/DA6401_assignments/blob/main/assignment_1/Assignment_1_Q10.ipynb\" target=\"_parent\"><img src=\"https://colab.research.google.com/assets/colab-badge.svg\" alt=\"Open In Colab\"/></a>"
      ]
    },
    {
      "cell_type": "code",
      "execution_count": null,
      "metadata": {
        "id": "JKmHRNQPbYEB"
      },
      "outputs": [],
      "source": [
        "import matplotlib.pyplot as plt\n",
        "import numpy as np\n",
        "from tqdm import tqdm\n",
        "import warnings\n",
        "warnings.filterwarnings('ignore', category=RuntimeWarning)\n",
        "\n",
        "from keras.datasets import fashion_mnist\n",
        "from tensorflow.keras.datasets import mnist\n",
        "from sklearn.model_selection import train_test_split\n",
        "\n",
        "import wandb"
      ]
    },
    {
      "cell_type": "code",
      "source": [
        "def weights_initialization(num_neurons, initializer):\n",
        "  \"\"\"\n",
        "  num_neurons = list of number of neurons at each layer starting from the input layer and ending at output layer\n",
        "  initializer = 'random' or 'xavier'\n",
        "\n",
        "  Returns: initialized weight matrices and bias vectors\n",
        "  \"\"\"\n",
        "  mean=0\n",
        "  std_dev=1\n",
        "\n",
        "  W_matrices = []\n",
        "  b_vectors = []\n",
        "\n",
        "  for i in range(len(num_neurons)-1):\n",
        "    rows = num_neurons[i+1]\n",
        "    cols = num_neurons[i]\n",
        "\n",
        "    if initializer == 'random':\n",
        "\n",
        "      weight_matrix = np.random.normal(mean, std_dev, size=(rows, cols))\n",
        "\n",
        "    elif initializer == 'Xavier':\n",
        "\n",
        "      upper_bound = np.sqrt(6.0/(rows + cols))\n",
        "      lower_bound = -1*upper_bound\n",
        "      weight_matrix = np.random.uniform(low = lower_bound, high = upper_bound, size = (rows, cols))\n",
        "\n",
        "    else:\n",
        "      print('initializer invalid')\n",
        "\n",
        "\n",
        "    bias_vector = np.zeros((rows,1))\n",
        "\n",
        "    W_matrices.append(weight_matrix)\n",
        "    b_vectors.append(bias_vector)\n",
        "\n",
        "\n",
        "  return W_matrices, b_vectors\n",
        "\n",
        "################################################################################\n",
        "\n",
        "# ACTIVATION FUNCTIONS\n",
        "def relu(x):\n",
        "  \"\"\"\n",
        "  Rectified Linear Unit (ReLU) activation function\n",
        "  \"\"\"\n",
        "  return np.maximum(0, x)\n",
        "\n",
        "def sigmoid(x):\n",
        "  \"\"\"\n",
        "  Sigmoid activation function\n",
        "  \"\"\"\n",
        "  # x = np.float128(x)\n",
        "  return 1 / (1 + np.exp(-x))\n",
        "\n",
        "def tanh(x):\n",
        "  \"\"\"\n",
        "  Hyperbolic tangent (tanh) activation function\n",
        "  \"\"\"\n",
        "  # x = np.float128(x)\n",
        "  return np.tanh(x)\n",
        "def softmax(x):\n",
        "\n",
        "  \"\"\"\n",
        "  Softmax function for output layer\n",
        "  \"\"\"\n",
        "  # x = np.float128(x)\n",
        "  return np.exp(x) / np.sum(np.exp(x), axis=0)\n",
        "\n",
        "def activation_output(x, activation_function):\n",
        "  \"\"\"\n",
        "  activation_function = 'ReLU', 'sigmoid', 'tanh'\n",
        "  \"\"\"\n",
        "  if activation_function == 'ReLU':\n",
        "    return relu(x)\n",
        "  elif activation_function == 'sigmoid':\n",
        "    return sigmoid(x)\n",
        "  elif activation_function == 'tanh':\n",
        "    return tanh(x)\n",
        "  elif activation_function == 'softmax':\n",
        "    return softmax(x)\n",
        "  else:\n",
        "    print('activation function invalid')\n",
        "\n",
        "# DERIVATIVE OF ACTIVATION FUNCTION\n",
        "def sigmoid_derivative(x):\n",
        "  s = sigmoid(x)\n",
        "  return s * (1 - s)\n",
        "\n",
        "def tanh_derivative(x):\n",
        "  t = tanh(x)\n",
        "  return 1 - t**2\n",
        "\n",
        "def relu_derivative(x):\n",
        "  return 1*(x>0)\n",
        "\n",
        "def activation_derivative(x, activation_function):\n",
        "  \"\"\"\n",
        "  activation_function = 'ReLU', 'sigmoid', 'tanh'\n",
        "  \"\"\"\n",
        "  if activation_function == 'ReLU':\n",
        "    return relu_derivative(x)\n",
        "  elif activation_function == 'sigmoid':\n",
        "    return sigmoid_derivative(x)\n",
        "  elif activation_function == 'tanh':\n",
        "    return tanh_derivative(x)\n",
        "  else:\n",
        "    print('activation function invalid')\n",
        "\n",
        "################################################################################\n",
        "\n",
        "def layer_output_FP(x, weight_matrix, bias_vector, activation_function):\n",
        "  pre_activation = np.add(np.matmul(weight_matrix, x), bias_vector)\n",
        "  post_activation = activation_output(pre_activation, activation_function)\n",
        "  return pre_activation, post_activation\n",
        "\n",
        "def forward_propagation(ip_data, W_matrices, b_vectors, activation_functions):\n",
        "  \"\"\"\n",
        "  forward propagation\n",
        "  \"\"\"\n",
        "\n",
        "  layer_op = []\n",
        "  layer_op.append(ip_data)\n",
        "\n",
        "  layer_ip = []\n",
        "\n",
        "  for i in range(len(W_matrices)):\n",
        "\n",
        "    weight_matrix = W_matrices[i]\n",
        "    bias_vector = b_vectors[i]\n",
        "\n",
        "    activation_function = activation_functions[i]\n",
        "\n",
        "    pre_activation, post_activation = layer_output_FP(layer_op[i], weight_matrix, bias_vector, activation_function)\n",
        "\n",
        "    layer_op.append(post_activation)\n",
        "    layer_ip.append(pre_activation)\n",
        "\n",
        "  return layer_ip, layer_op\n",
        "\n",
        "################################################################################\n",
        "\n",
        "def back_propagation(W_matrices, b_vectors, y_true, layer_ip, layer_op, activation_functions, batch_size, w_d):\n",
        "\n",
        "  DWs = []\n",
        "  Dbs = []\n",
        "  for i in range(len(W_matrices)):\n",
        "    k = len(W_matrices) - i\n",
        "\n",
        "    if k == len(W_matrices):\n",
        "      Da = -np.add(y_true, -layer_op[k])\n",
        "      Dw = (np.matmul(Da, layer_op[k-1].T) + w_d*W_matrices[k-1])/batch_size\n",
        "    else:\n",
        "\n",
        "      Dh = np.matmul(W_matrices[k].T, Da)\n",
        "      Dg = activation_derivative(layer_ip[k-1], activation_functions[k-1])\n",
        "      Da = np.multiply(Dh, Dg)\n",
        "      Dw = (np.matmul(Da, layer_op[k-1].T) + w_d*W_matrices[k-1])/batch_size\n",
        "    Db = np.sum(Da, axis=1, keepdims=True)/batch_size\n",
        "\n",
        "    DWs.append(Dw)\n",
        "    Dbs.append(Db)\n",
        "\n",
        "  return DWs, Dbs\n",
        "\n",
        "\n",
        "################################################################################\n",
        "\n",
        "\n",
        "def update_weights_gd(W_matrices, b_vectors, DWs, Dbs, learning_rate = 0.1):\n",
        "\n",
        "  DWs.reverse()\n",
        "  Dbs.reverse()\n",
        "\n",
        "  for i in range(len(DWs)):\n",
        "\n",
        "    W_matrices[i] = W_matrices[i] - learning_rate*DWs[i]\n",
        "    b_vectors[i] = b_vectors[i] - learning_rate*Dbs[i]\n",
        "  return W_matrices, b_vectors\n",
        "\n",
        "def update_weights_momentum(W_matrices, b_vectors, DWs, Dbs, u_past_w, u_past_b, learning_rate = 0.1, beta = 0.5):\n",
        "  DWs.reverse()\n",
        "  Dbs.reverse()\n",
        "  u_w = u_past_w\n",
        "  u_b = u_past_b\n",
        "  for i in range(len(DWs)):\n",
        "\n",
        "    u_w[i] = beta*u_past_w[i] + DWs[i]\n",
        "    u_b[i] = beta*u_past_b[i] + Dbs[i]\n",
        "\n",
        "    W_matrices[i] = W_matrices[i] - learning_rate*u_w[i]\n",
        "    b_vectors[i] = b_vectors[i] - learning_rate*u_b[i]\n",
        "\n",
        "  return W_matrices, b_vectors, u_w, u_b\n",
        "\n",
        "def update_weights_adagrad(W_matrices, b_vectors, DWs, Dbs, u_past_w, u_past_b, learning_rate = 0.1):\n",
        "  DWs.reverse()\n",
        "  Dbs.reverse()\n",
        "\n",
        "  u_w = u_past_w\n",
        "  u_b = u_past_b\n",
        "  eps = 1e-8\n",
        "  for i in range(len(DWs)):\n",
        "    u_w[i] = u_past_w[i] + DWs[i]**2\n",
        "    u_b[i] = u_past_b[i] + Dbs[i]**2\n",
        "\n",
        "    W_matrices[i] = W_matrices[i] - learning_rate*DWs[i]/(np.sqrt(u_w[i]) + eps)\n",
        "    b_vectors[i] = b_vectors[i] - learning_rate*Dbs[i]/(np.sqrt(u_b[i]) + eps)\n",
        "\n",
        "  return W_matrices, b_vectors, u_w, u_b\n",
        "\n",
        "def update_weights_rmsprop(W_matrices, b_vectors, DWs, Dbs, u_past_w, u_past_b, learning_rate = 0.1, beta = 0.5):\n",
        "  DWs.reverse()\n",
        "  Dbs.reverse()\n",
        "\n",
        "  u_w = u_past_w\n",
        "  u_b = u_past_b\n",
        "  eps = 1e-8\n",
        "  for i in range(len(DWs)):\n",
        "    u_w[i] = beta*u_past_w[i] + (1-beta)*DWs[i]**2\n",
        "    u_b[i] = beta*u_past_b[i] + (1-beta)*Dbs[i]**2\n",
        "\n",
        "    W_matrices[i] = W_matrices[i] - learning_rate*DWs[i]/(np.sqrt(u_w[i]) + eps)\n",
        "    b_vectors[i] = b_vectors[i] - learning_rate*Dbs[i]/(np.sqrt(u_b[i]) + eps)\n",
        "\n",
        "  return W_matrices, b_vectors, u_w, u_b\n",
        "\n",
        "def update_weights_adam(W_matrices, b_vectors, DWs, Dbs, mw_past, mb_past, vw_past, vb_past, t, learning_rate = 0.1, beta1 = 0.5, beta2 =0.5):\n",
        "  DWs.reverse()\n",
        "  Dbs.reverse()\n",
        "  mw = mw_past\n",
        "  mb = mb_past\n",
        "  vw = vw_past\n",
        "  vb = vb_past\n",
        "  eps = 1e-8\n",
        "\n",
        "  for i in range(len(DWs)):\n",
        "    mw[i] = beta1*mw_past[i] + (1-beta1)*DWs[i]\n",
        "    mb[i] = beta1*mb_past[i] + (1-beta1)*Dbs[i]\n",
        "\n",
        "    mw_cap = mw[i]/(1 - beta1**t)\n",
        "    mb_cap = mb[i]/(1 - beta1**t)\n",
        "\n",
        "    vw[i] = beta2*vw_past[i] + (1-beta2)*DWs[i]**2\n",
        "    vb[i] = beta2*vb_past[i] + (1-beta2)*Dbs[i]**2\n",
        "    vw_cap = vw[i]/(1 - beta2**t)\n",
        "    vb_cap = vb[i]/(1 - beta2**t)\n",
        "\n",
        "    W_matrices[i] = W_matrices[i] - learning_rate*mw_cap/(np.sqrt(vw_cap) + eps)\n",
        "    b_vectors[i] = b_vectors[i] - learning_rate*mb_cap/(np.sqrt(vb_cap) + eps)\n",
        "\n",
        "  return W_matrices, b_vectors, mw, mb, vw, vb\n",
        "\n",
        "def update_weights_nadam(W_matrices, b_vectors, DWs, Dbs, mw_past, mb_past, vw_past, vb_past,t,  learning_rate = 0.1, beta1 = 0.5, beta2 =0.5):\n",
        "  DWs.reverse()\n",
        "  Dbs.reverse()\n",
        "  mw = mw_past\n",
        "  mb = mb_past\n",
        "  vw = vw_past\n",
        "  vb = vb_past\n",
        "  eps = 1e-8\n",
        "\n",
        "  for i in range(len(DWs)):\n",
        "    mw[i] = beta1*mw_past[i] + (1-beta1)*DWs[i]\n",
        "    mb[i] = beta1*mb_past[i] + (1-beta1)*Dbs[i]\n",
        "\n",
        "    mw_cap = mw[i]/(1 - beta1**(t+1))\n",
        "    mb_cap = mb[i]/(1 - beta1**(t+1))\n",
        "\n",
        "    vw[i] = beta2*vw_past[i] + (1-beta2)*DWs[i]**2\n",
        "    vb[i] = beta2*vb_past[i] + (1-beta2)*Dbs[i]**2\n",
        "    vw_cap = vw[i]/(1 - beta2**(t+1))\n",
        "    vb_cap = vb[i]/(1 - beta2**(t+1))\n",
        "\n",
        "    W_matrices[i] = W_matrices[i] - learning_rate*(beta1*mw_cap + ((1-beta1)/(1 - beta1**(t+1)))*DWs[i])/(np.sqrt(vw_cap) + eps)\n",
        "    b_vectors[i] = b_vectors[i] - learning_rate*(beta1*mb_cap + ((1-beta1)/(1 - beta1**(t+1)))*Dbs[i])/(np.sqrt(vb_cap) + eps)\n",
        "\n",
        "  return W_matrices, b_vectors, mw, mb, vw, vb\n",
        "\n",
        "def look_ahead_nag(W_s, b_s, u_past_w, u_past_b, beta = 0.5):\n",
        "  for i in range(len(W_s)):\n",
        "    W_s[i] = W_s[i] - beta*u_past_w[i]\n",
        "    b_s[i] = b_s[i] - beta*u_past_b[i]\n",
        "  return W_s, b_s\n",
        "\n",
        "################################################################################\n",
        "\n",
        "\n",
        "def one_hot_encode(integers, num_classes=None):\n",
        "  if num_classes is None:\n",
        "      num_classes = np.max(integers) + 1\n",
        "  return np.eye(num_classes)[integers]\n",
        "\n",
        "def cross_entropy_loss(y_true, y_pred, batch_size):\n",
        "  # Clip the predicted probabilities to avoid numerical instability\n",
        "  y_pred = np.clip(y_pred, 1e-15, 1 - 1e-15)\n",
        "  loss_value = np.sum(np.sum(y_true*np.log(y_pred), axis=0))/batch_size\n",
        "  return loss_value*(-1)\n",
        "\n",
        "\n",
        "\n",
        "def accuracy(y_true, y_pred, batch_size):\n",
        "  n_correct = 0\n",
        "  for i in range(0, batch_size, 1) :\n",
        "    if y_true[:,i].argmax() == y_pred[:,i].argmax() :\n",
        "      n_correct += 1\n",
        "  return 100 * n_correct / batch_size\n",
        "\n",
        "################################################################################\n",
        "\n",
        "def load_split_dataset(test_ratio=0.3):\n",
        "  # Load Fashion MNIST dataset\n",
        "  (train_images, train_labels), (test_images, test_labels) = mnist.load_data()\n",
        "\n",
        "  # Split the training set into training and validation sets\n",
        "  X_train, X_val, Y_train, Y_val = train_test_split(train_images, train_labels, test_size=test_ratio, random_state=42)\n",
        "\n",
        "  data_size = X_train.shape[0]\n",
        "  X_train = (X_train.reshape(data_size, -1).T)/255\n",
        "  Y_train = one_hot_encode(Y_train, 10).T\n",
        "\n",
        "  data_size = X_val.shape[0]\n",
        "  X_val = (X_val.reshape(data_size, -1).T)/255\n",
        "  Y_val = one_hot_encode(Y_val, 10).T\n",
        "\n",
        "  data_size = test_images.shape[0]\n",
        "  X_test = (test_images.reshape(data_size, -1).T)/255\n",
        "  Y_test = one_hot_encode(test_labels, 10).T\n",
        "\n",
        "  return X_train, Y_train, X_val, Y_val, X_test, Y_test\n"
      ],
      "metadata": {
        "id": "XMCJqn_wb1Kw"
      },
      "execution_count": null,
      "outputs": []
    },
    {
      "cell_type": "code",
      "source": [
        "\n",
        "def train_model(X_train,Y_train, X_test, Y_test, epoch=1,batch_size=25, num_neurons_hidden = [10], activation_functions = ['sigmoid'],\n",
        "                weights_init_type='random', optimizer = 'sgd', learning_rate = 0.1, opti_beta = [0.5, 0.5], w_d = 0, plot_acc_loss = False):\n",
        "\n",
        "  \"\"\"\n",
        "  X has shape (number of features, number of samples in train data set)\n",
        "  Y has shape (number of classes, number of samples in train data set)\n",
        "\n",
        "  num_neurons_hidden = list of number of neurons at each hidden layer\n",
        "\n",
        "  \"\"\"\n",
        "  num_ip_neurons = X_train.shape[0]\n",
        "  num_op_neurons = Y_train.shape[0]\n",
        "  num_neurons = [num_ip_neurons] + num_neurons_hidden + [num_op_neurons]\n",
        "  activation_functions = activation_functions + ['softmax']\n",
        "\n",
        "  W_s, b_s = weights_initialization(num_neurons, weights_init_type)\n",
        "  print('Hyper parameters: \\n')\n",
        "  print(\"Weight initialization type : \", weights_init_type)\n",
        "  print(\"Optimizer : \", optimizer)\n",
        "  print(\"Learning rate (initial): \", learning_rate)\n",
        "  print(\"Batch size: \", batch_size)\n",
        "  print(\"-------------------\")\n",
        "  print(\"Architecture Description:\\n\")\n",
        "\n",
        "  for i in range(len(num_neurons)-1):\n",
        "    print(\"Layer: \", i+1, \" ; number of neurons: \", num_neurons[i+1], \" ; activation function: \", activation_functions[i])\n",
        "    print(\"Weight matrix dimention\", W_s[i].shape, \"Bias vector dimention\", b_s[i].shape)\n",
        "    print(\"----------------\")\n",
        "\n",
        "  num_batches = np.floor(X_train.shape[1]/batch_size)\n",
        "  print(num_batches)\n",
        "\n",
        "\n",
        "  if optimizer == 'momentum':\n",
        "    u_past_w = [x * 0 for x in W_s]\n",
        "    u_past_b = [x * 0 for x in b_s]\n",
        "\n",
        "  elif optimizer == 'nag':\n",
        "    u_past_w = [x * 0 for x in W_s]\n",
        "    u_past_b = [x * 0 for x in b_s]\n",
        "\n",
        "  elif optimizer == 'rmsprop':\n",
        "    u_past_w = [x * 0 for x in W_s]\n",
        "    u_past_b = [x * 0 for x in b_s]\n",
        "\n",
        "  elif optimizer == 'adagrad':\n",
        "    u_past_w = [x * 0 for x in W_s]\n",
        "    u_past_b = [x * 0 for x in b_s]\n",
        "\n",
        "  elif optimizer == 'adam':\n",
        "    mw_past = [x * 0 for x in W_s]\n",
        "    mb_past = [x * 0 for x in b_s]\n",
        "    vw_past = [x * 0 for x in W_s]\n",
        "    vb_past = [x * 0 for x in b_s]\n",
        "    t = 1\n",
        "\n",
        "  elif optimizer == 'nadam':\n",
        "    mw_past = [x * 0 for x in W_s]\n",
        "    mb_past = [x * 0 for x in b_s]\n",
        "    vw_past = [x * 0 for x in W_s]\n",
        "    vb_past = [x * 0 for x in b_s]\n",
        "    t = 1\n",
        "\n",
        "  print('\\n Start of training')\n",
        "\n",
        "  ip_all, op_all = forward_propagation(X_train, W_s, b_s, activation_functions)\n",
        "  loss_tr = cross_entropy_loss(Y_train, op_all[-1], X_train.shape[1])\n",
        "  acc_tr = accuracy(Y_train, op_all[-1], Y_train.shape[1])\n",
        "\n",
        "  ip_all, op_all = forward_propagation(X_test, W_s, b_s, activation_functions)\n",
        "  loss_ts = cross_entropy_loss(Y_test, op_all[-1], X_test.shape[1])\n",
        "  acc_ts = accuracy(Y_test, op_all[-1], Y_test.shape[1])\n",
        "\n",
        "  print(\"Training Loss: \", loss_tr, \"Training Accuracy: \", acc_tr, \"Test Loss: \", loss_ts, \"Testing Accuracy: \", acc_ts)\n",
        "\n",
        "  wandb.log({'tr_loss' : loss_tr, 'tr_accuracy' : acc_tr, 'val_loss' : loss_ts, 'val_accuracy' : acc_ts})\n",
        "\n",
        "  train_loss = np.array([loss_tr])\n",
        "  train_acc = np.array([acc_tr])\n",
        "\n",
        "  val_loss = np.array([loss_ts])\n",
        "  val_acc = np.array([acc_ts])\n",
        "\n",
        "  for i in range(epoch):\n",
        "    print('Epoch: ', i+1)\n",
        "\n",
        "    for j in tqdm(range(int(num_batches))):\n",
        "      batch_X = X_train[:,j*batch_size:(j+1)*batch_size]\n",
        "      batch_Y = Y_train[:,j*batch_size:(j+1)*batch_size]\n",
        "\n",
        "\n",
        "      if optimizer == 'sgd':\n",
        "        ip, op = forward_propagation(batch_X, W_s, b_s, activation_functions)\n",
        "        DWs, Dbs = back_propagation(W_s, b_s, batch_Y, ip, op, activation_functions, batch_size, w_d)\n",
        "        W_s, b_s = update_weights_gd(W_s, b_s, DWs, Dbs, learning_rate)\n",
        "\n",
        "      elif optimizer == 'momentum':\n",
        "        ip, op = forward_propagation(batch_X, W_s, b_s, activation_functions)\n",
        "        DWs, Dbs = back_propagation(W_s, b_s, batch_Y, ip, op, activation_functions, batch_size, w_d)\n",
        "        W_s, b_s, u_past_w, u_past_b  = update_weights_momentum(W_s, b_s, DWs, Dbs, u_past_w, u_past_b, learning_rate, opti_beta[0])\n",
        "\n",
        "      elif optimizer == 'adagrad':\n",
        "        ip, op = forward_propagation(batch_X, W_s, b_s, activation_functions)\n",
        "        DWs, Dbs = back_propagation(W_s, b_s, batch_Y, ip, op, activation_functions, batch_size, w_d)\n",
        "        W_s, b_s, u_past_w, u_past_b  = update_weights_adagrad(W_s, b_s, DWs, Dbs, u_past_w, u_past_b, learning_rate)\n",
        "\n",
        "      elif optimizer == 'rmsprop':\n",
        "        ip, op = forward_propagation(batch_X, W_s, b_s, activation_functions)\n",
        "        DWs, Dbs = back_propagation(W_s, b_s, batch_Y, ip, op, activation_functions, batch_size, w_d)\n",
        "        W_s, b_s, u_past_w, u_past_b  = update_weights_rmsprop(W_s, b_s, DWs, Dbs, u_past_w, u_past_b, learning_rate, opti_beta[0])\n",
        "\n",
        "      elif optimizer == 'adam':\n",
        "        ip, op = forward_propagation(batch_X, W_s, b_s, activation_functions)\n",
        "        DWs, Dbs = back_propagation(W_s, b_s, batch_Y, ip, op, activation_functions, batch_size, w_d)\n",
        "        W_s, b_s, mw_past, mb_past, vw_past, vb_past = update_weights_adam(W_s, b_s, DWs, Dbs, mw_past, mb_past, vw_past, vb_past, t, learning_rate, opti_beta[0], opti_beta[1])\n",
        "        t =t +1\n",
        "\n",
        "      elif optimizer == 'nadam':\n",
        "        ip, op = forward_propagation(batch_X, W_s, b_s, activation_functions)\n",
        "        DWs, Dbs = back_propagation(W_s, b_s, batch_Y, ip, op, activation_functions, batch_size, w_d)\n",
        "        W_s, b_s, mw_past, mb_past, vw_past, vb_past = update_weights_nadam(W_s, b_s, DWs, Dbs, mw_past, mb_past, vw_past, vb_past, t, learning_rate, opti_beta[0], opti_beta[1])\n",
        "        t =t +1\n",
        "      elif optimizer == 'nag':\n",
        "        PWs, Pbs = look_ahead_nag(W_s, b_s, u_past_w, u_past_b, opti_beta[0])\n",
        "        ip, op = forward_propagation(batch_X, W_s, b_s, activation_functions)\n",
        "        DWs, Dbs = back_propagation(PWs, Pbs, batch_Y, ip, op, activation_functions, batch_size, w_d)\n",
        "        W_s, b_s, u_past_w, u_past_b  = update_weights_momentum(W_s, b_s, DWs, Dbs, u_past_w, u_past_b, learning_rate, opti_beta[0])\n",
        "\n",
        "\n",
        "    ip_all, op_all = forward_propagation(X_train, W_s, b_s, activation_functions)\n",
        "    loss_tr = cross_entropy_loss(Y_train, op_all[-1], X_train.shape[1])\n",
        "    acc_tr = accuracy(Y_train, op_all[-1], Y_train.shape[1])\n",
        "\n",
        "    ip_all, op_all = forward_propagation(X_test, W_s, b_s, activation_functions)\n",
        "    loss_ts = cross_entropy_loss(Y_test, op_all[-1], X_test.shape[1])\n",
        "    acc_ts = accuracy(Y_test, op_all[-1], Y_test.shape[1])\n",
        "\n",
        "    print(\"Training Loss: \", loss_tr, \"Training Accuracy: \", acc_tr, \"Test Loss: \", loss_ts, \"Testing Accuracy: \", acc_ts)\n",
        "\n",
        "    train_loss = np.append(train_loss, [loss_tr])\n",
        "    train_acc = np.append(train_acc, [acc_tr])\n",
        "\n",
        "    val_loss = np.append(val_loss, [loss_ts])\n",
        "    val_acc = np.append(val_acc, [acc_ts])\n",
        "\n",
        "    wandb.log({'tr_loss' : loss_tr, 'tr_accuracy' : acc_tr, 'val_loss' : loss_ts, 'val_accuracy' : acc_ts})\n",
        "\n",
        "  if plot_acc_loss == True:\n",
        "\n",
        "    fig, ax = plt.subplots()  # Create a figure and axes object\n",
        "    ax.plot(np.arange(0, epoch + 1, 1), train_acc, color='r', label='training')\n",
        "    ax.plot(np.arange(0, epoch + 1, 1), val_acc, color='g', label='validation')\n",
        "    ax.set_title(\"Accuracy\")  # Set title on the axes object\n",
        "    ax.legend()\n",
        "    plt.grid()\n",
        "    plt.show()\n",
        "\n",
        "    fig, ax = plt.subplots()  # Create a figure and axes object for the second plot\n",
        "    ax.plot(np.arange(0, epoch + 1, 1), train_loss, color='r', label='training')\n",
        "    ax.plot(np.arange(0, epoch + 1, 1), val_loss, color='g', label='validation')\n",
        "    ax.set_title(\"Loss\")  # Set title on the axes object\n",
        "    ax.legend()\n",
        "    plt.grid()\n",
        "    plt.show()\n",
        "\n"
      ],
      "metadata": {
        "id": "u6ip5u3Xb5OE"
      },
      "execution_count": null,
      "outputs": []
    },
    {
      "cell_type": "code",
      "source": [
        "wandb.init(project='dl_assgn_1_q_10')\n"
      ],
      "metadata": {
        "colab": {
          "base_uri": "https://localhost:8080/",
          "height": 38
        },
        "id": "Fq_p9Z7BdQvs",
        "outputId": "d8ae4a67-b93f-468f-e276-6f6567824484"
      },
      "execution_count": null,
      "outputs": [
        {
          "output_type": "execute_result",
          "data": {
            "text/html": [
              "<button onClick=\"this.nextSibling.style.display='block';this.style.display='none';\">Display W&B run</button><iframe src='https://wandb.ai/arunangshudutta218-iitm/dl_assgn_1_q_10/runs/dv3a98im?jupyter=true' style='border:none;width:100%;height:420px;display:none;'></iframe>"
            ],
            "text/plain": [
              "<wandb.sdk.wandb_run.Run at 0x7a49ccafc8d0>"
            ]
          },
          "metadata": {},
          "execution_count": 10
        }
      ]
    },
    {
      "cell_type": "code",
      "source": [
        "X_train, Y_train, X_val, Y_val, X_test, Y_test = load_split_dataset()"
      ],
      "metadata": {
        "id": "dxjjKbjPe493"
      },
      "execution_count": null,
      "outputs": []
    },
    {
      "cell_type": "code",
      "source": [
        "epochs = 10\n",
        "nhl = 4\n",
        "sz = 128\n",
        "w_d = 0.0005\n",
        "lr = 0.001\n",
        "optimizer = 'adam'\n",
        "b_sz = 64\n",
        "weight_init = 'Xavier'\n",
        "act_fun = 'ReLU'\n",
        "\n",
        "neuros_num = []\n",
        "act_func = []\n",
        "for i in range(nhl):\n",
        "  neuros_num.append(sz)\n",
        "  act_func.append(act_fun)\n",
        "\n",
        "Name = \"e_{}_hl_{}_hs_{}_lr_{}_opt_{}_bs_{}_init_{}_ac_{}_l2_{}\".format(epochs, nhl, sz, lr, optimizer, b_sz, weight_init, act_fun, w_d)\n",
        "\n",
        "run = wandb.init(\n",
        "    entity=\"arunangshudutta218-iitm\",  # Replace with your W&B entity (e.g., username or team name)\n",
        "    project='dl_assgn_1_q_10',  # Replace with your W&B project name\n",
        "    name= Name\n",
        ")\n",
        "\n",
        "\n",
        "train_model(X_train, Y_train, X_val, Y_val, epoch=epochs, batch_size=b_sz, num_neurons_hidden = neuros_num, activation_functions = act_func,\n",
        "                weights_init_type=weight_init, optimizer = optimizer, learning_rate = lr, opti_beta = [0.5, 0.5], w_d = w_d, plot_acc_loss = True)\n",
        "\n",
        "run.finish()"
      ],
      "metadata": {
        "colab": {
          "base_uri": "https://localhost:8080/",
          "height": 1000
        },
        "id": "_g4uG5d2cpjp",
        "outputId": "81d24133-10c1-4aaf-a775-562178035b5e"
      },
      "execution_count": null,
      "outputs": [
        {
          "output_type": "display_data",
          "data": {
            "text/plain": [
              "<IPython.core.display.HTML object>"
            ],
            "text/html": [
              "Tracking run with wandb version 0.19.8"
            ]
          },
          "metadata": {}
        },
        {
          "output_type": "display_data",
          "data": {
            "text/plain": [
              "<IPython.core.display.HTML object>"
            ],
            "text/html": [
              "Run data is saved locally in <code>/content/wandb/run-20250317_145317-m1jqd6hj</code>"
            ]
          },
          "metadata": {}
        },
        {
          "output_type": "display_data",
          "data": {
            "text/plain": [
              "<IPython.core.display.HTML object>"
            ],
            "text/html": [
              "Syncing run <strong><a href='https://wandb.ai/arunangshudutta218-iitm/dl_assgn_1_q_10/runs/m1jqd6hj' target=\"_blank\">e_10_hl_4_hs_128_lr_0.001_opt_adam_bs_64_init_Xavier_ac_ReLU_l2_0.0005</a></strong> to <a href='https://wandb.ai/arunangshudutta218-iitm/dl_assgn_1_q_10' target=\"_blank\">Weights & Biases</a> (<a href='https://wandb.me/developer-guide' target=\"_blank\">docs</a>)<br>"
            ]
          },
          "metadata": {}
        },
        {
          "output_type": "display_data",
          "data": {
            "text/plain": [
              "<IPython.core.display.HTML object>"
            ],
            "text/html": [
              " View project at <a href='https://wandb.ai/arunangshudutta218-iitm/dl_assgn_1_q_10' target=\"_blank\">https://wandb.ai/arunangshudutta218-iitm/dl_assgn_1_q_10</a>"
            ]
          },
          "metadata": {}
        },
        {
          "output_type": "display_data",
          "data": {
            "text/plain": [
              "<IPython.core.display.HTML object>"
            ],
            "text/html": [
              " View run at <a href='https://wandb.ai/arunangshudutta218-iitm/dl_assgn_1_q_10/runs/m1jqd6hj' target=\"_blank\">https://wandb.ai/arunangshudutta218-iitm/dl_assgn_1_q_10/runs/m1jqd6hj</a>"
            ]
          },
          "metadata": {}
        },
        {
          "output_type": "stream",
          "name": "stdout",
          "text": [
            "Hyper parameters: \n",
            "\n",
            "Weight initialization type :  Xavier\n",
            "Optimizer :  adam\n",
            "Learning rate (initial):  0.001\n",
            "Batch size:  64\n",
            "-------------------\n",
            "Architecture Description:\n",
            "\n",
            "Layer:  1  ; number of neurons:  128  ; activation function:  ReLU\n",
            "Weight matrix dimention (128, 784) Bias vector dimention (128, 1)\n",
            "----------------\n",
            "Layer:  2  ; number of neurons:  128  ; activation function:  ReLU\n",
            "Weight matrix dimention (128, 128) Bias vector dimention (128, 1)\n",
            "----------------\n",
            "Layer:  3  ; number of neurons:  128  ; activation function:  ReLU\n",
            "Weight matrix dimention (128, 128) Bias vector dimention (128, 1)\n",
            "----------------\n",
            "Layer:  4  ; number of neurons:  128  ; activation function:  ReLU\n",
            "Weight matrix dimention (128, 128) Bias vector dimention (128, 1)\n",
            "----------------\n",
            "Layer:  5  ; number of neurons:  10  ; activation function:  softmax\n",
            "Weight matrix dimention (10, 128) Bias vector dimention (10, 1)\n",
            "----------------\n",
            "656.0\n",
            "\n",
            " Start of training\n",
            "Training Loss:  2.3300220457823397 Training Accuracy:  9.926190476190476 Test Loss:  2.3318938493304007 Testing Accuracy:  10.094444444444445\n",
            "Epoch:  1\n"
          ]
        },
        {
          "output_type": "stream",
          "name": "stderr",
          "text": [
            "100%|██████████| 656/656 [00:05<00:00, 113.29it/s]\n"
          ]
        },
        {
          "output_type": "stream",
          "name": "stdout",
          "text": [
            "Training Loss:  0.16652676986204185 Training Accuracy:  95.00714285714285 Test Loss:  0.18642797152624335 Testing Accuracy:  94.43333333333334\n",
            "Epoch:  2\n"
          ]
        },
        {
          "output_type": "stream",
          "name": "stderr",
          "text": [
            "100%|██████████| 656/656 [00:04<00:00, 140.49it/s]\n"
          ]
        },
        {
          "output_type": "stream",
          "name": "stdout",
          "text": [
            "Training Loss:  0.11195848743646675 Training Accuracy:  96.70238095238095 Test Loss:  0.14637343471012582 Testing Accuracy:  95.76666666666667\n",
            "Epoch:  3\n"
          ]
        },
        {
          "output_type": "stream",
          "name": "stderr",
          "text": [
            "100%|██████████| 656/656 [00:06<00:00, 97.55it/s] \n"
          ]
        },
        {
          "output_type": "stream",
          "name": "stdout",
          "text": [
            "Training Loss:  0.09895412511066488 Training Accuracy:  97.18095238095238 Test Loss:  0.15077097928670377 Testing Accuracy:  96.05\n",
            "Epoch:  4\n"
          ]
        },
        {
          "output_type": "stream",
          "name": "stderr",
          "text": [
            "100%|██████████| 656/656 [00:12<00:00, 54.53it/s]\n"
          ]
        },
        {
          "output_type": "stream",
          "name": "stdout",
          "text": [
            "Training Loss:  0.10918196431488367 Training Accuracy:  97.22380952380952 Test Loss:  0.18010108045719037 Testing Accuracy:  96.07222222222222\n",
            "Epoch:  5\n"
          ]
        },
        {
          "output_type": "stream",
          "name": "stderr",
          "text": [
            "100%|██████████| 656/656 [00:14<00:00, 46.22it/s]\n"
          ]
        },
        {
          "output_type": "stream",
          "name": "stdout",
          "text": [
            "Training Loss:  0.06515708204607328 Training Accuracy:  98.22619047619048 Test Loss:  0.14163441954813857 Testing Accuracy:  96.84444444444445\n",
            "Epoch:  6\n"
          ]
        },
        {
          "output_type": "stream",
          "name": "stderr",
          "text": [
            "100%|██████████| 656/656 [00:14<00:00, 46.22it/s]\n"
          ]
        },
        {
          "output_type": "stream",
          "name": "stdout",
          "text": [
            "Training Loss:  0.08438162777963609 Training Accuracy:  97.88571428571429 Test Loss:  0.1816833093085966 Testing Accuracy:  96.40555555555555\n",
            "Epoch:  7\n"
          ]
        },
        {
          "output_type": "stream",
          "name": "stderr",
          "text": [
            "100%|██████████| 656/656 [00:14<00:00, 45.95it/s]\n"
          ]
        },
        {
          "output_type": "stream",
          "name": "stdout",
          "text": [
            "Training Loss:  0.07465330542325038 Training Accuracy:  98.16666666666667 Test Loss:  0.16627814664101018 Testing Accuracy:  96.71111111111111\n",
            "Epoch:  8\n"
          ]
        },
        {
          "output_type": "stream",
          "name": "stderr",
          "text": [
            "100%|██████████| 656/656 [00:14<00:00, 46.41it/s]\n"
          ]
        },
        {
          "output_type": "stream",
          "name": "stdout",
          "text": [
            "Training Loss:  0.09808047884613012 Training Accuracy:  97.72380952380952 Test Loss:  0.20096439034115887 Testing Accuracy:  96.18333333333334\n",
            "Epoch:  9\n"
          ]
        },
        {
          "output_type": "stream",
          "name": "stderr",
          "text": [
            "100%|██████████| 656/656 [00:13<00:00, 47.38it/s]\n"
          ]
        },
        {
          "output_type": "stream",
          "name": "stdout",
          "text": [
            "Training Loss:  0.07075711409535217 Training Accuracy:  98.50714285714285 Test Loss:  0.18224297236652895 Testing Accuracy:  96.92777777777778\n",
            "Epoch:  10\n"
          ]
        },
        {
          "output_type": "stream",
          "name": "stderr",
          "text": [
            "100%|██████████| 656/656 [00:14<00:00, 46.38it/s]\n"
          ]
        },
        {
          "output_type": "stream",
          "name": "stdout",
          "text": [
            "Training Loss:  0.0851356075277562 Training Accuracy:  98.17619047619047 Test Loss:  0.20760433137312173 Testing Accuracy:  96.64444444444445\n"
          ]
        },
        {
          "output_type": "display_data",
          "data": {
            "text/plain": [
              "<Figure size 640x480 with 1 Axes>"
            ],
            "image/png": "[encoded data removed]"
          },
          "metadata": {}
        },
        {
          "output_type": "display_data",
          "data": {
            "text/plain": [
              "<Figure size 640x480 with 1 Axes>"
            ],
            "image/png": "[encoded data removed]"
          },
          "metadata": {}
        },
        {
          "output_type": "display_data",
          "data": {
            "text/plain": [
              "<IPython.core.display.HTML object>"
            ],
            "text/html": []
          },
          "metadata": {}
        },
        {
          "output_type": "display_data",
          "data": {
            "text/plain": [
              "<IPython.core.display.HTML object>"
            ],
            "text/html": [
              "<br>    <style><br>        .wandb-row {<br>            display: flex;<br>            flex-direction: row;<br>            flex-wrap: wrap;<br>            justify-content: flex-start;<br>            width: 100%;<br>        }<br>        .wandb-col {<br>            display: flex;<br>            flex-direction: column;<br>            flex-basis: 100%;<br>            flex: 1;<br>            padding: 10px;<br>        }<br>    </style><br><div class=\"wandb-row\"><div class=\"wandb-col\"><h3>Run history:</h3><br/><table class=\"wandb\"><tr><td>tr_accuracy</td><td>▁██████████</td></tr><tr><td>tr_loss</td><td>█▁▁▁▁▁▁▁▁▁▁</td></tr><tr><td>val_accuracy</td><td>▁██████████</td></tr><tr><td>val_loss</td><td>█▁▁▁▁▁▁▁▁▁▁</td></tr></table><br/></div><div class=\"wandb-col\"><h3>Run summary:</h3><br/><table class=\"wandb\"><tr><td>tr_accuracy</td><td>98.17619</td></tr><tr><td>tr_loss</td><td>0.08514</td></tr><tr><td>val_accuracy</td><td>96.64444</td></tr><tr><td>val_loss</td><td>0.2076</td></tr></table><br/></div></div>"
            ]
          },
          "metadata": {}
        },
        {
          "output_type": "display_data",
          "data": {
            "text/plain": [
              "<IPython.core.display.HTML object>"
            ],
            "text/html": [
              " View run <strong style=\"color:#cdcd00\">e_10_hl_4_hs_128_lr_0.001_opt_adam_bs_64_init_Xavier_ac_ReLU_l2_0.0005</strong> at: <a href='https://wandb.ai/arunangshudutta218-iitm/dl_assgn_1_q_10/runs/m1jqd6hj' target=\"_blank\">https://wandb.ai/arunangshudutta218-iitm/dl_assgn_1_q_10/runs/m1jqd6hj</a><br> View project at: <a href='https://wandb.ai/arunangshudutta218-iitm/dl_assgn_1_q_10' target=\"_blank\">https://wandb.ai/arunangshudutta218-iitm/dl_assgn_1_q_10</a><br>Synced 5 W&B file(s), 0 media file(s), 0 artifact file(s) and 0 other file(s)"
            ]
          },
          "metadata": {}
        },
        {
          "output_type": "display_data",
          "data": {
            "text/plain": [
              "<IPython.core.display.HTML object>"
            ],
            "text/html": [
              "Find logs at: <code>./wandb/run-20250317_145317-m1jqd6hj/logs</code>"
            ]
          },
          "metadata": {}
        }
      ]
    },
    {
      "cell_type": "code",
      "source": [
        "epochs = 10\n",
        "nhl = 4\n",
        "sz = 128\n",
        "w_d = 0\n",
        "lr = 0.001\n",
        "optimizer = 'adam'\n",
        "b_sz = 64\n",
        "weight_init = 'Xavier'\n",
        "act_fun = 'tanh'\n",
        "\n",
        "neuros_num = []\n",
        "act_func = []\n",
        "for i in range(nhl):\n",
        "  neuros_num.append(sz)\n",
        "  act_func.append(act_fun)\n",
        "\n",
        "Name = \"e_{}_hl_{}_hs_{}_lr_{}_opt_{}_bs_{}_init_{}_ac_{}_l2_{}\".format(epochs, nhl, sz, lr, optimizer, b_sz, weight_init, act_fun, w_d)\n",
        "\n",
        "run = wandb.init(\n",
        "    entity=\"arunangshudutta218-iitm\",  # Replace with your W&B entity (e.g., username or team name)\n",
        "    project='dl_assgn_1_q_10',  # Replace with your W&B project name\n",
        "    name= Name\n",
        ")\n",
        "\n",
        "\n",
        "train_model(X_train, Y_train, X_val, Y_val, epoch=epochs, batch_size=b_sz, num_neurons_hidden = neuros_num, activation_functions = act_func,\n",
        "                weights_init_type=weight_init, optimizer = optimizer, learning_rate = lr, opti_beta = [0.5, 0.5], w_d = w_d, plot_acc_loss = True)\n",
        "run.finish()"
      ],
      "metadata": {
        "colab": {
          "base_uri": "https://localhost:8080/",
          "height": 1000
        },
        "id": "zdRQHig3dIwq",
        "outputId": "d2b4f159-d1d1-4bc0-d460-321db42afe59"
      },
      "execution_count": null,
      "outputs": [
        {
          "output_type": "display_data",
          "data": {
            "text/plain": [
              "<IPython.core.display.HTML object>"
            ],
            "text/html": [
              "Tracking run with wandb version 0.19.8"
            ]
          },
          "metadata": {}
        },
        {
          "output_type": "display_data",
          "data": {
            "text/plain": [
              "<IPython.core.display.HTML object>"
            ],
            "text/html": [
              "Run data is saved locally in <code>/content/wandb/run-20250317_144707-j8jrurxj</code>"
            ]
          },
          "metadata": {}
        },
        {
          "output_type": "display_data",
          "data": {
            "text/plain": [
              "<IPython.core.display.HTML object>"
            ],
            "text/html": [
              "Syncing run <strong><a href='https://wandb.ai/arunangshudutta218-iitm/dl_assgn_1_q_10/runs/j8jrurxj' target=\"_blank\">e_10_hl_4_hs_128_lr_0.001_opt_adam_bs_64_init_Xavier_ac_tanh_l2_0</a></strong> to <a href='https://wandb.ai/arunangshudutta218-iitm/dl_assgn_1_q_10' target=\"_blank\">Weights & Biases</a> (<a href='https://wandb.me/developer-guide' target=\"_blank\">docs</a>)<br>"
            ]
          },
          "metadata": {}
        },
        {
          "output_type": "display_data",
          "data": {
            "text/plain": [
              "<IPython.core.display.HTML object>"
            ],
            "text/html": [
              " View project at <a href='https://wandb.ai/arunangshudutta218-iitm/dl_assgn_1_q_10' target=\"_blank\">https://wandb.ai/arunangshudutta218-iitm/dl_assgn_1_q_10</a>"
            ]
          },
          "metadata": {}
        },
        {
          "output_type": "display_data",
          "data": {
            "text/plain": [
              "<IPython.core.display.HTML object>"
            ],
            "text/html": [
              " View run at <a href='https://wandb.ai/arunangshudutta218-iitm/dl_assgn_1_q_10/runs/j8jrurxj' target=\"_blank\">https://wandb.ai/arunangshudutta218-iitm/dl_assgn_1_q_10/runs/j8jrurxj</a>"
            ]
          },
          "metadata": {}
        },
        {
          "output_type": "stream",
          "name": "stdout",
          "text": [
            "Hyper parameters: \n",
            "\n",
            "Weight initialization type :  Xavier\n",
            "Optimizer :  adam\n",
            "Learning rate (initial):  0.001\n",
            "Batch size:  64\n",
            "-------------------\n",
            "Architecture Description:\n",
            "\n",
            "Layer:  1  ; number of neurons:  128  ; activation function:  tanh\n",
            "Weight matrix dimention (128, 784) Bias vector dimention (128, 1)\n",
            "----------------\n",
            "Layer:  2  ; number of neurons:  128  ; activation function:  tanh\n",
            "Weight matrix dimention (128, 128) Bias vector dimention (128, 1)\n",
            "----------------\n",
            "Layer:  3  ; number of neurons:  128  ; activation function:  tanh\n",
            "Weight matrix dimention (128, 128) Bias vector dimention (128, 1)\n",
            "----------------\n",
            "Layer:  4  ; number of neurons:  128  ; activation function:  tanh\n",
            "Weight matrix dimention (128, 128) Bias vector dimention (128, 1)\n",
            "----------------\n",
            "Layer:  5  ; number of neurons:  10  ; activation function:  softmax\n",
            "Weight matrix dimention (10, 128) Bias vector dimention (10, 1)\n",
            "----------------\n",
            "656.0\n",
            "\n",
            " Start of training\n",
            "Training Loss:  2.2717727308997735 Training Accuracy:  16.533333333333335 Test Loss:  2.2701987272910613 Testing Accuracy:  16.583333333333332\n",
            "Epoch:  1\n"
          ]
        },
        {
          "output_type": "stream",
          "name": "stderr",
          "text": [
            "100%|██████████| 656/656 [00:10<00:00, 62.84it/s]\n"
          ]
        },
        {
          "output_type": "stream",
          "name": "stdout",
          "text": [
            "Training Loss:  0.19257736290570476 Training Accuracy:  94.11666666666666 Test Loss:  0.20726574460550787 Testing Accuracy:  93.69444444444444\n",
            "Epoch:  2\n"
          ]
        },
        {
          "output_type": "stream",
          "name": "stderr",
          "text": [
            "100%|██████████| 656/656 [00:10<00:00, 63.94it/s]\n"
          ]
        },
        {
          "output_type": "stream",
          "name": "stdout",
          "text": [
            "Training Loss:  0.1326777835000819 Training Accuracy:  95.85 Test Loss:  0.16438800617796415 Testing Accuracy:  95.13888888888889\n",
            "Epoch:  3\n"
          ]
        },
        {
          "output_type": "stream",
          "name": "stderr",
          "text": [
            "100%|██████████| 656/656 [00:10<00:00, 63.64it/s]\n"
          ]
        },
        {
          "output_type": "stream",
          "name": "stdout",
          "text": [
            "Training Loss:  0.1040676596636433 Training Accuracy:  96.65714285714286 Test Loss:  0.1471729702570101 Testing Accuracy:  95.57777777777778\n",
            "Epoch:  4\n"
          ]
        },
        {
          "output_type": "stream",
          "name": "stderr",
          "text": [
            "100%|██████████| 656/656 [00:10<00:00, 64.90it/s]\n"
          ]
        },
        {
          "output_type": "stream",
          "name": "stdout",
          "text": [
            "Training Loss:  0.08337773301988399 Training Accuracy:  97.32857142857142 Test Loss:  0.13926154715612413 Testing Accuracy:  95.95555555555555\n",
            "Epoch:  5\n"
          ]
        },
        {
          "output_type": "stream",
          "name": "stderr",
          "text": [
            "100%|██████████| 656/656 [00:08<00:00, 74.20it/s]\n"
          ]
        },
        {
          "output_type": "stream",
          "name": "stdout",
          "text": [
            "Training Loss:  0.06993910656213706 Training Accuracy:  97.79047619047618 Test Loss:  0.13521811710279952 Testing Accuracy:  96.19444444444444\n",
            "Epoch:  6\n"
          ]
        },
        {
          "output_type": "stream",
          "name": "stderr",
          "text": [
            "100%|██████████| 656/656 [00:08<00:00, 80.80it/s]\n"
          ]
        },
        {
          "output_type": "stream",
          "name": "stdout",
          "text": [
            "Training Loss:  0.0552791854121635 Training Accuracy:  98.27619047619048 Test Loss:  0.13146385229714877 Testing Accuracy:  96.5111111111111\n",
            "Epoch:  7\n"
          ]
        },
        {
          "output_type": "stream",
          "name": "stderr",
          "text": [
            "100%|██████████| 656/656 [00:08<00:00, 77.99it/s]\n"
          ]
        },
        {
          "output_type": "stream",
          "name": "stdout",
          "text": [
            "Training Loss:  0.04419199431920591 Training Accuracy:  98.67142857142858 Test Loss:  0.13428453995669482 Testing Accuracy:  96.71666666666667\n",
            "Epoch:  8\n"
          ]
        },
        {
          "output_type": "stream",
          "name": "stderr",
          "text": [
            "100%|██████████| 656/656 [00:09<00:00, 67.99it/s]\n"
          ]
        },
        {
          "output_type": "stream",
          "name": "stdout",
          "text": [
            "Training Loss:  0.044151813572171725 Training Accuracy:  98.58809523809524 Test Loss:  0.14180196009797424 Testing Accuracy:  96.58333333333333\n",
            "Epoch:  9\n"
          ]
        },
        {
          "output_type": "stream",
          "name": "stderr",
          "text": [
            "100%|██████████| 656/656 [00:10<00:00, 62.86it/s]\n"
          ]
        },
        {
          "output_type": "stream",
          "name": "stdout",
          "text": [
            "Training Loss:  0.03778944071272538 Training Accuracy:  98.82142857142857 Test Loss:  0.14608579561001184 Testing Accuracy:  96.78333333333333\n",
            "Epoch:  10\n"
          ]
        },
        {
          "output_type": "stream",
          "name": "stderr",
          "text": [
            "100%|██████████| 656/656 [00:10<00:00, 63.79it/s]\n"
          ]
        },
        {
          "output_type": "stream",
          "name": "stdout",
          "text": [
            "Training Loss:  0.030368657800809842 Training Accuracy:  99.06190476190476 Test Loss:  0.14630459467762028 Testing Accuracy:  96.97222222222223\n"
          ]
        },
        {
          "output_type": "display_data",
          "data": {
            "text/plain": [
              "<Figure size 640x480 with 1 Axes>"
            ],
            "image/png": "[encoded data removed]"
          },
          "metadata": {}
        },
        {
          "output_type": "display_data",
          "data": {
            "text/plain": [
              "<Figure size 640x480 with 1 Axes>"
            ],
            "image/png": "[encoded data removed]"
          },
          "metadata": {}
        },
        {
          "output_type": "display_data",
          "data": {
            "text/plain": [
              "<IPython.core.display.HTML object>"
            ],
            "text/html": []
          },
          "metadata": {}
        },
        {
          "output_type": "display_data",
          "data": {
            "text/plain": [
              "<IPython.core.display.HTML object>"
            ],
            "text/html": [
              "<br>    <style><br>        .wandb-row {<br>            display: flex;<br>            flex-direction: row;<br>            flex-wrap: wrap;<br>            justify-content: flex-start;<br>            width: 100%;<br>        }<br>        .wandb-col {<br>            display: flex;<br>            flex-direction: column;<br>            flex-basis: 100%;<br>            flex: 1;<br>            padding: 10px;<br>        }<br>    </style><br><div class=\"wandb-row\"><div class=\"wandb-col\"><h3>Run history:</h3><br/><table class=\"wandb\"><tr><td>tr_accuracy</td><td>▁██████████</td></tr><tr><td>tr_loss</td><td>█▂▁▁▁▁▁▁▁▁▁</td></tr><tr><td>val_accuracy</td><td>▁██████████</td></tr><tr><td>val_loss</td><td>█▁▁▁▁▁▁▁▁▁▁</td></tr></table><br/></div><div class=\"wandb-col\"><h3>Run summary:</h3><br/><table class=\"wandb\"><tr><td>tr_accuracy</td><td>99.0619</td></tr><tr><td>tr_loss</td><td>0.03037</td></tr><tr><td>val_accuracy</td><td>96.97222</td></tr><tr><td>val_loss</td><td>0.1463</td></tr></table><br/></div></div>"
            ]
          },
          "metadata": {}
        },
        {
          "output_type": "display_data",
          "data": {
            "text/plain": [
              "<IPython.core.display.HTML object>"
            ],
            "text/html": [
              " View run <strong style=\"color:#cdcd00\">e_10_hl_4_hs_128_lr_0.001_opt_adam_bs_64_init_Xavier_ac_tanh_l2_0</strong> at: <a href='https://wandb.ai/arunangshudutta218-iitm/dl_assgn_1_q_10/runs/j8jrurxj' target=\"_blank\">https://wandb.ai/arunangshudutta218-iitm/dl_assgn_1_q_10/runs/j8jrurxj</a><br> View project at: <a href='https://wandb.ai/arunangshudutta218-iitm/dl_assgn_1_q_10' target=\"_blank\">https://wandb.ai/arunangshudutta218-iitm/dl_assgn_1_q_10</a><br>Synced 5 W&B file(s), 0 media file(s), 0 artifact file(s) and 0 other file(s)"
            ]
          },
          "metadata": {}
        },
        {
          "output_type": "display_data",
          "data": {
            "text/plain": [
              "<IPython.core.display.HTML object>"
            ],
            "text/html": [
              "Find logs at: <code>./wandb/run-20250317_144707-j8jrurxj/logs</code>"
            ]
          },
          "metadata": {}
        }
      ]
    },
    {
      "cell_type": "code",
      "source": [
        "epochs = 10\n",
        "nhl = 4\n",
        "sz = 128\n",
        "w_d = 0\n",
        "lr = 0.0001\n",
        "optimizer = 'nadam'\n",
        "b_sz = 64\n",
        "weight_init = 'Xavier'\n",
        "act_fun = 'tanh'\n",
        "\n",
        "neuros_num = []\n",
        "act_func = []\n",
        "for i in range(nhl):\n",
        "  neuros_num.append(sz)\n",
        "  act_func.append(act_fun)\n",
        "\n",
        "\n",
        "Name = \"e_{}_hl_{}_hs_{}_lr_{}_opt_{}_bs_{}_init_{}_ac_{}_l2_{}\".format(epochs, nhl, sz, lr, optimizer, b_sz, weight_init, act_fun, w_d)\n",
        "\n",
        "run = wandb.init(\n",
        "    entity=\"arunangshudutta218-iitm\",  # Replace with your W&B entity (e.g., username or team name)\n",
        "    project='dl_assgn_1_q_10',  # Replace with your W&B project name\n",
        "    name= Name\n",
        ")\n",
        "\n",
        "\n",
        "train_model(X_train, Y_train, X_val, Y_val, epoch=epochs, batch_size=b_sz, num_neurons_hidden = neuros_num, activation_functions = act_func,\n",
        "                weights_init_type=weight_init, optimizer = optimizer, learning_rate = lr, opti_beta = [0.5, 0.5], w_d = w_d, plot_acc_loss = True)\n",
        "run.finish()"
      ],
      "metadata": {
        "colab": {
          "base_uri": "https://localhost:8080/",
          "height": 1000
        },
        "id": "da7HhnNddKCS",
        "outputId": "eeaf33fc-5c6c-4ada-c584-b527d02bdc0b"
      },
      "execution_count": null,
      "outputs": [
        {
          "output_type": "display_data",
          "data": {
            "text/plain": [
              "<IPython.core.display.HTML object>"
            ],
            "text/html": [
              "creating run (1.5s)"
            ]
          },
          "metadata": {}
        },
        {
          "output_type": "display_data",
          "data": {
            "text/plain": [
              "<IPython.core.display.HTML object>"
            ],
            "text/html": [
              "Tracking run with wandb version 0.19.8"
            ]
          },
          "metadata": {}
        },
        {
          "output_type": "display_data",
          "data": {
            "text/plain": [
              "<IPython.core.display.HTML object>"
            ],
            "text/html": [
              "Run data is saved locally in <code>/content/wandb/run-20250317_144921-dzuj6i4e</code>"
            ]
          },
          "metadata": {}
        },
        {
          "output_type": "display_data",
          "data": {
            "text/plain": [
              "<IPython.core.display.HTML object>"
            ],
            "text/html": [
              "Syncing run <strong><a href='https://wandb.ai/arunangshudutta218-iitm/dl_assgn_1_q_10/runs/dzuj6i4e' target=\"_blank\">e_10_hl_4_hs_128_lr_0.0001_opt_nadam_bs_64_init_Xavier_ac_tanh_l2_0</a></strong> to <a href='https://wandb.ai/arunangshudutta218-iitm/dl_assgn_1_q_10' target=\"_blank\">Weights & Biases</a> (<a href='https://wandb.me/developer-guide' target=\"_blank\">docs</a>)<br>"
            ]
          },
          "metadata": {}
        },
        {
          "output_type": "display_data",
          "data": {
            "text/plain": [
              "<IPython.core.display.HTML object>"
            ],
            "text/html": [
              " View project at <a href='https://wandb.ai/arunangshudutta218-iitm/dl_assgn_1_q_10' target=\"_blank\">https://wandb.ai/arunangshudutta218-iitm/dl_assgn_1_q_10</a>"
            ]
          },
          "metadata": {}
        },
        {
          "output_type": "display_data",
          "data": {
            "text/plain": [
              "<IPython.core.display.HTML object>"
            ],
            "text/html": [
              " View run at <a href='https://wandb.ai/arunangshudutta218-iitm/dl_assgn_1_q_10/runs/dzuj6i4e' target=\"_blank\">https://wandb.ai/arunangshudutta218-iitm/dl_assgn_1_q_10/runs/dzuj6i4e</a>"
            ]
          },
          "metadata": {}
        },
        {
          "output_type": "stream",
          "name": "stdout",
          "text": [
            "Hyper parameters: \n",
            "\n",
            "Weight initialization type :  Xavier\n",
            "Optimizer :  nadam\n",
            "Learning rate (initial):  0.0001\n",
            "Batch size:  64\n",
            "-------------------\n",
            "Architecture Description:\n",
            "\n",
            "Layer:  1  ; number of neurons:  128  ; activation function:  tanh\n",
            "Weight matrix dimention (128, 784) Bias vector dimention (128, 1)\n",
            "----------------\n",
            "Layer:  2  ; number of neurons:  128  ; activation function:  tanh\n",
            "Weight matrix dimention (128, 128) Bias vector dimention (128, 1)\n",
            "----------------\n",
            "Layer:  3  ; number of neurons:  128  ; activation function:  tanh\n",
            "Weight matrix dimention (128, 128) Bias vector dimention (128, 1)\n",
            "----------------\n",
            "Layer:  4  ; number of neurons:  128  ; activation function:  tanh\n",
            "Weight matrix dimention (128, 128) Bias vector dimention (128, 1)\n",
            "----------------\n",
            "Layer:  5  ; number of neurons:  10  ; activation function:  softmax\n",
            "Weight matrix dimention (10, 128) Bias vector dimention (10, 1)\n",
            "----------------\n",
            "656.0\n",
            "\n",
            " Start of training\n",
            "Training Loss:  2.3264744001739754 Training Accuracy:  12.414285714285715 Test Loss:  2.327362794126556 Testing Accuracy:  12.488888888888889\n",
            "Epoch:  1\n"
          ]
        },
        {
          "output_type": "stream",
          "name": "stderr",
          "text": [
            "100%|██████████| 656/656 [00:08<00:00, 76.82it/s]\n"
          ]
        },
        {
          "output_type": "stream",
          "name": "stdout",
          "text": [
            "Training Loss:  0.32821958506113574 Training Accuracy:  90.64047619047619 Test Loss:  0.3290299904338817 Testing Accuracy:  90.80555555555556\n",
            "Epoch:  2\n"
          ]
        },
        {
          "output_type": "stream",
          "name": "stderr",
          "text": [
            "100%|██████████| 656/656 [00:08<00:00, 77.44it/s]\n"
          ]
        },
        {
          "output_type": "stream",
          "name": "stdout",
          "text": [
            "Training Loss:  0.2638123929324162 Training Accuracy:  92.39047619047619 Test Loss:  0.269863603636794 Testing Accuracy:  92.17777777777778\n",
            "Epoch:  3\n"
          ]
        },
        {
          "output_type": "stream",
          "name": "stderr",
          "text": [
            "100%|██████████| 656/656 [00:08<00:00, 72.93it/s]\n"
          ]
        },
        {
          "output_type": "stream",
          "name": "stdout",
          "text": [
            "Training Loss:  0.2321408630467089 Training Accuracy:  93.28571428571429 Test Loss:  0.24280437241649233 Testing Accuracy:  92.89444444444445\n",
            "Epoch:  4\n"
          ]
        },
        {
          "output_type": "stream",
          "name": "stderr",
          "text": [
            "100%|██████████| 656/656 [00:10<00:00, 65.43it/s]\n"
          ]
        },
        {
          "output_type": "stream",
          "name": "stdout",
          "text": [
            "Training Loss:  0.2092540992627003 Training Accuracy:  93.95 Test Loss:  0.22356488866970697 Testing Accuracy:  93.52222222222223\n",
            "Epoch:  5\n"
          ]
        },
        {
          "output_type": "stream",
          "name": "stderr",
          "text": [
            "100%|██████████| 656/656 [00:10<00:00, 61.61it/s]\n"
          ]
        },
        {
          "output_type": "stream",
          "name": "stdout",
          "text": [
            "Training Loss:  0.19054575565611714 Training Accuracy:  94.49047619047619 Test Loss:  0.2077791408861623 Testing Accuracy:  93.99444444444444\n",
            "Epoch:  6\n"
          ]
        },
        {
          "output_type": "stream",
          "name": "stderr",
          "text": [
            "100%|██████████| 656/656 [00:10<00:00, 61.20it/s]\n"
          ]
        },
        {
          "output_type": "stream",
          "name": "stdout",
          "text": [
            "Training Loss:  0.17448989670316706 Training Accuracy:  94.89761904761905 Test Loss:  0.1941216983275406 Testing Accuracy:  94.33333333333333\n",
            "Epoch:  7\n"
          ]
        },
        {
          "output_type": "stream",
          "name": "stderr",
          "text": [
            "100%|██████████| 656/656 [00:10<00:00, 60.58it/s]\n"
          ]
        },
        {
          "output_type": "stream",
          "name": "stdout",
          "text": [
            "Training Loss:  0.1605052510891133 Training Accuracy:  95.26666666666667 Test Loss:  0.18224654985299454 Testing Accuracy:  94.67222222222222\n",
            "Epoch:  8\n"
          ]
        },
        {
          "output_type": "stream",
          "name": "stderr",
          "text": [
            "100%|██████████| 656/656 [00:10<00:00, 61.47it/s]\n"
          ]
        },
        {
          "output_type": "stream",
          "name": "stdout",
          "text": [
            "Training Loss:  0.1482498214772511 Training Accuracy:  95.67857142857143 Test Loss:  0.1719936968908074 Testing Accuracy:  94.95\n",
            "Epoch:  9\n"
          ]
        },
        {
          "output_type": "stream",
          "name": "stderr",
          "text": [
            "100%|██████████| 656/656 [00:10<00:00, 62.49it/s]\n"
          ]
        },
        {
          "output_type": "stream",
          "name": "stdout",
          "text": [
            "Training Loss:  0.13746824539400904 Training Accuracy:  96.0047619047619 Test Loss:  0.1631836152939857 Testing Accuracy:  95.2\n",
            "Epoch:  10\n"
          ]
        },
        {
          "output_type": "stream",
          "name": "stderr",
          "text": [
            "100%|██████████| 656/656 [00:10<00:00, 61.96it/s]\n"
          ]
        },
        {
          "output_type": "stream",
          "name": "stdout",
          "text": [
            "Training Loss:  0.12791989128778258 Training Accuracy:  96.26428571428572 Test Loss:  0.1556066340677572 Testing Accuracy:  95.46666666666667\n"
          ]
        },
        {
          "output_type": "display_data",
          "data": {
            "text/plain": [
              "<Figure size 640x480 with 1 Axes>"
            ],
            "image/png": "[encoded data removed]"
          },
          "metadata": {}
        },
        {
          "output_type": "display_data",
          "data": {
            "text/plain": [
              "<Figure size 640x480 with 1 Axes>"
            ],
            "image/png": "[encoded data removed]"
          },
          "metadata": {}
        },
        {
          "output_type": "display_data",
          "data": {
            "text/plain": [
              "<IPython.core.display.HTML object>"
            ],
            "text/html": []
          },
          "metadata": {}
        },
        {
          "output_type": "display_data",
          "data": {
            "text/plain": [
              "<IPython.core.display.HTML object>"
            ],
            "text/html": [
              "<br>    <style><br>        .wandb-row {<br>            display: flex;<br>            flex-direction: row;<br>            flex-wrap: wrap;<br>            justify-content: flex-start;<br>            width: 100%;<br>        }<br>        .wandb-col {<br>            display: flex;<br>            flex-direction: column;<br>            flex-basis: 100%;<br>            flex: 1;<br>            padding: 10px;<br>        }<br>    </style><br><div class=\"wandb-row\"><div class=\"wandb-col\"><h3>Run history:</h3><br/><table class=\"wandb\"><tr><td>tr_accuracy</td><td>▁██████████</td></tr><tr><td>tr_loss</td><td>█▂▁▁▁▁▁▁▁▁▁</td></tr><tr><td>val_accuracy</td><td>▁██████████</td></tr><tr><td>val_loss</td><td>█▂▁▁▁▁▁▁▁▁▁</td></tr></table><br/></div><div class=\"wandb-col\"><h3>Run summary:</h3><br/><table class=\"wandb\"><tr><td>tr_accuracy</td><td>96.26429</td></tr><tr><td>tr_loss</td><td>0.12792</td></tr><tr><td>val_accuracy</td><td>95.46667</td></tr><tr><td>val_loss</td><td>0.15561</td></tr></table><br/></div></div>"
            ]
          },
          "metadata": {}
        },
        {
          "output_type": "display_data",
          "data": {
            "text/plain": [
              "<IPython.core.display.HTML object>"
            ],
            "text/html": [
              " View run <strong style=\"color:#cdcd00\">e_10_hl_4_hs_128_lr_0.0001_opt_nadam_bs_64_init_Xavier_ac_tanh_l2_0</strong> at: <a href='https://wandb.ai/arunangshudutta218-iitm/dl_assgn_1_q_10/runs/dzuj6i4e' target=\"_blank\">https://wandb.ai/arunangshudutta218-iitm/dl_assgn_1_q_10/runs/dzuj6i4e</a><br> View project at: <a href='https://wandb.ai/arunangshudutta218-iitm/dl_assgn_1_q_10' target=\"_blank\">https://wandb.ai/arunangshudutta218-iitm/dl_assgn_1_q_10</a><br>Synced 5 W&B file(s), 0 media file(s), 0 artifact file(s) and 0 other file(s)"
            ]
          },
          "metadata": {}
        },
        {
          "output_type": "display_data",
          "data": {
            "text/plain": [
              "<IPython.core.display.HTML object>"
            ],
            "text/html": [
              "Find logs at: <code>./wandb/run-20250317_144921-dzuj6i4e/logs</code>"
            ]
          },
          "metadata": {}
        }
      ]
    },
    {
      "cell_type": "code",
      "source": [],
      "metadata": {
        "id": "HSMoSL1WfK5K"
      },
      "execution_count": null,
      "outputs": []
    }
  ]
}