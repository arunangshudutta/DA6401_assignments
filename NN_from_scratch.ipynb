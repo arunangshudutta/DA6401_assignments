{
  "nbformat": 4,
  "nbformat_minor": 0,
  "metadata": {
    "colab": {
      "provenance": [],
      "collapsed_sections": [
        "ZqLgsADVCATb",
        "ZbdttxgPCFaX",
        "gUE8RlW6CJCi",
        "yhvlBbWeCMca"
      ],
      "authorship_tag": "ABX9TyNfo1heppfGZCKPNL7573cK",
      "include_colab_link": true
    },
    "kernelspec": {
      "name": "python3",
      "display_name": "Python 3"
    },
    "language_info": {
      "name": "python"
    }
  },
  "cells": [
    {
      "cell_type": "markdown",
      "metadata": {
        "id": "view-in-github",
        "colab_type": "text"
      },
      "source": [
        "<a href=\"https://colab.research.google.com/github/arunangshudutta/DA6401_assignments/blob/main/NN_from_scratch.ipynb\" target=\"_parent\"><img src=\"https://colab.research.google.com/assets/colab-badge.svg\" alt=\"Open In Colab\"/></a>"
      ]
    },
    {
      "cell_type": "code",
      "source": [
        "import matplotlib.pyplot as plt\n",
        "import numpy as np\n",
        "from tqdm import tqdm\n",
        "import warnings\n",
        "warnings.filterwarnings('ignore', category=RuntimeWarning)\n",
        "#import wandb"
      ],
      "metadata": {
        "id": "kCtmcXflqXPD"
      },
      "execution_count": 7,
      "outputs": []
    },
    {
      "cell_type": "code",
      "execution_count": 8,
      "metadata": {
        "id": "EtbC93_r9MTh"
      },
      "outputs": [],
      "source": [
        "# load dataset\n",
        "from keras.datasets import fashion_mnist\n",
        "from sklearn.model_selection import train_test_split"
      ]
    },
    {
      "cell_type": "markdown",
      "source": [
        "# DNN functions"
      ],
      "metadata": {
        "id": "dwqW-ofohvuA"
      }
    },
    {
      "cell_type": "markdown",
      "source": [
        "**weight initialization function**"
      ],
      "metadata": {
        "id": "D0vD8oPNg-ji"
      }
    },
    {
      "cell_type": "code",
      "source": [
        "def weights_initialization(num_neurons, initializer):\n",
        "  \"\"\"\n",
        "  num_neurons = list of number of neurons at each layer starting from the input layer and ending at output layer\n",
        "  initializer = 'random' or 'xavier'\n",
        "\n",
        "  Returns: initialized weight matrices and bias vectors\n",
        "  \"\"\"\n",
        "  mean=0\n",
        "  std_dev=1\n",
        "\n",
        "  W_matrices = []\n",
        "  b_vectors = []\n",
        "\n",
        "  for i in range(len(num_neurons)-1):\n",
        "    rows = num_neurons[i+1]\n",
        "    cols = num_neurons[i]\n",
        "\n",
        "    if initializer == 'random':\n",
        "\n",
        "      weight_matrix = np.random.normal(mean, std_dev, size=(rows, cols))\n",
        "\n",
        "    elif initializer == 'Xavier':\n",
        "\n",
        "      upper_bound = np.sqrt(6.0/(rows + cols))\n",
        "      lower_bound = -1*upper_bound\n",
        "      weight_matrix = np.random.uniform(low = lower_bound, high = upper_bound, size = (rows, cols))\n",
        "\n",
        "    else:\n",
        "      print('initializer invalid')\n",
        "\n",
        "\n",
        "    bias_vector = np.zeros((rows,1))\n",
        "\n",
        "    W_matrices.append(weight_matrix)\n",
        "    b_vectors.append(bias_vector)\n",
        "\n",
        "\n",
        "  return W_matrices, b_vectors"
      ],
      "metadata": {
        "id": "th-G3oSI6LoH"
      },
      "execution_count": 9,
      "outputs": []
    },
    {
      "cell_type": "markdown",
      "source": [
        "**activation functions**"
      ],
      "metadata": {
        "id": "5u1z_rO5hJjZ"
      }
    },
    {
      "cell_type": "code",
      "source": [
        "# ACTIVATION FUNCTIONS\n",
        "def relu(x):\n",
        "  \"\"\"\n",
        "  Rectified Linear Unit (ReLU) activation function\n",
        "  \"\"\"\n",
        "  return np.maximum(0, x)\n",
        "\n",
        "def sigmoid(x):\n",
        "  \"\"\"\n",
        "  Sigmoid activation function\n",
        "  \"\"\"\n",
        "  # x = np.float128(x)\n",
        "  return 1 / (1 + np.exp(-x))\n",
        "\n",
        "def tanh(x):\n",
        "  \"\"\"\n",
        "  Hyperbolic tangent (tanh) activation function\n",
        "  \"\"\"\n",
        "  # x = np.float128(x)\n",
        "  return np.tanh(x)\n",
        "def softmax(x):\n",
        "\n",
        "  \"\"\"\n",
        "  Softmax function for output layer\n",
        "  \"\"\"\n",
        "  # x = np.float128(x)\n",
        "  return np.exp(x) / np.sum(np.exp(x), axis=0)\n",
        "\n",
        "def activation_output(x, activation_function):\n",
        "  \"\"\"\n",
        "  activation_function = 'ReLU', 'sigmoid', 'tanh'\n",
        "  \"\"\"\n",
        "  if activation_function == 'ReLU':\n",
        "    return relu(x)\n",
        "  elif activation_function == 'sigmoid':\n",
        "    return sigmoid(x)\n",
        "  elif activation_function == 'tanh':\n",
        "    return tanh(x)\n",
        "  elif activation_function == 'softmax':\n",
        "    return softmax(x)\n",
        "  else:\n",
        "    print('activation function invalid')\n",
        "\n",
        "# DERIVATIVE OF ACTIVATION FUNCTION\n",
        "def sigmoid_derivative(x):\n",
        "  s = sigmoid(x)\n",
        "  return s * (1 - s)\n",
        "\n",
        "def tanh_derivative(x):\n",
        "  t = tanh(x)\n",
        "  return 1 - t**2\n",
        "\n",
        "def relu_derivative(x):\n",
        "  return 1*(x>0)\n",
        "\n",
        "def activation_derivative(x, activation_function):\n",
        "  \"\"\"\n",
        "  activation_function = 'ReLU', 'sigmoid', 'tanh'\n",
        "  \"\"\"\n",
        "  if activation_function == 'ReLU':\n",
        "    return relu_derivative(x)\n",
        "  elif activation_function == 'sigmoid':\n",
        "    return sigmoid_derivative(x)\n",
        "  elif activation_function == 'tanh':\n",
        "    return tanh_derivative(x)\n",
        "  else:\n",
        "    print('activation function invalid')"
      ],
      "metadata": {
        "id": "ZC0JlPb5KPbo"
      },
      "execution_count": 10,
      "outputs": []
    },
    {
      "cell_type": "markdown",
      "source": [
        "**forward propagation**"
      ],
      "metadata": {
        "id": "ARUXoIW9hOAB"
      }
    },
    {
      "cell_type": "code",
      "source": [
        "def layer_output_FP(x, weight_matrix, bias_vector, activation_function):\n",
        "  pre_activation = np.add(np.matmul(weight_matrix, x), bias_vector)\n",
        "  post_activation = activation_output(pre_activation, activation_function)\n",
        "  return pre_activation, post_activation\n",
        "\n",
        "def forward_propagation(ip_data, W_matrices, b_vectors, activation_functions):\n",
        "  \"\"\"\n",
        "  forward propagation\n",
        "  \"\"\"\n",
        "\n",
        "  layer_op = []\n",
        "  layer_op.append(ip_data)\n",
        "\n",
        "  layer_ip = []\n",
        "\n",
        "  for i in range(len(W_matrices)):\n",
        "\n",
        "    weight_matrix = W_matrices[i]\n",
        "    bias_vector = b_vectors[i]\n",
        "\n",
        "    activation_function = activation_functions[i]\n",
        "\n",
        "    pre_activation, post_activation = layer_output_FP(layer_op[i], weight_matrix, bias_vector, activation_function)\n",
        "\n",
        "    layer_op.append(post_activation)\n",
        "    layer_ip.append(pre_activation)\n",
        "\n",
        "  return layer_ip, layer_op\n",
        "\n"
      ],
      "metadata": {
        "id": "q1zDq-mRiQND"
      },
      "execution_count": 11,
      "outputs": []
    },
    {
      "cell_type": "markdown",
      "source": [
        "**back propagation**"
      ],
      "metadata": {
        "id": "Nt-FapuGhWde"
      }
    },
    {
      "cell_type": "code",
      "source": [
        "def back_propagation(W_matrices, b_vectors, y_true, layer_ip, layer_op, activation_functions, batch_size, w_d):\n",
        "\n",
        "  DWs = []\n",
        "  Dbs = []\n",
        "  for i in range(len(W_matrices)):\n",
        "    k = len(W_matrices) - i\n",
        "\n",
        "    if k == len(W_matrices):\n",
        "      Da = -np.add(y_true, -layer_op[k])\n",
        "      Dw = (np.matmul(Da, layer_op[k-1].T) + w_d*W_matrices[k-1])/batch_size\n",
        "    else:\n",
        "\n",
        "      Dh = np.matmul(W_matrices[k].T, Da)\n",
        "      Dg = activation_derivative(layer_ip[k-1], activation_functions[k-1])\n",
        "      Da = np.multiply(Dh, Dg)\n",
        "      Dw = (np.matmul(Da, layer_op[k-1].T) + w_d*W_matrices[k-1])/batch_size\n",
        "    Db = np.sum(Da, axis=1, keepdims=True)/batch_size\n",
        "\n",
        "    DWs.append(Dw)\n",
        "    Dbs.append(Db)\n",
        "\n",
        "  return DWs, Dbs\n",
        "\n",
        "\n",
        "\n"
      ],
      "metadata": {
        "id": "o616eIfyoeFQ"
      },
      "execution_count": 12,
      "outputs": []
    },
    {
      "cell_type": "code",
      "source": [
        "def update_weights_gd(W_matrices, b_vectors, DWs, Dbs, learning_rate = 0.1):\n",
        "\n",
        "  DWs.reverse()\n",
        "  Dbs.reverse()\n",
        "\n",
        "  for i in range(len(DWs)):\n",
        "\n",
        "    W_matrices[i] = W_matrices[i] - learning_rate*DWs[i]\n",
        "    b_vectors[i] = b_vectors[i] - learning_rate*Dbs[i]\n",
        "  return W_matrices, b_vectors"
      ],
      "metadata": {
        "id": "re1_bDdDTRQo"
      },
      "execution_count": 13,
      "outputs": []
    },
    {
      "cell_type": "code",
      "source": [
        "def update_weights_momentum(W_matrices, b_vectors, DWs, Dbs, u_past_w, u_past_b, learning_rate = 0.1, beta = 0.5):\n",
        "  DWs.reverse()\n",
        "  Dbs.reverse()\n",
        "  u_w = u_past_w\n",
        "  u_b = u_past_b\n",
        "  for i in range(len(DWs)):\n",
        "\n",
        "    u_w[i] = beta*u_past_w[i] + DWs[i]\n",
        "    u_b[i] = beta*u_past_b[i] + Dbs[i]\n",
        "\n",
        "    W_matrices[i] = W_matrices[i] - learning_rate*u_w[i]\n",
        "    b_vectors[i] = b_vectors[i] - learning_rate*u_b[i]\n",
        "\n",
        "  return W_matrices, b_vectors, u_w, u_b"
      ],
      "metadata": {
        "id": "dzXy0-HLogHS"
      },
      "execution_count": 14,
      "outputs": []
    },
    {
      "cell_type": "code",
      "source": [
        "def update_weights_adagrad(W_matrices, b_vectors, DWs, Dbs, u_past_w, u_past_b, learning_rate = 0.1):\n",
        "  DWs.reverse()\n",
        "  Dbs.reverse()\n",
        "\n",
        "  u_w = u_past_w\n",
        "  u_b = u_past_b\n",
        "  eps = 1e-8\n",
        "  for i in range(len(DWs)):\n",
        "    u_w[i] = u_past_w[i] + DWs[i]**2\n",
        "    u_b[i] = u_past_b[i] + Dbs[i]**2\n",
        "\n",
        "    W_matrices[i] = W_matrices[i] - learning_rate*DWs[i]/(np.sqrt(u_w[i]) + eps)\n",
        "    b_vectors[i] = b_vectors[i] - learning_rate*Dbs[i]/(np.sqrt(u_b[i]) + eps)\n",
        "\n",
        "  return W_matrices, b_vectors, u_w, u_b"
      ],
      "metadata": {
        "id": "Fjx-yFSa0zbL"
      },
      "execution_count": 15,
      "outputs": []
    },
    {
      "cell_type": "code",
      "source": [
        "def update_weights_rmsprop(W_matrices, b_vectors, DWs, Dbs, u_past_w, u_past_b, learning_rate = 0.1, beta = 0.5):\n",
        "  DWs.reverse()\n",
        "  Dbs.reverse()\n",
        "\n",
        "  u_w = u_past_w\n",
        "  u_b = u_past_b\n",
        "  eps = 1e-8\n",
        "  for i in range(len(DWs)):\n",
        "    u_w[i] = beta*u_past_w[i] + (1-beta)*DWs[i]**2\n",
        "    u_b[i] = beta*u_past_b[i] + (1-beta)*Dbs[i]**2\n",
        "\n",
        "    W_matrices[i] = W_matrices[i] - learning_rate*DWs[i]/(np.sqrt(u_w[i]) + eps)\n",
        "    b_vectors[i] = b_vectors[i] - learning_rate*Dbs[i]/(np.sqrt(u_b[i]) + eps)\n",
        "\n",
        "  return W_matrices, b_vectors, u_w, u_b"
      ],
      "metadata": {
        "id": "xCb8s0PGxy0j"
      },
      "execution_count": 16,
      "outputs": []
    },
    {
      "cell_type": "code",
      "source": [
        "def update_weights_adam(W_matrices, b_vectors, DWs, Dbs, mw_past, mb_past, vw_past, vb_past, t, learning_rate = 0.1, beta1 = 0.5, beta2 =0.5):\n",
        "  DWs.reverse()\n",
        "  Dbs.reverse()\n",
        "  mw = mw_past\n",
        "  mb = mb_past\n",
        "  vw = vw_past\n",
        "  vb = vb_past\n",
        "  eps = 1e-8\n",
        "\n",
        "  for i in range(len(DWs)):\n",
        "    mw[i] = beta1*mw_past[i] + (1-beta1)*DWs[i]\n",
        "    mb[i] = beta1*mb_past[i] + (1-beta1)*Dbs[i]\n",
        "\n",
        "    mw_cap = mw[i]/(1 - beta1**t)\n",
        "    mb_cap = mb[i]/(1 - beta1**t)\n",
        "\n",
        "    vw[i] = beta2*vw_past[i] + (1-beta2)*DWs[i]**2\n",
        "    vb[i] = beta2*vb_past[i] + (1-beta2)*Dbs[i]**2\n",
        "    vw_cap = vw[i]/(1 - beta2**t)\n",
        "    vb_cap = vb[i]/(1 - beta2**t)\n",
        "\n",
        "    W_matrices[i] = W_matrices[i] - learning_rate*mw_cap/(np.sqrt(vw_cap) + eps)\n",
        "    b_vectors[i] = b_vectors[i] - learning_rate*mb_cap/(np.sqrt(vb_cap) + eps)\n",
        "\n",
        "  return W_matrices, b_vectors, mw, mb, vw, vb"
      ],
      "metadata": {
        "id": "j5mGUmncJwAP"
      },
      "execution_count": 17,
      "outputs": []
    },
    {
      "cell_type": "code",
      "source": [
        "def update_weights_nadam(W_matrices, b_vectors, DWs, Dbs, mw_past, mb_past, vw_past, vb_past,t,  learning_rate = 0.1, beta1 = 0.5, beta2 =0.5):\n",
        "  DWs.reverse()\n",
        "  Dbs.reverse()\n",
        "  mw = mw_past\n",
        "  mb = mb_past\n",
        "  vw = vw_past\n",
        "  vb = vb_past\n",
        "  eps = 1e-8\n",
        "\n",
        "  for i in range(len(DWs)):\n",
        "    mw[i] = beta1*mw_past[i] + (1-beta1)*DWs[i]\n",
        "    mb[i] = beta1*mb_past[i] + (1-beta1)*Dbs[i]\n",
        "\n",
        "    mw_cap = mw[i]/(1 - beta1**(t+1))\n",
        "    mb_cap = mb[i]/(1 - beta1**(t+1))\n",
        "\n",
        "    vw[i] = beta2*vw_past[i] + (1-beta2)*DWs[i]**2\n",
        "    vb[i] = beta2*vb_past[i] + (1-beta2)*Dbs[i]**2\n",
        "    vw_cap = vw[i]/(1 - beta2**(t+1))\n",
        "    vb_cap = vb[i]/(1 - beta2**(t+1))\n",
        "\n",
        "    W_matrices[i] = W_matrices[i] - learning_rate*(beta1*mw_cap + ((1-beta1)/(1 - beta1**(t+1)))*DWs[i])/(np.sqrt(vw_cap) + eps)\n",
        "    b_vectors[i] = b_vectors[i] - learning_rate*(beta1*mb_cap + ((1-beta1)/(1 - beta1**(t+1)))*Dbs[i])/(np.sqrt(vb_cap) + eps)\n",
        "\n",
        "  return W_matrices, b_vectors, mw, mb, vw, vb"
      ],
      "metadata": {
        "id": "nMqBe-b-drR7"
      },
      "execution_count": 18,
      "outputs": []
    },
    {
      "cell_type": "code",
      "source": [
        "def look_ahead_nag(W_s, b_s, u_past_w, u_past_b, beta = 0.5):\n",
        "  for i in range(len(W_s)):\n",
        "    W_s[i] = W_s[i] - beta*u_past_w[i]\n",
        "    b_s[i] = b_s[i] - beta*u_past_b[i]\n",
        "  return W_s, b_s"
      ],
      "metadata": {
        "id": "MxXIzyN48fZn"
      },
      "execution_count": 19,
      "outputs": []
    },
    {
      "cell_type": "markdown",
      "source": [
        "**model training function**"
      ],
      "metadata": {
        "id": "6gj6hGS1hg0n"
      }
    },
    {
      "cell_type": "code",
      "source": [
        "def one_hot_encode(integers, num_classes=None):\n",
        "  if num_classes is None:\n",
        "      num_classes = np.max(integers) + 1\n",
        "  return np.eye(num_classes)[integers]\n",
        "\n",
        "def cross_entropy_loss(y_true, y_pred, batch_size):\n",
        "  # Clip the predicted probabilities to avoid numerical instability\n",
        "  y_pred = np.clip(y_pred, 1e-15, 1 - 1e-15)\n",
        "  loss_value = np.sum(np.sum(y_true*np.log(y_pred), axis=0))/batch_size\n",
        "  return loss_value*(-1)\n",
        "\n",
        "\n",
        "\n",
        "def accuracy(y_true, y_pred, batch_size):\n",
        "  n_correct = 0\n",
        "  for i in range(0, batch_size, 1) :\n",
        "    if y_true[:,i].argmax() == y_pred[:,i].argmax() :\n",
        "      n_correct += 1\n",
        "  return 100 * n_correct / batch_size"
      ],
      "metadata": {
        "id": "4Rw5ntUEDBc-"
      },
      "execution_count": 20,
      "outputs": []
    },
    {
      "cell_type": "code",
      "source": [
        "\n",
        "def train_model(X_train,Y_train, X_test, Y_test, epoch=1,batch_size=25, num_neurons_hidden = [10], activation_functions = ['sigmoid'],\n",
        "                weights_init_type='random', optimizer = 'sgd', learning_rate = 0.1, opti_beta = [0.5, 0.5], w_d = 0, plot_acc_loss = False):\n",
        "\n",
        "  \"\"\"\n",
        "  X has shape (number of features, number of samples in train data set)\n",
        "  Y has shape (number of classes, number of samples in train data set)\n",
        "\n",
        "  num_neurons_hidden = list of number of neurons at each hidden layer\n",
        "\n",
        "  \"\"\"\n",
        "  num_ip_neurons = X_train.shape[0]\n",
        "  num_op_neurons = Y_train.shape[0]\n",
        "  num_neurons = [num_ip_neurons] + num_neurons_hidden + [num_op_neurons]\n",
        "  activation_functions = activation_functions + ['softmax']\n",
        "\n",
        "  W_s, b_s = weights_initialization(num_neurons, weights_init_type)\n",
        "  print('Hyper parameters: \\n')\n",
        "  print(\"Weight initialization type : \", weights_init_type)\n",
        "  print(\"Optimizer : \", optimizer)\n",
        "  print(\"Learning rate (initial): \", learning_rate)\n",
        "  print(\"-------------------\")\n",
        "  print(\"Architecture Description:\\n\")\n",
        "\n",
        "  for i in range(len(num_neurons)-1):\n",
        "    print(\"Layer: \", i+1, \" ; number of neurons: \", num_neurons[i+1], \" ; activation function: \", activation_functions[i])\n",
        "    print(\"Weight matrix dimention\", W_s[i].shape, \"Bias vector dimention\", b_s[i].shape)\n",
        "    print(\"----------------\")\n",
        "\n",
        "  num_batches = np.floor(X_train.shape[1]/batch_size)\n",
        "  print(num_batches)\n",
        "\n",
        "  print('\\n Start of training')\n",
        "\n",
        "  if optimizer == 'momentum':\n",
        "    u_past_w = [x * 0 for x in W_s]\n",
        "    u_past_b = [x * 0 for x in b_s]\n",
        "\n",
        "  elif optimizer == 'nag':\n",
        "    u_past_w = [x * 0 for x in W_s]\n",
        "    u_past_b = [x * 0 for x in b_s]\n",
        "\n",
        "  elif optimizer == 'rmsprop':\n",
        "    u_past_w = [x * 0 for x in W_s]\n",
        "    u_past_b = [x * 0 for x in b_s]\n",
        "\n",
        "  elif optimizer == 'adagrad':\n",
        "    u_past_w = [x * 0 for x in W_s]\n",
        "    u_past_b = [x * 0 for x in b_s]\n",
        "\n",
        "  elif optimizer == 'adam':\n",
        "    mw_past = [x * 0 for x in W_s]\n",
        "    mb_past = [x * 0 for x in b_s]\n",
        "    vw_past = [x * 0 for x in W_s]\n",
        "    vb_past = [x * 0 for x in b_s]\n",
        "    t = 1\n",
        "\n",
        "  elif optimizer == 'nadam':\n",
        "    mw_past = [x * 0 for x in W_s]\n",
        "    mb_past = [x * 0 for x in b_s]\n",
        "    vw_past = [x * 0 for x in W_s]\n",
        "    vb_past = [x * 0 for x in b_s]\n",
        "    t = 1\n",
        "\n",
        "  ip_all, op_all = forward_propagation(X_train, W_s, b_s, activation_functions)\n",
        "  loss_tr = cross_entropy_loss(Y_train, op_all[-1], X_train.shape[1])\n",
        "  acc = accuracy(Y_train, op_all[-1], batch_size)\n",
        "  print(\"Error at the start:\")\n",
        "  print(\"Training Loss: \", loss_tr)\n",
        "  print(\"Training Accuracy: \", acc)\n",
        "  train_loss = np.array([loss_tr])\n",
        "  train_acc = np.array([acc])\n",
        "\n",
        "  ip_all, op_all = forward_propagation(X_test, W_s, b_s, activation_functions)\n",
        "  loss_ts = cross_entropy_loss(Y_test, op_all[-1], X_test.shape[1])\n",
        "  acc = accuracy(Y_test, op_all[-1], batch_size)\n",
        "  print(\"Test Loss: \", loss_ts)\n",
        "  print(\"Testing Accuracy: \", acc)\n",
        "  val_loss = np.array([loss_ts])\n",
        "  val_acc = np.array([acc])\n",
        "\n",
        "  for i in range(epoch):\n",
        "    print('Epoch: ', i+1)\n",
        "\n",
        "    for j in tqdm(range(int(num_batches))):\n",
        "      batch_X = X_train[:,j*batch_size:(j+1)*batch_size]\n",
        "      batch_Y = Y_train[:,j*batch_size:(j+1)*batch_size]\n",
        "\n",
        "\n",
        "      if optimizer == 'sgd':\n",
        "        ip, op = forward_propagation(batch_X, W_s, b_s, activation_functions)\n",
        "        DWs, Dbs = back_propagation(W_s, b_s, batch_Y, ip, op, activation_functions, batch_size, w_d)\n",
        "        W_s, b_s = update_weights_gd(W_s, b_s, DWs, Dbs, learning_rate)\n",
        "\n",
        "      elif optimizer == 'momentum':\n",
        "        ip, op = forward_propagation(batch_X, W_s, b_s, activation_functions)\n",
        "        DWs, Dbs = back_propagation(W_s, b_s, batch_Y, ip, op, activation_functions, batch_size, w_d)\n",
        "        W_s, b_s, u_past_w, u_past_b  = update_weights_momentum(W_s, b_s, DWs, Dbs, u_past_w, u_past_b, learning_rate, opti_beta[0])\n",
        "\n",
        "      elif optimizer == 'adagrad':\n",
        "        ip, op = forward_propagation(batch_X, W_s, b_s, activation_functions)\n",
        "        DWs, Dbs = back_propagation(W_s, b_s, batch_Y, ip, op, activation_functions, batch_size, w_d)\n",
        "        W_s, b_s, u_past_w, u_past_b  = update_weights_adagrad(W_s, b_s, DWs, Dbs, u_past_w, u_past_b, learning_rate)\n",
        "\n",
        "      elif optimizer == 'rmsprop':\n",
        "        ip, op = forward_propagation(batch_X, W_s, b_s, activation_functions)\n",
        "        DWs, Dbs = back_propagation(W_s, b_s, batch_Y, ip, op, activation_functions, batch_size, w_d)\n",
        "        W_s, b_s, u_past_w, u_past_b  = update_weights_rmsprop(W_s, b_s, DWs, Dbs, u_past_w, u_past_b, learning_rate, opti_beta[0])\n",
        "\n",
        "      elif optimizer == 'adam':\n",
        "        ip, op = forward_propagation(batch_X, W_s, b_s, activation_functions)\n",
        "        DWs, Dbs = back_propagation(W_s, b_s, batch_Y, ip, op, activation_functions, batch_size, w_d)\n",
        "        W_s, b_s, mw_past, mb_past, vw_past, vb_past = update_weights_adam(W_s, b_s, DWs, Dbs, mw_past, mb_past, vw_past, vb_past, t, learning_rate, opti_beta[0], opti_beta[1])\n",
        "        t =t +1\n",
        "\n",
        "      elif optimizer == 'nadam':\n",
        "        ip, op = forward_propagation(batch_X, W_s, b_s, activation_functions)\n",
        "        DWs, Dbs = back_propagation(W_s, b_s, batch_Y, ip, op, activation_functions, batch_size, w_d)\n",
        "        W_s, b_s, mw_past, mb_past, vw_past, vb_past = update_weights_nadam(W_s, b_s, DWs, Dbs, mw_past, mb_past, vw_past, vb_past, t, learning_rate, opti_beta[0], opti_beta[1])\n",
        "        t =t +1\n",
        "      elif optimizer == 'nag':\n",
        "        PWs, Pbs = look_ahead_nag(W_s, b_s, u_past_w, u_past_b, opti_beta[0])\n",
        "        ip, op = forward_propagation(batch_X, PWs, Pbs, activation_functions)\n",
        "        DWs, Dbs = back_propagation(PWs, Pbs, batch_Y, ip, op, activation_functions, batch_size, w_d)\n",
        "        W_s, b_s, u_past_w, u_past_b  = update_weights_momentum(W_s, b_s, DWs, Dbs, u_past_w, u_past_b, learning_rate, opti_beta[0])\n",
        "\n",
        "\n",
        "    ip_all, op_all = forward_propagation(X_train, W_s, b_s, activation_functions)\n",
        "    loss_tr = cross_entropy_loss(Y_train, op_all[-1], X_train.shape[1])\n",
        "    acc = accuracy(Y_train, op_all[-1], Y_train.shape[1])\n",
        "    print(\"Training Loss: \", loss_tr)\n",
        "    print(\"Training Accuracy: \", acc)\n",
        "    train_loss = np.append(train_loss, [loss_tr])\n",
        "    train_acc = np.append(train_acc, [acc])\n",
        "\n",
        "    ip_all, op_all = forward_propagation(X_test, W_s, b_s, activation_functions)\n",
        "    loss_ts = cross_entropy_loss(Y_test, op_all[-1], X_test.shape[1])\n",
        "    acc = accuracy(Y_test, op_all[-1], Y_test.shape[1])\n",
        "    print(\"Batch size: \", batch_size)\n",
        "    print(\"Test Loss: \", loss_ts)\n",
        "    print(\"Testing Accuracy: \", acc)\n",
        "    val_loss = np.append(val_loss, [loss_ts])\n",
        "    val_acc = np.append(val_acc, [acc])\n",
        "\n",
        "\n",
        "  if plot_acc_loss == True:\n",
        "\n",
        "    fig, ax = plt.subplots()  # Create a figure and axes object\n",
        "    ax.plot(np.arange(0, epoch + 1, 1), train_acc, color='r', label='training')\n",
        "    ax.plot(np.arange(0, epoch + 1, 1), val_acc, color='g', label='validation')\n",
        "    ax.set_title(\"Accuracy\")  # Set title on the axes object\n",
        "    ax.legend()\n",
        "    plt.grid()\n",
        "    plt.show()\n",
        "\n",
        "    fig, ax = plt.subplots()  # Create a figure and axes object for the second plot\n",
        "    ax.plot(np.arange(0, epoch + 1, 1), train_loss, color='r', label='training')\n",
        "    ax.plot(np.arange(0, epoch + 1, 1), val_loss, color='g', label='validation')\n",
        "    ax.set_title(\"Loss\")  # Set title on the axes object\n",
        "    ax.legend()\n",
        "    plt.grid()\n",
        "    plt.show()\n"
      ],
      "metadata": {
        "id": "p_3gwDediBvL"
      },
      "execution_count": 45,
      "outputs": []
    },
    {
      "cell_type": "code",
      "source": [
        "def load_split_dataset(test_ratio):\n",
        "  # Load Fashion MNIST dataset\n",
        "  (train_images, train_labels), (test_images, test_labels) = fashion_mnist.load_data()\n",
        "\n",
        "  # Split the training set into training and validation sets\n",
        "  X_train, X_val, Y_train, Y_val = train_test_split(train_images, train_labels, test_size=test_ratio, random_state=42)\n",
        "\n",
        "  data_size = X_train.shape[0]\n",
        "  X_train = (X_train.reshape(data_size, -1).T)/255\n",
        "  Y_train = one_hot_encode(Y_train, 10).T\n",
        "\n",
        "  data_size = X_val.shape[0]\n",
        "  X_val = (X_val.reshape(data_size, -1).T)/255\n",
        "  Y_val = one_hot_encode(Y_val, 10).T\n",
        "\n",
        "  data_size = test_images.shape[0]\n",
        "  X_test = (test_images.reshape(data_size, -1).T)/255\n",
        "  Y_test = one_hot_encode(test_labels, 10).T\n",
        "\n",
        "  return X_train, Y_train, X_val, Y_val, X_test, Y_test"
      ],
      "metadata": {
        "id": "i2WVwbPQcU38"
      },
      "execution_count": 27,
      "outputs": []
    },
    {
      "cell_type": "markdown",
      "source": [
        "# Training"
      ],
      "metadata": {
        "id": "ubqJq6dr4IMy"
      }
    },
    {
      "cell_type": "code",
      "source": [
        "X_train, Y_train, X_val, Y_val, X_test, Y_test = load_split_dataset(0.98)\n"
      ],
      "metadata": {
        "id": "EXaDy0nEGbKI"
      },
      "execution_count": 42,
      "outputs": []
    },
    {
      "cell_type": "code",
      "source": [
        "print(\"Shape: Training data = \", X_train.shape, \" Training labels = \", Y_train.shape)\n",
        "print(\"Shape: Validation data = \", X_val.shape, \" Validation labels = \", Y_val.shape)\n",
        "print(\"Shape: Testing data = \", X_test.shape, \" Testing labels = \", Y_test.shape)\n",
        "\n",
        "epochs = 200\n",
        "nhl = 3\n",
        "sz = 64\n",
        "w_d = 0\n",
        "lr = 0.0001\n",
        "optimizer = 'adam'\n",
        "b_sz = 16\n",
        "weight_init = 'Xavier'\n",
        "act_fun = 'ReLU'\n",
        "\n",
        "neuros_num = []\n",
        "act_func = []\n",
        "for i in range(nhl):\n",
        "  neuros_num.append(sz)\n",
        "  act_func.append(act_fun)\n",
        "print(\"Number of neurons/nodes in each hidden layer = \", neuros_num)\n",
        "print(\"Activation Function of each hidden layer = \", act_func)"
      ],
      "metadata": {
        "colab": {
          "base_uri": "https://localhost:8080/"
        },
        "id": "JjcB1ZI0WGGe",
        "outputId": "f00d6793-3c62-486a-ef0e-dc02bdfb0366"
      },
      "execution_count": 46,
      "outputs": [
        {
          "output_type": "stream",
          "name": "stdout",
          "text": [
            "Shape: Training data =  (784, 1200)  Training labels =  (10, 1200)\n",
            "Shape: Validation data =  (784, 58800)  Validation labels =  (10, 58800)\n",
            "Shape: Testing data =  (784, 10000)  Testing labels =  (10, 10000)\n",
            "Number of neurons/nodes in each hidden layer =  [64, 64, 64]\n",
            "Activation Function of each hidden layer =  ['ReLU', 'ReLU', 'ReLU']\n"
          ]
        }
      ]
    },
    {
      "cell_type": "code",
      "source": [
        "train_model(X_train,Y_train, X_test, Y_test, epoch=epochs,batch_size=b_sz, num_neurons_hidden = neuros_num, activation_functions = act_func,\n",
        "                weights_init_type=weight_init, optimizer = optimizer, learning_rate = lr, w_d = w_d, plot_acc_loss=True)"
      ],
      "metadata": {
        "colab": {
          "base_uri": "https://localhost:8080/",
          "height": 1000
        },
        "id": "smz8Lp1MlX-n",
        "outputId": "65ea2dbc-47e2-4c60-d68f-d403df671431"
      },
      "execution_count": 47,
      "outputs": [
        {
          "output_type": "stream",
          "name": "stdout",
          "text": [
            "Hyper parameters: \n",
            "\n",
            "Weight initialization type :  Xavier\n",
            "Optimizer :  adam\n",
            "Learning rate (initial):  0.0001\n",
            "-------------------\n",
            "Architecture Description:\n",
            "\n",
            "Layer:  1  ; number of neurons:  64  ; activation function:  ReLU\n",
            "Weight matrix dimention (64, 784) Bias vector dimention (64, 1)\n",
            "----------------\n",
            "Layer:  2  ; number of neurons:  64  ; activation function:  ReLU\n",
            "Weight matrix dimention (64, 64) Bias vector dimention (64, 1)\n",
            "----------------\n",
            "Layer:  3  ; number of neurons:  64  ; activation function:  ReLU\n",
            "Weight matrix dimention (64, 64) Bias vector dimention (64, 1)\n",
            "----------------\n",
            "Layer:  4  ; number of neurons:  10  ; activation function:  softmax\n",
            "Weight matrix dimention (10, 64) Bias vector dimention (10, 1)\n",
            "----------------\n",
            "75.0\n",
            "\n",
            " Start of training\n",
            "Error at the start:\n",
            "Training Loss:  2.3438462545106113\n",
            "Training Accuracy:  6.25\n",
            "Test Loss:  2.3469882423747004\n",
            "Testing Accuracy:  6.25\n",
            "Epoch:  1\n"
          ]
        },
        {
          "output_type": "stream",
          "name": "stderr",
          "text": [
            "100%|██████████| 75/75 [00:00<00:00, 486.68it/s]\n"
          ]
        },
        {
          "output_type": "stream",
          "name": "stdout",
          "text": [
            "Training Loss:  2.0953738351669378\n",
            "Training Accuracy:  26.083333333333332\n",
            "Batch size:  16\n",
            "Test Loss:  2.102080002909625\n",
            "Testing Accuracy:  26.28\n",
            "Epoch:  2\n"
          ]
        },
        {
          "output_type": "stream",
          "name": "stderr",
          "text": [
            "100%|██████████| 75/75 [00:00<00:00, 426.67it/s]\n"
          ]
        },
        {
          "output_type": "stream",
          "name": "stdout",
          "text": [
            "Training Loss:  1.819011004047973\n",
            "Training Accuracy:  54.0\n",
            "Batch size:  16\n",
            "Test Loss:  1.8313516644591894\n",
            "Testing Accuracy:  53.07\n",
            "Epoch:  3\n"
          ]
        },
        {
          "output_type": "stream",
          "name": "stderr",
          "text": [
            "100%|██████████| 75/75 [00:00<00:00, 474.02it/s]\n"
          ]
        },
        {
          "output_type": "stream",
          "name": "stdout",
          "text": [
            "Training Loss:  1.5227958805250432\n",
            "Training Accuracy:  61.333333333333336\n",
            "Batch size:  16\n",
            "Test Loss:  1.5429233194538023\n",
            "Testing Accuracy:  59.79\n",
            "Epoch:  4\n"
          ]
        },
        {
          "output_type": "stream",
          "name": "stderr",
          "text": [
            "100%|██████████| 75/75 [00:00<00:00, 471.21it/s]\n"
          ]
        },
        {
          "output_type": "stream",
          "name": "stdout",
          "text": [
            "Training Loss:  1.3029573487164339\n",
            "Training Accuracy:  62.833333333333336\n",
            "Batch size:  16\n",
            "Test Loss:  1.3298569162051856\n",
            "Testing Accuracy:  62.46\n",
            "Epoch:  5\n"
          ]
        },
        {
          "output_type": "stream",
          "name": "stderr",
          "text": [
            "100%|██████████| 75/75 [00:00<00:00, 509.94it/s]\n"
          ]
        },
        {
          "output_type": "stream",
          "name": "stdout",
          "text": [
            "Training Loss:  1.149164095382391\n",
            "Training Accuracy:  63.833333333333336\n",
            "Batch size:  16\n",
            "Test Loss:  1.1834129883617823\n",
            "Testing Accuracy:  63.65\n",
            "Epoch:  6\n"
          ]
        },
        {
          "output_type": "stream",
          "name": "stderr",
          "text": [
            "100%|██████████| 75/75 [00:00<00:00, 501.12it/s]\n"
          ]
        },
        {
          "output_type": "stream",
          "name": "stdout",
          "text": [
            "Training Loss:  1.0334622244070528\n",
            "Training Accuracy:  65.5\n",
            "Batch size:  16\n",
            "Test Loss:  1.0744711388916233\n",
            "Testing Accuracy:  64.75\n",
            "Epoch:  7\n"
          ]
        },
        {
          "output_type": "stream",
          "name": "stderr",
          "text": [
            "100%|██████████| 75/75 [00:00<00:00, 502.31it/s]\n"
          ]
        },
        {
          "output_type": "stream",
          "name": "stdout",
          "text": [
            "Training Loss:  0.9431596093394078\n",
            "Training Accuracy:  66.83333333333333\n",
            "Batch size:  16\n",
            "Test Loss:  0.9915099457191638\n",
            "Testing Accuracy:  65.5\n",
            "Epoch:  8\n"
          ]
        },
        {
          "output_type": "stream",
          "name": "stderr",
          "text": [
            "100%|██████████| 75/75 [00:00<00:00, 448.64it/s]\n"
          ]
        },
        {
          "output_type": "stream",
          "name": "stdout",
          "text": [
            "Training Loss:  0.8736253907065702\n",
            "Training Accuracy:  69.25\n",
            "Batch size:  16\n",
            "Test Loss:  0.9293239145176356\n",
            "Testing Accuracy:  67.34\n",
            "Epoch:  9\n"
          ]
        },
        {
          "output_type": "stream",
          "name": "stderr",
          "text": [
            "100%|██████████| 75/75 [00:00<00:00, 440.39it/s]\n"
          ]
        },
        {
          "output_type": "stream",
          "name": "stdout",
          "text": [
            "Training Loss:  0.8204464513678935\n",
            "Training Accuracy:  71.41666666666667\n",
            "Batch size:  16\n",
            "Test Loss:  0.8823623004174574\n",
            "Testing Accuracy:  69.2\n",
            "Epoch:  10\n"
          ]
        },
        {
          "output_type": "stream",
          "name": "stderr",
          "text": [
            "100%|██████████| 75/75 [00:00<00:00, 495.29it/s]\n"
          ]
        },
        {
          "output_type": "stream",
          "name": "stdout",
          "text": [
            "Training Loss:  0.7775132612388532\n",
            "Training Accuracy:  72.66666666666667\n",
            "Batch size:  16\n",
            "Test Loss:  0.845859756680274\n",
            "Testing Accuracy:  70.46\n",
            "Epoch:  11\n"
          ]
        },
        {
          "output_type": "stream",
          "name": "stderr",
          "text": [
            "100%|██████████| 75/75 [00:00<00:00, 488.04it/s]\n"
          ]
        },
        {
          "output_type": "stream",
          "name": "stdout",
          "text": [
            "Training Loss:  0.7414990032171526\n",
            "Training Accuracy:  74.0\n",
            "Batch size:  16\n",
            "Test Loss:  0.8159873817109145\n",
            "Testing Accuracy:  71.78\n",
            "Epoch:  12\n"
          ]
        },
        {
          "output_type": "stream",
          "name": "stderr",
          "text": [
            "100%|██████████| 75/75 [00:00<00:00, 522.80it/s]\n"
          ]
        },
        {
          "output_type": "stream",
          "name": "stdout",
          "text": [
            "Training Loss:  0.7099033155345192\n",
            "Training Accuracy:  75.0\n",
            "Batch size:  16\n",
            "Test Loss:  0.7907373033544088\n",
            "Testing Accuracy:  72.64\n",
            "Epoch:  13\n"
          ]
        },
        {
          "output_type": "stream",
          "name": "stderr",
          "text": [
            "100%|██████████| 75/75 [00:00<00:00, 447.05it/s]\n"
          ]
        },
        {
          "output_type": "stream",
          "name": "stdout",
          "text": [
            "Training Loss:  0.6817803781185598\n",
            "Training Accuracy:  76.41666666666667\n",
            "Batch size:  16\n",
            "Test Loss:  0.7689233643854619\n",
            "Testing Accuracy:  73.69\n",
            "Epoch:  14\n"
          ]
        },
        {
          "output_type": "stream",
          "name": "stderr",
          "text": [
            "100%|██████████| 75/75 [00:00<00:00, 476.44it/s]\n"
          ]
        },
        {
          "output_type": "stream",
          "name": "stdout",
          "text": [
            "Training Loss:  0.6567273336886894\n",
            "Training Accuracy:  77.0\n",
            "Batch size:  16\n",
            "Test Loss:  0.7499781961360557\n",
            "Testing Accuracy:  74.55\n",
            "Epoch:  15\n"
          ]
        },
        {
          "output_type": "stream",
          "name": "stderr",
          "text": [
            "100%|██████████| 75/75 [00:00<00:00, 442.57it/s]\n"
          ]
        },
        {
          "output_type": "stream",
          "name": "stdout",
          "text": [
            "Training Loss:  0.6351924251771128\n",
            "Training Accuracy:  77.58333333333333\n",
            "Batch size:  16\n",
            "Test Loss:  0.7340853983382674\n",
            "Testing Accuracy:  75.12\n",
            "Epoch:  16\n"
          ]
        },
        {
          "output_type": "stream",
          "name": "stderr",
          "text": [
            "100%|██████████| 75/75 [00:00<00:00, 474.47it/s]\n"
          ]
        },
        {
          "output_type": "stream",
          "name": "stdout",
          "text": [
            "Training Loss:  0.6156002139014831\n",
            "Training Accuracy:  78.41666666666667\n",
            "Batch size:  16\n",
            "Test Loss:  0.719977291519044\n",
            "Testing Accuracy:  75.53\n",
            "Epoch:  17\n"
          ]
        },
        {
          "output_type": "stream",
          "name": "stderr",
          "text": [
            "100%|██████████| 75/75 [00:00<00:00, 426.00it/s]\n"
          ]
        },
        {
          "output_type": "stream",
          "name": "stdout",
          "text": [
            "Training Loss:  0.5975481384868148\n",
            "Training Accuracy:  79.33333333333333\n",
            "Batch size:  16\n",
            "Test Loss:  0.7072120608594336\n",
            "Testing Accuracy:  76.06\n",
            "Epoch:  18\n"
          ]
        },
        {
          "output_type": "stream",
          "name": "stderr",
          "text": [
            "100%|██████████| 75/75 [00:00<00:00, 462.42it/s]\n"
          ]
        },
        {
          "output_type": "stream",
          "name": "stdout",
          "text": [
            "Training Loss:  0.5811632595650097\n",
            "Training Accuracy:  80.0\n",
            "Batch size:  16\n",
            "Test Loss:  0.6955714780725409\n",
            "Testing Accuracy:  76.47\n",
            "Epoch:  19\n"
          ]
        },
        {
          "output_type": "stream",
          "name": "stderr",
          "text": [
            "100%|██████████| 75/75 [00:00<00:00, 419.25it/s]\n"
          ]
        },
        {
          "output_type": "stream",
          "name": "stdout",
          "text": [
            "Training Loss:  0.5653260756565559\n",
            "Training Accuracy:  80.5\n",
            "Batch size:  16\n",
            "Test Loss:  0.6850981600474958\n",
            "Testing Accuracy:  76.9\n",
            "Epoch:  20\n"
          ]
        },
        {
          "output_type": "stream",
          "name": "stderr",
          "text": [
            "100%|██████████| 75/75 [00:00<00:00, 493.78it/s]\n"
          ]
        },
        {
          "output_type": "stream",
          "name": "stdout",
          "text": [
            "Training Loss:  0.5513730625057598\n",
            "Training Accuracy:  81.0\n",
            "Batch size:  16\n",
            "Test Loss:  0.6757440011426705\n",
            "Testing Accuracy:  77.24\n",
            "Epoch:  21\n"
          ]
        },
        {
          "output_type": "stream",
          "name": "stderr",
          "text": [
            "100%|██████████| 75/75 [00:00<00:00, 508.19it/s]\n"
          ]
        },
        {
          "output_type": "stream",
          "name": "stdout",
          "text": [
            "Training Loss:  0.5379849581955353\n",
            "Training Accuracy:  81.0\n",
            "Batch size:  16\n",
            "Test Loss:  0.6676602145826716\n",
            "Testing Accuracy:  77.45\n",
            "Epoch:  22\n"
          ]
        },
        {
          "output_type": "stream",
          "name": "stderr",
          "text": [
            "100%|██████████| 75/75 [00:00<00:00, 473.00it/s]\n"
          ]
        },
        {
          "output_type": "stream",
          "name": "stdout",
          "text": [
            "Training Loss:  0.5255110142432148\n",
            "Training Accuracy:  81.41666666666667\n",
            "Batch size:  16\n",
            "Test Loss:  0.6602428818892249\n",
            "Testing Accuracy:  77.74\n",
            "Epoch:  23\n"
          ]
        },
        {
          "output_type": "stream",
          "name": "stderr",
          "text": [
            "100%|██████████| 75/75 [00:00<00:00, 477.70it/s]\n"
          ]
        },
        {
          "output_type": "stream",
          "name": "stdout",
          "text": [
            "Training Loss:  0.5138937770863652\n",
            "Training Accuracy:  81.58333333333333\n",
            "Batch size:  16\n",
            "Test Loss:  0.6536057820894803\n",
            "Testing Accuracy:  77.99\n",
            "Epoch:  24\n"
          ]
        },
        {
          "output_type": "stream",
          "name": "stderr",
          "text": [
            "100%|██████████| 75/75 [00:00<00:00, 408.40it/s]\n"
          ]
        },
        {
          "output_type": "stream",
          "name": "stdout",
          "text": [
            "Training Loss:  0.5029590112062423\n",
            "Training Accuracy:  82.41666666666667\n",
            "Batch size:  16\n",
            "Test Loss:  0.6478549611363896\n",
            "Testing Accuracy:  78.25\n",
            "Epoch:  25\n"
          ]
        },
        {
          "output_type": "stream",
          "name": "stderr",
          "text": [
            "100%|██████████| 75/75 [00:00<00:00, 494.42it/s]\n"
          ]
        },
        {
          "output_type": "stream",
          "name": "stdout",
          "text": [
            "Training Loss:  0.49242731313432386\n",
            "Training Accuracy:  82.66666666666667\n",
            "Batch size:  16\n",
            "Test Loss:  0.642423538806717\n",
            "Testing Accuracy:  78.45\n",
            "Epoch:  26\n"
          ]
        },
        {
          "output_type": "stream",
          "name": "stderr",
          "text": [
            "100%|██████████| 75/75 [00:00<00:00, 472.40it/s]\n"
          ]
        },
        {
          "output_type": "stream",
          "name": "stdout",
          "text": [
            "Training Loss:  0.48241773774840035\n",
            "Training Accuracy:  83.08333333333333\n",
            "Batch size:  16\n",
            "Test Loss:  0.637613734858379\n",
            "Testing Accuracy:  78.7\n",
            "Epoch:  27\n"
          ]
        },
        {
          "output_type": "stream",
          "name": "stderr",
          "text": [
            "100%|██████████| 75/75 [00:00<00:00, 506.27it/s]\n"
          ]
        },
        {
          "output_type": "stream",
          "name": "stdout",
          "text": [
            "Training Loss:  0.4729812058429634\n",
            "Training Accuracy:  83.41666666666667\n",
            "Batch size:  16\n",
            "Test Loss:  0.6335729674469168\n",
            "Testing Accuracy:  78.88\n",
            "Epoch:  28\n"
          ]
        },
        {
          "output_type": "stream",
          "name": "stderr",
          "text": [
            "100%|██████████| 75/75 [00:00<00:00, 413.02it/s]\n"
          ]
        },
        {
          "output_type": "stream",
          "name": "stdout",
          "text": [
            "Training Loss:  0.46413627812433883\n",
            "Training Accuracy:  83.83333333333333\n",
            "Batch size:  16\n",
            "Test Loss:  0.6294188422081923\n",
            "Testing Accuracy:  79.1\n",
            "Epoch:  29\n"
          ]
        },
        {
          "output_type": "stream",
          "name": "stderr",
          "text": [
            "100%|██████████| 75/75 [00:00<00:00, 469.30it/s]\n"
          ]
        },
        {
          "output_type": "stream",
          "name": "stdout",
          "text": [
            "Training Loss:  0.45565759517299154\n",
            "Training Accuracy:  84.25\n",
            "Batch size:  16\n",
            "Test Loss:  0.6259051818942287\n",
            "Testing Accuracy:  79.3\n",
            "Epoch:  30\n"
          ]
        },
        {
          "output_type": "stream",
          "name": "stderr",
          "text": [
            "100%|██████████| 75/75 [00:00<00:00, 496.77it/s]\n"
          ]
        },
        {
          "output_type": "stream",
          "name": "stdout",
          "text": [
            "Training Loss:  0.44758304770797147\n",
            "Training Accuracy:  84.41666666666667\n",
            "Batch size:  16\n",
            "Test Loss:  0.6226328848986277\n",
            "Testing Accuracy:  79.49\n",
            "Epoch:  31\n"
          ]
        },
        {
          "output_type": "stream",
          "name": "stderr",
          "text": [
            "100%|██████████| 75/75 [00:00<00:00, 449.13it/s]\n"
          ]
        },
        {
          "output_type": "stream",
          "name": "stdout",
          "text": [
            "Training Loss:  0.4397421292736753\n",
            "Training Accuracy:  84.58333333333333\n",
            "Batch size:  16\n",
            "Test Loss:  0.6196794544751564\n",
            "Testing Accuracy:  79.6\n",
            "Epoch:  32\n"
          ]
        },
        {
          "output_type": "stream",
          "name": "stderr",
          "text": [
            "100%|██████████| 75/75 [00:00<00:00, 427.25it/s]\n"
          ]
        },
        {
          "output_type": "stream",
          "name": "stdout",
          "text": [
            "Training Loss:  0.43181457221184133\n",
            "Training Accuracy:  84.75\n",
            "Batch size:  16\n",
            "Test Loss:  0.61677835617129\n",
            "Testing Accuracy:  79.73\n",
            "Epoch:  33\n"
          ]
        },
        {
          "output_type": "stream",
          "name": "stderr",
          "text": [
            "100%|██████████| 75/75 [00:00<00:00, 188.29it/s]\n"
          ]
        },
        {
          "output_type": "stream",
          "name": "stdout",
          "text": [
            "Training Loss:  0.42449938011552296\n",
            "Training Accuracy:  85.08333333333333\n",
            "Batch size:  16\n",
            "Test Loss:  0.6143709725034587\n",
            "Testing Accuracy:  79.76\n",
            "Epoch:  34\n"
          ]
        },
        {
          "output_type": "stream",
          "name": "stderr",
          "text": [
            "100%|██████████| 75/75 [00:00<00:00, 184.87it/s]\n"
          ]
        },
        {
          "output_type": "stream",
          "name": "stdout",
          "text": [
            "Training Loss:  0.41732017783483566\n",
            "Training Accuracy:  85.33333333333333\n",
            "Batch size:  16\n",
            "Test Loss:  0.6124071102217655\n",
            "Testing Accuracy:  79.87\n",
            "Epoch:  35\n"
          ]
        },
        {
          "output_type": "stream",
          "name": "stderr",
          "text": [
            "100%|██████████| 75/75 [00:00<00:00, 182.86it/s]\n"
          ]
        },
        {
          "output_type": "stream",
          "name": "stdout",
          "text": [
            "Training Loss:  0.4104204661595233\n",
            "Training Accuracy:  85.75\n",
            "Batch size:  16\n",
            "Test Loss:  0.6104320712340123\n",
            "Testing Accuracy:  79.97\n",
            "Epoch:  36\n"
          ]
        },
        {
          "output_type": "stream",
          "name": "stderr",
          "text": [
            "100%|██████████| 75/75 [00:00<00:00, 212.31it/s]\n"
          ]
        },
        {
          "output_type": "stream",
          "name": "stdout",
          "text": [
            "Training Loss:  0.40362933870859585\n",
            "Training Accuracy:  85.91666666666667\n",
            "Batch size:  16\n",
            "Test Loss:  0.6090609995830076\n",
            "Testing Accuracy:  80.11\n",
            "Epoch:  37\n"
          ]
        },
        {
          "output_type": "stream",
          "name": "stderr",
          "text": [
            "100%|██████████| 75/75 [00:00<00:00, 166.55it/s]\n"
          ]
        },
        {
          "output_type": "stream",
          "name": "stdout",
          "text": [
            "Training Loss:  0.39701483680833954\n",
            "Training Accuracy:  86.33333333333333\n",
            "Batch size:  16\n",
            "Test Loss:  0.607429810797232\n",
            "Testing Accuracy:  80.1\n",
            "Epoch:  38\n"
          ]
        },
        {
          "output_type": "stream",
          "name": "stderr",
          "text": [
            "100%|██████████| 75/75 [00:00<00:00, 174.17it/s]\n"
          ]
        },
        {
          "output_type": "stream",
          "name": "stdout",
          "text": [
            "Training Loss:  0.39074967910432423\n",
            "Training Accuracy:  86.75\n",
            "Batch size:  16\n",
            "Test Loss:  0.6064861401990294\n",
            "Testing Accuracy:  80.11\n",
            "Epoch:  39\n"
          ]
        },
        {
          "output_type": "stream",
          "name": "stderr",
          "text": [
            "100%|██████████| 75/75 [00:00<00:00, 488.74it/s]\n"
          ]
        },
        {
          "output_type": "stream",
          "name": "stdout",
          "text": [
            "Training Loss:  0.38441790703709655\n",
            "Training Accuracy:  87.0\n",
            "Batch size:  16\n",
            "Test Loss:  0.6058043365256128\n",
            "Testing Accuracy:  80.14\n",
            "Epoch:  40\n"
          ]
        },
        {
          "output_type": "stream",
          "name": "stderr",
          "text": [
            "100%|██████████| 75/75 [00:00<00:00, 417.32it/s]\n"
          ]
        },
        {
          "output_type": "stream",
          "name": "stdout",
          "text": [
            "Training Loss:  0.37818838386779086\n",
            "Training Accuracy:  87.33333333333333\n",
            "Batch size:  16\n",
            "Test Loss:  0.605167458228991\n",
            "Testing Accuracy:  80.23\n",
            "Epoch:  41\n"
          ]
        },
        {
          "output_type": "stream",
          "name": "stderr",
          "text": [
            "100%|██████████| 75/75 [00:00<00:00, 513.03it/s]\n"
          ]
        },
        {
          "output_type": "stream",
          "name": "stdout",
          "text": [
            "Training Loss:  0.37243152032491206\n",
            "Training Accuracy:  87.5\n",
            "Batch size:  16\n",
            "Test Loss:  0.6049906029261309\n",
            "Testing Accuracy:  80.26\n",
            "Epoch:  42\n"
          ]
        },
        {
          "output_type": "stream",
          "name": "stderr",
          "text": [
            "100%|██████████| 75/75 [00:00<00:00, 512.80it/s]\n"
          ]
        },
        {
          "output_type": "stream",
          "name": "stdout",
          "text": [
            "Training Loss:  0.3665977655102859\n",
            "Training Accuracy:  87.75\n",
            "Batch size:  16\n",
            "Test Loss:  0.6045420521835131\n",
            "Testing Accuracy:  80.29\n",
            "Epoch:  43\n"
          ]
        },
        {
          "output_type": "stream",
          "name": "stderr",
          "text": [
            "100%|██████████| 75/75 [00:00<00:00, 497.61it/s]\n"
          ]
        },
        {
          "output_type": "stream",
          "name": "stdout",
          "text": [
            "Training Loss:  0.3608486106900878\n",
            "Training Accuracy:  88.08333333333333\n",
            "Batch size:  16\n",
            "Test Loss:  0.6047118978322004\n",
            "Testing Accuracy:  80.34\n",
            "Epoch:  44\n"
          ]
        },
        {
          "output_type": "stream",
          "name": "stderr",
          "text": [
            "100%|██████████| 75/75 [00:00<00:00, 396.10it/s]\n"
          ]
        },
        {
          "output_type": "stream",
          "name": "stdout",
          "text": [
            "Training Loss:  0.3553238413497951\n",
            "Training Accuracy:  88.16666666666667\n",
            "Batch size:  16\n",
            "Test Loss:  0.604287292634999\n",
            "Testing Accuracy:  80.43\n",
            "Epoch:  45\n"
          ]
        },
        {
          "output_type": "stream",
          "name": "stderr",
          "text": [
            "100%|██████████| 75/75 [00:00<00:00, 532.40it/s]\n"
          ]
        },
        {
          "output_type": "stream",
          "name": "stdout",
          "text": [
            "Training Loss:  0.3500846267683424\n",
            "Training Accuracy:  88.5\n",
            "Batch size:  16\n",
            "Test Loss:  0.6041325023528048\n",
            "Testing Accuracy:  80.49\n",
            "Epoch:  46\n"
          ]
        },
        {
          "output_type": "stream",
          "name": "stderr",
          "text": [
            "100%|██████████| 75/75 [00:00<00:00, 503.35it/s]\n"
          ]
        },
        {
          "output_type": "stream",
          "name": "stdout",
          "text": [
            "Training Loss:  0.34503379094393355\n",
            "Training Accuracy:  89.0\n",
            "Batch size:  16\n",
            "Test Loss:  0.6041769290634336\n",
            "Testing Accuracy:  80.59\n",
            "Epoch:  47\n"
          ]
        },
        {
          "output_type": "stream",
          "name": "stderr",
          "text": [
            "100%|██████████| 75/75 [00:00<00:00, 477.32it/s]\n"
          ]
        },
        {
          "output_type": "stream",
          "name": "stdout",
          "text": [
            "Training Loss:  0.34018908221930955\n",
            "Training Accuracy:  88.75\n",
            "Batch size:  16\n",
            "Test Loss:  0.6048591974742686\n",
            "Testing Accuracy:  80.67\n",
            "Epoch:  48\n"
          ]
        },
        {
          "output_type": "stream",
          "name": "stderr",
          "text": [
            "100%|██████████| 75/75 [00:00<00:00, 467.41it/s]\n"
          ]
        },
        {
          "output_type": "stream",
          "name": "stdout",
          "text": [
            "Training Loss:  0.3352477508224738\n",
            "Training Accuracy:  89.08333333333333\n",
            "Batch size:  16\n",
            "Test Loss:  0.6052721573179349\n",
            "Testing Accuracy:  80.74\n",
            "Epoch:  49\n"
          ]
        },
        {
          "output_type": "stream",
          "name": "stderr",
          "text": [
            "100%|██████████| 75/75 [00:00<00:00, 503.91it/s]\n"
          ]
        },
        {
          "output_type": "stream",
          "name": "stdout",
          "text": [
            "Training Loss:  0.33068557179219216\n",
            "Training Accuracy:  89.16666666666667\n",
            "Batch size:  16\n",
            "Test Loss:  0.6057761868232238\n",
            "Testing Accuracy:  80.71\n",
            "Epoch:  50\n"
          ]
        },
        {
          "output_type": "stream",
          "name": "stderr",
          "text": [
            "100%|██████████| 75/75 [00:00<00:00, 499.83it/s]\n"
          ]
        },
        {
          "output_type": "stream",
          "name": "stdout",
          "text": [
            "Training Loss:  0.32563730943202723\n",
            "Training Accuracy:  89.25\n",
            "Batch size:  16\n",
            "Test Loss:  0.6055754106722515\n",
            "Testing Accuracy:  80.73\n",
            "Epoch:  51\n"
          ]
        },
        {
          "output_type": "stream",
          "name": "stderr",
          "text": [
            "100%|██████████| 75/75 [00:00<00:00, 488.84it/s]\n"
          ]
        },
        {
          "output_type": "stream",
          "name": "stdout",
          "text": [
            "Training Loss:  0.3208414181714374\n",
            "Training Accuracy:  89.33333333333333\n",
            "Batch size:  16\n",
            "Test Loss:  0.6063422915056089\n",
            "Testing Accuracy:  80.74\n",
            "Epoch:  52\n"
          ]
        },
        {
          "output_type": "stream",
          "name": "stderr",
          "text": [
            "100%|██████████| 75/75 [00:00<00:00, 502.53it/s]\n"
          ]
        },
        {
          "output_type": "stream",
          "name": "stdout",
          "text": [
            "Training Loss:  0.31627568291190566\n",
            "Training Accuracy:  89.58333333333333\n",
            "Batch size:  16\n",
            "Test Loss:  0.6069129890673974\n",
            "Testing Accuracy:  80.81\n",
            "Epoch:  53\n"
          ]
        },
        {
          "output_type": "stream",
          "name": "stderr",
          "text": [
            "100%|██████████| 75/75 [00:00<00:00, 496.69it/s]\n"
          ]
        },
        {
          "output_type": "stream",
          "name": "stdout",
          "text": [
            "Training Loss:  0.3114950063258799\n",
            "Training Accuracy:  89.91666666666667\n",
            "Batch size:  16\n",
            "Test Loss:  0.6074338770885406\n",
            "Testing Accuracy:  80.86\n",
            "Epoch:  54\n"
          ]
        },
        {
          "output_type": "stream",
          "name": "stderr",
          "text": [
            "100%|██████████| 75/75 [00:00<00:00, 473.49it/s]\n"
          ]
        },
        {
          "output_type": "stream",
          "name": "stdout",
          "text": [
            "Training Loss:  0.3072496025778116\n",
            "Training Accuracy:  90.0\n",
            "Batch size:  16\n",
            "Test Loss:  0.608448282852977\n",
            "Testing Accuracy:  80.9\n",
            "Epoch:  55\n"
          ]
        },
        {
          "output_type": "stream",
          "name": "stderr",
          "text": [
            "100%|██████████| 75/75 [00:00<00:00, 400.02it/s]\n"
          ]
        },
        {
          "output_type": "stream",
          "name": "stdout",
          "text": [
            "Training Loss:  0.3031210179519573\n",
            "Training Accuracy:  90.41666666666667\n",
            "Batch size:  16\n",
            "Test Loss:  0.6098339478573161\n",
            "Testing Accuracy:  80.94\n",
            "Epoch:  56\n"
          ]
        },
        {
          "output_type": "stream",
          "name": "stderr",
          "text": [
            "100%|██████████| 75/75 [00:00<00:00, 520.26it/s]\n"
          ]
        },
        {
          "output_type": "stream",
          "name": "stdout",
          "text": [
            "Training Loss:  0.29868950836086905\n",
            "Training Accuracy:  90.5\n",
            "Batch size:  16\n",
            "Test Loss:  0.610790597369261\n",
            "Testing Accuracy:  80.99\n",
            "Epoch:  57\n"
          ]
        },
        {
          "output_type": "stream",
          "name": "stderr",
          "text": [
            "100%|██████████| 75/75 [00:00<00:00, 507.32it/s]\n"
          ]
        },
        {
          "output_type": "stream",
          "name": "stdout",
          "text": [
            "Training Loss:  0.2945895658320092\n",
            "Training Accuracy:  90.58333333333333\n",
            "Batch size:  16\n",
            "Test Loss:  0.6122131612091714\n",
            "Testing Accuracy:  81.03\n",
            "Epoch:  58\n"
          ]
        },
        {
          "output_type": "stream",
          "name": "stderr",
          "text": [
            "100%|██████████| 75/75 [00:00<00:00, 484.27it/s]\n"
          ]
        },
        {
          "output_type": "stream",
          "name": "stdout",
          "text": [
            "Training Loss:  0.2902723656222693\n",
            "Training Accuracy:  90.58333333333333\n",
            "Batch size:  16\n",
            "Test Loss:  0.6130807291298699\n",
            "Testing Accuracy:  81.03\n",
            "Epoch:  59\n"
          ]
        },
        {
          "output_type": "stream",
          "name": "stderr",
          "text": [
            "100%|██████████| 75/75 [00:00<00:00, 368.14it/s]\n"
          ]
        },
        {
          "output_type": "stream",
          "name": "stdout",
          "text": [
            "Training Loss:  0.28634944912279753\n",
            "Training Accuracy:  90.58333333333333\n",
            "Batch size:  16\n",
            "Test Loss:  0.6145730762617698\n",
            "Testing Accuracy:  81.03\n",
            "Epoch:  60\n"
          ]
        },
        {
          "output_type": "stream",
          "name": "stderr",
          "text": [
            "100%|██████████| 75/75 [00:00<00:00, 524.16it/s]\n"
          ]
        },
        {
          "output_type": "stream",
          "name": "stdout",
          "text": [
            "Training Loss:  0.2821430079790523\n",
            "Training Accuracy:  90.66666666666667\n",
            "Batch size:  16\n",
            "Test Loss:  0.615689064542936\n",
            "Testing Accuracy:  81.12\n",
            "Epoch:  61\n"
          ]
        },
        {
          "output_type": "stream",
          "name": "stderr",
          "text": [
            "100%|██████████| 75/75 [00:00<00:00, 508.77it/s]\n"
          ]
        },
        {
          "output_type": "stream",
          "name": "stdout",
          "text": [
            "Training Loss:  0.2777670763424544\n",
            "Training Accuracy:  90.66666666666667\n",
            "Batch size:  16\n",
            "Test Loss:  0.6163534122095992\n",
            "Testing Accuracy:  81.12\n",
            "Epoch:  62\n"
          ]
        },
        {
          "output_type": "stream",
          "name": "stderr",
          "text": [
            "100%|██████████| 75/75 [00:00<00:00, 483.21it/s]\n"
          ]
        },
        {
          "output_type": "stream",
          "name": "stdout",
          "text": [
            "Training Loss:  0.2741983065487694\n",
            "Training Accuracy:  90.75\n",
            "Batch size:  16\n",
            "Test Loss:  0.6177701708778207\n",
            "Testing Accuracy:  81.12\n",
            "Epoch:  63\n"
          ]
        },
        {
          "output_type": "stream",
          "name": "stderr",
          "text": [
            "100%|██████████| 75/75 [00:00<00:00, 382.69it/s]\n"
          ]
        },
        {
          "output_type": "stream",
          "name": "stdout",
          "text": [
            "Training Loss:  0.27026894821173547\n",
            "Training Accuracy:  90.91666666666667\n",
            "Batch size:  16\n",
            "Test Loss:  0.619207814394355\n",
            "Testing Accuracy:  81.14\n",
            "Epoch:  64\n"
          ]
        },
        {
          "output_type": "stream",
          "name": "stderr",
          "text": [
            "100%|██████████| 75/75 [00:00<00:00, 477.33it/s]\n"
          ]
        },
        {
          "output_type": "stream",
          "name": "stdout",
          "text": [
            "Training Loss:  0.26670517605357846\n",
            "Training Accuracy:  91.0\n",
            "Batch size:  16\n",
            "Test Loss:  0.6206624964948727\n",
            "Testing Accuracy:  81.22\n",
            "Epoch:  65\n"
          ]
        },
        {
          "output_type": "stream",
          "name": "stderr",
          "text": [
            "100%|██████████| 75/75 [00:00<00:00, 478.04it/s]\n"
          ]
        },
        {
          "output_type": "stream",
          "name": "stdout",
          "text": [
            "Training Loss:  0.2629476171902388\n",
            "Training Accuracy:  91.25\n",
            "Batch size:  16\n",
            "Test Loss:  0.6222797522410722\n",
            "Testing Accuracy:  81.19\n",
            "Epoch:  66\n"
          ]
        },
        {
          "output_type": "stream",
          "name": "stderr",
          "text": [
            "100%|██████████| 75/75 [00:00<00:00, 427.94it/s]\n"
          ]
        },
        {
          "output_type": "stream",
          "name": "stdout",
          "text": [
            "Training Loss:  0.2593914615987041\n",
            "Training Accuracy:  91.41666666666667\n",
            "Batch size:  16\n",
            "Test Loss:  0.6241086945625116\n",
            "Testing Accuracy:  81.14\n",
            "Epoch:  67\n"
          ]
        },
        {
          "output_type": "stream",
          "name": "stderr",
          "text": [
            "100%|██████████| 75/75 [00:00<00:00, 489.52it/s]\n"
          ]
        },
        {
          "output_type": "stream",
          "name": "stdout",
          "text": [
            "Training Loss:  0.255274342096039\n",
            "Training Accuracy:  91.58333333333333\n",
            "Batch size:  16\n",
            "Test Loss:  0.6251314284964049\n",
            "Testing Accuracy:  81.27\n",
            "Epoch:  68\n"
          ]
        },
        {
          "output_type": "stream",
          "name": "stderr",
          "text": [
            "100%|██████████| 75/75 [00:00<00:00, 512.33it/s]\n"
          ]
        },
        {
          "output_type": "stream",
          "name": "stdout",
          "text": [
            "Training Loss:  0.2517978192043921\n",
            "Training Accuracy:  91.83333333333333\n",
            "Batch size:  16\n",
            "Test Loss:  0.6269807860441168\n",
            "Testing Accuracy:  81.26\n",
            "Epoch:  69\n"
          ]
        },
        {
          "output_type": "stream",
          "name": "stderr",
          "text": [
            "100%|██████████| 75/75 [00:00<00:00, 487.40it/s]\n"
          ]
        },
        {
          "output_type": "stream",
          "name": "stdout",
          "text": [
            "Training Loss:  0.24834448021057842\n",
            "Training Accuracy:  91.91666666666667\n",
            "Batch size:  16\n",
            "Test Loss:  0.6290959126514925\n",
            "Testing Accuracy:  81.23\n",
            "Epoch:  70\n"
          ]
        },
        {
          "output_type": "stream",
          "name": "stderr",
          "text": [
            "100%|██████████| 75/75 [00:00<00:00, 505.39it/s]\n"
          ]
        },
        {
          "output_type": "stream",
          "name": "stdout",
          "text": [
            "Training Loss:  0.24490092515733353\n",
            "Training Accuracy:  92.25\n",
            "Batch size:  16\n",
            "Test Loss:  0.6307232857491426\n",
            "Testing Accuracy:  81.24\n",
            "Epoch:  71\n"
          ]
        },
        {
          "output_type": "stream",
          "name": "stderr",
          "text": [
            "100%|██████████| 75/75 [00:00<00:00, 496.50it/s]\n"
          ]
        },
        {
          "output_type": "stream",
          "name": "stdout",
          "text": [
            "Training Loss:  0.24117313343077437\n",
            "Training Accuracy:  92.75\n",
            "Batch size:  16\n",
            "Test Loss:  0.6322689380183696\n",
            "Testing Accuracy:  81.34\n",
            "Epoch:  72\n"
          ]
        },
        {
          "output_type": "stream",
          "name": "stderr",
          "text": [
            "100%|██████████| 75/75 [00:00<00:00, 529.72it/s]\n"
          ]
        },
        {
          "output_type": "stream",
          "name": "stdout",
          "text": [
            "Training Loss:  0.23795316689007553\n",
            "Training Accuracy:  92.83333333333333\n",
            "Batch size:  16\n",
            "Test Loss:  0.634678123621314\n",
            "Testing Accuracy:  81.34\n",
            "Epoch:  73\n"
          ]
        },
        {
          "output_type": "stream",
          "name": "stderr",
          "text": [
            "100%|██████████| 75/75 [00:00<00:00, 487.20it/s]\n"
          ]
        },
        {
          "output_type": "stream",
          "name": "stdout",
          "text": [
            "Training Loss:  0.23426249082851466\n",
            "Training Accuracy:  93.0\n",
            "Batch size:  16\n",
            "Test Loss:  0.637057296550265\n",
            "Testing Accuracy:  81.3\n",
            "Epoch:  74\n"
          ]
        },
        {
          "output_type": "stream",
          "name": "stderr",
          "text": [
            "100%|██████████| 75/75 [00:00<00:00, 440.15it/s]\n"
          ]
        },
        {
          "output_type": "stream",
          "name": "stdout",
          "text": [
            "Training Loss:  0.23081638629230677\n",
            "Training Accuracy:  93.08333333333333\n",
            "Batch size:  16\n",
            "Test Loss:  0.6398802824956287\n",
            "Testing Accuracy:  81.29\n",
            "Epoch:  75\n"
          ]
        },
        {
          "output_type": "stream",
          "name": "stderr",
          "text": [
            "100%|██████████| 75/75 [00:00<00:00, 207.58it/s]\n"
          ]
        },
        {
          "output_type": "stream",
          "name": "stdout",
          "text": [
            "Training Loss:  0.22795439650765004\n",
            "Training Accuracy:  93.08333333333333\n",
            "Batch size:  16\n",
            "Test Loss:  0.6425199216533609\n",
            "Testing Accuracy:  81.34\n",
            "Epoch:  76\n"
          ]
        },
        {
          "output_type": "stream",
          "name": "stderr",
          "text": [
            "100%|██████████| 75/75 [00:00<00:00, 192.54it/s]\n"
          ]
        },
        {
          "output_type": "stream",
          "name": "stdout",
          "text": [
            "Training Loss:  0.22497077030846493\n",
            "Training Accuracy:  93.16666666666667\n",
            "Batch size:  16\n",
            "Test Loss:  0.6453817066471004\n",
            "Testing Accuracy:  81.31\n",
            "Epoch:  77\n"
          ]
        },
        {
          "output_type": "stream",
          "name": "stderr",
          "text": [
            "100%|██████████| 75/75 [00:00<00:00, 227.90it/s]\n"
          ]
        },
        {
          "output_type": "stream",
          "name": "stdout",
          "text": [
            "Training Loss:  0.22209046618012668\n",
            "Training Accuracy:  93.16666666666667\n",
            "Batch size:  16\n",
            "Test Loss:  0.6483066272678709\n",
            "Testing Accuracy:  81.31\n",
            "Epoch:  78\n"
          ]
        },
        {
          "output_type": "stream",
          "name": "stderr",
          "text": [
            "100%|██████████| 75/75 [00:00<00:00, 193.15it/s]\n"
          ]
        },
        {
          "output_type": "stream",
          "name": "stdout",
          "text": [
            "Training Loss:  0.2182515245492871\n",
            "Training Accuracy:  93.5\n",
            "Batch size:  16\n",
            "Test Loss:  0.6496074014095493\n",
            "Testing Accuracy:  81.33\n",
            "Epoch:  79\n"
          ]
        },
        {
          "output_type": "stream",
          "name": "stderr",
          "text": [
            "100%|██████████| 75/75 [00:00<00:00, 172.15it/s]\n"
          ]
        },
        {
          "output_type": "stream",
          "name": "stdout",
          "text": [
            "Training Loss:  0.2149393715547645\n",
            "Training Accuracy:  93.58333333333333\n",
            "Batch size:  16\n",
            "Test Loss:  0.6520541649739033\n",
            "Testing Accuracy:  81.37\n",
            "Epoch:  80\n"
          ]
        },
        {
          "output_type": "stream",
          "name": "stderr",
          "text": [
            "100%|██████████| 75/75 [00:00<00:00, 383.46it/s]\n"
          ]
        },
        {
          "output_type": "stream",
          "name": "stdout",
          "text": [
            "Training Loss:  0.2113950376838396\n",
            "Training Accuracy:  93.83333333333333\n",
            "Batch size:  16\n",
            "Test Loss:  0.6545357335446249\n",
            "Testing Accuracy:  81.39\n",
            "Epoch:  81\n"
          ]
        },
        {
          "output_type": "stream",
          "name": "stderr",
          "text": [
            "100%|██████████| 75/75 [00:00<00:00, 491.83it/s]\n"
          ]
        },
        {
          "output_type": "stream",
          "name": "stdout",
          "text": [
            "Training Loss:  0.20819971025814651\n",
            "Training Accuracy:  93.75\n",
            "Batch size:  16\n",
            "Test Loss:  0.6561587811382878\n",
            "Testing Accuracy:  81.42\n",
            "Epoch:  82\n"
          ]
        },
        {
          "output_type": "stream",
          "name": "stderr",
          "text": [
            "100%|██████████| 75/75 [00:00<00:00, 485.27it/s]\n"
          ]
        },
        {
          "output_type": "stream",
          "name": "stdout",
          "text": [
            "Training Loss:  0.2048869527098531\n",
            "Training Accuracy:  93.83333333333333\n",
            "Batch size:  16\n",
            "Test Loss:  0.6592050696318745\n",
            "Testing Accuracy:  81.39\n",
            "Epoch:  83\n"
          ]
        },
        {
          "output_type": "stream",
          "name": "stderr",
          "text": [
            "100%|██████████| 75/75 [00:00<00:00, 506.81it/s]\n"
          ]
        },
        {
          "output_type": "stream",
          "name": "stdout",
          "text": [
            "Training Loss:  0.2018851109118088\n",
            "Training Accuracy:  94.0\n",
            "Batch size:  16\n",
            "Test Loss:  0.6622104731971509\n",
            "Testing Accuracy:  81.38\n",
            "Epoch:  84\n"
          ]
        },
        {
          "output_type": "stream",
          "name": "stderr",
          "text": [
            "100%|██████████| 75/75 [00:00<00:00, 508.74it/s]\n"
          ]
        },
        {
          "output_type": "stream",
          "name": "stdout",
          "text": [
            "Training Loss:  0.1988841316993401\n",
            "Training Accuracy:  94.08333333333333\n",
            "Batch size:  16\n",
            "Test Loss:  0.6649249440082556\n",
            "Testing Accuracy:  81.38\n",
            "Epoch:  85\n"
          ]
        },
        {
          "output_type": "stream",
          "name": "stderr",
          "text": [
            "100%|██████████| 75/75 [00:00<00:00, 488.84it/s]\n"
          ]
        },
        {
          "output_type": "stream",
          "name": "stdout",
          "text": [
            "Training Loss:  0.1956028290653866\n",
            "Training Accuracy:  94.16666666666667\n",
            "Batch size:  16\n",
            "Test Loss:  0.667572417627348\n",
            "Testing Accuracy:  81.44\n",
            "Epoch:  86\n"
          ]
        },
        {
          "output_type": "stream",
          "name": "stderr",
          "text": [
            "100%|██████████| 75/75 [00:00<00:00, 508.61it/s]\n"
          ]
        },
        {
          "output_type": "stream",
          "name": "stdout",
          "text": [
            "Training Loss:  0.193225125333338\n",
            "Training Accuracy:  94.16666666666667\n",
            "Batch size:  16\n",
            "Test Loss:  0.6718106064545608\n",
            "Testing Accuracy:  81.43\n",
            "Epoch:  87\n"
          ]
        },
        {
          "output_type": "stream",
          "name": "stderr",
          "text": [
            "100%|██████████| 75/75 [00:00<00:00, 432.42it/s]\n"
          ]
        },
        {
          "output_type": "stream",
          "name": "stdout",
          "text": [
            "Training Loss:  0.19002558693465596\n",
            "Training Accuracy:  94.16666666666667\n",
            "Batch size:  16\n",
            "Test Loss:  0.6748460876026091\n",
            "Testing Accuracy:  81.35\n",
            "Epoch:  88\n"
          ]
        },
        {
          "output_type": "stream",
          "name": "stderr",
          "text": [
            "100%|██████████| 75/75 [00:00<00:00, 500.30it/s]\n"
          ]
        },
        {
          "output_type": "stream",
          "name": "stdout",
          "text": [
            "Training Loss:  0.18726053205078974\n",
            "Training Accuracy:  94.33333333333333\n",
            "Batch size:  16\n",
            "Test Loss:  0.6780156827441937\n",
            "Testing Accuracy:  81.35\n",
            "Epoch:  89\n"
          ]
        },
        {
          "output_type": "stream",
          "name": "stderr",
          "text": [
            "100%|██████████| 75/75 [00:00<00:00, 399.25it/s]\n"
          ]
        },
        {
          "output_type": "stream",
          "name": "stdout",
          "text": [
            "Training Loss:  0.1842240606476643\n",
            "Training Accuracy:  94.41666666666667\n",
            "Batch size:  16\n",
            "Test Loss:  0.6808962091338879\n",
            "Testing Accuracy:  81.41\n",
            "Epoch:  90\n"
          ]
        },
        {
          "output_type": "stream",
          "name": "stderr",
          "text": [
            "100%|██████████| 75/75 [00:00<00:00, 492.25it/s]\n"
          ]
        },
        {
          "output_type": "stream",
          "name": "stdout",
          "text": [
            "Training Loss:  0.18160730144722195\n",
            "Training Accuracy:  94.5\n",
            "Batch size:  16\n",
            "Test Loss:  0.6841364944961222\n",
            "Testing Accuracy:  81.43\n",
            "Epoch:  91\n"
          ]
        },
        {
          "output_type": "stream",
          "name": "stderr",
          "text": [
            "100%|██████████| 75/75 [00:00<00:00, 428.86it/s]\n"
          ]
        },
        {
          "output_type": "stream",
          "name": "stdout",
          "text": [
            "Training Loss:  0.1790892487783474\n",
            "Training Accuracy:  94.58333333333333\n",
            "Batch size:  16\n",
            "Test Loss:  0.6873244656666935\n",
            "Testing Accuracy:  81.47\n",
            "Epoch:  92\n"
          ]
        },
        {
          "output_type": "stream",
          "name": "stderr",
          "text": [
            "100%|██████████| 75/75 [00:00<00:00, 499.27it/s]\n"
          ]
        },
        {
          "output_type": "stream",
          "name": "stdout",
          "text": [
            "Training Loss:  0.17562880467150088\n",
            "Training Accuracy:  94.66666666666667\n",
            "Batch size:  16\n",
            "Test Loss:  0.6894281199435821\n",
            "Testing Accuracy:  81.47\n",
            "Epoch:  93\n"
          ]
        },
        {
          "output_type": "stream",
          "name": "stderr",
          "text": [
            "100%|██████████| 75/75 [00:00<00:00, 480.60it/s]\n"
          ]
        },
        {
          "output_type": "stream",
          "name": "stdout",
          "text": [
            "Training Loss:  0.17386197666496395\n",
            "Training Accuracy:  94.83333333333333\n",
            "Batch size:  16\n",
            "Test Loss:  0.6946178347658059\n",
            "Testing Accuracy:  81.41\n",
            "Epoch:  94\n"
          ]
        },
        {
          "output_type": "stream",
          "name": "stderr",
          "text": [
            "100%|██████████| 75/75 [00:00<00:00, 505.98it/s]\n"
          ]
        },
        {
          "output_type": "stream",
          "name": "stdout",
          "text": [
            "Training Loss:  0.17026973759861566\n",
            "Training Accuracy:  95.08333333333333\n",
            "Batch size:  16\n",
            "Test Loss:  0.6960825994348419\n",
            "Testing Accuracy:  81.42\n",
            "Epoch:  95\n"
          ]
        },
        {
          "output_type": "stream",
          "name": "stderr",
          "text": [
            "100%|██████████| 75/75 [00:00<00:00, 480.16it/s]\n"
          ]
        },
        {
          "output_type": "stream",
          "name": "stdout",
          "text": [
            "Training Loss:  0.16796506972118017\n",
            "Training Accuracy:  95.25\n",
            "Batch size:  16\n",
            "Test Loss:  0.6999143053960855\n",
            "Testing Accuracy:  81.39\n",
            "Epoch:  96\n"
          ]
        },
        {
          "output_type": "stream",
          "name": "stderr",
          "text": [
            "100%|██████████| 75/75 [00:00<00:00, 458.61it/s]\n"
          ]
        },
        {
          "output_type": "stream",
          "name": "stdout",
          "text": [
            "Training Loss:  0.16502837115047092\n",
            "Training Accuracy:  95.33333333333333\n",
            "Batch size:  16\n",
            "Test Loss:  0.7032355694861322\n",
            "Testing Accuracy:  81.43\n",
            "Epoch:  97\n"
          ]
        },
        {
          "output_type": "stream",
          "name": "stderr",
          "text": [
            "100%|██████████| 75/75 [00:00<00:00, 492.74it/s]\n"
          ]
        },
        {
          "output_type": "stream",
          "name": "stdout",
          "text": [
            "Training Loss:  0.16275510618457395\n",
            "Training Accuracy:  95.25\n",
            "Batch size:  16\n",
            "Test Loss:  0.7075979235345047\n",
            "Testing Accuracy:  81.34\n",
            "Epoch:  98\n"
          ]
        },
        {
          "output_type": "stream",
          "name": "stderr",
          "text": [
            "100%|██████████| 75/75 [00:00<00:00, 452.93it/s]\n"
          ]
        },
        {
          "output_type": "stream",
          "name": "stdout",
          "text": [
            "Training Loss:  0.15999535644374682\n",
            "Training Accuracy:  95.41666666666667\n",
            "Batch size:  16\n",
            "Test Loss:  0.711051466116717\n",
            "Testing Accuracy:  81.46\n",
            "Epoch:  99\n"
          ]
        },
        {
          "output_type": "stream",
          "name": "stderr",
          "text": [
            "100%|██████████| 75/75 [00:00<00:00, 470.38it/s]\n"
          ]
        },
        {
          "output_type": "stream",
          "name": "stdout",
          "text": [
            "Training Loss:  0.15769458092122093\n",
            "Training Accuracy:  95.41666666666667\n",
            "Batch size:  16\n",
            "Test Loss:  0.7155499737802191\n",
            "Testing Accuracy:  81.5\n",
            "Epoch:  100\n"
          ]
        },
        {
          "output_type": "stream",
          "name": "stderr",
          "text": [
            "100%|██████████| 75/75 [00:00<00:00, 487.22it/s]\n"
          ]
        },
        {
          "output_type": "stream",
          "name": "stdout",
          "text": [
            "Training Loss:  0.15479050229312571\n",
            "Training Accuracy:  95.5\n",
            "Batch size:  16\n",
            "Test Loss:  0.7189132814723392\n",
            "Testing Accuracy:  81.44\n",
            "Epoch:  101\n"
          ]
        },
        {
          "output_type": "stream",
          "name": "stderr",
          "text": [
            "100%|██████████| 75/75 [00:00<00:00, 515.89it/s]\n"
          ]
        },
        {
          "output_type": "stream",
          "name": "stdout",
          "text": [
            "Training Loss:  0.1531223151437134\n",
            "Training Accuracy:  95.66666666666667\n",
            "Batch size:  16\n",
            "Test Loss:  0.7235713109951123\n",
            "Testing Accuracy:  81.49\n",
            "Epoch:  102\n"
          ]
        },
        {
          "output_type": "stream",
          "name": "stderr",
          "text": [
            "100%|██████████| 75/75 [00:00<00:00, 426.25it/s]\n"
          ]
        },
        {
          "output_type": "stream",
          "name": "stdout",
          "text": [
            "Training Loss:  0.15084909248754566\n",
            "Training Accuracy:  95.66666666666667\n",
            "Batch size:  16\n",
            "Test Loss:  0.7288199713165875\n",
            "Testing Accuracy:  81.47\n",
            "Epoch:  103\n"
          ]
        },
        {
          "output_type": "stream",
          "name": "stderr",
          "text": [
            "100%|██████████| 75/75 [00:00<00:00, 476.79it/s]\n"
          ]
        },
        {
          "output_type": "stream",
          "name": "stdout",
          "text": [
            "Training Loss:  0.14823607812443532\n",
            "Training Accuracy:  95.75\n",
            "Batch size:  16\n",
            "Test Loss:  0.7329173358941065\n",
            "Testing Accuracy:  81.5\n",
            "Epoch:  104\n"
          ]
        },
        {
          "output_type": "stream",
          "name": "stderr",
          "text": [
            "100%|██████████| 75/75 [00:00<00:00, 498.65it/s]\n"
          ]
        },
        {
          "output_type": "stream",
          "name": "stdout",
          "text": [
            "Training Loss:  0.14631443627445773\n",
            "Training Accuracy:  95.75\n",
            "Batch size:  16\n",
            "Test Loss:  0.7362563923114758\n",
            "Testing Accuracy:  81.51\n",
            "Epoch:  105\n"
          ]
        },
        {
          "output_type": "stream",
          "name": "stderr",
          "text": [
            "100%|██████████| 75/75 [00:00<00:00, 506.73it/s]\n"
          ]
        },
        {
          "output_type": "stream",
          "name": "stdout",
          "text": [
            "Training Loss:  0.14427257964125262\n",
            "Training Accuracy:  95.91666666666667\n",
            "Batch size:  16\n",
            "Test Loss:  0.7409640952376818\n",
            "Testing Accuracy:  81.51\n",
            "Epoch:  106\n"
          ]
        },
        {
          "output_type": "stream",
          "name": "stderr",
          "text": [
            "100%|██████████| 75/75 [00:00<00:00, 415.58it/s]\n"
          ]
        },
        {
          "output_type": "stream",
          "name": "stdout",
          "text": [
            "Training Loss:  0.14163352043687175\n",
            "Training Accuracy:  96.08333333333333\n",
            "Batch size:  16\n",
            "Test Loss:  0.7443986716096647\n",
            "Testing Accuracy:  81.46\n",
            "Epoch:  107\n"
          ]
        },
        {
          "output_type": "stream",
          "name": "stderr",
          "text": [
            "100%|██████████| 75/75 [00:00<00:00, 474.80it/s]\n"
          ]
        },
        {
          "output_type": "stream",
          "name": "stdout",
          "text": [
            "Training Loss:  0.13927689259723164\n",
            "Training Accuracy:  96.33333333333333\n",
            "Batch size:  16\n",
            "Test Loss:  0.7479764710974594\n",
            "Testing Accuracy:  81.46\n",
            "Epoch:  108\n"
          ]
        },
        {
          "output_type": "stream",
          "name": "stderr",
          "text": [
            "100%|██████████| 75/75 [00:00<00:00, 497.99it/s]\n"
          ]
        },
        {
          "output_type": "stream",
          "name": "stdout",
          "text": [
            "Training Loss:  0.13761188800787505\n",
            "Training Accuracy:  96.41666666666667\n",
            "Batch size:  16\n",
            "Test Loss:  0.7528863060603845\n",
            "Testing Accuracy:  81.43\n",
            "Epoch:  109\n"
          ]
        },
        {
          "output_type": "stream",
          "name": "stderr",
          "text": [
            "100%|██████████| 75/75 [00:00<00:00, 519.99it/s]\n"
          ]
        },
        {
          "output_type": "stream",
          "name": "stdout",
          "text": [
            "Training Loss:  0.13561941280031067\n",
            "Training Accuracy:  96.41666666666667\n",
            "Batch size:  16\n",
            "Test Loss:  0.7574792836890506\n",
            "Testing Accuracy:  81.4\n",
            "Epoch:  110\n"
          ]
        },
        {
          "output_type": "stream",
          "name": "stderr",
          "text": [
            "100%|██████████| 75/75 [00:00<00:00, 480.69it/s]\n"
          ]
        },
        {
          "output_type": "stream",
          "name": "stdout",
          "text": [
            "Training Loss:  0.13387740575272522\n",
            "Training Accuracy:  96.66666666666667\n",
            "Batch size:  16\n",
            "Test Loss:  0.7613237371803453\n",
            "Testing Accuracy:  81.37\n",
            "Epoch:  111\n"
          ]
        },
        {
          "output_type": "stream",
          "name": "stderr",
          "text": [
            "100%|██████████| 75/75 [00:00<00:00, 502.49it/s]\n"
          ]
        },
        {
          "output_type": "stream",
          "name": "stdout",
          "text": [
            "Training Loss:  0.1318942719668255\n",
            "Training Accuracy:  96.66666666666667\n",
            "Batch size:  16\n",
            "Test Loss:  0.7669195319513086\n",
            "Testing Accuracy:  81.33\n",
            "Epoch:  112\n"
          ]
        },
        {
          "output_type": "stream",
          "name": "stderr",
          "text": [
            "100%|██████████| 75/75 [00:00<00:00, 503.99it/s]\n"
          ]
        },
        {
          "output_type": "stream",
          "name": "stdout",
          "text": [
            "Training Loss:  0.13006171795989552\n",
            "Training Accuracy:  96.66666666666667\n",
            "Batch size:  16\n",
            "Test Loss:  0.771085329401621\n",
            "Testing Accuracy:  81.4\n",
            "Epoch:  113\n"
          ]
        },
        {
          "output_type": "stream",
          "name": "stderr",
          "text": [
            "100%|██████████| 75/75 [00:00<00:00, 421.89it/s]\n"
          ]
        },
        {
          "output_type": "stream",
          "name": "stdout",
          "text": [
            "Training Loss:  0.1286132454847784\n",
            "Training Accuracy:  96.83333333333333\n",
            "Batch size:  16\n",
            "Test Loss:  0.7761255415785978\n",
            "Testing Accuracy:  81.28\n",
            "Epoch:  114\n"
          ]
        },
        {
          "output_type": "stream",
          "name": "stderr",
          "text": [
            "100%|██████████| 75/75 [00:00<00:00, 419.27it/s]\n"
          ]
        },
        {
          "output_type": "stream",
          "name": "stdout",
          "text": [
            "Training Loss:  0.1258065018544623\n",
            "Training Accuracy:  97.0\n",
            "Batch size:  16\n",
            "Test Loss:  0.7789201723069545\n",
            "Testing Accuracy:  81.22\n",
            "Epoch:  115\n"
          ]
        },
        {
          "output_type": "stream",
          "name": "stderr",
          "text": [
            "100%|██████████| 75/75 [00:00<00:00, 484.88it/s]\n"
          ]
        },
        {
          "output_type": "stream",
          "name": "stdout",
          "text": [
            "Training Loss:  0.12430333673715914\n",
            "Training Accuracy:  96.91666666666667\n",
            "Batch size:  16\n",
            "Test Loss:  0.7845337835407892\n",
            "Testing Accuracy:  81.14\n",
            "Epoch:  116\n"
          ]
        },
        {
          "output_type": "stream",
          "name": "stderr",
          "text": [
            "100%|██████████| 75/75 [00:00<00:00, 184.37it/s]\n"
          ]
        },
        {
          "output_type": "stream",
          "name": "stdout",
          "text": [
            "Training Loss:  0.12234164032922588\n",
            "Training Accuracy:  96.91666666666667\n",
            "Batch size:  16\n",
            "Test Loss:  0.7885727521226228\n",
            "Testing Accuracy:  81.2\n",
            "Epoch:  117\n"
          ]
        },
        {
          "output_type": "stream",
          "name": "stderr",
          "text": [
            "100%|██████████| 75/75 [00:00<00:00, 218.01it/s]\n"
          ]
        },
        {
          "output_type": "stream",
          "name": "stdout",
          "text": [
            "Training Loss:  0.12109173718141612\n",
            "Training Accuracy:  96.91666666666667\n",
            "Batch size:  16\n",
            "Test Loss:  0.7940368127725913\n",
            "Testing Accuracy:  81.19\n",
            "Epoch:  118\n"
          ]
        },
        {
          "output_type": "stream",
          "name": "stderr",
          "text": [
            "100%|██████████| 75/75 [00:00<00:00, 205.99it/s]\n"
          ]
        },
        {
          "output_type": "stream",
          "name": "stdout",
          "text": [
            "Training Loss:  0.119382140633958\n",
            "Training Accuracy:  96.91666666666667\n",
            "Batch size:  16\n",
            "Test Loss:  0.7989759402031558\n",
            "Testing Accuracy:  81.11\n",
            "Epoch:  119\n"
          ]
        },
        {
          "output_type": "stream",
          "name": "stderr",
          "text": [
            "100%|██████████| 75/75 [00:00<00:00, 215.02it/s]\n"
          ]
        },
        {
          "output_type": "stream",
          "name": "stdout",
          "text": [
            "Training Loss:  0.11765338555316404\n",
            "Training Accuracy:  97.0\n",
            "Batch size:  16\n",
            "Test Loss:  0.8028459107006651\n",
            "Testing Accuracy:  81.08\n",
            "Epoch:  120\n"
          ]
        },
        {
          "output_type": "stream",
          "name": "stderr",
          "text": [
            "100%|██████████| 75/75 [00:00<00:00, 201.20it/s]\n"
          ]
        },
        {
          "output_type": "stream",
          "name": "stdout",
          "text": [
            "Training Loss:  0.1147877908338063\n",
            "Training Accuracy:  97.08333333333333\n",
            "Batch size:  16\n",
            "Test Loss:  0.8064990038989149\n",
            "Testing Accuracy:  81.09\n",
            "Epoch:  121\n"
          ]
        },
        {
          "output_type": "stream",
          "name": "stderr",
          "text": [
            "100%|██████████| 75/75 [00:00<00:00, 172.17it/s]\n"
          ]
        },
        {
          "output_type": "stream",
          "name": "stdout",
          "text": [
            "Training Loss:  0.11400215756143714\n",
            "Training Accuracy:  97.16666666666667\n",
            "Batch size:  16\n",
            "Test Loss:  0.8117489387586154\n",
            "Testing Accuracy:  81.1\n",
            "Epoch:  122\n"
          ]
        },
        {
          "output_type": "stream",
          "name": "stderr",
          "text": [
            "100%|██████████| 75/75 [00:00<00:00, 378.21it/s]\n"
          ]
        },
        {
          "output_type": "stream",
          "name": "stdout",
          "text": [
            "Training Loss:  0.11283888414022367\n",
            "Training Accuracy:  97.16666666666667\n",
            "Batch size:  16\n",
            "Test Loss:  0.8189553741007476\n",
            "Testing Accuracy:  81.0\n",
            "Epoch:  123\n"
          ]
        },
        {
          "output_type": "stream",
          "name": "stderr",
          "text": [
            "100%|██████████| 75/75 [00:00<00:00, 514.94it/s]\n"
          ]
        },
        {
          "output_type": "stream",
          "name": "stdout",
          "text": [
            "Training Loss:  0.11105541744531024\n",
            "Training Accuracy:  97.33333333333333\n",
            "Batch size:  16\n",
            "Test Loss:  0.8242463103778377\n",
            "Testing Accuracy:  81.04\n",
            "Epoch:  124\n"
          ]
        },
        {
          "output_type": "stream",
          "name": "stderr",
          "text": [
            "100%|██████████| 75/75 [00:00<00:00, 495.24it/s]\n"
          ]
        },
        {
          "output_type": "stream",
          "name": "stdout",
          "text": [
            "Training Loss:  0.10849185991956724\n",
            "Training Accuracy:  97.33333333333333\n",
            "Batch size:  16\n",
            "Test Loss:  0.8259105825439037\n",
            "Testing Accuracy:  81.01\n",
            "Epoch:  125\n"
          ]
        },
        {
          "output_type": "stream",
          "name": "stderr",
          "text": [
            "100%|██████████| 75/75 [00:00<00:00, 484.09it/s]\n"
          ]
        },
        {
          "output_type": "stream",
          "name": "stdout",
          "text": [
            "Training Loss:  0.10761510880483866\n",
            "Training Accuracy:  97.33333333333333\n",
            "Batch size:  16\n",
            "Test Loss:  0.8327693015771205\n",
            "Testing Accuracy:  81.03\n",
            "Epoch:  126\n"
          ]
        },
        {
          "output_type": "stream",
          "name": "stderr",
          "text": [
            "100%|██████████| 75/75 [00:00<00:00, 413.46it/s]\n"
          ]
        },
        {
          "output_type": "stream",
          "name": "stdout",
          "text": [
            "Training Loss:  0.1060861468301716\n",
            "Training Accuracy:  97.33333333333333\n",
            "Batch size:  16\n",
            "Test Loss:  0.8379259115318252\n",
            "Testing Accuracy:  80.94\n",
            "Epoch:  127\n"
          ]
        },
        {
          "output_type": "stream",
          "name": "stderr",
          "text": [
            "100%|██████████| 75/75 [00:00<00:00, 489.25it/s]\n"
          ]
        },
        {
          "output_type": "stream",
          "name": "stdout",
          "text": [
            "Training Loss:  0.1046560606689559\n",
            "Training Accuracy:  97.41666666666667\n",
            "Batch size:  16\n",
            "Test Loss:  0.8431054209182761\n",
            "Testing Accuracy:  80.95\n",
            "Epoch:  128\n"
          ]
        },
        {
          "output_type": "stream",
          "name": "stderr",
          "text": [
            "100%|██████████| 75/75 [00:00<00:00, 491.18it/s]\n"
          ]
        },
        {
          "output_type": "stream",
          "name": "stdout",
          "text": [
            "Training Loss:  0.10360277551105185\n",
            "Training Accuracy:  97.5\n",
            "Batch size:  16\n",
            "Test Loss:  0.8497027983976699\n",
            "Testing Accuracy:  80.92\n",
            "Epoch:  129\n"
          ]
        },
        {
          "output_type": "stream",
          "name": "stderr",
          "text": [
            "100%|██████████| 75/75 [00:00<00:00, 451.53it/s]\n"
          ]
        },
        {
          "output_type": "stream",
          "name": "stdout",
          "text": [
            "Training Loss:  0.10234508006470594\n",
            "Training Accuracy:  97.5\n",
            "Batch size:  16\n",
            "Test Loss:  0.8564084917590126\n",
            "Testing Accuracy:  80.94\n",
            "Epoch:  130\n"
          ]
        },
        {
          "output_type": "stream",
          "name": "stderr",
          "text": [
            "100%|██████████| 75/75 [00:00<00:00, 499.71it/s]\n"
          ]
        },
        {
          "output_type": "stream",
          "name": "stdout",
          "text": [
            "Training Loss:  0.10129477303329203\n",
            "Training Accuracy:  97.5\n",
            "Batch size:  16\n",
            "Test Loss:  0.8629645906490451\n",
            "Testing Accuracy:  80.93\n",
            "Epoch:  131\n"
          ]
        },
        {
          "output_type": "stream",
          "name": "stderr",
          "text": [
            "100%|██████████| 75/75 [00:00<00:00, 495.67it/s]\n"
          ]
        },
        {
          "output_type": "stream",
          "name": "stdout",
          "text": [
            "Training Loss:  0.09913964941101192\n",
            "Training Accuracy:  97.5\n",
            "Batch size:  16\n",
            "Test Loss:  0.866525305892914\n",
            "Testing Accuracy:  80.92\n",
            "Epoch:  132\n"
          ]
        },
        {
          "output_type": "stream",
          "name": "stderr",
          "text": [
            "100%|██████████| 75/75 [00:00<00:00, 482.18it/s]\n"
          ]
        },
        {
          "output_type": "stream",
          "name": "stdout",
          "text": [
            "Training Loss:  0.0980736255564926\n",
            "Training Accuracy:  97.5\n",
            "Batch size:  16\n",
            "Test Loss:  0.871546773157033\n",
            "Testing Accuracy:  80.82\n",
            "Epoch:  133\n"
          ]
        },
        {
          "output_type": "stream",
          "name": "stderr",
          "text": [
            "100%|██████████| 75/75 [00:00<00:00, 451.23it/s]\n"
          ]
        },
        {
          "output_type": "stream",
          "name": "stdout",
          "text": [
            "Training Loss:  0.0963382293838095\n",
            "Training Accuracy:  97.66666666666667\n",
            "Batch size:  16\n",
            "Test Loss:  0.8767347971028888\n",
            "Testing Accuracy:  80.78\n",
            "Epoch:  134\n"
          ]
        },
        {
          "output_type": "stream",
          "name": "stderr",
          "text": [
            "100%|██████████| 75/75 [00:00<00:00, 506.54it/s]\n"
          ]
        },
        {
          "output_type": "stream",
          "name": "stdout",
          "text": [
            "Training Loss:  0.09618222529247838\n",
            "Training Accuracy:  97.58333333333333\n",
            "Batch size:  16\n",
            "Test Loss:  0.8847914170236876\n",
            "Testing Accuracy:  80.82\n",
            "Epoch:  135\n"
          ]
        },
        {
          "output_type": "stream",
          "name": "stderr",
          "text": [
            "100%|██████████| 75/75 [00:00<00:00, 520.11it/s]\n"
          ]
        },
        {
          "output_type": "stream",
          "name": "stdout",
          "text": [
            "Training Loss:  0.09563909530736585\n",
            "Training Accuracy:  97.58333333333333\n",
            "Batch size:  16\n",
            "Test Loss:  0.8918912602708826\n",
            "Testing Accuracy:  80.83\n",
            "Epoch:  136\n"
          ]
        },
        {
          "output_type": "stream",
          "name": "stderr",
          "text": [
            "100%|██████████| 75/75 [00:00<00:00, 506.22it/s]\n"
          ]
        },
        {
          "output_type": "stream",
          "name": "stdout",
          "text": [
            "Training Loss:  0.09375773469596378\n",
            "Training Accuracy:  97.66666666666667\n",
            "Batch size:  16\n",
            "Test Loss:  0.8965056953332101\n",
            "Testing Accuracy:  80.77\n",
            "Epoch:  137\n"
          ]
        },
        {
          "output_type": "stream",
          "name": "stderr",
          "text": [
            "100%|██████████| 75/75 [00:00<00:00, 411.32it/s]\n"
          ]
        },
        {
          "output_type": "stream",
          "name": "stdout",
          "text": [
            "Training Loss:  0.09236012828274415\n",
            "Training Accuracy:  97.75\n",
            "Batch size:  16\n",
            "Test Loss:  0.9022830326691769\n",
            "Testing Accuracy:  80.77\n",
            "Epoch:  138\n"
          ]
        },
        {
          "output_type": "stream",
          "name": "stderr",
          "text": [
            "100%|██████████| 75/75 [00:00<00:00, 520.40it/s]\n"
          ]
        },
        {
          "output_type": "stream",
          "name": "stdout",
          "text": [
            "Training Loss:  0.09184318048701356\n",
            "Training Accuracy:  97.75\n",
            "Batch size:  16\n",
            "Test Loss:  0.9102079570287973\n",
            "Testing Accuracy:  80.76\n",
            "Epoch:  139\n"
          ]
        },
        {
          "output_type": "stream",
          "name": "stderr",
          "text": [
            "100%|██████████| 75/75 [00:00<00:00, 461.50it/s]\n"
          ]
        },
        {
          "output_type": "stream",
          "name": "stdout",
          "text": [
            "Training Loss:  0.08964974372693689\n",
            "Training Accuracy:  97.83333333333333\n",
            "Batch size:  16\n",
            "Test Loss:  0.912750964736131\n",
            "Testing Accuracy:  80.7\n",
            "Epoch:  140\n"
          ]
        },
        {
          "output_type": "stream",
          "name": "stderr",
          "text": [
            "100%|██████████| 75/75 [00:00<00:00, 429.47it/s]\n"
          ]
        },
        {
          "output_type": "stream",
          "name": "stdout",
          "text": [
            "Training Loss:  0.08964746403559995\n",
            "Training Accuracy:  97.83333333333333\n",
            "Batch size:  16\n",
            "Test Loss:  0.9220792654107834\n",
            "Testing Accuracy:  80.76\n",
            "Epoch:  141\n"
          ]
        },
        {
          "output_type": "stream",
          "name": "stderr",
          "text": [
            "100%|██████████| 75/75 [00:00<00:00, 419.59it/s]\n"
          ]
        },
        {
          "output_type": "stream",
          "name": "stdout",
          "text": [
            "Training Loss:  0.08773289912308367\n",
            "Training Accuracy:  98.0\n",
            "Batch size:  16\n",
            "Test Loss:  0.9250840929269348\n",
            "Testing Accuracy:  80.68\n",
            "Epoch:  142\n"
          ]
        },
        {
          "output_type": "stream",
          "name": "stderr",
          "text": [
            "100%|██████████| 75/75 [00:00<00:00, 481.47it/s]\n"
          ]
        },
        {
          "output_type": "stream",
          "name": "stdout",
          "text": [
            "Training Loss:  0.08678085921358586\n",
            "Training Accuracy:  98.08333333333333\n",
            "Batch size:  16\n",
            "Test Loss:  0.9325941116610221\n",
            "Testing Accuracy:  80.64\n",
            "Epoch:  143\n"
          ]
        },
        {
          "output_type": "stream",
          "name": "stderr",
          "text": [
            "100%|██████████| 75/75 [00:00<00:00, 500.74it/s]\n"
          ]
        },
        {
          "output_type": "stream",
          "name": "stdout",
          "text": [
            "Training Loss:  0.08627536031321319\n",
            "Training Accuracy:  98.0\n",
            "Batch size:  16\n",
            "Test Loss:  0.9381761977872091\n",
            "Testing Accuracy:  80.73\n",
            "Epoch:  144\n"
          ]
        },
        {
          "output_type": "stream",
          "name": "stderr",
          "text": [
            "100%|██████████| 75/75 [00:00<00:00, 480.19it/s]\n"
          ]
        },
        {
          "output_type": "stream",
          "name": "stdout",
          "text": [
            "Training Loss:  0.08561171212090542\n",
            "Training Accuracy:  98.16666666666667\n",
            "Batch size:  16\n",
            "Test Loss:  0.9463752914322584\n",
            "Testing Accuracy:  80.67\n",
            "Epoch:  145\n"
          ]
        },
        {
          "output_type": "stream",
          "name": "stderr",
          "text": [
            "100%|██████████| 75/75 [00:00<00:00, 459.10it/s]\n"
          ]
        },
        {
          "output_type": "stream",
          "name": "stdout",
          "text": [
            "Training Loss:  0.08376492220043097\n",
            "Training Accuracy:  98.25\n",
            "Batch size:  16\n",
            "Test Loss:  0.94992693113458\n",
            "Testing Accuracy:  80.65\n",
            "Epoch:  146\n"
          ]
        },
        {
          "output_type": "stream",
          "name": "stderr",
          "text": [
            "100%|██████████| 75/75 [00:00<00:00, 489.31it/s]\n"
          ]
        },
        {
          "output_type": "stream",
          "name": "stdout",
          "text": [
            "Training Loss:  0.08325422037270447\n",
            "Training Accuracy:  98.25\n",
            "Batch size:  16\n",
            "Test Loss:  0.9581072686239562\n",
            "Testing Accuracy:  80.55\n",
            "Epoch:  147\n"
          ]
        },
        {
          "output_type": "stream",
          "name": "stderr",
          "text": [
            "100%|██████████| 75/75 [00:00<00:00, 408.52it/s]\n"
          ]
        },
        {
          "output_type": "stream",
          "name": "stdout",
          "text": [
            "Training Loss:  0.08377914161625313\n",
            "Training Accuracy:  98.25\n",
            "Batch size:  16\n",
            "Test Loss:  0.9659633772805802\n",
            "Testing Accuracy:  80.61\n",
            "Epoch:  148\n"
          ]
        },
        {
          "output_type": "stream",
          "name": "stderr",
          "text": [
            "100%|██████████| 75/75 [00:00<00:00, 402.85it/s]\n"
          ]
        },
        {
          "output_type": "stream",
          "name": "stdout",
          "text": [
            "Training Loss:  0.08306306374831329\n",
            "Training Accuracy:  98.25\n",
            "Batch size:  16\n",
            "Test Loss:  0.9720188519242231\n",
            "Testing Accuracy:  80.65\n",
            "Epoch:  149\n"
          ]
        },
        {
          "output_type": "stream",
          "name": "stderr",
          "text": [
            "100%|██████████| 75/75 [00:00<00:00, 471.33it/s]\n"
          ]
        },
        {
          "output_type": "stream",
          "name": "stdout",
          "text": [
            "Training Loss:  0.08129379042793801\n",
            "Training Accuracy:  98.25\n",
            "Batch size:  16\n",
            "Test Loss:  0.976701260302674\n",
            "Testing Accuracy:  80.55\n",
            "Epoch:  150\n"
          ]
        },
        {
          "output_type": "stream",
          "name": "stderr",
          "text": [
            "100%|██████████| 75/75 [00:00<00:00, 448.40it/s]\n"
          ]
        },
        {
          "output_type": "stream",
          "name": "stdout",
          "text": [
            "Training Loss:  0.08162094671637642\n",
            "Training Accuracy:  98.16666666666667\n",
            "Batch size:  16\n",
            "Test Loss:  0.9862988548995936\n",
            "Testing Accuracy:  80.56\n",
            "Epoch:  151\n"
          ]
        },
        {
          "output_type": "stream",
          "name": "stderr",
          "text": [
            "100%|██████████| 75/75 [00:00<00:00, 467.81it/s]\n"
          ]
        },
        {
          "output_type": "stream",
          "name": "stdout",
          "text": [
            "Training Loss:  0.0807630278390987\n",
            "Training Accuracy:  98.16666666666667\n",
            "Batch size:  16\n",
            "Test Loss:  0.9937276774414743\n",
            "Testing Accuracy:  80.63\n",
            "Epoch:  152\n"
          ]
        },
        {
          "output_type": "stream",
          "name": "stderr",
          "text": [
            "100%|██████████| 75/75 [00:00<00:00, 408.61it/s]\n"
          ]
        },
        {
          "output_type": "stream",
          "name": "stdout",
          "text": [
            "Training Loss:  0.07906915328070735\n",
            "Training Accuracy:  98.25\n",
            "Batch size:  16\n",
            "Test Loss:  0.998655957243545\n",
            "Testing Accuracy:  80.53\n",
            "Epoch:  153\n"
          ]
        },
        {
          "output_type": "stream",
          "name": "stderr",
          "text": [
            "100%|██████████| 75/75 [00:00<00:00, 495.02it/s]\n"
          ]
        },
        {
          "output_type": "stream",
          "name": "stdout",
          "text": [
            "Training Loss:  0.07987785761618835\n",
            "Training Accuracy:  98.25\n",
            "Batch size:  16\n",
            "Test Loss:  1.0097828782703642\n",
            "Testing Accuracy:  80.59\n",
            "Epoch:  154\n"
          ]
        },
        {
          "output_type": "stream",
          "name": "stderr",
          "text": [
            "100%|██████████| 75/75 [00:00<00:00, 407.48it/s]\n"
          ]
        },
        {
          "output_type": "stream",
          "name": "stdout",
          "text": [
            "Training Loss:  0.07902994421496379\n",
            "Training Accuracy:  98.33333333333333\n",
            "Batch size:  16\n",
            "Test Loss:  1.0143972462283037\n",
            "Testing Accuracy:  80.59\n",
            "Epoch:  155\n"
          ]
        },
        {
          "output_type": "stream",
          "name": "stderr",
          "text": [
            "100%|██████████| 75/75 [00:00<00:00, 473.62it/s]\n"
          ]
        },
        {
          "output_type": "stream",
          "name": "stdout",
          "text": [
            "Training Loss:  0.07809235529186682\n",
            "Training Accuracy:  98.25\n",
            "Batch size:  16\n",
            "Test Loss:  1.0203480589218674\n",
            "Testing Accuracy:  80.59\n",
            "Epoch:  156\n"
          ]
        },
        {
          "output_type": "stream",
          "name": "stderr",
          "text": [
            "100%|██████████| 75/75 [00:00<00:00, 492.29it/s]\n"
          ]
        },
        {
          "output_type": "stream",
          "name": "stdout",
          "text": [
            "Training Loss:  0.07693039189359974\n",
            "Training Accuracy:  98.33333333333333\n",
            "Batch size:  16\n",
            "Test Loss:  1.0263148828489619\n",
            "Testing Accuracy:  80.52\n",
            "Epoch:  157\n"
          ]
        },
        {
          "output_type": "stream",
          "name": "stderr",
          "text": [
            "100%|██████████| 75/75 [00:00<00:00, 182.06it/s]\n"
          ]
        },
        {
          "output_type": "stream",
          "name": "stdout",
          "text": [
            "Training Loss:  0.07878118778156673\n",
            "Training Accuracy:  98.25\n",
            "Batch size:  16\n",
            "Test Loss:  1.037575259426957\n",
            "Testing Accuracy:  80.57\n",
            "Epoch:  158\n"
          ]
        },
        {
          "output_type": "stream",
          "name": "stderr",
          "text": [
            "100%|██████████| 75/75 [00:00<00:00, 236.38it/s]\n"
          ]
        },
        {
          "output_type": "stream",
          "name": "stdout",
          "text": [
            "Training Loss:  0.07734055968240544\n",
            "Training Accuracy:  98.25\n",
            "Batch size:  16\n",
            "Test Loss:  1.0408559664698418\n",
            "Testing Accuracy:  80.59\n",
            "Epoch:  159\n"
          ]
        },
        {
          "output_type": "stream",
          "name": "stderr",
          "text": [
            "100%|██████████| 75/75 [00:00<00:00, 201.94it/s]\n"
          ]
        },
        {
          "output_type": "stream",
          "name": "stdout",
          "text": [
            "Training Loss:  0.07590701084175845\n",
            "Training Accuracy:  98.41666666666667\n",
            "Batch size:  16\n",
            "Test Loss:  1.0474354445676042\n",
            "Testing Accuracy:  80.56\n",
            "Epoch:  160\n"
          ]
        },
        {
          "output_type": "stream",
          "name": "stderr",
          "text": [
            "100%|██████████| 75/75 [00:00<00:00, 248.31it/s]\n"
          ]
        },
        {
          "output_type": "stream",
          "name": "stdout",
          "text": [
            "Training Loss:  0.07551690891354755\n",
            "Training Accuracy:  98.33333333333333\n",
            "Batch size:  16\n",
            "Test Loss:  1.0561438836512114\n",
            "Testing Accuracy:  80.53\n",
            "Epoch:  161\n"
          ]
        },
        {
          "output_type": "stream",
          "name": "stderr",
          "text": [
            "100%|██████████| 75/75 [00:00<00:00, 219.52it/s]\n"
          ]
        },
        {
          "output_type": "stream",
          "name": "stdout",
          "text": [
            "Training Loss:  0.0757792736040202\n",
            "Training Accuracy:  98.33333333333333\n",
            "Batch size:  16\n",
            "Test Loss:  1.0640607100829163\n",
            "Testing Accuracy:  80.48\n",
            "Epoch:  162\n"
          ]
        },
        {
          "output_type": "stream",
          "name": "stderr",
          "text": [
            "100%|██████████| 75/75 [00:00<00:00, 212.33it/s]\n"
          ]
        },
        {
          "output_type": "stream",
          "name": "stdout",
          "text": [
            "Training Loss:  0.07460553877638826\n",
            "Training Accuracy:  98.33333333333333\n",
            "Batch size:  16\n",
            "Test Loss:  1.0687433078217528\n",
            "Testing Accuracy:  80.56\n",
            "Epoch:  163\n"
          ]
        },
        {
          "output_type": "stream",
          "name": "stderr",
          "text": [
            "100%|██████████| 75/75 [00:00<00:00, 275.31it/s]\n"
          ]
        },
        {
          "output_type": "stream",
          "name": "stdout",
          "text": [
            "Training Loss:  0.07386376125145408\n",
            "Training Accuracy:  98.41666666666667\n",
            "Batch size:  16\n",
            "Test Loss:  1.0762410290502147\n",
            "Testing Accuracy:  80.51\n",
            "Epoch:  164\n"
          ]
        },
        {
          "output_type": "stream",
          "name": "stderr",
          "text": [
            "100%|██████████| 75/75 [00:00<00:00, 425.05it/s]\n"
          ]
        },
        {
          "output_type": "stream",
          "name": "stdout",
          "text": [
            "Training Loss:  0.07404327865532508\n",
            "Training Accuracy:  98.41666666666667\n",
            "Batch size:  16\n",
            "Test Loss:  1.0836526457760667\n",
            "Testing Accuracy:  80.46\n",
            "Epoch:  165\n"
          ]
        },
        {
          "output_type": "stream",
          "name": "stderr",
          "text": [
            "100%|██████████| 75/75 [00:00<00:00, 460.62it/s]\n"
          ]
        },
        {
          "output_type": "stream",
          "name": "stdout",
          "text": [
            "Training Loss:  0.07281446901064474\n",
            "Training Accuracy:  98.41666666666667\n",
            "Batch size:  16\n",
            "Test Loss:  1.0889099475606567\n",
            "Testing Accuracy:  80.51\n",
            "Epoch:  166\n"
          ]
        },
        {
          "output_type": "stream",
          "name": "stderr",
          "text": [
            "100%|██████████| 75/75 [00:00<00:00, 454.00it/s]\n"
          ]
        },
        {
          "output_type": "stream",
          "name": "stdout",
          "text": [
            "Training Loss:  0.07341143924693999\n",
            "Training Accuracy:  98.5\n",
            "Batch size:  16\n",
            "Test Loss:  1.097546769763319\n",
            "Testing Accuracy:  80.44\n",
            "Epoch:  167\n"
          ]
        },
        {
          "output_type": "stream",
          "name": "stderr",
          "text": [
            "100%|██████████| 75/75 [00:00<00:00, 479.97it/s]\n"
          ]
        },
        {
          "output_type": "stream",
          "name": "stdout",
          "text": [
            "Training Loss:  0.07257790542852575\n",
            "Training Accuracy:  98.41666666666667\n",
            "Batch size:  16\n",
            "Test Loss:  1.1052866924875164\n",
            "Testing Accuracy:  80.46\n",
            "Epoch:  168\n"
          ]
        },
        {
          "output_type": "stream",
          "name": "stderr",
          "text": [
            "100%|██████████| 75/75 [00:00<00:00, 409.12it/s]\n"
          ]
        },
        {
          "output_type": "stream",
          "name": "stdout",
          "text": [
            "Training Loss:  0.07124964688741874\n",
            "Training Accuracy:  98.41666666666667\n",
            "Batch size:  16\n",
            "Test Loss:  1.1099654335208815\n",
            "Testing Accuracy:  80.44\n",
            "Epoch:  169\n"
          ]
        },
        {
          "output_type": "stream",
          "name": "stderr",
          "text": [
            "100%|██████████| 75/75 [00:00<00:00, 504.19it/s]\n"
          ]
        },
        {
          "output_type": "stream",
          "name": "stdout",
          "text": [
            "Training Loss:  0.07164650016745998\n",
            "Training Accuracy:  98.5\n",
            "Batch size:  16\n",
            "Test Loss:  1.1187648345601195\n",
            "Testing Accuracy:  80.44\n",
            "Epoch:  170\n"
          ]
        },
        {
          "output_type": "stream",
          "name": "stderr",
          "text": [
            "100%|██████████| 75/75 [00:00<00:00, 501.42it/s]\n"
          ]
        },
        {
          "output_type": "stream",
          "name": "stdout",
          "text": [
            "Training Loss:  0.07166334738580252\n",
            "Training Accuracy:  98.41666666666667\n",
            "Batch size:  16\n",
            "Test Loss:  1.1282364540986425\n",
            "Testing Accuracy:  80.31\n",
            "Epoch:  171\n"
          ]
        },
        {
          "output_type": "stream",
          "name": "stderr",
          "text": [
            "100%|██████████| 75/75 [00:00<00:00, 463.34it/s]\n"
          ]
        },
        {
          "output_type": "stream",
          "name": "stdout",
          "text": [
            "Training Loss:  0.07126892004060024\n",
            "Training Accuracy:  98.41666666666667\n",
            "Batch size:  16\n",
            "Test Loss:  1.132317701684809\n",
            "Testing Accuracy:  80.31\n",
            "Epoch:  172\n"
          ]
        },
        {
          "output_type": "stream",
          "name": "stderr",
          "text": [
            "100%|██████████| 75/75 [00:00<00:00, 435.26it/s]\n"
          ]
        },
        {
          "output_type": "stream",
          "name": "stdout",
          "text": [
            "Training Loss:  0.0703829278010336\n",
            "Training Accuracy:  98.41666666666667\n",
            "Batch size:  16\n",
            "Test Loss:  1.1411015809851761\n",
            "Testing Accuracy:  80.36\n",
            "Epoch:  173\n"
          ]
        },
        {
          "output_type": "stream",
          "name": "stderr",
          "text": [
            "100%|██████████| 75/75 [00:00<00:00, 454.50it/s]\n"
          ]
        },
        {
          "output_type": "stream",
          "name": "stdout",
          "text": [
            "Training Loss:  0.07021895650456215\n",
            "Training Accuracy:  98.41666666666667\n",
            "Batch size:  16\n",
            "Test Loss:  1.1466351098728882\n",
            "Testing Accuracy:  80.3\n",
            "Epoch:  174\n"
          ]
        },
        {
          "output_type": "stream",
          "name": "stderr",
          "text": [
            "100%|██████████| 75/75 [00:00<00:00, 477.99it/s]\n"
          ]
        },
        {
          "output_type": "stream",
          "name": "stdout",
          "text": [
            "Training Loss:  0.07034455391433515\n",
            "Training Accuracy:  98.33333333333333\n",
            "Batch size:  16\n",
            "Test Loss:  1.1560071231488764\n",
            "Testing Accuracy:  80.24\n",
            "Epoch:  175\n"
          ]
        },
        {
          "output_type": "stream",
          "name": "stderr",
          "text": [
            "100%|██████████| 75/75 [00:00<00:00, 431.41it/s]\n"
          ]
        },
        {
          "output_type": "stream",
          "name": "stdout",
          "text": [
            "Training Loss:  0.07034078952875392\n",
            "Training Accuracy:  98.33333333333333\n",
            "Batch size:  16\n",
            "Test Loss:  1.1649564220675712\n",
            "Testing Accuracy:  80.23\n",
            "Epoch:  176\n"
          ]
        },
        {
          "output_type": "stream",
          "name": "stderr",
          "text": [
            "100%|██████████| 75/75 [00:00<00:00, 441.91it/s]\n"
          ]
        },
        {
          "output_type": "stream",
          "name": "stdout",
          "text": [
            "Training Loss:  0.07039752063409035\n",
            "Training Accuracy:  98.33333333333333\n",
            "Batch size:  16\n",
            "Test Loss:  1.1730623807589091\n",
            "Testing Accuracy:  80.18\n",
            "Epoch:  177\n"
          ]
        },
        {
          "output_type": "stream",
          "name": "stderr",
          "text": [
            "100%|██████████| 75/75 [00:00<00:00, 498.08it/s]\n"
          ]
        },
        {
          "output_type": "stream",
          "name": "stdout",
          "text": [
            "Training Loss:  0.0695591516141701\n",
            "Training Accuracy:  98.33333333333333\n",
            "Batch size:  16\n",
            "Test Loss:  1.178963173279788\n",
            "Testing Accuracy:  80.26\n",
            "Epoch:  178\n"
          ]
        },
        {
          "output_type": "stream",
          "name": "stderr",
          "text": [
            "100%|██████████| 75/75 [00:00<00:00, 479.14it/s]\n"
          ]
        },
        {
          "output_type": "stream",
          "name": "stdout",
          "text": [
            "Training Loss:  0.06951688915890138\n",
            "Training Accuracy:  98.25\n",
            "Batch size:  16\n",
            "Test Loss:  1.1875752075833736\n",
            "Testing Accuracy:  80.13\n",
            "Epoch:  179\n"
          ]
        },
        {
          "output_type": "stream",
          "name": "stderr",
          "text": [
            "100%|██████████| 75/75 [00:00<00:00, 454.16it/s]\n"
          ]
        },
        {
          "output_type": "stream",
          "name": "stdout",
          "text": [
            "Training Loss:  0.06746944699215653\n",
            "Training Accuracy:  98.5\n",
            "Batch size:  16\n",
            "Test Loss:  1.1915071232857302\n",
            "Testing Accuracy:  80.24\n",
            "Epoch:  180\n"
          ]
        },
        {
          "output_type": "stream",
          "name": "stderr",
          "text": [
            "100%|██████████| 75/75 [00:00<00:00, 457.17it/s]\n"
          ]
        },
        {
          "output_type": "stream",
          "name": "stdout",
          "text": [
            "Training Loss:  0.0674985334954065\n",
            "Training Accuracy:  98.41666666666667\n",
            "Batch size:  16\n",
            "Test Loss:  1.2014262535273743\n",
            "Testing Accuracy:  80.25\n",
            "Epoch:  181\n"
          ]
        },
        {
          "output_type": "stream",
          "name": "stderr",
          "text": [
            "100%|██████████| 75/75 [00:00<00:00, 490.84it/s]\n"
          ]
        },
        {
          "output_type": "stream",
          "name": "stdout",
          "text": [
            "Training Loss:  0.06641136335922816\n",
            "Training Accuracy:  98.5\n",
            "Batch size:  16\n",
            "Test Loss:  1.2067273776408751\n",
            "Testing Accuracy:  80.28\n",
            "Epoch:  182\n"
          ]
        },
        {
          "output_type": "stream",
          "name": "stderr",
          "text": [
            "100%|██████████| 75/75 [00:00<00:00, 476.56it/s]\n"
          ]
        },
        {
          "output_type": "stream",
          "name": "stdout",
          "text": [
            "Training Loss:  0.06519767676078603\n",
            "Training Accuracy:  98.58333333333333\n",
            "Batch size:  16\n",
            "Test Loss:  1.2123447397741827\n",
            "Testing Accuracy:  80.24\n",
            "Epoch:  183\n"
          ]
        },
        {
          "output_type": "stream",
          "name": "stderr",
          "text": [
            "100%|██████████| 75/75 [00:00<00:00, 430.73it/s]\n"
          ]
        },
        {
          "output_type": "stream",
          "name": "stdout",
          "text": [
            "Training Loss:  0.06531071743961213\n",
            "Training Accuracy:  98.58333333333333\n",
            "Batch size:  16\n",
            "Test Loss:  1.2230218438386764\n",
            "Testing Accuracy:  80.26\n",
            "Epoch:  184\n"
          ]
        },
        {
          "output_type": "stream",
          "name": "stderr",
          "text": [
            "100%|██████████| 75/75 [00:00<00:00, 479.41it/s]\n"
          ]
        },
        {
          "output_type": "stream",
          "name": "stdout",
          "text": [
            "Training Loss:  0.06591886106893237\n",
            "Training Accuracy:  98.58333333333333\n",
            "Batch size:  16\n",
            "Test Loss:  1.233900155280352\n",
            "Testing Accuracy:  80.26\n",
            "Epoch:  185\n"
          ]
        },
        {
          "output_type": "stream",
          "name": "stderr",
          "text": [
            "100%|██████████| 75/75 [00:00<00:00, 504.95it/s]\n"
          ]
        },
        {
          "output_type": "stream",
          "name": "stdout",
          "text": [
            "Training Loss:  0.0651558387846619\n",
            "Training Accuracy:  98.5\n",
            "Batch size:  16\n",
            "Test Loss:  1.2388872789478398\n",
            "Testing Accuracy:  80.25\n",
            "Epoch:  186\n"
          ]
        },
        {
          "output_type": "stream",
          "name": "stderr",
          "text": [
            "100%|██████████| 75/75 [00:00<00:00, 359.64it/s]\n"
          ]
        },
        {
          "output_type": "stream",
          "name": "stdout",
          "text": [
            "Training Loss:  0.06553494125391997\n",
            "Training Accuracy:  98.58333333333333\n",
            "Batch size:  16\n",
            "Test Loss:  1.250394198617752\n",
            "Testing Accuracy:  80.15\n",
            "Epoch:  187\n"
          ]
        },
        {
          "output_type": "stream",
          "name": "stderr",
          "text": [
            "100%|██████████| 75/75 [00:00<00:00, 457.55it/s]\n"
          ]
        },
        {
          "output_type": "stream",
          "name": "stdout",
          "text": [
            "Training Loss:  0.06427716317390691\n",
            "Training Accuracy:  98.5\n",
            "Batch size:  16\n",
            "Test Loss:  1.254724848336213\n",
            "Testing Accuracy:  80.2\n",
            "Epoch:  188\n"
          ]
        },
        {
          "output_type": "stream",
          "name": "stderr",
          "text": [
            "100%|██████████| 75/75 [00:00<00:00, 486.76it/s]\n"
          ]
        },
        {
          "output_type": "stream",
          "name": "stdout",
          "text": [
            "Training Loss:  0.06323772287431172\n",
            "Training Accuracy:  98.5\n",
            "Batch size:  16\n",
            "Test Loss:  1.2615859737800308\n",
            "Testing Accuracy:  80.24\n",
            "Epoch:  189\n"
          ]
        },
        {
          "output_type": "stream",
          "name": "stderr",
          "text": [
            "100%|██████████| 75/75 [00:00<00:00, 487.01it/s]\n"
          ]
        },
        {
          "output_type": "stream",
          "name": "stdout",
          "text": [
            "Training Loss:  0.06250578253201726\n",
            "Training Accuracy:  98.58333333333333\n",
            "Batch size:  16\n",
            "Test Loss:  1.2701911664692853\n",
            "Testing Accuracy:  80.14\n",
            "Epoch:  190\n"
          ]
        },
        {
          "output_type": "stream",
          "name": "stderr",
          "text": [
            "100%|██████████| 75/75 [00:00<00:00, 403.09it/s]\n"
          ]
        },
        {
          "output_type": "stream",
          "name": "stdout",
          "text": [
            "Training Loss:  0.06359946279003474\n",
            "Training Accuracy:  98.5\n",
            "Batch size:  16\n",
            "Test Loss:  1.2821854981278862\n",
            "Testing Accuracy:  80.15\n",
            "Epoch:  191\n"
          ]
        },
        {
          "output_type": "stream",
          "name": "stderr",
          "text": [
            "100%|██████████| 75/75 [00:00<00:00, 468.61it/s]\n"
          ]
        },
        {
          "output_type": "stream",
          "name": "stdout",
          "text": [
            "Training Loss:  0.06375952150947144\n",
            "Training Accuracy:  98.5\n",
            "Batch size:  16\n",
            "Test Loss:  1.2916454559536026\n",
            "Testing Accuracy:  80.16\n",
            "Epoch:  192\n"
          ]
        },
        {
          "output_type": "stream",
          "name": "stderr",
          "text": [
            "100%|██████████| 75/75 [00:00<00:00, 485.58it/s]\n"
          ]
        },
        {
          "output_type": "stream",
          "name": "stdout",
          "text": [
            "Training Loss:  0.06210420810412798\n",
            "Training Accuracy:  98.58333333333333\n",
            "Batch size:  16\n",
            "Test Loss:  1.2983596781145845\n",
            "Testing Accuracy:  80.14\n",
            "Epoch:  193\n"
          ]
        },
        {
          "output_type": "stream",
          "name": "stderr",
          "text": [
            "100%|██████████| 75/75 [00:00<00:00, 455.74it/s]\n"
          ]
        },
        {
          "output_type": "stream",
          "name": "stdout",
          "text": [
            "Training Loss:  0.06196657387385521\n",
            "Training Accuracy:  98.5\n",
            "Batch size:  16\n",
            "Test Loss:  1.3063265127095158\n",
            "Testing Accuracy:  80.14\n",
            "Epoch:  194\n"
          ]
        },
        {
          "output_type": "stream",
          "name": "stderr",
          "text": [
            "100%|██████████| 75/75 [00:00<00:00, 497.05it/s]\n"
          ]
        },
        {
          "output_type": "stream",
          "name": "stdout",
          "text": [
            "Training Loss:  0.06140466009526288\n",
            "Training Accuracy:  98.5\n",
            "Batch size:  16\n",
            "Test Loss:  1.3130336344385802\n",
            "Testing Accuracy:  80.11\n",
            "Epoch:  195\n"
          ]
        },
        {
          "output_type": "stream",
          "name": "stderr",
          "text": [
            "100%|██████████| 75/75 [00:00<00:00, 492.05it/s]\n"
          ]
        },
        {
          "output_type": "stream",
          "name": "stdout",
          "text": [
            "Training Loss:  0.061506022888099615\n",
            "Training Accuracy:  98.5\n",
            "Batch size:  16\n",
            "Test Loss:  1.323656723217555\n",
            "Testing Accuracy:  80.03\n",
            "Epoch:  196\n"
          ]
        },
        {
          "output_type": "stream",
          "name": "stderr",
          "text": [
            "100%|██████████| 75/75 [00:00<00:00, 484.90it/s]\n"
          ]
        },
        {
          "output_type": "stream",
          "name": "stdout",
          "text": [
            "Training Loss:  0.06205764318409192\n",
            "Training Accuracy:  98.58333333333333\n",
            "Batch size:  16\n",
            "Test Loss:  1.3329348944122368\n",
            "Testing Accuracy:  80.02\n",
            "Epoch:  197\n"
          ]
        },
        {
          "output_type": "stream",
          "name": "stderr",
          "text": [
            "100%|██████████| 75/75 [00:00<00:00, 392.29it/s]\n"
          ]
        },
        {
          "output_type": "stream",
          "name": "stdout",
          "text": [
            "Training Loss:  0.05991099447662961\n",
            "Training Accuracy:  98.58333333333333\n",
            "Batch size:  16\n",
            "Test Loss:  1.3356210006137492\n",
            "Testing Accuracy:  80.04\n",
            "Epoch:  198\n"
          ]
        },
        {
          "output_type": "stream",
          "name": "stderr",
          "text": [
            "100%|██████████| 75/75 [00:00<00:00, 369.04it/s]\n"
          ]
        },
        {
          "output_type": "stream",
          "name": "stdout",
          "text": [
            "Training Loss:  0.06042507818206617\n",
            "Training Accuracy:  98.5\n",
            "Batch size:  16\n",
            "Test Loss:  1.3432151243142492\n",
            "Testing Accuracy:  79.94\n",
            "Epoch:  199\n"
          ]
        },
        {
          "output_type": "stream",
          "name": "stderr",
          "text": [
            "100%|██████████| 75/75 [00:00<00:00, 171.82it/s]\n"
          ]
        },
        {
          "output_type": "stream",
          "name": "stdout",
          "text": [
            "Training Loss:  0.06039987852420012\n",
            "Training Accuracy:  98.5\n",
            "Batch size:  16\n",
            "Test Loss:  1.3522721373853244\n",
            "Testing Accuracy:  79.98\n",
            "Epoch:  200\n"
          ]
        },
        {
          "output_type": "stream",
          "name": "stderr",
          "text": [
            "100%|██████████| 75/75 [00:00<00:00, 216.27it/s]\n"
          ]
        },
        {
          "output_type": "stream",
          "name": "stdout",
          "text": [
            "Training Loss:  0.05841201863663912\n",
            "Training Accuracy:  98.58333333333333\n",
            "Batch size:  16\n",
            "Test Loss:  1.3589016170226151\n",
            "Testing Accuracy:  79.98\n"
          ]
        },
        {
          "output_type": "display_data",
          "data": {
            "text/plain": [
              "<Figure size 640x480 with 1 Axes>"
            ],
            "image/png": "[encoded data removed]"
          },
          "metadata": {}
        },
        {
          "output_type": "display_data",
          "data": {
            "text/plain": [
              "<Figure size 640x480 with 1 Axes>"
            ],
            "image/png": "[encoded data removed]"
          },
          "metadata": {}
        }
      ]
    },
    {
      "cell_type": "code",
      "source": [
        "act_func = act_func + ['softmax']"
      ],
      "metadata": {
        "id": "6Ra1TCCuqdq_"
      },
      "execution_count": null,
      "outputs": []
    },
    {
      "cell_type": "code",
      "source": [
        "i, o = forward_propagation(X_test, Ws, bs, act_func)"
      ],
      "metadata": {
        "id": "NYoocuobqArO"
      },
      "execution_count": null,
      "outputs": []
    },
    {
      "cell_type": "code",
      "source": [
        "y = o[-1]"
      ],
      "metadata": {
        "id": "XxfcQIM8q_Of"
      },
      "execution_count": null,
      "outputs": []
    },
    {
      "cell_type": "code",
      "source": [
        "y[:,0].argmax()"
      ],
      "metadata": {
        "colab": {
          "base_uri": "https://localhost:8080/"
        },
        "id": "mAEZOEKBqrWG",
        "outputId": "8b24ba8c-75b2-42a3-a2ca-520fb61478f3"
      },
      "execution_count": null,
      "outputs": [
        {
          "output_type": "execute_result",
          "data": {
            "text/plain": [
              "9"
            ]
          },
          "metadata": {},
          "execution_count": 36
        }
      ]
    },
    {
      "cell_type": "code",
      "source": [
        "Y_test[:,0].argmax()"
      ],
      "metadata": {
        "colab": {
          "base_uri": "https://localhost:8080/"
        },
        "id": "_4SFggvNrExP",
        "outputId": "f0255881-ca8f-4a5d-becf-5f9129463379"
      },
      "execution_count": null,
      "outputs": [
        {
          "output_type": "execute_result",
          "data": {
            "text/plain": [
              "9"
            ]
          },
          "metadata": {},
          "execution_count": 37
        }
      ]
    },
    {
      "cell_type": "code",
      "source": [
        "from itertools import count\n",
        "print(Y_test.shape[1])\n",
        "print(y.shape[1])\n",
        "count = 0\n",
        "for i in range(Y_test.shape[1]):\n",
        "  if Y_test[:,i].argmax() == y[:,i].argmax():\n",
        "    count += 1\n",
        "print((count/Y_test.shape[1])*100)"
      ],
      "metadata": {
        "colab": {
          "base_uri": "https://localhost:8080/"
        },
        "id": "TFyHA1qMsQOm",
        "outputId": "957e78a4-0408-46b8-fd87-56af6f6272d5"
      },
      "execution_count": null,
      "outputs": [
        {
          "output_type": "stream",
          "name": "stdout",
          "text": [
            "10000\n",
            "10000\n",
            "85.59\n"
          ]
        }
      ]
    }
  ]
}